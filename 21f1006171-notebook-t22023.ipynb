{
 "cells": [
  {
   "cell_type": "markdown",
   "id": "160b08ce",
   "metadata": {
    "papermill": {
     "duration": 0.101438,
     "end_time": "2023-08-13T08:27:41.135630",
     "exception": false,
     "start_time": "2023-08-13T08:27:41.034192",
     "status": "completed"
    },
    "tags": []
   },
   "source": [
    "# MLP Project (T2 2023) by Ganesh P  "
   ]
  },
  {
   "cell_type": "markdown",
   "id": "3ff397cd",
   "metadata": {
    "papermill": {
     "duration": 0.098152,
     "end_time": "2023-08-13T08:27:41.333030",
     "exception": false,
     "start_time": "2023-08-13T08:27:41.234878",
     "status": "completed"
    },
    "tags": []
   },
   "source": [
    "`Disclaimer`   \n",
    "\n",
    "> This final notebook contains only the most relevant code to show the path/flow of my project work over few weeks. Rest of the code is in [my github repo](https://github.com/ganeshbmc/MLP_project) which is private at present (I will make it public after the project is over).  "
   ]
  },
  {
   "cell_type": "markdown",
   "id": "bf235fc7",
   "metadata": {
    "papermill": {
     "duration": 0.096044,
     "end_time": "2023-08-13T08:27:41.526018",
     "exception": false,
     "start_time": "2023-08-13T08:27:41.429974",
     "status": "completed"
    },
    "tags": []
   },
   "source": [
    "`Strengths`  \n",
    "\n",
    "> * Modular code (DRY principle)  \n",
    "> * End to end pipeline in one function (with helper functions)   "
   ]
  },
  {
   "cell_type": "markdown",
   "id": "5add24f3",
   "metadata": {
    "papermill": {
     "duration": 0.10025,
     "end_time": "2023-08-13T08:27:41.722714",
     "exception": false,
     "start_time": "2023-08-13T08:27:41.622464",
     "status": "completed"
    },
    "tags": []
   },
   "source": [
    "`Overview`  \n",
    "\n",
    "`PART I`  \n",
    "\n",
    "1.\t> Screen the datasets and import them.  \n",
    "2.\t> Perform EDA (first round).\n",
    "3.\t> Data cleaning.\n",
    "4.\t> Basic models including dummy model.\n",
    "5.\t> Because this is a text sentiment analysis project, focus on 'reviewText' column, work on cleaning text data and vectorising/tokenising it, build several models till the best possible score is reached.  \n",
    "\n",
    "`PART II`  \n",
    "\n",
    "6.\t> Merge train and movies dataset.\n",
    "7.\t> Perform EDA (second round) on merged dataset.\n",
    "8.\t> Data cleaning.\n",
    "9.\t> Build models on merged dataset.\n",
    "10.\t> Understand the results and do another round of EDA if needed.\n",
    "11.\t> Build final model.  \n",
    "\n",
    "`PART III (After project window closes)`  \n",
    "\n",
    "12. > Use NLTK library for further processing text data.  \n",
    "13. > Try to address comments from different languages, special characters etc.  \n",
    "14. > Try imblearn library to address class imbalance.  \n",
    "15. > Try to use currently available LLMs and see how my model performs agains them.  "
   ]
  },
  {
   "cell_type": "markdown",
   "id": "b753fc0e",
   "metadata": {
    "papermill": {
     "duration": 0.097467,
     "end_time": "2023-08-13T08:27:41.918345",
     "exception": false,
     "start_time": "2023-08-13T08:27:41.820878",
     "status": "completed"
    },
    "tags": []
   },
   "source": [
    "`Default code on Kaggle notebook`  "
   ]
  },
  {
   "cell_type": "code",
   "execution_count": 1,
   "id": "adfa95a2",
   "metadata": {
    "_cell_guid": "b1076dfc-b9ad-4769-8c92-a6c4dae69d19",
    "_uuid": "8f2839f25d086af736a60e9eeb907d3b93b6e0e5",
    "execution": {
     "iopub.execute_input": "2023-08-13T08:27:42.117903Z",
     "iopub.status.busy": "2023-08-13T08:27:42.117221Z",
     "iopub.status.idle": "2023-08-13T08:27:42.133195Z",
     "shell.execute_reply": "2023-08-13T08:27:42.131726Z"
    },
    "papermill": {
     "duration": 0.118403,
     "end_time": "2023-08-13T08:27:42.135906",
     "exception": false,
     "start_time": "2023-08-13T08:27:42.017503",
     "status": "completed"
    },
    "tags": []
   },
   "outputs": [
    {
     "name": "stdout",
     "output_type": "stream",
     "text": [
      "/kaggle/input/sentiment-prediction-on-movie-reviews/movies.csv\n",
      "/kaggle/input/sentiment-prediction-on-movie-reviews/sample.csv\n",
      "/kaggle/input/sentiment-prediction-on-movie-reviews/train.csv\n",
      "/kaggle/input/sentiment-prediction-on-movie-reviews/test.csv\n"
     ]
    }
   ],
   "source": [
    "# This Python 3 environment comes with many helpful analytics libraries installed\n",
    "# It is defined by the kaggle/python Docker image: https://github.com/kaggle/docker-python\n",
    "# For example, here's several helpful packages to load\n",
    "\n",
    "import numpy as np # linear algebra\n",
    "import pandas as pd # data processing, CSV file I/O (e.g. pd.read_csv)\n",
    "\n",
    "# Input data files are available in the read-only \"../input/\" directory\n",
    "# For example, running this (by clicking run or pressing Shift+Enter) will list all files under the input directory\n",
    "\n",
    "import os\n",
    "for dirname, _, filenames in os.walk('/kaggle/input'):\n",
    "    for filename in filenames:\n",
    "        print(os.path.join(dirname, filename))\n",
    "\n",
    "# You can write up to 20GB to the current directory (/kaggle/working/) that gets preserved as output when you create a version using \"Save & Run All\" \n",
    "# You can also write temporary files to /kaggle/temp/, but they won't be saved outside of the current session"
   ]
  },
  {
   "cell_type": "markdown",
   "id": "837f62db",
   "metadata": {
    "papermill": {
     "duration": 0.097712,
     "end_time": "2023-08-13T08:27:42.331595",
     "exception": false,
     "start_time": "2023-08-13T08:27:42.233883",
     "status": "completed"
    },
    "tags": []
   },
   "source": [
    "### Specify platform  "
   ]
  },
  {
   "cell_type": "code",
   "execution_count": 2,
   "id": "31010052",
   "metadata": {
    "execution": {
     "iopub.execute_input": "2023-08-13T08:27:42.528603Z",
     "iopub.status.busy": "2023-08-13T08:27:42.528092Z",
     "iopub.status.idle": "2023-08-13T08:27:42.532691Z",
     "shell.execute_reply": "2023-08-13T08:27:42.531632Z"
    },
    "papermill": {
     "duration": 0.106005,
     "end_time": "2023-08-13T08:27:42.535205",
     "exception": false,
     "start_time": "2023-08-13T08:27:42.429200",
     "status": "completed"
    },
    "tags": []
   },
   "outputs": [],
   "source": [
    "platform = 'kaggle'  "
   ]
  },
  {
   "cell_type": "markdown",
   "id": "1199c820",
   "metadata": {
    "papermill": {
     "duration": 0.098453,
     "end_time": "2023-08-13T08:27:42.733627",
     "exception": false,
     "start_time": "2023-08-13T08:27:42.635174",
     "status": "completed"
    },
    "tags": []
   },
   "source": [
    "### Import libraries  "
   ]
  },
  {
   "cell_type": "code",
   "execution_count": 3,
   "id": "2d8d920e",
   "metadata": {
    "execution": {
     "iopub.execute_input": "2023-08-13T08:27:42.931389Z",
     "iopub.status.busy": "2023-08-13T08:27:42.930943Z",
     "iopub.status.idle": "2023-08-13T08:27:45.278806Z",
     "shell.execute_reply": "2023-08-13T08:27:45.277327Z"
    },
    "papermill": {
     "duration": 2.450797,
     "end_time": "2023-08-13T08:27:45.281434",
     "exception": false,
     "start_time": "2023-08-13T08:27:42.830637",
     "status": "completed"
    },
    "tags": []
   },
   "outputs": [
    {
     "name": "stdout",
     "output_type": "stream",
     "text": [
      "Imports done.\n"
     ]
    }
   ],
   "source": [
    "import pandas as pd\n",
    "import numpy as np\n",
    "import matplotlib.pyplot as plt\n",
    "import seaborn as sns\n",
    "import re\n",
    "from itertools import compress\n",
    "\n",
    "from sklearn.dummy import DummyClassifier\n",
    "from sklearn.pipeline import Pipeline, FeatureUnion\n",
    "from sklearn.compose import ColumnTransformer\n",
    "from sklearn.metrics import classification_report, confusion_matrix,f1_score\n",
    "from sklearn.feature_extraction.text import TfidfVectorizer, CountVectorizer\n",
    "from sklearn.preprocessing import FunctionTransformer\n",
    "from sklearn.preprocessing import StandardScaler, MinMaxScaler, RobustScaler, OneHotEncoder, LabelEncoder, PolynomialFeatures\n",
    "from sklearn.impute import SimpleImputer, KNNImputer\n",
    "from sklearn.linear_model import LogisticRegression, SGDClassifier\n",
    "from sklearn.tree import DecisionTreeClassifier\n",
    "from sklearn.ensemble import RandomForestClassifier, AdaBoostClassifier\n",
    "from sklearn.svm import LinearSVC\n",
    "from sklearn.naive_bayes import GaussianNB, BernoulliNB, CategoricalNB, ComplementNB, MultinomialNB\n",
    "from sklearn.model_selection import train_test_split, GridSearchCV, cross_val_score\n",
    "from sklearn.decomposition import PCA, TruncatedSVD\n",
    "from sklearn.feature_selection import RFECV\n",
    "from sklearn.feature_selection import RFE\n",
    "from sklearn.neural_network import MLPClassifier\n",
    "\n",
    "# import lightgbm as ltb\n",
    "\n",
    "import scipy.stats as stats\n",
    "print(\"Imports done.\")"
   ]
  },
  {
   "cell_type": "markdown",
   "id": "ac9f61cd",
   "metadata": {
    "papermill": {
     "duration": 0.097085,
     "end_time": "2023-08-13T08:27:45.476669",
     "exception": false,
     "start_time": "2023-08-13T08:27:45.379584",
     "status": "completed"
    },
    "tags": []
   },
   "source": [
    "# PART I  "
   ]
  },
  {
   "cell_type": "markdown",
   "id": "0df6c2d8",
   "metadata": {
    "papermill": {
     "duration": 0.159332,
     "end_time": "2023-08-13T08:27:45.732938",
     "exception": false,
     "start_time": "2023-08-13T08:27:45.573606",
     "status": "completed"
    },
    "tags": []
   },
   "source": [
    "## Load datasets  "
   ]
  },
  {
   "cell_type": "code",
   "execution_count": 4,
   "id": "eae3fc1d",
   "metadata": {
    "execution": {
     "iopub.execute_input": "2023-08-13T08:27:45.934133Z",
     "iopub.status.busy": "2023-08-13T08:27:45.932871Z",
     "iopub.status.idle": "2023-08-13T08:27:46.902971Z",
     "shell.execute_reply": "2023-08-13T08:27:46.901897Z"
    },
    "papermill": {
     "duration": 1.073655,
     "end_time": "2023-08-13T08:27:46.905783",
     "exception": false,
     "start_time": "2023-08-13T08:27:45.832128",
     "status": "completed"
    },
    "tags": []
   },
   "outputs": [
    {
     "data": {
      "text/plain": [
       "(162758, 5)"
      ]
     },
     "execution_count": 4,
     "metadata": {},
     "output_type": "execute_result"
    }
   ],
   "source": [
    "if platform == 'vscode':\n",
    "    traindf = pd.read_csv(\"data/train.csv\")\n",
    "else:\n",
    "    traindf = pd.read_csv(\"/kaggle/input/sentiment-prediction-on-movie-reviews/train.csv\")\n",
    "    \n",
    "traindf.shape"
   ]
  },
  {
   "cell_type": "code",
   "execution_count": 5,
   "id": "6e7188f1",
   "metadata": {
    "execution": {
     "iopub.execute_input": "2023-08-13T08:27:47.108095Z",
     "iopub.status.busy": "2023-08-13T08:27:47.107661Z",
     "iopub.status.idle": "2023-08-13T08:27:47.442734Z",
     "shell.execute_reply": "2023-08-13T08:27:47.441767Z"
    },
    "papermill": {
     "duration": 0.437378,
     "end_time": "2023-08-13T08:27:47.445180",
     "exception": false,
     "start_time": "2023-08-13T08:27:47.007802",
     "status": "completed"
    },
    "tags": []
   },
   "outputs": [
    {
     "data": {
      "text/plain": [
       "(55315, 4)"
      ]
     },
     "execution_count": 5,
     "metadata": {},
     "output_type": "execute_result"
    }
   ],
   "source": [
    "if platform == 'vscode':\n",
    "    testdf = pd.read_csv(\"data/test.csv\")\n",
    "else:\n",
    "    testdf = pd.read_csv(\"/kaggle/input/sentiment-prediction-on-movie-reviews/test.csv\")\n",
    "\n",
    "testdf.shape"
   ]
  },
  {
   "cell_type": "markdown",
   "id": "5e8d4991",
   "metadata": {
    "papermill": {
     "duration": 0.09937,
     "end_time": "2023-08-13T08:27:47.644949",
     "exception": false,
     "start_time": "2023-08-13T08:27:47.545579",
     "status": "completed"
    },
    "tags": []
   },
   "source": [
    "### Understanding the data and getting it ready for training and evaluating models  \n"
   ]
  },
  {
   "cell_type": "code",
   "execution_count": 6,
   "id": "d65dc656",
   "metadata": {
    "execution": {
     "iopub.execute_input": "2023-08-13T08:27:47.846815Z",
     "iopub.status.busy": "2023-08-13T08:27:47.846371Z",
     "iopub.status.idle": "2023-08-13T08:27:47.853670Z",
     "shell.execute_reply": "2023-08-13T08:27:47.852265Z"
    },
    "papermill": {
     "duration": 0.11004,
     "end_time": "2023-08-13T08:27:47.855979",
     "exception": false,
     "start_time": "2023-08-13T08:27:47.745939",
     "status": "completed"
    },
    "tags": []
   },
   "outputs": [
    {
     "data": {
      "text/plain": [
       "(162758, 5)"
      ]
     },
     "execution_count": 6,
     "metadata": {},
     "output_type": "execute_result"
    }
   ],
   "source": [
    "traindf.shape"
   ]
  },
  {
   "cell_type": "code",
   "execution_count": 7,
   "id": "965ad403",
   "metadata": {
    "execution": {
     "iopub.execute_input": "2023-08-13T08:27:48.057874Z",
     "iopub.status.busy": "2023-08-13T08:27:48.056698Z",
     "iopub.status.idle": "2023-08-13T08:27:48.290787Z",
     "shell.execute_reply": "2023-08-13T08:27:48.289458Z"
    },
    "papermill": {
     "duration": 0.337185,
     "end_time": "2023-08-13T08:27:48.293639",
     "exception": false,
     "start_time": "2023-08-13T08:27:47.956454",
     "status": "completed"
    },
    "tags": []
   },
   "outputs": [
    {
     "name": "stdout",
     "output_type": "stream",
     "text": [
      "<class 'pandas.core.frame.DataFrame'>\n",
      "RangeIndex: 162758 entries, 0 to 162757\n",
      "Data columns (total 5 columns):\n",
      " #   Column              Non-Null Count   Dtype \n",
      "---  ------              --------------   ----- \n",
      " 0   movieid             162758 non-null  object\n",
      " 1   reviewerName        162758 non-null  object\n",
      " 2   isFrequentReviewer  162758 non-null  bool  \n",
      " 3   reviewText          156311 non-null  object\n",
      " 4   sentiment           162758 non-null  object\n",
      "dtypes: bool(1), object(4)\n",
      "memory usage: 5.1+ MB\n"
     ]
    }
   ],
   "source": [
    "traindf.info()"
   ]
  },
  {
   "cell_type": "code",
   "execution_count": 8,
   "id": "0b8a041b",
   "metadata": {
    "execution": {
     "iopub.execute_input": "2023-08-13T08:27:48.493245Z",
     "iopub.status.busy": "2023-08-13T08:27:48.492826Z",
     "iopub.status.idle": "2023-08-13T08:27:48.709061Z",
     "shell.execute_reply": "2023-08-13T08:27:48.708270Z"
    },
    "papermill": {
     "duration": 0.317723,
     "end_time": "2023-08-13T08:27:48.711253",
     "exception": false,
     "start_time": "2023-08-13T08:27:48.393530",
     "status": "completed"
    },
    "tags": []
   },
   "outputs": [
    {
     "data": {
      "text/plain": [
       "movieid                  0\n",
       "reviewerName             0\n",
       "isFrequentReviewer       0\n",
       "reviewText            6447\n",
       "sentiment                0\n",
       "dtype: int64"
      ]
     },
     "execution_count": 8,
     "metadata": {},
     "output_type": "execute_result"
    }
   ],
   "source": [
    "traindf.isna().sum()"
   ]
  },
  {
   "cell_type": "markdown",
   "id": "31048428",
   "metadata": {
    "papermill": {
     "duration": 0.099175,
     "end_time": "2023-08-13T08:27:48.909110",
     "exception": false,
     "start_time": "2023-08-13T08:27:48.809935",
     "status": "completed"
    },
    "tags": []
   },
   "source": [
    "### Fill empty reviewText with custom text  "
   ]
  },
  {
   "cell_type": "code",
   "execution_count": 9,
   "id": "548388d0",
   "metadata": {
    "execution": {
     "iopub.execute_input": "2023-08-13T08:27:49.111724Z",
     "iopub.status.busy": "2023-08-13T08:27:49.111018Z",
     "iopub.status.idle": "2023-08-13T08:27:49.354797Z",
     "shell.execute_reply": "2023-08-13T08:27:49.353762Z"
    },
    "papermill": {
     "duration": 0.346506,
     "end_time": "2023-08-13T08:27:49.357393",
     "exception": false,
     "start_time": "2023-08-13T08:27:49.010887",
     "status": "completed"
    },
    "tags": []
   },
   "outputs": [
    {
     "data": {
      "text/plain": [
       "movieid               0\n",
       "reviewerName          0\n",
       "isFrequentReviewer    0\n",
       "reviewText            0\n",
       "sentiment             0\n",
       "dtype: int64"
      ]
     },
     "execution_count": 9,
     "metadata": {},
     "output_type": "execute_result"
    }
   ],
   "source": [
    "traindf[\"reviewText\"].fillna(\"empty\", inplace=True)\n",
    "traindf.isna().sum()"
   ]
  },
  {
   "cell_type": "markdown",
   "id": "ad6da4ad",
   "metadata": {
    "papermill": {
     "duration": 0.098246,
     "end_time": "2023-08-13T08:27:49.556339",
     "exception": false,
     "start_time": "2023-08-13T08:27:49.458093",
     "status": "completed"
    },
    "tags": []
   },
   "source": [
    "## EDA  \n"
   ]
  },
  {
   "cell_type": "code",
   "execution_count": 10,
   "id": "7dc210e1",
   "metadata": {
    "execution": {
     "iopub.execute_input": "2023-08-13T08:27:49.761237Z",
     "iopub.status.busy": "2023-08-13T08:27:49.759904Z",
     "iopub.status.idle": "2023-08-13T08:27:50.017084Z",
     "shell.execute_reply": "2023-08-13T08:27:50.015609Z"
    },
    "papermill": {
     "duration": 0.366331,
     "end_time": "2023-08-13T08:27:50.021977",
     "exception": false,
     "start_time": "2023-08-13T08:27:49.655646",
     "status": "completed"
    },
    "tags": []
   },
   "outputs": [
    {
     "data": {
      "image/png": "[encoded data removed]",
      "text/plain": [
       "<Figure size 600x400 with 1 Axes>"
      ]
     },
     "metadata": {},
     "output_type": "display_data"
    }
   ],
   "source": [
    "# Pie chart for sentiment column\n",
    "plt.figure(figsize=(6, 4))\n",
    "traindf[\"sentiment\"].value_counts().plot(kind='pie', autopct='%1.0f%%', colors=[\"lightgreen\", \"crimson\"])\n",
    "plt.title(\"Pie chart for sentiment column\")\n",
    "plt.show()"
   ]
  },
  {
   "cell_type": "code",
   "execution_count": 11,
   "id": "6ebc55ee",
   "metadata": {
    "execution": {
     "iopub.execute_input": "2023-08-13T08:27:50.251262Z",
     "iopub.status.busy": "2023-08-13T08:27:50.250571Z",
     "iopub.status.idle": "2023-08-13T08:27:50.327422Z",
     "shell.execute_reply": "2023-08-13T08:27:50.326308Z"
    },
    "papermill": {
     "duration": 0.180823,
     "end_time": "2023-08-13T08:27:50.329760",
     "exception": false,
     "start_time": "2023-08-13T08:27:50.148937",
     "status": "completed"
    },
    "tags": []
   },
   "outputs": [
    {
     "name": "stdout",
     "output_type": "stream",
     "text": [
      "sentiment           NEGATIVE  POSITIVE\n",
      "isFrequentReviewer                    \n",
      "False                  35760     77429\n",
      "True                   18237     31332\n"
     ]
    },
    {
     "data": {
      "text/plain": [
       "Chi2ContingencyResult(statistic=419.89235425657796, pvalue=2.5755894769493255e-93, dof=1, expected_freq=array([[37551.86493444, 75637.13506556],\n",
       "       [16445.13506556, 33123.86493444]]))"
      ]
     },
     "execution_count": 11,
     "metadata": {},
     "output_type": "execute_result"
    }
   ],
   "source": [
    "# Chi-square test for isFrequentReviewer column and sentiment column   \n",
    "\n",
    "contingency_table = pd.crosstab(traindf['isFrequentReviewer'], traindf['sentiment'])\n",
    "print(contingency_table)\n",
    "stats.chi2_contingency(contingency_table)"
   ]
  },
  {
   "cell_type": "markdown",
   "id": "d6c048fc",
   "metadata": {
    "papermill": {
     "duration": 0.099158,
     "end_time": "2023-08-13T08:27:50.529014",
     "exception": false,
     "start_time": "2023-08-13T08:27:50.429856",
     "status": "completed"
    },
    "tags": []
   },
   "source": [
    "### Separate features and labels  "
   ]
  },
  {
   "cell_type": "code",
   "execution_count": 12,
   "id": "910223d3",
   "metadata": {
    "execution": {
     "iopub.execute_input": "2023-08-13T08:27:50.729530Z",
     "iopub.status.busy": "2023-08-13T08:27:50.729105Z",
     "iopub.status.idle": "2023-08-13T08:27:50.736876Z",
     "shell.execute_reply": "2023-08-13T08:27:50.735799Z"
    },
    "papermill": {
     "duration": 0.110692,
     "end_time": "2023-08-13T08:27:50.739336",
     "exception": false,
     "start_time": "2023-08-13T08:27:50.628644",
     "status": "completed"
    },
    "tags": []
   },
   "outputs": [
    {
     "data": {
      "text/plain": [
       "((162758,), (162758,))"
      ]
     },
     "execution_count": 12,
     "metadata": {},
     "output_type": "execute_result"
    }
   ],
   "source": [
    "train_features = traindf[\"reviewText\"]\n",
    "train_labels = traindf.iloc[:, -1]\n",
    "train_features.shape, train_labels.shape"
   ]
  },
  {
   "cell_type": "markdown",
   "id": "c155821b",
   "metadata": {
    "papermill": {
     "duration": 0.101606,
     "end_time": "2023-08-13T08:27:50.941891",
     "exception": false,
     "start_time": "2023-08-13T08:27:50.840285",
     "status": "completed"
    },
    "tags": []
   },
   "source": [
    "### Split traindf into training and testing parts  "
   ]
  },
  {
   "cell_type": "code",
   "execution_count": 13,
   "id": "22834793",
   "metadata": {
    "execution": {
     "iopub.execute_input": "2023-08-13T08:27:51.150246Z",
     "iopub.status.busy": "2023-08-13T08:27:51.149787Z",
     "iopub.status.idle": "2023-08-13T08:27:51.187206Z",
     "shell.execute_reply": "2023-08-13T08:27:51.186120Z"
    },
    "papermill": {
     "duration": 0.141332,
     "end_time": "2023-08-13T08:27:51.189616",
     "exception": false,
     "start_time": "2023-08-13T08:27:51.048284",
     "status": "completed"
    },
    "tags": []
   },
   "outputs": [
    {
     "data": {
      "text/plain": [
       "((122068,), (40690,), (122068,), (40690,))"
      ]
     },
     "execution_count": 13,
     "metadata": {},
     "output_type": "execute_result"
    }
   ],
   "source": [
    "X_train, X_test, y_train, y_test = train_test_split(train_features, train_labels, test_size=0.25, random_state=42)\n",
    "X_train.shape, X_test.shape, y_train.shape, y_test.shape"
   ]
  },
  {
   "cell_type": "markdown",
   "id": "99b6f04b",
   "metadata": {
    "papermill": {
     "duration": 0.099244,
     "end_time": "2023-08-13T08:27:51.389249",
     "exception": false,
     "start_time": "2023-08-13T08:27:51.290005",
     "status": "completed"
    },
    "tags": []
   },
   "source": [
    "## Model evaluation plan and code  "
   ]
  },
  {
   "cell_type": "code",
   "execution_count": 14,
   "id": "54691998",
   "metadata": {
    "execution": {
     "iopub.execute_input": "2023-08-13T08:27:51.590173Z",
     "iopub.status.busy": "2023-08-13T08:27:51.589734Z",
     "iopub.status.idle": "2023-08-13T08:27:51.594755Z",
     "shell.execute_reply": "2023-08-13T08:27:51.593612Z"
    },
    "papermill": {
     "duration": 0.107882,
     "end_time": "2023-08-13T08:27:51.597007",
     "exception": false,
     "start_time": "2023-08-13T08:27:51.489125",
     "status": "completed"
    },
    "tags": []
   },
   "outputs": [],
   "source": [
    "# from sklearn.metrics import classification_report, confusion_matrix, ConfusionMatrixDisplay\n",
    "# from sklearn.metrics import f1_score"
   ]
  },
  {
   "cell_type": "code",
   "execution_count": 15,
   "id": "471af23f",
   "metadata": {
    "execution": {
     "iopub.execute_input": "2023-08-13T08:27:51.803486Z",
     "iopub.status.busy": "2023-08-13T08:27:51.803059Z",
     "iopub.status.idle": "2023-08-13T08:27:51.807830Z",
     "shell.execute_reply": "2023-08-13T08:27:51.806967Z"
    },
    "papermill": {
     "duration": 0.110374,
     "end_time": "2023-08-13T08:27:51.810480",
     "exception": false,
     "start_time": "2023-08-13T08:27:51.700106",
     "status": "completed"
    },
    "tags": []
   },
   "outputs": [],
   "source": [
    "# def evaluate(y_test, y_pred):\n",
    "#     print(classification_report(y_test, y_pred))\n",
    "#     print(confusion_matrix(y_test, y_pred))\n",
    "#     # print(f1_score(y_test, y_pred))\n",
    "#     ConfusionMatrixDisplay(y_test, y_pred)\n",
    "#     return"
   ]
  },
  {
   "cell_type": "markdown",
   "id": "1adbed03",
   "metadata": {
    "papermill": {
     "duration": 0.099792,
     "end_time": "2023-08-13T08:27:52.010771",
     "exception": false,
     "start_time": "2023-08-13T08:27:51.910979",
     "status": "completed"
    },
    "tags": []
   },
   "source": [
    "### Data preprocessing  "
   ]
  },
  {
   "cell_type": "markdown",
   "id": "8047c956",
   "metadata": {
    "papermill": {
     "duration": 0.100223,
     "end_time": "2023-08-13T08:27:52.214866",
     "exception": false,
     "start_time": "2023-08-13T08:27:52.114643",
     "status": "completed"
    },
    "tags": []
   },
   "source": [
    "`Define stop words`  "
   ]
  },
  {
   "cell_type": "code",
   "execution_count": 16,
   "id": "2d903ad7",
   "metadata": {
    "execution": {
     "iopub.execute_input": "2023-08-13T08:27:52.417423Z",
     "iopub.status.busy": "2023-08-13T08:27:52.416981Z",
     "iopub.status.idle": "2023-08-13T08:27:52.421150Z",
     "shell.execute_reply": "2023-08-13T08:27:52.420357Z"
    },
    "papermill": {
     "duration": 0.108131,
     "end_time": "2023-08-13T08:27:52.423239",
     "exception": false,
     "start_time": "2023-08-13T08:27:52.315108",
     "status": "completed"
    },
    "tags": []
   },
   "outputs": [],
   "source": [
    "# stop_words = [\"able\", \"about\", \"above\", \"abst\", \"ac\"]     # Deprecated  \n",
    "# type(stop_words), len(stop_words)"
   ]
  },
  {
   "cell_type": "markdown",
   "id": "3664c08c",
   "metadata": {
    "papermill": {
     "duration": 0.098611,
     "end_time": "2023-08-13T08:27:52.622573",
     "exception": false,
     "start_time": "2023-08-13T08:27:52.523962",
     "status": "completed"
    },
    "tags": []
   },
   "source": [
    "## Feature extraction  "
   ]
  },
  {
   "cell_type": "markdown",
   "id": "931e5b9b",
   "metadata": {
    "papermill": {
     "duration": 0.099025,
     "end_time": "2023-08-13T08:27:52.823822",
     "exception": false,
     "start_time": "2023-08-13T08:27:52.724797",
     "status": "completed"
    },
    "tags": []
   },
   "source": [
    "### Understand CountVectorizer and TfidfVectorizer  "
   ]
  },
  {
   "cell_type": "code",
   "execution_count": 17,
   "id": "297afcc8",
   "metadata": {
    "execution": {
     "iopub.execute_input": "2023-08-13T08:27:53.029630Z",
     "iopub.status.busy": "2023-08-13T08:27:53.028944Z",
     "iopub.status.idle": "2023-08-13T08:27:53.033149Z",
     "shell.execute_reply": "2023-08-13T08:27:53.032398Z"
    },
    "papermill": {
     "duration": 0.110973,
     "end_time": "2023-08-13T08:27:53.035298",
     "exception": false,
     "start_time": "2023-08-13T08:27:52.924325",
     "status": "completed"
    },
    "tags": []
   },
   "outputs": [],
   "source": [
    "# text = X_train.copy()\n",
    "# text.head()"
   ]
  },
  {
   "cell_type": "code",
   "execution_count": 18,
   "id": "5b8bf5de",
   "metadata": {
    "execution": {
     "iopub.execute_input": "2023-08-13T08:27:53.237220Z",
     "iopub.status.busy": "2023-08-13T08:27:53.236507Z",
     "iopub.status.idle": "2023-08-13T08:27:53.241117Z",
     "shell.execute_reply": "2023-08-13T08:27:53.240292Z"
    },
    "papermill": {
     "duration": 0.108946,
     "end_time": "2023-08-13T08:27:53.243265",
     "exception": false,
     "start_time": "2023-08-13T08:27:53.134319",
     "status": "completed"
    },
    "tags": []
   },
   "outputs": [],
   "source": [
    "# vectorizer = TfidfVectorizer(stop_words=stop_words)\n",
    "# vectorized_text = vectorizer.fit_transform(text[\"reviewText\"])\n",
    "# vectorized_text"
   ]
  },
  {
   "cell_type": "markdown",
   "id": "b61ba0fa",
   "metadata": {
    "papermill": {
     "duration": 0.098569,
     "end_time": "2023-08-13T08:27:53.441551",
     "exception": false,
     "start_time": "2023-08-13T08:27:53.342982",
     "status": "completed"
    },
    "tags": []
   },
   "source": [
    "`Without stop words`  \n",
    "<122068x58624 sparse matrix of type '<class 'numpy.float64'>'\n",
    "\twith 2312222 stored elements in Compressed Sparse Row format>\n",
    "\n",
    "`With stop words`  \n",
    "<122068x57784 sparse matrix of type '<class 'numpy.float64'>'\n",
    "\twith 1188395 stored elements in Compressed Sparse Row format>   "
   ]
  },
  {
   "cell_type": "code",
   "execution_count": 19,
   "id": "1b7dc96e",
   "metadata": {
    "execution": {
     "iopub.execute_input": "2023-08-13T08:27:53.644723Z",
     "iopub.status.busy": "2023-08-13T08:27:53.644058Z",
     "iopub.status.idle": "2023-08-13T08:27:53.648741Z",
     "shell.execute_reply": "2023-08-13T08:27:53.647705Z"
    },
    "papermill": {
     "duration": 0.110445,
     "end_time": "2023-08-13T08:27:53.650911",
     "exception": false,
     "start_time": "2023-08-13T08:27:53.540466",
     "status": "completed"
    },
    "tags": []
   },
   "outputs": [],
   "source": [
    "# vectorizer2 = CountVectorizer(stop_words=stop_words)\n",
    "# vectorized_text2 = vectorizer2.fit_transform(text[\"reviewText\"])\n",
    "# vectorized_text2"
   ]
  },
  {
   "cell_type": "markdown",
   "id": "f6ac2d34",
   "metadata": {
    "papermill": {
     "duration": 0.121489,
     "end_time": "2023-08-13T08:27:53.878274",
     "exception": false,
     "start_time": "2023-08-13T08:27:53.756785",
     "status": "completed"
    },
    "tags": []
   },
   "source": [
    "`Without stop words`  \n",
    "<122068x58624 sparse matrix of type '<class 'numpy.int64'>'\n",
    "\twith 2312222 stored elements in Compressed Sparse Row format>\n",
    "\n",
    "`With stop words`  \n",
    "<122068x57784 sparse matrix of type '<class 'numpy.int64'>'\n",
    "\twith 1188395 stored elements in Compressed Sparse Row format>"
   ]
  },
  {
   "cell_type": "markdown",
   "id": "1778446b",
   "metadata": {
    "papermill": {
     "duration": 0.099802,
     "end_time": "2023-08-13T08:27:54.080058",
     "exception": false,
     "start_time": "2023-08-13T08:27:53.980256",
     "status": "completed"
    },
    "tags": []
   },
   "source": [
    "### Conclusion   \n",
    "`TfidfVectorizer is equivalent to CountVectorizer followed by TfidfTransformer.`  \n",
    "\n",
    "https://scikit-learn.org/stable/modules/generated/sklearn.feature_extraction.text.TfidfVectorizer.html"
   ]
  },
  {
   "cell_type": "markdown",
   "id": "29acddad",
   "metadata": {
    "papermill": {
     "duration": 0.098761,
     "end_time": "2023-08-13T08:27:54.278173",
     "exception": false,
     "start_time": "2023-08-13T08:27:54.179412",
     "status": "completed"
    },
    "tags": []
   },
   "source": [
    "## Model building workflow  \n",
    "\n",
    "`Make pipeline for preprocesing and model training and predictions`  \n"
   ]
  },
  {
   "cell_type": "code",
   "execution_count": 20,
   "id": "afab747b",
   "metadata": {
    "execution": {
     "iopub.execute_input": "2023-08-13T08:27:54.477699Z",
     "iopub.status.busy": "2023-08-13T08:27:54.477275Z",
     "iopub.status.idle": "2023-08-13T08:27:54.482112Z",
     "shell.execute_reply": "2023-08-13T08:27:54.481284Z"
    },
    "papermill": {
     "duration": 0.107118,
     "end_time": "2023-08-13T08:27:54.484329",
     "exception": false,
     "start_time": "2023-08-13T08:27:54.377211",
     "status": "completed"
    },
    "tags": []
   },
   "outputs": [],
   "source": [
    "# def preprocess_n_train(X_train, y_train, preprocessor, model):\n",
    "#     pipe = Pipeline(steps=[\n",
    "#                             (\"preprocessor\", preprocessor),\n",
    "#                             (\"model\", model)\n",
    "#                         ])\n",
    "    \n",
    "#     pipe.fit(X_train, y_train)\n",
    "\n",
    "#     print(\"Given model has been trained. Use predict method to get predictions array.\")\n",
    "#     return pipe\n",
    "\n",
    "\n",
    "# def predict_n_evaluate(pipeline, X_test, y_test):\n",
    "#     y_pred = pipeline.predict(X_test)\n",
    "#     print(f\"y_pred shape: {y_pred.shape}\")\n",
    "#     print(f\"Summary of predictions: {np.unique(y_pred, return_counts=True)}\")\n",
    "#     print(classification_report(y_test, y_pred))\n",
    "#     print(confusion_matrix(y_test, y_pred))\n",
    "#     return y_pred"
   ]
  },
  {
   "cell_type": "markdown",
   "id": "4ef21ce8",
   "metadata": {
    "papermill": {
     "duration": 0.100154,
     "end_time": "2023-08-13T08:27:54.685776",
     "exception": false,
     "start_time": "2023-08-13T08:27:54.585622",
     "status": "completed"
    },
    "tags": []
   },
   "source": [
    "## Building 3 basic models  "
   ]
  },
  {
   "cell_type": "markdown",
   "id": "2383b8ef",
   "metadata": {
    "papermill": {
     "duration": 0.100429,
     "end_time": "2023-08-13T08:27:54.887451",
     "exception": false,
     "start_time": "2023-08-13T08:27:54.787022",
     "status": "completed"
    },
    "tags": []
   },
   "source": [
    "### Text preprocessors  "
   ]
  },
  {
   "cell_type": "code",
   "execution_count": 21,
   "id": "180877b1",
   "metadata": {
    "execution": {
     "iopub.execute_input": "2023-08-13T08:27:55.092116Z",
     "iopub.status.busy": "2023-08-13T08:27:55.091337Z",
     "iopub.status.idle": "2023-08-13T08:27:55.095726Z",
     "shell.execute_reply": "2023-08-13T08:27:55.094658Z"
    },
    "papermill": {
     "duration": 0.109791,
     "end_time": "2023-08-13T08:27:55.097850",
     "exception": false,
     "start_time": "2023-08-13T08:27:54.988059",
     "status": "completed"
    },
    "tags": []
   },
   "outputs": [],
   "source": [
    "# tvec = TfidfVectorizer()\n",
    "# cvec = CountVectorizer()        # Note that TfidfVectorizer and CountVectorizer+TfidsTransformer do the same function\n",
    "# tvec, cvec"
   ]
  },
  {
   "cell_type": "markdown",
   "id": "348a6bb7",
   "metadata": {
    "papermill": {
     "duration": 0.099147,
     "end_time": "2023-08-13T08:27:55.297095",
     "exception": false,
     "start_time": "2023-08-13T08:27:55.197948",
     "status": "completed"
    },
    "tags": []
   },
   "source": [
    "### Logistic Regression with TfidVectorizer for preprocessing  "
   ]
  },
  {
   "cell_type": "code",
   "execution_count": 22,
   "id": "12d0f23e",
   "metadata": {
    "execution": {
     "iopub.execute_input": "2023-08-13T08:27:55.498026Z",
     "iopub.status.busy": "2023-08-13T08:27:55.497237Z",
     "iopub.status.idle": "2023-08-13T08:27:55.501559Z",
     "shell.execute_reply": "2023-08-13T08:27:55.500646Z"
    },
    "papermill": {
     "duration": 0.10721,
     "end_time": "2023-08-13T08:27:55.503588",
     "exception": false,
     "start_time": "2023-08-13T08:27:55.396378",
     "status": "completed"
    },
    "tags": []
   },
   "outputs": [],
   "source": [
    "# logreg = LogisticRegression(max_iter=1000)\n",
    "# logreg_pipe = preprocess_n_train(X_train, y_train, tvec, logreg)\n",
    "# y_pred_logreg = predict_n_evaluate(logreg_pipe, X_test, y_test)\n",
    "# y_pred_logreg"
   ]
  },
  {
   "cell_type": "markdown",
   "id": "f9068efa",
   "metadata": {
    "papermill": {
     "duration": 0.09921,
     "end_time": "2023-08-13T08:27:55.701992",
     "exception": false,
     "start_time": "2023-08-13T08:27:55.602782",
     "status": "completed"
    },
    "tags": []
   },
   "source": [
    "### SVM model  "
   ]
  },
  {
   "cell_type": "code",
   "execution_count": 23,
   "id": "b8e4cbb2",
   "metadata": {
    "execution": {
     "iopub.execute_input": "2023-08-13T08:27:55.902575Z",
     "iopub.status.busy": "2023-08-13T08:27:55.901828Z",
     "iopub.status.idle": "2023-08-13T08:27:55.906130Z",
     "shell.execute_reply": "2023-08-13T08:27:55.905300Z"
    },
    "papermill": {
     "duration": 0.106988,
     "end_time": "2023-08-13T08:27:55.908237",
     "exception": false,
     "start_time": "2023-08-13T08:27:55.801249",
     "status": "completed"
    },
    "tags": []
   },
   "outputs": [],
   "source": [
    "# svm = LinearSVC()\n",
    "# svm_pipe = preprocess_n_train(X_train, y_train, tvec, svm)\n",
    "# y_pred_svm = predict_n_evaluate(svm_pipe, X_test, y_test)\n",
    "# y_pred_svm"
   ]
  },
  {
   "cell_type": "markdown",
   "id": "858742eb",
   "metadata": {
    "papermill": {
     "duration": 0.100967,
     "end_time": "2023-08-13T08:27:56.109947",
     "exception": false,
     "start_time": "2023-08-13T08:27:56.008980",
     "status": "completed"
    },
    "tags": []
   },
   "source": [
    "### Naive Bayes model  "
   ]
  },
  {
   "cell_type": "markdown",
   "id": "4931c514",
   "metadata": {
    "papermill": {
     "duration": 0.098597,
     "end_time": "2023-08-13T08:27:56.307591",
     "exception": false,
     "start_time": "2023-08-13T08:27:56.208994",
     "status": "completed"
    },
    "tags": []
   },
   "source": [
    "#### MultinomialNB  "
   ]
  },
  {
   "cell_type": "code",
   "execution_count": 24,
   "id": "b2f9525c",
   "metadata": {
    "execution": {
     "iopub.execute_input": "2023-08-13T08:27:56.508302Z",
     "iopub.status.busy": "2023-08-13T08:27:56.507616Z",
     "iopub.status.idle": "2023-08-13T08:27:56.511790Z",
     "shell.execute_reply": "2023-08-13T08:27:56.510715Z"
    },
    "papermill": {
     "duration": 0.107428,
     "end_time": "2023-08-13T08:27:56.514324",
     "exception": false,
     "start_time": "2023-08-13T08:27:56.406896",
     "status": "completed"
    },
    "tags": []
   },
   "outputs": [],
   "source": [
    "# mnb = MultinomialNB()\n",
    "# mnb_pipe = preprocess_n_train(X_train, y_train, tvec, mnb)\n",
    "# y_pred_mnb = predict_n_evaluate(mnb_pipe, X_test, y_test)\n",
    "# y_pred_mnb"
   ]
  },
  {
   "cell_type": "markdown",
   "id": "14e84611",
   "metadata": {
    "papermill": {
     "duration": 0.160345,
     "end_time": "2023-08-13T08:27:56.774488",
     "exception": false,
     "start_time": "2023-08-13T08:27:56.614143",
     "status": "completed"
    },
    "tags": []
   },
   "source": [
    "## Submitting predictions to Kaggle competition  "
   ]
  },
  {
   "cell_type": "code",
   "execution_count": 25,
   "id": "1c83ae56",
   "metadata": {
    "execution": {
     "iopub.execute_input": "2023-08-13T08:27:56.976968Z",
     "iopub.status.busy": "2023-08-13T08:27:56.976543Z",
     "iopub.status.idle": "2023-08-13T08:27:56.982173Z",
     "shell.execute_reply": "2023-08-13T08:27:56.981148Z"
    },
    "papermill": {
     "duration": 0.110089,
     "end_time": "2023-08-13T08:27:56.984470",
     "exception": false,
     "start_time": "2023-08-13T08:27:56.874381",
     "status": "completed"
    },
    "tags": []
   },
   "outputs": [],
   "source": [
    "# def submit(selected_model=logreg, selected_preprocessor=tvec):\n",
    "    \n",
    "#     # Retrain on the whole train.csv file  \n",
    "#     traindf = pd.read_csv(\"/kaggle/input/sentiment-prediction-on-movie-reviews/train.csv\")\n",
    "#     X_train = traindf[\"reviewText\"]\n",
    "#     X_train.fillna(\"empty\", inplace=True)\n",
    "#     y_train = traindf[\"sentiment\"]\n",
    "#     pipe = preprocess_n_train(X_train, y_train, selected_preprocessor, selected_model)\n",
    "    \n",
    "#     # Predict on test.csv file\n",
    "#     testdf = pd.read_csv(\"/kaggle/input/sentiment-prediction-on-movie-reviews/test.csv\")\n",
    "#     X_test = testdf[\"reviewText\"]\n",
    "#     X_test.fillna(\"empty\", inplace=True)\n",
    "    \n",
    "#     y_pred = pipe.predict(X_test)\n",
    "    \n",
    "#     pred_df = pd.DataFrame(y_pred)\n",
    "#     pred_df.columns = [\"sentiment\"]\n",
    "#     pred_df.index.name = \"id\"\n",
    "#     pred_df.to_csv(\"submission.csv\")\n",
    "    \n",
    "#     return \"Successfully created the submission file!!!\""
   ]
  },
  {
   "cell_type": "code",
   "execution_count": 26,
   "id": "bf6d6bdf",
   "metadata": {
    "execution": {
     "iopub.execute_input": "2023-08-13T08:27:57.186075Z",
     "iopub.status.busy": "2023-08-13T08:27:57.185248Z",
     "iopub.status.idle": "2023-08-13T08:27:57.190315Z",
     "shell.execute_reply": "2023-08-13T08:27:57.189210Z"
    },
    "papermill": {
     "duration": 0.107993,
     "end_time": "2023-08-13T08:27:57.192591",
     "exception": false,
     "start_time": "2023-08-13T08:27:57.084598",
     "status": "completed"
    },
    "tags": []
   },
   "outputs": [],
   "source": [
    "# submit(logreg_cv1, tvec_cv1)"
   ]
  },
  {
   "cell_type": "markdown",
   "id": "76fa49da",
   "metadata": {
    "papermill": {
     "duration": 0.100328,
     "end_time": "2023-08-13T08:27:57.393342",
     "exception": false,
     "start_time": "2023-08-13T08:27:57.293014",
     "status": "completed"
    },
    "tags": []
   },
   "source": [
    "# PART II  "
   ]
  },
  {
   "cell_type": "markdown",
   "id": "f7f251b0",
   "metadata": {
    "papermill": {
     "duration": 0.098915,
     "end_time": "2023-08-13T08:27:57.592034",
     "exception": false,
     "start_time": "2023-08-13T08:27:57.493119",
     "status": "completed"
    },
    "tags": []
   },
   "source": [
    "## Merge \"movies.csv\" with \"train.csv\" and \"test.csv\"  "
   ]
  },
  {
   "cell_type": "markdown",
   "id": "f643b602",
   "metadata": {
    "papermill": {
     "duration": 0.100223,
     "end_time": "2023-08-13T08:27:57.791878",
     "exception": false,
     "start_time": "2023-08-13T08:27:57.691655",
     "status": "completed"
    },
    "tags": []
   },
   "source": [
    "### Helper functions  "
   ]
  },
  {
   "cell_type": "code",
   "execution_count": 27,
   "id": "e92db5dc",
   "metadata": {
    "execution": {
     "iopub.execute_input": "2023-08-13T08:27:57.998417Z",
     "iopub.status.busy": "2023-08-13T08:27:57.997216Z",
     "iopub.status.idle": "2023-08-13T08:27:58.003566Z",
     "shell.execute_reply": "2023-08-13T08:27:58.002769Z"
    },
    "papermill": {
     "duration": 0.112195,
     "end_time": "2023-08-13T08:27:58.005807",
     "exception": false,
     "start_time": "2023-08-13T08:27:57.893612",
     "status": "completed"
    },
    "tags": []
   },
   "outputs": [],
   "source": [
    "# Helper function for loading files  \n",
    "\n",
    "def load_csv(filename: str):\n",
    "    if platform == \"vscode\":\n",
    "        df = pd.read_csv(f\"data/{filename}.csv\")\n",
    "    else:\n",
    "        df = pd.read_csv(f\"/kaggle/input/sentiment-prediction-on-movie-reviews/{filename}.csv\")\n",
    "        \n",
    "    return df"
   ]
  },
  {
   "cell_type": "code",
   "execution_count": 28,
   "id": "238759dd",
   "metadata": {
    "execution": {
     "iopub.execute_input": "2023-08-13T08:27:58.206640Z",
     "iopub.status.busy": "2023-08-13T08:27:58.206257Z",
     "iopub.status.idle": "2023-08-13T08:27:58.211959Z",
     "shell.execute_reply": "2023-08-13T08:27:58.210907Z"
    },
    "papermill": {
     "duration": 0.107909,
     "end_time": "2023-08-13T08:27:58.214105",
     "exception": false,
     "start_time": "2023-08-13T08:27:58.106196",
     "status": "completed"
    },
    "tags": []
   },
   "outputs": [],
   "source": [
    "def inspect(df: pd.DataFrame):\n",
    "    print(f\"Shape of the dataframe: {df.shape}\")\n",
    "    print()\n",
    "    print(f\"Columns in the dataframe:\\n{df.columns}\")\n",
    "    print()\n",
    "    print(f\"{df.info()}\")\n",
    "    print()\n",
    "    # print(f\"Summary: {df.describe()}\")\n",
    "    print(f\"Missing values:\\n{df.isna().sum()}\")\n",
    "    return"
   ]
  },
  {
   "cell_type": "code",
   "execution_count": 29,
   "id": "2aa6fcec",
   "metadata": {
    "execution": {
     "iopub.execute_input": "2023-08-13T08:27:58.414123Z",
     "iopub.status.busy": "2023-08-13T08:27:58.413373Z",
     "iopub.status.idle": "2023-08-13T08:27:58.418509Z",
     "shell.execute_reply": "2023-08-13T08:27:58.417424Z"
    },
    "papermill": {
     "duration": 0.107809,
     "end_time": "2023-08-13T08:27:58.420771",
     "exception": false,
     "start_time": "2023-08-13T08:27:58.312962",
     "status": "completed"
    },
    "tags": []
   },
   "outputs": [],
   "source": [
    "def name_fl(name):\n",
    "    l = name.split()\n",
    "    n = ' '.join((l[0], l[-1]))\n",
    "    return n"
   ]
  },
  {
   "cell_type": "code",
   "execution_count": 30,
   "id": "2d62da75",
   "metadata": {
    "execution": {
     "iopub.execute_input": "2023-08-13T08:27:58.621707Z",
     "iopub.status.busy": "2023-08-13T08:27:58.620965Z",
     "iopub.status.idle": "2023-08-13T08:27:58.647732Z",
     "shell.execute_reply": "2023-08-13T08:27:58.646774Z"
    },
    "papermill": {
     "duration": 0.130274,
     "end_time": "2023-08-13T08:27:58.650237",
     "exception": false,
     "start_time": "2023-08-13T08:27:58.519963",
     "status": "completed"
    },
    "tags": []
   },
   "outputs": [],
   "source": [
    "def select_features(df: pd.DataFrame, moviesdf: pd.DataFrame, row_thresh_null=None):\n",
    "    '''\n",
    "    This function merges the given dataframes. Note that the first df must be \"train\" or \"test\" and\n",
    "    the second df should be \"movies\".\n",
    "    Note: Sentiment column is present only in \"train.csv\" file and not \"test.csv\" file.\n",
    "    '''\n",
    "    \n",
    "    # Drop duplicates from moviesdf\n",
    "#     movies_unique = moviesdf.drop_duplicates(subset=[\"movieid\"])\n",
    "\n",
    "    # Drop duplicates using groupby - clubs similar rows and fills in missing values better\n",
    "    movies_unique = moviesdf.fillna(value=np.nan).groupby(\"movieid\").first().reset_index()\n",
    "    \n",
    "\n",
    "    # Handle missing values in movies.csv better than just dropping duplicates?\n",
    "#     movies_unique = moviesdf.copy()\n",
    "#     movies_unique[[\"audienceScore\", \"runtimeMinutes\"]] = movies_unique[[\"audienceScore\", \"runtimeMinutes\"]].interpolate(method='linear', axis=0)\n",
    "#     movies_unique = movies_unique.fillna(value=np.nan).groupby(\"movieid\").first().fillna(method='ffill').reset_index()\n",
    "\n",
    "    \n",
    "\n",
    "    # Merge df and movies_unique\n",
    "    df_merged = pd.merge(df, movies_unique, on=\"movieid\", how='left')\n",
    "    \n",
    "    # Rename \"isTopCritic\" column, if it exists, to \"isFrequentReviewer\"\n",
    "    df_merged.rename(columns={\"isTopCritic\": \"isFrequentReviewer\"}, inplace=True)\n",
    "    \n",
    "    # Drop columns\n",
    "#     df_merged = df_merged.drop(columns=[\"title\", \"ratingContents\", \"releaseDateTheaters\", \"releaseDateStreaming\", \"distributor\", \"soundType\"])\n",
    "#     df_merged = df_merged.drop(columns=[\"title\", \"soundType\"])\n",
    "    \n",
    "    # Drop rows (OPTIONAL: Uses kwarg row_thresh_null)\n",
    "    if row_thresh_null != None:\n",
    "        df_merged.dropna(axis=0, thresh=(df_merged.shape[1] - row_thresh_null), inplace=True)\n",
    "        \n",
    "\n",
    "    # Create new columns based on reviewText\n",
    "    final = df_merged.copy()\n",
    "    final[\"reviewYN\"] = np.where(final[\"reviewText\"].isnull(), 1, 0)    # Feature engineering - adding a new column\n",
    "    final[\"reviewWC\"] = final.apply(lambda x: len(str(x[\"reviewText\"]).split()), axis=1)    # Feature engineering - adding second new column\n",
    "    \n",
    "    # Clean text (replace numbers with empty string) and fill missing values in \"reviewText\" with empty string\n",
    "    final[\"reviewText\"] = final[\"reviewText\"].str.replace('\\d+', '', regex=True)\n",
    "    final[\"reviewText\"] = final[\"reviewText\"].fillna(\"neutral\")\n",
    "    \n",
    "    # Fill missing values in \"rating\", \"genre\", original columns with the word \"unknown\"\n",
    "    final[\"rating\"] = final[\"rating\"].fillna(\"unknown\")\n",
    "    final[\"originalLanguage\"] = final[\"originalLanguage\"].fillna(\"unknown\")\n",
    "    final[\"genre\"] = final[\"genre\"].fillna(\"unknown\")\n",
    "    final[\"genre\"] = final[\"genre\"].apply(lambda x: re.sub(r\"-\", \"\", x))\n",
    "    final[\"genreSorted\"] = final[\"genre\"].apply(lambda x: (\",\").join(sorted(x.split(\", \"))))\n",
    "#     final[\"genre\"] = final[\"genre\"].replace(to_replace={\"&\": \"\"})\n",
    "\n",
    "    # Impute missing values for \"audienceScore\" and \"runtimeMinutes\" columns\n",
    "#     final[\"audienceScore\"] = final[\"audienceScore\"].fillna(final[\"audienceScore\"].mean())        # MOVED\n",
    "#     final[\"runtimeMinutes\"] = final[\"runtimeMinutes\"].fillna(final[\"runtimeMinutes\"].median())   # MOVED\n",
    "    \n",
    "    # Preprocess and impute missing values in \"boxOffice\" column\n",
    "    final[\"boxOffice\"] = final[\"boxOffice\"].str[1:]\n",
    "    final[\"boxOffice\"] = final[\"boxOffice\"].replace(to_replace={\"M\": \"*1000000\", \"K\": \"*1000\"}, regex=True)\n",
    "    final[\"boxOffice\"] = final[\"boxOffice\"].loc[final[\"boxOffice\"].notnull()].apply(lambda x: eval(str(x)))\n",
    "#     final[\"boxOffice\"] = final[\"boxOffice\"].fillna(final[\"boxOffice\"].median())                  # MOVED\n",
    "    # (Optional) Replace outliers in boxOffice with median\n",
    "#     median = final[\"boxOffice\"].describe()['50%']\n",
    "#     iqr = final[\"boxOffice\"].describe()['75%'] - final[\"boxOffice\"].describe()['25%']\n",
    "#     ll = median - (1.5*iqr)\n",
    "#     ul = median + (1.5*iqr)\n",
    "#     final.loc[final[\"boxOffice\"] > ul, \"boxOffice\"] = median\n",
    "    \n",
    "    # Clean language names\n",
    "    final[\"originalLanguage\"].replace({\"English (United Kingdom)\": \"English\", \n",
    "                                            \"English (Australia)\" : \"English\",\n",
    "                                            \"French (France)\": \"French\", \n",
    "                                            \"French (Canada)\": \"French\",\n",
    "                                            \"Portuguese (Brazil)\": \"Portuguese\",\n",
    "                                            \"Spanish (Spain)\": \"Spanish\"},                                         \n",
    "                                            inplace=True)\n",
    "    \n",
    "    # Clean reviewerName column\n",
    "    pre_post_fixes = {\"Mr. \": \"\", \"Mrs. \": \"\", \"Ms. \": \"\", \"Dr. \": \"\", \n",
    "                      \" MD\": \"\", \" DDS\": \"\", \" DVM\": \"\", \" Jr.\": \"\", \" PhD\": \"\", \" II\": \"\", \" IV\": \"\"}\n",
    "    final[\"reviewerName\"] = final[\"reviewerName\"].replace(pre_post_fixes, regex=True)\n",
    "    final[\"reviewerName\"] = final[\"reviewerName\"].apply(name_fl)\n",
    "    \n",
    "    # Handle 'ratingContents' column\n",
    "    final[\"ratingContents\"] = final[\"ratingContents\"].fillna(\"neutral\")\n",
    "    final[\"rcSorted\"] = final[\"ratingContents\"].apply(lambda x: (\",\").join(sorted(x.strip(\"][\").split(\", \"))))\n",
    "    final[\"rcSorted\"] = final[\"rcSorted\"].apply(lambda x: re.sub(r\"'\", \"\", x))\n",
    "    final[\"rcSorted\"] = final[\"rcSorted\"].apply(lambda x: re.sub(r\"[/\\s]\", \"_\", x))  \n",
    "    \n",
    "    # Handle 'ratingContents' column\n",
    "    final[\"distributor\"] = final[\"distributor\"].fillna(\"unknown\")\n",
    "    \n",
    "    # Work with 'releaseDateTheaters', releaseDateStreaming column\n",
    "    final[[\"releaseDateTheaters\", \"releaseDateStreaming\"]] = final[[\"releaseDateTheaters\", \"releaseDateStreaming\"]].astype('datetime64[ns]')\n",
    "\n",
    "    final[\"releaseDate\"] = final[[\"releaseDateTheaters\", \"releaseDateStreaming\"]].min(axis=1, skipna=False)\n",
    "#     final[\"releaseDate\"] = final[\"releaseDate\"].fillna(final[\"releaseDate\"].median())               # MOVED\n",
    "\n",
    "    final[\"releaseYear\"] = final[\"releaseDate\"].dt.year\n",
    "    final[\"releaseMonth\"] = final[\"releaseDate\"].dt.month\n",
    "    \n",
    "    # Compute \"releaseDiff\" column and fill missing values in \"releaseDiff\" and (optional) replace outliers\n",
    "    final[\"releaseDiff\"] = (final[\"releaseDateStreaming\"] - final[\"releaseDateTheaters\"]) / np.timedelta64(1, 'D')\n",
    "    final[\"releaseDiff\"] = final[\"releaseDiff\"].apply(lambda x: abs(x))\n",
    "    final[\"releaseDiff\"] = final[\"releaseDiff\"].fillna(value=0)\n",
    "#     final[\"releaseDiff\"] = final[\"releaseDiff\"].fillna(final[\"releaseDiff\"].median())\n",
    "    # median = final[\"releaseDiff\"].describe()['50%']\n",
    "    # iqr = final[\"releaseDiff\"].describe()['75%'] - final[\"releaseDiff\"].describe()['25%']\n",
    "    # ll = median - (1.5*iqr)\n",
    "    # ul = median + (1.5*iqr)\n",
    "    # final.loc[final[\"releaseDiff\"] > ul, \"releaseDiff\"] = median\n",
    "    # final.loc[final[\"releaseDiff\"] < ll, \"releaseDiff\"] = median\n",
    "    \n",
    "#     # Create new feature columns\n",
    "    \n",
    "#     # Convert audienceScore to categories  \n",
    "#     num_bins_as = 20\n",
    "#     final[\"audScoreBins\"] = pd.cut(final['audienceScore'], bins=num_bins_as, labels=False)\n",
    "    \n",
    "#     # Convert runtimeMinutes to categories  \n",
    "# #     num_bins_rt = 20\n",
    "#     final[\"runtimeBins\"] = pd.cut(final['runtimeMinutes'], bins=[0,75,120,180,565], labels=[4,3,2,1])\n",
    "    \n",
    "#     # Convert boxOffice to categories  \n",
    "#     num_bins_bo = 5\n",
    "#     final[\"boxOfficeBins\"] = pd.cut(final['boxOffice'], bins=num_bins_bo, labels=False)\n",
    "    \n",
    "#     # Convert releaseDiff to categories  \n",
    "#     num_bins_rd = 5\n",
    "#     final[\"releaseDiffBins\"] = pd.cut(final['releaseDiff'], bins=[-1, 180, 360, 1000, 40000], labels=[0, 1, 2, 3])\n",
    "\n",
    "    return final"
   ]
  },
  {
   "cell_type": "code",
   "execution_count": 31,
   "id": "ed033f96",
   "metadata": {
    "execution": {
     "iopub.execute_input": "2023-08-13T08:27:58.854410Z",
     "iopub.status.busy": "2023-08-13T08:27:58.853798Z",
     "iopub.status.idle": "2023-08-13T08:27:58.860726Z",
     "shell.execute_reply": "2023-08-13T08:27:58.859555Z"
    },
    "papermill": {
     "duration": 0.110604,
     "end_time": "2023-08-13T08:27:58.862862",
     "exception": false,
     "start_time": "2023-08-13T08:27:58.752258",
     "status": "completed"
    },
    "tags": []
   },
   "outputs": [],
   "source": [
    "def split_train_predict(features, labels, pipeline, test_size=0.25, random_state=42):\n",
    "    # cols = features.columns\n",
    "    if len(features.shape) == 1:\n",
    "        features = features.to_numpy().reshape(-1, 1)  # reshape to 2D array\n",
    "    features = pd.DataFrame(features)\n",
    "    X_train, X_test, y_train, y_test = train_test_split(features, labels, test_size=test_size, random_state=random_state)\n",
    "    pipeline.fit(X_train, y_train)\n",
    "    y_pred = pipeline.predict(X_test)\n",
    "    print(classification_report(y_test, y_pred))\n",
    "    print(confusion_matrix(y_test, y_pred))\n",
    "    return pipeline"
   ]
  },
  {
   "cell_type": "markdown",
   "id": "ee496a34",
   "metadata": {
    "papermill": {
     "duration": 0.099685,
     "end_time": "2023-08-13T08:27:59.061704",
     "exception": false,
     "start_time": "2023-08-13T08:27:58.962019",
     "status": "completed"
    },
    "tags": []
   },
   "source": [
    "### Merge \"train.csv\" file with \"movies.csv\" file  "
   ]
  },
  {
   "cell_type": "code",
   "execution_count": 32,
   "id": "db0e91b7",
   "metadata": {
    "execution": {
     "iopub.execute_input": "2023-08-13T08:27:59.262827Z",
     "iopub.status.busy": "2023-08-13T08:27:59.262392Z",
     "iopub.status.idle": "2023-08-13T08:28:13.668590Z",
     "shell.execute_reply": "2023-08-13T08:28:13.667437Z"
    },
    "papermill": {
     "duration": 14.50975,
     "end_time": "2023-08-13T08:28:13.671493",
     "exception": false,
     "start_time": "2023-08-13T08:27:59.161743",
     "status": "completed"
    },
    "tags": []
   },
   "outputs": [],
   "source": [
    "merged = select_features(load_csv(\"train\"), load_csv(\"movies\"), row_thresh_null=None)"
   ]
  },
  {
   "cell_type": "code",
   "execution_count": 33,
   "id": "ed2eca38",
   "metadata": {
    "execution": {
     "iopub.execute_input": "2023-08-13T08:28:13.899524Z",
     "iopub.status.busy": "2023-08-13T08:28:13.899111Z",
     "iopub.status.idle": "2023-08-13T08:28:15.359419Z",
     "shell.execute_reply": "2023-08-13T08:28:15.357592Z"
    },
    "papermill": {
     "duration": 1.577984,
     "end_time": "2023-08-13T08:28:15.362091",
     "exception": false,
     "start_time": "2023-08-13T08:28:13.784107",
     "status": "completed"
    },
    "tags": []
   },
   "outputs": [
    {
     "name": "stdout",
     "output_type": "stream",
     "text": [
      "Shape of the dataframe: (162758, 26)\n",
      "\n",
      "Columns in the dataframe:\n",
      "Index(['movieid', 'reviewerName', 'isFrequentReviewer', 'reviewText',\n",
      "       'sentiment', 'title', 'audienceScore', 'rating', 'ratingContents',\n",
      "       'releaseDateTheaters', 'releaseDateStreaming', 'runtimeMinutes',\n",
      "       'genre', 'originalLanguage', 'director', 'boxOffice', 'distributor',\n",
      "       'soundType', 'reviewYN', 'reviewWC', 'genreSorted', 'rcSorted',\n",
      "       'releaseDate', 'releaseYear', 'releaseMonth', 'releaseDiff'],\n",
      "      dtype='object')\n",
      "\n",
      "<class 'pandas.core.frame.DataFrame'>\n",
      "Int64Index: 162758 entries, 0 to 162757\n",
      "Data columns (total 26 columns):\n",
      " #   Column                Non-Null Count   Dtype         \n",
      "---  ------                --------------   -----         \n",
      " 0   movieid               162758 non-null  object        \n",
      " 1   reviewerName          162758 non-null  object        \n",
      " 2   isFrequentReviewer    162758 non-null  bool          \n",
      " 3   reviewText            162758 non-null  object        \n",
      " 4   sentiment             162758 non-null  object        \n",
      " 5   title                 162758 non-null  object        \n",
      " 6   audienceScore         159922 non-null  float64       \n",
      " 7   rating                162758 non-null  object        \n",
      " 8   ratingContents        162758 non-null  object        \n",
      " 9   releaseDateTheaters   146403 non-null  datetime64[ns]\n",
      " 10  releaseDateStreaming  157353 non-null  datetime64[ns]\n",
      " 11  runtimeMinutes        162016 non-null  float64       \n",
      " 12  genre                 162758 non-null  object        \n",
      " 13  originalLanguage      162758 non-null  object        \n",
      " 14  director              162758 non-null  object        \n",
      " 15  boxOffice             130581 non-null  float64       \n",
      " 16  distributor           162758 non-null  object        \n",
      " 17  soundType             93466 non-null   object        \n",
      " 18  reviewYN              162758 non-null  int64         \n",
      " 19  reviewWC              162758 non-null  int64         \n",
      " 20  genreSorted           162758 non-null  object        \n",
      " 21  rcSorted              162758 non-null  object        \n",
      " 22  releaseDate           143073 non-null  datetime64[ns]\n",
      " 23  releaseYear           143073 non-null  float64       \n",
      " 24  releaseMonth          143073 non-null  float64       \n",
      " 25  releaseDiff           162758 non-null  float64       \n",
      "dtypes: bool(1), datetime64[ns](3), float64(6), int64(2), object(14)\n",
      "memory usage: 32.4+ MB\n",
      "None\n",
      "\n",
      "Missing values:\n",
      "movieid                     0\n",
      "reviewerName                0\n",
      "isFrequentReviewer          0\n",
      "reviewText                  0\n",
      "sentiment                   0\n",
      "title                       0\n",
      "audienceScore            2836\n",
      "rating                      0\n",
      "ratingContents              0\n",
      "releaseDateTheaters     16355\n",
      "releaseDateStreaming     5405\n",
      "runtimeMinutes            742\n",
      "genre                       0\n",
      "originalLanguage            0\n",
      "director                    0\n",
      "boxOffice               32177\n",
      "distributor                 0\n",
      "soundType               69292\n",
      "reviewYN                    0\n",
      "reviewWC                    0\n",
      "genreSorted                 0\n",
      "rcSorted                    0\n",
      "releaseDate             19685\n",
      "releaseYear             19685\n",
      "releaseMonth            19685\n",
      "releaseDiff                 0\n",
      "dtype: int64\n"
     ]
    }
   ],
   "source": [
    "inspect(merged)    # Note missing values in ['audienceScore', 'runtimeMinutes', 'boxOffice'] columns  "
   ]
  },
  {
   "cell_type": "code",
   "execution_count": 34,
   "id": "cb023a4a",
   "metadata": {
    "execution": {
     "iopub.execute_input": "2023-08-13T08:28:15.564222Z",
     "iopub.status.busy": "2023-08-13T08:28:15.563573Z",
     "iopub.status.idle": "2023-08-13T08:28:15.652568Z",
     "shell.execute_reply": "2023-08-13T08:28:15.651458Z"
    },
    "papermill": {
     "duration": 0.19332,
     "end_time": "2023-08-13T08:28:15.655093",
     "exception": false,
     "start_time": "2023-08-13T08:28:15.461773",
     "status": "completed"
    },
    "tags": []
   },
   "outputs": [
    {
     "data": {
      "text/plain": [
       "array([6.80e+01, 1.04e+02, 1.43e+07])"
      ]
     },
     "execution_count": 34,
     "metadata": {},
     "output_type": "execute_result"
    }
   ],
   "source": [
    "# Simple Imputer for ['audienceScore', 'runtimeMinutes', 'boxOffice'] columns\n",
    "si = SimpleImputer(strategy='median')\n",
    "merged[['audienceScore', 'runtimeMinutes', 'boxOffice']] = si.fit_transform(merged[['audienceScore', 'runtimeMinutes', 'boxOffice']])\n",
    "si.statistics_"
   ]
  },
  {
   "cell_type": "code",
   "execution_count": 35,
   "id": "908772f0",
   "metadata": {
    "execution": {
     "iopub.execute_input": "2023-08-13T08:28:15.864629Z",
     "iopub.status.busy": "2023-08-13T08:28:15.864178Z",
     "iopub.status.idle": "2023-08-13T08:28:15.878076Z",
     "shell.execute_reply": "2023-08-13T08:28:15.876940Z"
    },
    "papermill": {
     "duration": 0.123026,
     "end_time": "2023-08-13T08:28:15.880876",
     "exception": false,
     "start_time": "2023-08-13T08:28:15.757850",
     "status": "completed"
    },
    "tags": []
   },
   "outputs": [],
   "source": [
    "# Fill 'releaseDate' column with median  \n",
    "merged['releaseDate'] = merged[\"releaseDate\"].fillna(merged[\"releaseDate\"].median())"
   ]
  },
  {
   "cell_type": "code",
   "execution_count": 36,
   "id": "17ff87f4",
   "metadata": {
    "execution": {
     "iopub.execute_input": "2023-08-13T08:28:16.085405Z",
     "iopub.status.busy": "2023-08-13T08:28:16.084635Z",
     "iopub.status.idle": "2023-08-13T08:28:17.536408Z",
     "shell.execute_reply": "2023-08-13T08:28:17.535318Z"
    },
    "papermill": {
     "duration": 1.557359,
     "end_time": "2023-08-13T08:28:17.538830",
     "exception": false,
     "start_time": "2023-08-13T08:28:15.981471",
     "status": "completed"
    },
    "tags": []
   },
   "outputs": [
    {
     "name": "stdout",
     "output_type": "stream",
     "text": [
      "Shape of the dataframe: (162758, 26)\n",
      "\n",
      "Columns in the dataframe:\n",
      "Index(['movieid', 'reviewerName', 'isFrequentReviewer', 'reviewText',\n",
      "       'sentiment', 'title', 'audienceScore', 'rating', 'ratingContents',\n",
      "       'releaseDateTheaters', 'releaseDateStreaming', 'runtimeMinutes',\n",
      "       'genre', 'originalLanguage', 'director', 'boxOffice', 'distributor',\n",
      "       'soundType', 'reviewYN', 'reviewWC', 'genreSorted', 'rcSorted',\n",
      "       'releaseDate', 'releaseYear', 'releaseMonth', 'releaseDiff'],\n",
      "      dtype='object')\n",
      "\n",
      "<class 'pandas.core.frame.DataFrame'>\n",
      "Int64Index: 162758 entries, 0 to 162757\n",
      "Data columns (total 26 columns):\n",
      " #   Column                Non-Null Count   Dtype         \n",
      "---  ------                --------------   -----         \n",
      " 0   movieid               162758 non-null  object        \n",
      " 1   reviewerName          162758 non-null  object        \n",
      " 2   isFrequentReviewer    162758 non-null  bool          \n",
      " 3   reviewText            162758 non-null  object        \n",
      " 4   sentiment             162758 non-null  object        \n",
      " 5   title                 162758 non-null  object        \n",
      " 6   audienceScore         162758 non-null  float64       \n",
      " 7   rating                162758 non-null  object        \n",
      " 8   ratingContents        162758 non-null  object        \n",
      " 9   releaseDateTheaters   146403 non-null  datetime64[ns]\n",
      " 10  releaseDateStreaming  157353 non-null  datetime64[ns]\n",
      " 11  runtimeMinutes        162758 non-null  float64       \n",
      " 12  genre                 162758 non-null  object        \n",
      " 13  originalLanguage      162758 non-null  object        \n",
      " 14  director              162758 non-null  object        \n",
      " 15  boxOffice             162758 non-null  float64       \n",
      " 16  distributor           162758 non-null  object        \n",
      " 17  soundType             93466 non-null   object        \n",
      " 18  reviewYN              162758 non-null  int64         \n",
      " 19  reviewWC              162758 non-null  int64         \n",
      " 20  genreSorted           162758 non-null  object        \n",
      " 21  rcSorted              162758 non-null  object        \n",
      " 22  releaseDate           162758 non-null  datetime64[ns]\n",
      " 23  releaseYear           143073 non-null  float64       \n",
      " 24  releaseMonth          143073 non-null  float64       \n",
      " 25  releaseDiff           162758 non-null  float64       \n",
      "dtypes: bool(1), datetime64[ns](3), float64(6), int64(2), object(14)\n",
      "memory usage: 32.4+ MB\n",
      "None\n",
      "\n",
      "Missing values:\n",
      "movieid                     0\n",
      "reviewerName                0\n",
      "isFrequentReviewer          0\n",
      "reviewText                  0\n",
      "sentiment                   0\n",
      "title                       0\n",
      "audienceScore               0\n",
      "rating                      0\n",
      "ratingContents              0\n",
      "releaseDateTheaters     16355\n",
      "releaseDateStreaming     5405\n",
      "runtimeMinutes              0\n",
      "genre                       0\n",
      "originalLanguage            0\n",
      "director                    0\n",
      "boxOffice                   0\n",
      "distributor                 0\n",
      "soundType               69292\n",
      "reviewYN                    0\n",
      "reviewWC                    0\n",
      "genreSorted                 0\n",
      "rcSorted                    0\n",
      "releaseDate                 0\n",
      "releaseYear             19685\n",
      "releaseMonth            19685\n",
      "releaseDiff                 0\n",
      "dtype: int64\n"
     ]
    }
   ],
   "source": [
    "# Check out 'merged' df after imputation  \n",
    "inspect(merged)"
   ]
  },
  {
   "cell_type": "code",
   "execution_count": 37,
   "id": "6fed6ba6",
   "metadata": {
    "execution": {
     "iopub.execute_input": "2023-08-13T08:28:17.740953Z",
     "iopub.status.busy": "2023-08-13T08:28:17.740578Z",
     "iopub.status.idle": "2023-08-13T08:28:17.795165Z",
     "shell.execute_reply": "2023-08-13T08:28:17.794101Z"
    },
    "papermill": {
     "duration": 0.158572,
     "end_time": "2023-08-13T08:28:17.797570",
     "exception": false,
     "start_time": "2023-08-13T08:28:17.638998",
     "status": "completed"
    },
    "tags": []
   },
   "outputs": [
    {
     "data": {
      "text/html": [
       "<div>\n",
       "<style scoped>\n",
       "    .dataframe tbody tr th:only-of-type {\n",
       "        vertical-align: middle;\n",
       "    }\n",
       "\n",
       "    .dataframe tbody tr th {\n",
       "        vertical-align: top;\n",
       "    }\n",
       "\n",
       "    .dataframe thead th {\n",
       "        text-align: right;\n",
       "    }\n",
       "</style>\n",
       "<table border=\"1\" class=\"dataframe\">\n",
       "  <thead>\n",
       "    <tr style=\"text-align: right;\">\n",
       "      <th></th>\n",
       "      <th>audienceScore</th>\n",
       "      <th>runtimeMinutes</th>\n",
       "      <th>boxOffice</th>\n",
       "    </tr>\n",
       "  </thead>\n",
       "  <tbody>\n",
       "    <tr>\n",
       "      <th>count</th>\n",
       "      <td>162758.000000</td>\n",
       "      <td>162758.000000</td>\n",
       "      <td>1.627580e+05</td>\n",
       "    </tr>\n",
       "    <tr>\n",
       "      <th>mean</th>\n",
       "      <td>65.062565</td>\n",
       "      <td>106.992019</td>\n",
       "      <td>4.160983e+07</td>\n",
       "    </tr>\n",
       "    <tr>\n",
       "      <th>std</th>\n",
       "      <td>19.844000</td>\n",
       "      <td>22.203778</td>\n",
       "      <td>7.932291e+07</td>\n",
       "    </tr>\n",
       "    <tr>\n",
       "      <th>min</th>\n",
       "      <td>0.000000</td>\n",
       "      <td>4.000000</td>\n",
       "      <td>0.000000e+00</td>\n",
       "    </tr>\n",
       "    <tr>\n",
       "      <th>25%</th>\n",
       "      <td>51.000000</td>\n",
       "      <td>93.000000</td>\n",
       "      <td>2.000000e+06</td>\n",
       "    </tr>\n",
       "    <tr>\n",
       "      <th>50%</th>\n",
       "      <td>68.000000</td>\n",
       "      <td>104.000000</td>\n",
       "      <td>1.430000e+07</td>\n",
       "    </tr>\n",
       "    <tr>\n",
       "      <th>75%</th>\n",
       "      <td>81.000000</td>\n",
       "      <td>118.000000</td>\n",
       "      <td>4.200000e+07</td>\n",
       "    </tr>\n",
       "    <tr>\n",
       "      <th>max</th>\n",
       "      <td>100.000000</td>\n",
       "      <td>561.000000</td>\n",
       "      <td>8.584000e+08</td>\n",
       "    </tr>\n",
       "  </tbody>\n",
       "</table>\n",
       "</div>"
      ],
      "text/plain": [
       "       audienceScore  runtimeMinutes     boxOffice\n",
       "count  162758.000000   162758.000000  1.627580e+05\n",
       "mean       65.062565      106.992019  4.160983e+07\n",
       "std        19.844000       22.203778  7.932291e+07\n",
       "min         0.000000        4.000000  0.000000e+00\n",
       "25%        51.000000       93.000000  2.000000e+06\n",
       "50%        68.000000      104.000000  1.430000e+07\n",
       "75%        81.000000      118.000000  4.200000e+07\n",
       "max       100.000000      561.000000  8.584000e+08"
      ]
     },
     "execution_count": 37,
     "metadata": {},
     "output_type": "execute_result"
    }
   ],
   "source": [
    "merged[['audienceScore', 'runtimeMinutes', 'boxOffice']].describe()"
   ]
  },
  {
   "cell_type": "markdown",
   "id": "91b507d5",
   "metadata": {
    "papermill": {
     "duration": 0.101829,
     "end_time": "2023-08-13T08:28:18.065691",
     "exception": false,
     "start_time": "2023-08-13T08:28:17.963862",
     "status": "completed"
    },
    "tags": []
   },
   "source": [
    "### EDA audienceScore  "
   ]
  },
  {
   "cell_type": "code",
   "execution_count": 38,
   "id": "b781f72b",
   "metadata": {
    "execution": {
     "iopub.execute_input": "2023-08-13T08:28:18.270294Z",
     "iopub.status.busy": "2023-08-13T08:28:18.269575Z",
     "iopub.status.idle": "2023-08-13T08:28:18.655329Z",
     "shell.execute_reply": "2023-08-13T08:28:18.654207Z"
    },
    "papermill": {
     "duration": 0.490198,
     "end_time": "2023-08-13T08:28:18.657757",
     "exception": false,
     "start_time": "2023-08-13T08:28:18.167559",
     "status": "completed"
    },
    "tags": []
   },
   "outputs": [
    {
     "data": {
      "text/plain": [
       "<Axes: xlabel='sentiment', ylabel='audienceScore'>"
      ]
     },
     "execution_count": 38,
     "metadata": {},
     "output_type": "execute_result"
    },
    {
     "data": {
      "image/png": "[encoded data removed]",
      "text/plain": [
       "<Figure size 640x480 with 1 Axes>"
      ]
     },
     "metadata": {},
     "output_type": "display_data"
    }
   ],
   "source": [
    "sns.boxplot(y=merged[\"audienceScore\"], x=merged[\"sentiment\"])"
   ]
  },
  {
   "cell_type": "code",
   "execution_count": 39,
   "id": "fab06ddc",
   "metadata": {
    "execution": {
     "iopub.execute_input": "2023-08-13T08:28:18.867727Z",
     "iopub.status.busy": "2023-08-13T08:28:18.867027Z",
     "iopub.status.idle": "2023-08-13T08:28:18.914840Z",
     "shell.execute_reply": "2023-08-13T08:28:18.914097Z"
    },
    "papermill": {
     "duration": 0.157144,
     "end_time": "2023-08-13T08:28:18.916922",
     "exception": false,
     "start_time": "2023-08-13T08:28:18.759778",
     "status": "completed"
    },
    "tags": []
   },
   "outputs": [
    {
     "data": {
      "text/html": [
       "<div>\n",
       "<style scoped>\n",
       "    .dataframe tbody tr th:only-of-type {\n",
       "        vertical-align: middle;\n",
       "    }\n",
       "\n",
       "    .dataframe tbody tr th {\n",
       "        vertical-align: top;\n",
       "    }\n",
       "\n",
       "    .dataframe thead th {\n",
       "        text-align: right;\n",
       "    }\n",
       "</style>\n",
       "<table border=\"1\" class=\"dataframe\">\n",
       "  <thead>\n",
       "    <tr style=\"text-align: right;\">\n",
       "      <th></th>\n",
       "      <th>count</th>\n",
       "      <th>mean</th>\n",
       "      <th>std</th>\n",
       "      <th>min</th>\n",
       "      <th>25%</th>\n",
       "      <th>50%</th>\n",
       "      <th>75%</th>\n",
       "      <th>max</th>\n",
       "    </tr>\n",
       "    <tr>\n",
       "      <th>sentiment</th>\n",
       "      <th></th>\n",
       "      <th></th>\n",
       "      <th></th>\n",
       "      <th></th>\n",
       "      <th></th>\n",
       "      <th></th>\n",
       "      <th></th>\n",
       "      <th></th>\n",
       "    </tr>\n",
       "  </thead>\n",
       "  <tbody>\n",
       "    <tr>\n",
       "      <th>NEGATIVE</th>\n",
       "      <td>53997.0</td>\n",
       "      <td>56.474786</td>\n",
       "      <td>19.902115</td>\n",
       "      <td>0.0</td>\n",
       "      <td>41.0</td>\n",
       "      <td>57.0</td>\n",
       "      <td>72.0</td>\n",
       "      <td>100.0</td>\n",
       "    </tr>\n",
       "    <tr>\n",
       "      <th>POSITIVE</th>\n",
       "      <td>108761.0</td>\n",
       "      <td>69.326174</td>\n",
       "      <td>18.380626</td>\n",
       "      <td>0.0</td>\n",
       "      <td>58.0</td>\n",
       "      <td>73.0</td>\n",
       "      <td>84.0</td>\n",
       "      <td>100.0</td>\n",
       "    </tr>\n",
       "  </tbody>\n",
       "</table>\n",
       "</div>"
      ],
      "text/plain": [
       "              count       mean        std  min   25%   50%   75%    max\n",
       "sentiment                                                              \n",
       "NEGATIVE    53997.0  56.474786  19.902115  0.0  41.0  57.0  72.0  100.0\n",
       "POSITIVE   108761.0  69.326174  18.380626  0.0  58.0  73.0  84.0  100.0"
      ]
     },
     "execution_count": 39,
     "metadata": {},
     "output_type": "execute_result"
    }
   ],
   "source": [
    "merged.groupby('sentiment')['audienceScore'].describe()"
   ]
  },
  {
   "cell_type": "code",
   "execution_count": 40,
   "id": "5c42195e",
   "metadata": {
    "execution": {
     "iopub.execute_input": "2023-08-13T08:28:19.125564Z",
     "iopub.status.busy": "2023-08-13T08:28:19.124568Z",
     "iopub.status.idle": "2023-08-13T08:28:19.184672Z",
     "shell.execute_reply": "2023-08-13T08:28:19.183370Z"
    },
    "papermill": {
     "duration": 0.168337,
     "end_time": "2023-08-13T08:28:19.187439",
     "exception": false,
     "start_time": "2023-08-13T08:28:19.019102",
     "status": "completed"
    },
    "tags": []
   },
   "outputs": [
    {
     "data": {
      "text/plain": [
       "(162758, 26)"
      ]
     },
     "execution_count": 40,
     "metadata": {},
     "output_type": "execute_result"
    }
   ],
   "source": [
    "merged.loc[merged['audienceScore'] >= 0].shape"
   ]
  },
  {
   "cell_type": "markdown",
   "id": "f64dbd04",
   "metadata": {
    "papermill": {
     "duration": 0.102887,
     "end_time": "2023-08-13T08:28:19.394827",
     "exception": false,
     "start_time": "2023-08-13T08:28:19.291940",
     "status": "completed"
    },
    "tags": []
   },
   "source": [
    "### EDA releaseDiff  "
   ]
  },
  {
   "cell_type": "code",
   "execution_count": 41,
   "id": "0276a743",
   "metadata": {
    "execution": {
     "iopub.execute_input": "2023-08-13T08:28:19.601080Z",
     "iopub.status.busy": "2023-08-13T08:28:19.600657Z",
     "iopub.status.idle": "2023-08-13T08:28:19.619261Z",
     "shell.execute_reply": "2023-08-13T08:28:19.618286Z"
    },
    "papermill": {
     "duration": 0.124069,
     "end_time": "2023-08-13T08:28:19.621294",
     "exception": false,
     "start_time": "2023-08-13T08:28:19.497225",
     "status": "completed"
    },
    "tags": []
   },
   "outputs": [
    {
     "data": {
      "text/plain": [
       "count    162758.000000\n",
       "mean       1653.469015\n",
       "std        4581.420922\n",
       "min           0.000000\n",
       "25%          65.000000\n",
       "50%         116.000000\n",
       "75%         375.000000\n",
       "max       38922.000000\n",
       "Name: releaseDiff, dtype: float64"
      ]
     },
     "execution_count": 41,
     "metadata": {},
     "output_type": "execute_result"
    }
   ],
   "source": [
    "# abs values\n",
    "merged[\"releaseDiff\"].describe()"
   ]
  },
  {
   "cell_type": "code",
   "execution_count": 42,
   "id": "5cbcbc50",
   "metadata": {
    "execution": {
     "iopub.execute_input": "2023-08-13T08:28:19.826943Z",
     "iopub.status.busy": "2023-08-13T08:28:19.826112Z",
     "iopub.status.idle": "2023-08-13T08:28:19.830414Z",
     "shell.execute_reply": "2023-08-13T08:28:19.829385Z"
    },
    "papermill": {
     "duration": 0.109619,
     "end_time": "2023-08-13T08:28:19.832496",
     "exception": false,
     "start_time": "2023-08-13T08:28:19.722877",
     "status": "completed"
    },
    "tags": []
   },
   "outputs": [],
   "source": [
    "# merged['releaseDiffBins'].value_counts()"
   ]
  },
  {
   "cell_type": "code",
   "execution_count": 43,
   "id": "a9e6a9b8",
   "metadata": {
    "execution": {
     "iopub.execute_input": "2023-08-13T08:28:20.043320Z",
     "iopub.status.busy": "2023-08-13T08:28:20.042861Z",
     "iopub.status.idle": "2023-08-13T08:28:20.417261Z",
     "shell.execute_reply": "2023-08-13T08:28:20.416118Z"
    },
    "papermill": {
     "duration": 0.48234,
     "end_time": "2023-08-13T08:28:20.419544",
     "exception": false,
     "start_time": "2023-08-13T08:28:19.937204",
     "status": "completed"
    },
    "tags": []
   },
   "outputs": [
    {
     "data": {
      "text/plain": [
       "<Axes: xlabel='sentiment', ylabel='releaseDiff'>"
      ]
     },
     "execution_count": 43,
     "metadata": {},
     "output_type": "execute_result"
    },
    {
     "data": {
      "image/png": "[encoded data removed]",
      "text/plain": [
       "<Figure size 640x480 with 1 Axes>"
      ]
     },
     "metadata": {},
     "output_type": "display_data"
    }
   ],
   "source": [
    "sns.boxplot(x=merged['sentiment'], y=merged['releaseDiff'], showfliers=False)"
   ]
  },
  {
   "cell_type": "code",
   "execution_count": 44,
   "id": "80f2c41c",
   "metadata": {
    "execution": {
     "iopub.execute_input": "2023-08-13T08:28:20.626060Z",
     "iopub.status.busy": "2023-08-13T08:28:20.625376Z",
     "iopub.status.idle": "2023-08-13T08:28:20.629411Z",
     "shell.execute_reply": "2023-08-13T08:28:20.628449Z"
    },
    "papermill": {
     "duration": 0.109641,
     "end_time": "2023-08-13T08:28:20.631472",
     "exception": false,
     "start_time": "2023-08-13T08:28:20.521831",
     "status": "completed"
    },
    "tags": []
   },
   "outputs": [],
   "source": [
    "# sns.displot(merged['releaseDiffBins'])"
   ]
  },
  {
   "cell_type": "code",
   "execution_count": 45,
   "id": "4fbc6904",
   "metadata": {
    "execution": {
     "iopub.execute_input": "2023-08-13T08:28:20.839661Z",
     "iopub.status.busy": "2023-08-13T08:28:20.838932Z",
     "iopub.status.idle": "2023-08-13T08:28:20.842793Z",
     "shell.execute_reply": "2023-08-13T08:28:20.842056Z"
    },
    "papermill": {
     "duration": 0.111079,
     "end_time": "2023-08-13T08:28:20.844763",
     "exception": false,
     "start_time": "2023-08-13T08:28:20.733684",
     "status": "completed"
    },
    "tags": []
   },
   "outputs": [],
   "source": [
    "# merged['sentiment'].loc[merged['releaseDiffBins'] > 0].value_counts()"
   ]
  },
  {
   "cell_type": "code",
   "execution_count": 46,
   "id": "ab13025f",
   "metadata": {
    "execution": {
     "iopub.execute_input": "2023-08-13T08:28:21.054273Z",
     "iopub.status.busy": "2023-08-13T08:28:21.053596Z",
     "iopub.status.idle": "2023-08-13T08:28:21.057419Z",
     "shell.execute_reply": "2023-08-13T08:28:21.056697Z"
    },
    "papermill": {
     "duration": 0.111107,
     "end_time": "2023-08-13T08:28:21.059680",
     "exception": false,
     "start_time": "2023-08-13T08:28:20.948573",
     "status": "completed"
    },
    "tags": []
   },
   "outputs": [],
   "source": [
    "# merged['releaseDiffBins'].describe()"
   ]
  },
  {
   "cell_type": "markdown",
   "id": "a9354cfc",
   "metadata": {
    "papermill": {
     "duration": 0.102282,
     "end_time": "2023-08-13T08:28:21.264834",
     "exception": false,
     "start_time": "2023-08-13T08:28:21.162552",
     "status": "completed"
    },
    "tags": []
   },
   "source": [
    "### EDA 'distributor'  "
   ]
  },
  {
   "cell_type": "code",
   "execution_count": 47,
   "id": "c8f33ea1",
   "metadata": {
    "execution": {
     "iopub.execute_input": "2023-08-13T08:28:21.470789Z",
     "iopub.status.busy": "2023-08-13T08:28:21.470106Z",
     "iopub.status.idle": "2023-08-13T08:28:21.506059Z",
     "shell.execute_reply": "2023-08-13T08:28:21.504958Z"
    },
    "papermill": {
     "duration": 0.141672,
     "end_time": "2023-08-13T08:28:21.508479",
     "exception": false,
     "start_time": "2023-08-13T08:28:21.366807",
     "status": "completed"
    },
    "tags": []
   },
   "outputs": [
    {
     "data": {
      "text/plain": [
       "unknown                              20489\n",
       "Universal Pictures                    8847\n",
       "Warner Bros. Pictures                 8722\n",
       "Paramount Pictures                    7773\n",
       "20th Century Fox                      7007\n",
       "                                     ...  \n",
       "Almi Pictures                            1\n",
       "Koch Lorber                              1\n",
       "Magic Lamp                               1\n",
       "Fine Line Features, Miramax Films        1\n",
       "American Film Co.                        1\n",
       "Name: distributor, Length: 1796, dtype: int64"
      ]
     },
     "execution_count": 47,
     "metadata": {},
     "output_type": "execute_result"
    }
   ],
   "source": [
    "merged[\"distributor\"].value_counts()"
   ]
  },
  {
   "cell_type": "code",
   "execution_count": 48,
   "id": "5209fa82",
   "metadata": {
    "execution": {
     "iopub.execute_input": "2023-08-13T08:28:21.716245Z",
     "iopub.status.busy": "2023-08-13T08:28:21.715469Z",
     "iopub.status.idle": "2023-08-13T08:28:21.732953Z",
     "shell.execute_reply": "2023-08-13T08:28:21.731769Z"
    },
    "papermill": {
     "duration": 0.124006,
     "end_time": "2023-08-13T08:28:21.735413",
     "exception": false,
     "start_time": "2023-08-13T08:28:21.611407",
     "status": "completed"
    },
    "tags": []
   },
   "outputs": [
    {
     "data": {
      "text/plain": [
       "count    162758.000000\n",
       "mean        106.992019\n",
       "std          22.203778\n",
       "min           4.000000\n",
       "25%          93.000000\n",
       "50%         104.000000\n",
       "75%         118.000000\n",
       "max         561.000000\n",
       "Name: runtimeMinutes, dtype: float64"
      ]
     },
     "execution_count": 48,
     "metadata": {},
     "output_type": "execute_result"
    }
   ],
   "source": [
    "merged[\"runtimeMinutes\"].describe()"
   ]
  },
  {
   "cell_type": "code",
   "execution_count": 49,
   "id": "9b1b6c6b",
   "metadata": {
    "execution": {
     "iopub.execute_input": "2023-08-13T08:28:21.947484Z",
     "iopub.status.busy": "2023-08-13T08:28:21.946730Z",
     "iopub.status.idle": "2023-08-13T08:28:22.352511Z",
     "shell.execute_reply": "2023-08-13T08:28:22.351394Z"
    },
    "papermill": {
     "duration": 0.513313,
     "end_time": "2023-08-13T08:28:22.354925",
     "exception": false,
     "start_time": "2023-08-13T08:28:21.841612",
     "status": "completed"
    },
    "tags": []
   },
   "outputs": [
    {
     "data": {
      "text/plain": [
       "<Axes: xlabel='sentiment', ylabel='runtimeMinutes'>"
      ]
     },
     "execution_count": 49,
     "metadata": {},
     "output_type": "execute_result"
    },
    {
     "data": {
      "image/png": "[encoded data removed]",
      "text/plain": [
       "<Figure size 640x480 with 1 Axes>"
      ]
     },
     "metadata": {},
     "output_type": "display_data"
    }
   ],
   "source": [
    "sns.boxplot(y=merged[\"runtimeMinutes\"], x=merged[\"sentiment\"])"
   ]
  },
  {
   "cell_type": "code",
   "execution_count": 50,
   "id": "8c4d0034",
   "metadata": {
    "execution": {
     "iopub.execute_input": "2023-08-13T08:28:22.563975Z",
     "iopub.status.busy": "2023-08-13T08:28:22.563569Z",
     "iopub.status.idle": "2023-08-13T08:28:22.567663Z",
     "shell.execute_reply": "2023-08-13T08:28:22.566583Z"
    },
    "papermill": {
     "duration": 0.111647,
     "end_time": "2023-08-13T08:28:22.570217",
     "exception": false,
     "start_time": "2023-08-13T08:28:22.458570",
     "status": "completed"
    },
    "tags": []
   },
   "outputs": [],
   "source": [
    "# print(merged[\"boxOfficeBins\"].value_counts())\n",
    "# sns.displot(merged[\"boxOfficeBins\"])"
   ]
  },
  {
   "cell_type": "code",
   "execution_count": 51,
   "id": "4ccbb9e1",
   "metadata": {
    "execution": {
     "iopub.execute_input": "2023-08-13T08:28:22.784021Z",
     "iopub.status.busy": "2023-08-13T08:28:22.783240Z",
     "iopub.status.idle": "2023-08-13T08:28:22.791011Z",
     "shell.execute_reply": "2023-08-13T08:28:22.790299Z"
    },
    "papermill": {
     "duration": 0.116999,
     "end_time": "2023-08-13T08:28:22.793054",
     "exception": false,
     "start_time": "2023-08-13T08:28:22.676055",
     "status": "completed"
    },
    "tags": []
   },
   "outputs": [
    {
     "data": {
      "text/plain": [
       "0    Henry Selick’s first movie since ’s Coraline. ...\n",
       "1    With a cast that reads like the Vogue Oscar pa...\n",
       "2    Creed II does not give us anything but another...\n",
       "3    I know what you're thinking, but this is no Li...\n",
       "4    Director Fernando Meirelles tells the story wi...\n",
       "Name: reviewText, dtype: object"
      ]
     },
     "execution_count": 51,
     "metadata": {},
     "output_type": "execute_result"
    }
   ],
   "source": [
    "merged[\"reviewText\"].head()"
   ]
  },
  {
   "cell_type": "code",
   "execution_count": 52,
   "id": "dd50bf17",
   "metadata": {
    "execution": {
     "iopub.execute_input": "2023-08-13T08:28:23.006248Z",
     "iopub.status.busy": "2023-08-13T08:28:23.005483Z",
     "iopub.status.idle": "2023-08-13T08:28:23.011911Z",
     "shell.execute_reply": "2023-08-13T08:28:23.011107Z"
    },
    "papermill": {
     "duration": 0.114846,
     "end_time": "2023-08-13T08:28:23.013946",
     "exception": false,
     "start_time": "2023-08-13T08:28:22.899100",
     "status": "completed"
    },
    "tags": []
   },
   "outputs": [
    {
     "data": {
      "text/plain": [
       "6447"
      ]
     },
     "execution_count": 52,
     "metadata": {},
     "output_type": "execute_result"
    }
   ],
   "source": [
    "merged[\"reviewYN\"].sum()"
   ]
  },
  {
   "cell_type": "code",
   "execution_count": 53,
   "id": "5df5e0c0",
   "metadata": {
    "execution": {
     "iopub.execute_input": "2023-08-13T08:28:23.231354Z",
     "iopub.status.busy": "2023-08-13T08:28:23.230754Z",
     "iopub.status.idle": "2023-08-13T08:28:23.237955Z",
     "shell.execute_reply": "2023-08-13T08:28:23.237110Z"
    },
    "papermill": {
     "duration": 0.120495,
     "end_time": "2023-08-13T08:28:23.240020",
     "exception": false,
     "start_time": "2023-08-13T08:28:23.119525",
     "status": "completed"
    },
    "tags": []
   },
   "outputs": [
    {
     "data": {
      "text/plain": [
       "0    11\n",
       "1    24\n",
       "2    22\n",
       "3    34\n",
       "4    20\n",
       "Name: reviewWC, dtype: int64"
      ]
     },
     "execution_count": 53,
     "metadata": {},
     "output_type": "execute_result"
    }
   ],
   "source": [
    "merged[\"reviewWC\"].head()"
   ]
  },
  {
   "cell_type": "code",
   "execution_count": 54,
   "id": "750d5116",
   "metadata": {
    "execution": {
     "iopub.execute_input": "2023-08-13T08:28:23.449598Z",
     "iopub.status.busy": "2023-08-13T08:28:23.449170Z",
     "iopub.status.idle": "2023-08-13T08:28:23.466242Z",
     "shell.execute_reply": "2023-08-13T08:28:23.465063Z"
    },
    "papermill": {
     "duration": 0.124742,
     "end_time": "2023-08-13T08:28:23.468785",
     "exception": false,
     "start_time": "2023-08-13T08:28:23.344043",
     "status": "completed"
    },
    "tags": []
   },
   "outputs": [
    {
     "data": {
      "text/plain": [
       "count    162758.000000\n",
       "mean         21.013707\n",
       "std          10.216532\n",
       "min           1.000000\n",
       "25%          14.000000\n",
       "50%          21.000000\n",
       "75%          28.000000\n",
       "max          54.000000\n",
       "Name: reviewWC, dtype: float64"
      ]
     },
     "execution_count": 54,
     "metadata": {},
     "output_type": "execute_result"
    }
   ],
   "source": [
    "merged[\"reviewWC\"].describe()"
   ]
  },
  {
   "cell_type": "code",
   "execution_count": 55,
   "id": "ce9c9622",
   "metadata": {
    "execution": {
     "iopub.execute_input": "2023-08-13T08:28:23.685809Z",
     "iopub.status.busy": "2023-08-13T08:28:23.684592Z",
     "iopub.status.idle": "2023-08-13T08:28:24.380775Z",
     "shell.execute_reply": "2023-08-13T08:28:24.379631Z"
    },
    "papermill": {
     "duration": 0.806103,
     "end_time": "2023-08-13T08:28:24.383171",
     "exception": false,
     "start_time": "2023-08-13T08:28:23.577068",
     "status": "completed"
    },
    "tags": []
   },
   "outputs": [
    {
     "data": {
      "text/plain": [
       "<Axes: xlabel='reviewWC', ylabel='Count'>"
      ]
     },
     "execution_count": 55,
     "metadata": {},
     "output_type": "execute_result"
    },
    {
     "data": {
      "image/png": "[encoded data removed]",
      "text/plain": [
       "<Figure size 640x480 with 1 Axes>"
      ]
     },
     "metadata": {},
     "output_type": "display_data"
    }
   ],
   "source": [
    "sns.histplot(merged[\"reviewWC\"])"
   ]
  },
  {
   "cell_type": "code",
   "execution_count": 56,
   "id": "535ddbdc",
   "metadata": {
    "execution": {
     "iopub.execute_input": "2023-08-13T08:28:24.655212Z",
     "iopub.status.busy": "2023-08-13T08:28:24.654412Z",
     "iopub.status.idle": "2023-08-13T08:28:24.685962Z",
     "shell.execute_reply": "2023-08-13T08:28:24.684718Z"
    },
    "papermill": {
     "duration": 0.200724,
     "end_time": "2023-08-13T08:28:24.688780",
     "exception": false,
     "start_time": "2023-08-13T08:28:24.488056",
     "status": "completed"
    },
    "tags": []
   },
   "outputs": [
    {
     "data": {
      "text/plain": [
       "R          60248\n",
       "unknown    44587\n",
       "PG-13      42697\n",
       "PG         13669\n",
       "TV14         947\n",
       "NC-17        285\n",
       "TVPG         281\n",
       "TVMA          44\n",
       "Name: rating, dtype: int64"
      ]
     },
     "execution_count": 56,
     "metadata": {},
     "output_type": "execute_result"
    }
   ],
   "source": [
    "merged['rating'].value_counts()"
   ]
  },
  {
   "cell_type": "code",
   "execution_count": 57,
   "id": "f952ab08",
   "metadata": {
    "execution": {
     "iopub.execute_input": "2023-08-13T08:28:24.905940Z",
     "iopub.status.busy": "2023-08-13T08:28:24.905241Z",
     "iopub.status.idle": "2023-08-13T08:28:24.913791Z",
     "shell.execute_reply": "2023-08-13T08:28:24.913096Z"
    },
    "papermill": {
     "duration": 0.119098,
     "end_time": "2023-08-13T08:28:24.915808",
     "exception": false,
     "start_time": "2023-08-13T08:28:24.796710",
     "status": "completed"
    },
    "tags": []
   },
   "outputs": [
    {
     "data": {
      "text/plain": [
       "False    113189\n",
       "True      49569\n",
       "Name: isFrequentReviewer, dtype: int64"
      ]
     },
     "execution_count": 57,
     "metadata": {},
     "output_type": "execute_result"
    }
   ],
   "source": [
    "merged['isFrequentReviewer'].value_counts()"
   ]
  },
  {
   "cell_type": "code",
   "execution_count": 58,
   "id": "68a74acd",
   "metadata": {
    "execution": {
     "iopub.execute_input": "2023-08-13T08:28:25.133648Z",
     "iopub.status.busy": "2023-08-13T08:28:25.132930Z",
     "iopub.status.idle": "2023-08-13T08:28:25.140710Z",
     "shell.execute_reply": "2023-08-13T08:28:25.139672Z"
    },
    "papermill": {
     "duration": 0.117045,
     "end_time": "2023-08-13T08:28:25.142829",
     "exception": false,
     "start_time": "2023-08-13T08:28:25.025784",
     "status": "completed"
    },
    "tags": []
   },
   "outputs": [
    {
     "data": {
      "text/plain": [
       "0      Benjamin Henry\n",
       "1       Felicia Lopez\n",
       "2     Charles Burgess\n",
       "3        Ryan Barrett\n",
       "4    Alexander Glover\n",
       "Name: reviewerName, dtype: object"
      ]
     },
     "execution_count": 58,
     "metadata": {},
     "output_type": "execute_result"
    }
   ],
   "source": [
    "merged[\"reviewerName\"].head()"
   ]
  },
  {
   "cell_type": "code",
   "execution_count": 59,
   "id": "2d2fa68c",
   "metadata": {
    "execution": {
     "iopub.execute_input": "2023-08-13T08:28:25.356753Z",
     "iopub.status.busy": "2023-08-13T08:28:25.356010Z",
     "iopub.status.idle": "2023-08-13T08:28:25.368251Z",
     "shell.execute_reply": "2023-08-13T08:28:25.367276Z"
    },
    "papermill": {
     "duration": 0.121169,
     "end_time": "2023-08-13T08:28:25.370464",
     "exception": false,
     "start_time": "2023-08-13T08:28:25.249295",
     "status": "completed"
    },
    "tags": []
   },
   "outputs": [
    {
     "data": {
      "text/plain": [
       "14300000.0    32327\n",
       "2000000.0       922\n",
       "1100000.0       891\n",
       "1000000.0       834\n",
       "1200000.0       802\n",
       "              ...  \n",
       "58500.0           1\n",
       "500800.0          1\n",
       "265600.0          1\n",
       "292500.0          1\n",
       "799400.0          1\n",
       "Name: boxOffice, Length: 3819, dtype: int64"
      ]
     },
     "execution_count": 59,
     "metadata": {},
     "output_type": "execute_result"
    }
   ],
   "source": [
    "merged['boxOffice'].value_counts()"
   ]
  },
  {
   "cell_type": "code",
   "execution_count": 60,
   "id": "181f8fb4",
   "metadata": {
    "execution": {
     "iopub.execute_input": "2023-08-13T08:28:25.585248Z",
     "iopub.status.busy": "2023-08-13T08:28:25.584775Z",
     "iopub.status.idle": "2023-08-13T08:28:25.589662Z",
     "shell.execute_reply": "2023-08-13T08:28:25.588597Z"
    },
    "papermill": {
     "duration": 0.114635,
     "end_time": "2023-08-13T08:28:25.592152",
     "exception": false,
     "start_time": "2023-08-13T08:28:25.477517",
     "status": "completed"
    },
    "tags": []
   },
   "outputs": [],
   "source": [
    "# Check correlation between 'boxOffice' and ''sentiment'\n",
    "# bo_df = merged.copy()\n",
    "# print(bo_df[\"boxOffice\"])\n",
    "# bo_df[\"boxOffice\"] = bo_df[\"boxOffice\"].str[1:]\n",
    "# bo_df[\"boxOffice\"] = bo_df[\"boxOffice\"].replace(to_replace={\"M\": \"*1000000\", \"K\": \"*1000\"}, regex=True)\n",
    "# bo_df[\"boxOffice\"] = bo_df[\"boxOffice\"].loc[bo_df[\"boxOffice\"].notnull()].apply(lambda x: eval(str(x)))\n",
    "# bo_df[\"boxOffice\"] = bo_df[\"boxOffice\"].fillna(bo_df[\"boxOffice\"].median())\n",
    "# bo_df[\"boxOffice\"].describe()"
   ]
  },
  {
   "cell_type": "code",
   "execution_count": 61,
   "id": "1c726ecb",
   "metadata": {
    "execution": {
     "iopub.execute_input": "2023-08-13T08:28:25.806601Z",
     "iopub.status.busy": "2023-08-13T08:28:25.805415Z",
     "iopub.status.idle": "2023-08-13T08:28:25.810593Z",
     "shell.execute_reply": "2023-08-13T08:28:25.809809Z"
    },
    "papermill": {
     "duration": 0.114752,
     "end_time": "2023-08-13T08:28:25.812711",
     "exception": false,
     "start_time": "2023-08-13T08:28:25.697959",
     "status": "completed"
    },
    "tags": []
   },
   "outputs": [],
   "source": [
    "# median = bo_df[\"boxOffice\"].describe()['50%']\n",
    "# iqr = bo_df[\"boxOffice\"].describe()['75%'] - bo_df[\"boxOffice\"].describe()['25%']\n",
    "# median, iqr"
   ]
  },
  {
   "cell_type": "code",
   "execution_count": 62,
   "id": "98add18f",
   "metadata": {
    "execution": {
     "iopub.execute_input": "2023-08-13T08:28:26.031390Z",
     "iopub.status.busy": "2023-08-13T08:28:26.030971Z",
     "iopub.status.idle": "2023-08-13T08:28:26.035289Z",
     "shell.execute_reply": "2023-08-13T08:28:26.034119Z"
    },
    "papermill": {
     "duration": 0.115215,
     "end_time": "2023-08-13T08:28:26.037581",
     "exception": false,
     "start_time": "2023-08-13T08:28:25.922366",
     "status": "completed"
    },
    "tags": []
   },
   "outputs": [],
   "source": [
    "# ll = median - (1.5*iqr)\n",
    "# ul = median + (1.5*iqr)\n",
    "# ll, ul"
   ]
  },
  {
   "cell_type": "code",
   "execution_count": 63,
   "id": "55afb970",
   "metadata": {
    "execution": {
     "iopub.execute_input": "2023-08-13T08:28:26.255034Z",
     "iopub.status.busy": "2023-08-13T08:28:26.254604Z",
     "iopub.status.idle": "2023-08-13T08:28:26.259700Z",
     "shell.execute_reply": "2023-08-13T08:28:26.258605Z"
    },
    "papermill": {
     "duration": 0.114778,
     "end_time": "2023-08-13T08:28:26.262159",
     "exception": false,
     "start_time": "2023-08-13T08:28:26.147381",
     "status": "completed"
    },
    "tags": []
   },
   "outputs": [],
   "source": [
    "# bo_df[\"boxOffice\"].mean()"
   ]
  },
  {
   "cell_type": "code",
   "execution_count": 64,
   "id": "995402e3",
   "metadata": {
    "execution": {
     "iopub.execute_input": "2023-08-13T08:28:26.475260Z",
     "iopub.status.busy": "2023-08-13T08:28:26.474823Z",
     "iopub.status.idle": "2023-08-13T08:28:26.479313Z",
     "shell.execute_reply": "2023-08-13T08:28:26.478358Z"
    },
    "papermill": {
     "duration": 0.113667,
     "end_time": "2023-08-13T08:28:26.481451",
     "exception": false,
     "start_time": "2023-08-13T08:28:26.367784",
     "status": "completed"
    },
    "tags": []
   },
   "outputs": [],
   "source": [
    "# bo_df.loc[bo_df[\"boxOffice\"] > ul, \"boxOffice\"] = median\n",
    "# bo_df[\"boxOffice\"].mean()"
   ]
  },
  {
   "cell_type": "code",
   "execution_count": 65,
   "id": "74ba9624",
   "metadata": {
    "execution": {
     "iopub.execute_input": "2023-08-13T08:28:26.694401Z",
     "iopub.status.busy": "2023-08-13T08:28:26.693969Z",
     "iopub.status.idle": "2023-08-13T08:28:26.698568Z",
     "shell.execute_reply": "2023-08-13T08:28:26.697566Z"
    },
    "papermill": {
     "duration": 0.114081,
     "end_time": "2023-08-13T08:28:26.700871",
     "exception": false,
     "start_time": "2023-08-13T08:28:26.586790",
     "status": "completed"
    },
    "tags": []
   },
   "outputs": [],
   "source": [
    "# bo_df[\"boxOffice\"].min(), bo_df[\"boxOffice\"].max()"
   ]
  },
  {
   "cell_type": "code",
   "execution_count": 66,
   "id": "f46ced32",
   "metadata": {
    "execution": {
     "iopub.execute_input": "2023-08-13T08:28:26.917799Z",
     "iopub.status.busy": "2023-08-13T08:28:26.916750Z",
     "iopub.status.idle": "2023-08-13T08:28:26.920879Z",
     "shell.execute_reply": "2023-08-13T08:28:26.920200Z"
    },
    "papermill": {
     "duration": 0.116259,
     "end_time": "2023-08-13T08:28:26.922935",
     "exception": false,
     "start_time": "2023-08-13T08:28:26.806676",
     "status": "completed"
    },
    "tags": []
   },
   "outputs": [],
   "source": [
    "# sns.boxplot(x=\"sentiment\", y=\"boxOffice\", data=bo_df, showfliers = False)"
   ]
  },
  {
   "cell_type": "markdown",
   "id": "ee36eed4",
   "metadata": {
    "papermill": {
     "duration": 0.105104,
     "end_time": "2023-08-13T08:28:27.133817",
     "exception": false,
     "start_time": "2023-08-13T08:28:27.028713",
     "status": "completed"
    },
    "tags": []
   },
   "source": [
    "## EDA  "
   ]
  },
  {
   "cell_type": "markdown",
   "id": "0aef29e6",
   "metadata": {
    "papermill": {
     "duration": 0.104671,
     "end_time": "2023-08-13T08:28:27.344245",
     "exception": false,
     "start_time": "2023-08-13T08:28:27.239574",
     "status": "completed"
    },
    "tags": []
   },
   "source": [
    "### An interesting finding through exploration  \n",
    "  \n",
    "* OHE and TfidfVectorizer on director column give the same result when ngram_range(2,2) is used (see code below)!"
   ]
  },
  {
   "cell_type": "code",
   "execution_count": 67,
   "id": "05e0c6d1",
   "metadata": {
    "execution": {
     "iopub.execute_input": "2023-08-13T08:28:27.557154Z",
     "iopub.status.busy": "2023-08-13T08:28:27.556702Z",
     "iopub.status.idle": "2023-08-13T08:28:40.815672Z",
     "shell.execute_reply": "2023-08-13T08:28:40.814333Z"
    },
    "papermill": {
     "duration": 13.368045,
     "end_time": "2023-08-13T08:28:40.818205",
     "exception": false,
     "start_time": "2023-08-13T08:28:27.450160",
     "status": "completed"
    },
    "tags": []
   },
   "outputs": [
    {
     "name": "stdout",
     "output_type": "stream",
     "text": [
      "(162758,)\n",
      "9476\n",
      "(162758, 9476) <class 'numpy.ndarray'>\n",
      "(162758,)\n",
      "(162758, 9476) <class 'numpy.ndarray'>\n",
      "True\n"
     ]
    }
   ],
   "source": [
    "# Compare OHE and TfidfVectorizer on director column\n",
    "\n",
    "dirs = merged[\"director\"].copy()\n",
    "print(dirs.shape)\n",
    "dirs_uniq = merged[\"director\"].unique()\n",
    "print(len(dirs_uniq))\n",
    "\n",
    "du_ohe = OneHotEncoder(handle_unknown=\"ignore\", sparse_output=False).fit_transform(dirs.to_numpy().reshape(-1, 1))\n",
    "print(du_ohe.shape, type(du_ohe))\n",
    "\n",
    "dirs_2 = merged[\"director\"].copy()\n",
    "print(dirs_2.shape)\n",
    "du_tfidf = TfidfVectorizer(ngram_range=(2,2)).fit_transform(dirs_2).toarray()\n",
    "print(du_tfidf.shape, type(du_tfidf))\n",
    "\n",
    "print(np.array_equal(du_ohe, du_tfidf))"
   ]
  },
  {
   "cell_type": "code",
   "execution_count": 68,
   "id": "f7271e79",
   "metadata": {
    "execution": {
     "iopub.execute_input": "2023-08-13T08:28:41.040681Z",
     "iopub.status.busy": "2023-08-13T08:28:41.040236Z",
     "iopub.status.idle": "2023-08-13T08:28:41.396434Z",
     "shell.execute_reply": "2023-08-13T08:28:41.395290Z"
    },
    "papermill": {
     "duration": 0.468455,
     "end_time": "2023-08-13T08:28:41.398817",
     "exception": false,
     "start_time": "2023-08-13T08:28:40.930362",
     "status": "completed"
    },
    "tags": []
   },
   "outputs": [
    {
     "name": "stdout",
     "output_type": "stream",
     "text": [
      "0       Bennie Basso\n",
      "1         Alma White\n",
      "2       Bobby Oleary\n",
      "3    Eric Hutcherson\n",
      "4         John Trent\n",
      "Name: director, dtype: object\n"
     ]
    },
    {
     "data": {
      "text/plain": [
       "2    162758\n",
       "Name: director, dtype: int64"
      ]
     },
     "execution_count": 68,
     "metadata": {},
     "output_type": "execute_result"
    }
   ],
   "source": [
    "print(dirs.head())\n",
    "d = dirs.copy()\n",
    "d[\"name_len\"] = d.apply(lambda x: len(x.split()))\n",
    "d[\"name_len\"].value_counts()"
   ]
  },
  {
   "cell_type": "code",
   "execution_count": 69,
   "id": "1b33840e",
   "metadata": {
    "execution": {
     "iopub.execute_input": "2023-08-13T08:28:41.616606Z",
     "iopub.status.busy": "2023-08-13T08:28:41.615513Z",
     "iopub.status.idle": "2023-08-13T08:28:41.621478Z",
     "shell.execute_reply": "2023-08-13T08:28:41.620685Z"
    },
    "papermill": {
     "duration": 0.117496,
     "end_time": "2023-08-13T08:28:41.623692",
     "exception": false,
     "start_time": "2023-08-13T08:28:41.506196",
     "status": "completed"
    },
    "tags": []
   },
   "outputs": [],
   "source": [
    "# Compare OHE and TfidfVectorizer on reviewerName column\n",
    "# Note: reviewerName column has salutations like \"Mr. \" etc, and some names appear middle names. Therefore needs cleaning\n",
    "\n",
    "# def name_fl(name):\n",
    "#     l = name.split()\n",
    "#     n = ' '.join((l[0], l[-1]))\n",
    "#     return n\n",
    "\n",
    "# reviewers = merged[\"reviewerName\"].copy()\n",
    "# reviewers = pd.DataFrame(reviewers)\n",
    "# reviewers = reviewers.replace({\"Mr. \": \"\", \"Mrs. \": \"\"}, regex=True)\n",
    "# reviewers[\"reviewerName\"] = reviewers[\"reviewerName\"].apply(name_fl)\n",
    "# print(reviewers.shape)\n",
    "\n",
    "# reviewers_uniq = merged[\"reviewerName\"].unique()\n",
    "# print(len(reviewers_uniq))\n",
    "\n",
    "# reviewers_ohe = OneHotEncoder(handle_unknown=\"ignore\", sparse_output=False).fit_transform(reviewers.to_numpy().reshape(-1, 1))\n",
    "# print(reviewers_ohe.shape, type(reviewers_ohe))\n",
    "\n",
    "# reviewers_2 = merged[\"reviewerName\"].copy()\n",
    "# reviewers_2 = pd.DataFrame(reviewers_2)\n",
    "# print(reviewers_2.head())\n",
    "# reviewers_2 = reviewers_2.replace({\"Mr. \": \"\", \"Mrs. \": \"\"}, regex=True)\n",
    "# reviewers_2[\"reviewerName\"] = reviewers_2[\"reviewerName\"].apply(name_fl)\n",
    "# reviewers_2 = reviewers_2.squeeze()\n",
    "# print(reviewers_2.shape)\n",
    "# print(reviewers_2.head())\n",
    "\n",
    "# reviewers_tfidf = TfidfVectorizer(ngram_range=(2,2)).fit_transform(reviewers_2).toarray()\n",
    "# print(reviewers_tfidf.shape, type(reviewers_tfidf))\n",
    "\n",
    "# print(np.array_equal(reviewers_ohe, reviewers_tfidf))"
   ]
  },
  {
   "cell_type": "code",
   "execution_count": 70,
   "id": "37348169",
   "metadata": {
    "execution": {
     "iopub.execute_input": "2023-08-13T08:28:41.846768Z",
     "iopub.status.busy": "2023-08-13T08:28:41.845649Z",
     "iopub.status.idle": "2023-08-13T08:28:41.850022Z",
     "shell.execute_reply": "2023-08-13T08:28:41.849269Z"
    },
    "papermill": {
     "duration": 0.117318,
     "end_time": "2023-08-13T08:28:41.852084",
     "exception": false,
     "start_time": "2023-08-13T08:28:41.734766",
     "status": "completed"
    },
    "tags": []
   },
   "outputs": [],
   "source": [
    "# def name_fl(name):\n",
    "#     l = name.split()\n",
    "#     n = ' '.join((l[0], l[-1]))\n",
    "#     return n"
   ]
  },
  {
   "cell_type": "code",
   "execution_count": 71,
   "id": "e23d4ff7",
   "metadata": {
    "execution": {
     "iopub.execute_input": "2023-08-13T08:28:42.071348Z",
     "iopub.status.busy": "2023-08-13T08:28:42.070651Z",
     "iopub.status.idle": "2023-08-13T08:28:42.075551Z",
     "shell.execute_reply": "2023-08-13T08:28:42.074394Z"
    },
    "papermill": {
     "duration": 0.116606,
     "end_time": "2023-08-13T08:28:42.077960",
     "exception": false,
     "start_time": "2023-08-13T08:28:41.961354",
     "status": "completed"
    },
    "tags": []
   },
   "outputs": [],
   "source": [
    "# print(reviewers.head())\n",
    "# r = pd.DataFrame(reviewers.copy())\n",
    "# r[\"reviewerName\"] = r[\"reviewerName\"].apply(name_fl)\n",
    "# r[\"name_len\"] = r[\"reviewerName\"].apply(lambda x: len(x.split()))\n",
    "# print(r.shape)\n",
    "# print(r.head())\n",
    "# print(r['name_len'].value_counts())"
   ]
  },
  {
   "cell_type": "code",
   "execution_count": 72,
   "id": "227e96ba",
   "metadata": {
    "execution": {
     "iopub.execute_input": "2023-08-13T08:28:42.294272Z",
     "iopub.status.busy": "2023-08-13T08:28:42.293502Z",
     "iopub.status.idle": "2023-08-13T08:28:42.298324Z",
     "shell.execute_reply": "2023-08-13T08:28:42.297503Z"
    },
    "papermill": {
     "duration": 0.115128,
     "end_time": "2023-08-13T08:28:42.300554",
     "exception": false,
     "start_time": "2023-08-13T08:28:42.185426",
     "status": "completed"
    },
    "tags": []
   },
   "outputs": [],
   "source": [
    "## Box plot audienceScore and sentiment  \n",
    "# plt.figure(figsize=(6, 4))\n",
    "# sns.boxplot(x=\"sentiment\", y=\"audienceScore\", data=merged, width=0.3)\n",
    "# plt.title(\"Box plot audienceScore and sentiment\")\n",
    "# plt.show()"
   ]
  },
  {
   "cell_type": "code",
   "execution_count": 73,
   "id": "150efd35",
   "metadata": {
    "execution": {
     "iopub.execute_input": "2023-08-13T08:28:42.515858Z",
     "iopub.status.busy": "2023-08-13T08:28:42.515138Z",
     "iopub.status.idle": "2023-08-13T08:28:42.520078Z",
     "shell.execute_reply": "2023-08-13T08:28:42.519092Z"
    },
    "papermill": {
     "duration": 0.115214,
     "end_time": "2023-08-13T08:28:42.522174",
     "exception": false,
     "start_time": "2023-08-13T08:28:42.406960",
     "status": "completed"
    },
    "tags": []
   },
   "outputs": [],
   "source": [
    "## Box plot runtimeMinutes and sentiment  \n",
    "# plt.figure(figsize=(6, 4))\n",
    "# sns.boxplot(x=\"sentiment\", y=\"runtimeMinutes\", data=merged, width=0.3)\n",
    "# plt.title(\"Box plot runtimeMinutes and sentiment\")\n",
    "# plt.show()"
   ]
  },
  {
   "cell_type": "code",
   "execution_count": 74,
   "id": "af04aa11",
   "metadata": {
    "execution": {
     "iopub.execute_input": "2023-08-13T08:28:42.740169Z",
     "iopub.status.busy": "2023-08-13T08:28:42.739741Z",
     "iopub.status.idle": "2023-08-13T08:28:42.744328Z",
     "shell.execute_reply": "2023-08-13T08:28:42.743100Z"
    },
    "papermill": {
     "duration": 0.117814,
     "end_time": "2023-08-13T08:28:42.746617",
     "exception": false,
     "start_time": "2023-08-13T08:28:42.628803",
     "status": "completed"
    },
    "tags": []
   },
   "outputs": [],
   "source": [
    "## Column chart for sentiment and rating columns\n",
    "# plt.figure(figsize=(6, 4))\n",
    "# sns.countplot(x=\"sentiment\", hue=\"rating\", data=merged)\n",
    "# plt.title(\"Column chart for sentiment and rating columns\")\n",
    "# plt.show()"
   ]
  },
  {
   "cell_type": "code",
   "execution_count": 75,
   "id": "ce480453",
   "metadata": {
    "execution": {
     "iopub.execute_input": "2023-08-13T08:28:42.966761Z",
     "iopub.status.busy": "2023-08-13T08:28:42.966386Z",
     "iopub.status.idle": "2023-08-13T08:28:42.970465Z",
     "shell.execute_reply": "2023-08-13T08:28:42.969427Z"
    },
    "papermill": {
     "duration": 0.117368,
     "end_time": "2023-08-13T08:28:42.972817",
     "exception": false,
     "start_time": "2023-08-13T08:28:42.855449",
     "status": "completed"
    },
    "tags": []
   },
   "outputs": [],
   "source": [
    "# Correlation heatmap  \n",
    "# plt.figure(figsize=(10, 8))\n",
    "# sns.heatmap(merged.corr(), annot=True, cmap=\"coolwarm\")\n",
    "# plt.title(\"Correlation heatmap\")\n",
    "# plt.show()"
   ]
  },
  {
   "cell_type": "markdown",
   "id": "e1e79860",
   "metadata": {
    "papermill": {
     "duration": 0.106116,
     "end_time": "2023-08-13T08:28:43.186329",
     "exception": false,
     "start_time": "2023-08-13T08:28:43.080213",
     "status": "completed"
    },
    "tags": []
   },
   "source": [
    "## Merge and preprocess \"test.csv\" and \"movies.csv\" files  "
   ]
  },
  {
   "cell_type": "code",
   "execution_count": 76,
   "id": "5f239601",
   "metadata": {
    "execution": {
     "iopub.execute_input": "2023-08-13T08:28:43.401590Z",
     "iopub.status.busy": "2023-08-13T08:28:43.400568Z",
     "iopub.status.idle": "2023-08-13T08:28:49.350510Z",
     "shell.execute_reply": "2023-08-13T08:28:49.349473Z"
    },
    "papermill": {
     "duration": 6.061152,
     "end_time": "2023-08-13T08:28:49.353566",
     "exception": false,
     "start_time": "2023-08-13T08:28:43.292414",
     "status": "completed"
    },
    "tags": []
   },
   "outputs": [],
   "source": [
    "# Merge test and movies  \n",
    "merged_test = select_features(load_csv(\"test\"), load_csv(\"movies\"))"
   ]
  },
  {
   "cell_type": "code",
   "execution_count": 77,
   "id": "fbd6869b",
   "metadata": {
    "execution": {
     "iopub.execute_input": "2023-08-13T08:28:49.569487Z",
     "iopub.status.busy": "2023-08-13T08:28:49.569098Z",
     "iopub.status.idle": "2023-08-13T08:28:49.573512Z",
     "shell.execute_reply": "2023-08-13T08:28:49.572438Z"
    },
    "papermill": {
     "duration": 0.114278,
     "end_time": "2023-08-13T08:28:49.575711",
     "exception": false,
     "start_time": "2023-08-13T08:28:49.461433",
     "status": "completed"
    },
    "tags": []
   },
   "outputs": [],
   "source": [
    "# inspect(merged_test)      # Note the missing values in ['audienceScore', 'runtimeMinutes', 'boxOffice']"
   ]
  },
  {
   "cell_type": "code",
   "execution_count": 78,
   "id": "3e580417",
   "metadata": {
    "execution": {
     "iopub.execute_input": "2023-08-13T08:28:49.793410Z",
     "iopub.status.busy": "2023-08-13T08:28:49.792981Z",
     "iopub.status.idle": "2023-08-13T08:28:49.808794Z",
     "shell.execute_reply": "2023-08-13T08:28:49.807946Z"
    },
    "papermill": {
     "duration": 0.12686,
     "end_time": "2023-08-13T08:28:49.811130",
     "exception": false,
     "start_time": "2023-08-13T08:28:49.684270",
     "status": "completed"
    },
    "tags": []
   },
   "outputs": [
    {
     "data": {
      "text/plain": [
       "array([6.80e+01, 1.04e+02, 1.43e+07])"
      ]
     },
     "execution_count": 78,
     "metadata": {},
     "output_type": "execute_result"
    }
   ],
   "source": [
    "# Transform ['audienceScore', 'runtimeMinutes', 'boxOffice'] columns in merged_test using 'si' fitted on 'merged' df  \n",
    "merged_test[['audienceScore', 'runtimeMinutes', 'boxOffice']] = si.transform(merged_test[['audienceScore', 'runtimeMinutes', 'boxOffice']])\n",
    "si.statistics_"
   ]
  },
  {
   "cell_type": "code",
   "execution_count": 79,
   "id": "574cdc3d",
   "metadata": {
    "execution": {
     "iopub.execute_input": "2023-08-13T08:28:50.027725Z",
     "iopub.status.busy": "2023-08-13T08:28:50.027346Z",
     "iopub.status.idle": "2023-08-13T08:28:50.038016Z",
     "shell.execute_reply": "2023-08-13T08:28:50.037092Z"
    },
    "papermill": {
     "duration": 0.122485,
     "end_time": "2023-08-13T08:28:50.040259",
     "exception": false,
     "start_time": "2023-08-13T08:28:49.917774",
     "status": "completed"
    },
    "tags": []
   },
   "outputs": [],
   "source": [
    "# Fill 'releaseDate' column in 'merged_test' df with median from the train (merged) df  \n",
    "merged_test['releaseDate'] = merged_test[\"releaseDate\"].fillna(merged[\"releaseDate\"].median())"
   ]
  },
  {
   "cell_type": "code",
   "execution_count": 80,
   "id": "c0f21e44",
   "metadata": {
    "execution": {
     "iopub.execute_input": "2023-08-13T08:28:50.255315Z",
     "iopub.status.busy": "2023-08-13T08:28:50.254708Z",
     "iopub.status.idle": "2023-08-13T08:28:50.738619Z",
     "shell.execute_reply": "2023-08-13T08:28:50.737156Z"
    },
    "papermill": {
     "duration": 0.594585,
     "end_time": "2023-08-13T08:28:50.740932",
     "exception": false,
     "start_time": "2023-08-13T08:28:50.146347",
     "status": "completed"
    },
    "tags": []
   },
   "outputs": [
    {
     "name": "stdout",
     "output_type": "stream",
     "text": [
      "Shape of the dataframe: (55315, 25)\n",
      "\n",
      "Columns in the dataframe:\n",
      "Index(['movieid', 'reviewerName', 'isFrequentReviewer', 'reviewText', 'title',\n",
      "       'audienceScore', 'rating', 'ratingContents', 'releaseDateTheaters',\n",
      "       'releaseDateStreaming', 'runtimeMinutes', 'genre', 'originalLanguage',\n",
      "       'director', 'boxOffice', 'distributor', 'soundType', 'reviewYN',\n",
      "       'reviewWC', 'genreSorted', 'rcSorted', 'releaseDate', 'releaseYear',\n",
      "       'releaseMonth', 'releaseDiff'],\n",
      "      dtype='object')\n",
      "\n",
      "<class 'pandas.core.frame.DataFrame'>\n",
      "Int64Index: 55315 entries, 0 to 55314\n",
      "Data columns (total 25 columns):\n",
      " #   Column                Non-Null Count  Dtype         \n",
      "---  ------                --------------  -----         \n",
      " 0   movieid               55315 non-null  object        \n",
      " 1   reviewerName          55315 non-null  object        \n",
      " 2   isFrequentReviewer    55315 non-null  bool          \n",
      " 3   reviewText            55315 non-null  object        \n",
      " 4   title                 55315 non-null  object        \n",
      " 5   audienceScore         55315 non-null  float64       \n",
      " 6   rating                55315 non-null  object        \n",
      " 7   ratingContents        55315 non-null  object        \n",
      " 8   releaseDateTheaters   47844 non-null  datetime64[ns]\n",
      " 9   releaseDateStreaming  52929 non-null  datetime64[ns]\n",
      " 10  runtimeMinutes        55315 non-null  float64       \n",
      " 11  genre                 55315 non-null  object        \n",
      " 12  originalLanguage      55315 non-null  object        \n",
      " 13  director              55315 non-null  object        \n",
      " 14  boxOffice             55315 non-null  float64       \n",
      " 15  distributor           55315 non-null  object        \n",
      " 16  soundType             29845 non-null  object        \n",
      " 17  reviewYN              55315 non-null  int64         \n",
      " 18  reviewWC              55315 non-null  int64         \n",
      " 19  genreSorted           55315 non-null  object        \n",
      " 20  rcSorted              55315 non-null  object        \n",
      " 21  releaseDate           55315 non-null  datetime64[ns]\n",
      " 22  releaseYear           46626 non-null  float64       \n",
      " 23  releaseMonth          46626 non-null  float64       \n",
      " 24  releaseDiff           55315 non-null  float64       \n",
      "dtypes: bool(1), datetime64[ns](3), float64(6), int64(2), object(13)\n",
      "memory usage: 10.6+ MB\n",
      "None\n",
      "\n",
      "Missing values:\n",
      "movieid                     0\n",
      "reviewerName                0\n",
      "isFrequentReviewer          0\n",
      "reviewText                  0\n",
      "title                       0\n",
      "audienceScore               0\n",
      "rating                      0\n",
      "ratingContents              0\n",
      "releaseDateTheaters      7471\n",
      "releaseDateStreaming     2386\n",
      "runtimeMinutes              0\n",
      "genre                       0\n",
      "originalLanguage            0\n",
      "director                    0\n",
      "boxOffice                   0\n",
      "distributor                 0\n",
      "soundType               25470\n",
      "reviewYN                    0\n",
      "reviewWC                    0\n",
      "genreSorted                 0\n",
      "rcSorted                    0\n",
      "releaseDate                 0\n",
      "releaseYear              8689\n",
      "releaseMonth             8689\n",
      "releaseDiff                 0\n",
      "dtype: int64\n"
     ]
    }
   ],
   "source": [
    "# After transforming merged_test  \n",
    "inspect(merged_test)"
   ]
  },
  {
   "cell_type": "code",
   "execution_count": 81,
   "id": "dc0b8f8c",
   "metadata": {
    "execution": {
     "iopub.execute_input": "2023-08-13T08:28:50.962765Z",
     "iopub.status.busy": "2023-08-13T08:28:50.962369Z",
     "iopub.status.idle": "2023-08-13T08:28:50.968750Z",
     "shell.execute_reply": "2023-08-13T08:28:50.967676Z"
    },
    "papermill": {
     "duration": 0.120976,
     "end_time": "2023-08-13T08:28:50.971186",
     "exception": false,
     "start_time": "2023-08-13T08:28:50.850210",
     "status": "completed"
    },
    "tags": []
   },
   "outputs": [
    {
     "name": "stdout",
     "output_type": "stream",
     "text": [
      "2510\n",
      "4.537648015908886\n"
     ]
    }
   ],
   "source": [
    "print(merged_test[\"reviewYN\"].sum())\n",
    "print(merged_test[\"reviewYN\"].sum() * 100 / merged_test.shape[0])"
   ]
  },
  {
   "cell_type": "code",
   "execution_count": 82,
   "id": "4e055bfa",
   "metadata": {
    "execution": {
     "iopub.execute_input": "2023-08-13T08:28:51.185833Z",
     "iopub.status.busy": "2023-08-13T08:28:51.184968Z",
     "iopub.status.idle": "2023-08-13T08:28:51.201824Z",
     "shell.execute_reply": "2023-08-13T08:28:51.200973Z"
    },
    "papermill": {
     "duration": 0.126674,
     "end_time": "2023-08-13T08:28:51.204136",
     "exception": false,
     "start_time": "2023-08-13T08:28:51.077462",
     "status": "completed"
    },
    "tags": []
   },
   "outputs": [
    {
     "data": {
      "text/plain": [
       "R          18934\n",
       "unknown    18386\n",
       "PG-13      13220\n",
       "PG          4200\n",
       "TV14         333\n",
       "TVPG         109\n",
       "NC-17        108\n",
       "TVMA          25\n",
       "Name: rating, dtype: int64"
      ]
     },
     "execution_count": 82,
     "metadata": {},
     "output_type": "execute_result"
    }
   ],
   "source": [
    "merged_test['rating'].value_counts()"
   ]
  },
  {
   "cell_type": "code",
   "execution_count": 83,
   "id": "86beed7c",
   "metadata": {
    "execution": {
     "iopub.execute_input": "2023-08-13T08:28:51.419392Z",
     "iopub.status.busy": "2023-08-13T08:28:51.418966Z",
     "iopub.status.idle": "2023-08-13T08:28:51.427837Z",
     "shell.execute_reply": "2023-08-13T08:28:51.426861Z"
    },
    "papermill": {
     "duration": 0.118639,
     "end_time": "2023-08-13T08:28:51.429888",
     "exception": false,
     "start_time": "2023-08-13T08:28:51.311249",
     "status": "completed"
    },
    "tags": []
   },
   "outputs": [
    {
     "data": {
      "text/plain": [
       "False    38428\n",
       "True     16887\n",
       "Name: isFrequentReviewer, dtype: int64"
      ]
     },
     "execution_count": 83,
     "metadata": {},
     "output_type": "execute_result"
    }
   ],
   "source": [
    "merged_test['isFrequentReviewer'].value_counts()"
   ]
  },
  {
   "cell_type": "code",
   "execution_count": 84,
   "id": "8fbcbdf3",
   "metadata": {
    "execution": {
     "iopub.execute_input": "2023-08-13T08:28:51.646187Z",
     "iopub.status.busy": "2023-08-13T08:28:51.645679Z",
     "iopub.status.idle": "2023-08-13T08:28:51.657504Z",
     "shell.execute_reply": "2023-08-13T08:28:51.656374Z"
    },
    "papermill": {
     "duration": 0.122547,
     "end_time": "2023-08-13T08:28:51.659941",
     "exception": false,
     "start_time": "2023-08-13T08:28:51.537394",
     "status": "completed"
    },
    "tags": []
   },
   "outputs": [
    {
     "data": {
      "text/plain": [
       "14300000.0    13593\n",
       "1100000.0       311\n",
       "1000000.0       272\n",
       "1300000.0       263\n",
       "2000000.0       256\n",
       "              ...  \n",
       "200400.0          1\n",
       "23800000.0        1\n",
       "111200.0          1\n",
       "277800.0          1\n",
       "100600.0          1\n",
       "Name: boxOffice, Length: 3816, dtype: int64"
      ]
     },
     "execution_count": 84,
     "metadata": {},
     "output_type": "execute_result"
    }
   ],
   "source": [
    "merged_test['boxOffice'].value_counts()"
   ]
  },
  {
   "cell_type": "markdown",
   "id": "5e0f4ac0",
   "metadata": {
    "papermill": {
     "duration": 0.108128,
     "end_time": "2023-08-13T08:28:51.876761",
     "exception": false,
     "start_time": "2023-08-13T08:28:51.768633",
     "status": "completed"
    },
    "tags": []
   },
   "source": [
    "## Work on vocabulary  \n",
    "\n",
    "`Build vocabulary from 'reviewText' column`  "
   ]
  },
  {
   "cell_type": "code",
   "execution_count": 85,
   "id": "010fc322",
   "metadata": {
    "execution": {
     "iopub.execute_input": "2023-08-13T08:28:52.097594Z",
     "iopub.status.busy": "2023-08-13T08:28:52.096784Z",
     "iopub.status.idle": "2023-08-13T08:28:52.116560Z",
     "shell.execute_reply": "2023-08-13T08:28:52.115448Z"
    },
    "papermill": {
     "duration": 0.133145,
     "end_time": "2023-08-13T08:28:52.118814",
     "exception": false,
     "start_time": "2023-08-13T08:28:51.985669",
     "status": "completed"
    },
    "tags": []
   },
   "outputs": [
    {
     "data": {
      "text/plain": [
       "((162758, 2),\n",
       "                                           reviewText sentiment\n",
       " 0  Henry Selick’s first movie since ’s Coraline. ...  POSITIVE\n",
       " 1  With a cast that reads like the Vogue Oscar pa...  NEGATIVE\n",
       " 2  Creed II does not give us anything but another...  POSITIVE\n",
       " 3  I know what you're thinking, but this is no Li...  POSITIVE\n",
       " 4  Director Fernando Meirelles tells the story wi...  POSITIVE)"
      ]
     },
     "execution_count": 85,
     "metadata": {},
     "output_type": "execute_result"
    }
   ],
   "source": [
    "rt_senti = merged[[\"reviewText\", \"sentiment\"]].copy()\n",
    "rt_senti.shape, rt_senti.head()"
   ]
  },
  {
   "cell_type": "code",
   "execution_count": 86,
   "id": "3b17dc2f",
   "metadata": {
    "execution": {
     "iopub.execute_input": "2023-08-13T08:28:52.335265Z",
     "iopub.status.busy": "2023-08-13T08:28:52.334437Z",
     "iopub.status.idle": "2023-08-13T08:28:52.345355Z",
     "shell.execute_reply": "2023-08-13T08:28:52.344574Z"
    },
    "papermill": {
     "duration": 0.120321,
     "end_time": "2023-08-13T08:28:52.347376",
     "exception": false,
     "start_time": "2023-08-13T08:28:52.227055",
     "status": "completed"
    },
    "tags": []
   },
   "outputs": [
    {
     "data": {
      "text/plain": [
       "((55315, 1),\n",
       "                                           reviewText\n",
       " 0  Green slowly cranks up the dread with style an...\n",
       " 1  Philip Noyce's direction is elegant and unforc...\n",
       " 2  It wouldn't do to say what path Maria ultimate...\n",
       " 3  Pig is not exactly the arthouse John Wick that...\n",
       " 4  An imaginative no-budget musical of sorts abou...)"
      ]
     },
     "execution_count": 86,
     "metadata": {},
     "output_type": "execute_result"
    }
   ],
   "source": [
    "rt_test = pd.DataFrame(merged_test[\"reviewText\"].copy())\n",
    "rt_test.shape, rt_test.head()"
   ]
  },
  {
   "cell_type": "code",
   "execution_count": 87,
   "id": "bf8e63b4",
   "metadata": {
    "execution": {
     "iopub.execute_input": "2023-08-13T08:28:52.566582Z",
     "iopub.status.busy": "2023-08-13T08:28:52.565825Z",
     "iopub.status.idle": "2023-08-13T08:28:52.572312Z",
     "shell.execute_reply": "2023-08-13T08:28:52.571232Z"
    },
    "papermill": {
     "duration": 0.117241,
     "end_time": "2023-08-13T08:28:52.574518",
     "exception": false,
     "start_time": "2023-08-13T08:28:52.457277",
     "status": "completed"
    },
    "tags": []
   },
   "outputs": [],
   "source": [
    "def get_vocab(text_df, ngram_range=(1,1)):\n",
    "#     print(f\"Generating vocabulary for ngram_range: {ngram_range}...\")\n",
    "    tvec1 = CountVectorizer(ngram_range=ngram_range, stop_words='english', strip_accents='unicode')\n",
    "    tvec1.fit(text_df)\n",
    "    voc_ngram = set(tvec1.vocabulary_.keys())\n",
    "    return voc_ngram"
   ]
  },
  {
   "cell_type": "code",
   "execution_count": 88,
   "id": "96667cfd",
   "metadata": {
    "execution": {
     "iopub.execute_input": "2023-08-13T08:28:52.791733Z",
     "iopub.status.busy": "2023-08-13T08:28:52.791318Z",
     "iopub.status.idle": "2023-08-13T08:28:52.800019Z",
     "shell.execute_reply": "2023-08-13T08:28:52.799248Z"
    },
    "papermill": {
     "duration": 0.12022,
     "end_time": "2023-08-13T08:28:52.802012",
     "exception": false,
     "start_time": "2023-08-13T08:28:52.681792",
     "status": "completed"
    },
    "tags": []
   },
   "outputs": [],
   "source": [
    "def get_common_vocab(df_list: list, ngram_range_list: list):\n",
    "    \"\"\"\n",
    "    Get common vocabulary from a list of dataframes.\n",
    "    \"\"\"\n",
    "    final_common_vocab = set()\n",
    "    # Get vocabulary from each dataframe for a given ngram-range\n",
    "    for ngram_range in ngram_range_list:\n",
    "        vocab_ngram = set()\n",
    "        for num, df in enumerate(df_list, start=1):\n",
    "#             print(f\"Working on DF#{num} in the list of DFs provided\")\n",
    "            vocab_ngram_df = set(get_vocab(df['reviewText'], ngram_range))\n",
    "#             print(f\"Vocabulary size for ngram-range {ngram_range} in DF#{num}: {len(vocab_ngram_df)}\\n\")\n",
    "            if len(vocab_ngram) > 0:\n",
    "#                 print(f\"Keeping only the common (intersection) words for ngram-range {ngram_range}...\")\n",
    "                vocab_ngram = vocab_ngram.intersection(vocab_ngram_df)\n",
    "            else:\n",
    "#                 print(f\"Words from the first df for ngram-range {ngram_range} added.\\n\")\n",
    "                vocab_ngram = vocab_ngram_df\n",
    "        print(f\"Common vocabulary for ngram-range {ngram_range}: {len(vocab_ngram)}\\n\")\n",
    "        \n",
    "        if len(final_common_vocab) > 0:\n",
    "#             print(f\"Fusing (union) with final common vocabulary: ngram-range = {ngram_range}.\\n\")\n",
    "            final_common_vocab = final_common_vocab.union(vocab_ngram)\n",
    "        else:\n",
    "#             print(f\"Appended first time to final common vocabulary: ngram-range = {ngram_range}.\\n\")\n",
    "            final_common_vocab = vocab_ngram\n",
    "    print(f\"Size of the common vocabulary generated is: {len(final_common_vocab)}\")\n",
    "    return final_common_vocab"
   ]
  },
  {
   "cell_type": "code",
   "execution_count": 89,
   "id": "9b43a024",
   "metadata": {
    "execution": {
     "iopub.execute_input": "2023-08-13T08:28:53.020941Z",
     "iopub.status.busy": "2023-08-13T08:28:53.020262Z",
     "iopub.status.idle": "2023-08-13T08:28:53.024161Z",
     "shell.execute_reply": "2023-08-13T08:28:53.023379Z"
    },
    "papermill": {
     "duration": 0.116935,
     "end_time": "2023-08-13T08:28:53.026339",
     "exception": false,
     "start_time": "2023-08-13T08:28:52.909404",
     "status": "completed"
    },
    "tags": []
   },
   "outputs": [],
   "source": [
    "# voc_1gram = get_vocab(rt_senti[\"reviewText\"], ngram_range=(1,1))\n",
    "# len(voc_1gram), voc_1gram[:10]"
   ]
  },
  {
   "cell_type": "code",
   "execution_count": 90,
   "id": "594aa19a",
   "metadata": {
    "execution": {
     "iopub.execute_input": "2023-08-13T08:28:53.243279Z",
     "iopub.status.busy": "2023-08-13T08:28:53.242831Z",
     "iopub.status.idle": "2023-08-13T08:28:53.247524Z",
     "shell.execute_reply": "2023-08-13T08:28:53.246520Z"
    },
    "papermill": {
     "duration": 0.115723,
     "end_time": "2023-08-13T08:28:53.249547",
     "exception": false,
     "start_time": "2023-08-13T08:28:53.133824",
     "status": "completed"
    },
    "tags": []
   },
   "outputs": [],
   "source": [
    "# voc_2gram = get_vocab(rt_senti[\"reviewText\"], ngram_range=(2,2))\n",
    "# len(voc_2gram), voc_2gram[:10]"
   ]
  },
  {
   "cell_type": "code",
   "execution_count": 91,
   "id": "a20138d3",
   "metadata": {
    "execution": {
     "iopub.execute_input": "2023-08-13T08:28:53.465606Z",
     "iopub.status.busy": "2023-08-13T08:28:53.464675Z",
     "iopub.status.idle": "2023-08-13T08:28:53.469302Z",
     "shell.execute_reply": "2023-08-13T08:28:53.468198Z"
    },
    "papermill": {
     "duration": 0.114906,
     "end_time": "2023-08-13T08:28:53.471466",
     "exception": false,
     "start_time": "2023-08-13T08:28:53.356560",
     "status": "completed"
    },
    "tags": []
   },
   "outputs": [],
   "source": [
    "# voc_3gram = get_vocab(rt_senti[\"reviewText\"], ngram_range=(3,3))\n",
    "# len(voc_3gram), voc_3gram[:10]"
   ]
  },
  {
   "cell_type": "code",
   "execution_count": 92,
   "id": "9a199055",
   "metadata": {
    "execution": {
     "iopub.execute_input": "2023-08-13T08:28:53.692613Z",
     "iopub.status.busy": "2023-08-13T08:28:53.692178Z",
     "iopub.status.idle": "2023-08-13T08:28:53.696664Z",
     "shell.execute_reply": "2023-08-13T08:28:53.695921Z"
    },
    "papermill": {
     "duration": 0.116287,
     "end_time": "2023-08-13T08:28:53.698617",
     "exception": false,
     "start_time": "2023-08-13T08:28:53.582330",
     "status": "completed"
    },
    "tags": []
   },
   "outputs": [],
   "source": [
    "# common_unigrams = get_common_vocab([rt_senti, rt_test], ngram_range_list=[(1,1)])\n",
    "# print(len(common_unigrams))\n",
    "# # sorted(list(common_unigrams))"
   ]
  },
  {
   "cell_type": "code",
   "execution_count": 93,
   "id": "95fb0457",
   "metadata": {
    "execution": {
     "iopub.execute_input": "2023-08-13T08:28:53.997944Z",
     "iopub.status.busy": "2023-08-13T08:28:53.996749Z",
     "iopub.status.idle": "2023-08-13T08:28:54.001993Z",
     "shell.execute_reply": "2023-08-13T08:28:54.000628Z"
    },
    "papermill": {
     "duration": 0.184117,
     "end_time": "2023-08-13T08:28:54.004148",
     "exception": false,
     "start_time": "2023-08-13T08:28:53.820031",
     "status": "completed"
    },
    "tags": []
   },
   "outputs": [],
   "source": [
    "# common_bigrams = get_common_vocab([rt_senti, rt_test], ngram_range_list=[(2,2)])\n",
    "# print(len(common_bigrams))\n",
    "# # # common_bigrams"
   ]
  },
  {
   "cell_type": "code",
   "execution_count": 94,
   "id": "ae9c701a",
   "metadata": {
    "execution": {
     "iopub.execute_input": "2023-08-13T08:28:54.221374Z",
     "iopub.status.busy": "2023-08-13T08:28:54.220939Z",
     "iopub.status.idle": "2023-08-13T08:28:54.225493Z",
     "shell.execute_reply": "2023-08-13T08:28:54.224483Z"
    },
    "papermill": {
     "duration": 0.115677,
     "end_time": "2023-08-13T08:28:54.227638",
     "exception": false,
     "start_time": "2023-08-13T08:28:54.111961",
     "status": "completed"
    },
    "tags": []
   },
   "outputs": [],
   "source": [
    "# common_1_2_grams = get_common_vocab([rt_senti, rt_test], ngram_range_list=[(1,1), (2,2)])\n",
    "# print(len(common_1_2_grams))\n",
    "# # sorted(list(common_1_2_grams))\n",
    "\n",
    "# # common_1_2_grams = common_unigrams | common_bigrams    # older code"
   ]
  },
  {
   "cell_type": "code",
   "execution_count": 95,
   "id": "30c7dd20",
   "metadata": {
    "execution": {
     "iopub.execute_input": "2023-08-13T08:28:54.447231Z",
     "iopub.status.busy": "2023-08-13T08:28:54.446408Z",
     "iopub.status.idle": "2023-08-13T08:28:54.450630Z",
     "shell.execute_reply": "2023-08-13T08:28:54.449848Z"
    },
    "papermill": {
     "duration": 0.117967,
     "end_time": "2023-08-13T08:28:54.453389",
     "exception": false,
     "start_time": "2023-08-13T08:28:54.335422",
     "status": "completed"
    },
    "tags": []
   },
   "outputs": [],
   "source": [
    "# common_trigrams = get_common_vocab([rt_senti, rt_test], ngram_range_list=[(3,3)])\n",
    "# print(len(common_trigrams))\n",
    "# # common_trigrams"
   ]
  },
  {
   "cell_type": "code",
   "execution_count": 96,
   "id": "bde837df",
   "metadata": {
    "execution": {
     "iopub.execute_input": "2023-08-13T08:28:54.671192Z",
     "iopub.status.busy": "2023-08-13T08:28:54.670441Z",
     "iopub.status.idle": "2023-08-13T08:28:54.674821Z",
     "shell.execute_reply": "2023-08-13T08:28:54.673720Z"
    },
    "papermill": {
     "duration": 0.115733,
     "end_time": "2023-08-13T08:28:54.676936",
     "exception": false,
     "start_time": "2023-08-13T08:28:54.561203",
     "status": "completed"
    },
    "tags": []
   },
   "outputs": [],
   "source": [
    "# common_1_2_3_grams = get_common_vocab([rt_senti, rt_test], ngram_range_list=[(1,1), (2,2), (3,3)])\n",
    "# print(len(common_1_2_3_grams))\n",
    "# # sorted((common_1_2_3_grams))\n",
    "\n",
    "# # common_1_2_3_grams = common_unigrams | common_bigrams | common_trigrams    # Older code  "
   ]
  },
  {
   "cell_type": "markdown",
   "id": "11d6d0b2",
   "metadata": {
    "papermill": {
     "duration": 0.106357,
     "end_time": "2023-08-13T08:28:54.890621",
     "exception": false,
     "start_time": "2023-08-13T08:28:54.784264",
     "status": "completed"
    },
    "tags": []
   },
   "source": [
    "### Find common vocabulary between text with positive and negative sentiments in training dataset  "
   ]
  },
  {
   "cell_type": "code",
   "execution_count": 97,
   "id": "c62ec14f",
   "metadata": {
    "execution": {
     "iopub.execute_input": "2023-08-13T08:28:55.108089Z",
     "iopub.status.busy": "2023-08-13T08:28:55.106860Z",
     "iopub.status.idle": "2023-08-13T08:28:55.155893Z",
     "shell.execute_reply": "2023-08-13T08:28:55.154799Z"
    },
    "papermill": {
     "duration": 0.160533,
     "end_time": "2023-08-13T08:28:55.158448",
     "exception": false,
     "start_time": "2023-08-13T08:28:54.997915",
     "status": "completed"
    },
    "tags": []
   },
   "outputs": [
    {
     "data": {
      "text/plain": [
       "(108761, 2)"
      ]
     },
     "execution_count": 97,
     "metadata": {},
     "output_type": "execute_result"
    }
   ],
   "source": [
    "# Dataframe for positive sentiment\n",
    "rt_senti_pos = rt_senti.loc[rt_senti['sentiment'] == 'POSITIVE'].copy()\n",
    "rt_senti_pos.shape"
   ]
  },
  {
   "cell_type": "code",
   "execution_count": 98,
   "id": "e1283c39",
   "metadata": {
    "execution": {
     "iopub.execute_input": "2023-08-13T08:28:55.376699Z",
     "iopub.status.busy": "2023-08-13T08:28:55.376309Z",
     "iopub.status.idle": "2023-08-13T08:28:55.420700Z",
     "shell.execute_reply": "2023-08-13T08:28:55.419666Z"
    },
    "papermill": {
     "duration": 0.155628,
     "end_time": "2023-08-13T08:28:55.423166",
     "exception": false,
     "start_time": "2023-08-13T08:28:55.267538",
     "status": "completed"
    },
    "tags": []
   },
   "outputs": [
    {
     "data": {
      "text/plain": [
       "(53997, 2)"
      ]
     },
     "execution_count": 98,
     "metadata": {},
     "output_type": "execute_result"
    }
   ],
   "source": [
    "# Dataframe for negative sentiment\n",
    "rt_senti_neg = rt_senti.loc[rt_senti['sentiment'] == 'NEGATIVE'].copy()\n",
    "rt_senti_neg.shape"
   ]
  },
  {
   "cell_type": "code",
   "execution_count": 99,
   "id": "5196236f",
   "metadata": {
    "execution": {
     "iopub.execute_input": "2023-08-13T08:28:55.641838Z",
     "iopub.status.busy": "2023-08-13T08:28:55.641454Z",
     "iopub.status.idle": "2023-08-13T08:28:55.645721Z",
     "shell.execute_reply": "2023-08-13T08:28:55.644736Z"
    },
    "papermill": {
     "duration": 0.116906,
     "end_time": "2023-08-13T08:28:55.647864",
     "exception": false,
     "start_time": "2023-08-13T08:28:55.530958",
     "status": "completed"
    },
    "tags": []
   },
   "outputs": [],
   "source": [
    "# Generate stop words/phrases specific for this project data  \n",
    "\n",
    "# common_1_2_3_grams_sentiment = get_common_vocab([rt_senti_pos, rt_senti_neg], ngram_range_list=[(1,1), (2,2), (3,3)])\n",
    "# print(len(common_1_2_3_grams_sentiment))\n",
    "# # sorted(list(common_1_2_3_grams_sentiment))"
   ]
  },
  {
   "cell_type": "code",
   "execution_count": 100,
   "id": "d6b56932",
   "metadata": {
    "execution": {
     "iopub.execute_input": "2023-08-13T08:28:55.867502Z",
     "iopub.status.busy": "2023-08-13T08:28:55.867102Z",
     "iopub.status.idle": "2023-08-13T08:28:55.871559Z",
     "shell.execute_reply": "2023-08-13T08:28:55.870460Z"
    },
    "papermill": {
     "duration": 0.116281,
     "end_time": "2023-08-13T08:28:55.873737",
     "exception": false,
     "start_time": "2023-08-13T08:28:55.757456",
     "status": "completed"
    },
    "tags": []
   },
   "outputs": [],
   "source": [
    "# Generate and store the entire vocabulary of training data  \n",
    "\n",
    "# train_1_2_3_grams = get_vocab(rt_senti['reviewText'], ngram_range=(1,3))\n",
    "# print(len(train_1_2_3_grams))\n",
    "# # sorted(train_1_2_3_grams)"
   ]
  },
  {
   "cell_type": "code",
   "execution_count": 101,
   "id": "8ca85cb6",
   "metadata": {
    "execution": {
     "iopub.execute_input": "2023-08-13T08:28:56.091951Z",
     "iopub.status.busy": "2023-08-13T08:28:56.091252Z",
     "iopub.status.idle": "2023-08-13T08:28:56.095370Z",
     "shell.execute_reply": "2023-08-13T08:28:56.094465Z"
    },
    "papermill": {
     "duration": 0.115467,
     "end_time": "2023-08-13T08:28:56.097593",
     "exception": false,
     "start_time": "2023-08-13T08:28:55.982126",
     "status": "completed"
    },
    "tags": []
   },
   "outputs": [],
   "source": [
    "# type(train_1_2_3_grams)"
   ]
  },
  {
   "cell_type": "code",
   "execution_count": 102,
   "id": "e9b374f5",
   "metadata": {
    "execution": {
     "iopub.execute_input": "2023-08-13T08:28:56.314800Z",
     "iopub.status.busy": "2023-08-13T08:28:56.314387Z",
     "iopub.status.idle": "2023-08-13T08:28:56.319149Z",
     "shell.execute_reply": "2023-08-13T08:28:56.318109Z"
    },
    "papermill": {
     "duration": 0.115903,
     "end_time": "2023-08-13T08:28:56.321278",
     "exception": false,
     "start_time": "2023-08-13T08:28:56.205375",
     "status": "completed"
    },
    "tags": []
   },
   "outputs": [],
   "source": [
    "# Get the vocabulary that should be used in the final models  \n",
    "# relevant_vocab = train_1_2_3_grams - common_1_2_3_grams_sentiment\n",
    "# print(len(relevant_vocab))"
   ]
  },
  {
   "cell_type": "markdown",
   "id": "1b65d361",
   "metadata": {
    "papermill": {
     "duration": 0.107305,
     "end_time": "2023-08-13T08:28:56.536193",
     "exception": false,
     "start_time": "2023-08-13T08:28:56.428888",
     "status": "completed"
    },
    "tags": []
   },
   "source": [
    "## Vocabulary based on audienceScore  "
   ]
  },
  {
   "cell_type": "code",
   "execution_count": 103,
   "id": "832dd5e8",
   "metadata": {
    "execution": {
     "iopub.execute_input": "2023-08-13T08:28:56.756032Z",
     "iopub.status.busy": "2023-08-13T08:28:56.755626Z",
     "iopub.status.idle": "2023-08-13T08:28:57.139145Z",
     "shell.execute_reply": "2023-08-13T08:28:57.138017Z"
    },
    "papermill": {
     "duration": 0.497258,
     "end_time": "2023-08-13T08:28:57.141530",
     "exception": false,
     "start_time": "2023-08-13T08:28:56.644272",
     "status": "completed"
    },
    "tags": []
   },
   "outputs": [
    {
     "data": {
      "text/plain": [
       "<Axes: xlabel='sentiment', ylabel='audienceScore'>"
      ]
     },
     "execution_count": 103,
     "metadata": {},
     "output_type": "execute_result"
    },
    {
     "data": {
      "image/png": "[encoded data removed]",
      "text/plain": [
       "<Figure size 640x480 with 1 Axes>"
      ]
     },
     "metadata": {},
     "output_type": "display_data"
    }
   ],
   "source": [
    "sns.boxplot(y=merged[\"audienceScore\"], x=merged[\"sentiment\"])"
   ]
  },
  {
   "cell_type": "code",
   "execution_count": 104,
   "id": "886342bb",
   "metadata": {
    "execution": {
     "iopub.execute_input": "2023-08-13T08:28:57.362631Z",
     "iopub.status.busy": "2023-08-13T08:28:57.362216Z",
     "iopub.status.idle": "2023-08-13T08:28:57.411681Z",
     "shell.execute_reply": "2023-08-13T08:28:57.410632Z"
    },
    "papermill": {
     "duration": 0.163477,
     "end_time": "2023-08-13T08:28:57.414359",
     "exception": false,
     "start_time": "2023-08-13T08:28:57.250882",
     "status": "completed"
    },
    "tags": []
   },
   "outputs": [
    {
     "data": {
      "text/html": [
       "<div>\n",
       "<style scoped>\n",
       "    .dataframe tbody tr th:only-of-type {\n",
       "        vertical-align: middle;\n",
       "    }\n",
       "\n",
       "    .dataframe tbody tr th {\n",
       "        vertical-align: top;\n",
       "    }\n",
       "\n",
       "    .dataframe thead th {\n",
       "        text-align: right;\n",
       "    }\n",
       "</style>\n",
       "<table border=\"1\" class=\"dataframe\">\n",
       "  <thead>\n",
       "    <tr style=\"text-align: right;\">\n",
       "      <th></th>\n",
       "      <th>count</th>\n",
       "      <th>mean</th>\n",
       "      <th>std</th>\n",
       "      <th>min</th>\n",
       "      <th>25%</th>\n",
       "      <th>50%</th>\n",
       "      <th>75%</th>\n",
       "      <th>max</th>\n",
       "    </tr>\n",
       "    <tr>\n",
       "      <th>sentiment</th>\n",
       "      <th></th>\n",
       "      <th></th>\n",
       "      <th></th>\n",
       "      <th></th>\n",
       "      <th></th>\n",
       "      <th></th>\n",
       "      <th></th>\n",
       "      <th></th>\n",
       "    </tr>\n",
       "  </thead>\n",
       "  <tbody>\n",
       "    <tr>\n",
       "      <th>NEGATIVE</th>\n",
       "      <td>53997.0</td>\n",
       "      <td>56.474786</td>\n",
       "      <td>19.902115</td>\n",
       "      <td>0.0</td>\n",
       "      <td>41.0</td>\n",
       "      <td>57.0</td>\n",
       "      <td>72.0</td>\n",
       "      <td>100.0</td>\n",
       "    </tr>\n",
       "    <tr>\n",
       "      <th>POSITIVE</th>\n",
       "      <td>108761.0</td>\n",
       "      <td>69.326174</td>\n",
       "      <td>18.380626</td>\n",
       "      <td>0.0</td>\n",
       "      <td>58.0</td>\n",
       "      <td>73.0</td>\n",
       "      <td>84.0</td>\n",
       "      <td>100.0</td>\n",
       "    </tr>\n",
       "  </tbody>\n",
       "</table>\n",
       "</div>"
      ],
      "text/plain": [
       "              count       mean        std  min   25%   50%   75%    max\n",
       "sentiment                                                              \n",
       "NEGATIVE    53997.0  56.474786  19.902115  0.0  41.0  57.0  72.0  100.0\n",
       "POSITIVE   108761.0  69.326174  18.380626  0.0  58.0  73.0  84.0  100.0"
      ]
     },
     "execution_count": 104,
     "metadata": {},
     "output_type": "execute_result"
    }
   ],
   "source": [
    "merged.groupby('sentiment')['audienceScore'].describe()"
   ]
  },
  {
   "cell_type": "code",
   "execution_count": 105,
   "id": "8aecd434",
   "metadata": {
    "execution": {
     "iopub.execute_input": "2023-08-13T08:28:57.636787Z",
     "iopub.status.busy": "2023-08-13T08:28:57.636407Z",
     "iopub.status.idle": "2023-08-13T08:28:57.640810Z",
     "shell.execute_reply": "2023-08-13T08:28:57.639716Z"
    },
    "papermill": {
     "duration": 0.117931,
     "end_time": "2023-08-13T08:28:57.643225",
     "exception": false,
     "start_time": "2023-08-13T08:28:57.525294",
     "status": "completed"
    },
    "tags": []
   },
   "outputs": [],
   "source": [
    "# pos_scores = merged[['reviewText', 'sentiment']].loc[(merged['audienceScore'] > 73) & (merged['sentiment'] == 'POSITIVE')].copy()\n",
    "# pos_scores.shape, pos_scores.head()"
   ]
  },
  {
   "cell_type": "code",
   "execution_count": 106,
   "id": "4802e053",
   "metadata": {
    "execution": {
     "iopub.execute_input": "2023-08-13T08:28:57.864394Z",
     "iopub.status.busy": "2023-08-13T08:28:57.863965Z",
     "iopub.status.idle": "2023-08-13T08:28:57.868374Z",
     "shell.execute_reply": "2023-08-13T08:28:57.867109Z"
    },
    "papermill": {
     "duration": 0.11742,
     "end_time": "2023-08-13T08:28:57.870809",
     "exception": false,
     "start_time": "2023-08-13T08:28:57.753389",
     "status": "completed"
    },
    "tags": []
   },
   "outputs": [],
   "source": [
    "# pos_scores['sentiment'].value_counts()"
   ]
  },
  {
   "cell_type": "code",
   "execution_count": 107,
   "id": "76818f59",
   "metadata": {
    "execution": {
     "iopub.execute_input": "2023-08-13T08:28:58.091722Z",
     "iopub.status.busy": "2023-08-13T08:28:58.091329Z",
     "iopub.status.idle": "2023-08-13T08:28:58.095839Z",
     "shell.execute_reply": "2023-08-13T08:28:58.094758Z"
    },
    "papermill": {
     "duration": 0.118114,
     "end_time": "2023-08-13T08:28:58.098356",
     "exception": false,
     "start_time": "2023-08-13T08:28:57.980242",
     "status": "completed"
    },
    "tags": []
   },
   "outputs": [],
   "source": [
    "# neg_scores = merged[['reviewText', 'sentiment']].loc[(merged['audienceScore'] < 57) & (merged['sentiment'] == 'NEGATIVE')].copy()\n",
    "# neg_scores.shape, neg_scores.head()"
   ]
  },
  {
   "cell_type": "code",
   "execution_count": 108,
   "id": "913a84f2",
   "metadata": {
    "execution": {
     "iopub.execute_input": "2023-08-13T08:28:58.318595Z",
     "iopub.status.busy": "2023-08-13T08:28:58.318200Z",
     "iopub.status.idle": "2023-08-13T08:28:58.322829Z",
     "shell.execute_reply": "2023-08-13T08:28:58.321756Z"
    },
    "papermill": {
     "duration": 0.117767,
     "end_time": "2023-08-13T08:28:58.325006",
     "exception": false,
     "start_time": "2023-08-13T08:28:58.207239",
     "status": "completed"
    },
    "tags": []
   },
   "outputs": [],
   "source": [
    "# neg_scores['sentiment'].value_counts()"
   ]
  },
  {
   "cell_type": "code",
   "execution_count": 109,
   "id": "78a32dd9",
   "metadata": {
    "execution": {
     "iopub.execute_input": "2023-08-13T08:28:58.543625Z",
     "iopub.status.busy": "2023-08-13T08:28:58.543238Z",
     "iopub.status.idle": "2023-08-13T08:28:58.547402Z",
     "shell.execute_reply": "2023-08-13T08:28:58.546561Z"
    },
    "papermill": {
     "duration": 0.115777,
     "end_time": "2023-08-13T08:28:58.549489",
     "exception": false,
     "start_time": "2023-08-13T08:28:58.433712",
     "status": "completed"
    },
    "tags": []
   },
   "outputs": [],
   "source": [
    "# common_pos_neg_scores = get_common_vocab([pos_scores, neg_scores], ngram_range_list=[(1,1), (2,2), (3,3)])\n",
    "# print(len(common_pos_neg_scores))\n",
    "# # sorted(list(common_pos_neg_scores))"
   ]
  },
  {
   "cell_type": "code",
   "execution_count": 110,
   "id": "0f616c8e",
   "metadata": {
    "execution": {
     "iopub.execute_input": "2023-08-13T08:28:58.767280Z",
     "iopub.status.busy": "2023-08-13T08:28:58.766848Z",
     "iopub.status.idle": "2023-08-13T08:28:58.771547Z",
     "shell.execute_reply": "2023-08-13T08:28:58.770424Z"
    },
    "papermill": {
     "duration": 0.116114,
     "end_time": "2023-08-13T08:28:58.773741",
     "exception": false,
     "start_time": "2023-08-13T08:28:58.657627",
     "status": "completed"
    },
    "tags": []
   },
   "outputs": [],
   "source": [
    "# pos_vocab = get_common_vocab([pos_scores, pos_scores], ngram_range_list=[(1,1), (2,2), (3,3)])\n",
    "# print(len(pos_vocab))\n",
    "# # sorted(list(pos_vocab))"
   ]
  },
  {
   "cell_type": "code",
   "execution_count": 111,
   "id": "6cdb596d",
   "metadata": {
    "execution": {
     "iopub.execute_input": "2023-08-13T08:28:58.992062Z",
     "iopub.status.busy": "2023-08-13T08:28:58.991593Z",
     "iopub.status.idle": "2023-08-13T08:28:58.996553Z",
     "shell.execute_reply": "2023-08-13T08:28:58.995593Z"
    },
    "papermill": {
     "duration": 0.117923,
     "end_time": "2023-08-13T08:28:58.999958",
     "exception": false,
     "start_time": "2023-08-13T08:28:58.882035",
     "status": "completed"
    },
    "tags": []
   },
   "outputs": [],
   "source": [
    "# print(len(get_vocab(pos_scores['reviewText'], ngram_range=(1,1))))\n",
    "# print(len(get_vocab(pos_scores['reviewText'], ngram_range=(2,2))))\n",
    "# print(len(get_vocab(pos_scores['reviewText'], ngram_range=(3,3))))"
   ]
  },
  {
   "cell_type": "code",
   "execution_count": 112,
   "id": "f137c35e",
   "metadata": {
    "execution": {
     "iopub.execute_input": "2023-08-13T08:28:59.216923Z",
     "iopub.status.busy": "2023-08-13T08:28:59.216510Z",
     "iopub.status.idle": "2023-08-13T08:28:59.221399Z",
     "shell.execute_reply": "2023-08-13T08:28:59.220305Z"
    },
    "papermill": {
     "duration": 0.116096,
     "end_time": "2023-08-13T08:28:59.223817",
     "exception": false,
     "start_time": "2023-08-13T08:28:59.107721",
     "status": "completed"
    },
    "tags": []
   },
   "outputs": [],
   "source": [
    "# neg_vocab = get_common_vocab([neg_scores, neg_scores], ngram_range_list=[(1,1), (2,2), (3,3)])\n",
    "# print(len(neg_vocab))\n",
    "# # sorted(list(neg_vocab))"
   ]
  },
  {
   "cell_type": "code",
   "execution_count": 113,
   "id": "b1cf4f1f",
   "metadata": {
    "execution": {
     "iopub.execute_input": "2023-08-13T08:28:59.505119Z",
     "iopub.status.busy": "2023-08-13T08:28:59.504678Z",
     "iopub.status.idle": "2023-08-13T08:28:59.509661Z",
     "shell.execute_reply": "2023-08-13T08:28:59.508426Z"
    },
    "papermill": {
     "duration": 0.116823,
     "end_time": "2023-08-13T08:28:59.511916",
     "exception": false,
     "start_time": "2023-08-13T08:28:59.395093",
     "status": "completed"
    },
    "tags": []
   },
   "outputs": [],
   "source": [
    "# print(len(get_vocab(neg_scores['reviewText'], ngram_range=(1,1))))\n",
    "# print(len(get_vocab(neg_scores['reviewText'], ngram_range=(2,2))))\n",
    "# print(len(get_vocab(neg_scores['reviewText'], ngram_range=(3,3))))"
   ]
  },
  {
   "cell_type": "code",
   "execution_count": 114,
   "id": "ad3eb04a",
   "metadata": {
    "execution": {
     "iopub.execute_input": "2023-08-13T08:28:59.733207Z",
     "iopub.status.busy": "2023-08-13T08:28:59.732785Z",
     "iopub.status.idle": "2023-08-13T08:28:59.737404Z",
     "shell.execute_reply": "2023-08-13T08:28:59.736308Z"
    },
    "papermill": {
     "duration": 0.118275,
     "end_time": "2023-08-13T08:28:59.739765",
     "exception": false,
     "start_time": "2023-08-13T08:28:59.621490",
     "status": "completed"
    },
    "tags": []
   },
   "outputs": [],
   "source": [
    "# len(pos_vocab), len(neg_vocab), len(pos_vocab - neg_vocab), len(neg_vocab - pos_vocab), len(pos_vocab & neg_vocab)"
   ]
  },
  {
   "cell_type": "markdown",
   "id": "c1193307",
   "metadata": {
    "papermill": {
     "duration": 0.110405,
     "end_time": "2023-08-13T08:28:59.960304",
     "exception": false,
     "start_time": "2023-08-13T08:28:59.849899",
     "status": "completed"
    },
    "tags": []
   },
   "source": [
    "### Common pos, neg vocabs among train and test  "
   ]
  },
  {
   "cell_type": "code",
   "execution_count": 115,
   "id": "95661f4e",
   "metadata": {
    "execution": {
     "iopub.execute_input": "2023-08-13T08:29:00.182664Z",
     "iopub.status.busy": "2023-08-13T08:29:00.182248Z",
     "iopub.status.idle": "2023-08-13T08:29:00.186309Z",
     "shell.execute_reply": "2023-08-13T08:29:00.185344Z"
    },
    "papermill": {
     "duration": 0.117619,
     "end_time": "2023-08-13T08:29:00.188891",
     "exception": false,
     "start_time": "2023-08-13T08:29:00.071272",
     "status": "completed"
    },
    "tags": []
   },
   "outputs": [],
   "source": [
    "# len(common_1_2_3_grams & (pos_vocab - neg_vocab))"
   ]
  },
  {
   "cell_type": "code",
   "execution_count": 116,
   "id": "f65cc0bc",
   "metadata": {
    "execution": {
     "iopub.execute_input": "2023-08-13T08:29:00.409573Z",
     "iopub.status.busy": "2023-08-13T08:29:00.409112Z",
     "iopub.status.idle": "2023-08-13T08:29:00.414023Z",
     "shell.execute_reply": "2023-08-13T08:29:00.413092Z"
    },
    "papermill": {
     "duration": 0.118243,
     "end_time": "2023-08-13T08:29:00.416316",
     "exception": false,
     "start_time": "2023-08-13T08:29:00.298073",
     "status": "completed"
    },
    "tags": []
   },
   "outputs": [],
   "source": [
    "# len(common_1_2_3_grams & (neg_vocab - pos_vocab))"
   ]
  },
  {
   "cell_type": "code",
   "execution_count": 117,
   "id": "29a995a5",
   "metadata": {
    "execution": {
     "iopub.execute_input": "2023-08-13T08:29:00.636179Z",
     "iopub.status.busy": "2023-08-13T08:29:00.635191Z",
     "iopub.status.idle": "2023-08-13T08:29:00.645255Z",
     "shell.execute_reply": "2023-08-13T08:29:00.644183Z"
    },
    "papermill": {
     "duration": 0.122356,
     "end_time": "2023-08-13T08:29:00.647523",
     "exception": false,
     "start_time": "2023-08-13T08:29:00.525167",
     "status": "completed"
    },
    "tags": []
   },
   "outputs": [],
   "source": [
    "def audienceScore_vocab(df_list, scores=(57, 73), ngram_range_list=[(1,1), (2,2), (3,3)]):\n",
    "    train = df_list[0]\n",
    "    test = df_list[1]\n",
    "\n",
    "    lower_bound = scores[0]\n",
    "    upper_bound = scores[1]\n",
    "\n",
    "    common_ngrams = get_common_vocab([train, test], ngram_range_list=ngram_range_list)\n",
    "\n",
    "    pos_scores = train[['reviewText', 'sentiment']].loc[(train['audienceScore'] > upper_bound) & (train['sentiment'] == 'POSITIVE')].copy()\n",
    "    neg_scores = train[['reviewText', 'sentiment']].loc[(train['audienceScore'] < lower_bound) & (train['sentiment'] == 'NEGATIVE')].copy()\n",
    "\n",
    "    pos_vocab = get_common_vocab([pos_scores, pos_scores], ngram_range_list=ngram_range_list)\n",
    "    neg_vocab = get_common_vocab([neg_scores, neg_scores], ngram_range_list=ngram_range_list)\n",
    "\n",
    "    pure_common_pos = common_ngrams & (pos_vocab - neg_vocab)\n",
    "    pure_common_neg = common_ngrams & (neg_vocab - pos_vocab)\n",
    "\n",
    "    return pure_common_pos, pure_common_neg"
   ]
  },
  {
   "cell_type": "code",
   "execution_count": 118,
   "id": "1da90369",
   "metadata": {
    "execution": {
     "iopub.execute_input": "2023-08-13T08:29:00.869409Z",
     "iopub.status.busy": "2023-08-13T08:29:00.868960Z",
     "iopub.status.idle": "2023-08-13T08:29:00.874267Z",
     "shell.execute_reply": "2023-08-13T08:29:00.872907Z"
    },
    "papermill": {
     "duration": 0.119971,
     "end_time": "2023-08-13T08:29:00.876752",
     "exception": false,
     "start_time": "2023-08-13T08:29:00.756781",
     "status": "completed"
    },
    "tags": []
   },
   "outputs": [],
   "source": [
    "# pcp, pcn = audienceScore_vocab([merged, merged_test])\n",
    "# len(pcp), len(pcn)"
   ]
  },
  {
   "cell_type": "code",
   "execution_count": 119,
   "id": "03c12504",
   "metadata": {
    "execution": {
     "iopub.execute_input": "2023-08-13T08:29:01.100794Z",
     "iopub.status.busy": "2023-08-13T08:29:01.099939Z",
     "iopub.status.idle": "2023-08-13T08:29:01.104602Z",
     "shell.execute_reply": "2023-08-13T08:29:01.103804Z"
    },
    "papermill": {
     "duration": 0.121041,
     "end_time": "2023-08-13T08:29:01.106979",
     "exception": false,
     "start_time": "2023-08-13T08:29:00.985938",
     "status": "completed"
    },
    "tags": []
   },
   "outputs": [],
   "source": [
    "# pc = pcp | pcn\n",
    "# sorted(list(pc))"
   ]
  },
  {
   "cell_type": "markdown",
   "id": "74af35ed",
   "metadata": {
    "papermill": {
     "duration": 0.108589,
     "end_time": "2023-08-13T08:29:01.326125",
     "exception": false,
     "start_time": "2023-08-13T08:29:01.217536",
     "status": "completed"
    },
    "tags": []
   },
   "source": [
    "# Submit_v5 for merged file models  "
   ]
  },
  {
   "cell_type": "markdown",
   "id": "0fe7144c",
   "metadata": {
    "papermill": {
     "duration": 0.108085,
     "end_time": "2023-08-13T08:29:01.543329",
     "exception": false,
     "start_time": "2023-08-13T08:29:01.435244",
     "status": "completed"
    },
    "tags": []
   },
   "source": [
    "### More Helper functions  "
   ]
  },
  {
   "cell_type": "code",
   "execution_count": 120,
   "id": "50c232c8",
   "metadata": {
    "execution": {
     "iopub.execute_input": "2023-08-13T08:29:01.763011Z",
     "iopub.status.busy": "2023-08-13T08:29:01.762645Z",
     "iopub.status.idle": "2023-08-13T08:29:01.769463Z",
     "shell.execute_reply": "2023-08-13T08:29:01.768720Z"
    },
    "papermill": {
     "duration": 0.118777,
     "end_time": "2023-08-13T08:29:01.771697",
     "exception": false,
     "start_time": "2023-08-13T08:29:01.652920",
     "status": "completed"
    },
    "tags": []
   },
   "outputs": [],
   "source": [
    "# Testing predictions on missing reviewtext columns  \n",
    "\n",
    "def predict_on_missing_review_data(pipe, selected_features, merged_train):\n",
    "    missing_reviews_train = merged_train.loc[merged_train['reviewYN'] == 1]\n",
    "    missing_reviews_train.reset_index(drop=True)\n",
    "    X_train_miss_revs = missing_reviews_train.drop('sentiment', axis = 1)\n",
    "    X_train_miss_revs = X_train_miss_revs[selected_features]\n",
    "    y_train_miss_revs = missing_reviews_train['sentiment']\n",
    "    \n",
    "    y_pred_miss_revs = pipe.predict(X_train_miss_revs)\n",
    "#     print('Predictions on rows which had missing reviewText')\n",
    "    print(\"Confusion matrix and f1-score for rows which have no reviewText in X_train: \")\n",
    "    print(confusion_matrix(y_train_miss_revs, y_pred_miss_revs, labels=pipe.classes_))\n",
    "    \n",
    "    return f1_score(y_train_miss_revs, y_pred_miss_revs, average='micro')"
   ]
  },
  {
   "cell_type": "code",
   "execution_count": 121,
   "id": "5b757642",
   "metadata": {
    "execution": {
     "iopub.execute_input": "2023-08-13T08:29:01.995265Z",
     "iopub.status.busy": "2023-08-13T08:29:01.994519Z",
     "iopub.status.idle": "2023-08-13T08:29:02.191154Z",
     "shell.execute_reply": "2023-08-13T08:29:02.189833Z"
    },
    "papermill": {
     "duration": 0.31245,
     "end_time": "2023-08-13T08:29:02.194423",
     "exception": false,
     "start_time": "2023-08-13T08:29:01.881973",
     "status": "completed"
    },
    "tags": []
   },
   "outputs": [],
   "source": [
    "# Function to build pipelines for GridSearchCV which goes into the final 'submit' function  \n",
    "def build_pipeline(selected_model=LogisticRegression(), \n",
    "                   selected_features={'txt': ['reviewText']}, \n",
    "                   param_grid=None,\n",
    "                   vocab=None,\n",
    "                   vocab_usage='tfidf',\n",
    "                   strip_accents='unicode', \n",
    "                   add_countvec=False,\n",
    "                   vocab_audscore=None,\n",
    "                  poly=True):\n",
    "    # Encoders  \n",
    "    ohe = OneHotEncoder(sparse_output=False, handle_unknown='ignore')\n",
    "    MMscaler = MinMaxScaler()\n",
    "    StdScaler = StandardScaler()\n",
    "    RobScaler = RobustScaler()\n",
    "    \n",
    "    # Categorical features\n",
    "    cat_pipe = Pipeline(steps=[\n",
    "                            (\"ohe\", ohe),\n",
    "                        ])\n",
    "    \n",
    "    # Numerical features\n",
    "    num_pipe = Pipeline(steps=[\n",
    "                            (\"robscaler\", RobustScaler()),\n",
    "                            (\"stdscaler\", StandardScaler())\n",
    "                        ])\n",
    "    num_pipe_poly = Pipeline(steps=[\n",
    "                            (\"robscaler\", RobustScaler()),\n",
    "                            (\"stdscaler\", StandardScaler()),\n",
    "                            (\"poly\", PolynomialFeatures(degree=2, interaction_only=True, include_bias=False))\n",
    "                        ])\n",
    "    \n",
    "    # Text features ['reviewText', 'reviewerName', 'movieid', 'genre', 'director']\n",
    "    tfidf_vec = TfidfVectorizer(ngram_range=(1,2))\n",
    "    count_vec = CountVectorizer(ngram_range=(1,2))\n",
    "    txt_pipe = Pipeline(steps=[\n",
    "                            (\"tvec\", TfidfVectorizer(ngram_range=(1,4), strip_accents=strip_accents))    # Adjust ngram_range here for reviewText\n",
    "                        ])\n",
    "    txt_pipe_vocab = Pipeline(steps=[\n",
    "                            (\"tvec\", TfidfVectorizer(ngram_range=(1,4), strip_accents=strip_accents, vocabulary=vocab))    # Adjust ngram_range here for reviewText\n",
    "                        ])\n",
    "    txt_pipe_2 = Pipeline(steps=[\n",
    "                            (\"tvec\", TfidfVectorizer(ngram_range=(2,2)))\n",
    "                        ])\n",
    "    txt_pipe_3 = Pipeline(steps=[\n",
    "                            (\"tvec\", TfidfVectorizer(ngram_range=(1,1)))\n",
    "                        ])\n",
    "    txt_pipe_4 = Pipeline(steps=[\n",
    "                            (\"tvec\", TfidfVectorizer(ngram_range=(1,3)))    # Adjust ngram_range here for reviewText\n",
    "                        ])\n",
    "    txt_pipe_title  = Pipeline(steps=[\n",
    "                            (\"tvec\", TfidfVectorizer(ngram_range=(1,5)))    # Adjust ngram_range here for reviewText\n",
    "                        ])\n",
    "    \n",
    "    # Additional pipes for count vectorizer\n",
    "    txt_pipe_countvec = Pipeline(steps=[\n",
    "                            (\"cvec\", CountVectorizer(ngram_range=(1,4), strip_accents=strip_accents))    # Adjust ngram_range here for reviewText\n",
    "                        ])\n",
    "    txt_pipe_countvec_vocab = Pipeline(steps=[\n",
    "                            (\"cvec\", CountVectorizer(ngram_range=(1,4), strip_accents=strip_accents, vocabulary=vocab))    # Adjust ngram_range here for reviewText\n",
    "                        ])\n",
    "    txt_pipe_countvec_vocab_audscore = Pipeline(steps=[\n",
    "                            (\"cvec\", CountVectorizer(ngram_range=(1,4), strip_accents=strip_accents, vocabulary=vocab_audscore))    # Adjust ngram_range here for reviewText\n",
    "                        ])\n",
    "    \n",
    "    txt_pipe_countvec_ratingContents = Pipeline(steps=[\n",
    "                            (\"cvec\", CountVectorizer(ngram_range=(1,5)))    # Adjust ngram_range here for reviewText\n",
    "                        ])\n",
    "    txt_pipe_countvec_rcSorted = Pipeline(steps=[\n",
    "                            (\"cvec\", CountVectorizer(ngram_range=(1,1)))    # Adjust ngram_range here for reviewText\n",
    "                        ])\n",
    "    txt_pipe_countvec_genre = Pipeline(steps=[\n",
    "                            (\"cvec\", CountVectorizer(ngram_range=(1,1)))\n",
    "                        ])\n",
    "    txt_pipe_countvec_genreSorted = Pipeline(steps=[\n",
    "                            (\"cvec\", CountVectorizer(ngram_range=(1,5)))\n",
    "                        ])\n",
    "    txt_pipe_countvec_distributor = Pipeline(steps=[\n",
    "                            (\"cvec\", CountVectorizer(ngram_range=(1,3)))    # Adjust ngram_range here for reviewText\n",
    "                        ])\n",
    "    txt_pipe_countvec_title = Pipeline(steps=[\n",
    "                            (\"cvec\", CountVectorizer(ngram_range=(1,5), strip_accents=strip_accents))\n",
    "                        ])\n",
    "    txt_pipe_countvec_movieid = Pipeline(steps=[\n",
    "                            (\"cvec\", CountVectorizer(ngram_range=(1,1)))\n",
    "                        ])\n",
    "    # Basic pipes  \n",
    "    TFs = []\n",
    "    try:\n",
    "        TFs.append((f\"cat\", ohe, selected_features['cat']))\n",
    "#         for c in selected_features['cat']:\n",
    "#             TFs.append((f\"cat_{c}\", ohe, [c]))\n",
    "    except:\n",
    "        pass\n",
    "    \n",
    "    try:\n",
    "        if poly:\n",
    "            TFs.append((f\"num\", num_pipe_poly, selected_features['num']))\n",
    "        else:\n",
    "            TFs.append((f\"num\", num_pipe, selected_features['num']))\n",
    "#             for n in selected_features['num']:\n",
    "#                 if n in [\"runtimeMinutes\", \"boxOffice\", \"releaseDiff\"]:\n",
    "#                     TFs.append((f\"num_{n}\", RobScaler, [n]))\n",
    "#                     TFs.append((f\"num_{n}_ss\", StdScaler, [n]))\n",
    "\n",
    "#                 else:\n",
    "#                     TFs.append((f\"num_{n}\", StdScaler, [n]))\n",
    "    except:\n",
    "        pass\n",
    "    \n",
    "    try:\n",
    "        for t in selected_features['txt']:\n",
    "            if t in ['director', 'reviewerName']:\n",
    "                TFs.append((f\"txt_{t}\", txt_pipe_2, t))\n",
    "            elif t in [\"originalLanguage\", \"releaseYear\"]:\n",
    "                TFs.append((f\"txt_{t}\", txt_pipe_3, t))\n",
    "            elif t in ['genre']:\n",
    "                TFs.append((f\"txt_{t}\", txt_pipe_countvec_genre, t))\n",
    "            elif t in [\"genreSorted\"]:\n",
    "                TFs.append((f\"txt_{t}\", txt_pipe_countvec_genreSorted, t))\n",
    "            elif t in [\"distributor\"]:\n",
    "                TFs.append((f\"txt_{t}\", txt_pipe_countvec_distributor, t))\n",
    "                \n",
    "            elif t in ['reviewText']:\n",
    "#                 if vocab and (vocab_usage in [\"tfidf\", \"both\"]):\n",
    "#                     txt_pipe.set_params(tvec__vocabulary=vocab)\n",
    "#                     txt_pipe.set_params(tvec__stop_words='english')\n",
    "                TFs.append((f\"txt_{t}\", txt_pipe, t))\n",
    "            elif t in ['reviewText_2']:\n",
    "                if add_countvec:\n",
    "#                     if vocab and (vocab_usage in [\"count\", \"both\"]):\n",
    "#                         txt_pipe_countvec.set_params(cvec__vocabulary=vocab)\n",
    "#                         txt_pipe_countvec.set_params(cvec__stop_words='english')\n",
    "                    TFs.append((f\"txt_{t}\", txt_pipe_countvec, t))\n",
    "            elif t in ['reviewText_3']:\n",
    "                if vocab_usage == 'tfidf':\n",
    "                    TFs.append((f\"txt_{t}\", txt_pipe_vocab, t))\n",
    "                elif vocab_usage == 'count':\n",
    "                    TFs.append((f\"txt_{t}\", txt_pipe_countvec_vocab, t))\n",
    "            elif t in ['reviewText_4']:\n",
    "                if vocab_audscore:                    \n",
    "                    TFs.append((f\"txt_{t}\", txt_pipe_countvec_vocab_audscore, t))\n",
    "                    \n",
    "            elif t in [\"ratingContents\"]:\n",
    "                TFs.append((f\"txt_{t}\", txt_pipe_countvec_ratingContents, t))\n",
    "            elif t in [\"rcSorted\"]:\n",
    "                TFs.append((f\"txt_{t}\", txt_pipe_countvec_rcSorted, t))\n",
    "            elif t in [\"title\"]:\n",
    "                TFs.append((f\"txt_{t}\", txt_pipe_title, t))\n",
    "            elif t in [\"movieid\"]:\n",
    "                TFs.append((f\"txt_{t}\", txt_pipe_countvec_movieid, t))\n",
    "            else:\n",
    "                pass\n",
    "    except:\n",
    "        pass\n",
    "\n",
    "    # Build ColumnTransformer  \n",
    "    ct = ColumnTransformer(transformers=TFs, remainder='drop')\n",
    "\n",
    "    # Build Pipeline\n",
    "    pipe = Pipeline(steps=[('ct', ct), ('model', selected_model)])\n",
    "    print(\"\\nPipeline built successfully.\")\n",
    "\n",
    "    # Use the pipe in GridSearchCV\n",
    "    if param_grid == None:\n",
    "        param_grid_temp = {\"model__C\": [1],\n",
    "                     'model__solver': ['liblinear']}\n",
    "        print(\"Full GridSearchCV pipeline built successfully with basic default param_grid.\\n\")\n",
    "        pipeCV = GridSearchCV(pipe, param_grid_temp, cv=10, scoring=\"f1_micro\", n_jobs=-1)\n",
    "        return pipeCV\n",
    "    \n",
    "    # GridSearchCV if param_grid provided\n",
    "    if param_grid:\n",
    "        pipeCV = GridSearchCV(pipe, param_grid, cv=10, scoring=\"f1_micro\", n_jobs=-1)\n",
    "        print(\"\\nFull GridSearchCV pipeline built successfully.\")\n",
    "        return pipeCV"
   ]
  },
  {
   "cell_type": "code",
   "execution_count": 122,
   "id": "767c6849",
   "metadata": {
    "execution": {
     "iopub.execute_input": "2023-08-13T08:29:02.415867Z",
     "iopub.status.busy": "2023-08-13T08:29:02.415398Z",
     "iopub.status.idle": "2023-08-13T08:29:02.433806Z",
     "shell.execute_reply": "2023-08-13T08:29:02.432515Z"
    },
    "papermill": {
     "duration": 0.132317,
     "end_time": "2023-08-13T08:29:02.436165",
     "exception": false,
     "start_time": "2023-08-13T08:29:02.303848",
     "status": "completed"
    },
    "tags": []
   },
   "outputs": [],
   "source": [
    "def preprocessor(imputer_type='simple'):\n",
    "    \n",
    "    \"\"\"Preprocess train or test data. Choose 'simple' or 'knn' imputers to impute missing numerical values\"\"\"\n",
    "    \n",
    "    # Set imputer  \n",
    "    if imputer_type == 'simple':\n",
    "        imputer = SimpleImputer(strategy='median')\n",
    "        print(imputer)\n",
    "    elif imputer_type == 'knn':\n",
    "        imputer = KNNImputer(weights='distance', n_neighbors=3)    # Adjust KNNImputer params here\n",
    "        print(imputer)\n",
    "\n",
    "\n",
    "    \n",
    "    # Merge and preprocess train and movies data  \n",
    "    merged = select_features(load_csv(\"train\"), load_csv(\"movies\"), row_thresh_null=None)    # Decide if you want to drop any rows containing lot of nulls\n",
    "    \n",
    "    # Impute missing numerical values  \n",
    "    merged[['audienceScore', 'runtimeMinutes', 'boxOffice']] = imputer.fit_transform(merged[['audienceScore', 'runtimeMinutes', 'boxOffice']])\n",
    "    merged['releaseDate'] = merged[\"releaseDate\"].fillna(merged[\"releaseDate\"].median())\n",
    "\n",
    "    # Create new feature columns\n",
    "    \n",
    "    # Convert audienceScore to categories  \n",
    "    num_bins_as = 20\n",
    "    merged[\"audScoreBins\"] = pd.cut(merged['audienceScore'], bins=num_bins_as, labels=False)\n",
    "\n",
    "    # Convert runtimeMinutes to categories  \n",
    "#     num_bins_rt = 20\n",
    "    merged[\"runtimeBins\"] = pd.cut(merged['runtimeMinutes'], bins=[0,75,120,180,565], labels=[4,3,2,1])\n",
    "    \n",
    "    # Convert boxOffice to categories  \n",
    "    num_bins_bo = 5\n",
    "    merged[\"boxOfficeBins\"] = pd.cut(merged['boxOffice'], bins=num_bins_bo, labels=False)\n",
    "    \n",
    "    # Convert releaseDiff to categories  \n",
    "    num_bins_rd = 5\n",
    "    merged[\"releaseDiffBins\"] = pd.cut(merged['releaseDiff'], bins=[-1, 180, 360, 1000, 40000], labels=[0, 1, 2, 3])\n",
    "    \n",
    "    # Check1 (preprocessor)\n",
    "    print(\"\\nCheck 1 (preprocessor) complete.\")\n",
    "    print(f\"Shape of X_train: {merged.shape}\")\n",
    "    print(f\"Features in X_train: {merged.columns}\")\n",
    "\n",
    "\n",
    "    \n",
    "    # Merge and preprocess test and movies data  \n",
    "    merged_test = select_features(load_csv(\"test\"), load_csv(\"movies\"))\n",
    "    \n",
    "    # Transform ['audienceScore', 'runtimeMinutes', 'boxOffice'] columns in merged_test using 'imputer' fitted on 'merged' df  \n",
    "    merged_test[['audienceScore', 'runtimeMinutes', 'boxOffice']] = imputer.transform(merged_test[['audienceScore', 'runtimeMinutes', 'boxOffice']])\n",
    "    \n",
    "    # Fill 'releaseDate' column in 'merged_test' df with median from the train (merged) df  \n",
    "    merged_test['releaseDate'] = merged_test[\"releaseDate\"].fillna(merged[\"releaseDate\"].median())\n",
    "\n",
    "    \n",
    "    # Create new feature columns\n",
    "    \n",
    "    # Convert audienceScore to categories  \n",
    "    num_bins_as = 20\n",
    "    merged_test[\"audScoreBins\"] = pd.cut(merged_test['audienceScore'], bins=num_bins_as, labels=False)\n",
    "    \n",
    "    # Convert runtimeMinutes to categories  \n",
    "#     num_bins_rt = 20\n",
    "    merged_test[\"runtimeBins\"] = pd.cut(merged_test['runtimeMinutes'], bins=[0,75,120,180,565], labels=[4,3,2,1])\n",
    "    \n",
    "    # Convert boxOffice to categories  \n",
    "    num_bins_bo = 5\n",
    "    merged_test[\"boxOfficeBins\"] = pd.cut(merged_test['boxOffice'], bins=num_bins_bo, labels=False)\n",
    "    \n",
    "    # Convert releaseDiff to categories  \n",
    "    num_bins_rd = 5\n",
    "    merged_test[\"releaseDiffBins\"] = pd.cut(merged_test['releaseDiff'], bins=[-1, 180, 360, 1000, 40000], labels=[0, 1, 2, 3])\n",
    "    \n",
    "    \n",
    "    # Check2 (preprocessor)\n",
    "    print(\"\\nCheck 2 (preprocessor) complete.\")\n",
    "    print(f\"Shape of X_test: {merged_test.shape}\")\n",
    "    print(f\"Features in X_test: {merged_test.columns}\")\n",
    "\n",
    "    return merged, merged_test\n",
    "    "
   ]
  },
  {
   "cell_type": "code",
   "execution_count": 123,
   "id": "1d0fb305",
   "metadata": {
    "execution": {
     "iopub.execute_input": "2023-08-13T08:29:02.656604Z",
     "iopub.status.busy": "2023-08-13T08:29:02.655816Z",
     "iopub.status.idle": "2023-08-13T08:29:02.660372Z",
     "shell.execute_reply": "2023-08-13T08:29:02.659588Z"
    },
    "papermill": {
     "duration": 0.117512,
     "end_time": "2023-08-13T08:29:02.662598",
     "exception": false,
     "start_time": "2023-08-13T08:29:02.545086",
     "status": "completed"
    },
    "tags": []
   },
   "outputs": [],
   "source": [
    "# merged, merged_test = preprocessor()\n",
    "# merged.shape, merged_test.shape"
   ]
  },
  {
   "cell_type": "code",
   "execution_count": 124,
   "id": "c92133e0",
   "metadata": {
    "execution": {
     "iopub.execute_input": "2023-08-13T08:29:02.885800Z",
     "iopub.status.busy": "2023-08-13T08:29:02.884965Z",
     "iopub.status.idle": "2023-08-13T08:29:02.919717Z",
     "shell.execute_reply": "2023-08-13T08:29:02.918500Z"
    },
    "papermill": {
     "duration": 0.150297,
     "end_time": "2023-08-13T08:29:02.922306",
     "exception": false,
     "start_time": "2023-08-13T08:29:02.772009",
     "status": "completed"
    },
    "tags": []
   },
   "outputs": [],
   "source": [
    "def submit_v5(classifiers= [\n",
    "                {'selected_model' : LogisticRegression(C=1, solver='saga', max_iter=100000),\n",
    "                 'param_grid' : None,\n",
    "                 'selected_features' : {'num': ['audienceScore']},\n",
    "                 'vocab' : None,\n",
    "                 'vocab_usage' : 'tfidf',\n",
    "                 'strip_accents' : 'unicode',\n",
    "                 'add_countvec' : False,\n",
    "                'vocab_audscore' : None}\n",
    "              ], \n",
    "            imputer_type='simple',\n",
    "              poly=True,\n",
    "            ):\n",
    "    \n",
    "    \"\"\"Takes a list of dictionaries each with same keys as mentioned in the default dictionary in function definition\"\"\"\n",
    "    \n",
    "    print(\"\\nRunning the submit_v5 function...\")\n",
    "    \n",
    "    print(f\"\\nData preprocessor initiated...\")\n",
    "    \n",
    "    imputer_type = imputer_type\n",
    "    print(f\"\\nImputer for missing numerical values: {imputer_type}\")\n",
    "    print(f\"Imputing missing values. (This could take a while if it is KNNImputer)\")\n",
    "    \n",
    "    merged, merged_test = preprocessor(imputer_type=imputer_type)\n",
    "    print(f\"\\nPreprocessing of train and test datasets complete.\")\n",
    "    \n",
    "    # Build vocabulary (if vocab is True)\n",
    "    ngram_range_vocab = (1,4)\n",
    "    ngram_range_vocab_list = [(1,1), (2,2), (3,3), (4,4)]\n",
    "    \n",
    "    vocab = None\n",
    "    vocab_audscore = None\n",
    "    for item in classifiers:\n",
    "        if item['vocab']:\n",
    "            vocab = True\n",
    "        if item['vocab_audscore']:\n",
    "            vocab_audscore = item['vocab_audscore']\n",
    "    \n",
    "    if vocab == True:\n",
    "        # Generate and store the entire vocabulary of training data  \n",
    "        print(f\"\\nGenerating vocabulary of entire training data...\")\n",
    "        train_ngrams = get_vocab(merged['reviewText'], ngram_range=ngram_range_vocab)\n",
    "        print(f\"Size of vocabulary of training data: {len(train_ngrams)}\")\n",
    "        # sorted(train_ngrams)\n",
    "\n",
    "        # Generate common vocabulary specific for this project data  \n",
    "        print(f\"\\nGenerating common vocabulary specific for this project data...\")\n",
    "        common_ngrams = get_common_vocab([merged, merged_test], ngram_range_list=ngram_range_vocab_list)\n",
    "        print(f\"Size of common vocabulary: {len(common_ngrams)}\")\n",
    "\n",
    "        # Get the speficic stop words that should be used in the final models  \n",
    "        print(f\"\\nGetting specific stop words for this project...\")\n",
    "        stop_words_specific = list(train_ngrams - common_ngrams)\n",
    "        print(f\"Size of 'stop_words_specific' generated: {len(stop_words_specific)}\")\n",
    "    else:\n",
    "        pass\n",
    "    \n",
    "    if vocab_audscore:\n",
    "        pure_common_pos, pure_common_neg = audienceScore_vocab([merged, merged_test], \n",
    "                                                               scores=(57, 73), \n",
    "                                                               ngram_range_list=ngram_range_vocab_list)\n",
    "        pure_common = pure_common_pos | pure_common_neg\n",
    "        print(f\"\\nSize of 'pure_common' vocabulary genrated: {len(pure_common)}\")\n",
    "    \n",
    "    \n",
    "    # Create a list to store estimators  \n",
    "    estimators = []     # List of tuples of the form ('classifier_name', 'classifer_instance')\n",
    "    \n",
    "    # Build a dataframe of predictions  \n",
    "    predictions_df = pd.DataFrame()\n",
    "    \n",
    "    # Build a separate pipeline and fit it on selected features (and param_grid) for each item in classifiers list\n",
    "    for n, item in enumerate(classifiers, start=1):\n",
    "        selected_model = item['selected_model']\n",
    "        selected_features = item['selected_features']\n",
    "        param_grid = item['param_grid']\n",
    "        vocab = item['vocab']\n",
    "        vocab_usage = item['vocab_usage']\n",
    "        strip_accents = item['strip_accents']\n",
    "        add_countvec = item['add_countvec']\n",
    "    \n",
    "    \n",
    "        # Fine tune selected_features\n",
    "        if add_countvec:\n",
    "            if 'txt' in selected_features.keys():\n",
    "                if \"reviewText_2\" not in selected_features['txt']:\n",
    "                    selected_features['txt'].append('reviewText_2')\n",
    "        if vocab:\n",
    "            if 'txt' in selected_features.keys():\n",
    "                if \"reviewText_3\" not in selected_features['txt']:\n",
    "                    selected_features['txt'].append('reviewText_3')\n",
    "        else:\n",
    "            print(f\"No vocabulary provided/used for this model.\")\n",
    "            \n",
    "        print(f\"\\nSelected features: {selected_features}\")\n",
    "        \n",
    "        if type(vocab) in [type([1, 2]), type({1, 2})]:\n",
    "            vocab = vocab\n",
    "            print(f\"Size of 'vocab' provided: {len(vocab)}\")\n",
    "        elif vocab == True:\n",
    "            vocab = common_ngrams    # Choose vocabulary here\n",
    "            print(f\"Size of 'vocab' generated by submit_v5: {len(vocab)}\")\n",
    "\n",
    "            \n",
    "        if vocab_audscore:\n",
    "            if 'txt' in selected_features.keys():\n",
    "                if \"reviewText_4\" not in selected_features['txt']:\n",
    "                    selected_features['txt'].append('reviewText_4')\n",
    "        else:\n",
    "            print(f\"No vocabulary based on audienceScore provided/used for this model.\")\n",
    "            \n",
    "            \n",
    "        print(f\"\\nSelected features: {selected_features}\")\n",
    "\n",
    "        # Modify X_train for the given 'item' by creating a custom 'features' list\n",
    "        features = []\n",
    "        for item in selected_features.values():\n",
    "            features.extend(item)\n",
    "            \n",
    "        # Add new columns as needed  \n",
    "        if add_countvec:\n",
    "            merged['reviewText_2'] = merged['reviewText']\n",
    "        if vocab:\n",
    "            merged['reviewText_3'] = merged['reviewText']\n",
    "        if vocab_audscore:\n",
    "            merged['reviewText_4'] = merged['reviewText']\n",
    "        \n",
    "        # Create X_tran, y_train\n",
    "        X_train = merged.drop(labels=\"sentiment\", axis=1)\n",
    "        y_train = merged[\"sentiment\"]\n",
    "        \n",
    "        X_train = merged[features].copy()\n",
    "\n",
    "\n",
    "        # Build Pipeline\n",
    "        pipe = build_pipeline(selected_model, selected_features, param_grid=param_grid, \n",
    "                              vocab=vocab, vocab_usage='tfidf', \n",
    "                              strip_accents=strip_accents, add_countvec=add_countvec,\n",
    "                             poly=poly, vocab_audscore=pure_common)\n",
    "        print(pipe)\n",
    "\n",
    "        \n",
    "        # Fit \n",
    "        print(f\"\\nTraining started with full pipeline for classifier #{n}/{len(classifiers)}...\")\n",
    "        pipe.fit(X_train, y_train)\n",
    "        \n",
    "\n",
    "        # Check1\n",
    "        print(f\"\\nCheck #{n}.1 complete.\")\n",
    "        print(f\"Details of the best model using classifier #{n} (GridSearchCV) on X_train: \")\n",
    "        print(f\"Best Params: {pipe.best_params_}\")\n",
    "        print(f\"Best Score: {pipe.best_score_}\")\n",
    "        \n",
    "        print(predict_on_missing_review_data(pipe, features, merged))    # Function defined above\n",
    "        \n",
    "        estimators.append((f\"classifier_{n}\", pipe))\n",
    "        print(f\"classifier_{n} successfully added to 'estimators' list\")\n",
    "\n",
    "        \n",
    "        # Predict on train data \n",
    "        y_train_pred = pipe.predict(X_train)\n",
    "        print(f\"Confusion matrix for predictions on training data: \")\n",
    "        print(confusion_matrix(y_train, y_train_pred))\n",
    "        f1_train = f1_score(y_train, y_train_pred, average=\"micro\")\n",
    "        print(f\"F1-score on training data: {f1_train}\")\n",
    "        \n",
    "        \n",
    "        # Predict on test.csv file\n",
    "        # Add new columns as needed \n",
    "        if add_countvec:\n",
    "            merged_test['reviewText_2'] = merged_test['reviewText']\n",
    "        if vocab:\n",
    "            merged_test['reviewText_3'] = merged_test['reviewText']\n",
    "        if vocab_audscore:\n",
    "            merged_test['reviewText_4'] = merged_test['reviewText']\n",
    "        \n",
    "               \n",
    "        X_test = merged_test[features].copy()\n",
    "\n",
    "    \n",
    "        y_pred = pipe.predict(X_test)\n",
    "        \n",
    "        # Insert predictions in 'predictions_df' dataframe\n",
    "        predictions_df.insert(n-1, f\"pred_{n}\", y_pred, allow_duplicates=False)\n",
    "        print(predictions_df.shape)\n",
    "        print(predictions_df.head(10))\n",
    "        \n",
    "    \n",
    "        # Check2\n",
    "        print(f\"\\nCheck #{n}.2 complete.\")\n",
    "    #     cv_results_df = pd.DataFrame(pipe.cv_results_)\n",
    "        print(\"Details of the best model using full pipeline (GridSearchCV) on X_train: \")\n",
    "#         print(f\"Best Estimator: {pipe.best_estimator_}\")\n",
    "        print(f\"Best Params: {pipe.best_params_}\")\n",
    "        print(f\"Best Score: {pipe.best_score_}\")\n",
    "#         print(f\"Best Index: {pipe.best_index_}\")\n",
    "        print(f\"Refit Time: {pipe.refit_time_}\")\n",
    "    #     print(f\"Shape of CV results dataframe: {cv_results_df.shape}\")\n",
    "    \n",
    "    # Voting classifier (custom) with hard voting\n",
    "    # Calculate the MODE for all predictions (Note that the 'predictions_df' generated above should have odd number of columns)\n",
    "    pred_df_final = predictions_df.mode('columns')\n",
    "    pred_df_final.columns = [\"sentiment\"]\n",
    "    pred_df_final.index.name = \"id\"\n",
    "    pred_df_final.to_csv(\"submission.csv\")\n",
    "    \n",
    "    print(\"\\nSuccessfully created the submission file!!!\")\n",
    "    \n",
    "#     return pipe.cv_results_\n",
    "    return pred_df_final, estimators"
   ]
  },
  {
   "cell_type": "markdown",
   "id": "6078dc44",
   "metadata": {
    "papermill": {
     "duration": 0.110225,
     "end_time": "2023-08-13T08:29:03.145772",
     "exception": false,
     "start_time": "2023-08-13T08:29:03.035547",
     "status": "completed"
    },
    "tags": []
   },
   "source": [
    "# Use 'submit_v5' function  "
   ]
  },
  {
   "cell_type": "code",
   "execution_count": 125,
   "id": "4ff2369d",
   "metadata": {
    "execution": {
     "iopub.execute_input": "2023-08-13T08:29:03.369679Z",
     "iopub.status.busy": "2023-08-13T08:29:03.368926Z",
     "iopub.status.idle": "2023-08-13T08:29:03.372685Z",
     "shell.execute_reply": "2023-08-13T08:29:03.371978Z"
    },
    "papermill": {
     "duration": 0.119233,
     "end_time": "2023-08-13T08:29:03.374861",
     "exception": false,
     "start_time": "2023-08-13T08:29:03.255628",
     "status": "completed"
    },
    "tags": []
   },
   "outputs": [],
   "source": [
    "# Try submit_v5 with default settings\n",
    "# submit_v5()"
   ]
  },
  {
   "cell_type": "code",
   "execution_count": 126,
   "id": "62510143",
   "metadata": {
    "execution": {
     "iopub.execute_input": "2023-08-13T08:29:03.660828Z",
     "iopub.status.busy": "2023-08-13T08:29:03.660061Z",
     "iopub.status.idle": "2023-08-13T09:35:42.790146Z",
     "shell.execute_reply": "2023-08-13T09:35:42.788849Z"
    },
    "papermill": {
     "duration": 3999.307073,
     "end_time": "2023-08-13T09:35:42.793189",
     "exception": false,
     "start_time": "2023-08-13T08:29:03.486116",
     "status": "completed"
    },
    "tags": []
   },
   "outputs": [
    {
     "name": "stdout",
     "output_type": "stream",
     "text": [
      "\n",
      "Running the submit_v5 function...\n",
      "\n",
      "Data preprocessor initiated...\n",
      "\n",
      "Imputer for missing numerical values: knn\n",
      "Imputing missing values. (This could take a while if it is KNNImputer)\n",
      "KNNImputer(n_neighbors=3, weights='distance')\n",
      "\n",
      "Check 1 (preprocessor) complete.\n",
      "Shape of X_train: (162758, 30)\n",
      "Features in X_train: Index(['movieid', 'reviewerName', 'isFrequentReviewer', 'reviewText',\n",
      "       'sentiment', 'title', 'audienceScore', 'rating', 'ratingContents',\n",
      "       'releaseDateTheaters', 'releaseDateStreaming', 'runtimeMinutes',\n",
      "       'genre', 'originalLanguage', 'director', 'boxOffice', 'distributor',\n",
      "       'soundType', 'reviewYN', 'reviewWC', 'genreSorted', 'rcSorted',\n",
      "       'releaseDate', 'releaseYear', 'releaseMonth', 'releaseDiff',\n",
      "       'audScoreBins', 'runtimeBins', 'boxOfficeBins', 'releaseDiffBins'],\n",
      "      dtype='object')\n",
      "\n",
      "Check 2 (preprocessor) complete.\n",
      "Shape of X_test: (55315, 29)\n",
      "Features in X_test: Index(['movieid', 'reviewerName', 'isFrequentReviewer', 'reviewText', 'title',\n",
      "       'audienceScore', 'rating', 'ratingContents', 'releaseDateTheaters',\n",
      "       'releaseDateStreaming', 'runtimeMinutes', 'genre', 'originalLanguage',\n",
      "       'director', 'boxOffice', 'distributor', 'soundType', 'reviewYN',\n",
      "       'reviewWC', 'genreSorted', 'rcSorted', 'releaseDate', 'releaseYear',\n",
      "       'releaseMonth', 'releaseDiff', 'audScoreBins', 'runtimeBins',\n",
      "       'boxOfficeBins', 'releaseDiffBins'],\n",
      "      dtype='object')\n",
      "\n",
      "Preprocessing of train and test datasets complete.\n",
      "\n",
      "Generating vocabulary of entire training data...\n",
      "Size of vocabulary of training data: 3916361\n",
      "\n",
      "Generating common vocabulary specific for this project data...\n",
      "Common vocabulary for ngram-range (1, 1): 35498\n",
      "\n",
      "Common vocabulary for ngram-range (2, 2): 112530\n",
      "\n",
      "Common vocabulary for ngram-range (3, 3): 22631\n",
      "\n",
      "Common vocabulary for ngram-range (4, 4): 7336\n",
      "\n",
      "Size of the common vocabulary generated is: 177995\n",
      "Size of common vocabulary: 177995\n",
      "\n",
      "Getting specific stop words for this project...\n",
      "Size of 'stop_words_specific' generated: 3738366\n",
      "Common vocabulary for ngram-range (1, 1): 35498\n",
      "\n",
      "Common vocabulary for ngram-range (2, 2): 112530\n",
      "\n",
      "Common vocabulary for ngram-range (3, 3): 22631\n",
      "\n",
      "Common vocabulary for ngram-range (4, 4): 7336\n",
      "\n",
      "Size of the common vocabulary generated is: 177995\n",
      "Common vocabulary for ngram-range (1, 1): 39254\n",
      "\n",
      "Common vocabulary for ngram-range (2, 2): 418168\n",
      "\n",
      "Common vocabulary for ngram-range (3, 3): 478650\n",
      "\n",
      "Common vocabulary for ngram-range (4, 4): 438241\n",
      "\n",
      "Size of the common vocabulary generated is: 1374313\n",
      "Common vocabulary for ngram-range (1, 1): 29530\n",
      "\n",
      "Common vocabulary for ngram-range (2, 2): 208463\n",
      "\n",
      "Common vocabulary for ngram-range (3, 3): 223076\n",
      "\n",
      "Common vocabulary for ngram-range (4, 4): 201038\n",
      "\n",
      "Size of the common vocabulary generated is: 662107\n",
      "\n",
      "Size of 'pure_common' vocabulary genrated: 88482\n",
      "\n",
      "Selected features: {'cat': ['isFrequentReviewer'], 'num': ['audienceScore', 'boxOffice', 'releaseDiff'], 'txt': ['reviewText', 'reviewerName', 'movieid', 'genre', 'director', 'ratingContents', 'distributor', 'reviewText_2', 'reviewText_3']}\n",
      "Size of 'vocab' generated by submit_v5: 177995\n",
      "\n",
      "Selected features: {'cat': ['isFrequentReviewer'], 'num': ['audienceScore', 'boxOffice', 'releaseDiff'], 'txt': ['reviewText', 'reviewerName', 'movieid', 'genre', 'director', 'ratingContents', 'distributor', 'reviewText_2', 'reviewText_3', 'reviewText_4']}\n",
      "\n",
      "Pipeline built successfully.\n",
      "\n",
      "Full GridSearchCV pipeline built successfully.\n",
      "GridSearchCV(cv=10,\n",
      "             estimator=Pipeline(steps=[('ct',\n",
      "                                        ColumnTransformer(transformers=[('cat',\n",
      "                                                                         OneHotEncoder(handle_unknown='ignore',\n",
      "                                                                                       sparse_output=False),\n",
      "                                                                         ['isFrequentReviewer']),\n",
      "                                                                        ('num',\n",
      "                                                                         Pipeline(steps=[('robscaler',\n",
      "                                                                                          RobustScaler()),\n",
      "                                                                                         ('stdscaler',\n",
      "                                                                                          StandardScaler()),\n",
      "                                                                                         ('poly',\n",
      "                                                                                          PolynomialFeatures(include_bias=False,\n",
      "                                                                                                             interaction_only=True))]),\n",
      "                                                                         ['audienceScore',\n",
      "                                                                          'boxO...\n",
      "                                                                                                                      'abbey',\n",
      "                                                                                                                      'abbey '\n",
      "                                                                                                                      'movie',\n",
      "                                                                                                                      'abbie',\n",
      "                                                                                                                      'abbott '\n",
      "                                                                                                                      'costello '\n",
      "                                                                                                                      'meet',\n",
      "                                                                                                                      'abbott '\n",
      "                                                                                                                      'costello '\n",
      "                                                                                                                      'meet '\n",
      "                                                                                                                      'frankenstein',\n",
      "                                                                                                                      'abc '\n",
      "                                                                                                                      'africa',\n",
      "                                                                                                                      'abc '\n",
      "                                                                                                                      'afterschool',\n",
      "                                                                                                                      'abdomen',\n",
      "                                                                                                                      'abdul '\n",
      "                                                                                                                      'mateen',\n",
      "                                                                                                                      'abdul '\n",
      "                                                                                                                      'mateen '\n",
      "                                                                                                                      'ii', ...}))]),\n",
      "                                                                         'reviewText_4')])),\n",
      "                                       ('model',\n",
      "                                        SGDClassifier(max_iter=1000000,\n",
      "                                                      n_iter_no_change=1000,\n",
      "                                                      n_jobs=-1,\n",
      "                                                      tol=0.0001))]),\n",
      "             n_jobs=-1, param_grid={'model__alpha': [0.0001]},\n",
      "             scoring='f1_micro')\n",
      "\n",
      "Training started with full pipeline for classifier #1/1...\n",
      "\n",
      "Check #1.1 complete.\n",
      "Details of the best model using classifier #1 (GridSearchCV) on X_train: \n",
      "Best Params: {'model__alpha': 0.0001}\n",
      "Best Score: 0.8415377555901106\n",
      "Confusion matrix and f1-score for rows which have no reviewText in X_train: \n",
      "[[ 880 1525]\n",
      " [  95 3947]]\n",
      "0.7487203350395533\n",
      "classifier_1 successfully added to 'estimators' list\n",
      "Confusion matrix for predictions on training data: \n",
      "[[ 52340   1657]\n",
      " [   136 108625]]\n",
      "F1-score on training data: 0.9889836444291524\n",
      "(55315, 1)\n",
      "     pred_1\n",
      "0  POSITIVE\n",
      "1  POSITIVE\n",
      "2  POSITIVE\n",
      "3  POSITIVE\n",
      "4  POSITIVE\n",
      "5  POSITIVE\n",
      "6  POSITIVE\n",
      "7  POSITIVE\n",
      "8  NEGATIVE\n",
      "9  NEGATIVE\n",
      "\n",
      "Check #1.2 complete.\n",
      "Details of the best model using full pipeline (GridSearchCV) on X_train: \n",
      "Best Params: {'model__alpha': 0.0001}\n",
      "Best Score: 0.8415377555901106\n",
      "Refit Time: 642.0644602775574\n",
      "\n",
      "Successfully created the submission file!!!\n"
     ]
    }
   ],
   "source": [
    "# Testing ONE classfier using submit_v5 function  \n",
    "\n",
    "# Feature dictionaries\n",
    "sfs = {'cat': ['isFrequentReviewer', 'rating'],\n",
    "       'num': [\"audienceScore\", \"runtimeMinutes\", \"boxOffice\", 'releaseDiff']}\n",
    "\n",
    "sf_best = {'cat': ['isFrequentReviewer'],\n",
    "            'num': [\"audienceScore\", \"boxOffice\", 'releaseDiff'],\n",
    "            'txt': ['reviewText', 'reviewerName', 'movieid', 'genre', 'director', \n",
    "                         'ratingContents', 'distributor']}\n",
    "\n",
    "alt_text = {'txt': ['reviewerName', 'movieid', 'genre', 'director', \n",
    "                         'ratingContents', 'distributor']}\n",
    "\n",
    "v88_dict = {'cat': ['isFrequentReviewer', 'audScoreBins', 'boxOfficeBins'],\n",
    "            'num': ['releaseDiff'],\n",
    "            'txt': ['reviewText', 'reviewerName', 'movieid', 'genre', 'director', \n",
    "                         'ratingContents', 'distributor']}\n",
    "\n",
    "# SGDClassifier hyperparameters  \n",
    "# \"model__loss\": ['hinge', 'log_loss', 'modified_huber', \n",
    "#                                                   'squared_hinge', 'perceptron', \n",
    "#                                                   'squared_error', 'huber', \n",
    "#                                                   'epsilon_insensitive', 'squared_epsilon_insensitive']\n",
    "\n",
    "# 'param_grid' : {\"model__alpha\": [0.0001], \n",
    "#                   'model__tol': [0.0001],\n",
    "#                   \"model__penalty\": [\"l2\"],\n",
    "#                   \"model__n_iter_no_change\": [100],\n",
    "#                  }\n",
    "\n",
    "# Best models \n",
    "# For sf_best features\n",
    "#                 {'selected_model' : SGDClassifier(loss='hinge', \n",
    "#                                      max_iter=1000000,\n",
    "#                                      alpha = 0.0001,\n",
    "#                                      tol = 0.0001,\n",
    "#                                      penalty = \"l2\",\n",
    "#                                      n_iter_no_change = 100,\n",
    "#                                      n_jobs = -1), \n",
    "#                   'selected_features' : sf_best, \n",
    "#                   'param_grid' : {\"model__alpha\": [ 0.0001]},\n",
    "#                   'vocab' : True,\n",
    "#                   'vocab_usage' : 'tfidf',\n",
    "#                   'strip_accents' : 'unicode', \n",
    "#                   'add_countvec' : True},\n",
    "\n",
    "# For sfs features\n",
    "#                 {'selected_model' : RandomForestClassifier(n_jobs = -1), \n",
    "#                   'selected_features' : sfs, \n",
    "#                   'param_grid': {'model__n_estimators': [100]},\n",
    "#                   'vocab' : None,\n",
    "#                   'vocab_usage' : 'tfidf',\n",
    "#                   'strip_accents' : 'unicode', \n",
    "#                   'add_countvec' : False}\n",
    "\n",
    "# Best SGD classifer (with params)  \n",
    "sgdc = SGDClassifier(loss='hinge', \n",
    "                     max_iter=1000000,\n",
    "                     alpha = 0.0001,\n",
    "                     tol = 0.0001,\n",
    "                     penalty = \"l2\",\n",
    "                     n_iter_no_change = 1000,\n",
    "                     n_jobs = -1)\n",
    "\n",
    "# Classifiers\n",
    "classifiers= [   \n",
    "                {'selected_model' : sgdc, \n",
    "                  'selected_features' : sf_best, \n",
    "                  'param_grid' : {\"model__alpha\": [0.0001]},\n",
    "                  'vocab' : True,\n",
    "                  'vocab_usage' : 'tfidf',\n",
    "                  'strip_accents' : 'unicode', \n",
    "                  'add_countvec' : True,\n",
    "                    'vocab_audscore' : True},\n",
    "            ]\n",
    "\n",
    "# classifiers= [\n",
    "#                 {'selected_model' : LogisticRegression(C=1, solver='saga', max_iter=100000), \n",
    "#                   'selected_features' : {'txt': [\"reviewText\"]}, \n",
    "#                   'param_grid' : {\"model__C\": [1], \n",
    "#                                   'model__solver': ['saga']},\n",
    "#                   'vocab' : None,\n",
    "#                   'vocab_usage' : 'tfidf',\n",
    "#                   'strip_accents' : 'unicode', \n",
    "#                   'add_countvec' : False},\n",
    "#             ]\n",
    "\n",
    "pred_df, estimators = submit_v5(classifiers=classifiers, imputer_type='knn', poly=True)"
   ]
  },
  {
   "cell_type": "code",
   "execution_count": 127,
   "id": "56a5bf1f",
   "metadata": {
    "execution": {
     "iopub.execute_input": "2023-08-13T09:35:43.019369Z",
     "iopub.status.busy": "2023-08-13T09:35:43.018649Z",
     "iopub.status.idle": "2023-08-13T09:35:43.026154Z",
     "shell.execute_reply": "2023-08-13T09:35:43.024915Z"
    },
    "papermill": {
     "duration": 0.12318,
     "end_time": "2023-08-13T09:35:43.028510",
     "exception": false,
     "start_time": "2023-08-13T09:35:42.905330",
     "status": "completed"
    },
    "tags": []
   },
   "outputs": [
    {
     "name": "stdout",
     "output_type": "stream",
     "text": [
      "(55315, 1)\n",
      "   sentiment\n",
      "id          \n",
      "0   POSITIVE\n",
      "1   POSITIVE\n",
      "2   POSITIVE\n",
      "3   POSITIVE\n",
      "4   POSITIVE\n"
     ]
    }
   ],
   "source": [
    "print(pred_df.shape)\n",
    "print(pred_df.head())"
   ]
  },
  {
   "cell_type": "code",
   "execution_count": 128,
   "id": "da95753f",
   "metadata": {
    "execution": {
     "iopub.execute_input": "2023-08-13T09:35:43.254441Z",
     "iopub.status.busy": "2023-08-13T09:35:43.253721Z",
     "iopub.status.idle": "2023-08-13T09:35:43.258367Z",
     "shell.execute_reply": "2023-08-13T09:35:43.257212Z"
    },
    "papermill": {
     "duration": 0.120498,
     "end_time": "2023-08-13T09:35:43.260747",
     "exception": false,
     "start_time": "2023-08-13T09:35:43.140249",
     "status": "completed"
    },
    "tags": []
   },
   "outputs": [],
   "source": [
    "# estimators"
   ]
  },
  {
   "cell_type": "code",
   "execution_count": 129,
   "id": "16901d1d",
   "metadata": {
    "execution": {
     "iopub.execute_input": "2023-08-13T09:35:43.487950Z",
     "iopub.status.busy": "2023-08-13T09:35:43.487519Z",
     "iopub.status.idle": "2023-08-13T09:35:43.493972Z",
     "shell.execute_reply": "2023-08-13T09:35:43.493130Z"
    },
    "papermill": {
     "duration": 0.123262,
     "end_time": "2023-08-13T09:35:43.496626",
     "exception": false,
     "start_time": "2023-08-13T09:35:43.373364",
     "status": "completed"
    },
    "tags": []
   },
   "outputs": [
    {
     "name": "stdout",
     "output_type": "stream",
     "text": [
      "Number of estimators: 1\n",
      "\n",
      "Estimator: classifier_1\n",
      "{'model__alpha': 0.0001}\n",
      "0.8415377555901106\n",
      "642.0644602775574\n",
      "\n"
     ]
    }
   ],
   "source": [
    "print(f\"Number of estimators: {len(estimators)}\\n\")\n",
    "for est in estimators:\n",
    "    print(f\"Estimator: {est[0]}\")\n",
    "#     print(est[1].best_estimator_)\n",
    "    print(est[1].best_params_)\n",
    "    print(est[1].best_score_)\n",
    "    print(est[1].refit_time_)\n",
    "    print()"
   ]
  },
  {
   "cell_type": "code",
   "execution_count": 130,
   "id": "c1d391e0",
   "metadata": {
    "execution": {
     "iopub.execute_input": "2023-08-13T09:35:43.733325Z",
     "iopub.status.busy": "2023-08-13T09:35:43.732203Z",
     "iopub.status.idle": "2023-08-13T09:35:43.738559Z",
     "shell.execute_reply": "2023-08-13T09:35:43.737724Z"
    },
    "papermill": {
     "duration": 0.125937,
     "end_time": "2023-08-13T09:35:43.740637",
     "exception": false,
     "start_time": "2023-08-13T09:35:43.614700",
     "status": "completed"
    },
    "tags": []
   },
   "outputs": [],
   "source": [
    "# Testing full capabilites of submit_v5  \n",
    "\n",
    "# # Feature dictionaries\n",
    "# sf1 = {'cat': ['isFrequentReviewer', 'rating'],\n",
    "#        'num': [\"audienceScore\", \"runtimeMinutes\", \"boxOffice\"]}\n",
    "\n",
    "# sf2 = {'cat': ['isFrequentReviewer', 'rating'],\n",
    "#        'num': [\"audienceScore\", \"runtimeMinutes\", \"boxOffice\"]}\n",
    "\n",
    "# sf3 = {'cat': ['isFrequentReviewer'],\n",
    "#         'num': ['releaseDiff', 'audienceScore', 'boxOffice'],\n",
    "#         'txt': ['reviewText', 'reviewerName', 'movieid', 'genre', 'director', \n",
    "#                          'ratingContents', 'distributor']}\n",
    "\n",
    "# # Individual classifiers\n",
    "# clf1 =  {'selected_model' : AdaBoostClassifier(), \n",
    "#           'selected_features' : sf1, \n",
    "#           'param_grid' : {\"model__n_estimators\": [50]},\n",
    "#           'vocab' : None,\n",
    "#           'vocab_usage' : 'tfidf',\n",
    "#           'strip_accents' : 'unicode', \n",
    "#           'add_countvec' : False}\n",
    "\n",
    "# clf2 =  {'selected_model' : RandomForestClassifier(), \n",
    "#           'selected_features' : sf2,\n",
    "#           'param_grid' : {\"model__n_estimators\": [50], \n",
    "#                           'model__criterion': ['gini']},\n",
    "#           'vocab' : None,\n",
    "#           'vocab_usage' : 'tfidf',\n",
    "#           'strip_accents' : 'unicode', \n",
    "#           'add_countvec' : False}\n",
    "\n",
    "# clf3 =  {'selected_model' : LogisticRegression(C=1, solver='saga', max_iter=100000), \n",
    "#           'selected_features' : sf3, \n",
    "#           'param_grid' : {'model__C' : [1],\n",
    "#                             'model__solver': ['saga'],\n",
    "#                             \"model__fit_intercept\" : [True],\n",
    "#                             \"model__dual\" : [False]},\n",
    "#           'vocab' : None,\n",
    "#           'vocab_usage' : 'tfidf',\n",
    "#           'strip_accents' : 'unicode', \n",
    "#           'add_countvec' : True}\n",
    "\n",
    "\n",
    "# # List of classifiers for voting\n",
    "# classifiers= [clf1, clf2, clf3]\n",
    "\n",
    "# # Final predictions \n",
    "# pred_df = submit_v5(classifiers=classifiers)"
   ]
  },
  {
   "cell_type": "code",
   "execution_count": 131,
   "id": "753ca30f",
   "metadata": {
    "execution": {
     "iopub.execute_input": "2023-08-13T09:35:43.993596Z",
     "iopub.status.busy": "2023-08-13T09:35:43.992740Z",
     "iopub.status.idle": "2023-08-13T09:35:44.007235Z",
     "shell.execute_reply": "2023-08-13T09:35:44.005997Z"
    },
    "papermill": {
     "duration": 0.130697,
     "end_time": "2023-08-13T09:35:44.009609",
     "exception": false,
     "start_time": "2023-08-13T09:35:43.878912",
     "status": "completed"
    },
    "tags": []
   },
   "outputs": [
    {
     "name": "stdout",
     "output_type": "stream",
     "text": [
      "(55315, 1)\n"
     ]
    },
    {
     "data": {
      "text/html": [
       "<div>\n",
       "<style scoped>\n",
       "    .dataframe tbody tr th:only-of-type {\n",
       "        vertical-align: middle;\n",
       "    }\n",
       "\n",
       "    .dataframe tbody tr th {\n",
       "        vertical-align: top;\n",
       "    }\n",
       "\n",
       "    .dataframe thead th {\n",
       "        text-align: right;\n",
       "    }\n",
       "</style>\n",
       "<table border=\"1\" class=\"dataframe\">\n",
       "  <thead>\n",
       "    <tr style=\"text-align: right;\">\n",
       "      <th></th>\n",
       "      <th>sentiment</th>\n",
       "    </tr>\n",
       "    <tr>\n",
       "      <th>id</th>\n",
       "      <th></th>\n",
       "    </tr>\n",
       "  </thead>\n",
       "  <tbody>\n",
       "    <tr>\n",
       "      <th>0</th>\n",
       "      <td>POSITIVE</td>\n",
       "    </tr>\n",
       "    <tr>\n",
       "      <th>1</th>\n",
       "      <td>POSITIVE</td>\n",
       "    </tr>\n",
       "    <tr>\n",
       "      <th>2</th>\n",
       "      <td>POSITIVE</td>\n",
       "    </tr>\n",
       "    <tr>\n",
       "      <th>3</th>\n",
       "      <td>POSITIVE</td>\n",
       "    </tr>\n",
       "    <tr>\n",
       "      <th>4</th>\n",
       "      <td>POSITIVE</td>\n",
       "    </tr>\n",
       "    <tr>\n",
       "      <th>...</th>\n",
       "      <td>...</td>\n",
       "    </tr>\n",
       "    <tr>\n",
       "      <th>55310</th>\n",
       "      <td>POSITIVE</td>\n",
       "    </tr>\n",
       "    <tr>\n",
       "      <th>55311</th>\n",
       "      <td>NEGATIVE</td>\n",
       "    </tr>\n",
       "    <tr>\n",
       "      <th>55312</th>\n",
       "      <td>NEGATIVE</td>\n",
       "    </tr>\n",
       "    <tr>\n",
       "      <th>55313</th>\n",
       "      <td>POSITIVE</td>\n",
       "    </tr>\n",
       "    <tr>\n",
       "      <th>55314</th>\n",
       "      <td>NEGATIVE</td>\n",
       "    </tr>\n",
       "  </tbody>\n",
       "</table>\n",
       "<p>55315 rows × 1 columns</p>\n",
       "</div>"
      ],
      "text/plain": [
       "      sentiment\n",
       "id             \n",
       "0      POSITIVE\n",
       "1      POSITIVE\n",
       "2      POSITIVE\n",
       "3      POSITIVE\n",
       "4      POSITIVE\n",
       "...         ...\n",
       "55310  POSITIVE\n",
       "55311  NEGATIVE\n",
       "55312  NEGATIVE\n",
       "55313  POSITIVE\n",
       "55314  NEGATIVE\n",
       "\n",
       "[55315 rows x 1 columns]"
      ]
     },
     "execution_count": 131,
     "metadata": {},
     "output_type": "execute_result"
    }
   ],
   "source": [
    "print(pred_df.shape)\n",
    "pred_df"
   ]
  },
  {
   "cell_type": "code",
   "execution_count": 132,
   "id": "50553325",
   "metadata": {
    "execution": {
     "iopub.execute_input": "2023-08-13T09:35:44.237770Z",
     "iopub.status.busy": "2023-08-13T09:35:44.236945Z",
     "iopub.status.idle": "2023-08-13T09:35:44.241722Z",
     "shell.execute_reply": "2023-08-13T09:35:44.240956Z"
    },
    "papermill": {
     "duration": 0.121087,
     "end_time": "2023-08-13T09:35:44.243797",
     "exception": false,
     "start_time": "2023-08-13T09:35:44.122710",
     "status": "completed"
    },
    "tags": []
   },
   "outputs": [],
   "source": [
    "# pred_df_mode = pred_df.mode(axis='columns')\n",
    "# print(pred_df_mode.shape)\n",
    "# pred_df_mode"
   ]
  },
  {
   "cell_type": "code",
   "execution_count": 133,
   "id": "daf4c25f",
   "metadata": {
    "execution": {
     "iopub.execute_input": "2023-08-13T09:35:44.473706Z",
     "iopub.status.busy": "2023-08-13T09:35:44.473171Z",
     "iopub.status.idle": "2023-08-13T09:35:44.491677Z",
     "shell.execute_reply": "2023-08-13T09:35:44.490583Z"
    },
    "papermill": {
     "duration": 0.137524,
     "end_time": "2023-08-13T09:35:44.493971",
     "exception": false,
     "start_time": "2023-08-13T09:35:44.356447",
     "status": "completed"
    },
    "tags": []
   },
   "outputs": [
    {
     "data": {
      "text/plain": [
       "sentiment\n",
       "POSITIVE     39036\n",
       "NEGATIVE     16279\n",
       "dtype: int64"
      ]
     },
     "execution_count": 133,
     "metadata": {},
     "output_type": "execute_result"
    }
   ],
   "source": [
    "pred_df.value_counts()"
   ]
  },
  {
   "cell_type": "markdown",
   "id": "11b58352",
   "metadata": {
    "papermill": {
     "duration": 0.112615,
     "end_time": "2023-08-13T09:35:44.720651",
     "exception": false,
     "start_time": "2023-08-13T09:35:44.608036",
     "status": "completed"
    },
    "tags": []
   },
   "source": [
    "# NOTE: Move submit_v4 submissions below the suubmit_v4 function  "
   ]
  },
  {
   "cell_type": "code",
   "execution_count": 134,
   "id": "679eaf8f",
   "metadata": {
    "execution": {
     "iopub.execute_input": "2023-08-13T09:35:44.948837Z",
     "iopub.status.busy": "2023-08-13T09:35:44.947985Z",
     "iopub.status.idle": "2023-08-13T09:35:44.952888Z",
     "shell.execute_reply": "2023-08-13T09:35:44.951967Z"
    },
    "papermill": {
     "duration": 0.120956,
     "end_time": "2023-08-13T09:35:44.955375",
     "exception": false,
     "start_time": "2023-08-13T09:35:44.834419",
     "status": "completed"
    },
    "tags": []
   },
   "outputs": [],
   "source": [
    "# Try 'submit_v4' function with default params (LogisticRegression model)  \n",
    "\n",
    "# submit_v4()\n",
    "\n",
    "#Default params to this function gave a score of 0.8259 - improvement over previous score of 0.82563!"
   ]
  },
  {
   "cell_type": "code",
   "execution_count": 135,
   "id": "222bd2b7",
   "metadata": {
    "execution": {
     "iopub.execute_input": "2023-08-13T09:35:45.182124Z",
     "iopub.status.busy": "2023-08-13T09:35:45.181307Z",
     "iopub.status.idle": "2023-08-13T09:35:45.186425Z",
     "shell.execute_reply": "2023-08-13T09:35:45.185396Z"
    },
    "papermill": {
     "duration": 0.120451,
     "end_time": "2023-08-13T09:35:45.188837",
     "exception": false,
     "start_time": "2023-08-13T09:35:45.068386",
     "status": "completed"
    },
    "tags": []
   },
   "outputs": [],
   "source": [
    "# Try out GridSearchCV on \"submit_v4\" function with param_grid  \n",
    "# param_grid = {\n",
    "#     \"model__C\": [0.1, 1, 5, 10]\n",
    "# }\n",
    "\n",
    "# submit_v4(selected_features={'txt': ['genre']}, param_grid=param_grid)"
   ]
  },
  {
   "cell_type": "markdown",
   "id": "4b3f372e",
   "metadata": {
    "papermill": {
     "duration": 0.112076,
     "end_time": "2023-08-13T09:35:45.412521",
     "exception": false,
     "start_time": "2023-08-13T09:35:45.300445",
     "status": "completed"
    },
    "tags": []
   },
   "source": [
    "### Try LinearSVC with GridSearchCV  "
   ]
  },
  {
   "cell_type": "code",
   "execution_count": 136,
   "id": "179e964f",
   "metadata": {
    "execution": {
     "iopub.execute_input": "2023-08-13T09:35:45.637129Z",
     "iopub.status.busy": "2023-08-13T09:35:45.636700Z",
     "iopub.status.idle": "2023-08-13T09:35:45.641253Z",
     "shell.execute_reply": "2023-08-13T09:35:45.640320Z"
    },
    "papermill": {
     "duration": 0.119522,
     "end_time": "2023-08-13T09:35:45.643346",
     "exception": false,
     "start_time": "2023-08-13T09:35:45.523824",
     "status": "completed"
    },
    "tags": []
   },
   "outputs": [],
   "source": [
    "# all_dict = {'cat': [\"isFrequentReviewer\", \"rating\", \"originalLanguage\"],\n",
    "#              'num': [\"audienceScore\", \"runtimeMinutes\", \"boxOffice\"],\n",
    "#              'txt': ['reviewText', 'reviewerName', 'movieid', 'genre', 'director']}\n",
    "\n",
    "# param_grid_svc = {\n",
    "#     \"model__C\": [0.1, 1, 10, 100]\n",
    "# }\n",
    "# param_grid_svc"
   ]
  },
  {
   "cell_type": "code",
   "execution_count": 137,
   "id": "1215f272",
   "metadata": {
    "execution": {
     "iopub.execute_input": "2023-08-13T09:35:45.873322Z",
     "iopub.status.busy": "2023-08-13T09:35:45.871950Z",
     "iopub.status.idle": "2023-08-13T09:35:45.877491Z",
     "shell.execute_reply": "2023-08-13T09:35:45.876295Z"
    },
    "papermill": {
     "duration": 0.12468,
     "end_time": "2023-08-13T09:35:45.879880",
     "exception": false,
     "start_time": "2023-08-13T09:35:45.755200",
     "status": "completed"
    },
    "tags": []
   },
   "outputs": [],
   "source": [
    "# LinearSCV on single feature  \n",
    "\n",
    "# submit_v4(selected_model=LinearSVC(max_iter=100000, random_state=42), selected_features={'num': [\"audienceScore\"]}, param_grid=param_grid_svc)\n",
    "\n",
    "# Comment: LinearSVC even on single column feature set takes too long to converge."
   ]
  },
  {
   "cell_type": "code",
   "execution_count": 138,
   "id": "4e429c67",
   "metadata": {
    "execution": {
     "iopub.execute_input": "2023-08-13T09:35:46.111147Z",
     "iopub.status.busy": "2023-08-13T09:35:46.110703Z",
     "iopub.status.idle": "2023-08-13T09:35:46.115508Z",
     "shell.execute_reply": "2023-08-13T09:35:46.114369Z"
    },
    "papermill": {
     "duration": 0.123029,
     "end_time": "2023-08-13T09:35:46.118090",
     "exception": false,
     "start_time": "2023-08-13T09:35:45.995061",
     "status": "completed"
    },
    "tags": []
   },
   "outputs": [],
   "source": [
    "# LinearSCV on all available features\n",
    "\n",
    "# submit_v4(selected_model=LinearSVC(max_iter=100000, random_state=42), selected_features=all_dict, param_grid=param_grid_svc)\n",
    "\n",
    "# (Update): This took 66 mins to run and gave a public score of 0.84295 (lesser than logreg gridsearchcv wwhich gave 0.84441). Best C was 1.0.\n"
   ]
  },
  {
   "cell_type": "markdown",
   "id": "e0a91ddb",
   "metadata": {
    "papermill": {
     "duration": 0.112964,
     "end_time": "2023-08-13T09:35:46.344606",
     "exception": false,
     "start_time": "2023-08-13T09:35:46.231642",
     "status": "completed"
    },
    "tags": []
   },
   "source": [
    "### Boosting techniques  "
   ]
  },
  {
   "cell_type": "code",
   "execution_count": 139,
   "id": "bddebadb",
   "metadata": {
    "execution": {
     "iopub.execute_input": "2023-08-13T09:35:46.574203Z",
     "iopub.status.busy": "2023-08-13T09:35:46.573318Z",
     "iopub.status.idle": "2023-08-13T09:35:46.578250Z",
     "shell.execute_reply": "2023-08-13T09:35:46.577443Z"
    },
    "papermill": {
     "duration": 0.121698,
     "end_time": "2023-08-13T09:35:46.580598",
     "exception": false,
     "start_time": "2023-08-13T09:35:46.458900",
     "status": "completed"
    },
    "tags": []
   },
   "outputs": [],
   "source": [
    "# adc = AdaBoostClassifier(estimator=LogisticRegression(C=5, solver=\"saga\", max_iter=100000), n_estimators=50)\n",
    "# adc"
   ]
  },
  {
   "cell_type": "code",
   "execution_count": 140,
   "id": "114be8c4",
   "metadata": {
    "execution": {
     "iopub.execute_input": "2023-08-13T09:35:46.808186Z",
     "iopub.status.busy": "2023-08-13T09:35:46.807317Z",
     "iopub.status.idle": "2023-08-13T09:35:46.812315Z",
     "shell.execute_reply": "2023-08-13T09:35:46.811395Z"
    },
    "papermill": {
     "duration": 0.121976,
     "end_time": "2023-08-13T09:35:46.814646",
     "exception": false,
     "start_time": "2023-08-13T09:35:46.692670",
     "status": "completed"
    },
    "tags": []
   },
   "outputs": [],
   "source": [
    "# submit_v4(selected_model=adc, selected_features={'num': [\"audienceScore\"]}, param_grid=None)"
   ]
  },
  {
   "cell_type": "code",
   "execution_count": 141,
   "id": "3fd026b8",
   "metadata": {
    "execution": {
     "iopub.execute_input": "2023-08-13T09:35:47.046104Z",
     "iopub.status.busy": "2023-08-13T09:35:47.045225Z",
     "iopub.status.idle": "2023-08-13T09:35:47.050719Z",
     "shell.execute_reply": "2023-08-13T09:35:47.049930Z"
    },
    "papermill": {
     "duration": 0.126691,
     "end_time": "2023-08-13T09:35:47.053411",
     "exception": false,
     "start_time": "2023-08-13T09:35:46.926720",
     "status": "completed"
    },
    "tags": []
   },
   "outputs": [],
   "source": [
    "# submit_v4(selected_model=adc, selected_features=all_dict, param_grid=None)\n",
    "\n",
    "# Took 1 hour 15 mins to run and gave a public score of only 0.71089. Discarded."
   ]
  },
  {
   "cell_type": "markdown",
   "id": "d2a4f9e7",
   "metadata": {
    "papermill": {
     "duration": 0.112306,
     "end_time": "2023-08-13T09:35:47.280306",
     "exception": false,
     "start_time": "2023-08-13T09:35:47.168000",
     "status": "completed"
    },
    "tags": []
   },
   "source": [
    "### LightGBM  "
   ]
  },
  {
   "cell_type": "code",
   "execution_count": 142,
   "id": "3109a100",
   "metadata": {
    "execution": {
     "iopub.execute_input": "2023-08-13T09:35:47.508651Z",
     "iopub.status.busy": "2023-08-13T09:35:47.507698Z",
     "iopub.status.idle": "2023-08-13T09:35:47.512911Z",
     "shell.execute_reply": "2023-08-13T09:35:47.512076Z"
    },
    "papermill": {
     "duration": 0.122012,
     "end_time": "2023-08-13T09:35:47.515190",
     "exception": false,
     "start_time": "2023-08-13T09:35:47.393178",
     "status": "completed"
    },
    "tags": []
   },
   "outputs": [],
   "source": [
    "# lgb = ltb.LGBMClassifier()\n",
    "# lgb"
   ]
  },
  {
   "cell_type": "code",
   "execution_count": 143,
   "id": "b5ea9802",
   "metadata": {
    "execution": {
     "iopub.execute_input": "2023-08-13T09:35:47.743723Z",
     "iopub.status.busy": "2023-08-13T09:35:47.742614Z",
     "iopub.status.idle": "2023-08-13T09:35:47.747942Z",
     "shell.execute_reply": "2023-08-13T09:35:47.747118Z"
    },
    "papermill": {
     "duration": 0.122882,
     "end_time": "2023-08-13T09:35:47.750123",
     "exception": false,
     "start_time": "2023-08-13T09:35:47.627241",
     "status": "completed"
    },
    "tags": []
   },
   "outputs": [],
   "source": [
    "# Try LightGBM with default settings\n",
    "# (Update): Public score only 0.77713. It was fast, took less than 5 mins (without GridSearchCV)\n",
    "\n",
    "# submit_v4(selected_model=ltb.LGBMClassifier(), selected_features=all_dict, param_grid=None)"
   ]
  },
  {
   "cell_type": "markdown",
   "id": "fb824ea3",
   "metadata": {
    "papermill": {
     "duration": 0.111327,
     "end_time": "2023-08-13T09:35:47.974969",
     "exception": false,
     "start_time": "2023-08-13T09:35:47.863642",
     "status": "completed"
    },
    "tags": []
   },
   "source": [
    "## Feature Engineering"
   ]
  },
  {
   "cell_type": "markdown",
   "id": "8cb9d74c",
   "metadata": {
    "papermill": {
     "duration": 0.111751,
     "end_time": "2023-08-13T09:35:48.199999",
     "exception": false,
     "start_time": "2023-08-13T09:35:48.088248",
     "status": "completed"
    },
    "tags": []
   },
   "source": [
    "### Plan  \n",
    "* Add a new column 'reviewWC' which has word count of 'reviewText'  \n",
    "    * Check if there is any relationship between 'reviewWC' and 'sentiment'\n",
    "* Work on vocabulary\n",
    "     * Use TfidfVectorizer and find out the vocabulary of 'reviewText' column for various ngrams\n",
    "     * Use RecursiveFeatureElimination (RFE) or RFECV to select 1000 top words/vocab for each ngram\n",
    "     * Use the final vocab (1000-3000 words) in the model and see how it performs compared to whole vocab\n",
    "\n",
    "`(Update): Code incorporated into the \"select_features\" function  `  \n",
    "`(Update): Many other new features incorporated into the \"select_features\" function too  `  \n",
    "\n"
   ]
  },
  {
   "cell_type": "markdown",
   "id": "2e8979a7",
   "metadata": {
    "papermill": {
     "duration": 0.115855,
     "end_time": "2023-08-13T09:35:48.428562",
     "exception": false,
     "start_time": "2023-08-13T09:35:48.312707",
     "status": "completed"
    },
    "tags": []
   },
   "source": [
    "# Back to vocab after success of version 63  "
   ]
  },
  {
   "cell_type": "code",
   "execution_count": 144,
   "id": "fb429f8f",
   "metadata": {
    "execution": {
     "iopub.execute_input": "2023-08-13T09:35:48.658816Z",
     "iopub.status.busy": "2023-08-13T09:35:48.657552Z",
     "iopub.status.idle": "2023-08-13T09:35:48.679970Z",
     "shell.execute_reply": "2023-08-13T09:35:48.679117Z"
    },
    "papermill": {
     "duration": 0.140068,
     "end_time": "2023-08-13T09:35:48.682654",
     "exception": false,
     "start_time": "2023-08-13T09:35:48.542586",
     "status": "completed"
    },
    "tags": []
   },
   "outputs": [],
   "source": [
    "def submit_v4(selected_model=LogisticRegression(C=1, solver='liblinear', max_iter=100000), \n",
    "              selected_features={'txt': ['reviewText']}, \n",
    "              param_grid=None,\n",
    "              vocab=None,\n",
    "              vocab_usage='tfidf',\n",
    "              strip_accents='unicode', \n",
    "              add_countvec=False):\n",
    "    \n",
    "    print(\"\\nRunning the submit_v4 function...\")\n",
    "    \n",
    "    # Fine tune selected_features\n",
    "    if add_countvec:\n",
    "        if 'txt' in selected_features.keys():\n",
    "            if \"reviewText_2\" not in selected_features['txt']:\n",
    "                selected_features['txt'].append('reviewText_2')\n",
    "    if vocab:\n",
    "        if 'txt' in selected_features.keys():\n",
    "            if \"reviewText_3\" not in selected_features['txt']:\n",
    "                selected_features['txt'].append('reviewText_3')\n",
    "    print(f\"\\nSelected features: {selected_features}\")\n",
    "\n",
    "    \n",
    "    \n",
    "    # Build Pipeline\n",
    "    pipe = build_pipeline(selected_model, selected_features, param_grid=param_grid, \n",
    "                          vocab=vocab, vocab_usage='tfidf', \n",
    "                          strip_accents=strip_accents, add_countvec=add_countvec)\n",
    "    print(pipe)\n",
    "\n",
    "    \n",
    "    \n",
    "    # Features list\n",
    "    features = []\n",
    "    for item in selected_features.values():\n",
    "        features.extend(item)\n",
    " \n",
    "\n",
    "    # Merge and preprocess train and movies data  \n",
    "    merged = select_features(load_csv(\"train\"), load_csv(\"movies\"), row_thresh_null=None)    # Decide if you want to drop any rows containing lot of nulls\n",
    "    # Impute missing numerical values  \n",
    "    # Simple Imputer for ['audienceScore', 'runtimeMinutes', 'boxOffice'] and 'releaseDate' columns\n",
    "    si = SimpleImputer(strategy='median')\n",
    "    merged[['audienceScore', 'runtimeMinutes', 'boxOffice']] = si.fit_transform(merged[['audienceScore', 'runtimeMinutes', 'boxOffice']])\n",
    "    merged['releaseDate'] = merged[\"releaseDate\"].fillna(merged[\"releaseDate\"].median())    \n",
    "    # Add new columns as needed  \n",
    "    if add_countvec:\n",
    "        merged['reviewText_2'] = merged['reviewText']\n",
    "    if vocab:\n",
    "        merged['reviewText_3'] = merged['reviewText']\n",
    "        \n",
    "    X_train = merged.drop(labels=\"sentiment\", axis=1)\n",
    "    y_train = merged[\"sentiment\"]\n",
    "\n",
    "    X_train = X_train[features]\n",
    "    \n",
    "    \n",
    "    # Check1\n",
    "    print(\"\\nCheck 1 complete.\")\n",
    "    print(f\"Shape of X_train: {X_train.shape}\")\n",
    "    print(f\"Features in X_train: {X_train.columns}\")\n",
    "#     print(X_train.head())\n",
    "    \n",
    "    \n",
    "    # Fit \n",
    "    print(\"\\nTraining started with full pipeline...\")\n",
    "    pipe.fit(X_train, y_train)\n",
    "    \n",
    "    # Check2\n",
    "    print(\"\\nCheck 2 complete.\")\n",
    "    print(\"Details of the best model using full pipeline (GridSearchCV) on X_train: \")\n",
    "    print(f\"Best Params: {pipe.best_params_}\")\n",
    "    print(f\"Best Score: {pipe.best_score_}\")\n",
    "    \n",
    "    print(predict_on_missing_review_data(pipe, features, merged))    # Function defined above\n",
    "    \n",
    "        \n",
    "    # Predict on test.csv file\n",
    "    \n",
    "    # Merge and preprocess test and movies data  \n",
    "    merged_test = select_features(load_csv(\"test\"), load_csv(\"movies\"))\n",
    "    # Transform ['audienceScore', 'runtimeMinutes', 'boxOffice'] columns in merged_test using 'si' fitted on 'merged' df  \n",
    "    merged_test[['audienceScore', 'runtimeMinutes', 'boxOffice']] = si.transform(merged_test[['audienceScore', 'runtimeMinutes', 'boxOffice']])\n",
    "    # Fill 'releaseDate' column in 'merged_test' df with median from the train (merged) df  \n",
    "    merged_test['releaseDate'] = merged_test[\"releaseDate\"].fillna(merged[\"releaseDate\"].median())\n",
    "    # Add new columns as needed \n",
    "    if add_countvec:\n",
    "        merged_test['reviewText_2'] = merged_test['reviewText']\n",
    "    if vocab:\n",
    "        merged_test['reviewText_3'] = merged_test['reviewText']\n",
    "        \n",
    "    X_test = merged_test.copy()\n",
    "\n",
    "    X_test = X_test[features]\n",
    "    \n",
    "    \n",
    "    # Check3\n",
    "    print(\"\\nCheck 3 complete.\")\n",
    "    print(f\"Shape of X_test: {X_test.shape}\")\n",
    "    print(f\"Features in X_test: {X_test.columns}\")\n",
    "#     print(X_test.head())\n",
    "    \n",
    "    y_pred = pipe.predict(X_test)\n",
    "    \n",
    "    # Check4\n",
    "    print(\"\\nCheck 4 complete.\")\n",
    "#     cv_results_df = pd.DataFrame(pipe.cv_results_)\n",
    "    print(\"Details of the best model using full pipeline (GridSearchCV) on X_train: \")\n",
    "    print(f\"Best Estimator: {pipe.best_estimator_}\")\n",
    "    print(f\"Best Params: {pipe.best_params_}\")\n",
    "    print(f\"Best Score: {pipe.best_score_}\")\n",
    "    print(f\"Best Index: {pipe.best_index_}\")\n",
    "    print(f\"Refit Time: {pipe.refit_time_}\")\n",
    "#     print(f\"Shape of CV results dataframe: {cv_results_df.shape}\")\n",
    "    \n",
    "    pred_df = pd.DataFrame(y_pred)\n",
    "    pred_df.columns = [\"sentiment\"]\n",
    "    pred_df.index.name = \"id\"\n",
    "    pred_df.to_csv(\"submission.csv\")\n",
    "    \n",
    "    print(\"\\nSuccessfully created the submission file!!!\")\n",
    "    \n",
    "    return pipe.cv_results_"
   ]
  },
  {
   "cell_type": "code",
   "execution_count": 145,
   "id": "e1006e50",
   "metadata": {
    "execution": {
     "iopub.execute_input": "2023-08-13T09:35:48.911591Z",
     "iopub.status.busy": "2023-08-13T09:35:48.910543Z",
     "iopub.status.idle": "2023-08-13T09:35:48.917966Z",
     "shell.execute_reply": "2023-08-13T09:35:48.916920Z"
    },
    "papermill": {
     "duration": 0.125081,
     "end_time": "2023-08-13T09:35:48.920370",
     "exception": false,
     "start_time": "2023-08-13T09:35:48.795289",
     "status": "completed"
    },
    "tags": []
   },
   "outputs": [
    {
     "data": {
      "text/plain": [
       "Index(['movieid', 'reviewerName', 'isFrequentReviewer', 'reviewText',\n",
       "       'sentiment', 'title', 'audienceScore', 'rating', 'ratingContents',\n",
       "       'releaseDateTheaters', 'releaseDateStreaming', 'runtimeMinutes',\n",
       "       'genre', 'originalLanguage', 'director', 'boxOffice', 'distributor',\n",
       "       'soundType', 'reviewYN', 'reviewWC', 'genreSorted', 'rcSorted',\n",
       "       'releaseDate', 'releaseYear', 'releaseMonth', 'releaseDiff'],\n",
       "      dtype='object')"
      ]
     },
     "execution_count": 145,
     "metadata": {},
     "output_type": "execute_result"
    }
   ],
   "source": [
    "merged.columns"
   ]
  },
  {
   "cell_type": "code",
   "execution_count": 146,
   "id": "f87fd1d0",
   "metadata": {
    "execution": {
     "iopub.execute_input": "2023-08-13T09:35:49.149740Z",
     "iopub.status.busy": "2023-08-13T09:35:49.148999Z",
     "iopub.status.idle": "2023-08-13T09:35:49.158949Z",
     "shell.execute_reply": "2023-08-13T09:35:49.158164Z"
    },
    "papermill": {
     "duration": 0.12826,
     "end_time": "2023-08-13T09:35:49.161322",
     "exception": false,
     "start_time": "2023-08-13T09:35:49.033062",
     "status": "completed"
    },
    "tags": []
   },
   "outputs": [],
   "source": [
    "# Best #2\n",
    "v80_dict = {'cat': ['isFrequentReviewer', 'audScoreBins', 'boxOfficeBins'], \n",
    "                  'txt': ['reviewText', 'reviewerName', 'movieid', 'genre', 'director', \n",
    "                          'ratingContents', 'distributor']}\n",
    "# Best #1\n",
    "v88_dict = {'cat': ['isFrequentReviewer', 'audScoreBins', 'boxOfficeBins'],\n",
    "            'num': ['releaseDiff'],\n",
    "            'txt': ['reviewText', 'reviewerName', 'movieid', 'genre', 'director', \n",
    "                         'ratingContents', 'distributor']}\n",
    "\n",
    "v92_dict = {'cat': ['isFrequentReviewer', 'audScoreBins', 'boxOfficeBins', 'releaseDiffBins'],\n",
    "            'txt': ['reviewText', 'reviewerName', 'title', 'genre', 'director', \n",
    "                         'ratingContents', 'distributor']}\n",
    "\n",
    "# Best univariable datapoints dict\n",
    "best_uni_dict = {'cat': [\"isFrequentReviewer\", \"audScoreBins\"],\n",
    "                 'txt': ['reviewText','movieid', 'director', \"ratingContents\"]}\n",
    "\n",
    "# param_grids for LogisticRegression  \n",
    "\n",
    "# Best #1  \n",
    "# param_grid = {\n",
    "#     'model__C' : [1],\n",
    "#     'model__solver': ['saga'],\n",
    "#     \"model__fit_intercept\" : [True],\n",
    "#     \"model__dual\" : [False]\n",
    "#     }\n",
    "\n",
    "# working\n",
    "param_grid = {\n",
    "    'model__C' : [1],\n",
    "    'model__solver': ['saga'],\n",
    "    \"model__fit_intercept\" : [True],\n",
    "    \"model__dual\" : [False],\n",
    "#     \"model__class_weight\": ['balanced', None]\n",
    "}\n",
    "\n",
    "\n",
    "# param_grids for LinearSVC  \n",
    "\n",
    "# param_grid = {\n",
    "#     'model__C' : [1, 10, 20],\n",
    "#     'model__loss': ['hinge', 'squared_hinge'],\n",
    "#     \"model__fit_intercept\" : [True, False],\n",
    "# #     \"model__dual\" : [True, False] \n",
    "# }\n",
    "\n",
    "svm = LinearSVC(max_iter=10000, random_state=42)    # LinearSVC\n",
    "\n",
    "\n",
    "# Local testing\n",
    "# selected_mov = {'num': ['audienceScore', 'boxOffice', 'releaseDiff'], \n",
    "#                 'txt': ['movieid', 'genre', 'director', \n",
    "#                          'ratingContents', 'distributor']}\n",
    "# results = submit_v4(\n",
    "#             selected_features={'num': ['boxOffice']},\n",
    "#             add_countvec=False,\n",
    "#             vocab=None,\n",
    "#             vocab_usage='tfidf',\n",
    "#             param_grid=param_grid\n",
    "#          )\n",
    "\n",
    "# results = submit_v4(selected_model = DummyClassifier(strategy='constant', constant='NEGATIVE'),\n",
    "#             selected_features={'num': ['boxOffice']},\n",
    "#             add_countvec=False,\n",
    "#             vocab=None,\n",
    "#             vocab_usage='tfidf',\n",
    "#             param_grid={'model__strategy' : ['constant']}\n",
    "#          )\n",
    "\n",
    "# Main submission\n",
    "\n",
    "# results = submit_v4(\n",
    "#     selected_features=v88_dict,\n",
    "#     add_countvec=False,\n",
    "#     vocab=common_1_2_3_grams,\n",
    "#     vocab_usage='tfidf',\n",
    "#     param_grid=param_grid\n",
    "#     )\n",
    "\n",
    "# results"
   ]
  },
  {
   "cell_type": "markdown",
   "id": "9b3ae854",
   "metadata": {
    "papermill": {
     "duration": 0.113874,
     "end_time": "2023-08-13T09:35:49.387973",
     "exception": false,
     "start_time": "2023-08-13T09:35:49.274099",
     "status": "completed"
    },
    "tags": []
   },
   "source": [
    "### ratingContents analysis  "
   ]
  },
  {
   "cell_type": "code",
   "execution_count": 147,
   "id": "226b71e0",
   "metadata": {
    "execution": {
     "iopub.execute_input": "2023-08-13T09:35:49.617351Z",
     "iopub.status.busy": "2023-08-13T09:35:49.616602Z",
     "iopub.status.idle": "2023-08-13T09:35:49.620700Z",
     "shell.execute_reply": "2023-08-13T09:35:49.619936Z"
    },
    "papermill": {
     "duration": 0.121365,
     "end_time": "2023-08-13T09:35:49.622823",
     "exception": false,
     "start_time": "2023-08-13T09:35:49.501458",
     "status": "completed"
    },
    "tags": []
   },
   "outputs": [],
   "source": [
    "# Try string split  \n",
    "# s = \"comedy, animation, adventure, fantasy\"\n",
    "# (\",\").join(sorted(s.split(\", \")))"
   ]
  },
  {
   "cell_type": "code",
   "execution_count": 148,
   "id": "133e0161",
   "metadata": {
    "execution": {
     "iopub.execute_input": "2023-08-13T09:35:49.851772Z",
     "iopub.status.busy": "2023-08-13T09:35:49.850993Z",
     "iopub.status.idle": "2023-08-13T09:35:49.855853Z",
     "shell.execute_reply": "2023-08-13T09:35:49.854984Z"
    },
    "papermill": {
     "duration": 0.122901,
     "end_time": "2023-08-13T09:35:49.857903",
     "exception": false,
     "start_time": "2023-08-13T09:35:49.735002",
     "status": "completed"
    },
    "tags": []
   },
   "outputs": [],
   "source": [
    "# ratingContents_analysis = merged[[\"ratingContents\", \"sentiment\"]].copy()\n",
    "# print(ratingContents_analysis.head())\n",
    "# ratingContents_analysis[\"rcSorted\"] = ratingContents_analysis[\"ratingContents\"].apply(lambda x: (\",\").join(sorted(x.strip(\"][\").split(\", \"))))\n",
    "# ratingContents_analysis[\"rcSorted\"] = ratingContents_analysis[\"rcSorted\"].apply(lambda x: re.sub(r\"'\", \"\", x))\n",
    "# ratingContents_analysis[\"rcSorted\"] = ratingContents_analysis[\"rcSorted\"].apply(lambda x: re.sub(r\"[/\\s]\", \"_\", x))\n",
    "# ratingContents_analysis.head(10)"
   ]
  },
  {
   "cell_type": "code",
   "execution_count": 149,
   "id": "474f6171",
   "metadata": {
    "execution": {
     "iopub.execute_input": "2023-08-13T09:35:50.087869Z",
     "iopub.status.busy": "2023-08-13T09:35:50.087115Z",
     "iopub.status.idle": "2023-08-13T09:35:50.091036Z",
     "shell.execute_reply": "2023-08-13T09:35:50.090269Z"
    },
    "papermill": {
     "duration": 0.121183,
     "end_time": "2023-08-13T09:35:50.093176",
     "exception": false,
     "start_time": "2023-08-13T09:35:49.971993",
     "status": "completed"
    },
    "tags": []
   },
   "outputs": [],
   "source": [
    "# cvec_rc = CountVectorizer(ngram_range=(1,1))\n",
    "# cvec_rc.fit(ratingContents_analysis['rcSorted'])\n",
    "# # len(cvec_rc.vocabulary_), cvec_rc.vocabulary_"
   ]
  },
  {
   "cell_type": "code",
   "execution_count": 150,
   "id": "90547a7c",
   "metadata": {
    "execution": {
     "iopub.execute_input": "2023-08-13T09:35:50.322002Z",
     "iopub.status.busy": "2023-08-13T09:35:50.321260Z",
     "iopub.status.idle": "2023-08-13T09:35:50.325023Z",
     "shell.execute_reply": "2023-08-13T09:35:50.324311Z"
    },
    "papermill": {
     "duration": 0.120618,
     "end_time": "2023-08-13T09:35:50.327300",
     "exception": false,
     "start_time": "2023-08-13T09:35:50.206682",
     "status": "completed"
    },
    "tags": []
   },
   "outputs": [],
   "source": [
    "# genre_testing = cvec_g.transform(merged[\"genre\"])\n",
    "# print(genre_testing)"
   ]
  },
  {
   "cell_type": "markdown",
   "id": "eb51492a",
   "metadata": {
    "papermill": {
     "duration": 0.187366,
     "end_time": "2023-08-13T09:35:50.628667",
     "exception": false,
     "start_time": "2023-08-13T09:35:50.441301",
     "status": "completed"
    },
    "tags": []
   },
   "source": [
    "## Statistical tests  "
   ]
  },
  {
   "cell_type": "markdown",
   "id": "ca156d14",
   "metadata": {
    "papermill": {
     "duration": 0.11349,
     "end_time": "2023-08-13T09:35:50.855198",
     "exception": false,
     "start_time": "2023-08-13T09:35:50.741708",
     "status": "completed"
    },
    "tags": []
   },
   "source": [
    "[Go to genre](#genre_analysis)"
   ]
  },
  {
   "cell_type": "code",
   "execution_count": 151,
   "id": "1fa70140",
   "metadata": {
    "execution": {
     "iopub.execute_input": "2023-08-13T09:35:51.085357Z",
     "iopub.status.busy": "2023-08-13T09:35:51.084779Z",
     "iopub.status.idle": "2023-08-13T09:35:51.088771Z",
     "shell.execute_reply": "2023-08-13T09:35:51.088009Z"
    },
    "papermill": {
     "duration": 0.122452,
     "end_time": "2023-08-13T09:35:51.090700",
     "exception": false,
     "start_time": "2023-08-13T09:35:50.968248",
     "status": "completed"
    },
    "tags": []
   },
   "outputs": [],
   "source": [
    "# print(merged['boxOffice'].head())\n",
    "# merged[\"boxOffice\"].describe()"
   ]
  },
  {
   "cell_type": "code",
   "execution_count": 152,
   "id": "e53f3dee",
   "metadata": {
    "execution": {
     "iopub.execute_input": "2023-08-13T09:35:51.319896Z",
     "iopub.status.busy": "2023-08-13T09:35:51.319152Z",
     "iopub.status.idle": "2023-08-13T09:35:51.323960Z",
     "shell.execute_reply": "2023-08-13T09:35:51.322811Z"
    },
    "papermill": {
     "duration": 0.122984,
     "end_time": "2023-08-13T09:35:51.326274",
     "exception": false,
     "start_time": "2023-08-13T09:35:51.203290",
     "status": "completed"
    },
    "tags": []
   },
   "outputs": [],
   "source": [
    "# Function for independent samples t-test on numerical columns  \n",
    "# def ttest_ind(feature):\n",
    "#     pos_grp = merged[feature].loc[merged['sentiment'] == \"POSITIVE\"]\n",
    "#     neg_grp = merged[feature].loc[merged['sentiment'] == \"NEGATIVE\"]\n",
    "\n",
    "#     print(pos_grp.shape, neg_grp.shape)\n",
    "#     print(pos_grp.describe(), neg_grp.describe())\n",
    "\n",
    "#     return stats.ttest_ind(pos_grp, neg_grp)"
   ]
  },
  {
   "cell_type": "code",
   "execution_count": 153,
   "id": "03af8e7a",
   "metadata": {
    "execution": {
     "iopub.execute_input": "2023-08-13T09:35:51.556789Z",
     "iopub.status.busy": "2023-08-13T09:35:51.556064Z",
     "iopub.status.idle": "2023-08-13T09:35:51.560130Z",
     "shell.execute_reply": "2023-08-13T09:35:51.559245Z"
    },
    "papermill": {
     "duration": 0.120864,
     "end_time": "2023-08-13T09:35:51.562220",
     "exception": false,
     "start_time": "2023-08-13T09:35:51.441356",
     "status": "completed"
    },
    "tags": []
   },
   "outputs": [],
   "source": [
    "# ttest_ind('boxOffice')"
   ]
  },
  {
   "cell_type": "code",
   "execution_count": 154,
   "id": "1724056a",
   "metadata": {
    "execution": {
     "iopub.execute_input": "2023-08-13T09:35:51.791138Z",
     "iopub.status.busy": "2023-08-13T09:35:51.790298Z",
     "iopub.status.idle": "2023-08-13T09:35:51.794652Z",
     "shell.execute_reply": "2023-08-13T09:35:51.793594Z"
    },
    "papermill": {
     "duration": 0.121916,
     "end_time": "2023-08-13T09:35:51.796885",
     "exception": false,
     "start_time": "2023-08-13T09:35:51.674969",
     "status": "completed"
    },
    "tags": []
   },
   "outputs": [],
   "source": [
    "# ttest_ind('runtimeMinutes')"
   ]
  },
  {
   "cell_type": "code",
   "execution_count": 155,
   "id": "dd73dc98",
   "metadata": {
    "execution": {
     "iopub.execute_input": "2023-08-13T09:35:52.027384Z",
     "iopub.status.busy": "2023-08-13T09:35:52.026601Z",
     "iopub.status.idle": "2023-08-13T09:35:52.031987Z",
     "shell.execute_reply": "2023-08-13T09:35:52.030997Z"
    },
    "papermill": {
     "duration": 0.122704,
     "end_time": "2023-08-13T09:35:52.034361",
     "exception": false,
     "start_time": "2023-08-13T09:35:51.911657",
     "status": "completed"
    },
    "tags": []
   },
   "outputs": [],
   "source": [
    "# ttest_ind('audienceScore')"
   ]
  },
  {
   "cell_type": "code",
   "execution_count": 156,
   "id": "82da8556",
   "metadata": {
    "execution": {
     "iopub.execute_input": "2023-08-13T09:35:52.264317Z",
     "iopub.status.busy": "2023-08-13T09:35:52.263629Z",
     "iopub.status.idle": "2023-08-13T09:35:52.267496Z",
     "shell.execute_reply": "2023-08-13T09:35:52.266754Z"
    },
    "papermill": {
     "duration": 0.120081,
     "end_time": "2023-08-13T09:35:52.269766",
     "exception": false,
     "start_time": "2023-08-13T09:35:52.149685",
     "status": "completed"
    },
    "tags": []
   },
   "outputs": [],
   "source": [
    "# sns.boxplot(x=merged['sentiment'], y=merged['boxOffice'])"
   ]
  },
  {
   "cell_type": "markdown",
   "id": "14f8460c",
   "metadata": {
    "papermill": {
     "duration": 0.11537,
     "end_time": "2023-08-13T09:35:52.497497",
     "exception": false,
     "start_time": "2023-08-13T09:35:52.382127",
     "status": "completed"
    },
    "tags": []
   },
   "source": [
    "## <div id='genre_analysis'>Genre analysis</div>"
   ]
  },
  {
   "cell_type": "code",
   "execution_count": 157,
   "id": "6eb0bd58",
   "metadata": {
    "execution": {
     "iopub.execute_input": "2023-08-13T09:35:52.728734Z",
     "iopub.status.busy": "2023-08-13T09:35:52.728014Z",
     "iopub.status.idle": "2023-08-13T09:35:52.731863Z",
     "shell.execute_reply": "2023-08-13T09:35:52.731090Z"
    },
    "papermill": {
     "duration": 0.122605,
     "end_time": "2023-08-13T09:35:52.733949",
     "exception": false,
     "start_time": "2023-08-13T09:35:52.611344",
     "status": "completed"
    },
    "tags": []
   },
   "outputs": [],
   "source": [
    "# genre_analysis = merged[[\"genre\", \"genreSorted\", \"sentiment\"]].copy()\n",
    "# # print(genre_analysis.head())\n",
    "# # genre_analysis[\"genre\"] = genre_analysis[\"genre\"].apply(lambda x: (\",\").join(sorted(x.split(\", \"))))\n",
    "# genre_analysis.head()"
   ]
  },
  {
   "cell_type": "code",
   "execution_count": 158,
   "id": "35e0a536",
   "metadata": {
    "execution": {
     "iopub.execute_input": "2023-08-13T09:35:52.965490Z",
     "iopub.status.busy": "2023-08-13T09:35:52.964739Z",
     "iopub.status.idle": "2023-08-13T09:35:52.968719Z",
     "shell.execute_reply": "2023-08-13T09:35:52.967955Z"
    },
    "papermill": {
     "duration": 0.122431,
     "end_time": "2023-08-13T09:35:52.970915",
     "exception": false,
     "start_time": "2023-08-13T09:35:52.848484",
     "status": "completed"
    },
    "tags": []
   },
   "outputs": [],
   "source": [
    "# cvec_g = CountVectorizer(ngram_range=(1,3))\n",
    "# cvec_g.fit(genre_analysis['genre'])\n",
    "# # len(cvec_g.vocabulary_), cvec_g.vocabulary_"
   ]
  },
  {
   "cell_type": "code",
   "execution_count": 159,
   "id": "cb36e077",
   "metadata": {
    "execution": {
     "iopub.execute_input": "2023-08-13T09:35:53.200418Z",
     "iopub.status.busy": "2023-08-13T09:35:53.199685Z",
     "iopub.status.idle": "2023-08-13T09:35:53.203610Z",
     "shell.execute_reply": "2023-08-13T09:35:53.202874Z"
    },
    "papermill": {
     "duration": 0.121301,
     "end_time": "2023-08-13T09:35:53.205784",
     "exception": false,
     "start_time": "2023-08-13T09:35:53.084483",
     "status": "completed"
    },
    "tags": []
   },
   "outputs": [],
   "source": [
    "# cvec_gSorted = CountVectorizer(ngram_range=(1,3))\n",
    "# cvec_gSorted.fit(genre_analysis['genreSorted'])\n",
    "# len(cvec_gSorted.vocabulary_), cvec_gSorted.vocabulary_"
   ]
  },
  {
   "cell_type": "code",
   "execution_count": 160,
   "id": "b48a92e2",
   "metadata": {
    "execution": {
     "iopub.execute_input": "2023-08-13T09:35:53.433206Z",
     "iopub.status.busy": "2023-08-13T09:35:53.432733Z",
     "iopub.status.idle": "2023-08-13T09:35:53.437482Z",
     "shell.execute_reply": "2023-08-13T09:35:53.436309Z"
    },
    "papermill": {
     "duration": 0.121086,
     "end_time": "2023-08-13T09:35:53.439806",
     "exception": false,
     "start_time": "2023-08-13T09:35:53.318720",
     "status": "completed"
    },
    "tags": []
   },
   "outputs": [],
   "source": [
    "# genre_testing = cvec_g.transform(merged[\"genre\"])\n",
    "# # print(genre_testing)"
   ]
  },
  {
   "cell_type": "code",
   "execution_count": 161,
   "id": "e10d2137",
   "metadata": {
    "execution": {
     "iopub.execute_input": "2023-08-13T09:35:53.667426Z",
     "iopub.status.busy": "2023-08-13T09:35:53.666999Z",
     "iopub.status.idle": "2023-08-13T09:35:53.672051Z",
     "shell.execute_reply": "2023-08-13T09:35:53.670787Z"
    },
    "papermill": {
     "duration": 0.122272,
     "end_time": "2023-08-13T09:35:53.674385",
     "exception": false,
     "start_time": "2023-08-13T09:35:53.552113",
     "status": "completed"
    },
    "tags": []
   },
   "outputs": [],
   "source": [
    "# genre_counts_testing = merged[[\"genre\", \"sentiment\"]].copy()\n",
    "# genre_counts_testing[\"gCount\"] = genre_counts_testing.apply(lambda x: len(str(x[\"genre\"]).split()), axis=1)\n",
    "# genre_counts_testing"
   ]
  },
  {
   "cell_type": "code",
   "execution_count": 162,
   "id": "90605288",
   "metadata": {
    "execution": {
     "iopub.execute_input": "2023-08-13T09:35:53.926492Z",
     "iopub.status.busy": "2023-08-13T09:35:53.925460Z",
     "iopub.status.idle": "2023-08-13T09:35:53.930767Z",
     "shell.execute_reply": "2023-08-13T09:35:53.929642Z"
    },
    "papermill": {
     "duration": 0.13,
     "end_time": "2023-08-13T09:35:53.933173",
     "exception": false,
     "start_time": "2023-08-13T09:35:53.803173",
     "status": "completed"
    },
    "tags": []
   },
   "outputs": [],
   "source": [
    "# sns.boxplot(y=genre_counts_testing[\"gCount\"], x=genre_counts_testing[\"sentiment\"])"
   ]
  },
  {
   "cell_type": "code",
   "execution_count": 163,
   "id": "cd5c5186",
   "metadata": {
    "execution": {
     "iopub.execute_input": "2023-08-13T09:35:54.165663Z",
     "iopub.status.busy": "2023-08-13T09:35:54.165000Z",
     "iopub.status.idle": "2023-08-13T09:35:54.169631Z",
     "shell.execute_reply": "2023-08-13T09:35:54.168827Z"
    },
    "papermill": {
     "duration": 0.124492,
     "end_time": "2023-08-13T09:35:54.171910",
     "exception": false,
     "start_time": "2023-08-13T09:35:54.047418",
     "status": "completed"
    },
    "tags": []
   },
   "outputs": [],
   "source": [
    "# sns.boxplot(y=merged[\"reviewWC\"], x=merged[\"sentiment\"])"
   ]
  },
  {
   "cell_type": "code",
   "execution_count": 164,
   "id": "3f603608",
   "metadata": {
    "execution": {
     "iopub.execute_input": "2023-08-13T09:35:54.401730Z",
     "iopub.status.busy": "2023-08-13T09:35:54.401089Z",
     "iopub.status.idle": "2023-08-13T09:35:54.405516Z",
     "shell.execute_reply": "2023-08-13T09:35:54.404713Z"
    },
    "papermill": {
     "duration": 0.122288,
     "end_time": "2023-08-13T09:35:54.407673",
     "exception": false,
     "start_time": "2023-08-13T09:35:54.285385",
     "status": "completed"
    },
    "tags": []
   },
   "outputs": [],
   "source": [
    "# audienceScore bins\n",
    "# asc = merged[['audienceScore', 'sentiment']].copy()\n",
    "# asc.head()"
   ]
  },
  {
   "cell_type": "code",
   "execution_count": 165,
   "id": "0e64dafa",
   "metadata": {
    "execution": {
     "iopub.execute_input": "2023-08-13T09:35:54.635673Z",
     "iopub.status.busy": "2023-08-13T09:35:54.635194Z",
     "iopub.status.idle": "2023-08-13T09:35:54.640109Z",
     "shell.execute_reply": "2023-08-13T09:35:54.639032Z"
    },
    "papermill": {
     "duration": 0.121082,
     "end_time": "2023-08-13T09:35:54.642449",
     "exception": false,
     "start_time": "2023-08-13T09:35:54.521367",
     "status": "completed"
    },
    "tags": []
   },
   "outputs": [],
   "source": [
    "# Binning numerical features  \n",
    "\n",
    "# print(merged[\"runtimeBins\"].value_counts())\n",
    "# sns.displot(merged[\"runtimeBins\"])"
   ]
  },
  {
   "cell_type": "code",
   "execution_count": 166,
   "id": "efafa864",
   "metadata": {
    "execution": {
     "iopub.execute_input": "2023-08-13T09:35:54.870312Z",
     "iopub.status.busy": "2023-08-13T09:35:54.869872Z",
     "iopub.status.idle": "2023-08-13T09:35:54.874548Z",
     "shell.execute_reply": "2023-08-13T09:35:54.873556Z"
    },
    "papermill": {
     "duration": 0.12254,
     "end_time": "2023-08-13T09:35:54.876794",
     "exception": false,
     "start_time": "2023-08-13T09:35:54.754254",
     "status": "completed"
    },
    "tags": []
   },
   "outputs": [],
   "source": [
    "# Chi-square test for isFrequentReviewer column and sentiment column   \n",
    "\n",
    "# contingency_table = pd.crosstab(traindf['isFrequentReviewer'], traindf['sentiment'])\n",
    "# print(contingency_table)\n",
    "# stats.chi2_contingency(contingency_table)"
   ]
  },
  {
   "cell_type": "markdown",
   "id": "f6c96257",
   "metadata": {
    "papermill": {
     "duration": 0.111174,
     "end_time": "2023-08-13T09:35:55.101685",
     "exception": false,
     "start_time": "2023-08-13T09:35:54.990511",
     "status": "completed"
    },
    "tags": []
   },
   "source": [
    "## Baseline performance of 'reviewText' column  "
   ]
  },
  {
   "cell_type": "code",
   "execution_count": 167,
   "id": "6fb1776a",
   "metadata": {
    "execution": {
     "iopub.execute_input": "2023-08-13T09:35:55.330839Z",
     "iopub.status.busy": "2023-08-13T09:35:55.330183Z",
     "iopub.status.idle": "2023-08-13T09:35:55.334870Z",
     "shell.execute_reply": "2023-08-13T09:35:55.333870Z"
    },
    "papermill": {
     "duration": 0.121089,
     "end_time": "2023-08-13T09:35:55.337197",
     "exception": false,
     "start_time": "2023-08-13T09:35:55.216108",
     "status": "completed"
    },
    "tags": []
   },
   "outputs": [],
   "source": [
    "# rt_dict = {'txt': ['reviewText']}\n",
    "# rt_dict"
   ]
  },
  {
   "cell_type": "code",
   "execution_count": 168,
   "id": "bb0e1dc6",
   "metadata": {
    "execution": {
     "iopub.execute_input": "2023-08-13T09:35:55.563159Z",
     "iopub.status.busy": "2023-08-13T09:35:55.562757Z",
     "iopub.status.idle": "2023-08-13T09:35:55.567635Z",
     "shell.execute_reply": "2023-08-13T09:35:55.566416Z"
    },
    "papermill": {
     "duration": 0.121007,
     "end_time": "2023-08-13T09:35:55.569851",
     "exception": false,
     "start_time": "2023-08-13T09:35:55.448844",
     "status": "completed"
    },
    "tags": []
   },
   "outputs": [],
   "source": [
    "# submit_v4(selected_model=LogisticRegression(C=5, solver=\"saga\", max_iter=100000),\n",
    "#           selected_features=rt_dict,\n",
    "#           param_grid=None,\n",
    "#           vocab=None)"
   ]
  },
  {
   "cell_type": "markdown",
   "id": "167f6d12",
   "metadata": {
    "papermill": {
     "duration": 0.113178,
     "end_time": "2023-08-13T09:35:55.795585",
     "exception": false,
     "start_time": "2023-08-13T09:35:55.682407",
     "status": "completed"
    },
    "tags": []
   },
   "source": [
    "## RFE  "
   ]
  },
  {
   "cell_type": "code",
   "execution_count": 169,
   "id": "90fadba9",
   "metadata": {
    "execution": {
     "iopub.execute_input": "2023-08-13T09:35:56.028182Z",
     "iopub.status.busy": "2023-08-13T09:35:56.027548Z",
     "iopub.status.idle": "2023-08-13T09:35:56.032126Z",
     "shell.execute_reply": "2023-08-13T09:35:56.031299Z"
    },
    "papermill": {
     "duration": 0.124503,
     "end_time": "2023-08-13T09:35:56.034539",
     "exception": false,
     "start_time": "2023-08-13T09:35:55.910036",
     "status": "completed"
    },
    "tags": []
   },
   "outputs": [],
   "source": [
    "# def fs_rfe(selector, text_df, labels, ngram_range=(1,1)):\n",
    "#     text_df_ngram = TfidfVectorizer(ngram_range=ngram_range, stop_words='english').fit_transform(text_df)\n",
    "#     print(\"text_df was vectorized using TF-IDF vectorizer with ngram_range: \", ngram_range)\n",
    "#     print(\"text_df.shape: \", text_df.shape)\n",
    "#     print(\"labels.shape: \", labels.shape)\n",
    "#     print(\"text_df_ngram.shape: \", text_df_ngram.shape)\n",
    "#     print()\n",
    "\n",
    "#     print(\"Starting RFE fit...\")\n",
    "#     selector.fit(text_df_ngram, labels)\n",
    "#     print(\"RFE fit complete.\\n\")\n",
    "    \n",
    "#     print(\"selector.n_features_: \", selector.n_features_)   \n",
    "#     print(\"selector.n_features_in_: \", selector.n_features_in_)\n",
    "#     print(\"selector.support_.shape: \", selector.support_.shape)\n",
    "\n",
    "#     return selector.support_"
   ]
  },
  {
   "cell_type": "markdown",
   "id": "f7743348",
   "metadata": {
    "papermill": {
     "duration": 0.112603,
     "end_time": "2023-08-13T09:35:56.261263",
     "exception": false,
     "start_time": "2023-08-13T09:35:56.148660",
     "status": "completed"
    },
    "tags": []
   },
   "source": [
    "`RFE for unigrams`  "
   ]
  },
  {
   "cell_type": "code",
   "execution_count": 170,
   "id": "0ee7873a",
   "metadata": {
    "execution": {
     "iopub.execute_input": "2023-08-13T09:35:56.491463Z",
     "iopub.status.busy": "2023-08-13T09:35:56.491032Z",
     "iopub.status.idle": "2023-08-13T09:35:56.495400Z",
     "shell.execute_reply": "2023-08-13T09:35:56.494312Z"
    },
    "papermill": {
     "duration": 0.123063,
     "end_time": "2023-08-13T09:35:56.497768",
     "exception": false,
     "start_time": "2023-08-13T09:35:56.374705",
     "status": "completed"
    },
    "tags": []
   },
   "outputs": [],
   "source": [
    "# estimator_rfe_1 = LogisticRegression(solver='saga', max_iter=100000)\n",
    "# selector_rfe_1 = RFE(estimator_rfe_1, step=0.1, n_features_to_select=30000)"
   ]
  },
  {
   "cell_type": "code",
   "execution_count": 171,
   "id": "4e4103e1",
   "metadata": {
    "execution": {
     "iopub.execute_input": "2023-08-13T09:35:56.792358Z",
     "iopub.status.busy": "2023-08-13T09:35:56.791921Z",
     "iopub.status.idle": "2023-08-13T09:35:56.796501Z",
     "shell.execute_reply": "2023-08-13T09:35:56.795305Z"
    },
    "papermill": {
     "duration": 0.18927,
     "end_time": "2023-08-13T09:35:56.798806",
     "exception": false,
     "start_time": "2023-08-13T09:35:56.609536",
     "status": "completed"
    },
    "tags": []
   },
   "outputs": [],
   "source": [
    "# rfe_1_feat_mask = fs_rfe(selector_rfe_1, rt_senti[\"reviewText\"], rt_senti[\"sentiment\"], ngram_range=(1,1))\n",
    "# rfe_1_feat_mask"
   ]
  },
  {
   "cell_type": "code",
   "execution_count": 172,
   "id": "9feb8519",
   "metadata": {
    "execution": {
     "iopub.execute_input": "2023-08-13T09:35:57.027992Z",
     "iopub.status.busy": "2023-08-13T09:35:57.027097Z",
     "iopub.status.idle": "2023-08-13T09:35:57.031008Z",
     "shell.execute_reply": "2023-08-13T09:35:57.030302Z"
    },
    "papermill": {
     "duration": 0.12095,
     "end_time": "2023-08-13T09:35:57.033024",
     "exception": false,
     "start_time": "2023-08-13T09:35:56.912074",
     "status": "completed"
    },
    "tags": []
   },
   "outputs": [],
   "source": [
    "# voc_1gram_rfe = list(compress(voc_1gram, rfe_1_feat_mask))\n",
    "# len(voc_1gram_rfe), voc_1gram_rfe[:10]"
   ]
  },
  {
   "cell_type": "markdown",
   "id": "acc0d9d5",
   "metadata": {
    "papermill": {
     "duration": 0.112755,
     "end_time": "2023-08-13T09:35:57.259156",
     "exception": false,
     "start_time": "2023-08-13T09:35:57.146401",
     "status": "completed"
    },
    "tags": []
   },
   "source": [
    "`RFE for bigrams`  "
   ]
  },
  {
   "cell_type": "code",
   "execution_count": 173,
   "id": "2e4b8212",
   "metadata": {
    "execution": {
     "iopub.execute_input": "2023-08-13T09:35:57.488147Z",
     "iopub.status.busy": "2023-08-13T09:35:57.487454Z",
     "iopub.status.idle": "2023-08-13T09:35:57.491222Z",
     "shell.execute_reply": "2023-08-13T09:35:57.490468Z"
    },
    "papermill": {
     "duration": 0.119285,
     "end_time": "2023-08-13T09:35:57.493240",
     "exception": false,
     "start_time": "2023-08-13T09:35:57.373955",
     "status": "completed"
    },
    "tags": []
   },
   "outputs": [],
   "source": [
    "# estimator_rfe_2 = LogisticRegression(solver='saga', max_iter=100000)\n",
    "# selector_rfe_2 = RFE(estimator_rfe_2, step=0.1, n_features_to_select=50000)"
   ]
  },
  {
   "cell_type": "code",
   "execution_count": 174,
   "id": "b90c7264",
   "metadata": {
    "execution": {
     "iopub.execute_input": "2023-08-13T09:35:57.721519Z",
     "iopub.status.busy": "2023-08-13T09:35:57.720836Z",
     "iopub.status.idle": "2023-08-13T09:35:57.724709Z",
     "shell.execute_reply": "2023-08-13T09:35:57.723921Z"
    },
    "papermill": {
     "duration": 0.121329,
     "end_time": "2023-08-13T09:35:57.726783",
     "exception": false,
     "start_time": "2023-08-13T09:35:57.605454",
     "status": "completed"
    },
    "tags": []
   },
   "outputs": [],
   "source": [
    "# rfe_2_feat_mask = fs_rfe(selector_rfe_2, rt_senti[\"reviewText\"], rt_senti[\"sentiment\"], ngram_range=(2,2))\n",
    "# rfe_2_feat_mask"
   ]
  },
  {
   "cell_type": "code",
   "execution_count": 175,
   "id": "f6f47996",
   "metadata": {
    "execution": {
     "iopub.execute_input": "2023-08-13T09:35:57.954963Z",
     "iopub.status.busy": "2023-08-13T09:35:57.954299Z",
     "iopub.status.idle": "2023-08-13T09:35:57.957981Z",
     "shell.execute_reply": "2023-08-13T09:35:57.957273Z"
    },
    "papermill": {
     "duration": 0.120743,
     "end_time": "2023-08-13T09:35:57.960082",
     "exception": false,
     "start_time": "2023-08-13T09:35:57.839339",
     "status": "completed"
    },
    "tags": []
   },
   "outputs": [],
   "source": [
    "# voc_2gram_rfe = list(compress(voc_2gram, rfe_2_feat_mask))\n",
    "# len(voc_2gram_rfe), voc_2gram_rfe[:10]"
   ]
  },
  {
   "cell_type": "markdown",
   "id": "ef69b38f",
   "metadata": {
    "papermill": {
     "duration": 0.11173,
     "end_time": "2023-08-13T09:35:58.183426",
     "exception": false,
     "start_time": "2023-08-13T09:35:58.071696",
     "status": "completed"
    },
    "tags": []
   },
   "source": [
    "## Final RFE-derived vocabulary  "
   ]
  },
  {
   "cell_type": "code",
   "execution_count": 176,
   "id": "ffb93720",
   "metadata": {
    "execution": {
     "iopub.execute_input": "2023-08-13T09:35:58.409638Z",
     "iopub.status.busy": "2023-08-13T09:35:58.408935Z",
     "iopub.status.idle": "2023-08-13T09:35:58.413292Z",
     "shell.execute_reply": "2023-08-13T09:35:58.412240Z"
    },
    "papermill": {
     "duration": 0.120135,
     "end_time": "2023-08-13T09:35:58.415627",
     "exception": false,
     "start_time": "2023-08-13T09:35:58.295492",
     "status": "completed"
    },
    "tags": []
   },
   "outputs": [],
   "source": [
    "# rfe_vocab = voc_1gram_rfe + voc_2gram_rfe\n",
    "# len(rfe_vocab), rfe_vocab[:10], rfe_vocab[-10:]"
   ]
  },
  {
   "cell_type": "code",
   "execution_count": 177,
   "id": "d76b6fbb",
   "metadata": {
    "execution": {
     "iopub.execute_input": "2023-08-13T09:35:58.643637Z",
     "iopub.status.busy": "2023-08-13T09:35:58.643210Z",
     "iopub.status.idle": "2023-08-13T09:35:58.647825Z",
     "shell.execute_reply": "2023-08-13T09:35:58.646752Z"
    },
    "papermill": {
     "duration": 0.120619,
     "end_time": "2023-08-13T09:35:58.649976",
     "exception": false,
     "start_time": "2023-08-13T09:35:58.529357",
     "status": "completed"
    },
    "tags": []
   },
   "outputs": [],
   "source": [
    "## Test RFE obtained vocabulary in final pipeline (only with reviewText)  \n",
    "# submit_v4(selected_model=LogisticRegression(C=5, solver=\"saga\", max_iter=100000),\n",
    "#           selected_features=rt_dict,\n",
    "#           param_grid=None,\n",
    "#           vocab=rfe_vocab)"
   ]
  },
  {
   "cell_type": "markdown",
   "id": "39ab32b3",
   "metadata": {
    "papermill": {
     "duration": 0.113859,
     "end_time": "2023-08-13T09:35:58.876752",
     "exception": false,
     "start_time": "2023-08-13T09:35:58.762893",
     "status": "completed"
    },
    "tags": []
   },
   "source": [
    "## Use rfe_vocab in final pipeline with all params  "
   ]
  },
  {
   "cell_type": "code",
   "execution_count": 178,
   "id": "dd2cdceb",
   "metadata": {
    "execution": {
     "iopub.execute_input": "2023-08-13T09:35:59.106205Z",
     "iopub.status.busy": "2023-08-13T09:35:59.105758Z",
     "iopub.status.idle": "2023-08-13T09:35:59.110872Z",
     "shell.execute_reply": "2023-08-13T09:35:59.109510Z"
    },
    "papermill": {
     "duration": 0.122,
     "end_time": "2023-08-13T09:35:59.113462",
     "exception": false,
     "start_time": "2023-08-13T09:35:58.991462",
     "status": "completed"
    },
    "tags": []
   },
   "outputs": [],
   "source": [
    "# submit_v4(selected_model=LogisticRegression(max_iter=100000),\n",
    "#           selected_features=all_dict,\n",
    "#           param_grid=param_grid,\n",
    "#           vocab=rfe_vocab)"
   ]
  },
  {
   "cell_type": "code",
   "execution_count": 179,
   "id": "3d85dbdf",
   "metadata": {
    "execution": {
     "iopub.execute_input": "2023-08-13T09:35:59.342673Z",
     "iopub.status.busy": "2023-08-13T09:35:59.342232Z",
     "iopub.status.idle": "2023-08-13T09:35:59.354418Z",
     "shell.execute_reply": "2023-08-13T09:35:59.353407Z"
    },
    "papermill": {
     "duration": 0.129818,
     "end_time": "2023-08-13T09:35:59.356713",
     "exception": false,
     "start_time": "2023-08-13T09:35:59.226895",
     "status": "completed"
    },
    "tags": []
   },
   "outputs": [
    {
     "data": {
      "text/html": [
       "<style>#sk-container-id-1 {color: black;background-color: white;}#sk-container-id-1 pre{padding: 0;}#sk-container-id-1 div.sk-toggleable {background-color: white;}#sk-container-id-1 label.sk-toggleable__label {cursor: pointer;display: block;width: 100%;margin-bottom: 0;padding: 0.3em;box-sizing: border-box;text-align: center;}#sk-container-id-1 label.sk-toggleable__label-arrow:before {content: \"▸\";float: left;margin-right: 0.25em;color: #696969;}#sk-container-id-1 label.sk-toggleable__label-arrow:hover:before {color: black;}#sk-container-id-1 div.sk-estimator:hover label.sk-toggleable__label-arrow:before {color: black;}#sk-container-id-1 div.sk-toggleable__content {max-height: 0;max-width: 0;overflow: hidden;text-align: left;background-color: #f0f8ff;}#sk-container-id-1 div.sk-toggleable__content pre {margin: 0.2em;color: black;border-radius: 0.25em;background-color: #f0f8ff;}#sk-container-id-1 input.sk-toggleable__control:checked~div.sk-toggleable__content {max-height: 200px;max-width: 100%;overflow: auto;}#sk-container-id-1 input.sk-toggleable__control:checked~label.sk-toggleable__label-arrow:before {content: \"▾\";}#sk-container-id-1 div.sk-estimator input.sk-toggleable__control:checked~label.sk-toggleable__label {background-color: #d4ebff;}#sk-container-id-1 div.sk-label input.sk-toggleable__control:checked~label.sk-toggleable__label {background-color: #d4ebff;}#sk-container-id-1 input.sk-hidden--visually {border: 0;clip: rect(1px 1px 1px 1px);clip: rect(1px, 1px, 1px, 1px);height: 1px;margin: -1px;overflow: hidden;padding: 0;position: absolute;width: 1px;}#sk-container-id-1 div.sk-estimator {font-family: monospace;background-color: #f0f8ff;border: 1px dotted black;border-radius: 0.25em;box-sizing: border-box;margin-bottom: 0.5em;}#sk-container-id-1 div.sk-estimator:hover {background-color: #d4ebff;}#sk-container-id-1 div.sk-parallel-item::after {content: \"\";width: 100%;border-bottom: 1px solid gray;flex-grow: 1;}#sk-container-id-1 div.sk-label:hover label.sk-toggleable__label {background-color: #d4ebff;}#sk-container-id-1 div.sk-serial::before {content: \"\";position: absolute;border-left: 1px solid gray;box-sizing: border-box;top: 0;bottom: 0;left: 50%;z-index: 0;}#sk-container-id-1 div.sk-serial {display: flex;flex-direction: column;align-items: center;background-color: white;padding-right: 0.2em;padding-left: 0.2em;position: relative;}#sk-container-id-1 div.sk-item {position: relative;z-index: 1;}#sk-container-id-1 div.sk-parallel {display: flex;align-items: stretch;justify-content: center;background-color: white;position: relative;}#sk-container-id-1 div.sk-item::before, #sk-container-id-1 div.sk-parallel-item::before {content: \"\";position: absolute;border-left: 1px solid gray;box-sizing: border-box;top: 0;bottom: 0;left: 50%;z-index: -1;}#sk-container-id-1 div.sk-parallel-item {display: flex;flex-direction: column;z-index: 1;position: relative;background-color: white;}#sk-container-id-1 div.sk-parallel-item:first-child::after {align-self: flex-end;width: 50%;}#sk-container-id-1 div.sk-parallel-item:last-child::after {align-self: flex-start;width: 50%;}#sk-container-id-1 div.sk-parallel-item:only-child::after {width: 0;}#sk-container-id-1 div.sk-dashed-wrapped {border: 1px dashed gray;margin: 0 0.4em 0.5em 0.4em;box-sizing: border-box;padding-bottom: 0.4em;background-color: white;}#sk-container-id-1 div.sk-label label {font-family: monospace;font-weight: bold;display: inline-block;line-height: 1.2em;}#sk-container-id-1 div.sk-label-container {text-align: center;}#sk-container-id-1 div.sk-container {/* jupyter's `normalize.less` sets `[hidden] { display: none; }` but bootstrap.min.css set `[hidden] { display: none !important; }` so we also need the `!important` here to be able to override the default hidden behavior on the sphinx rendered scikit-learn.org. See: https://github.com/scikit-learn/scikit-learn/issues/21755 */display: inline-block !important;position: relative;}#sk-container-id-1 div.sk-text-repr-fallback {display: none;}</style><div id=\"sk-container-id-1\" class=\"sk-top-container\"><div class=\"sk-text-repr-fallback\"><pre>AdaBoostClassifier(estimator=LogisticRegression(C=5, max_iter=100000,\n",
       "                                                solver=&#x27;saga&#x27;))</pre><b>In a Jupyter environment, please rerun this cell to show the HTML representation or trust the notebook. <br />On GitHub, the HTML representation is unable to render, please try loading this page with nbviewer.org.</b></div><div class=\"sk-container\" hidden><div class=\"sk-item sk-dashed-wrapped\"><div class=\"sk-label-container\"><div class=\"sk-label sk-toggleable\"><input class=\"sk-toggleable__control sk-hidden--visually\" id=\"sk-estimator-id-1\" type=\"checkbox\" ><label for=\"sk-estimator-id-1\" class=\"sk-toggleable__label sk-toggleable__label-arrow\">AdaBoostClassifier</label><div class=\"sk-toggleable__content\"><pre>AdaBoostClassifier(estimator=LogisticRegression(C=5, max_iter=100000,\n",
       "                                                solver=&#x27;saga&#x27;))</pre></div></div></div><div class=\"sk-parallel\"><div class=\"sk-parallel-item\"><div class=\"sk-item\"><div class=\"sk-label-container\"><div class=\"sk-label sk-toggleable\"><input class=\"sk-toggleable__control sk-hidden--visually\" id=\"sk-estimator-id-2\" type=\"checkbox\" ><label for=\"sk-estimator-id-2\" class=\"sk-toggleable__label sk-toggleable__label-arrow\">estimator: LogisticRegression</label><div class=\"sk-toggleable__content\"><pre>LogisticRegression(C=5, max_iter=100000, solver=&#x27;saga&#x27;)</pre></div></div></div><div class=\"sk-serial\"><div class=\"sk-item\"><div class=\"sk-estimator sk-toggleable\"><input class=\"sk-toggleable__control sk-hidden--visually\" id=\"sk-estimator-id-3\" type=\"checkbox\" ><label for=\"sk-estimator-id-3\" class=\"sk-toggleable__label sk-toggleable__label-arrow\">LogisticRegression</label><div class=\"sk-toggleable__content\"><pre>LogisticRegression(C=5, max_iter=100000, solver=&#x27;saga&#x27;)</pre></div></div></div></div></div></div></div></div></div></div>"
      ],
      "text/plain": [
       "AdaBoostClassifier(estimator=LogisticRegression(C=5, max_iter=100000,\n",
       "                                                solver='saga'))"
      ]
     },
     "execution_count": 179,
     "metadata": {},
     "output_type": "execute_result"
    }
   ],
   "source": [
    "adc = AdaBoostClassifier(estimator=LogisticRegression(C=5, solver=\"saga\", max_iter=100000), n_estimators=50)\n",
    "adc"
   ]
  },
  {
   "cell_type": "code",
   "execution_count": 180,
   "id": "618f89cf",
   "metadata": {
    "execution": {
     "iopub.execute_input": "2023-08-13T09:35:59.588463Z",
     "iopub.status.busy": "2023-08-13T09:35:59.588021Z",
     "iopub.status.idle": "2023-08-13T09:35:59.593143Z",
     "shell.execute_reply": "2023-08-13T09:35:59.591828Z"
    },
    "papermill": {
     "duration": 0.126258,
     "end_time": "2023-08-13T09:35:59.595316",
     "exception": false,
     "start_time": "2023-08-13T09:35:59.469058",
     "status": "completed"
    },
    "tags": []
   },
   "outputs": [],
   "source": [
    "# submit_v4(selected_model=adc,\n",
    "#           selected_features={'cat': ['isFrequentReviewer']},\n",
    "#           param_grid=None,\n",
    "#           vocab=rfe_vocab)"
   ]
  },
  {
   "cell_type": "code",
   "execution_count": 181,
   "id": "fa33fd7f",
   "metadata": {
    "execution": {
     "iopub.execute_input": "2023-08-13T09:35:59.822728Z",
     "iopub.status.busy": "2023-08-13T09:35:59.822332Z",
     "iopub.status.idle": "2023-08-13T09:35:59.827203Z",
     "shell.execute_reply": "2023-08-13T09:35:59.826016Z"
    },
    "papermill": {
     "duration": 0.12183,
     "end_time": "2023-08-13T09:35:59.829686",
     "exception": false,
     "start_time": "2023-08-13T09:35:59.707856",
     "status": "completed"
    },
    "tags": []
   },
   "outputs": [],
   "source": [
    "# AdaBoost on all features with RFE vocab on reviewText\n",
    "\n",
    "# submit_v4(selected_model=adc,\n",
    "#           selected_features=all_dict,\n",
    "#           param_grid=None,\n",
    "#           vocab=rfe_vocab)"
   ]
  },
  {
   "cell_type": "code",
   "execution_count": 182,
   "id": "f4d9966a",
   "metadata": {
    "execution": {
     "iopub.execute_input": "2023-08-13T09:36:00.057864Z",
     "iopub.status.busy": "2023-08-13T09:36:00.057448Z",
     "iopub.status.idle": "2023-08-13T09:36:00.062534Z",
     "shell.execute_reply": "2023-08-13T09:36:00.061239Z"
    },
    "papermill": {
     "duration": 0.121663,
     "end_time": "2023-08-13T09:36:00.064759",
     "exception": false,
     "start_time": "2023-08-13T09:35:59.943096",
     "status": "completed"
    },
    "tags": []
   },
   "outputs": [],
   "source": [
    "# RandomForestClassifier test run on one feature\n",
    "\n",
    "# rfc_2 = RandomForestClassifier()\n",
    "# rfc_2"
   ]
  },
  {
   "cell_type": "code",
   "execution_count": 183,
   "id": "bd170ed5",
   "metadata": {
    "execution": {
     "iopub.execute_input": "2023-08-13T09:36:00.292250Z",
     "iopub.status.busy": "2023-08-13T09:36:00.291827Z",
     "iopub.status.idle": "2023-08-13T09:36:00.295968Z",
     "shell.execute_reply": "2023-08-13T09:36:00.295239Z"
    },
    "papermill": {
     "duration": 0.120211,
     "end_time": "2023-08-13T09:36:00.298004",
     "exception": false,
     "start_time": "2023-08-13T09:36:00.177793",
     "status": "completed"
    },
    "tags": []
   },
   "outputs": [],
   "source": [
    "# submit_v4(selected_model=rfc_2,\n",
    "#           selected_features={'txt': ['reviewerName']},\n",
    "#           param_grid=None,\n",
    "#           vocab=rfe_vocab)"
   ]
  },
  {
   "cell_type": "code",
   "execution_count": 184,
   "id": "4a893bac",
   "metadata": {
    "execution": {
     "iopub.execute_input": "2023-08-13T09:36:00.526632Z",
     "iopub.status.busy": "2023-08-13T09:36:00.526219Z",
     "iopub.status.idle": "2023-08-13T09:36:00.530877Z",
     "shell.execute_reply": "2023-08-13T09:36:00.529713Z"
    },
    "papermill": {
     "duration": 0.122186,
     "end_time": "2023-08-13T09:36:00.532967",
     "exception": false,
     "start_time": "2023-08-13T09:36:00.410781",
     "status": "completed"
    },
    "tags": []
   },
   "outputs": [],
   "source": [
    "# RandomForestClassifier on all features with RFE vocab on reviewText\n",
    "\n",
    "# submit_v4(selected_model=rfc_2,\n",
    "#           selected_features=all_dict,\n",
    "#           param_grid=None,\n",
    "#           vocab=rfe_vocab)"
   ]
  },
  {
   "cell_type": "markdown",
   "id": "919f3dd9",
   "metadata": {
    "papermill": {
     "duration": 0.112096,
     "end_time": "2023-08-13T09:36:00.757447",
     "exception": false,
     "start_time": "2023-08-13T09:36:00.645351",
     "status": "completed"
    },
    "tags": []
   },
   "source": [
    "## Submit_v2 for merged file models  "
   ]
  },
  {
   "cell_type": "code",
   "execution_count": 185,
   "id": "14a525eb",
   "metadata": {
    "execution": {
     "iopub.execute_input": "2023-08-13T09:36:00.987232Z",
     "iopub.status.busy": "2023-08-13T09:36:00.986823Z",
     "iopub.status.idle": "2023-08-13T09:36:00.993152Z",
     "shell.execute_reply": "2023-08-13T09:36:00.991957Z"
    },
    "papermill": {
     "duration": 0.12518,
     "end_time": "2023-08-13T09:36:00.995585",
     "exception": false,
     "start_time": "2023-08-13T09:36:00.870405",
     "status": "completed"
    },
    "tags": []
   },
   "outputs": [],
   "source": [
    "# def submit_v2(selected_model=pipe_final, selected_features=None):\n",
    "#     '''\n",
    "#     Note that \"selected_preprocessor\" is already used within selected_model or pipeline\n",
    "#     '''\n",
    "#     # Retrain on the whole train.csv file  \n",
    "#     merged = select_features(load_csv(\"train\"), load_csv(\"movies\"))\n",
    "#     X_train = merged.drop(labels=\"sentiment\", axis=1)\n",
    "#     y_train = merged[\"sentiment\"]\n",
    "    \n",
    "#     #Use selected features\n",
    "#     if selected_features:\n",
    "#         X_train = X_train[selected_features]\n",
    "    \n",
    "#     # Check1\n",
    "#     print(X_train.shape)\n",
    "#     print(X_train.head())\n",
    "#     try:\n",
    "#         print(selected_model.named_steps['model'].intercept_, selected_model.named_steps['model'].coef_)\n",
    "#     except:\n",
    "#         print(\"Model not trained yet!\")\n",
    "    \n",
    "#     # Fit \n",
    "#     selected_model.fit(X_train, y_train)\n",
    "    \n",
    "#     # Check2\n",
    "#     print(selected_model.named_steps['model'].intercept_, selected_model.named_steps['model'].coef_)\n",
    "    \n",
    "#     # Predict on test.csv file\n",
    "#     merged_test = select_features(load_csv(\"test\"), load_csv(\"movies\"))\n",
    "#     X_test = merged_test.copy()\n",
    "#     if selected_features:\n",
    "#         X_test = X_test[selected_features]\n",
    "    \n",
    "#     # Check3\n",
    "#     print(X_test.shape)\n",
    "#     print(X_test.head())\n",
    "    \n",
    "#     y_pred = selected_model.predict(X_test)\n",
    "    \n",
    "#     pred_df = pd.DataFrame(y_pred)\n",
    "#     pred_df.columns = [\"sentiment\"]\n",
    "#     pred_df.index.name = \"id\"\n",
    "#     pred_df.to_csv(\"submission.csv\")\n",
    "    \n",
    "#     return \"Successfully created the submission file!!!\""
   ]
  },
  {
   "cell_type": "code",
   "execution_count": 186,
   "id": "cfe7a88e",
   "metadata": {
    "execution": {
     "iopub.execute_input": "2023-08-13T09:36:01.223321Z",
     "iopub.status.busy": "2023-08-13T09:36:01.222890Z",
     "iopub.status.idle": "2023-08-13T09:36:01.228395Z",
     "shell.execute_reply": "2023-08-13T09:36:01.226917Z"
    },
    "papermill": {
     "duration": 0.122266,
     "end_time": "2023-08-13T09:36:01.230993",
     "exception": false,
     "start_time": "2023-08-13T09:36:01.108727",
     "status": "completed"
    },
    "tags": []
   },
   "outputs": [],
   "source": [
    "#     X_test = merged_test.copy()\n",
    "    \n",
    "#     y_pred = pipe_best4.predict(X_test)\n",
    "# #     np.unique(y_pred, return_counts=True)\n",
    "#     pred_df = pd.DataFrame(y_pred)\n",
    "#     pred_df.columns = [\"sentiment\"]\n",
    "#     pred_df.index.name = \"id\"\n",
    "#     pred_df.value_counts()"
   ]
  },
  {
   "cell_type": "code",
   "execution_count": 187,
   "id": "ec458731",
   "metadata": {
    "execution": {
     "iopub.execute_input": "2023-08-13T09:36:01.459803Z",
     "iopub.status.busy": "2023-08-13T09:36:01.459358Z",
     "iopub.status.idle": "2023-08-13T09:36:01.463728Z",
     "shell.execute_reply": "2023-08-13T09:36:01.462641Z"
    },
    "papermill": {
     "duration": 0.121413,
     "end_time": "2023-08-13T09:36:01.465838",
     "exception": false,
     "start_time": "2023-08-13T09:36:01.344425",
     "status": "completed"
    },
    "tags": []
   },
   "outputs": [],
   "source": [
    "# X_test.columns"
   ]
  },
  {
   "cell_type": "markdown",
   "id": "bbffacaf",
   "metadata": {
    "papermill": {
     "duration": 0.112,
     "end_time": "2023-08-13T09:36:01.692679",
     "exception": false,
     "start_time": "2023-08-13T09:36:01.580679",
     "status": "completed"
    },
    "tags": []
   },
   "source": [
    "### Uncomment to submit using v2 of submit function  "
   ]
  },
  {
   "cell_type": "code",
   "execution_count": 188,
   "id": "76f1b640",
   "metadata": {
    "execution": {
     "iopub.execute_input": "2023-08-13T09:36:01.922843Z",
     "iopub.status.busy": "2023-08-13T09:36:01.922393Z",
     "iopub.status.idle": "2023-08-13T09:36:01.926843Z",
     "shell.execute_reply": "2023-08-13T09:36:01.925930Z"
    },
    "papermill": {
     "duration": 0.122479,
     "end_time": "2023-08-13T09:36:01.928899",
     "exception": false,
     "start_time": "2023-08-13T09:36:01.806420",
     "status": "completed"
    },
    "tags": []
   },
   "outputs": [],
   "source": [
    "# best4 = [\"audienceScore\", \"rating\", \"isFrequentReviewer\", \"reviewText\"]\n",
    "# best4"
   ]
  },
  {
   "cell_type": "code",
   "execution_count": 189,
   "id": "42996641",
   "metadata": {
    "execution": {
     "iopub.execute_input": "2023-08-13T09:36:02.159913Z",
     "iopub.status.busy": "2023-08-13T09:36:02.159523Z",
     "iopub.status.idle": "2023-08-13T09:36:02.164140Z",
     "shell.execute_reply": "2023-08-13T09:36:02.162975Z"
    },
    "papermill": {
     "duration": 0.121618,
     "end_time": "2023-08-13T09:36:02.166337",
     "exception": false,
     "start_time": "2023-08-13T09:36:02.044719",
     "status": "completed"
    },
    "tags": []
   },
   "outputs": [],
   "source": [
    "# submit_v2(selected_model=pipe_RTonly, selected_features=['reviewText'])"
   ]
  },
  {
   "cell_type": "markdown",
   "id": "7251d3e8",
   "metadata": {
    "papermill": {
     "duration": 0.114375,
     "end_time": "2023-08-13T09:36:02.394949",
     "exception": false,
     "start_time": "2023-08-13T09:36:02.280574",
     "status": "completed"
    },
    "tags": []
   },
   "source": [
    "### Inspect the submission.csv file  "
   ]
  },
  {
   "cell_type": "code",
   "execution_count": 190,
   "id": "568a32ff",
   "metadata": {
    "execution": {
     "iopub.execute_input": "2023-08-13T09:36:02.625002Z",
     "iopub.status.busy": "2023-08-13T09:36:02.624540Z",
     "iopub.status.idle": "2023-08-13T09:36:02.629421Z",
     "shell.execute_reply": "2023-08-13T09:36:02.628246Z"
    },
    "papermill": {
     "duration": 0.121972,
     "end_time": "2023-08-13T09:36:02.631969",
     "exception": false,
     "start_time": "2023-08-13T09:36:02.509997",
     "status": "completed"
    },
    "tags": []
   },
   "outputs": [],
   "source": [
    "# sub = pd.read_csv('submission.csv')\n",
    "# sub.shape, sub.head()"
   ]
  },
  {
   "cell_type": "code",
   "execution_count": 191,
   "id": "a7b85395",
   "metadata": {
    "execution": {
     "iopub.execute_input": "2023-08-13T09:36:02.861924Z",
     "iopub.status.busy": "2023-08-13T09:36:02.861493Z",
     "iopub.status.idle": "2023-08-13T09:36:02.866568Z",
     "shell.execute_reply": "2023-08-13T09:36:02.865310Z"
    },
    "papermill": {
     "duration": 0.123053,
     "end_time": "2023-08-13T09:36:02.868945",
     "exception": false,
     "start_time": "2023-08-13T09:36:02.745892",
     "status": "completed"
    },
    "tags": []
   },
   "outputs": [],
   "source": [
    "# sub['sentiment'].value_counts()"
   ]
  },
  {
   "cell_type": "markdown",
   "id": "e139f2ce",
   "metadata": {
    "papermill": {
     "duration": 0.186595,
     "end_time": "2023-08-13T09:36:03.170137",
     "exception": false,
     "start_time": "2023-08-13T09:36:02.983542",
     "status": "completed"
    },
    "tags": []
   },
   "source": [
    "## submit_v3 for merged file models - does not retrain on whole data  "
   ]
  },
  {
   "cell_type": "code",
   "execution_count": 192,
   "id": "b49fb04a",
   "metadata": {
    "execution": {
     "iopub.execute_input": "2023-08-13T09:36:03.399201Z",
     "iopub.status.busy": "2023-08-13T09:36:03.398759Z",
     "iopub.status.idle": "2023-08-13T09:36:03.403924Z",
     "shell.execute_reply": "2023-08-13T09:36:03.402912Z"
    },
    "papermill": {
     "duration": 0.122398,
     "end_time": "2023-08-13T09:36:03.405978",
     "exception": false,
     "start_time": "2023-08-13T09:36:03.283580",
     "status": "completed"
    },
    "tags": []
   },
   "outputs": [],
   "source": [
    "# def submit_v3(selected_model=pipe_final):\n",
    "#     '''\n",
    "#     Note that \"selected_preprocessor\" is already used within selected_model or pipeline\n",
    "#     '''\n",
    "      \n",
    "#     # Predict on test.csv file\n",
    "#     merged_test = select_features(load_csv(\"test\"), load_csv(\"movies\"))\n",
    "#     X_test = merged_test.copy()\n",
    "    \n",
    "#     X_test = X_test[[\"audienceScore\", \"rating\", \"isFrequentReviewer\", \"reviewText\"]]    # This is a new line\n",
    "\n",
    "    \n",
    "#     y_pred = selected_model.predict(X_test)\n",
    "    \n",
    "#     pred_df = pd.DataFrame(y_pred)\n",
    "#     pred_df.columns = [\"sentiment\"]\n",
    "#     pred_df.index.name = \"id\"\n",
    "#     pred_df.to_csv(\"submission.csv\")\n",
    "    \n",
    "#     return \"Successfully created the submission file!!!\""
   ]
  },
  {
   "cell_type": "markdown",
   "id": "2a0aa4b8",
   "metadata": {
    "papermill": {
     "duration": 0.114817,
     "end_time": "2023-08-13T09:36:03.634441",
     "exception": false,
     "start_time": "2023-08-13T09:36:03.519624",
     "status": "completed"
    },
    "tags": []
   },
   "source": [
    "### Uncomment to submit using v3 of submit function  "
   ]
  },
  {
   "cell_type": "code",
   "execution_count": 193,
   "id": "44fe6eb2",
   "metadata": {
    "execution": {
     "iopub.execute_input": "2023-08-13T09:36:03.878710Z",
     "iopub.status.busy": "2023-08-13T09:36:03.878205Z",
     "iopub.status.idle": "2023-08-13T09:36:03.883226Z",
     "shell.execute_reply": "2023-08-13T09:36:03.882029Z"
    },
    "papermill": {
     "duration": 0.136972,
     "end_time": "2023-08-13T09:36:03.885464",
     "exception": false,
     "start_time": "2023-08-13T09:36:03.748492",
     "status": "completed"
    },
    "tags": []
   },
   "outputs": [],
   "source": [
    "# submit_v3(selected_model=pipe_best4)"
   ]
  },
  {
   "cell_type": "markdown",
   "id": "03e3e9ad",
   "metadata": {
    "papermill": {
     "duration": 0.112734,
     "end_time": "2023-08-13T09:36:04.111393",
     "exception": false,
     "start_time": "2023-08-13T09:36:03.998659",
     "status": "completed"
    },
    "tags": []
   },
   "source": [
    "## Rough work  "
   ]
  },
  {
   "cell_type": "code",
   "execution_count": 194,
   "id": "177d4e4f",
   "metadata": {
    "execution": {
     "iopub.execute_input": "2023-08-13T09:36:04.338969Z",
     "iopub.status.busy": "2023-08-13T09:36:04.338583Z",
     "iopub.status.idle": "2023-08-13T09:36:10.519839Z",
     "shell.execute_reply": "2023-08-13T09:36:10.518895Z"
    },
    "papermill": {
     "duration": 6.299389,
     "end_time": "2023-08-13T09:36:10.523526",
     "exception": false,
     "start_time": "2023-08-13T09:36:04.224137",
     "status": "completed"
    },
    "tags": []
   },
   "outputs": [],
   "source": [
    "    # Predict on test.csv file\n",
    "    merged_test = select_features(load_csv(\"test\"), load_csv(\"movies\"))\n",
    "    X_test = merged_test.copy()\n",
    "    \n",
    "    X_test = X_test[[\"audienceScore\", \"rating\", \"isFrequentReviewer\", \"reviewText\"]]    # This is a new line"
   ]
  },
  {
   "cell_type": "code",
   "execution_count": 195,
   "id": "ab219f69",
   "metadata": {
    "execution": {
     "iopub.execute_input": "2023-08-13T09:36:10.755366Z",
     "iopub.status.busy": "2023-08-13T09:36:10.754702Z",
     "iopub.status.idle": "2023-08-13T09:36:10.759488Z",
     "shell.execute_reply": "2023-08-13T09:36:10.758346Z"
    },
    "papermill": {
     "duration": 0.123426,
     "end_time": "2023-08-13T09:36:10.762008",
     "exception": false,
     "start_time": "2023-08-13T09:36:10.638582",
     "status": "completed"
    },
    "tags": []
   },
   "outputs": [],
   "source": [
    "# X_test.head()"
   ]
  },
  {
   "cell_type": "code",
   "execution_count": 196,
   "id": "4ddfb45b",
   "metadata": {
    "execution": {
     "iopub.execute_input": "2023-08-13T09:36:10.992169Z",
     "iopub.status.busy": "2023-08-13T09:36:10.991756Z",
     "iopub.status.idle": "2023-08-13T09:36:10.996207Z",
     "shell.execute_reply": "2023-08-13T09:36:10.995140Z"
    },
    "papermill": {
     "duration": 0.122476,
     "end_time": "2023-08-13T09:36:10.998449",
     "exception": false,
     "start_time": "2023-08-13T09:36:10.875973",
     "status": "completed"
    },
    "tags": []
   },
   "outputs": [],
   "source": [
    "# X_test['audienceScore'].describe()"
   ]
  },
  {
   "cell_type": "code",
   "execution_count": 197,
   "id": "99c3ecc2",
   "metadata": {
    "execution": {
     "iopub.execute_input": "2023-08-13T09:36:11.227073Z",
     "iopub.status.busy": "2023-08-13T09:36:11.226624Z",
     "iopub.status.idle": "2023-08-13T09:36:11.231633Z",
     "shell.execute_reply": "2023-08-13T09:36:11.230504Z"
    },
    "papermill": {
     "duration": 0.121488,
     "end_time": "2023-08-13T09:36:11.233793",
     "exception": false,
     "start_time": "2023-08-13T09:36:11.112305",
     "status": "completed"
    },
    "tags": []
   },
   "outputs": [],
   "source": [
    "# X_test['rating'].value_counts()"
   ]
  },
  {
   "cell_type": "code",
   "execution_count": 198,
   "id": "4060fac2",
   "metadata": {
    "execution": {
     "iopub.execute_input": "2023-08-13T09:36:11.462465Z",
     "iopub.status.busy": "2023-08-13T09:36:11.462034Z",
     "iopub.status.idle": "2023-08-13T09:36:11.467157Z",
     "shell.execute_reply": "2023-08-13T09:36:11.466080Z"
    },
    "papermill": {
     "duration": 0.122192,
     "end_time": "2023-08-13T09:36:11.469431",
     "exception": false,
     "start_time": "2023-08-13T09:36:11.347239",
     "status": "completed"
    },
    "tags": []
   },
   "outputs": [],
   "source": [
    "# X_test['isFrequentReviewer'].value_counts()"
   ]
  },
  {
   "cell_type": "markdown",
   "id": "a41edaad",
   "metadata": {
    "papermill": {
     "duration": 0.112921,
     "end_time": "2023-08-13T09:36:11.697315",
     "exception": false,
     "start_time": "2023-08-13T09:36:11.584394",
     "status": "completed"
    },
    "tags": []
   },
   "source": [
    "## Implement KNN classifier  "
   ]
  },
  {
   "cell_type": "code",
   "execution_count": 199,
   "id": "0ae6cf9d",
   "metadata": {
    "execution": {
     "iopub.execute_input": "2023-08-13T09:36:11.925622Z",
     "iopub.status.busy": "2023-08-13T09:36:11.924715Z",
     "iopub.status.idle": "2023-08-13T09:36:11.929513Z",
     "shell.execute_reply": "2023-08-13T09:36:11.928375Z"
    },
    "papermill": {
     "duration": 0.121946,
     "end_time": "2023-08-13T09:36:11.932015",
     "exception": false,
     "start_time": "2023-08-13T09:36:11.810069",
     "status": "completed"
    },
    "tags": []
   },
   "outputs": [],
   "source": [
    "# from sklearn.neighbors import KNeighborsClassifier"
   ]
  },
  {
   "cell_type": "code",
   "execution_count": 200,
   "id": "ea290310",
   "metadata": {
    "execution": {
     "iopub.execute_input": "2023-08-13T09:36:12.163866Z",
     "iopub.status.busy": "2023-08-13T09:36:12.162927Z",
     "iopub.status.idle": "2023-08-13T09:36:12.167859Z",
     "shell.execute_reply": "2023-08-13T09:36:12.167094Z"
    },
    "papermill": {
     "duration": 0.122496,
     "end_time": "2023-08-13T09:36:12.170165",
     "exception": false,
     "start_time": "2023-08-13T09:36:12.047669",
     "status": "completed"
    },
    "tags": []
   },
   "outputs": [],
   "source": [
    "# Note that we are borrowing \"ct_final\" column transformer from above  "
   ]
  },
  {
   "cell_type": "code",
   "execution_count": 201,
   "id": "8590e662",
   "metadata": {
    "execution": {
     "iopub.execute_input": "2023-08-13T09:36:12.400433Z",
     "iopub.status.busy": "2023-08-13T09:36:12.399967Z",
     "iopub.status.idle": "2023-08-13T09:36:12.405452Z",
     "shell.execute_reply": "2023-08-13T09:36:12.404034Z"
    },
    "papermill": {
     "duration": 0.122763,
     "end_time": "2023-08-13T09:36:12.407617",
     "exception": false,
     "start_time": "2023-08-13T09:36:12.284854",
     "status": "completed"
    },
    "tags": []
   },
   "outputs": [],
   "source": [
    "# pipe_knn = Pipeline(steps=[\n",
    "#                         (\"preprocessor\", ct_final),\n",
    "#                         (\"model\", KNeighborsClassifier())\n",
    "#                     ])\n",
    "# pipe_knn"
   ]
  },
  {
   "cell_type": "code",
   "execution_count": 202,
   "id": "c78051bc",
   "metadata": {
    "execution": {
     "iopub.execute_input": "2023-08-13T09:36:12.636273Z",
     "iopub.status.busy": "2023-08-13T09:36:12.635843Z",
     "iopub.status.idle": "2023-08-13T09:36:12.640440Z",
     "shell.execute_reply": "2023-08-13T09:36:12.639372Z"
    },
    "papermill": {
     "duration": 0.122285,
     "end_time": "2023-08-13T09:36:12.642522",
     "exception": false,
     "start_time": "2023-08-13T09:36:12.520237",
     "status": "completed"
    },
    "tags": []
   },
   "outputs": [],
   "source": [
    "# Train and predict on merged training data  \n",
    "# split_train_predict(merged_train_features, merged_train_labels, pipe_knn, test_size=0.25, random_state=42)"
   ]
  },
  {
   "cell_type": "markdown",
   "id": "a83b7b4d",
   "metadata": {
    "papermill": {
     "duration": 0.114625,
     "end_time": "2023-08-13T09:36:12.871805",
     "exception": false,
     "start_time": "2023-08-13T09:36:12.757180",
     "status": "completed"
    },
    "tags": []
   },
   "source": [
    "# Part I (Older code)  "
   ]
  },
  {
   "cell_type": "markdown",
   "id": "76dc2958",
   "metadata": {
    "papermill": {
     "duration": 0.115422,
     "end_time": "2023-08-13T09:36:13.102067",
     "exception": false,
     "start_time": "2023-08-13T09:36:12.986645",
     "status": "completed"
    },
    "tags": []
   },
   "source": [
    "### Logistic Regression with stop words  "
   ]
  },
  {
   "cell_type": "code",
   "execution_count": 203,
   "id": "5e29d75c",
   "metadata": {
    "execution": {
     "iopub.execute_input": "2023-08-13T09:36:13.331694Z",
     "iopub.status.busy": "2023-08-13T09:36:13.331273Z",
     "iopub.status.idle": "2023-08-13T09:36:13.336349Z",
     "shell.execute_reply": "2023-08-13T09:36:13.334887Z"
    },
    "papermill": {
     "duration": 0.122566,
     "end_time": "2023-08-13T09:36:13.338630",
     "exception": false,
     "start_time": "2023-08-13T09:36:13.216064",
     "status": "completed"
    },
    "tags": []
   },
   "outputs": [],
   "source": [
    "# tvec_sw = TfidfVectorizer(stop_words=stop_words)"
   ]
  },
  {
   "cell_type": "code",
   "execution_count": 204,
   "id": "4bf23a66",
   "metadata": {
    "execution": {
     "iopub.execute_input": "2023-08-13T09:36:13.569636Z",
     "iopub.status.busy": "2023-08-13T09:36:13.569123Z",
     "iopub.status.idle": "2023-08-13T09:36:13.574172Z",
     "shell.execute_reply": "2023-08-13T09:36:13.573080Z"
    },
    "papermill": {
     "duration": 0.124808,
     "end_time": "2023-08-13T09:36:13.576676",
     "exception": false,
     "start_time": "2023-08-13T09:36:13.451868",
     "status": "completed"
    },
    "tags": []
   },
   "outputs": [],
   "source": [
    "# logreg_sw_pipe = preprocess_n_train(X_train, y_train, tvec_sw, logreg)\n",
    "# logreg_sw_pipe"
   ]
  },
  {
   "cell_type": "code",
   "execution_count": 205,
   "id": "70e0801c",
   "metadata": {
    "execution": {
     "iopub.execute_input": "2023-08-13T09:36:13.831923Z",
     "iopub.status.busy": "2023-08-13T09:36:13.831020Z",
     "iopub.status.idle": "2023-08-13T09:36:13.837204Z",
     "shell.execute_reply": "2023-08-13T09:36:13.836222Z"
    },
    "papermill": {
     "duration": 0.148039,
     "end_time": "2023-08-13T09:36:13.839546",
     "exception": false,
     "start_time": "2023-08-13T09:36:13.691507",
     "status": "completed"
    },
    "tags": []
   },
   "outputs": [],
   "source": [
    "# y_pred_logreg_sw = predict_n_evaluate(logreg_sw_pipe, X_test, y_test)\n",
    "# y_pred_logreg_sw"
   ]
  },
  {
   "cell_type": "markdown",
   "id": "e8c4cd8e",
   "metadata": {
    "papermill": {
     "duration": 0.113647,
     "end_time": "2023-08-13T09:36:14.068666",
     "exception": false,
     "start_time": "2023-08-13T09:36:13.955019",
     "status": "completed"
    },
    "tags": []
   },
   "source": [
    "### Logistic regression with different ngram ranges  "
   ]
  },
  {
   "cell_type": "code",
   "execution_count": 206,
   "id": "114eba6d",
   "metadata": {
    "execution": {
     "iopub.execute_input": "2023-08-13T09:36:14.298246Z",
     "iopub.status.busy": "2023-08-13T09:36:14.297532Z",
     "iopub.status.idle": "2023-08-13T09:36:14.301423Z",
     "shell.execute_reply": "2023-08-13T09:36:14.300662Z"
    },
    "papermill": {
     "duration": 0.121419,
     "end_time": "2023-08-13T09:36:14.303591",
     "exception": false,
     "start_time": "2023-08-13T09:36:14.182172",
     "status": "completed"
    },
    "tags": []
   },
   "outputs": [],
   "source": [
    "# tvec_ngram_2 = TfidfVectorizer(ngram_range=(1,2))"
   ]
  },
  {
   "cell_type": "code",
   "execution_count": 207,
   "id": "b115b2ed",
   "metadata": {
    "execution": {
     "iopub.execute_input": "2023-08-13T09:36:14.535029Z",
     "iopub.status.busy": "2023-08-13T09:36:14.534293Z",
     "iopub.status.idle": "2023-08-13T09:36:14.538314Z",
     "shell.execute_reply": "2023-08-13T09:36:14.537436Z"
    },
    "papermill": {
     "duration": 0.121951,
     "end_time": "2023-08-13T09:36:14.540558",
     "exception": false,
     "start_time": "2023-08-13T09:36:14.418607",
     "status": "completed"
    },
    "tags": []
   },
   "outputs": [],
   "source": [
    "# logreg_ng2_pipe = preprocess_n_train(X_train, y_train, tvec_ngram_2, logreg)\n",
    "# logreg_ng2_pipe"
   ]
  },
  {
   "cell_type": "code",
   "execution_count": 208,
   "id": "7a0a6f74",
   "metadata": {
    "execution": {
     "iopub.execute_input": "2023-08-13T09:36:14.771288Z",
     "iopub.status.busy": "2023-08-13T09:36:14.770527Z",
     "iopub.status.idle": "2023-08-13T09:36:14.774586Z",
     "shell.execute_reply": "2023-08-13T09:36:14.773606Z"
    },
    "papermill": {
     "duration": 0.120658,
     "end_time": "2023-08-13T09:36:14.776785",
     "exception": false,
     "start_time": "2023-08-13T09:36:14.656127",
     "status": "completed"
    },
    "tags": []
   },
   "outputs": [],
   "source": [
    "# y_pred_logreg_ng2 = predict_n_evaluate(logreg_ng2_pipe, X_test, y_test)\n",
    "# y_pred_logreg_ng2"
   ]
  },
  {
   "cell_type": "markdown",
   "id": "b59946c8",
   "metadata": {
    "papermill": {
     "duration": 0.114739,
     "end_time": "2023-08-13T09:36:15.007395",
     "exception": false,
     "start_time": "2023-08-13T09:36:14.892656",
     "status": "completed"
    },
    "tags": []
   },
   "source": [
    "### Logistic regression with C=2, ngram range (1,2), stop words as None and min_df, max_df adjusted\n",
    "### Class weight balanced"
   ]
  },
  {
   "cell_type": "code",
   "execution_count": 209,
   "id": "0f526b74",
   "metadata": {
    "execution": {
     "iopub.execute_input": "2023-08-13T09:36:15.241492Z",
     "iopub.status.busy": "2023-08-13T09:36:15.240494Z",
     "iopub.status.idle": "2023-08-13T09:36:15.244689Z",
     "shell.execute_reply": "2023-08-13T09:36:15.243952Z"
    },
    "papermill": {
     "duration": 0.123994,
     "end_time": "2023-08-13T09:36:15.246915",
     "exception": false,
     "start_time": "2023-08-13T09:36:15.122921",
     "status": "completed"
    },
    "tags": []
   },
   "outputs": [],
   "source": [
    "# logreg = LogisticRegression(max_iter=100000, C=2, class_weight=\"balanced\")"
   ]
  },
  {
   "cell_type": "code",
   "execution_count": 210,
   "id": "af61fd07",
   "metadata": {
    "execution": {
     "iopub.execute_input": "2023-08-13T09:36:15.478721Z",
     "iopub.status.busy": "2023-08-13T09:36:15.477970Z",
     "iopub.status.idle": "2023-08-13T09:36:15.482842Z",
     "shell.execute_reply": "2023-08-13T09:36:15.481484Z"
    },
    "papermill": {
     "duration": 0.122488,
     "end_time": "2023-08-13T09:36:15.485307",
     "exception": false,
     "start_time": "2023-08-13T09:36:15.362819",
     "status": "completed"
    },
    "tags": []
   },
   "outputs": [],
   "source": [
    "# tvec_ngram_2_sw_df = TfidfVectorizer(ngram_range=(1,2), stop_words=None, min_df=0.0001, max_df=0.50)\n",
    "# tvec_ngram_2_sw_df"
   ]
  },
  {
   "cell_type": "code",
   "execution_count": 211,
   "id": "0e18f154",
   "metadata": {
    "execution": {
     "iopub.execute_input": "2023-08-13T09:36:15.717863Z",
     "iopub.status.busy": "2023-08-13T09:36:15.716948Z",
     "iopub.status.idle": "2023-08-13T09:36:15.721666Z",
     "shell.execute_reply": "2023-08-13T09:36:15.720840Z"
    },
    "papermill": {
     "duration": 0.123347,
     "end_time": "2023-08-13T09:36:15.723809",
     "exception": false,
     "start_time": "2023-08-13T09:36:15.600462",
     "status": "completed"
    },
    "tags": []
   },
   "outputs": [],
   "source": [
    "# logreg_ng2_sw_df_pipe = preprocess_n_train(X_train, y_train, tvec_ngram_2_sw_df, logreg)\n",
    "# logreg_ng2_sw_df_pipe"
   ]
  },
  {
   "cell_type": "code",
   "execution_count": 212,
   "id": "8f6cb53e",
   "metadata": {
    "execution": {
     "iopub.execute_input": "2023-08-13T09:36:15.955323Z",
     "iopub.status.busy": "2023-08-13T09:36:15.954827Z",
     "iopub.status.idle": "2023-08-13T09:36:15.959199Z",
     "shell.execute_reply": "2023-08-13T09:36:15.958311Z"
    },
    "papermill": {
     "duration": 0.123302,
     "end_time": "2023-08-13T09:36:15.961293",
     "exception": false,
     "start_time": "2023-08-13T09:36:15.837991",
     "status": "completed"
    },
    "tags": []
   },
   "outputs": [],
   "source": [
    "# y_pred_logreg_ng2_sw_df = predict_n_evaluate(logreg_ng2_sw_df_pipe, X_test, y_test)\n",
    "# y_pred_logreg_ng2_sw_df"
   ]
  },
  {
   "cell_type": "markdown",
   "id": "074211b2",
   "metadata": {
    "papermill": {
     "duration": 0.112863,
     "end_time": "2023-08-13T09:36:16.190074",
     "exception": false,
     "start_time": "2023-08-13T09:36:16.077211",
     "status": "completed"
    },
    "tags": []
   },
   "source": [
    "### Log reg with parameters from GridSearchCV  \n",
    "\n",
    "`This is the best score with \"reviewText column alone for analysis`  "
   ]
  },
  {
   "cell_type": "code",
   "execution_count": 213,
   "id": "bb88fe42",
   "metadata": {
    "execution": {
     "iopub.execute_input": "2023-08-13T09:36:16.422267Z",
     "iopub.status.busy": "2023-08-13T09:36:16.421823Z",
     "iopub.status.idle": "2023-08-13T09:36:16.427665Z",
     "shell.execute_reply": "2023-08-13T09:36:16.426327Z"
    },
    "papermill": {
     "duration": 0.126008,
     "end_time": "2023-08-13T09:36:16.430343",
     "exception": false,
     "start_time": "2023-08-13T09:36:16.304335",
     "status": "completed"
    },
    "tags": []
   },
   "outputs": [],
   "source": [
    "logreg_cv1 = LogisticRegression(max_iter=100000, C=10)\n",
    "tvec_cv1 = TfidfVectorizer(max_features=None, ngram_range=(1,2))"
   ]
  },
  {
   "cell_type": "code",
   "execution_count": 214,
   "id": "4c3262db",
   "metadata": {
    "execution": {
     "iopub.execute_input": "2023-08-13T09:36:16.664102Z",
     "iopub.status.busy": "2023-08-13T09:36:16.663020Z",
     "iopub.status.idle": "2023-08-13T09:36:16.668796Z",
     "shell.execute_reply": "2023-08-13T09:36:16.667573Z"
    },
    "papermill": {
     "duration": 0.125209,
     "end_time": "2023-08-13T09:36:16.671338",
     "exception": false,
     "start_time": "2023-08-13T09:36:16.546129",
     "status": "completed"
    },
    "tags": []
   },
   "outputs": [],
   "source": [
    "pipe_cv1 = Pipeline(steps=[\n",
    "    (\"preprocessor\", tvec_cv1),\n",
    "    (\"model\", logreg_cv1)\n",
    "])"
   ]
  },
  {
   "cell_type": "code",
   "execution_count": 215,
   "id": "64232a12",
   "metadata": {
    "execution": {
     "iopub.execute_input": "2023-08-13T09:36:16.904668Z",
     "iopub.status.busy": "2023-08-13T09:36:16.904246Z",
     "iopub.status.idle": "2023-08-13T09:36:16.909111Z",
     "shell.execute_reply": "2023-08-13T09:36:16.907945Z"
    },
    "papermill": {
     "duration": 0.124,
     "end_time": "2023-08-13T09:36:16.911232",
     "exception": false,
     "start_time": "2023-08-13T09:36:16.787232",
     "status": "completed"
    },
    "tags": []
   },
   "outputs": [],
   "source": [
    "# pipe_cv1.fit(X_train, y_train)"
   ]
  },
  {
   "cell_type": "code",
   "execution_count": 216,
   "id": "01ce7017",
   "metadata": {
    "execution": {
     "iopub.execute_input": "2023-08-13T09:36:17.142312Z",
     "iopub.status.busy": "2023-08-13T09:36:17.141298Z",
     "iopub.status.idle": "2023-08-13T09:36:17.145968Z",
     "shell.execute_reply": "2023-08-13T09:36:17.145061Z"
    },
    "papermill": {
     "duration": 0.12246,
     "end_time": "2023-08-13T09:36:17.148336",
     "exception": false,
     "start_time": "2023-08-13T09:36:17.025876",
     "status": "completed"
    },
    "tags": []
   },
   "outputs": [],
   "source": [
    "# pipe_cv1.score(X_train, y_train)"
   ]
  },
  {
   "cell_type": "markdown",
   "id": "a27ccc89",
   "metadata": {
    "papermill": {
     "duration": 0.114728,
     "end_time": "2023-08-13T09:36:17.378031",
     "exception": false,
     "start_time": "2023-08-13T09:36:17.263303",
     "status": "completed"
    },
    "tags": []
   },
   "source": [
    "### SVM model with stop words  "
   ]
  },
  {
   "cell_type": "code",
   "execution_count": 217,
   "id": "227fe66e",
   "metadata": {
    "execution": {
     "iopub.execute_input": "2023-08-13T09:36:17.609373Z",
     "iopub.status.busy": "2023-08-13T09:36:17.608683Z",
     "iopub.status.idle": "2023-08-13T09:36:17.612418Z",
     "shell.execute_reply": "2023-08-13T09:36:17.611685Z"
    },
    "papermill": {
     "duration": 0.122932,
     "end_time": "2023-08-13T09:36:17.614566",
     "exception": false,
     "start_time": "2023-08-13T09:36:17.491634",
     "status": "completed"
    },
    "tags": []
   },
   "outputs": [],
   "source": [
    "# svm_sw_pipe = preprocess_n_train(X_train, y_train, tvec_sw, svm)\n",
    "# svm_sw_pipe"
   ]
  },
  {
   "cell_type": "code",
   "execution_count": 218,
   "id": "88e5bcf8",
   "metadata": {
    "execution": {
     "iopub.execute_input": "2023-08-13T09:36:17.845798Z",
     "iopub.status.busy": "2023-08-13T09:36:17.845056Z",
     "iopub.status.idle": "2023-08-13T09:36:17.849135Z",
     "shell.execute_reply": "2023-08-13T09:36:17.848244Z"
    },
    "papermill": {
     "duration": 0.1212,
     "end_time": "2023-08-13T09:36:17.851501",
     "exception": false,
     "start_time": "2023-08-13T09:36:17.730301",
     "status": "completed"
    },
    "tags": []
   },
   "outputs": [],
   "source": [
    "# y_pred_svm_sw = predict_n_evaluate(svm_sw_pipe, X_test, y_test)\n",
    "# y_pred_svm_sw"
   ]
  },
  {
   "cell_type": "markdown",
   "id": "b9dae627",
   "metadata": {
    "papermill": {
     "duration": 0.11424,
     "end_time": "2023-08-13T09:36:18.079016",
     "exception": false,
     "start_time": "2023-08-13T09:36:17.964776",
     "status": "completed"
    },
    "tags": []
   },
   "source": [
    "### GaussianNB  "
   ]
  },
  {
   "cell_type": "markdown",
   "id": "f97a4f6f",
   "metadata": {
    "papermill": {
     "duration": 0.113021,
     "end_time": "2023-08-13T09:36:18.305347",
     "exception": false,
     "start_time": "2023-08-13T09:36:18.192326",
     "status": "completed"
    },
    "tags": []
   },
   "source": [
    "https://stackoverflow.com/questions/28384680/scikit-learns-pipeline-a-sparse-matrix-was-passed-but-dense-data-is-required"
   ]
  },
  {
   "cell_type": "code",
   "execution_count": 219,
   "id": "b73fceef",
   "metadata": {
    "execution": {
     "iopub.execute_input": "2023-08-13T09:36:18.533581Z",
     "iopub.status.busy": "2023-08-13T09:36:18.533160Z",
     "iopub.status.idle": "2023-08-13T09:36:18.537475Z",
     "shell.execute_reply": "2023-08-13T09:36:18.536395Z"
    },
    "papermill": {
     "duration": 0.120927,
     "end_time": "2023-08-13T09:36:18.539796",
     "exception": false,
     "start_time": "2023-08-13T09:36:18.418869",
     "status": "completed"
    },
    "tags": []
   },
   "outputs": [],
   "source": [
    "# gnb = GaussianNB()\n",
    "# gnb"
   ]
  },
  {
   "cell_type": "code",
   "execution_count": 220,
   "id": "1d4027af",
   "metadata": {
    "execution": {
     "iopub.execute_input": "2023-08-13T09:36:18.768753Z",
     "iopub.status.busy": "2023-08-13T09:36:18.768321Z",
     "iopub.status.idle": "2023-08-13T09:36:18.772453Z",
     "shell.execute_reply": "2023-08-13T09:36:18.771612Z"
    },
    "papermill": {
     "duration": 0.120959,
     "end_time": "2023-08-13T09:36:18.774527",
     "exception": false,
     "start_time": "2023-08-13T09:36:18.653568",
     "status": "completed"
    },
    "tags": []
   },
   "outputs": [],
   "source": [
    "# gnb_pipe = preprocess_n_train(X_train, y_train, tvec, gnb)\n",
    "# gnb_pipe"
   ]
  },
  {
   "cell_type": "markdown",
   "id": "d92a83d0",
   "metadata": {
    "papermill": {
     "duration": 0.112839,
     "end_time": "2023-08-13T09:36:19.001342",
     "exception": false,
     "start_time": "2023-08-13T09:36:18.888503",
     "status": "completed"
    },
    "tags": []
   },
   "source": [
    "# Part II (Older code)  \n"
   ]
  },
  {
   "cell_type": "markdown",
   "id": "da695d76",
   "metadata": {
    "papermill": {
     "duration": 0.113709,
     "end_time": "2023-08-13T09:36:19.301675",
     "exception": false,
     "start_time": "2023-08-13T09:36:19.187966",
     "status": "completed"
    },
    "tags": []
   },
   "source": [
    "### Separate features and labels from merged dataset  "
   ]
  },
  {
   "cell_type": "code",
   "execution_count": 221,
   "id": "e30d0f9b",
   "metadata": {
    "execution": {
     "iopub.execute_input": "2023-08-13T09:36:19.530986Z",
     "iopub.status.busy": "2023-08-13T09:36:19.530535Z",
     "iopub.status.idle": "2023-08-13T09:36:19.535462Z",
     "shell.execute_reply": "2023-08-13T09:36:19.534292Z"
    },
    "papermill": {
     "duration": 0.122243,
     "end_time": "2023-08-13T09:36:19.537804",
     "exception": false,
     "start_time": "2023-08-13T09:36:19.415561",
     "status": "completed"
    },
    "tags": []
   },
   "outputs": [],
   "source": [
    "# merged_train_features = merged[['movieid', 'reviewerName', 'isFrequentReviewer', 'reviewText',\n",
    "#        'audienceScore', 'rating', 'runtimeMinutes', 'genre',\n",
    "#        'originalLanguage', 'director']]\n",
    "# merged_train_features.shape"
   ]
  },
  {
   "cell_type": "code",
   "execution_count": 222,
   "id": "75f6c254",
   "metadata": {
    "execution": {
     "iopub.execute_input": "2023-08-13T09:36:19.773818Z",
     "iopub.status.busy": "2023-08-13T09:36:19.772675Z",
     "iopub.status.idle": "2023-08-13T09:36:19.777673Z",
     "shell.execute_reply": "2023-08-13T09:36:19.776740Z"
    },
    "papermill": {
     "duration": 0.126056,
     "end_time": "2023-08-13T09:36:19.779927",
     "exception": false,
     "start_time": "2023-08-13T09:36:19.653871",
     "status": "completed"
    },
    "tags": []
   },
   "outputs": [],
   "source": [
    "# merged_train_labels = merged[\"sentiment\"]\n",
    "# merged_train_labels.shape"
   ]
  },
  {
   "cell_type": "markdown",
   "id": "5f78f688",
   "metadata": {
    "papermill": {
     "duration": 0.11457,
     "end_time": "2023-08-13T09:36:20.009062",
     "exception": false,
     "start_time": "2023-08-13T09:36:19.894492",
     "status": "completed"
    },
    "tags": []
   },
   "source": [
    "### Identify variable types for different preprocessing pipes  "
   ]
  },
  {
   "cell_type": "code",
   "execution_count": 223,
   "id": "263ff75b",
   "metadata": {
    "execution": {
     "iopub.execute_input": "2023-08-13T09:36:20.239225Z",
     "iopub.status.busy": "2023-08-13T09:36:20.238434Z",
     "iopub.status.idle": "2023-08-13T09:36:20.242533Z",
     "shell.execute_reply": "2023-08-13T09:36:20.241781Z"
    },
    "papermill": {
     "duration": 0.12217,
     "end_time": "2023-08-13T09:36:20.244787",
     "exception": false,
     "start_time": "2023-08-13T09:36:20.122617",
     "status": "completed"
    },
    "tags": []
   },
   "outputs": [],
   "source": [
    "# num_vars = [\"audienceScore\", \"runtimeMinutes\"]\n",
    "# txt_vars = [\"originalLanguage\", \"genre\", \"director\", \"reviewerName\", \"reviewText\"]\n",
    "# cat_vars = [\"rating\", \"isFrequentReviewer\"]"
   ]
  },
  {
   "cell_type": "code",
   "execution_count": 224,
   "id": "0ab1a79c",
   "metadata": {
    "execution": {
     "iopub.execute_input": "2023-08-13T09:36:20.475093Z",
     "iopub.status.busy": "2023-08-13T09:36:20.474424Z",
     "iopub.status.idle": "2023-08-13T09:36:20.479341Z",
     "shell.execute_reply": "2023-08-13T09:36:20.478419Z"
    },
    "papermill": {
     "duration": 0.121495,
     "end_time": "2023-08-13T09:36:20.481606",
     "exception": false,
     "start_time": "2023-08-13T09:36:20.360111",
     "status": "completed"
    },
    "tags": []
   },
   "outputs": [],
   "source": [
    "# num_pipe = Pipeline(steps=[\n",
    "#                             (\"imputer\", SimpleImputer(strategy=\"mean\", missing_values=np.nan)),\n",
    "#                             (\"scaler\", MinMaxScaler())\n",
    "#                         ])\n",
    "# num_pipe"
   ]
  },
  {
   "cell_type": "code",
   "execution_count": 225,
   "id": "9d463efd",
   "metadata": {
    "execution": {
     "iopub.execute_input": "2023-08-13T09:36:20.712801Z",
     "iopub.status.busy": "2023-08-13T09:36:20.712390Z",
     "iopub.status.idle": "2023-08-13T09:36:20.716963Z",
     "shell.execute_reply": "2023-08-13T09:36:20.715705Z"
    },
    "papermill": {
     "duration": 0.122612,
     "end_time": "2023-08-13T09:36:20.719362",
     "exception": false,
     "start_time": "2023-08-13T09:36:20.596750",
     "status": "completed"
    },
    "tags": []
   },
   "outputs": [],
   "source": [
    "# txt_pipe = Pipeline(steps=[\n",
    "#                             (\"tvec\", TfidfVectorizer())\n",
    "#                         ])\n",
    "# txt_pipe"
   ]
  },
  {
   "cell_type": "code",
   "execution_count": 226,
   "id": "b9e6a0a3",
   "metadata": {
    "execution": {
     "iopub.execute_input": "2023-08-13T09:36:20.948883Z",
     "iopub.status.busy": "2023-08-13T09:36:20.948499Z",
     "iopub.status.idle": "2023-08-13T09:36:20.952978Z",
     "shell.execute_reply": "2023-08-13T09:36:20.951852Z"
    },
    "papermill": {
     "duration": 0.121503,
     "end_time": "2023-08-13T09:36:20.955256",
     "exception": false,
     "start_time": "2023-08-13T09:36:20.833753",
     "status": "completed"
    },
    "tags": []
   },
   "outputs": [],
   "source": [
    "# cat_pipe = Pipeline(steps=[\n",
    "#                             (\"ohe\", OneHotEncoder(handle_unknown=\"ignore\"))\n",
    "#                         ])\n",
    "# cat_pipe"
   ]
  },
  {
   "cell_type": "code",
   "execution_count": 227,
   "id": "ef188e9a",
   "metadata": {
    "execution": {
     "iopub.execute_input": "2023-08-13T09:36:21.185961Z",
     "iopub.status.busy": "2023-08-13T09:36:21.185550Z",
     "iopub.status.idle": "2023-08-13T09:36:21.189551Z",
     "shell.execute_reply": "2023-08-13T09:36:21.188798Z"
    },
    "papermill": {
     "duration": 0.121432,
     "end_time": "2023-08-13T09:36:21.191653",
     "exception": false,
     "start_time": "2023-08-13T09:36:21.070221",
     "status": "completed"
    },
    "tags": []
   },
   "outputs": [],
   "source": [
    "# tfidf_vec_1 = TfidfVectorizer(ngram_range=(1,2))\n",
    "# tfidf_vec_1"
   ]
  },
  {
   "cell_type": "code",
   "execution_count": 228,
   "id": "e873cbdd",
   "metadata": {
    "execution": {
     "iopub.execute_input": "2023-08-13T09:36:21.420899Z",
     "iopub.status.busy": "2023-08-13T09:36:21.420508Z",
     "iopub.status.idle": "2023-08-13T09:36:21.425568Z",
     "shell.execute_reply": "2023-08-13T09:36:21.424310Z"
    },
    "papermill": {
     "duration": 0.121911,
     "end_time": "2023-08-13T09:36:21.427769",
     "exception": false,
     "start_time": "2023-08-13T09:36:21.305858",
     "status": "completed"
    },
    "tags": []
   },
   "outputs": [],
   "source": [
    "# ct_final = ColumnTransformer(transformers=[\n",
    "#                                         (\"num\", num_pipe, num_vars),\n",
    "#                                         (\"txt1\", txt_pipe, \"originalLanguage\"),\n",
    "#                                         (\"txt2\", txt_pipe, \"genre\"),\n",
    "#                                         (\"txt3\", txt_pipe, \"director\"),\n",
    "#                                         (\"cat\", cat_pipe, cat_vars),\n",
    "#                                         (\"txt4a\", tfidf_vec_1, \"reviewText\")\n",
    "# #                                         (\"txt4\", TfidfVectorizer(ngram_range=(1,2)), \"reviewText\"),\n",
    "# #                                         (\"cat2\", cat_pipe, [\"isFrequentReviewer\"])\n",
    "#                                         ], remainder=\"drop\", n_jobs=1)\n",
    "\n",
    "# # Note that this transformer drops \"movieid\" column and \"reviewerName\" column  \n",
    "# ct_final"
   ]
  },
  {
   "cell_type": "code",
   "execution_count": 229,
   "id": "d04fcf56",
   "metadata": {
    "execution": {
     "iopub.execute_input": "2023-08-13T09:36:21.661453Z",
     "iopub.status.busy": "2023-08-13T09:36:21.660313Z",
     "iopub.status.idle": "2023-08-13T09:36:21.665589Z",
     "shell.execute_reply": "2023-08-13T09:36:21.664622Z"
    },
    "papermill": {
     "duration": 0.126163,
     "end_time": "2023-08-13T09:36:21.667847",
     "exception": false,
     "start_time": "2023-08-13T09:36:21.541684",
     "status": "completed"
    },
    "tags": []
   },
   "outputs": [],
   "source": [
    "# pipe_final = Pipeline(steps=[\n",
    "#                         (\"preprocessor\", ct_final),\n",
    "#                         (\"model\", LogisticRegression(max_iter=100000))\n",
    "#                     ])\n",
    "# pipe_final"
   ]
  },
  {
   "cell_type": "code",
   "execution_count": 230,
   "id": "8ee4d498",
   "metadata": {
    "execution": {
     "iopub.execute_input": "2023-08-13T09:36:21.902488Z",
     "iopub.status.busy": "2023-08-13T09:36:21.901960Z",
     "iopub.status.idle": "2023-08-13T09:36:21.907001Z",
     "shell.execute_reply": "2023-08-13T09:36:21.905843Z"
    },
    "papermill": {
     "duration": 0.124997,
     "end_time": "2023-08-13T09:36:21.909512",
     "exception": false,
     "start_time": "2023-08-13T09:36:21.784515",
     "status": "completed"
    },
    "tags": []
   },
   "outputs": [],
   "source": [
    "# final_vars = num_vars + txt_vars + cat_vars\n",
    "# len(final_vars), final_vars"
   ]
  },
  {
   "cell_type": "markdown",
   "id": "58e18dcb",
   "metadata": {
    "papermill": {
     "duration": 0.114154,
     "end_time": "2023-08-13T09:36:22.138405",
     "exception": false,
     "start_time": "2023-08-13T09:36:22.024251",
     "status": "completed"
    },
    "tags": []
   },
   "source": [
    "### Use \"split_train_predict\" function to run end-to-end pipeline  "
   ]
  },
  {
   "cell_type": "code",
   "execution_count": 231,
   "id": "b5b40c2a",
   "metadata": {
    "execution": {
     "iopub.execute_input": "2023-08-13T09:36:22.369170Z",
     "iopub.status.busy": "2023-08-13T09:36:22.368694Z",
     "iopub.status.idle": "2023-08-13T09:36:22.372890Z",
     "shell.execute_reply": "2023-08-13T09:36:22.372116Z"
    },
    "papermill": {
     "duration": 0.121685,
     "end_time": "2023-08-13T09:36:22.374892",
     "exception": false,
     "start_time": "2023-08-13T09:36:22.253207",
     "status": "completed"
    },
    "tags": []
   },
   "outputs": [],
   "source": [
    "# split_train_predict(merged_train_features, merged_train_labels, pipe_final, test_size=0.25, random_state=42)"
   ]
  },
  {
   "cell_type": "markdown",
   "id": "c3cab7c0",
   "metadata": {
    "papermill": {
     "duration": 0.114285,
     "end_time": "2023-08-13T09:36:22.603292",
     "exception": false,
     "start_time": "2023-08-13T09:36:22.489007",
     "status": "completed"
    },
    "tags": []
   },
   "source": [
    "## Try the best four features obtained on local machine  "
   ]
  },
  {
   "cell_type": "code",
   "execution_count": 232,
   "id": "a68ffaab",
   "metadata": {
    "execution": {
     "iopub.execute_input": "2023-08-13T09:36:22.833436Z",
     "iopub.status.busy": "2023-08-13T09:36:22.832761Z",
     "iopub.status.idle": "2023-08-13T09:36:22.837556Z",
     "shell.execute_reply": "2023-08-13T09:36:22.836382Z"
    },
    "papermill": {
     "duration": 0.123411,
     "end_time": "2023-08-13T09:36:22.839867",
     "exception": false,
     "start_time": "2023-08-13T09:36:22.716456",
     "status": "completed"
    },
    "tags": []
   },
   "outputs": [],
   "source": [
    "# tfidf_vec_2 = TfidfVectorizer(ngram_range=(1,2))\n",
    "# tfidf_vec_2"
   ]
  },
  {
   "cell_type": "code",
   "execution_count": 233,
   "id": "27a5dff5",
   "metadata": {
    "execution": {
     "iopub.execute_input": "2023-08-13T09:36:23.068942Z",
     "iopub.status.busy": "2023-08-13T09:36:23.068486Z",
     "iopub.status.idle": "2023-08-13T09:36:23.072910Z",
     "shell.execute_reply": "2023-08-13T09:36:23.072136Z"
    },
    "papermill": {
     "duration": 0.121845,
     "end_time": "2023-08-13T09:36:23.074989",
     "exception": false,
     "start_time": "2023-08-13T09:36:22.953144",
     "status": "completed"
    },
    "tags": []
   },
   "outputs": [],
   "source": [
    "# ct_best4 = ColumnTransformer(transformers=[\n",
    "#                                             (\"num\", num_pipe, [\"audienceScore\"]),\n",
    "#                                             (\"cat\", cat_pipe, [\"rating\", \"isFrequentReviewer\"]),\n",
    "#                                             (\"tvec\", tfidf_vec_2, \"reviewText\")\n",
    "#                             ])\n",
    "\n",
    "# pipe_best4 = Pipeline(steps=[\n",
    "#     (\"preprocessor\", ct_best4),\n",
    "#     (\"model\", LogisticRegression())\n",
    "# ])\n",
    "\n",
    "# pipe_best4.set_params(model__C=10, model__max_iter=100000)\n",
    "\n",
    "# pipe_best4"
   ]
  },
  {
   "cell_type": "code",
   "execution_count": 234,
   "id": "644a3d81",
   "metadata": {
    "execution": {
     "iopub.execute_input": "2023-08-13T09:36:23.305901Z",
     "iopub.status.busy": "2023-08-13T09:36:23.305403Z",
     "iopub.status.idle": "2023-08-13T09:36:23.310380Z",
     "shell.execute_reply": "2023-08-13T09:36:23.309337Z"
    },
    "papermill": {
     "duration": 0.121881,
     "end_time": "2023-08-13T09:36:23.312589",
     "exception": false,
     "start_time": "2023-08-13T09:36:23.190708",
     "status": "completed"
    },
    "tags": []
   },
   "outputs": [],
   "source": [
    "# split_train_predict(merged[[\"audienceScore\", \"rating\", \"isFrequentReviewer\", \"reviewText\"]], merged[\"sentiment\"], pipe_best4, test_size=0.25)"
   ]
  },
  {
   "cell_type": "markdown",
   "id": "af5b4c20",
   "metadata": {
    "papermill": {
     "duration": 0.113056,
     "end_time": "2023-08-13T09:36:23.539325",
     "exception": false,
     "start_time": "2023-08-13T09:36:23.426269",
     "status": "completed"
    },
    "tags": []
   },
   "source": [
    "## Try only 'reviewText' column  "
   ]
  },
  {
   "cell_type": "code",
   "execution_count": 235,
   "id": "84f1f9e5",
   "metadata": {
    "execution": {
     "iopub.execute_input": "2023-08-13T09:36:23.781653Z",
     "iopub.status.busy": "2023-08-13T09:36:23.780899Z",
     "iopub.status.idle": "2023-08-13T09:36:23.786845Z",
     "shell.execute_reply": "2023-08-13T09:36:23.785534Z"
    },
    "papermill": {
     "duration": 0.131866,
     "end_time": "2023-08-13T09:36:23.791085",
     "exception": false,
     "start_time": "2023-08-13T09:36:23.659219",
     "status": "completed"
    },
    "tags": []
   },
   "outputs": [],
   "source": [
    "# tfidf_vec_3 = TfidfVectorizer(ngram_range=(1,2))\n",
    "# tfidf_vec_3"
   ]
  },
  {
   "cell_type": "code",
   "execution_count": 236,
   "id": "62d0da59",
   "metadata": {
    "execution": {
     "iopub.execute_input": "2023-08-13T09:36:24.030926Z",
     "iopub.status.busy": "2023-08-13T09:36:24.030504Z",
     "iopub.status.idle": "2023-08-13T09:36:24.034990Z",
     "shell.execute_reply": "2023-08-13T09:36:24.033849Z"
    },
    "papermill": {
     "duration": 0.121241,
     "end_time": "2023-08-13T09:36:24.037341",
     "exception": false,
     "start_time": "2023-08-13T09:36:23.916100",
     "status": "completed"
    },
    "tags": []
   },
   "outputs": [],
   "source": [
    "# ct_RTonly = ColumnTransformer(transformers=[\n",
    "#                                             ('txt', tfidf_vec_3, 'reviewText'),\n",
    "#                                             ], remainder='drop')\n",
    "# ct_RTonly"
   ]
  },
  {
   "cell_type": "code",
   "execution_count": 237,
   "id": "849dc2b5",
   "metadata": {
    "execution": {
     "iopub.execute_input": "2023-08-13T09:36:24.267432Z",
     "iopub.status.busy": "2023-08-13T09:36:24.267014Z",
     "iopub.status.idle": "2023-08-13T09:36:24.271875Z",
     "shell.execute_reply": "2023-08-13T09:36:24.270649Z"
    },
    "papermill": {
     "duration": 0.123385,
     "end_time": "2023-08-13T09:36:24.274339",
     "exception": false,
     "start_time": "2023-08-13T09:36:24.150954",
     "status": "completed"
    },
    "tags": []
   },
   "outputs": [],
   "source": [
    "# pipe_RTonly = Pipeline(steps=[\n",
    "#     (\"preprocessor\", ct_RTonly),\n",
    "#     (\"model\", LogisticRegression())\n",
    "# ])\n",
    "\n",
    "# pipe_RTonly.set_params(model__C=10, model__max_iter=100000)\n",
    "\n",
    "# pipe_RTonly"
   ]
  },
  {
   "cell_type": "markdown",
   "id": "0a3f2263",
   "metadata": {
    "papermill": {
     "duration": 0.112426,
     "end_time": "2023-08-13T09:36:24.500335",
     "exception": false,
     "start_time": "2023-08-13T09:36:24.387909",
     "status": "completed"
    },
    "tags": []
   },
   "source": [
    "## Using the 'submit_v4' function  "
   ]
  },
  {
   "cell_type": "markdown",
   "id": "e622c28b",
   "metadata": {
    "papermill": {
     "duration": 0.114588,
     "end_time": "2023-08-13T09:36:24.728868",
     "exception": false,
     "start_time": "2023-08-13T09:36:24.614280",
     "status": "completed"
    },
    "tags": []
   },
   "source": [
    "### Try the best 4 parameters with submit_v4 function"
   ]
  },
  {
   "cell_type": "code",
   "execution_count": 238,
   "id": "491534fc",
   "metadata": {
    "execution": {
     "iopub.execute_input": "2023-08-13T09:36:24.957238Z",
     "iopub.status.busy": "2023-08-13T09:36:24.956658Z",
     "iopub.status.idle": "2023-08-13T09:36:24.961658Z",
     "shell.execute_reply": "2023-08-13T09:36:24.960610Z"
    },
    "papermill": {
     "duration": 0.12217,
     "end_time": "2023-08-13T09:36:24.963793",
     "exception": false,
     "start_time": "2023-08-13T09:36:24.841623",
     "status": "completed"
    },
    "tags": []
   },
   "outputs": [],
   "source": [
    "# best4 = [\"audienceScore\", \"rating\", \"isFrequentReviewer\", \"reviewText\"]\n",
    "\n",
    "# best4_dict = {'cat': [\"rating\", \"isFrequentReviewer\"],\n",
    "#              'num': [\"audienceScore\"],\n",
    "#              'txt': ['reviewText']}\n",
    "\n",
    "# best4_dict = {'num': [\"audienceScore\"],\n",
    "#              'txt': ['reviewText', 'movieid', 'director']}\n",
    "\n",
    "# best4_dict"
   ]
  },
  {
   "cell_type": "code",
   "execution_count": 239,
   "id": "8b972c3c",
   "metadata": {
    "execution": {
     "iopub.execute_input": "2023-08-13T09:36:25.191979Z",
     "iopub.status.busy": "2023-08-13T09:36:25.191530Z",
     "iopub.status.idle": "2023-08-13T09:36:25.196345Z",
     "shell.execute_reply": "2023-08-13T09:36:25.195263Z"
    },
    "papermill": {
     "duration": 0.121741,
     "end_time": "2023-08-13T09:36:25.198583",
     "exception": false,
     "start_time": "2023-08-13T09:36:25.076842",
     "status": "completed"
    },
    "tags": []
   },
   "outputs": [],
   "source": [
    "# submit_v4(selected_features=best4_dict)"
   ]
  },
  {
   "cell_type": "markdown",
   "id": "9742940c",
   "metadata": {
    "papermill": {
     "duration": 0.112949,
     "end_time": "2023-08-13T09:36:25.498202",
     "exception": false,
     "start_time": "2023-08-13T09:36:25.385253",
     "status": "completed"
    },
    "tags": []
   },
   "source": [
    "### Try the best 3 parameters with submit_v4 function"
   ]
  },
  {
   "cell_type": "code",
   "execution_count": 240,
   "id": "94f9a63a",
   "metadata": {
    "execution": {
     "iopub.execute_input": "2023-08-13T09:36:25.726963Z",
     "iopub.status.busy": "2023-08-13T09:36:25.726580Z",
     "iopub.status.idle": "2023-08-13T09:36:25.730623Z",
     "shell.execute_reply": "2023-08-13T09:36:25.729474Z"
    },
    "papermill": {
     "duration": 0.121753,
     "end_time": "2023-08-13T09:36:25.733135",
     "exception": false,
     "start_time": "2023-08-13T09:36:25.611382",
     "status": "completed"
    },
    "tags": []
   },
   "outputs": [],
   "source": [
    "# best3 = [\"audienceScore\", \"isFrequentReviewer\", \"reviewText\"]\n",
    "# best3_dict = {'cat': [\"isFrequentReviewer\"],\n",
    "#              'num': [\"audienceScore\"],\n",
    "#              'txt': ['reviewText']}\n",
    "# best3_dict"
   ]
  },
  {
   "cell_type": "code",
   "execution_count": 241,
   "id": "37da0033",
   "metadata": {
    "execution": {
     "iopub.execute_input": "2023-08-13T09:36:25.963329Z",
     "iopub.status.busy": "2023-08-13T09:36:25.962923Z",
     "iopub.status.idle": "2023-08-13T09:36:25.967637Z",
     "shell.execute_reply": "2023-08-13T09:36:25.966509Z"
    },
    "papermill": {
     "duration": 0.123349,
     "end_time": "2023-08-13T09:36:25.969847",
     "exception": false,
     "start_time": "2023-08-13T09:36:25.846498",
     "status": "completed"
    },
    "tags": []
   },
   "outputs": [],
   "source": [
    "# submit_v4(selected_features=best3_dict)"
   ]
  },
  {
   "cell_type": "markdown",
   "id": "95ecd0b2",
   "metadata": {
    "papermill": {
     "duration": 0.113689,
     "end_time": "2023-08-13T09:36:26.199449",
     "exception": false,
     "start_time": "2023-08-13T09:36:26.085760",
     "status": "completed"
    },
    "tags": []
   },
   "source": [
    "## Try throwing almost everything (no boxOffice) at submit_v4!  "
   ]
  },
  {
   "cell_type": "code",
   "execution_count": 242,
   "id": "51a388f1",
   "metadata": {
    "execution": {
     "iopub.execute_input": "2023-08-13T09:36:26.427733Z",
     "iopub.status.busy": "2023-08-13T09:36:26.427339Z",
     "iopub.status.idle": "2023-08-13T09:36:26.434277Z",
     "shell.execute_reply": "2023-08-13T09:36:26.433469Z"
    },
    "papermill": {
     "duration": 0.123573,
     "end_time": "2023-08-13T09:36:26.436370",
     "exception": false,
     "start_time": "2023-08-13T09:36:26.312797",
     "status": "completed"
    },
    "tags": []
   },
   "outputs": [
    {
     "data": {
      "text/plain": [
       "\"Most from merged = ['movieid', 'reviewerName', 'isFrequentReviewer', 'reviewText',\\n       'audienceScore', 'rating', 'runtimeMinutes', 'genre', \\n       'originalLanguage', 'director']\""
      ]
     },
     "execution_count": 242,
     "metadata": {},
     "output_type": "execute_result"
    }
   ],
   "source": [
    "\"\"\"Most from merged = ['movieid', 'reviewerName', 'isFrequentReviewer', 'reviewText',\n",
    "       'audienceScore', 'rating', 'runtimeMinutes', 'genre', \n",
    "       'originalLanguage', 'director']\"\"\"\n",
    "\n",
    "# almost_dict = {'cat': [\"isFrequentReviewer\", \"rating\", \"originalLanguage\"],\n",
    "#              'num': [\"audienceScore\", \"runtimeMinutes\"],\n",
    "#              'txt': ['reviewText', 'reviewerName', 'movieid', 'genre', 'director']}\n",
    "# almost_dict"
   ]
  },
  {
   "cell_type": "code",
   "execution_count": 243,
   "id": "91e64e18",
   "metadata": {
    "execution": {
     "iopub.execute_input": "2023-08-13T09:36:26.665675Z",
     "iopub.status.busy": "2023-08-13T09:36:26.665281Z",
     "iopub.status.idle": "2023-08-13T09:36:26.669400Z",
     "shell.execute_reply": "2023-08-13T09:36:26.668607Z"
    },
    "papermill": {
     "duration": 0.121353,
     "end_time": "2023-08-13T09:36:26.671354",
     "exception": false,
     "start_time": "2023-08-13T09:36:26.550001",
     "status": "completed"
    },
    "tags": []
   },
   "outputs": [],
   "source": [
    "# submit_v4(selected_features=almost_dict)"
   ]
  },
  {
   "cell_type": "markdown",
   "id": "2ad23e62",
   "metadata": {
    "papermill": {
     "duration": 0.114204,
     "end_time": "2023-08-13T09:36:26.900452",
     "exception": false,
     "start_time": "2023-08-13T09:36:26.786248",
     "status": "completed"
    },
    "tags": []
   },
   "source": [
    "## Try throwing everything possible at submit_v4!  "
   ]
  },
  {
   "cell_type": "code",
   "execution_count": 244,
   "id": "482dbd54",
   "metadata": {
    "execution": {
     "iopub.execute_input": "2023-08-13T09:36:27.130597Z",
     "iopub.status.busy": "2023-08-13T09:36:27.130218Z",
     "iopub.status.idle": "2023-08-13T09:36:27.136155Z",
     "shell.execute_reply": "2023-08-13T09:36:27.135334Z"
    },
    "papermill": {
     "duration": 0.123415,
     "end_time": "2023-08-13T09:36:27.138109",
     "exception": false,
     "start_time": "2023-08-13T09:36:27.014694",
     "status": "completed"
    },
    "tags": []
   },
   "outputs": [
    {
     "data": {
      "text/plain": [
       "\"All from merged = ['movieid', 'reviewerName', 'isFrequentReviewer', 'reviewText',\\n       'audienceScore', 'rating', 'runtimeMinutes', 'genre', 'boxOffice',\\n       'originalLanguage', 'director']\""
      ]
     },
     "execution_count": 244,
     "metadata": {},
     "output_type": "execute_result"
    }
   ],
   "source": [
    "\"\"\"All from merged = ['movieid', 'reviewerName', 'isFrequentReviewer', 'reviewText',\n",
    "       'audienceScore', 'rating', 'runtimeMinutes', 'genre', 'boxOffice',\n",
    "       'originalLanguage', 'director']\"\"\"\n",
    "\n",
    "# all_dict = {'cat': [\"isFrequentReviewer\", \"rating\", \"originalLanguage\"],\n",
    "#              'num': [\"audienceScore\", \"runtimeMinutes\", \"boxOffice\"],\n",
    "#              'txt': ['reviewText', 'reviewerName', 'movieid', 'genre', 'director']}\n",
    "# all_dict"
   ]
  },
  {
   "cell_type": "code",
   "execution_count": 245,
   "id": "b520af00",
   "metadata": {
    "execution": {
     "iopub.execute_input": "2023-08-13T09:36:27.369553Z",
     "iopub.status.busy": "2023-08-13T09:36:27.369144Z",
     "iopub.status.idle": "2023-08-13T09:36:27.373993Z",
     "shell.execute_reply": "2023-08-13T09:36:27.372714Z"
    },
    "papermill": {
     "duration": 0.122996,
     "end_time": "2023-08-13T09:36:27.376166",
     "exception": false,
     "start_time": "2023-08-13T09:36:27.253170",
     "status": "completed"
    },
    "tags": []
   },
   "outputs": [],
   "source": [
    "# submit_v4(selected_features=all_dict)"
   ]
  },
  {
   "cell_type": "markdown",
   "id": "e633ab78",
   "metadata": {
    "papermill": {
     "duration": 0.115175,
     "end_time": "2023-08-13T09:36:27.605436",
     "exception": false,
     "start_time": "2023-08-13T09:36:27.490261",
     "status": "completed"
    },
    "tags": []
   },
   "source": [
    "## Try GridSearchCV on everything  "
   ]
  },
  {
   "cell_type": "code",
   "execution_count": 246,
   "id": "e80dee9f",
   "metadata": {
    "execution": {
     "iopub.execute_input": "2023-08-13T09:36:27.835634Z",
     "iopub.status.busy": "2023-08-13T09:36:27.834882Z",
     "iopub.status.idle": "2023-08-13T09:36:27.840874Z",
     "shell.execute_reply": "2023-08-13T09:36:27.839537Z"
    },
    "papermill": {
     "duration": 0.123197,
     "end_time": "2023-08-13T09:36:27.843225",
     "exception": false,
     "start_time": "2023-08-13T09:36:27.720028",
     "status": "completed"
    },
    "tags": []
   },
   "outputs": [],
   "source": [
    "# param_grid = {\n",
    "#     \"model__C\": [0.5, 2, 5, 15]\n",
    "# }\n",
    "\n",
    "# param_grid = {\n",
    "#     'model__C' : [1, 5],\n",
    "#     'model__solver': ['lbfgs', 'liblinear', 'newton-cg', 'newton-cholesky', 'sag', 'saga']\n",
    "# }\n",
    "\n",
    "# param_grid = {\n",
    "#     'model__C' : [1, 5],\n",
    "#     'model__solver': ['lbfgs', 'liblinear', 'sag', 'saga']\n",
    "# }\n",
    "\n",
    "# param_grid = {\n",
    "#     'model__C' : [1, 5, 10, 15],\n",
    "#     'model__solver': ['lbfgs', 'liblinear', 'saga', 'newton-cg']\n",
    "# }\n",
    "\n",
    "# param_grid = {\n",
    "#     'model__C' : [1, 5, 10, 20],\n",
    "#     'model__solver': ['lbfgs', 'liblinear', 'saga']\n",
    "# }\n",
    "\n",
    "# param_grid"
   ]
  },
  {
   "cell_type": "code",
   "execution_count": 247,
   "id": "f3376f69",
   "metadata": {
    "execution": {
     "iopub.execute_input": "2023-08-13T09:36:28.075067Z",
     "iopub.status.busy": "2023-08-13T09:36:28.073777Z",
     "iopub.status.idle": "2023-08-13T09:36:28.078751Z",
     "shell.execute_reply": "2023-08-13T09:36:28.077853Z"
    },
    "papermill": {
     "duration": 0.123234,
     "end_time": "2023-08-13T09:36:28.080864",
     "exception": false,
     "start_time": "2023-08-13T09:36:27.957630",
     "status": "completed"
    },
    "tags": []
   },
   "outputs": [],
   "source": [
    "# submit_v4(selected_features={'txt': [\"genre\"]}, param_grid=param_grid)"
   ]
  },
  {
   "cell_type": "code",
   "execution_count": 248,
   "id": "617f4289",
   "metadata": {
    "execution": {
     "iopub.execute_input": "2023-08-13T09:36:28.314727Z",
     "iopub.status.busy": "2023-08-13T09:36:28.313941Z",
     "iopub.status.idle": "2023-08-13T09:36:28.321199Z",
     "shell.execute_reply": "2023-08-13T09:36:28.319909Z"
    },
    "papermill": {
     "duration": 0.127724,
     "end_time": "2023-08-13T09:36:28.323462",
     "exception": false,
     "start_time": "2023-08-13T09:36:28.195738",
     "status": "completed"
    },
    "tags": []
   },
   "outputs": [
    {
     "data": {
      "text/plain": [
       "\"Used 'groupby' function instead on 'drop_duplicates' on movies.csv file. \\nIt reduced the number of missing values significantly! \\nThen used LogisticRegression() with GridSearchCV on submit_v4 function with \\nparam_grid={'model__C': [1, 5, 10], 'model__solver': ['lbfgs', 'liblinear', 'saga']}. \\nThe best f1_micro score in GridSearchCV was 0.8399771362056203 which is highest among \\nall the versions so far. Best C was 5 and best solver was 'saga'.\\nScore obtained was 0.84385 which is lower than 0.84441.\""
      ]
     },
     "execution_count": 248,
     "metadata": {},
     "output_type": "execute_result"
    }
   ],
   "source": [
    "# submit_v4(selected_features=all_dict, param_grid=param_grid)\n",
    "\n",
    "# Best C was 5\n",
    "# Best solver was liblinear\n",
    "\n",
    "\"\"\"Used 'groupby' function instead on 'drop_duplicates' on movies.csv file. \n",
    "It reduced the number of missing values significantly! \n",
    "Then used LogisticRegression() with GridSearchCV on submit_v4 function with \n",
    "param_grid={'model__C': [1, 5, 10], 'model__solver': ['lbfgs', 'liblinear', 'saga']}. \n",
    "The best f1_micro score in GridSearchCV was 0.8399771362056203 which is highest among \n",
    "all the versions so far. Best C was 5 and best solver was 'saga'.\n",
    "Score obtained was 0.84385 which is lower than 0.84441.\"\"\""
   ]
  },
  {
   "cell_type": "code",
   "execution_count": 249,
   "id": "d87050b6",
   "metadata": {
    "execution": {
     "iopub.execute_input": "2023-08-13T09:36:28.554638Z",
     "iopub.status.busy": "2023-08-13T09:36:28.554209Z",
     "iopub.status.idle": "2023-08-13T09:36:28.559097Z",
     "shell.execute_reply": "2023-08-13T09:36:28.557985Z"
    },
    "papermill": {
     "duration": 0.122649,
     "end_time": "2023-08-13T09:36:28.561241",
     "exception": false,
     "start_time": "2023-08-13T09:36:28.438592",
     "status": "completed"
    },
    "tags": []
   },
   "outputs": [],
   "source": [
    "# Best 5 parameters\n",
    "\n",
    "# best5_dict = {'num': [\"audienceScore\"],\n",
    "#              'txt': ['reviewText', 'reviewerName','movieid', 'director']}\n",
    "\n",
    "# best5_dict"
   ]
  },
  {
   "cell_type": "code",
   "execution_count": 250,
   "id": "6f88d588",
   "metadata": {
    "execution": {
     "iopub.execute_input": "2023-08-13T09:36:28.796685Z",
     "iopub.status.busy": "2023-08-13T09:36:28.796255Z",
     "iopub.status.idle": "2023-08-13T09:36:28.804476Z",
     "shell.execute_reply": "2023-08-13T09:36:28.803528Z"
    },
    "papermill": {
     "duration": 0.126453,
     "end_time": "2023-08-13T09:36:28.806630",
     "exception": false,
     "start_time": "2023-08-13T09:36:28.680177",
     "status": "completed"
    },
    "tags": []
   },
   "outputs": [
    {
     "data": {
      "text/plain": [
       "\"(Update): Used both CountVectorizer and TfidfVectorizer on a massive GridSearchCV \\nwhich took 22527.2s  (6.25 hrs) to run! Gave a score of 0.8439093822800923 locally and did not overfit!\\nBest params: {'model__C': 1, 'model__solver': 'liblinear'}.\\nHighest public score yet: 0.84591 (Rank up from 9 to 5!)\""
      ]
     },
     "execution_count": 250,
     "metadata": {},
     "output_type": "execute_result"
    }
   ],
   "source": [
    "# Submit best 5 features\n",
    "\n",
    "\"\"\"(Update): Used both CountVectorizer and TfidfVectorizer on a massive GridSearchCV \n",
    "which took 22527.2s  (6.25 hrs) to run! Gave a score of 0.8439093822800923 locally and did not overfit!\n",
    "Best params: {'model__C': 1, 'model__solver': 'liblinear'}.\n",
    "Highest public score yet: 0.84591 (Rank up from 9 to 5!)\"\"\"\n",
    "\n",
    "# param_grid = {\n",
    "#     'model__C' : [5, 10, 15],\n",
    "#     'model__solver': ['lbfgs', 'liblinear', 'saga']\n",
    "# }\n",
    "\n",
    "\n",
    "# Try new param_grid with fit_intercept and dual in logreg\n",
    "\n",
    "# param_grid = {\n",
    "#     'model__C' : [1],\n",
    "#     'model__solver': ['liblinear'],\n",
    "#     \"model__fit_intercept\" : [True, False],\n",
    "#     \"model__dual\" : [True, False] \n",
    "# }\n",
    "\n",
    "\n",
    "# Local testing  \n",
    "# submit_v4(selected_features={'num': ['audienceScore']},\n",
    "#          add_countvec=True)\n",
    "\n",
    "# submit_v4(selected_features={'num': ['audienceScore']},\n",
    "#          add_countvec=True, \n",
    "#           param_grid=param_grid)\n",
    "\n",
    "\n",
    "# Main submission\n",
    "\n",
    "# submit_v4(selected_features=best5_dict,\n",
    "#          add_countvec=True)\n",
    "\n",
    "\n",
    "# submit_v4(selected_features=best5_dict,\n",
    "#           add_countvec=True,\n",
    "#           param_grid=param_grid)"
   ]
  },
  {
   "cell_type": "code",
   "execution_count": 251,
   "id": "84c97a8e",
   "metadata": {
    "execution": {
     "iopub.execute_input": "2023-08-13T09:36:29.038736Z",
     "iopub.status.busy": "2023-08-13T09:36:29.037983Z",
     "iopub.status.idle": "2023-08-13T09:36:29.043406Z",
     "shell.execute_reply": "2023-08-13T09:36:29.042334Z"
    },
    "papermill": {
     "duration": 0.125062,
     "end_time": "2023-08-13T09:36:29.045751",
     "exception": false,
     "start_time": "2023-08-13T09:36:28.920689",
     "status": "completed"
    },
    "tags": []
   },
   "outputs": [],
   "source": [
    "## ALL DICT cv=10\n",
    "\n",
    "# all_dict = {'cat': [\"isFrequentReviewer\", \"rating\", \"originalLanguage\"],\n",
    "#              'num': [\"audienceScore\", \"runtimeMinutes\", \"boxOffice\"],\n",
    "#              'txt': ['reviewText', 'reviewerName', 'movieid', 'genre', 'director']}\n",
    "# print(all_dict)\n",
    "\n",
    "# param_grid = {\n",
    "#     'model__C' : [2, 5, 10],\n",
    "#     'model__solver': ['lbfgs', 'liblinear', 'saga']\n",
    "# }\n",
    "# print(param_grid)\n",
    "\n",
    "# param_grid = {\n",
    "#     'model__C' : [1, 5, 10],\n",
    "#     'model__solver': ['liblinear'],\n",
    "#     \"model__fit_intercept\" : [True, False],\n",
    "#     \"model__dual\" : [True, False] \n",
    "# }\n",
    "\n",
    "\n",
    "# Main submission\n",
    "\n",
    "# submit_v4(selected_model=LogisticRegression(C=5, solver='liblinear', max_iter=10000),\n",
    "#           selected_features=all_dict,\n",
    "#           param_grid=param_grid)\n",
    "\n",
    "# submit_v4(selected_features=all_dict,\n",
    "#           add_countvec=True,\n",
    "#           param_grid=param_grid)"
   ]
  },
  {
   "cell_type": "code",
   "execution_count": 252,
   "id": "600303a0",
   "metadata": {
    "execution": {
     "iopub.execute_input": "2023-08-13T09:36:29.276778Z",
     "iopub.status.busy": "2023-08-13T09:36:29.276046Z",
     "iopub.status.idle": "2023-08-13T09:36:29.280338Z",
     "shell.execute_reply": "2023-08-13T09:36:29.279464Z"
    },
    "papermill": {
     "duration": 0.122497,
     "end_time": "2023-08-13T09:36:29.282687",
     "exception": false,
     "start_time": "2023-08-13T09:36:29.160190",
     "status": "completed"
    },
    "tags": []
   },
   "outputs": [],
   "source": [
    "# Best 6 parameters\n",
    "\n",
    "# best6_dict = {'cat': [\"isFrequentReviewer\"],\n",
    "#              'num': [\"audienceScore\"],\n",
    "#              'txt': ['reviewText', 'reviewerName', 'genre', 'director']}\n",
    "\n",
    "# best6_dict = {'num': [\"audienceScore\"],\n",
    "#              'txt': ['reviewText', 'reviewerName', 'genre','movieid', 'director']}\n",
    "\n",
    "# best6_dict"
   ]
  },
  {
   "cell_type": "code",
   "execution_count": 253,
   "id": "a9092e66",
   "metadata": {
    "execution": {
     "iopub.execute_input": "2023-08-13T09:36:29.516400Z",
     "iopub.status.busy": "2023-08-13T09:36:29.515951Z",
     "iopub.status.idle": "2023-08-13T09:36:29.520012Z",
     "shell.execute_reply": "2023-08-13T09:36:29.519190Z"
    },
    "papermill": {
     "duration": 0.124126,
     "end_time": "2023-08-13T09:36:29.522324",
     "exception": false,
     "start_time": "2023-08-13T09:36:29.398198",
     "status": "completed"
    },
    "tags": []
   },
   "outputs": [],
   "source": [
    "# Submit best 6 features (version 2)\n",
    "\n",
    "# submit_v4(selected_features=best6_dict,\n",
    "#           param_grid=param_grid)"
   ]
  },
  {
   "cell_type": "code",
   "execution_count": 254,
   "id": "4b3939f3",
   "metadata": {
    "execution": {
     "iopub.execute_input": "2023-08-13T09:36:29.754530Z",
     "iopub.status.busy": "2023-08-13T09:36:29.753492Z",
     "iopub.status.idle": "2023-08-13T09:36:29.759010Z",
     "shell.execute_reply": "2023-08-13T09:36:29.757625Z"
    },
    "papermill": {
     "duration": 0.124181,
     "end_time": "2023-08-13T09:36:29.761740",
     "exception": false,
     "start_time": "2023-08-13T09:36:29.637559",
     "status": "completed"
    },
    "tags": []
   },
   "outputs": [],
   "source": [
    "# Best 7 parameters\n",
    "\n",
    "# best7_dict = {'cat': [\"isFrequentReviewer\"],\n",
    "#              'num': [\"audienceScore\"],\n",
    "#              'txt': ['reviewText', 'reviewerName', 'movieid', 'genre', 'director']}\n",
    "# best7_dict"
   ]
  },
  {
   "cell_type": "code",
   "execution_count": 255,
   "id": "437d19c6",
   "metadata": {
    "execution": {
     "iopub.execute_input": "2023-08-13T09:36:29.998185Z",
     "iopub.status.busy": "2023-08-13T09:36:29.996927Z",
     "iopub.status.idle": "2023-08-13T09:36:30.002064Z",
     "shell.execute_reply": "2023-08-13T09:36:30.001157Z"
    },
    "papermill": {
     "duration": 0.126365,
     "end_time": "2023-08-13T09:36:30.004512",
     "exception": false,
     "start_time": "2023-08-13T09:36:29.878147",
     "status": "completed"
    },
    "tags": []
   },
   "outputs": [],
   "source": [
    "# Submit best 7 features\n",
    "\n",
    "# submit_v4(selected_features=best7_dict,\n",
    "#           param_grid=param_grid)"
   ]
  },
  {
   "cell_type": "code",
   "execution_count": 256,
   "id": "00207b28",
   "metadata": {
    "execution": {
     "iopub.execute_input": "2023-08-13T09:36:30.242156Z",
     "iopub.status.busy": "2023-08-13T09:36:30.241355Z",
     "iopub.status.idle": "2023-08-13T09:36:30.246025Z",
     "shell.execute_reply": "2023-08-13T09:36:30.245226Z"
    },
    "papermill": {
     "duration": 0.126848,
     "end_time": "2023-08-13T09:36:30.248350",
     "exception": false,
     "start_time": "2023-08-13T09:36:30.121502",
     "status": "completed"
    },
    "tags": []
   },
   "outputs": [],
   "source": [
    "# submit_v4(selected_features=best6_dict, param_grid=param_grid)"
   ]
  },
  {
   "cell_type": "markdown",
   "id": "9550f8ff",
   "metadata": {
    "papermill": {
     "duration": 0.114682,
     "end_time": "2023-08-13T09:36:30.478078",
     "exception": false,
     "start_time": "2023-08-13T09:36:30.363396",
     "status": "completed"
    },
    "tags": []
   },
   "source": [
    "## Try a new feature dict  \n",
    "\n"
   ]
  },
  {
   "cell_type": "code",
   "execution_count": 257,
   "id": "65adc8be",
   "metadata": {
    "execution": {
     "iopub.execute_input": "2023-08-13T09:36:30.711769Z",
     "iopub.status.busy": "2023-08-13T09:36:30.710930Z",
     "iopub.status.idle": "2023-08-13T09:36:30.715871Z",
     "shell.execute_reply": "2023-08-13T09:36:30.715095Z"
    },
    "papermill": {
     "duration": 0.124708,
     "end_time": "2023-08-13T09:36:30.718180",
     "exception": false,
     "start_time": "2023-08-13T09:36:30.593472",
     "status": "completed"
    },
    "tags": []
   },
   "outputs": [],
   "source": [
    "# all_dict_new = {'cat': [\"isFrequentReviewer\", \"rating\", \"originalLanguage\"],\n",
    "#              'num': [\"audienceScore\", \"runtimeMinutes\", \"boxOffice\"],\n",
    "#              'txt': ['reviewText', \"reviewerName\", 'movieid', 'genre', 'director']}\n",
    "# all_dict_new"
   ]
  },
  {
   "cell_type": "code",
   "execution_count": 258,
   "id": "fcabace0",
   "metadata": {
    "execution": {
     "iopub.execute_input": "2023-08-13T09:36:30.951543Z",
     "iopub.status.busy": "2023-08-13T09:36:30.951152Z",
     "iopub.status.idle": "2023-08-13T09:36:30.955998Z",
     "shell.execute_reply": "2023-08-13T09:36:30.954717Z"
    },
    "papermill": {
     "duration": 0.125897,
     "end_time": "2023-08-13T09:36:30.958525",
     "exception": false,
     "start_time": "2023-08-13T09:36:30.832628",
     "status": "completed"
    },
    "tags": []
   },
   "outputs": [],
   "source": [
    "# submit_v4(selected_features={'txt': ['genre']}, param_grid=param_grid)"
   ]
  },
  {
   "cell_type": "code",
   "execution_count": 259,
   "id": "11f695ea",
   "metadata": {
    "execution": {
     "iopub.execute_input": "2023-08-13T09:36:31.266154Z",
     "iopub.status.busy": "2023-08-13T09:36:31.265418Z",
     "iopub.status.idle": "2023-08-13T09:36:31.270336Z",
     "shell.execute_reply": "2023-08-13T09:36:31.269137Z"
    },
    "papermill": {
     "duration": 0.12429,
     "end_time": "2023-08-13T09:36:31.272763",
     "exception": false,
     "start_time": "2023-08-13T09:36:31.148473",
     "status": "completed"
    },
    "tags": []
   },
   "outputs": [],
   "source": [
    "# submit_v4(selected_features=all_dict_new, param_grid=param_grid)"
   ]
  },
  {
   "cell_type": "code",
   "execution_count": 260,
   "id": "70305760",
   "metadata": {
    "execution": {
     "iopub.execute_input": "2023-08-13T09:36:31.503988Z",
     "iopub.status.busy": "2023-08-13T09:36:31.503588Z",
     "iopub.status.idle": "2023-08-13T09:36:31.508244Z",
     "shell.execute_reply": "2023-08-13T09:36:31.506935Z"
    },
    "papermill": {
     "duration": 0.123178,
     "end_time": "2023-08-13T09:36:31.510707",
     "exception": false,
     "start_time": "2023-08-13T09:36:31.387529",
     "status": "completed"
    },
    "tags": []
   },
   "outputs": [],
   "source": [
    "# Try non-text based columns\n",
    "# num_cat_dict = {'cat': ['isFrequentReviewer', 'rating', 'originalLanguage'],\n",
    "#  'num': ['audienceScore', 'runtimeMinutes', 'boxOffice']}\n",
    "# num_cat_dict"
   ]
  },
  {
   "cell_type": "code",
   "execution_count": 261,
   "id": "7a75f4e6",
   "metadata": {
    "execution": {
     "iopub.execute_input": "2023-08-13T09:36:31.743458Z",
     "iopub.status.busy": "2023-08-13T09:36:31.742224Z",
     "iopub.status.idle": "2023-08-13T09:36:31.747011Z",
     "shell.execute_reply": "2023-08-13T09:36:31.746223Z"
    },
    "papermill": {
     "duration": 0.122931,
     "end_time": "2023-08-13T09:36:31.749212",
     "exception": false,
     "start_time": "2023-08-13T09:36:31.626281",
     "status": "completed"
    },
    "tags": []
   },
   "outputs": [],
   "source": [
    "# Use num_cat_dict features\n",
    "# (Update): Gets a local score of 0.7027181356991726. Not great.\n",
    "# submit_v4(selected_model=LogisticRegression(max_iter=100000), selected_features=num_cat_dict, param_grid=param_grid)"
   ]
  },
  {
   "cell_type": "code",
   "execution_count": 262,
   "id": "78b993d2",
   "metadata": {
    "execution": {
     "iopub.execute_input": "2023-08-13T09:36:31.982848Z",
     "iopub.status.busy": "2023-08-13T09:36:31.981514Z",
     "iopub.status.idle": "2023-08-13T09:36:31.986800Z",
     "shell.execute_reply": "2023-08-13T09:36:31.985529Z"
    },
    "papermill": {
     "duration": 0.123391,
     "end_time": "2023-08-13T09:36:31.989154",
     "exception": false,
     "start_time": "2023-08-13T09:36:31.865763",
     "status": "completed"
    },
    "tags": []
   },
   "outputs": [],
   "source": [
    "# Try data other than reviewText\n",
    "\n",
    "# mov_dict = {'cat': ['rating', 'originalLanguage'],\n",
    "#  'num': ['audienceScore', 'runtimeMinutes', 'boxOffice'],\n",
    "#  'txt': ['movieid', 'genre', 'director']}\n",
    "# mov_dict"
   ]
  },
  {
   "cell_type": "code",
   "execution_count": 263,
   "id": "2d86d5e1",
   "metadata": {
    "execution": {
     "iopub.execute_input": "2023-08-13T09:36:32.221125Z",
     "iopub.status.busy": "2023-08-13T09:36:32.220333Z",
     "iopub.status.idle": "2023-08-13T09:36:32.224821Z",
     "shell.execute_reply": "2023-08-13T09:36:32.223633Z"
    },
    "papermill": {
     "duration": 0.123111,
     "end_time": "2023-08-13T09:36:32.227371",
     "exception": false,
     "start_time": "2023-08-13T09:36:32.104260",
     "status": "completed"
    },
    "tags": []
   },
   "outputs": [],
   "source": [
    "# Use mov_dict features\n",
    "# (Update): Gets a local score of 0.7475454316469369, which is not bad at all.\n",
    "# submit_v4(selected_model=LogisticRegression(max_iter=100000), selected_features=mov_dict, param_grid=param_grid)"
   ]
  },
  {
   "cell_type": "markdown",
   "id": "41f2158e",
   "metadata": {
    "papermill": {
     "duration": 0.113886,
     "end_time": "2023-08-13T09:36:32.457611",
     "exception": false,
     "start_time": "2023-08-13T09:36:32.343725",
     "status": "completed"
    },
    "tags": []
   },
   "source": [
    "# Try a new column 'reviewYN'  \n",
    "\n"
   ]
  },
  {
   "cell_type": "code",
   "execution_count": 264,
   "id": "99f9e6de",
   "metadata": {
    "execution": {
     "iopub.execute_input": "2023-08-13T09:36:32.690223Z",
     "iopub.status.busy": "2023-08-13T09:36:32.689027Z",
     "iopub.status.idle": "2023-08-13T09:36:32.693425Z",
     "shell.execute_reply": "2023-08-13T09:36:32.692695Z"
    },
    "papermill": {
     "duration": 0.123061,
     "end_time": "2023-08-13T09:36:32.695574",
     "exception": false,
     "start_time": "2023-08-13T09:36:32.572513",
     "status": "completed"
    },
    "tags": []
   },
   "outputs": [],
   "source": [
    "# all_dict_3 = {'cat': [\"isFrequentReviewer\", \"rating\", \"originalLanguage\", \"reviewYN\"],\n",
    "#              'num': [\"audienceScore\", \"runtimeMinutes\", \"boxOffice\"],\n",
    "#              'txt': ['reviewText', \"reviewerName\", 'movieid', 'genre', 'director']}\n",
    "# all_dict_3"
   ]
  },
  {
   "cell_type": "code",
   "execution_count": 265,
   "id": "cd42f84e",
   "metadata": {
    "execution": {
     "iopub.execute_input": "2023-08-13T09:36:32.929534Z",
     "iopub.status.busy": "2023-08-13T09:36:32.928280Z",
     "iopub.status.idle": "2023-08-13T09:36:32.932862Z",
     "shell.execute_reply": "2023-08-13T09:36:32.932094Z"
    },
    "papermill": {
     "duration": 0.124287,
     "end_time": "2023-08-13T09:36:32.935111",
     "exception": false,
     "start_time": "2023-08-13T09:36:32.810824",
     "status": "completed"
    },
    "tags": []
   },
   "outputs": [],
   "source": [
    "# submit_v4(selected_model=LogisticRegression(max_iter=100000),\n",
    "#          selected_features=all_dict_3, \n",
    "#           param_grid=param_grid)"
   ]
  },
  {
   "cell_type": "markdown",
   "id": "c60c4801",
   "metadata": {
    "papermill": {
     "duration": 0.115242,
     "end_time": "2023-08-13T09:36:33.166345",
     "exception": false,
     "start_time": "2023-08-13T09:36:33.051103",
     "status": "completed"
    },
    "tags": []
   },
   "source": [
    "### More GridSearchCV using LinearSVC  "
   ]
  },
  {
   "cell_type": "code",
   "execution_count": 266,
   "id": "420b380e",
   "metadata": {
    "execution": {
     "iopub.execute_input": "2023-08-13T09:36:33.398157Z",
     "iopub.status.busy": "2023-08-13T09:36:33.397440Z",
     "iopub.status.idle": "2023-08-13T09:36:33.401751Z",
     "shell.execute_reply": "2023-08-13T09:36:33.400636Z"
    },
    "papermill": {
     "duration": 0.122748,
     "end_time": "2023-08-13T09:36:33.404251",
     "exception": false,
     "start_time": "2023-08-13T09:36:33.281503",
     "status": "completed"
    },
    "tags": []
   },
   "outputs": [],
   "source": [
    "# param_grid_svc_2 = {\n",
    "#     'model__C': [1.0],\n",
    "#     'model__loss': ['hinge', 'squared_hinge'],\n",
    "#     'model__class_weight': ['balanced', None]\n",
    "# }\n",
    "# param_grid_svc_2"
   ]
  },
  {
   "cell_type": "code",
   "execution_count": 267,
   "id": "17cfb68e",
   "metadata": {
    "execution": {
     "iopub.execute_input": "2023-08-13T09:36:33.640011Z",
     "iopub.status.busy": "2023-08-13T09:36:33.638982Z",
     "iopub.status.idle": "2023-08-13T09:36:33.643790Z",
     "shell.execute_reply": "2023-08-13T09:36:33.642875Z"
    },
    "papermill": {
     "duration": 0.125247,
     "end_time": "2023-08-13T09:36:33.645957",
     "exception": false,
     "start_time": "2023-08-13T09:36:33.520710",
     "status": "completed"
    },
    "tags": []
   },
   "outputs": [],
   "source": [
    "# submit_v4(selected_model=LinearSVC(max_iter=100000, random_state=42), selected_features={'num': [\"audienceScore\"]}, param_grid=param_grid_svc_2)"
   ]
  },
  {
   "cell_type": "code",
   "execution_count": 268,
   "id": "e1a5f2cd",
   "metadata": {
    "execution": {
     "iopub.execute_input": "2023-08-13T09:36:33.897531Z",
     "iopub.status.busy": "2023-08-13T09:36:33.896406Z",
     "iopub.status.idle": "2023-08-13T09:36:33.900721Z",
     "shell.execute_reply": "2023-08-13T09:36:33.899993Z"
    },
    "papermill": {
     "duration": 0.135852,
     "end_time": "2023-08-13T09:36:33.902876",
     "exception": false,
     "start_time": "2023-08-13T09:36:33.767024",
     "status": "completed"
    },
    "tags": []
   },
   "outputs": [],
   "source": [
    "# submit_v4(selected_model=LinearSVC(max_iter=100000, random_state=42), selected_features=all_dict, param_grid=param_grid_svc_2)"
   ]
  },
  {
   "cell_type": "markdown",
   "id": "6af10a06",
   "metadata": {
    "papermill": {
     "duration": 0.114996,
     "end_time": "2023-08-13T09:36:34.135395",
     "exception": false,
     "start_time": "2023-08-13T09:36:34.020399",
     "status": "completed"
    },
    "tags": []
   },
   "source": [
    "### Boosting techniques  "
   ]
  },
  {
   "cell_type": "code",
   "execution_count": 269,
   "id": "4f0627b3",
   "metadata": {
    "execution": {
     "iopub.execute_input": "2023-08-13T09:36:34.372268Z",
     "iopub.status.busy": "2023-08-13T09:36:34.371608Z",
     "iopub.status.idle": "2023-08-13T09:36:34.376594Z",
     "shell.execute_reply": "2023-08-13T09:36:34.375640Z"
    },
    "papermill": {
     "duration": 0.126179,
     "end_time": "2023-08-13T09:36:34.379248",
     "exception": false,
     "start_time": "2023-08-13T09:36:34.253069",
     "status": "completed"
    },
    "tags": []
   },
   "outputs": [],
   "source": [
    "# adc = AdaBoostClassifier(estimator=LogisticRegression(C=5, solver=\"saga\", max_iter=100000), n_estimators=50)\n",
    "# adc"
   ]
  },
  {
   "cell_type": "code",
   "execution_count": 270,
   "id": "72582140",
   "metadata": {
    "execution": {
     "iopub.execute_input": "2023-08-13T09:36:34.614585Z",
     "iopub.status.busy": "2023-08-13T09:36:34.614187Z",
     "iopub.status.idle": "2023-08-13T09:36:34.618872Z",
     "shell.execute_reply": "2023-08-13T09:36:34.617746Z"
    },
    "papermill": {
     "duration": 0.123986,
     "end_time": "2023-08-13T09:36:34.621213",
     "exception": false,
     "start_time": "2023-08-13T09:36:34.497227",
     "status": "completed"
    },
    "tags": []
   },
   "outputs": [],
   "source": [
    "# submit_v4(selected_model=adc, selected_features={'num': [\"audienceScore\"]}, param_grid=None)"
   ]
  },
  {
   "cell_type": "code",
   "execution_count": 271,
   "id": "b63d445d",
   "metadata": {
    "execution": {
     "iopub.execute_input": "2023-08-13T09:36:34.858477Z",
     "iopub.status.busy": "2023-08-13T09:36:34.858023Z",
     "iopub.status.idle": "2023-08-13T09:36:34.862366Z",
     "shell.execute_reply": "2023-08-13T09:36:34.861299Z"
    },
    "papermill": {
     "duration": 0.123999,
     "end_time": "2023-08-13T09:36:34.864761",
     "exception": false,
     "start_time": "2023-08-13T09:36:34.740762",
     "status": "completed"
    },
    "tags": []
   },
   "outputs": [],
   "source": [
    "# submit_v4(selected_model=adc, selected_features=all_dict, param_grid=None)\n",
    "\n",
    "# Took 1 hour 15 mins to run and gave a public score of only 0.71089. Discarded."
   ]
  },
  {
   "cell_type": "markdown",
   "id": "557825a5",
   "metadata": {
    "papermill": {
     "duration": 0.113542,
     "end_time": "2023-08-13T09:36:35.095212",
     "exception": false,
     "start_time": "2023-08-13T09:36:34.981670",
     "status": "completed"
    },
    "tags": []
   },
   "source": [
    "### LightGBM  "
   ]
  },
  {
   "cell_type": "code",
   "execution_count": 272,
   "id": "8c588c2b",
   "metadata": {
    "execution": {
     "iopub.execute_input": "2023-08-13T09:36:35.327518Z",
     "iopub.status.busy": "2023-08-13T09:36:35.327115Z",
     "iopub.status.idle": "2023-08-13T09:36:35.331403Z",
     "shell.execute_reply": "2023-08-13T09:36:35.330416Z"
    },
    "papermill": {
     "duration": 0.123526,
     "end_time": "2023-08-13T09:36:35.333725",
     "exception": false,
     "start_time": "2023-08-13T09:36:35.210199",
     "status": "completed"
    },
    "tags": []
   },
   "outputs": [],
   "source": [
    "# lgb = ltb.LGBMClassifier()\n",
    "# lgb"
   ]
  },
  {
   "cell_type": "code",
   "execution_count": 273,
   "id": "3f5be353",
   "metadata": {
    "execution": {
     "iopub.execute_input": "2023-08-13T09:36:35.570030Z",
     "iopub.status.busy": "2023-08-13T09:36:35.569536Z",
     "iopub.status.idle": "2023-08-13T09:36:35.575001Z",
     "shell.execute_reply": "2023-08-13T09:36:35.573571Z"
    },
    "papermill": {
     "duration": 0.126594,
     "end_time": "2023-08-13T09:36:35.577831",
     "exception": false,
     "start_time": "2023-08-13T09:36:35.451237",
     "status": "completed"
    },
    "tags": []
   },
   "outputs": [],
   "source": [
    "# Try LightGBM with default settings\n",
    "# (Update): Public score only 0.77713. It was fast, took less than 5 mins (without GridSearchCV)\n",
    "\n",
    "# submit_v4(selected_model=ltb.LGBMClassifier(), selected_features=all_dict, param_grid=None)"
   ]
  },
  {
   "cell_type": "markdown",
   "id": "f505a7c1",
   "metadata": {
    "papermill": {
     "duration": 0.115897,
     "end_time": "2023-08-13T09:36:35.811990",
     "exception": false,
     "start_time": "2023-08-13T09:36:35.696093",
     "status": "completed"
    },
    "tags": []
   },
   "source": [
    "# Try feature selection and vocab fine tuning of reviewText column"
   ]
  },
  {
   "cell_type": "markdown",
   "id": "7f1621b4",
   "metadata": {
    "papermill": {
     "duration": 0.115433,
     "end_time": "2023-08-13T09:36:36.044337",
     "exception": false,
     "start_time": "2023-08-13T09:36:35.928904",
     "status": "completed"
    },
    "tags": []
   },
   "source": [
    "## Plan  \n",
    "* Add a new column 'reviewWC' which has word count of 'reviewText'  \n",
    "    * Check if there is any relationship between 'reviewWC' and 'sentiment'\n",
    "* Work on vocabulary\n",
    "     * Use TfidfVectorizer and find out the vocabulary of 'reviewText' column for various ngrams\n",
    "     * Use RecursiveFeatureElimination (RFE) or RFECV to select 1000 top words/vocab for each ngram\n",
    "     * Use the final vocab (1000-3000 words) in the model and see how it performs compared to whole vocab\n"
   ]
  },
  {
   "cell_type": "code",
   "execution_count": 274,
   "id": "5242d844",
   "metadata": {
    "execution": {
     "iopub.execute_input": "2023-08-13T09:36:36.274847Z",
     "iopub.status.busy": "2023-08-13T09:36:36.274099Z",
     "iopub.status.idle": "2023-08-13T09:36:36.278668Z",
     "shell.execute_reply": "2023-08-13T09:36:36.277600Z"
    },
    "papermill": {
     "duration": 0.122378,
     "end_time": "2023-08-13T09:36:36.280882",
     "exception": false,
     "start_time": "2023-08-13T09:36:36.158504",
     "status": "completed"
    },
    "tags": []
   },
   "outputs": [],
   "source": [
    "# 'reviewWC' and 'sentiment'\n",
    "# (Conclusion): 'reviewWC' is practically same as DummyClassifier (accuracy of 0.6682375059904889 on train data). It just predicts 'positive' for all columns\n",
    "\n",
    "# reviewWC_dict = {\"num\": [\"reviewWC\"]}\n",
    "# submit_v4(selected_model=LogisticRegression(),\n",
    "#          selected_features=reviewWC_dict,\n",
    "#          param_grid=None)"
   ]
  },
  {
   "cell_type": "code",
   "execution_count": 275,
   "id": "e19302ee",
   "metadata": {
    "execution": {
     "iopub.execute_input": "2023-08-13T09:36:36.511908Z",
     "iopub.status.busy": "2023-08-13T09:36:36.511504Z",
     "iopub.status.idle": "2023-08-13T09:36:36.516109Z",
     "shell.execute_reply": "2023-08-13T09:36:36.515089Z"
    },
    "papermill": {
     "duration": 0.122136,
     "end_time": "2023-08-13T09:36:36.518407",
     "exception": false,
     "start_time": "2023-08-13T09:36:36.396271",
     "status": "completed"
    },
    "tags": []
   },
   "outputs": [],
   "source": [
    "# 'reviewYN' and 'sentiment'\n",
    "# (Conclusion): 'reviewYN' is practically same as DummyClassifier (accuracy of 0.6682375059904889 on train data). It just predicts 'positive' for all columns\n",
    "\n",
    "# reviewYN_dict = {\"cat\": [\"reviewYN\"]}\n",
    "# submit_v4(selected_model=LogisticRegression(),\n",
    "#          selected_features=reviewYN_dict,\n",
    "#          param_grid=None)"
   ]
  },
  {
   "cell_type": "markdown",
   "id": "8f113e6c",
   "metadata": {
    "papermill": {
     "duration": 0.115182,
     "end_time": "2023-08-13T09:36:36.747342",
     "exception": false,
     "start_time": "2023-08-13T09:36:36.632160",
     "status": "completed"
    },
    "tags": []
   },
   "source": [
    "## Submissions using 'vocabulary' built from 'reviewText' data  "
   ]
  },
  {
   "cell_type": "markdown",
   "id": "b230926c",
   "metadata": {
    "papermill": {
     "duration": 0.114102,
     "end_time": "2023-08-13T09:36:36.975915",
     "exception": false,
     "start_time": "2023-08-13T09:36:36.861813",
     "status": "completed"
    },
    "tags": []
   },
   "source": [
    "### Submit best 6 features along with common vocab  "
   ]
  },
  {
   "cell_type": "code",
   "execution_count": 276,
   "id": "0d1a5ce7",
   "metadata": {
    "execution": {
     "iopub.execute_input": "2023-08-13T09:36:37.207254Z",
     "iopub.status.busy": "2023-08-13T09:36:37.206796Z",
     "iopub.status.idle": "2023-08-13T09:36:37.211738Z",
     "shell.execute_reply": "2023-08-13T09:36:37.210599Z"
    },
    "papermill": {
     "duration": 0.123188,
     "end_time": "2023-08-13T09:36:37.214013",
     "exception": false,
     "start_time": "2023-08-13T09:36:37.090825",
     "status": "completed"
    },
    "tags": []
   },
   "outputs": [],
   "source": [
    "# Best 6 parameters (version 2)  \n",
    "\n",
    "# best6_dict = {'num': [\"audienceScore\"],\n",
    "#              'txt': ['reviewText', 'reviewerName', 'genre','movieid', 'director']}\n",
    "\n",
    "# best6_dict"
   ]
  },
  {
   "cell_type": "code",
   "execution_count": 277,
   "id": "5769bd05",
   "metadata": {
    "execution": {
     "iopub.execute_input": "2023-08-13T09:36:37.447837Z",
     "iopub.status.busy": "2023-08-13T09:36:37.447447Z",
     "iopub.status.idle": "2023-08-13T09:36:37.451599Z",
     "shell.execute_reply": "2023-08-13T09:36:37.450762Z"
    },
    "papermill": {
     "duration": 0.122799,
     "end_time": "2023-08-13T09:36:37.453688",
     "exception": false,
     "start_time": "2023-08-13T09:36:37.330889",
     "status": "completed"
    },
    "tags": []
   },
   "outputs": [],
   "source": [
    "# Submit best 6 features (version 2) with common vocabulary (common_1_2_grams)\n",
    "# (Update): Score 0.82867\n",
    "\n",
    "# submit_v4(selected_features=best6_dict,\n",
    "#           param_grid=param_grid,\n",
    "#          vocab=common_1_2_grams)"
   ]
  },
  {
   "cell_type": "code",
   "execution_count": 278,
   "id": "3f2e419b",
   "metadata": {
    "execution": {
     "iopub.execute_input": "2023-08-13T09:36:37.684682Z",
     "iopub.status.busy": "2023-08-13T09:36:37.684311Z",
     "iopub.status.idle": "2023-08-13T09:36:37.689120Z",
     "shell.execute_reply": "2023-08-13T09:36:37.688007Z"
    },
    "papermill": {
     "duration": 0.123079,
     "end_time": "2023-08-13T09:36:37.691394",
     "exception": false,
     "start_time": "2023-08-13T09:36:37.568315",
     "status": "completed"
    },
    "tags": []
   },
   "outputs": [],
   "source": [
    "# Submit best 6 features (version 2) with common vocabulary (common_1_2_3_grams)\n",
    "# Note: for this submission submit_v4 function has to be modified: reviewText TfidfVectorizer must have ngram_range(1,3).\n",
    "# (Update): Score in the range 0.825+\n",
    "\n",
    "# submit_v4(selected_features=best6_dict,\n",
    "#           param_grid=param_grid,\n",
    "#          vocab=common_1_2_3_grams)"
   ]
  }
 ],
 "metadata": {
  "kernelspec": {
   "display_name": "Python 3",
   "language": "python",
   "name": "python3"
  },
  "language_info": {
   "codemirror_mode": {
    "name": "ipython",
    "version": 3
   },
   "file_extension": ".py",
   "mimetype": "text/x-python",
   "name": "python",
   "nbconvert_exporter": "python",
   "pygments_lexer": "ipython3",
   "version": "3.10.10"
  },
  "papermill": {
   "default_parameters": {},
   "duration": 4153.306737,
   "end_time": "2023-08-13T09:36:40.943278",
   "environment_variables": {},
   "exception": null,
   "input_path": "__notebook__.ipynb",
   "output_path": "__notebook__.ipynb",
   "parameters": {},
   "start_time": "2023-08-13T08:27:27.636541",
   "version": "2.4.0"
  }
 },
 "nbformat": 4,
 "nbformat_minor": 5
}
