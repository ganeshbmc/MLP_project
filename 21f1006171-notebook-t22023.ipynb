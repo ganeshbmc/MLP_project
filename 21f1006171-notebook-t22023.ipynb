{
 "cells": [
  {
   "cell_type": "markdown",
   "id": "24b3fd64",
   "metadata": {
    "papermill": {
     "duration": 0.056939,
     "end_time": "2023-08-12T17:16:34.135889",
     "exception": false,
     "start_time": "2023-08-12T17:16:34.078950",
     "status": "completed"
    },
    "tags": []
   },
   "source": [
    "# MLP Project (T2 2023) by Ganesh P  "
   ]
  },
  {
   "cell_type": "markdown",
   "id": "2043d71f",
   "metadata": {
    "papermill": {
     "duration": 0.05543,
     "end_time": "2023-08-12T17:16:34.247278",
     "exception": false,
     "start_time": "2023-08-12T17:16:34.191848",
     "status": "completed"
    },
    "tags": []
   },
   "source": [
    "`Disclaimer`   \n",
    "\n",
    "> This final notebook contains only the most relevant code to show the path/flow of my project work over few weeks. Rest of the code is in [my github repo](https://github.com/ganeshbmc/MLP_project) which is private at present (I will make it public after the project is over).  "
   ]
  },
  {
   "cell_type": "markdown",
   "id": "7121c2c0",
   "metadata": {
    "papermill": {
     "duration": 0.055993,
     "end_time": "2023-08-12T17:16:34.359491",
     "exception": false,
     "start_time": "2023-08-12T17:16:34.303498",
     "status": "completed"
    },
    "tags": []
   },
   "source": [
    "`Strengths`  \n",
    "\n",
    "> * Modular code (DRY principle)  \n",
    "> * End to end pipeline in one function (with helper functions)   "
   ]
  },
  {
   "cell_type": "markdown",
   "id": "3f233623",
   "metadata": {
    "papermill": {
     "duration": 0.056029,
     "end_time": "2023-08-12T17:16:34.471712",
     "exception": false,
     "start_time": "2023-08-12T17:16:34.415683",
     "status": "completed"
    },
    "tags": []
   },
   "source": [
    "`Overview`  \n",
    "\n",
    "`PART I`  \n",
    "\n",
    "1.\t> Screen the datasets and import them.  \n",
    "2.\t> Perform EDA (first round).\n",
    "3.\t> Data cleaning.\n",
    "4.\t> Basic models including dummy model.\n",
    "5.\t> Because this is a text sentiment analysis project, focus on 'reviewText' column, work on cleaning text data and vectorising/tokenising it, build several models till the best possible score is reached.  \n",
    "\n",
    "`PART II`  \n",
    "\n",
    "6.\t> Merge train and movies dataset.\n",
    "7.\t> Perform EDA (second round) on merged dataset.\n",
    "8.\t> Data cleaning.\n",
    "9.\t> Build models on merged dataset.\n",
    "10.\t> Understand the results and do another round of EDA if needed.\n",
    "11.\t> Build final model.  \n",
    "\n",
    "`PART III (After project window closes)`  \n",
    "\n",
    "12. > Use NLTK library for further processing text data.  \n",
    "13. > Try to address comments from different languages, special characters etc.  \n",
    "14. > Try imblearn library to address class imbalance.  \n",
    "15. > Try to use currently available LLMs and see how my model performs agains them.  "
   ]
  },
  {
   "cell_type": "markdown",
   "id": "b2a2e8c1",
   "metadata": {
    "papermill": {
     "duration": 0.055357,
     "end_time": "2023-08-12T17:16:34.583348",
     "exception": false,
     "start_time": "2023-08-12T17:16:34.527991",
     "status": "completed"
    },
    "tags": []
   },
   "source": [
    "`Default code on Kaggle notebook`  "
   ]
  },
  {
   "cell_type": "code",
   "execution_count": 1,
   "id": "3600a5ee",
   "metadata": {
    "_cell_guid": "b1076dfc-b9ad-4769-8c92-a6c4dae69d19",
    "_uuid": "8f2839f25d086af736a60e9eeb907d3b93b6e0e5",
    "execution": {
     "iopub.execute_input": "2023-08-12T17:16:34.696517Z",
     "iopub.status.busy": "2023-08-12T17:16:34.696176Z",
     "iopub.status.idle": "2023-08-12T17:16:34.708637Z",
     "shell.execute_reply": "2023-08-12T17:16:34.707552Z"
    },
    "papermill": {
     "duration": 0.072093,
     "end_time": "2023-08-12T17:16:34.710779",
     "exception": false,
     "start_time": "2023-08-12T17:16:34.638686",
     "status": "completed"
    },
    "tags": []
   },
   "outputs": [
    {
     "name": "stdout",
     "output_type": "stream",
     "text": [
      "/kaggle/input/sentiment-prediction-on-movie-reviews/movies.csv\n",
      "/kaggle/input/sentiment-prediction-on-movie-reviews/sample.csv\n",
      "/kaggle/input/sentiment-prediction-on-movie-reviews/train.csv\n",
      "/kaggle/input/sentiment-prediction-on-movie-reviews/test.csv\n"
     ]
    }
   ],
   "source": [
    "# This Python 3 environment comes with many helpful analytics libraries installed\n",
    "# It is defined by the kaggle/python Docker image: https://github.com/kaggle/docker-python\n",
    "# For example, here's several helpful packages to load\n",
    "\n",
    "import numpy as np # linear algebra\n",
    "import pandas as pd # data processing, CSV file I/O (e.g. pd.read_csv)\n",
    "\n",
    "# Input data files are available in the read-only \"../input/\" directory\n",
    "# For example, running this (by clicking run or pressing Shift+Enter) will list all files under the input directory\n",
    "\n",
    "import os\n",
    "for dirname, _, filenames in os.walk('/kaggle/input'):\n",
    "    for filename in filenames:\n",
    "        print(os.path.join(dirname, filename))\n",
    "\n",
    "# You can write up to 20GB to the current directory (/kaggle/working/) that gets preserved as output when you create a version using \"Save & Run All\" \n",
    "# You can also write temporary files to /kaggle/temp/, but they won't be saved outside of the current session"
   ]
  },
  {
   "cell_type": "markdown",
   "id": "94e09d8b",
   "metadata": {
    "papermill": {
     "duration": 0.056888,
     "end_time": "2023-08-12T17:16:34.824402",
     "exception": false,
     "start_time": "2023-08-12T17:16:34.767514",
     "status": "completed"
    },
    "tags": []
   },
   "source": [
    "### Specify platform  "
   ]
  },
  {
   "cell_type": "code",
   "execution_count": 2,
   "id": "b7987f47",
   "metadata": {
    "execution": {
     "iopub.execute_input": "2023-08-12T17:16:34.941440Z",
     "iopub.status.busy": "2023-08-12T17:16:34.941053Z",
     "iopub.status.idle": "2023-08-12T17:16:34.945793Z",
     "shell.execute_reply": "2023-08-12T17:16:34.944685Z"
    },
    "papermill": {
     "duration": 0.066304,
     "end_time": "2023-08-12T17:16:34.948507",
     "exception": false,
     "start_time": "2023-08-12T17:16:34.882203",
     "status": "completed"
    },
    "tags": []
   },
   "outputs": [],
   "source": [
    "platform = 'kaggle'  "
   ]
  },
  {
   "cell_type": "markdown",
   "id": "788e2977",
   "metadata": {
    "papermill": {
     "duration": 0.054732,
     "end_time": "2023-08-12T17:16:35.059820",
     "exception": false,
     "start_time": "2023-08-12T17:16:35.005088",
     "status": "completed"
    },
    "tags": []
   },
   "source": [
    "### Import libraries  "
   ]
  },
  {
   "cell_type": "code",
   "execution_count": 3,
   "id": "e3d7f764",
   "metadata": {
    "execution": {
     "iopub.execute_input": "2023-08-12T17:16:35.176790Z",
     "iopub.status.busy": "2023-08-12T17:16:35.176208Z",
     "iopub.status.idle": "2023-08-12T17:16:37.287734Z",
     "shell.execute_reply": "2023-08-12T17:16:37.286403Z"
    },
    "papermill": {
     "duration": 2.17163,
     "end_time": "2023-08-12T17:16:37.289911",
     "exception": false,
     "start_time": "2023-08-12T17:16:35.118281",
     "status": "completed"
    },
    "tags": []
   },
   "outputs": [
    {
     "name": "stdout",
     "output_type": "stream",
     "text": [
      "Imports done.\n"
     ]
    }
   ],
   "source": [
    "import pandas as pd\n",
    "import numpy as np\n",
    "import matplotlib.pyplot as plt\n",
    "import seaborn as sns\n",
    "import re\n",
    "from itertools import compress\n",
    "\n",
    "from sklearn.dummy import DummyClassifier\n",
    "from sklearn.pipeline import Pipeline, FeatureUnion\n",
    "from sklearn.compose import ColumnTransformer\n",
    "from sklearn.metrics import classification_report, confusion_matrix,f1_score\n",
    "from sklearn.feature_extraction.text import TfidfVectorizer, CountVectorizer\n",
    "from sklearn.preprocessing import FunctionTransformer\n",
    "from sklearn.preprocessing import StandardScaler, MinMaxScaler, RobustScaler, OneHotEncoder, LabelEncoder\n",
    "from sklearn.impute import SimpleImputer\n",
    "from sklearn.linear_model import LogisticRegression, SGDClassifier\n",
    "from sklearn.tree import DecisionTreeClassifier\n",
    "from sklearn.ensemble import RandomForestClassifier, AdaBoostClassifier\n",
    "from sklearn.svm import LinearSVC\n",
    "from sklearn.naive_bayes import GaussianNB, BernoulliNB, CategoricalNB, ComplementNB, MultinomialNB\n",
    "from sklearn.model_selection import train_test_split, GridSearchCV, cross_val_score\n",
    "from sklearn.decomposition import PCA, TruncatedSVD\n",
    "from sklearn.feature_selection import RFECV\n",
    "from sklearn.feature_selection import RFE\n",
    "from sklearn.neural_network import MLPClassifier\n",
    "\n",
    "# import lightgbm as ltb\n",
    "\n",
    "import scipy.stats as stats\n",
    "print(\"Imports done.\")"
   ]
  },
  {
   "cell_type": "markdown",
   "id": "3f58813d",
   "metadata": {
    "papermill": {
     "duration": 0.056876,
     "end_time": "2023-08-12T17:16:37.402439",
     "exception": false,
     "start_time": "2023-08-12T17:16:37.345563",
     "status": "completed"
    },
    "tags": []
   },
   "source": [
    "# PART I  "
   ]
  },
  {
   "cell_type": "markdown",
   "id": "77bc3ac5",
   "metadata": {
    "papermill": {
     "duration": 0.056767,
     "end_time": "2023-08-12T17:16:37.515421",
     "exception": false,
     "start_time": "2023-08-12T17:16:37.458654",
     "status": "completed"
    },
    "tags": []
   },
   "source": [
    "## Load datasets  "
   ]
  },
  {
   "cell_type": "code",
   "execution_count": 4,
   "id": "a3a26dae",
   "metadata": {
    "execution": {
     "iopub.execute_input": "2023-08-12T17:16:37.630734Z",
     "iopub.status.busy": "2023-08-12T17:16:37.630179Z",
     "iopub.status.idle": "2023-08-12T17:16:38.358206Z",
     "shell.execute_reply": "2023-08-12T17:16:38.357473Z"
    },
    "papermill": {
     "duration": 0.788494,
     "end_time": "2023-08-12T17:16:38.360417",
     "exception": false,
     "start_time": "2023-08-12T17:16:37.571923",
     "status": "completed"
    },
    "tags": []
   },
   "outputs": [
    {
     "data": {
      "text/plain": [
       "(162758, 5)"
      ]
     },
     "execution_count": 4,
     "metadata": {},
     "output_type": "execute_result"
    }
   ],
   "source": [
    "if platform == 'vscode':\n",
    "    traindf = pd.read_csv(\"data/train.csv\")\n",
    "else:\n",
    "    traindf = pd.read_csv(\"/kaggle/input/sentiment-prediction-on-movie-reviews/train.csv\")\n",
    "    \n",
    "traindf.shape"
   ]
  },
  {
   "cell_type": "code",
   "execution_count": 5,
   "id": "20ea6953",
   "metadata": {
    "execution": {
     "iopub.execute_input": "2023-08-12T17:16:38.476821Z",
     "iopub.status.busy": "2023-08-12T17:16:38.476456Z",
     "iopub.status.idle": "2023-08-12T17:16:38.734854Z",
     "shell.execute_reply": "2023-08-12T17:16:38.733857Z"
    },
    "papermill": {
     "duration": 0.319088,
     "end_time": "2023-08-12T17:16:38.737178",
     "exception": false,
     "start_time": "2023-08-12T17:16:38.418090",
     "status": "completed"
    },
    "tags": []
   },
   "outputs": [
    {
     "data": {
      "text/plain": [
       "(55315, 4)"
      ]
     },
     "execution_count": 5,
     "metadata": {},
     "output_type": "execute_result"
    }
   ],
   "source": [
    "if platform == 'vscode':\n",
    "    testdf = pd.read_csv(\"data/test.csv\")\n",
    "else:\n",
    "    testdf = pd.read_csv(\"/kaggle/input/sentiment-prediction-on-movie-reviews/test.csv\")\n",
    "\n",
    "testdf.shape"
   ]
  },
  {
   "cell_type": "markdown",
   "id": "30dd3c1e",
   "metadata": {
    "papermill": {
     "duration": 0.056783,
     "end_time": "2023-08-12T17:16:38.852784",
     "exception": false,
     "start_time": "2023-08-12T17:16:38.796001",
     "status": "completed"
    },
    "tags": []
   },
   "source": [
    "### Understanding the data and getting it ready for training and evaluating models  \n"
   ]
  },
  {
   "cell_type": "code",
   "execution_count": 6,
   "id": "7121e6ad",
   "metadata": {
    "execution": {
     "iopub.execute_input": "2023-08-12T17:16:38.968023Z",
     "iopub.status.busy": "2023-08-12T17:16:38.967694Z",
     "iopub.status.idle": "2023-08-12T17:16:38.973559Z",
     "shell.execute_reply": "2023-08-12T17:16:38.972765Z"
    },
    "papermill": {
     "duration": 0.066554,
     "end_time": "2023-08-12T17:16:38.976002",
     "exception": false,
     "start_time": "2023-08-12T17:16:38.909448",
     "status": "completed"
    },
    "tags": []
   },
   "outputs": [
    {
     "data": {
      "text/plain": [
       "(162758, 5)"
      ]
     },
     "execution_count": 6,
     "metadata": {},
     "output_type": "execute_result"
    }
   ],
   "source": [
    "traindf.shape"
   ]
  },
  {
   "cell_type": "code",
   "execution_count": 7,
   "id": "4535e7a5",
   "metadata": {
    "execution": {
     "iopub.execute_input": "2023-08-12T17:16:39.090982Z",
     "iopub.status.busy": "2023-08-12T17:16:39.089938Z",
     "iopub.status.idle": "2023-08-12T17:16:39.217360Z",
     "shell.execute_reply": "2023-08-12T17:16:39.216009Z"
    },
    "papermill": {
     "duration": 0.187006,
     "end_time": "2023-08-12T17:16:39.220010",
     "exception": false,
     "start_time": "2023-08-12T17:16:39.033004",
     "status": "completed"
    },
    "tags": []
   },
   "outputs": [
    {
     "name": "stdout",
     "output_type": "stream",
     "text": [
      "<class 'pandas.core.frame.DataFrame'>\n",
      "RangeIndex: 162758 entries, 0 to 162757\n",
      "Data columns (total 5 columns):\n",
      " #   Column              Non-Null Count   Dtype \n",
      "---  ------              --------------   ----- \n",
      " 0   movieid             162758 non-null  object\n",
      " 1   reviewerName        162758 non-null  object\n",
      " 2   isFrequentReviewer  162758 non-null  bool  \n",
      " 3   reviewText          156311 non-null  object\n",
      " 4   sentiment           162758 non-null  object\n",
      "dtypes: bool(1), object(4)\n",
      "memory usage: 5.1+ MB\n"
     ]
    }
   ],
   "source": [
    "traindf.info()"
   ]
  },
  {
   "cell_type": "code",
   "execution_count": 8,
   "id": "d9a580af",
   "metadata": {
    "execution": {
     "iopub.execute_input": "2023-08-12T17:16:39.335710Z",
     "iopub.status.busy": "2023-08-12T17:16:39.335162Z",
     "iopub.status.idle": "2023-08-12T17:16:39.437731Z",
     "shell.execute_reply": "2023-08-12T17:16:39.436615Z"
    },
    "papermill": {
     "duration": 0.163007,
     "end_time": "2023-08-12T17:16:39.440304",
     "exception": false,
     "start_time": "2023-08-12T17:16:39.277297",
     "status": "completed"
    },
    "tags": []
   },
   "outputs": [
    {
     "data": {
      "text/plain": [
       "movieid                  0\n",
       "reviewerName             0\n",
       "isFrequentReviewer       0\n",
       "reviewText            6447\n",
       "sentiment                0\n",
       "dtype: int64"
      ]
     },
     "execution_count": 8,
     "metadata": {},
     "output_type": "execute_result"
    }
   ],
   "source": [
    "traindf.isna().sum()"
   ]
  },
  {
   "cell_type": "markdown",
   "id": "8c397e22",
   "metadata": {
    "papermill": {
     "duration": 0.057009,
     "end_time": "2023-08-12T17:16:39.610652",
     "exception": false,
     "start_time": "2023-08-12T17:16:39.553643",
     "status": "completed"
    },
    "tags": []
   },
   "source": [
    "### Fill empty reviewText with custom text  "
   ]
  },
  {
   "cell_type": "code",
   "execution_count": 9,
   "id": "de577324",
   "metadata": {
    "execution": {
     "iopub.execute_input": "2023-08-12T17:16:39.736183Z",
     "iopub.status.busy": "2023-08-12T17:16:39.735678Z",
     "iopub.status.idle": "2023-08-12T17:16:39.865278Z",
     "shell.execute_reply": "2023-08-12T17:16:39.864620Z"
    },
    "papermill": {
     "duration": 0.198443,
     "end_time": "2023-08-12T17:16:39.866856",
     "exception": false,
     "start_time": "2023-08-12T17:16:39.668413",
     "status": "completed"
    },
    "tags": []
   },
   "outputs": [
    {
     "data": {
      "text/plain": [
       "movieid               0\n",
       "reviewerName          0\n",
       "isFrequentReviewer    0\n",
       "reviewText            0\n",
       "sentiment             0\n",
       "dtype: int64"
      ]
     },
     "execution_count": 9,
     "metadata": {},
     "output_type": "execute_result"
    }
   ],
   "source": [
    "traindf[\"reviewText\"].fillna(\"empty\", inplace=True)\n",
    "traindf.isna().sum()"
   ]
  },
  {
   "cell_type": "markdown",
   "id": "15ae18a7",
   "metadata": {
    "papermill": {
     "duration": 0.060444,
     "end_time": "2023-08-12T17:16:39.985311",
     "exception": false,
     "start_time": "2023-08-12T17:16:39.924867",
     "status": "completed"
    },
    "tags": []
   },
   "source": [
    "## EDA  \n"
   ]
  },
  {
   "cell_type": "code",
   "execution_count": 10,
   "id": "e076c502",
   "metadata": {
    "execution": {
     "iopub.execute_input": "2023-08-12T17:16:40.102967Z",
     "iopub.status.busy": "2023-08-12T17:16:40.102430Z",
     "iopub.status.idle": "2023-08-12T17:16:40.284813Z",
     "shell.execute_reply": "2023-08-12T17:16:40.284134Z"
    },
    "papermill": {
     "duration": 0.243527,
     "end_time": "2023-08-12T17:16:40.286679",
     "exception": false,
     "start_time": "2023-08-12T17:16:40.043152",
     "status": "completed"
    },
    "tags": []
   },
   "outputs": [
    {
     "data": {
      "image/png": "[encoded data removed]",
      "text/plain": [
       "<Figure size 600x400 with 1 Axes>"
      ]
     },
     "metadata": {},
     "output_type": "display_data"
    }
   ],
   "source": [
    "# Pie chart for sentiment column\n",
    "plt.figure(figsize=(6, 4))\n",
    "traindf[\"sentiment\"].value_counts().plot(kind='pie', autopct='%1.0f%%', colors=[\"lightgreen\", \"crimson\"])\n",
    "plt.title(\"Pie chart for sentiment column\")\n",
    "plt.show()"
   ]
  },
  {
   "cell_type": "code",
   "execution_count": 11,
   "id": "6224671d",
   "metadata": {
    "execution": {
     "iopub.execute_input": "2023-08-12T17:16:40.423720Z",
     "iopub.status.busy": "2023-08-12T17:16:40.423079Z",
     "iopub.status.idle": "2023-08-12T17:16:40.483523Z",
     "shell.execute_reply": "2023-08-12T17:16:40.482608Z"
    },
    "papermill": {
     "duration": 0.121812,
     "end_time": "2023-08-12T17:16:40.485234",
     "exception": false,
     "start_time": "2023-08-12T17:16:40.363422",
     "status": "completed"
    },
    "tags": []
   },
   "outputs": [
    {
     "name": "stdout",
     "output_type": "stream",
     "text": [
      "sentiment           NEGATIVE  POSITIVE\n",
      "isFrequentReviewer                    \n",
      "False                  35760     77429\n",
      "True                   18237     31332\n"
     ]
    },
    {
     "data": {
      "text/plain": [
       "Chi2ContingencyResult(statistic=419.89235425657796, pvalue=2.5755894769493255e-93, dof=1, expected_freq=array([[37551.86493444, 75637.13506556],\n",
       "       [16445.13506556, 33123.86493444]]))"
      ]
     },
     "execution_count": 11,
     "metadata": {},
     "output_type": "execute_result"
    }
   ],
   "source": [
    "# Chi-square test for isFrequentReviewer column and sentiment column   \n",
    "\n",
    "contingency_table = pd.crosstab(traindf['isFrequentReviewer'], traindf['sentiment'])\n",
    "print(contingency_table)\n",
    "stats.chi2_contingency(contingency_table)"
   ]
  },
  {
   "cell_type": "markdown",
   "id": "e41cc474",
   "metadata": {
    "papermill": {
     "duration": 0.058348,
     "end_time": "2023-08-12T17:16:40.602217",
     "exception": false,
     "start_time": "2023-08-12T17:16:40.543869",
     "status": "completed"
    },
    "tags": []
   },
   "source": [
    "### Separate features and labels  "
   ]
  },
  {
   "cell_type": "code",
   "execution_count": 12,
   "id": "e706e4a4",
   "metadata": {
    "execution": {
     "iopub.execute_input": "2023-08-12T17:16:40.720336Z",
     "iopub.status.busy": "2023-08-12T17:16:40.719734Z",
     "iopub.status.idle": "2023-08-12T17:16:40.726660Z",
     "shell.execute_reply": "2023-08-12T17:16:40.725278Z"
    },
    "papermill": {
     "duration": 0.068935,
     "end_time": "2023-08-12T17:16:40.728354",
     "exception": false,
     "start_time": "2023-08-12T17:16:40.659419",
     "status": "completed"
    },
    "tags": []
   },
   "outputs": [
    {
     "data": {
      "text/plain": [
       "((162758,), (162758,))"
      ]
     },
     "execution_count": 12,
     "metadata": {},
     "output_type": "execute_result"
    }
   ],
   "source": [
    "train_features = traindf[\"reviewText\"]\n",
    "train_labels = traindf.iloc[:, -1]\n",
    "train_features.shape, train_labels.shape"
   ]
  },
  {
   "cell_type": "markdown",
   "id": "84be6344",
   "metadata": {
    "papermill": {
     "duration": 0.058517,
     "end_time": "2023-08-12T17:16:40.846606",
     "exception": false,
     "start_time": "2023-08-12T17:16:40.788089",
     "status": "completed"
    },
    "tags": []
   },
   "source": [
    "### Split traindf into training and testing parts  "
   ]
  },
  {
   "cell_type": "code",
   "execution_count": 13,
   "id": "0a90b37e",
   "metadata": {
    "execution": {
     "iopub.execute_input": "2023-08-12T17:16:40.964208Z",
     "iopub.status.busy": "2023-08-12T17:16:40.963777Z",
     "iopub.status.idle": "2023-08-12T17:16:40.997686Z",
     "shell.execute_reply": "2023-08-12T17:16:40.996403Z"
    },
    "papermill": {
     "duration": 0.094984,
     "end_time": "2023-08-12T17:16:40.999705",
     "exception": false,
     "start_time": "2023-08-12T17:16:40.904721",
     "status": "completed"
    },
    "tags": []
   },
   "outputs": [
    {
     "data": {
      "text/plain": [
       "((122068,), (40690,), (122068,), (40690,))"
      ]
     },
     "execution_count": 13,
     "metadata": {},
     "output_type": "execute_result"
    }
   ],
   "source": [
    "X_train, X_test, y_train, y_test = train_test_split(train_features, train_labels, test_size=0.25, random_state=42)\n",
    "X_train.shape, X_test.shape, y_train.shape, y_test.shape"
   ]
  },
  {
   "cell_type": "markdown",
   "id": "e5d4ea20",
   "metadata": {
    "papermill": {
     "duration": 0.058334,
     "end_time": "2023-08-12T17:16:41.118436",
     "exception": false,
     "start_time": "2023-08-12T17:16:41.060102",
     "status": "completed"
    },
    "tags": []
   },
   "source": [
    "## Model evaluation plan and code  "
   ]
  },
  {
   "cell_type": "code",
   "execution_count": 14,
   "id": "9910ee06",
   "metadata": {
    "execution": {
     "iopub.execute_input": "2023-08-12T17:16:41.249405Z",
     "iopub.status.busy": "2023-08-12T17:16:41.248982Z",
     "iopub.status.idle": "2023-08-12T17:16:41.252771Z",
     "shell.execute_reply": "2023-08-12T17:16:41.252198Z"
    },
    "papermill": {
     "duration": 0.069494,
     "end_time": "2023-08-12T17:16:41.256242",
     "exception": false,
     "start_time": "2023-08-12T17:16:41.186748",
     "status": "completed"
    },
    "tags": []
   },
   "outputs": [],
   "source": [
    "# from sklearn.metrics import classification_report, confusion_matrix, ConfusionMatrixDisplay\n",
    "# from sklearn.metrics import f1_score"
   ]
  },
  {
   "cell_type": "code",
   "execution_count": 15,
   "id": "3754c00e",
   "metadata": {
    "execution": {
     "iopub.execute_input": "2023-08-12T17:16:41.382230Z",
     "iopub.status.busy": "2023-08-12T17:16:41.381482Z",
     "iopub.status.idle": "2023-08-12T17:16:41.385344Z",
     "shell.execute_reply": "2023-08-12T17:16:41.384629Z"
    },
    "papermill": {
     "duration": 0.06604,
     "end_time": "2023-08-12T17:16:41.387015",
     "exception": false,
     "start_time": "2023-08-12T17:16:41.320975",
     "status": "completed"
    },
    "tags": []
   },
   "outputs": [],
   "source": [
    "# def evaluate(y_test, y_pred):\n",
    "#     print(classification_report(y_test, y_pred))\n",
    "#     print(confusion_matrix(y_test, y_pred))\n",
    "#     # print(f1_score(y_test, y_pred))\n",
    "#     ConfusionMatrixDisplay(y_test, y_pred)\n",
    "#     return"
   ]
  },
  {
   "cell_type": "markdown",
   "id": "2ea3a865",
   "metadata": {
    "papermill": {
     "duration": 0.059735,
     "end_time": "2023-08-12T17:16:41.512210",
     "exception": false,
     "start_time": "2023-08-12T17:16:41.452475",
     "status": "completed"
    },
    "tags": []
   },
   "source": [
    "### Data preprocessing  "
   ]
  },
  {
   "cell_type": "markdown",
   "id": "8616c3d2",
   "metadata": {
    "papermill": {
     "duration": 0.059016,
     "end_time": "2023-08-12T17:16:41.630617",
     "exception": false,
     "start_time": "2023-08-12T17:16:41.571601",
     "status": "completed"
    },
    "tags": []
   },
   "source": [
    "`Define stop words`  "
   ]
  },
  {
   "cell_type": "code",
   "execution_count": 16,
   "id": "4afe3d03",
   "metadata": {
    "execution": {
     "iopub.execute_input": "2023-08-12T17:16:41.751393Z",
     "iopub.status.busy": "2023-08-12T17:16:41.750685Z",
     "iopub.status.idle": "2023-08-12T17:16:41.754352Z",
     "shell.execute_reply": "2023-08-12T17:16:41.753681Z"
    },
    "papermill": {
     "duration": 0.067593,
     "end_time": "2023-08-12T17:16:41.756667",
     "exception": false,
     "start_time": "2023-08-12T17:16:41.689074",
     "status": "completed"
    },
    "tags": []
   },
   "outputs": [],
   "source": [
    "# stop_words = [\"able\", \"about\", \"above\", \"abst\", \"ac\"]     # Deprecated  \n",
    "# type(stop_words), len(stop_words)"
   ]
  },
  {
   "cell_type": "markdown",
   "id": "d8a2cedd",
   "metadata": {
    "papermill": {
     "duration": 0.058114,
     "end_time": "2023-08-12T17:16:41.876801",
     "exception": false,
     "start_time": "2023-08-12T17:16:41.818687",
     "status": "completed"
    },
    "tags": []
   },
   "source": [
    "## Feature extraction  "
   ]
  },
  {
   "cell_type": "markdown",
   "id": "5f574b7e",
   "metadata": {
    "papermill": {
     "duration": 0.057498,
     "end_time": "2023-08-12T17:16:41.991860",
     "exception": false,
     "start_time": "2023-08-12T17:16:41.934362",
     "status": "completed"
    },
    "tags": []
   },
   "source": [
    "### Understand CountVectorizer and TfidfVectorizer  "
   ]
  },
  {
   "cell_type": "code",
   "execution_count": 17,
   "id": "6491440d",
   "metadata": {
    "execution": {
     "iopub.execute_input": "2023-08-12T17:16:42.112005Z",
     "iopub.status.busy": "2023-08-12T17:16:42.111484Z",
     "iopub.status.idle": "2023-08-12T17:16:42.114666Z",
     "shell.execute_reply": "2023-08-12T17:16:42.114000Z"
    },
    "papermill": {
     "duration": 0.064641,
     "end_time": "2023-08-12T17:16:42.116620",
     "exception": false,
     "start_time": "2023-08-12T17:16:42.051979",
     "status": "completed"
    },
    "tags": []
   },
   "outputs": [],
   "source": [
    "# text = X_train.copy()\n",
    "# text.head()"
   ]
  },
  {
   "cell_type": "code",
   "execution_count": 18,
   "id": "dc465dfc",
   "metadata": {
    "execution": {
     "iopub.execute_input": "2023-08-12T17:16:42.237100Z",
     "iopub.status.busy": "2023-08-12T17:16:42.236631Z",
     "iopub.status.idle": "2023-08-12T17:16:42.239682Z",
     "shell.execute_reply": "2023-08-12T17:16:42.239103Z"
    },
    "papermill": {
     "duration": 0.065382,
     "end_time": "2023-08-12T17:16:42.241899",
     "exception": false,
     "start_time": "2023-08-12T17:16:42.176517",
     "status": "completed"
    },
    "tags": []
   },
   "outputs": [],
   "source": [
    "# vectorizer = TfidfVectorizer(stop_words=stop_words)\n",
    "# vectorized_text = vectorizer.fit_transform(text[\"reviewText\"])\n",
    "# vectorized_text"
   ]
  },
  {
   "cell_type": "markdown",
   "id": "3f85436b",
   "metadata": {
    "papermill": {
     "duration": 0.058017,
     "end_time": "2023-08-12T17:16:42.358195",
     "exception": false,
     "start_time": "2023-08-12T17:16:42.300178",
     "status": "completed"
    },
    "tags": []
   },
   "source": [
    "`Without stop words`  \n",
    "<122068x58624 sparse matrix of type '<class 'numpy.float64'>'\n",
    "\twith 2312222 stored elements in Compressed Sparse Row format>\n",
    "\n",
    "`With stop words`  \n",
    "<122068x57784 sparse matrix of type '<class 'numpy.float64'>'\n",
    "\twith 1188395 stored elements in Compressed Sparse Row format>   "
   ]
  },
  {
   "cell_type": "code",
   "execution_count": 19,
   "id": "cbd30c6f",
   "metadata": {
    "execution": {
     "iopub.execute_input": "2023-08-12T17:16:42.478052Z",
     "iopub.status.busy": "2023-08-12T17:16:42.477718Z",
     "iopub.status.idle": "2023-08-12T17:16:42.481532Z",
     "shell.execute_reply": "2023-08-12T17:16:42.480577Z"
    },
    "papermill": {
     "duration": 0.066625,
     "end_time": "2023-08-12T17:16:42.483238",
     "exception": false,
     "start_time": "2023-08-12T17:16:42.416613",
     "status": "completed"
    },
    "tags": []
   },
   "outputs": [],
   "source": [
    "# vectorizer2 = CountVectorizer(stop_words=stop_words)\n",
    "# vectorized_text2 = vectorizer2.fit_transform(text[\"reviewText\"])\n",
    "# vectorized_text2"
   ]
  },
  {
   "cell_type": "markdown",
   "id": "94eedf25",
   "metadata": {
    "papermill": {
     "duration": 0.060213,
     "end_time": "2023-08-12T17:16:42.603519",
     "exception": false,
     "start_time": "2023-08-12T17:16:42.543306",
     "status": "completed"
    },
    "tags": []
   },
   "source": [
    "`Without stop words`  \n",
    "<122068x58624 sparse matrix of type '<class 'numpy.int64'>'\n",
    "\twith 2312222 stored elements in Compressed Sparse Row format>\n",
    "\n",
    "`With stop words`  \n",
    "<122068x57784 sparse matrix of type '<class 'numpy.int64'>'\n",
    "\twith 1188395 stored elements in Compressed Sparse Row format>"
   ]
  },
  {
   "cell_type": "markdown",
   "id": "941c1eb5",
   "metadata": {
    "papermill": {
     "duration": 0.058923,
     "end_time": "2023-08-12T17:16:42.720922",
     "exception": false,
     "start_time": "2023-08-12T17:16:42.661999",
     "status": "completed"
    },
    "tags": []
   },
   "source": [
    "### Conclusion   \n",
    "`TfidfVectorizer is equivalent to CountVectorizer followed by TfidfTransformer.`  \n",
    "\n",
    "https://scikit-learn.org/stable/modules/generated/sklearn.feature_extraction.text.TfidfVectorizer.html"
   ]
  },
  {
   "cell_type": "markdown",
   "id": "c3ea1f85",
   "metadata": {
    "papermill": {
     "duration": 0.05893,
     "end_time": "2023-08-12T17:16:42.838949",
     "exception": false,
     "start_time": "2023-08-12T17:16:42.780019",
     "status": "completed"
    },
    "tags": []
   },
   "source": [
    "## Model building workflow  \n",
    "\n",
    "`Make pipeline for preprocesing and model training and predictions`  \n"
   ]
  },
  {
   "cell_type": "code",
   "execution_count": 20,
   "id": "45e68d1e",
   "metadata": {
    "execution": {
     "iopub.execute_input": "2023-08-12T17:16:42.955746Z",
     "iopub.status.busy": "2023-08-12T17:16:42.955367Z",
     "iopub.status.idle": "2023-08-12T17:16:42.959647Z",
     "shell.execute_reply": "2023-08-12T17:16:42.958714Z"
    },
    "papermill": {
     "duration": 0.064713,
     "end_time": "2023-08-12T17:16:42.961284",
     "exception": false,
     "start_time": "2023-08-12T17:16:42.896571",
     "status": "completed"
    },
    "tags": []
   },
   "outputs": [],
   "source": [
    "# def preprocess_n_train(X_train, y_train, preprocessor, model):\n",
    "#     pipe = Pipeline(steps=[\n",
    "#                             (\"preprocessor\", preprocessor),\n",
    "#                             (\"model\", model)\n",
    "#                         ])\n",
    "    \n",
    "#     pipe.fit(X_train, y_train)\n",
    "\n",
    "#     print(\"Given model has been trained. Use predict method to get predictions array.\")\n",
    "#     return pipe\n",
    "\n",
    "\n",
    "# def predict_n_evaluate(pipeline, X_test, y_test):\n",
    "#     y_pred = pipeline.predict(X_test)\n",
    "#     print(f\"y_pred shape: {y_pred.shape}\")\n",
    "#     print(f\"Summary of predictions: {np.unique(y_pred, return_counts=True)}\")\n",
    "#     print(classification_report(y_test, y_pred))\n",
    "#     print(confusion_matrix(y_test, y_pred))\n",
    "#     return y_pred"
   ]
  },
  {
   "cell_type": "markdown",
   "id": "c44bf414",
   "metadata": {
    "papermill": {
     "duration": 0.05931,
     "end_time": "2023-08-12T17:16:43.078381",
     "exception": false,
     "start_time": "2023-08-12T17:16:43.019071",
     "status": "completed"
    },
    "tags": []
   },
   "source": [
    "## Building 3 basic models  "
   ]
  },
  {
   "cell_type": "markdown",
   "id": "927e199d",
   "metadata": {
    "papermill": {
     "duration": 0.059001,
     "end_time": "2023-08-12T17:16:43.196756",
     "exception": false,
     "start_time": "2023-08-12T17:16:43.137755",
     "status": "completed"
    },
    "tags": []
   },
   "source": [
    "### Text preprocessors  "
   ]
  },
  {
   "cell_type": "code",
   "execution_count": 21,
   "id": "5b3db87f",
   "metadata": {
    "execution": {
     "iopub.execute_input": "2023-08-12T17:16:43.316039Z",
     "iopub.status.busy": "2023-08-12T17:16:43.315641Z",
     "iopub.status.idle": "2023-08-12T17:16:43.320003Z",
     "shell.execute_reply": "2023-08-12T17:16:43.318676Z"
    },
    "papermill": {
     "duration": 0.066289,
     "end_time": "2023-08-12T17:16:43.321830",
     "exception": false,
     "start_time": "2023-08-12T17:16:43.255541",
     "status": "completed"
    },
    "tags": []
   },
   "outputs": [],
   "source": [
    "# tvec = TfidfVectorizer()\n",
    "# cvec = CountVectorizer()        # Note that TfidfVectorizer and CountVectorizer+TfidsTransformer do the same function\n",
    "# tvec, cvec"
   ]
  },
  {
   "cell_type": "markdown",
   "id": "6b64f240",
   "metadata": {
    "papermill": {
     "duration": 0.060051,
     "end_time": "2023-08-12T17:16:43.439509",
     "exception": false,
     "start_time": "2023-08-12T17:16:43.379458",
     "status": "completed"
    },
    "tags": []
   },
   "source": [
    "### Logistic Regression with TfidVectorizer for preprocessing  "
   ]
  },
  {
   "cell_type": "code",
   "execution_count": 22,
   "id": "feb55fd4",
   "metadata": {
    "execution": {
     "iopub.execute_input": "2023-08-12T17:16:43.560345Z",
     "iopub.status.busy": "2023-08-12T17:16:43.559989Z",
     "iopub.status.idle": "2023-08-12T17:16:43.564596Z",
     "shell.execute_reply": "2023-08-12T17:16:43.563470Z"
    },
    "papermill": {
     "duration": 0.067024,
     "end_time": "2023-08-12T17:16:43.566354",
     "exception": false,
     "start_time": "2023-08-12T17:16:43.499330",
     "status": "completed"
    },
    "tags": []
   },
   "outputs": [],
   "source": [
    "# logreg = LogisticRegression(max_iter=1000)\n",
    "# logreg_pipe = preprocess_n_train(X_train, y_train, tvec, logreg)\n",
    "# y_pred_logreg = predict_n_evaluate(logreg_pipe, X_test, y_test)\n",
    "# y_pred_logreg"
   ]
  },
  {
   "cell_type": "markdown",
   "id": "7ae39d90",
   "metadata": {
    "papermill": {
     "duration": 0.113415,
     "end_time": "2023-08-12T17:16:43.737877",
     "exception": false,
     "start_time": "2023-08-12T17:16:43.624462",
     "status": "completed"
    },
    "tags": []
   },
   "source": [
    "### SVM model  "
   ]
  },
  {
   "cell_type": "code",
   "execution_count": 23,
   "id": "af7d6405",
   "metadata": {
    "execution": {
     "iopub.execute_input": "2023-08-12T17:16:43.861251Z",
     "iopub.status.busy": "2023-08-12T17:16:43.860319Z",
     "iopub.status.idle": "2023-08-12T17:16:43.865708Z",
     "shell.execute_reply": "2023-08-12T17:16:43.864534Z"
    },
    "papermill": {
     "duration": 0.068739,
     "end_time": "2023-08-12T17:16:43.867949",
     "exception": false,
     "start_time": "2023-08-12T17:16:43.799210",
     "status": "completed"
    },
    "tags": []
   },
   "outputs": [],
   "source": [
    "# svm = LinearSVC()\n",
    "# svm_pipe = preprocess_n_train(X_train, y_train, tvec, svm)\n",
    "# y_pred_svm = predict_n_evaluate(svm_pipe, X_test, y_test)\n",
    "# y_pred_svm"
   ]
  },
  {
   "cell_type": "markdown",
   "id": "a0cda31c",
   "metadata": {
    "papermill": {
     "duration": 0.058856,
     "end_time": "2023-08-12T17:16:43.986668",
     "exception": false,
     "start_time": "2023-08-12T17:16:43.927812",
     "status": "completed"
    },
    "tags": []
   },
   "source": [
    "### Naive Bayes model  "
   ]
  },
  {
   "cell_type": "markdown",
   "id": "3e42ad2b",
   "metadata": {
    "papermill": {
     "duration": 0.058998,
     "end_time": "2023-08-12T17:16:44.104022",
     "exception": false,
     "start_time": "2023-08-12T17:16:44.045024",
     "status": "completed"
    },
    "tags": []
   },
   "source": [
    "#### MultinomialNB  "
   ]
  },
  {
   "cell_type": "code",
   "execution_count": 24,
   "id": "90d859a7",
   "metadata": {
    "execution": {
     "iopub.execute_input": "2023-08-12T17:16:44.225253Z",
     "iopub.status.busy": "2023-08-12T17:16:44.224882Z",
     "iopub.status.idle": "2023-08-12T17:16:44.228512Z",
     "shell.execute_reply": "2023-08-12T17:16:44.227665Z"
    },
    "papermill": {
     "duration": 0.065636,
     "end_time": "2023-08-12T17:16:44.230281",
     "exception": false,
     "start_time": "2023-08-12T17:16:44.164645",
     "status": "completed"
    },
    "tags": []
   },
   "outputs": [],
   "source": [
    "# mnb = MultinomialNB()\n",
    "# mnb_pipe = preprocess_n_train(X_train, y_train, tvec, mnb)\n",
    "# y_pred_mnb = predict_n_evaluate(mnb_pipe, X_test, y_test)\n",
    "# y_pred_mnb"
   ]
  },
  {
   "cell_type": "markdown",
   "id": "68916bbe",
   "metadata": {
    "papermill": {
     "duration": 0.062557,
     "end_time": "2023-08-12T17:16:44.353182",
     "exception": false,
     "start_time": "2023-08-12T17:16:44.290625",
     "status": "completed"
    },
    "tags": []
   },
   "source": [
    "## Submitting predictions to Kaggle competition  "
   ]
  },
  {
   "cell_type": "code",
   "execution_count": 25,
   "id": "e36ac6da",
   "metadata": {
    "execution": {
     "iopub.execute_input": "2023-08-12T17:16:44.470785Z",
     "iopub.status.busy": "2023-08-12T17:16:44.470483Z",
     "iopub.status.idle": "2023-08-12T17:16:44.474950Z",
     "shell.execute_reply": "2023-08-12T17:16:44.473635Z"
    },
    "papermill": {
     "duration": 0.067052,
     "end_time": "2023-08-12T17:16:44.477528",
     "exception": false,
     "start_time": "2023-08-12T17:16:44.410476",
     "status": "completed"
    },
    "tags": []
   },
   "outputs": [],
   "source": [
    "# def submit(selected_model=logreg, selected_preprocessor=tvec):\n",
    "    \n",
    "#     # Retrain on the whole train.csv file  \n",
    "#     traindf = pd.read_csv(\"/kaggle/input/sentiment-prediction-on-movie-reviews/train.csv\")\n",
    "#     X_train = traindf[\"reviewText\"]\n",
    "#     X_train.fillna(\"empty\", inplace=True)\n",
    "#     y_train = traindf[\"sentiment\"]\n",
    "#     pipe = preprocess_n_train(X_train, y_train, selected_preprocessor, selected_model)\n",
    "    \n",
    "#     # Predict on test.csv file\n",
    "#     testdf = pd.read_csv(\"/kaggle/input/sentiment-prediction-on-movie-reviews/test.csv\")\n",
    "#     X_test = testdf[\"reviewText\"]\n",
    "#     X_test.fillna(\"empty\", inplace=True)\n",
    "    \n",
    "#     y_pred = pipe.predict(X_test)\n",
    "    \n",
    "#     pred_df = pd.DataFrame(y_pred)\n",
    "#     pred_df.columns = [\"sentiment\"]\n",
    "#     pred_df.index.name = \"id\"\n",
    "#     pred_df.to_csv(\"submission.csv\")\n",
    "    \n",
    "#     return \"Successfully created the submission file!!!\""
   ]
  },
  {
   "cell_type": "code",
   "execution_count": 26,
   "id": "cfaad1f7",
   "metadata": {
    "execution": {
     "iopub.execute_input": "2023-08-12T17:16:44.599491Z",
     "iopub.status.busy": "2023-08-12T17:16:44.599140Z",
     "iopub.status.idle": "2023-08-12T17:16:44.603531Z",
     "shell.execute_reply": "2023-08-12T17:16:44.602400Z"
    },
    "papermill": {
     "duration": 0.066993,
     "end_time": "2023-08-12T17:16:44.605458",
     "exception": false,
     "start_time": "2023-08-12T17:16:44.538465",
     "status": "completed"
    },
    "tags": []
   },
   "outputs": [],
   "source": [
    "# submit(logreg_cv1, tvec_cv1)"
   ]
  },
  {
   "cell_type": "markdown",
   "id": "050420e0",
   "metadata": {
    "papermill": {
     "duration": 0.058451,
     "end_time": "2023-08-12T17:16:44.722675",
     "exception": false,
     "start_time": "2023-08-12T17:16:44.664224",
     "status": "completed"
    },
    "tags": []
   },
   "source": [
    "# PART II  "
   ]
  },
  {
   "cell_type": "markdown",
   "id": "173e932d",
   "metadata": {
    "papermill": {
     "duration": 0.059099,
     "end_time": "2023-08-12T17:16:44.841855",
     "exception": false,
     "start_time": "2023-08-12T17:16:44.782756",
     "status": "completed"
    },
    "tags": []
   },
   "source": [
    "## Merge \"movies.csv\" with \"train.csv\" and \"test.csv\"  "
   ]
  },
  {
   "cell_type": "markdown",
   "id": "ef7b04da",
   "metadata": {
    "papermill": {
     "duration": 0.0584,
     "end_time": "2023-08-12T17:16:44.958820",
     "exception": false,
     "start_time": "2023-08-12T17:16:44.900420",
     "status": "completed"
    },
    "tags": []
   },
   "source": [
    "### Helper functions  "
   ]
  },
  {
   "cell_type": "code",
   "execution_count": 27,
   "id": "a244aa45",
   "metadata": {
    "execution": {
     "iopub.execute_input": "2023-08-12T17:16:45.079532Z",
     "iopub.status.busy": "2023-08-12T17:16:45.079224Z",
     "iopub.status.idle": "2023-08-12T17:16:45.083636Z",
     "shell.execute_reply": "2023-08-12T17:16:45.082769Z"
    },
    "papermill": {
     "duration": 0.068168,
     "end_time": "2023-08-12T17:16:45.085463",
     "exception": false,
     "start_time": "2023-08-12T17:16:45.017295",
     "status": "completed"
    },
    "tags": []
   },
   "outputs": [],
   "source": [
    "# Helper function for loading files  \n",
    "\n",
    "def load_csv(filename: str):\n",
    "    if platform == \"vscode\":\n",
    "        df = pd.read_csv(f\"data/{filename}.csv\")\n",
    "    else:\n",
    "        df = pd.read_csv(f\"/kaggle/input/sentiment-prediction-on-movie-reviews/{filename}.csv\")\n",
    "        \n",
    "    return df"
   ]
  },
  {
   "cell_type": "code",
   "execution_count": 28,
   "id": "fdf27c02",
   "metadata": {
    "execution": {
     "iopub.execute_input": "2023-08-12T17:16:45.205358Z",
     "iopub.status.busy": "2023-08-12T17:16:45.205029Z",
     "iopub.status.idle": "2023-08-12T17:16:45.210705Z",
     "shell.execute_reply": "2023-08-12T17:16:45.209104Z"
    },
    "papermill": {
     "duration": 0.069203,
     "end_time": "2023-08-12T17:16:45.213107",
     "exception": false,
     "start_time": "2023-08-12T17:16:45.143904",
     "status": "completed"
    },
    "tags": []
   },
   "outputs": [],
   "source": [
    "def inspect(df: pd.DataFrame):\n",
    "    print(f\"Shape of the dataframe: {df.shape}\")\n",
    "    print()\n",
    "    print(f\"Columns in the dataframe:\\n{df.columns}\")\n",
    "    print()\n",
    "    print(f\"{df.info()}\")\n",
    "    print()\n",
    "    # print(f\"Summary: {df.describe()}\")\n",
    "    print(f\"Missing values:\\n{df.isna().sum()}\")\n",
    "    return"
   ]
  },
  {
   "cell_type": "code",
   "execution_count": 29,
   "id": "0432bb57",
   "metadata": {
    "execution": {
     "iopub.execute_input": "2023-08-12T17:16:45.333760Z",
     "iopub.status.busy": "2023-08-12T17:16:45.333391Z",
     "iopub.status.idle": "2023-08-12T17:16:45.338278Z",
     "shell.execute_reply": "2023-08-12T17:16:45.337301Z"
    },
    "papermill": {
     "duration": 0.067481,
     "end_time": "2023-08-12T17:16:45.340108",
     "exception": false,
     "start_time": "2023-08-12T17:16:45.272627",
     "status": "completed"
    },
    "tags": []
   },
   "outputs": [],
   "source": [
    "def name_fl(name):\n",
    "    l = name.split()\n",
    "    n = ' '.join((l[0], l[-1]))\n",
    "    return n"
   ]
  },
  {
   "cell_type": "code",
   "execution_count": 30,
   "id": "9d208c3d",
   "metadata": {
    "execution": {
     "iopub.execute_input": "2023-08-12T17:16:45.460022Z",
     "iopub.status.busy": "2023-08-12T17:16:45.459685Z",
     "iopub.status.idle": "2023-08-12T17:16:45.478969Z",
     "shell.execute_reply": "2023-08-12T17:16:45.477986Z"
    },
    "papermill": {
     "duration": 0.081776,
     "end_time": "2023-08-12T17:16:45.481043",
     "exception": false,
     "start_time": "2023-08-12T17:16:45.399267",
     "status": "completed"
    },
    "tags": []
   },
   "outputs": [],
   "source": [
    "def select_features(df: pd.DataFrame, moviesdf: pd.DataFrame, row_thresh_null=None):\n",
    "    '''\n",
    "    This function merges the given dataframes. Note that the first df must be \"train\" or \"test\" and\n",
    "    the second df should be \"movies\".\n",
    "    Note: Sentiment column is present only in \"train.csv\" file and not \"test.csv\" file.\n",
    "    '''\n",
    "    \n",
    "    # Drop duplicates from moviesdf\n",
    "#     movies_unique = moviesdf.drop_duplicates(subset=[\"movieid\"])\n",
    "\n",
    "    # Drop duplicates using groupby - clubs similar rows and fills in missing values better\n",
    "    movies_unique = moviesdf.fillna(value=np.nan).groupby(\"movieid\").first().reset_index()\n",
    "    \n",
    "\n",
    "    # Handle missing values in movies.csv better than just dropping duplicates?\n",
    "#     movies_unique = moviesdf.copy()\n",
    "#     movies_unique[[\"audienceScore\", \"runtimeMinutes\"]] = movies_unique[[\"audienceScore\", \"runtimeMinutes\"]].interpolate(method='linear', axis=0)\n",
    "#     movies_unique = movies_unique.fillna(value=np.nan).groupby(\"movieid\").first().fillna(method='ffill').reset_index()\n",
    "\n",
    "    \n",
    "\n",
    "    # Merge df and movies_unique\n",
    "    df_merged = pd.merge(df, movies_unique, on=\"movieid\", how='left')\n",
    "    \n",
    "    # Rename \"isTopCritic\" column, if it exists, to \"isFrequentReviewer\"\n",
    "    df_merged.rename(columns={\"isTopCritic\": \"isFrequentReviewer\"}, inplace=True)\n",
    "    \n",
    "    # Drop columns\n",
    "#     df_merged = df_merged.drop(columns=[\"title\", \"ratingContents\", \"releaseDateTheaters\", \"releaseDateStreaming\", \"distributor\", \"soundType\"])\n",
    "#     df_merged = df_merged.drop(columns=[\"title\", \"soundType\"])\n",
    "    \n",
    "    # Drop rows (OPTIONAL: Uses kwarg row_thresh_null)\n",
    "    if row_thresh_null != None:\n",
    "        df_merged.dropna(axis=0, thresh=(df_merged.shape[1] - row_thresh_null), inplace=True)\n",
    "        \n",
    "\n",
    "    # Create new columns based on reviewText\n",
    "    final = df_merged.copy()\n",
    "    final[\"reviewYN\"] = np.where(final[\"reviewText\"].isnull(), 1, 0)    # Feature engineering - adding a new column\n",
    "    final[\"reviewWC\"] = final.apply(lambda x: len(str(x[\"reviewText\"]).split()), axis=1)    # Feature engineering - adding second new column\n",
    "    \n",
    "    # Clean text (replace numbers with empty string) and fill missing values in \"reviewText\" with empty string\n",
    "    final[\"reviewText\"] = final[\"reviewText\"].str.replace('\\d+', '', regex=True)\n",
    "    final[\"reviewText\"] = final[\"reviewText\"].fillna(\"neutral\")\n",
    "    \n",
    "    # Fill missing values in \"rating\", \"genre\", original columns with the word \"unknown\"\n",
    "    final[\"rating\"] = final[\"rating\"].fillna(\"unknown\")\n",
    "    final[\"originalLanguage\"] = final[\"originalLanguage\"].fillna(\"unknown\")\n",
    "    final[\"genre\"] = final[\"genre\"].fillna(\"unknown\")\n",
    "    final[\"genre\"] = final[\"genre\"].apply(lambda x: re.sub(r\"-\", \"\", x))\n",
    "    final[\"genreSorted\"] = final[\"genre\"].apply(lambda x: (\",\").join(sorted(x.split(\", \"))))\n",
    "#     final[\"genre\"] = final[\"genre\"].replace(to_replace={\"&\": \"\"})\n",
    "\n",
    "    # Impute missing values for \"audienceScore\" and \"runtimeMinutes\" columns\n",
    "#     final[\"audienceScore\"] = final[\"audienceScore\"].fillna(final[\"audienceScore\"].mean())        # MOVED\n",
    "#     final[\"runtimeMinutes\"] = final[\"runtimeMinutes\"].fillna(final[\"runtimeMinutes\"].median())   # MOVED\n",
    "    \n",
    "    # Preprocess and impute missing values in \"boxOffice\" column\n",
    "    final[\"boxOffice\"] = final[\"boxOffice\"].str[1:]\n",
    "    final[\"boxOffice\"] = final[\"boxOffice\"].replace(to_replace={\"M\": \"*1000000\", \"K\": \"*1000\"}, regex=True)\n",
    "    final[\"boxOffice\"] = final[\"boxOffice\"].loc[final[\"boxOffice\"].notnull()].apply(lambda x: eval(str(x)))\n",
    "#     final[\"boxOffice\"] = final[\"boxOffice\"].fillna(final[\"boxOffice\"].median())                  # MOVED\n",
    "    # (Optional) Replace outliers in boxOffice with median\n",
    "#     median = final[\"boxOffice\"].describe()['50%']\n",
    "#     iqr = final[\"boxOffice\"].describe()['75%'] - final[\"boxOffice\"].describe()['25%']\n",
    "#     ll = median - (1.5*iqr)\n",
    "#     ul = median + (1.5*iqr)\n",
    "#     final.loc[final[\"boxOffice\"] > ul, \"boxOffice\"] = median\n",
    "    \n",
    "    # Clean language names\n",
    "    final[\"originalLanguage\"].replace({\"English (United Kingdom)\": \"English\", \n",
    "                                            \"English (Australia)\" : \"English\",\n",
    "                                            \"French (France)\": \"French\", \n",
    "                                            \"French (Canada)\": \"French\",\n",
    "                                            \"Portuguese (Brazil)\": \"Portuguese\",\n",
    "                                            \"Spanish (Spain)\": \"Spanish\"},                                         \n",
    "                                            inplace=True)\n",
    "    \n",
    "    # Clean reviewerName column\n",
    "    pre_post_fixes = {\"Mr. \": \"\", \"Mrs. \": \"\", \"Ms. \": \"\", \"Dr. \": \"\", \n",
    "                      \" MD\": \"\", \" DDS\": \"\", \" DVM\": \"\", \" Jr.\": \"\", \" PhD\": \"\", \" II\": \"\", \" IV\": \"\"}\n",
    "    final[\"reviewerName\"] = final[\"reviewerName\"].replace(pre_post_fixes, regex=True)\n",
    "    final[\"reviewerName\"] = final[\"reviewerName\"].apply(name_fl)\n",
    "    \n",
    "    # Handle 'ratingContents' column\n",
    "    final[\"ratingContents\"] = final[\"ratingContents\"].fillna(\"neutral\")\n",
    "    final[\"rcSorted\"] = final[\"ratingContents\"].apply(lambda x: (\",\").join(sorted(x.strip(\"][\").split(\", \"))))\n",
    "    final[\"rcSorted\"] = final[\"rcSorted\"].apply(lambda x: re.sub(r\"'\", \"\", x))\n",
    "    final[\"rcSorted\"] = final[\"rcSorted\"].apply(lambda x: re.sub(r\"[/\\s]\", \"_\", x))  \n",
    "    \n",
    "    # Handle 'ratingContents' column\n",
    "    final[\"distributor\"] = final[\"distributor\"].fillna(\"unknown\")\n",
    "    \n",
    "    # Work with 'releaseDateTheaters', releaseDateStreaming column\n",
    "    final[[\"releaseDateTheaters\", \"releaseDateStreaming\"]] = final[[\"releaseDateTheaters\", \"releaseDateStreaming\"]].astype('datetime64[ns]')\n",
    "\n",
    "    final[\"releaseDate\"] = final[[\"releaseDateTheaters\", \"releaseDateStreaming\"]].min(axis=1, skipna=False)\n",
    "#     final[\"releaseDate\"] = final[\"releaseDate\"].fillna(final[\"releaseDate\"].median())               # MOVED\n",
    "\n",
    "    final[\"releaseYear\"] = final[\"releaseDate\"].dt.year\n",
    "    final[\"releaseMonth\"] = final[\"releaseDate\"].dt.month\n",
    "    \n",
    "    # Compute \"releaseDiff\" column and fill missing values in \"releaseDiff\" and (optional) replace outliers\n",
    "    final[\"releaseDiff\"] = (final[\"releaseDateStreaming\"] - final[\"releaseDateTheaters\"]) / np.timedelta64(1, 'D')\n",
    "    final[\"releaseDiff\"] = final[\"releaseDiff\"].apply(lambda x: abs(x))\n",
    "    final[\"releaseDiff\"] = final[\"releaseDiff\"].fillna(value=0)\n",
    "#     final[\"releaseDiff\"] = final[\"releaseDiff\"].fillna(final[\"releaseDiff\"].median())\n",
    "    # median = final[\"releaseDiff\"].describe()['50%']\n",
    "    # iqr = final[\"releaseDiff\"].describe()['75%'] - final[\"releaseDiff\"].describe()['25%']\n",
    "    # ll = median - (1.5*iqr)\n",
    "    # ul = median + (1.5*iqr)\n",
    "    # final.loc[final[\"releaseDiff\"] > ul, \"releaseDiff\"] = median\n",
    "    # final.loc[final[\"releaseDiff\"] < ll, \"releaseDiff\"] = median\n",
    "    \n",
    "#     # Create new feature columns\n",
    "    \n",
    "#     # Convert audienceScore to categories  \n",
    "#     num_bins_as = 20\n",
    "#     final[\"audScoreBins\"] = pd.cut(final['audienceScore'], bins=num_bins_as, labels=False)\n",
    "    \n",
    "#     # Convert runtimeMinutes to categories  \n",
    "# #     num_bins_rt = 20\n",
    "#     final[\"runtimeBins\"] = pd.cut(final['runtimeMinutes'], bins=[0,75,120,180,565], labels=[4,3,2,1])\n",
    "    \n",
    "#     # Convert boxOffice to categories  \n",
    "#     num_bins_bo = 5\n",
    "#     final[\"boxOfficeBins\"] = pd.cut(final['boxOffice'], bins=num_bins_bo, labels=False)\n",
    "    \n",
    "#     # Convert releaseDiff to categories  \n",
    "#     num_bins_rd = 5\n",
    "#     final[\"releaseDiffBins\"] = pd.cut(final['releaseDiff'], bins=[-1, 180, 360, 1000, 40000], labels=[0, 1, 2, 3])\n",
    "\n",
    "    return final"
   ]
  },
  {
   "cell_type": "code",
   "execution_count": 31,
   "id": "f1cffbe9",
   "metadata": {
    "execution": {
     "iopub.execute_input": "2023-08-12T17:16:45.598006Z",
     "iopub.status.busy": "2023-08-12T17:16:45.597622Z",
     "iopub.status.idle": "2023-08-12T17:16:45.603376Z",
     "shell.execute_reply": "2023-08-12T17:16:45.602338Z"
    },
    "papermill": {
     "duration": 0.066588,
     "end_time": "2023-08-12T17:16:45.604872",
     "exception": false,
     "start_time": "2023-08-12T17:16:45.538284",
     "status": "completed"
    },
    "tags": []
   },
   "outputs": [],
   "source": [
    "def split_train_predict(features, labels, pipeline, test_size=0.25, random_state=42):\n",
    "    # cols = features.columns\n",
    "    if len(features.shape) == 1:\n",
    "        features = features.to_numpy().reshape(-1, 1)  # reshape to 2D array\n",
    "    features = pd.DataFrame(features)\n",
    "    X_train, X_test, y_train, y_test = train_test_split(features, labels, test_size=test_size, random_state=random_state)\n",
    "    pipeline.fit(X_train, y_train)\n",
    "    y_pred = pipeline.predict(X_test)\n",
    "    print(classification_report(y_test, y_pred))\n",
    "    print(confusion_matrix(y_test, y_pred))\n",
    "    return pipeline"
   ]
  },
  {
   "cell_type": "markdown",
   "id": "bacfb879",
   "metadata": {
    "papermill": {
     "duration": 0.056243,
     "end_time": "2023-08-12T17:16:45.718700",
     "exception": false,
     "start_time": "2023-08-12T17:16:45.662457",
     "status": "completed"
    },
    "tags": []
   },
   "source": [
    "### Merge \"train.csv\" file with \"movies.csv\" file  "
   ]
  },
  {
   "cell_type": "code",
   "execution_count": 32,
   "id": "c85b8af2",
   "metadata": {
    "execution": {
     "iopub.execute_input": "2023-08-12T17:16:45.837386Z",
     "iopub.status.busy": "2023-08-12T17:16:45.837056Z",
     "iopub.status.idle": "2023-08-12T17:16:54.055935Z",
     "shell.execute_reply": "2023-08-12T17:16:54.054651Z"
    },
    "papermill": {
     "duration": 8.280751,
     "end_time": "2023-08-12T17:16:54.058591",
     "exception": false,
     "start_time": "2023-08-12T17:16:45.777840",
     "status": "completed"
    },
    "tags": []
   },
   "outputs": [],
   "source": [
    "merged = select_features(load_csv(\"train\"), load_csv(\"movies\"), row_thresh_null=None)"
   ]
  },
  {
   "cell_type": "code",
   "execution_count": 33,
   "id": "9e323d88",
   "metadata": {
    "execution": {
     "iopub.execute_input": "2023-08-12T17:16:54.181061Z",
     "iopub.status.busy": "2023-08-12T17:16:54.180709Z",
     "iopub.status.idle": "2023-08-12T17:16:54.185658Z",
     "shell.execute_reply": "2023-08-12T17:16:54.184500Z"
    },
    "papermill": {
     "duration": 0.070333,
     "end_time": "2023-08-12T17:16:54.188311",
     "exception": false,
     "start_time": "2023-08-12T17:16:54.117978",
     "status": "completed"
    },
    "tags": []
   },
   "outputs": [],
   "source": [
    "# inspect(merged)    # Note missing values in ['audienceScore', 'runtimeMinutes', 'boxOffice'] columns  "
   ]
  },
  {
   "cell_type": "code",
   "execution_count": 34,
   "id": "3c5b8d0c",
   "metadata": {
    "execution": {
     "iopub.execute_input": "2023-08-12T17:16:54.309522Z",
     "iopub.status.busy": "2023-08-12T17:16:54.309137Z",
     "iopub.status.idle": "2023-08-12T17:16:54.382505Z",
     "shell.execute_reply": "2023-08-12T17:16:54.381638Z"
    },
    "papermill": {
     "duration": 0.13678,
     "end_time": "2023-08-12T17:16:54.384213",
     "exception": false,
     "start_time": "2023-08-12T17:16:54.247433",
     "status": "completed"
    },
    "tags": []
   },
   "outputs": [
    {
     "data": {
      "text/plain": [
       "array([6.80e+01, 1.04e+02, 1.43e+07])"
      ]
     },
     "execution_count": 34,
     "metadata": {},
     "output_type": "execute_result"
    }
   ],
   "source": [
    "# Simple Imputer for ['audienceScore', 'runtimeMinutes', 'boxOffice'] columns\n",
    "si = SimpleImputer(strategy='median')\n",
    "merged[['audienceScore', 'runtimeMinutes', 'boxOffice']] = si.fit_transform(merged[['audienceScore', 'runtimeMinutes', 'boxOffice']])\n",
    "si.statistics_"
   ]
  },
  {
   "cell_type": "code",
   "execution_count": 35,
   "id": "ac357083",
   "metadata": {
    "execution": {
     "iopub.execute_input": "2023-08-12T17:16:54.506675Z",
     "iopub.status.busy": "2023-08-12T17:16:54.506334Z",
     "iopub.status.idle": "2023-08-12T17:16:54.518525Z",
     "shell.execute_reply": "2023-08-12T17:16:54.516941Z"
    },
    "papermill": {
     "duration": 0.077574,
     "end_time": "2023-08-12T17:16:54.521073",
     "exception": false,
     "start_time": "2023-08-12T17:16:54.443499",
     "status": "completed"
    },
    "tags": []
   },
   "outputs": [],
   "source": [
    "# Fill 'releaseDate' column with median  \n",
    "merged['releaseDate'] = merged[\"releaseDate\"].fillna(merged[\"releaseDate\"].median())"
   ]
  },
  {
   "cell_type": "code",
   "execution_count": 36,
   "id": "954897d3",
   "metadata": {
    "execution": {
     "iopub.execute_input": "2023-08-12T17:16:54.640355Z",
     "iopub.status.busy": "2023-08-12T17:16:54.639998Z",
     "iopub.status.idle": "2023-08-12T17:16:55.308312Z",
     "shell.execute_reply": "2023-08-12T17:16:55.307017Z"
    },
    "papermill": {
     "duration": 0.729875,
     "end_time": "2023-08-12T17:16:55.310184",
     "exception": false,
     "start_time": "2023-08-12T17:16:54.580309",
     "status": "completed"
    },
    "tags": []
   },
   "outputs": [
    {
     "name": "stdout",
     "output_type": "stream",
     "text": [
      "Shape of the dataframe: (162758, 26)\n",
      "\n",
      "Columns in the dataframe:\n",
      "Index(['movieid', 'reviewerName', 'isFrequentReviewer', 'reviewText',\n",
      "       'sentiment', 'title', 'audienceScore', 'rating', 'ratingContents',\n",
      "       'releaseDateTheaters', 'releaseDateStreaming', 'runtimeMinutes',\n",
      "       'genre', 'originalLanguage', 'director', 'boxOffice', 'distributor',\n",
      "       'soundType', 'reviewYN', 'reviewWC', 'genreSorted', 'rcSorted',\n",
      "       'releaseDate', 'releaseYear', 'releaseMonth', 'releaseDiff'],\n",
      "      dtype='object')\n",
      "\n",
      "<class 'pandas.core.frame.DataFrame'>\n",
      "Int64Index: 162758 entries, 0 to 162757\n",
      "Data columns (total 26 columns):\n",
      " #   Column                Non-Null Count   Dtype         \n",
      "---  ------                --------------   -----         \n",
      " 0   movieid               162758 non-null  object        \n",
      " 1   reviewerName          162758 non-null  object        \n",
      " 2   isFrequentReviewer    162758 non-null  bool          \n",
      " 3   reviewText            162758 non-null  object        \n",
      " 4   sentiment             162758 non-null  object        \n",
      " 5   title                 162758 non-null  object        \n",
      " 6   audienceScore         162758 non-null  float64       \n",
      " 7   rating                162758 non-null  object        \n",
      " 8   ratingContents        162758 non-null  object        \n",
      " 9   releaseDateTheaters   146403 non-null  datetime64[ns]\n",
      " 10  releaseDateStreaming  157353 non-null  datetime64[ns]\n",
      " 11  runtimeMinutes        162758 non-null  float64       \n",
      " 12  genre                 162758 non-null  object        \n",
      " 13  originalLanguage      162758 non-null  object        \n",
      " 14  director              162758 non-null  object        \n",
      " 15  boxOffice             162758 non-null  float64       \n",
      " 16  distributor           162758 non-null  object        \n",
      " 17  soundType             93466 non-null   object        \n",
      " 18  reviewYN              162758 non-null  int64         \n",
      " 19  reviewWC              162758 non-null  int64         \n",
      " 20  genreSorted           162758 non-null  object        \n",
      " 21  rcSorted              162758 non-null  object        \n",
      " 22  releaseDate           162758 non-null  datetime64[ns]\n",
      " 23  releaseYear           143073 non-null  float64       \n",
      " 24  releaseMonth          143073 non-null  float64       \n",
      " 25  releaseDiff           162758 non-null  float64       \n",
      "dtypes: bool(1), datetime64[ns](3), float64(6), int64(2), object(14)\n",
      "memory usage: 32.4+ MB\n",
      "None\n",
      "\n",
      "Missing values:\n",
      "movieid                     0\n",
      "reviewerName                0\n",
      "isFrequentReviewer          0\n",
      "reviewText                  0\n",
      "sentiment                   0\n",
      "title                       0\n",
      "audienceScore               0\n",
      "rating                      0\n",
      "ratingContents              0\n",
      "releaseDateTheaters     16355\n",
      "releaseDateStreaming     5405\n",
      "runtimeMinutes              0\n",
      "genre                       0\n",
      "originalLanguage            0\n",
      "director                    0\n",
      "boxOffice                   0\n",
      "distributor                 0\n",
      "soundType               69292\n",
      "reviewYN                    0\n",
      "reviewWC                    0\n",
      "genreSorted                 0\n",
      "rcSorted                    0\n",
      "releaseDate                 0\n",
      "releaseYear             19685\n",
      "releaseMonth            19685\n",
      "releaseDiff                 0\n",
      "dtype: int64\n"
     ]
    }
   ],
   "source": [
    "# Check out 'merged' df after imputation  \n",
    "inspect(merged)"
   ]
  },
  {
   "cell_type": "code",
   "execution_count": 37,
   "id": "86adae56",
   "metadata": {
    "execution": {
     "iopub.execute_input": "2023-08-12T17:16:55.430771Z",
     "iopub.status.busy": "2023-08-12T17:16:55.430434Z",
     "iopub.status.idle": "2023-08-12T17:16:55.472437Z",
     "shell.execute_reply": "2023-08-12T17:16:55.471630Z"
    },
    "papermill": {
     "duration": 0.105351,
     "end_time": "2023-08-12T17:16:55.474298",
     "exception": false,
     "start_time": "2023-08-12T17:16:55.368947",
     "status": "completed"
    },
    "tags": []
   },
   "outputs": [
    {
     "data": {
      "text/html": [
       "<div>\n",
       "<style scoped>\n",
       "    .dataframe tbody tr th:only-of-type {\n",
       "        vertical-align: middle;\n",
       "    }\n",
       "\n",
       "    .dataframe tbody tr th {\n",
       "        vertical-align: top;\n",
       "    }\n",
       "\n",
       "    .dataframe thead th {\n",
       "        text-align: right;\n",
       "    }\n",
       "</style>\n",
       "<table border=\"1\" class=\"dataframe\">\n",
       "  <thead>\n",
       "    <tr style=\"text-align: right;\">\n",
       "      <th></th>\n",
       "      <th>audienceScore</th>\n",
       "      <th>runtimeMinutes</th>\n",
       "      <th>boxOffice</th>\n",
       "    </tr>\n",
       "  </thead>\n",
       "  <tbody>\n",
       "    <tr>\n",
       "      <th>count</th>\n",
       "      <td>162758.000000</td>\n",
       "      <td>162758.000000</td>\n",
       "      <td>1.627580e+05</td>\n",
       "    </tr>\n",
       "    <tr>\n",
       "      <th>mean</th>\n",
       "      <td>65.062565</td>\n",
       "      <td>106.992019</td>\n",
       "      <td>4.160983e+07</td>\n",
       "    </tr>\n",
       "    <tr>\n",
       "      <th>std</th>\n",
       "      <td>19.844000</td>\n",
       "      <td>22.203778</td>\n",
       "      <td>7.932291e+07</td>\n",
       "    </tr>\n",
       "    <tr>\n",
       "      <th>min</th>\n",
       "      <td>0.000000</td>\n",
       "      <td>4.000000</td>\n",
       "      <td>0.000000e+00</td>\n",
       "    </tr>\n",
       "    <tr>\n",
       "      <th>25%</th>\n",
       "      <td>51.000000</td>\n",
       "      <td>93.000000</td>\n",
       "      <td>2.000000e+06</td>\n",
       "    </tr>\n",
       "    <tr>\n",
       "      <th>50%</th>\n",
       "      <td>68.000000</td>\n",
       "      <td>104.000000</td>\n",
       "      <td>1.430000e+07</td>\n",
       "    </tr>\n",
       "    <tr>\n",
       "      <th>75%</th>\n",
       "      <td>81.000000</td>\n",
       "      <td>118.000000</td>\n",
       "      <td>4.200000e+07</td>\n",
       "    </tr>\n",
       "    <tr>\n",
       "      <th>max</th>\n",
       "      <td>100.000000</td>\n",
       "      <td>561.000000</td>\n",
       "      <td>8.584000e+08</td>\n",
       "    </tr>\n",
       "  </tbody>\n",
       "</table>\n",
       "</div>"
      ],
      "text/plain": [
       "       audienceScore  runtimeMinutes     boxOffice\n",
       "count  162758.000000   162758.000000  1.627580e+05\n",
       "mean       65.062565      106.992019  4.160983e+07\n",
       "std        19.844000       22.203778  7.932291e+07\n",
       "min         0.000000        4.000000  0.000000e+00\n",
       "25%        51.000000       93.000000  2.000000e+06\n",
       "50%        68.000000      104.000000  1.430000e+07\n",
       "75%        81.000000      118.000000  4.200000e+07\n",
       "max       100.000000      561.000000  8.584000e+08"
      ]
     },
     "execution_count": 37,
     "metadata": {},
     "output_type": "execute_result"
    }
   ],
   "source": [
    "merged[['audienceScore', 'runtimeMinutes', 'boxOffice']].describe()"
   ]
  },
  {
   "cell_type": "markdown",
   "id": "fa25a81a",
   "metadata": {
    "papermill": {
     "duration": 0.059005,
     "end_time": "2023-08-12T17:16:55.591944",
     "exception": false,
     "start_time": "2023-08-12T17:16:55.532939",
     "status": "completed"
    },
    "tags": []
   },
   "source": [
    "### EDA releaseDiff  "
   ]
  },
  {
   "cell_type": "code",
   "execution_count": 38,
   "id": "880465da",
   "metadata": {
    "execution": {
     "iopub.execute_input": "2023-08-12T17:16:55.708531Z",
     "iopub.status.busy": "2023-08-12T17:16:55.708211Z",
     "iopub.status.idle": "2023-08-12T17:16:55.722607Z",
     "shell.execute_reply": "2023-08-12T17:16:55.721413Z"
    },
    "papermill": {
     "duration": 0.075317,
     "end_time": "2023-08-12T17:16:55.724301",
     "exception": false,
     "start_time": "2023-08-12T17:16:55.648984",
     "status": "completed"
    },
    "tags": []
   },
   "outputs": [
    {
     "data": {
      "text/plain": [
       "count    162758.000000\n",
       "mean       1653.469015\n",
       "std        4581.420922\n",
       "min           0.000000\n",
       "25%          65.000000\n",
       "50%         116.000000\n",
       "75%         375.000000\n",
       "max       38922.000000\n",
       "Name: releaseDiff, dtype: float64"
      ]
     },
     "execution_count": 38,
     "metadata": {},
     "output_type": "execute_result"
    }
   ],
   "source": [
    "# abs values\n",
    "merged[\"releaseDiff\"].describe()"
   ]
  },
  {
   "cell_type": "code",
   "execution_count": 39,
   "id": "0413b1cc",
   "metadata": {
    "execution": {
     "iopub.execute_input": "2023-08-12T17:16:55.845416Z",
     "iopub.status.busy": "2023-08-12T17:16:55.844301Z",
     "iopub.status.idle": "2023-08-12T17:16:55.849494Z",
     "shell.execute_reply": "2023-08-12T17:16:55.848414Z"
    },
    "papermill": {
     "duration": 0.067658,
     "end_time": "2023-08-12T17:16:55.852194",
     "exception": false,
     "start_time": "2023-08-12T17:16:55.784536",
     "status": "completed"
    },
    "tags": []
   },
   "outputs": [],
   "source": [
    "# merged['releaseDiffBins'].value_counts()"
   ]
  },
  {
   "cell_type": "code",
   "execution_count": 40,
   "id": "7fce746c",
   "metadata": {
    "execution": {
     "iopub.execute_input": "2023-08-12T17:16:55.973701Z",
     "iopub.status.busy": "2023-08-12T17:16:55.973384Z",
     "iopub.status.idle": "2023-08-12T17:16:56.185087Z",
     "shell.execute_reply": "2023-08-12T17:16:56.184361Z"
    },
    "papermill": {
     "duration": 0.274452,
     "end_time": "2023-08-12T17:16:56.187382",
     "exception": false,
     "start_time": "2023-08-12T17:16:55.912930",
     "status": "completed"
    },
    "tags": []
   },
   "outputs": [
    {
     "data": {
      "text/plain": [
       "<Axes: xlabel='sentiment', ylabel='releaseDiff'>"
      ]
     },
     "execution_count": 40,
     "metadata": {},
     "output_type": "execute_result"
    },
    {
     "data": {
      "image/png": "[encoded data removed]",
      "text/plain": [
       "<Figure size 640x480 with 1 Axes>"
      ]
     },
     "metadata": {},
     "output_type": "display_data"
    }
   ],
   "source": [
    "sns.boxplot(x=merged['sentiment'], y=merged['releaseDiff'], showfliers=False)"
   ]
  },
  {
   "cell_type": "code",
   "execution_count": 41,
   "id": "748922c7",
   "metadata": {
    "execution": {
     "iopub.execute_input": "2023-08-12T17:16:56.310780Z",
     "iopub.status.busy": "2023-08-12T17:16:56.310255Z",
     "iopub.status.idle": "2023-08-12T17:16:56.314073Z",
     "shell.execute_reply": "2023-08-12T17:16:56.313036Z"
    },
    "papermill": {
     "duration": 0.067671,
     "end_time": "2023-08-12T17:16:56.316270",
     "exception": false,
     "start_time": "2023-08-12T17:16:56.248599",
     "status": "completed"
    },
    "tags": []
   },
   "outputs": [],
   "source": [
    "# sns.displot(merged['releaseDiffBins'])"
   ]
  },
  {
   "cell_type": "code",
   "execution_count": 42,
   "id": "08a2137a",
   "metadata": {
    "execution": {
     "iopub.execute_input": "2023-08-12T17:16:56.436220Z",
     "iopub.status.busy": "2023-08-12T17:16:56.435103Z",
     "iopub.status.idle": "2023-08-12T17:16:56.439137Z",
     "shell.execute_reply": "2023-08-12T17:16:56.438538Z"
    },
    "papermill": {
     "duration": 0.065883,
     "end_time": "2023-08-12T17:16:56.440860",
     "exception": false,
     "start_time": "2023-08-12T17:16:56.374977",
     "status": "completed"
    },
    "tags": []
   },
   "outputs": [],
   "source": [
    "# merged['sentiment'].loc[merged['releaseDiffBins'] > 0].value_counts()"
   ]
  },
  {
   "cell_type": "code",
   "execution_count": 43,
   "id": "75b33151",
   "metadata": {
    "execution": {
     "iopub.execute_input": "2023-08-12T17:16:56.563366Z",
     "iopub.status.busy": "2023-08-12T17:16:56.562803Z",
     "iopub.status.idle": "2023-08-12T17:16:56.566719Z",
     "shell.execute_reply": "2023-08-12T17:16:56.566134Z"
    },
    "papermill": {
     "duration": 0.066486,
     "end_time": "2023-08-12T17:16:56.568316",
     "exception": false,
     "start_time": "2023-08-12T17:16:56.501830",
     "status": "completed"
    },
    "tags": []
   },
   "outputs": [],
   "source": [
    "# merged['releaseDiffBins'].describe()"
   ]
  },
  {
   "cell_type": "markdown",
   "id": "bb66b225",
   "metadata": {
    "papermill": {
     "duration": 0.058628,
     "end_time": "2023-08-12T17:16:56.687163",
     "exception": false,
     "start_time": "2023-08-12T17:16:56.628535",
     "status": "completed"
    },
    "tags": []
   },
   "source": [
    "### EDA 'distributor'  "
   ]
  },
  {
   "cell_type": "code",
   "execution_count": 44,
   "id": "c190d5c1",
   "metadata": {
    "execution": {
     "iopub.execute_input": "2023-08-12T17:16:56.864344Z",
     "iopub.status.busy": "2023-08-12T17:16:56.863989Z",
     "iopub.status.idle": "2023-08-12T17:16:56.881528Z",
     "shell.execute_reply": "2023-08-12T17:16:56.880518Z"
    },
    "papermill": {
     "duration": 0.079989,
     "end_time": "2023-08-12T17:16:56.883396",
     "exception": false,
     "start_time": "2023-08-12T17:16:56.803407",
     "status": "completed"
    },
    "tags": []
   },
   "outputs": [
    {
     "data": {
      "text/plain": [
       "unknown                              20489\n",
       "Universal Pictures                    8847\n",
       "Warner Bros. Pictures                 8722\n",
       "Paramount Pictures                    7773\n",
       "20th Century Fox                      7007\n",
       "                                     ...  \n",
       "Almi Pictures                            1\n",
       "Koch Lorber                              1\n",
       "Magic Lamp                               1\n",
       "Fine Line Features, Miramax Films        1\n",
       "American Film Co.                        1\n",
       "Name: distributor, Length: 1796, dtype: int64"
      ]
     },
     "execution_count": 44,
     "metadata": {},
     "output_type": "execute_result"
    }
   ],
   "source": [
    "merged[\"distributor\"].value_counts()"
   ]
  },
  {
   "cell_type": "code",
   "execution_count": 45,
   "id": "ee391f98",
   "metadata": {
    "execution": {
     "iopub.execute_input": "2023-08-12T17:16:57.004598Z",
     "iopub.status.busy": "2023-08-12T17:16:57.004099Z",
     "iopub.status.idle": "2023-08-12T17:16:57.018319Z",
     "shell.execute_reply": "2023-08-12T17:16:57.017179Z"
    },
    "papermill": {
     "duration": 0.077931,
     "end_time": "2023-08-12T17:16:57.020832",
     "exception": false,
     "start_time": "2023-08-12T17:16:56.942901",
     "status": "completed"
    },
    "tags": []
   },
   "outputs": [
    {
     "data": {
      "text/plain": [
       "count    162758.000000\n",
       "mean        106.992019\n",
       "std          22.203778\n",
       "min           4.000000\n",
       "25%          93.000000\n",
       "50%         104.000000\n",
       "75%         118.000000\n",
       "max         561.000000\n",
       "Name: runtimeMinutes, dtype: float64"
      ]
     },
     "execution_count": 45,
     "metadata": {},
     "output_type": "execute_result"
    }
   ],
   "source": [
    "merged[\"runtimeMinutes\"].describe()"
   ]
  },
  {
   "cell_type": "code",
   "execution_count": 46,
   "id": "ce155bed",
   "metadata": {
    "execution": {
     "iopub.execute_input": "2023-08-12T17:16:57.143477Z",
     "iopub.status.busy": "2023-08-12T17:16:57.143140Z",
     "iopub.status.idle": "2023-08-12T17:16:57.379950Z",
     "shell.execute_reply": "2023-08-12T17:16:57.379010Z"
    },
    "papermill": {
     "duration": 0.300971,
     "end_time": "2023-08-12T17:16:57.382641",
     "exception": false,
     "start_time": "2023-08-12T17:16:57.081670",
     "status": "completed"
    },
    "tags": []
   },
   "outputs": [
    {
     "data": {
      "text/plain": [
       "<Axes: xlabel='sentiment', ylabel='runtimeMinutes'>"
      ]
     },
     "execution_count": 46,
     "metadata": {},
     "output_type": "execute_result"
    },
    {
     "data": {
      "image/png": "[encoded data removed]",
      "text/plain": [
       "<Figure size 640x480 with 1 Axes>"
      ]
     },
     "metadata": {},
     "output_type": "display_data"
    }
   ],
   "source": [
    "sns.boxplot(y=merged[\"runtimeMinutes\"], x=merged[\"sentiment\"])"
   ]
  },
  {
   "cell_type": "code",
   "execution_count": 47,
   "id": "d0eb048a",
   "metadata": {
    "execution": {
     "iopub.execute_input": "2023-08-12T17:16:57.505962Z",
     "iopub.status.busy": "2023-08-12T17:16:57.505591Z",
     "iopub.status.idle": "2023-08-12T17:16:57.509879Z",
     "shell.execute_reply": "2023-08-12T17:16:57.508600Z"
    },
    "papermill": {
     "duration": 0.069141,
     "end_time": "2023-08-12T17:16:57.511803",
     "exception": false,
     "start_time": "2023-08-12T17:16:57.442662",
     "status": "completed"
    },
    "tags": []
   },
   "outputs": [],
   "source": [
    "# print(merged[\"boxOfficeBins\"].value_counts())\n",
    "# sns.displot(merged[\"boxOfficeBins\"])"
   ]
  },
  {
   "cell_type": "code",
   "execution_count": 48,
   "id": "552bd46b",
   "metadata": {
    "execution": {
     "iopub.execute_input": "2023-08-12T17:16:57.635053Z",
     "iopub.status.busy": "2023-08-12T17:16:57.634608Z",
     "iopub.status.idle": "2023-08-12T17:16:57.641232Z",
     "shell.execute_reply": "2023-08-12T17:16:57.640574Z"
    },
    "papermill": {
     "duration": 0.072055,
     "end_time": "2023-08-12T17:16:57.643442",
     "exception": false,
     "start_time": "2023-08-12T17:16:57.571387",
     "status": "completed"
    },
    "tags": []
   },
   "outputs": [
    {
     "data": {
      "text/plain": [
       "0    Henry Selick’s first movie since ’s Coraline. ...\n",
       "1    With a cast that reads like the Vogue Oscar pa...\n",
       "2    Creed II does not give us anything but another...\n",
       "3    I know what you're thinking, but this is no Li...\n",
       "4    Director Fernando Meirelles tells the story wi...\n",
       "Name: reviewText, dtype: object"
      ]
     },
     "execution_count": 48,
     "metadata": {},
     "output_type": "execute_result"
    }
   ],
   "source": [
    "merged[\"reviewText\"].head()"
   ]
  },
  {
   "cell_type": "code",
   "execution_count": 49,
   "id": "b681abd6",
   "metadata": {
    "execution": {
     "iopub.execute_input": "2023-08-12T17:16:57.764927Z",
     "iopub.status.busy": "2023-08-12T17:16:57.764574Z",
     "iopub.status.idle": "2023-08-12T17:16:57.771411Z",
     "shell.execute_reply": "2023-08-12T17:16:57.770404Z"
    },
    "papermill": {
     "duration": 0.070285,
     "end_time": "2023-08-12T17:16:57.773694",
     "exception": false,
     "start_time": "2023-08-12T17:16:57.703409",
     "status": "completed"
    },
    "tags": []
   },
   "outputs": [
    {
     "data": {
      "text/plain": [
       "6447"
      ]
     },
     "execution_count": 49,
     "metadata": {},
     "output_type": "execute_result"
    }
   ],
   "source": [
    "merged[\"reviewYN\"].sum()"
   ]
  },
  {
   "cell_type": "code",
   "execution_count": 50,
   "id": "269cdc7e",
   "metadata": {
    "execution": {
     "iopub.execute_input": "2023-08-12T17:16:57.897422Z",
     "iopub.status.busy": "2023-08-12T17:16:57.897050Z",
     "iopub.status.idle": "2023-08-12T17:16:57.904494Z",
     "shell.execute_reply": "2023-08-12T17:16:57.903314Z"
    },
    "papermill": {
     "duration": 0.069894,
     "end_time": "2023-08-12T17:16:57.906214",
     "exception": false,
     "start_time": "2023-08-12T17:16:57.836320",
     "status": "completed"
    },
    "tags": []
   },
   "outputs": [
    {
     "data": {
      "text/plain": [
       "0    11\n",
       "1    24\n",
       "2    22\n",
       "3    34\n",
       "4    20\n",
       "Name: reviewWC, dtype: int64"
      ]
     },
     "execution_count": 50,
     "metadata": {},
     "output_type": "execute_result"
    }
   ],
   "source": [
    "merged[\"reviewWC\"].head()"
   ]
  },
  {
   "cell_type": "code",
   "execution_count": 51,
   "id": "6acef6af",
   "metadata": {
    "execution": {
     "iopub.execute_input": "2023-08-12T17:16:58.031336Z",
     "iopub.status.busy": "2023-08-12T17:16:58.030984Z",
     "iopub.status.idle": "2023-08-12T17:16:58.043081Z",
     "shell.execute_reply": "2023-08-12T17:16:58.042273Z"
    },
    "papermill": {
     "duration": 0.077388,
     "end_time": "2023-08-12T17:16:58.045324",
     "exception": false,
     "start_time": "2023-08-12T17:16:57.967936",
     "status": "completed"
    },
    "tags": []
   },
   "outputs": [
    {
     "data": {
      "text/plain": [
       "count    162758.000000\n",
       "mean         21.013707\n",
       "std          10.216532\n",
       "min           1.000000\n",
       "25%          14.000000\n",
       "50%          21.000000\n",
       "75%          28.000000\n",
       "max          54.000000\n",
       "Name: reviewWC, dtype: float64"
      ]
     },
     "execution_count": 51,
     "metadata": {},
     "output_type": "execute_result"
    }
   ],
   "source": [
    "merged[\"reviewWC\"].describe()"
   ]
  },
  {
   "cell_type": "code",
   "execution_count": 52,
   "id": "ef8470ac",
   "metadata": {
    "execution": {
     "iopub.execute_input": "2023-08-12T17:16:58.172038Z",
     "iopub.status.busy": "2023-08-12T17:16:58.171723Z",
     "iopub.status.idle": "2023-08-12T17:16:58.605224Z",
     "shell.execute_reply": "2023-08-12T17:16:58.603934Z"
    },
    "papermill": {
     "duration": 0.500542,
     "end_time": "2023-08-12T17:16:58.607572",
     "exception": false,
     "start_time": "2023-08-12T17:16:58.107030",
     "status": "completed"
    },
    "tags": []
   },
   "outputs": [
    {
     "data": {
      "text/plain": [
       "<Axes: xlabel='reviewWC', ylabel='Count'>"
      ]
     },
     "execution_count": 52,
     "metadata": {},
     "output_type": "execute_result"
    },
    {
     "data": {
      "image/png": "[encoded data removed]",
      "text/plain": [
       "<Figure size 640x480 with 1 Axes>"
      ]
     },
     "metadata": {},
     "output_type": "display_data"
    }
   ],
   "source": [
    "sns.histplot(merged[\"reviewWC\"])"
   ]
  },
  {
   "cell_type": "code",
   "execution_count": 53,
   "id": "304bd727",
   "metadata": {
    "execution": {
     "iopub.execute_input": "2023-08-12T17:16:58.732300Z",
     "iopub.status.busy": "2023-08-12T17:16:58.731756Z",
     "iopub.status.idle": "2023-08-12T17:16:58.745360Z",
     "shell.execute_reply": "2023-08-12T17:16:58.744447Z"
    },
    "papermill": {
     "duration": 0.079091,
     "end_time": "2023-08-12T17:16:58.747613",
     "exception": false,
     "start_time": "2023-08-12T17:16:58.668522",
     "status": "completed"
    },
    "tags": []
   },
   "outputs": [
    {
     "data": {
      "text/plain": [
       "R          60248\n",
       "unknown    44587\n",
       "PG-13      42697\n",
       "PG         13669\n",
       "TV14         947\n",
       "NC-17        285\n",
       "TVPG         281\n",
       "TVMA          44\n",
       "Name: rating, dtype: int64"
      ]
     },
     "execution_count": 53,
     "metadata": {},
     "output_type": "execute_result"
    }
   ],
   "source": [
    "merged['rating'].value_counts()"
   ]
  },
  {
   "cell_type": "code",
   "execution_count": 54,
   "id": "6bb70c38",
   "metadata": {
    "execution": {
     "iopub.execute_input": "2023-08-12T17:16:58.879775Z",
     "iopub.status.busy": "2023-08-12T17:16:58.878735Z",
     "iopub.status.idle": "2023-08-12T17:16:58.886783Z",
     "shell.execute_reply": "2023-08-12T17:16:58.886181Z"
    },
    "papermill": {
     "duration": 0.076885,
     "end_time": "2023-08-12T17:16:58.888936",
     "exception": false,
     "start_time": "2023-08-12T17:16:58.812051",
     "status": "completed"
    },
    "tags": []
   },
   "outputs": [
    {
     "data": {
      "text/plain": [
       "False    113189\n",
       "True      49569\n",
       "Name: isFrequentReviewer, dtype: int64"
      ]
     },
     "execution_count": 54,
     "metadata": {},
     "output_type": "execute_result"
    }
   ],
   "source": [
    "merged['isFrequentReviewer'].value_counts()"
   ]
  },
  {
   "cell_type": "code",
   "execution_count": 55,
   "id": "73fa6508",
   "metadata": {
    "execution": {
     "iopub.execute_input": "2023-08-12T17:16:59.014791Z",
     "iopub.status.busy": "2023-08-12T17:16:59.014220Z",
     "iopub.status.idle": "2023-08-12T17:16:59.020745Z",
     "shell.execute_reply": "2023-08-12T17:16:59.019747Z"
    },
    "papermill": {
     "duration": 0.072211,
     "end_time": "2023-08-12T17:16:59.023188",
     "exception": false,
     "start_time": "2023-08-12T17:16:58.950977",
     "status": "completed"
    },
    "tags": []
   },
   "outputs": [
    {
     "data": {
      "text/plain": [
       "0      Benjamin Henry\n",
       "1       Felicia Lopez\n",
       "2     Charles Burgess\n",
       "3        Ryan Barrett\n",
       "4    Alexander Glover\n",
       "Name: reviewerName, dtype: object"
      ]
     },
     "execution_count": 55,
     "metadata": {},
     "output_type": "execute_result"
    }
   ],
   "source": [
    "merged[\"reviewerName\"].head()"
   ]
  },
  {
   "cell_type": "code",
   "execution_count": 56,
   "id": "1309e379",
   "metadata": {
    "execution": {
     "iopub.execute_input": "2023-08-12T17:16:59.149405Z",
     "iopub.status.busy": "2023-08-12T17:16:59.148685Z",
     "iopub.status.idle": "2023-08-12T17:16:59.158925Z",
     "shell.execute_reply": "2023-08-12T17:16:59.158329Z"
    },
    "papermill": {
     "duration": 0.075389,
     "end_time": "2023-08-12T17:16:59.160843",
     "exception": false,
     "start_time": "2023-08-12T17:16:59.085454",
     "status": "completed"
    },
    "tags": []
   },
   "outputs": [
    {
     "data": {
      "text/plain": [
       "14300000.0    32327\n",
       "2000000.0       922\n",
       "1100000.0       891\n",
       "1000000.0       834\n",
       "1200000.0       802\n",
       "              ...  \n",
       "58500.0           1\n",
       "500800.0          1\n",
       "265600.0          1\n",
       "292500.0          1\n",
       "799400.0          1\n",
       "Name: boxOffice, Length: 3819, dtype: int64"
      ]
     },
     "execution_count": 56,
     "metadata": {},
     "output_type": "execute_result"
    }
   ],
   "source": [
    "merged['boxOffice'].value_counts()"
   ]
  },
  {
   "cell_type": "code",
   "execution_count": 57,
   "id": "aed919f8",
   "metadata": {
    "execution": {
     "iopub.execute_input": "2023-08-12T17:16:59.287656Z",
     "iopub.status.busy": "2023-08-12T17:16:59.287363Z",
     "iopub.status.idle": "2023-08-12T17:16:59.291555Z",
     "shell.execute_reply": "2023-08-12T17:16:59.290326Z"
    },
    "papermill": {
     "duration": 0.069477,
     "end_time": "2023-08-12T17:16:59.293836",
     "exception": false,
     "start_time": "2023-08-12T17:16:59.224359",
     "status": "completed"
    },
    "tags": []
   },
   "outputs": [],
   "source": [
    "# Check correlation between 'boxOffice' and ''sentiment'\n",
    "# bo_df = merged.copy()\n",
    "# print(bo_df[\"boxOffice\"])\n",
    "# bo_df[\"boxOffice\"] = bo_df[\"boxOffice\"].str[1:]\n",
    "# bo_df[\"boxOffice\"] = bo_df[\"boxOffice\"].replace(to_replace={\"M\": \"*1000000\", \"K\": \"*1000\"}, regex=True)\n",
    "# bo_df[\"boxOffice\"] = bo_df[\"boxOffice\"].loc[bo_df[\"boxOffice\"].notnull()].apply(lambda x: eval(str(x)))\n",
    "# bo_df[\"boxOffice\"] = bo_df[\"boxOffice\"].fillna(bo_df[\"boxOffice\"].median())\n",
    "# bo_df[\"boxOffice\"].describe()"
   ]
  },
  {
   "cell_type": "code",
   "execution_count": 58,
   "id": "395f49a3",
   "metadata": {
    "execution": {
     "iopub.execute_input": "2023-08-12T17:16:59.420636Z",
     "iopub.status.busy": "2023-08-12T17:16:59.419364Z",
     "iopub.status.idle": "2023-08-12T17:16:59.423737Z",
     "shell.execute_reply": "2023-08-12T17:16:59.423058Z"
    },
    "papermill": {
     "duration": 0.06979,
     "end_time": "2023-08-12T17:16:59.426005",
     "exception": false,
     "start_time": "2023-08-12T17:16:59.356215",
     "status": "completed"
    },
    "tags": []
   },
   "outputs": [],
   "source": [
    "# median = bo_df[\"boxOffice\"].describe()['50%']\n",
    "# iqr = bo_df[\"boxOffice\"].describe()['75%'] - bo_df[\"boxOffice\"].describe()['25%']\n",
    "# median, iqr"
   ]
  },
  {
   "cell_type": "code",
   "execution_count": 59,
   "id": "08010d9b",
   "metadata": {
    "execution": {
     "iopub.execute_input": "2023-08-12T17:16:59.550693Z",
     "iopub.status.busy": "2023-08-12T17:16:59.550145Z",
     "iopub.status.idle": "2023-08-12T17:16:59.553185Z",
     "shell.execute_reply": "2023-08-12T17:16:59.552600Z"
    },
    "papermill": {
     "duration": 0.066895,
     "end_time": "2023-08-12T17:16:59.554981",
     "exception": false,
     "start_time": "2023-08-12T17:16:59.488086",
     "status": "completed"
    },
    "tags": []
   },
   "outputs": [],
   "source": [
    "# ll = median - (1.5*iqr)\n",
    "# ul = median + (1.5*iqr)\n",
    "# ll, ul"
   ]
  },
  {
   "cell_type": "code",
   "execution_count": 60,
   "id": "71d1af5d",
   "metadata": {
    "execution": {
     "iopub.execute_input": "2023-08-12T17:16:59.681874Z",
     "iopub.status.busy": "2023-08-12T17:16:59.681374Z",
     "iopub.status.idle": "2023-08-12T17:16:59.685415Z",
     "shell.execute_reply": "2023-08-12T17:16:59.684189Z"
    },
    "papermill": {
     "duration": 0.071391,
     "end_time": "2023-08-12T17:16:59.687847",
     "exception": false,
     "start_time": "2023-08-12T17:16:59.616456",
     "status": "completed"
    },
    "tags": []
   },
   "outputs": [],
   "source": [
    "# bo_df[\"boxOffice\"].mean()"
   ]
  },
  {
   "cell_type": "code",
   "execution_count": 61,
   "id": "eec11d98",
   "metadata": {
    "execution": {
     "iopub.execute_input": "2023-08-12T17:16:59.831307Z",
     "iopub.status.busy": "2023-08-12T17:16:59.830896Z",
     "iopub.status.idle": "2023-08-12T17:16:59.835924Z",
     "shell.execute_reply": "2023-08-12T17:16:59.834599Z"
    },
    "papermill": {
     "duration": 0.073073,
     "end_time": "2023-08-12T17:16:59.837839",
     "exception": false,
     "start_time": "2023-08-12T17:16:59.764766",
     "status": "completed"
    },
    "tags": []
   },
   "outputs": [],
   "source": [
    "# bo_df.loc[bo_df[\"boxOffice\"] > ul, \"boxOffice\"] = median\n",
    "# bo_df[\"boxOffice\"].mean()"
   ]
  },
  {
   "cell_type": "code",
   "execution_count": 62,
   "id": "97820d7e",
   "metadata": {
    "execution": {
     "iopub.execute_input": "2023-08-12T17:16:59.964661Z",
     "iopub.status.busy": "2023-08-12T17:16:59.963800Z",
     "iopub.status.idle": "2023-08-12T17:16:59.968189Z",
     "shell.execute_reply": "2023-08-12T17:16:59.967109Z"
    },
    "papermill": {
     "duration": 0.069099,
     "end_time": "2023-08-12T17:16:59.969754",
     "exception": false,
     "start_time": "2023-08-12T17:16:59.900655",
     "status": "completed"
    },
    "tags": []
   },
   "outputs": [],
   "source": [
    "# bo_df[\"boxOffice\"].min(), bo_df[\"boxOffice\"].max()"
   ]
  },
  {
   "cell_type": "code",
   "execution_count": 63,
   "id": "9523afda",
   "metadata": {
    "execution": {
     "iopub.execute_input": "2023-08-12T17:17:00.097298Z",
     "iopub.status.busy": "2023-08-12T17:17:00.096539Z",
     "iopub.status.idle": "2023-08-12T17:17:00.102022Z",
     "shell.execute_reply": "2023-08-12T17:17:00.101035Z"
    },
    "papermill": {
     "duration": 0.071078,
     "end_time": "2023-08-12T17:17:00.103938",
     "exception": false,
     "start_time": "2023-08-12T17:17:00.032860",
     "status": "completed"
    },
    "tags": []
   },
   "outputs": [],
   "source": [
    "# sns.boxplot(x=\"sentiment\", y=\"boxOffice\", data=bo_df, showfliers = False)"
   ]
  },
  {
   "cell_type": "markdown",
   "id": "0252d3b0",
   "metadata": {
    "papermill": {
     "duration": 0.061629,
     "end_time": "2023-08-12T17:17:00.227917",
     "exception": false,
     "start_time": "2023-08-12T17:17:00.166288",
     "status": "completed"
    },
    "tags": []
   },
   "source": [
    "## EDA  "
   ]
  },
  {
   "cell_type": "markdown",
   "id": "6f0003e5",
   "metadata": {
    "papermill": {
     "duration": 0.062016,
     "end_time": "2023-08-12T17:17:00.352234",
     "exception": false,
     "start_time": "2023-08-12T17:17:00.290218",
     "status": "completed"
    },
    "tags": []
   },
   "source": [
    "### An interesting finding through exploration  \n",
    "  \n",
    "* OHE and TfidfVectorizer on director column give the same result when ngram_range(2,2) is used (see code below)!"
   ]
  },
  {
   "cell_type": "code",
   "execution_count": 64,
   "id": "e909b151",
   "metadata": {
    "execution": {
     "iopub.execute_input": "2023-08-12T17:17:00.478763Z",
     "iopub.status.busy": "2023-08-12T17:17:00.478057Z",
     "iopub.status.idle": "2023-08-12T17:17:05.126789Z",
     "shell.execute_reply": "2023-08-12T17:17:05.125633Z"
    },
    "papermill": {
     "duration": 4.714657,
     "end_time": "2023-08-12T17:17:05.128718",
     "exception": false,
     "start_time": "2023-08-12T17:17:00.414061",
     "status": "completed"
    },
    "tags": []
   },
   "outputs": [
    {
     "name": "stdout",
     "output_type": "stream",
     "text": [
      "(162758,)\n",
      "9476\n",
      "(162758, 9476) <class 'numpy.ndarray'>\n",
      "(162758,)\n",
      "(162758, 9476) <class 'numpy.ndarray'>\n",
      "True\n"
     ]
    }
   ],
   "source": [
    "# Compare OHE and TfidfVectorizer on director column\n",
    "\n",
    "dirs = merged[\"director\"].copy()\n",
    "print(dirs.shape)\n",
    "dirs_uniq = merged[\"director\"].unique()\n",
    "print(len(dirs_uniq))\n",
    "\n",
    "du_ohe = OneHotEncoder(handle_unknown=\"ignore\", sparse_output=False).fit_transform(dirs.to_numpy().reshape(-1, 1))\n",
    "print(du_ohe.shape, type(du_ohe))\n",
    "\n",
    "dirs_2 = merged[\"director\"].copy()\n",
    "print(dirs_2.shape)\n",
    "du_tfidf = TfidfVectorizer(ngram_range=(2,2)).fit_transform(dirs_2).toarray()\n",
    "print(du_tfidf.shape, type(du_tfidf))\n",
    "\n",
    "print(np.array_equal(du_ohe, du_tfidf))"
   ]
  },
  {
   "cell_type": "code",
   "execution_count": 65,
   "id": "a924ae65",
   "metadata": {
    "execution": {
     "iopub.execute_input": "2023-08-12T17:17:05.254261Z",
     "iopub.status.busy": "2023-08-12T17:17:05.253928Z",
     "iopub.status.idle": "2023-08-12T17:17:05.421620Z",
     "shell.execute_reply": "2023-08-12T17:17:05.420168Z"
    },
    "papermill": {
     "duration": 0.234099,
     "end_time": "2023-08-12T17:17:05.424407",
     "exception": false,
     "start_time": "2023-08-12T17:17:05.190308",
     "status": "completed"
    },
    "tags": []
   },
   "outputs": [
    {
     "name": "stdout",
     "output_type": "stream",
     "text": [
      "0       Bennie Basso\n",
      "1         Alma White\n",
      "2       Bobby Oleary\n",
      "3    Eric Hutcherson\n",
      "4         John Trent\n",
      "Name: director, dtype: object\n"
     ]
    },
    {
     "data": {
      "text/plain": [
       "2    162758\n",
       "Name: director, dtype: int64"
      ]
     },
     "execution_count": 65,
     "metadata": {},
     "output_type": "execute_result"
    }
   ],
   "source": [
    "print(dirs.head())\n",
    "d = dirs.copy()\n",
    "d[\"name_len\"] = d.apply(lambda x: len(x.split()))\n",
    "d[\"name_len\"].value_counts()"
   ]
  },
  {
   "cell_type": "code",
   "execution_count": 66,
   "id": "7c27b12e",
   "metadata": {
    "execution": {
     "iopub.execute_input": "2023-08-12T17:17:05.553076Z",
     "iopub.status.busy": "2023-08-12T17:17:05.552581Z",
     "iopub.status.idle": "2023-08-12T17:17:05.556760Z",
     "shell.execute_reply": "2023-08-12T17:17:05.556172Z"
    },
    "papermill": {
     "duration": 0.070988,
     "end_time": "2023-08-12T17:17:05.558422",
     "exception": false,
     "start_time": "2023-08-12T17:17:05.487434",
     "status": "completed"
    },
    "tags": []
   },
   "outputs": [],
   "source": [
    "# Compare OHE and TfidfVectorizer on reviewerName column\n",
    "# Note: reviewerName column has salutations like \"Mr. \" etc, and some names appear middle names. Therefore needs cleaning\n",
    "\n",
    "# def name_fl(name):\n",
    "#     l = name.split()\n",
    "#     n = ' '.join((l[0], l[-1]))\n",
    "#     return n\n",
    "\n",
    "# reviewers = merged[\"reviewerName\"].copy()\n",
    "# reviewers = pd.DataFrame(reviewers)\n",
    "# reviewers = reviewers.replace({\"Mr. \": \"\", \"Mrs. \": \"\"}, regex=True)\n",
    "# reviewers[\"reviewerName\"] = reviewers[\"reviewerName\"].apply(name_fl)\n",
    "# print(reviewers.shape)\n",
    "\n",
    "# reviewers_uniq = merged[\"reviewerName\"].unique()\n",
    "# print(len(reviewers_uniq))\n",
    "\n",
    "# reviewers_ohe = OneHotEncoder(handle_unknown=\"ignore\", sparse_output=False).fit_transform(reviewers.to_numpy().reshape(-1, 1))\n",
    "# print(reviewers_ohe.shape, type(reviewers_ohe))\n",
    "\n",
    "# reviewers_2 = merged[\"reviewerName\"].copy()\n",
    "# reviewers_2 = pd.DataFrame(reviewers_2)\n",
    "# print(reviewers_2.head())\n",
    "# reviewers_2 = reviewers_2.replace({\"Mr. \": \"\", \"Mrs. \": \"\"}, regex=True)\n",
    "# reviewers_2[\"reviewerName\"] = reviewers_2[\"reviewerName\"].apply(name_fl)\n",
    "# reviewers_2 = reviewers_2.squeeze()\n",
    "# print(reviewers_2.shape)\n",
    "# print(reviewers_2.head())\n",
    "\n",
    "# reviewers_tfidf = TfidfVectorizer(ngram_range=(2,2)).fit_transform(reviewers_2).toarray()\n",
    "# print(reviewers_tfidf.shape, type(reviewers_tfidf))\n",
    "\n",
    "# print(np.array_equal(reviewers_ohe, reviewers_tfidf))"
   ]
  },
  {
   "cell_type": "code",
   "execution_count": 67,
   "id": "677604a4",
   "metadata": {
    "execution": {
     "iopub.execute_input": "2023-08-12T17:17:05.682204Z",
     "iopub.status.busy": "2023-08-12T17:17:05.681818Z",
     "iopub.status.idle": "2023-08-12T17:17:05.686344Z",
     "shell.execute_reply": "2023-08-12T17:17:05.685347Z"
    },
    "papermill": {
     "duration": 0.068502,
     "end_time": "2023-08-12T17:17:05.688071",
     "exception": false,
     "start_time": "2023-08-12T17:17:05.619569",
     "status": "completed"
    },
    "tags": []
   },
   "outputs": [],
   "source": [
    "# def name_fl(name):\n",
    "#     l = name.split()\n",
    "#     n = ' '.join((l[0], l[-1]))\n",
    "#     return n"
   ]
  },
  {
   "cell_type": "code",
   "execution_count": 68,
   "id": "bb59175d",
   "metadata": {
    "execution": {
     "iopub.execute_input": "2023-08-12T17:17:05.815750Z",
     "iopub.status.busy": "2023-08-12T17:17:05.814997Z",
     "iopub.status.idle": "2023-08-12T17:17:05.820862Z",
     "shell.execute_reply": "2023-08-12T17:17:05.819839Z"
    },
    "papermill": {
     "duration": 0.071983,
     "end_time": "2023-08-12T17:17:05.822688",
     "exception": false,
     "start_time": "2023-08-12T17:17:05.750705",
     "status": "completed"
    },
    "tags": []
   },
   "outputs": [],
   "source": [
    "# print(reviewers.head())\n",
    "# r = pd.DataFrame(reviewers.copy())\n",
    "# r[\"reviewerName\"] = r[\"reviewerName\"].apply(name_fl)\n",
    "# r[\"name_len\"] = r[\"reviewerName\"].apply(lambda x: len(x.split()))\n",
    "# print(r.shape)\n",
    "# print(r.head())\n",
    "# print(r['name_len'].value_counts())"
   ]
  },
  {
   "cell_type": "code",
   "execution_count": 69,
   "id": "d7682f0c",
   "metadata": {
    "execution": {
     "iopub.execute_input": "2023-08-12T17:17:05.948043Z",
     "iopub.status.busy": "2023-08-12T17:17:05.946991Z",
     "iopub.status.idle": "2023-08-12T17:17:05.951034Z",
     "shell.execute_reply": "2023-08-12T17:17:05.950404Z"
    },
    "papermill": {
     "duration": 0.068706,
     "end_time": "2023-08-12T17:17:05.953004",
     "exception": false,
     "start_time": "2023-08-12T17:17:05.884298",
     "status": "completed"
    },
    "tags": []
   },
   "outputs": [],
   "source": [
    "## Box plot audienceScore and sentiment  \n",
    "# plt.figure(figsize=(6, 4))\n",
    "# sns.boxplot(x=\"sentiment\", y=\"audienceScore\", data=merged, width=0.3)\n",
    "# plt.title(\"Box plot audienceScore and sentiment\")\n",
    "# plt.show()"
   ]
  },
  {
   "cell_type": "code",
   "execution_count": 70,
   "id": "fea6b9ee",
   "metadata": {
    "execution": {
     "iopub.execute_input": "2023-08-12T17:17:06.079144Z",
     "iopub.status.busy": "2023-08-12T17:17:06.078775Z",
     "iopub.status.idle": "2023-08-12T17:17:06.083535Z",
     "shell.execute_reply": "2023-08-12T17:17:06.082226Z"
    },
    "papermill": {
     "duration": 0.071091,
     "end_time": "2023-08-12T17:17:06.085350",
     "exception": false,
     "start_time": "2023-08-12T17:17:06.014259",
     "status": "completed"
    },
    "tags": []
   },
   "outputs": [],
   "source": [
    "## Box plot runtimeMinutes and sentiment  \n",
    "# plt.figure(figsize=(6, 4))\n",
    "# sns.boxplot(x=\"sentiment\", y=\"runtimeMinutes\", data=merged, width=0.3)\n",
    "# plt.title(\"Box plot runtimeMinutes and sentiment\")\n",
    "# plt.show()"
   ]
  },
  {
   "cell_type": "code",
   "execution_count": 71,
   "id": "d4ffd687",
   "metadata": {
    "execution": {
     "iopub.execute_input": "2023-08-12T17:17:06.268930Z",
     "iopub.status.busy": "2023-08-12T17:17:06.268547Z",
     "iopub.status.idle": "2023-08-12T17:17:06.273631Z",
     "shell.execute_reply": "2023-08-12T17:17:06.272279Z"
    },
    "papermill": {
     "duration": 0.074702,
     "end_time": "2023-08-12T17:17:06.276345",
     "exception": false,
     "start_time": "2023-08-12T17:17:06.201643",
     "status": "completed"
    },
    "tags": []
   },
   "outputs": [],
   "source": [
    "## Column chart for sentiment and rating columns\n",
    "# plt.figure(figsize=(6, 4))\n",
    "# sns.countplot(x=\"sentiment\", hue=\"rating\", data=merged)\n",
    "# plt.title(\"Column chart for sentiment and rating columns\")\n",
    "# plt.show()"
   ]
  },
  {
   "cell_type": "code",
   "execution_count": 72,
   "id": "9855d04c",
   "metadata": {
    "execution": {
     "iopub.execute_input": "2023-08-12T17:17:06.404078Z",
     "iopub.status.busy": "2023-08-12T17:17:06.403286Z",
     "iopub.status.idle": "2023-08-12T17:17:06.406945Z",
     "shell.execute_reply": "2023-08-12T17:17:06.406407Z"
    },
    "papermill": {
     "duration": 0.06866,
     "end_time": "2023-08-12T17:17:06.408541",
     "exception": false,
     "start_time": "2023-08-12T17:17:06.339881",
     "status": "completed"
    },
    "tags": []
   },
   "outputs": [],
   "source": [
    "# Correlation heatmap  \n",
    "# plt.figure(figsize=(10, 8))\n",
    "# sns.heatmap(merged.corr(), annot=True, cmap=\"coolwarm\")\n",
    "# plt.title(\"Correlation heatmap\")\n",
    "# plt.show()"
   ]
  },
  {
   "cell_type": "markdown",
   "id": "76442725",
   "metadata": {
    "papermill": {
     "duration": 0.062696,
     "end_time": "2023-08-12T17:17:06.533581",
     "exception": false,
     "start_time": "2023-08-12T17:17:06.470885",
     "status": "completed"
    },
    "tags": []
   },
   "source": [
    "## Merge and preprocess \"test.csv\" and \"movies.csv\" files  "
   ]
  },
  {
   "cell_type": "code",
   "execution_count": 73,
   "id": "86bcc04b",
   "metadata": {
    "execution": {
     "iopub.execute_input": "2023-08-12T17:17:06.662062Z",
     "iopub.status.busy": "2023-08-12T17:17:06.661663Z",
     "iopub.status.idle": "2023-08-12T17:17:10.141347Z",
     "shell.execute_reply": "2023-08-12T17:17:10.140385Z"
    },
    "papermill": {
     "duration": 3.547071,
     "end_time": "2023-08-12T17:17:10.143704",
     "exception": false,
     "start_time": "2023-08-12T17:17:06.596633",
     "status": "completed"
    },
    "tags": []
   },
   "outputs": [],
   "source": [
    "# Merge test and movies  \n",
    "merged_test = select_features(load_csv(\"test\"), load_csv(\"movies\"))"
   ]
  },
  {
   "cell_type": "code",
   "execution_count": 74,
   "id": "962cb1b9",
   "metadata": {
    "execution": {
     "iopub.execute_input": "2023-08-12T17:17:10.270416Z",
     "iopub.status.busy": "2023-08-12T17:17:10.269811Z",
     "iopub.status.idle": "2023-08-12T17:17:10.273849Z",
     "shell.execute_reply": "2023-08-12T17:17:10.273091Z"
    },
    "papermill": {
     "duration": 0.070021,
     "end_time": "2023-08-12T17:17:10.276003",
     "exception": false,
     "start_time": "2023-08-12T17:17:10.205982",
     "status": "completed"
    },
    "tags": []
   },
   "outputs": [],
   "source": [
    "# inspect(merged_test)      # Note the missing values in ['audienceScore', 'runtimeMinutes', 'boxOffice']"
   ]
  },
  {
   "cell_type": "code",
   "execution_count": 75,
   "id": "f30a4491",
   "metadata": {
    "execution": {
     "iopub.execute_input": "2023-08-12T17:17:10.399599Z",
     "iopub.status.busy": "2023-08-12T17:17:10.398718Z",
     "iopub.status.idle": "2023-08-12T17:17:10.411762Z",
     "shell.execute_reply": "2023-08-12T17:17:10.410700Z"
    },
    "papermill": {
     "duration": 0.076794,
     "end_time": "2023-08-12T17:17:10.413816",
     "exception": false,
     "start_time": "2023-08-12T17:17:10.337022",
     "status": "completed"
    },
    "tags": []
   },
   "outputs": [
    {
     "data": {
      "text/plain": [
       "array([6.80e+01, 1.04e+02, 1.43e+07])"
      ]
     },
     "execution_count": 75,
     "metadata": {},
     "output_type": "execute_result"
    }
   ],
   "source": [
    "# Transform ['audienceScore', 'runtimeMinutes', 'boxOffice'] columns in merged_test using 'si' fitted on 'merged' df  \n",
    "merged_test[['audienceScore', 'runtimeMinutes', 'boxOffice']] = si.transform(merged_test[['audienceScore', 'runtimeMinutes', 'boxOffice']])\n",
    "si.statistics_"
   ]
  },
  {
   "cell_type": "code",
   "execution_count": 76,
   "id": "14253c56",
   "metadata": {
    "execution": {
     "iopub.execute_input": "2023-08-12T17:17:10.536382Z",
     "iopub.status.busy": "2023-08-12T17:17:10.535989Z",
     "iopub.status.idle": "2023-08-12T17:17:10.544263Z",
     "shell.execute_reply": "2023-08-12T17:17:10.543500Z"
    },
    "papermill": {
     "duration": 0.071815,
     "end_time": "2023-08-12T17:17:10.546170",
     "exception": false,
     "start_time": "2023-08-12T17:17:10.474355",
     "status": "completed"
    },
    "tags": []
   },
   "outputs": [],
   "source": [
    "# Fill 'releaseDate' column in 'merged_test' df with median from the train (merged) df  \n",
    "merged_test['releaseDate'] = merged_test[\"releaseDate\"].fillna(merged[\"releaseDate\"].median())"
   ]
  },
  {
   "cell_type": "code",
   "execution_count": 77,
   "id": "21c46447",
   "metadata": {
    "execution": {
     "iopub.execute_input": "2023-08-12T17:17:10.670449Z",
     "iopub.status.busy": "2023-08-12T17:17:10.670086Z",
     "iopub.status.idle": "2023-08-12T17:17:10.911250Z",
     "shell.execute_reply": "2023-08-12T17:17:10.910073Z"
    },
    "papermill": {
     "duration": 0.306847,
     "end_time": "2023-08-12T17:17:10.913305",
     "exception": false,
     "start_time": "2023-08-12T17:17:10.606458",
     "status": "completed"
    },
    "tags": []
   },
   "outputs": [
    {
     "name": "stdout",
     "output_type": "stream",
     "text": [
      "Shape of the dataframe: (55315, 25)\n",
      "\n",
      "Columns in the dataframe:\n",
      "Index(['movieid', 'reviewerName', 'isFrequentReviewer', 'reviewText', 'title',\n",
      "       'audienceScore', 'rating', 'ratingContents', 'releaseDateTheaters',\n",
      "       'releaseDateStreaming', 'runtimeMinutes', 'genre', 'originalLanguage',\n",
      "       'director', 'boxOffice', 'distributor', 'soundType', 'reviewYN',\n",
      "       'reviewWC', 'genreSorted', 'rcSorted', 'releaseDate', 'releaseYear',\n",
      "       'releaseMonth', 'releaseDiff'],\n",
      "      dtype='object')\n",
      "\n",
      "<class 'pandas.core.frame.DataFrame'>\n",
      "Int64Index: 55315 entries, 0 to 55314\n",
      "Data columns (total 25 columns):\n",
      " #   Column                Non-Null Count  Dtype         \n",
      "---  ------                --------------  -----         \n",
      " 0   movieid               55315 non-null  object        \n",
      " 1   reviewerName          55315 non-null  object        \n",
      " 2   isFrequentReviewer    55315 non-null  bool          \n",
      " 3   reviewText            55315 non-null  object        \n",
      " 4   title                 55315 non-null  object        \n",
      " 5   audienceScore         55315 non-null  float64       \n",
      " 6   rating                55315 non-null  object        \n",
      " 7   ratingContents        55315 non-null  object        \n",
      " 8   releaseDateTheaters   47844 non-null  datetime64[ns]\n",
      " 9   releaseDateStreaming  52929 non-null  datetime64[ns]\n",
      " 10  runtimeMinutes        55315 non-null  float64       \n",
      " 11  genre                 55315 non-null  object        \n",
      " 12  originalLanguage      55315 non-null  object        \n",
      " 13  director              55315 non-null  object        \n",
      " 14  boxOffice             55315 non-null  float64       \n",
      " 15  distributor           55315 non-null  object        \n",
      " 16  soundType             29845 non-null  object        \n",
      " 17  reviewYN              55315 non-null  int64         \n",
      " 18  reviewWC              55315 non-null  int64         \n",
      " 19  genreSorted           55315 non-null  object        \n",
      " 20  rcSorted              55315 non-null  object        \n",
      " 21  releaseDate           55315 non-null  datetime64[ns]\n",
      " 22  releaseYear           46626 non-null  float64       \n",
      " 23  releaseMonth          46626 non-null  float64       \n",
      " 24  releaseDiff           55315 non-null  float64       \n",
      "dtypes: bool(1), datetime64[ns](3), float64(6), int64(2), object(13)\n",
      "memory usage: 10.6+ MB\n",
      "None\n",
      "\n",
      "Missing values:\n",
      "movieid                     0\n",
      "reviewerName                0\n",
      "isFrequentReviewer          0\n",
      "reviewText                  0\n",
      "title                       0\n",
      "audienceScore               0\n",
      "rating                      0\n",
      "ratingContents              0\n",
      "releaseDateTheaters      7471\n",
      "releaseDateStreaming     2386\n",
      "runtimeMinutes              0\n",
      "genre                       0\n",
      "originalLanguage            0\n",
      "director                    0\n",
      "boxOffice                   0\n",
      "distributor                 0\n",
      "soundType               25470\n",
      "reviewYN                    0\n",
      "reviewWC                    0\n",
      "genreSorted                 0\n",
      "rcSorted                    0\n",
      "releaseDate                 0\n",
      "releaseYear              8689\n",
      "releaseMonth             8689\n",
      "releaseDiff                 0\n",
      "dtype: int64\n"
     ]
    }
   ],
   "source": [
    "# After transforming merged_test  \n",
    "inspect(merged_test)"
   ]
  },
  {
   "cell_type": "code",
   "execution_count": 78,
   "id": "27b84d6b",
   "metadata": {
    "execution": {
     "iopub.execute_input": "2023-08-12T17:17:11.039335Z",
     "iopub.status.busy": "2023-08-12T17:17:11.038703Z",
     "iopub.status.idle": "2023-08-12T17:17:11.044469Z",
     "shell.execute_reply": "2023-08-12T17:17:11.043701Z"
    },
    "papermill": {
     "duration": 0.072066,
     "end_time": "2023-08-12T17:17:11.046493",
     "exception": false,
     "start_time": "2023-08-12T17:17:10.974427",
     "status": "completed"
    },
    "tags": []
   },
   "outputs": [
    {
     "name": "stdout",
     "output_type": "stream",
     "text": [
      "2510\n",
      "4.537648015908886\n"
     ]
    }
   ],
   "source": [
    "print(merged_test[\"reviewYN\"].sum())\n",
    "print(merged_test[\"reviewYN\"].sum() * 100 / merged_test.shape[0])"
   ]
  },
  {
   "cell_type": "code",
   "execution_count": 79,
   "id": "b24016d1",
   "metadata": {
    "execution": {
     "iopub.execute_input": "2023-08-12T17:17:11.174218Z",
     "iopub.status.busy": "2023-08-12T17:17:11.172980Z",
     "iopub.status.idle": "2023-08-12T17:17:11.183839Z",
     "shell.execute_reply": "2023-08-12T17:17:11.182505Z"
    },
    "papermill": {
     "duration": 0.076669,
     "end_time": "2023-08-12T17:17:11.186408",
     "exception": false,
     "start_time": "2023-08-12T17:17:11.109739",
     "status": "completed"
    },
    "tags": []
   },
   "outputs": [
    {
     "data": {
      "text/plain": [
       "R          18934\n",
       "unknown    18386\n",
       "PG-13      13220\n",
       "PG          4200\n",
       "TV14         333\n",
       "TVPG         109\n",
       "NC-17        108\n",
       "TVMA          25\n",
       "Name: rating, dtype: int64"
      ]
     },
     "execution_count": 79,
     "metadata": {},
     "output_type": "execute_result"
    }
   ],
   "source": [
    "merged_test['rating'].value_counts()"
   ]
  },
  {
   "cell_type": "code",
   "execution_count": 80,
   "id": "99390330",
   "metadata": {
    "execution": {
     "iopub.execute_input": "2023-08-12T17:17:11.313318Z",
     "iopub.status.busy": "2023-08-12T17:17:11.312946Z",
     "iopub.status.idle": "2023-08-12T17:17:11.321583Z",
     "shell.execute_reply": "2023-08-12T17:17:11.320468Z"
    },
    "papermill": {
     "duration": 0.075319,
     "end_time": "2023-08-12T17:17:11.323421",
     "exception": false,
     "start_time": "2023-08-12T17:17:11.248102",
     "status": "completed"
    },
    "tags": []
   },
   "outputs": [
    {
     "data": {
      "text/plain": [
       "False    38428\n",
       "True     16887\n",
       "Name: isFrequentReviewer, dtype: int64"
      ]
     },
     "execution_count": 80,
     "metadata": {},
     "output_type": "execute_result"
    }
   ],
   "source": [
    "merged_test['isFrequentReviewer'].value_counts()"
   ]
  },
  {
   "cell_type": "code",
   "execution_count": 81,
   "id": "13c86d75",
   "metadata": {
    "execution": {
     "iopub.execute_input": "2023-08-12T17:17:11.452867Z",
     "iopub.status.busy": "2023-08-12T17:17:11.452217Z",
     "iopub.status.idle": "2023-08-12T17:17:11.461253Z",
     "shell.execute_reply": "2023-08-12T17:17:11.460268Z"
    },
    "papermill": {
     "duration": 0.076543,
     "end_time": "2023-08-12T17:17:11.463689",
     "exception": false,
     "start_time": "2023-08-12T17:17:11.387146",
     "status": "completed"
    },
    "tags": []
   },
   "outputs": [
    {
     "data": {
      "text/plain": [
       "14300000.0    13593\n",
       "1100000.0       311\n",
       "1000000.0       272\n",
       "1300000.0       263\n",
       "2000000.0       256\n",
       "              ...  \n",
       "200400.0          1\n",
       "23800000.0        1\n",
       "111200.0          1\n",
       "277800.0          1\n",
       "100600.0          1\n",
       "Name: boxOffice, Length: 3816, dtype: int64"
      ]
     },
     "execution_count": 81,
     "metadata": {},
     "output_type": "execute_result"
    }
   ],
   "source": [
    "merged_test['boxOffice'].value_counts()"
   ]
  },
  {
   "cell_type": "markdown",
   "id": "525be42b",
   "metadata": {
    "papermill": {
     "duration": 0.061126,
     "end_time": "2023-08-12T17:17:11.586981",
     "exception": false,
     "start_time": "2023-08-12T17:17:11.525855",
     "status": "completed"
    },
    "tags": []
   },
   "source": [
    "## Work on vocabulary  \n",
    "\n",
    "`Build vocabulary from 'reviewText' column`  "
   ]
  },
  {
   "cell_type": "code",
   "execution_count": 82,
   "id": "9bece2bf",
   "metadata": {
    "execution": {
     "iopub.execute_input": "2023-08-12T17:17:11.712181Z",
     "iopub.status.busy": "2023-08-12T17:17:11.711559Z",
     "iopub.status.idle": "2023-08-12T17:17:11.728471Z",
     "shell.execute_reply": "2023-08-12T17:17:11.726941Z"
    },
    "papermill": {
     "duration": 0.082075,
     "end_time": "2023-08-12T17:17:11.730732",
     "exception": false,
     "start_time": "2023-08-12T17:17:11.648657",
     "status": "completed"
    },
    "tags": []
   },
   "outputs": [
    {
     "data": {
      "text/plain": [
       "((162758, 2),\n",
       "                                           reviewText sentiment\n",
       " 0  Henry Selick’s first movie since ’s Coraline. ...  POSITIVE\n",
       " 1  With a cast that reads like the Vogue Oscar pa...  NEGATIVE\n",
       " 2  Creed II does not give us anything but another...  POSITIVE\n",
       " 3  I know what you're thinking, but this is no Li...  POSITIVE\n",
       " 4  Director Fernando Meirelles tells the story wi...  POSITIVE)"
      ]
     },
     "execution_count": 82,
     "metadata": {},
     "output_type": "execute_result"
    }
   ],
   "source": [
    "rt_senti = merged[[\"reviewText\", \"sentiment\"]].copy()\n",
    "rt_senti.shape, rt_senti.head()"
   ]
  },
  {
   "cell_type": "code",
   "execution_count": 83,
   "id": "d835a11a",
   "metadata": {
    "execution": {
     "iopub.execute_input": "2023-08-12T17:17:11.860207Z",
     "iopub.status.busy": "2023-08-12T17:17:11.859622Z",
     "iopub.status.idle": "2023-08-12T17:17:11.868561Z",
     "shell.execute_reply": "2023-08-12T17:17:11.867667Z"
    },
    "papermill": {
     "duration": 0.077092,
     "end_time": "2023-08-12T17:17:11.870961",
     "exception": false,
     "start_time": "2023-08-12T17:17:11.793869",
     "status": "completed"
    },
    "tags": []
   },
   "outputs": [
    {
     "data": {
      "text/plain": [
       "((55315, 1),\n",
       "                                           reviewText\n",
       " 0  Green slowly cranks up the dread with style an...\n",
       " 1  Philip Noyce's direction is elegant and unforc...\n",
       " 2  It wouldn't do to say what path Maria ultimate...\n",
       " 3  Pig is not exactly the arthouse John Wick that...\n",
       " 4  An imaginative no-budget musical of sorts abou...)"
      ]
     },
     "execution_count": 83,
     "metadata": {},
     "output_type": "execute_result"
    }
   ],
   "source": [
    "rt_test = pd.DataFrame(merged_test[\"reviewText\"].copy())\n",
    "rt_test.shape, rt_test.head()"
   ]
  },
  {
   "cell_type": "code",
   "execution_count": 84,
   "id": "d4fa0d25",
   "metadata": {
    "execution": {
     "iopub.execute_input": "2023-08-12T17:17:12.017572Z",
     "iopub.status.busy": "2023-08-12T17:17:12.016800Z",
     "iopub.status.idle": "2023-08-12T17:17:12.021963Z",
     "shell.execute_reply": "2023-08-12T17:17:12.021290Z"
    },
    "papermill": {
     "duration": 0.075971,
     "end_time": "2023-08-12T17:17:12.023992",
     "exception": false,
     "start_time": "2023-08-12T17:17:11.948021",
     "status": "completed"
    },
    "tags": []
   },
   "outputs": [],
   "source": [
    "def get_vocab(text_df, ngram_range=(1,1)):\n",
    "    print(f\"Generating vocabulary for ngram_range: {ngram_range}...\")\n",
    "    tvec1 = CountVectorizer(ngram_range=ngram_range, stop_words='english', strip_accents='unicode')\n",
    "    tvec1.fit(text_df)\n",
    "    voc_ngram = set(tvec1.vocabulary_.keys())\n",
    "    return voc_ngram"
   ]
  },
  {
   "cell_type": "code",
   "execution_count": 85,
   "id": "ba82c001",
   "metadata": {
    "execution": {
     "iopub.execute_input": "2023-08-12T17:17:12.163201Z",
     "iopub.status.busy": "2023-08-12T17:17:12.162534Z",
     "iopub.status.idle": "2023-08-12T17:17:12.173613Z",
     "shell.execute_reply": "2023-08-12T17:17:12.172209Z"
    },
    "papermill": {
     "duration": 0.083408,
     "end_time": "2023-08-12T17:17:12.175958",
     "exception": false,
     "start_time": "2023-08-12T17:17:12.092550",
     "status": "completed"
    },
    "tags": []
   },
   "outputs": [],
   "source": [
    "def get_common_vocab(df_list: list, ngram_range_list: list):\n",
    "    \"\"\"\n",
    "    Get common vocabulary from a list of dataframes.\n",
    "    \"\"\"\n",
    "    final_common_vocab = set()\n",
    "    # Get vocabulary from each dataframe for a given ngram-range\n",
    "    for ngram_range in ngram_range_list:\n",
    "        vocab_ngram = set()\n",
    "        for num, df in enumerate(df_list, start=1):\n",
    "            print(f\"Working on DF#{num} in the list of DFs provided\")\n",
    "            vocab_ngram_df = set(get_vocab(df['reviewText'], ngram_range))\n",
    "            print(f\"Vocabulary size for ngram-range {ngram_range} in DF#{num}: {len(vocab_ngram_df)}\\n\")\n",
    "            if len(vocab_ngram) > 0:\n",
    "                print(f\"Keeping only the common (intersection) words for ngram-range {ngram_range}...\")\n",
    "                vocab_ngram = vocab_ngram.intersection(vocab_ngram_df)\n",
    "            else:\n",
    "                print(f\"Words from the first df for ngram-range {ngram_range} added.\\n\")\n",
    "                vocab_ngram = vocab_ngram_df\n",
    "        print(f\"Common vocabulary for ngram-range {ngram_range}: {len(vocab_ngram)}\\n\")\n",
    "        \n",
    "        if len(final_common_vocab) > 0:\n",
    "            print(f\"Fusing (union) with final common vocabulary: ngram-range = {ngram_range}.\\n\")\n",
    "            final_common_vocab = final_common_vocab.union(vocab_ngram)\n",
    "        else:\n",
    "            print(f\"Appended first time to final common vocabulary: ngram-range = {ngram_range}.\\n\")\n",
    "            final_common_vocab = vocab_ngram\n",
    "    return final_common_vocab"
   ]
  },
  {
   "cell_type": "code",
   "execution_count": 86,
   "id": "e2dd43cf",
   "metadata": {
    "execution": {
     "iopub.execute_input": "2023-08-12T17:17:12.312082Z",
     "iopub.status.busy": "2023-08-12T17:17:12.311380Z",
     "iopub.status.idle": "2023-08-12T17:17:12.315292Z",
     "shell.execute_reply": "2023-08-12T17:17:12.314595Z"
    },
    "papermill": {
     "duration": 0.070639,
     "end_time": "2023-08-12T17:17:12.316867",
     "exception": false,
     "start_time": "2023-08-12T17:17:12.246228",
     "status": "completed"
    },
    "tags": []
   },
   "outputs": [],
   "source": [
    "# voc_1gram = get_vocab(rt_senti[\"reviewText\"], ngram_range=(1,1))\n",
    "# len(voc_1gram), voc_1gram[:10]"
   ]
  },
  {
   "cell_type": "code",
   "execution_count": 87,
   "id": "52bf470f",
   "metadata": {
    "execution": {
     "iopub.execute_input": "2023-08-12T17:17:12.446699Z",
     "iopub.status.busy": "2023-08-12T17:17:12.446390Z",
     "iopub.status.idle": "2023-08-12T17:17:12.450824Z",
     "shell.execute_reply": "2023-08-12T17:17:12.449579Z"
    },
    "papermill": {
     "duration": 0.071809,
     "end_time": "2023-08-12T17:17:12.452624",
     "exception": false,
     "start_time": "2023-08-12T17:17:12.380815",
     "status": "completed"
    },
    "tags": []
   },
   "outputs": [],
   "source": [
    "# voc_2gram = get_vocab(rt_senti[\"reviewText\"], ngram_range=(2,2))\n",
    "# len(voc_2gram), voc_2gram[:10]"
   ]
  },
  {
   "cell_type": "code",
   "execution_count": 88,
   "id": "6a429dee",
   "metadata": {
    "execution": {
     "iopub.execute_input": "2023-08-12T17:17:12.583969Z",
     "iopub.status.busy": "2023-08-12T17:17:12.583646Z",
     "iopub.status.idle": "2023-08-12T17:17:12.588104Z",
     "shell.execute_reply": "2023-08-12T17:17:12.587026Z"
    },
    "papermill": {
     "duration": 0.073403,
     "end_time": "2023-08-12T17:17:12.589984",
     "exception": false,
     "start_time": "2023-08-12T17:17:12.516581",
     "status": "completed"
    },
    "tags": []
   },
   "outputs": [],
   "source": [
    "# voc_3gram = get_vocab(rt_senti[\"reviewText\"], ngram_range=(3,3))\n",
    "# len(voc_3gram), voc_3gram[:10]"
   ]
  },
  {
   "cell_type": "code",
   "execution_count": 89,
   "id": "2ad9115a",
   "metadata": {
    "execution": {
     "iopub.execute_input": "2023-08-12T17:17:12.717664Z",
     "iopub.status.busy": "2023-08-12T17:17:12.717337Z",
     "iopub.status.idle": "2023-08-12T17:17:12.721598Z",
     "shell.execute_reply": "2023-08-12T17:17:12.720193Z"
    },
    "papermill": {
     "duration": 0.069649,
     "end_time": "2023-08-12T17:17:12.723321",
     "exception": false,
     "start_time": "2023-08-12T17:17:12.653672",
     "status": "completed"
    },
    "tags": []
   },
   "outputs": [],
   "source": [
    "# common_unigrams = get_common_vocab([rt_senti, rt_test], ngram_range_list=[(1,1)])\n",
    "# print(len(common_unigrams))\n",
    "# # sorted(list(common_unigrams))"
   ]
  },
  {
   "cell_type": "code",
   "execution_count": 90,
   "id": "d047f3b9",
   "metadata": {
    "execution": {
     "iopub.execute_input": "2023-08-12T17:17:12.850575Z",
     "iopub.status.busy": "2023-08-12T17:17:12.849541Z",
     "iopub.status.idle": "2023-08-12T17:17:12.854614Z",
     "shell.execute_reply": "2023-08-12T17:17:12.853284Z"
    },
    "papermill": {
     "duration": 0.071911,
     "end_time": "2023-08-12T17:17:12.856988",
     "exception": false,
     "start_time": "2023-08-12T17:17:12.785077",
     "status": "completed"
    },
    "tags": []
   },
   "outputs": [],
   "source": [
    "# common_bigrams = get_common_vocab([rt_senti, rt_test], ngram_range_list=[(2,2)])\n",
    "# print(len(common_bigrams))\n",
    "# # # common_bigrams"
   ]
  },
  {
   "cell_type": "code",
   "execution_count": 91,
   "id": "f43846e3",
   "metadata": {
    "execution": {
     "iopub.execute_input": "2023-08-12T17:17:12.985452Z",
     "iopub.status.busy": "2023-08-12T17:17:12.985082Z",
     "iopub.status.idle": "2023-08-12T17:17:12.989839Z",
     "shell.execute_reply": "2023-08-12T17:17:12.988848Z"
    },
    "papermill": {
     "duration": 0.071266,
     "end_time": "2023-08-12T17:17:12.991645",
     "exception": false,
     "start_time": "2023-08-12T17:17:12.920379",
     "status": "completed"
    },
    "tags": []
   },
   "outputs": [],
   "source": [
    "# common_1_2_grams = get_common_vocab([rt_senti, rt_test], ngram_range_list=[(1,1), (2,2)])\n",
    "# print(len(common_1_2_grams))\n",
    "# # sorted(list(common_1_2_grams))\n",
    "\n",
    "# # common_1_2_grams = common_unigrams | common_bigrams    # older code"
   ]
  },
  {
   "cell_type": "code",
   "execution_count": 92,
   "id": "3fdfac68",
   "metadata": {
    "execution": {
     "iopub.execute_input": "2023-08-12T17:17:13.118773Z",
     "iopub.status.busy": "2023-08-12T17:17:13.118429Z",
     "iopub.status.idle": "2023-08-12T17:17:13.122941Z",
     "shell.execute_reply": "2023-08-12T17:17:13.121526Z"
    },
    "papermill": {
     "duration": 0.071468,
     "end_time": "2023-08-12T17:17:13.125564",
     "exception": false,
     "start_time": "2023-08-12T17:17:13.054096",
     "status": "completed"
    },
    "tags": []
   },
   "outputs": [],
   "source": [
    "# common_trigrams = get_common_vocab([rt_senti, rt_test], ngram_range_list=[(3,3)])\n",
    "# print(len(common_trigrams))\n",
    "# # common_trigrams"
   ]
  },
  {
   "cell_type": "code",
   "execution_count": 93,
   "id": "ec04c367",
   "metadata": {
    "execution": {
     "iopub.execute_input": "2023-08-12T17:17:13.253824Z",
     "iopub.status.busy": "2023-08-12T17:17:13.253432Z",
     "iopub.status.idle": "2023-08-12T17:17:13.256793Z",
     "shell.execute_reply": "2023-08-12T17:17:13.256173Z"
    },
    "papermill": {
     "duration": 0.069599,
     "end_time": "2023-08-12T17:17:13.258398",
     "exception": false,
     "start_time": "2023-08-12T17:17:13.188799",
     "status": "completed"
    },
    "tags": []
   },
   "outputs": [],
   "source": [
    "# common_1_2_3_grams = get_common_vocab([rt_senti, rt_test], ngram_range_list=[(1,1), (2,2), (3,3)])\n",
    "# print(len(common_1_2_3_grams))\n",
    "# # sorted((common_1_2_3_grams))\n",
    "\n",
    "# # common_1_2_3_grams = common_unigrams | common_bigrams | common_trigrams    # Older code  "
   ]
  },
  {
   "cell_type": "markdown",
   "id": "b41b9a5b",
   "metadata": {
    "papermill": {
     "duration": 0.062878,
     "end_time": "2023-08-12T17:17:13.384096",
     "exception": false,
     "start_time": "2023-08-12T17:17:13.321218",
     "status": "completed"
    },
    "tags": []
   },
   "source": [
    "### Find common vocabulary between text with positive and negative sentiments in training dataset  "
   ]
  },
  {
   "cell_type": "code",
   "execution_count": 94,
   "id": "b4740513",
   "metadata": {
    "execution": {
     "iopub.execute_input": "2023-08-12T17:17:13.511391Z",
     "iopub.status.busy": "2023-08-12T17:17:13.511029Z",
     "iopub.status.idle": "2023-08-12T17:17:13.537376Z",
     "shell.execute_reply": "2023-08-12T17:17:13.536568Z"
    },
    "papermill": {
     "duration": 0.09253,
     "end_time": "2023-08-12T17:17:13.539129",
     "exception": false,
     "start_time": "2023-08-12T17:17:13.446599",
     "status": "completed"
    },
    "tags": []
   },
   "outputs": [
    {
     "data": {
      "text/plain": [
       "(108761, 2)"
      ]
     },
     "execution_count": 94,
     "metadata": {},
     "output_type": "execute_result"
    }
   ],
   "source": [
    "# Dataframe for positive sentiment\n",
    "rt_senti_pos = rt_senti.loc[rt_senti['sentiment'] == 'POSITIVE'].copy()\n",
    "rt_senti_pos.shape"
   ]
  },
  {
   "cell_type": "code",
   "execution_count": 95,
   "id": "6673e592",
   "metadata": {
    "execution": {
     "iopub.execute_input": "2023-08-12T17:17:13.664309Z",
     "iopub.status.busy": "2023-08-12T17:17:13.663922Z",
     "iopub.status.idle": "2023-08-12T17:17:13.686243Z",
     "shell.execute_reply": "2023-08-12T17:17:13.685249Z"
    },
    "papermill": {
     "duration": 0.086949,
     "end_time": "2023-08-12T17:17:13.688093",
     "exception": false,
     "start_time": "2023-08-12T17:17:13.601144",
     "status": "completed"
    },
    "tags": []
   },
   "outputs": [
    {
     "data": {
      "text/plain": [
       "(53997, 2)"
      ]
     },
     "execution_count": 95,
     "metadata": {},
     "output_type": "execute_result"
    }
   ],
   "source": [
    "# Dataframe for negative sentiment\n",
    "rt_senti_neg = rt_senti.loc[rt_senti['sentiment'] == 'NEGATIVE'].copy()\n",
    "rt_senti_neg.shape"
   ]
  },
  {
   "cell_type": "code",
   "execution_count": 96,
   "id": "d9f34eba",
   "metadata": {
    "execution": {
     "iopub.execute_input": "2023-08-12T17:17:13.814005Z",
     "iopub.status.busy": "2023-08-12T17:17:13.813668Z",
     "iopub.status.idle": "2023-08-12T17:17:13.818041Z",
     "shell.execute_reply": "2023-08-12T17:17:13.816842Z"
    },
    "papermill": {
     "duration": 0.070575,
     "end_time": "2023-08-12T17:17:13.820561",
     "exception": false,
     "start_time": "2023-08-12T17:17:13.749986",
     "status": "completed"
    },
    "tags": []
   },
   "outputs": [],
   "source": [
    "# Generate stop words/phrases specific for this project data  \n",
    "\n",
    "# common_1_2_3_grams_sentiment = get_common_vocab([rt_senti_pos, rt_senti_neg], ngram_range_list=[(1,1), (2,2), (3,3)])\n",
    "# print(len(common_1_2_3_grams_sentiment))\n",
    "# # sorted(list(common_1_2_3_grams_sentiment))"
   ]
  },
  {
   "cell_type": "code",
   "execution_count": 97,
   "id": "ca2d9acc",
   "metadata": {
    "execution": {
     "iopub.execute_input": "2023-08-12T17:17:13.949520Z",
     "iopub.status.busy": "2023-08-12T17:17:13.949187Z",
     "iopub.status.idle": "2023-08-12T17:17:13.953322Z",
     "shell.execute_reply": "2023-08-12T17:17:13.952386Z"
    },
    "papermill": {
     "duration": 0.070627,
     "end_time": "2023-08-12T17:17:13.955138",
     "exception": false,
     "start_time": "2023-08-12T17:17:13.884511",
     "status": "completed"
    },
    "tags": []
   },
   "outputs": [],
   "source": [
    "# Generate and store the entire vocabulary of training data  \n",
    "\n",
    "# train_1_2_3_grams = get_vocab(rt_senti['reviewText'], ngram_range=(1,3))\n",
    "# print(len(train_1_2_3_grams))\n",
    "# # sorted(train_1_2_3_grams)"
   ]
  },
  {
   "cell_type": "code",
   "execution_count": 98,
   "id": "44b013f5",
   "metadata": {
    "execution": {
     "iopub.execute_input": "2023-08-12T17:17:14.081214Z",
     "iopub.status.busy": "2023-08-12T17:17:14.080868Z",
     "iopub.status.idle": "2023-08-12T17:17:14.085152Z",
     "shell.execute_reply": "2023-08-12T17:17:14.084174Z"
    },
    "papermill": {
     "duration": 0.069726,
     "end_time": "2023-08-12T17:17:14.087511",
     "exception": false,
     "start_time": "2023-08-12T17:17:14.017785",
     "status": "completed"
    },
    "tags": []
   },
   "outputs": [],
   "source": [
    "# type(train_1_2_3_grams)"
   ]
  },
  {
   "cell_type": "code",
   "execution_count": 99,
   "id": "6b585078",
   "metadata": {
    "execution": {
     "iopub.execute_input": "2023-08-12T17:17:14.215443Z",
     "iopub.status.busy": "2023-08-12T17:17:14.215084Z",
     "iopub.status.idle": "2023-08-12T17:17:14.219739Z",
     "shell.execute_reply": "2023-08-12T17:17:14.218545Z"
    },
    "papermill": {
     "duration": 0.071515,
     "end_time": "2023-08-12T17:17:14.221710",
     "exception": false,
     "start_time": "2023-08-12T17:17:14.150195",
     "status": "completed"
    },
    "tags": []
   },
   "outputs": [],
   "source": [
    "# Get the vocabulary that should be used in the final models  \n",
    "# relevant_vocab = train_1_2_3_grams - common_1_2_3_grams_sentiment\n",
    "# print(len(relevant_vocab))"
   ]
  },
  {
   "cell_type": "markdown",
   "id": "eaa61ad0",
   "metadata": {
    "papermill": {
     "duration": 0.06227,
     "end_time": "2023-08-12T17:17:14.347210",
     "exception": false,
     "start_time": "2023-08-12T17:17:14.284940",
     "status": "completed"
    },
    "tags": []
   },
   "source": [
    "## Submit_v4 for merged file models  "
   ]
  },
  {
   "cell_type": "markdown",
   "id": "dc4fa1d5",
   "metadata": {
    "papermill": {
     "duration": 0.062981,
     "end_time": "2023-08-12T17:17:14.473539",
     "exception": false,
     "start_time": "2023-08-12T17:17:14.410558",
     "status": "completed"
    },
    "tags": []
   },
   "source": [
    "### More Helper functions  "
   ]
  },
  {
   "cell_type": "code",
   "execution_count": 100,
   "id": "f94bc382",
   "metadata": {
    "execution": {
     "iopub.execute_input": "2023-08-12T17:17:14.602043Z",
     "iopub.status.busy": "2023-08-12T17:17:14.601716Z",
     "iopub.status.idle": "2023-08-12T17:17:14.606634Z",
     "shell.execute_reply": "2023-08-12T17:17:14.606053Z"
    },
    "papermill": {
     "duration": 0.071532,
     "end_time": "2023-08-12T17:17:14.608334",
     "exception": false,
     "start_time": "2023-08-12T17:17:14.536802",
     "status": "completed"
    },
    "tags": []
   },
   "outputs": [],
   "source": [
    "# Testing predictions on missing reviewtext columns  \n",
    "\n",
    "def predict_on_missing_review_data(pipe, selected_features, merged_train):\n",
    "    missing_reviews_train = merged_train.loc[merged_train['reviewYN'] == 1]\n",
    "    missing_reviews_train.reset_index(drop=True)\n",
    "    X_train_miss_revs = missing_reviews_train.drop('sentiment', axis = 1)\n",
    "    X_train_miss_revs = X_train_miss_revs[selected_features]\n",
    "    y_train_miss_revs = missing_reviews_train['sentiment']\n",
    "    \n",
    "    y_pred_miss_revs = pipe.predict(X_train_miss_revs)\n",
    "#     print('Predictions on rows which had missing reviewText')\n",
    "    print(\"Confusion matrix and f1-score for rows which have no reviewText in X_train: \")\n",
    "    print(confusion_matrix(y_train_miss_revs, y_pred_miss_revs, labels=pipe.classes_))\n",
    "    \n",
    "    return f1_score(y_train_miss_revs, y_pred_miss_revs, average='micro')"
   ]
  },
  {
   "cell_type": "code",
   "execution_count": 101,
   "id": "2f0e06eb",
   "metadata": {
    "execution": {
     "iopub.execute_input": "2023-08-12T17:17:14.734996Z",
     "iopub.status.busy": "2023-08-12T17:17:14.734669Z",
     "iopub.status.idle": "2023-08-12T17:17:14.756902Z",
     "shell.execute_reply": "2023-08-12T17:17:14.756279Z"
    },
    "papermill": {
     "duration": 0.087637,
     "end_time": "2023-08-12T17:17:14.759034",
     "exception": false,
     "start_time": "2023-08-12T17:17:14.671397",
     "status": "completed"
    },
    "tags": []
   },
   "outputs": [],
   "source": [
    "# Function to build pipelines for GridSearchCV which goes into the final 'submit' function  \n",
    "def build_pipeline(selected_model=LogisticRegression(), \n",
    "                   selected_features={'txt': ['reviewText']}, \n",
    "                   param_grid=None,\n",
    "                   vocab=None,\n",
    "                   vocab_usage='tfidf',\n",
    "                   strip_accents='unicode', \n",
    "                   add_countvec=False):\n",
    "    # Encoders  \n",
    "    ohe = OneHotEncoder(sparse_output=False, handle_unknown='ignore')\n",
    "    MMscaler = MinMaxScaler()\n",
    "    StdScaler = StandardScaler()\n",
    "    RobScaler = RobustScaler()\n",
    "    \n",
    "    # Text features ['reviewText', 'reviewerName', 'movieid', 'genre', 'director']\n",
    "    tfidf_vec = TfidfVectorizer(ngram_range=(1,2))\n",
    "    count_vec = CountVectorizer(ngram_range=(1,2))\n",
    "    txt_pipe = Pipeline(steps=[\n",
    "                            (\"tvec\", TfidfVectorizer(ngram_range=(1,3), strip_accents=strip_accents))    # Adjust ngram_range here for reviewText\n",
    "                        ])\n",
    "    txt_pipe_vocab = Pipeline(steps=[\n",
    "                            (\"tvec\", TfidfVectorizer(ngram_range=(1,3), strip_accents=strip_accents, vocabulary=vocab))    # Adjust ngram_range here for reviewText\n",
    "                        ])\n",
    "    txt_pipe_2 = Pipeline(steps=[\n",
    "                            (\"tvec\", TfidfVectorizer(ngram_range=(2,2)))\n",
    "                        ])\n",
    "    txt_pipe_3 = Pipeline(steps=[\n",
    "                            (\"tvec\", TfidfVectorizer(ngram_range=(1,1)))\n",
    "                        ])\n",
    "    txt_pipe_4 = Pipeline(steps=[\n",
    "                            (\"tvec\", TfidfVectorizer(ngram_range=(1,3)))    # Adjust ngram_range here for reviewText\n",
    "                        ])\n",
    "    txt_pipe_title  = Pipeline(steps=[\n",
    "                            (\"tvec\", TfidfVectorizer(ngram_range=(1,5)))    # Adjust ngram_range here for reviewText\n",
    "                        ])\n",
    "    \n",
    "    # Additional pipes for count vectorizer\n",
    "    txt_pipe_countvec = Pipeline(steps=[\n",
    "                            (\"cvec\", CountVectorizer(ngram_range=(1,3), strip_accents=strip_accents))    # Adjust ngram_range here for reviewText\n",
    "                        ])\n",
    "    txt_pipe_countvec_vocab = Pipeline(steps=[\n",
    "                            (\"cvec\", CountVectorizer(ngram_range=(1,3), strip_accents=strip_accents, vocabulary=vocab))    # Adjust ngram_range here for reviewText\n",
    "                        ])\n",
    "    \n",
    "    txt_pipe_countvec_ratingContents = Pipeline(steps=[\n",
    "                            (\"cvec\", CountVectorizer(ngram_range=(1,5)))    # Adjust ngram_range here for reviewText\n",
    "                        ])\n",
    "    txt_pipe_countvec_rcSorted = Pipeline(steps=[\n",
    "                            (\"cvec\", CountVectorizer(ngram_range=(1,1)))    # Adjust ngram_range here for reviewText\n",
    "                        ])\n",
    "    txt_pipe_countvec_genre = Pipeline(steps=[\n",
    "                            (\"cvec\", CountVectorizer(ngram_range=(1,1)))\n",
    "                        ])\n",
    "    txt_pipe_countvec_genreSorted = Pipeline(steps=[\n",
    "                            (\"cvec\", CountVectorizer(ngram_range=(1,5)))\n",
    "                        ])\n",
    "    txt_pipe_countvec_distributor = Pipeline(steps=[\n",
    "                            (\"cvec\", CountVectorizer(ngram_range=(1,3)))    # Adjust ngram_range here for reviewText\n",
    "                        ])\n",
    "    txt_pipe_countvec_title = Pipeline(steps=[\n",
    "                            (\"cvec\", CountVectorizer(ngram_range=(1,5), strip_accents=strip_accents))\n",
    "                        ])\n",
    "    txt_pipe_countvec_movieid = Pipeline(steps=[\n",
    "                            (\"cvec\", CountVectorizer(ngram_range=(1,1)))\n",
    "                        ])\n",
    "    # Basic pipes  \n",
    "    TFs = []\n",
    "    try:\n",
    "        for c in selected_features['cat']:\n",
    "            TFs.append((f\"cat_{c}\", ohe, [c]))\n",
    "    except:\n",
    "        pass\n",
    "    try:\n",
    "        for n in selected_features['num']:\n",
    "            if n in [\"runtimeMinutes\", \"boxOffice\", \"releaseDiff\"]:\n",
    "                TFs.append((f\"num_{n}\", RobScaler, [n]))\n",
    "                TFs.append((f\"num_{n}_ss\", StdScaler, [n]))\n",
    "                \n",
    "            else:\n",
    "                TFs.append((f\"num_{n}\", StdScaler, [n]))\n",
    "    except:\n",
    "        pass\n",
    "    try:\n",
    "        for t in selected_features['txt']:\n",
    "            if t in ['director', 'reviewerName']:\n",
    "                TFs.append((f\"txt_{t}\", txt_pipe_2, t))\n",
    "            elif t in [\"originalLanguage\", \"releaseYear\"]:\n",
    "                TFs.append((f\"txt_{t}\", txt_pipe_3, t))\n",
    "            elif t in ['genre']:\n",
    "                TFs.append((f\"txt_{t}\", txt_pipe_countvec_genre, t))\n",
    "            elif t in [\"genreSorted\"]:\n",
    "                TFs.append((f\"txt_{t}\", txt_pipe_countvec_genreSorted, t))\n",
    "            elif t in [\"distributor\"]:\n",
    "                TFs.append((f\"txt_{t}\", txt_pipe_countvec_distributor, t))\n",
    "            elif t in ['reviewText']:\n",
    "#                 if vocab and (vocab_usage in [\"tfidf\", \"both\"]):\n",
    "#                     txt_pipe.set_params(tvec__vocabulary=vocab)\n",
    "#                     txt_pipe.set_params(tvec__stop_words='english')\n",
    "                TFs.append((f\"txt_{t}\", txt_pipe, t))\n",
    "            elif t in ['reviewText_2']:\n",
    "                if add_countvec:\n",
    "#                     if vocab and (vocab_usage in [\"count\", \"both\"]):\n",
    "#                         txt_pipe_countvec.set_params(cvec__vocabulary=vocab)\n",
    "#                         txt_pipe_countvec.set_params(cvec__stop_words='english')\n",
    "                    TFs.append((f\"txt_{t}\", txt_pipe_countvec, t))\n",
    "            elif t in ['reviewText_3']:\n",
    "                if vocab_usage == 'tfidf':\n",
    "                    TFs.append((f\"txt_{t}\", txt_pipe_vocab, t))\n",
    "                elif vocab_usage == 'count':\n",
    "                    TFs.append((f\"txt_{t}\", txt_pipe_countvec_vocab, t))\n",
    "            elif t in [\"ratingContents\"]:\n",
    "                TFs.append((f\"txt_{t}\", txt_pipe_countvec_ratingContents, t))\n",
    "            elif t in [\"rcSorted\"]:\n",
    "                TFs.append((f\"txt_{t}\", txt_pipe_countvec_rcSorted, t))\n",
    "            elif t in [\"title\"]:\n",
    "                TFs.append((f\"txt_{t}\", txt_pipe_title, t))\n",
    "            elif t in [\"movieid\"]:\n",
    "                TFs.append((f\"txt_{t}\", txt_pipe_countvec_movieid, t))\n",
    "            else:\n",
    "                pass\n",
    "    except:\n",
    "        pass\n",
    "\n",
    "    # Build ColumnTransformer  \n",
    "    ct = ColumnTransformer(transformers=TFs, remainder='drop')\n",
    "\n",
    "    # Build Pipeline\n",
    "    pipe = Pipeline(steps=[('ct', ct), ('model', selected_model)])\n",
    "    print(\"\\nPipeline built successfully.\")\n",
    "\n",
    "    # Use the pipe in GridSearchCV\n",
    "    if param_grid == None:\n",
    "        param_grid_temp = {\"model__C\": [1],\n",
    "                     'model__solver': ['liblinear']}\n",
    "        print(\"Full GridSearchCV pipeline built successfully with basic default param_grid.\\n\")\n",
    "        pipeCV = GridSearchCV(pipe, param_grid_temp, cv=10, scoring=\"f1_micro\", n_jobs=-1)\n",
    "        return pipeCV\n",
    "    \n",
    "    # GridSearchCV if param_grid provided\n",
    "    if param_grid:\n",
    "        pipeCV = GridSearchCV(pipe, param_grid, cv=10, scoring=\"f1_micro\", n_jobs=-1)\n",
    "        print(\"\\nFull GridSearchCV pipeline built successfully.\")\n",
    "        return pipeCV"
   ]
  },
  {
   "cell_type": "code",
   "execution_count": 102,
   "id": "f6a08c81",
   "metadata": {
    "execution": {
     "iopub.execute_input": "2023-08-12T17:17:14.892049Z",
     "iopub.status.busy": "2023-08-12T17:17:14.891051Z",
     "iopub.status.idle": "2023-08-12T17:17:14.903807Z",
     "shell.execute_reply": "2023-08-12T17:17:14.903179Z"
    },
    "papermill": {
     "duration": 0.081197,
     "end_time": "2023-08-12T17:17:14.905672",
     "exception": false,
     "start_time": "2023-08-12T17:17:14.824475",
     "status": "completed"
    },
    "tags": []
   },
   "outputs": [],
   "source": [
    "def preprocessor():\n",
    "    \n",
    "    # Merge and preprocess train and movies data  \n",
    "    merged = select_features(load_csv(\"train\"), load_csv(\"movies\"), row_thresh_null=None)    # Decide if you want to drop any rows containing lot of nulls\n",
    "    # Impute missing numerical values  \n",
    "    # Simple Imputer for ['audienceScore', 'runtimeMinutes', 'boxOffice'] and 'releaseDate' columns\n",
    "    si = SimpleImputer(strategy='median')\n",
    "    merged[['audienceScore', 'runtimeMinutes', 'boxOffice']] = si.fit_transform(merged[['audienceScore', 'runtimeMinutes', 'boxOffice']])\n",
    "    merged['releaseDate'] = merged[\"releaseDate\"].fillna(merged[\"releaseDate\"].median())    \n",
    "\n",
    "    # Create new feature columns\n",
    "    \n",
    "    # Convert audienceScore to categories  \n",
    "    num_bins_as = 20\n",
    "    merged[\"audScoreBins\"] = pd.cut(merged['audienceScore'], bins=num_bins_as, labels=False)\n",
    "\n",
    "    # Convert runtimeMinutes to categories  \n",
    "#     num_bins_rt = 20\n",
    "    merged[\"runtimeBins\"] = pd.cut(merged['runtimeMinutes'], bins=[0,75,120,180,565], labels=[4,3,2,1])\n",
    "    \n",
    "    # Convert boxOffice to categories  \n",
    "    num_bins_bo = 5\n",
    "    merged[\"boxOfficeBins\"] = pd.cut(merged['boxOffice'], bins=num_bins_bo, labels=False)\n",
    "    \n",
    "    # Convert releaseDiff to categories  \n",
    "    num_bins_rd = 5\n",
    "    merged[\"releaseDiffBins\"] = pd.cut(merged['releaseDiff'], bins=[-1, 180, 360, 1000, 40000], labels=[0, 1, 2, 3])\n",
    "    \n",
    "    # Check1 (preprocessor)\n",
    "    print(\"\\nCheck 1 (preprocessor) complete.\")\n",
    "    print(f\"Shape of X_train: {merged.shape}\")\n",
    "    print(f\"Features in X_train: {merged.columns}\")\n",
    "\n",
    "\n",
    "    \n",
    "    # Merge and preprocess test and movies data  \n",
    "    merged_test = select_features(load_csv(\"test\"), load_csv(\"movies\"))\n",
    "    # Transform ['audienceScore', 'runtimeMinutes', 'boxOffice'] columns in merged_test using 'si' fitted on 'merged' df  \n",
    "    merged_test[['audienceScore', 'runtimeMinutes', 'boxOffice']] = si.transform(merged_test[['audienceScore', 'runtimeMinutes', 'boxOffice']])\n",
    "    # Fill 'releaseDate' column in 'merged_test' df with median from the train (merged) df  \n",
    "    merged_test['releaseDate'] = merged_test[\"releaseDate\"].fillna(merged[\"releaseDate\"].median())\n",
    "\n",
    "    \n",
    "    # Create new feature columns\n",
    "    \n",
    "    # Convert audienceScore to categories  \n",
    "    num_bins_as = 20\n",
    "    merged_test[\"audScoreBins\"] = pd.cut(merged_test['audienceScore'], bins=num_bins_as, labels=False)\n",
    "    \n",
    "    # Convert runtimeMinutes to categories  \n",
    "#     num_bins_rt = 20\n",
    "    merged_test[\"runtimeBins\"] = pd.cut(merged_test['runtimeMinutes'], bins=[0,75,120,180,565], labels=[4,3,2,1])\n",
    "    \n",
    "    # Convert boxOffice to categories  \n",
    "    num_bins_bo = 5\n",
    "    merged_test[\"boxOfficeBins\"] = pd.cut(merged_test['boxOffice'], bins=num_bins_bo, labels=False)\n",
    "    \n",
    "    # Convert releaseDiff to categories  \n",
    "    num_bins_rd = 5\n",
    "    merged_test[\"releaseDiffBins\"] = pd.cut(merged_test['releaseDiff'], bins=[-1, 180, 360, 1000, 40000], labels=[0, 1, 2, 3])\n",
    "    \n",
    "    \n",
    "    # Check2 (preprocessor)\n",
    "    print(\"\\nCheck 2 (preprocessor) complete.\")\n",
    "    print(f\"Shape of X_test: {merged_test.shape}\")\n",
    "    print(f\"Features in X_test: {merged_test.columns}\")\n",
    "\n",
    "    return merged, merged_test\n",
    "    "
   ]
  },
  {
   "cell_type": "code",
   "execution_count": 103,
   "id": "51760718",
   "metadata": {
    "execution": {
     "iopub.execute_input": "2023-08-12T17:17:15.085879Z",
     "iopub.status.busy": "2023-08-12T17:17:15.084566Z",
     "iopub.status.idle": "2023-08-12T17:17:15.088884Z",
     "shell.execute_reply": "2023-08-12T17:17:15.088350Z"
    },
    "papermill": {
     "duration": 0.122898,
     "end_time": "2023-08-12T17:17:15.090742",
     "exception": false,
     "start_time": "2023-08-12T17:17:14.967844",
     "status": "completed"
    },
    "tags": []
   },
   "outputs": [],
   "source": [
    "# merged, merged_test = preprocessor()\n",
    "# merged.shape, merged_test.shape"
   ]
  },
  {
   "cell_type": "code",
   "execution_count": 104,
   "id": "c890e259",
   "metadata": {
    "execution": {
     "iopub.execute_input": "2023-08-12T17:17:15.219203Z",
     "iopub.status.busy": "2023-08-12T17:17:15.218311Z",
     "iopub.status.idle": "2023-08-12T17:17:15.238379Z",
     "shell.execute_reply": "2023-08-12T17:17:15.237411Z"
    },
    "papermill": {
     "duration": 0.087287,
     "end_time": "2023-08-12T17:17:15.240728",
     "exception": false,
     "start_time": "2023-08-12T17:17:15.153441",
     "status": "completed"
    },
    "tags": []
   },
   "outputs": [],
   "source": [
    "def submit_v5(classifiers= [\n",
    "                {'selected_model' : LogisticRegression(C=1, solver='saga', max_iter=100000), \n",
    "                  'selected_features' : {'num': ['audienceScore']}, \n",
    "                  'param_grid' : None,\n",
    "                  'vocab' : None,\n",
    "                  'vocab_usage' : 'tfidf',\n",
    "                  'strip_accents' : 'unicode', \n",
    "                  'add_countvec' : False}\n",
    "              ]):\n",
    "    \n",
    "    \"\"\"Takes a list of dictionaries each with same keys as mentioned in the default dictionary in function definition\"\"\"\n",
    "    \n",
    "    print(\"\\nRunning the submit_v5 function...\")\n",
    "    \n",
    "    merged, merged_test = preprocessor()\n",
    "    print(f\"Preprocessing of train and test datasets complete.\")\n",
    "    \n",
    "    # Build vocabulary (if vocab is True)\n",
    "    vocab = None\n",
    "    for item in classifiers:\n",
    "        if item['vocab']:\n",
    "            vocab = True\n",
    "            break\n",
    "    \n",
    "    if vocab == True:\n",
    "        # Generate and store the entire vocabulary of training data  \n",
    "        print(f\"Generating stop words/phrases specific for this project data...\")\n",
    "        train_1_2_3_grams = get_vocab(merged['reviewText'], ngram_range=(1,3))\n",
    "        print(f\"Size of vocabulary of training data: {len(train_1_2_3_grams)}\")\n",
    "        # sorted(train_1_2_3_grams)\n",
    "\n",
    "        # Generate stop words/phrases specific for this project data  \n",
    "        print(f\"Generating stop words/phrases specific for this project data...\")\n",
    "        common_1_2_3_grams = get_common_vocab([merged, merged_test], ngram_range_list=[(1,1), (2,2), (3,3)])\n",
    "        print(f\"Number of stop words: {len(common_1_2_3_grams)}\")\n",
    "\n",
    "        # Get the vocabulary that should be used in the final models  \n",
    "        print(f\"Getting the vocabulary that will be fed to the final model(s)...\")\n",
    "        relevant_vocab = list(train_1_2_3_grams - common_1_2_3_grams)\n",
    "        print(f\"Size of the final relevant vocabulary: {len(relevant_vocab)}\")\n",
    "    else:\n",
    "        pass\n",
    "    \n",
    "    \n",
    "    # Create a list to store estimators  \n",
    "    estimators = []     # List of tuples of the form ('classifier_name', 'classifer_instance')\n",
    "    \n",
    "    # Build a dataframe of predictions  \n",
    "    predictions_df = pd.DataFrame()\n",
    "    \n",
    "    # Build a separate pipeline and fit it on selected features (and param_grid) for each item in classifiers list\n",
    "    for n, item in enumerate(classifiers, start=1):\n",
    "        selected_model = item['selected_model']\n",
    "        selected_features = item['selected_features']\n",
    "        param_grid = item['param_grid']\n",
    "        vocab = item['vocab']\n",
    "        vocab_usage = item['vocab_usage']\n",
    "        strip_accents = item['strip_accents']\n",
    "        add_countvec = item['add_countvec']\n",
    "    \n",
    "    \n",
    "        # Fine tune selected_features\n",
    "        if add_countvec:\n",
    "            if 'txt' in selected_features.keys():\n",
    "                if \"reviewText_2\" not in selected_features['txt']:\n",
    "                    selected_features['txt'].append('reviewText_2')\n",
    "        if vocab:\n",
    "            if 'txt' in selected_features.keys():\n",
    "                if \"reviewText_3\" not in selected_features['txt']:\n",
    "                    selected_features['txt'].append('reviewText_3')\n",
    "        else:\n",
    "            print(f\"No vocabulary provided/used for this model.\")\n",
    "        print(f\"\\nSelected features: {selected_features}\")\n",
    "        \n",
    "        if type(vocab) in [type([1, 2]), type({1, 2})]:\n",
    "            vocab = vocab\n",
    "        elif vocab == True:\n",
    "            vocab = common_1_2_3_grams    # Choose vocabulary here\n",
    "\n",
    "        # Modify X_train for the given 'item' by creating a custom 'features' list\n",
    "        features = []\n",
    "        for item in selected_features.values():\n",
    "            features.extend(item)\n",
    "            \n",
    "        # Add new columns as needed  \n",
    "        if add_countvec:\n",
    "            merged['reviewText_2'] = merged['reviewText']\n",
    "        if vocab:\n",
    "            merged['reviewText_3'] = merged['reviewText']\n",
    "        \n",
    "        # Create X_tran, y_train\n",
    "        X_train = merged.drop(labels=\"sentiment\", axis=1)\n",
    "        y_train = merged[\"sentiment\"]\n",
    "        \n",
    "        X_train = merged[features].copy()\n",
    "\n",
    "\n",
    "        # Build Pipeline\n",
    "        pipe = build_pipeline(selected_model, selected_features, param_grid=param_grid, \n",
    "                              vocab=vocab, vocab_usage='tfidf', \n",
    "                              strip_accents=strip_accents, add_countvec=add_countvec)\n",
    "        print(pipe)\n",
    "\n",
    "        \n",
    "        # Fit \n",
    "        print(f\"\\nTraining started with full pipeline for classifier #{n}/{len(classifiers)}...\")\n",
    "        pipe.fit(X_train, y_train)\n",
    "        \n",
    "\n",
    "        # Check1\n",
    "        print(f\"\\nCheck #{n}.1 complete.\")\n",
    "        print(f\"Details of the best model using classifier #{n} (GridSearchCV) on X_train: \")\n",
    "        print(f\"Best Params: {pipe.best_params_}\")\n",
    "        print(f\"Best Score: {pipe.best_score_}\")\n",
    "        \n",
    "        print(predict_on_missing_review_data(pipe, features, merged))    # Function defined above\n",
    "        \n",
    "        estimators.append((f\"classifier_{n}\", pipe))\n",
    "        print(f\"classifier_{n} successfully added to 'estimators' list\")\n",
    "\n",
    "        \n",
    "        # Predict on train data \n",
    "        y_train_pred = pipe.predict(X_train)\n",
    "        print(f\"Confusion matrix for predictions on training data: \")\n",
    "        print(confusion_matrix(y_train, y_train_pred))\n",
    "        f1_train = f1_score(y_train, y_train_pred, average=\"micro\")\n",
    "        print(f\"F1-score on training data: {f1_train}\")\n",
    "        \n",
    "        \n",
    "        # Predict on test.csv file\n",
    "        # Add new columns as needed \n",
    "        if add_countvec:\n",
    "            merged_test['reviewText_2'] = merged_test['reviewText']\n",
    "        if vocab:\n",
    "            merged_test['reviewText_3'] = merged_test['reviewText']\n",
    "        \n",
    "               \n",
    "        X_test = merged_test[features].copy()\n",
    "\n",
    "    \n",
    "        y_pred = pipe.predict(X_test)\n",
    "        \n",
    "        # Insert predictions in 'predictions_df' dataframe\n",
    "        predictions_df.insert(n-1, f\"pred_{n}\", y_pred, allow_duplicates=False)\n",
    "        print(predictions_df.shape)\n",
    "        print(predictions_df.head(10))\n",
    "        \n",
    "    \n",
    "        # Check2\n",
    "        print(f\"\\nCheck #{n}.2 complete.\")\n",
    "    #     cv_results_df = pd.DataFrame(pipe.cv_results_)\n",
    "        print(\"Details of the best model using full pipeline (GridSearchCV) on X_train: \")\n",
    "#         print(f\"Best Estimator: {pipe.best_estimator_}\")\n",
    "        print(f\"Best Params: {pipe.best_params_}\")\n",
    "        print(f\"Best Score: {pipe.best_score_}\")\n",
    "#         print(f\"Best Index: {pipe.best_index_}\")\n",
    "        print(f\"Refit Time: {pipe.refit_time_}\")\n",
    "    #     print(f\"Shape of CV results dataframe: {cv_results_df.shape}\")\n",
    "    \n",
    "    # Voting classifier (custom) with hard voting\n",
    "    # Calculate the MODE for all predictions (Note that the 'predictions_df' generated above should have odd number of columns)\n",
    "    pred_df_final = predictions_df.mode('columns')\n",
    "    pred_df_final.columns = [\"sentiment\"]\n",
    "    pred_df_final.index.name = \"id\"\n",
    "    pred_df_final.to_csv(\"submission.csv\")\n",
    "    \n",
    "    print(\"\\nSuccessfully created the submission file!!!\")\n",
    "    \n",
    "#     return pipe.cv_results_\n",
    "    return pred_df_final, estimators"
   ]
  },
  {
   "cell_type": "markdown",
   "id": "77d60096",
   "metadata": {
    "papermill": {
     "duration": 0.063591,
     "end_time": "2023-08-12T17:17:15.368099",
     "exception": false,
     "start_time": "2023-08-12T17:17:15.304508",
     "status": "completed"
    },
    "tags": []
   },
   "source": [
    "## Use 'submit_v5' function  "
   ]
  },
  {
   "cell_type": "code",
   "execution_count": 105,
   "id": "56b1137a",
   "metadata": {
    "execution": {
     "iopub.execute_input": "2023-08-12T17:17:15.496838Z",
     "iopub.status.busy": "2023-08-12T17:17:15.496459Z",
     "iopub.status.idle": "2023-08-12T17:17:15.499742Z",
     "shell.execute_reply": "2023-08-12T17:17:15.499094Z"
    },
    "papermill": {
     "duration": 0.069716,
     "end_time": "2023-08-12T17:17:15.501293",
     "exception": false,
     "start_time": "2023-08-12T17:17:15.431577",
     "status": "completed"
    },
    "tags": []
   },
   "outputs": [],
   "source": [
    "# Try submit_v5 with default settings\n",
    "# submit_v5()"
   ]
  },
  {
   "cell_type": "code",
   "execution_count": 106,
   "id": "caf41341",
   "metadata": {
    "execution": {
     "iopub.execute_input": "2023-08-12T17:17:15.629325Z",
     "iopub.status.busy": "2023-08-12T17:17:15.628763Z",
     "iopub.status.idle": "2023-08-12T17:39:41.858519Z",
     "shell.execute_reply": "2023-08-12T17:39:41.857462Z"
    },
    "papermill": {
     "duration": 1346.296361,
     "end_time": "2023-08-12T17:39:41.860451",
     "exception": false,
     "start_time": "2023-08-12T17:17:15.564090",
     "status": "completed"
    },
    "tags": []
   },
   "outputs": [
    {
     "name": "stdout",
     "output_type": "stream",
     "text": [
      "\n",
      "Running the submit_v5 function...\n",
      "\n",
      "Check 1 (preprocessor) complete.\n",
      "Shape of X_train: (162758, 30)\n",
      "Features in X_train: Index(['movieid', 'reviewerName', 'isFrequentReviewer', 'reviewText',\n",
      "       'sentiment', 'title', 'audienceScore', 'rating', 'ratingContents',\n",
      "       'releaseDateTheaters', 'releaseDateStreaming', 'runtimeMinutes',\n",
      "       'genre', 'originalLanguage', 'director', 'boxOffice', 'distributor',\n",
      "       'soundType', 'reviewYN', 'reviewWC', 'genreSorted', 'rcSorted',\n",
      "       'releaseDate', 'releaseYear', 'releaseMonth', 'releaseDiff',\n",
      "       'audScoreBins', 'runtimeBins', 'boxOfficeBins', 'releaseDiffBins'],\n",
      "      dtype='object')\n",
      "\n",
      "Check 2 (preprocessor) complete.\n",
      "Shape of X_test: (55315, 29)\n",
      "Features in X_test: Index(['movieid', 'reviewerName', 'isFrequentReviewer', 'reviewText', 'title',\n",
      "       'audienceScore', 'rating', 'ratingContents', 'releaseDateTheaters',\n",
      "       'releaseDateStreaming', 'runtimeMinutes', 'genre', 'originalLanguage',\n",
      "       'director', 'boxOffice', 'distributor', 'soundType', 'reviewYN',\n",
      "       'reviewWC', 'genreSorted', 'rcSorted', 'releaseDate', 'releaseYear',\n",
      "       'releaseMonth', 'releaseDiff', 'audScoreBins', 'runtimeBins',\n",
      "       'boxOfficeBins', 'releaseDiffBins'],\n",
      "      dtype='object')\n",
      "Preprocessing of train and test datasets complete.\n",
      "Generating stop words/phrases specific for this project data...\n",
      "Generating vocabulary for ngram_range: (1, 3)...\n",
      "Size of vocabulary of training data: 2610596\n",
      "Generating stop words/phrases specific for this project data...\n",
      "Working on DF#1 in the list of DFs provided\n",
      "Generating vocabulary for ngram_range: (1, 1)...\n",
      "Vocabulary size for ngram-range (1, 1) in DF#1: 63881\n",
      "\n",
      "Words from the first df for ngram-range (1, 1) added.\n",
      "\n",
      "Working on DF#2 in the list of DFs provided\n",
      "Generating vocabulary for ngram_range: (1, 1)...\n",
      "Vocabulary size for ngram-range (1, 1) in DF#2: 42992\n",
      "\n",
      "Keeping only the common (intersection) words for ngram-range (1, 1)...\n",
      "Common vocabulary for ngram-range (1, 1): 35498\n",
      "\n",
      "Appended first time to final common vocabulary: ngram-range = (1, 1).\n",
      "\n",
      "Working on DF#1 in the list of DFs provided\n",
      "Generating vocabulary for ngram_range: (2, 2)...\n",
      "Vocabulary size for ngram-range (2, 2) in DF#1: 1130406\n",
      "\n",
      "Words from the first df for ngram-range (2, 2) added.\n",
      "\n",
      "Working on DF#2 in the list of DFs provided\n",
      "Generating vocabulary for ngram_range: (2, 2)...\n",
      "Vocabulary size for ngram-range (2, 2) in DF#2: 436174\n",
      "\n",
      "Keeping only the common (intersection) words for ngram-range (2, 2)...\n",
      "Common vocabulary for ngram-range (2, 2): 112530\n",
      "\n",
      "Fusing (union) with final common vocabulary: ngram-range = (2, 2).\n",
      "\n",
      "Working on DF#1 in the list of DFs provided\n",
      "Generating vocabulary for ngram_range: (3, 3)...\n",
      "Vocabulary size for ngram-range (3, 3) in DF#1: 1416309\n",
      "\n",
      "Words from the first df for ngram-range (3, 3) added.\n",
      "\n",
      "Working on DF#2 in the list of DFs provided\n",
      "Generating vocabulary for ngram_range: (3, 3)...\n",
      "Vocabulary size for ngram-range (3, 3) in DF#2: 488867\n",
      "\n",
      "Keeping only the common (intersection) words for ngram-range (3, 3)...\n",
      "Common vocabulary for ngram-range (3, 3): 22631\n",
      "\n",
      "Fusing (union) with final common vocabulary: ngram-range = (3, 3).\n",
      "\n",
      "Number of stop words: 170659\n",
      "Getting the vocabulary that will be fed to the final model(s)...\n",
      "Size of the final relevant vocabulary: 2439937\n",
      "\n",
      "Selected features: {'cat': ['isFrequentReviewer', 'audScoreBins', 'boxOfficeBins'], 'num': ['releaseDiff'], 'txt': ['reviewText', 'reviewerName', 'movieid', 'genre', 'director', 'ratingContents', 'distributor', 'reviewText_2', 'reviewText_3']}\n",
      "\n",
      "Pipeline built successfully.\n",
      "\n",
      "Full GridSearchCV pipeline built successfully.\n",
      "GridSearchCV(cv=10,\n",
      "             estimator=Pipeline(steps=[('ct',\n",
      "                                        ColumnTransformer(transformers=[('cat_isFrequentReviewer',\n",
      "                                                                         OneHotEncoder(handle_unknown='ignore',\n",
      "                                                                                       sparse_output=False),\n",
      "                                                                         ['isFrequentReviewer']),\n",
      "                                                                        ('cat_audScoreBins',\n",
      "                                                                         OneHotEncoder(handle_unknown='ignore',\n",
      "                                                                                       sparse_output=False),\n",
      "                                                                         ['audScoreBins']),\n",
      "                                                                        ('cat_boxOfficeBins',\n",
      "                                                                         OneHotEncoder(handle_unknown='ignore',\n",
      "                                                                                       sp...\n",
      "                                                                                                                      'aarp',\n",
      "                                                                                                                      'ab',\n",
      "                                                                                                                      'abandon',\n",
      "                                                                                                                      'abandoned',\n",
      "                                                                                                                      'abandoned '\n",
      "                                                                                                                      'good',\n",
      "                                                                                                                      'abandoning',\n",
      "                                                                                                                      'abandoning '\n",
      "                                                                                                                      'logic',\n",
      "                                                                                                                      'abandoning '\n",
      "                                                                                                                      'traditional',\n",
      "                                                                                                                      'abandonment',\n",
      "                                                                                                                      'abandonment '\n",
      "                                                                                                                      'adoption', ...}))]),\n",
      "                                                                         'reviewText_3')])),\n",
      "                                       ('model',\n",
      "                                        SGDClassifier(loss='modified_huber',\n",
      "                                                      max_iter=1000000,\n",
      "                                                      n_iter_no_change=100,\n",
      "                                                      n_jobs=-1,\n",
      "                                                      tol=0.0001))]),\n",
      "             n_jobs=-1, param_grid={'model__alpha': [0.0001]},\n",
      "             scoring='f1_micro')\n",
      "\n",
      "Training started with full pipeline for classifier #1/1...\n",
      "\n",
      "Check #1.1 complete.\n",
      "Details of the best model using classifier #1 (GridSearchCV) on X_train: \n",
      "Best Params: {'model__alpha': 0.0001}\n",
      "Best Score: 0.8402844031848463\n",
      "Confusion matrix and f1-score for rows which have no reviewText in X_train: \n",
      "[[1745  660]\n",
      " [ 295 3747]]\n",
      "0.8518690863967737\n",
      "classifier_1 successfully added to 'estimators' list\n",
      "Confusion matrix for predictions on training data: \n",
      "[[ 53311    686]\n",
      " [   310 108451]]\n",
      "F1-score on training data: 0.9938804851374433\n",
      "(55315, 1)\n",
      "     pred_1\n",
      "0  POSITIVE\n",
      "1  POSITIVE\n",
      "2  POSITIVE\n",
      "3  POSITIVE\n",
      "4  POSITIVE\n",
      "5  POSITIVE\n",
      "6  POSITIVE\n",
      "7  POSITIVE\n",
      "8  NEGATIVE\n",
      "9  NEGATIVE\n",
      "\n",
      "Check #1.2 complete.\n",
      "Details of the best model using full pipeline (GridSearchCV) on X_train: \n",
      "Best Params: {'model__alpha': 0.0001}\n",
      "Best Score: 0.8402844031848463\n",
      "Refit Time: 255.39470982551575\n",
      "\n",
      "Successfully created the submission file!!!\n"
     ]
    }
   ],
   "source": [
    "# Testing ONE classfier using submit_v5 function  \n",
    "\n",
    "# Feature dictionaries\n",
    "sfs = {'cat': ['isFrequentReviewer', 'rating'],\n",
    "       'num': [\"audienceScore\", \"runtimeMinutes\", \"boxOffice\", 'releaseDiff']}\n",
    "\n",
    "sf_best = {'cat': ['isFrequentReviewer'],\n",
    "            'num': [\"audienceScore\", \"boxOffice\", 'releaseDiff'],\n",
    "            'txt': ['reviewText', 'reviewerName', 'movieid', 'genre', 'director', \n",
    "                         'ratingContents', 'distributor']}\n",
    "\n",
    "alt_text = {'txt': ['reviewerName', 'movieid', 'genre', 'director', \n",
    "                         'ratingContents', 'distributor']}\n",
    "\n",
    "v88_dict = {'cat': ['isFrequentReviewer', 'audScoreBins', 'boxOfficeBins'],\n",
    "            'num': ['releaseDiff'],\n",
    "            'txt': ['reviewText', 'reviewerName', 'movieid', 'genre', 'director', \n",
    "                         'ratingContents', 'distributor']}\n",
    "\n",
    "# SGDClassifier hyperparameters  \n",
    "# \"model__loss\": ['hinge', 'log_loss', 'modified_huber', \n",
    "#                                                   'squared_hinge', 'perceptron', \n",
    "#                                                   'squared_error', 'huber', \n",
    "#                                                   'epsilon_insensitive', 'squared_epsilon_insensitive']\n",
    "\n",
    "# 'param_grid' : {\"model__alpha\": [0.0001], \n",
    "#                   'model__tol': [0.0001],\n",
    "#                   \"model__penalty\": [\"l2\"],\n",
    "#                   \"model__n_iter_no_change\": [100],\n",
    "#                  }\n",
    "\n",
    "# Best models \n",
    "# For sf_best features\n",
    "#                 {'selected_model' : SGDClassifier(loss='hinge', \n",
    "#                                      max_iter=1000000,\n",
    "#                                      alpha = 0.0001,\n",
    "#                                      tol = 0.0001,\n",
    "#                                      penalty = \"l2\",\n",
    "#                                      n_iter_no_change = 100,\n",
    "#                                      n_jobs = -1), \n",
    "#                   'selected_features' : sf_best, \n",
    "#                   'param_grid' : {\"model__alpha\": [ 0.0001]},\n",
    "#                   'vocab' : True,\n",
    "#                   'vocab_usage' : 'tfidf',\n",
    "#                   'strip_accents' : 'unicode', \n",
    "#                   'add_countvec' : True},\n",
    "\n",
    "# For sfs features\n",
    "#                 {'selected_model' : RandomForestClassifier(n_jobs = -1), \n",
    "#                   'selected_features' : sfs, \n",
    "#                   'param_grid': {'model__n_estimators': [100]},\n",
    "#                   'vocab' : None,\n",
    "#                   'vocab_usage' : 'tfidf',\n",
    "#                   'strip_accents' : 'unicode', \n",
    "#                   'add_countvec' : False}\n",
    "\n",
    "# Best SGD classifer (with params)  \n",
    "sgdc = SGDClassifier(loss='modified_huber', \n",
    "                     max_iter=1000000,\n",
    "                     alpha = 0.0001,\n",
    "                     tol = 0.0001,\n",
    "                     penalty = \"l2\",\n",
    "                     n_iter_no_change = 100,\n",
    "                     n_jobs = -1)\n",
    "\n",
    "# Classifiers\n",
    "classifiers= [   \n",
    "                {'selected_model' : sgdc, \n",
    "                  'selected_features' : v88_dict, \n",
    "                  'param_grid' : {\"model__alpha\": [0.0001]},\n",
    "                  'vocab' : True,\n",
    "                  'vocab_usage' : 'tfidf',\n",
    "                  'strip_accents' : 'unicode', \n",
    "                  'add_countvec' : True}\n",
    "            ]\n",
    "\n",
    "# classifiers= [\n",
    "#                 {'selected_model' : LogisticRegression(C=1, solver='saga', max_iter=100000), \n",
    "#                   'selected_features' : {'txt': [\"reviewText\"]}, \n",
    "#                   'param_grid' : {\"model__C\": [1], \n",
    "#                                   'model__solver': ['saga']},\n",
    "#                   'vocab' : None,\n",
    "#                   'vocab_usage' : 'tfidf',\n",
    "#                   'strip_accents' : 'unicode', \n",
    "#                   'add_countvec' : False},\n",
    "#             ]\n",
    "\n",
    "pred_df, estimators = submit_v5(classifiers=classifiers)"
   ]
  },
  {
   "cell_type": "code",
   "execution_count": 107,
   "id": "e182ea4e",
   "metadata": {
    "execution": {
     "iopub.execute_input": "2023-08-12T17:39:41.990935Z",
     "iopub.status.busy": "2023-08-12T17:39:41.990337Z",
     "iopub.status.idle": "2023-08-12T17:39:41.996564Z",
     "shell.execute_reply": "2023-08-12T17:39:41.995859Z"
    },
    "papermill": {
     "duration": 0.073277,
     "end_time": "2023-08-12T17:39:41.998267",
     "exception": false,
     "start_time": "2023-08-12T17:39:41.924990",
     "status": "completed"
    },
    "tags": []
   },
   "outputs": [
    {
     "name": "stdout",
     "output_type": "stream",
     "text": [
      "(55315, 1)\n",
      "   sentiment\n",
      "id          \n",
      "0   POSITIVE\n",
      "1   POSITIVE\n",
      "2   POSITIVE\n",
      "3   POSITIVE\n",
      "4   POSITIVE\n"
     ]
    }
   ],
   "source": [
    "print(pred_df.shape)\n",
    "print(pred_df.head())"
   ]
  },
  {
   "cell_type": "code",
   "execution_count": 108,
   "id": "2fcd9132",
   "metadata": {
    "execution": {
     "iopub.execute_input": "2023-08-12T17:39:42.127760Z",
     "iopub.status.busy": "2023-08-12T17:39:42.126991Z",
     "iopub.status.idle": "2023-08-12T17:39:42.131152Z",
     "shell.execute_reply": "2023-08-12T17:39:42.130487Z"
    },
    "papermill": {
     "duration": 0.070819,
     "end_time": "2023-08-12T17:39:42.132979",
     "exception": false,
     "start_time": "2023-08-12T17:39:42.062160",
     "status": "completed"
    },
    "tags": []
   },
   "outputs": [],
   "source": [
    "# estimators"
   ]
  },
  {
   "cell_type": "code",
   "execution_count": 109,
   "id": "116772dd",
   "metadata": {
    "execution": {
     "iopub.execute_input": "2023-08-12T17:39:42.264744Z",
     "iopub.status.busy": "2023-08-12T17:39:42.264187Z",
     "iopub.status.idle": "2023-08-12T17:39:42.269993Z",
     "shell.execute_reply": "2023-08-12T17:39:42.268856Z"
    },
    "papermill": {
     "duration": 0.073045,
     "end_time": "2023-08-12T17:39:42.271713",
     "exception": false,
     "start_time": "2023-08-12T17:39:42.198668",
     "status": "completed"
    },
    "tags": []
   },
   "outputs": [
    {
     "name": "stdout",
     "output_type": "stream",
     "text": [
      "Number of estimators: 1\n",
      "\n",
      "Estimator: classifier_1\n",
      "{'model__alpha': 0.0001}\n",
      "0.8402844031848463\n",
      "255.39470982551575\n",
      "\n"
     ]
    }
   ],
   "source": [
    "print(f\"Number of estimators: {len(estimators)}\\n\")\n",
    "for est in estimators:\n",
    "    print(f\"Estimator: {est[0]}\")\n",
    "#     print(est[1].best_estimator_)\n",
    "    print(est[1].best_params_)\n",
    "    print(est[1].best_score_)\n",
    "    print(est[1].refit_time_)\n",
    "    print()"
   ]
  },
  {
   "cell_type": "code",
   "execution_count": 110,
   "id": "6a0e54f6",
   "metadata": {
    "execution": {
     "iopub.execute_input": "2023-08-12T17:39:42.403373Z",
     "iopub.status.busy": "2023-08-12T17:39:42.402402Z",
     "iopub.status.idle": "2023-08-12T17:39:42.407945Z",
     "shell.execute_reply": "2023-08-12T17:39:42.406893Z"
    },
    "papermill": {
     "duration": 0.072727,
     "end_time": "2023-08-12T17:39:42.409679",
     "exception": false,
     "start_time": "2023-08-12T17:39:42.336952",
     "status": "completed"
    },
    "tags": []
   },
   "outputs": [],
   "source": [
    "# Testing full capabilites of submit_v5  \n",
    "\n",
    "# # Feature dictionaries\n",
    "# sf1 = {'cat': ['isFrequentReviewer', 'rating'],\n",
    "#        'num': [\"audienceScore\", \"runtimeMinutes\", \"boxOffice\"]}\n",
    "\n",
    "# sf2 = {'cat': ['isFrequentReviewer', 'rating'],\n",
    "#        'num': [\"audienceScore\", \"runtimeMinutes\", \"boxOffice\"]}\n",
    "\n",
    "# sf3 = {'cat': ['isFrequentReviewer'],\n",
    "#         'num': ['releaseDiff', 'audienceScore', 'boxOffice'],\n",
    "#         'txt': ['reviewText', 'reviewerName', 'movieid', 'genre', 'director', \n",
    "#                          'ratingContents', 'distributor']}\n",
    "\n",
    "# # Individual classifiers\n",
    "# clf1 =  {'selected_model' : AdaBoostClassifier(), \n",
    "#           'selected_features' : sf1, \n",
    "#           'param_grid' : {\"model__n_estimators\": [50]},\n",
    "#           'vocab' : None,\n",
    "#           'vocab_usage' : 'tfidf',\n",
    "#           'strip_accents' : 'unicode', \n",
    "#           'add_countvec' : False}\n",
    "\n",
    "# clf2 =  {'selected_model' : RandomForestClassifier(), \n",
    "#           'selected_features' : sf2,\n",
    "#           'param_grid' : {\"model__n_estimators\": [50], \n",
    "#                           'model__criterion': ['gini']},\n",
    "#           'vocab' : None,\n",
    "#           'vocab_usage' : 'tfidf',\n",
    "#           'strip_accents' : 'unicode', \n",
    "#           'add_countvec' : False}\n",
    "\n",
    "# clf3 =  {'selected_model' : LogisticRegression(C=1, solver='saga', max_iter=100000), \n",
    "#           'selected_features' : sf3, \n",
    "#           'param_grid' : {'model__C' : [1],\n",
    "#                             'model__solver': ['saga'],\n",
    "#                             \"model__fit_intercept\" : [True],\n",
    "#                             \"model__dual\" : [False]},\n",
    "#           'vocab' : None,\n",
    "#           'vocab_usage' : 'tfidf',\n",
    "#           'strip_accents' : 'unicode', \n",
    "#           'add_countvec' : True}\n",
    "\n",
    "\n",
    "# # List of classifiers for voting\n",
    "# classifiers= [clf1, clf2, clf3]\n",
    "\n",
    "# # Final predictions \n",
    "# pred_df = submit_v5(classifiers=classifiers)"
   ]
  },
  {
   "cell_type": "code",
   "execution_count": 111,
   "id": "4cce7c4e",
   "metadata": {
    "execution": {
     "iopub.execute_input": "2023-08-12T17:39:42.541867Z",
     "iopub.status.busy": "2023-08-12T17:39:42.540538Z",
     "iopub.status.idle": "2023-08-12T17:39:42.550475Z",
     "shell.execute_reply": "2023-08-12T17:39:42.549813Z"
    },
    "papermill": {
     "duration": 0.078293,
     "end_time": "2023-08-12T17:39:42.552832",
     "exception": false,
     "start_time": "2023-08-12T17:39:42.474539",
     "status": "completed"
    },
    "tags": []
   },
   "outputs": [
    {
     "name": "stdout",
     "output_type": "stream",
     "text": [
      "(55315, 1)\n"
     ]
    },
    {
     "data": {
      "text/html": [
       "<div>\n",
       "<style scoped>\n",
       "    .dataframe tbody tr th:only-of-type {\n",
       "        vertical-align: middle;\n",
       "    }\n",
       "\n",
       "    .dataframe tbody tr th {\n",
       "        vertical-align: top;\n",
       "    }\n",
       "\n",
       "    .dataframe thead th {\n",
       "        text-align: right;\n",
       "    }\n",
       "</style>\n",
       "<table border=\"1\" class=\"dataframe\">\n",
       "  <thead>\n",
       "    <tr style=\"text-align: right;\">\n",
       "      <th></th>\n",
       "      <th>sentiment</th>\n",
       "    </tr>\n",
       "    <tr>\n",
       "      <th>id</th>\n",
       "      <th></th>\n",
       "    </tr>\n",
       "  </thead>\n",
       "  <tbody>\n",
       "    <tr>\n",
       "      <th>0</th>\n",
       "      <td>POSITIVE</td>\n",
       "    </tr>\n",
       "    <tr>\n",
       "      <th>1</th>\n",
       "      <td>POSITIVE</td>\n",
       "    </tr>\n",
       "    <tr>\n",
       "      <th>2</th>\n",
       "      <td>POSITIVE</td>\n",
       "    </tr>\n",
       "    <tr>\n",
       "      <th>3</th>\n",
       "      <td>POSITIVE</td>\n",
       "    </tr>\n",
       "    <tr>\n",
       "      <th>4</th>\n",
       "      <td>POSITIVE</td>\n",
       "    </tr>\n",
       "    <tr>\n",
       "      <th>...</th>\n",
       "      <td>...</td>\n",
       "    </tr>\n",
       "    <tr>\n",
       "      <th>55310</th>\n",
       "      <td>POSITIVE</td>\n",
       "    </tr>\n",
       "    <tr>\n",
       "      <th>55311</th>\n",
       "      <td>NEGATIVE</td>\n",
       "    </tr>\n",
       "    <tr>\n",
       "      <th>55312</th>\n",
       "      <td>NEGATIVE</td>\n",
       "    </tr>\n",
       "    <tr>\n",
       "      <th>55313</th>\n",
       "      <td>POSITIVE</td>\n",
       "    </tr>\n",
       "    <tr>\n",
       "      <th>55314</th>\n",
       "      <td>NEGATIVE</td>\n",
       "    </tr>\n",
       "  </tbody>\n",
       "</table>\n",
       "<p>55315 rows × 1 columns</p>\n",
       "</div>"
      ],
      "text/plain": [
       "      sentiment\n",
       "id             \n",
       "0      POSITIVE\n",
       "1      POSITIVE\n",
       "2      POSITIVE\n",
       "3      POSITIVE\n",
       "4      POSITIVE\n",
       "...         ...\n",
       "55310  POSITIVE\n",
       "55311  NEGATIVE\n",
       "55312  NEGATIVE\n",
       "55313  POSITIVE\n",
       "55314  NEGATIVE\n",
       "\n",
       "[55315 rows x 1 columns]"
      ]
     },
     "execution_count": 111,
     "metadata": {},
     "output_type": "execute_result"
    }
   ],
   "source": [
    "print(pred_df.shape)\n",
    "pred_df"
   ]
  },
  {
   "cell_type": "code",
   "execution_count": 112,
   "id": "156c25c0",
   "metadata": {
    "execution": {
     "iopub.execute_input": "2023-08-12T17:39:42.684014Z",
     "iopub.status.busy": "2023-08-12T17:39:42.683713Z",
     "iopub.status.idle": "2023-08-12T17:39:42.687868Z",
     "shell.execute_reply": "2023-08-12T17:39:42.686786Z"
    },
    "papermill": {
     "duration": 0.071374,
     "end_time": "2023-08-12T17:39:42.690067",
     "exception": false,
     "start_time": "2023-08-12T17:39:42.618693",
     "status": "completed"
    },
    "tags": []
   },
   "outputs": [],
   "source": [
    "# pred_df_mode = pred_df.mode(axis='columns')\n",
    "# print(pred_df_mode.shape)\n",
    "# pred_df_mode"
   ]
  },
  {
   "cell_type": "code",
   "execution_count": 113,
   "id": "ee8b22f6",
   "metadata": {
    "execution": {
     "iopub.execute_input": "2023-08-12T17:39:42.888591Z",
     "iopub.status.busy": "2023-08-12T17:39:42.888212Z",
     "iopub.status.idle": "2023-08-12T17:39:42.904313Z",
     "shell.execute_reply": "2023-08-12T17:39:42.903343Z"
    },
    "papermill": {
     "duration": 0.152219,
     "end_time": "2023-08-12T17:39:42.906198",
     "exception": false,
     "start_time": "2023-08-12T17:39:42.753979",
     "status": "completed"
    },
    "tags": []
   },
   "outputs": [
    {
     "data": {
      "text/plain": [
       "sentiment\n",
       "POSITIVE     38463\n",
       "NEGATIVE     16852\n",
       "dtype: int64"
      ]
     },
     "execution_count": 113,
     "metadata": {},
     "output_type": "execute_result"
    }
   ],
   "source": [
    "pred_df.value_counts()"
   ]
  },
  {
   "cell_type": "markdown",
   "id": "84ecd522",
   "metadata": {
    "papermill": {
     "duration": 0.063183,
     "end_time": "2023-08-12T17:39:43.033717",
     "exception": false,
     "start_time": "2023-08-12T17:39:42.970534",
     "status": "completed"
    },
    "tags": []
   },
   "source": [
    "# NOTE: Move submit_v4 submissions below the suubmit_v4 function  "
   ]
  },
  {
   "cell_type": "code",
   "execution_count": 114,
   "id": "ade9b3c2",
   "metadata": {
    "execution": {
     "iopub.execute_input": "2023-08-12T17:39:43.166024Z",
     "iopub.status.busy": "2023-08-12T17:39:43.165702Z",
     "iopub.status.idle": "2023-08-12T17:39:43.169281Z",
     "shell.execute_reply": "2023-08-12T17:39:43.168401Z"
    },
    "papermill": {
     "duration": 0.072989,
     "end_time": "2023-08-12T17:39:43.171004",
     "exception": false,
     "start_time": "2023-08-12T17:39:43.098015",
     "status": "completed"
    },
    "tags": []
   },
   "outputs": [],
   "source": [
    "# Try 'submit_v4' function with default params (LogisticRegression model)  \n",
    "\n",
    "# submit_v4()\n",
    "\n",
    "#Default params to this function gave a score of 0.8259 - improvement over previous score of 0.82563!"
   ]
  },
  {
   "cell_type": "code",
   "execution_count": 115,
   "id": "fb5111dd",
   "metadata": {
    "execution": {
     "iopub.execute_input": "2023-08-12T17:39:43.300852Z",
     "iopub.status.busy": "2023-08-12T17:39:43.300263Z",
     "iopub.status.idle": "2023-08-12T17:39:43.304755Z",
     "shell.execute_reply": "2023-08-12T17:39:43.303435Z"
    },
    "papermill": {
     "duration": 0.07185,
     "end_time": "2023-08-12T17:39:43.306759",
     "exception": false,
     "start_time": "2023-08-12T17:39:43.234909",
     "status": "completed"
    },
    "tags": []
   },
   "outputs": [],
   "source": [
    "# Try out GridSearchCV on \"submit_v4\" function with param_grid  \n",
    "# param_grid = {\n",
    "#     \"model__C\": [0.1, 1, 5, 10]\n",
    "# }\n",
    "\n",
    "# submit_v4(selected_features={'txt': ['genre']}, param_grid=param_grid)"
   ]
  },
  {
   "cell_type": "markdown",
   "id": "92cf12da",
   "metadata": {
    "papermill": {
     "duration": 0.06333,
     "end_time": "2023-08-12T17:39:43.433515",
     "exception": false,
     "start_time": "2023-08-12T17:39:43.370185",
     "status": "completed"
    },
    "tags": []
   },
   "source": [
    "### Try LinearSVC with GridSearchCV  "
   ]
  },
  {
   "cell_type": "code",
   "execution_count": 116,
   "id": "8011592b",
   "metadata": {
    "execution": {
     "iopub.execute_input": "2023-08-12T17:39:43.562548Z",
     "iopub.status.busy": "2023-08-12T17:39:43.562057Z",
     "iopub.status.idle": "2023-08-12T17:39:43.566397Z",
     "shell.execute_reply": "2023-08-12T17:39:43.565411Z"
    },
    "papermill": {
     "duration": 0.070729,
     "end_time": "2023-08-12T17:39:43.568039",
     "exception": false,
     "start_time": "2023-08-12T17:39:43.497310",
     "status": "completed"
    },
    "tags": []
   },
   "outputs": [],
   "source": [
    "# all_dict = {'cat': [\"isFrequentReviewer\", \"rating\", \"originalLanguage\"],\n",
    "#              'num': [\"audienceScore\", \"runtimeMinutes\", \"boxOffice\"],\n",
    "#              'txt': ['reviewText', 'reviewerName', 'movieid', 'genre', 'director']}\n",
    "\n",
    "# param_grid_svc = {\n",
    "#     \"model__C\": [0.1, 1, 10, 100]\n",
    "# }\n",
    "# param_grid_svc"
   ]
  },
  {
   "cell_type": "code",
   "execution_count": 117,
   "id": "4acf25a1",
   "metadata": {
    "execution": {
     "iopub.execute_input": "2023-08-12T17:39:43.696739Z",
     "iopub.status.busy": "2023-08-12T17:39:43.695953Z",
     "iopub.status.idle": "2023-08-12T17:39:43.700271Z",
     "shell.execute_reply": "2023-08-12T17:39:43.699385Z"
    },
    "papermill": {
     "duration": 0.070913,
     "end_time": "2023-08-12T17:39:43.701768",
     "exception": false,
     "start_time": "2023-08-12T17:39:43.630855",
     "status": "completed"
    },
    "tags": []
   },
   "outputs": [],
   "source": [
    "# LinearSCV on single feature  \n",
    "\n",
    "# submit_v4(selected_model=LinearSVC(max_iter=100000, random_state=42), selected_features={'num': [\"audienceScore\"]}, param_grid=param_grid_svc)\n",
    "\n",
    "# Comment: LinearSVC even on single column feature set takes too long to converge."
   ]
  },
  {
   "cell_type": "code",
   "execution_count": 118,
   "id": "bd7353a1",
   "metadata": {
    "execution": {
     "iopub.execute_input": "2023-08-12T17:39:43.830678Z",
     "iopub.status.busy": "2023-08-12T17:39:43.830289Z",
     "iopub.status.idle": "2023-08-12T17:39:43.834517Z",
     "shell.execute_reply": "2023-08-12T17:39:43.833539Z"
    },
    "papermill": {
     "duration": 0.070835,
     "end_time": "2023-08-12T17:39:43.836251",
     "exception": false,
     "start_time": "2023-08-12T17:39:43.765416",
     "status": "completed"
    },
    "tags": []
   },
   "outputs": [],
   "source": [
    "# LinearSCV on all available features\n",
    "\n",
    "# submit_v4(selected_model=LinearSVC(max_iter=100000, random_state=42), selected_features=all_dict, param_grid=param_grid_svc)\n",
    "\n",
    "# (Update): This took 66 mins to run and gave a public score of 0.84295 (lesser than logreg gridsearchcv wwhich gave 0.84441). Best C was 1.0.\n"
   ]
  },
  {
   "cell_type": "markdown",
   "id": "183a49c4",
   "metadata": {
    "papermill": {
     "duration": 0.064369,
     "end_time": "2023-08-12T17:39:43.966345",
     "exception": false,
     "start_time": "2023-08-12T17:39:43.901976",
     "status": "completed"
    },
    "tags": []
   },
   "source": [
    "### Boosting techniques  "
   ]
  },
  {
   "cell_type": "code",
   "execution_count": 119,
   "id": "116b644f",
   "metadata": {
    "execution": {
     "iopub.execute_input": "2023-08-12T17:39:44.099854Z",
     "iopub.status.busy": "2023-08-12T17:39:44.099169Z",
     "iopub.status.idle": "2023-08-12T17:39:44.102970Z",
     "shell.execute_reply": "2023-08-12T17:39:44.102109Z"
    },
    "papermill": {
     "duration": 0.072267,
     "end_time": "2023-08-12T17:39:44.105540",
     "exception": false,
     "start_time": "2023-08-12T17:39:44.033273",
     "status": "completed"
    },
    "tags": []
   },
   "outputs": [],
   "source": [
    "# adc = AdaBoostClassifier(estimator=LogisticRegression(C=5, solver=\"saga\", max_iter=100000), n_estimators=50)\n",
    "# adc"
   ]
  },
  {
   "cell_type": "code",
   "execution_count": 120,
   "id": "f6370342",
   "metadata": {
    "execution": {
     "iopub.execute_input": "2023-08-12T17:39:44.237930Z",
     "iopub.status.busy": "2023-08-12T17:39:44.237243Z",
     "iopub.status.idle": "2023-08-12T17:39:44.242451Z",
     "shell.execute_reply": "2023-08-12T17:39:44.241183Z"
    },
    "papermill": {
     "duration": 0.072219,
     "end_time": "2023-08-12T17:39:44.244222",
     "exception": false,
     "start_time": "2023-08-12T17:39:44.172003",
     "status": "completed"
    },
    "tags": []
   },
   "outputs": [],
   "source": [
    "# submit_v4(selected_model=adc, selected_features={'num': [\"audienceScore\"]}, param_grid=None)"
   ]
  },
  {
   "cell_type": "code",
   "execution_count": 121,
   "id": "b78b6b90",
   "metadata": {
    "execution": {
     "iopub.execute_input": "2023-08-12T17:39:44.376420Z",
     "iopub.status.busy": "2023-08-12T17:39:44.375702Z",
     "iopub.status.idle": "2023-08-12T17:39:44.379873Z",
     "shell.execute_reply": "2023-08-12T17:39:44.378948Z"
    },
    "papermill": {
     "duration": 0.072869,
     "end_time": "2023-08-12T17:39:44.382359",
     "exception": false,
     "start_time": "2023-08-12T17:39:44.309490",
     "status": "completed"
    },
    "tags": []
   },
   "outputs": [],
   "source": [
    "# submit_v4(selected_model=adc, selected_features=all_dict, param_grid=None)\n",
    "\n",
    "# Took 1 hour 15 mins to run and gave a public score of only 0.71089. Discarded."
   ]
  },
  {
   "cell_type": "markdown",
   "id": "850b1f5f",
   "metadata": {
    "papermill": {
     "duration": 0.063625,
     "end_time": "2023-08-12T17:39:44.511462",
     "exception": false,
     "start_time": "2023-08-12T17:39:44.447837",
     "status": "completed"
    },
    "tags": []
   },
   "source": [
    "### LightGBM  "
   ]
  },
  {
   "cell_type": "code",
   "execution_count": 122,
   "id": "f429cb3a",
   "metadata": {
    "execution": {
     "iopub.execute_input": "2023-08-12T17:39:44.640982Z",
     "iopub.status.busy": "2023-08-12T17:39:44.640696Z",
     "iopub.status.idle": "2023-08-12T17:39:44.643829Z",
     "shell.execute_reply": "2023-08-12T17:39:44.643174Z"
    },
    "papermill": {
     "duration": 0.070195,
     "end_time": "2023-08-12T17:39:44.645575",
     "exception": false,
     "start_time": "2023-08-12T17:39:44.575380",
     "status": "completed"
    },
    "tags": []
   },
   "outputs": [],
   "source": [
    "# lgb = ltb.LGBMClassifier()\n",
    "# lgb"
   ]
  },
  {
   "cell_type": "code",
   "execution_count": 123,
   "id": "7723705d",
   "metadata": {
    "execution": {
     "iopub.execute_input": "2023-08-12T17:39:44.777055Z",
     "iopub.status.busy": "2023-08-12T17:39:44.776715Z",
     "iopub.status.idle": "2023-08-12T17:39:44.781223Z",
     "shell.execute_reply": "2023-08-12T17:39:44.779909Z"
    },
    "papermill": {
     "duration": 0.074128,
     "end_time": "2023-08-12T17:39:44.783366",
     "exception": false,
     "start_time": "2023-08-12T17:39:44.709238",
     "status": "completed"
    },
    "tags": []
   },
   "outputs": [],
   "source": [
    "# Try LightGBM with default settings\n",
    "# (Update): Public score only 0.77713. It was fast, took less than 5 mins (without GridSearchCV)\n",
    "\n",
    "# submit_v4(selected_model=ltb.LGBMClassifier(), selected_features=all_dict, param_grid=None)"
   ]
  },
  {
   "cell_type": "markdown",
   "id": "e636772d",
   "metadata": {
    "papermill": {
     "duration": 0.064546,
     "end_time": "2023-08-12T17:39:44.912205",
     "exception": false,
     "start_time": "2023-08-12T17:39:44.847659",
     "status": "completed"
    },
    "tags": []
   },
   "source": [
    "## Feature Engineering"
   ]
  },
  {
   "cell_type": "markdown",
   "id": "d009556e",
   "metadata": {
    "papermill": {
     "duration": 0.064837,
     "end_time": "2023-08-12T17:39:45.041802",
     "exception": false,
     "start_time": "2023-08-12T17:39:44.976965",
     "status": "completed"
    },
    "tags": []
   },
   "source": [
    "### Plan  \n",
    "* Add a new column 'reviewWC' which has word count of 'reviewText'  \n",
    "    * Check if there is any relationship between 'reviewWC' and 'sentiment'\n",
    "* Work on vocabulary\n",
    "     * Use TfidfVectorizer and find out the vocabulary of 'reviewText' column for various ngrams\n",
    "     * Use RecursiveFeatureElimination (RFE) or RFECV to select 1000 top words/vocab for each ngram\n",
    "     * Use the final vocab (1000-3000 words) in the model and see how it performs compared to whole vocab\n",
    "\n",
    "`(Update): Code incorporated into the \"select_features\" function  `  \n",
    "`(Update): Many other new features incorporated into the \"select_features\" function too  `  \n",
    "\n"
   ]
  },
  {
   "cell_type": "markdown",
   "id": "79cc479d",
   "metadata": {
    "papermill": {
     "duration": 0.064678,
     "end_time": "2023-08-12T17:39:45.171535",
     "exception": false,
     "start_time": "2023-08-12T17:39:45.106857",
     "status": "completed"
    },
    "tags": []
   },
   "source": [
    "# Back to vocab after success of version 63  "
   ]
  },
  {
   "cell_type": "code",
   "execution_count": 124,
   "id": "72aef270",
   "metadata": {
    "execution": {
     "iopub.execute_input": "2023-08-12T17:39:45.303233Z",
     "iopub.status.busy": "2023-08-12T17:39:45.302908Z",
     "iopub.status.idle": "2023-08-12T17:39:45.318959Z",
     "shell.execute_reply": "2023-08-12T17:39:45.318030Z"
    },
    "papermill": {
     "duration": 0.084008,
     "end_time": "2023-08-12T17:39:45.320963",
     "exception": false,
     "start_time": "2023-08-12T17:39:45.236955",
     "status": "completed"
    },
    "tags": []
   },
   "outputs": [],
   "source": [
    "def submit_v4(selected_model=LogisticRegression(C=1, solver='liblinear', max_iter=100000), \n",
    "              selected_features={'txt': ['reviewText']}, \n",
    "              param_grid=None,\n",
    "              vocab=None,\n",
    "              vocab_usage='tfidf',\n",
    "              strip_accents='unicode', \n",
    "              add_countvec=False):\n",
    "    \n",
    "    print(\"\\nRunning the submit_v4 function...\")\n",
    "    \n",
    "    # Fine tune selected_features\n",
    "    if add_countvec:\n",
    "        if 'txt' in selected_features.keys():\n",
    "            if \"reviewText_2\" not in selected_features['txt']:\n",
    "                selected_features['txt'].append('reviewText_2')\n",
    "    if vocab:\n",
    "        if 'txt' in selected_features.keys():\n",
    "            if \"reviewText_3\" not in selected_features['txt']:\n",
    "                selected_features['txt'].append('reviewText_3')\n",
    "    print(f\"\\nSelected features: {selected_features}\")\n",
    "\n",
    "    \n",
    "    \n",
    "    # Build Pipeline\n",
    "    pipe = build_pipeline(selected_model, selected_features, param_grid=param_grid, \n",
    "                          vocab=vocab, vocab_usage='tfidf', \n",
    "                          strip_accents=strip_accents, add_countvec=add_countvec)\n",
    "    print(pipe)\n",
    "\n",
    "    \n",
    "    \n",
    "    # Features list\n",
    "    features = []\n",
    "    for item in selected_features.values():\n",
    "        features.extend(item)\n",
    " \n",
    "\n",
    "    # Merge and preprocess train and movies data  \n",
    "    merged = select_features(load_csv(\"train\"), load_csv(\"movies\"), row_thresh_null=None)    # Decide if you want to drop any rows containing lot of nulls\n",
    "    # Impute missing numerical values  \n",
    "    # Simple Imputer for ['audienceScore', 'runtimeMinutes', 'boxOffice'] and 'releaseDate' columns\n",
    "    si = SimpleImputer(strategy='median')\n",
    "    merged[['audienceScore', 'runtimeMinutes', 'boxOffice']] = si.fit_transform(merged[['audienceScore', 'runtimeMinutes', 'boxOffice']])\n",
    "    merged['releaseDate'] = merged[\"releaseDate\"].fillna(merged[\"releaseDate\"].median())    \n",
    "    # Add new columns as needed  \n",
    "    if add_countvec:\n",
    "        merged['reviewText_2'] = merged['reviewText']\n",
    "    if vocab:\n",
    "        merged['reviewText_3'] = merged['reviewText']\n",
    "        \n",
    "    X_train = merged.drop(labels=\"sentiment\", axis=1)\n",
    "    y_train = merged[\"sentiment\"]\n",
    "\n",
    "    X_train = X_train[features]\n",
    "    \n",
    "    \n",
    "    # Check1\n",
    "    print(\"\\nCheck 1 complete.\")\n",
    "    print(f\"Shape of X_train: {X_train.shape}\")\n",
    "    print(f\"Features in X_train: {X_train.columns}\")\n",
    "#     print(X_train.head())\n",
    "    \n",
    "    \n",
    "    # Fit \n",
    "    print(\"\\nTraining started with full pipeline...\")\n",
    "    pipe.fit(X_train, y_train)\n",
    "    \n",
    "    # Check2\n",
    "    print(\"\\nCheck 2 complete.\")\n",
    "    print(\"Details of the best model using full pipeline (GridSearchCV) on X_train: \")\n",
    "    print(f\"Best Params: {pipe.best_params_}\")\n",
    "    print(f\"Best Score: {pipe.best_score_}\")\n",
    "    \n",
    "    print(predict_on_missing_review_data(pipe, features, merged))    # Function defined above\n",
    "    \n",
    "        \n",
    "    # Predict on test.csv file\n",
    "    \n",
    "    # Merge and preprocess test and movies data  \n",
    "    merged_test = select_features(load_csv(\"test\"), load_csv(\"movies\"))\n",
    "    # Transform ['audienceScore', 'runtimeMinutes', 'boxOffice'] columns in merged_test using 'si' fitted on 'merged' df  \n",
    "    merged_test[['audienceScore', 'runtimeMinutes', 'boxOffice']] = si.transform(merged_test[['audienceScore', 'runtimeMinutes', 'boxOffice']])\n",
    "    # Fill 'releaseDate' column in 'merged_test' df with median from the train (merged) df  \n",
    "    merged_test['releaseDate'] = merged_test[\"releaseDate\"].fillna(merged[\"releaseDate\"].median())\n",
    "    # Add new columns as needed \n",
    "    if add_countvec:\n",
    "        merged_test['reviewText_2'] = merged_test['reviewText']\n",
    "    if vocab:\n",
    "        merged_test['reviewText_3'] = merged_test['reviewText']\n",
    "        \n",
    "    X_test = merged_test.copy()\n",
    "\n",
    "    X_test = X_test[features]\n",
    "    \n",
    "    \n",
    "    # Check3\n",
    "    print(\"\\nCheck 3 complete.\")\n",
    "    print(f\"Shape of X_test: {X_test.shape}\")\n",
    "    print(f\"Features in X_test: {X_test.columns}\")\n",
    "#     print(X_test.head())\n",
    "    \n",
    "    y_pred = pipe.predict(X_test)\n",
    "    \n",
    "    # Check4\n",
    "    print(\"\\nCheck 4 complete.\")\n",
    "#     cv_results_df = pd.DataFrame(pipe.cv_results_)\n",
    "    print(\"Details of the best model using full pipeline (GridSearchCV) on X_train: \")\n",
    "    print(f\"Best Estimator: {pipe.best_estimator_}\")\n",
    "    print(f\"Best Params: {pipe.best_params_}\")\n",
    "    print(f\"Best Score: {pipe.best_score_}\")\n",
    "    print(f\"Best Index: {pipe.best_index_}\")\n",
    "    print(f\"Refit Time: {pipe.refit_time_}\")\n",
    "#     print(f\"Shape of CV results dataframe: {cv_results_df.shape}\")\n",
    "    \n",
    "    pred_df = pd.DataFrame(y_pred)\n",
    "    pred_df.columns = [\"sentiment\"]\n",
    "    pred_df.index.name = \"id\"\n",
    "    pred_df.to_csv(\"submission.csv\")\n",
    "    \n",
    "    print(\"\\nSuccessfully created the submission file!!!\")\n",
    "    \n",
    "    return pipe.cv_results_"
   ]
  },
  {
   "cell_type": "code",
   "execution_count": 125,
   "id": "79b6abf4",
   "metadata": {
    "execution": {
     "iopub.execute_input": "2023-08-12T17:39:45.453527Z",
     "iopub.status.busy": "2023-08-12T17:39:45.453148Z",
     "iopub.status.idle": "2023-08-12T17:39:45.459813Z",
     "shell.execute_reply": "2023-08-12T17:39:45.458291Z"
    },
    "papermill": {
     "duration": 0.076033,
     "end_time": "2023-08-12T17:39:45.462456",
     "exception": false,
     "start_time": "2023-08-12T17:39:45.386423",
     "status": "completed"
    },
    "tags": []
   },
   "outputs": [
    {
     "data": {
      "text/plain": [
       "Index(['movieid', 'reviewerName', 'isFrequentReviewer', 'reviewText',\n",
       "       'sentiment', 'title', 'audienceScore', 'rating', 'ratingContents',\n",
       "       'releaseDateTheaters', 'releaseDateStreaming', 'runtimeMinutes',\n",
       "       'genre', 'originalLanguage', 'director', 'boxOffice', 'distributor',\n",
       "       'soundType', 'reviewYN', 'reviewWC', 'genreSorted', 'rcSorted',\n",
       "       'releaseDate', 'releaseYear', 'releaseMonth', 'releaseDiff'],\n",
       "      dtype='object')"
      ]
     },
     "execution_count": 125,
     "metadata": {},
     "output_type": "execute_result"
    }
   ],
   "source": [
    "merged.columns"
   ]
  },
  {
   "cell_type": "code",
   "execution_count": 126,
   "id": "13babba8",
   "metadata": {
    "execution": {
     "iopub.execute_input": "2023-08-12T17:39:45.594501Z",
     "iopub.status.busy": "2023-08-12T17:39:45.592926Z",
     "iopub.status.idle": "2023-08-12T17:39:45.602342Z",
     "shell.execute_reply": "2023-08-12T17:39:45.601546Z"
    },
    "papermill": {
     "duration": 0.078071,
     "end_time": "2023-08-12T17:39:45.604557",
     "exception": false,
     "start_time": "2023-08-12T17:39:45.526486",
     "status": "completed"
    },
    "tags": []
   },
   "outputs": [],
   "source": [
    "# Best #2\n",
    "v80_dict = {'cat': ['isFrequentReviewer', 'audScoreBins', 'boxOfficeBins'], \n",
    "                  'txt': ['reviewText', 'reviewerName', 'movieid', 'genre', 'director', \n",
    "                          'ratingContents', 'distributor']}\n",
    "# Best #1\n",
    "v88_dict = {'cat': ['isFrequentReviewer', 'audScoreBins', 'boxOfficeBins'],\n",
    "            'num': ['releaseDiff'],\n",
    "            'txt': ['reviewText', 'reviewerName', 'movieid', 'genre', 'director', \n",
    "                         'ratingContents', 'distributor']}\n",
    "\n",
    "v92_dict = {'cat': ['isFrequentReviewer', 'audScoreBins', 'boxOfficeBins', 'releaseDiffBins'],\n",
    "            'txt': ['reviewText', 'reviewerName', 'title', 'genre', 'director', \n",
    "                         'ratingContents', 'distributor']}\n",
    "\n",
    "# Best univariable datapoints dict\n",
    "best_uni_dict = {'cat': [\"isFrequentReviewer\", \"audScoreBins\"],\n",
    "                 'txt': ['reviewText','movieid', 'director', \"ratingContents\"]}\n",
    "\n",
    "# param_grids for LogisticRegression  \n",
    "\n",
    "# Best #1  \n",
    "# param_grid = {\n",
    "#     'model__C' : [1],\n",
    "#     'model__solver': ['saga'],\n",
    "#     \"model__fit_intercept\" : [True],\n",
    "#     \"model__dual\" : [False]\n",
    "#     }\n",
    "\n",
    "# working\n",
    "param_grid = {\n",
    "    'model__C' : [1],\n",
    "    'model__solver': ['saga'],\n",
    "    \"model__fit_intercept\" : [True],\n",
    "    \"model__dual\" : [False],\n",
    "#     \"model__class_weight\": ['balanced', None]\n",
    "}\n",
    "\n",
    "\n",
    "# param_grids for LinearSVC  \n",
    "\n",
    "# param_grid = {\n",
    "#     'model__C' : [1, 10, 20],\n",
    "#     'model__loss': ['hinge', 'squared_hinge'],\n",
    "#     \"model__fit_intercept\" : [True, False],\n",
    "# #     \"model__dual\" : [True, False] \n",
    "# }\n",
    "\n",
    "svm = LinearSVC(max_iter=10000, random_state=42)    # LinearSVC\n",
    "\n",
    "\n",
    "# Local testing\n",
    "# selected_mov = {'num': ['audienceScore', 'boxOffice', 'releaseDiff'], \n",
    "#                 'txt': ['movieid', 'genre', 'director', \n",
    "#                          'ratingContents', 'distributor']}\n",
    "# results = submit_v4(\n",
    "#             selected_features={'num': ['boxOffice']},\n",
    "#             add_countvec=False,\n",
    "#             vocab=None,\n",
    "#             vocab_usage='tfidf',\n",
    "#             param_grid=param_grid\n",
    "#          )\n",
    "\n",
    "# results = submit_v4(selected_model = DummyClassifier(strategy='constant', constant='NEGATIVE'),\n",
    "#             selected_features={'num': ['boxOffice']},\n",
    "#             add_countvec=False,\n",
    "#             vocab=None,\n",
    "#             vocab_usage='tfidf',\n",
    "#             param_grid={'model__strategy' : ['constant']}\n",
    "#          )\n",
    "\n",
    "# Main submission\n",
    "\n",
    "# results = submit_v4(\n",
    "#     selected_features=v88_dict,\n",
    "#     add_countvec=False,\n",
    "#     vocab=common_1_2_3_grams,\n",
    "#     vocab_usage='tfidf',\n",
    "#     param_grid=param_grid\n",
    "#     )\n",
    "\n",
    "# results"
   ]
  },
  {
   "cell_type": "markdown",
   "id": "7075bfa6",
   "metadata": {
    "papermill": {
     "duration": 0.064488,
     "end_time": "2023-08-12T17:39:45.734230",
     "exception": false,
     "start_time": "2023-08-12T17:39:45.669742",
     "status": "completed"
    },
    "tags": []
   },
   "source": [
    "### ratingContents analysis  "
   ]
  },
  {
   "cell_type": "code",
   "execution_count": 127,
   "id": "223e1ecd",
   "metadata": {
    "execution": {
     "iopub.execute_input": "2023-08-12T17:39:45.928462Z",
     "iopub.status.busy": "2023-08-12T17:39:45.927951Z",
     "iopub.status.idle": "2023-08-12T17:39:45.931637Z",
     "shell.execute_reply": "2023-08-12T17:39:45.931020Z"
    },
    "papermill": {
     "duration": 0.133448,
     "end_time": "2023-08-12T17:39:45.933266",
     "exception": false,
     "start_time": "2023-08-12T17:39:45.799818",
     "status": "completed"
    },
    "tags": []
   },
   "outputs": [],
   "source": [
    "# Try string split  \n",
    "# s = \"comedy, animation, adventure, fantasy\"\n",
    "# (\",\").join(sorted(s.split(\", \")))"
   ]
  },
  {
   "cell_type": "code",
   "execution_count": 128,
   "id": "4a959f5e",
   "metadata": {
    "execution": {
     "iopub.execute_input": "2023-08-12T17:39:46.065691Z",
     "iopub.status.busy": "2023-08-12T17:39:46.065230Z",
     "iopub.status.idle": "2023-08-12T17:39:46.068953Z",
     "shell.execute_reply": "2023-08-12T17:39:46.068386Z"
    },
    "papermill": {
     "duration": 0.072962,
     "end_time": "2023-08-12T17:39:46.070986",
     "exception": false,
     "start_time": "2023-08-12T17:39:45.998024",
     "status": "completed"
    },
    "tags": []
   },
   "outputs": [],
   "source": [
    "# ratingContents_analysis = merged[[\"ratingContents\", \"sentiment\"]].copy()\n",
    "# print(ratingContents_analysis.head())\n",
    "# ratingContents_analysis[\"rcSorted\"] = ratingContents_analysis[\"ratingContents\"].apply(lambda x: (\",\").join(sorted(x.strip(\"][\").split(\", \"))))\n",
    "# ratingContents_analysis[\"rcSorted\"] = ratingContents_analysis[\"rcSorted\"].apply(lambda x: re.sub(r\"'\", \"\", x))\n",
    "# ratingContents_analysis[\"rcSorted\"] = ratingContents_analysis[\"rcSorted\"].apply(lambda x: re.sub(r\"[/\\s]\", \"_\", x))\n",
    "# ratingContents_analysis.head(10)"
   ]
  },
  {
   "cell_type": "code",
   "execution_count": 129,
   "id": "f5841cfd",
   "metadata": {
    "execution": {
     "iopub.execute_input": "2023-08-12T17:39:46.204759Z",
     "iopub.status.busy": "2023-08-12T17:39:46.204141Z",
     "iopub.status.idle": "2023-08-12T17:39:46.208206Z",
     "shell.execute_reply": "2023-08-12T17:39:46.207012Z"
    },
    "papermill": {
     "duration": 0.073473,
     "end_time": "2023-08-12T17:39:46.210263",
     "exception": false,
     "start_time": "2023-08-12T17:39:46.136790",
     "status": "completed"
    },
    "tags": []
   },
   "outputs": [],
   "source": [
    "# cvec_rc = CountVectorizer(ngram_range=(1,1))\n",
    "# cvec_rc.fit(ratingContents_analysis['rcSorted'])\n",
    "# # len(cvec_rc.vocabulary_), cvec_rc.vocabulary_"
   ]
  },
  {
   "cell_type": "code",
   "execution_count": 130,
   "id": "be682330",
   "metadata": {
    "execution": {
     "iopub.execute_input": "2023-08-12T17:39:46.345377Z",
     "iopub.status.busy": "2023-08-12T17:39:46.344994Z",
     "iopub.status.idle": "2023-08-12T17:39:46.348478Z",
     "shell.execute_reply": "2023-08-12T17:39:46.347602Z"
    },
    "papermill": {
     "duration": 0.075001,
     "end_time": "2023-08-12T17:39:46.350229",
     "exception": false,
     "start_time": "2023-08-12T17:39:46.275228",
     "status": "completed"
    },
    "tags": []
   },
   "outputs": [],
   "source": [
    "# genre_testing = cvec_g.transform(merged[\"genre\"])\n",
    "# print(genre_testing)"
   ]
  },
  {
   "cell_type": "markdown",
   "id": "e80eb212",
   "metadata": {
    "papermill": {
     "duration": 0.064429,
     "end_time": "2023-08-12T17:39:46.479579",
     "exception": false,
     "start_time": "2023-08-12T17:39:46.415150",
     "status": "completed"
    },
    "tags": []
   },
   "source": [
    "## Statistical tests  "
   ]
  },
  {
   "cell_type": "markdown",
   "id": "9e34c978",
   "metadata": {
    "papermill": {
     "duration": 0.069536,
     "end_time": "2023-08-12T17:39:46.613607",
     "exception": false,
     "start_time": "2023-08-12T17:39:46.544071",
     "status": "completed"
    },
    "tags": []
   },
   "source": [
    "[Go to genre](#genre_analysis)"
   ]
  },
  {
   "cell_type": "code",
   "execution_count": 131,
   "id": "d5e1fd87",
   "metadata": {
    "execution": {
     "iopub.execute_input": "2023-08-12T17:39:46.742883Z",
     "iopub.status.busy": "2023-08-12T17:39:46.742352Z",
     "iopub.status.idle": "2023-08-12T17:39:46.746913Z",
     "shell.execute_reply": "2023-08-12T17:39:46.745558Z"
    },
    "papermill": {
     "duration": 0.070989,
     "end_time": "2023-08-12T17:39:46.748796",
     "exception": false,
     "start_time": "2023-08-12T17:39:46.677807",
     "status": "completed"
    },
    "tags": []
   },
   "outputs": [],
   "source": [
    "# print(merged['boxOffice'].head())\n",
    "# merged[\"boxOffice\"].describe()"
   ]
  },
  {
   "cell_type": "code",
   "execution_count": 132,
   "id": "7d290393",
   "metadata": {
    "execution": {
     "iopub.execute_input": "2023-08-12T17:39:46.882945Z",
     "iopub.status.busy": "2023-08-12T17:39:46.882623Z",
     "iopub.status.idle": "2023-08-12T17:39:46.887202Z",
     "shell.execute_reply": "2023-08-12T17:39:46.886003Z"
    },
    "papermill": {
     "duration": 0.073654,
     "end_time": "2023-08-12T17:39:46.888828",
     "exception": false,
     "start_time": "2023-08-12T17:39:46.815174",
     "status": "completed"
    },
    "tags": []
   },
   "outputs": [],
   "source": [
    "# Function for independent samples t-test on numerical columns  \n",
    "# def ttest_ind(feature):\n",
    "#     pos_grp = merged[feature].loc[merged['sentiment'] == \"POSITIVE\"]\n",
    "#     neg_grp = merged[feature].loc[merged['sentiment'] == \"NEGATIVE\"]\n",
    "\n",
    "#     print(pos_grp.shape, neg_grp.shape)\n",
    "#     print(pos_grp.describe(), neg_grp.describe())\n",
    "\n",
    "#     return stats.ttest_ind(pos_grp, neg_grp)"
   ]
  },
  {
   "cell_type": "code",
   "execution_count": 133,
   "id": "a18f0c2c",
   "metadata": {
    "execution": {
     "iopub.execute_input": "2023-08-12T17:39:47.017909Z",
     "iopub.status.busy": "2023-08-12T17:39:47.017261Z",
     "iopub.status.idle": "2023-08-12T17:39:47.021466Z",
     "shell.execute_reply": "2023-08-12T17:39:47.020232Z"
    },
    "papermill": {
     "duration": 0.07126,
     "end_time": "2023-08-12T17:39:47.023853",
     "exception": false,
     "start_time": "2023-08-12T17:39:46.952593",
     "status": "completed"
    },
    "tags": []
   },
   "outputs": [],
   "source": [
    "# ttest_ind('boxOffice')"
   ]
  },
  {
   "cell_type": "code",
   "execution_count": 134,
   "id": "e398d5b2",
   "metadata": {
    "execution": {
     "iopub.execute_input": "2023-08-12T17:39:47.157381Z",
     "iopub.status.busy": "2023-08-12T17:39:47.156767Z",
     "iopub.status.idle": "2023-08-12T17:39:47.160790Z",
     "shell.execute_reply": "2023-08-12T17:39:47.159737Z"
    },
    "papermill": {
     "duration": 0.074091,
     "end_time": "2023-08-12T17:39:47.162995",
     "exception": false,
     "start_time": "2023-08-12T17:39:47.088904",
     "status": "completed"
    },
    "tags": []
   },
   "outputs": [],
   "source": [
    "# ttest_ind('runtimeMinutes')"
   ]
  },
  {
   "cell_type": "code",
   "execution_count": 135,
   "id": "50add7ca",
   "metadata": {
    "execution": {
     "iopub.execute_input": "2023-08-12T17:39:47.294647Z",
     "iopub.status.busy": "2023-08-12T17:39:47.294017Z",
     "iopub.status.idle": "2023-08-12T17:39:47.297827Z",
     "shell.execute_reply": "2023-08-12T17:39:47.297166Z"
    },
    "papermill": {
     "duration": 0.070838,
     "end_time": "2023-08-12T17:39:47.299565",
     "exception": false,
     "start_time": "2023-08-12T17:39:47.228727",
     "status": "completed"
    },
    "tags": []
   },
   "outputs": [],
   "source": [
    "# ttest_ind('audienceScore')"
   ]
  },
  {
   "cell_type": "code",
   "execution_count": 136,
   "id": "2c87fa6f",
   "metadata": {
    "execution": {
     "iopub.execute_input": "2023-08-12T17:39:47.430566Z",
     "iopub.status.busy": "2023-08-12T17:39:47.430184Z",
     "iopub.status.idle": "2023-08-12T17:39:47.433757Z",
     "shell.execute_reply": "2023-08-12T17:39:47.433180Z"
    },
    "papermill": {
     "duration": 0.069422,
     "end_time": "2023-08-12T17:39:47.435368",
     "exception": false,
     "start_time": "2023-08-12T17:39:47.365946",
     "status": "completed"
    },
    "tags": []
   },
   "outputs": [],
   "source": [
    "# sns.boxplot(x=merged['sentiment'], y=merged['boxOffice'])"
   ]
  },
  {
   "cell_type": "markdown",
   "id": "e8260af4",
   "metadata": {
    "papermill": {
     "duration": 0.065354,
     "end_time": "2023-08-12T17:39:47.566852",
     "exception": false,
     "start_time": "2023-08-12T17:39:47.501498",
     "status": "completed"
    },
    "tags": []
   },
   "source": [
    "## <div id='genre_analysis'>Genre analysis</div>"
   ]
  },
  {
   "cell_type": "code",
   "execution_count": 137,
   "id": "35bb2bc0",
   "metadata": {
    "execution": {
     "iopub.execute_input": "2023-08-12T17:39:47.699738Z",
     "iopub.status.busy": "2023-08-12T17:39:47.699191Z",
     "iopub.status.idle": "2023-08-12T17:39:47.702973Z",
     "shell.execute_reply": "2023-08-12T17:39:47.701933Z"
    },
    "papermill": {
     "duration": 0.071574,
     "end_time": "2023-08-12T17:39:47.704606",
     "exception": false,
     "start_time": "2023-08-12T17:39:47.633032",
     "status": "completed"
    },
    "tags": []
   },
   "outputs": [],
   "source": [
    "# genre_analysis = merged[[\"genre\", \"genreSorted\", \"sentiment\"]].copy()\n",
    "# # print(genre_analysis.head())\n",
    "# # genre_analysis[\"genre\"] = genre_analysis[\"genre\"].apply(lambda x: (\",\").join(sorted(x.split(\", \"))))\n",
    "# genre_analysis.head()"
   ]
  },
  {
   "cell_type": "code",
   "execution_count": 138,
   "id": "7f86195b",
   "metadata": {
    "execution": {
     "iopub.execute_input": "2023-08-12T17:39:47.833790Z",
     "iopub.status.busy": "2023-08-12T17:39:47.833289Z",
     "iopub.status.idle": "2023-08-12T17:39:47.836574Z",
     "shell.execute_reply": "2023-08-12T17:39:47.835995Z"
    },
    "papermill": {
     "duration": 0.069935,
     "end_time": "2023-08-12T17:39:47.838577",
     "exception": false,
     "start_time": "2023-08-12T17:39:47.768642",
     "status": "completed"
    },
    "tags": []
   },
   "outputs": [],
   "source": [
    "# cvec_g = CountVectorizer(ngram_range=(1,3))\n",
    "# cvec_g.fit(genre_analysis['genre'])\n",
    "# # len(cvec_g.vocabulary_), cvec_g.vocabulary_"
   ]
  },
  {
   "cell_type": "code",
   "execution_count": 139,
   "id": "7307e614",
   "metadata": {
    "execution": {
     "iopub.execute_input": "2023-08-12T17:39:47.970536Z",
     "iopub.status.busy": "2023-08-12T17:39:47.969937Z",
     "iopub.status.idle": "2023-08-12T17:39:47.973365Z",
     "shell.execute_reply": "2023-08-12T17:39:47.972718Z"
    },
    "papermill": {
     "duration": 0.071514,
     "end_time": "2023-08-12T17:39:47.975024",
     "exception": false,
     "start_time": "2023-08-12T17:39:47.903510",
     "status": "completed"
    },
    "tags": []
   },
   "outputs": [],
   "source": [
    "# cvec_gSorted = CountVectorizer(ngram_range=(1,3))\n",
    "# cvec_gSorted.fit(genre_analysis['genreSorted'])\n",
    "# len(cvec_gSorted.vocabulary_), cvec_gSorted.vocabulary_"
   ]
  },
  {
   "cell_type": "code",
   "execution_count": 140,
   "id": "c842028b",
   "metadata": {
    "execution": {
     "iopub.execute_input": "2023-08-12T17:39:48.107300Z",
     "iopub.status.busy": "2023-08-12T17:39:48.106694Z",
     "iopub.status.idle": "2023-08-12T17:39:48.109980Z",
     "shell.execute_reply": "2023-08-12T17:39:48.109375Z"
    },
    "papermill": {
     "duration": 0.072928,
     "end_time": "2023-08-12T17:39:48.112366",
     "exception": false,
     "start_time": "2023-08-12T17:39:48.039438",
     "status": "completed"
    },
    "tags": []
   },
   "outputs": [],
   "source": [
    "# genre_testing = cvec_g.transform(merged[\"genre\"])\n",
    "# # print(genre_testing)"
   ]
  },
  {
   "cell_type": "code",
   "execution_count": 141,
   "id": "6eaf9e82",
   "metadata": {
    "execution": {
     "iopub.execute_input": "2023-08-12T17:39:48.248357Z",
     "iopub.status.busy": "2023-08-12T17:39:48.246583Z",
     "iopub.status.idle": "2023-08-12T17:39:48.252201Z",
     "shell.execute_reply": "2023-08-12T17:39:48.251559Z"
    },
    "papermill": {
     "duration": 0.074408,
     "end_time": "2023-08-12T17:39:48.254075",
     "exception": false,
     "start_time": "2023-08-12T17:39:48.179667",
     "status": "completed"
    },
    "tags": []
   },
   "outputs": [],
   "source": [
    "# genre_counts_testing = merged[[\"genre\", \"sentiment\"]].copy()\n",
    "# genre_counts_testing[\"gCount\"] = genre_counts_testing.apply(lambda x: len(str(x[\"genre\"]).split()), axis=1)\n",
    "# genre_counts_testing"
   ]
  },
  {
   "cell_type": "code",
   "execution_count": 142,
   "id": "af019474",
   "metadata": {
    "execution": {
     "iopub.execute_input": "2023-08-12T17:39:48.386268Z",
     "iopub.status.busy": "2023-08-12T17:39:48.385655Z",
     "iopub.status.idle": "2023-08-12T17:39:48.390922Z",
     "shell.execute_reply": "2023-08-12T17:39:48.389995Z"
    },
    "papermill": {
     "duration": 0.074982,
     "end_time": "2023-08-12T17:39:48.393257",
     "exception": false,
     "start_time": "2023-08-12T17:39:48.318275",
     "status": "completed"
    },
    "tags": []
   },
   "outputs": [],
   "source": [
    "# sns.boxplot(y=genre_counts_testing[\"gCount\"], x=genre_counts_testing[\"sentiment\"])"
   ]
  },
  {
   "cell_type": "code",
   "execution_count": 143,
   "id": "843569f1",
   "metadata": {
    "execution": {
     "iopub.execute_input": "2023-08-12T17:39:48.527273Z",
     "iopub.status.busy": "2023-08-12T17:39:48.526255Z",
     "iopub.status.idle": "2023-08-12T17:39:48.531072Z",
     "shell.execute_reply": "2023-08-12T17:39:48.529653Z"
    },
    "papermill": {
     "duration": 0.073319,
     "end_time": "2023-08-12T17:39:48.533391",
     "exception": false,
     "start_time": "2023-08-12T17:39:48.460072",
     "status": "completed"
    },
    "tags": []
   },
   "outputs": [],
   "source": [
    "# sns.boxplot(y=merged[\"reviewWC\"], x=merged[\"sentiment\"])"
   ]
  },
  {
   "cell_type": "code",
   "execution_count": 144,
   "id": "0ef38afa",
   "metadata": {
    "execution": {
     "iopub.execute_input": "2023-08-12T17:39:48.668857Z",
     "iopub.status.busy": "2023-08-12T17:39:48.668478Z",
     "iopub.status.idle": "2023-08-12T17:39:48.672168Z",
     "shell.execute_reply": "2023-08-12T17:39:48.671337Z"
    },
    "papermill": {
     "duration": 0.07244,
     "end_time": "2023-08-12T17:39:48.674367",
     "exception": false,
     "start_time": "2023-08-12T17:39:48.601927",
     "status": "completed"
    },
    "tags": []
   },
   "outputs": [],
   "source": [
    "# audienceScore bins\n",
    "# asc = merged[['audienceScore', 'sentiment']].copy()\n",
    "# asc.head()"
   ]
  },
  {
   "cell_type": "code",
   "execution_count": 145,
   "id": "37137433",
   "metadata": {
    "execution": {
     "iopub.execute_input": "2023-08-12T17:39:48.809557Z",
     "iopub.status.busy": "2023-08-12T17:39:48.809171Z",
     "iopub.status.idle": "2023-08-12T17:39:48.813783Z",
     "shell.execute_reply": "2023-08-12T17:39:48.812154Z"
    },
    "papermill": {
     "duration": 0.075795,
     "end_time": "2023-08-12T17:39:48.815631",
     "exception": false,
     "start_time": "2023-08-12T17:39:48.739836",
     "status": "completed"
    },
    "tags": []
   },
   "outputs": [],
   "source": [
    "# Binning numerical features  \n",
    "\n",
    "# print(merged[\"runtimeBins\"].value_counts())\n",
    "# sns.displot(merged[\"runtimeBins\"])"
   ]
  },
  {
   "cell_type": "code",
   "execution_count": 146,
   "id": "848ea416",
   "metadata": {
    "execution": {
     "iopub.execute_input": "2023-08-12T17:39:48.950905Z",
     "iopub.status.busy": "2023-08-12T17:39:48.950258Z",
     "iopub.status.idle": "2023-08-12T17:39:48.954433Z",
     "shell.execute_reply": "2023-08-12T17:39:48.953297Z"
    },
    "papermill": {
     "duration": 0.073805,
     "end_time": "2023-08-12T17:39:48.956180",
     "exception": false,
     "start_time": "2023-08-12T17:39:48.882375",
     "status": "completed"
    },
    "tags": []
   },
   "outputs": [],
   "source": [
    "# Chi-square test for isFrequentReviewer column and sentiment column   \n",
    "\n",
    "# contingency_table = pd.crosstab(traindf['isFrequentReviewer'], traindf['sentiment'])\n",
    "# print(contingency_table)\n",
    "# stats.chi2_contingency(contingency_table)"
   ]
  },
  {
   "cell_type": "markdown",
   "id": "855fa167",
   "metadata": {
    "papermill": {
     "duration": 0.064541,
     "end_time": "2023-08-12T17:39:49.085475",
     "exception": false,
     "start_time": "2023-08-12T17:39:49.020934",
     "status": "completed"
    },
    "tags": []
   },
   "source": [
    "## Baseline performance of 'reviewText' column  "
   ]
  },
  {
   "cell_type": "code",
   "execution_count": 147,
   "id": "67b51cef",
   "metadata": {
    "execution": {
     "iopub.execute_input": "2023-08-12T17:39:49.215397Z",
     "iopub.status.busy": "2023-08-12T17:39:49.214675Z",
     "iopub.status.idle": "2023-08-12T17:39:49.218028Z",
     "shell.execute_reply": "2023-08-12T17:39:49.217413Z"
    },
    "papermill": {
     "duration": 0.070425,
     "end_time": "2023-08-12T17:39:49.219845",
     "exception": false,
     "start_time": "2023-08-12T17:39:49.149420",
     "status": "completed"
    },
    "tags": []
   },
   "outputs": [],
   "source": [
    "# rt_dict = {'txt': ['reviewText']}\n",
    "# rt_dict"
   ]
  },
  {
   "cell_type": "code",
   "execution_count": 148,
   "id": "2f4542b4",
   "metadata": {
    "execution": {
     "iopub.execute_input": "2023-08-12T17:39:49.353156Z",
     "iopub.status.busy": "2023-08-12T17:39:49.352803Z",
     "iopub.status.idle": "2023-08-12T17:39:49.356921Z",
     "shell.execute_reply": "2023-08-12T17:39:49.355940Z"
    },
    "papermill": {
     "duration": 0.073184,
     "end_time": "2023-08-12T17:39:49.358848",
     "exception": false,
     "start_time": "2023-08-12T17:39:49.285664",
     "status": "completed"
    },
    "tags": []
   },
   "outputs": [],
   "source": [
    "# submit_v4(selected_model=LogisticRegression(C=5, solver=\"saga\", max_iter=100000),\n",
    "#           selected_features=rt_dict,\n",
    "#           param_grid=None,\n",
    "#           vocab=None)"
   ]
  },
  {
   "cell_type": "markdown",
   "id": "3a5f2be3",
   "metadata": {
    "papermill": {
     "duration": 0.06445,
     "end_time": "2023-08-12T17:39:49.488498",
     "exception": false,
     "start_time": "2023-08-12T17:39:49.424048",
     "status": "completed"
    },
    "tags": []
   },
   "source": [
    "## RFE  "
   ]
  },
  {
   "cell_type": "code",
   "execution_count": 149,
   "id": "98d18c63",
   "metadata": {
    "execution": {
     "iopub.execute_input": "2023-08-12T17:39:49.620161Z",
     "iopub.status.busy": "2023-08-12T17:39:49.619606Z",
     "iopub.status.idle": "2023-08-12T17:39:49.624324Z",
     "shell.execute_reply": "2023-08-12T17:39:49.623184Z"
    },
    "papermill": {
     "duration": 0.073354,
     "end_time": "2023-08-12T17:39:49.626528",
     "exception": false,
     "start_time": "2023-08-12T17:39:49.553174",
     "status": "completed"
    },
    "tags": []
   },
   "outputs": [],
   "source": [
    "# def fs_rfe(selector, text_df, labels, ngram_range=(1,1)):\n",
    "#     text_df_ngram = TfidfVectorizer(ngram_range=ngram_range, stop_words='english').fit_transform(text_df)\n",
    "#     print(\"text_df was vectorized using TF-IDF vectorizer with ngram_range: \", ngram_range)\n",
    "#     print(\"text_df.shape: \", text_df.shape)\n",
    "#     print(\"labels.shape: \", labels.shape)\n",
    "#     print(\"text_df_ngram.shape: \", text_df_ngram.shape)\n",
    "#     print()\n",
    "\n",
    "#     print(\"Starting RFE fit...\")\n",
    "#     selector.fit(text_df_ngram, labels)\n",
    "#     print(\"RFE fit complete.\\n\")\n",
    "    \n",
    "#     print(\"selector.n_features_: \", selector.n_features_)   \n",
    "#     print(\"selector.n_features_in_: \", selector.n_features_in_)\n",
    "#     print(\"selector.support_.shape: \", selector.support_.shape)\n",
    "\n",
    "#     return selector.support_"
   ]
  },
  {
   "cell_type": "markdown",
   "id": "bc761adf",
   "metadata": {
    "papermill": {
     "duration": 0.079972,
     "end_time": "2023-08-12T17:39:49.773409",
     "exception": false,
     "start_time": "2023-08-12T17:39:49.693437",
     "status": "completed"
    },
    "tags": []
   },
   "source": [
    "`RFE for unigrams`  "
   ]
  },
  {
   "cell_type": "code",
   "execution_count": 150,
   "id": "9b02273e",
   "metadata": {
    "execution": {
     "iopub.execute_input": "2023-08-12T17:39:49.908367Z",
     "iopub.status.busy": "2023-08-12T17:39:49.908007Z",
     "iopub.status.idle": "2023-08-12T17:39:49.911740Z",
     "shell.execute_reply": "2023-08-12T17:39:49.910649Z"
    },
    "papermill": {
     "duration": 0.0728,
     "end_time": "2023-08-12T17:39:49.914506",
     "exception": false,
     "start_time": "2023-08-12T17:39:49.841706",
     "status": "completed"
    },
    "tags": []
   },
   "outputs": [],
   "source": [
    "# estimator_rfe_1 = LogisticRegression(solver='saga', max_iter=100000)\n",
    "# selector_rfe_1 = RFE(estimator_rfe_1, step=0.1, n_features_to_select=30000)"
   ]
  },
  {
   "cell_type": "code",
   "execution_count": 151,
   "id": "5e4ba442",
   "metadata": {
    "execution": {
     "iopub.execute_input": "2023-08-12T17:39:50.107825Z",
     "iopub.status.busy": "2023-08-12T17:39:50.106981Z",
     "iopub.status.idle": "2023-08-12T17:39:50.111270Z",
     "shell.execute_reply": "2023-08-12T17:39:50.110448Z"
    },
    "papermill": {
     "duration": 0.134282,
     "end_time": "2023-08-12T17:39:50.113539",
     "exception": false,
     "start_time": "2023-08-12T17:39:49.979257",
     "status": "completed"
    },
    "tags": []
   },
   "outputs": [],
   "source": [
    "# rfe_1_feat_mask = fs_rfe(selector_rfe_1, rt_senti[\"reviewText\"], rt_senti[\"sentiment\"], ngram_range=(1,1))\n",
    "# rfe_1_feat_mask"
   ]
  },
  {
   "cell_type": "code",
   "execution_count": 152,
   "id": "f8f555f0",
   "metadata": {
    "execution": {
     "iopub.execute_input": "2023-08-12T17:39:50.248481Z",
     "iopub.status.busy": "2023-08-12T17:39:50.247808Z",
     "iopub.status.idle": "2023-08-12T17:39:50.252736Z",
     "shell.execute_reply": "2023-08-12T17:39:50.251786Z"
    },
    "papermill": {
     "duration": 0.075723,
     "end_time": "2023-08-12T17:39:50.255293",
     "exception": false,
     "start_time": "2023-08-12T17:39:50.179570",
     "status": "completed"
    },
    "tags": []
   },
   "outputs": [],
   "source": [
    "# voc_1gram_rfe = list(compress(voc_1gram, rfe_1_feat_mask))\n",
    "# len(voc_1gram_rfe), voc_1gram_rfe[:10]"
   ]
  },
  {
   "cell_type": "markdown",
   "id": "6b416ec0",
   "metadata": {
    "papermill": {
     "duration": 0.06788,
     "end_time": "2023-08-12T17:39:50.387222",
     "exception": false,
     "start_time": "2023-08-12T17:39:50.319342",
     "status": "completed"
    },
    "tags": []
   },
   "source": [
    "`RFE for bigrams`  "
   ]
  },
  {
   "cell_type": "code",
   "execution_count": 153,
   "id": "d487c630",
   "metadata": {
    "execution": {
     "iopub.execute_input": "2023-08-12T17:39:50.519394Z",
     "iopub.status.busy": "2023-08-12T17:39:50.518798Z",
     "iopub.status.idle": "2023-08-12T17:39:50.523873Z",
     "shell.execute_reply": "2023-08-12T17:39:50.522691Z"
    },
    "papermill": {
     "duration": 0.073346,
     "end_time": "2023-08-12T17:39:50.526044",
     "exception": false,
     "start_time": "2023-08-12T17:39:50.452698",
     "status": "completed"
    },
    "tags": []
   },
   "outputs": [],
   "source": [
    "# estimator_rfe_2 = LogisticRegression(solver='saga', max_iter=100000)\n",
    "# selector_rfe_2 = RFE(estimator_rfe_2, step=0.1, n_features_to_select=50000)"
   ]
  },
  {
   "cell_type": "code",
   "execution_count": 154,
   "id": "54d1cb10",
   "metadata": {
    "execution": {
     "iopub.execute_input": "2023-08-12T17:39:50.659574Z",
     "iopub.status.busy": "2023-08-12T17:39:50.659219Z",
     "iopub.status.idle": "2023-08-12T17:39:50.663288Z",
     "shell.execute_reply": "2023-08-12T17:39:50.662419Z"
    },
    "papermill": {
     "duration": 0.072133,
     "end_time": "2023-08-12T17:39:50.664856",
     "exception": false,
     "start_time": "2023-08-12T17:39:50.592723",
     "status": "completed"
    },
    "tags": []
   },
   "outputs": [],
   "source": [
    "# rfe_2_feat_mask = fs_rfe(selector_rfe_2, rt_senti[\"reviewText\"], rt_senti[\"sentiment\"], ngram_range=(2,2))\n",
    "# rfe_2_feat_mask"
   ]
  },
  {
   "cell_type": "code",
   "execution_count": 155,
   "id": "191e6219",
   "metadata": {
    "execution": {
     "iopub.execute_input": "2023-08-12T17:39:50.798338Z",
     "iopub.status.busy": "2023-08-12T17:39:50.797321Z",
     "iopub.status.idle": "2023-08-12T17:39:50.802211Z",
     "shell.execute_reply": "2023-08-12T17:39:50.800785Z"
    },
    "papermill": {
     "duration": 0.07389,
     "end_time": "2023-08-12T17:39:50.804657",
     "exception": false,
     "start_time": "2023-08-12T17:39:50.730767",
     "status": "completed"
    },
    "tags": []
   },
   "outputs": [],
   "source": [
    "# voc_2gram_rfe = list(compress(voc_2gram, rfe_2_feat_mask))\n",
    "# len(voc_2gram_rfe), voc_2gram_rfe[:10]"
   ]
  },
  {
   "cell_type": "markdown",
   "id": "50a844f0",
   "metadata": {
    "papermill": {
     "duration": 0.064259,
     "end_time": "2023-08-12T17:39:50.933994",
     "exception": false,
     "start_time": "2023-08-12T17:39:50.869735",
     "status": "completed"
    },
    "tags": []
   },
   "source": [
    "## Final RFE-derived vocabulary  "
   ]
  },
  {
   "cell_type": "code",
   "execution_count": 156,
   "id": "113e6f93",
   "metadata": {
    "execution": {
     "iopub.execute_input": "2023-08-12T17:39:51.067572Z",
     "iopub.status.busy": "2023-08-12T17:39:51.066551Z",
     "iopub.status.idle": "2023-08-12T17:39:51.070283Z",
     "shell.execute_reply": "2023-08-12T17:39:51.069579Z"
    },
    "papermill": {
     "duration": 0.073006,
     "end_time": "2023-08-12T17:39:51.072517",
     "exception": false,
     "start_time": "2023-08-12T17:39:50.999511",
     "status": "completed"
    },
    "tags": []
   },
   "outputs": [],
   "source": [
    "# rfe_vocab = voc_1gram_rfe + voc_2gram_rfe\n",
    "# len(rfe_vocab), rfe_vocab[:10], rfe_vocab[-10:]"
   ]
  },
  {
   "cell_type": "code",
   "execution_count": 157,
   "id": "2f071951",
   "metadata": {
    "execution": {
     "iopub.execute_input": "2023-08-12T17:39:51.203836Z",
     "iopub.status.busy": "2023-08-12T17:39:51.203479Z",
     "iopub.status.idle": "2023-08-12T17:39:51.207053Z",
     "shell.execute_reply": "2023-08-12T17:39:51.206443Z"
    },
    "papermill": {
     "duration": 0.071816,
     "end_time": "2023-08-12T17:39:51.209305",
     "exception": false,
     "start_time": "2023-08-12T17:39:51.137489",
     "status": "completed"
    },
    "tags": []
   },
   "outputs": [],
   "source": [
    "## Test RFE obtained vocabulary in final pipeline (only with reviewText)  \n",
    "# submit_v4(selected_model=LogisticRegression(C=5, solver=\"saga\", max_iter=100000),\n",
    "#           selected_features=rt_dict,\n",
    "#           param_grid=None,\n",
    "#           vocab=rfe_vocab)"
   ]
  },
  {
   "cell_type": "markdown",
   "id": "47717aa5",
   "metadata": {
    "papermill": {
     "duration": 0.065883,
     "end_time": "2023-08-12T17:39:51.339853",
     "exception": false,
     "start_time": "2023-08-12T17:39:51.273970",
     "status": "completed"
    },
    "tags": []
   },
   "source": [
    "## Use rfe_vocab in final pipeline with all params  "
   ]
  },
  {
   "cell_type": "code",
   "execution_count": 158,
   "id": "a7079b2b",
   "metadata": {
    "execution": {
     "iopub.execute_input": "2023-08-12T17:39:51.471223Z",
     "iopub.status.busy": "2023-08-12T17:39:51.470642Z",
     "iopub.status.idle": "2023-08-12T17:39:51.475490Z",
     "shell.execute_reply": "2023-08-12T17:39:51.474182Z"
    },
    "papermill": {
     "duration": 0.07373,
     "end_time": "2023-08-12T17:39:51.477979",
     "exception": false,
     "start_time": "2023-08-12T17:39:51.404249",
     "status": "completed"
    },
    "tags": []
   },
   "outputs": [],
   "source": [
    "# submit_v4(selected_model=LogisticRegression(max_iter=100000),\n",
    "#           selected_features=all_dict,\n",
    "#           param_grid=param_grid,\n",
    "#           vocab=rfe_vocab)"
   ]
  },
  {
   "cell_type": "code",
   "execution_count": 159,
   "id": "26daaa16",
   "metadata": {
    "execution": {
     "iopub.execute_input": "2023-08-12T17:39:51.611832Z",
     "iopub.status.busy": "2023-08-12T17:39:51.610594Z",
     "iopub.status.idle": "2023-08-12T17:39:51.621003Z",
     "shell.execute_reply": "2023-08-12T17:39:51.620150Z"
    },
    "papermill": {
     "duration": 0.078891,
     "end_time": "2023-08-12T17:39:51.623288",
     "exception": false,
     "start_time": "2023-08-12T17:39:51.544397",
     "status": "completed"
    },
    "tags": []
   },
   "outputs": [
    {
     "data": {
      "text/html": [
       "<style>#sk-container-id-1 {color: black;background-color: white;}#sk-container-id-1 pre{padding: 0;}#sk-container-id-1 div.sk-toggleable {background-color: white;}#sk-container-id-1 label.sk-toggleable__label {cursor: pointer;display: block;width: 100%;margin-bottom: 0;padding: 0.3em;box-sizing: border-box;text-align: center;}#sk-container-id-1 label.sk-toggleable__label-arrow:before {content: \"▸\";float: left;margin-right: 0.25em;color: #696969;}#sk-container-id-1 label.sk-toggleable__label-arrow:hover:before {color: black;}#sk-container-id-1 div.sk-estimator:hover label.sk-toggleable__label-arrow:before {color: black;}#sk-container-id-1 div.sk-toggleable__content {max-height: 0;max-width: 0;overflow: hidden;text-align: left;background-color: #f0f8ff;}#sk-container-id-1 div.sk-toggleable__content pre {margin: 0.2em;color: black;border-radius: 0.25em;background-color: #f0f8ff;}#sk-container-id-1 input.sk-toggleable__control:checked~div.sk-toggleable__content {max-height: 200px;max-width: 100%;overflow: auto;}#sk-container-id-1 input.sk-toggleable__control:checked~label.sk-toggleable__label-arrow:before {content: \"▾\";}#sk-container-id-1 div.sk-estimator input.sk-toggleable__control:checked~label.sk-toggleable__label {background-color: #d4ebff;}#sk-container-id-1 div.sk-label input.sk-toggleable__control:checked~label.sk-toggleable__label {background-color: #d4ebff;}#sk-container-id-1 input.sk-hidden--visually {border: 0;clip: rect(1px 1px 1px 1px);clip: rect(1px, 1px, 1px, 1px);height: 1px;margin: -1px;overflow: hidden;padding: 0;position: absolute;width: 1px;}#sk-container-id-1 div.sk-estimator {font-family: monospace;background-color: #f0f8ff;border: 1px dotted black;border-radius: 0.25em;box-sizing: border-box;margin-bottom: 0.5em;}#sk-container-id-1 div.sk-estimator:hover {background-color: #d4ebff;}#sk-container-id-1 div.sk-parallel-item::after {content: \"\";width: 100%;border-bottom: 1px solid gray;flex-grow: 1;}#sk-container-id-1 div.sk-label:hover label.sk-toggleable__label {background-color: #d4ebff;}#sk-container-id-1 div.sk-serial::before {content: \"\";position: absolute;border-left: 1px solid gray;box-sizing: border-box;top: 0;bottom: 0;left: 50%;z-index: 0;}#sk-container-id-1 div.sk-serial {display: flex;flex-direction: column;align-items: center;background-color: white;padding-right: 0.2em;padding-left: 0.2em;position: relative;}#sk-container-id-1 div.sk-item {position: relative;z-index: 1;}#sk-container-id-1 div.sk-parallel {display: flex;align-items: stretch;justify-content: center;background-color: white;position: relative;}#sk-container-id-1 div.sk-item::before, #sk-container-id-1 div.sk-parallel-item::before {content: \"\";position: absolute;border-left: 1px solid gray;box-sizing: border-box;top: 0;bottom: 0;left: 50%;z-index: -1;}#sk-container-id-1 div.sk-parallel-item {display: flex;flex-direction: column;z-index: 1;position: relative;background-color: white;}#sk-container-id-1 div.sk-parallel-item:first-child::after {align-self: flex-end;width: 50%;}#sk-container-id-1 div.sk-parallel-item:last-child::after {align-self: flex-start;width: 50%;}#sk-container-id-1 div.sk-parallel-item:only-child::after {width: 0;}#sk-container-id-1 div.sk-dashed-wrapped {border: 1px dashed gray;margin: 0 0.4em 0.5em 0.4em;box-sizing: border-box;padding-bottom: 0.4em;background-color: white;}#sk-container-id-1 div.sk-label label {font-family: monospace;font-weight: bold;display: inline-block;line-height: 1.2em;}#sk-container-id-1 div.sk-label-container {text-align: center;}#sk-container-id-1 div.sk-container {/* jupyter's `normalize.less` sets `[hidden] { display: none; }` but bootstrap.min.css set `[hidden] { display: none !important; }` so we also need the `!important` here to be able to override the default hidden behavior on the sphinx rendered scikit-learn.org. See: https://github.com/scikit-learn/scikit-learn/issues/21755 */display: inline-block !important;position: relative;}#sk-container-id-1 div.sk-text-repr-fallback {display: none;}</style><div id=\"sk-container-id-1\" class=\"sk-top-container\"><div class=\"sk-text-repr-fallback\"><pre>AdaBoostClassifier(estimator=LogisticRegression(C=5, max_iter=100000,\n",
       "                                                solver=&#x27;saga&#x27;))</pre><b>In a Jupyter environment, please rerun this cell to show the HTML representation or trust the notebook. <br />On GitHub, the HTML representation is unable to render, please try loading this page with nbviewer.org.</b></div><div class=\"sk-container\" hidden><div class=\"sk-item sk-dashed-wrapped\"><div class=\"sk-label-container\"><div class=\"sk-label sk-toggleable\"><input class=\"sk-toggleable__control sk-hidden--visually\" id=\"sk-estimator-id-1\" type=\"checkbox\" ><label for=\"sk-estimator-id-1\" class=\"sk-toggleable__label sk-toggleable__label-arrow\">AdaBoostClassifier</label><div class=\"sk-toggleable__content\"><pre>AdaBoostClassifier(estimator=LogisticRegression(C=5, max_iter=100000,\n",
       "                                                solver=&#x27;saga&#x27;))</pre></div></div></div><div class=\"sk-parallel\"><div class=\"sk-parallel-item\"><div class=\"sk-item\"><div class=\"sk-label-container\"><div class=\"sk-label sk-toggleable\"><input class=\"sk-toggleable__control sk-hidden--visually\" id=\"sk-estimator-id-2\" type=\"checkbox\" ><label for=\"sk-estimator-id-2\" class=\"sk-toggleable__label sk-toggleable__label-arrow\">estimator: LogisticRegression</label><div class=\"sk-toggleable__content\"><pre>LogisticRegression(C=5, max_iter=100000, solver=&#x27;saga&#x27;)</pre></div></div></div><div class=\"sk-serial\"><div class=\"sk-item\"><div class=\"sk-estimator sk-toggleable\"><input class=\"sk-toggleable__control sk-hidden--visually\" id=\"sk-estimator-id-3\" type=\"checkbox\" ><label for=\"sk-estimator-id-3\" class=\"sk-toggleable__label sk-toggleable__label-arrow\">LogisticRegression</label><div class=\"sk-toggleable__content\"><pre>LogisticRegression(C=5, max_iter=100000, solver=&#x27;saga&#x27;)</pre></div></div></div></div></div></div></div></div></div></div>"
      ],
      "text/plain": [
       "AdaBoostClassifier(estimator=LogisticRegression(C=5, max_iter=100000,\n",
       "                                                solver='saga'))"
      ]
     },
     "execution_count": 159,
     "metadata": {},
     "output_type": "execute_result"
    }
   ],
   "source": [
    "adc = AdaBoostClassifier(estimator=LogisticRegression(C=5, solver=\"saga\", max_iter=100000), n_estimators=50)\n",
    "adc"
   ]
  },
  {
   "cell_type": "code",
   "execution_count": 160,
   "id": "5d78bb95",
   "metadata": {
    "execution": {
     "iopub.execute_input": "2023-08-12T17:39:51.757600Z",
     "iopub.status.busy": "2023-08-12T17:39:51.757269Z",
     "iopub.status.idle": "2023-08-12T17:39:51.761598Z",
     "shell.execute_reply": "2023-08-12T17:39:51.760550Z"
    },
    "papermill": {
     "duration": 0.072738,
     "end_time": "2023-08-12T17:39:51.763944",
     "exception": false,
     "start_time": "2023-08-12T17:39:51.691206",
     "status": "completed"
    },
    "tags": []
   },
   "outputs": [],
   "source": [
    "# submit_v4(selected_model=adc,\n",
    "#           selected_features={'cat': ['isFrequentReviewer']},\n",
    "#           param_grid=None,\n",
    "#           vocab=rfe_vocab)"
   ]
  },
  {
   "cell_type": "code",
   "execution_count": 161,
   "id": "ca390940",
   "metadata": {
    "execution": {
     "iopub.execute_input": "2023-08-12T17:39:51.895713Z",
     "iopub.status.busy": "2023-08-12T17:39:51.894708Z",
     "iopub.status.idle": "2023-08-12T17:39:51.899310Z",
     "shell.execute_reply": "2023-08-12T17:39:51.898410Z"
    },
    "papermill": {
     "duration": 0.071716,
     "end_time": "2023-08-12T17:39:51.901051",
     "exception": false,
     "start_time": "2023-08-12T17:39:51.829335",
     "status": "completed"
    },
    "tags": []
   },
   "outputs": [],
   "source": [
    "# AdaBoost on all features with RFE vocab on reviewText\n",
    "\n",
    "# submit_v4(selected_model=adc,\n",
    "#           selected_features=all_dict,\n",
    "#           param_grid=None,\n",
    "#           vocab=rfe_vocab)"
   ]
  },
  {
   "cell_type": "code",
   "execution_count": 162,
   "id": "89361c64",
   "metadata": {
    "execution": {
     "iopub.execute_input": "2023-08-12T17:39:52.032003Z",
     "iopub.status.busy": "2023-08-12T17:39:52.031658Z",
     "iopub.status.idle": "2023-08-12T17:39:52.035665Z",
     "shell.execute_reply": "2023-08-12T17:39:52.034764Z"
    },
    "papermill": {
     "duration": 0.072422,
     "end_time": "2023-08-12T17:39:52.038263",
     "exception": false,
     "start_time": "2023-08-12T17:39:51.965841",
     "status": "completed"
    },
    "tags": []
   },
   "outputs": [],
   "source": [
    "# RandomForestClassifier test run on one feature\n",
    "\n",
    "# rfc_2 = RandomForestClassifier()\n",
    "# rfc_2"
   ]
  },
  {
   "cell_type": "code",
   "execution_count": 163,
   "id": "c55ac415",
   "metadata": {
    "execution": {
     "iopub.execute_input": "2023-08-12T17:39:52.172211Z",
     "iopub.status.busy": "2023-08-12T17:39:52.171839Z",
     "iopub.status.idle": "2023-08-12T17:39:52.176426Z",
     "shell.execute_reply": "2023-08-12T17:39:52.175479Z"
    },
    "papermill": {
     "duration": 0.074141,
     "end_time": "2023-08-12T17:39:52.178081",
     "exception": false,
     "start_time": "2023-08-12T17:39:52.103940",
     "status": "completed"
    },
    "tags": []
   },
   "outputs": [],
   "source": [
    "# submit_v4(selected_model=rfc_2,\n",
    "#           selected_features={'txt': ['reviewerName']},\n",
    "#           param_grid=None,\n",
    "#           vocab=rfe_vocab)"
   ]
  },
  {
   "cell_type": "code",
   "execution_count": 164,
   "id": "82b105ba",
   "metadata": {
    "execution": {
     "iopub.execute_input": "2023-08-12T17:39:52.311467Z",
     "iopub.status.busy": "2023-08-12T17:39:52.311152Z",
     "iopub.status.idle": "2023-08-12T17:39:52.314775Z",
     "shell.execute_reply": "2023-08-12T17:39:52.313877Z"
    },
    "papermill": {
     "duration": 0.072741,
     "end_time": "2023-08-12T17:39:52.316328",
     "exception": false,
     "start_time": "2023-08-12T17:39:52.243587",
     "status": "completed"
    },
    "tags": []
   },
   "outputs": [],
   "source": [
    "# RandomForestClassifier on all features with RFE vocab on reviewText\n",
    "\n",
    "# submit_v4(selected_model=rfc_2,\n",
    "#           selected_features=all_dict,\n",
    "#           param_grid=None,\n",
    "#           vocab=rfe_vocab)"
   ]
  },
  {
   "cell_type": "markdown",
   "id": "bb21be3d",
   "metadata": {
    "papermill": {
     "duration": 0.065004,
     "end_time": "2023-08-12T17:39:52.449016",
     "exception": false,
     "start_time": "2023-08-12T17:39:52.384012",
     "status": "completed"
    },
    "tags": []
   },
   "source": [
    "## Submit_v2 for merged file models  "
   ]
  },
  {
   "cell_type": "code",
   "execution_count": 165,
   "id": "1ab5fa35",
   "metadata": {
    "execution": {
     "iopub.execute_input": "2023-08-12T17:39:52.580958Z",
     "iopub.status.busy": "2023-08-12T17:39:52.580636Z",
     "iopub.status.idle": "2023-08-12T17:39:52.586091Z",
     "shell.execute_reply": "2023-08-12T17:39:52.584704Z"
    },
    "papermill": {
     "duration": 0.074126,
     "end_time": "2023-08-12T17:39:52.588452",
     "exception": false,
     "start_time": "2023-08-12T17:39:52.514326",
     "status": "completed"
    },
    "tags": []
   },
   "outputs": [],
   "source": [
    "# def submit_v2(selected_model=pipe_final, selected_features=None):\n",
    "#     '''\n",
    "#     Note that \"selected_preprocessor\" is already used within selected_model or pipeline\n",
    "#     '''\n",
    "#     # Retrain on the whole train.csv file  \n",
    "#     merged = select_features(load_csv(\"train\"), load_csv(\"movies\"))\n",
    "#     X_train = merged.drop(labels=\"sentiment\", axis=1)\n",
    "#     y_train = merged[\"sentiment\"]\n",
    "    \n",
    "#     #Use selected features\n",
    "#     if selected_features:\n",
    "#         X_train = X_train[selected_features]\n",
    "    \n",
    "#     # Check1\n",
    "#     print(X_train.shape)\n",
    "#     print(X_train.head())\n",
    "#     try:\n",
    "#         print(selected_model.named_steps['model'].intercept_, selected_model.named_steps['model'].coef_)\n",
    "#     except:\n",
    "#         print(\"Model not trained yet!\")\n",
    "    \n",
    "#     # Fit \n",
    "#     selected_model.fit(X_train, y_train)\n",
    "    \n",
    "#     # Check2\n",
    "#     print(selected_model.named_steps['model'].intercept_, selected_model.named_steps['model'].coef_)\n",
    "    \n",
    "#     # Predict on test.csv file\n",
    "#     merged_test = select_features(load_csv(\"test\"), load_csv(\"movies\"))\n",
    "#     X_test = merged_test.copy()\n",
    "#     if selected_features:\n",
    "#         X_test = X_test[selected_features]\n",
    "    \n",
    "#     # Check3\n",
    "#     print(X_test.shape)\n",
    "#     print(X_test.head())\n",
    "    \n",
    "#     y_pred = selected_model.predict(X_test)\n",
    "    \n",
    "#     pred_df = pd.DataFrame(y_pred)\n",
    "#     pred_df.columns = [\"sentiment\"]\n",
    "#     pred_df.index.name = \"id\"\n",
    "#     pred_df.to_csv(\"submission.csv\")\n",
    "    \n",
    "#     return \"Successfully created the submission file!!!\""
   ]
  },
  {
   "cell_type": "code",
   "execution_count": 166,
   "id": "c9b97f7f",
   "metadata": {
    "execution": {
     "iopub.execute_input": "2023-08-12T17:39:52.719809Z",
     "iopub.status.busy": "2023-08-12T17:39:52.719462Z",
     "iopub.status.idle": "2023-08-12T17:39:52.723453Z",
     "shell.execute_reply": "2023-08-12T17:39:52.722697Z"
    },
    "papermill": {
     "duration": 0.071641,
     "end_time": "2023-08-12T17:39:52.725013",
     "exception": false,
     "start_time": "2023-08-12T17:39:52.653372",
     "status": "completed"
    },
    "tags": []
   },
   "outputs": [],
   "source": [
    "#     X_test = merged_test.copy()\n",
    "    \n",
    "#     y_pred = pipe_best4.predict(X_test)\n",
    "# #     np.unique(y_pred, return_counts=True)\n",
    "#     pred_df = pd.DataFrame(y_pred)\n",
    "#     pred_df.columns = [\"sentiment\"]\n",
    "#     pred_df.index.name = \"id\"\n",
    "#     pred_df.value_counts()"
   ]
  },
  {
   "cell_type": "code",
   "execution_count": 167,
   "id": "1c3f4fcb",
   "metadata": {
    "execution": {
     "iopub.execute_input": "2023-08-12T17:39:52.857205Z",
     "iopub.status.busy": "2023-08-12T17:39:52.856820Z",
     "iopub.status.idle": "2023-08-12T17:39:52.861907Z",
     "shell.execute_reply": "2023-08-12T17:39:52.860700Z"
    },
    "papermill": {
     "duration": 0.073765,
     "end_time": "2023-08-12T17:39:52.864006",
     "exception": false,
     "start_time": "2023-08-12T17:39:52.790241",
     "status": "completed"
    },
    "tags": []
   },
   "outputs": [],
   "source": [
    "# X_test.columns"
   ]
  },
  {
   "cell_type": "markdown",
   "id": "aab7ff77",
   "metadata": {
    "papermill": {
     "duration": 0.064658,
     "end_time": "2023-08-12T17:39:52.994428",
     "exception": false,
     "start_time": "2023-08-12T17:39:52.929770",
     "status": "completed"
    },
    "tags": []
   },
   "source": [
    "### Uncomment to submit using v2 of submit function  "
   ]
  },
  {
   "cell_type": "code",
   "execution_count": 168,
   "id": "df5d12f4",
   "metadata": {
    "execution": {
     "iopub.execute_input": "2023-08-12T17:39:53.127786Z",
     "iopub.status.busy": "2023-08-12T17:39:53.127160Z",
     "iopub.status.idle": "2023-08-12T17:39:53.131547Z",
     "shell.execute_reply": "2023-08-12T17:39:53.129900Z"
    },
    "papermill": {
     "duration": 0.07376,
     "end_time": "2023-08-12T17:39:53.133623",
     "exception": false,
     "start_time": "2023-08-12T17:39:53.059863",
     "status": "completed"
    },
    "tags": []
   },
   "outputs": [],
   "source": [
    "# best4 = [\"audienceScore\", \"rating\", \"isFrequentReviewer\", \"reviewText\"]\n",
    "# best4"
   ]
  },
  {
   "cell_type": "code",
   "execution_count": 169,
   "id": "05b7769b",
   "metadata": {
    "execution": {
     "iopub.execute_input": "2023-08-12T17:39:53.264622Z",
     "iopub.status.busy": "2023-08-12T17:39:53.264269Z",
     "iopub.status.idle": "2023-08-12T17:39:53.268489Z",
     "shell.execute_reply": "2023-08-12T17:39:53.267378Z"
    },
    "papermill": {
     "duration": 0.071273,
     "end_time": "2023-08-12T17:39:53.270297",
     "exception": false,
     "start_time": "2023-08-12T17:39:53.199024",
     "status": "completed"
    },
    "tags": []
   },
   "outputs": [],
   "source": [
    "# submit_v2(selected_model=pipe_RTonly, selected_features=['reviewText'])"
   ]
  },
  {
   "cell_type": "markdown",
   "id": "a03d0417",
   "metadata": {
    "papermill": {
     "duration": 0.066427,
     "end_time": "2023-08-12T17:39:53.401786",
     "exception": false,
     "start_time": "2023-08-12T17:39:53.335359",
     "status": "completed"
    },
    "tags": []
   },
   "source": [
    "### Inspect the submission.csv file  "
   ]
  },
  {
   "cell_type": "code",
   "execution_count": 170,
   "id": "29ebc8f2",
   "metadata": {
    "execution": {
     "iopub.execute_input": "2023-08-12T17:39:53.536208Z",
     "iopub.status.busy": "2023-08-12T17:39:53.535556Z",
     "iopub.status.idle": "2023-08-12T17:39:53.538884Z",
     "shell.execute_reply": "2023-08-12T17:39:53.538253Z"
    },
    "papermill": {
     "duration": 0.072643,
     "end_time": "2023-08-12T17:39:53.540925",
     "exception": false,
     "start_time": "2023-08-12T17:39:53.468282",
     "status": "completed"
    },
    "tags": []
   },
   "outputs": [],
   "source": [
    "# sub = pd.read_csv('submission.csv')\n",
    "# sub.shape, sub.head()"
   ]
  },
  {
   "cell_type": "code",
   "execution_count": 171,
   "id": "6b31ed4c",
   "metadata": {
    "execution": {
     "iopub.execute_input": "2023-08-12T17:39:53.672826Z",
     "iopub.status.busy": "2023-08-12T17:39:53.672213Z",
     "iopub.status.idle": "2023-08-12T17:39:53.676556Z",
     "shell.execute_reply": "2023-08-12T17:39:53.675357Z"
    },
    "papermill": {
     "duration": 0.071727,
     "end_time": "2023-08-12T17:39:53.678651",
     "exception": false,
     "start_time": "2023-08-12T17:39:53.606924",
     "status": "completed"
    },
    "tags": []
   },
   "outputs": [],
   "source": [
    "# sub['sentiment'].value_counts()"
   ]
  },
  {
   "cell_type": "markdown",
   "id": "e1fa4741",
   "metadata": {
    "papermill": {
     "duration": 0.065105,
     "end_time": "2023-08-12T17:39:53.808426",
     "exception": false,
     "start_time": "2023-08-12T17:39:53.743321",
     "status": "completed"
    },
    "tags": []
   },
   "source": [
    "## submit_v3 for merged file models - does not retrain on whole data  "
   ]
  },
  {
   "cell_type": "code",
   "execution_count": 172,
   "id": "67762ae9",
   "metadata": {
    "execution": {
     "iopub.execute_input": "2023-08-12T17:39:53.941643Z",
     "iopub.status.busy": "2023-08-12T17:39:53.941256Z",
     "iopub.status.idle": "2023-08-12T17:39:53.945828Z",
     "shell.execute_reply": "2023-08-12T17:39:53.944564Z"
    },
    "papermill": {
     "duration": 0.074134,
     "end_time": "2023-08-12T17:39:53.948102",
     "exception": false,
     "start_time": "2023-08-12T17:39:53.873968",
     "status": "completed"
    },
    "tags": []
   },
   "outputs": [],
   "source": [
    "# def submit_v3(selected_model=pipe_final):\n",
    "#     '''\n",
    "#     Note that \"selected_preprocessor\" is already used within selected_model or pipeline\n",
    "#     '''\n",
    "      \n",
    "#     # Predict on test.csv file\n",
    "#     merged_test = select_features(load_csv(\"test\"), load_csv(\"movies\"))\n",
    "#     X_test = merged_test.copy()\n",
    "    \n",
    "#     X_test = X_test[[\"audienceScore\", \"rating\", \"isFrequentReviewer\", \"reviewText\"]]    # This is a new line\n",
    "\n",
    "    \n",
    "#     y_pred = selected_model.predict(X_test)\n",
    "    \n",
    "#     pred_df = pd.DataFrame(y_pred)\n",
    "#     pred_df.columns = [\"sentiment\"]\n",
    "#     pred_df.index.name = \"id\"\n",
    "#     pred_df.to_csv(\"submission.csv\")\n",
    "    \n",
    "#     return \"Successfully created the submission file!!!\""
   ]
  },
  {
   "cell_type": "markdown",
   "id": "5dd441df",
   "metadata": {
    "papermill": {
     "duration": 0.064906,
     "end_time": "2023-08-12T17:39:54.077906",
     "exception": false,
     "start_time": "2023-08-12T17:39:54.013000",
     "status": "completed"
    },
    "tags": []
   },
   "source": [
    "### Uncomment to submit using v3 of submit function  "
   ]
  },
  {
   "cell_type": "code",
   "execution_count": 173,
   "id": "3fbc0339",
   "metadata": {
    "execution": {
     "iopub.execute_input": "2023-08-12T17:39:54.211200Z",
     "iopub.status.busy": "2023-08-12T17:39:54.210640Z",
     "iopub.status.idle": "2023-08-12T17:39:54.214630Z",
     "shell.execute_reply": "2023-08-12T17:39:54.213810Z"
    },
    "papermill": {
     "duration": 0.072474,
     "end_time": "2023-08-12T17:39:54.216240",
     "exception": false,
     "start_time": "2023-08-12T17:39:54.143766",
     "status": "completed"
    },
    "tags": []
   },
   "outputs": [],
   "source": [
    "# submit_v3(selected_model=pipe_best4)"
   ]
  },
  {
   "cell_type": "markdown",
   "id": "6887fe58",
   "metadata": {
    "papermill": {
     "duration": 0.065579,
     "end_time": "2023-08-12T17:39:54.347584",
     "exception": false,
     "start_time": "2023-08-12T17:39:54.282005",
     "status": "completed"
    },
    "tags": []
   },
   "source": [
    "## Rough work  "
   ]
  },
  {
   "cell_type": "code",
   "execution_count": 174,
   "id": "31dadb3e",
   "metadata": {
    "execution": {
     "iopub.execute_input": "2023-08-12T17:39:54.480318Z",
     "iopub.status.busy": "2023-08-12T17:39:54.479938Z",
     "iopub.status.idle": "2023-08-12T17:39:58.079369Z",
     "shell.execute_reply": "2023-08-12T17:39:58.078205Z"
    },
    "papermill": {
     "duration": 3.668912,
     "end_time": "2023-08-12T17:39:58.081758",
     "exception": false,
     "start_time": "2023-08-12T17:39:54.412846",
     "status": "completed"
    },
    "tags": []
   },
   "outputs": [],
   "source": [
    "    # Predict on test.csv file\n",
    "    merged_test = select_features(load_csv(\"test\"), load_csv(\"movies\"))\n",
    "    X_test = merged_test.copy()\n",
    "    \n",
    "    X_test = X_test[[\"audienceScore\", \"rating\", \"isFrequentReviewer\", \"reviewText\"]]    # This is a new line"
   ]
  },
  {
   "cell_type": "code",
   "execution_count": 175,
   "id": "7b68b189",
   "metadata": {
    "execution": {
     "iopub.execute_input": "2023-08-12T17:39:58.213341Z",
     "iopub.status.busy": "2023-08-12T17:39:58.212974Z",
     "iopub.status.idle": "2023-08-12T17:39:58.217247Z",
     "shell.execute_reply": "2023-08-12T17:39:58.216297Z"
    },
    "papermill": {
     "duration": 0.071682,
     "end_time": "2023-08-12T17:39:58.218964",
     "exception": false,
     "start_time": "2023-08-12T17:39:58.147282",
     "status": "completed"
    },
    "tags": []
   },
   "outputs": [],
   "source": [
    "# X_test.head()"
   ]
  },
  {
   "cell_type": "code",
   "execution_count": 176,
   "id": "02d9da0c",
   "metadata": {
    "execution": {
     "iopub.execute_input": "2023-08-12T17:39:58.350535Z",
     "iopub.status.busy": "2023-08-12T17:39:58.349726Z",
     "iopub.status.idle": "2023-08-12T17:39:58.353940Z",
     "shell.execute_reply": "2023-08-12T17:39:58.352851Z"
    },
    "papermill": {
     "duration": 0.071615,
     "end_time": "2023-08-12T17:39:58.355853",
     "exception": false,
     "start_time": "2023-08-12T17:39:58.284238",
     "status": "completed"
    },
    "tags": []
   },
   "outputs": [],
   "source": [
    "# X_test['audienceScore'].describe()"
   ]
  },
  {
   "cell_type": "code",
   "execution_count": 177,
   "id": "b79d6612",
   "metadata": {
    "execution": {
     "iopub.execute_input": "2023-08-12T17:39:58.488972Z",
     "iopub.status.busy": "2023-08-12T17:39:58.488624Z",
     "iopub.status.idle": "2023-08-12T17:39:58.492486Z",
     "shell.execute_reply": "2023-08-12T17:39:58.491648Z"
    },
    "papermill": {
     "duration": 0.071877,
     "end_time": "2023-08-12T17:39:58.494669",
     "exception": false,
     "start_time": "2023-08-12T17:39:58.422792",
     "status": "completed"
    },
    "tags": []
   },
   "outputs": [],
   "source": [
    "# X_test['rating'].value_counts()"
   ]
  },
  {
   "cell_type": "code",
   "execution_count": 178,
   "id": "92adcf50",
   "metadata": {
    "execution": {
     "iopub.execute_input": "2023-08-12T17:39:58.625908Z",
     "iopub.status.busy": "2023-08-12T17:39:58.625358Z",
     "iopub.status.idle": "2023-08-12T17:39:58.629567Z",
     "shell.execute_reply": "2023-08-12T17:39:58.628618Z"
    },
    "papermill": {
     "duration": 0.072201,
     "end_time": "2023-08-12T17:39:58.631364",
     "exception": false,
     "start_time": "2023-08-12T17:39:58.559163",
     "status": "completed"
    },
    "tags": []
   },
   "outputs": [],
   "source": [
    "# X_test['isFrequentReviewer'].value_counts()"
   ]
  },
  {
   "cell_type": "markdown",
   "id": "682f4398",
   "metadata": {
    "papermill": {
     "duration": 0.064044,
     "end_time": "2023-08-12T17:39:58.759545",
     "exception": false,
     "start_time": "2023-08-12T17:39:58.695501",
     "status": "completed"
    },
    "tags": []
   },
   "source": [
    "## Implement KNN classifier  "
   ]
  },
  {
   "cell_type": "code",
   "execution_count": 179,
   "id": "a73b006a",
   "metadata": {
    "execution": {
     "iopub.execute_input": "2023-08-12T17:39:58.896032Z",
     "iopub.status.busy": "2023-08-12T17:39:58.895412Z",
     "iopub.status.idle": "2023-08-12T17:39:58.898901Z",
     "shell.execute_reply": "2023-08-12T17:39:58.898328Z"
    },
    "papermill": {
     "duration": 0.072978,
     "end_time": "2023-08-12T17:39:58.900552",
     "exception": false,
     "start_time": "2023-08-12T17:39:58.827574",
     "status": "completed"
    },
    "tags": []
   },
   "outputs": [],
   "source": [
    "# from sklearn.neighbors import KNeighborsClassifier"
   ]
  },
  {
   "cell_type": "code",
   "execution_count": 180,
   "id": "00329ed6",
   "metadata": {
    "execution": {
     "iopub.execute_input": "2023-08-12T17:39:59.030502Z",
     "iopub.status.busy": "2023-08-12T17:39:59.029939Z",
     "iopub.status.idle": "2023-08-12T17:39:59.033161Z",
     "shell.execute_reply": "2023-08-12T17:39:59.032574Z"
    },
    "papermill": {
     "duration": 0.069206,
     "end_time": "2023-08-12T17:39:59.034643",
     "exception": false,
     "start_time": "2023-08-12T17:39:58.965437",
     "status": "completed"
    },
    "tags": []
   },
   "outputs": [],
   "source": [
    "# Note that we are borrowing \"ct_final\" column transformer from above  "
   ]
  },
  {
   "cell_type": "code",
   "execution_count": 181,
   "id": "2eb394b2",
   "metadata": {
    "execution": {
     "iopub.execute_input": "2023-08-12T17:39:59.166754Z",
     "iopub.status.busy": "2023-08-12T17:39:59.166111Z",
     "iopub.status.idle": "2023-08-12T17:39:59.169921Z",
     "shell.execute_reply": "2023-08-12T17:39:59.169236Z"
    },
    "papermill": {
     "duration": 0.070924,
     "end_time": "2023-08-12T17:39:59.171440",
     "exception": false,
     "start_time": "2023-08-12T17:39:59.100516",
     "status": "completed"
    },
    "tags": []
   },
   "outputs": [],
   "source": [
    "# pipe_knn = Pipeline(steps=[\n",
    "#                         (\"preprocessor\", ct_final),\n",
    "#                         (\"model\", KNeighborsClassifier())\n",
    "#                     ])\n",
    "# pipe_knn"
   ]
  },
  {
   "cell_type": "code",
   "execution_count": 182,
   "id": "9c7d8ad0",
   "metadata": {
    "execution": {
     "iopub.execute_input": "2023-08-12T17:39:59.302031Z",
     "iopub.status.busy": "2023-08-12T17:39:59.301481Z",
     "iopub.status.idle": "2023-08-12T17:39:59.304624Z",
     "shell.execute_reply": "2023-08-12T17:39:59.304016Z"
    },
    "papermill": {
     "duration": 0.069905,
     "end_time": "2023-08-12T17:39:59.306168",
     "exception": false,
     "start_time": "2023-08-12T17:39:59.236263",
     "status": "completed"
    },
    "tags": []
   },
   "outputs": [],
   "source": [
    "# Train and predict on merged training data  \n",
    "# split_train_predict(merged_train_features, merged_train_labels, pipe_knn, test_size=0.25, random_state=42)"
   ]
  },
  {
   "cell_type": "markdown",
   "id": "8479567d",
   "metadata": {
    "papermill": {
     "duration": 0.067132,
     "end_time": "2023-08-12T17:39:59.438549",
     "exception": false,
     "start_time": "2023-08-12T17:39:59.371417",
     "status": "completed"
    },
    "tags": []
   },
   "source": [
    "# Part I (Older code)  "
   ]
  },
  {
   "cell_type": "markdown",
   "id": "293059b3",
   "metadata": {
    "papermill": {
     "duration": 0.066072,
     "end_time": "2023-08-12T17:39:59.569722",
     "exception": false,
     "start_time": "2023-08-12T17:39:59.503650",
     "status": "completed"
    },
    "tags": []
   },
   "source": [
    "### Logistic Regression with stop words  "
   ]
  },
  {
   "cell_type": "code",
   "execution_count": 183,
   "id": "70531ed0",
   "metadata": {
    "execution": {
     "iopub.execute_input": "2023-08-12T17:39:59.708096Z",
     "iopub.status.busy": "2023-08-12T17:39:59.707675Z",
     "iopub.status.idle": "2023-08-12T17:39:59.711961Z",
     "shell.execute_reply": "2023-08-12T17:39:59.711077Z"
    },
    "papermill": {
     "duration": 0.077444,
     "end_time": "2023-08-12T17:39:59.714751",
     "exception": false,
     "start_time": "2023-08-12T17:39:59.637307",
     "status": "completed"
    },
    "tags": []
   },
   "outputs": [],
   "source": [
    "# tvec_sw = TfidfVectorizer(stop_words=stop_words)"
   ]
  },
  {
   "cell_type": "code",
   "execution_count": 184,
   "id": "a003d5aa",
   "metadata": {
    "execution": {
     "iopub.execute_input": "2023-08-12T17:39:59.923757Z",
     "iopub.status.busy": "2023-08-12T17:39:59.923397Z",
     "iopub.status.idle": "2023-08-12T17:39:59.927718Z",
     "shell.execute_reply": "2023-08-12T17:39:59.926586Z"
    },
    "papermill": {
     "duration": 0.13962,
     "end_time": "2023-08-12T17:39:59.929567",
     "exception": false,
     "start_time": "2023-08-12T17:39:59.789947",
     "status": "completed"
    },
    "tags": []
   },
   "outputs": [],
   "source": [
    "# logreg_sw_pipe = preprocess_n_train(X_train, y_train, tvec_sw, logreg)\n",
    "# logreg_sw_pipe"
   ]
  },
  {
   "cell_type": "code",
   "execution_count": 185,
   "id": "a846fde1",
   "metadata": {
    "execution": {
     "iopub.execute_input": "2023-08-12T17:40:00.062972Z",
     "iopub.status.busy": "2023-08-12T17:40:00.062645Z",
     "iopub.status.idle": "2023-08-12T17:40:00.068330Z",
     "shell.execute_reply": "2023-08-12T17:40:00.066529Z"
    },
    "papermill": {
     "duration": 0.075996,
     "end_time": "2023-08-12T17:40:00.070809",
     "exception": false,
     "start_time": "2023-08-12T17:39:59.994813",
     "status": "completed"
    },
    "tags": []
   },
   "outputs": [],
   "source": [
    "# y_pred_logreg_sw = predict_n_evaluate(logreg_sw_pipe, X_test, y_test)\n",
    "# y_pred_logreg_sw"
   ]
  },
  {
   "cell_type": "markdown",
   "id": "37f723d4",
   "metadata": {
    "papermill": {
     "duration": 0.068485,
     "end_time": "2023-08-12T17:40:00.205698",
     "exception": false,
     "start_time": "2023-08-12T17:40:00.137213",
     "status": "completed"
    },
    "tags": []
   },
   "source": [
    "### Logistic regression with different ngram ranges  "
   ]
  },
  {
   "cell_type": "code",
   "execution_count": 186,
   "id": "f5793d29",
   "metadata": {
    "execution": {
     "iopub.execute_input": "2023-08-12T17:40:00.340614Z",
     "iopub.status.busy": "2023-08-12T17:40:00.340264Z",
     "iopub.status.idle": "2023-08-12T17:40:00.345031Z",
     "shell.execute_reply": "2023-08-12T17:40:00.343963Z"
    },
    "papermill": {
     "duration": 0.075993,
     "end_time": "2023-08-12T17:40:00.347323",
     "exception": false,
     "start_time": "2023-08-12T17:40:00.271330",
     "status": "completed"
    },
    "tags": []
   },
   "outputs": [],
   "source": [
    "# tvec_ngram_2 = TfidfVectorizer(ngram_range=(1,2))"
   ]
  },
  {
   "cell_type": "code",
   "execution_count": 187,
   "id": "ef0ede59",
   "metadata": {
    "execution": {
     "iopub.execute_input": "2023-08-12T17:40:00.483878Z",
     "iopub.status.busy": "2023-08-12T17:40:00.483321Z",
     "iopub.status.idle": "2023-08-12T17:40:00.486621Z",
     "shell.execute_reply": "2023-08-12T17:40:00.485935Z"
    },
    "papermill": {
     "duration": 0.073398,
     "end_time": "2023-08-12T17:40:00.488836",
     "exception": false,
     "start_time": "2023-08-12T17:40:00.415438",
     "status": "completed"
    },
    "tags": []
   },
   "outputs": [],
   "source": [
    "# logreg_ng2_pipe = preprocess_n_train(X_train, y_train, tvec_ngram_2, logreg)\n",
    "# logreg_ng2_pipe"
   ]
  },
  {
   "cell_type": "code",
   "execution_count": 188,
   "id": "a2d69bdb",
   "metadata": {
    "execution": {
     "iopub.execute_input": "2023-08-12T17:40:00.622335Z",
     "iopub.status.busy": "2023-08-12T17:40:00.621570Z",
     "iopub.status.idle": "2023-08-12T17:40:00.625897Z",
     "shell.execute_reply": "2023-08-12T17:40:00.624485Z"
    },
    "papermill": {
     "duration": 0.073618,
     "end_time": "2023-08-12T17:40:00.627987",
     "exception": false,
     "start_time": "2023-08-12T17:40:00.554369",
     "status": "completed"
    },
    "tags": []
   },
   "outputs": [],
   "source": [
    "# y_pred_logreg_ng2 = predict_n_evaluate(logreg_ng2_pipe, X_test, y_test)\n",
    "# y_pred_logreg_ng2"
   ]
  },
  {
   "cell_type": "markdown",
   "id": "c499e7e4",
   "metadata": {
    "papermill": {
     "duration": 0.067103,
     "end_time": "2023-08-12T17:40:00.760389",
     "exception": false,
     "start_time": "2023-08-12T17:40:00.693286",
     "status": "completed"
    },
    "tags": []
   },
   "source": [
    "### Logistic regression with C=2, ngram range (1,2), stop words as None and min_df, max_df adjusted\n",
    "### Class weight balanced"
   ]
  },
  {
   "cell_type": "code",
   "execution_count": 189,
   "id": "361c2855",
   "metadata": {
    "execution": {
     "iopub.execute_input": "2023-08-12T17:40:00.891494Z",
     "iopub.status.busy": "2023-08-12T17:40:00.891107Z",
     "iopub.status.idle": "2023-08-12T17:40:00.896760Z",
     "shell.execute_reply": "2023-08-12T17:40:00.896097Z"
    },
    "papermill": {
     "duration": 0.074225,
     "end_time": "2023-08-12T17:40:00.899101",
     "exception": false,
     "start_time": "2023-08-12T17:40:00.824876",
     "status": "completed"
    },
    "tags": []
   },
   "outputs": [],
   "source": [
    "# logreg = LogisticRegression(max_iter=100000, C=2, class_weight=\"balanced\")"
   ]
  },
  {
   "cell_type": "code",
   "execution_count": 190,
   "id": "a6a6733c",
   "metadata": {
    "execution": {
     "iopub.execute_input": "2023-08-12T17:40:01.036765Z",
     "iopub.status.busy": "2023-08-12T17:40:01.035596Z",
     "iopub.status.idle": "2023-08-12T17:40:01.039837Z",
     "shell.execute_reply": "2023-08-12T17:40:01.038963Z"
    },
    "papermill": {
     "duration": 0.07394,
     "end_time": "2023-08-12T17:40:01.042161",
     "exception": false,
     "start_time": "2023-08-12T17:40:00.968221",
     "status": "completed"
    },
    "tags": []
   },
   "outputs": [],
   "source": [
    "# tvec_ngram_2_sw_df = TfidfVectorizer(ngram_range=(1,2), stop_words=None, min_df=0.0001, max_df=0.50)\n",
    "# tvec_ngram_2_sw_df"
   ]
  },
  {
   "cell_type": "code",
   "execution_count": 191,
   "id": "945a8df4",
   "metadata": {
    "execution": {
     "iopub.execute_input": "2023-08-12T17:40:01.177276Z",
     "iopub.status.busy": "2023-08-12T17:40:01.176945Z",
     "iopub.status.idle": "2023-08-12T17:40:01.180939Z",
     "shell.execute_reply": "2023-08-12T17:40:01.180085Z"
    },
    "papermill": {
     "duration": 0.07342,
     "end_time": "2023-08-12T17:40:01.182702",
     "exception": false,
     "start_time": "2023-08-12T17:40:01.109282",
     "status": "completed"
    },
    "tags": []
   },
   "outputs": [],
   "source": [
    "# logreg_ng2_sw_df_pipe = preprocess_n_train(X_train, y_train, tvec_ngram_2_sw_df, logreg)\n",
    "# logreg_ng2_sw_df_pipe"
   ]
  },
  {
   "cell_type": "code",
   "execution_count": 192,
   "id": "bb9c4129",
   "metadata": {
    "execution": {
     "iopub.execute_input": "2023-08-12T17:40:01.314787Z",
     "iopub.status.busy": "2023-08-12T17:40:01.314473Z",
     "iopub.status.idle": "2023-08-12T17:40:01.318250Z",
     "shell.execute_reply": "2023-08-12T17:40:01.317319Z"
    },
    "papermill": {
     "duration": 0.072437,
     "end_time": "2023-08-12T17:40:01.319901",
     "exception": false,
     "start_time": "2023-08-12T17:40:01.247464",
     "status": "completed"
    },
    "tags": []
   },
   "outputs": [],
   "source": [
    "# y_pred_logreg_ng2_sw_df = predict_n_evaluate(logreg_ng2_sw_df_pipe, X_test, y_test)\n",
    "# y_pred_logreg_ng2_sw_df"
   ]
  },
  {
   "cell_type": "markdown",
   "id": "ac2cfaad",
   "metadata": {
    "papermill": {
     "duration": 0.069662,
     "end_time": "2023-08-12T17:40:01.456218",
     "exception": false,
     "start_time": "2023-08-12T17:40:01.386556",
     "status": "completed"
    },
    "tags": []
   },
   "source": [
    "### Log reg with parameters from GridSearchCV  \n",
    "\n",
    "`This is the best score with \"reviewText column alone for analysis`  "
   ]
  },
  {
   "cell_type": "code",
   "execution_count": 193,
   "id": "d61288a5",
   "metadata": {
    "execution": {
     "iopub.execute_input": "2023-08-12T17:40:01.590259Z",
     "iopub.status.busy": "2023-08-12T17:40:01.589895Z",
     "iopub.status.idle": "2023-08-12T17:40:01.594968Z",
     "shell.execute_reply": "2023-08-12T17:40:01.593765Z"
    },
    "papermill": {
     "duration": 0.075939,
     "end_time": "2023-08-12T17:40:01.597376",
     "exception": false,
     "start_time": "2023-08-12T17:40:01.521437",
     "status": "completed"
    },
    "tags": []
   },
   "outputs": [],
   "source": [
    "logreg_cv1 = LogisticRegression(max_iter=100000, C=10)\n",
    "tvec_cv1 = TfidfVectorizer(max_features=None, ngram_range=(1,2))"
   ]
  },
  {
   "cell_type": "code",
   "execution_count": 194,
   "id": "3ac8d06f",
   "metadata": {
    "execution": {
     "iopub.execute_input": "2023-08-12T17:40:01.730485Z",
     "iopub.status.busy": "2023-08-12T17:40:01.729406Z",
     "iopub.status.idle": "2023-08-12T17:40:01.735615Z",
     "shell.execute_reply": "2023-08-12T17:40:01.734247Z"
    },
    "papermill": {
     "duration": 0.074723,
     "end_time": "2023-08-12T17:40:01.737807",
     "exception": false,
     "start_time": "2023-08-12T17:40:01.663084",
     "status": "completed"
    },
    "tags": []
   },
   "outputs": [],
   "source": [
    "pipe_cv1 = Pipeline(steps=[\n",
    "    (\"preprocessor\", tvec_cv1),\n",
    "    (\"model\", logreg_cv1)\n",
    "])"
   ]
  },
  {
   "cell_type": "code",
   "execution_count": 195,
   "id": "a18d6cf2",
   "metadata": {
    "execution": {
     "iopub.execute_input": "2023-08-12T17:40:01.871474Z",
     "iopub.status.busy": "2023-08-12T17:40:01.871157Z",
     "iopub.status.idle": "2023-08-12T17:40:01.874663Z",
     "shell.execute_reply": "2023-08-12T17:40:01.873862Z"
    },
    "papermill": {
     "duration": 0.07263,
     "end_time": "2023-08-12T17:40:01.876357",
     "exception": false,
     "start_time": "2023-08-12T17:40:01.803727",
     "status": "completed"
    },
    "tags": []
   },
   "outputs": [],
   "source": [
    "# pipe_cv1.fit(X_train, y_train)"
   ]
  },
  {
   "cell_type": "code",
   "execution_count": 196,
   "id": "79210153",
   "metadata": {
    "execution": {
     "iopub.execute_input": "2023-08-12T17:40:02.008793Z",
     "iopub.status.busy": "2023-08-12T17:40:02.008234Z",
     "iopub.status.idle": "2023-08-12T17:40:02.012884Z",
     "shell.execute_reply": "2023-08-12T17:40:02.012029Z"
    },
    "papermill": {
     "duration": 0.072901,
     "end_time": "2023-08-12T17:40:02.014641",
     "exception": false,
     "start_time": "2023-08-12T17:40:01.941740",
     "status": "completed"
    },
    "tags": []
   },
   "outputs": [],
   "source": [
    "# pipe_cv1.score(X_train, y_train)"
   ]
  },
  {
   "cell_type": "markdown",
   "id": "58d9581e",
   "metadata": {
    "papermill": {
     "duration": 0.066181,
     "end_time": "2023-08-12T17:40:02.147722",
     "exception": false,
     "start_time": "2023-08-12T17:40:02.081541",
     "status": "completed"
    },
    "tags": []
   },
   "source": [
    "### SVM model with stop words  "
   ]
  },
  {
   "cell_type": "code",
   "execution_count": 197,
   "id": "789adb1a",
   "metadata": {
    "execution": {
     "iopub.execute_input": "2023-08-12T17:40:02.281153Z",
     "iopub.status.busy": "2023-08-12T17:40:02.280754Z",
     "iopub.status.idle": "2023-08-12T17:40:02.285200Z",
     "shell.execute_reply": "2023-08-12T17:40:02.284093Z"
    },
    "papermill": {
     "duration": 0.073789,
     "end_time": "2023-08-12T17:40:02.287326",
     "exception": false,
     "start_time": "2023-08-12T17:40:02.213537",
     "status": "completed"
    },
    "tags": []
   },
   "outputs": [],
   "source": [
    "# svm_sw_pipe = preprocess_n_train(X_train, y_train, tvec_sw, svm)\n",
    "# svm_sw_pipe"
   ]
  },
  {
   "cell_type": "code",
   "execution_count": 198,
   "id": "ebe51595",
   "metadata": {
    "execution": {
     "iopub.execute_input": "2023-08-12T17:40:02.421359Z",
     "iopub.status.busy": "2023-08-12T17:40:02.421007Z",
     "iopub.status.idle": "2023-08-12T17:40:02.425683Z",
     "shell.execute_reply": "2023-08-12T17:40:02.424627Z"
    },
    "papermill": {
     "duration": 0.075214,
     "end_time": "2023-08-12T17:40:02.427883",
     "exception": false,
     "start_time": "2023-08-12T17:40:02.352669",
     "status": "completed"
    },
    "tags": []
   },
   "outputs": [],
   "source": [
    "# y_pred_svm_sw = predict_n_evaluate(svm_sw_pipe, X_test, y_test)\n",
    "# y_pred_svm_sw"
   ]
  },
  {
   "cell_type": "markdown",
   "id": "06cca42c",
   "metadata": {
    "papermill": {
     "duration": 0.127418,
     "end_time": "2023-08-12T17:40:02.621519",
     "exception": false,
     "start_time": "2023-08-12T17:40:02.494101",
     "status": "completed"
    },
    "tags": []
   },
   "source": [
    "### GaussianNB  "
   ]
  },
  {
   "cell_type": "markdown",
   "id": "5c66d44a",
   "metadata": {
    "papermill": {
     "duration": 0.065749,
     "end_time": "2023-08-12T17:40:02.753213",
     "exception": false,
     "start_time": "2023-08-12T17:40:02.687464",
     "status": "completed"
    },
    "tags": []
   },
   "source": [
    "https://stackoverflow.com/questions/28384680/scikit-learns-pipeline-a-sparse-matrix-was-passed-but-dense-data-is-required"
   ]
  },
  {
   "cell_type": "code",
   "execution_count": 199,
   "id": "e7829fce",
   "metadata": {
    "execution": {
     "iopub.execute_input": "2023-08-12T17:40:02.887225Z",
     "iopub.status.busy": "2023-08-12T17:40:02.886861Z",
     "iopub.status.idle": "2023-08-12T17:40:02.891310Z",
     "shell.execute_reply": "2023-08-12T17:40:02.890142Z"
    },
    "papermill": {
     "duration": 0.074075,
     "end_time": "2023-08-12T17:40:02.893293",
     "exception": false,
     "start_time": "2023-08-12T17:40:02.819218",
     "status": "completed"
    },
    "tags": []
   },
   "outputs": [],
   "source": [
    "# gnb = GaussianNB()\n",
    "# gnb"
   ]
  },
  {
   "cell_type": "code",
   "execution_count": 200,
   "id": "284713e3",
   "metadata": {
    "execution": {
     "iopub.execute_input": "2023-08-12T17:40:03.026919Z",
     "iopub.status.busy": "2023-08-12T17:40:03.026606Z",
     "iopub.status.idle": "2023-08-12T17:40:03.030408Z",
     "shell.execute_reply": "2023-08-12T17:40:03.029567Z"
    },
    "papermill": {
     "duration": 0.072164,
     "end_time": "2023-08-12T17:40:03.031981",
     "exception": false,
     "start_time": "2023-08-12T17:40:02.959817",
     "status": "completed"
    },
    "tags": []
   },
   "outputs": [],
   "source": [
    "# gnb_pipe = preprocess_n_train(X_train, y_train, tvec, gnb)\n",
    "# gnb_pipe"
   ]
  },
  {
   "cell_type": "markdown",
   "id": "6e018be7",
   "metadata": {
    "papermill": {
     "duration": 0.067945,
     "end_time": "2023-08-12T17:40:03.165907",
     "exception": false,
     "start_time": "2023-08-12T17:40:03.097962",
     "status": "completed"
    },
    "tags": []
   },
   "source": [
    "# Part II (Older code)  \n"
   ]
  },
  {
   "cell_type": "markdown",
   "id": "c7f4b63d",
   "metadata": {
    "papermill": {
     "duration": 0.064949,
     "end_time": "2023-08-12T17:40:03.298816",
     "exception": false,
     "start_time": "2023-08-12T17:40:03.233867",
     "status": "completed"
    },
    "tags": []
   },
   "source": [
    "### Separate features and labels from merged dataset  "
   ]
  },
  {
   "cell_type": "code",
   "execution_count": 201,
   "id": "a456e736",
   "metadata": {
    "execution": {
     "iopub.execute_input": "2023-08-12T17:40:03.432354Z",
     "iopub.status.busy": "2023-08-12T17:40:03.431722Z",
     "iopub.status.idle": "2023-08-12T17:40:03.436697Z",
     "shell.execute_reply": "2023-08-12T17:40:03.435172Z"
    },
    "papermill": {
     "duration": 0.07546,
     "end_time": "2023-08-12T17:40:03.439101",
     "exception": false,
     "start_time": "2023-08-12T17:40:03.363641",
     "status": "completed"
    },
    "tags": []
   },
   "outputs": [],
   "source": [
    "# merged_train_features = merged[['movieid', 'reviewerName', 'isFrequentReviewer', 'reviewText',\n",
    "#        'audienceScore', 'rating', 'runtimeMinutes', 'genre',\n",
    "#        'originalLanguage', 'director']]\n",
    "# merged_train_features.shape"
   ]
  },
  {
   "cell_type": "code",
   "execution_count": 202,
   "id": "65afed20",
   "metadata": {
    "execution": {
     "iopub.execute_input": "2023-08-12T17:40:03.573610Z",
     "iopub.status.busy": "2023-08-12T17:40:03.573270Z",
     "iopub.status.idle": "2023-08-12T17:40:03.577072Z",
     "shell.execute_reply": "2023-08-12T17:40:03.576085Z"
    },
    "papermill": {
     "duration": 0.072246,
     "end_time": "2023-08-12T17:40:03.578879",
     "exception": false,
     "start_time": "2023-08-12T17:40:03.506633",
     "status": "completed"
    },
    "tags": []
   },
   "outputs": [],
   "source": [
    "# merged_train_labels = merged[\"sentiment\"]\n",
    "# merged_train_labels.shape"
   ]
  },
  {
   "cell_type": "markdown",
   "id": "ff7a3706",
   "metadata": {
    "papermill": {
     "duration": 0.065039,
     "end_time": "2023-08-12T17:40:03.709949",
     "exception": false,
     "start_time": "2023-08-12T17:40:03.644910",
     "status": "completed"
    },
    "tags": []
   },
   "source": [
    "### Identify variable types for different preprocessing pipes  "
   ]
  },
  {
   "cell_type": "code",
   "execution_count": 203,
   "id": "c3377fed",
   "metadata": {
    "execution": {
     "iopub.execute_input": "2023-08-12T17:40:03.844867Z",
     "iopub.status.busy": "2023-08-12T17:40:03.844246Z",
     "iopub.status.idle": "2023-08-12T17:40:03.847870Z",
     "shell.execute_reply": "2023-08-12T17:40:03.847158Z"
    },
    "papermill": {
     "duration": 0.07311,
     "end_time": "2023-08-12T17:40:03.849853",
     "exception": false,
     "start_time": "2023-08-12T17:40:03.776743",
     "status": "completed"
    },
    "tags": []
   },
   "outputs": [],
   "source": [
    "# num_vars = [\"audienceScore\", \"runtimeMinutes\"]\n",
    "# txt_vars = [\"originalLanguage\", \"genre\", \"director\", \"reviewerName\", \"reviewText\"]\n",
    "# cat_vars = [\"rating\", \"isFrequentReviewer\"]"
   ]
  },
  {
   "cell_type": "code",
   "execution_count": 204,
   "id": "0551bca0",
   "metadata": {
    "execution": {
     "iopub.execute_input": "2023-08-12T17:40:03.983092Z",
     "iopub.status.busy": "2023-08-12T17:40:03.982712Z",
     "iopub.status.idle": "2023-08-12T17:40:03.987057Z",
     "shell.execute_reply": "2023-08-12T17:40:03.986036Z"
    },
    "papermill": {
     "duration": 0.072975,
     "end_time": "2023-08-12T17:40:03.988984",
     "exception": false,
     "start_time": "2023-08-12T17:40:03.916009",
     "status": "completed"
    },
    "tags": []
   },
   "outputs": [],
   "source": [
    "# num_pipe = Pipeline(steps=[\n",
    "#                             (\"imputer\", SimpleImputer(strategy=\"mean\", missing_values=np.nan)),\n",
    "#                             (\"scaler\", MinMaxScaler())\n",
    "#                         ])\n",
    "# num_pipe"
   ]
  },
  {
   "cell_type": "code",
   "execution_count": 205,
   "id": "b569362e",
   "metadata": {
    "execution": {
     "iopub.execute_input": "2023-08-12T17:40:04.121988Z",
     "iopub.status.busy": "2023-08-12T17:40:04.121697Z",
     "iopub.status.idle": "2023-08-12T17:40:04.125522Z",
     "shell.execute_reply": "2023-08-12T17:40:04.124722Z"
    },
    "papermill": {
     "duration": 0.0724,
     "end_time": "2023-08-12T17:40:04.127240",
     "exception": false,
     "start_time": "2023-08-12T17:40:04.054840",
     "status": "completed"
    },
    "tags": []
   },
   "outputs": [],
   "source": [
    "# txt_pipe = Pipeline(steps=[\n",
    "#                             (\"tvec\", TfidfVectorizer())\n",
    "#                         ])\n",
    "# txt_pipe"
   ]
  },
  {
   "cell_type": "code",
   "execution_count": 206,
   "id": "3b999a3c",
   "metadata": {
    "execution": {
     "iopub.execute_input": "2023-08-12T17:40:04.262540Z",
     "iopub.status.busy": "2023-08-12T17:40:04.262248Z",
     "iopub.status.idle": "2023-08-12T17:40:04.266912Z",
     "shell.execute_reply": "2023-08-12T17:40:04.265750Z"
    },
    "papermill": {
     "duration": 0.074335,
     "end_time": "2023-08-12T17:40:04.268816",
     "exception": false,
     "start_time": "2023-08-12T17:40:04.194481",
     "status": "completed"
    },
    "tags": []
   },
   "outputs": [],
   "source": [
    "# cat_pipe = Pipeline(steps=[\n",
    "#                             (\"ohe\", OneHotEncoder(handle_unknown=\"ignore\"))\n",
    "#                         ])\n",
    "# cat_pipe"
   ]
  },
  {
   "cell_type": "code",
   "execution_count": 207,
   "id": "fc019590",
   "metadata": {
    "execution": {
     "iopub.execute_input": "2023-08-12T17:40:04.402949Z",
     "iopub.status.busy": "2023-08-12T17:40:04.402636Z",
     "iopub.status.idle": "2023-08-12T17:40:04.407064Z",
     "shell.execute_reply": "2023-08-12T17:40:04.405816Z"
    },
    "papermill": {
     "duration": 0.073463,
     "end_time": "2023-08-12T17:40:04.409235",
     "exception": false,
     "start_time": "2023-08-12T17:40:04.335772",
     "status": "completed"
    },
    "tags": []
   },
   "outputs": [],
   "source": [
    "# tfidf_vec_1 = TfidfVectorizer(ngram_range=(1,2))\n",
    "# tfidf_vec_1"
   ]
  },
  {
   "cell_type": "code",
   "execution_count": 208,
   "id": "b3b7efed",
   "metadata": {
    "execution": {
     "iopub.execute_input": "2023-08-12T17:40:04.544238Z",
     "iopub.status.busy": "2023-08-12T17:40:04.543385Z",
     "iopub.status.idle": "2023-08-12T17:40:04.547388Z",
     "shell.execute_reply": "2023-08-12T17:40:04.546781Z"
    },
    "papermill": {
     "duration": 0.073431,
     "end_time": "2023-08-12T17:40:04.549163",
     "exception": false,
     "start_time": "2023-08-12T17:40:04.475732",
     "status": "completed"
    },
    "tags": []
   },
   "outputs": [],
   "source": [
    "# ct_final = ColumnTransformer(transformers=[\n",
    "#                                         (\"num\", num_pipe, num_vars),\n",
    "#                                         (\"txt1\", txt_pipe, \"originalLanguage\"),\n",
    "#                                         (\"txt2\", txt_pipe, \"genre\"),\n",
    "#                                         (\"txt3\", txt_pipe, \"director\"),\n",
    "#                                         (\"cat\", cat_pipe, cat_vars),\n",
    "#                                         (\"txt4a\", tfidf_vec_1, \"reviewText\")\n",
    "# #                                         (\"txt4\", TfidfVectorizer(ngram_range=(1,2)), \"reviewText\"),\n",
    "# #                                         (\"cat2\", cat_pipe, [\"isFrequentReviewer\"])\n",
    "#                                         ], remainder=\"drop\", n_jobs=1)\n",
    "\n",
    "# # Note that this transformer drops \"movieid\" column and \"reviewerName\" column  \n",
    "# ct_final"
   ]
  },
  {
   "cell_type": "code",
   "execution_count": 209,
   "id": "c646f380",
   "metadata": {
    "execution": {
     "iopub.execute_input": "2023-08-12T17:40:04.684229Z",
     "iopub.status.busy": "2023-08-12T17:40:04.683599Z",
     "iopub.status.idle": "2023-08-12T17:40:04.686983Z",
     "shell.execute_reply": "2023-08-12T17:40:04.686428Z"
    },
    "papermill": {
     "duration": 0.072634,
     "end_time": "2023-08-12T17:40:04.689241",
     "exception": false,
     "start_time": "2023-08-12T17:40:04.616607",
     "status": "completed"
    },
    "tags": []
   },
   "outputs": [],
   "source": [
    "# pipe_final = Pipeline(steps=[\n",
    "#                         (\"preprocessor\", ct_final),\n",
    "#                         (\"model\", LogisticRegression(max_iter=100000))\n",
    "#                     ])\n",
    "# pipe_final"
   ]
  },
  {
   "cell_type": "code",
   "execution_count": 210,
   "id": "e61c266d",
   "metadata": {
    "execution": {
     "iopub.execute_input": "2023-08-12T17:40:04.822979Z",
     "iopub.status.busy": "2023-08-12T17:40:04.822477Z",
     "iopub.status.idle": "2023-08-12T17:40:04.825678Z",
     "shell.execute_reply": "2023-08-12T17:40:04.825090Z"
    },
    "papermill": {
     "duration": 0.07206,
     "end_time": "2023-08-12T17:40:04.827436",
     "exception": false,
     "start_time": "2023-08-12T17:40:04.755376",
     "status": "completed"
    },
    "tags": []
   },
   "outputs": [],
   "source": [
    "# final_vars = num_vars + txt_vars + cat_vars\n",
    "# len(final_vars), final_vars"
   ]
  },
  {
   "cell_type": "markdown",
   "id": "f6a5a59b",
   "metadata": {
    "papermill": {
     "duration": 0.0653,
     "end_time": "2023-08-12T17:40:04.958549",
     "exception": false,
     "start_time": "2023-08-12T17:40:04.893249",
     "status": "completed"
    },
    "tags": []
   },
   "source": [
    "### Use \"split_train_predict\" function to run end-to-end pipeline  "
   ]
  },
  {
   "cell_type": "code",
   "execution_count": 211,
   "id": "e505464d",
   "metadata": {
    "execution": {
     "iopub.execute_input": "2023-08-12T17:40:05.091921Z",
     "iopub.status.busy": "2023-08-12T17:40:05.091403Z",
     "iopub.status.idle": "2023-08-12T17:40:05.094788Z",
     "shell.execute_reply": "2023-08-12T17:40:05.094188Z"
    },
    "papermill": {
     "duration": 0.072093,
     "end_time": "2023-08-12T17:40:05.096640",
     "exception": false,
     "start_time": "2023-08-12T17:40:05.024547",
     "status": "completed"
    },
    "tags": []
   },
   "outputs": [],
   "source": [
    "# split_train_predict(merged_train_features, merged_train_labels, pipe_final, test_size=0.25, random_state=42)"
   ]
  },
  {
   "cell_type": "markdown",
   "id": "7d316e41",
   "metadata": {
    "papermill": {
     "duration": 0.065459,
     "end_time": "2023-08-12T17:40:05.228645",
     "exception": false,
     "start_time": "2023-08-12T17:40:05.163186",
     "status": "completed"
    },
    "tags": []
   },
   "source": [
    "## Try the best four features obtained on local machine  "
   ]
  },
  {
   "cell_type": "code",
   "execution_count": 212,
   "id": "76fe2cbb",
   "metadata": {
    "execution": {
     "iopub.execute_input": "2023-08-12T17:40:05.361927Z",
     "iopub.status.busy": "2023-08-12T17:40:05.361384Z",
     "iopub.status.idle": "2023-08-12T17:40:05.364825Z",
     "shell.execute_reply": "2023-08-12T17:40:05.364177Z"
    },
    "papermill": {
     "duration": 0.072463,
     "end_time": "2023-08-12T17:40:05.366529",
     "exception": false,
     "start_time": "2023-08-12T17:40:05.294066",
     "status": "completed"
    },
    "tags": []
   },
   "outputs": [],
   "source": [
    "# tfidf_vec_2 = TfidfVectorizer(ngram_range=(1,2))\n",
    "# tfidf_vec_2"
   ]
  },
  {
   "cell_type": "code",
   "execution_count": 213,
   "id": "a8b37801",
   "metadata": {
    "execution": {
     "iopub.execute_input": "2023-08-12T17:40:05.501514Z",
     "iopub.status.busy": "2023-08-12T17:40:05.500967Z",
     "iopub.status.idle": "2023-08-12T17:40:05.505207Z",
     "shell.execute_reply": "2023-08-12T17:40:05.504090Z"
    },
    "papermill": {
     "duration": 0.074544,
     "end_time": "2023-08-12T17:40:05.507606",
     "exception": false,
     "start_time": "2023-08-12T17:40:05.433062",
     "status": "completed"
    },
    "tags": []
   },
   "outputs": [],
   "source": [
    "# ct_best4 = ColumnTransformer(transformers=[\n",
    "#                                             (\"num\", num_pipe, [\"audienceScore\"]),\n",
    "#                                             (\"cat\", cat_pipe, [\"rating\", \"isFrequentReviewer\"]),\n",
    "#                                             (\"tvec\", tfidf_vec_2, \"reviewText\")\n",
    "#                             ])\n",
    "\n",
    "# pipe_best4 = Pipeline(steps=[\n",
    "#     (\"preprocessor\", ct_best4),\n",
    "#     (\"model\", LogisticRegression())\n",
    "# ])\n",
    "\n",
    "# pipe_best4.set_params(model__C=10, model__max_iter=100000)\n",
    "\n",
    "# pipe_best4"
   ]
  },
  {
   "cell_type": "code",
   "execution_count": 214,
   "id": "15381463",
   "metadata": {
    "execution": {
     "iopub.execute_input": "2023-08-12T17:40:05.701918Z",
     "iopub.status.busy": "2023-08-12T17:40:05.701384Z",
     "iopub.status.idle": "2023-08-12T17:40:05.704779Z",
     "shell.execute_reply": "2023-08-12T17:40:05.704140Z"
    },
    "papermill": {
     "duration": 0.133447,
     "end_time": "2023-08-12T17:40:05.706906",
     "exception": false,
     "start_time": "2023-08-12T17:40:05.573459",
     "status": "completed"
    },
    "tags": []
   },
   "outputs": [],
   "source": [
    "# split_train_predict(merged[[\"audienceScore\", \"rating\", \"isFrequentReviewer\", \"reviewText\"]], merged[\"sentiment\"], pipe_best4, test_size=0.25)"
   ]
  },
  {
   "cell_type": "markdown",
   "id": "8c5536bb",
   "metadata": {
    "papermill": {
     "duration": 0.065073,
     "end_time": "2023-08-12T17:40:05.837814",
     "exception": false,
     "start_time": "2023-08-12T17:40:05.772741",
     "status": "completed"
    },
    "tags": []
   },
   "source": [
    "## Try only 'reviewText' column  "
   ]
  },
  {
   "cell_type": "code",
   "execution_count": 215,
   "id": "b5497167",
   "metadata": {
    "execution": {
     "iopub.execute_input": "2023-08-12T17:40:05.972186Z",
     "iopub.status.busy": "2023-08-12T17:40:05.971612Z",
     "iopub.status.idle": "2023-08-12T17:40:05.974877Z",
     "shell.execute_reply": "2023-08-12T17:40:05.974269Z"
    },
    "papermill": {
     "duration": 0.073291,
     "end_time": "2023-08-12T17:40:05.977162",
     "exception": false,
     "start_time": "2023-08-12T17:40:05.903871",
     "status": "completed"
    },
    "tags": []
   },
   "outputs": [],
   "source": [
    "# tfidf_vec_3 = TfidfVectorizer(ngram_range=(1,2))\n",
    "# tfidf_vec_3"
   ]
  },
  {
   "cell_type": "code",
   "execution_count": 216,
   "id": "1c06d801",
   "metadata": {
    "execution": {
     "iopub.execute_input": "2023-08-12T17:40:06.111517Z",
     "iopub.status.busy": "2023-08-12T17:40:06.110962Z",
     "iopub.status.idle": "2023-08-12T17:40:06.114637Z",
     "shell.execute_reply": "2023-08-12T17:40:06.113649Z"
    },
    "papermill": {
     "duration": 0.073646,
     "end_time": "2023-08-12T17:40:06.116881",
     "exception": false,
     "start_time": "2023-08-12T17:40:06.043235",
     "status": "completed"
    },
    "tags": []
   },
   "outputs": [],
   "source": [
    "# ct_RTonly = ColumnTransformer(transformers=[\n",
    "#                                             ('txt', tfidf_vec_3, 'reviewText'),\n",
    "#                                             ], remainder='drop')\n",
    "# ct_RTonly"
   ]
  },
  {
   "cell_type": "code",
   "execution_count": 217,
   "id": "4221cd67",
   "metadata": {
    "execution": {
     "iopub.execute_input": "2023-08-12T17:40:06.250611Z",
     "iopub.status.busy": "2023-08-12T17:40:06.249714Z",
     "iopub.status.idle": "2023-08-12T17:40:06.255057Z",
     "shell.execute_reply": "2023-08-12T17:40:06.253686Z"
    },
    "papermill": {
     "duration": 0.073875,
     "end_time": "2023-08-12T17:40:06.256819",
     "exception": false,
     "start_time": "2023-08-12T17:40:06.182944",
     "status": "completed"
    },
    "tags": []
   },
   "outputs": [],
   "source": [
    "# pipe_RTonly = Pipeline(steps=[\n",
    "#     (\"preprocessor\", ct_RTonly),\n",
    "#     (\"model\", LogisticRegression())\n",
    "# ])\n",
    "\n",
    "# pipe_RTonly.set_params(model__C=10, model__max_iter=100000)\n",
    "\n",
    "# pipe_RTonly"
   ]
  },
  {
   "cell_type": "markdown",
   "id": "64cd14c5",
   "metadata": {
    "papermill": {
     "duration": 0.064644,
     "end_time": "2023-08-12T17:40:06.386567",
     "exception": false,
     "start_time": "2023-08-12T17:40:06.321923",
     "status": "completed"
    },
    "tags": []
   },
   "source": [
    "## Using the 'submit_v4' function  "
   ]
  },
  {
   "cell_type": "markdown",
   "id": "a404b68d",
   "metadata": {
    "papermill": {
     "duration": 0.066142,
     "end_time": "2023-08-12T17:40:06.519700",
     "exception": false,
     "start_time": "2023-08-12T17:40:06.453558",
     "status": "completed"
    },
    "tags": []
   },
   "source": [
    "### Try the best 4 parameters with submit_v4 function"
   ]
  },
  {
   "cell_type": "code",
   "execution_count": 218,
   "id": "8191e05d",
   "metadata": {
    "execution": {
     "iopub.execute_input": "2023-08-12T17:40:06.653316Z",
     "iopub.status.busy": "2023-08-12T17:40:06.652785Z",
     "iopub.status.idle": "2023-08-12T17:40:06.655999Z",
     "shell.execute_reply": "2023-08-12T17:40:06.655462Z"
    },
    "papermill": {
     "duration": 0.073469,
     "end_time": "2023-08-12T17:40:06.658335",
     "exception": false,
     "start_time": "2023-08-12T17:40:06.584866",
     "status": "completed"
    },
    "tags": []
   },
   "outputs": [],
   "source": [
    "# best4 = [\"audienceScore\", \"rating\", \"isFrequentReviewer\", \"reviewText\"]\n",
    "\n",
    "# best4_dict = {'cat': [\"rating\", \"isFrequentReviewer\"],\n",
    "#              'num': [\"audienceScore\"],\n",
    "#              'txt': ['reviewText']}\n",
    "\n",
    "# best4_dict = {'num': [\"audienceScore\"],\n",
    "#              'txt': ['reviewText', 'movieid', 'director']}\n",
    "\n",
    "# best4_dict"
   ]
  },
  {
   "cell_type": "code",
   "execution_count": 219,
   "id": "017ad496",
   "metadata": {
    "execution": {
     "iopub.execute_input": "2023-08-12T17:40:06.794063Z",
     "iopub.status.busy": "2023-08-12T17:40:06.793670Z",
     "iopub.status.idle": "2023-08-12T17:40:06.797832Z",
     "shell.execute_reply": "2023-08-12T17:40:06.796634Z"
    },
    "papermill": {
     "duration": 0.075688,
     "end_time": "2023-08-12T17:40:06.800245",
     "exception": false,
     "start_time": "2023-08-12T17:40:06.724557",
     "status": "completed"
    },
    "tags": []
   },
   "outputs": [],
   "source": [
    "# submit_v4(selected_features=best4_dict)"
   ]
  },
  {
   "cell_type": "markdown",
   "id": "98a2f4c8",
   "metadata": {
    "papermill": {
     "duration": 0.065156,
     "end_time": "2023-08-12T17:40:06.931425",
     "exception": false,
     "start_time": "2023-08-12T17:40:06.866269",
     "status": "completed"
    },
    "tags": []
   },
   "source": [
    "### Try the best 3 parameters with submit_v4 function"
   ]
  },
  {
   "cell_type": "code",
   "execution_count": 220,
   "id": "fcce5c23",
   "metadata": {
    "execution": {
     "iopub.execute_input": "2023-08-12T17:40:07.068359Z",
     "iopub.status.busy": "2023-08-12T17:40:07.067426Z",
     "iopub.status.idle": "2023-08-12T17:40:07.071138Z",
     "shell.execute_reply": "2023-08-12T17:40:07.070537Z"
    },
    "papermill": {
     "duration": 0.075554,
     "end_time": "2023-08-12T17:40:07.072738",
     "exception": false,
     "start_time": "2023-08-12T17:40:06.997184",
     "status": "completed"
    },
    "tags": []
   },
   "outputs": [],
   "source": [
    "# best3 = [\"audienceScore\", \"isFrequentReviewer\", \"reviewText\"]\n",
    "# best3_dict = {'cat': [\"isFrequentReviewer\"],\n",
    "#              'num': [\"audienceScore\"],\n",
    "#              'txt': ['reviewText']}\n",
    "# best3_dict"
   ]
  },
  {
   "cell_type": "code",
   "execution_count": 221,
   "id": "2729e05f",
   "metadata": {
    "execution": {
     "iopub.execute_input": "2023-08-12T17:40:07.207729Z",
     "iopub.status.busy": "2023-08-12T17:40:07.207098Z",
     "iopub.status.idle": "2023-08-12T17:40:07.210948Z",
     "shell.execute_reply": "2023-08-12T17:40:07.210282Z"
    },
    "papermill": {
     "duration": 0.072832,
     "end_time": "2023-08-12T17:40:07.213079",
     "exception": false,
     "start_time": "2023-08-12T17:40:07.140247",
     "status": "completed"
    },
    "tags": []
   },
   "outputs": [],
   "source": [
    "# submit_v4(selected_features=best3_dict)"
   ]
  },
  {
   "cell_type": "markdown",
   "id": "1f38edef",
   "metadata": {
    "papermill": {
     "duration": 0.066152,
     "end_time": "2023-08-12T17:40:07.344699",
     "exception": false,
     "start_time": "2023-08-12T17:40:07.278547",
     "status": "completed"
    },
    "tags": []
   },
   "source": [
    "## Try throwing almost everything (no boxOffice) at submit_v4!  "
   ]
  },
  {
   "cell_type": "code",
   "execution_count": 222,
   "id": "9c9a2454",
   "metadata": {
    "execution": {
     "iopub.execute_input": "2023-08-12T17:40:07.481074Z",
     "iopub.status.busy": "2023-08-12T17:40:07.480714Z",
     "iopub.status.idle": "2023-08-12T17:40:07.488209Z",
     "shell.execute_reply": "2023-08-12T17:40:07.486544Z"
    },
    "papermill": {
     "duration": 0.0788,
     "end_time": "2023-08-12T17:40:07.489966",
     "exception": false,
     "start_time": "2023-08-12T17:40:07.411166",
     "status": "completed"
    },
    "tags": []
   },
   "outputs": [
    {
     "data": {
      "text/plain": [
       "\"Most from merged = ['movieid', 'reviewerName', 'isFrequentReviewer', 'reviewText',\\n       'audienceScore', 'rating', 'runtimeMinutes', 'genre', \\n       'originalLanguage', 'director']\""
      ]
     },
     "execution_count": 222,
     "metadata": {},
     "output_type": "execute_result"
    }
   ],
   "source": [
    "\"\"\"Most from merged = ['movieid', 'reviewerName', 'isFrequentReviewer', 'reviewText',\n",
    "       'audienceScore', 'rating', 'runtimeMinutes', 'genre', \n",
    "       'originalLanguage', 'director']\"\"\"\n",
    "\n",
    "# almost_dict = {'cat': [\"isFrequentReviewer\", \"rating\", \"originalLanguage\"],\n",
    "#              'num': [\"audienceScore\", \"runtimeMinutes\"],\n",
    "#              'txt': ['reviewText', 'reviewerName', 'movieid', 'genre', 'director']}\n",
    "# almost_dict"
   ]
  },
  {
   "cell_type": "code",
   "execution_count": 223,
   "id": "86b781b6",
   "metadata": {
    "execution": {
     "iopub.execute_input": "2023-08-12T17:40:07.621940Z",
     "iopub.status.busy": "2023-08-12T17:40:07.621569Z",
     "iopub.status.idle": "2023-08-12T17:40:07.625836Z",
     "shell.execute_reply": "2023-08-12T17:40:07.624575Z"
    },
    "papermill": {
     "duration": 0.071712,
     "end_time": "2023-08-12T17:40:07.627719",
     "exception": false,
     "start_time": "2023-08-12T17:40:07.556007",
     "status": "completed"
    },
    "tags": []
   },
   "outputs": [],
   "source": [
    "# submit_v4(selected_features=almost_dict)"
   ]
  },
  {
   "cell_type": "markdown",
   "id": "0e052a00",
   "metadata": {
    "papermill": {
     "duration": 0.065544,
     "end_time": "2023-08-12T17:40:07.760271",
     "exception": false,
     "start_time": "2023-08-12T17:40:07.694727",
     "status": "completed"
    },
    "tags": []
   },
   "source": [
    "## Try throwing everything possible at submit_v4!  "
   ]
  },
  {
   "cell_type": "code",
   "execution_count": 224,
   "id": "ddb4ab5b",
   "metadata": {
    "execution": {
     "iopub.execute_input": "2023-08-12T17:40:07.894606Z",
     "iopub.status.busy": "2023-08-12T17:40:07.894214Z",
     "iopub.status.idle": "2023-08-12T17:40:07.900619Z",
     "shell.execute_reply": "2023-08-12T17:40:07.899382Z"
    },
    "papermill": {
     "duration": 0.077213,
     "end_time": "2023-08-12T17:40:07.903094",
     "exception": false,
     "start_time": "2023-08-12T17:40:07.825881",
     "status": "completed"
    },
    "tags": []
   },
   "outputs": [
    {
     "data": {
      "text/plain": [
       "\"All from merged = ['movieid', 'reviewerName', 'isFrequentReviewer', 'reviewText',\\n       'audienceScore', 'rating', 'runtimeMinutes', 'genre', 'boxOffice',\\n       'originalLanguage', 'director']\""
      ]
     },
     "execution_count": 224,
     "metadata": {},
     "output_type": "execute_result"
    }
   ],
   "source": [
    "\"\"\"All from merged = ['movieid', 'reviewerName', 'isFrequentReviewer', 'reviewText',\n",
    "       'audienceScore', 'rating', 'runtimeMinutes', 'genre', 'boxOffice',\n",
    "       'originalLanguage', 'director']\"\"\"\n",
    "\n",
    "# all_dict = {'cat': [\"isFrequentReviewer\", \"rating\", \"originalLanguage\"],\n",
    "#              'num': [\"audienceScore\", \"runtimeMinutes\", \"boxOffice\"],\n",
    "#              'txt': ['reviewText', 'reviewerName', 'movieid', 'genre', 'director']}\n",
    "# all_dict"
   ]
  },
  {
   "cell_type": "code",
   "execution_count": 225,
   "id": "aa827c85",
   "metadata": {
    "execution": {
     "iopub.execute_input": "2023-08-12T17:40:08.035161Z",
     "iopub.status.busy": "2023-08-12T17:40:08.034780Z",
     "iopub.status.idle": "2023-08-12T17:40:08.038489Z",
     "shell.execute_reply": "2023-08-12T17:40:08.037844Z"
    },
    "papermill": {
     "duration": 0.071051,
     "end_time": "2023-08-12T17:40:08.040063",
     "exception": false,
     "start_time": "2023-08-12T17:40:07.969012",
     "status": "completed"
    },
    "tags": []
   },
   "outputs": [],
   "source": [
    "# submit_v4(selected_features=all_dict)"
   ]
  },
  {
   "cell_type": "markdown",
   "id": "1d3c5514",
   "metadata": {
    "papermill": {
     "duration": 0.065888,
     "end_time": "2023-08-12T17:40:08.172291",
     "exception": false,
     "start_time": "2023-08-12T17:40:08.106403",
     "status": "completed"
    },
    "tags": []
   },
   "source": [
    "## Try GridSearchCV on everything  "
   ]
  },
  {
   "cell_type": "code",
   "execution_count": 226,
   "id": "4d21f6df",
   "metadata": {
    "execution": {
     "iopub.execute_input": "2023-08-12T17:40:08.311082Z",
     "iopub.status.busy": "2023-08-12T17:40:08.310752Z",
     "iopub.status.idle": "2023-08-12T17:40:08.315007Z",
     "shell.execute_reply": "2023-08-12T17:40:08.314233Z"
    },
    "papermill": {
     "duration": 0.073141,
     "end_time": "2023-08-12T17:40:08.316496",
     "exception": false,
     "start_time": "2023-08-12T17:40:08.243355",
     "status": "completed"
    },
    "tags": []
   },
   "outputs": [],
   "source": [
    "# param_grid = {\n",
    "#     \"model__C\": [0.5, 2, 5, 15]\n",
    "# }\n",
    "\n",
    "# param_grid = {\n",
    "#     'model__C' : [1, 5],\n",
    "#     'model__solver': ['lbfgs', 'liblinear', 'newton-cg', 'newton-cholesky', 'sag', 'saga']\n",
    "# }\n",
    "\n",
    "# param_grid = {\n",
    "#     'model__C' : [1, 5],\n",
    "#     'model__solver': ['lbfgs', 'liblinear', 'sag', 'saga']\n",
    "# }\n",
    "\n",
    "# param_grid = {\n",
    "#     'model__C' : [1, 5, 10, 15],\n",
    "#     'model__solver': ['lbfgs', 'liblinear', 'saga', 'newton-cg']\n",
    "# }\n",
    "\n",
    "# param_grid = {\n",
    "#     'model__C' : [1, 5, 10, 20],\n",
    "#     'model__solver': ['lbfgs', 'liblinear', 'saga']\n",
    "# }\n",
    "\n",
    "# param_grid"
   ]
  },
  {
   "cell_type": "code",
   "execution_count": 227,
   "id": "1c08466d",
   "metadata": {
    "execution": {
     "iopub.execute_input": "2023-08-12T17:40:08.448945Z",
     "iopub.status.busy": "2023-08-12T17:40:08.448580Z",
     "iopub.status.idle": "2023-08-12T17:40:08.453475Z",
     "shell.execute_reply": "2023-08-12T17:40:08.452329Z"
    },
    "papermill": {
     "duration": 0.074498,
     "end_time": "2023-08-12T17:40:08.455562",
     "exception": false,
     "start_time": "2023-08-12T17:40:08.381064",
     "status": "completed"
    },
    "tags": []
   },
   "outputs": [],
   "source": [
    "# submit_v4(selected_features={'txt': [\"genre\"]}, param_grid=param_grid)"
   ]
  },
  {
   "cell_type": "code",
   "execution_count": 228,
   "id": "a8410b47",
   "metadata": {
    "execution": {
     "iopub.execute_input": "2023-08-12T17:40:08.588621Z",
     "iopub.status.busy": "2023-08-12T17:40:08.588307Z",
     "iopub.status.idle": "2023-08-12T17:40:08.594246Z",
     "shell.execute_reply": "2023-08-12T17:40:08.593253Z"
    },
    "papermill": {
     "duration": 0.073334,
     "end_time": "2023-08-12T17:40:08.595840",
     "exception": false,
     "start_time": "2023-08-12T17:40:08.522506",
     "status": "completed"
    },
    "tags": []
   },
   "outputs": [
    {
     "data": {
      "text/plain": [
       "\"Used 'groupby' function instead on 'drop_duplicates' on movies.csv file. \\nIt reduced the number of missing values significantly! \\nThen used LogisticRegression() with GridSearchCV on submit_v4 function with \\nparam_grid={'model__C': [1, 5, 10], 'model__solver': ['lbfgs', 'liblinear', 'saga']}. \\nThe best f1_micro score in GridSearchCV was 0.8399771362056203 which is highest among \\nall the versions so far. Best C was 5 and best solver was 'saga'.\\nScore obtained was 0.84385 which is lower than 0.84441.\""
      ]
     },
     "execution_count": 228,
     "metadata": {},
     "output_type": "execute_result"
    }
   ],
   "source": [
    "# submit_v4(selected_features=all_dict, param_grid=param_grid)\n",
    "\n",
    "# Best C was 5\n",
    "# Best solver was liblinear\n",
    "\n",
    "\"\"\"Used 'groupby' function instead on 'drop_duplicates' on movies.csv file. \n",
    "It reduced the number of missing values significantly! \n",
    "Then used LogisticRegression() with GridSearchCV on submit_v4 function with \n",
    "param_grid={'model__C': [1, 5, 10], 'model__solver': ['lbfgs', 'liblinear', 'saga']}. \n",
    "The best f1_micro score in GridSearchCV was 0.8399771362056203 which is highest among \n",
    "all the versions so far. Best C was 5 and best solver was 'saga'.\n",
    "Score obtained was 0.84385 which is lower than 0.84441.\"\"\""
   ]
  },
  {
   "cell_type": "code",
   "execution_count": 229,
   "id": "870116ae",
   "metadata": {
    "execution": {
     "iopub.execute_input": "2023-08-12T17:40:08.728732Z",
     "iopub.status.busy": "2023-08-12T17:40:08.728437Z",
     "iopub.status.idle": "2023-08-12T17:40:08.732918Z",
     "shell.execute_reply": "2023-08-12T17:40:08.731848Z"
    },
    "papermill": {
     "duration": 0.07381,
     "end_time": "2023-08-12T17:40:08.735425",
     "exception": false,
     "start_time": "2023-08-12T17:40:08.661615",
     "status": "completed"
    },
    "tags": []
   },
   "outputs": [],
   "source": [
    "# Best 5 parameters\n",
    "\n",
    "# best5_dict = {'num': [\"audienceScore\"],\n",
    "#              'txt': ['reviewText', 'reviewerName','movieid', 'director']}\n",
    "\n",
    "# best5_dict"
   ]
  },
  {
   "cell_type": "code",
   "execution_count": 230,
   "id": "6ef60374",
   "metadata": {
    "execution": {
     "iopub.execute_input": "2023-08-12T17:40:08.870561Z",
     "iopub.status.busy": "2023-08-12T17:40:08.870209Z",
     "iopub.status.idle": "2023-08-12T17:40:08.876428Z",
     "shell.execute_reply": "2023-08-12T17:40:08.875202Z"
    },
    "papermill": {
     "duration": 0.075859,
     "end_time": "2023-08-12T17:40:08.878363",
     "exception": false,
     "start_time": "2023-08-12T17:40:08.802504",
     "status": "completed"
    },
    "tags": []
   },
   "outputs": [
    {
     "data": {
      "text/plain": [
       "\"(Update): Used both CountVectorizer and TfidfVectorizer on a massive GridSearchCV \\nwhich took 22527.2s  (6.25 hrs) to run! Gave a score of 0.8439093822800923 locally and did not overfit!\\nBest params: {'model__C': 1, 'model__solver': 'liblinear'}.\\nHighest public score yet: 0.84591 (Rank up from 9 to 5!)\""
      ]
     },
     "execution_count": 230,
     "metadata": {},
     "output_type": "execute_result"
    }
   ],
   "source": [
    "# Submit best 5 features\n",
    "\n",
    "\"\"\"(Update): Used both CountVectorizer and TfidfVectorizer on a massive GridSearchCV \n",
    "which took 22527.2s  (6.25 hrs) to run! Gave a score of 0.8439093822800923 locally and did not overfit!\n",
    "Best params: {'model__C': 1, 'model__solver': 'liblinear'}.\n",
    "Highest public score yet: 0.84591 (Rank up from 9 to 5!)\"\"\"\n",
    "\n",
    "# param_grid = {\n",
    "#     'model__C' : [5, 10, 15],\n",
    "#     'model__solver': ['lbfgs', 'liblinear', 'saga']\n",
    "# }\n",
    "\n",
    "\n",
    "# Try new param_grid with fit_intercept and dual in logreg\n",
    "\n",
    "# param_grid = {\n",
    "#     'model__C' : [1],\n",
    "#     'model__solver': ['liblinear'],\n",
    "#     \"model__fit_intercept\" : [True, False],\n",
    "#     \"model__dual\" : [True, False] \n",
    "# }\n",
    "\n",
    "\n",
    "# Local testing  \n",
    "# submit_v4(selected_features={'num': ['audienceScore']},\n",
    "#          add_countvec=True)\n",
    "\n",
    "# submit_v4(selected_features={'num': ['audienceScore']},\n",
    "#          add_countvec=True, \n",
    "#           param_grid=param_grid)\n",
    "\n",
    "\n",
    "# Main submission\n",
    "\n",
    "# submit_v4(selected_features=best5_dict,\n",
    "#          add_countvec=True)\n",
    "\n",
    "\n",
    "# submit_v4(selected_features=best5_dict,\n",
    "#           add_countvec=True,\n",
    "#           param_grid=param_grid)"
   ]
  },
  {
   "cell_type": "code",
   "execution_count": 231,
   "id": "4ed762c5",
   "metadata": {
    "execution": {
     "iopub.execute_input": "2023-08-12T17:40:09.011545Z",
     "iopub.status.busy": "2023-08-12T17:40:09.011178Z",
     "iopub.status.idle": "2023-08-12T17:40:09.016726Z",
     "shell.execute_reply": "2023-08-12T17:40:09.015660Z"
    },
    "papermill": {
     "duration": 0.074924,
     "end_time": "2023-08-12T17:40:09.018565",
     "exception": false,
     "start_time": "2023-08-12T17:40:08.943641",
     "status": "completed"
    },
    "tags": []
   },
   "outputs": [],
   "source": [
    "## ALL DICT cv=10\n",
    "\n",
    "# all_dict = {'cat': [\"isFrequentReviewer\", \"rating\", \"originalLanguage\"],\n",
    "#              'num': [\"audienceScore\", \"runtimeMinutes\", \"boxOffice\"],\n",
    "#              'txt': ['reviewText', 'reviewerName', 'movieid', 'genre', 'director']}\n",
    "# print(all_dict)\n",
    "\n",
    "# param_grid = {\n",
    "#     'model__C' : [2, 5, 10],\n",
    "#     'model__solver': ['lbfgs', 'liblinear', 'saga']\n",
    "# }\n",
    "# print(param_grid)\n",
    "\n",
    "# param_grid = {\n",
    "#     'model__C' : [1, 5, 10],\n",
    "#     'model__solver': ['liblinear'],\n",
    "#     \"model__fit_intercept\" : [True, False],\n",
    "#     \"model__dual\" : [True, False] \n",
    "# }\n",
    "\n",
    "\n",
    "# Main submission\n",
    "\n",
    "# submit_v4(selected_model=LogisticRegression(C=5, solver='liblinear', max_iter=10000),\n",
    "#           selected_features=all_dict,\n",
    "#           param_grid=param_grid)\n",
    "\n",
    "# submit_v4(selected_features=all_dict,\n",
    "#           add_countvec=True,\n",
    "#           param_grid=param_grid)"
   ]
  },
  {
   "cell_type": "code",
   "execution_count": 232,
   "id": "1c92bb63",
   "metadata": {
    "execution": {
     "iopub.execute_input": "2023-08-12T17:40:09.154504Z",
     "iopub.status.busy": "2023-08-12T17:40:09.152989Z",
     "iopub.status.idle": "2023-08-12T17:40:09.158886Z",
     "shell.execute_reply": "2023-08-12T17:40:09.157474Z"
    },
    "papermill": {
     "duration": 0.076663,
     "end_time": "2023-08-12T17:40:09.161430",
     "exception": false,
     "start_time": "2023-08-12T17:40:09.084767",
     "status": "completed"
    },
    "tags": []
   },
   "outputs": [],
   "source": [
    "# Best 6 parameters\n",
    "\n",
    "# best6_dict = {'cat': [\"isFrequentReviewer\"],\n",
    "#              'num': [\"audienceScore\"],\n",
    "#              'txt': ['reviewText', 'reviewerName', 'genre', 'director']}\n",
    "\n",
    "# best6_dict = {'num': [\"audienceScore\"],\n",
    "#              'txt': ['reviewText', 'reviewerName', 'genre','movieid', 'director']}\n",
    "\n",
    "# best6_dict"
   ]
  },
  {
   "cell_type": "code",
   "execution_count": 233,
   "id": "aed9b43a",
   "metadata": {
    "execution": {
     "iopub.execute_input": "2023-08-12T17:40:09.294840Z",
     "iopub.status.busy": "2023-08-12T17:40:09.294532Z",
     "iopub.status.idle": "2023-08-12T17:40:09.298970Z",
     "shell.execute_reply": "2023-08-12T17:40:09.297809Z"
    },
    "papermill": {
     "duration": 0.072235,
     "end_time": "2023-08-12T17:40:09.300887",
     "exception": false,
     "start_time": "2023-08-12T17:40:09.228652",
     "status": "completed"
    },
    "tags": []
   },
   "outputs": [],
   "source": [
    "# Submit best 6 features (version 2)\n",
    "\n",
    "# submit_v4(selected_features=best6_dict,\n",
    "#           param_grid=param_grid)"
   ]
  },
  {
   "cell_type": "code",
   "execution_count": 234,
   "id": "0ddeaed1",
   "metadata": {
    "execution": {
     "iopub.execute_input": "2023-08-12T17:40:09.435750Z",
     "iopub.status.busy": "2023-08-12T17:40:09.435439Z",
     "iopub.status.idle": "2023-08-12T17:40:09.439711Z",
     "shell.execute_reply": "2023-08-12T17:40:09.438666Z"
    },
    "papermill": {
     "duration": 0.073203,
     "end_time": "2023-08-12T17:40:09.441416",
     "exception": false,
     "start_time": "2023-08-12T17:40:09.368213",
     "status": "completed"
    },
    "tags": []
   },
   "outputs": [],
   "source": [
    "# Best 7 parameters\n",
    "\n",
    "# best7_dict = {'cat': [\"isFrequentReviewer\"],\n",
    "#              'num': [\"audienceScore\"],\n",
    "#              'txt': ['reviewText', 'reviewerName', 'movieid', 'genre', 'director']}\n",
    "# best7_dict"
   ]
  },
  {
   "cell_type": "code",
   "execution_count": 235,
   "id": "98e2dbfb",
   "metadata": {
    "execution": {
     "iopub.execute_input": "2023-08-12T17:40:09.575220Z",
     "iopub.status.busy": "2023-08-12T17:40:09.574891Z",
     "iopub.status.idle": "2023-08-12T17:40:09.579266Z",
     "shell.execute_reply": "2023-08-12T17:40:09.578173Z"
    },
    "papermill": {
     "duration": 0.071521,
     "end_time": "2023-08-12T17:40:09.581008",
     "exception": false,
     "start_time": "2023-08-12T17:40:09.509487",
     "status": "completed"
    },
    "tags": []
   },
   "outputs": [],
   "source": [
    "# Submit best 7 features\n",
    "\n",
    "# submit_v4(selected_features=best7_dict,\n",
    "#           param_grid=param_grid)"
   ]
  },
  {
   "cell_type": "code",
   "execution_count": 236,
   "id": "391ea907",
   "metadata": {
    "execution": {
     "iopub.execute_input": "2023-08-12T17:40:09.714483Z",
     "iopub.status.busy": "2023-08-12T17:40:09.714182Z",
     "iopub.status.idle": "2023-08-12T17:40:09.718967Z",
     "shell.execute_reply": "2023-08-12T17:40:09.717810Z"
    },
    "papermill": {
     "duration": 0.073857,
     "end_time": "2023-08-12T17:40:09.720817",
     "exception": false,
     "start_time": "2023-08-12T17:40:09.646960",
     "status": "completed"
    },
    "tags": []
   },
   "outputs": [],
   "source": [
    "# submit_v4(selected_features=best6_dict, param_grid=param_grid)"
   ]
  },
  {
   "cell_type": "markdown",
   "id": "91e98b76",
   "metadata": {
    "papermill": {
     "duration": 0.12926,
     "end_time": "2023-08-12T17:40:09.927350",
     "exception": false,
     "start_time": "2023-08-12T17:40:09.798090",
     "status": "completed"
    },
    "tags": []
   },
   "source": [
    "## Try a new feature dict  \n",
    "\n"
   ]
  },
  {
   "cell_type": "code",
   "execution_count": 237,
   "id": "76f83854",
   "metadata": {
    "execution": {
     "iopub.execute_input": "2023-08-12T17:40:10.059451Z",
     "iopub.status.busy": "2023-08-12T17:40:10.059088Z",
     "iopub.status.idle": "2023-08-12T17:40:10.063760Z",
     "shell.execute_reply": "2023-08-12T17:40:10.062419Z"
    },
    "papermill": {
     "duration": 0.074124,
     "end_time": "2023-08-12T17:40:10.066161",
     "exception": false,
     "start_time": "2023-08-12T17:40:09.992037",
     "status": "completed"
    },
    "tags": []
   },
   "outputs": [],
   "source": [
    "# all_dict_new = {'cat': [\"isFrequentReviewer\", \"rating\", \"originalLanguage\"],\n",
    "#              'num': [\"audienceScore\", \"runtimeMinutes\", \"boxOffice\"],\n",
    "#              'txt': ['reviewText', \"reviewerName\", 'movieid', 'genre', 'director']}\n",
    "# all_dict_new"
   ]
  },
  {
   "cell_type": "code",
   "execution_count": 238,
   "id": "74afc9e7",
   "metadata": {
    "execution": {
     "iopub.execute_input": "2023-08-12T17:40:10.201478Z",
     "iopub.status.busy": "2023-08-12T17:40:10.201087Z",
     "iopub.status.idle": "2023-08-12T17:40:10.205367Z",
     "shell.execute_reply": "2023-08-12T17:40:10.204233Z"
    },
    "papermill": {
     "duration": 0.075122,
     "end_time": "2023-08-12T17:40:10.207465",
     "exception": false,
     "start_time": "2023-08-12T17:40:10.132343",
     "status": "completed"
    },
    "tags": []
   },
   "outputs": [],
   "source": [
    "# submit_v4(selected_features={'txt': ['genre']}, param_grid=param_grid)"
   ]
  },
  {
   "cell_type": "code",
   "execution_count": 239,
   "id": "738d6ffd",
   "metadata": {
    "execution": {
     "iopub.execute_input": "2023-08-12T17:40:10.342046Z",
     "iopub.status.busy": "2023-08-12T17:40:10.341429Z",
     "iopub.status.idle": "2023-08-12T17:40:10.344841Z",
     "shell.execute_reply": "2023-08-12T17:40:10.344258Z"
    },
    "papermill": {
     "duration": 0.07142,
     "end_time": "2023-08-12T17:40:10.346307",
     "exception": false,
     "start_time": "2023-08-12T17:40:10.274887",
     "status": "completed"
    },
    "tags": []
   },
   "outputs": [],
   "source": [
    "# submit_v4(selected_features=all_dict_new, param_grid=param_grid)"
   ]
  },
  {
   "cell_type": "code",
   "execution_count": 240,
   "id": "e7c9a690",
   "metadata": {
    "execution": {
     "iopub.execute_input": "2023-08-12T17:40:10.481348Z",
     "iopub.status.busy": "2023-08-12T17:40:10.480716Z",
     "iopub.status.idle": "2023-08-12T17:40:10.484971Z",
     "shell.execute_reply": "2023-08-12T17:40:10.484242Z"
    },
    "papermill": {
     "duration": 0.075227,
     "end_time": "2023-08-12T17:40:10.487285",
     "exception": false,
     "start_time": "2023-08-12T17:40:10.412058",
     "status": "completed"
    },
    "tags": []
   },
   "outputs": [],
   "source": [
    "# Try non-text based columns\n",
    "# num_cat_dict = {'cat': ['isFrequentReviewer', 'rating', 'originalLanguage'],\n",
    "#  'num': ['audienceScore', 'runtimeMinutes', 'boxOffice']}\n",
    "# num_cat_dict"
   ]
  },
  {
   "cell_type": "code",
   "execution_count": 241,
   "id": "53ea1b3e",
   "metadata": {
    "execution": {
     "iopub.execute_input": "2023-08-12T17:40:10.624087Z",
     "iopub.status.busy": "2023-08-12T17:40:10.623713Z",
     "iopub.status.idle": "2023-08-12T17:40:10.627793Z",
     "shell.execute_reply": "2023-08-12T17:40:10.626850Z"
    },
    "papermill": {
     "duration": 0.073287,
     "end_time": "2023-08-12T17:40:10.629809",
     "exception": false,
     "start_time": "2023-08-12T17:40:10.556522",
     "status": "completed"
    },
    "tags": []
   },
   "outputs": [],
   "source": [
    "# Use num_cat_dict features\n",
    "# (Update): Gets a local score of 0.7027181356991726. Not great.\n",
    "# submit_v4(selected_model=LogisticRegression(max_iter=100000), selected_features=num_cat_dict, param_grid=param_grid)"
   ]
  },
  {
   "cell_type": "code",
   "execution_count": 242,
   "id": "c86830fb",
   "metadata": {
    "execution": {
     "iopub.execute_input": "2023-08-12T17:40:10.764261Z",
     "iopub.status.busy": "2023-08-12T17:40:10.763290Z",
     "iopub.status.idle": "2023-08-12T17:40:10.767599Z",
     "shell.execute_reply": "2023-08-12T17:40:10.766604Z"
    },
    "papermill": {
     "duration": 0.074797,
     "end_time": "2023-08-12T17:40:10.769764",
     "exception": false,
     "start_time": "2023-08-12T17:40:10.694967",
     "status": "completed"
    },
    "tags": []
   },
   "outputs": [],
   "source": [
    "# Try data other than reviewText\n",
    "\n",
    "# mov_dict = {'cat': ['rating', 'originalLanguage'],\n",
    "#  'num': ['audienceScore', 'runtimeMinutes', 'boxOffice'],\n",
    "#  'txt': ['movieid', 'genre', 'director']}\n",
    "# mov_dict"
   ]
  },
  {
   "cell_type": "code",
   "execution_count": 243,
   "id": "daeaac4c",
   "metadata": {
    "execution": {
     "iopub.execute_input": "2023-08-12T17:40:10.903908Z",
     "iopub.status.busy": "2023-08-12T17:40:10.903605Z",
     "iopub.status.idle": "2023-08-12T17:40:10.908151Z",
     "shell.execute_reply": "2023-08-12T17:40:10.906745Z"
    },
    "papermill": {
     "duration": 0.073652,
     "end_time": "2023-08-12T17:40:10.910798",
     "exception": false,
     "start_time": "2023-08-12T17:40:10.837146",
     "status": "completed"
    },
    "tags": []
   },
   "outputs": [],
   "source": [
    "# Use mov_dict features\n",
    "# (Update): Gets a local score of 0.7475454316469369, which is not bad at all.\n",
    "# submit_v4(selected_model=LogisticRegression(max_iter=100000), selected_features=mov_dict, param_grid=param_grid)"
   ]
  },
  {
   "cell_type": "markdown",
   "id": "afa6c28f",
   "metadata": {
    "papermill": {
     "duration": 0.065687,
     "end_time": "2023-08-12T17:40:11.043434",
     "exception": false,
     "start_time": "2023-08-12T17:40:10.977747",
     "status": "completed"
    },
    "tags": []
   },
   "source": [
    "# Try a new column 'reviewYN'  \n",
    "\n"
   ]
  },
  {
   "cell_type": "code",
   "execution_count": 244,
   "id": "fc85d30c",
   "metadata": {
    "execution": {
     "iopub.execute_input": "2023-08-12T17:40:11.178496Z",
     "iopub.status.busy": "2023-08-12T17:40:11.178098Z",
     "iopub.status.idle": "2023-08-12T17:40:11.182735Z",
     "shell.execute_reply": "2023-08-12T17:40:11.181796Z"
    },
    "papermill": {
     "duration": 0.07453,
     "end_time": "2023-08-12T17:40:11.184885",
     "exception": false,
     "start_time": "2023-08-12T17:40:11.110355",
     "status": "completed"
    },
    "tags": []
   },
   "outputs": [],
   "source": [
    "# all_dict_3 = {'cat': [\"isFrequentReviewer\", \"rating\", \"originalLanguage\", \"reviewYN\"],\n",
    "#              'num': [\"audienceScore\", \"runtimeMinutes\", \"boxOffice\"],\n",
    "#              'txt': ['reviewText', \"reviewerName\", 'movieid', 'genre', 'director']}\n",
    "# all_dict_3"
   ]
  },
  {
   "cell_type": "code",
   "execution_count": 245,
   "id": "7eabcdf3",
   "metadata": {
    "execution": {
     "iopub.execute_input": "2023-08-12T17:40:11.318555Z",
     "iopub.status.busy": "2023-08-12T17:40:11.318233Z",
     "iopub.status.idle": "2023-08-12T17:40:11.322252Z",
     "shell.execute_reply": "2023-08-12T17:40:11.321402Z"
    },
    "papermill": {
     "duration": 0.073443,
     "end_time": "2023-08-12T17:40:11.324919",
     "exception": false,
     "start_time": "2023-08-12T17:40:11.251476",
     "status": "completed"
    },
    "tags": []
   },
   "outputs": [],
   "source": [
    "# submit_v4(selected_model=LogisticRegression(max_iter=100000),\n",
    "#          selected_features=all_dict_3, \n",
    "#           param_grid=param_grid)"
   ]
  },
  {
   "cell_type": "markdown",
   "id": "7343db93",
   "metadata": {
    "papermill": {
     "duration": 0.066565,
     "end_time": "2023-08-12T17:40:11.458282",
     "exception": false,
     "start_time": "2023-08-12T17:40:11.391717",
     "status": "completed"
    },
    "tags": []
   },
   "source": [
    "### More GridSearchCV using LinearSVC  "
   ]
  },
  {
   "cell_type": "code",
   "execution_count": 246,
   "id": "73689841",
   "metadata": {
    "execution": {
     "iopub.execute_input": "2023-08-12T17:40:11.592322Z",
     "iopub.status.busy": "2023-08-12T17:40:11.591985Z",
     "iopub.status.idle": "2023-08-12T17:40:11.595155Z",
     "shell.execute_reply": "2023-08-12T17:40:11.594542Z"
    },
    "papermill": {
     "duration": 0.071402,
     "end_time": "2023-08-12T17:40:11.596674",
     "exception": false,
     "start_time": "2023-08-12T17:40:11.525272",
     "status": "completed"
    },
    "tags": []
   },
   "outputs": [],
   "source": [
    "# param_grid_svc_2 = {\n",
    "#     'model__C': [1.0],\n",
    "#     'model__loss': ['hinge', 'squared_hinge'],\n",
    "#     'model__class_weight': ['balanced', None]\n",
    "# }\n",
    "# param_grid_svc_2"
   ]
  },
  {
   "cell_type": "code",
   "execution_count": 247,
   "id": "bd0c5c95",
   "metadata": {
    "execution": {
     "iopub.execute_input": "2023-08-12T17:40:11.727986Z",
     "iopub.status.busy": "2023-08-12T17:40:11.727506Z",
     "iopub.status.idle": "2023-08-12T17:40:11.731678Z",
     "shell.execute_reply": "2023-08-12T17:40:11.730719Z"
    },
    "papermill": {
     "duration": 0.071802,
     "end_time": "2023-08-12T17:40:11.733392",
     "exception": false,
     "start_time": "2023-08-12T17:40:11.661590",
     "status": "completed"
    },
    "tags": []
   },
   "outputs": [],
   "source": [
    "# submit_v4(selected_model=LinearSVC(max_iter=100000, random_state=42), selected_features={'num': [\"audienceScore\"]}, param_grid=param_grid_svc_2)"
   ]
  },
  {
   "cell_type": "code",
   "execution_count": 248,
   "id": "94dd4a54",
   "metadata": {
    "execution": {
     "iopub.execute_input": "2023-08-12T17:40:11.864605Z",
     "iopub.status.busy": "2023-08-12T17:40:11.864289Z",
     "iopub.status.idle": "2023-08-12T17:40:11.868833Z",
     "shell.execute_reply": "2023-08-12T17:40:11.867457Z"
    },
    "papermill": {
     "duration": 0.072874,
     "end_time": "2023-08-12T17:40:11.871062",
     "exception": false,
     "start_time": "2023-08-12T17:40:11.798188",
     "status": "completed"
    },
    "tags": []
   },
   "outputs": [],
   "source": [
    "# submit_v4(selected_model=LinearSVC(max_iter=100000, random_state=42), selected_features=all_dict, param_grid=param_grid_svc_2)"
   ]
  },
  {
   "cell_type": "markdown",
   "id": "e615b334",
   "metadata": {
    "papermill": {
     "duration": 0.065977,
     "end_time": "2023-08-12T17:40:12.002505",
     "exception": false,
     "start_time": "2023-08-12T17:40:11.936528",
     "status": "completed"
    },
    "tags": []
   },
   "source": [
    "### Boosting techniques  "
   ]
  },
  {
   "cell_type": "code",
   "execution_count": 249,
   "id": "caa33d32",
   "metadata": {
    "execution": {
     "iopub.execute_input": "2023-08-12T17:40:12.137289Z",
     "iopub.status.busy": "2023-08-12T17:40:12.136963Z",
     "iopub.status.idle": "2023-08-12T17:40:12.140546Z",
     "shell.execute_reply": "2023-08-12T17:40:12.139691Z"
    },
    "papermill": {
     "duration": 0.072738,
     "end_time": "2023-08-12T17:40:12.142073",
     "exception": false,
     "start_time": "2023-08-12T17:40:12.069335",
     "status": "completed"
    },
    "tags": []
   },
   "outputs": [],
   "source": [
    "# adc = AdaBoostClassifier(estimator=LogisticRegression(C=5, solver=\"saga\", max_iter=100000), n_estimators=50)\n",
    "# adc"
   ]
  },
  {
   "cell_type": "code",
   "execution_count": 250,
   "id": "3e49d8f1",
   "metadata": {
    "execution": {
     "iopub.execute_input": "2023-08-12T17:40:12.276392Z",
     "iopub.status.busy": "2023-08-12T17:40:12.275319Z",
     "iopub.status.idle": "2023-08-12T17:40:12.279712Z",
     "shell.execute_reply": "2023-08-12T17:40:12.278904Z"
    },
    "papermill": {
     "duration": 0.072895,
     "end_time": "2023-08-12T17:40:12.281559",
     "exception": false,
     "start_time": "2023-08-12T17:40:12.208664",
     "status": "completed"
    },
    "tags": []
   },
   "outputs": [],
   "source": [
    "# submit_v4(selected_model=adc, selected_features={'num': [\"audienceScore\"]}, param_grid=None)"
   ]
  },
  {
   "cell_type": "code",
   "execution_count": 251,
   "id": "12dcb975",
   "metadata": {
    "execution": {
     "iopub.execute_input": "2023-08-12T17:40:12.416624Z",
     "iopub.status.busy": "2023-08-12T17:40:12.416327Z",
     "iopub.status.idle": "2023-08-12T17:40:12.420279Z",
     "shell.execute_reply": "2023-08-12T17:40:12.419303Z"
    },
    "papermill": {
     "duration": 0.073857,
     "end_time": "2023-08-12T17:40:12.422315",
     "exception": false,
     "start_time": "2023-08-12T17:40:12.348458",
     "status": "completed"
    },
    "tags": []
   },
   "outputs": [],
   "source": [
    "# submit_v4(selected_model=adc, selected_features=all_dict, param_grid=None)\n",
    "\n",
    "# Took 1 hour 15 mins to run and gave a public score of only 0.71089. Discarded."
   ]
  },
  {
   "cell_type": "markdown",
   "id": "31b764a4",
   "metadata": {
    "papermill": {
     "duration": 0.066895,
     "end_time": "2023-08-12T17:40:12.556782",
     "exception": false,
     "start_time": "2023-08-12T17:40:12.489887",
     "status": "completed"
    },
    "tags": []
   },
   "source": [
    "### LightGBM  "
   ]
  },
  {
   "cell_type": "code",
   "execution_count": 252,
   "id": "ffbf7231",
   "metadata": {
    "execution": {
     "iopub.execute_input": "2023-08-12T17:40:12.693552Z",
     "iopub.status.busy": "2023-08-12T17:40:12.692527Z",
     "iopub.status.idle": "2023-08-12T17:40:12.698084Z",
     "shell.execute_reply": "2023-08-12T17:40:12.697436Z"
    },
    "papermill": {
     "duration": 0.07602,
     "end_time": "2023-08-12T17:40:12.700031",
     "exception": false,
     "start_time": "2023-08-12T17:40:12.624011",
     "status": "completed"
    },
    "tags": []
   },
   "outputs": [],
   "source": [
    "# lgb = ltb.LGBMClassifier()\n",
    "# lgb"
   ]
  },
  {
   "cell_type": "code",
   "execution_count": 253,
   "id": "31ec446f",
   "metadata": {
    "execution": {
     "iopub.execute_input": "2023-08-12T17:40:12.834207Z",
     "iopub.status.busy": "2023-08-12T17:40:12.833602Z",
     "iopub.status.idle": "2023-08-12T17:40:12.837728Z",
     "shell.execute_reply": "2023-08-12T17:40:12.836700Z"
    },
    "papermill": {
     "duration": 0.07376,
     "end_time": "2023-08-12T17:40:12.839939",
     "exception": false,
     "start_time": "2023-08-12T17:40:12.766179",
     "status": "completed"
    },
    "tags": []
   },
   "outputs": [],
   "source": [
    "# Try LightGBM with default settings\n",
    "# (Update): Public score only 0.77713. It was fast, took less than 5 mins (without GridSearchCV)\n",
    "\n",
    "# submit_v4(selected_model=ltb.LGBMClassifier(), selected_features=all_dict, param_grid=None)"
   ]
  },
  {
   "cell_type": "markdown",
   "id": "a74ce368",
   "metadata": {
    "papermill": {
     "duration": 0.065067,
     "end_time": "2023-08-12T17:40:12.972304",
     "exception": false,
     "start_time": "2023-08-12T17:40:12.907237",
     "status": "completed"
    },
    "tags": []
   },
   "source": [
    "# Try feature selection and vocab fine tuning of reviewText column"
   ]
  },
  {
   "cell_type": "markdown",
   "id": "724007b7",
   "metadata": {
    "papermill": {
     "duration": 0.067452,
     "end_time": "2023-08-12T17:40:13.105217",
     "exception": false,
     "start_time": "2023-08-12T17:40:13.037765",
     "status": "completed"
    },
    "tags": []
   },
   "source": [
    "## Plan  \n",
    "* Add a new column 'reviewWC' which has word count of 'reviewText'  \n",
    "    * Check if there is any relationship between 'reviewWC' and 'sentiment'\n",
    "* Work on vocabulary\n",
    "     * Use TfidfVectorizer and find out the vocabulary of 'reviewText' column for various ngrams\n",
    "     * Use RecursiveFeatureElimination (RFE) or RFECV to select 1000 top words/vocab for each ngram\n",
    "     * Use the final vocab (1000-3000 words) in the model and see how it performs compared to whole vocab\n"
   ]
  },
  {
   "cell_type": "code",
   "execution_count": 254,
   "id": "0a0ef16e",
   "metadata": {
    "execution": {
     "iopub.execute_input": "2023-08-12T17:40:13.244354Z",
     "iopub.status.busy": "2023-08-12T17:40:13.243990Z",
     "iopub.status.idle": "2023-08-12T17:40:13.247604Z",
     "shell.execute_reply": "2023-08-12T17:40:13.246929Z"
    },
    "papermill": {
     "duration": 0.078565,
     "end_time": "2023-08-12T17:40:13.249732",
     "exception": false,
     "start_time": "2023-08-12T17:40:13.171167",
     "status": "completed"
    },
    "tags": []
   },
   "outputs": [],
   "source": [
    "# 'reviewWC' and 'sentiment'\n",
    "# (Conclusion): 'reviewWC' is practically same as DummyClassifier (accuracy of 0.6682375059904889 on train data). It just predicts 'positive' for all columns\n",
    "\n",
    "# reviewWC_dict = {\"num\": [\"reviewWC\"]}\n",
    "# submit_v4(selected_model=LogisticRegression(),\n",
    "#          selected_features=reviewWC_dict,\n",
    "#          param_grid=None)"
   ]
  },
  {
   "cell_type": "code",
   "execution_count": 255,
   "id": "859e41c7",
   "metadata": {
    "execution": {
     "iopub.execute_input": "2023-08-12T17:40:13.385088Z",
     "iopub.status.busy": "2023-08-12T17:40:13.384481Z",
     "iopub.status.idle": "2023-08-12T17:40:13.387919Z",
     "shell.execute_reply": "2023-08-12T17:40:13.387350Z"
    },
    "papermill": {
     "duration": 0.072641,
     "end_time": "2023-08-12T17:40:13.389560",
     "exception": false,
     "start_time": "2023-08-12T17:40:13.316919",
     "status": "completed"
    },
    "tags": []
   },
   "outputs": [],
   "source": [
    "# 'reviewYN' and 'sentiment'\n",
    "# (Conclusion): 'reviewYN' is practically same as DummyClassifier (accuracy of 0.6682375059904889 on train data). It just predicts 'positive' for all columns\n",
    "\n",
    "# reviewYN_dict = {\"cat\": [\"reviewYN\"]}\n",
    "# submit_v4(selected_model=LogisticRegression(),\n",
    "#          selected_features=reviewYN_dict,\n",
    "#          param_grid=None)"
   ]
  },
  {
   "cell_type": "markdown",
   "id": "04970308",
   "metadata": {
    "papermill": {
     "duration": 0.06685,
     "end_time": "2023-08-12T17:40:13.525599",
     "exception": false,
     "start_time": "2023-08-12T17:40:13.458749",
     "status": "completed"
    },
    "tags": []
   },
   "source": [
    "## Submissions using 'vocabulary' built from 'reviewText' data  "
   ]
  },
  {
   "cell_type": "markdown",
   "id": "586a664b",
   "metadata": {
    "papermill": {
     "duration": 0.06455,
     "end_time": "2023-08-12T17:40:13.657286",
     "exception": false,
     "start_time": "2023-08-12T17:40:13.592736",
     "status": "completed"
    },
    "tags": []
   },
   "source": [
    "### Submit best 6 features along with common vocab  "
   ]
  },
  {
   "cell_type": "code",
   "execution_count": 256,
   "id": "56b9f9f4",
   "metadata": {
    "execution": {
     "iopub.execute_input": "2023-08-12T17:40:13.788928Z",
     "iopub.status.busy": "2023-08-12T17:40:13.788636Z",
     "iopub.status.idle": "2023-08-12T17:40:13.792556Z",
     "shell.execute_reply": "2023-08-12T17:40:13.791564Z"
    },
    "papermill": {
     "duration": 0.072377,
     "end_time": "2023-08-12T17:40:13.794305",
     "exception": false,
     "start_time": "2023-08-12T17:40:13.721928",
     "status": "completed"
    },
    "tags": []
   },
   "outputs": [],
   "source": [
    "# Best 6 parameters (version 2)  \n",
    "\n",
    "# best6_dict = {'num': [\"audienceScore\"],\n",
    "#              'txt': ['reviewText', 'reviewerName', 'genre','movieid', 'director']}\n",
    "\n",
    "# best6_dict"
   ]
  },
  {
   "cell_type": "code",
   "execution_count": 257,
   "id": "496598cf",
   "metadata": {
    "execution": {
     "iopub.execute_input": "2023-08-12T17:40:13.926836Z",
     "iopub.status.busy": "2023-08-12T17:40:13.926539Z",
     "iopub.status.idle": "2023-08-12T17:40:13.931065Z",
     "shell.execute_reply": "2023-08-12T17:40:13.929726Z"
    },
    "papermill": {
     "duration": 0.073941,
     "end_time": "2023-08-12T17:40:13.933629",
     "exception": false,
     "start_time": "2023-08-12T17:40:13.859688",
     "status": "completed"
    },
    "tags": []
   },
   "outputs": [],
   "source": [
    "# Submit best 6 features (version 2) with common vocabulary (common_1_2_grams)\n",
    "# (Update): Score 0.82867\n",
    "\n",
    "# submit_v4(selected_features=best6_dict,\n",
    "#           param_grid=param_grid,\n",
    "#          vocab=common_1_2_grams)"
   ]
  },
  {
   "cell_type": "code",
   "execution_count": 258,
   "id": "7b7f99e2",
   "metadata": {
    "execution": {
     "iopub.execute_input": "2023-08-12T17:40:14.067736Z",
     "iopub.status.busy": "2023-08-12T17:40:14.067442Z",
     "iopub.status.idle": "2023-08-12T17:40:14.071821Z",
     "shell.execute_reply": "2023-08-12T17:40:14.070479Z"
    },
    "papermill": {
     "duration": 0.075066,
     "end_time": "2023-08-12T17:40:14.074240",
     "exception": false,
     "start_time": "2023-08-12T17:40:13.999174",
     "status": "completed"
    },
    "tags": []
   },
   "outputs": [],
   "source": [
    "# Submit best 6 features (version 2) with common vocabulary (common_1_2_3_grams)\n",
    "# Note: for this submission submit_v4 function has to be modified: reviewText TfidfVectorizer must have ngram_range(1,3).\n",
    "# (Update): Score in the range 0.825+\n",
    "\n",
    "# submit_v4(selected_features=best6_dict,\n",
    "#           param_grid=param_grid,\n",
    "#          vocab=common_1_2_3_grams)"
   ]
  }
 ],
 "metadata": {
  "kernelspec": {
   "display_name": "Python 3",
   "language": "python",
   "name": "python3"
  },
  "language_info": {
   "codemirror_mode": {
    "name": "ipython",
    "version": 3
   },
   "file_extension": ".py",
   "mimetype": "text/x-python",
   "name": "python",
   "nbconvert_exporter": "python",
   "pygments_lexer": "ipython3",
   "version": "3.10.10"
  },
  "papermill": {
   "default_parameters": {},
   "duration": 1433.630893,
   "end_time": "2023-08-12T17:40:17.065051",
   "environment_variables": {},
   "exception": null,
   "input_path": "__notebook__.ipynb",
   "output_path": "__notebook__.ipynb",
   "parameters": {},
   "start_time": "2023-08-12T17:16:23.434158",
   "version": "2.4.0"
  }
 },
 "nbformat": 4,
 "nbformat_minor": 5
}
