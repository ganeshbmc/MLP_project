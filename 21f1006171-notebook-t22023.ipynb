{
 "cells": [
  {
   "cell_type": "markdown",
   "id": "4f75c179",
   "metadata": {
    "papermill": {
     "duration": 0.098181,
     "end_time": "2023-08-10T18:52:15.456178",
     "exception": false,
     "start_time": "2023-08-10T18:52:15.357997",
     "status": "completed"
    },
    "tags": []
   },
   "source": [
    "# MLP Project (T2 2023) by Ganesh P  "
   ]
  },
  {
   "cell_type": "markdown",
   "id": "f8e6ef97",
   "metadata": {
    "papermill": {
     "duration": 0.095252,
     "end_time": "2023-08-10T18:52:15.644640",
     "exception": false,
     "start_time": "2023-08-10T18:52:15.549388",
     "status": "completed"
    },
    "tags": []
   },
   "source": [
    "`Disclaimer`   \n",
    "\n",
    "> This final notebook contains only the most relevant code to show the path/flow of my project work over few weeks. Rest of the code is in [my github repo](https://github.com/ganeshbmc/MLP_project) which is private at present (I will make it public after the project is over).  "
   ]
  },
  {
   "cell_type": "markdown",
   "id": "79f95a48",
   "metadata": {
    "papermill": {
     "duration": 0.092146,
     "end_time": "2023-08-10T18:52:15.830437",
     "exception": false,
     "start_time": "2023-08-10T18:52:15.738291",
     "status": "completed"
    },
    "tags": []
   },
   "source": [
    "`Strengths`  \n",
    "\n",
    "> * Modular code (DRY principle)  \n",
    "> * End to end pipeline in one function (with helper functions)   "
   ]
  },
  {
   "cell_type": "markdown",
   "id": "4eb99b95",
   "metadata": {
    "papermill": {
     "duration": 0.10067,
     "end_time": "2023-08-10T18:52:16.025474",
     "exception": false,
     "start_time": "2023-08-10T18:52:15.924804",
     "status": "completed"
    },
    "tags": []
   },
   "source": [
    "`Overview`  \n",
    "\n",
    "`PART I`  \n",
    "\n",
    "1.\t> Screen the datasets and import them.  \n",
    "2.\t> Perform EDA (first round).\n",
    "3.\t> Data cleaning.\n",
    "4.\t> Basic models including dummy model.\n",
    "5.\t> Because this is a text sentiment analysis project, focus on 'reviewText' column, work on cleaning text data and vectorising/tokenising it, build several models till the best possible score is reached.  \n",
    "\n",
    "`PART II`  \n",
    "\n",
    "6.\t> Merge train and movies dataset.\n",
    "7.\t> Perform EDA (second round) on merged dataset.\n",
    "8.\t> Data cleaning.\n",
    "9.\t> Build models on merged dataset.\n",
    "10.\t> Understand the results and do another round of EDA if needed.\n",
    "11.\t> Build final model.  \n",
    "\n",
    "`PART III (After project window closes)`  \n",
    "\n",
    "12. > Use NLTK library for further processing text data.  \n",
    "13. > Try to address comments from different languages, special characters etc.  \n",
    "14. > Try imblearn library to address class imbalance.  \n",
    "15. > Try to use currently available LLMs and see how my model performs agains them.  "
   ]
  },
  {
   "cell_type": "markdown",
   "id": "66c7d394",
   "metadata": {
    "papermill": {
     "duration": 0.093717,
     "end_time": "2023-08-10T18:52:16.216129",
     "exception": false,
     "start_time": "2023-08-10T18:52:16.122412",
     "status": "completed"
    },
    "tags": []
   },
   "source": [
    "`Default code on Kaggle notebook`  "
   ]
  },
  {
   "cell_type": "code",
   "execution_count": 1,
   "id": "8e68962e",
   "metadata": {
    "_cell_guid": "b1076dfc-b9ad-4769-8c92-a6c4dae69d19",
    "_uuid": "8f2839f25d086af736a60e9eeb907d3b93b6e0e5",
    "execution": {
     "iopub.execute_input": "2023-08-10T18:52:16.408000Z",
     "iopub.status.busy": "2023-08-10T18:52:16.407306Z",
     "iopub.status.idle": "2023-08-10T18:52:16.423983Z",
     "shell.execute_reply": "2023-08-10T18:52:16.421991Z"
    },
    "papermill": {
     "duration": 0.116524,
     "end_time": "2023-08-10T18:52:16.426867",
     "exception": false,
     "start_time": "2023-08-10T18:52:16.310343",
     "status": "completed"
    },
    "tags": []
   },
   "outputs": [
    {
     "name": "stdout",
     "output_type": "stream",
     "text": [
      "/kaggle/input/sentiment-prediction-on-movie-reviews/movies.csv\n",
      "/kaggle/input/sentiment-prediction-on-movie-reviews/sample.csv\n",
      "/kaggle/input/sentiment-prediction-on-movie-reviews/train.csv\n",
      "/kaggle/input/sentiment-prediction-on-movie-reviews/test.csv\n"
     ]
    }
   ],
   "source": [
    "# This Python 3 environment comes with many helpful analytics libraries installed\n",
    "# It is defined by the kaggle/python Docker image: https://github.com/kaggle/docker-python\n",
    "# For example, here's several helpful packages to load\n",
    "\n",
    "import numpy as np # linear algebra\n",
    "import pandas as pd # data processing, CSV file I/O (e.g. pd.read_csv)\n",
    "\n",
    "# Input data files are available in the read-only \"../input/\" directory\n",
    "# For example, running this (by clicking run or pressing Shift+Enter) will list all files under the input directory\n",
    "\n",
    "import os\n",
    "for dirname, _, filenames in os.walk('/kaggle/input'):\n",
    "    for filename in filenames:\n",
    "        print(os.path.join(dirname, filename))\n",
    "\n",
    "# You can write up to 20GB to the current directory (/kaggle/working/) that gets preserved as output when you create a version using \"Save & Run All\" \n",
    "# You can also write temporary files to /kaggle/temp/, but they won't be saved outside of the current session"
   ]
  },
  {
   "cell_type": "markdown",
   "id": "fa5de04a",
   "metadata": {
    "papermill": {
     "duration": 0.092709,
     "end_time": "2023-08-10T18:52:16.615342",
     "exception": false,
     "start_time": "2023-08-10T18:52:16.522633",
     "status": "completed"
    },
    "tags": []
   },
   "source": [
    "### Specify platform  "
   ]
  },
  {
   "cell_type": "code",
   "execution_count": 2,
   "id": "519ac135",
   "metadata": {
    "execution": {
     "iopub.execute_input": "2023-08-10T18:52:16.804642Z",
     "iopub.status.busy": "2023-08-10T18:52:16.803671Z",
     "iopub.status.idle": "2023-08-10T18:52:16.808859Z",
     "shell.execute_reply": "2023-08-10T18:52:16.807805Z"
    },
    "papermill": {
     "duration": 0.101926,
     "end_time": "2023-08-10T18:52:16.811434",
     "exception": false,
     "start_time": "2023-08-10T18:52:16.709508",
     "status": "completed"
    },
    "tags": []
   },
   "outputs": [],
   "source": [
    "platform = 'kaggle'  "
   ]
  },
  {
   "cell_type": "markdown",
   "id": "02133044",
   "metadata": {
    "papermill": {
     "duration": 0.095868,
     "end_time": "2023-08-10T18:52:17.002631",
     "exception": false,
     "start_time": "2023-08-10T18:52:16.906763",
     "status": "completed"
    },
    "tags": []
   },
   "source": [
    "### Import libraries  "
   ]
  },
  {
   "cell_type": "code",
   "execution_count": 3,
   "id": "d16f647e",
   "metadata": {
    "execution": {
     "iopub.execute_input": "2023-08-10T18:52:17.204045Z",
     "iopub.status.busy": "2023-08-10T18:52:17.203333Z",
     "iopub.status.idle": "2023-08-10T18:52:20.247536Z",
     "shell.execute_reply": "2023-08-10T18:52:20.245094Z"
    },
    "papermill": {
     "duration": 3.145475,
     "end_time": "2023-08-10T18:52:20.250895",
     "exception": false,
     "start_time": "2023-08-10T18:52:17.105420",
     "status": "completed"
    },
    "tags": []
   },
   "outputs": [
    {
     "name": "stdout",
     "output_type": "stream",
     "text": [
      "Imports done.\n"
     ]
    }
   ],
   "source": [
    "import pandas as pd\n",
    "import numpy as np\n",
    "import matplotlib.pyplot as plt\n",
    "import seaborn as sns\n",
    "import re\n",
    "from itertools import compress\n",
    "\n",
    "from sklearn.dummy import DummyClassifier\n",
    "from sklearn.pipeline import Pipeline, FeatureUnion\n",
    "from sklearn.compose import ColumnTransformer\n",
    "from sklearn.metrics import classification_report, confusion_matrix,f1_score\n",
    "from sklearn.feature_extraction.text import TfidfVectorizer, CountVectorizer\n",
    "from sklearn.preprocessing import FunctionTransformer\n",
    "from sklearn.preprocessing import StandardScaler, MinMaxScaler, RobustScaler, OneHotEncoder, LabelEncoder\n",
    "from sklearn.impute import SimpleImputer\n",
    "from sklearn.linear_model import LogisticRegression, SGDClassifier\n",
    "from sklearn.tree import DecisionTreeClassifier\n",
    "from sklearn.ensemble import RandomForestClassifier, AdaBoostClassifier\n",
    "from sklearn.svm import LinearSVC\n",
    "from sklearn.naive_bayes import GaussianNB, BernoulliNB, CategoricalNB, ComplementNB, MultinomialNB\n",
    "from sklearn.model_selection import train_test_split, GridSearchCV, cross_val_score\n",
    "from sklearn.decomposition import PCA, TruncatedSVD\n",
    "from sklearn.feature_selection import RFECV\n",
    "from sklearn.feature_selection import RFE\n",
    "from sklearn.neural_network import MLPClassifier\n",
    "\n",
    "# import lightgbm as ltb\n",
    "\n",
    "import scipy.stats as stats\n",
    "print(\"Imports done.\")"
   ]
  },
  {
   "cell_type": "markdown",
   "id": "e362465c",
   "metadata": {
    "papermill": {
     "duration": 0.094819,
     "end_time": "2023-08-10T18:52:20.446885",
     "exception": false,
     "start_time": "2023-08-10T18:52:20.352066",
     "status": "completed"
    },
    "tags": []
   },
   "source": [
    "# PART I  "
   ]
  },
  {
   "cell_type": "markdown",
   "id": "edeae23a",
   "metadata": {
    "papermill": {
     "duration": 0.099332,
     "end_time": "2023-08-10T18:52:20.644569",
     "exception": false,
     "start_time": "2023-08-10T18:52:20.545237",
     "status": "completed"
    },
    "tags": []
   },
   "source": [
    "## Load datasets  "
   ]
  },
  {
   "cell_type": "code",
   "execution_count": 4,
   "id": "e7ac385a",
   "metadata": {
    "execution": {
     "iopub.execute_input": "2023-08-10T18:52:20.835780Z",
     "iopub.status.busy": "2023-08-10T18:52:20.834465Z",
     "iopub.status.idle": "2023-08-10T18:52:22.078142Z",
     "shell.execute_reply": "2023-08-10T18:52:22.076871Z"
    },
    "papermill": {
     "duration": 1.340863,
     "end_time": "2023-08-10T18:52:22.081883",
     "exception": false,
     "start_time": "2023-08-10T18:52:20.741020",
     "status": "completed"
    },
    "tags": []
   },
   "outputs": [
    {
     "data": {
      "text/plain": [
       "(162758, 5)"
      ]
     },
     "execution_count": 4,
     "metadata": {},
     "output_type": "execute_result"
    }
   ],
   "source": [
    "if platform == 'vscode':\n",
    "    traindf = pd.read_csv(\"data/train.csv\")\n",
    "else:\n",
    "    traindf = pd.read_csv(\"/kaggle/input/sentiment-prediction-on-movie-reviews/train.csv\")\n",
    "    \n",
    "traindf.shape"
   ]
  },
  {
   "cell_type": "code",
   "execution_count": 5,
   "id": "b5eafe08",
   "metadata": {
    "execution": {
     "iopub.execute_input": "2023-08-10T18:52:22.281234Z",
     "iopub.status.busy": "2023-08-10T18:52:22.280508Z",
     "iopub.status.idle": "2023-08-10T18:52:22.730712Z",
     "shell.execute_reply": "2023-08-10T18:52:22.729392Z"
    },
    "papermill": {
     "duration": 0.552488,
     "end_time": "2023-08-10T18:52:22.733865",
     "exception": false,
     "start_time": "2023-08-10T18:52:22.181377",
     "status": "completed"
    },
    "tags": []
   },
   "outputs": [
    {
     "data": {
      "text/plain": [
       "(55315, 4)"
      ]
     },
     "execution_count": 5,
     "metadata": {},
     "output_type": "execute_result"
    }
   ],
   "source": [
    "if platform == 'vscode':\n",
    "    testdf = pd.read_csv(\"data/test.csv\")\n",
    "else:\n",
    "    testdf = pd.read_csv(\"/kaggle/input/sentiment-prediction-on-movie-reviews/test.csv\")\n",
    "\n",
    "testdf.shape"
   ]
  },
  {
   "cell_type": "markdown",
   "id": "0ff97c3a",
   "metadata": {
    "papermill": {
     "duration": 0.096446,
     "end_time": "2023-08-10T18:52:22.926793",
     "exception": false,
     "start_time": "2023-08-10T18:52:22.830347",
     "status": "completed"
    },
    "tags": []
   },
   "source": [
    "### Understanding the data and getting it ready for training and evaluating models  \n"
   ]
  },
  {
   "cell_type": "code",
   "execution_count": 6,
   "id": "924da76c",
   "metadata": {
    "execution": {
     "iopub.execute_input": "2023-08-10T18:52:23.115874Z",
     "iopub.status.busy": "2023-08-10T18:52:23.115307Z",
     "iopub.status.idle": "2023-08-10T18:52:23.123357Z",
     "shell.execute_reply": "2023-08-10T18:52:23.122120Z"
    },
    "papermill": {
     "duration": 0.106682,
     "end_time": "2023-08-10T18:52:23.126146",
     "exception": false,
     "start_time": "2023-08-10T18:52:23.019464",
     "status": "completed"
    },
    "tags": []
   },
   "outputs": [
    {
     "data": {
      "text/plain": [
       "(162758, 5)"
      ]
     },
     "execution_count": 6,
     "metadata": {},
     "output_type": "execute_result"
    }
   ],
   "source": [
    "traindf.shape"
   ]
  },
  {
   "cell_type": "code",
   "execution_count": 7,
   "id": "62969dcf",
   "metadata": {
    "execution": {
     "iopub.execute_input": "2023-08-10T18:52:23.329744Z",
     "iopub.status.busy": "2023-08-10T18:52:23.328145Z",
     "iopub.status.idle": "2023-08-10T18:52:23.589838Z",
     "shell.execute_reply": "2023-08-10T18:52:23.587415Z"
    },
    "papermill": {
     "duration": 0.369357,
     "end_time": "2023-08-10T18:52:23.593160",
     "exception": false,
     "start_time": "2023-08-10T18:52:23.223803",
     "status": "completed"
    },
    "tags": []
   },
   "outputs": [
    {
     "name": "stdout",
     "output_type": "stream",
     "text": [
      "<class 'pandas.core.frame.DataFrame'>\n",
      "RangeIndex: 162758 entries, 0 to 162757\n",
      "Data columns (total 5 columns):\n",
      " #   Column              Non-Null Count   Dtype \n",
      "---  ------              --------------   ----- \n",
      " 0   movieid             162758 non-null  object\n",
      " 1   reviewerName        162758 non-null  object\n",
      " 2   isFrequentReviewer  162758 non-null  bool  \n",
      " 3   reviewText          156311 non-null  object\n",
      " 4   sentiment           162758 non-null  object\n",
      "dtypes: bool(1), object(4)\n",
      "memory usage: 5.1+ MB\n"
     ]
    }
   ],
   "source": [
    "traindf.info()"
   ]
  },
  {
   "cell_type": "code",
   "execution_count": 8,
   "id": "71809a91",
   "metadata": {
    "execution": {
     "iopub.execute_input": "2023-08-10T18:52:23.796685Z",
     "iopub.status.busy": "2023-08-10T18:52:23.795681Z",
     "iopub.status.idle": "2023-08-10T18:52:24.055584Z",
     "shell.execute_reply": "2023-08-10T18:52:24.054352Z"
    },
    "papermill": {
     "duration": 0.36708,
     "end_time": "2023-08-10T18:52:24.058444",
     "exception": false,
     "start_time": "2023-08-10T18:52:23.691364",
     "status": "completed"
    },
    "tags": []
   },
   "outputs": [
    {
     "data": {
      "text/plain": [
       "movieid                  0\n",
       "reviewerName             0\n",
       "isFrequentReviewer       0\n",
       "reviewText            6447\n",
       "sentiment                0\n",
       "dtype: int64"
      ]
     },
     "execution_count": 8,
     "metadata": {},
     "output_type": "execute_result"
    }
   ],
   "source": [
    "traindf.isna().sum()"
   ]
  },
  {
   "cell_type": "markdown",
   "id": "8571efd9",
   "metadata": {
    "papermill": {
     "duration": 0.096859,
     "end_time": "2023-08-10T18:52:24.355215",
     "exception": false,
     "start_time": "2023-08-10T18:52:24.258356",
     "status": "completed"
    },
    "tags": []
   },
   "source": [
    "### Fill empty reviewText with custom text  "
   ]
  },
  {
   "cell_type": "code",
   "execution_count": 9,
   "id": "51af5c3b",
   "metadata": {
    "execution": {
     "iopub.execute_input": "2023-08-10T18:52:24.552112Z",
     "iopub.status.busy": "2023-08-10T18:52:24.551657Z",
     "iopub.status.idle": "2023-08-10T18:52:24.803781Z",
     "shell.execute_reply": "2023-08-10T18:52:24.802514Z"
    },
    "papermill": {
     "duration": 0.352628,
     "end_time": "2023-08-10T18:52:24.806473",
     "exception": false,
     "start_time": "2023-08-10T18:52:24.453845",
     "status": "completed"
    },
    "tags": []
   },
   "outputs": [
    {
     "data": {
      "text/plain": [
       "movieid               0\n",
       "reviewerName          0\n",
       "isFrequentReviewer    0\n",
       "reviewText            0\n",
       "sentiment             0\n",
       "dtype: int64"
      ]
     },
     "execution_count": 9,
     "metadata": {},
     "output_type": "execute_result"
    }
   ],
   "source": [
    "traindf[\"reviewText\"].fillna(\"empty\", inplace=True)\n",
    "traindf.isna().sum()"
   ]
  },
  {
   "cell_type": "markdown",
   "id": "aea973c6",
   "metadata": {
    "papermill": {
     "duration": 0.096314,
     "end_time": "2023-08-10T18:52:24.998513",
     "exception": false,
     "start_time": "2023-08-10T18:52:24.902199",
     "status": "completed"
    },
    "tags": []
   },
   "source": [
    "## EDA  \n"
   ]
  },
  {
   "cell_type": "code",
   "execution_count": 10,
   "id": "89288a85",
   "metadata": {
    "execution": {
     "iopub.execute_input": "2023-08-10T18:52:25.226362Z",
     "iopub.status.busy": "2023-08-10T18:52:25.225869Z",
     "iopub.status.idle": "2023-08-10T18:52:25.527884Z",
     "shell.execute_reply": "2023-08-10T18:52:25.526618Z"
    },
    "papermill": {
     "duration": 0.409178,
     "end_time": "2023-08-10T18:52:25.530671",
     "exception": false,
     "start_time": "2023-08-10T18:52:25.121493",
     "status": "completed"
    },
    "tags": []
   },
   "outputs": [
    {
     "data": {
      "image/png": "[encoded data removed]",
      "text/plain": [
       "<Figure size 600x400 with 1 Axes>"
      ]
     },
     "metadata": {},
     "output_type": "display_data"
    }
   ],
   "source": [
    "# Pie chart for sentiment column\n",
    "plt.figure(figsize=(6, 4))\n",
    "traindf[\"sentiment\"].value_counts().plot(kind='pie', autopct='%1.0f%%', colors=[\"lightgreen\", \"crimson\"])\n",
    "plt.title(\"Pie chart for sentiment column\")\n",
    "plt.show()"
   ]
  },
  {
   "cell_type": "code",
   "execution_count": 11,
   "id": "1889b8df",
   "metadata": {
    "execution": {
     "iopub.execute_input": "2023-08-10T18:52:25.735920Z",
     "iopub.status.busy": "2023-08-10T18:52:25.735097Z",
     "iopub.status.idle": "2023-08-10T18:52:25.824614Z",
     "shell.execute_reply": "2023-08-10T18:52:25.822800Z"
    },
    "papermill": {
     "duration": 0.195023,
     "end_time": "2023-08-10T18:52:25.827655",
     "exception": false,
     "start_time": "2023-08-10T18:52:25.632632",
     "status": "completed"
    },
    "tags": []
   },
   "outputs": [
    {
     "name": "stdout",
     "output_type": "stream",
     "text": [
      "sentiment           NEGATIVE  POSITIVE\n",
      "isFrequentReviewer                    \n",
      "False                  35760     77429\n",
      "True                   18237     31332\n"
     ]
    },
    {
     "data": {
      "text/plain": [
       "Chi2ContingencyResult(statistic=419.89235425657796, pvalue=2.5755894769493255e-93, dof=1, expected_freq=array([[37551.86493444, 75637.13506556],\n",
       "       [16445.13506556, 33123.86493444]]))"
      ]
     },
     "execution_count": 11,
     "metadata": {},
     "output_type": "execute_result"
    }
   ],
   "source": [
    "# Chi-square test for isFrequentReviewer column and sentiment column   \n",
    "\n",
    "contingency_table = pd.crosstab(traindf['isFrequentReviewer'], traindf['sentiment'])\n",
    "print(contingency_table)\n",
    "stats.chi2_contingency(contingency_table)"
   ]
  },
  {
   "cell_type": "markdown",
   "id": "31b0bb9a",
   "metadata": {
    "papermill": {
     "duration": 0.10332,
     "end_time": "2023-08-10T18:52:26.028738",
     "exception": false,
     "start_time": "2023-08-10T18:52:25.925418",
     "status": "completed"
    },
    "tags": []
   },
   "source": [
    "### Separate features and labels  "
   ]
  },
  {
   "cell_type": "code",
   "execution_count": 12,
   "id": "c0db8a32",
   "metadata": {
    "execution": {
     "iopub.execute_input": "2023-08-10T18:52:26.228038Z",
     "iopub.status.busy": "2023-08-10T18:52:26.227526Z",
     "iopub.status.idle": "2023-08-10T18:52:26.237417Z",
     "shell.execute_reply": "2023-08-10T18:52:26.235673Z"
    },
    "papermill": {
     "duration": 0.11392,
     "end_time": "2023-08-10T18:52:26.240213",
     "exception": false,
     "start_time": "2023-08-10T18:52:26.126293",
     "status": "completed"
    },
    "tags": []
   },
   "outputs": [
    {
     "data": {
      "text/plain": [
       "((162758,), (162758,))"
      ]
     },
     "execution_count": 12,
     "metadata": {},
     "output_type": "execute_result"
    }
   ],
   "source": [
    "train_features = traindf[\"reviewText\"]\n",
    "train_labels = traindf.iloc[:, -1]\n",
    "train_features.shape, train_labels.shape"
   ]
  },
  {
   "cell_type": "markdown",
   "id": "048ac716",
   "metadata": {
    "papermill": {
     "duration": 0.101125,
     "end_time": "2023-08-10T18:52:26.440510",
     "exception": false,
     "start_time": "2023-08-10T18:52:26.339385",
     "status": "completed"
    },
    "tags": []
   },
   "source": [
    "### Split traindf into training and testing parts  "
   ]
  },
  {
   "cell_type": "code",
   "execution_count": 13,
   "id": "4c064983",
   "metadata": {
    "execution": {
     "iopub.execute_input": "2023-08-10T18:52:26.642134Z",
     "iopub.status.busy": "2023-08-10T18:52:26.640799Z",
     "iopub.status.idle": "2023-08-10T18:52:26.703290Z",
     "shell.execute_reply": "2023-08-10T18:52:26.701680Z"
    },
    "papermill": {
     "duration": 0.164332,
     "end_time": "2023-08-10T18:52:26.706373",
     "exception": false,
     "start_time": "2023-08-10T18:52:26.542041",
     "status": "completed"
    },
    "tags": []
   },
   "outputs": [
    {
     "data": {
      "text/plain": [
       "((122068,), (40690,), (122068,), (40690,))"
      ]
     },
     "execution_count": 13,
     "metadata": {},
     "output_type": "execute_result"
    }
   ],
   "source": [
    "X_train, X_test, y_train, y_test = train_test_split(train_features, train_labels, test_size=0.25, random_state=42)\n",
    "X_train.shape, X_test.shape, y_train.shape, y_test.shape"
   ]
  },
  {
   "cell_type": "markdown",
   "id": "bc0dc9ac",
   "metadata": {
    "papermill": {
     "duration": 0.094859,
     "end_time": "2023-08-10T18:52:26.897437",
     "exception": false,
     "start_time": "2023-08-10T18:52:26.802578",
     "status": "completed"
    },
    "tags": []
   },
   "source": [
    "## Model evaluation plan and code  "
   ]
  },
  {
   "cell_type": "code",
   "execution_count": 14,
   "id": "4714a0da",
   "metadata": {
    "execution": {
     "iopub.execute_input": "2023-08-10T18:52:27.099202Z",
     "iopub.status.busy": "2023-08-10T18:52:27.098782Z",
     "iopub.status.idle": "2023-08-10T18:52:27.104312Z",
     "shell.execute_reply": "2023-08-10T18:52:27.102899Z"
    },
    "papermill": {
     "duration": 0.114382,
     "end_time": "2023-08-10T18:52:27.107021",
     "exception": false,
     "start_time": "2023-08-10T18:52:26.992639",
     "status": "completed"
    },
    "tags": []
   },
   "outputs": [],
   "source": [
    "# from sklearn.metrics import classification_report, confusion_matrix, ConfusionMatrixDisplay\n",
    "# from sklearn.metrics import f1_score"
   ]
  },
  {
   "cell_type": "code",
   "execution_count": 15,
   "id": "a4f58c10",
   "metadata": {
    "execution": {
     "iopub.execute_input": "2023-08-10T18:52:27.301011Z",
     "iopub.status.busy": "2023-08-10T18:52:27.300603Z",
     "iopub.status.idle": "2023-08-10T18:52:27.305607Z",
     "shell.execute_reply": "2023-08-10T18:52:27.304200Z"
    },
    "papermill": {
     "duration": 0.105965,
     "end_time": "2023-08-10T18:52:27.308125",
     "exception": false,
     "start_time": "2023-08-10T18:52:27.202160",
     "status": "completed"
    },
    "tags": []
   },
   "outputs": [],
   "source": [
    "# def evaluate(y_test, y_pred):\n",
    "#     print(classification_report(y_test, y_pred))\n",
    "#     print(confusion_matrix(y_test, y_pred))\n",
    "#     # print(f1_score(y_test, y_pred))\n",
    "#     ConfusionMatrixDisplay(y_test, y_pred)\n",
    "#     return"
   ]
  },
  {
   "cell_type": "markdown",
   "id": "9a1a2232",
   "metadata": {
    "papermill": {
     "duration": 0.094277,
     "end_time": "2023-08-10T18:52:27.499119",
     "exception": false,
     "start_time": "2023-08-10T18:52:27.404842",
     "status": "completed"
    },
    "tags": []
   },
   "source": [
    "### Data preprocessing  "
   ]
  },
  {
   "cell_type": "markdown",
   "id": "1d2f8f42",
   "metadata": {
    "papermill": {
     "duration": 0.094105,
     "end_time": "2023-08-10T18:52:27.690291",
     "exception": false,
     "start_time": "2023-08-10T18:52:27.596186",
     "status": "completed"
    },
    "tags": []
   },
   "source": [
    "`Define stop words`  "
   ]
  },
  {
   "cell_type": "code",
   "execution_count": 16,
   "id": "5353e564",
   "metadata": {
    "execution": {
     "iopub.execute_input": "2023-08-10T18:52:27.882812Z",
     "iopub.status.busy": "2023-08-10T18:52:27.882076Z",
     "iopub.status.idle": "2023-08-10T18:52:27.886447Z",
     "shell.execute_reply": "2023-08-10T18:52:27.885616Z"
    },
    "papermill": {
     "duration": 0.102857,
     "end_time": "2023-08-10T18:52:27.888706",
     "exception": false,
     "start_time": "2023-08-10T18:52:27.785849",
     "status": "completed"
    },
    "tags": []
   },
   "outputs": [],
   "source": [
    "# stop_words = [\"able\", \"about\", \"above\", \"abst\", \"ac\"]     # Deprecated  \n",
    "# type(stop_words), len(stop_words)"
   ]
  },
  {
   "cell_type": "markdown",
   "id": "b40c2f29",
   "metadata": {
    "papermill": {
     "duration": 0.095839,
     "end_time": "2023-08-10T18:52:28.079727",
     "exception": false,
     "start_time": "2023-08-10T18:52:27.983888",
     "status": "completed"
    },
    "tags": []
   },
   "source": [
    "## Feature extraction  "
   ]
  },
  {
   "cell_type": "markdown",
   "id": "b4b84924",
   "metadata": {
    "papermill": {
     "duration": 0.094883,
     "end_time": "2023-08-10T18:52:28.268972",
     "exception": false,
     "start_time": "2023-08-10T18:52:28.174089",
     "status": "completed"
    },
    "tags": []
   },
   "source": [
    "### Understand CountVectorizer and TfidfVectorizer  "
   ]
  },
  {
   "cell_type": "code",
   "execution_count": 17,
   "id": "ff51eb8d",
   "metadata": {
    "execution": {
     "iopub.execute_input": "2023-08-10T18:52:28.466135Z",
     "iopub.status.busy": "2023-08-10T18:52:28.465650Z",
     "iopub.status.idle": "2023-08-10T18:52:28.470506Z",
     "shell.execute_reply": "2023-08-10T18:52:28.469479Z"
    },
    "papermill": {
     "duration": 0.106941,
     "end_time": "2023-08-10T18:52:28.472871",
     "exception": false,
     "start_time": "2023-08-10T18:52:28.365930",
     "status": "completed"
    },
    "tags": []
   },
   "outputs": [],
   "source": [
    "# text = X_train.copy()\n",
    "# text.head()"
   ]
  },
  {
   "cell_type": "code",
   "execution_count": 18,
   "id": "d18b6907",
   "metadata": {
    "execution": {
     "iopub.execute_input": "2023-08-10T18:52:28.661922Z",
     "iopub.status.busy": "2023-08-10T18:52:28.661154Z",
     "iopub.status.idle": "2023-08-10T18:52:28.665512Z",
     "shell.execute_reply": "2023-08-10T18:52:28.664640Z"
    },
    "papermill": {
     "duration": 0.101032,
     "end_time": "2023-08-10T18:52:28.667689",
     "exception": false,
     "start_time": "2023-08-10T18:52:28.566657",
     "status": "completed"
    },
    "tags": []
   },
   "outputs": [],
   "source": [
    "# vectorizer = TfidfVectorizer(stop_words=stop_words)\n",
    "# vectorized_text = vectorizer.fit_transform(text[\"reviewText\"])\n",
    "# vectorized_text"
   ]
  },
  {
   "cell_type": "markdown",
   "id": "9ec74d43",
   "metadata": {
    "papermill": {
     "duration": 0.092951,
     "end_time": "2023-08-10T18:52:28.854080",
     "exception": false,
     "start_time": "2023-08-10T18:52:28.761129",
     "status": "completed"
    },
    "tags": []
   },
   "source": [
    "`Without stop words`  \n",
    "<122068x58624 sparse matrix of type '<class 'numpy.float64'>'\n",
    "\twith 2312222 stored elements in Compressed Sparse Row format>\n",
    "\n",
    "`With stop words`  \n",
    "<122068x57784 sparse matrix of type '<class 'numpy.float64'>'\n",
    "\twith 1188395 stored elements in Compressed Sparse Row format>   "
   ]
  },
  {
   "cell_type": "code",
   "execution_count": 19,
   "id": "96c54b9c",
   "metadata": {
    "execution": {
     "iopub.execute_input": "2023-08-10T18:52:29.044909Z",
     "iopub.status.busy": "2023-08-10T18:52:29.044215Z",
     "iopub.status.idle": "2023-08-10T18:52:29.049576Z",
     "shell.execute_reply": "2023-08-10T18:52:29.048357Z"
    },
    "papermill": {
     "duration": 0.104915,
     "end_time": "2023-08-10T18:52:29.052084",
     "exception": false,
     "start_time": "2023-08-10T18:52:28.947169",
     "status": "completed"
    },
    "tags": []
   },
   "outputs": [],
   "source": [
    "# vectorizer2 = CountVectorizer(stop_words=stop_words)\n",
    "# vectorized_text2 = vectorizer2.fit_transform(text[\"reviewText\"])\n",
    "# vectorized_text2"
   ]
  },
  {
   "cell_type": "markdown",
   "id": "3907b74a",
   "metadata": {
    "papermill": {
     "duration": 0.092062,
     "end_time": "2023-08-10T18:52:29.238439",
     "exception": false,
     "start_time": "2023-08-10T18:52:29.146377",
     "status": "completed"
    },
    "tags": []
   },
   "source": [
    "`Without stop words`  \n",
    "<122068x58624 sparse matrix of type '<class 'numpy.int64'>'\n",
    "\twith 2312222 stored elements in Compressed Sparse Row format>\n",
    "\n",
    "`With stop words`  \n",
    "<122068x57784 sparse matrix of type '<class 'numpy.int64'>'\n",
    "\twith 1188395 stored elements in Compressed Sparse Row format>"
   ]
  },
  {
   "cell_type": "markdown",
   "id": "0facf32c",
   "metadata": {
    "papermill": {
     "duration": 0.092524,
     "end_time": "2023-08-10T18:52:29.423372",
     "exception": false,
     "start_time": "2023-08-10T18:52:29.330848",
     "status": "completed"
    },
    "tags": []
   },
   "source": [
    "### Conclusion   \n",
    "`TfidfVectorizer is equivalent to CountVectorizer followed by TfidfTransformer.`  \n",
    "\n",
    "https://scikit-learn.org/stable/modules/generated/sklearn.feature_extraction.text.TfidfVectorizer.html"
   ]
  },
  {
   "cell_type": "markdown",
   "id": "8d0de19b",
   "metadata": {
    "papermill": {
     "duration": 0.099777,
     "end_time": "2023-08-10T18:52:29.617686",
     "exception": false,
     "start_time": "2023-08-10T18:52:29.517909",
     "status": "completed"
    },
    "tags": []
   },
   "source": [
    "## Model building workflow  \n",
    "\n",
    "`Make pipeline for preprocesing and model training and predictions`  \n"
   ]
  },
  {
   "cell_type": "code",
   "execution_count": 20,
   "id": "aee7ed40",
   "metadata": {
    "execution": {
     "iopub.execute_input": "2023-08-10T18:52:29.806579Z",
     "iopub.status.busy": "2023-08-10T18:52:29.806081Z",
     "iopub.status.idle": "2023-08-10T18:52:29.811108Z",
     "shell.execute_reply": "2023-08-10T18:52:29.810184Z"
    },
    "papermill": {
     "duration": 0.103097,
     "end_time": "2023-08-10T18:52:29.813385",
     "exception": false,
     "start_time": "2023-08-10T18:52:29.710288",
     "status": "completed"
    },
    "tags": []
   },
   "outputs": [],
   "source": [
    "# def preprocess_n_train(X_train, y_train, preprocessor, model):\n",
    "#     pipe = Pipeline(steps=[\n",
    "#                             (\"preprocessor\", preprocessor),\n",
    "#                             (\"model\", model)\n",
    "#                         ])\n",
    "    \n",
    "#     pipe.fit(X_train, y_train)\n",
    "\n",
    "#     print(\"Given model has been trained. Use predict method to get predictions array.\")\n",
    "#     return pipe\n",
    "\n",
    "\n",
    "# def predict_n_evaluate(pipeline, X_test, y_test):\n",
    "#     y_pred = pipeline.predict(X_test)\n",
    "#     print(f\"y_pred shape: {y_pred.shape}\")\n",
    "#     print(f\"Summary of predictions: {np.unique(y_pred, return_counts=True)}\")\n",
    "#     print(classification_report(y_test, y_pred))\n",
    "#     print(confusion_matrix(y_test, y_pred))\n",
    "#     return y_pred"
   ]
  },
  {
   "cell_type": "markdown",
   "id": "02091184",
   "metadata": {
    "papermill": {
     "duration": 0.094595,
     "end_time": "2023-08-10T18:52:30.001392",
     "exception": false,
     "start_time": "2023-08-10T18:52:29.906797",
     "status": "completed"
    },
    "tags": []
   },
   "source": [
    "## Building 3 basic models  "
   ]
  },
  {
   "cell_type": "markdown",
   "id": "2f269136",
   "metadata": {
    "papermill": {
     "duration": 0.092746,
     "end_time": "2023-08-10T18:52:30.192612",
     "exception": false,
     "start_time": "2023-08-10T18:52:30.099866",
     "status": "completed"
    },
    "tags": []
   },
   "source": [
    "### Text preprocessors  "
   ]
  },
  {
   "cell_type": "code",
   "execution_count": 21,
   "id": "0478a018",
   "metadata": {
    "execution": {
     "iopub.execute_input": "2023-08-10T18:52:30.383912Z",
     "iopub.status.busy": "2023-08-10T18:52:30.382529Z",
     "iopub.status.idle": "2023-08-10T18:52:30.388389Z",
     "shell.execute_reply": "2023-08-10T18:52:30.386938Z"
    },
    "papermill": {
     "duration": 0.104571,
     "end_time": "2023-08-10T18:52:30.390830",
     "exception": false,
     "start_time": "2023-08-10T18:52:30.286259",
     "status": "completed"
    },
    "tags": []
   },
   "outputs": [],
   "source": [
    "# tvec = TfidfVectorizer()\n",
    "# cvec = CountVectorizer()        # Note that TfidfVectorizer and CountVectorizer+TfidsTransformer do the same function\n",
    "# tvec, cvec"
   ]
  },
  {
   "cell_type": "markdown",
   "id": "1d4c0b1b",
   "metadata": {
    "papermill": {
     "duration": 0.094663,
     "end_time": "2023-08-10T18:52:30.577925",
     "exception": false,
     "start_time": "2023-08-10T18:52:30.483262",
     "status": "completed"
    },
    "tags": []
   },
   "source": [
    "### Logistic Regression with TfidVectorizer for preprocessing  "
   ]
  },
  {
   "cell_type": "code",
   "execution_count": 22,
   "id": "ed8a78cb",
   "metadata": {
    "execution": {
     "iopub.execute_input": "2023-08-10T18:52:30.777181Z",
     "iopub.status.busy": "2023-08-10T18:52:30.775841Z",
     "iopub.status.idle": "2023-08-10T18:52:30.780811Z",
     "shell.execute_reply": "2023-08-10T18:52:30.779909Z"
    },
    "papermill": {
     "duration": 0.109206,
     "end_time": "2023-08-10T18:52:30.783680",
     "exception": false,
     "start_time": "2023-08-10T18:52:30.674474",
     "status": "completed"
    },
    "tags": []
   },
   "outputs": [],
   "source": [
    "# logreg = LogisticRegression(max_iter=1000)\n",
    "# logreg_pipe = preprocess_n_train(X_train, y_train, tvec, logreg)\n",
    "# y_pred_logreg = predict_n_evaluate(logreg_pipe, X_test, y_test)\n",
    "# y_pred_logreg"
   ]
  },
  {
   "cell_type": "markdown",
   "id": "2df93d33",
   "metadata": {
    "papermill": {
     "duration": 0.177163,
     "end_time": "2023-08-10T18:52:31.056048",
     "exception": false,
     "start_time": "2023-08-10T18:52:30.878885",
     "status": "completed"
    },
    "tags": []
   },
   "source": [
    "### SVM model  "
   ]
  },
  {
   "cell_type": "code",
   "execution_count": 23,
   "id": "2496e132",
   "metadata": {
    "execution": {
     "iopub.execute_input": "2023-08-10T18:52:31.252810Z",
     "iopub.status.busy": "2023-08-10T18:52:31.251812Z",
     "iopub.status.idle": "2023-08-10T18:52:31.256651Z",
     "shell.execute_reply": "2023-08-10T18:52:31.255777Z"
    },
    "papermill": {
     "duration": 0.105172,
     "end_time": "2023-08-10T18:52:31.259069",
     "exception": false,
     "start_time": "2023-08-10T18:52:31.153897",
     "status": "completed"
    },
    "tags": []
   },
   "outputs": [],
   "source": [
    "# svm = LinearSVC()\n",
    "# svm_pipe = preprocess_n_train(X_train, y_train, tvec, svm)\n",
    "# y_pred_svm = predict_n_evaluate(svm_pipe, X_test, y_test)\n",
    "# y_pred_svm"
   ]
  },
  {
   "cell_type": "markdown",
   "id": "52bc5c0b",
   "metadata": {
    "papermill": {
     "duration": 0.096763,
     "end_time": "2023-08-10T18:52:31.455152",
     "exception": false,
     "start_time": "2023-08-10T18:52:31.358389",
     "status": "completed"
    },
    "tags": []
   },
   "source": [
    "### Naive Bayes model  "
   ]
  },
  {
   "cell_type": "markdown",
   "id": "127c59ed",
   "metadata": {
    "papermill": {
     "duration": 0.097403,
     "end_time": "2023-08-10T18:52:31.649457",
     "exception": false,
     "start_time": "2023-08-10T18:52:31.552054",
     "status": "completed"
    },
    "tags": []
   },
   "source": [
    "#### MultinomialNB  "
   ]
  },
  {
   "cell_type": "code",
   "execution_count": 24,
   "id": "86460a9b",
   "metadata": {
    "execution": {
     "iopub.execute_input": "2023-08-10T18:52:31.844563Z",
     "iopub.status.busy": "2023-08-10T18:52:31.843778Z",
     "iopub.status.idle": "2023-08-10T18:52:31.848115Z",
     "shell.execute_reply": "2023-08-10T18:52:31.847186Z"
    },
    "papermill": {
     "duration": 0.104429,
     "end_time": "2023-08-10T18:52:31.850698",
     "exception": false,
     "start_time": "2023-08-10T18:52:31.746269",
     "status": "completed"
    },
    "tags": []
   },
   "outputs": [],
   "source": [
    "# mnb = MultinomialNB()\n",
    "# mnb_pipe = preprocess_n_train(X_train, y_train, tvec, mnb)\n",
    "# y_pred_mnb = predict_n_evaluate(mnb_pipe, X_test, y_test)\n",
    "# y_pred_mnb"
   ]
  },
  {
   "cell_type": "markdown",
   "id": "bb6b7bc1",
   "metadata": {
    "papermill": {
     "duration": 0.10462,
     "end_time": "2023-08-10T18:52:32.053774",
     "exception": false,
     "start_time": "2023-08-10T18:52:31.949154",
     "status": "completed"
    },
    "tags": []
   },
   "source": [
    "## Submitting predictions to Kaggle competition  "
   ]
  },
  {
   "cell_type": "code",
   "execution_count": 25,
   "id": "a61d358c",
   "metadata": {
    "execution": {
     "iopub.execute_input": "2023-08-10T18:52:32.255158Z",
     "iopub.status.busy": "2023-08-10T18:52:32.254687Z",
     "iopub.status.idle": "2023-08-10T18:52:32.261210Z",
     "shell.execute_reply": "2023-08-10T18:52:32.259687Z"
    },
    "papermill": {
     "duration": 0.108816,
     "end_time": "2023-08-10T18:52:32.263673",
     "exception": false,
     "start_time": "2023-08-10T18:52:32.154857",
     "status": "completed"
    },
    "tags": []
   },
   "outputs": [],
   "source": [
    "# def submit(selected_model=logreg, selected_preprocessor=tvec):\n",
    "    \n",
    "#     # Retrain on the whole train.csv file  \n",
    "#     traindf = pd.read_csv(\"/kaggle/input/sentiment-prediction-on-movie-reviews/train.csv\")\n",
    "#     X_train = traindf[\"reviewText\"]\n",
    "#     X_train.fillna(\"empty\", inplace=True)\n",
    "#     y_train = traindf[\"sentiment\"]\n",
    "#     pipe = preprocess_n_train(X_train, y_train, selected_preprocessor, selected_model)\n",
    "    \n",
    "#     # Predict on test.csv file\n",
    "#     testdf = pd.read_csv(\"/kaggle/input/sentiment-prediction-on-movie-reviews/test.csv\")\n",
    "#     X_test = testdf[\"reviewText\"]\n",
    "#     X_test.fillna(\"empty\", inplace=True)\n",
    "    \n",
    "#     y_pred = pipe.predict(X_test)\n",
    "    \n",
    "#     pred_df = pd.DataFrame(y_pred)\n",
    "#     pred_df.columns = [\"sentiment\"]\n",
    "#     pred_df.index.name = \"id\"\n",
    "#     pred_df.to_csv(\"submission.csv\")\n",
    "    \n",
    "#     return \"Successfully created the submission file!!!\""
   ]
  },
  {
   "cell_type": "code",
   "execution_count": 26,
   "id": "fdae800a",
   "metadata": {
    "execution": {
     "iopub.execute_input": "2023-08-10T18:52:32.460300Z",
     "iopub.status.busy": "2023-08-10T18:52:32.459600Z",
     "iopub.status.idle": "2023-08-10T18:52:32.463898Z",
     "shell.execute_reply": "2023-08-10T18:52:32.462921Z"
    },
    "papermill": {
     "duration": 0.105415,
     "end_time": "2023-08-10T18:52:32.466474",
     "exception": false,
     "start_time": "2023-08-10T18:52:32.361059",
     "status": "completed"
    },
    "tags": []
   },
   "outputs": [],
   "source": [
    "# submit(logreg_cv1, tvec_cv1)"
   ]
  },
  {
   "cell_type": "markdown",
   "id": "9f5a0e8f",
   "metadata": {
    "papermill": {
     "duration": 0.095268,
     "end_time": "2023-08-10T18:52:32.658673",
     "exception": false,
     "start_time": "2023-08-10T18:52:32.563405",
     "status": "completed"
    },
    "tags": []
   },
   "source": [
    "# PART II  "
   ]
  },
  {
   "cell_type": "markdown",
   "id": "62149f6b",
   "metadata": {
    "papermill": {
     "duration": 0.095341,
     "end_time": "2023-08-10T18:52:32.851923",
     "exception": false,
     "start_time": "2023-08-10T18:52:32.756582",
     "status": "completed"
    },
    "tags": []
   },
   "source": [
    "## Merge \"movies.csv\" with \"train.csv\" and \"test.csv\"  "
   ]
  },
  {
   "cell_type": "markdown",
   "id": "860fc1d7",
   "metadata": {
    "papermill": {
     "duration": 0.104948,
     "end_time": "2023-08-10T18:52:33.051972",
     "exception": false,
     "start_time": "2023-08-10T18:52:32.947024",
     "status": "completed"
    },
    "tags": []
   },
   "source": [
    "### Helper functions  "
   ]
  },
  {
   "cell_type": "code",
   "execution_count": 27,
   "id": "14f28eff",
   "metadata": {
    "execution": {
     "iopub.execute_input": "2023-08-10T18:52:33.249462Z",
     "iopub.status.busy": "2023-08-10T18:52:33.248769Z",
     "iopub.status.idle": "2023-08-10T18:52:33.254511Z",
     "shell.execute_reply": "2023-08-10T18:52:33.253420Z"
    },
    "papermill": {
     "duration": 0.108524,
     "end_time": "2023-08-10T18:52:33.257028",
     "exception": false,
     "start_time": "2023-08-10T18:52:33.148504",
     "status": "completed"
    },
    "tags": []
   },
   "outputs": [],
   "source": [
    "# Helper function for loading files  \n",
    "\n",
    "def load_csv(filename: str):\n",
    "    if platform == \"vscode\":\n",
    "        df = pd.read_csv(f\"data/{filename}.csv\")\n",
    "    else:\n",
    "        df = pd.read_csv(f\"/kaggle/input/sentiment-prediction-on-movie-reviews/{filename}.csv\")\n",
    "        \n",
    "    return df"
   ]
  },
  {
   "cell_type": "code",
   "execution_count": 28,
   "id": "ea62d4db",
   "metadata": {
    "execution": {
     "iopub.execute_input": "2023-08-10T18:52:33.451427Z",
     "iopub.status.busy": "2023-08-10T18:52:33.450725Z",
     "iopub.status.idle": "2023-08-10T18:52:33.456642Z",
     "shell.execute_reply": "2023-08-10T18:52:33.455588Z"
    },
    "papermill": {
     "duration": 0.106103,
     "end_time": "2023-08-10T18:52:33.459364",
     "exception": false,
     "start_time": "2023-08-10T18:52:33.353261",
     "status": "completed"
    },
    "tags": []
   },
   "outputs": [],
   "source": [
    "def inspect(df: pd.DataFrame):\n",
    "    print(f\"Shape of the dataframe: {df.shape}\")\n",
    "    print()\n",
    "    print(f\"Columns in the dataframe:\\n{df.columns}\")\n",
    "    print()\n",
    "    print(f\"{df.info()}\")\n",
    "    print()\n",
    "    # print(f\"Summary: {df.describe()}\")\n",
    "    print(f\"Missing values:\\n{df.isna().sum()}\")\n",
    "    return"
   ]
  },
  {
   "cell_type": "code",
   "execution_count": 29,
   "id": "b9bf18f7",
   "metadata": {
    "execution": {
     "iopub.execute_input": "2023-08-10T18:52:33.654427Z",
     "iopub.status.busy": "2023-08-10T18:52:33.653702Z",
     "iopub.status.idle": "2023-08-10T18:52:33.658769Z",
     "shell.execute_reply": "2023-08-10T18:52:33.657778Z"
    },
    "papermill": {
     "duration": 0.104426,
     "end_time": "2023-08-10T18:52:33.661435",
     "exception": false,
     "start_time": "2023-08-10T18:52:33.557009",
     "status": "completed"
    },
    "tags": []
   },
   "outputs": [],
   "source": [
    "def name_fl(name):\n",
    "    l = name.split()\n",
    "    n = ' '.join((l[0], l[-1]))\n",
    "    return n"
   ]
  },
  {
   "cell_type": "code",
   "execution_count": 30,
   "id": "7fb2c65a",
   "metadata": {
    "execution": {
     "iopub.execute_input": "2023-08-10T18:52:33.862294Z",
     "iopub.status.busy": "2023-08-10T18:52:33.861490Z",
     "iopub.status.idle": "2023-08-10T18:52:33.893658Z",
     "shell.execute_reply": "2023-08-10T18:52:33.892238Z"
    },
    "papermill": {
     "duration": 0.136662,
     "end_time": "2023-08-10T18:52:33.896911",
     "exception": false,
     "start_time": "2023-08-10T18:52:33.760249",
     "status": "completed"
    },
    "tags": []
   },
   "outputs": [],
   "source": [
    "def select_features(df: pd.DataFrame, moviesdf: pd.DataFrame, row_thresh_null=None):\n",
    "    '''\n",
    "    This function merges the given dataframes. Note that the first df must be \"train\" or \"test\" and\n",
    "    the second df should be \"movies\".\n",
    "    Note: Sentiment column is present only in \"train.csv\" file and not \"test.csv\" file.\n",
    "    '''\n",
    "    \n",
    "    # Drop duplicates from moviesdf\n",
    "#     movies_unique = moviesdf.drop_duplicates(subset=[\"movieid\"])\n",
    "\n",
    "    # Drop duplicates using groupby - clubs similar rows and fills in missing values better\n",
    "    movies_unique = moviesdf.fillna(value=np.nan).groupby(\"movieid\").first().reset_index()\n",
    "    \n",
    "\n",
    "    # Handle missing values in movies.csv better than just dropping duplicates?\n",
    "#     movies_unique = moviesdf.copy()\n",
    "#     movies_unique[[\"audienceScore\", \"runtimeMinutes\"]] = movies_unique[[\"audienceScore\", \"runtimeMinutes\"]].interpolate(method='linear', axis=0)\n",
    "#     movies_unique = movies_unique.fillna(value=np.nan).groupby(\"movieid\").first().fillna(method='ffill').reset_index()\n",
    "\n",
    "    \n",
    "\n",
    "    # Merge df and movies_unique\n",
    "    df_merged = pd.merge(df, movies_unique, on=\"movieid\", how='left')\n",
    "    \n",
    "    # Rename \"isTopCritic\" column, if it exists, to \"isFrequentReviewer\"\n",
    "    df_merged.rename(columns={\"isTopCritic\": \"isFrequentReviewer\"}, inplace=True)\n",
    "    \n",
    "    # Drop columns\n",
    "#     df_merged = df_merged.drop(columns=[\"title\", \"ratingContents\", \"releaseDateTheaters\", \"releaseDateStreaming\", \"distributor\", \"soundType\"])\n",
    "#     df_merged = df_merged.drop(columns=[\"title\", \"soundType\"])\n",
    "    \n",
    "    # Drop rows (OPTIONAL: Uses kwarg row_thresh_null)\n",
    "    if row_thresh_null != None:\n",
    "        df_merged.dropna(axis=0, thresh=(df_merged.shape[1] - row_thresh_null), inplace=True)\n",
    "        \n",
    "\n",
    "    # Create new columns based on reviewText\n",
    "    final = df_merged.copy()\n",
    "    final[\"reviewYN\"] = np.where(final[\"reviewText\"].isnull(), 1, 0)    # Feature engineering - adding a new column\n",
    "    final[\"reviewWC\"] = final.apply(lambda x: len(str(x[\"reviewText\"]).split()), axis=1)    # Feature engineering - adding second new column\n",
    "    \n",
    "    # Clean text (replace numbers with empty string) and fill missing values in \"reviewText\" with empty string\n",
    "    final[\"reviewText\"] = final[\"reviewText\"].str.replace('\\d+', '', regex=True)\n",
    "    final[\"reviewText\"] = final[\"reviewText\"].fillna(\"neutral\")\n",
    "    \n",
    "    # Fill missing values in \"rating\", \"genre\", original columns with the word \"unknown\"\n",
    "    final[\"rating\"] = final[\"rating\"].fillna(\"unknown\")\n",
    "    final[\"originalLanguage\"] = final[\"originalLanguage\"].fillna(\"unknown\")\n",
    "    final[\"genre\"] = final[\"genre\"].fillna(\"unknown\")\n",
    "    final[\"genre\"] = final[\"genre\"].apply(lambda x: re.sub(r\"-\", \"\", x))\n",
    "    final[\"genreSorted\"] = final[\"genre\"].apply(lambda x: (\",\").join(sorted(x.split(\", \"))))\n",
    "#     final[\"genre\"] = final[\"genre\"].replace(to_replace={\"&\": \"\"})\n",
    "\n",
    "    # Impute missing values for \"audienceScore\" and \"runtimeMinutes\" columns\n",
    "#     final[\"audienceScore\"] = final[\"audienceScore\"].fillna(final[\"audienceScore\"].mean())        # MOVED\n",
    "#     final[\"runtimeMinutes\"] = final[\"runtimeMinutes\"].fillna(final[\"runtimeMinutes\"].median())   # MOVED\n",
    "    \n",
    "    # Preprocess and impute missing values in \"boxOffice\" column\n",
    "    final[\"boxOffice\"] = final[\"boxOffice\"].str[1:]\n",
    "    final[\"boxOffice\"] = final[\"boxOffice\"].replace(to_replace={\"M\": \"*1000000\", \"K\": \"*1000\"}, regex=True)\n",
    "    final[\"boxOffice\"] = final[\"boxOffice\"].loc[final[\"boxOffice\"].notnull()].apply(lambda x: eval(str(x)))\n",
    "#     final[\"boxOffice\"] = final[\"boxOffice\"].fillna(final[\"boxOffice\"].median())                  # MOVED\n",
    "    # (Optional) Replace outliers in boxOffice with median\n",
    "#     median = final[\"boxOffice\"].describe()['50%']\n",
    "#     iqr = final[\"boxOffice\"].describe()['75%'] - final[\"boxOffice\"].describe()['25%']\n",
    "#     ll = median - (1.5*iqr)\n",
    "#     ul = median + (1.5*iqr)\n",
    "#     final.loc[final[\"boxOffice\"] > ul, \"boxOffice\"] = median\n",
    "    \n",
    "    # Clean language names\n",
    "    final[\"originalLanguage\"].replace({\"English (United Kingdom)\": \"English\", \n",
    "                                            \"English (Australia)\" : \"English\",\n",
    "                                            \"French (France)\": \"French\", \n",
    "                                            \"French (Canada)\": \"French\",\n",
    "                                            \"Portuguese (Brazil)\": \"Portuguese\",\n",
    "                                            \"Spanish (Spain)\": \"Spanish\"},                                         \n",
    "                                            inplace=True)\n",
    "    \n",
    "    # Clean reviewerName column\n",
    "    pre_post_fixes = {\"Mr. \": \"\", \"Mrs. \": \"\", \"Ms. \": \"\", \"Dr. \": \"\", \n",
    "                      \" MD\": \"\", \" DDS\": \"\", \" DVM\": \"\", \" Jr.\": \"\", \" PhD\": \"\", \" II\": \"\", \" IV\": \"\"}\n",
    "    final[\"reviewerName\"] = final[\"reviewerName\"].replace(pre_post_fixes, regex=True)\n",
    "    final[\"reviewerName\"] = final[\"reviewerName\"].apply(name_fl)\n",
    "    \n",
    "    # Handle 'ratingContents' column\n",
    "    final[\"ratingContents\"] = final[\"ratingContents\"].fillna(\"neutral\")\n",
    "    final[\"rcSorted\"] = final[\"ratingContents\"].apply(lambda x: (\",\").join(sorted(x.strip(\"][\").split(\", \"))))\n",
    "    final[\"rcSorted\"] = final[\"rcSorted\"].apply(lambda x: re.sub(r\"'\", \"\", x))\n",
    "    final[\"rcSorted\"] = final[\"rcSorted\"].apply(lambda x: re.sub(r\"[/\\s]\", \"_\", x))  \n",
    "    \n",
    "    # Handle 'ratingContents' column\n",
    "    final[\"distributor\"] = final[\"distributor\"].fillna(\"unknown\")\n",
    "    \n",
    "    # Work with 'releaseDateTheaters', releaseDateStreaming column\n",
    "    final[[\"releaseDateTheaters\", \"releaseDateStreaming\"]] = final[[\"releaseDateTheaters\", \"releaseDateStreaming\"]].astype('datetime64[ns]')\n",
    "\n",
    "    final[\"releaseDate\"] = final[[\"releaseDateTheaters\", \"releaseDateStreaming\"]].min(axis=1, skipna=False)\n",
    "#     final[\"releaseDate\"] = final[\"releaseDate\"].fillna(final[\"releaseDate\"].median())               # MOVED\n",
    "\n",
    "    final[\"releaseYear\"] = final[\"releaseDate\"].dt.year\n",
    "    final[\"releaseMonth\"] = final[\"releaseDate\"].dt.month\n",
    "    \n",
    "    # Compute \"releaseDiff\" column and fill missing values in \"releaseDiff\" and (optional) replace outliers\n",
    "    final[\"releaseDiff\"] = (final[\"releaseDateStreaming\"] - final[\"releaseDateTheaters\"]) / np.timedelta64(1, 'D')\n",
    "    final[\"releaseDiff\"] = final[\"releaseDiff\"].apply(lambda x: abs(x))\n",
    "    final[\"releaseDiff\"] = final[\"releaseDiff\"].fillna(value=0)\n",
    "#     final[\"releaseDiff\"] = final[\"releaseDiff\"].fillna(final[\"releaseDiff\"].median())\n",
    "    # median = final[\"releaseDiff\"].describe()['50%']\n",
    "    # iqr = final[\"releaseDiff\"].describe()['75%'] - final[\"releaseDiff\"].describe()['25%']\n",
    "    # ll = median - (1.5*iqr)\n",
    "    # ul = median + (1.5*iqr)\n",
    "    # final.loc[final[\"releaseDiff\"] > ul, \"releaseDiff\"] = median\n",
    "    # final.loc[final[\"releaseDiff\"] < ll, \"releaseDiff\"] = median\n",
    "    \n",
    "    # Create new feature columns\n",
    "    \n",
    "    # Convert audienceScore to categories  \n",
    "    num_bins_as = 20\n",
    "    final[\"audScoreBins\"] = pd.cut(final['audienceScore'], bins=num_bins_as, labels=False)\n",
    "    \n",
    "    # Convert runtimeMinutes to categories  \n",
    "#     num_bins_rt = 20\n",
    "    final[\"runtimeBins\"] = pd.cut(final['runtimeMinutes'], bins=[0,75,120,180,565], labels=[4,3,2,1])\n",
    "    \n",
    "    # Convert boxOffice to categories  \n",
    "    num_bins_bo = 5\n",
    "    final[\"boxOfficeBins\"] = pd.cut(final['boxOffice'], bins=num_bins_bo, labels=False)\n",
    "    \n",
    "    # Convert releaseDiff to categories  \n",
    "    num_bins_rd = 5\n",
    "    final[\"releaseDiffBins\"] = pd.cut(final['releaseDiff'], bins=[-1, 180, 360, 1000, 40000], labels=[0, 1, 2, 3])\n",
    "\n",
    "    return final"
   ]
  },
  {
   "cell_type": "code",
   "execution_count": 31,
   "id": "c34ddf05",
   "metadata": {
    "execution": {
     "iopub.execute_input": "2023-08-10T18:52:34.123811Z",
     "iopub.status.busy": "2023-08-10T18:52:34.123084Z",
     "iopub.status.idle": "2023-08-10T18:52:34.130179Z",
     "shell.execute_reply": "2023-08-10T18:52:34.129227Z"
    },
    "papermill": {
     "duration": 0.107452,
     "end_time": "2023-08-10T18:52:34.132737",
     "exception": false,
     "start_time": "2023-08-10T18:52:34.025285",
     "status": "completed"
    },
    "tags": []
   },
   "outputs": [],
   "source": [
    "def split_train_predict(features, labels, pipeline, test_size=0.25, random_state=42):\n",
    "    # cols = features.columns\n",
    "    if len(features.shape) == 1:\n",
    "        features = features.to_numpy().reshape(-1, 1)  # reshape to 2D array\n",
    "    features = pd.DataFrame(features)\n",
    "    X_train, X_test, y_train, y_test = train_test_split(features, labels, test_size=test_size, random_state=random_state)\n",
    "    pipeline.fit(X_train, y_train)\n",
    "    y_pred = pipeline.predict(X_test)\n",
    "    print(classification_report(y_test, y_pred))\n",
    "    print(confusion_matrix(y_test, y_pred))\n",
    "    return pipeline"
   ]
  },
  {
   "cell_type": "markdown",
   "id": "b19fdce1",
   "metadata": {
    "papermill": {
     "duration": 0.097973,
     "end_time": "2023-08-10T18:52:34.328084",
     "exception": false,
     "start_time": "2023-08-10T18:52:34.230111",
     "status": "completed"
    },
    "tags": []
   },
   "source": [
    "### Merge \"train.csv\" file with \"movies.csv\" file  "
   ]
  },
  {
   "cell_type": "code",
   "execution_count": 32,
   "id": "9207e69e",
   "metadata": {
    "execution": {
     "iopub.execute_input": "2023-08-10T18:52:34.524612Z",
     "iopub.status.busy": "2023-08-10T18:52:34.523897Z",
     "iopub.status.idle": "2023-08-10T18:52:50.082428Z",
     "shell.execute_reply": "2023-08-10T18:52:50.081134Z"
    },
    "papermill": {
     "duration": 15.661049,
     "end_time": "2023-08-10T18:52:50.085924",
     "exception": false,
     "start_time": "2023-08-10T18:52:34.424875",
     "status": "completed"
    },
    "tags": []
   },
   "outputs": [],
   "source": [
    "merged = select_features(load_csv(\"train\"), load_csv(\"movies\"), row_thresh_null=None)"
   ]
  },
  {
   "cell_type": "code",
   "execution_count": 33,
   "id": "1420ffe0",
   "metadata": {
    "execution": {
     "iopub.execute_input": "2023-08-10T18:52:50.282358Z",
     "iopub.status.busy": "2023-08-10T18:52:50.281887Z",
     "iopub.status.idle": "2023-08-10T18:52:50.287971Z",
     "shell.execute_reply": "2023-08-10T18:52:50.286321Z"
    },
    "papermill": {
     "duration": 0.108517,
     "end_time": "2023-08-10T18:52:50.290743",
     "exception": false,
     "start_time": "2023-08-10T18:52:50.182226",
     "status": "completed"
    },
    "tags": []
   },
   "outputs": [],
   "source": [
    "# inspect(merged)    # Note missing values in ['audienceScore', 'runtimeMinutes', 'boxOffice'] columns  "
   ]
  },
  {
   "cell_type": "code",
   "execution_count": 34,
   "id": "17e29213",
   "metadata": {
    "execution": {
     "iopub.execute_input": "2023-08-10T18:52:50.491116Z",
     "iopub.status.busy": "2023-08-10T18:52:50.490647Z",
     "iopub.status.idle": "2023-08-10T18:52:50.610293Z",
     "shell.execute_reply": "2023-08-10T18:52:50.608934Z"
    },
    "papermill": {
     "duration": 0.224648,
     "end_time": "2023-08-10T18:52:50.613121",
     "exception": false,
     "start_time": "2023-08-10T18:52:50.388473",
     "status": "completed"
    },
    "tags": []
   },
   "outputs": [
    {
     "data": {
      "text/plain": [
       "array([6.80e+01, 1.04e+02, 1.43e+07])"
      ]
     },
     "execution_count": 34,
     "metadata": {},
     "output_type": "execute_result"
    }
   ],
   "source": [
    "# Simple Imputer for ['audienceScore', 'runtimeMinutes', 'boxOffice'] columns\n",
    "si = SimpleImputer(strategy='median')\n",
    "merged[['audienceScore', 'runtimeMinutes', 'boxOffice']] = si.fit_transform(merged[['audienceScore', 'runtimeMinutes', 'boxOffice']])\n",
    "si.statistics_"
   ]
  },
  {
   "cell_type": "code",
   "execution_count": 35,
   "id": "51b87d0a",
   "metadata": {
    "execution": {
     "iopub.execute_input": "2023-08-10T18:52:50.807424Z",
     "iopub.status.busy": "2023-08-10T18:52:50.806946Z",
     "iopub.status.idle": "2023-08-10T18:52:50.824172Z",
     "shell.execute_reply": "2023-08-10T18:52:50.822821Z"
    },
    "papermill": {
     "duration": 0.118191,
     "end_time": "2023-08-10T18:52:50.827300",
     "exception": false,
     "start_time": "2023-08-10T18:52:50.709109",
     "status": "completed"
    },
    "tags": []
   },
   "outputs": [],
   "source": [
    "# Fill 'releaseDate' column with median  \n",
    "merged['releaseDate'] = merged[\"releaseDate\"].fillna(merged[\"releaseDate\"].median())"
   ]
  },
  {
   "cell_type": "code",
   "execution_count": 36,
   "id": "3a1410ca",
   "metadata": {
    "execution": {
     "iopub.execute_input": "2023-08-10T18:52:51.027419Z",
     "iopub.status.busy": "2023-08-10T18:52:51.026998Z",
     "iopub.status.idle": "2023-08-10T18:52:52.530510Z",
     "shell.execute_reply": "2023-08-10T18:52:52.528660Z"
    },
    "papermill": {
     "duration": 1.609428,
     "end_time": "2023-08-10T18:52:52.534021",
     "exception": false,
     "start_time": "2023-08-10T18:52:50.924593",
     "status": "completed"
    },
    "tags": []
   },
   "outputs": [
    {
     "name": "stdout",
     "output_type": "stream",
     "text": [
      "Shape of the dataframe: (162758, 30)\n",
      "\n",
      "Columns in the dataframe:\n",
      "Index(['movieid', 'reviewerName', 'isFrequentReviewer', 'reviewText',\n",
      "       'sentiment', 'title', 'audienceScore', 'rating', 'ratingContents',\n",
      "       'releaseDateTheaters', 'releaseDateStreaming', 'runtimeMinutes',\n",
      "       'genre', 'originalLanguage', 'director', 'boxOffice', 'distributor',\n",
      "       'soundType', 'reviewYN', 'reviewWC', 'genreSorted', 'rcSorted',\n",
      "       'releaseDate', 'releaseYear', 'releaseMonth', 'releaseDiff',\n",
      "       'audScoreBins', 'runtimeBins', 'boxOfficeBins', 'releaseDiffBins'],\n",
      "      dtype='object')\n",
      "\n",
      "<class 'pandas.core.frame.DataFrame'>\n",
      "Int64Index: 162758 entries, 0 to 162757\n",
      "Data columns (total 30 columns):\n",
      " #   Column                Non-Null Count   Dtype         \n",
      "---  ------                --------------   -----         \n",
      " 0   movieid               162758 non-null  object        \n",
      " 1   reviewerName          162758 non-null  object        \n",
      " 2   isFrequentReviewer    162758 non-null  bool          \n",
      " 3   reviewText            162758 non-null  object        \n",
      " 4   sentiment             162758 non-null  object        \n",
      " 5   title                 162758 non-null  object        \n",
      " 6   audienceScore         162758 non-null  float64       \n",
      " 7   rating                162758 non-null  object        \n",
      " 8   ratingContents        162758 non-null  object        \n",
      " 9   releaseDateTheaters   146403 non-null  datetime64[ns]\n",
      " 10  releaseDateStreaming  157353 non-null  datetime64[ns]\n",
      " 11  runtimeMinutes        162758 non-null  float64       \n",
      " 12  genre                 162758 non-null  object        \n",
      " 13  originalLanguage      162758 non-null  object        \n",
      " 14  director              162758 non-null  object        \n",
      " 15  boxOffice             162758 non-null  float64       \n",
      " 16  distributor           162758 non-null  object        \n",
      " 17  soundType             93466 non-null   object        \n",
      " 18  reviewYN              162758 non-null  int64         \n",
      " 19  reviewWC              162758 non-null  int64         \n",
      " 20  genreSorted           162758 non-null  object        \n",
      " 21  rcSorted              162758 non-null  object        \n",
      " 22  releaseDate           162758 non-null  datetime64[ns]\n",
      " 23  releaseYear           143073 non-null  float64       \n",
      " 24  releaseMonth          143073 non-null  float64       \n",
      " 25  releaseDiff           162758 non-null  float64       \n",
      " 26  audScoreBins          159922 non-null  float64       \n",
      " 27  runtimeBins           162016 non-null  category      \n",
      " 28  boxOfficeBins         130581 non-null  float64       \n",
      " 29  releaseDiffBins       162758 non-null  category      \n",
      "dtypes: bool(1), category(2), datetime64[ns](3), float64(8), int64(2), object(14)\n",
      "memory usage: 35.2+ MB\n",
      "None\n",
      "\n",
      "Missing values:\n",
      "movieid                     0\n",
      "reviewerName                0\n",
      "isFrequentReviewer          0\n",
      "reviewText                  0\n",
      "sentiment                   0\n",
      "title                       0\n",
      "audienceScore               0\n",
      "rating                      0\n",
      "ratingContents              0\n",
      "releaseDateTheaters     16355\n",
      "releaseDateStreaming     5405\n",
      "runtimeMinutes              0\n",
      "genre                       0\n",
      "originalLanguage            0\n",
      "director                    0\n",
      "boxOffice                   0\n",
      "distributor                 0\n",
      "soundType               69292\n",
      "reviewYN                    0\n",
      "reviewWC                    0\n",
      "genreSorted                 0\n",
      "rcSorted                    0\n",
      "releaseDate                 0\n",
      "releaseYear             19685\n",
      "releaseMonth            19685\n",
      "releaseDiff                 0\n",
      "audScoreBins             2836\n",
      "runtimeBins               742\n",
      "boxOfficeBins           32177\n",
      "releaseDiffBins             0\n",
      "dtype: int64\n"
     ]
    }
   ],
   "source": [
    "# Check out 'merged' df after imputation  \n",
    "inspect(merged)"
   ]
  },
  {
   "cell_type": "code",
   "execution_count": 37,
   "id": "c464f1a3",
   "metadata": {
    "execution": {
     "iopub.execute_input": "2023-08-10T18:52:52.753786Z",
     "iopub.status.busy": "2023-08-10T18:52:52.753229Z",
     "iopub.status.idle": "2023-08-10T18:52:52.838497Z",
     "shell.execute_reply": "2023-08-10T18:52:52.836944Z"
    },
    "papermill": {
     "duration": 0.210969,
     "end_time": "2023-08-10T18:52:52.842261",
     "exception": false,
     "start_time": "2023-08-10T18:52:52.631292",
     "status": "completed"
    },
    "tags": []
   },
   "outputs": [
    {
     "data": {
      "text/html": [
       "<div>\n",
       "<style scoped>\n",
       "    .dataframe tbody tr th:only-of-type {\n",
       "        vertical-align: middle;\n",
       "    }\n",
       "\n",
       "    .dataframe tbody tr th {\n",
       "        vertical-align: top;\n",
       "    }\n",
       "\n",
       "    .dataframe thead th {\n",
       "        text-align: right;\n",
       "    }\n",
       "</style>\n",
       "<table border=\"1\" class=\"dataframe\">\n",
       "  <thead>\n",
       "    <tr style=\"text-align: right;\">\n",
       "      <th></th>\n",
       "      <th>audienceScore</th>\n",
       "      <th>runtimeMinutes</th>\n",
       "      <th>boxOffice</th>\n",
       "    </tr>\n",
       "  </thead>\n",
       "  <tbody>\n",
       "    <tr>\n",
       "      <th>count</th>\n",
       "      <td>162758.000000</td>\n",
       "      <td>162758.000000</td>\n",
       "      <td>1.627580e+05</td>\n",
       "    </tr>\n",
       "    <tr>\n",
       "      <th>mean</th>\n",
       "      <td>65.062565</td>\n",
       "      <td>106.992019</td>\n",
       "      <td>4.160983e+07</td>\n",
       "    </tr>\n",
       "    <tr>\n",
       "      <th>std</th>\n",
       "      <td>19.844000</td>\n",
       "      <td>22.203778</td>\n",
       "      <td>7.932291e+07</td>\n",
       "    </tr>\n",
       "    <tr>\n",
       "      <th>min</th>\n",
       "      <td>0.000000</td>\n",
       "      <td>4.000000</td>\n",
       "      <td>0.000000e+00</td>\n",
       "    </tr>\n",
       "    <tr>\n",
       "      <th>25%</th>\n",
       "      <td>51.000000</td>\n",
       "      <td>93.000000</td>\n",
       "      <td>2.000000e+06</td>\n",
       "    </tr>\n",
       "    <tr>\n",
       "      <th>50%</th>\n",
       "      <td>68.000000</td>\n",
       "      <td>104.000000</td>\n",
       "      <td>1.430000e+07</td>\n",
       "    </tr>\n",
       "    <tr>\n",
       "      <th>75%</th>\n",
       "      <td>81.000000</td>\n",
       "      <td>118.000000</td>\n",
       "      <td>4.200000e+07</td>\n",
       "    </tr>\n",
       "    <tr>\n",
       "      <th>max</th>\n",
       "      <td>100.000000</td>\n",
       "      <td>561.000000</td>\n",
       "      <td>8.584000e+08</td>\n",
       "    </tr>\n",
       "  </tbody>\n",
       "</table>\n",
       "</div>"
      ],
      "text/plain": [
       "       audienceScore  runtimeMinutes     boxOffice\n",
       "count  162758.000000   162758.000000  1.627580e+05\n",
       "mean       65.062565      106.992019  4.160983e+07\n",
       "std        19.844000       22.203778  7.932291e+07\n",
       "min         0.000000        4.000000  0.000000e+00\n",
       "25%        51.000000       93.000000  2.000000e+06\n",
       "50%        68.000000      104.000000  1.430000e+07\n",
       "75%        81.000000      118.000000  4.200000e+07\n",
       "max       100.000000      561.000000  8.584000e+08"
      ]
     },
     "execution_count": 37,
     "metadata": {},
     "output_type": "execute_result"
    }
   ],
   "source": [
    "merged[['audienceScore', 'runtimeMinutes', 'boxOffice']].describe()"
   ]
  },
  {
   "cell_type": "markdown",
   "id": "7fbd5740",
   "metadata": {
    "papermill": {
     "duration": 0.10789,
     "end_time": "2023-08-10T18:52:53.054845",
     "exception": false,
     "start_time": "2023-08-10T18:52:52.946955",
     "status": "completed"
    },
    "tags": []
   },
   "source": [
    "### EDA releaseDiff  "
   ]
  },
  {
   "cell_type": "code",
   "execution_count": 38,
   "id": "9b1cf598",
   "metadata": {
    "execution": {
     "iopub.execute_input": "2023-08-10T18:52:53.270581Z",
     "iopub.status.busy": "2023-08-10T18:52:53.269975Z",
     "iopub.status.idle": "2023-08-10T18:52:53.295974Z",
     "shell.execute_reply": "2023-08-10T18:52:53.294645Z"
    },
    "papermill": {
     "duration": 0.128485,
     "end_time": "2023-08-10T18:52:53.298461",
     "exception": false,
     "start_time": "2023-08-10T18:52:53.169976",
     "status": "completed"
    },
    "tags": []
   },
   "outputs": [
    {
     "data": {
      "text/plain": [
       "count    162758.000000\n",
       "mean       1653.469015\n",
       "std        4581.420922\n",
       "min           0.000000\n",
       "25%          65.000000\n",
       "50%         116.000000\n",
       "75%         375.000000\n",
       "max       38922.000000\n",
       "Name: releaseDiff, dtype: float64"
      ]
     },
     "execution_count": 38,
     "metadata": {},
     "output_type": "execute_result"
    }
   ],
   "source": [
    "# abs values\n",
    "merged[\"releaseDiff\"].describe()"
   ]
  },
  {
   "cell_type": "code",
   "execution_count": 39,
   "id": "369152a7",
   "metadata": {
    "execution": {
     "iopub.execute_input": "2023-08-10T18:52:53.501006Z",
     "iopub.status.busy": "2023-08-10T18:52:53.500493Z",
     "iopub.status.idle": "2023-08-10T18:52:53.512513Z",
     "shell.execute_reply": "2023-08-10T18:52:53.511360Z"
    },
    "papermill": {
     "duration": 0.117548,
     "end_time": "2023-08-10T18:52:53.514948",
     "exception": false,
     "start_time": "2023-08-10T18:52:53.397400",
     "status": "completed"
    },
    "tags": []
   },
   "outputs": [
    {
     "data": {
      "text/plain": [
       "0    111750\n",
       "3     32557\n",
       "1      9920\n",
       "2      8531\n",
       "Name: releaseDiffBins, dtype: int64"
      ]
     },
     "execution_count": 39,
     "metadata": {},
     "output_type": "execute_result"
    }
   ],
   "source": [
    "merged['releaseDiffBins'].value_counts()"
   ]
  },
  {
   "cell_type": "code",
   "execution_count": 40,
   "id": "d903b18a",
   "metadata": {
    "execution": {
     "iopub.execute_input": "2023-08-10T18:52:53.711522Z",
     "iopub.status.busy": "2023-08-10T18:52:53.709799Z",
     "iopub.status.idle": "2023-08-10T18:52:54.117791Z",
     "shell.execute_reply": "2023-08-10T18:52:54.116490Z"
    },
    "papermill": {
     "duration": 0.509338,
     "end_time": "2023-08-10T18:52:54.120510",
     "exception": false,
     "start_time": "2023-08-10T18:52:53.611172",
     "status": "completed"
    },
    "tags": []
   },
   "outputs": [
    {
     "data": {
      "text/plain": [
       "<Axes: xlabel='sentiment', ylabel='releaseDiff'>"
      ]
     },
     "execution_count": 40,
     "metadata": {},
     "output_type": "execute_result"
    },
    {
     "data": {
      "image/png": "[encoded data removed]",
      "text/plain": [
       "<Figure size 640x480 with 1 Axes>"
      ]
     },
     "metadata": {},
     "output_type": "display_data"
    }
   ],
   "source": [
    "sns.boxplot(x=merged['sentiment'], y=merged['releaseDiff'], showfliers=False)"
   ]
  },
  {
   "cell_type": "code",
   "execution_count": 41,
   "id": "0d9b0832",
   "metadata": {
    "execution": {
     "iopub.execute_input": "2023-08-10T18:52:54.321719Z",
     "iopub.status.busy": "2023-08-10T18:52:54.321207Z",
     "iopub.status.idle": "2023-08-10T18:52:55.088526Z",
     "shell.execute_reply": "2023-08-10T18:52:55.087006Z"
    },
    "papermill": {
     "duration": 0.869198,
     "end_time": "2023-08-10T18:52:55.091503",
     "exception": false,
     "start_time": "2023-08-10T18:52:54.222305",
     "status": "completed"
    },
    "tags": []
   },
   "outputs": [
    {
     "data": {
      "text/plain": [
       "<seaborn.axisgrid.FacetGrid at 0x7be0724065f0>"
      ]
     },
     "execution_count": 41,
     "metadata": {},
     "output_type": "execute_result"
    },
    {
     "data": {
      "image/png": "[encoded data removed]",
      "text/plain": [
       "<Figure size 500x500 with 1 Axes>"
      ]
     },
     "metadata": {},
     "output_type": "display_data"
    }
   ],
   "source": [
    "sns.displot(merged['releaseDiffBins'])"
   ]
  },
  {
   "cell_type": "code",
   "execution_count": 42,
   "id": "e9125a23",
   "metadata": {
    "execution": {
     "iopub.execute_input": "2023-08-10T18:52:55.291153Z",
     "iopub.status.busy": "2023-08-10T18:52:55.290656Z",
     "iopub.status.idle": "2023-08-10T18:52:55.311004Z",
     "shell.execute_reply": "2023-08-10T18:52:55.309863Z"
    },
    "papermill": {
     "duration": 0.121643,
     "end_time": "2023-08-10T18:52:55.313586",
     "exception": false,
     "start_time": "2023-08-10T18:52:55.191943",
     "status": "completed"
    },
    "tags": []
   },
   "outputs": [
    {
     "data": {
      "text/plain": [
       "POSITIVE    34446\n",
       "NEGATIVE    16562\n",
       "Name: sentiment, dtype: int64"
      ]
     },
     "execution_count": 42,
     "metadata": {},
     "output_type": "execute_result"
    }
   ],
   "source": [
    "merged['sentiment'].loc[merged['releaseDiffBins'] > 0].value_counts()"
   ]
  },
  {
   "cell_type": "code",
   "execution_count": 43,
   "id": "9f707f12",
   "metadata": {
    "execution": {
     "iopub.execute_input": "2023-08-10T18:52:55.513308Z",
     "iopub.status.busy": "2023-08-10T18:52:55.512381Z",
     "iopub.status.idle": "2023-08-10T18:52:55.525178Z",
     "shell.execute_reply": "2023-08-10T18:52:55.523852Z"
    },
    "papermill": {
     "duration": 0.115799,
     "end_time": "2023-08-10T18:52:55.527812",
     "exception": false,
     "start_time": "2023-08-10T18:52:55.412013",
     "status": "completed"
    },
    "tags": []
   },
   "outputs": [
    {
     "data": {
      "text/plain": [
       "count     162758\n",
       "unique         4\n",
       "top            0\n",
       "freq      111750\n",
       "Name: releaseDiffBins, dtype: int64"
      ]
     },
     "execution_count": 43,
     "metadata": {},
     "output_type": "execute_result"
    }
   ],
   "source": [
    "merged['releaseDiffBins'].describe()"
   ]
  },
  {
   "cell_type": "markdown",
   "id": "56341f03",
   "metadata": {
    "papermill": {
     "duration": 0.095575,
     "end_time": "2023-08-10T18:52:55.720405",
     "exception": false,
     "start_time": "2023-08-10T18:52:55.624830",
     "status": "completed"
    },
    "tags": []
   },
   "source": [
    "### EDA 'distributor'  "
   ]
  },
  {
   "cell_type": "code",
   "execution_count": 44,
   "id": "4abbe18e",
   "metadata": {
    "execution": {
     "iopub.execute_input": "2023-08-10T18:52:55.986276Z",
     "iopub.status.busy": "2023-08-10T18:52:55.985306Z",
     "iopub.status.idle": "2023-08-10T18:52:56.033293Z",
     "shell.execute_reply": "2023-08-10T18:52:56.032255Z"
    },
    "papermill": {
     "duration": 0.148488,
     "end_time": "2023-08-10T18:52:56.036174",
     "exception": false,
     "start_time": "2023-08-10T18:52:55.887686",
     "status": "completed"
    },
    "tags": []
   },
   "outputs": [
    {
     "data": {
      "text/plain": [
       "unknown                              20489\n",
       "Universal Pictures                    8847\n",
       "Warner Bros. Pictures                 8722\n",
       "Paramount Pictures                    7773\n",
       "20th Century Fox                      7007\n",
       "                                     ...  \n",
       "Almi Pictures                            1\n",
       "Koch Lorber                              1\n",
       "Magic Lamp                               1\n",
       "Fine Line Features, Miramax Films        1\n",
       "American Film Co.                        1\n",
       "Name: distributor, Length: 1796, dtype: int64"
      ]
     },
     "execution_count": 44,
     "metadata": {},
     "output_type": "execute_result"
    }
   ],
   "source": [
    "merged[\"distributor\"].value_counts()"
   ]
  },
  {
   "cell_type": "code",
   "execution_count": 45,
   "id": "5af4e2ce",
   "metadata": {
    "execution": {
     "iopub.execute_input": "2023-08-10T18:52:56.238948Z",
     "iopub.status.busy": "2023-08-10T18:52:56.238482Z",
     "iopub.status.idle": "2023-08-10T18:52:56.258872Z",
     "shell.execute_reply": "2023-08-10T18:52:56.257647Z"
    },
    "papermill": {
     "duration": 0.123789,
     "end_time": "2023-08-10T18:52:56.261492",
     "exception": false,
     "start_time": "2023-08-10T18:52:56.137703",
     "status": "completed"
    },
    "tags": []
   },
   "outputs": [
    {
     "data": {
      "text/plain": [
       "count    162758.000000\n",
       "mean        106.992019\n",
       "std          22.203778\n",
       "min           4.000000\n",
       "25%          93.000000\n",
       "50%         104.000000\n",
       "75%         118.000000\n",
       "max         561.000000\n",
       "Name: runtimeMinutes, dtype: float64"
      ]
     },
     "execution_count": 45,
     "metadata": {},
     "output_type": "execute_result"
    }
   ],
   "source": [
    "merged[\"runtimeMinutes\"].describe()"
   ]
  },
  {
   "cell_type": "code",
   "execution_count": 46,
   "id": "e7d7f607",
   "metadata": {
    "execution": {
     "iopub.execute_input": "2023-08-10T18:52:56.466048Z",
     "iopub.status.busy": "2023-08-10T18:52:56.465612Z",
     "iopub.status.idle": "2023-08-10T18:52:56.890650Z",
     "shell.execute_reply": "2023-08-10T18:52:56.889480Z"
    },
    "papermill": {
     "duration": 0.530632,
     "end_time": "2023-08-10T18:52:56.893028",
     "exception": false,
     "start_time": "2023-08-10T18:52:56.362396",
     "status": "completed"
    },
    "tags": []
   },
   "outputs": [
    {
     "data": {
      "text/plain": [
       "<Axes: xlabel='sentiment', ylabel='runtimeMinutes'>"
      ]
     },
     "execution_count": 46,
     "metadata": {},
     "output_type": "execute_result"
    },
    {
     "data": {
      "image/png": "[encoded data removed]",
      "text/plain": [
       "<Figure size 640x480 with 1 Axes>"
      ]
     },
     "metadata": {},
     "output_type": "display_data"
    }
   ],
   "source": [
    "sns.boxplot(y=merged[\"runtimeMinutes\"], x=merged[\"sentiment\"])"
   ]
  },
  {
   "cell_type": "code",
   "execution_count": 47,
   "id": "ce2460e8",
   "metadata": {
    "execution": {
     "iopub.execute_input": "2023-08-10T18:52:57.105474Z",
     "iopub.status.busy": "2023-08-10T18:52:57.104722Z",
     "iopub.status.idle": "2023-08-10T18:52:57.786713Z",
     "shell.execute_reply": "2023-08-10T18:52:57.785614Z"
    },
    "papermill": {
     "duration": 0.797495,
     "end_time": "2023-08-10T18:52:57.789977",
     "exception": false,
     "start_time": "2023-08-10T18:52:56.992482",
     "status": "completed"
    },
    "tags": []
   },
   "outputs": [
    {
     "name": "stdout",
     "output_type": "stream",
     "text": [
      "0.0    121579\n",
      "1.0      6474\n",
      "2.0      1819\n",
      "3.0       433\n",
      "4.0       276\n",
      "Name: boxOfficeBins, dtype: int64\n"
     ]
    },
    {
     "data": {
      "text/plain": [
       "<seaborn.axisgrid.FacetGrid at 0x7be070e71b10>"
      ]
     },
     "execution_count": 47,
     "metadata": {},
     "output_type": "execute_result"
    },
    {
     "data": {
      "image/png": "[encoded data removed]",
      "text/plain": [
       "<Figure size 500x500 with 1 Axes>"
      ]
     },
     "metadata": {},
     "output_type": "display_data"
    }
   ],
   "source": [
    "print(merged[\"boxOfficeBins\"].value_counts())\n",
    "sns.displot(merged[\"boxOfficeBins\"])"
   ]
  },
  {
   "cell_type": "code",
   "execution_count": 48,
   "id": "23a374f3",
   "metadata": {
    "execution": {
     "iopub.execute_input": "2023-08-10T18:52:57.990163Z",
     "iopub.status.busy": "2023-08-10T18:52:57.989716Z",
     "iopub.status.idle": "2023-08-10T18:52:57.999160Z",
     "shell.execute_reply": "2023-08-10T18:52:57.997884Z"
    },
    "papermill": {
     "duration": 0.11229,
     "end_time": "2023-08-10T18:52:58.001495",
     "exception": false,
     "start_time": "2023-08-10T18:52:57.889205",
     "status": "completed"
    },
    "tags": []
   },
   "outputs": [
    {
     "data": {
      "text/plain": [
       "0    Henry Selick’s first movie since ’s Coraline. ...\n",
       "1    With a cast that reads like the Vogue Oscar pa...\n",
       "2    Creed II does not give us anything but another...\n",
       "3    I know what you're thinking, but this is no Li...\n",
       "4    Director Fernando Meirelles tells the story wi...\n",
       "Name: reviewText, dtype: object"
      ]
     },
     "execution_count": 48,
     "metadata": {},
     "output_type": "execute_result"
    }
   ],
   "source": [
    "merged[\"reviewText\"].head()"
   ]
  },
  {
   "cell_type": "code",
   "execution_count": 49,
   "id": "a2175592",
   "metadata": {
    "execution": {
     "iopub.execute_input": "2023-08-10T18:52:58.209687Z",
     "iopub.status.busy": "2023-08-10T18:52:58.208528Z",
     "iopub.status.idle": "2023-08-10T18:52:58.216932Z",
     "shell.execute_reply": "2023-08-10T18:52:58.215919Z"
    },
    "papermill": {
     "duration": 0.11428,
     "end_time": "2023-08-10T18:52:58.219402",
     "exception": false,
     "start_time": "2023-08-10T18:52:58.105122",
     "status": "completed"
    },
    "tags": []
   },
   "outputs": [
    {
     "data": {
      "text/plain": [
       "6447"
      ]
     },
     "execution_count": 49,
     "metadata": {},
     "output_type": "execute_result"
    }
   ],
   "source": [
    "merged[\"reviewYN\"].sum()"
   ]
  },
  {
   "cell_type": "code",
   "execution_count": 50,
   "id": "f28e72ed",
   "metadata": {
    "execution": {
     "iopub.execute_input": "2023-08-10T18:52:58.422459Z",
     "iopub.status.busy": "2023-08-10T18:52:58.421357Z",
     "iopub.status.idle": "2023-08-10T18:52:58.429943Z",
     "shell.execute_reply": "2023-08-10T18:52:58.428947Z"
    },
    "papermill": {
     "duration": 0.112202,
     "end_time": "2023-08-10T18:52:58.432269",
     "exception": false,
     "start_time": "2023-08-10T18:52:58.320067",
     "status": "completed"
    },
    "tags": []
   },
   "outputs": [
    {
     "data": {
      "text/plain": [
       "0    11\n",
       "1    24\n",
       "2    22\n",
       "3    34\n",
       "4    20\n",
       "Name: reviewWC, dtype: int64"
      ]
     },
     "execution_count": 50,
     "metadata": {},
     "output_type": "execute_result"
    }
   ],
   "source": [
    "merged[\"reviewWC\"].head()"
   ]
  },
  {
   "cell_type": "code",
   "execution_count": 51,
   "id": "c25de9cb",
   "metadata": {
    "execution": {
     "iopub.execute_input": "2023-08-10T18:52:58.643588Z",
     "iopub.status.busy": "2023-08-10T18:52:58.643181Z",
     "iopub.status.idle": "2023-08-10T18:52:58.660011Z",
     "shell.execute_reply": "2023-08-10T18:52:58.659119Z"
    },
    "papermill": {
     "duration": 0.124478,
     "end_time": "2023-08-10T18:52:58.662180",
     "exception": false,
     "start_time": "2023-08-10T18:52:58.537702",
     "status": "completed"
    },
    "tags": []
   },
   "outputs": [
    {
     "data": {
      "text/plain": [
       "count    162758.000000\n",
       "mean         21.013707\n",
       "std          10.216532\n",
       "min           1.000000\n",
       "25%          14.000000\n",
       "50%          21.000000\n",
       "75%          28.000000\n",
       "max          54.000000\n",
       "Name: reviewWC, dtype: float64"
      ]
     },
     "execution_count": 51,
     "metadata": {},
     "output_type": "execute_result"
    }
   ],
   "source": [
    "merged[\"reviewWC\"].describe()"
   ]
  },
  {
   "cell_type": "code",
   "execution_count": 52,
   "id": "7b9745f6",
   "metadata": {
    "execution": {
     "iopub.execute_input": "2023-08-10T18:52:58.866464Z",
     "iopub.status.busy": "2023-08-10T18:52:58.866001Z",
     "iopub.status.idle": "2023-08-10T18:52:59.732027Z",
     "shell.execute_reply": "2023-08-10T18:52:59.730784Z"
    },
    "papermill": {
     "duration": 0.971505,
     "end_time": "2023-08-10T18:52:59.734921",
     "exception": false,
     "start_time": "2023-08-10T18:52:58.763416",
     "status": "completed"
    },
    "tags": []
   },
   "outputs": [
    {
     "data": {
      "text/plain": [
       "<Axes: xlabel='reviewWC', ylabel='Count'>"
      ]
     },
     "execution_count": 52,
     "metadata": {},
     "output_type": "execute_result"
    },
    {
     "data": {
      "image/png": "[encoded data removed]",
      "text/plain": [
       "<Figure size 640x480 with 1 Axes>"
      ]
     },
     "metadata": {},
     "output_type": "display_data"
    }
   ],
   "source": [
    "sns.histplot(merged[\"reviewWC\"])"
   ]
  },
  {
   "cell_type": "code",
   "execution_count": 53,
   "id": "609c8f12",
   "metadata": {
    "execution": {
     "iopub.execute_input": "2023-08-10T18:52:59.938486Z",
     "iopub.status.busy": "2023-08-10T18:52:59.937265Z",
     "iopub.status.idle": "2023-08-10T18:52:59.971044Z",
     "shell.execute_reply": "2023-08-10T18:52:59.969822Z"
    },
    "papermill": {
     "duration": 0.136781,
     "end_time": "2023-08-10T18:52:59.973584",
     "exception": false,
     "start_time": "2023-08-10T18:52:59.836803",
     "status": "completed"
    },
    "tags": []
   },
   "outputs": [
    {
     "data": {
      "text/plain": [
       "R          60248\n",
       "unknown    44587\n",
       "PG-13      42697\n",
       "PG         13669\n",
       "TV14         947\n",
       "NC-17        285\n",
       "TVPG         281\n",
       "TVMA          44\n",
       "Name: rating, dtype: int64"
      ]
     },
     "execution_count": 53,
     "metadata": {},
     "output_type": "execute_result"
    }
   ],
   "source": [
    "merged['rating'].value_counts()"
   ]
  },
  {
   "cell_type": "code",
   "execution_count": 54,
   "id": "07f63e05",
   "metadata": {
    "execution": {
     "iopub.execute_input": "2023-08-10T18:53:00.183388Z",
     "iopub.status.busy": "2023-08-10T18:53:00.182957Z",
     "iopub.status.idle": "2023-08-10T18:53:00.193718Z",
     "shell.execute_reply": "2023-08-10T18:53:00.192361Z"
    },
    "papermill": {
     "duration": 0.118878,
     "end_time": "2023-08-10T18:53:00.196727",
     "exception": false,
     "start_time": "2023-08-10T18:53:00.077849",
     "status": "completed"
    },
    "tags": []
   },
   "outputs": [
    {
     "data": {
      "text/plain": [
       "False    113189\n",
       "True      49569\n",
       "Name: isFrequentReviewer, dtype: int64"
      ]
     },
     "execution_count": 54,
     "metadata": {},
     "output_type": "execute_result"
    }
   ],
   "source": [
    "merged['isFrequentReviewer'].value_counts()"
   ]
  },
  {
   "cell_type": "code",
   "execution_count": 55,
   "id": "577ebe08",
   "metadata": {
    "execution": {
     "iopub.execute_input": "2023-08-10T18:53:00.399767Z",
     "iopub.status.busy": "2023-08-10T18:53:00.399030Z",
     "iopub.status.idle": "2023-08-10T18:53:00.408676Z",
     "shell.execute_reply": "2023-08-10T18:53:00.407481Z"
    },
    "papermill": {
     "duration": 0.114487,
     "end_time": "2023-08-10T18:53:00.411157",
     "exception": false,
     "start_time": "2023-08-10T18:53:00.296670",
     "status": "completed"
    },
    "tags": []
   },
   "outputs": [
    {
     "data": {
      "text/plain": [
       "0      Benjamin Henry\n",
       "1       Felicia Lopez\n",
       "2     Charles Burgess\n",
       "3        Ryan Barrett\n",
       "4    Alexander Glover\n",
       "Name: reviewerName, dtype: object"
      ]
     },
     "execution_count": 55,
     "metadata": {},
     "output_type": "execute_result"
    }
   ],
   "source": [
    "merged[\"reviewerName\"].head()"
   ]
  },
  {
   "cell_type": "code",
   "execution_count": 56,
   "id": "b1f1c699",
   "metadata": {
    "execution": {
     "iopub.execute_input": "2023-08-10T18:53:00.618500Z",
     "iopub.status.busy": "2023-08-10T18:53:00.618021Z",
     "iopub.status.idle": "2023-08-10T18:53:00.634263Z",
     "shell.execute_reply": "2023-08-10T18:53:00.632948Z"
    },
    "papermill": {
     "duration": 0.124087,
     "end_time": "2023-08-10T18:53:00.637087",
     "exception": false,
     "start_time": "2023-08-10T18:53:00.513000",
     "status": "completed"
    },
    "tags": []
   },
   "outputs": [
    {
     "data": {
      "text/plain": [
       "14300000.0    32327\n",
       "2000000.0       922\n",
       "1100000.0       891\n",
       "1000000.0       834\n",
       "1200000.0       802\n",
       "              ...  \n",
       "58500.0           1\n",
       "500800.0          1\n",
       "265600.0          1\n",
       "292500.0          1\n",
       "799400.0          1\n",
       "Name: boxOffice, Length: 3819, dtype: int64"
      ]
     },
     "execution_count": 56,
     "metadata": {},
     "output_type": "execute_result"
    }
   ],
   "source": [
    "merged['boxOffice'].value_counts()"
   ]
  },
  {
   "cell_type": "code",
   "execution_count": 57,
   "id": "8207456b",
   "metadata": {
    "execution": {
     "iopub.execute_input": "2023-08-10T18:53:00.838628Z",
     "iopub.status.busy": "2023-08-10T18:53:00.838119Z",
     "iopub.status.idle": "2023-08-10T18:53:00.844060Z",
     "shell.execute_reply": "2023-08-10T18:53:00.842634Z"
    },
    "papermill": {
     "duration": 0.109645,
     "end_time": "2023-08-10T18:53:00.846571",
     "exception": false,
     "start_time": "2023-08-10T18:53:00.736926",
     "status": "completed"
    },
    "tags": []
   },
   "outputs": [],
   "source": [
    "# Check correlation between 'boxOffice' and ''sentiment'\n",
    "# bo_df = merged.copy()\n",
    "# print(bo_df[\"boxOffice\"])\n",
    "# bo_df[\"boxOffice\"] = bo_df[\"boxOffice\"].str[1:]\n",
    "# bo_df[\"boxOffice\"] = bo_df[\"boxOffice\"].replace(to_replace={\"M\": \"*1000000\", \"K\": \"*1000\"}, regex=True)\n",
    "# bo_df[\"boxOffice\"] = bo_df[\"boxOffice\"].loc[bo_df[\"boxOffice\"].notnull()].apply(lambda x: eval(str(x)))\n",
    "# bo_df[\"boxOffice\"] = bo_df[\"boxOffice\"].fillna(bo_df[\"boxOffice\"].median())\n",
    "# bo_df[\"boxOffice\"].describe()"
   ]
  },
  {
   "cell_type": "code",
   "execution_count": 58,
   "id": "f92e3e86",
   "metadata": {
    "execution": {
     "iopub.execute_input": "2023-08-10T18:53:01.053299Z",
     "iopub.status.busy": "2023-08-10T18:53:01.052781Z",
     "iopub.status.idle": "2023-08-10T18:53:01.058872Z",
     "shell.execute_reply": "2023-08-10T18:53:01.057418Z"
    },
    "papermill": {
     "duration": 0.114744,
     "end_time": "2023-08-10T18:53:01.061385",
     "exception": false,
     "start_time": "2023-08-10T18:53:00.946641",
     "status": "completed"
    },
    "tags": []
   },
   "outputs": [],
   "source": [
    "# median = bo_df[\"boxOffice\"].describe()['50%']\n",
    "# iqr = bo_df[\"boxOffice\"].describe()['75%'] - bo_df[\"boxOffice\"].describe()['25%']\n",
    "# median, iqr"
   ]
  },
  {
   "cell_type": "code",
   "execution_count": 59,
   "id": "521136fb",
   "metadata": {
    "execution": {
     "iopub.execute_input": "2023-08-10T18:53:01.269615Z",
     "iopub.status.busy": "2023-08-10T18:53:01.268405Z",
     "iopub.status.idle": "2023-08-10T18:53:01.272905Z",
     "shell.execute_reply": "2023-08-10T18:53:01.272074Z"
    },
    "papermill": {
     "duration": 0.111344,
     "end_time": "2023-08-10T18:53:01.275683",
     "exception": false,
     "start_time": "2023-08-10T18:53:01.164339",
     "status": "completed"
    },
    "tags": []
   },
   "outputs": [],
   "source": [
    "# ll = median - (1.5*iqr)\n",
    "# ul = median + (1.5*iqr)\n",
    "# ll, ul"
   ]
  },
  {
   "cell_type": "code",
   "execution_count": 60,
   "id": "3093dfdc",
   "metadata": {
    "execution": {
     "iopub.execute_input": "2023-08-10T18:53:01.483987Z",
     "iopub.status.busy": "2023-08-10T18:53:01.483529Z",
     "iopub.status.idle": "2023-08-10T18:53:01.487998Z",
     "shell.execute_reply": "2023-08-10T18:53:01.486782Z"
    },
    "papermill": {
     "duration": 0.110897,
     "end_time": "2023-08-10T18:53:01.490488",
     "exception": false,
     "start_time": "2023-08-10T18:53:01.379591",
     "status": "completed"
    },
    "tags": []
   },
   "outputs": [],
   "source": [
    "# bo_df[\"boxOffice\"].mean()"
   ]
  },
  {
   "cell_type": "code",
   "execution_count": 61,
   "id": "03fb647e",
   "metadata": {
    "execution": {
     "iopub.execute_input": "2023-08-10T18:53:01.697382Z",
     "iopub.status.busy": "2023-08-10T18:53:01.696943Z",
     "iopub.status.idle": "2023-08-10T18:53:01.702093Z",
     "shell.execute_reply": "2023-08-10T18:53:01.700787Z"
    },
    "papermill": {
     "duration": 0.110761,
     "end_time": "2023-08-10T18:53:01.704435",
     "exception": false,
     "start_time": "2023-08-10T18:53:01.593674",
     "status": "completed"
    },
    "tags": []
   },
   "outputs": [],
   "source": [
    "# bo_df.loc[bo_df[\"boxOffice\"] > ul, \"boxOffice\"] = median\n",
    "# bo_df[\"boxOffice\"].mean()"
   ]
  },
  {
   "cell_type": "code",
   "execution_count": 62,
   "id": "9da7975f",
   "metadata": {
    "execution": {
     "iopub.execute_input": "2023-08-10T18:53:01.905844Z",
     "iopub.status.busy": "2023-08-10T18:53:01.905362Z",
     "iopub.status.idle": "2023-08-10T18:53:01.911015Z",
     "shell.execute_reply": "2023-08-10T18:53:01.909763Z"
    },
    "papermill": {
     "duration": 0.109063,
     "end_time": "2023-08-10T18:53:01.913501",
     "exception": false,
     "start_time": "2023-08-10T18:53:01.804438",
     "status": "completed"
    },
    "tags": []
   },
   "outputs": [],
   "source": [
    "# bo_df[\"boxOffice\"].min(), bo_df[\"boxOffice\"].max()"
   ]
  },
  {
   "cell_type": "code",
   "execution_count": 63,
   "id": "50560fa0",
   "metadata": {
    "execution": {
     "iopub.execute_input": "2023-08-10T18:53:02.126966Z",
     "iopub.status.busy": "2023-08-10T18:53:02.126282Z",
     "iopub.status.idle": "2023-08-10T18:53:02.131741Z",
     "shell.execute_reply": "2023-08-10T18:53:02.130236Z"
    },
    "papermill": {
     "duration": 0.11576,
     "end_time": "2023-08-10T18:53:02.135104",
     "exception": false,
     "start_time": "2023-08-10T18:53:02.019344",
     "status": "completed"
    },
    "tags": []
   },
   "outputs": [],
   "source": [
    "# sns.boxplot(x=\"sentiment\", y=\"boxOffice\", data=bo_df, showfliers = False)"
   ]
  },
  {
   "cell_type": "markdown",
   "id": "54c5dd4f",
   "metadata": {
    "papermill": {
     "duration": 0.104159,
     "end_time": "2023-08-10T18:53:02.341429",
     "exception": false,
     "start_time": "2023-08-10T18:53:02.237270",
     "status": "completed"
    },
    "tags": []
   },
   "source": [
    "## EDA  "
   ]
  },
  {
   "cell_type": "markdown",
   "id": "cab2475a",
   "metadata": {
    "papermill": {
     "duration": 0.105644,
     "end_time": "2023-08-10T18:53:02.550580",
     "exception": false,
     "start_time": "2023-08-10T18:53:02.444936",
     "status": "completed"
    },
    "tags": []
   },
   "source": [
    "### An interesting finding through exploration  \n",
    "  \n",
    "* OHE and TfidfVectorizer on director column give the same result when ngram_range(2,2) is used (see code below)!"
   ]
  },
  {
   "cell_type": "code",
   "execution_count": 64,
   "id": "245376a9",
   "metadata": {
    "execution": {
     "iopub.execute_input": "2023-08-10T18:53:02.763258Z",
     "iopub.status.busy": "2023-08-10T18:53:02.762855Z",
     "iopub.status.idle": "2023-08-10T18:53:16.927471Z",
     "shell.execute_reply": "2023-08-10T18:53:16.926208Z"
    },
    "papermill": {
     "duration": 14.274757,
     "end_time": "2023-08-10T18:53:16.930481",
     "exception": false,
     "start_time": "2023-08-10T18:53:02.655724",
     "status": "completed"
    },
    "tags": []
   },
   "outputs": [
    {
     "name": "stdout",
     "output_type": "stream",
     "text": [
      "(162758,)\n",
      "9476\n",
      "(162758, 9476) <class 'numpy.ndarray'>\n",
      "(162758,)\n",
      "(162758, 9476) <class 'numpy.ndarray'>\n",
      "True\n"
     ]
    }
   ],
   "source": [
    "# Compare OHE and TfidfVectorizer on director column\n",
    "\n",
    "dirs = merged[\"director\"].copy()\n",
    "print(dirs.shape)\n",
    "dirs_uniq = merged[\"director\"].unique()\n",
    "print(len(dirs_uniq))\n",
    "\n",
    "du_ohe = OneHotEncoder(handle_unknown=\"ignore\", sparse_output=False).fit_transform(dirs.to_numpy().reshape(-1, 1))\n",
    "print(du_ohe.shape, type(du_ohe))\n",
    "\n",
    "dirs_2 = merged[\"director\"].copy()\n",
    "print(dirs_2.shape)\n",
    "du_tfidf = TfidfVectorizer(ngram_range=(2,2)).fit_transform(dirs_2).toarray()\n",
    "print(du_tfidf.shape, type(du_tfidf))\n",
    "\n",
    "print(np.array_equal(du_ohe, du_tfidf))"
   ]
  },
  {
   "cell_type": "code",
   "execution_count": 65,
   "id": "199bf473",
   "metadata": {
    "execution": {
     "iopub.execute_input": "2023-08-10T18:53:17.142394Z",
     "iopub.status.busy": "2023-08-10T18:53:17.141669Z",
     "iopub.status.idle": "2023-08-10T18:53:17.527420Z",
     "shell.execute_reply": "2023-08-10T18:53:17.525935Z"
    },
    "papermill": {
     "duration": 0.491811,
     "end_time": "2023-08-10T18:53:17.530326",
     "exception": false,
     "start_time": "2023-08-10T18:53:17.038515",
     "status": "completed"
    },
    "tags": []
   },
   "outputs": [
    {
     "name": "stdout",
     "output_type": "stream",
     "text": [
      "0       Bennie Basso\n",
      "1         Alma White\n",
      "2       Bobby Oleary\n",
      "3    Eric Hutcherson\n",
      "4         John Trent\n",
      "Name: director, dtype: object\n"
     ]
    },
    {
     "data": {
      "text/plain": [
       "2    162758\n",
       "Name: director, dtype: int64"
      ]
     },
     "execution_count": 65,
     "metadata": {},
     "output_type": "execute_result"
    }
   ],
   "source": [
    "print(dirs.head())\n",
    "d = dirs.copy()\n",
    "d[\"name_len\"] = d.apply(lambda x: len(x.split()))\n",
    "d[\"name_len\"].value_counts()"
   ]
  },
  {
   "cell_type": "code",
   "execution_count": 66,
   "id": "92562f23",
   "metadata": {
    "execution": {
     "iopub.execute_input": "2023-08-10T18:53:17.742478Z",
     "iopub.status.busy": "2023-08-10T18:53:17.741989Z",
     "iopub.status.idle": "2023-08-10T18:53:17.748676Z",
     "shell.execute_reply": "2023-08-10T18:53:17.747478Z"
    },
    "papermill": {
     "duration": 0.11516,
     "end_time": "2023-08-10T18:53:17.751278",
     "exception": false,
     "start_time": "2023-08-10T18:53:17.636118",
     "status": "completed"
    },
    "tags": []
   },
   "outputs": [],
   "source": [
    "# Compare OHE and TfidfVectorizer on reviewerName column\n",
    "# Note: reviewerName column has salutations like \"Mr. \" etc, and some names appear middle names. Therefore needs cleaning\n",
    "\n",
    "# def name_fl(name):\n",
    "#     l = name.split()\n",
    "#     n = ' '.join((l[0], l[-1]))\n",
    "#     return n\n",
    "\n",
    "# reviewers = merged[\"reviewerName\"].copy()\n",
    "# reviewers = pd.DataFrame(reviewers)\n",
    "# reviewers = reviewers.replace({\"Mr. \": \"\", \"Mrs. \": \"\"}, regex=True)\n",
    "# reviewers[\"reviewerName\"] = reviewers[\"reviewerName\"].apply(name_fl)\n",
    "# print(reviewers.shape)\n",
    "\n",
    "# reviewers_uniq = merged[\"reviewerName\"].unique()\n",
    "# print(len(reviewers_uniq))\n",
    "\n",
    "# reviewers_ohe = OneHotEncoder(handle_unknown=\"ignore\", sparse_output=False).fit_transform(reviewers.to_numpy().reshape(-1, 1))\n",
    "# print(reviewers_ohe.shape, type(reviewers_ohe))\n",
    "\n",
    "# reviewers_2 = merged[\"reviewerName\"].copy()\n",
    "# reviewers_2 = pd.DataFrame(reviewers_2)\n",
    "# print(reviewers_2.head())\n",
    "# reviewers_2 = reviewers_2.replace({\"Mr. \": \"\", \"Mrs. \": \"\"}, regex=True)\n",
    "# reviewers_2[\"reviewerName\"] = reviewers_2[\"reviewerName\"].apply(name_fl)\n",
    "# reviewers_2 = reviewers_2.squeeze()\n",
    "# print(reviewers_2.shape)\n",
    "# print(reviewers_2.head())\n",
    "\n",
    "# reviewers_tfidf = TfidfVectorizer(ngram_range=(2,2)).fit_transform(reviewers_2).toarray()\n",
    "# print(reviewers_tfidf.shape, type(reviewers_tfidf))\n",
    "\n",
    "# print(np.array_equal(reviewers_ohe, reviewers_tfidf))"
   ]
  },
  {
   "cell_type": "code",
   "execution_count": 67,
   "id": "46e50176",
   "metadata": {
    "execution": {
     "iopub.execute_input": "2023-08-10T18:53:17.967305Z",
     "iopub.status.busy": "2023-08-10T18:53:17.966856Z",
     "iopub.status.idle": "2023-08-10T18:53:17.972216Z",
     "shell.execute_reply": "2023-08-10T18:53:17.971011Z"
    },
    "papermill": {
     "duration": 0.117577,
     "end_time": "2023-08-10T18:53:17.974904",
     "exception": false,
     "start_time": "2023-08-10T18:53:17.857327",
     "status": "completed"
    },
    "tags": []
   },
   "outputs": [],
   "source": [
    "# def name_fl(name):\n",
    "#     l = name.split()\n",
    "#     n = ' '.join((l[0], l[-1]))\n",
    "#     return n"
   ]
  },
  {
   "cell_type": "code",
   "execution_count": 68,
   "id": "d247e551",
   "metadata": {
    "execution": {
     "iopub.execute_input": "2023-08-10T18:53:18.193180Z",
     "iopub.status.busy": "2023-08-10T18:53:18.192787Z",
     "iopub.status.idle": "2023-08-10T18:53:18.196770Z",
     "shell.execute_reply": "2023-08-10T18:53:18.195930Z"
    },
    "papermill": {
     "duration": 0.11125,
     "end_time": "2023-08-10T18:53:18.198889",
     "exception": false,
     "start_time": "2023-08-10T18:53:18.087639",
     "status": "completed"
    },
    "tags": []
   },
   "outputs": [],
   "source": [
    "# print(reviewers.head())\n",
    "# r = pd.DataFrame(reviewers.copy())\n",
    "# r[\"reviewerName\"] = r[\"reviewerName\"].apply(name_fl)\n",
    "# r[\"name_len\"] = r[\"reviewerName\"].apply(lambda x: len(x.split()))\n",
    "# print(r.shape)\n",
    "# print(r.head())\n",
    "# print(r['name_len'].value_counts())"
   ]
  },
  {
   "cell_type": "code",
   "execution_count": 69,
   "id": "cbbe7b17",
   "metadata": {
    "execution": {
     "iopub.execute_input": "2023-08-10T18:53:18.413165Z",
     "iopub.status.busy": "2023-08-10T18:53:18.412682Z",
     "iopub.status.idle": "2023-08-10T18:53:18.418389Z",
     "shell.execute_reply": "2023-08-10T18:53:18.416880Z"
    },
    "papermill": {
     "duration": 0.114174,
     "end_time": "2023-08-10T18:53:18.420996",
     "exception": false,
     "start_time": "2023-08-10T18:53:18.306822",
     "status": "completed"
    },
    "tags": []
   },
   "outputs": [],
   "source": [
    "## Box plot audienceScore and sentiment  \n",
    "# plt.figure(figsize=(6, 4))\n",
    "# sns.boxplot(x=\"sentiment\", y=\"audienceScore\", data=merged, width=0.3)\n",
    "# plt.title(\"Box plot audienceScore and sentiment\")\n",
    "# plt.show()"
   ]
  },
  {
   "cell_type": "code",
   "execution_count": 70,
   "id": "0148aaf5",
   "metadata": {
    "execution": {
     "iopub.execute_input": "2023-08-10T18:53:18.634381Z",
     "iopub.status.busy": "2023-08-10T18:53:18.633357Z",
     "iopub.status.idle": "2023-08-10T18:53:18.638827Z",
     "shell.execute_reply": "2023-08-10T18:53:18.637579Z"
    },
    "papermill": {
     "duration": 0.11327,
     "end_time": "2023-08-10T18:53:18.641244",
     "exception": false,
     "start_time": "2023-08-10T18:53:18.527974",
     "status": "completed"
    },
    "tags": []
   },
   "outputs": [],
   "source": [
    "## Box plot runtimeMinutes and sentiment  \n",
    "# plt.figure(figsize=(6, 4))\n",
    "# sns.boxplot(x=\"sentiment\", y=\"runtimeMinutes\", data=merged, width=0.3)\n",
    "# plt.title(\"Box plot runtimeMinutes and sentiment\")\n",
    "# plt.show()"
   ]
  },
  {
   "cell_type": "code",
   "execution_count": 71,
   "id": "ecf18498",
   "metadata": {
    "execution": {
     "iopub.execute_input": "2023-08-10T18:53:18.852691Z",
     "iopub.status.busy": "2023-08-10T18:53:18.852178Z",
     "iopub.status.idle": "2023-08-10T18:53:18.856949Z",
     "shell.execute_reply": "2023-08-10T18:53:18.855743Z"
    },
    "papermill": {
     "duration": 0.112788,
     "end_time": "2023-08-10T18:53:18.859256",
     "exception": false,
     "start_time": "2023-08-10T18:53:18.746468",
     "status": "completed"
    },
    "tags": []
   },
   "outputs": [],
   "source": [
    "## Column chart for sentiment and rating columns\n",
    "# plt.figure(figsize=(6, 4))\n",
    "# sns.countplot(x=\"sentiment\", hue=\"rating\", data=merged)\n",
    "# plt.title(\"Column chart for sentiment and rating columns\")\n",
    "# plt.show()"
   ]
  },
  {
   "cell_type": "code",
   "execution_count": 72,
   "id": "c347ba6c",
   "metadata": {
    "execution": {
     "iopub.execute_input": "2023-08-10T18:53:19.081480Z",
     "iopub.status.busy": "2023-08-10T18:53:19.080337Z",
     "iopub.status.idle": "2023-08-10T18:53:19.086496Z",
     "shell.execute_reply": "2023-08-10T18:53:19.084977Z"
    },
    "papermill": {
     "duration": 0.125837,
     "end_time": "2023-08-10T18:53:19.089126",
     "exception": false,
     "start_time": "2023-08-10T18:53:18.963289",
     "status": "completed"
    },
    "tags": []
   },
   "outputs": [],
   "source": [
    "# Correlation heatmap  \n",
    "# plt.figure(figsize=(10, 8))\n",
    "# sns.heatmap(merged.corr(), annot=True, cmap=\"coolwarm\")\n",
    "# plt.title(\"Correlation heatmap\")\n",
    "# plt.show()"
   ]
  },
  {
   "cell_type": "markdown",
   "id": "68f894d6",
   "metadata": {
    "papermill": {
     "duration": 0.212186,
     "end_time": "2023-08-10T18:53:19.404656",
     "exception": false,
     "start_time": "2023-08-10T18:53:19.192470",
     "status": "completed"
    },
    "tags": []
   },
   "source": [
    "## Merge and preprocess \"test.csv\" and \"movies.csv\" files  "
   ]
  },
  {
   "cell_type": "code",
   "execution_count": 73,
   "id": "8efd828c",
   "metadata": {
    "execution": {
     "iopub.execute_input": "2023-08-10T18:53:19.623815Z",
     "iopub.status.busy": "2023-08-10T18:53:19.622318Z",
     "iopub.status.idle": "2023-08-10T18:53:26.241640Z",
     "shell.execute_reply": "2023-08-10T18:53:26.240586Z"
    },
    "papermill": {
     "duration": 6.733468,
     "end_time": "2023-08-10T18:53:26.244379",
     "exception": false,
     "start_time": "2023-08-10T18:53:19.510911",
     "status": "completed"
    },
    "tags": []
   },
   "outputs": [],
   "source": [
    "# Merge test and movies  \n",
    "merged_test = select_features(load_csv(\"test\"), load_csv(\"movies\"))"
   ]
  },
  {
   "cell_type": "code",
   "execution_count": 74,
   "id": "e99159d8",
   "metadata": {
    "execution": {
     "iopub.execute_input": "2023-08-10T18:53:26.455639Z",
     "iopub.status.busy": "2023-08-10T18:53:26.455153Z",
     "iopub.status.idle": "2023-08-10T18:53:26.460892Z",
     "shell.execute_reply": "2023-08-10T18:53:26.459505Z"
    },
    "papermill": {
     "duration": 0.114208,
     "end_time": "2023-08-10T18:53:26.463719",
     "exception": false,
     "start_time": "2023-08-10T18:53:26.349511",
     "status": "completed"
    },
    "tags": []
   },
   "outputs": [],
   "source": [
    "# inspect(merged_test)      # Note the missing values in ['audienceScore', 'runtimeMinutes', 'boxOffice']"
   ]
  },
  {
   "cell_type": "code",
   "execution_count": 75,
   "id": "55a1f6ba",
   "metadata": {
    "execution": {
     "iopub.execute_input": "2023-08-10T18:53:26.671651Z",
     "iopub.status.busy": "2023-08-10T18:53:26.671190Z",
     "iopub.status.idle": "2023-08-10T18:53:26.692843Z",
     "shell.execute_reply": "2023-08-10T18:53:26.691455Z"
    },
    "papermill": {
     "duration": 0.130549,
     "end_time": "2023-08-10T18:53:26.695384",
     "exception": false,
     "start_time": "2023-08-10T18:53:26.564835",
     "status": "completed"
    },
    "tags": []
   },
   "outputs": [
    {
     "data": {
      "text/plain": [
       "array([6.80e+01, 1.04e+02, 1.43e+07])"
      ]
     },
     "execution_count": 75,
     "metadata": {},
     "output_type": "execute_result"
    }
   ],
   "source": [
    "# Transform ['audienceScore', 'runtimeMinutes', 'boxOffice'] columns in merged_test using 'si' fitted on 'merged' df  \n",
    "merged_test[['audienceScore', 'runtimeMinutes', 'boxOffice']] = si.transform(merged_test[['audienceScore', 'runtimeMinutes', 'boxOffice']])\n",
    "si.statistics_"
   ]
  },
  {
   "cell_type": "code",
   "execution_count": 76,
   "id": "04d1921b",
   "metadata": {
    "execution": {
     "iopub.execute_input": "2023-08-10T18:53:26.907514Z",
     "iopub.status.busy": "2023-08-10T18:53:26.906518Z",
     "iopub.status.idle": "2023-08-10T18:53:26.919661Z",
     "shell.execute_reply": "2023-08-10T18:53:26.918606Z"
    },
    "papermill": {
     "duration": 0.126174,
     "end_time": "2023-08-10T18:53:26.922735",
     "exception": false,
     "start_time": "2023-08-10T18:53:26.796561",
     "status": "completed"
    },
    "tags": []
   },
   "outputs": [],
   "source": [
    "# Fill 'releaseDate' column in 'merged_test' df with median from the train (merged) df  \n",
    "merged_test['releaseDate'] = merged_test[\"releaseDate\"].fillna(merged[\"releaseDate\"].median())"
   ]
  },
  {
   "cell_type": "code",
   "execution_count": 77,
   "id": "c1728f90",
   "metadata": {
    "execution": {
     "iopub.execute_input": "2023-08-10T18:53:27.143334Z",
     "iopub.status.busy": "2023-08-10T18:53:27.142899Z",
     "iopub.status.idle": "2023-08-10T18:53:27.670533Z",
     "shell.execute_reply": "2023-08-10T18:53:27.668618Z"
    },
    "papermill": {
     "duration": 0.636597,
     "end_time": "2023-08-10T18:53:27.673402",
     "exception": false,
     "start_time": "2023-08-10T18:53:27.036805",
     "status": "completed"
    },
    "tags": []
   },
   "outputs": [
    {
     "name": "stdout",
     "output_type": "stream",
     "text": [
      "Shape of the dataframe: (55315, 29)\n",
      "\n",
      "Columns in the dataframe:\n",
      "Index(['movieid', 'reviewerName', 'isFrequentReviewer', 'reviewText', 'title',\n",
      "       'audienceScore', 'rating', 'ratingContents', 'releaseDateTheaters',\n",
      "       'releaseDateStreaming', 'runtimeMinutes', 'genre', 'originalLanguage',\n",
      "       'director', 'boxOffice', 'distributor', 'soundType', 'reviewYN',\n",
      "       'reviewWC', 'genreSorted', 'rcSorted', 'releaseDate', 'releaseYear',\n",
      "       'releaseMonth', 'releaseDiff', 'audScoreBins', 'runtimeBins',\n",
      "       'boxOfficeBins', 'releaseDiffBins'],\n",
      "      dtype='object')\n",
      "\n",
      "<class 'pandas.core.frame.DataFrame'>\n",
      "Int64Index: 55315 entries, 0 to 55314\n",
      "Data columns (total 29 columns):\n",
      " #   Column                Non-Null Count  Dtype         \n",
      "---  ------                --------------  -----         \n",
      " 0   movieid               55315 non-null  object        \n",
      " 1   reviewerName          55315 non-null  object        \n",
      " 2   isFrequentReviewer    55315 non-null  bool          \n",
      " 3   reviewText            55315 non-null  object        \n",
      " 4   title                 55315 non-null  object        \n",
      " 5   audienceScore         55315 non-null  float64       \n",
      " 6   rating                55315 non-null  object        \n",
      " 7   ratingContents        55315 non-null  object        \n",
      " 8   releaseDateTheaters   47844 non-null  datetime64[ns]\n",
      " 9   releaseDateStreaming  52929 non-null  datetime64[ns]\n",
      " 10  runtimeMinutes        55315 non-null  float64       \n",
      " 11  genre                 55315 non-null  object        \n",
      " 12  originalLanguage      55315 non-null  object        \n",
      " 13  director              55315 non-null  object        \n",
      " 14  boxOffice             55315 non-null  float64       \n",
      " 15  distributor           55315 non-null  object        \n",
      " 16  soundType             29845 non-null  object        \n",
      " 17  reviewYN              55315 non-null  int64         \n",
      " 18  reviewWC              55315 non-null  int64         \n",
      " 19  genreSorted           55315 non-null  object        \n",
      " 20  rcSorted              55315 non-null  object        \n",
      " 21  releaseDate           55315 non-null  datetime64[ns]\n",
      " 22  releaseYear           46626 non-null  float64       \n",
      " 23  releaseMonth          46626 non-null  float64       \n",
      " 24  releaseDiff           55315 non-null  float64       \n",
      " 25  audScoreBins          53866 non-null  float64       \n",
      " 26  runtimeBins           54937 non-null  category      \n",
      " 27  boxOfficeBins         41756 non-null  float64       \n",
      " 28  releaseDiffBins       55315 non-null  category      \n",
      "dtypes: bool(1), category(2), datetime64[ns](3), float64(8), int64(2), object(13)\n",
      "memory usage: 11.6+ MB\n",
      "None\n",
      "\n",
      "Missing values:\n",
      "movieid                     0\n",
      "reviewerName                0\n",
      "isFrequentReviewer          0\n",
      "reviewText                  0\n",
      "title                       0\n",
      "audienceScore               0\n",
      "rating                      0\n",
      "ratingContents              0\n",
      "releaseDateTheaters      7471\n",
      "releaseDateStreaming     2386\n",
      "runtimeMinutes              0\n",
      "genre                       0\n",
      "originalLanguage            0\n",
      "director                    0\n",
      "boxOffice                   0\n",
      "distributor                 0\n",
      "soundType               25470\n",
      "reviewYN                    0\n",
      "reviewWC                    0\n",
      "genreSorted                 0\n",
      "rcSorted                    0\n",
      "releaseDate                 0\n",
      "releaseYear              8689\n",
      "releaseMonth             8689\n",
      "releaseDiff                 0\n",
      "audScoreBins             1449\n",
      "runtimeBins               378\n",
      "boxOfficeBins           13559\n",
      "releaseDiffBins             0\n",
      "dtype: int64\n"
     ]
    }
   ],
   "source": [
    "# After transforming merged_test  \n",
    "inspect(merged_test)"
   ]
  },
  {
   "cell_type": "code",
   "execution_count": 78,
   "id": "14f546d8",
   "metadata": {
    "execution": {
     "iopub.execute_input": "2023-08-10T18:53:27.881955Z",
     "iopub.status.busy": "2023-08-10T18:53:27.881461Z",
     "iopub.status.idle": "2023-08-10T18:53:27.889376Z",
     "shell.execute_reply": "2023-08-10T18:53:27.887903Z"
    },
    "papermill": {
     "duration": 0.116199,
     "end_time": "2023-08-10T18:53:27.892132",
     "exception": false,
     "start_time": "2023-08-10T18:53:27.775933",
     "status": "completed"
    },
    "tags": []
   },
   "outputs": [
    {
     "name": "stdout",
     "output_type": "stream",
     "text": [
      "2510\n",
      "4.537648015908886\n"
     ]
    }
   ],
   "source": [
    "print(merged_test[\"reviewYN\"].sum())\n",
    "print(merged_test[\"reviewYN\"].sum() * 100 / merged_test.shape[0])"
   ]
  },
  {
   "cell_type": "code",
   "execution_count": 79,
   "id": "7a41b1f6",
   "metadata": {
    "execution": {
     "iopub.execute_input": "2023-08-10T18:53:28.114134Z",
     "iopub.status.busy": "2023-08-10T18:53:28.113682Z",
     "iopub.status.idle": "2023-08-10T18:53:28.132586Z",
     "shell.execute_reply": "2023-08-10T18:53:28.131296Z"
    },
    "papermill": {
     "duration": 0.138301,
     "end_time": "2023-08-10T18:53:28.135321",
     "exception": false,
     "start_time": "2023-08-10T18:53:27.997020",
     "status": "completed"
    },
    "tags": []
   },
   "outputs": [
    {
     "data": {
      "text/plain": [
       "R          18934\n",
       "unknown    18386\n",
       "PG-13      13220\n",
       "PG          4200\n",
       "TV14         333\n",
       "TVPG         109\n",
       "NC-17        108\n",
       "TVMA          25\n",
       "Name: rating, dtype: int64"
      ]
     },
     "execution_count": 79,
     "metadata": {},
     "output_type": "execute_result"
    }
   ],
   "source": [
    "merged_test['rating'].value_counts()"
   ]
  },
  {
   "cell_type": "code",
   "execution_count": 80,
   "id": "525371ff",
   "metadata": {
    "execution": {
     "iopub.execute_input": "2023-08-10T18:53:28.350009Z",
     "iopub.status.busy": "2023-08-10T18:53:28.349586Z",
     "iopub.status.idle": "2023-08-10T18:53:28.358849Z",
     "shell.execute_reply": "2023-08-10T18:53:28.357710Z"
    },
    "papermill": {
     "duration": 0.12063,
     "end_time": "2023-08-10T18:53:28.361373",
     "exception": false,
     "start_time": "2023-08-10T18:53:28.240743",
     "status": "completed"
    },
    "tags": []
   },
   "outputs": [
    {
     "data": {
      "text/plain": [
       "False    38428\n",
       "True     16887\n",
       "Name: isFrequentReviewer, dtype: int64"
      ]
     },
     "execution_count": 80,
     "metadata": {},
     "output_type": "execute_result"
    }
   ],
   "source": [
    "merged_test['isFrequentReviewer'].value_counts()"
   ]
  },
  {
   "cell_type": "code",
   "execution_count": 81,
   "id": "c2dae627",
   "metadata": {
    "execution": {
     "iopub.execute_input": "2023-08-10T18:53:28.572805Z",
     "iopub.status.busy": "2023-08-10T18:53:28.572345Z",
     "iopub.status.idle": "2023-08-10T18:53:28.586157Z",
     "shell.execute_reply": "2023-08-10T18:53:28.584826Z"
    },
    "papermill": {
     "duration": 0.123133,
     "end_time": "2023-08-10T18:53:28.588988",
     "exception": false,
     "start_time": "2023-08-10T18:53:28.465855",
     "status": "completed"
    },
    "tags": []
   },
   "outputs": [
    {
     "data": {
      "text/plain": [
       "14300000.0    13593\n",
       "1100000.0       311\n",
       "1000000.0       272\n",
       "1300000.0       263\n",
       "2000000.0       256\n",
       "              ...  \n",
       "200400.0          1\n",
       "23800000.0        1\n",
       "111200.0          1\n",
       "277800.0          1\n",
       "100600.0          1\n",
       "Name: boxOffice, Length: 3816, dtype: int64"
      ]
     },
     "execution_count": 81,
     "metadata": {},
     "output_type": "execute_result"
    }
   ],
   "source": [
    "merged_test['boxOffice'].value_counts()"
   ]
  },
  {
   "cell_type": "markdown",
   "id": "212a0875",
   "metadata": {
    "papermill": {
     "duration": 0.104027,
     "end_time": "2023-08-10T18:53:28.797385",
     "exception": false,
     "start_time": "2023-08-10T18:53:28.693358",
     "status": "completed"
    },
    "tags": []
   },
   "source": [
    "## Submit_v4 for merged file models  "
   ]
  },
  {
   "cell_type": "markdown",
   "id": "41ee982a",
   "metadata": {
    "papermill": {
     "duration": 0.111498,
     "end_time": "2023-08-10T18:53:29.014495",
     "exception": false,
     "start_time": "2023-08-10T18:53:28.902997",
     "status": "completed"
    },
    "tags": []
   },
   "source": [
    "### More Helper functions  "
   ]
  },
  {
   "cell_type": "code",
   "execution_count": 82,
   "id": "7903750d",
   "metadata": {
    "execution": {
     "iopub.execute_input": "2023-08-10T18:53:29.226531Z",
     "iopub.status.busy": "2023-08-10T18:53:29.226095Z",
     "iopub.status.idle": "2023-08-10T18:53:29.233935Z",
     "shell.execute_reply": "2023-08-10T18:53:29.232829Z"
    },
    "papermill": {
     "duration": 0.117361,
     "end_time": "2023-08-10T18:53:29.236678",
     "exception": false,
     "start_time": "2023-08-10T18:53:29.119317",
     "status": "completed"
    },
    "tags": []
   },
   "outputs": [],
   "source": [
    "# Testing predictions on missing reviewtext columns  \n",
    "\n",
    "def predict_on_missing_review_data(pipe, selected_features, merged_train):\n",
    "    missing_reviews_train = merged_train.loc[merged_train['reviewYN'] == 1]\n",
    "    missing_reviews_train.reset_index(drop=True)\n",
    "    X_train_miss_revs = missing_reviews_train.drop('sentiment', axis = 1)\n",
    "    X_train_miss_revs = X_train_miss_revs[selected_features]\n",
    "    y_train_miss_revs = missing_reviews_train['sentiment']\n",
    "    \n",
    "    y_pred_miss_revs = pipe.predict(X_train_miss_revs)\n",
    "#     print('Predictions on rows which had missing reviewText')\n",
    "    print(\"Confusion matrix and f1-score for rows which have no reviewText in X_train: \")\n",
    "    print(confusion_matrix(y_train_miss_revs, y_pred_miss_revs, labels=pipe.classes_))\n",
    "    \n",
    "    return f1_score(y_train_miss_revs, y_pred_miss_revs, average='micro')"
   ]
  },
  {
   "cell_type": "code",
   "execution_count": 83,
   "id": "689923e9",
   "metadata": {
    "execution": {
     "iopub.execute_input": "2023-08-10T18:53:29.449199Z",
     "iopub.status.busy": "2023-08-10T18:53:29.448776Z",
     "iopub.status.idle": "2023-08-10T18:53:29.482797Z",
     "shell.execute_reply": "2023-08-10T18:53:29.481502Z"
    },
    "papermill": {
     "duration": 0.142843,
     "end_time": "2023-08-10T18:53:29.485812",
     "exception": false,
     "start_time": "2023-08-10T18:53:29.342969",
     "status": "completed"
    },
    "tags": []
   },
   "outputs": [],
   "source": [
    "# Function to build pipelines for GridSearchCV which goes into the final 'submit' function  \n",
    "def build_pipeline(selected_model=LogisticRegression(), \n",
    "                   selected_features={'txt': ['reviewText']}, \n",
    "                   param_grid=None,\n",
    "                   vocab=None,\n",
    "                   vocab_usage='tfidf',\n",
    "                   strip_accents='unicode', \n",
    "                   add_countvec=False):\n",
    "    # Encoders  \n",
    "    ohe = OneHotEncoder(sparse_output=False, handle_unknown='ignore')\n",
    "    MMscaler = MinMaxScaler()\n",
    "    StdScaler = StandardScaler()\n",
    "    RobScaler = RobustScaler()\n",
    "    \n",
    "    # Text features ['reviewText', 'reviewerName', 'movieid', 'genre', 'director']\n",
    "    tfidf_vec = TfidfVectorizer(ngram_range=(1,2))\n",
    "    count_vec = CountVectorizer(ngram_range=(1,2))\n",
    "    txt_pipe = Pipeline(steps=[\n",
    "                            (\"tvec\", TfidfVectorizer(ngram_range=(1,3), strip_accents=strip_accents))    # Adjust ngram_range here for reviewText\n",
    "                        ])\n",
    "    txt_pipe_vocab = Pipeline(steps=[\n",
    "                            (\"tvec\", TfidfVectorizer(ngram_range=(1,3), strip_accents=strip_accents, vocabulary=vocab))    # Adjust ngram_range here for reviewText\n",
    "                        ])\n",
    "    txt_pipe_2 = Pipeline(steps=[\n",
    "                            (\"tvec\", TfidfVectorizer(ngram_range=(2,2)))\n",
    "                        ])\n",
    "    txt_pipe_3 = Pipeline(steps=[\n",
    "                            (\"tvec\", TfidfVectorizer(ngram_range=(1,1)))\n",
    "                        ])\n",
    "    txt_pipe_4 = Pipeline(steps=[\n",
    "                            (\"tvec\", TfidfVectorizer(ngram_range=(1,3)))    # Adjust ngram_range here for reviewText\n",
    "                        ])\n",
    "    txt_pipe_title  = Pipeline(steps=[\n",
    "                            (\"tvec\", TfidfVectorizer(ngram_range=(1,5)))    # Adjust ngram_range here for reviewText\n",
    "                        ])\n",
    "    \n",
    "    # Additional pipes for count vectorizer\n",
    "    txt_pipe_countvec = Pipeline(steps=[\n",
    "                            (\"cvec\", CountVectorizer(ngram_range=(1,3), strip_accents=strip_accents))    # Adjust ngram_range here for reviewText\n",
    "                        ])\n",
    "    txt_pipe_countvec_vocab = Pipeline(steps=[\n",
    "                            (\"cvec\", CountVectorizer(ngram_range=(1,3), strip_accents=strip_accents, vocabulary=vocab))    # Adjust ngram_range here for reviewText\n",
    "                        ])\n",
    "    \n",
    "    txt_pipe_countvec_ratingContents = Pipeline(steps=[\n",
    "                            (\"cvec\", CountVectorizer(ngram_range=(1,5)))    # Adjust ngram_range here for reviewText\n",
    "                        ])\n",
    "    txt_pipe_countvec_rcSorted = Pipeline(steps=[\n",
    "                            (\"cvec\", CountVectorizer(ngram_range=(1,1)))    # Adjust ngram_range here for reviewText\n",
    "                        ])\n",
    "    txt_pipe_countvec_genre = Pipeline(steps=[\n",
    "                            (\"cvec\", CountVectorizer(ngram_range=(1,1)))\n",
    "                        ])\n",
    "    txt_pipe_countvec_genreSorted = Pipeline(steps=[\n",
    "                            (\"cvec\", CountVectorizer(ngram_range=(1,5)))\n",
    "                        ])\n",
    "    txt_pipe_countvec_distributor = Pipeline(steps=[\n",
    "                            (\"cvec\", CountVectorizer(ngram_range=(1,3)))    # Adjust ngram_range here for reviewText\n",
    "                        ])\n",
    "    txt_pipe_countvec_title = Pipeline(steps=[\n",
    "                            (\"cvec\", CountVectorizer(ngram_range=(1,5), strip_accents=strip_accents))\n",
    "                        ])\n",
    "    txt_pipe_countvec_movieid = Pipeline(steps=[\n",
    "                            (\"cvec\", CountVectorizer(ngram_range=(1,1)))\n",
    "                        ])\n",
    "    # Basic pipes  \n",
    "    TFs = []\n",
    "    try:\n",
    "        for c in selected_features['cat']:\n",
    "            TFs.append((f\"cat_{c}\", ohe, [c]))\n",
    "    except:\n",
    "        pass\n",
    "    try:\n",
    "        for n in selected_features['num']:\n",
    "            if n in [\"runtimeMinutes\", \"boxOffice\", \"releaseDiff\"]:\n",
    "                TFs.append((f\"num_{n}\", RobScaler, [n]))\n",
    "                TFs.append((f\"num_{n}_ss\", StdScaler, [n]))\n",
    "                \n",
    "            else:\n",
    "                TFs.append((f\"num_{n}\", StdScaler, [n]))\n",
    "    except:\n",
    "        pass\n",
    "    try:\n",
    "        for t in selected_features['txt']:\n",
    "            if t in ['director', 'reviewerName']:\n",
    "                TFs.append((f\"txt_{t}\", txt_pipe_2, t))\n",
    "            elif t in [\"originalLanguage\", \"releaseYear\"]:\n",
    "                TFs.append((f\"txt_{t}\", txt_pipe_3, t))\n",
    "            elif t in ['genre']:\n",
    "                TFs.append((f\"txt_{t}\", txt_pipe_countvec_genre, t))\n",
    "            elif t in [\"genreSorted\"]:\n",
    "                TFs.append((f\"txt_{t}\", txt_pipe_countvec_genreSorted, t))\n",
    "            elif t in [\"distributor\"]:\n",
    "                TFs.append((f\"txt_{t}\", txt_pipe_countvec_distributor, t))\n",
    "            elif t in ['reviewText']:\n",
    "#                 if vocab and (vocab_usage in [\"tfidf\", \"both\"]):\n",
    "#                     txt_pipe.set_params(tvec__vocabulary=vocab)\n",
    "#                     txt_pipe.set_params(tvec__stop_words='english')\n",
    "                TFs.append((f\"txt_{t}\", txt_pipe, t))\n",
    "            elif t in ['reviewText_2']:\n",
    "                if add_countvec:\n",
    "#                     if vocab and (vocab_usage in [\"count\", \"both\"]):\n",
    "#                         txt_pipe_countvec.set_params(cvec__vocabulary=vocab)\n",
    "#                         txt_pipe_countvec.set_params(cvec__stop_words='english')\n",
    "                    TFs.append((f\"txt_{t}\", txt_pipe_countvec, t))\n",
    "            elif t in ['reviewText_3']:\n",
    "                if vocab_usage == 'tfidf':\n",
    "                    TFs.append((f\"txt_{t}\", txt_pipe_vocab, t))\n",
    "                elif vocab_usage == 'count':\n",
    "                    TFs.append((f\"txt_{t}\", txt_pipe_countvec_vocab, t))\n",
    "            elif t in [\"ratingContents\"]:\n",
    "                TFs.append((f\"txt_{t}\", txt_pipe_countvec_ratingContents, t))\n",
    "            elif t in [\"rcSorted\"]:\n",
    "                TFs.append((f\"txt_{t}\", txt_pipe_countvec_rcSorted, t))\n",
    "            elif t in [\"title\"]:\n",
    "                TFs.append((f\"txt_{t}\", txt_pipe_title, t))\n",
    "            elif t in [\"movieid\"]:\n",
    "                TFs.append((f\"txt_{t}\", txt_pipe_countvec_movieid, t))\n",
    "            else:\n",
    "                pass\n",
    "    except:\n",
    "        pass\n",
    "\n",
    "    # Build ColumnTransformer  \n",
    "    ct = ColumnTransformer(transformers=TFs, remainder='drop')\n",
    "\n",
    "    # Build Pipeline\n",
    "    pipe = Pipeline(steps=[('ct', ct), ('model', selected_model)])\n",
    "    print(\"\\nPipeline built successfully.\")\n",
    "\n",
    "    # Use the pipe in GridSearchCV\n",
    "    if param_grid == None:\n",
    "        param_grid_temp = {\"model__C\": [1],\n",
    "                     'model__solver': ['liblinear']}\n",
    "        print(\"Full GridSearchCV pipeline built successfully with basic default param_grid.\\n\")\n",
    "        pipeCV = GridSearchCV(pipe, param_grid_temp, cv=10, scoring=\"f1_micro\", n_jobs=-1)\n",
    "        return pipeCV\n",
    "    \n",
    "    # GridSearchCV if param_grid provided\n",
    "    if param_grid:\n",
    "        pipeCV = GridSearchCV(pipe, param_grid, cv=10, scoring=\"f1_micro\", n_jobs=-1)\n",
    "        print(\"\\nFull GridSearchCV pipeline built successfully.\")\n",
    "        return pipeCV"
   ]
  },
  {
   "cell_type": "code",
   "execution_count": 84,
   "id": "1955c0df",
   "metadata": {
    "execution": {
     "iopub.execute_input": "2023-08-10T18:53:29.697241Z",
     "iopub.status.busy": "2023-08-10T18:53:29.696855Z",
     "iopub.status.idle": "2023-08-10T18:53:29.707369Z",
     "shell.execute_reply": "2023-08-10T18:53:29.706357Z"
    },
    "papermill": {
     "duration": 0.116539,
     "end_time": "2023-08-10T18:53:29.710036",
     "exception": false,
     "start_time": "2023-08-10T18:53:29.593497",
     "status": "completed"
    },
    "tags": []
   },
   "outputs": [],
   "source": [
    "def preprocessor():\n",
    "    \n",
    "    # Merge and preprocess train and movies data  \n",
    "    merged = select_features(load_csv(\"train\"), load_csv(\"movies\"), row_thresh_null=None)    # Decide if you want to drop any rows containing lot of nulls\n",
    "    # Impute missing numerical values  \n",
    "    # Simple Imputer for ['audienceScore', 'runtimeMinutes', 'boxOffice'] and 'releaseDate' columns\n",
    "    si = SimpleImputer(strategy='median')\n",
    "    merged[['audienceScore', 'runtimeMinutes', 'boxOffice']] = si.fit_transform(merged[['audienceScore', 'runtimeMinutes', 'boxOffice']])\n",
    "    merged['releaseDate'] = merged[\"releaseDate\"].fillna(merged[\"releaseDate\"].median())    \n",
    "\n",
    "    # Check1 (preprocessor)\n",
    "    print(\"\\nCheck 1 (preprocessor) complete.\")\n",
    "    print(f\"Shape of X_train: {merged.shape}\")\n",
    "    print(f\"Features in X_train: {merged.columns}\")\n",
    "\n",
    "\n",
    "    # Merge and preprocess test and movies data  \n",
    "    merged_test = select_features(load_csv(\"test\"), load_csv(\"movies\"))\n",
    "    # Transform ['audienceScore', 'runtimeMinutes', 'boxOffice'] columns in merged_test using 'si' fitted on 'merged' df  \n",
    "    merged_test[['audienceScore', 'runtimeMinutes', 'boxOffice']] = si.transform(merged_test[['audienceScore', 'runtimeMinutes', 'boxOffice']])\n",
    "    # Fill 'releaseDate' column in 'merged_test' df with median from the train (merged) df  \n",
    "    merged_test['releaseDate'] = merged_test[\"releaseDate\"].fillna(merged[\"releaseDate\"].median())\n",
    "\n",
    "    \n",
    "    # Check2 (preprocessor)\n",
    "    print(\"\\nCheck 2 (preprocessor) complete.\")\n",
    "    print(f\"Shape of X_test: {merged_test.shape}\")\n",
    "    print(f\"Features in X_test: {merged_test.columns}\")\n",
    "\n",
    "    return merged, merged_test\n",
    "    "
   ]
  },
  {
   "cell_type": "code",
   "execution_count": 85,
   "id": "81150b64",
   "metadata": {
    "execution": {
     "iopub.execute_input": "2023-08-10T18:53:29.920614Z",
     "iopub.status.busy": "2023-08-10T18:53:29.920143Z",
     "iopub.status.idle": "2023-08-10T18:53:29.925141Z",
     "shell.execute_reply": "2023-08-10T18:53:29.923833Z"
    },
    "papermill": {
     "duration": 0.11393,
     "end_time": "2023-08-10T18:53:29.927565",
     "exception": false,
     "start_time": "2023-08-10T18:53:29.813635",
     "status": "completed"
    },
    "tags": []
   },
   "outputs": [],
   "source": [
    "# merged, merged_test = preprocessor()\n",
    "# merged.shape, merged_test.shape"
   ]
  },
  {
   "cell_type": "code",
   "execution_count": 86,
   "id": "7dd54c37",
   "metadata": {
    "execution": {
     "iopub.execute_input": "2023-08-10T18:53:30.148862Z",
     "iopub.status.busy": "2023-08-10T18:53:30.147984Z",
     "iopub.status.idle": "2023-08-10T18:53:30.171449Z",
     "shell.execute_reply": "2023-08-10T18:53:30.170244Z"
    },
    "papermill": {
     "duration": 0.135478,
     "end_time": "2023-08-10T18:53:30.174672",
     "exception": false,
     "start_time": "2023-08-10T18:53:30.039194",
     "status": "completed"
    },
    "tags": []
   },
   "outputs": [],
   "source": [
    "def submit_v5(classifiers= [\n",
    "                {'selected_model' : LogisticRegression(C=1, solver='saga', max_iter=100000), \n",
    "                  'selected_features' : {'num': ['audienceScore']}, \n",
    "                  'param_grid' : None,\n",
    "                  'vocab' : None,\n",
    "                  'vocab_usage' : 'tfidf',\n",
    "                  'strip_accents' : 'unicode', \n",
    "                  'add_countvec' : False}\n",
    "              ]):\n",
    "    \n",
    "    \"\"\"Takes a list of dictionaries each with same keys as mentioned in the default dictionary in function definition\"\"\"\n",
    "    \n",
    "    print(\"\\nRunning the submit_v5 function...\")\n",
    "    \n",
    "    merged, merged_test = preprocessor()\n",
    "    \n",
    "    estimators = []     # List of tuples of the form ('classifier_name', 'classifer_instance')\n",
    "    \n",
    "    # Build a dataframe of predictions  \n",
    "    predictions_df = pd.DataFrame()\n",
    "    \n",
    "    # Build a separate pipeline and fit it on selected features (and param_grid) for each item in classifiers list\n",
    "    for n, item in enumerate(classifiers, start=1):\n",
    "        selected_model = item['selected_model']\n",
    "        selected_features = item['selected_features']\n",
    "        param_grid = item['param_grid']\n",
    "        vocab = item['vocab']\n",
    "        vocab_usage = item['vocab_usage']\n",
    "        strip_accents = item['strip_accents']\n",
    "        add_countvec = item['add_countvec']\n",
    "    \n",
    "    \n",
    "        # Fine tune selected_features\n",
    "        if add_countvec:\n",
    "            if 'txt' in selected_features.keys():\n",
    "                if \"reviewText_2\" not in selected_features['txt']:\n",
    "                    selected_features['txt'].append('reviewText_2')\n",
    "        if vocab:\n",
    "            if 'txt' in selected_features.keys():\n",
    "                if \"reviewText_3\" not in selected_features['txt']:\n",
    "                    selected_features['txt'].append('reviewText_3')\n",
    "        print(f\"\\nSelected features: {selected_features}\")\n",
    "        \n",
    "        # Modify X_train for the given 'item' by creating a custom 'features' list\n",
    "        features = []\n",
    "        for item in selected_features.values():\n",
    "            features.extend(item)\n",
    "            \n",
    "        # Add new columns as needed  \n",
    "        if add_countvec:\n",
    "            merged['reviewText_2'] = merged['reviewText']\n",
    "        if vocab:\n",
    "            merged['reviewText_3'] = merged['reviewText']\n",
    "        \n",
    "        # Create X_tran, y_train\n",
    "        X_train = merged.drop(labels=\"sentiment\", axis=1)\n",
    "        y_train = merged[\"sentiment\"]\n",
    "        \n",
    "        X_train = merged[features].copy()\n",
    "\n",
    "\n",
    "        # Build Pipeline\n",
    "        pipe = build_pipeline(selected_model, selected_features, param_grid=param_grid, \n",
    "                              vocab=vocab, vocab_usage='tfidf', \n",
    "                              strip_accents=strip_accents, add_countvec=add_countvec)\n",
    "        print(pipe)\n",
    "\n",
    "        \n",
    "        # Fit \n",
    "        print(f\"\\nTraining started with full pipeline for classifier #{n}...\")\n",
    "        pipe.fit(X_train, y_train)\n",
    "        \n",
    "\n",
    "        # Check1\n",
    "        print(f\"\\nCheck #{n}.1 complete.\")\n",
    "        print(f\"Details of the best model using classifier #{n} (GridSearchCV) on X_train: \")\n",
    "        print(f\"Best Params: {pipe.best_params_}\")\n",
    "        print(f\"Best Score: {pipe.best_score_}\")\n",
    "        \n",
    "        print(predict_on_missing_review_data(pipe, features, merged))    # Function defined above\n",
    "        \n",
    "        estimators.append((f\"classifier_{n}\", pipe))\n",
    "        print(f\"classifier_{n} successfully added to 'estimators' list\")\n",
    "\n",
    "        \n",
    "        # Predict on test.csv file\n",
    "        # Add new columns as needed \n",
    "        if add_countvec:\n",
    "            merged_test['reviewText_2'] = merged_test['reviewText']\n",
    "        if vocab:\n",
    "            merged_test['reviewText_3'] = merged_test['reviewText']\n",
    "        \n",
    "               \n",
    "        X_test = merged_test[features].copy()\n",
    "\n",
    "    \n",
    "        y_pred = pipe.predict(X_test)\n",
    "        \n",
    "        # Insert predictions in 'predictions_df' dataframe\n",
    "        predictions_df.insert(n-1, f\"pred_{n}\", y_pred, allow_duplicates=False)\n",
    "        print(predictions_df.shape)\n",
    "        print(predictions_df.head(10))\n",
    "        \n",
    "    \n",
    "        # Check2\n",
    "        print(f\"\\nCheck #{n}.2 complete.\")\n",
    "    #     cv_results_df = pd.DataFrame(pipe.cv_results_)\n",
    "        print(\"Details of the best model using full pipeline (GridSearchCV) on X_train: \")\n",
    "#         print(f\"Best Estimator: {pipe.best_estimator_}\")\n",
    "        print(f\"Best Params: {pipe.best_params_}\")\n",
    "        print(f\"Best Score: {pipe.best_score_}\")\n",
    "#         print(f\"Best Index: {pipe.best_index_}\")\n",
    "        print(f\"Refit Time: {pipe.refit_time_}\")\n",
    "    #     print(f\"Shape of CV results dataframe: {cv_results_df.shape}\")\n",
    "    \n",
    "    # Voting classifier (custom) with hard voting\n",
    "    # Calculate the MODE for all predictions (Note that the 'predictions_df' generated above should have odd number of columns)\n",
    "    pred_df_final = predictions_df.mode('columns')\n",
    "    pred_df_final.columns = [\"sentiment\"]\n",
    "    pred_df_final.index.name = \"id\"\n",
    "    pred_df_final.to_csv(\"submission.csv\")\n",
    "    \n",
    "    print(\"\\nSuccessfully created the submission file!!!\")\n",
    "    \n",
    "#     return pipe.cv_results_\n",
    "    return pred_df_final, estimators"
   ]
  },
  {
   "cell_type": "markdown",
   "id": "62895e7e",
   "metadata": {
    "papermill": {
     "duration": 0.106364,
     "end_time": "2023-08-10T18:53:30.387234",
     "exception": false,
     "start_time": "2023-08-10T18:53:30.280870",
     "status": "completed"
    },
    "tags": []
   },
   "source": [
    "## Use 'submit_v5' function  "
   ]
  },
  {
   "cell_type": "code",
   "execution_count": 87,
   "id": "d16b972e",
   "metadata": {
    "execution": {
     "iopub.execute_input": "2023-08-10T18:53:30.599873Z",
     "iopub.status.busy": "2023-08-10T18:53:30.599184Z",
     "iopub.status.idle": "2023-08-10T18:53:30.604186Z",
     "shell.execute_reply": "2023-08-10T18:53:30.602793Z"
    },
    "papermill": {
     "duration": 0.114036,
     "end_time": "2023-08-10T18:53:30.606878",
     "exception": false,
     "start_time": "2023-08-10T18:53:30.492842",
     "status": "completed"
    },
    "tags": []
   },
   "outputs": [],
   "source": [
    "# Try submit_v5 with default settings\n",
    "# submit_v5()"
   ]
  },
  {
   "cell_type": "code",
   "execution_count": 88,
   "id": "4a7e92f4",
   "metadata": {
    "execution": {
     "iopub.execute_input": "2023-08-10T18:53:30.819109Z",
     "iopub.status.busy": "2023-08-10T18:53:30.818710Z",
     "iopub.status.idle": "2023-08-10T18:58:50.037912Z",
     "shell.execute_reply": "2023-08-10T18:58:50.036618Z"
    },
    "papermill": {
     "duration": 319.328692,
     "end_time": "2023-08-10T18:58:50.041041",
     "exception": false,
     "start_time": "2023-08-10T18:53:30.712349",
     "status": "completed"
    },
    "tags": []
   },
   "outputs": [
    {
     "name": "stdout",
     "output_type": "stream",
     "text": [
      "\n",
      "Running the submit_v5 function...\n",
      "\n",
      "Check 1 (preprocessor) complete.\n",
      "Shape of X_train: (162758, 30)\n",
      "Features in X_train: Index(['movieid', 'reviewerName', 'isFrequentReviewer', 'reviewText',\n",
      "       'sentiment', 'title', 'audienceScore', 'rating', 'ratingContents',\n",
      "       'releaseDateTheaters', 'releaseDateStreaming', 'runtimeMinutes',\n",
      "       'genre', 'originalLanguage', 'director', 'boxOffice', 'distributor',\n",
      "       'soundType', 'reviewYN', 'reviewWC', 'genreSorted', 'rcSorted',\n",
      "       'releaseDate', 'releaseYear', 'releaseMonth', 'releaseDiff',\n",
      "       'audScoreBins', 'runtimeBins', 'boxOfficeBins', 'releaseDiffBins'],\n",
      "      dtype='object')\n",
      "\n",
      "Check 2 (preprocessor) complete.\n",
      "Shape of X_test: (55315, 29)\n",
      "Features in X_test: Index(['movieid', 'reviewerName', 'isFrequentReviewer', 'reviewText', 'title',\n",
      "       'audienceScore', 'rating', 'ratingContents', 'releaseDateTheaters',\n",
      "       'releaseDateStreaming', 'runtimeMinutes', 'genre', 'originalLanguage',\n",
      "       'director', 'boxOffice', 'distributor', 'soundType', 'reviewYN',\n",
      "       'reviewWC', 'genreSorted', 'rcSorted', 'releaseDate', 'releaseYear',\n",
      "       'releaseMonth', 'releaseDiff', 'audScoreBins', 'runtimeBins',\n",
      "       'boxOfficeBins', 'releaseDiffBins'],\n",
      "      dtype='object')\n",
      "\n",
      "Selected features: {'txt': ['reviewText']}\n",
      "\n",
      "Pipeline built successfully.\n",
      "\n",
      "Full GridSearchCV pipeline built successfully.\n",
      "GridSearchCV(cv=10,\n",
      "             estimator=Pipeline(steps=[('ct',\n",
      "                                        ColumnTransformer(transformers=[('txt_reviewText',\n",
      "                                                                         Pipeline(steps=[('tvec',\n",
      "                                                                                          TfidfVectorizer(ngram_range=(1,\n",
      "                                                                                                                       3),\n",
      "                                                                                                          strip_accents='unicode'))]),\n",
      "                                                                         'reviewText')])),\n",
      "                                       ('model',\n",
      "                                        LogisticRegression(C=1, max_iter=100000,\n",
      "                                                           solver='saga'))]),\n",
      "             n_jobs=-1, param_grid={'model__C': [1], 'model__solver': ['saga']},\n",
      "             scoring='f1_micro')\n",
      "\n",
      "Training started with full pipeline for classifier #1...\n",
      "\n",
      "Check #1.1 complete.\n",
      "Details of the best model using classifier #1 (GridSearchCV) on X_train: \n",
      "Best Params: {'model__C': 1, 'model__solver': 'saga'}\n",
      "Best Score: 0.7990144927043824\n",
      "Confusion matrix and f1-score for rows which have no reviewText in X_train: \n",
      "[[   0 2405]\n",
      " [   0 4042]]\n",
      "0.6269582751667442\n",
      "classifier_1 successfully added to 'estimators' list\n",
      "(55315, 1)\n",
      "     pred_1\n",
      "0  POSITIVE\n",
      "1  POSITIVE\n",
      "2  POSITIVE\n",
      "3  POSITIVE\n",
      "4  POSITIVE\n",
      "5  POSITIVE\n",
      "6  POSITIVE\n",
      "7  NEGATIVE\n",
      "8  NEGATIVE\n",
      "9  POSITIVE\n",
      "\n",
      "Check #1.2 complete.\n",
      "Details of the best model using full pipeline (GridSearchCV) on X_train: \n",
      "Best Params: {'model__C': 1, 'model__solver': 'saga'}\n",
      "Best Score: 0.7990144927043824\n",
      "Refit Time: 52.33634281158447\n",
      "\n",
      "Successfully created the submission file!!!\n"
     ]
    }
   ],
   "source": [
    "# Testing ONE classfier using submit_v5 function  \n",
    "\n",
    "# Feature dictionaries\n",
    "sfs = {'cat': ['isFrequentReviewer', 'rating'],\n",
    "       'num': [\"audienceScore\", \"runtimeMinutes\", \"boxOffice\"]}\n",
    "\n",
    "\n",
    "# Classifiers\n",
    "# classifiers= [\n",
    "#                 {'selected_model' : SGDClassifier(loss='log_loss', max_iter=1000), \n",
    "#                   'selected_features' : {'txt': [\"reviewText\"]}, \n",
    "#                   'param_grid' : {\"model__alpha\": [0.0001], \n",
    "#                                   'model__tol': [0.001]},\n",
    "#                   'vocab' : None,\n",
    "#                   'vocab_usage' : 'tfidf',\n",
    "#                   'strip_accents' : 'unicode', \n",
    "#                   'add_countvec' : False},\n",
    "#             ]\n",
    "\n",
    "classifiers= [\n",
    "                {'selected_model' : LogisticRegression(C=1, solver='saga', max_iter=100000), \n",
    "                  'selected_features' : {'txt': [\"reviewText\"]}, \n",
    "                  'param_grid' : {\"model__C\": [1], \n",
    "                                  'model__solver': ['saga']},\n",
    "                  'vocab' : None,\n",
    "                  'vocab_usage' : 'tfidf',\n",
    "                  'strip_accents' : 'unicode', \n",
    "                  'add_countvec' : False},\n",
    "            ]\n",
    "\n",
    "pred_df, estimators = submit_v5(classifiers=classifiers)"
   ]
  },
  {
   "cell_type": "code",
   "execution_count": 89,
   "id": "598bdc8c",
   "metadata": {
    "execution": {
     "iopub.execute_input": "2023-08-10T18:58:50.260284Z",
     "iopub.status.busy": "2023-08-10T18:58:50.259858Z",
     "iopub.status.idle": "2023-08-10T18:58:50.267502Z",
     "shell.execute_reply": "2023-08-10T18:58:50.266424Z"
    },
    "papermill": {
     "duration": 0.120223,
     "end_time": "2023-08-10T18:58:50.270125",
     "exception": false,
     "start_time": "2023-08-10T18:58:50.149902",
     "status": "completed"
    },
    "tags": []
   },
   "outputs": [
    {
     "name": "stdout",
     "output_type": "stream",
     "text": [
      "(55315, 1)\n",
      "   sentiment\n",
      "id          \n",
      "0   POSITIVE\n",
      "1   POSITIVE\n",
      "2   POSITIVE\n",
      "3   POSITIVE\n",
      "4   POSITIVE\n"
     ]
    }
   ],
   "source": [
    "print(pred_df.shape)\n",
    "print(pred_df.head())"
   ]
  },
  {
   "cell_type": "code",
   "execution_count": 90,
   "id": "0d21364d",
   "metadata": {
    "execution": {
     "iopub.execute_input": "2023-08-10T18:58:50.483215Z",
     "iopub.status.busy": "2023-08-10T18:58:50.482681Z",
     "iopub.status.idle": "2023-08-10T18:58:50.488266Z",
     "shell.execute_reply": "2023-08-10T18:58:50.486668Z"
    },
    "papermill": {
     "duration": 0.113652,
     "end_time": "2023-08-10T18:58:50.490719",
     "exception": false,
     "start_time": "2023-08-10T18:58:50.377067",
     "status": "completed"
    },
    "tags": []
   },
   "outputs": [],
   "source": [
    "# estimators"
   ]
  },
  {
   "cell_type": "code",
   "execution_count": 91,
   "id": "3faa14d3",
   "metadata": {
    "execution": {
     "iopub.execute_input": "2023-08-10T18:58:50.699995Z",
     "iopub.status.busy": "2023-08-10T18:58:50.699487Z",
     "iopub.status.idle": "2023-08-10T18:58:50.733870Z",
     "shell.execute_reply": "2023-08-10T18:58:50.732424Z"
    },
    "papermill": {
     "duration": 0.14295,
     "end_time": "2023-08-10T18:58:50.736705",
     "exception": false,
     "start_time": "2023-08-10T18:58:50.593755",
     "status": "completed"
    },
    "tags": []
   },
   "outputs": [
    {
     "name": "stdout",
     "output_type": "stream",
     "text": [
      "Number of estimators: 1\n",
      "\n",
      "Estimator: classifier_1\n",
      "Pipeline(steps=[('ct',\n",
      "                 ColumnTransformer(transformers=[('txt_reviewText',\n",
      "                                                  Pipeline(steps=[('tvec',\n",
      "                                                                   TfidfVectorizer(ngram_range=(1,\n",
      "                                                                                                3),\n",
      "                                                                                   strip_accents='unicode'))]),\n",
      "                                                  'reviewText')])),\n",
      "                ('model',\n",
      "                 LogisticRegression(C=1, max_iter=100000, solver='saga'))])\n",
      "{'model__C': 1, 'model__solver': 'saga'}\n",
      "0.7990144927043824\n",
      "52.33634281158447\n",
      "\n"
     ]
    }
   ],
   "source": [
    "print(f\"Number of estimators: {len(estimators)}\\n\")\n",
    "for est in estimators:\n",
    "    print(f\"Estimator: {est[0]}\")\n",
    "    print(est[1].best_estimator_)\n",
    "    print(est[1].best_params_)\n",
    "    print(est[1].best_score_)\n",
    "    print(est[1].refit_time_)\n",
    "    print()"
   ]
  },
  {
   "cell_type": "code",
   "execution_count": 92,
   "id": "9fba2edd",
   "metadata": {
    "execution": {
     "iopub.execute_input": "2023-08-10T18:58:50.951247Z",
     "iopub.status.busy": "2023-08-10T18:58:50.950809Z",
     "iopub.status.idle": "2023-08-10T18:58:50.958148Z",
     "shell.execute_reply": "2023-08-10T18:58:50.956809Z"
    },
    "papermill": {
     "duration": 0.118223,
     "end_time": "2023-08-10T18:58:50.960697",
     "exception": false,
     "start_time": "2023-08-10T18:58:50.842474",
     "status": "completed"
    },
    "tags": []
   },
   "outputs": [],
   "source": [
    "# Testing full capabilites of submit_v5  \n",
    "\n",
    "# # Feature dictionaries\n",
    "# sf1 = {'cat': ['isFrequentReviewer', 'rating'],\n",
    "#        'num': [\"audienceScore\", \"runtimeMinutes\", \"boxOffice\"]}\n",
    "\n",
    "# sf2 = {'cat': ['isFrequentReviewer', 'rating'],\n",
    "#        'num': [\"audienceScore\", \"runtimeMinutes\", \"boxOffice\"]}\n",
    "\n",
    "# sf3 = {'cat': ['isFrequentReviewer'],\n",
    "#         'num': ['releaseDiff', 'audienceScore', 'boxOffice'],\n",
    "#         'txt': ['reviewText', 'reviewerName', 'movieid', 'genre', 'director', \n",
    "#                          'ratingContents', 'distributor']}\n",
    "\n",
    "# # Individual classifiers\n",
    "# clf1 =  {'selected_model' : AdaBoostClassifier(), \n",
    "#           'selected_features' : sf1, \n",
    "#           'param_grid' : {\"model__n_estimators\": [50]},\n",
    "#           'vocab' : None,\n",
    "#           'vocab_usage' : 'tfidf',\n",
    "#           'strip_accents' : 'unicode', \n",
    "#           'add_countvec' : False}\n",
    "\n",
    "# clf2 =  {'selected_model' : RandomForestClassifier(), \n",
    "#           'selected_features' : sf2,\n",
    "#           'param_grid' : {\"model__n_estimators\": [50], \n",
    "#                           'model__criterion': ['gini']},\n",
    "#           'vocab' : None,\n",
    "#           'vocab_usage' : 'tfidf',\n",
    "#           'strip_accents' : 'unicode', \n",
    "#           'add_countvec' : False}\n",
    "\n",
    "# clf3 =  {'selected_model' : LogisticRegression(C=1, solver='saga', max_iter=100000), \n",
    "#           'selected_features' : sf3, \n",
    "#           'param_grid' : {'model__C' : [1],\n",
    "#                             'model__solver': ['saga'],\n",
    "#                             \"model__fit_intercept\" : [True],\n",
    "#                             \"model__dual\" : [False]},\n",
    "#           'vocab' : None,\n",
    "#           'vocab_usage' : 'tfidf',\n",
    "#           'strip_accents' : 'unicode', \n",
    "#           'add_countvec' : True}\n",
    "\n",
    "\n",
    "# # List of classifiers for voting\n",
    "# classifiers= [clf1, clf2, clf3]\n",
    "\n",
    "# # Final predictions \n",
    "# pred_df = submit_v5(classifiers=classifiers)"
   ]
  },
  {
   "cell_type": "code",
   "execution_count": 93,
   "id": "3192915d",
   "metadata": {
    "execution": {
     "iopub.execute_input": "2023-08-10T18:58:51.176508Z",
     "iopub.status.busy": "2023-08-10T18:58:51.176110Z",
     "iopub.status.idle": "2023-08-10T18:58:51.191232Z",
     "shell.execute_reply": "2023-08-10T18:58:51.189736Z"
    },
    "papermill": {
     "duration": 0.124035,
     "end_time": "2023-08-10T18:58:51.193698",
     "exception": false,
     "start_time": "2023-08-10T18:58:51.069663",
     "status": "completed"
    },
    "tags": []
   },
   "outputs": [
    {
     "name": "stdout",
     "output_type": "stream",
     "text": [
      "(55315, 1)\n"
     ]
    },
    {
     "data": {
      "text/html": [
       "<div>\n",
       "<style scoped>\n",
       "    .dataframe tbody tr th:only-of-type {\n",
       "        vertical-align: middle;\n",
       "    }\n",
       "\n",
       "    .dataframe tbody tr th {\n",
       "        vertical-align: top;\n",
       "    }\n",
       "\n",
       "    .dataframe thead th {\n",
       "        text-align: right;\n",
       "    }\n",
       "</style>\n",
       "<table border=\"1\" class=\"dataframe\">\n",
       "  <thead>\n",
       "    <tr style=\"text-align: right;\">\n",
       "      <th></th>\n",
       "      <th>sentiment</th>\n",
       "    </tr>\n",
       "    <tr>\n",
       "      <th>id</th>\n",
       "      <th></th>\n",
       "    </tr>\n",
       "  </thead>\n",
       "  <tbody>\n",
       "    <tr>\n",
       "      <th>0</th>\n",
       "      <td>POSITIVE</td>\n",
       "    </tr>\n",
       "    <tr>\n",
       "      <th>1</th>\n",
       "      <td>POSITIVE</td>\n",
       "    </tr>\n",
       "    <tr>\n",
       "      <th>2</th>\n",
       "      <td>POSITIVE</td>\n",
       "    </tr>\n",
       "    <tr>\n",
       "      <th>3</th>\n",
       "      <td>POSITIVE</td>\n",
       "    </tr>\n",
       "    <tr>\n",
       "      <th>4</th>\n",
       "      <td>POSITIVE</td>\n",
       "    </tr>\n",
       "    <tr>\n",
       "      <th>...</th>\n",
       "      <td>...</td>\n",
       "    </tr>\n",
       "    <tr>\n",
       "      <th>55310</th>\n",
       "      <td>POSITIVE</td>\n",
       "    </tr>\n",
       "    <tr>\n",
       "      <th>55311</th>\n",
       "      <td>NEGATIVE</td>\n",
       "    </tr>\n",
       "    <tr>\n",
       "      <th>55312</th>\n",
       "      <td>POSITIVE</td>\n",
       "    </tr>\n",
       "    <tr>\n",
       "      <th>55313</th>\n",
       "      <td>POSITIVE</td>\n",
       "    </tr>\n",
       "    <tr>\n",
       "      <th>55314</th>\n",
       "      <td>NEGATIVE</td>\n",
       "    </tr>\n",
       "  </tbody>\n",
       "</table>\n",
       "<p>55315 rows × 1 columns</p>\n",
       "</div>"
      ],
      "text/plain": [
       "      sentiment\n",
       "id             \n",
       "0      POSITIVE\n",
       "1      POSITIVE\n",
       "2      POSITIVE\n",
       "3      POSITIVE\n",
       "4      POSITIVE\n",
       "...         ...\n",
       "55310  POSITIVE\n",
       "55311  NEGATIVE\n",
       "55312  POSITIVE\n",
       "55313  POSITIVE\n",
       "55314  NEGATIVE\n",
       "\n",
       "[55315 rows x 1 columns]"
      ]
     },
     "execution_count": 93,
     "metadata": {},
     "output_type": "execute_result"
    }
   ],
   "source": [
    "print(pred_df.shape)\n",
    "pred_df"
   ]
  },
  {
   "cell_type": "code",
   "execution_count": 94,
   "id": "e15c4513",
   "metadata": {
    "execution": {
     "iopub.execute_input": "2023-08-10T18:58:51.411278Z",
     "iopub.status.busy": "2023-08-10T18:58:51.410797Z",
     "iopub.status.idle": "2023-08-10T18:58:51.415892Z",
     "shell.execute_reply": "2023-08-10T18:58:51.414619Z"
    },
    "papermill": {
     "duration": 0.115059,
     "end_time": "2023-08-10T18:58:51.418212",
     "exception": false,
     "start_time": "2023-08-10T18:58:51.303153",
     "status": "completed"
    },
    "tags": []
   },
   "outputs": [],
   "source": [
    "# pred_df_mode = pred_df.mode(axis='columns')\n",
    "# print(pred_df_mode.shape)\n",
    "# pred_df_mode"
   ]
  },
  {
   "cell_type": "code",
   "execution_count": 95,
   "id": "353309fb",
   "metadata": {
    "execution": {
     "iopub.execute_input": "2023-08-10T18:58:51.626680Z",
     "iopub.status.busy": "2023-08-10T18:58:51.626263Z",
     "iopub.status.idle": "2023-08-10T18:58:51.643930Z",
     "shell.execute_reply": "2023-08-10T18:58:51.642464Z"
    },
    "papermill": {
     "duration": 0.125119,
     "end_time": "2023-08-10T18:58:51.646769",
     "exception": false,
     "start_time": "2023-08-10T18:58:51.521650",
     "status": "completed"
    },
    "tags": []
   },
   "outputs": [
    {
     "data": {
      "text/plain": [
       "sentiment\n",
       "POSITIVE     43080\n",
       "NEGATIVE     12235\n",
       "dtype: int64"
      ]
     },
     "execution_count": 95,
     "metadata": {},
     "output_type": "execute_result"
    }
   ],
   "source": [
    "pred_df.value_counts()"
   ]
  },
  {
   "cell_type": "markdown",
   "id": "fc163de6",
   "metadata": {
    "papermill": {
     "duration": 0.107292,
     "end_time": "2023-08-10T18:58:51.862971",
     "exception": false,
     "start_time": "2023-08-10T18:58:51.755679",
     "status": "completed"
    },
    "tags": []
   },
   "source": [
    "# NOTE: Move submit_v4 submissions below the suubmit_v4 function  "
   ]
  },
  {
   "cell_type": "code",
   "execution_count": 96,
   "id": "ab7f0399",
   "metadata": {
    "execution": {
     "iopub.execute_input": "2023-08-10T18:58:52.083400Z",
     "iopub.status.busy": "2023-08-10T18:58:52.082633Z",
     "iopub.status.idle": "2023-08-10T18:58:52.086592Z",
     "shell.execute_reply": "2023-08-10T18:58:52.085842Z"
    },
    "papermill": {
     "duration": 0.120164,
     "end_time": "2023-08-10T18:58:52.089233",
     "exception": false,
     "start_time": "2023-08-10T18:58:51.969069",
     "status": "completed"
    },
    "tags": []
   },
   "outputs": [],
   "source": [
    "# Try 'submit_v4' function with default params (LogisticRegression model)  \n",
    "\n",
    "# submit_v4()\n",
    "\n",
    "#Default params to this function gave a score of 0.8259 - improvement over previous score of 0.82563!"
   ]
  },
  {
   "cell_type": "code",
   "execution_count": 97,
   "id": "4207547d",
   "metadata": {
    "execution": {
     "iopub.execute_input": "2023-08-10T18:58:52.307286Z",
     "iopub.status.busy": "2023-08-10T18:58:52.306564Z",
     "iopub.status.idle": "2023-08-10T18:58:52.311493Z",
     "shell.execute_reply": "2023-08-10T18:58:52.310434Z"
    },
    "papermill": {
     "duration": 0.118831,
     "end_time": "2023-08-10T18:58:52.313979",
     "exception": false,
     "start_time": "2023-08-10T18:58:52.195148",
     "status": "completed"
    },
    "tags": []
   },
   "outputs": [],
   "source": [
    "# Try out GridSearchCV on \"submit_v4\" function with param_grid  \n",
    "# param_grid = {\n",
    "#     \"model__C\": [0.1, 1, 5, 10]\n",
    "# }\n",
    "\n",
    "# submit_v4(selected_features={'txt': ['genre']}, param_grid=param_grid)"
   ]
  },
  {
   "cell_type": "markdown",
   "id": "f2372e60",
   "metadata": {
    "papermill": {
     "duration": 0.105239,
     "end_time": "2023-08-10T18:58:52.525108",
     "exception": false,
     "start_time": "2023-08-10T18:58:52.419869",
     "status": "completed"
    },
    "tags": []
   },
   "source": [
    "### Try LinearSVC with GridSearchCV  "
   ]
  },
  {
   "cell_type": "code",
   "execution_count": 98,
   "id": "215cd762",
   "metadata": {
    "execution": {
     "iopub.execute_input": "2023-08-10T18:58:52.818095Z",
     "iopub.status.busy": "2023-08-10T18:58:52.817708Z",
     "iopub.status.idle": "2023-08-10T18:58:52.822996Z",
     "shell.execute_reply": "2023-08-10T18:58:52.821767Z"
    },
    "papermill": {
     "duration": 0.114489,
     "end_time": "2023-08-10T18:58:52.825642",
     "exception": false,
     "start_time": "2023-08-10T18:58:52.711153",
     "status": "completed"
    },
    "tags": []
   },
   "outputs": [],
   "source": [
    "# all_dict = {'cat': [\"isFrequentReviewer\", \"rating\", \"originalLanguage\"],\n",
    "#              'num': [\"audienceScore\", \"runtimeMinutes\", \"boxOffice\"],\n",
    "#              'txt': ['reviewText', 'reviewerName', 'movieid', 'genre', 'director']}\n",
    "\n",
    "# param_grid_svc = {\n",
    "#     \"model__C\": [0.1, 1, 10, 100]\n",
    "# }\n",
    "# param_grid_svc"
   ]
  },
  {
   "cell_type": "code",
   "execution_count": 99,
   "id": "5b3329fd",
   "metadata": {
    "execution": {
     "iopub.execute_input": "2023-08-10T18:58:53.040784Z",
     "iopub.status.busy": "2023-08-10T18:58:53.040015Z",
     "iopub.status.idle": "2023-08-10T18:58:53.044461Z",
     "shell.execute_reply": "2023-08-10T18:58:53.043600Z"
    },
    "papermill": {
     "duration": 0.116544,
     "end_time": "2023-08-10T18:58:53.046752",
     "exception": false,
     "start_time": "2023-08-10T18:58:52.930208",
     "status": "completed"
    },
    "tags": []
   },
   "outputs": [],
   "source": [
    "# LinearSCV on single feature  \n",
    "\n",
    "# submit_v4(selected_model=LinearSVC(max_iter=100000, random_state=42), selected_features={'num': [\"audienceScore\"]}, param_grid=param_grid_svc)\n",
    "\n",
    "# Comment: LinearSVC even on single column feature set takes too long to converge."
   ]
  },
  {
   "cell_type": "code",
   "execution_count": 100,
   "id": "3566e7ec",
   "metadata": {
    "execution": {
     "iopub.execute_input": "2023-08-10T18:58:53.257837Z",
     "iopub.status.busy": "2023-08-10T18:58:53.257398Z",
     "iopub.status.idle": "2023-08-10T18:58:53.263322Z",
     "shell.execute_reply": "2023-08-10T18:58:53.261862Z"
    },
    "papermill": {
     "duration": 0.113734,
     "end_time": "2023-08-10T18:58:53.266114",
     "exception": false,
     "start_time": "2023-08-10T18:58:53.152380",
     "status": "completed"
    },
    "tags": []
   },
   "outputs": [],
   "source": [
    "# LinearSCV on all available features\n",
    "\n",
    "# submit_v4(selected_model=LinearSVC(max_iter=100000, random_state=42), selected_features=all_dict, param_grid=param_grid_svc)\n",
    "\n",
    "# (Update): This took 66 mins to run and gave a public score of 0.84295 (lesser than logreg gridsearchcv wwhich gave 0.84441). Best C was 1.0.\n"
   ]
  },
  {
   "cell_type": "markdown",
   "id": "d1973aef",
   "metadata": {
    "papermill": {
     "duration": 0.105246,
     "end_time": "2023-08-10T18:58:53.479941",
     "exception": false,
     "start_time": "2023-08-10T18:58:53.374695",
     "status": "completed"
    },
    "tags": []
   },
   "source": [
    "### Boosting techniques  "
   ]
  },
  {
   "cell_type": "code",
   "execution_count": 101,
   "id": "dd8f3476",
   "metadata": {
    "execution": {
     "iopub.execute_input": "2023-08-10T18:58:53.693354Z",
     "iopub.status.busy": "2023-08-10T18:58:53.692515Z",
     "iopub.status.idle": "2023-08-10T18:58:53.697017Z",
     "shell.execute_reply": "2023-08-10T18:58:53.695899Z"
    },
    "papermill": {
     "duration": 0.111452,
     "end_time": "2023-08-10T18:58:53.699231",
     "exception": false,
     "start_time": "2023-08-10T18:58:53.587779",
     "status": "completed"
    },
    "tags": []
   },
   "outputs": [],
   "source": [
    "# adc = AdaBoostClassifier(estimator=LogisticRegression(C=5, solver=\"saga\", max_iter=100000), n_estimators=50)\n",
    "# adc"
   ]
  },
  {
   "cell_type": "code",
   "execution_count": 102,
   "id": "8a33531a",
   "metadata": {
    "execution": {
     "iopub.execute_input": "2023-08-10T18:58:53.913270Z",
     "iopub.status.busy": "2023-08-10T18:58:53.912102Z",
     "iopub.status.idle": "2023-08-10T18:58:53.918978Z",
     "shell.execute_reply": "2023-08-10T18:58:53.917486Z"
    },
    "papermill": {
     "duration": 0.117026,
     "end_time": "2023-08-10T18:58:53.922109",
     "exception": false,
     "start_time": "2023-08-10T18:58:53.805083",
     "status": "completed"
    },
    "tags": []
   },
   "outputs": [],
   "source": [
    "# submit_v4(selected_model=adc, selected_features={'num': [\"audienceScore\"]}, param_grid=None)"
   ]
  },
  {
   "cell_type": "code",
   "execution_count": 103,
   "id": "f4c5002e",
   "metadata": {
    "execution": {
     "iopub.execute_input": "2023-08-10T18:58:54.155497Z",
     "iopub.status.busy": "2023-08-10T18:58:54.154705Z",
     "iopub.status.idle": "2023-08-10T18:58:54.159375Z",
     "shell.execute_reply": "2023-08-10T18:58:54.158620Z"
    },
    "papermill": {
     "duration": 0.111696,
     "end_time": "2023-08-10T18:58:54.161706",
     "exception": false,
     "start_time": "2023-08-10T18:58:54.050010",
     "status": "completed"
    },
    "tags": []
   },
   "outputs": [],
   "source": [
    "# submit_v4(selected_model=adc, selected_features=all_dict, param_grid=None)\n",
    "\n",
    "# Took 1 hour 15 mins to run and gave a public score of only 0.71089. Discarded."
   ]
  },
  {
   "cell_type": "markdown",
   "id": "e5263a09",
   "metadata": {
    "papermill": {
     "duration": 0.103191,
     "end_time": "2023-08-10T18:58:54.371004",
     "exception": false,
     "start_time": "2023-08-10T18:58:54.267813",
     "status": "completed"
    },
    "tags": []
   },
   "source": [
    "### LightGBM  "
   ]
  },
  {
   "cell_type": "code",
   "execution_count": 104,
   "id": "1efb1c03",
   "metadata": {
    "execution": {
     "iopub.execute_input": "2023-08-10T18:58:54.578905Z",
     "iopub.status.busy": "2023-08-10T18:58:54.578098Z",
     "iopub.status.idle": "2023-08-10T18:58:54.582781Z",
     "shell.execute_reply": "2023-08-10T18:58:54.581864Z"
    },
    "papermill": {
     "duration": 0.111278,
     "end_time": "2023-08-10T18:58:54.585086",
     "exception": false,
     "start_time": "2023-08-10T18:58:54.473808",
     "status": "completed"
    },
    "tags": []
   },
   "outputs": [],
   "source": [
    "# lgb = ltb.LGBMClassifier()\n",
    "# lgb"
   ]
  },
  {
   "cell_type": "code",
   "execution_count": 105,
   "id": "aae870ac",
   "metadata": {
    "execution": {
     "iopub.execute_input": "2023-08-10T18:58:54.793606Z",
     "iopub.status.busy": "2023-08-10T18:58:54.792820Z",
     "iopub.status.idle": "2023-08-10T18:58:54.797629Z",
     "shell.execute_reply": "2023-08-10T18:58:54.796824Z"
    },
    "papermill": {
     "duration": 0.111613,
     "end_time": "2023-08-10T18:58:54.799904",
     "exception": false,
     "start_time": "2023-08-10T18:58:54.688291",
     "status": "completed"
    },
    "tags": []
   },
   "outputs": [],
   "source": [
    "# Try LightGBM with default settings\n",
    "# (Update): Public score only 0.77713. It was fast, took less than 5 mins (without GridSearchCV)\n",
    "\n",
    "# submit_v4(selected_model=ltb.LGBMClassifier(), selected_features=all_dict, param_grid=None)"
   ]
  },
  {
   "cell_type": "markdown",
   "id": "13b8aed8",
   "metadata": {
    "papermill": {
     "duration": 0.111162,
     "end_time": "2023-08-10T18:58:55.015245",
     "exception": false,
     "start_time": "2023-08-10T18:58:54.904083",
     "status": "completed"
    },
    "tags": []
   },
   "source": [
    "## Feature Engineering"
   ]
  },
  {
   "cell_type": "markdown",
   "id": "4141dc0b",
   "metadata": {
    "papermill": {
     "duration": 0.103685,
     "end_time": "2023-08-10T18:58:55.225078",
     "exception": false,
     "start_time": "2023-08-10T18:58:55.121393",
     "status": "completed"
    },
    "tags": []
   },
   "source": [
    "### Plan  \n",
    "* Add a new column 'reviewWC' which has word count of 'reviewText'  \n",
    "    * Check if there is any relationship between 'reviewWC' and 'sentiment'\n",
    "* Work on vocabulary\n",
    "     * Use TfidfVectorizer and find out the vocabulary of 'reviewText' column for various ngrams\n",
    "     * Use RecursiveFeatureElimination (RFE) or RFECV to select 1000 top words/vocab for each ngram\n",
    "     * Use the final vocab (1000-3000 words) in the model and see how it performs compared to whole vocab\n",
    "\n",
    "`(Update): Code incorporated into the \"select_features\" function  `  \n",
    "`(Update): Many other new features incorporated into the \"select_features\" function too  `  \n",
    "\n"
   ]
  },
  {
   "cell_type": "markdown",
   "id": "93fc1913",
   "metadata": {
    "papermill": {
     "duration": 0.10174,
     "end_time": "2023-08-10T18:58:55.430698",
     "exception": false,
     "start_time": "2023-08-10T18:58:55.328958",
     "status": "completed"
    },
    "tags": []
   },
   "source": [
    "## Work on vocabulary  \n",
    "\n",
    "`Build vocabulary from 'reviewText' column`  "
   ]
  },
  {
   "cell_type": "code",
   "execution_count": 106,
   "id": "de459054",
   "metadata": {
    "execution": {
     "iopub.execute_input": "2023-08-10T18:58:55.640665Z",
     "iopub.status.busy": "2023-08-10T18:58:55.639913Z",
     "iopub.status.idle": "2023-08-10T18:58:55.644486Z",
     "shell.execute_reply": "2023-08-10T18:58:55.643664Z"
    },
    "papermill": {
     "duration": 0.112673,
     "end_time": "2023-08-10T18:58:55.646896",
     "exception": false,
     "start_time": "2023-08-10T18:58:55.534223",
     "status": "completed"
    },
    "tags": []
   },
   "outputs": [],
   "source": [
    "# rt_senti = merged[[\"reviewText\", \"sentiment\"]].copy()\n",
    "# rt_senti.shape, rt_senti.head()"
   ]
  },
  {
   "cell_type": "code",
   "execution_count": 107,
   "id": "ae073eb3",
   "metadata": {
    "execution": {
     "iopub.execute_input": "2023-08-10T18:58:55.855056Z",
     "iopub.status.busy": "2023-08-10T18:58:55.854325Z",
     "iopub.status.idle": "2023-08-10T18:58:55.859005Z",
     "shell.execute_reply": "2023-08-10T18:58:55.858120Z"
    },
    "papermill": {
     "duration": 0.111362,
     "end_time": "2023-08-10T18:58:55.861231",
     "exception": false,
     "start_time": "2023-08-10T18:58:55.749869",
     "status": "completed"
    },
    "tags": []
   },
   "outputs": [],
   "source": [
    "# rt_test = pd.DataFrame(merged_test[\"reviewText\"].copy())\n",
    "# rt_test.shape, rt_test.head()"
   ]
  },
  {
   "cell_type": "code",
   "execution_count": 108,
   "id": "fd4d07d5",
   "metadata": {
    "execution": {
     "iopub.execute_input": "2023-08-10T18:58:56.073728Z",
     "iopub.status.busy": "2023-08-10T18:58:56.073093Z",
     "iopub.status.idle": "2023-08-10T18:58:56.077817Z",
     "shell.execute_reply": "2023-08-10T18:58:56.077011Z"
    },
    "papermill": {
     "duration": 0.115641,
     "end_time": "2023-08-10T18:58:56.080012",
     "exception": false,
     "start_time": "2023-08-10T18:58:55.964371",
     "status": "completed"
    },
    "tags": []
   },
   "outputs": [],
   "source": [
    "# def get_vocab(text_df, ngram_range=(1,1)):\n",
    "#     print(f\"Generating vocabulary for ngram_range: {ngram_range}...\")\n",
    "#     tvec1 = CountVectorizer(ngram_range=ngram_range, stop_words='english', strip_accents='unicode')\n",
    "#     tvec1.fit(text_df)\n",
    "#     voc_ngram = list(tvec1.vocabulary_.keys())\n",
    "#     return voc_ngram"
   ]
  },
  {
   "cell_type": "code",
   "execution_count": 109,
   "id": "2edfab91",
   "metadata": {
    "execution": {
     "iopub.execute_input": "2023-08-10T18:58:56.291000Z",
     "iopub.status.busy": "2023-08-10T18:58:56.290484Z",
     "iopub.status.idle": "2023-08-10T18:58:56.296366Z",
     "shell.execute_reply": "2023-08-10T18:58:56.294867Z"
    },
    "papermill": {
     "duration": 0.11578,
     "end_time": "2023-08-10T18:58:56.298996",
     "exception": false,
     "start_time": "2023-08-10T18:58:56.183216",
     "status": "completed"
    },
    "tags": []
   },
   "outputs": [],
   "source": [
    "# def get_common_vocab(df_list: list, ngram_range_list: list):\n",
    "#     \"\"\"\n",
    "#     Get common vocabulary from a list of dataframes.\n",
    "#     \"\"\"\n",
    "#     # Get vocabulary from each dataframe for a given ngram-range\n",
    "#     for ngram_range in ngram_range_list:\n",
    "#         vocab_ngram = set()\n",
    "#         for df in df_list:\n",
    "#             vocab_ngram_df = set(get_vocab(df['reviewText'], ngram_range))\n",
    "#             print(f\"Vocabulary for ngram-range {ngram_range} in df: {len(vocab_ngram_df)}\")\n",
    "#             if vocab_ngram:\n",
    "#                 vocab_ngram = vocab_ngram.intersection(vocab_ngram_df)\n",
    "#             else:\n",
    "#                 vocab_ngram = vocab_ngram_df\n",
    "#         print(f\"Common vocabulary for ngram-range {ngram_range}: {len(vocab_ngram)}\")   \n",
    "#     return vocab_ngram"
   ]
  },
  {
   "cell_type": "code",
   "execution_count": 110,
   "id": "ca3f4603",
   "metadata": {
    "execution": {
     "iopub.execute_input": "2023-08-10T18:58:56.571433Z",
     "iopub.status.busy": "2023-08-10T18:58:56.570968Z",
     "iopub.status.idle": "2023-08-10T18:58:56.576447Z",
     "shell.execute_reply": "2023-08-10T18:58:56.575148Z"
    },
    "papermill": {
     "duration": 0.176973,
     "end_time": "2023-08-10T18:58:56.578807",
     "exception": false,
     "start_time": "2023-08-10T18:58:56.401834",
     "status": "completed"
    },
    "tags": []
   },
   "outputs": [],
   "source": [
    "# voc_1gram = get_vocab(rt_senti[\"reviewText\"], ngram_range=(1,1))\n",
    "# len(voc_1gram), voc_1gram[:10]"
   ]
  },
  {
   "cell_type": "code",
   "execution_count": 111,
   "id": "6828624b",
   "metadata": {
    "execution": {
     "iopub.execute_input": "2023-08-10T18:58:56.788592Z",
     "iopub.status.busy": "2023-08-10T18:58:56.788104Z",
     "iopub.status.idle": "2023-08-10T18:58:56.793463Z",
     "shell.execute_reply": "2023-08-10T18:58:56.792199Z"
    },
    "papermill": {
     "duration": 0.112687,
     "end_time": "2023-08-10T18:58:56.795920",
     "exception": false,
     "start_time": "2023-08-10T18:58:56.683233",
     "status": "completed"
    },
    "tags": []
   },
   "outputs": [],
   "source": [
    "# voc_2gram = get_vocab(rt_senti[\"reviewText\"], ngram_range=(2,2))\n",
    "# len(voc_2gram), voc_2gram[:10]"
   ]
  },
  {
   "cell_type": "code",
   "execution_count": 112,
   "id": "446ab13b",
   "metadata": {
    "execution": {
     "iopub.execute_input": "2023-08-10T18:58:57.006624Z",
     "iopub.status.busy": "2023-08-10T18:58:57.005290Z",
     "iopub.status.idle": "2023-08-10T18:58:57.016058Z",
     "shell.execute_reply": "2023-08-10T18:58:57.014650Z"
    },
    "papermill": {
     "duration": 0.119205,
     "end_time": "2023-08-10T18:58:57.018609",
     "exception": false,
     "start_time": "2023-08-10T18:58:56.899404",
     "status": "completed"
    },
    "tags": []
   },
   "outputs": [],
   "source": [
    "# voc_3gram = get_vocab(rt_senti[\"reviewText\"], ngram_range=(3,3))\n",
    "# len(voc_3gram), voc_3gram[:10]"
   ]
  },
  {
   "cell_type": "code",
   "execution_count": 113,
   "id": "5ef8afa2",
   "metadata": {
    "execution": {
     "iopub.execute_input": "2023-08-10T18:58:57.227664Z",
     "iopub.status.busy": "2023-08-10T18:58:57.226509Z",
     "iopub.status.idle": "2023-08-10T18:58:57.232688Z",
     "shell.execute_reply": "2023-08-10T18:58:57.231367Z"
    },
    "papermill": {
     "duration": 0.112913,
     "end_time": "2023-08-10T18:58:57.235279",
     "exception": false,
     "start_time": "2023-08-10T18:58:57.122366",
     "status": "completed"
    },
    "tags": []
   },
   "outputs": [],
   "source": [
    "# common_unigrams = get_common_vocab([rt_senti, rt_test], ngram_range_list=[(1,1)])\n",
    "# # sorted(list(common_unigrams))"
   ]
  },
  {
   "cell_type": "code",
   "execution_count": 114,
   "id": "d62f8c6b",
   "metadata": {
    "execution": {
     "iopub.execute_input": "2023-08-10T18:58:57.446187Z",
     "iopub.status.busy": "2023-08-10T18:58:57.445710Z",
     "iopub.status.idle": "2023-08-10T18:58:57.451262Z",
     "shell.execute_reply": "2023-08-10T18:58:57.450043Z"
    },
    "papermill": {
     "duration": 0.112857,
     "end_time": "2023-08-10T18:58:57.453800",
     "exception": false,
     "start_time": "2023-08-10T18:58:57.340943",
     "status": "completed"
    },
    "tags": []
   },
   "outputs": [],
   "source": [
    "# common_bigrams = get_common_vocab([rt_senti, rt_test], ngram_range_list=[(2,2)])\n",
    "# # common_bigrams"
   ]
  },
  {
   "cell_type": "code",
   "execution_count": 115,
   "id": "b1a2fd28",
   "metadata": {
    "execution": {
     "iopub.execute_input": "2023-08-10T18:58:57.662971Z",
     "iopub.status.busy": "2023-08-10T18:58:57.662466Z",
     "iopub.status.idle": "2023-08-10T18:58:57.668332Z",
     "shell.execute_reply": "2023-08-10T18:58:57.666907Z"
    },
    "papermill": {
     "duration": 0.113176,
     "end_time": "2023-08-10T18:58:57.671084",
     "exception": false,
     "start_time": "2023-08-10T18:58:57.557908",
     "status": "completed"
    },
    "tags": []
   },
   "outputs": [],
   "source": [
    "# common_1_2_grams = common_unigrams | common_bigrams\n",
    "# print(len(common_1_2_grams))\n",
    "# # sorted(list(common_1_2_grams))"
   ]
  },
  {
   "cell_type": "code",
   "execution_count": 116,
   "id": "55d46178",
   "metadata": {
    "execution": {
     "iopub.execute_input": "2023-08-10T18:58:57.878636Z",
     "iopub.status.busy": "2023-08-10T18:58:57.878203Z",
     "iopub.status.idle": "2023-08-10T18:58:57.883276Z",
     "shell.execute_reply": "2023-08-10T18:58:57.882069Z"
    },
    "papermill": {
     "duration": 0.111939,
     "end_time": "2023-08-10T18:58:57.885717",
     "exception": false,
     "start_time": "2023-08-10T18:58:57.773778",
     "status": "completed"
    },
    "tags": []
   },
   "outputs": [],
   "source": [
    "# common_trigrams = get_common_vocab([rt_senti, rt_test], ngram_range_list=[(3,3)])\n",
    "# # common_trigrams"
   ]
  },
  {
   "cell_type": "code",
   "execution_count": 117,
   "id": "e1de6cf5",
   "metadata": {
    "execution": {
     "iopub.execute_input": "2023-08-10T18:58:58.096444Z",
     "iopub.status.busy": "2023-08-10T18:58:58.096003Z",
     "iopub.status.idle": "2023-08-10T18:58:58.101486Z",
     "shell.execute_reply": "2023-08-10T18:58:58.100224Z"
    },
    "papermill": {
     "duration": 0.116491,
     "end_time": "2023-08-10T18:58:58.103886",
     "exception": false,
     "start_time": "2023-08-10T18:58:57.987395",
     "status": "completed"
    },
    "tags": []
   },
   "outputs": [],
   "source": [
    "# common_1_2_3_grams = common_unigrams | common_bigrams | common_trigrams\n",
    "# print(len(common_1_2_3_grams))\n",
    "# # sorted((common_1_2_3_grams))"
   ]
  },
  {
   "cell_type": "markdown",
   "id": "d3391cba",
   "metadata": {
    "papermill": {
     "duration": 0.104051,
     "end_time": "2023-08-10T18:58:58.309982",
     "exception": false,
     "start_time": "2023-08-10T18:58:58.205931",
     "status": "completed"
    },
    "tags": []
   },
   "source": [
    "# Back to vocab after success of version 63  "
   ]
  },
  {
   "cell_type": "code",
   "execution_count": 118,
   "id": "77d7dcca",
   "metadata": {
    "execution": {
     "iopub.execute_input": "2023-08-10T18:58:58.516402Z",
     "iopub.status.busy": "2023-08-10T18:58:58.516010Z",
     "iopub.status.idle": "2023-08-10T18:58:58.539335Z",
     "shell.execute_reply": "2023-08-10T18:58:58.538154Z"
    },
    "papermill": {
     "duration": 0.129315,
     "end_time": "2023-08-10T18:58:58.542115",
     "exception": false,
     "start_time": "2023-08-10T18:58:58.412800",
     "status": "completed"
    },
    "tags": []
   },
   "outputs": [],
   "source": [
    "def submit_v4(selected_model=LogisticRegression(C=1, solver='liblinear', max_iter=100000), \n",
    "              selected_features={'txt': ['reviewText']}, \n",
    "              param_grid=None,\n",
    "              vocab=None,\n",
    "              vocab_usage='tfidf',\n",
    "              strip_accents='unicode', \n",
    "              add_countvec=False):\n",
    "    \n",
    "    print(\"\\nRunning the submit_v4 function...\")\n",
    "    \n",
    "    # Fine tune selected_features\n",
    "    if add_countvec:\n",
    "        if 'txt' in selected_features.keys():\n",
    "            if \"reviewText_2\" not in selected_features['txt']:\n",
    "                selected_features['txt'].append('reviewText_2')\n",
    "    if vocab:\n",
    "        if 'txt' in selected_features.keys():\n",
    "            if \"reviewText_3\" not in selected_features['txt']:\n",
    "                selected_features['txt'].append('reviewText_3')\n",
    "    print(f\"\\nSelected features: {selected_features}\")\n",
    "\n",
    "    \n",
    "    \n",
    "    # Build Pipeline\n",
    "    pipe = build_pipeline(selected_model, selected_features, param_grid=param_grid, \n",
    "                          vocab=vocab, vocab_usage='tfidf', \n",
    "                          strip_accents=strip_accents, add_countvec=add_countvec)\n",
    "    print(pipe)\n",
    "\n",
    "    \n",
    "    \n",
    "    # Features list\n",
    "    features = []\n",
    "    for item in selected_features.values():\n",
    "        features.extend(item)\n",
    " \n",
    "\n",
    "    # Merge and preprocess train and movies data  \n",
    "    merged = select_features(load_csv(\"train\"), load_csv(\"movies\"), row_thresh_null=None)    # Decide if you want to drop any rows containing lot of nulls\n",
    "    # Impute missing numerical values  \n",
    "    # Simple Imputer for ['audienceScore', 'runtimeMinutes', 'boxOffice'] and 'releaseDate' columns\n",
    "    si = SimpleImputer(strategy='median')\n",
    "    merged[['audienceScore', 'runtimeMinutes', 'boxOffice']] = si.fit_transform(merged[['audienceScore', 'runtimeMinutes', 'boxOffice']])\n",
    "    merged['releaseDate'] = merged[\"releaseDate\"].fillna(merged[\"releaseDate\"].median())    \n",
    "    # Add new columns as needed  \n",
    "    if add_countvec:\n",
    "        merged['reviewText_2'] = merged['reviewText']\n",
    "    if vocab:\n",
    "        merged['reviewText_3'] = merged['reviewText']\n",
    "        \n",
    "    X_train = merged.drop(labels=\"sentiment\", axis=1)\n",
    "    y_train = merged[\"sentiment\"]\n",
    "\n",
    "    X_train = X_train[features]\n",
    "    \n",
    "    \n",
    "    # Check1\n",
    "    print(\"\\nCheck 1 complete.\")\n",
    "    print(f\"Shape of X_train: {X_train.shape}\")\n",
    "    print(f\"Features in X_train: {X_train.columns}\")\n",
    "#     print(X_train.head())\n",
    "    \n",
    "    \n",
    "    # Fit \n",
    "    print(\"\\nTraining started with full pipeline...\")\n",
    "    pipe.fit(X_train, y_train)\n",
    "    \n",
    "    # Check2\n",
    "    print(\"\\nCheck 2 complete.\")\n",
    "    print(\"Details of the best model using full pipeline (GridSearchCV) on X_train: \")\n",
    "    print(f\"Best Params: {pipe.best_params_}\")\n",
    "    print(f\"Best Score: {pipe.best_score_}\")\n",
    "    \n",
    "    print(predict_on_missing_review_data(pipe, features, merged))    # Function defined above\n",
    "    \n",
    "        \n",
    "    # Predict on test.csv file\n",
    "    \n",
    "    # Merge and preprocess test and movies data  \n",
    "    merged_test = select_features(load_csv(\"test\"), load_csv(\"movies\"))\n",
    "    # Transform ['audienceScore', 'runtimeMinutes', 'boxOffice'] columns in merged_test using 'si' fitted on 'merged' df  \n",
    "    merged_test[['audienceScore', 'runtimeMinutes', 'boxOffice']] = si.transform(merged_test[['audienceScore', 'runtimeMinutes', 'boxOffice']])\n",
    "    # Fill 'releaseDate' column in 'merged_test' df with median from the train (merged) df  \n",
    "    merged_test['releaseDate'] = merged_test[\"releaseDate\"].fillna(merged[\"releaseDate\"].median())\n",
    "    # Add new columns as needed \n",
    "    if add_countvec:\n",
    "        merged_test['reviewText_2'] = merged_test['reviewText']\n",
    "    if vocab:\n",
    "        merged_test['reviewText_3'] = merged_test['reviewText']\n",
    "        \n",
    "    X_test = merged_test.copy()\n",
    "\n",
    "    X_test = X_test[features]\n",
    "    \n",
    "    \n",
    "    # Check3\n",
    "    print(\"\\nCheck 3 complete.\")\n",
    "    print(f\"Shape of X_test: {X_test.shape}\")\n",
    "    print(f\"Features in X_test: {X_test.columns}\")\n",
    "#     print(X_test.head())\n",
    "    \n",
    "    y_pred = pipe.predict(X_test)\n",
    "    \n",
    "    # Check4\n",
    "    print(\"\\nCheck 4 complete.\")\n",
    "#     cv_results_df = pd.DataFrame(pipe.cv_results_)\n",
    "    print(\"Details of the best model using full pipeline (GridSearchCV) on X_train: \")\n",
    "    print(f\"Best Estimator: {pipe.best_estimator_}\")\n",
    "    print(f\"Best Params: {pipe.best_params_}\")\n",
    "    print(f\"Best Score: {pipe.best_score_}\")\n",
    "    print(f\"Best Index: {pipe.best_index_}\")\n",
    "    print(f\"Refit Time: {pipe.refit_time_}\")\n",
    "#     print(f\"Shape of CV results dataframe: {cv_results_df.shape}\")\n",
    "    \n",
    "    pred_df = pd.DataFrame(y_pred)\n",
    "    pred_df.columns = [\"sentiment\"]\n",
    "    pred_df.index.name = \"id\"\n",
    "    pred_df.to_csv(\"submission.csv\")\n",
    "    \n",
    "    print(\"\\nSuccessfully created the submission file!!!\")\n",
    "    \n",
    "    return pipe.cv_results_"
   ]
  },
  {
   "cell_type": "code",
   "execution_count": 119,
   "id": "b449a8d9",
   "metadata": {
    "execution": {
     "iopub.execute_input": "2023-08-10T18:58:58.750526Z",
     "iopub.status.busy": "2023-08-10T18:58:58.750159Z",
     "iopub.status.idle": "2023-08-10T18:58:58.757002Z",
     "shell.execute_reply": "2023-08-10T18:58:58.756087Z"
    },
    "papermill": {
     "duration": 0.114396,
     "end_time": "2023-08-10T18:58:58.759197",
     "exception": false,
     "start_time": "2023-08-10T18:58:58.644801",
     "status": "completed"
    },
    "tags": []
   },
   "outputs": [
    {
     "data": {
      "text/plain": [
       "Index(['movieid', 'reviewerName', 'isFrequentReviewer', 'reviewText',\n",
       "       'sentiment', 'title', 'audienceScore', 'rating', 'ratingContents',\n",
       "       'releaseDateTheaters', 'releaseDateStreaming', 'runtimeMinutes',\n",
       "       'genre', 'originalLanguage', 'director', 'boxOffice', 'distributor',\n",
       "       'soundType', 'reviewYN', 'reviewWC', 'genreSorted', 'rcSorted',\n",
       "       'releaseDate', 'releaseYear', 'releaseMonth', 'releaseDiff',\n",
       "       'audScoreBins', 'runtimeBins', 'boxOfficeBins', 'releaseDiffBins'],\n",
       "      dtype='object')"
      ]
     },
     "execution_count": 119,
     "metadata": {},
     "output_type": "execute_result"
    }
   ],
   "source": [
    "merged.columns"
   ]
  },
  {
   "cell_type": "code",
   "execution_count": 120,
   "id": "67aa6363",
   "metadata": {
    "execution": {
     "iopub.execute_input": "2023-08-10T18:58:58.968007Z",
     "iopub.status.busy": "2023-08-10T18:58:58.967611Z",
     "iopub.status.idle": "2023-08-10T18:58:58.979343Z",
     "shell.execute_reply": "2023-08-10T18:58:58.977957Z"
    },
    "papermill": {
     "duration": 0.120187,
     "end_time": "2023-08-10T18:58:58.981977",
     "exception": false,
     "start_time": "2023-08-10T18:58:58.861790",
     "status": "completed"
    },
    "tags": []
   },
   "outputs": [],
   "source": [
    "# Best #2\n",
    "v80_dict = {'cat': ['isFrequentReviewer', 'audScoreBins', 'boxOfficeBins'], \n",
    "                  'txt': ['reviewText', 'reviewerName', 'movieid', 'genre', 'director', \n",
    "                          'ratingContents', 'distributor']}\n",
    "# Best #1\n",
    "v88_dict = {'cat': ['isFrequentReviewer', 'audScoreBins', 'boxOfficeBins'],\n",
    "            'num': ['releaseDiff'],\n",
    "            'txt': ['reviewText', 'reviewerName', 'movieid', 'genre', 'director', \n",
    "                         'ratingContents', 'distributor']}\n",
    "\n",
    "v92_dict = {'cat': ['isFrequentReviewer', 'audScoreBins', 'boxOfficeBins', 'releaseDiffBins'],\n",
    "            'txt': ['reviewText', 'reviewerName', 'title', 'genre', 'director', \n",
    "                         'ratingContents', 'distributor']}\n",
    "\n",
    "# Best univariable datapoints dict\n",
    "best_uni_dict = {'cat': [\"isFrequentReviewer\", \"audScoreBins\"],\n",
    "                 'txt': ['reviewText','movieid', 'director', \"ratingContents\"]}\n",
    "\n",
    "# param_grids for LogisticRegression  \n",
    "\n",
    "# Best #1  \n",
    "# param_grid = {\n",
    "#     'model__C' : [1],\n",
    "#     'model__solver': ['saga'],\n",
    "#     \"model__fit_intercept\" : [True],\n",
    "#     \"model__dual\" : [False]\n",
    "#     }\n",
    "\n",
    "# working\n",
    "param_grid = {\n",
    "    'model__C' : [1],\n",
    "    'model__solver': ['saga'],\n",
    "    \"model__fit_intercept\" : [True],\n",
    "    \"model__dual\" : [False],\n",
    "#     \"model__class_weight\": ['balanced', None]\n",
    "}\n",
    "\n",
    "\n",
    "# param_grids for LinearSVC  \n",
    "\n",
    "# param_grid = {\n",
    "#     'model__C' : [1, 10, 20],\n",
    "#     'model__loss': ['hinge', 'squared_hinge'],\n",
    "#     \"model__fit_intercept\" : [True, False],\n",
    "# #     \"model__dual\" : [True, False] \n",
    "# }\n",
    "\n",
    "svm = LinearSVC(max_iter=10000, random_state=42)    # LinearSVC\n",
    "\n",
    "\n",
    "# Local testing\n",
    "# selected_mov = {'num': ['audienceScore', 'boxOffice', 'releaseDiff'], \n",
    "#                 'txt': ['movieid', 'genre', 'director', \n",
    "#                          'ratingContents', 'distributor']}\n",
    "# results = submit_v4(\n",
    "#             selected_features={'num': ['boxOffice']},\n",
    "#             add_countvec=False,\n",
    "#             vocab=None,\n",
    "#             vocab_usage='tfidf',\n",
    "#             param_grid=param_grid\n",
    "#          )\n",
    "\n",
    "# results = submit_v4(selected_model = DummyClassifier(strategy='constant', constant='NEGATIVE'),\n",
    "#             selected_features={'num': ['boxOffice']},\n",
    "#             add_countvec=False,\n",
    "#             vocab=None,\n",
    "#             vocab_usage='tfidf',\n",
    "#             param_grid={'model__strategy' : ['constant']}\n",
    "#          )\n",
    "\n",
    "# Main submission\n",
    "\n",
    "# results = submit_v4(\n",
    "#     selected_features=v88_dict,\n",
    "#     add_countvec=False,\n",
    "#     vocab=common_1_2_3_grams,\n",
    "#     vocab_usage='tfidf',\n",
    "#     param_grid=param_grid\n",
    "#     )\n",
    "\n",
    "# results"
   ]
  },
  {
   "cell_type": "markdown",
   "id": "dca3be33",
   "metadata": {
    "papermill": {
     "duration": 0.10267,
     "end_time": "2023-08-10T18:58:59.194371",
     "exception": false,
     "start_time": "2023-08-10T18:58:59.091701",
     "status": "completed"
    },
    "tags": []
   },
   "source": [
    "### ratingContents analysis  "
   ]
  },
  {
   "cell_type": "code",
   "execution_count": 121,
   "id": "3187b739",
   "metadata": {
    "execution": {
     "iopub.execute_input": "2023-08-10T18:58:59.404378Z",
     "iopub.status.busy": "2023-08-10T18:58:59.403979Z",
     "iopub.status.idle": "2023-08-10T18:58:59.408924Z",
     "shell.execute_reply": "2023-08-10T18:58:59.407625Z"
    },
    "papermill": {
     "duration": 0.112072,
     "end_time": "2023-08-10T18:58:59.411368",
     "exception": false,
     "start_time": "2023-08-10T18:58:59.299296",
     "status": "completed"
    },
    "tags": []
   },
   "outputs": [],
   "source": [
    "# Try string split  \n",
    "# s = \"comedy, animation, adventure, fantasy\"\n",
    "# (\",\").join(sorted(s.split(\", \")))"
   ]
  },
  {
   "cell_type": "code",
   "execution_count": 122,
   "id": "a824fa30",
   "metadata": {
    "execution": {
     "iopub.execute_input": "2023-08-10T18:58:59.619962Z",
     "iopub.status.busy": "2023-08-10T18:58:59.619569Z",
     "iopub.status.idle": "2023-08-10T18:58:59.625217Z",
     "shell.execute_reply": "2023-08-10T18:58:59.623844Z"
    },
    "papermill": {
     "duration": 0.113405,
     "end_time": "2023-08-10T18:58:59.627577",
     "exception": false,
     "start_time": "2023-08-10T18:58:59.514172",
     "status": "completed"
    },
    "tags": []
   },
   "outputs": [],
   "source": [
    "# ratingContents_analysis = merged[[\"ratingContents\", \"sentiment\"]].copy()\n",
    "# print(ratingContents_analysis.head())\n",
    "# ratingContents_analysis[\"rcSorted\"] = ratingContents_analysis[\"ratingContents\"].apply(lambda x: (\",\").join(sorted(x.strip(\"][\").split(\", \"))))\n",
    "# ratingContents_analysis[\"rcSorted\"] = ratingContents_analysis[\"rcSorted\"].apply(lambda x: re.sub(r\"'\", \"\", x))\n",
    "# ratingContents_analysis[\"rcSorted\"] = ratingContents_analysis[\"rcSorted\"].apply(lambda x: re.sub(r\"[/\\s]\", \"_\", x))\n",
    "# ratingContents_analysis.head(10)"
   ]
  },
  {
   "cell_type": "code",
   "execution_count": 123,
   "id": "fa250e4f",
   "metadata": {
    "execution": {
     "iopub.execute_input": "2023-08-10T18:58:59.833434Z",
     "iopub.status.busy": "2023-08-10T18:58:59.832993Z",
     "iopub.status.idle": "2023-08-10T18:58:59.838493Z",
     "shell.execute_reply": "2023-08-10T18:58:59.837014Z"
    },
    "papermill": {
     "duration": 0.110705,
     "end_time": "2023-08-10T18:58:59.840759",
     "exception": false,
     "start_time": "2023-08-10T18:58:59.730054",
     "status": "completed"
    },
    "tags": []
   },
   "outputs": [],
   "source": [
    "# cvec_rc = CountVectorizer(ngram_range=(1,1))\n",
    "# cvec_rc.fit(ratingContents_analysis['rcSorted'])\n",
    "# # len(cvec_rc.vocabulary_), cvec_rc.vocabulary_"
   ]
  },
  {
   "cell_type": "code",
   "execution_count": 124,
   "id": "bde9d28f",
   "metadata": {
    "execution": {
     "iopub.execute_input": "2023-08-10T18:59:00.057085Z",
     "iopub.status.busy": "2023-08-10T18:59:00.056643Z",
     "iopub.status.idle": "2023-08-10T18:59:00.061456Z",
     "shell.execute_reply": "2023-08-10T18:59:00.060453Z"
    },
    "papermill": {
     "duration": 0.118863,
     "end_time": "2023-08-10T18:59:00.063578",
     "exception": false,
     "start_time": "2023-08-10T18:58:59.944715",
     "status": "completed"
    },
    "tags": []
   },
   "outputs": [],
   "source": [
    "# genre_testing = cvec_g.transform(merged[\"genre\"])\n",
    "# print(genre_testing)"
   ]
  },
  {
   "cell_type": "markdown",
   "id": "88420c65",
   "metadata": {
    "papermill": {
     "duration": 0.101806,
     "end_time": "2023-08-10T18:59:00.267621",
     "exception": false,
     "start_time": "2023-08-10T18:59:00.165815",
     "status": "completed"
    },
    "tags": []
   },
   "source": [
    "## Statistical tests  "
   ]
  },
  {
   "cell_type": "markdown",
   "id": "ef41d871",
   "metadata": {
    "papermill": {
     "duration": 0.10181,
     "end_time": "2023-08-10T18:59:00.472445",
     "exception": false,
     "start_time": "2023-08-10T18:59:00.370635",
     "status": "completed"
    },
    "tags": []
   },
   "source": [
    "[Go to genre](#genre_analysis)"
   ]
  },
  {
   "cell_type": "code",
   "execution_count": 125,
   "id": "c0787c64",
   "metadata": {
    "execution": {
     "iopub.execute_input": "2023-08-10T18:59:00.681937Z",
     "iopub.status.busy": "2023-08-10T18:59:00.681104Z",
     "iopub.status.idle": "2023-08-10T18:59:00.686083Z",
     "shell.execute_reply": "2023-08-10T18:59:00.685072Z"
    },
    "papermill": {
     "duration": 0.111942,
     "end_time": "2023-08-10T18:59:00.688289",
     "exception": false,
     "start_time": "2023-08-10T18:59:00.576347",
     "status": "completed"
    },
    "tags": []
   },
   "outputs": [],
   "source": [
    "# print(merged['boxOffice'].head())\n",
    "# merged[\"boxOffice\"].describe()"
   ]
  },
  {
   "cell_type": "code",
   "execution_count": 126,
   "id": "8c6fd168",
   "metadata": {
    "execution": {
     "iopub.execute_input": "2023-08-10T18:59:00.894897Z",
     "iopub.status.busy": "2023-08-10T18:59:00.894171Z",
     "iopub.status.idle": "2023-08-10T18:59:00.898995Z",
     "shell.execute_reply": "2023-08-10T18:59:00.897935Z"
    },
    "papermill": {
     "duration": 0.111517,
     "end_time": "2023-08-10T18:59:00.901864",
     "exception": false,
     "start_time": "2023-08-10T18:59:00.790347",
     "status": "completed"
    },
    "tags": []
   },
   "outputs": [],
   "source": [
    "# Function for independent samples t-test on numerical columns  \n",
    "# def ttest_ind(feature):\n",
    "#     pos_grp = merged[feature].loc[merged['sentiment'] == \"POSITIVE\"]\n",
    "#     neg_grp = merged[feature].loc[merged['sentiment'] == \"NEGATIVE\"]\n",
    "\n",
    "#     print(pos_grp.shape, neg_grp.shape)\n",
    "#     print(pos_grp.describe(), neg_grp.describe())\n",
    "\n",
    "#     return stats.ttest_ind(pos_grp, neg_grp)"
   ]
  },
  {
   "cell_type": "code",
   "execution_count": 127,
   "id": "f8425c9a",
   "metadata": {
    "execution": {
     "iopub.execute_input": "2023-08-10T18:59:01.124932Z",
     "iopub.status.busy": "2023-08-10T18:59:01.124503Z",
     "iopub.status.idle": "2023-08-10T18:59:01.129533Z",
     "shell.execute_reply": "2023-08-10T18:59:01.128629Z"
    },
    "papermill": {
     "duration": 0.116999,
     "end_time": "2023-08-10T18:59:01.131720",
     "exception": false,
     "start_time": "2023-08-10T18:59:01.014721",
     "status": "completed"
    },
    "tags": []
   },
   "outputs": [],
   "source": [
    "# ttest_ind('boxOffice')"
   ]
  },
  {
   "cell_type": "code",
   "execution_count": 128,
   "id": "5b50c633",
   "metadata": {
    "execution": {
     "iopub.execute_input": "2023-08-10T18:59:01.456518Z",
     "iopub.status.busy": "2023-08-10T18:59:01.456098Z",
     "iopub.status.idle": "2023-08-10T18:59:01.460331Z",
     "shell.execute_reply": "2023-08-10T18:59:01.459481Z"
    },
    "papermill": {
     "duration": 0.122182,
     "end_time": "2023-08-10T18:59:01.462575",
     "exception": false,
     "start_time": "2023-08-10T18:59:01.340393",
     "status": "completed"
    },
    "tags": []
   },
   "outputs": [],
   "source": [
    "# ttest_ind('runtimeMinutes')"
   ]
  },
  {
   "cell_type": "code",
   "execution_count": 129,
   "id": "cff922b9",
   "metadata": {
    "execution": {
     "iopub.execute_input": "2023-08-10T18:59:01.697842Z",
     "iopub.status.busy": "2023-08-10T18:59:01.696762Z",
     "iopub.status.idle": "2023-08-10T18:59:01.704822Z",
     "shell.execute_reply": "2023-08-10T18:59:01.703277Z"
    },
    "papermill": {
     "duration": 0.128806,
     "end_time": "2023-08-10T18:59:01.707395",
     "exception": false,
     "start_time": "2023-08-10T18:59:01.578589",
     "status": "completed"
    },
    "tags": []
   },
   "outputs": [],
   "source": [
    "# ttest_ind('audienceScore')"
   ]
  },
  {
   "cell_type": "code",
   "execution_count": 130,
   "id": "d12fb015",
   "metadata": {
    "execution": {
     "iopub.execute_input": "2023-08-10T18:59:01.927411Z",
     "iopub.status.busy": "2023-08-10T18:59:01.926908Z",
     "iopub.status.idle": "2023-08-10T18:59:01.932031Z",
     "shell.execute_reply": "2023-08-10T18:59:01.930916Z"
    },
    "papermill": {
     "duration": 0.117166,
     "end_time": "2023-08-10T18:59:01.935018",
     "exception": false,
     "start_time": "2023-08-10T18:59:01.817852",
     "status": "completed"
    },
    "tags": []
   },
   "outputs": [],
   "source": [
    "# sns.boxplot(x=merged['sentiment'], y=merged['boxOffice'])"
   ]
  },
  {
   "cell_type": "markdown",
   "id": "59871483",
   "metadata": {
    "papermill": {
     "duration": 0.107862,
     "end_time": "2023-08-10T18:59:02.157276",
     "exception": false,
     "start_time": "2023-08-10T18:59:02.049414",
     "status": "completed"
    },
    "tags": []
   },
   "source": [
    "## <div id='genre_analysis'>Genre analysis</div>"
   ]
  },
  {
   "cell_type": "code",
   "execution_count": 131,
   "id": "81bf4dba",
   "metadata": {
    "execution": {
     "iopub.execute_input": "2023-08-10T18:59:02.377870Z",
     "iopub.status.busy": "2023-08-10T18:59:02.376891Z",
     "iopub.status.idle": "2023-08-10T18:59:02.382322Z",
     "shell.execute_reply": "2023-08-10T18:59:02.381415Z"
    },
    "papermill": {
     "duration": 0.119359,
     "end_time": "2023-08-10T18:59:02.384932",
     "exception": false,
     "start_time": "2023-08-10T18:59:02.265573",
     "status": "completed"
    },
    "tags": []
   },
   "outputs": [],
   "source": [
    "# genre_analysis = merged[[\"genre\", \"genreSorted\", \"sentiment\"]].copy()\n",
    "# # print(genre_analysis.head())\n",
    "# # genre_analysis[\"genre\"] = genre_analysis[\"genre\"].apply(lambda x: (\",\").join(sorted(x.split(\", \"))))\n",
    "# genre_analysis.head()"
   ]
  },
  {
   "cell_type": "code",
   "execution_count": 132,
   "id": "cb3f6a72",
   "metadata": {
    "execution": {
     "iopub.execute_input": "2023-08-10T18:59:02.607271Z",
     "iopub.status.busy": "2023-08-10T18:59:02.606305Z",
     "iopub.status.idle": "2023-08-10T18:59:02.611654Z",
     "shell.execute_reply": "2023-08-10T18:59:02.610668Z"
    },
    "papermill": {
     "duration": 0.118298,
     "end_time": "2023-08-10T18:59:02.614389",
     "exception": false,
     "start_time": "2023-08-10T18:59:02.496091",
     "status": "completed"
    },
    "tags": []
   },
   "outputs": [],
   "source": [
    "# cvec_g = CountVectorizer(ngram_range=(1,3))\n",
    "# cvec_g.fit(genre_analysis['genre'])\n",
    "# # len(cvec_g.vocabulary_), cvec_g.vocabulary_"
   ]
  },
  {
   "cell_type": "code",
   "execution_count": 133,
   "id": "9294846b",
   "metadata": {
    "execution": {
     "iopub.execute_input": "2023-08-10T18:59:02.828668Z",
     "iopub.status.busy": "2023-08-10T18:59:02.827756Z",
     "iopub.status.idle": "2023-08-10T18:59:02.832853Z",
     "shell.execute_reply": "2023-08-10T18:59:02.831920Z"
    },
    "papermill": {
     "duration": 0.113189,
     "end_time": "2023-08-10T18:59:02.835301",
     "exception": false,
     "start_time": "2023-08-10T18:59:02.722112",
     "status": "completed"
    },
    "tags": []
   },
   "outputs": [],
   "source": [
    "# cvec_gSorted = CountVectorizer(ngram_range=(1,3))\n",
    "# cvec_gSorted.fit(genre_analysis['genreSorted'])\n",
    "# len(cvec_gSorted.vocabulary_), cvec_gSorted.vocabulary_"
   ]
  },
  {
   "cell_type": "code",
   "execution_count": 134,
   "id": "75e2b200",
   "metadata": {
    "execution": {
     "iopub.execute_input": "2023-08-10T18:59:03.053761Z",
     "iopub.status.busy": "2023-08-10T18:59:03.052978Z",
     "iopub.status.idle": "2023-08-10T18:59:03.058866Z",
     "shell.execute_reply": "2023-08-10T18:59:03.057298Z"
    },
    "papermill": {
     "duration": 0.121676,
     "end_time": "2023-08-10T18:59:03.061773",
     "exception": false,
     "start_time": "2023-08-10T18:59:02.940097",
     "status": "completed"
    },
    "tags": []
   },
   "outputs": [],
   "source": [
    "# genre_testing = cvec_g.transform(merged[\"genre\"])\n",
    "# # print(genre_testing)"
   ]
  },
  {
   "cell_type": "code",
   "execution_count": 135,
   "id": "d3aaf3ec",
   "metadata": {
    "execution": {
     "iopub.execute_input": "2023-08-10T18:59:03.273528Z",
     "iopub.status.busy": "2023-08-10T18:59:03.273144Z",
     "iopub.status.idle": "2023-08-10T18:59:03.278138Z",
     "shell.execute_reply": "2023-08-10T18:59:03.276777Z"
    },
    "papermill": {
     "duration": 0.113444,
     "end_time": "2023-08-10T18:59:03.280873",
     "exception": false,
     "start_time": "2023-08-10T18:59:03.167429",
     "status": "completed"
    },
    "tags": []
   },
   "outputs": [],
   "source": [
    "# genre_counts_testing = merged[[\"genre\", \"sentiment\"]].copy()\n",
    "# genre_counts_testing[\"gCount\"] = genre_counts_testing.apply(lambda x: len(str(x[\"genre\"]).split()), axis=1)\n",
    "# genre_counts_testing"
   ]
  },
  {
   "cell_type": "code",
   "execution_count": 136,
   "id": "c3da7425",
   "metadata": {
    "execution": {
     "iopub.execute_input": "2023-08-10T18:59:03.490812Z",
     "iopub.status.busy": "2023-08-10T18:59:03.490388Z",
     "iopub.status.idle": "2023-08-10T18:59:03.495810Z",
     "shell.execute_reply": "2023-08-10T18:59:03.494380Z"
    },
    "papermill": {
     "duration": 0.11448,
     "end_time": "2023-08-10T18:59:03.498370",
     "exception": false,
     "start_time": "2023-08-10T18:59:03.383890",
     "status": "completed"
    },
    "tags": []
   },
   "outputs": [],
   "source": [
    "# sns.boxplot(y=genre_counts_testing[\"gCount\"], x=genre_counts_testing[\"sentiment\"])"
   ]
  },
  {
   "cell_type": "code",
   "execution_count": 137,
   "id": "91f295b6",
   "metadata": {
    "execution": {
     "iopub.execute_input": "2023-08-10T18:59:03.708972Z",
     "iopub.status.busy": "2023-08-10T18:59:03.708565Z",
     "iopub.status.idle": "2023-08-10T18:59:03.713955Z",
     "shell.execute_reply": "2023-08-10T18:59:03.712604Z"
    },
    "papermill": {
     "duration": 0.113412,
     "end_time": "2023-08-10T18:59:03.716856",
     "exception": false,
     "start_time": "2023-08-10T18:59:03.603444",
     "status": "completed"
    },
    "tags": []
   },
   "outputs": [],
   "source": [
    "# sns.boxplot(y=merged[\"reviewWC\"], x=merged[\"sentiment\"])"
   ]
  },
  {
   "cell_type": "code",
   "execution_count": 138,
   "id": "3cd332a6",
   "metadata": {
    "execution": {
     "iopub.execute_input": "2023-08-10T18:59:03.940273Z",
     "iopub.status.busy": "2023-08-10T18:59:03.939883Z",
     "iopub.status.idle": "2023-08-10T18:59:03.945287Z",
     "shell.execute_reply": "2023-08-10T18:59:03.943589Z"
    },
    "papermill": {
     "duration": 0.120911,
     "end_time": "2023-08-10T18:59:03.947689",
     "exception": false,
     "start_time": "2023-08-10T18:59:03.826778",
     "status": "completed"
    },
    "tags": []
   },
   "outputs": [],
   "source": [
    "# audienceScore bins\n",
    "# asc = merged[['audienceScore', 'sentiment']].copy()\n",
    "# asc.head()"
   ]
  },
  {
   "cell_type": "code",
   "execution_count": 139,
   "id": "d58fe30f",
   "metadata": {
    "execution": {
     "iopub.execute_input": "2023-08-10T18:59:04.179847Z",
     "iopub.status.busy": "2023-08-10T18:59:04.179435Z",
     "iopub.status.idle": "2023-08-10T18:59:04.184450Z",
     "shell.execute_reply": "2023-08-10T18:59:04.183018Z"
    },
    "papermill": {
     "duration": 0.115086,
     "end_time": "2023-08-10T18:59:04.187327",
     "exception": false,
     "start_time": "2023-08-10T18:59:04.072241",
     "status": "completed"
    },
    "tags": []
   },
   "outputs": [],
   "source": [
    "# Binning numerical features  \n",
    "\n",
    "# print(merged[\"runtimeBins\"].value_counts())\n",
    "# sns.displot(merged[\"runtimeBins\"])"
   ]
  },
  {
   "cell_type": "code",
   "execution_count": 140,
   "id": "59653a5a",
   "metadata": {
    "execution": {
     "iopub.execute_input": "2023-08-10T18:59:04.396264Z",
     "iopub.status.busy": "2023-08-10T18:59:04.395808Z",
     "iopub.status.idle": "2023-08-10T18:59:04.402173Z",
     "shell.execute_reply": "2023-08-10T18:59:04.400396Z"
    },
    "papermill": {
     "duration": 0.114959,
     "end_time": "2023-08-10T18:59:04.404884",
     "exception": false,
     "start_time": "2023-08-10T18:59:04.289925",
     "status": "completed"
    },
    "tags": []
   },
   "outputs": [],
   "source": [
    "# Chi-square test for isFrequentReviewer column and sentiment column   \n",
    "\n",
    "# contingency_table = pd.crosstab(traindf['isFrequentReviewer'], traindf['sentiment'])\n",
    "# print(contingency_table)\n",
    "# stats.chi2_contingency(contingency_table)"
   ]
  },
  {
   "cell_type": "markdown",
   "id": "8ee26fed",
   "metadata": {
    "papermill": {
     "duration": 0.103371,
     "end_time": "2023-08-10T18:59:04.613944",
     "exception": false,
     "start_time": "2023-08-10T18:59:04.510573",
     "status": "completed"
    },
    "tags": []
   },
   "source": [
    "## Baseline performance of 'reviewText' column  "
   ]
  },
  {
   "cell_type": "code",
   "execution_count": 141,
   "id": "fe08845e",
   "metadata": {
    "execution": {
     "iopub.execute_input": "2023-08-10T18:59:04.821920Z",
     "iopub.status.busy": "2023-08-10T18:59:04.821430Z",
     "iopub.status.idle": "2023-08-10T18:59:04.827071Z",
     "shell.execute_reply": "2023-08-10T18:59:04.825697Z"
    },
    "papermill": {
     "duration": 0.112199,
     "end_time": "2023-08-10T18:59:04.829560",
     "exception": false,
     "start_time": "2023-08-10T18:59:04.717361",
     "status": "completed"
    },
    "tags": []
   },
   "outputs": [],
   "source": [
    "# rt_dict = {'txt': ['reviewText']}\n",
    "# rt_dict"
   ]
  },
  {
   "cell_type": "code",
   "execution_count": 142,
   "id": "f935b69d",
   "metadata": {
    "execution": {
     "iopub.execute_input": "2023-08-10T18:59:05.043313Z",
     "iopub.status.busy": "2023-08-10T18:59:05.042863Z",
     "iopub.status.idle": "2023-08-10T18:59:05.050821Z",
     "shell.execute_reply": "2023-08-10T18:59:05.048440Z"
    },
    "papermill": {
     "duration": 0.120954,
     "end_time": "2023-08-10T18:59:05.053605",
     "exception": false,
     "start_time": "2023-08-10T18:59:04.932651",
     "status": "completed"
    },
    "tags": []
   },
   "outputs": [],
   "source": [
    "# submit_v4(selected_model=LogisticRegression(C=5, solver=\"saga\", max_iter=100000),\n",
    "#           selected_features=rt_dict,\n",
    "#           param_grid=None,\n",
    "#           vocab=None)"
   ]
  },
  {
   "cell_type": "markdown",
   "id": "9f543b45",
   "metadata": {
    "papermill": {
     "duration": 0.104073,
     "end_time": "2023-08-10T18:59:05.265026",
     "exception": false,
     "start_time": "2023-08-10T18:59:05.160953",
     "status": "completed"
    },
    "tags": []
   },
   "source": [
    "## RFE  "
   ]
  },
  {
   "cell_type": "code",
   "execution_count": 143,
   "id": "8718255b",
   "metadata": {
    "execution": {
     "iopub.execute_input": "2023-08-10T18:59:05.477262Z",
     "iopub.status.busy": "2023-08-10T18:59:05.476878Z",
     "iopub.status.idle": "2023-08-10T18:59:05.482183Z",
     "shell.execute_reply": "2023-08-10T18:59:05.481005Z"
    },
    "papermill": {
     "duration": 0.1144,
     "end_time": "2023-08-10T18:59:05.485032",
     "exception": false,
     "start_time": "2023-08-10T18:59:05.370632",
     "status": "completed"
    },
    "tags": []
   },
   "outputs": [],
   "source": [
    "# def fs_rfe(selector, text_df, labels, ngram_range=(1,1)):\n",
    "#     text_df_ngram = TfidfVectorizer(ngram_range=ngram_range, stop_words='english').fit_transform(text_df)\n",
    "#     print(\"text_df was vectorized using TF-IDF vectorizer with ngram_range: \", ngram_range)\n",
    "#     print(\"text_df.shape: \", text_df.shape)\n",
    "#     print(\"labels.shape: \", labels.shape)\n",
    "#     print(\"text_df_ngram.shape: \", text_df_ngram.shape)\n",
    "#     print()\n",
    "\n",
    "#     print(\"Starting RFE fit...\")\n",
    "#     selector.fit(text_df_ngram, labels)\n",
    "#     print(\"RFE fit complete.\\n\")\n",
    "    \n",
    "#     print(\"selector.n_features_: \", selector.n_features_)   \n",
    "#     print(\"selector.n_features_in_: \", selector.n_features_in_)\n",
    "#     print(\"selector.support_.shape: \", selector.support_.shape)\n",
    "\n",
    "#     return selector.support_"
   ]
  },
  {
   "cell_type": "markdown",
   "id": "c680e553",
   "metadata": {
    "papermill": {
     "duration": 0.108556,
     "end_time": "2023-08-10T18:59:05.702791",
     "exception": false,
     "start_time": "2023-08-10T18:59:05.594235",
     "status": "completed"
    },
    "tags": []
   },
   "source": [
    "`RFE for unigrams`  "
   ]
  },
  {
   "cell_type": "code",
   "execution_count": 144,
   "id": "0974ec00",
   "metadata": {
    "execution": {
     "iopub.execute_input": "2023-08-10T18:59:05.914866Z",
     "iopub.status.busy": "2023-08-10T18:59:05.914344Z",
     "iopub.status.idle": "2023-08-10T18:59:05.920301Z",
     "shell.execute_reply": "2023-08-10T18:59:05.918815Z"
    },
    "papermill": {
     "duration": 0.113441,
     "end_time": "2023-08-10T18:59:05.922642",
     "exception": false,
     "start_time": "2023-08-10T18:59:05.809201",
     "status": "completed"
    },
    "tags": []
   },
   "outputs": [],
   "source": [
    "# estimator_rfe_1 = LogisticRegression(solver='saga', max_iter=100000)\n",
    "# selector_rfe_1 = RFE(estimator_rfe_1, step=0.1, n_features_to_select=30000)"
   ]
  },
  {
   "cell_type": "code",
   "execution_count": 145,
   "id": "0c0a58cb",
   "metadata": {
    "execution": {
     "iopub.execute_input": "2023-08-10T18:59:06.142408Z",
     "iopub.status.busy": "2023-08-10T18:59:06.141963Z",
     "iopub.status.idle": "2023-08-10T18:59:06.147027Z",
     "shell.execute_reply": "2023-08-10T18:59:06.145747Z"
    },
    "papermill": {
     "duration": 0.114483,
     "end_time": "2023-08-10T18:59:06.149746",
     "exception": false,
     "start_time": "2023-08-10T18:59:06.035263",
     "status": "completed"
    },
    "tags": []
   },
   "outputs": [],
   "source": [
    "# rfe_1_feat_mask = fs_rfe(selector_rfe_1, rt_senti[\"reviewText\"], rt_senti[\"sentiment\"], ngram_range=(1,1))\n",
    "# rfe_1_feat_mask"
   ]
  },
  {
   "cell_type": "code",
   "execution_count": 146,
   "id": "7e0094f8",
   "metadata": {
    "execution": {
     "iopub.execute_input": "2023-08-10T18:59:06.363026Z",
     "iopub.status.busy": "2023-08-10T18:59:06.362576Z",
     "iopub.status.idle": "2023-08-10T18:59:06.367643Z",
     "shell.execute_reply": "2023-08-10T18:59:06.366352Z"
    },
    "papermill": {
     "duration": 0.114456,
     "end_time": "2023-08-10T18:59:06.370310",
     "exception": false,
     "start_time": "2023-08-10T18:59:06.255854",
     "status": "completed"
    },
    "tags": []
   },
   "outputs": [],
   "source": [
    "# voc_1gram_rfe = list(compress(voc_1gram, rfe_1_feat_mask))\n",
    "# len(voc_1gram_rfe), voc_1gram_rfe[:10]"
   ]
  },
  {
   "cell_type": "markdown",
   "id": "9c3dc089",
   "metadata": {
    "papermill": {
     "duration": 0.103998,
     "end_time": "2023-08-10T18:59:06.578112",
     "exception": false,
     "start_time": "2023-08-10T18:59:06.474114",
     "status": "completed"
    },
    "tags": []
   },
   "source": [
    "`RFE for bigrams`  "
   ]
  },
  {
   "cell_type": "code",
   "execution_count": 147,
   "id": "34c29499",
   "metadata": {
    "execution": {
     "iopub.execute_input": "2023-08-10T18:59:06.789565Z",
     "iopub.status.busy": "2023-08-10T18:59:06.789044Z",
     "iopub.status.idle": "2023-08-10T18:59:06.795013Z",
     "shell.execute_reply": "2023-08-10T18:59:06.793644Z"
    },
    "papermill": {
     "duration": 0.114035,
     "end_time": "2023-08-10T18:59:06.797847",
     "exception": false,
     "start_time": "2023-08-10T18:59:06.683812",
     "status": "completed"
    },
    "tags": []
   },
   "outputs": [],
   "source": [
    "# estimator_rfe_2 = LogisticRegression(solver='saga', max_iter=100000)\n",
    "# selector_rfe_2 = RFE(estimator_rfe_2, step=0.1, n_features_to_select=50000)"
   ]
  },
  {
   "cell_type": "code",
   "execution_count": 148,
   "id": "3b0f1e6e",
   "metadata": {
    "execution": {
     "iopub.execute_input": "2023-08-10T18:59:07.011025Z",
     "iopub.status.busy": "2023-08-10T18:59:07.010465Z",
     "iopub.status.idle": "2023-08-10T18:59:07.018558Z",
     "shell.execute_reply": "2023-08-10T18:59:07.017073Z"
    },
    "papermill": {
     "duration": 0.119473,
     "end_time": "2023-08-10T18:59:07.021231",
     "exception": false,
     "start_time": "2023-08-10T18:59:06.901758",
     "status": "completed"
    },
    "tags": []
   },
   "outputs": [],
   "source": [
    "# rfe_2_feat_mask = fs_rfe(selector_rfe_2, rt_senti[\"reviewText\"], rt_senti[\"sentiment\"], ngram_range=(2,2))\n",
    "# rfe_2_feat_mask"
   ]
  },
  {
   "cell_type": "code",
   "execution_count": 149,
   "id": "2cc116f9",
   "metadata": {
    "execution": {
     "iopub.execute_input": "2023-08-10T18:59:07.245473Z",
     "iopub.status.busy": "2023-08-10T18:59:07.245062Z",
     "iopub.status.idle": "2023-08-10T18:59:07.250177Z",
     "shell.execute_reply": "2023-08-10T18:59:07.248795Z"
    },
    "papermill": {
     "duration": 0.119257,
     "end_time": "2023-08-10T18:59:07.252671",
     "exception": false,
     "start_time": "2023-08-10T18:59:07.133414",
     "status": "completed"
    },
    "tags": []
   },
   "outputs": [],
   "source": [
    "# voc_2gram_rfe = list(compress(voc_2gram, rfe_2_feat_mask))\n",
    "# len(voc_2gram_rfe), voc_2gram_rfe[:10]"
   ]
  },
  {
   "cell_type": "markdown",
   "id": "1bf21611",
   "metadata": {
    "papermill": {
     "duration": 0.215721,
     "end_time": "2023-08-10T18:59:07.577805",
     "exception": false,
     "start_time": "2023-08-10T18:59:07.362084",
     "status": "completed"
    },
    "tags": []
   },
   "source": [
    "## Final RFE-derived vocabulary  "
   ]
  },
  {
   "cell_type": "code",
   "execution_count": 150,
   "id": "52a0f950",
   "metadata": {
    "execution": {
     "iopub.execute_input": "2023-08-10T18:59:07.796734Z",
     "iopub.status.busy": "2023-08-10T18:59:07.796194Z",
     "iopub.status.idle": "2023-08-10T18:59:07.801033Z",
     "shell.execute_reply": "2023-08-10T18:59:07.800078Z"
    },
    "papermill": {
     "duration": 0.11839,
     "end_time": "2023-08-10T18:59:07.803285",
     "exception": false,
     "start_time": "2023-08-10T18:59:07.684895",
     "status": "completed"
    },
    "tags": []
   },
   "outputs": [],
   "source": [
    "# rfe_vocab = voc_1gram_rfe + voc_2gram_rfe\n",
    "# len(rfe_vocab), rfe_vocab[:10], rfe_vocab[-10:]"
   ]
  },
  {
   "cell_type": "code",
   "execution_count": 151,
   "id": "35cf4478",
   "metadata": {
    "execution": {
     "iopub.execute_input": "2023-08-10T18:59:08.018737Z",
     "iopub.status.busy": "2023-08-10T18:59:08.018232Z",
     "iopub.status.idle": "2023-08-10T18:59:08.024645Z",
     "shell.execute_reply": "2023-08-10T18:59:08.023255Z"
    },
    "papermill": {
     "duration": 0.119415,
     "end_time": "2023-08-10T18:59:08.027213",
     "exception": false,
     "start_time": "2023-08-10T18:59:07.907798",
     "status": "completed"
    },
    "tags": []
   },
   "outputs": [],
   "source": [
    "## Test RFE obtained vocabulary in final pipeline (only with reviewText)  \n",
    "# submit_v4(selected_model=LogisticRegression(C=5, solver=\"saga\", max_iter=100000),\n",
    "#           selected_features=rt_dict,\n",
    "#           param_grid=None,\n",
    "#           vocab=rfe_vocab)"
   ]
  },
  {
   "cell_type": "markdown",
   "id": "14e1af5f",
   "metadata": {
    "papermill": {
     "duration": 0.102447,
     "end_time": "2023-08-10T18:59:08.232618",
     "exception": false,
     "start_time": "2023-08-10T18:59:08.130171",
     "status": "completed"
    },
    "tags": []
   },
   "source": [
    "## Use rfe_vocab in final pipeline with all params  "
   ]
  },
  {
   "cell_type": "code",
   "execution_count": 152,
   "id": "b0eb7994",
   "metadata": {
    "execution": {
     "iopub.execute_input": "2023-08-10T18:59:08.443609Z",
     "iopub.status.busy": "2023-08-10T18:59:08.443159Z",
     "iopub.status.idle": "2023-08-10T18:59:08.447610Z",
     "shell.execute_reply": "2023-08-10T18:59:08.446657Z"
    },
    "papermill": {
     "duration": 0.112779,
     "end_time": "2023-08-10T18:59:08.449910",
     "exception": false,
     "start_time": "2023-08-10T18:59:08.337131",
     "status": "completed"
    },
    "tags": []
   },
   "outputs": [],
   "source": [
    "# submit_v4(selected_model=LogisticRegression(max_iter=100000),\n",
    "#           selected_features=all_dict,\n",
    "#           param_grid=param_grid,\n",
    "#           vocab=rfe_vocab)"
   ]
  },
  {
   "cell_type": "code",
   "execution_count": 153,
   "id": "739c00ab",
   "metadata": {
    "execution": {
     "iopub.execute_input": "2023-08-10T18:59:08.658741Z",
     "iopub.status.busy": "2023-08-10T18:59:08.658222Z",
     "iopub.status.idle": "2023-08-10T18:59:08.671634Z",
     "shell.execute_reply": "2023-08-10T18:59:08.670639Z"
    },
    "papermill": {
     "duration": 0.121159,
     "end_time": "2023-08-10T18:59:08.673986",
     "exception": false,
     "start_time": "2023-08-10T18:59:08.552827",
     "status": "completed"
    },
    "tags": []
   },
   "outputs": [
    {
     "data": {
      "text/html": [
       "<style>#sk-container-id-1 {color: black;background-color: white;}#sk-container-id-1 pre{padding: 0;}#sk-container-id-1 div.sk-toggleable {background-color: white;}#sk-container-id-1 label.sk-toggleable__label {cursor: pointer;display: block;width: 100%;margin-bottom: 0;padding: 0.3em;box-sizing: border-box;text-align: center;}#sk-container-id-1 label.sk-toggleable__label-arrow:before {content: \"▸\";float: left;margin-right: 0.25em;color: #696969;}#sk-container-id-1 label.sk-toggleable__label-arrow:hover:before {color: black;}#sk-container-id-1 div.sk-estimator:hover label.sk-toggleable__label-arrow:before {color: black;}#sk-container-id-1 div.sk-toggleable__content {max-height: 0;max-width: 0;overflow: hidden;text-align: left;background-color: #f0f8ff;}#sk-container-id-1 div.sk-toggleable__content pre {margin: 0.2em;color: black;border-radius: 0.25em;background-color: #f0f8ff;}#sk-container-id-1 input.sk-toggleable__control:checked~div.sk-toggleable__content {max-height: 200px;max-width: 100%;overflow: auto;}#sk-container-id-1 input.sk-toggleable__control:checked~label.sk-toggleable__label-arrow:before {content: \"▾\";}#sk-container-id-1 div.sk-estimator input.sk-toggleable__control:checked~label.sk-toggleable__label {background-color: #d4ebff;}#sk-container-id-1 div.sk-label input.sk-toggleable__control:checked~label.sk-toggleable__label {background-color: #d4ebff;}#sk-container-id-1 input.sk-hidden--visually {border: 0;clip: rect(1px 1px 1px 1px);clip: rect(1px, 1px, 1px, 1px);height: 1px;margin: -1px;overflow: hidden;padding: 0;position: absolute;width: 1px;}#sk-container-id-1 div.sk-estimator {font-family: monospace;background-color: #f0f8ff;border: 1px dotted black;border-radius: 0.25em;box-sizing: border-box;margin-bottom: 0.5em;}#sk-container-id-1 div.sk-estimator:hover {background-color: #d4ebff;}#sk-container-id-1 div.sk-parallel-item::after {content: \"\";width: 100%;border-bottom: 1px solid gray;flex-grow: 1;}#sk-container-id-1 div.sk-label:hover label.sk-toggleable__label {background-color: #d4ebff;}#sk-container-id-1 div.sk-serial::before {content: \"\";position: absolute;border-left: 1px solid gray;box-sizing: border-box;top: 0;bottom: 0;left: 50%;z-index: 0;}#sk-container-id-1 div.sk-serial {display: flex;flex-direction: column;align-items: center;background-color: white;padding-right: 0.2em;padding-left: 0.2em;position: relative;}#sk-container-id-1 div.sk-item {position: relative;z-index: 1;}#sk-container-id-1 div.sk-parallel {display: flex;align-items: stretch;justify-content: center;background-color: white;position: relative;}#sk-container-id-1 div.sk-item::before, #sk-container-id-1 div.sk-parallel-item::before {content: \"\";position: absolute;border-left: 1px solid gray;box-sizing: border-box;top: 0;bottom: 0;left: 50%;z-index: -1;}#sk-container-id-1 div.sk-parallel-item {display: flex;flex-direction: column;z-index: 1;position: relative;background-color: white;}#sk-container-id-1 div.sk-parallel-item:first-child::after {align-self: flex-end;width: 50%;}#sk-container-id-1 div.sk-parallel-item:last-child::after {align-self: flex-start;width: 50%;}#sk-container-id-1 div.sk-parallel-item:only-child::after {width: 0;}#sk-container-id-1 div.sk-dashed-wrapped {border: 1px dashed gray;margin: 0 0.4em 0.5em 0.4em;box-sizing: border-box;padding-bottom: 0.4em;background-color: white;}#sk-container-id-1 div.sk-label label {font-family: monospace;font-weight: bold;display: inline-block;line-height: 1.2em;}#sk-container-id-1 div.sk-label-container {text-align: center;}#sk-container-id-1 div.sk-container {/* jupyter's `normalize.less` sets `[hidden] { display: none; }` but bootstrap.min.css set `[hidden] { display: none !important; }` so we also need the `!important` here to be able to override the default hidden behavior on the sphinx rendered scikit-learn.org. See: https://github.com/scikit-learn/scikit-learn/issues/21755 */display: inline-block !important;position: relative;}#sk-container-id-1 div.sk-text-repr-fallback {display: none;}</style><div id=\"sk-container-id-1\" class=\"sk-top-container\"><div class=\"sk-text-repr-fallback\"><pre>AdaBoostClassifier(estimator=LogisticRegression(C=5, max_iter=100000,\n",
       "                                                solver=&#x27;saga&#x27;))</pre><b>In a Jupyter environment, please rerun this cell to show the HTML representation or trust the notebook. <br />On GitHub, the HTML representation is unable to render, please try loading this page with nbviewer.org.</b></div><div class=\"sk-container\" hidden><div class=\"sk-item sk-dashed-wrapped\"><div class=\"sk-label-container\"><div class=\"sk-label sk-toggleable\"><input class=\"sk-toggleable__control sk-hidden--visually\" id=\"sk-estimator-id-1\" type=\"checkbox\" ><label for=\"sk-estimator-id-1\" class=\"sk-toggleable__label sk-toggleable__label-arrow\">AdaBoostClassifier</label><div class=\"sk-toggleable__content\"><pre>AdaBoostClassifier(estimator=LogisticRegression(C=5, max_iter=100000,\n",
       "                                                solver=&#x27;saga&#x27;))</pre></div></div></div><div class=\"sk-parallel\"><div class=\"sk-parallel-item\"><div class=\"sk-item\"><div class=\"sk-label-container\"><div class=\"sk-label sk-toggleable\"><input class=\"sk-toggleable__control sk-hidden--visually\" id=\"sk-estimator-id-2\" type=\"checkbox\" ><label for=\"sk-estimator-id-2\" class=\"sk-toggleable__label sk-toggleable__label-arrow\">estimator: LogisticRegression</label><div class=\"sk-toggleable__content\"><pre>LogisticRegression(C=5, max_iter=100000, solver=&#x27;saga&#x27;)</pre></div></div></div><div class=\"sk-serial\"><div class=\"sk-item\"><div class=\"sk-estimator sk-toggleable\"><input class=\"sk-toggleable__control sk-hidden--visually\" id=\"sk-estimator-id-3\" type=\"checkbox\" ><label for=\"sk-estimator-id-3\" class=\"sk-toggleable__label sk-toggleable__label-arrow\">LogisticRegression</label><div class=\"sk-toggleable__content\"><pre>LogisticRegression(C=5, max_iter=100000, solver=&#x27;saga&#x27;)</pre></div></div></div></div></div></div></div></div></div></div>"
      ],
      "text/plain": [
       "AdaBoostClassifier(estimator=LogisticRegression(C=5, max_iter=100000,\n",
       "                                                solver='saga'))"
      ]
     },
     "execution_count": 153,
     "metadata": {},
     "output_type": "execute_result"
    }
   ],
   "source": [
    "adc = AdaBoostClassifier(estimator=LogisticRegression(C=5, solver=\"saga\", max_iter=100000), n_estimators=50)\n",
    "adc"
   ]
  },
  {
   "cell_type": "code",
   "execution_count": 154,
   "id": "cb3471d0",
   "metadata": {
    "execution": {
     "iopub.execute_input": "2023-08-10T18:59:08.882158Z",
     "iopub.status.busy": "2023-08-10T18:59:08.881669Z",
     "iopub.status.idle": "2023-08-10T18:59:08.887188Z",
     "shell.execute_reply": "2023-08-10T18:59:08.885929Z"
    },
    "papermill": {
     "duration": 0.112661,
     "end_time": "2023-08-10T18:59:08.889778",
     "exception": false,
     "start_time": "2023-08-10T18:59:08.777117",
     "status": "completed"
    },
    "tags": []
   },
   "outputs": [],
   "source": [
    "# submit_v4(selected_model=adc,\n",
    "#           selected_features={'cat': ['isFrequentReviewer']},\n",
    "#           param_grid=None,\n",
    "#           vocab=rfe_vocab)"
   ]
  },
  {
   "cell_type": "code",
   "execution_count": 155,
   "id": "f36803f5",
   "metadata": {
    "execution": {
     "iopub.execute_input": "2023-08-10T18:59:09.104207Z",
     "iopub.status.busy": "2023-08-10T18:59:09.103730Z",
     "iopub.status.idle": "2023-08-10T18:59:09.109462Z",
     "shell.execute_reply": "2023-08-10T18:59:09.108087Z"
    },
    "papermill": {
     "duration": 0.11809,
     "end_time": "2023-08-10T18:59:09.111824",
     "exception": false,
     "start_time": "2023-08-10T18:59:08.993734",
     "status": "completed"
    },
    "tags": []
   },
   "outputs": [],
   "source": [
    "# AdaBoost on all features with RFE vocab on reviewText\n",
    "\n",
    "# submit_v4(selected_model=adc,\n",
    "#           selected_features=all_dict,\n",
    "#           param_grid=None,\n",
    "#           vocab=rfe_vocab)"
   ]
  },
  {
   "cell_type": "code",
   "execution_count": 156,
   "id": "257c5342",
   "metadata": {
    "execution": {
     "iopub.execute_input": "2023-08-10T18:59:09.320893Z",
     "iopub.status.busy": "2023-08-10T18:59:09.320241Z",
     "iopub.status.idle": "2023-08-10T18:59:09.327970Z",
     "shell.execute_reply": "2023-08-10T18:59:09.326350Z"
    },
    "papermill": {
     "duration": 0.115819,
     "end_time": "2023-08-10T18:59:09.330917",
     "exception": false,
     "start_time": "2023-08-10T18:59:09.215098",
     "status": "completed"
    },
    "tags": []
   },
   "outputs": [],
   "source": [
    "# RandomForestClassifier test run on one feature\n",
    "\n",
    "# rfc_2 = RandomForestClassifier()\n",
    "# rfc_2"
   ]
  },
  {
   "cell_type": "code",
   "execution_count": 157,
   "id": "0b8f5fab",
   "metadata": {
    "execution": {
     "iopub.execute_input": "2023-08-10T18:59:09.541657Z",
     "iopub.status.busy": "2023-08-10T18:59:09.541131Z",
     "iopub.status.idle": "2023-08-10T18:59:09.545669Z",
     "shell.execute_reply": "2023-08-10T18:59:09.544789Z"
    },
    "papermill": {
     "duration": 0.112351,
     "end_time": "2023-08-10T18:59:09.547772",
     "exception": false,
     "start_time": "2023-08-10T18:59:09.435421",
     "status": "completed"
    },
    "tags": []
   },
   "outputs": [],
   "source": [
    "# submit_v4(selected_model=rfc_2,\n",
    "#           selected_features={'txt': ['reviewerName']},\n",
    "#           param_grid=None,\n",
    "#           vocab=rfe_vocab)"
   ]
  },
  {
   "cell_type": "code",
   "execution_count": 158,
   "id": "703f183b",
   "metadata": {
    "execution": {
     "iopub.execute_input": "2023-08-10T18:59:09.760142Z",
     "iopub.status.busy": "2023-08-10T18:59:09.759708Z",
     "iopub.status.idle": "2023-08-10T18:59:09.764871Z",
     "shell.execute_reply": "2023-08-10T18:59:09.763488Z"
    },
    "papermill": {
     "duration": 0.116178,
     "end_time": "2023-08-10T18:59:09.768014",
     "exception": false,
     "start_time": "2023-08-10T18:59:09.651836",
     "status": "completed"
    },
    "tags": []
   },
   "outputs": [],
   "source": [
    "# RandomForestClassifier on all features with RFE vocab on reviewText\n",
    "\n",
    "# submit_v4(selected_model=rfc_2,\n",
    "#           selected_features=all_dict,\n",
    "#           param_grid=None,\n",
    "#           vocab=rfe_vocab)"
   ]
  },
  {
   "cell_type": "markdown",
   "id": "60c2a0e6",
   "metadata": {
    "papermill": {
     "duration": 0.103326,
     "end_time": "2023-08-10T18:59:09.977370",
     "exception": false,
     "start_time": "2023-08-10T18:59:09.874044",
     "status": "completed"
    },
    "tags": []
   },
   "source": [
    "## Submit_v2 for merged file models  "
   ]
  },
  {
   "cell_type": "code",
   "execution_count": 159,
   "id": "53023ec5",
   "metadata": {
    "execution": {
     "iopub.execute_input": "2023-08-10T18:59:10.191753Z",
     "iopub.status.busy": "2023-08-10T18:59:10.191307Z",
     "iopub.status.idle": "2023-08-10T18:59:10.197616Z",
     "shell.execute_reply": "2023-08-10T18:59:10.196730Z"
    },
    "papermill": {
     "duration": 0.114051,
     "end_time": "2023-08-10T18:59:10.199732",
     "exception": false,
     "start_time": "2023-08-10T18:59:10.085681",
     "status": "completed"
    },
    "tags": []
   },
   "outputs": [],
   "source": [
    "# def submit_v2(selected_model=pipe_final, selected_features=None):\n",
    "#     '''\n",
    "#     Note that \"selected_preprocessor\" is already used within selected_model or pipeline\n",
    "#     '''\n",
    "#     # Retrain on the whole train.csv file  \n",
    "#     merged = select_features(load_csv(\"train\"), load_csv(\"movies\"))\n",
    "#     X_train = merged.drop(labels=\"sentiment\", axis=1)\n",
    "#     y_train = merged[\"sentiment\"]\n",
    "    \n",
    "#     #Use selected features\n",
    "#     if selected_features:\n",
    "#         X_train = X_train[selected_features]\n",
    "    \n",
    "#     # Check1\n",
    "#     print(X_train.shape)\n",
    "#     print(X_train.head())\n",
    "#     try:\n",
    "#         print(selected_model.named_steps['model'].intercept_, selected_model.named_steps['model'].coef_)\n",
    "#     except:\n",
    "#         print(\"Model not trained yet!\")\n",
    "    \n",
    "#     # Fit \n",
    "#     selected_model.fit(X_train, y_train)\n",
    "    \n",
    "#     # Check2\n",
    "#     print(selected_model.named_steps['model'].intercept_, selected_model.named_steps['model'].coef_)\n",
    "    \n",
    "#     # Predict on test.csv file\n",
    "#     merged_test = select_features(load_csv(\"test\"), load_csv(\"movies\"))\n",
    "#     X_test = merged_test.copy()\n",
    "#     if selected_features:\n",
    "#         X_test = X_test[selected_features]\n",
    "    \n",
    "#     # Check3\n",
    "#     print(X_test.shape)\n",
    "#     print(X_test.head())\n",
    "    \n",
    "#     y_pred = selected_model.predict(X_test)\n",
    "    \n",
    "#     pred_df = pd.DataFrame(y_pred)\n",
    "#     pred_df.columns = [\"sentiment\"]\n",
    "#     pred_df.index.name = \"id\"\n",
    "#     pred_df.to_csv(\"submission.csv\")\n",
    "    \n",
    "#     return \"Successfully created the submission file!!!\""
   ]
  },
  {
   "cell_type": "code",
   "execution_count": 160,
   "id": "78f77f3b",
   "metadata": {
    "execution": {
     "iopub.execute_input": "2023-08-10T18:59:10.409131Z",
     "iopub.status.busy": "2023-08-10T18:59:10.408680Z",
     "iopub.status.idle": "2023-08-10T18:59:10.414119Z",
     "shell.execute_reply": "2023-08-10T18:59:10.412762Z"
    },
    "papermill": {
     "duration": 0.114223,
     "end_time": "2023-08-10T18:59:10.416517",
     "exception": false,
     "start_time": "2023-08-10T18:59:10.302294",
     "status": "completed"
    },
    "tags": []
   },
   "outputs": [],
   "source": [
    "#     X_test = merged_test.copy()\n",
    "    \n",
    "#     y_pred = pipe_best4.predict(X_test)\n",
    "# #     np.unique(y_pred, return_counts=True)\n",
    "#     pred_df = pd.DataFrame(y_pred)\n",
    "#     pred_df.columns = [\"sentiment\"]\n",
    "#     pred_df.index.name = \"id\"\n",
    "#     pred_df.value_counts()"
   ]
  },
  {
   "cell_type": "code",
   "execution_count": 161,
   "id": "5f093637",
   "metadata": {
    "execution": {
     "iopub.execute_input": "2023-08-10T18:59:10.624667Z",
     "iopub.status.busy": "2023-08-10T18:59:10.624141Z",
     "iopub.status.idle": "2023-08-10T18:59:10.629336Z",
     "shell.execute_reply": "2023-08-10T18:59:10.627977Z"
    },
    "papermill": {
     "duration": 0.112213,
     "end_time": "2023-08-10T18:59:10.631810",
     "exception": false,
     "start_time": "2023-08-10T18:59:10.519597",
     "status": "completed"
    },
    "tags": []
   },
   "outputs": [],
   "source": [
    "# X_test.columns"
   ]
  },
  {
   "cell_type": "markdown",
   "id": "21111b68",
   "metadata": {
    "papermill": {
     "duration": 0.102432,
     "end_time": "2023-08-10T18:59:10.837826",
     "exception": false,
     "start_time": "2023-08-10T18:59:10.735394",
     "status": "completed"
    },
    "tags": []
   },
   "source": [
    "### Uncomment to submit using v2 of submit function  "
   ]
  },
  {
   "cell_type": "code",
   "execution_count": 162,
   "id": "c8d665ae",
   "metadata": {
    "execution": {
     "iopub.execute_input": "2023-08-10T18:59:11.052304Z",
     "iopub.status.busy": "2023-08-10T18:59:11.051844Z",
     "iopub.status.idle": "2023-08-10T18:59:11.057023Z",
     "shell.execute_reply": "2023-08-10T18:59:11.055699Z"
    },
    "papermill": {
     "duration": 0.118191,
     "end_time": "2023-08-10T18:59:11.059358",
     "exception": false,
     "start_time": "2023-08-10T18:59:10.941167",
     "status": "completed"
    },
    "tags": []
   },
   "outputs": [],
   "source": [
    "# best4 = [\"audienceScore\", \"rating\", \"isFrequentReviewer\", \"reviewText\"]\n",
    "# best4"
   ]
  },
  {
   "cell_type": "code",
   "execution_count": 163,
   "id": "9d541121",
   "metadata": {
    "execution": {
     "iopub.execute_input": "2023-08-10T18:59:11.268975Z",
     "iopub.status.busy": "2023-08-10T18:59:11.268205Z",
     "iopub.status.idle": "2023-08-10T18:59:11.272527Z",
     "shell.execute_reply": "2023-08-10T18:59:11.271628Z"
    },
    "papermill": {
     "duration": 0.112384,
     "end_time": "2023-08-10T18:59:11.274736",
     "exception": false,
     "start_time": "2023-08-10T18:59:11.162352",
     "status": "completed"
    },
    "tags": []
   },
   "outputs": [],
   "source": [
    "# submit_v2(selected_model=pipe_RTonly, selected_features=['reviewText'])"
   ]
  },
  {
   "cell_type": "markdown",
   "id": "01af56b9",
   "metadata": {
    "papermill": {
     "duration": 0.105785,
     "end_time": "2023-08-10T18:59:11.487525",
     "exception": false,
     "start_time": "2023-08-10T18:59:11.381740",
     "status": "completed"
    },
    "tags": []
   },
   "source": [
    "### Inspect the submission.csv file  "
   ]
  },
  {
   "cell_type": "code",
   "execution_count": 164,
   "id": "043bc878",
   "metadata": {
    "execution": {
     "iopub.execute_input": "2023-08-10T18:59:11.702332Z",
     "iopub.status.busy": "2023-08-10T18:59:11.701632Z",
     "iopub.status.idle": "2023-08-10T18:59:11.705644Z",
     "shell.execute_reply": "2023-08-10T18:59:11.704779Z"
    },
    "papermill": {
     "duration": 0.113093,
     "end_time": "2023-08-10T18:59:11.708089",
     "exception": false,
     "start_time": "2023-08-10T18:59:11.594996",
     "status": "completed"
    },
    "tags": []
   },
   "outputs": [],
   "source": [
    "# sub = pd.read_csv('submission.csv')\n",
    "# sub.shape, sub.head()"
   ]
  },
  {
   "cell_type": "code",
   "execution_count": 165,
   "id": "50dfb805",
   "metadata": {
    "execution": {
     "iopub.execute_input": "2023-08-10T18:59:11.915876Z",
     "iopub.status.busy": "2023-08-10T18:59:11.915184Z",
     "iopub.status.idle": "2023-08-10T18:59:11.920448Z",
     "shell.execute_reply": "2023-08-10T18:59:11.919115Z"
    },
    "papermill": {
     "duration": 0.111303,
     "end_time": "2023-08-10T18:59:11.922957",
     "exception": false,
     "start_time": "2023-08-10T18:59:11.811654",
     "status": "completed"
    },
    "tags": []
   },
   "outputs": [],
   "source": [
    "# sub['sentiment'].value_counts()"
   ]
  },
  {
   "cell_type": "markdown",
   "id": "eba16597",
   "metadata": {
    "papermill": {
     "duration": 0.11051,
     "end_time": "2023-08-10T18:59:12.148303",
     "exception": false,
     "start_time": "2023-08-10T18:59:12.037793",
     "status": "completed"
    },
    "tags": []
   },
   "source": [
    "## submit_v3 for merged file models - does not retrain on whole data  "
   ]
  },
  {
   "cell_type": "code",
   "execution_count": 166,
   "id": "c3f25e86",
   "metadata": {
    "execution": {
     "iopub.execute_input": "2023-08-10T18:59:12.376193Z",
     "iopub.status.busy": "2023-08-10T18:59:12.375764Z",
     "iopub.status.idle": "2023-08-10T18:59:12.380835Z",
     "shell.execute_reply": "2023-08-10T18:59:12.379732Z"
    },
    "papermill": {
     "duration": 0.123607,
     "end_time": "2023-08-10T18:59:12.383391",
     "exception": false,
     "start_time": "2023-08-10T18:59:12.259784",
     "status": "completed"
    },
    "tags": []
   },
   "outputs": [],
   "source": [
    "# def submit_v3(selected_model=pipe_final):\n",
    "#     '''\n",
    "#     Note that \"selected_preprocessor\" is already used within selected_model or pipeline\n",
    "#     '''\n",
    "      \n",
    "#     # Predict on test.csv file\n",
    "#     merged_test = select_features(load_csv(\"test\"), load_csv(\"movies\"))\n",
    "#     X_test = merged_test.copy()\n",
    "    \n",
    "#     X_test = X_test[[\"audienceScore\", \"rating\", \"isFrequentReviewer\", \"reviewText\"]]    # This is a new line\n",
    "\n",
    "    \n",
    "#     y_pred = selected_model.predict(X_test)\n",
    "    \n",
    "#     pred_df = pd.DataFrame(y_pred)\n",
    "#     pred_df.columns = [\"sentiment\"]\n",
    "#     pred_df.index.name = \"id\"\n",
    "#     pred_df.to_csv(\"submission.csv\")\n",
    "    \n",
    "#     return \"Successfully created the submission file!!!\""
   ]
  },
  {
   "cell_type": "markdown",
   "id": "aeea9d60",
   "metadata": {
    "papermill": {
     "duration": 0.106107,
     "end_time": "2023-08-10T18:59:12.601946",
     "exception": false,
     "start_time": "2023-08-10T18:59:12.495839",
     "status": "completed"
    },
    "tags": []
   },
   "source": [
    "### Uncomment to submit using v3 of submit function  "
   ]
  },
  {
   "cell_type": "code",
   "execution_count": 167,
   "id": "cc6f27b7",
   "metadata": {
    "execution": {
     "iopub.execute_input": "2023-08-10T18:59:12.815602Z",
     "iopub.status.busy": "2023-08-10T18:59:12.815190Z",
     "iopub.status.idle": "2023-08-10T18:59:12.820982Z",
     "shell.execute_reply": "2023-08-10T18:59:12.819636Z"
    },
    "papermill": {
     "duration": 0.117076,
     "end_time": "2023-08-10T18:59:12.823330",
     "exception": false,
     "start_time": "2023-08-10T18:59:12.706254",
     "status": "completed"
    },
    "tags": []
   },
   "outputs": [],
   "source": [
    "# submit_v3(selected_model=pipe_best4)"
   ]
  },
  {
   "cell_type": "markdown",
   "id": "df87a8e6",
   "metadata": {
    "papermill": {
     "duration": 0.132623,
     "end_time": "2023-08-10T18:59:13.065034",
     "exception": false,
     "start_time": "2023-08-10T18:59:12.932411",
     "status": "completed"
    },
    "tags": []
   },
   "source": [
    "## Rough work  "
   ]
  },
  {
   "cell_type": "code",
   "execution_count": 168,
   "id": "30c1a07d",
   "metadata": {
    "execution": {
     "iopub.execute_input": "2023-08-10T18:59:13.290106Z",
     "iopub.status.busy": "2023-08-10T18:59:13.289602Z",
     "iopub.status.idle": "2023-08-10T18:59:19.458947Z",
     "shell.execute_reply": "2023-08-10T18:59:19.457324Z"
    },
    "papermill": {
     "duration": 6.284808,
     "end_time": "2023-08-10T18:59:19.462148",
     "exception": false,
     "start_time": "2023-08-10T18:59:13.177340",
     "status": "completed"
    },
    "tags": []
   },
   "outputs": [],
   "source": [
    "    # Predict on test.csv file\n",
    "    merged_test = select_features(load_csv(\"test\"), load_csv(\"movies\"))\n",
    "    X_test = merged_test.copy()\n",
    "    \n",
    "    X_test = X_test[[\"audienceScore\", \"rating\", \"isFrequentReviewer\", \"reviewText\"]]    # This is a new line"
   ]
  },
  {
   "cell_type": "code",
   "execution_count": 169,
   "id": "749df68f",
   "metadata": {
    "execution": {
     "iopub.execute_input": "2023-08-10T18:59:19.675527Z",
     "iopub.status.busy": "2023-08-10T18:59:19.674102Z",
     "iopub.status.idle": "2023-08-10T18:59:19.679684Z",
     "shell.execute_reply": "2023-08-10T18:59:19.678827Z"
    },
    "papermill": {
     "duration": 0.11405,
     "end_time": "2023-08-10T18:59:19.681988",
     "exception": false,
     "start_time": "2023-08-10T18:59:19.567938",
     "status": "completed"
    },
    "tags": []
   },
   "outputs": [],
   "source": [
    "# X_test.head()"
   ]
  },
  {
   "cell_type": "code",
   "execution_count": 170,
   "id": "661b95e6",
   "metadata": {
    "execution": {
     "iopub.execute_input": "2023-08-10T18:59:19.891299Z",
     "iopub.status.busy": "2023-08-10T18:59:19.889889Z",
     "iopub.status.idle": "2023-08-10T18:59:19.895215Z",
     "shell.execute_reply": "2023-08-10T18:59:19.894400Z"
    },
    "papermill": {
     "duration": 0.11206,
     "end_time": "2023-08-10T18:59:19.897430",
     "exception": false,
     "start_time": "2023-08-10T18:59:19.785370",
     "status": "completed"
    },
    "tags": []
   },
   "outputs": [],
   "source": [
    "# X_test['audienceScore'].describe()"
   ]
  },
  {
   "cell_type": "code",
   "execution_count": 171,
   "id": "6cfb5b81",
   "metadata": {
    "execution": {
     "iopub.execute_input": "2023-08-10T18:59:20.108944Z",
     "iopub.status.busy": "2023-08-10T18:59:20.108232Z",
     "iopub.status.idle": "2023-08-10T18:59:20.114299Z",
     "shell.execute_reply": "2023-08-10T18:59:20.112975Z"
    },
    "papermill": {
     "duration": 0.115212,
     "end_time": "2023-08-10T18:59:20.116773",
     "exception": false,
     "start_time": "2023-08-10T18:59:20.001561",
     "status": "completed"
    },
    "tags": []
   },
   "outputs": [],
   "source": [
    "# X_test['rating'].value_counts()"
   ]
  },
  {
   "cell_type": "code",
   "execution_count": 172,
   "id": "822732ce",
   "metadata": {
    "execution": {
     "iopub.execute_input": "2023-08-10T18:59:20.325393Z",
     "iopub.status.busy": "2023-08-10T18:59:20.324911Z",
     "iopub.status.idle": "2023-08-10T18:59:20.330396Z",
     "shell.execute_reply": "2023-08-10T18:59:20.329062Z"
    },
    "papermill": {
     "duration": 0.112559,
     "end_time": "2023-08-10T18:59:20.332916",
     "exception": false,
     "start_time": "2023-08-10T18:59:20.220357",
     "status": "completed"
    },
    "tags": []
   },
   "outputs": [],
   "source": [
    "# X_test['isFrequentReviewer'].value_counts()"
   ]
  },
  {
   "cell_type": "markdown",
   "id": "d8f20d4a",
   "metadata": {
    "papermill": {
     "duration": 0.102571,
     "end_time": "2023-08-10T18:59:20.539933",
     "exception": false,
     "start_time": "2023-08-10T18:59:20.437362",
     "status": "completed"
    },
    "tags": []
   },
   "source": [
    "## Implement KNN classifier  "
   ]
  },
  {
   "cell_type": "code",
   "execution_count": 173,
   "id": "8d7c5af2",
   "metadata": {
    "execution": {
     "iopub.execute_input": "2023-08-10T18:59:20.749905Z",
     "iopub.status.busy": "2023-08-10T18:59:20.749019Z",
     "iopub.status.idle": "2023-08-10T18:59:20.754181Z",
     "shell.execute_reply": "2023-08-10T18:59:20.753018Z"
    },
    "papermill": {
     "duration": 0.113665,
     "end_time": "2023-08-10T18:59:20.756938",
     "exception": false,
     "start_time": "2023-08-10T18:59:20.643273",
     "status": "completed"
    },
    "tags": []
   },
   "outputs": [],
   "source": [
    "# from sklearn.neighbors import KNeighborsClassifier"
   ]
  },
  {
   "cell_type": "code",
   "execution_count": 174,
   "id": "28c5a4af",
   "metadata": {
    "execution": {
     "iopub.execute_input": "2023-08-10T18:59:20.965305Z",
     "iopub.status.busy": "2023-08-10T18:59:20.964833Z",
     "iopub.status.idle": "2023-08-10T18:59:20.969773Z",
     "shell.execute_reply": "2023-08-10T18:59:20.968620Z"
    },
    "papermill": {
     "duration": 0.112518,
     "end_time": "2023-08-10T18:59:20.972242",
     "exception": false,
     "start_time": "2023-08-10T18:59:20.859724",
     "status": "completed"
    },
    "tags": []
   },
   "outputs": [],
   "source": [
    "# Note that we are borrowing \"ct_final\" column transformer from above  "
   ]
  },
  {
   "cell_type": "code",
   "execution_count": 175,
   "id": "f02316a5",
   "metadata": {
    "execution": {
     "iopub.execute_input": "2023-08-10T18:59:21.185355Z",
     "iopub.status.busy": "2023-08-10T18:59:21.184953Z",
     "iopub.status.idle": "2023-08-10T18:59:21.190429Z",
     "shell.execute_reply": "2023-08-10T18:59:21.189101Z"
    },
    "papermill": {
     "duration": 0.113353,
     "end_time": "2023-08-10T18:59:21.193428",
     "exception": false,
     "start_time": "2023-08-10T18:59:21.080075",
     "status": "completed"
    },
    "tags": []
   },
   "outputs": [],
   "source": [
    "# pipe_knn = Pipeline(steps=[\n",
    "#                         (\"preprocessor\", ct_final),\n",
    "#                         (\"model\", KNeighborsClassifier())\n",
    "#                     ])\n",
    "# pipe_knn"
   ]
  },
  {
   "cell_type": "code",
   "execution_count": 176,
   "id": "9dba4bce",
   "metadata": {
    "execution": {
     "iopub.execute_input": "2023-08-10T18:59:21.404222Z",
     "iopub.status.busy": "2023-08-10T18:59:21.402696Z",
     "iopub.status.idle": "2023-08-10T18:59:21.409242Z",
     "shell.execute_reply": "2023-08-10T18:59:21.407788Z"
    },
    "papermill": {
     "duration": 0.114595,
     "end_time": "2023-08-10T18:59:21.411851",
     "exception": false,
     "start_time": "2023-08-10T18:59:21.297256",
     "status": "completed"
    },
    "tags": []
   },
   "outputs": [],
   "source": [
    "# Train and predict on merged training data  \n",
    "# split_train_predict(merged_train_features, merged_train_labels, pipe_knn, test_size=0.25, random_state=42)"
   ]
  },
  {
   "cell_type": "markdown",
   "id": "fe4013c4",
   "metadata": {
    "papermill": {
     "duration": 0.10573,
     "end_time": "2023-08-10T18:59:21.622477",
     "exception": false,
     "start_time": "2023-08-10T18:59:21.516747",
     "status": "completed"
    },
    "tags": []
   },
   "source": [
    "# Part I (Older code)  "
   ]
  },
  {
   "cell_type": "markdown",
   "id": "5a303c9c",
   "metadata": {
    "papermill": {
     "duration": 0.106064,
     "end_time": "2023-08-10T18:59:21.837480",
     "exception": false,
     "start_time": "2023-08-10T18:59:21.731416",
     "status": "completed"
    },
    "tags": []
   },
   "source": [
    "### Logistic Regression with stop words  "
   ]
  },
  {
   "cell_type": "code",
   "execution_count": 177,
   "id": "245db8d7",
   "metadata": {
    "execution": {
     "iopub.execute_input": "2023-08-10T18:59:22.048850Z",
     "iopub.status.busy": "2023-08-10T18:59:22.048352Z",
     "iopub.status.idle": "2023-08-10T18:59:22.053838Z",
     "shell.execute_reply": "2023-08-10T18:59:22.052369Z"
    },
    "papermill": {
     "duration": 0.11567,
     "end_time": "2023-08-10T18:59:22.056363",
     "exception": false,
     "start_time": "2023-08-10T18:59:21.940693",
     "status": "completed"
    },
    "tags": []
   },
   "outputs": [],
   "source": [
    "# tvec_sw = TfidfVectorizer(stop_words=stop_words)"
   ]
  },
  {
   "cell_type": "code",
   "execution_count": 178,
   "id": "57d4b319",
   "metadata": {
    "execution": {
     "iopub.execute_input": "2023-08-10T18:59:22.266561Z",
     "iopub.status.busy": "2023-08-10T18:59:22.265360Z",
     "iopub.status.idle": "2023-08-10T18:59:22.270533Z",
     "shell.execute_reply": "2023-08-10T18:59:22.269336Z"
    },
    "papermill": {
     "duration": 0.111248,
     "end_time": "2023-08-10T18:59:22.272740",
     "exception": false,
     "start_time": "2023-08-10T18:59:22.161492",
     "status": "completed"
    },
    "tags": []
   },
   "outputs": [],
   "source": [
    "# logreg_sw_pipe = preprocess_n_train(X_train, y_train, tvec_sw, logreg)\n",
    "# logreg_sw_pipe"
   ]
  },
  {
   "cell_type": "code",
   "execution_count": 179,
   "id": "076bd6a4",
   "metadata": {
    "execution": {
     "iopub.execute_input": "2023-08-10T18:59:22.483356Z",
     "iopub.status.busy": "2023-08-10T18:59:22.482661Z",
     "iopub.status.idle": "2023-08-10T18:59:22.487277Z",
     "shell.execute_reply": "2023-08-10T18:59:22.485964Z"
    },
    "papermill": {
     "duration": 0.114114,
     "end_time": "2023-08-10T18:59:22.489902",
     "exception": false,
     "start_time": "2023-08-10T18:59:22.375788",
     "status": "completed"
    },
    "tags": []
   },
   "outputs": [],
   "source": [
    "# y_pred_logreg_sw = predict_n_evaluate(logreg_sw_pipe, X_test, y_test)\n",
    "# y_pred_logreg_sw"
   ]
  },
  {
   "cell_type": "markdown",
   "id": "ea0a729b",
   "metadata": {
    "papermill": {
     "duration": 0.103135,
     "end_time": "2023-08-10T18:59:22.696568",
     "exception": false,
     "start_time": "2023-08-10T18:59:22.593433",
     "status": "completed"
    },
    "tags": []
   },
   "source": [
    "### Logistic regression with different ngram ranges  "
   ]
  },
  {
   "cell_type": "code",
   "execution_count": 180,
   "id": "f805f99f",
   "metadata": {
    "execution": {
     "iopub.execute_input": "2023-08-10T18:59:22.985895Z",
     "iopub.status.busy": "2023-08-10T18:59:22.985179Z",
     "iopub.status.idle": "2023-08-10T18:59:22.990686Z",
     "shell.execute_reply": "2023-08-10T18:59:22.989337Z"
    },
    "papermill": {
     "duration": 0.192877,
     "end_time": "2023-08-10T18:59:22.993201",
     "exception": false,
     "start_time": "2023-08-10T18:59:22.800324",
     "status": "completed"
    },
    "tags": []
   },
   "outputs": [],
   "source": [
    "# tvec_ngram_2 = TfidfVectorizer(ngram_range=(1,2))"
   ]
  },
  {
   "cell_type": "code",
   "execution_count": 181,
   "id": "0d953271",
   "metadata": {
    "execution": {
     "iopub.execute_input": "2023-08-10T18:59:23.208917Z",
     "iopub.status.busy": "2023-08-10T18:59:23.208461Z",
     "iopub.status.idle": "2023-08-10T18:59:23.213817Z",
     "shell.execute_reply": "2023-08-10T18:59:23.212369Z"
    },
    "papermill": {
     "duration": 0.113002,
     "end_time": "2023-08-10T18:59:23.216427",
     "exception": false,
     "start_time": "2023-08-10T18:59:23.103425",
     "status": "completed"
    },
    "tags": []
   },
   "outputs": [],
   "source": [
    "# logreg_ng2_pipe = preprocess_n_train(X_train, y_train, tvec_ngram_2, logreg)\n",
    "# logreg_ng2_pipe"
   ]
  },
  {
   "cell_type": "code",
   "execution_count": 182,
   "id": "4eb469e1",
   "metadata": {
    "execution": {
     "iopub.execute_input": "2023-08-10T18:59:23.429415Z",
     "iopub.status.busy": "2023-08-10T18:59:23.428985Z",
     "iopub.status.idle": "2023-08-10T18:59:23.434604Z",
     "shell.execute_reply": "2023-08-10T18:59:23.433169Z"
    },
    "papermill": {
     "duration": 0.115597,
     "end_time": "2023-08-10T18:59:23.437068",
     "exception": false,
     "start_time": "2023-08-10T18:59:23.321471",
     "status": "completed"
    },
    "tags": []
   },
   "outputs": [],
   "source": [
    "# y_pred_logreg_ng2 = predict_n_evaluate(logreg_ng2_pipe, X_test, y_test)\n",
    "# y_pred_logreg_ng2"
   ]
  },
  {
   "cell_type": "markdown",
   "id": "eb02172c",
   "metadata": {
    "papermill": {
     "duration": 0.102879,
     "end_time": "2023-08-10T18:59:23.645744",
     "exception": false,
     "start_time": "2023-08-10T18:59:23.542865",
     "status": "completed"
    },
    "tags": []
   },
   "source": [
    "### Logistic regression with C=2, ngram range (1,2), stop words as None and min_df, max_df adjusted\n",
    "### Class weight balanced"
   ]
  },
  {
   "cell_type": "code",
   "execution_count": 183,
   "id": "cee383fb",
   "metadata": {
    "execution": {
     "iopub.execute_input": "2023-08-10T18:59:23.860430Z",
     "iopub.status.busy": "2023-08-10T18:59:23.859970Z",
     "iopub.status.idle": "2023-08-10T18:59:23.866022Z",
     "shell.execute_reply": "2023-08-10T18:59:23.864524Z"
    },
    "papermill": {
     "duration": 0.119198,
     "end_time": "2023-08-10T18:59:23.868611",
     "exception": false,
     "start_time": "2023-08-10T18:59:23.749413",
     "status": "completed"
    },
    "tags": []
   },
   "outputs": [],
   "source": [
    "# logreg = LogisticRegression(max_iter=100000, C=2, class_weight=\"balanced\")"
   ]
  },
  {
   "cell_type": "code",
   "execution_count": 184,
   "id": "ede45a80",
   "metadata": {
    "execution": {
     "iopub.execute_input": "2023-08-10T18:59:24.105427Z",
     "iopub.status.busy": "2023-08-10T18:59:24.104972Z",
     "iopub.status.idle": "2023-08-10T18:59:24.110908Z",
     "shell.execute_reply": "2023-08-10T18:59:24.109525Z"
    },
    "papermill": {
     "duration": 0.131156,
     "end_time": "2023-08-10T18:59:24.113723",
     "exception": false,
     "start_time": "2023-08-10T18:59:23.982567",
     "status": "completed"
    },
    "tags": []
   },
   "outputs": [],
   "source": [
    "# tvec_ngram_2_sw_df = TfidfVectorizer(ngram_range=(1,2), stop_words=None, min_df=0.0001, max_df=0.50)\n",
    "# tvec_ngram_2_sw_df"
   ]
  },
  {
   "cell_type": "code",
   "execution_count": 185,
   "id": "81e66457",
   "metadata": {
    "execution": {
     "iopub.execute_input": "2023-08-10T18:59:24.323114Z",
     "iopub.status.busy": "2023-08-10T18:59:24.322645Z",
     "iopub.status.idle": "2023-08-10T18:59:24.327879Z",
     "shell.execute_reply": "2023-08-10T18:59:24.326358Z"
    },
    "papermill": {
     "duration": 0.113237,
     "end_time": "2023-08-10T18:59:24.330346",
     "exception": false,
     "start_time": "2023-08-10T18:59:24.217109",
     "status": "completed"
    },
    "tags": []
   },
   "outputs": [],
   "source": [
    "# logreg_ng2_sw_df_pipe = preprocess_n_train(X_train, y_train, tvec_ngram_2_sw_df, logreg)\n",
    "# logreg_ng2_sw_df_pipe"
   ]
  },
  {
   "cell_type": "code",
   "execution_count": 186,
   "id": "817b8057",
   "metadata": {
    "execution": {
     "iopub.execute_input": "2023-08-10T18:59:24.543759Z",
     "iopub.status.busy": "2023-08-10T18:59:24.543242Z",
     "iopub.status.idle": "2023-08-10T18:59:24.548615Z",
     "shell.execute_reply": "2023-08-10T18:59:24.547157Z"
    },
    "papermill": {
     "duration": 0.114398,
     "end_time": "2023-08-10T18:59:24.551054",
     "exception": false,
     "start_time": "2023-08-10T18:59:24.436656",
     "status": "completed"
    },
    "tags": []
   },
   "outputs": [],
   "source": [
    "# y_pred_logreg_ng2_sw_df = predict_n_evaluate(logreg_ng2_sw_df_pipe, X_test, y_test)\n",
    "# y_pred_logreg_ng2_sw_df"
   ]
  },
  {
   "cell_type": "markdown",
   "id": "7325356a",
   "metadata": {
    "papermill": {
     "duration": 0.107794,
     "end_time": "2023-08-10T18:59:24.765141",
     "exception": false,
     "start_time": "2023-08-10T18:59:24.657347",
     "status": "completed"
    },
    "tags": []
   },
   "source": [
    "### Log reg with parameters from GridSearchCV  \n",
    "\n",
    "`This is the best score with \"reviewText column alone for analysis`  "
   ]
  },
  {
   "cell_type": "code",
   "execution_count": 187,
   "id": "0f22ceba",
   "metadata": {
    "execution": {
     "iopub.execute_input": "2023-08-10T18:59:24.973239Z",
     "iopub.status.busy": "2023-08-10T18:59:24.972746Z",
     "iopub.status.idle": "2023-08-10T18:59:24.979148Z",
     "shell.execute_reply": "2023-08-10T18:59:24.977582Z"
    },
    "papermill": {
     "duration": 0.113826,
     "end_time": "2023-08-10T18:59:24.981741",
     "exception": false,
     "start_time": "2023-08-10T18:59:24.867915",
     "status": "completed"
    },
    "tags": []
   },
   "outputs": [],
   "source": [
    "logreg_cv1 = LogisticRegression(max_iter=100000, C=10)\n",
    "tvec_cv1 = TfidfVectorizer(max_features=None, ngram_range=(1,2))"
   ]
  },
  {
   "cell_type": "code",
   "execution_count": 188,
   "id": "6e3e286e",
   "metadata": {
    "execution": {
     "iopub.execute_input": "2023-08-10T18:59:25.194706Z",
     "iopub.status.busy": "2023-08-10T18:59:25.194187Z",
     "iopub.status.idle": "2023-08-10T18:59:25.199898Z",
     "shell.execute_reply": "2023-08-10T18:59:25.198593Z"
    },
    "papermill": {
     "duration": 0.114078,
     "end_time": "2023-08-10T18:59:25.203130",
     "exception": false,
     "start_time": "2023-08-10T18:59:25.089052",
     "status": "completed"
    },
    "tags": []
   },
   "outputs": [],
   "source": [
    "pipe_cv1 = Pipeline(steps=[\n",
    "    (\"preprocessor\", tvec_cv1),\n",
    "    (\"model\", logreg_cv1)\n",
    "])"
   ]
  },
  {
   "cell_type": "code",
   "execution_count": 189,
   "id": "46b5e603",
   "metadata": {
    "execution": {
     "iopub.execute_input": "2023-08-10T18:59:25.431044Z",
     "iopub.status.busy": "2023-08-10T18:59:25.430636Z",
     "iopub.status.idle": "2023-08-10T18:59:25.435675Z",
     "shell.execute_reply": "2023-08-10T18:59:25.434472Z"
    },
    "papermill": {
     "duration": 0.120887,
     "end_time": "2023-08-10T18:59:25.438053",
     "exception": false,
     "start_time": "2023-08-10T18:59:25.317166",
     "status": "completed"
    },
    "tags": []
   },
   "outputs": [],
   "source": [
    "# pipe_cv1.fit(X_train, y_train)"
   ]
  },
  {
   "cell_type": "code",
   "execution_count": 190,
   "id": "78ae49e4",
   "metadata": {
    "execution": {
     "iopub.execute_input": "2023-08-10T18:59:25.659614Z",
     "iopub.status.busy": "2023-08-10T18:59:25.659141Z",
     "iopub.status.idle": "2023-08-10T18:59:25.664387Z",
     "shell.execute_reply": "2023-08-10T18:59:25.662897Z"
    },
    "papermill": {
     "duration": 0.120519,
     "end_time": "2023-08-10T18:59:25.667152",
     "exception": false,
     "start_time": "2023-08-10T18:59:25.546633",
     "status": "completed"
    },
    "tags": []
   },
   "outputs": [],
   "source": [
    "# pipe_cv1.score(X_train, y_train)"
   ]
  },
  {
   "cell_type": "markdown",
   "id": "c8fa4bb0",
   "metadata": {
    "papermill": {
     "duration": 0.106668,
     "end_time": "2023-08-10T18:59:25.881472",
     "exception": false,
     "start_time": "2023-08-10T18:59:25.774804",
     "status": "completed"
    },
    "tags": []
   },
   "source": [
    "### SVM model with stop words  "
   ]
  },
  {
   "cell_type": "code",
   "execution_count": 191,
   "id": "81da2b39",
   "metadata": {
    "execution": {
     "iopub.execute_input": "2023-08-10T18:59:26.113720Z",
     "iopub.status.busy": "2023-08-10T18:59:26.113165Z",
     "iopub.status.idle": "2023-08-10T18:59:26.118636Z",
     "shell.execute_reply": "2023-08-10T18:59:26.117157Z"
    },
    "papermill": {
     "duration": 0.131384,
     "end_time": "2023-08-10T18:59:26.121501",
     "exception": false,
     "start_time": "2023-08-10T18:59:25.990117",
     "status": "completed"
    },
    "tags": []
   },
   "outputs": [],
   "source": [
    "# svm_sw_pipe = preprocess_n_train(X_train, y_train, tvec_sw, svm)\n",
    "# svm_sw_pipe"
   ]
  },
  {
   "cell_type": "code",
   "execution_count": 192,
   "id": "25833bdd",
   "metadata": {
    "execution": {
     "iopub.execute_input": "2023-08-10T18:59:26.336920Z",
     "iopub.status.busy": "2023-08-10T18:59:26.336471Z",
     "iopub.status.idle": "2023-08-10T18:59:26.341900Z",
     "shell.execute_reply": "2023-08-10T18:59:26.340625Z"
    },
    "papermill": {
     "duration": 0.114116,
     "end_time": "2023-08-10T18:59:26.344555",
     "exception": false,
     "start_time": "2023-08-10T18:59:26.230439",
     "status": "completed"
    },
    "tags": []
   },
   "outputs": [],
   "source": [
    "# y_pred_svm_sw = predict_n_evaluate(svm_sw_pipe, X_test, y_test)\n",
    "# y_pred_svm_sw"
   ]
  },
  {
   "cell_type": "markdown",
   "id": "7b60124f",
   "metadata": {
    "papermill": {
     "duration": 0.102775,
     "end_time": "2023-08-10T18:59:26.555060",
     "exception": false,
     "start_time": "2023-08-10T18:59:26.452285",
     "status": "completed"
    },
    "tags": []
   },
   "source": [
    "### GaussianNB  "
   ]
  },
  {
   "cell_type": "markdown",
   "id": "8ab1a90a",
   "metadata": {
    "papermill": {
     "duration": 0.104639,
     "end_time": "2023-08-10T18:59:26.762702",
     "exception": false,
     "start_time": "2023-08-10T18:59:26.658063",
     "status": "completed"
    },
    "tags": []
   },
   "source": [
    "https://stackoverflow.com/questions/28384680/scikit-learns-pipeline-a-sparse-matrix-was-passed-but-dense-data-is-required"
   ]
  },
  {
   "cell_type": "code",
   "execution_count": 193,
   "id": "c26f46d4",
   "metadata": {
    "execution": {
     "iopub.execute_input": "2023-08-10T18:59:27.045479Z",
     "iopub.status.busy": "2023-08-10T18:59:27.044940Z",
     "iopub.status.idle": "2023-08-10T18:59:27.050133Z",
     "shell.execute_reply": "2023-08-10T18:59:27.048837Z"
    },
    "papermill": {
     "duration": 0.11929,
     "end_time": "2023-08-10T18:59:27.052473",
     "exception": false,
     "start_time": "2023-08-10T18:59:26.933183",
     "status": "completed"
    },
    "tags": []
   },
   "outputs": [],
   "source": [
    "# gnb = GaussianNB()\n",
    "# gnb"
   ]
  },
  {
   "cell_type": "code",
   "execution_count": 194,
   "id": "b735e052",
   "metadata": {
    "execution": {
     "iopub.execute_input": "2023-08-10T18:59:27.262488Z",
     "iopub.status.busy": "2023-08-10T18:59:27.262118Z",
     "iopub.status.idle": "2023-08-10T18:59:27.266615Z",
     "shell.execute_reply": "2023-08-10T18:59:27.265476Z"
    },
    "papermill": {
     "duration": 0.111644,
     "end_time": "2023-08-10T18:59:27.268858",
     "exception": false,
     "start_time": "2023-08-10T18:59:27.157214",
     "status": "completed"
    },
    "tags": []
   },
   "outputs": [],
   "source": [
    "# gnb_pipe = preprocess_n_train(X_train, y_train, tvec, gnb)\n",
    "# gnb_pipe"
   ]
  },
  {
   "cell_type": "markdown",
   "id": "920fb6da",
   "metadata": {
    "papermill": {
     "duration": 0.105707,
     "end_time": "2023-08-10T18:59:27.477765",
     "exception": false,
     "start_time": "2023-08-10T18:59:27.372058",
     "status": "completed"
    },
    "tags": []
   },
   "source": [
    "# Part II (Older code)  \n"
   ]
  },
  {
   "cell_type": "markdown",
   "id": "53392c54",
   "metadata": {
    "papermill": {
     "duration": 0.102625,
     "end_time": "2023-08-10T18:59:27.684826",
     "exception": false,
     "start_time": "2023-08-10T18:59:27.582201",
     "status": "completed"
    },
    "tags": []
   },
   "source": [
    "### Separate features and labels from merged dataset  "
   ]
  },
  {
   "cell_type": "code",
   "execution_count": 195,
   "id": "92eeb3f3",
   "metadata": {
    "execution": {
     "iopub.execute_input": "2023-08-10T18:59:27.894191Z",
     "iopub.status.busy": "2023-08-10T18:59:27.893816Z",
     "iopub.status.idle": "2023-08-10T18:59:27.898462Z",
     "shell.execute_reply": "2023-08-10T18:59:27.897272Z"
    },
    "papermill": {
     "duration": 0.112914,
     "end_time": "2023-08-10T18:59:27.900833",
     "exception": false,
     "start_time": "2023-08-10T18:59:27.787919",
     "status": "completed"
    },
    "tags": []
   },
   "outputs": [],
   "source": [
    "# merged_train_features = merged[['movieid', 'reviewerName', 'isFrequentReviewer', 'reviewText',\n",
    "#        'audienceScore', 'rating', 'runtimeMinutes', 'genre',\n",
    "#        'originalLanguage', 'director']]\n",
    "# merged_train_features.shape"
   ]
  },
  {
   "cell_type": "code",
   "execution_count": 196,
   "id": "6ddf281e",
   "metadata": {
    "execution": {
     "iopub.execute_input": "2023-08-10T18:59:28.116011Z",
     "iopub.status.busy": "2023-08-10T18:59:28.115294Z",
     "iopub.status.idle": "2023-08-10T18:59:28.119796Z",
     "shell.execute_reply": "2023-08-10T18:59:28.118894Z"
    },
    "papermill": {
     "duration": 0.112338,
     "end_time": "2023-08-10T18:59:28.122144",
     "exception": false,
     "start_time": "2023-08-10T18:59:28.009806",
     "status": "completed"
    },
    "tags": []
   },
   "outputs": [],
   "source": [
    "# merged_train_labels = merged[\"sentiment\"]\n",
    "# merged_train_labels.shape"
   ]
  },
  {
   "cell_type": "markdown",
   "id": "3cc4b9cb",
   "metadata": {
    "papermill": {
     "duration": 0.102935,
     "end_time": "2023-08-10T18:59:28.329639",
     "exception": false,
     "start_time": "2023-08-10T18:59:28.226704",
     "status": "completed"
    },
    "tags": []
   },
   "source": [
    "### Identify variable types for different preprocessing pipes  "
   ]
  },
  {
   "cell_type": "code",
   "execution_count": 197,
   "id": "c7f6232c",
   "metadata": {
    "execution": {
     "iopub.execute_input": "2023-08-10T18:59:28.539928Z",
     "iopub.status.busy": "2023-08-10T18:59:28.539219Z",
     "iopub.status.idle": "2023-08-10T18:59:28.543922Z",
     "shell.execute_reply": "2023-08-10T18:59:28.543029Z"
    },
    "papermill": {
     "duration": 0.112447,
     "end_time": "2023-08-10T18:59:28.546171",
     "exception": false,
     "start_time": "2023-08-10T18:59:28.433724",
     "status": "completed"
    },
    "tags": []
   },
   "outputs": [],
   "source": [
    "# num_vars = [\"audienceScore\", \"runtimeMinutes\"]\n",
    "# txt_vars = [\"originalLanguage\", \"genre\", \"director\", \"reviewerName\", \"reviewText\"]\n",
    "# cat_vars = [\"rating\", \"isFrequentReviewer\"]"
   ]
  },
  {
   "cell_type": "code",
   "execution_count": 198,
   "id": "3e363c0d",
   "metadata": {
    "execution": {
     "iopub.execute_input": "2023-08-10T18:59:28.757775Z",
     "iopub.status.busy": "2023-08-10T18:59:28.756998Z",
     "iopub.status.idle": "2023-08-10T18:59:28.761847Z",
     "shell.execute_reply": "2023-08-10T18:59:28.760976Z"
    },
    "papermill": {
     "duration": 0.113731,
     "end_time": "2023-08-10T18:59:28.764121",
     "exception": false,
     "start_time": "2023-08-10T18:59:28.650390",
     "status": "completed"
    },
    "tags": []
   },
   "outputs": [],
   "source": [
    "# num_pipe = Pipeline(steps=[\n",
    "#                             (\"imputer\", SimpleImputer(strategy=\"mean\", missing_values=np.nan)),\n",
    "#                             (\"scaler\", MinMaxScaler())\n",
    "#                         ])\n",
    "# num_pipe"
   ]
  },
  {
   "cell_type": "code",
   "execution_count": 199,
   "id": "d27a95da",
   "metadata": {
    "execution": {
     "iopub.execute_input": "2023-08-10T18:59:28.977773Z",
     "iopub.status.busy": "2023-08-10T18:59:28.977013Z",
     "iopub.status.idle": "2023-08-10T18:59:28.981471Z",
     "shell.execute_reply": "2023-08-10T18:59:28.980603Z"
    },
    "papermill": {
     "duration": 0.115248,
     "end_time": "2023-08-10T18:59:28.984365",
     "exception": false,
     "start_time": "2023-08-10T18:59:28.869117",
     "status": "completed"
    },
    "tags": []
   },
   "outputs": [],
   "source": [
    "# txt_pipe = Pipeline(steps=[\n",
    "#                             (\"tvec\", TfidfVectorizer())\n",
    "#                         ])\n",
    "# txt_pipe"
   ]
  },
  {
   "cell_type": "code",
   "execution_count": 200,
   "id": "e15b57b2",
   "metadata": {
    "execution": {
     "iopub.execute_input": "2023-08-10T18:59:29.216232Z",
     "iopub.status.busy": "2023-08-10T18:59:29.215500Z",
     "iopub.status.idle": "2023-08-10T18:59:29.219397Z",
     "shell.execute_reply": "2023-08-10T18:59:29.218643Z"
    },
    "papermill": {
     "duration": 0.116145,
     "end_time": "2023-08-10T18:59:29.221869",
     "exception": false,
     "start_time": "2023-08-10T18:59:29.105724",
     "status": "completed"
    },
    "tags": []
   },
   "outputs": [],
   "source": [
    "# cat_pipe = Pipeline(steps=[\n",
    "#                             (\"ohe\", OneHotEncoder(handle_unknown=\"ignore\"))\n",
    "#                         ])\n",
    "# cat_pipe"
   ]
  },
  {
   "cell_type": "code",
   "execution_count": 201,
   "id": "8aebc4c6",
   "metadata": {
    "execution": {
     "iopub.execute_input": "2023-08-10T18:59:29.443526Z",
     "iopub.status.busy": "2023-08-10T18:59:29.443013Z",
     "iopub.status.idle": "2023-08-10T18:59:29.448551Z",
     "shell.execute_reply": "2023-08-10T18:59:29.447152Z"
    },
    "papermill": {
     "duration": 0.116812,
     "end_time": "2023-08-10T18:59:29.451397",
     "exception": false,
     "start_time": "2023-08-10T18:59:29.334585",
     "status": "completed"
    },
    "tags": []
   },
   "outputs": [],
   "source": [
    "# tfidf_vec_1 = TfidfVectorizer(ngram_range=(1,2))\n",
    "# tfidf_vec_1"
   ]
  },
  {
   "cell_type": "code",
   "execution_count": 202,
   "id": "9e529ae7",
   "metadata": {
    "execution": {
     "iopub.execute_input": "2023-08-10T18:59:29.662705Z",
     "iopub.status.busy": "2023-08-10T18:59:29.661837Z",
     "iopub.status.idle": "2023-08-10T18:59:29.668714Z",
     "shell.execute_reply": "2023-08-10T18:59:29.667488Z"
    },
    "papermill": {
     "duration": 0.116721,
     "end_time": "2023-08-10T18:59:29.671317",
     "exception": false,
     "start_time": "2023-08-10T18:59:29.554596",
     "status": "completed"
    },
    "tags": []
   },
   "outputs": [],
   "source": [
    "# ct_final = ColumnTransformer(transformers=[\n",
    "#                                         (\"num\", num_pipe, num_vars),\n",
    "#                                         (\"txt1\", txt_pipe, \"originalLanguage\"),\n",
    "#                                         (\"txt2\", txt_pipe, \"genre\"),\n",
    "#                                         (\"txt3\", txt_pipe, \"director\"),\n",
    "#                                         (\"cat\", cat_pipe, cat_vars),\n",
    "#                                         (\"txt4a\", tfidf_vec_1, \"reviewText\")\n",
    "# #                                         (\"txt4\", TfidfVectorizer(ngram_range=(1,2)), \"reviewText\"),\n",
    "# #                                         (\"cat2\", cat_pipe, [\"isFrequentReviewer\"])\n",
    "#                                         ], remainder=\"drop\", n_jobs=1)\n",
    "\n",
    "# # Note that this transformer drops \"movieid\" column and \"reviewerName\" column  \n",
    "# ct_final"
   ]
  },
  {
   "cell_type": "code",
   "execution_count": 203,
   "id": "a7392a7e",
   "metadata": {
    "execution": {
     "iopub.execute_input": "2023-08-10T18:59:29.885901Z",
     "iopub.status.busy": "2023-08-10T18:59:29.885446Z",
     "iopub.status.idle": "2023-08-10T18:59:29.891088Z",
     "shell.execute_reply": "2023-08-10T18:59:29.890087Z"
    },
    "papermill": {
     "duration": 0.114243,
     "end_time": "2023-08-10T18:59:29.893407",
     "exception": false,
     "start_time": "2023-08-10T18:59:29.779164",
     "status": "completed"
    },
    "tags": []
   },
   "outputs": [],
   "source": [
    "# pipe_final = Pipeline(steps=[\n",
    "#                         (\"preprocessor\", ct_final),\n",
    "#                         (\"model\", LogisticRegression(max_iter=100000))\n",
    "#                     ])\n",
    "# pipe_final"
   ]
  },
  {
   "cell_type": "code",
   "execution_count": 204,
   "id": "923fb4ed",
   "metadata": {
    "execution": {
     "iopub.execute_input": "2023-08-10T18:59:30.106822Z",
     "iopub.status.busy": "2023-08-10T18:59:30.105946Z",
     "iopub.status.idle": "2023-08-10T18:59:30.110244Z",
     "shell.execute_reply": "2023-08-10T18:59:30.109402Z"
    },
    "papermill": {
     "duration": 0.115768,
     "end_time": "2023-08-10T18:59:30.112451",
     "exception": false,
     "start_time": "2023-08-10T18:59:29.996683",
     "status": "completed"
    },
    "tags": []
   },
   "outputs": [],
   "source": [
    "# final_vars = num_vars + txt_vars + cat_vars\n",
    "# len(final_vars), final_vars"
   ]
  },
  {
   "cell_type": "markdown",
   "id": "9ba5a592",
   "metadata": {
    "papermill": {
     "duration": 0.102964,
     "end_time": "2023-08-10T18:59:30.318926",
     "exception": false,
     "start_time": "2023-08-10T18:59:30.215962",
     "status": "completed"
    },
    "tags": []
   },
   "source": [
    "### Use \"split_train_predict\" function to run end-to-end pipeline  "
   ]
  },
  {
   "cell_type": "code",
   "execution_count": 205,
   "id": "f9e2ec17",
   "metadata": {
    "execution": {
     "iopub.execute_input": "2023-08-10T18:59:30.531765Z",
     "iopub.status.busy": "2023-08-10T18:59:30.530559Z",
     "iopub.status.idle": "2023-08-10T18:59:30.536180Z",
     "shell.execute_reply": "2023-08-10T18:59:30.535126Z"
    },
    "papermill": {
     "duration": 0.115907,
     "end_time": "2023-08-10T18:59:30.538466",
     "exception": false,
     "start_time": "2023-08-10T18:59:30.422559",
     "status": "completed"
    },
    "tags": []
   },
   "outputs": [],
   "source": [
    "# split_train_predict(merged_train_features, merged_train_labels, pipe_final, test_size=0.25, random_state=42)"
   ]
  },
  {
   "cell_type": "markdown",
   "id": "fdc8537b",
   "metadata": {
    "papermill": {
     "duration": 0.102657,
     "end_time": "2023-08-10T18:59:30.744176",
     "exception": false,
     "start_time": "2023-08-10T18:59:30.641519",
     "status": "completed"
    },
    "tags": []
   },
   "source": [
    "## Try the best four features obtained on local machine  "
   ]
  },
  {
   "cell_type": "code",
   "execution_count": 206,
   "id": "b2d66fcf",
   "metadata": {
    "execution": {
     "iopub.execute_input": "2023-08-10T18:59:30.953091Z",
     "iopub.status.busy": "2023-08-10T18:59:30.952277Z",
     "iopub.status.idle": "2023-08-10T18:59:30.956785Z",
     "shell.execute_reply": "2023-08-10T18:59:30.955916Z"
    },
    "papermill": {
     "duration": 0.111758,
     "end_time": "2023-08-10T18:59:30.959633",
     "exception": false,
     "start_time": "2023-08-10T18:59:30.847875",
     "status": "completed"
    },
    "tags": []
   },
   "outputs": [],
   "source": [
    "# tfidf_vec_2 = TfidfVectorizer(ngram_range=(1,2))\n",
    "# tfidf_vec_2"
   ]
  },
  {
   "cell_type": "code",
   "execution_count": 207,
   "id": "695e89c8",
   "metadata": {
    "execution": {
     "iopub.execute_input": "2023-08-10T18:59:31.184143Z",
     "iopub.status.busy": "2023-08-10T18:59:31.183699Z",
     "iopub.status.idle": "2023-08-10T18:59:31.189395Z",
     "shell.execute_reply": "2023-08-10T18:59:31.188128Z"
    },
    "papermill": {
     "duration": 0.11894,
     "end_time": "2023-08-10T18:59:31.191842",
     "exception": false,
     "start_time": "2023-08-10T18:59:31.072902",
     "status": "completed"
    },
    "tags": []
   },
   "outputs": [],
   "source": [
    "# ct_best4 = ColumnTransformer(transformers=[\n",
    "#                                             (\"num\", num_pipe, [\"audienceScore\"]),\n",
    "#                                             (\"cat\", cat_pipe, [\"rating\", \"isFrequentReviewer\"]),\n",
    "#                                             (\"tvec\", tfidf_vec_2, \"reviewText\")\n",
    "#                             ])\n",
    "\n",
    "# pipe_best4 = Pipeline(steps=[\n",
    "#     (\"preprocessor\", ct_best4),\n",
    "#     (\"model\", LogisticRegression())\n",
    "# ])\n",
    "\n",
    "# pipe_best4.set_params(model__C=10, model__max_iter=100000)\n",
    "\n",
    "# pipe_best4"
   ]
  },
  {
   "cell_type": "code",
   "execution_count": 208,
   "id": "2e0b838d",
   "metadata": {
    "execution": {
     "iopub.execute_input": "2023-08-10T18:59:31.408582Z",
     "iopub.status.busy": "2023-08-10T18:59:31.408080Z",
     "iopub.status.idle": "2023-08-10T18:59:31.413337Z",
     "shell.execute_reply": "2023-08-10T18:59:31.412497Z"
    },
    "papermill": {
     "duration": 0.11585,
     "end_time": "2023-08-10T18:59:31.415581",
     "exception": false,
     "start_time": "2023-08-10T18:59:31.299731",
     "status": "completed"
    },
    "tags": []
   },
   "outputs": [],
   "source": [
    "# split_train_predict(merged[[\"audienceScore\", \"rating\", \"isFrequentReviewer\", \"reviewText\"]], merged[\"sentiment\"], pipe_best4, test_size=0.25)"
   ]
  },
  {
   "cell_type": "markdown",
   "id": "66bcb995",
   "metadata": {
    "papermill": {
     "duration": 0.213266,
     "end_time": "2023-08-10T18:59:31.737168",
     "exception": false,
     "start_time": "2023-08-10T18:59:31.523902",
     "status": "completed"
    },
    "tags": []
   },
   "source": [
    "## Try only 'reviewText' column  "
   ]
  },
  {
   "cell_type": "code",
   "execution_count": 209,
   "id": "77bd2824",
   "metadata": {
    "execution": {
     "iopub.execute_input": "2023-08-10T18:59:31.959689Z",
     "iopub.status.busy": "2023-08-10T18:59:31.959248Z",
     "iopub.status.idle": "2023-08-10T18:59:31.964516Z",
     "shell.execute_reply": "2023-08-10T18:59:31.962786Z"
    },
    "papermill": {
     "duration": 0.118734,
     "end_time": "2023-08-10T18:59:31.967069",
     "exception": false,
     "start_time": "2023-08-10T18:59:31.848335",
     "status": "completed"
    },
    "tags": []
   },
   "outputs": [],
   "source": [
    "# tfidf_vec_3 = TfidfVectorizer(ngram_range=(1,2))\n",
    "# tfidf_vec_3"
   ]
  },
  {
   "cell_type": "code",
   "execution_count": 210,
   "id": "6e55b6d0",
   "metadata": {
    "execution": {
     "iopub.execute_input": "2023-08-10T18:59:32.194897Z",
     "iopub.status.busy": "2023-08-10T18:59:32.194486Z",
     "iopub.status.idle": "2023-08-10T18:59:32.199703Z",
     "shell.execute_reply": "2023-08-10T18:59:32.198347Z"
    },
    "papermill": {
     "duration": 0.120334,
     "end_time": "2023-08-10T18:59:32.202147",
     "exception": false,
     "start_time": "2023-08-10T18:59:32.081813",
     "status": "completed"
    },
    "tags": []
   },
   "outputs": [],
   "source": [
    "# ct_RTonly = ColumnTransformer(transformers=[\n",
    "#                                             ('txt', tfidf_vec_3, 'reviewText'),\n",
    "#                                             ], remainder='drop')\n",
    "# ct_RTonly"
   ]
  },
  {
   "cell_type": "code",
   "execution_count": 211,
   "id": "f0397d5a",
   "metadata": {
    "execution": {
     "iopub.execute_input": "2023-08-10T18:59:32.419561Z",
     "iopub.status.busy": "2023-08-10T18:59:32.418079Z",
     "iopub.status.idle": "2023-08-10T18:59:32.424928Z",
     "shell.execute_reply": "2023-08-10T18:59:32.423402Z"
    },
    "papermill": {
     "duration": 0.116885,
     "end_time": "2023-08-10T18:59:32.427473",
     "exception": false,
     "start_time": "2023-08-10T18:59:32.310588",
     "status": "completed"
    },
    "tags": []
   },
   "outputs": [],
   "source": [
    "# pipe_RTonly = Pipeline(steps=[\n",
    "#     (\"preprocessor\", ct_RTonly),\n",
    "#     (\"model\", LogisticRegression())\n",
    "# ])\n",
    "\n",
    "# pipe_RTonly.set_params(model__C=10, model__max_iter=100000)\n",
    "\n",
    "# pipe_RTonly"
   ]
  },
  {
   "cell_type": "markdown",
   "id": "027bf10b",
   "metadata": {
    "papermill": {
     "duration": 0.103395,
     "end_time": "2023-08-10T18:59:32.637319",
     "exception": false,
     "start_time": "2023-08-10T18:59:32.533924",
     "status": "completed"
    },
    "tags": []
   },
   "source": [
    "## Using the 'submit_v4' function  "
   ]
  },
  {
   "cell_type": "markdown",
   "id": "fee8a759",
   "metadata": {
    "papermill": {
     "duration": 0.103322,
     "end_time": "2023-08-10T18:59:32.845176",
     "exception": false,
     "start_time": "2023-08-10T18:59:32.741854",
     "status": "completed"
    },
    "tags": []
   },
   "source": [
    "### Try the best 4 parameters with submit_v4 function"
   ]
  },
  {
   "cell_type": "code",
   "execution_count": 212,
   "id": "b4a3dabd",
   "metadata": {
    "execution": {
     "iopub.execute_input": "2023-08-10T18:59:33.063603Z",
     "iopub.status.busy": "2023-08-10T18:59:33.063074Z",
     "iopub.status.idle": "2023-08-10T18:59:33.068982Z",
     "shell.execute_reply": "2023-08-10T18:59:33.067373Z"
    },
    "papermill": {
     "duration": 0.122209,
     "end_time": "2023-08-10T18:59:33.071903",
     "exception": false,
     "start_time": "2023-08-10T18:59:32.949694",
     "status": "completed"
    },
    "tags": []
   },
   "outputs": [],
   "source": [
    "# best4 = [\"audienceScore\", \"rating\", \"isFrequentReviewer\", \"reviewText\"]\n",
    "\n",
    "# best4_dict = {'cat': [\"rating\", \"isFrequentReviewer\"],\n",
    "#              'num': [\"audienceScore\"],\n",
    "#              'txt': ['reviewText']}\n",
    "\n",
    "# best4_dict = {'num': [\"audienceScore\"],\n",
    "#              'txt': ['reviewText', 'movieid', 'director']}\n",
    "\n",
    "# best4_dict"
   ]
  },
  {
   "cell_type": "code",
   "execution_count": 213,
   "id": "8f2bfcdc",
   "metadata": {
    "execution": {
     "iopub.execute_input": "2023-08-10T18:59:33.297849Z",
     "iopub.status.busy": "2023-08-10T18:59:33.296402Z",
     "iopub.status.idle": "2023-08-10T18:59:33.301893Z",
     "shell.execute_reply": "2023-08-10T18:59:33.300725Z"
    },
    "papermill": {
     "duration": 0.120161,
     "end_time": "2023-08-10T18:59:33.304341",
     "exception": false,
     "start_time": "2023-08-10T18:59:33.184180",
     "status": "completed"
    },
    "tags": []
   },
   "outputs": [],
   "source": [
    "# submit_v4(selected_features=best4_dict)"
   ]
  },
  {
   "cell_type": "markdown",
   "id": "47b698d4",
   "metadata": {
    "papermill": {
     "duration": 0.105929,
     "end_time": "2023-08-10T18:59:33.520709",
     "exception": false,
     "start_time": "2023-08-10T18:59:33.414780",
     "status": "completed"
    },
    "tags": []
   },
   "source": [
    "### Try the best 3 parameters with submit_v4 function"
   ]
  },
  {
   "cell_type": "code",
   "execution_count": 214,
   "id": "a003282c",
   "metadata": {
    "execution": {
     "iopub.execute_input": "2023-08-10T18:59:33.730336Z",
     "iopub.status.busy": "2023-08-10T18:59:33.729935Z",
     "iopub.status.idle": "2023-08-10T18:59:33.735061Z",
     "shell.execute_reply": "2023-08-10T18:59:33.733648Z"
    },
    "papermill": {
     "duration": 0.113118,
     "end_time": "2023-08-10T18:59:33.737415",
     "exception": false,
     "start_time": "2023-08-10T18:59:33.624297",
     "status": "completed"
    },
    "tags": []
   },
   "outputs": [],
   "source": [
    "# best3 = [\"audienceScore\", \"isFrequentReviewer\", \"reviewText\"]\n",
    "# best3_dict = {'cat': [\"isFrequentReviewer\"],\n",
    "#              'num': [\"audienceScore\"],\n",
    "#              'txt': ['reviewText']}\n",
    "# best3_dict"
   ]
  },
  {
   "cell_type": "code",
   "execution_count": 215,
   "id": "57c40834",
   "metadata": {
    "execution": {
     "iopub.execute_input": "2023-08-10T18:59:33.965174Z",
     "iopub.status.busy": "2023-08-10T18:59:33.964093Z",
     "iopub.status.idle": "2023-08-10T18:59:33.971422Z",
     "shell.execute_reply": "2023-08-10T18:59:33.970199Z"
    },
    "papermill": {
     "duration": 0.129904,
     "end_time": "2023-08-10T18:59:33.974702",
     "exception": false,
     "start_time": "2023-08-10T18:59:33.844798",
     "status": "completed"
    },
    "tags": []
   },
   "outputs": [],
   "source": [
    "# submit_v4(selected_features=best3_dict)"
   ]
  },
  {
   "cell_type": "markdown",
   "id": "76fb1e1b",
   "metadata": {
    "papermill": {
     "duration": 0.105003,
     "end_time": "2023-08-10T18:59:34.195214",
     "exception": false,
     "start_time": "2023-08-10T18:59:34.090211",
     "status": "completed"
    },
    "tags": []
   },
   "source": [
    "## Try throwing almost everything (no boxOffice) at submit_v4!  "
   ]
  },
  {
   "cell_type": "code",
   "execution_count": 216,
   "id": "1639ae95",
   "metadata": {
    "execution": {
     "iopub.execute_input": "2023-08-10T18:59:34.408312Z",
     "iopub.status.busy": "2023-08-10T18:59:34.407629Z",
     "iopub.status.idle": "2023-08-10T18:59:34.415336Z",
     "shell.execute_reply": "2023-08-10T18:59:34.414043Z"
    },
    "papermill": {
     "duration": 0.117315,
     "end_time": "2023-08-10T18:59:34.418441",
     "exception": false,
     "start_time": "2023-08-10T18:59:34.301126",
     "status": "completed"
    },
    "tags": []
   },
   "outputs": [
    {
     "data": {
      "text/plain": [
       "\"Most from merged = ['movieid', 'reviewerName', 'isFrequentReviewer', 'reviewText',\\n       'audienceScore', 'rating', 'runtimeMinutes', 'genre', \\n       'originalLanguage', 'director']\""
      ]
     },
     "execution_count": 216,
     "metadata": {},
     "output_type": "execute_result"
    }
   ],
   "source": [
    "\"\"\"Most from merged = ['movieid', 'reviewerName', 'isFrequentReviewer', 'reviewText',\n",
    "       'audienceScore', 'rating', 'runtimeMinutes', 'genre', \n",
    "       'originalLanguage', 'director']\"\"\"\n",
    "\n",
    "# almost_dict = {'cat': [\"isFrequentReviewer\", \"rating\", \"originalLanguage\"],\n",
    "#              'num': [\"audienceScore\", \"runtimeMinutes\"],\n",
    "#              'txt': ['reviewText', 'reviewerName', 'movieid', 'genre', 'director']}\n",
    "# almost_dict"
   ]
  },
  {
   "cell_type": "code",
   "execution_count": 217,
   "id": "458c46fd",
   "metadata": {
    "execution": {
     "iopub.execute_input": "2023-08-10T18:59:34.643705Z",
     "iopub.status.busy": "2023-08-10T18:59:34.643200Z",
     "iopub.status.idle": "2023-08-10T18:59:34.648881Z",
     "shell.execute_reply": "2023-08-10T18:59:34.647370Z"
    },
    "papermill": {
     "duration": 0.118227,
     "end_time": "2023-08-10T18:59:34.651480",
     "exception": false,
     "start_time": "2023-08-10T18:59:34.533253",
     "status": "completed"
    },
    "tags": []
   },
   "outputs": [],
   "source": [
    "# submit_v4(selected_features=almost_dict)"
   ]
  },
  {
   "cell_type": "markdown",
   "id": "68c5b1fb",
   "metadata": {
    "papermill": {
     "duration": 0.114767,
     "end_time": "2023-08-10T18:59:34.879741",
     "exception": false,
     "start_time": "2023-08-10T18:59:34.764974",
     "status": "completed"
    },
    "tags": []
   },
   "source": [
    "## Try throwing everything possible at submit_v4!  "
   ]
  },
  {
   "cell_type": "code",
   "execution_count": 218,
   "id": "5205df40",
   "metadata": {
    "execution": {
     "iopub.execute_input": "2023-08-10T18:59:35.118403Z",
     "iopub.status.busy": "2023-08-10T18:59:35.117975Z",
     "iopub.status.idle": "2023-08-10T18:59:35.124940Z",
     "shell.execute_reply": "2023-08-10T18:59:35.124143Z"
    },
    "papermill": {
     "duration": 0.131271,
     "end_time": "2023-08-10T18:59:35.127043",
     "exception": false,
     "start_time": "2023-08-10T18:59:34.995772",
     "status": "completed"
    },
    "tags": []
   },
   "outputs": [
    {
     "data": {
      "text/plain": [
       "\"All from merged = ['movieid', 'reviewerName', 'isFrequentReviewer', 'reviewText',\\n       'audienceScore', 'rating', 'runtimeMinutes', 'genre', 'boxOffice',\\n       'originalLanguage', 'director']\""
      ]
     },
     "execution_count": 218,
     "metadata": {},
     "output_type": "execute_result"
    }
   ],
   "source": [
    "\"\"\"All from merged = ['movieid', 'reviewerName', 'isFrequentReviewer', 'reviewText',\n",
    "       'audienceScore', 'rating', 'runtimeMinutes', 'genre', 'boxOffice',\n",
    "       'originalLanguage', 'director']\"\"\"\n",
    "\n",
    "# all_dict = {'cat': [\"isFrequentReviewer\", \"rating\", \"originalLanguage\"],\n",
    "#              'num': [\"audienceScore\", \"runtimeMinutes\", \"boxOffice\"],\n",
    "#              'txt': ['reviewText', 'reviewerName', 'movieid', 'genre', 'director']}\n",
    "# all_dict"
   ]
  },
  {
   "cell_type": "code",
   "execution_count": 219,
   "id": "f57e1ffd",
   "metadata": {
    "execution": {
     "iopub.execute_input": "2023-08-10T18:59:35.356360Z",
     "iopub.status.busy": "2023-08-10T18:59:35.355682Z",
     "iopub.status.idle": "2023-08-10T18:59:35.360464Z",
     "shell.execute_reply": "2023-08-10T18:59:35.359341Z"
    },
    "papermill": {
     "duration": 0.124744,
     "end_time": "2023-08-10T18:59:35.363449",
     "exception": false,
     "start_time": "2023-08-10T18:59:35.238705",
     "status": "completed"
    },
    "tags": []
   },
   "outputs": [],
   "source": [
    "# submit_v4(selected_features=all_dict)"
   ]
  },
  {
   "cell_type": "markdown",
   "id": "7815ee25",
   "metadata": {
    "papermill": {
     "duration": 0.105374,
     "end_time": "2023-08-10T18:59:35.577467",
     "exception": false,
     "start_time": "2023-08-10T18:59:35.472093",
     "status": "completed"
    },
    "tags": []
   },
   "source": [
    "## Try GridSearchCV on everything  "
   ]
  },
  {
   "cell_type": "code",
   "execution_count": 220,
   "id": "445c162d",
   "metadata": {
    "execution": {
     "iopub.execute_input": "2023-08-10T18:59:35.787753Z",
     "iopub.status.busy": "2023-08-10T18:59:35.787260Z",
     "iopub.status.idle": "2023-08-10T18:59:35.793388Z",
     "shell.execute_reply": "2023-08-10T18:59:35.792187Z"
    },
    "papermill": {
     "duration": 0.115356,
     "end_time": "2023-08-10T18:59:35.796233",
     "exception": false,
     "start_time": "2023-08-10T18:59:35.680877",
     "status": "completed"
    },
    "tags": []
   },
   "outputs": [],
   "source": [
    "# param_grid = {\n",
    "#     \"model__C\": [0.5, 2, 5, 15]\n",
    "# }\n",
    "\n",
    "# param_grid = {\n",
    "#     'model__C' : [1, 5],\n",
    "#     'model__solver': ['lbfgs', 'liblinear', 'newton-cg', 'newton-cholesky', 'sag', 'saga']\n",
    "# }\n",
    "\n",
    "# param_grid = {\n",
    "#     'model__C' : [1, 5],\n",
    "#     'model__solver': ['lbfgs', 'liblinear', 'sag', 'saga']\n",
    "# }\n",
    "\n",
    "# param_grid = {\n",
    "#     'model__C' : [1, 5, 10, 15],\n",
    "#     'model__solver': ['lbfgs', 'liblinear', 'saga', 'newton-cg']\n",
    "# }\n",
    "\n",
    "# param_grid = {\n",
    "#     'model__C' : [1, 5, 10, 20],\n",
    "#     'model__solver': ['lbfgs', 'liblinear', 'saga']\n",
    "# }\n",
    "\n",
    "# param_grid"
   ]
  },
  {
   "cell_type": "code",
   "execution_count": 221,
   "id": "acdb76e1",
   "metadata": {
    "execution": {
     "iopub.execute_input": "2023-08-10T18:59:36.033413Z",
     "iopub.status.busy": "2023-08-10T18:59:36.032922Z",
     "iopub.status.idle": "2023-08-10T18:59:36.039138Z",
     "shell.execute_reply": "2023-08-10T18:59:36.037645Z"
    },
    "papermill": {
     "duration": 0.135023,
     "end_time": "2023-08-10T18:59:36.042071",
     "exception": false,
     "start_time": "2023-08-10T18:59:35.907048",
     "status": "completed"
    },
    "tags": []
   },
   "outputs": [],
   "source": [
    "# submit_v4(selected_features={'txt': [\"genre\"]}, param_grid=param_grid)"
   ]
  },
  {
   "cell_type": "code",
   "execution_count": 222,
   "id": "625e1ffd",
   "metadata": {
    "execution": {
     "iopub.execute_input": "2023-08-10T18:59:36.256246Z",
     "iopub.status.busy": "2023-08-10T18:59:36.254949Z",
     "iopub.status.idle": "2023-08-10T18:59:36.263567Z",
     "shell.execute_reply": "2023-08-10T18:59:36.262306Z"
    },
    "papermill": {
     "duration": 0.11894,
     "end_time": "2023-08-10T18:59:36.265994",
     "exception": false,
     "start_time": "2023-08-10T18:59:36.147054",
     "status": "completed"
    },
    "tags": []
   },
   "outputs": [
    {
     "data": {
      "text/plain": [
       "\"Used 'groupby' function instead on 'drop_duplicates' on movies.csv file. \\nIt reduced the number of missing values significantly! \\nThen used LogisticRegression() with GridSearchCV on submit_v4 function with \\nparam_grid={'model__C': [1, 5, 10], 'model__solver': ['lbfgs', 'liblinear', 'saga']}. \\nThe best f1_micro score in GridSearchCV was 0.8399771362056203 which is highest among \\nall the versions so far. Best C was 5 and best solver was 'saga'.\\nScore obtained was 0.84385 which is lower than 0.84441.\""
      ]
     },
     "execution_count": 222,
     "metadata": {},
     "output_type": "execute_result"
    }
   ],
   "source": [
    "# submit_v4(selected_features=all_dict, param_grid=param_grid)\n",
    "\n",
    "# Best C was 5\n",
    "# Best solver was liblinear\n",
    "\n",
    "\"\"\"Used 'groupby' function instead on 'drop_duplicates' on movies.csv file. \n",
    "It reduced the number of missing values significantly! \n",
    "Then used LogisticRegression() with GridSearchCV on submit_v4 function with \n",
    "param_grid={'model__C': [1, 5, 10], 'model__solver': ['lbfgs', 'liblinear', 'saga']}. \n",
    "The best f1_micro score in GridSearchCV was 0.8399771362056203 which is highest among \n",
    "all the versions so far. Best C was 5 and best solver was 'saga'.\n",
    "Score obtained was 0.84385 which is lower than 0.84441.\"\"\""
   ]
  },
  {
   "cell_type": "code",
   "execution_count": 223,
   "id": "06cce54c",
   "metadata": {
    "execution": {
     "iopub.execute_input": "2023-08-10T18:59:36.492119Z",
     "iopub.status.busy": "2023-08-10T18:59:36.491473Z",
     "iopub.status.idle": "2023-08-10T18:59:36.496049Z",
     "shell.execute_reply": "2023-08-10T18:59:36.495166Z"
    },
    "papermill": {
     "duration": 0.121589,
     "end_time": "2023-08-10T18:59:36.498351",
     "exception": false,
     "start_time": "2023-08-10T18:59:36.376762",
     "status": "completed"
    },
    "tags": []
   },
   "outputs": [],
   "source": [
    "# Best 5 parameters\n",
    "\n",
    "# best5_dict = {'num': [\"audienceScore\"],\n",
    "#              'txt': ['reviewText', 'reviewerName','movieid', 'director']}\n",
    "\n",
    "# best5_dict"
   ]
  },
  {
   "cell_type": "code",
   "execution_count": 224,
   "id": "76886f29",
   "metadata": {
    "execution": {
     "iopub.execute_input": "2023-08-10T18:59:36.709321Z",
     "iopub.status.busy": "2023-08-10T18:59:36.708824Z",
     "iopub.status.idle": "2023-08-10T18:59:36.719120Z",
     "shell.execute_reply": "2023-08-10T18:59:36.717602Z"
    },
    "papermill": {
     "duration": 0.117341,
     "end_time": "2023-08-10T18:59:36.721419",
     "exception": false,
     "start_time": "2023-08-10T18:59:36.604078",
     "status": "completed"
    },
    "tags": []
   },
   "outputs": [
    {
     "data": {
      "text/plain": [
       "\"(Update): Used both CountVectorizer and TfidfVectorizer on a massive GridSearchCV \\nwhich took 22527.2s  (6.25 hrs) to run! Gave a score of 0.8439093822800923 locally and did not overfit!\\nBest params: {'model__C': 1, 'model__solver': 'liblinear'}.\\nHighest public score yet: 0.84591 (Rank up from 9 to 5!)\""
      ]
     },
     "execution_count": 224,
     "metadata": {},
     "output_type": "execute_result"
    }
   ],
   "source": [
    "# Submit best 5 features\n",
    "\n",
    "\"\"\"(Update): Used both CountVectorizer and TfidfVectorizer on a massive GridSearchCV \n",
    "which took 22527.2s  (6.25 hrs) to run! Gave a score of 0.8439093822800923 locally and did not overfit!\n",
    "Best params: {'model__C': 1, 'model__solver': 'liblinear'}.\n",
    "Highest public score yet: 0.84591 (Rank up from 9 to 5!)\"\"\"\n",
    "\n",
    "# param_grid = {\n",
    "#     'model__C' : [5, 10, 15],\n",
    "#     'model__solver': ['lbfgs', 'liblinear', 'saga']\n",
    "# }\n",
    "\n",
    "\n",
    "# Try new param_grid with fit_intercept and dual in logreg\n",
    "\n",
    "# param_grid = {\n",
    "#     'model__C' : [1],\n",
    "#     'model__solver': ['liblinear'],\n",
    "#     \"model__fit_intercept\" : [True, False],\n",
    "#     \"model__dual\" : [True, False] \n",
    "# }\n",
    "\n",
    "\n",
    "# Local testing  \n",
    "# submit_v4(selected_features={'num': ['audienceScore']},\n",
    "#          add_countvec=True)\n",
    "\n",
    "# submit_v4(selected_features={'num': ['audienceScore']},\n",
    "#          add_countvec=True, \n",
    "#           param_grid=param_grid)\n",
    "\n",
    "\n",
    "# Main submission\n",
    "\n",
    "# submit_v4(selected_features=best5_dict,\n",
    "#          add_countvec=True)\n",
    "\n",
    "\n",
    "# submit_v4(selected_features=best5_dict,\n",
    "#           add_countvec=True,\n",
    "#           param_grid=param_grid)"
   ]
  },
  {
   "cell_type": "code",
   "execution_count": 225,
   "id": "f9c9b155",
   "metadata": {
    "execution": {
     "iopub.execute_input": "2023-08-10T18:59:36.933278Z",
     "iopub.status.busy": "2023-08-10T18:59:36.932035Z",
     "iopub.status.idle": "2023-08-10T18:59:36.939229Z",
     "shell.execute_reply": "2023-08-10T18:59:36.937841Z"
    },
    "papermill": {
     "duration": 0.116243,
     "end_time": "2023-08-10T18:59:36.942220",
     "exception": false,
     "start_time": "2023-08-10T18:59:36.825977",
     "status": "completed"
    },
    "tags": []
   },
   "outputs": [],
   "source": [
    "## ALL DICT cv=10\n",
    "\n",
    "# all_dict = {'cat': [\"isFrequentReviewer\", \"rating\", \"originalLanguage\"],\n",
    "#              'num': [\"audienceScore\", \"runtimeMinutes\", \"boxOffice\"],\n",
    "#              'txt': ['reviewText', 'reviewerName', 'movieid', 'genre', 'director']}\n",
    "# print(all_dict)\n",
    "\n",
    "# param_grid = {\n",
    "#     'model__C' : [2, 5, 10],\n",
    "#     'model__solver': ['lbfgs', 'liblinear', 'saga']\n",
    "# }\n",
    "# print(param_grid)\n",
    "\n",
    "# param_grid = {\n",
    "#     'model__C' : [1, 5, 10],\n",
    "#     'model__solver': ['liblinear'],\n",
    "#     \"model__fit_intercept\" : [True, False],\n",
    "#     \"model__dual\" : [True, False] \n",
    "# }\n",
    "\n",
    "\n",
    "# Main submission\n",
    "\n",
    "# submit_v4(selected_model=LogisticRegression(C=5, solver='liblinear', max_iter=10000),\n",
    "#           selected_features=all_dict,\n",
    "#           param_grid=param_grid)\n",
    "\n",
    "# submit_v4(selected_features=all_dict,\n",
    "#           add_countvec=True,\n",
    "#           param_grid=param_grid)"
   ]
  },
  {
   "cell_type": "code",
   "execution_count": 226,
   "id": "ecf91f67",
   "metadata": {
    "execution": {
     "iopub.execute_input": "2023-08-10T18:59:37.175919Z",
     "iopub.status.busy": "2023-08-10T18:59:37.175418Z",
     "iopub.status.idle": "2023-08-10T18:59:37.180478Z",
     "shell.execute_reply": "2023-08-10T18:59:37.179279Z"
    },
    "papermill": {
     "duration": 0.121045,
     "end_time": "2023-08-10T18:59:37.183238",
     "exception": false,
     "start_time": "2023-08-10T18:59:37.062193",
     "status": "completed"
    },
    "tags": []
   },
   "outputs": [],
   "source": [
    "# Best 6 parameters\n",
    "\n",
    "# best6_dict = {'cat': [\"isFrequentReviewer\"],\n",
    "#              'num': [\"audienceScore\"],\n",
    "#              'txt': ['reviewText', 'reviewerName', 'genre', 'director']}\n",
    "\n",
    "# best6_dict = {'num': [\"audienceScore\"],\n",
    "#              'txt': ['reviewText', 'reviewerName', 'genre','movieid', 'director']}\n",
    "\n",
    "# best6_dict"
   ]
  },
  {
   "cell_type": "code",
   "execution_count": 227,
   "id": "ec99cb6d",
   "metadata": {
    "execution": {
     "iopub.execute_input": "2023-08-10T18:59:37.411140Z",
     "iopub.status.busy": "2023-08-10T18:59:37.410632Z",
     "iopub.status.idle": "2023-08-10T18:59:37.416102Z",
     "shell.execute_reply": "2023-08-10T18:59:37.414852Z"
    },
    "papermill": {
     "duration": 0.120259,
     "end_time": "2023-08-10T18:59:37.418815",
     "exception": false,
     "start_time": "2023-08-10T18:59:37.298556",
     "status": "completed"
    },
    "tags": []
   },
   "outputs": [],
   "source": [
    "# Submit best 6 features (version 2)\n",
    "\n",
    "# submit_v4(selected_features=best6_dict,\n",
    "#           param_grid=param_grid)"
   ]
  },
  {
   "cell_type": "code",
   "execution_count": 228,
   "id": "c7583fa7",
   "metadata": {
    "execution": {
     "iopub.execute_input": "2023-08-10T18:59:37.639829Z",
     "iopub.status.busy": "2023-08-10T18:59:37.639043Z",
     "iopub.status.idle": "2023-08-10T18:59:37.643813Z",
     "shell.execute_reply": "2023-08-10T18:59:37.642890Z"
    },
    "papermill": {
     "duration": 0.112912,
     "end_time": "2023-08-10T18:59:37.646125",
     "exception": false,
     "start_time": "2023-08-10T18:59:37.533213",
     "status": "completed"
    },
    "tags": []
   },
   "outputs": [],
   "source": [
    "# Best 7 parameters\n",
    "\n",
    "# best7_dict = {'cat': [\"isFrequentReviewer\"],\n",
    "#              'num': [\"audienceScore\"],\n",
    "#              'txt': ['reviewText', 'reviewerName', 'movieid', 'genre', 'director']}\n",
    "# best7_dict"
   ]
  },
  {
   "cell_type": "code",
   "execution_count": 229,
   "id": "cad68261",
   "metadata": {
    "execution": {
     "iopub.execute_input": "2023-08-10T18:59:37.857965Z",
     "iopub.status.busy": "2023-08-10T18:59:37.857142Z",
     "iopub.status.idle": "2023-08-10T18:59:37.862096Z",
     "shell.execute_reply": "2023-08-10T18:59:37.860921Z"
    },
    "papermill": {
     "duration": 0.113132,
     "end_time": "2023-08-10T18:59:37.864914",
     "exception": false,
     "start_time": "2023-08-10T18:59:37.751782",
     "status": "completed"
    },
    "tags": []
   },
   "outputs": [],
   "source": [
    "# Submit best 7 features\n",
    "\n",
    "# submit_v4(selected_features=best7_dict,\n",
    "#           param_grid=param_grid)"
   ]
  },
  {
   "cell_type": "code",
   "execution_count": 230,
   "id": "83a0d9a7",
   "metadata": {
    "execution": {
     "iopub.execute_input": "2023-08-10T18:59:38.208168Z",
     "iopub.status.busy": "2023-08-10T18:59:38.207683Z",
     "iopub.status.idle": "2023-08-10T18:59:38.212934Z",
     "shell.execute_reply": "2023-08-10T18:59:38.211486Z"
    },
    "papermill": {
     "duration": 0.124643,
     "end_time": "2023-08-10T18:59:38.216355",
     "exception": false,
     "start_time": "2023-08-10T18:59:38.091712",
     "status": "completed"
    },
    "tags": []
   },
   "outputs": [],
   "source": [
    "# submit_v4(selected_features=best6_dict, param_grid=param_grid)"
   ]
  },
  {
   "cell_type": "markdown",
   "id": "c5096cd2",
   "metadata": {
    "papermill": {
     "duration": 0.111594,
     "end_time": "2023-08-10T18:59:38.439324",
     "exception": false,
     "start_time": "2023-08-10T18:59:38.327730",
     "status": "completed"
    },
    "tags": []
   },
   "source": [
    "## Try a new feature dict  \n",
    "\n"
   ]
  },
  {
   "cell_type": "code",
   "execution_count": 231,
   "id": "4c325848",
   "metadata": {
    "execution": {
     "iopub.execute_input": "2023-08-10T18:59:38.657705Z",
     "iopub.status.busy": "2023-08-10T18:59:38.657202Z",
     "iopub.status.idle": "2023-08-10T18:59:38.662763Z",
     "shell.execute_reply": "2023-08-10T18:59:38.661525Z"
    },
    "papermill": {
     "duration": 0.11588,
     "end_time": "2023-08-10T18:59:38.665113",
     "exception": false,
     "start_time": "2023-08-10T18:59:38.549233",
     "status": "completed"
    },
    "tags": []
   },
   "outputs": [],
   "source": [
    "# all_dict_new = {'cat': [\"isFrequentReviewer\", \"rating\", \"originalLanguage\"],\n",
    "#              'num': [\"audienceScore\", \"runtimeMinutes\", \"boxOffice\"],\n",
    "#              'txt': ['reviewText', \"reviewerName\", 'movieid', 'genre', 'director']}\n",
    "# all_dict_new"
   ]
  },
  {
   "cell_type": "code",
   "execution_count": 232,
   "id": "4a9087c0",
   "metadata": {
    "execution": {
     "iopub.execute_input": "2023-08-10T18:59:38.875522Z",
     "iopub.status.busy": "2023-08-10T18:59:38.874657Z",
     "iopub.status.idle": "2023-08-10T18:59:38.880446Z",
     "shell.execute_reply": "2023-08-10T18:59:38.879274Z"
    },
    "papermill": {
     "duration": 0.113237,
     "end_time": "2023-08-10T18:59:38.882911",
     "exception": false,
     "start_time": "2023-08-10T18:59:38.769674",
     "status": "completed"
    },
    "tags": []
   },
   "outputs": [],
   "source": [
    "# submit_v4(selected_features={'txt': ['genre']}, param_grid=param_grid)"
   ]
  },
  {
   "cell_type": "code",
   "execution_count": 233,
   "id": "74615b29",
   "metadata": {
    "execution": {
     "iopub.execute_input": "2023-08-10T18:59:39.101832Z",
     "iopub.status.busy": "2023-08-10T18:59:39.101246Z",
     "iopub.status.idle": "2023-08-10T18:59:39.106680Z",
     "shell.execute_reply": "2023-08-10T18:59:39.105413Z"
    },
    "papermill": {
     "duration": 0.118905,
     "end_time": "2023-08-10T18:59:39.109064",
     "exception": false,
     "start_time": "2023-08-10T18:59:38.990159",
     "status": "completed"
    },
    "tags": []
   },
   "outputs": [],
   "source": [
    "# submit_v4(selected_features=all_dict_new, param_grid=param_grid)"
   ]
  },
  {
   "cell_type": "code",
   "execution_count": 234,
   "id": "cf8edc17",
   "metadata": {
    "execution": {
     "iopub.execute_input": "2023-08-10T18:59:39.321856Z",
     "iopub.status.busy": "2023-08-10T18:59:39.321348Z",
     "iopub.status.idle": "2023-08-10T18:59:39.327281Z",
     "shell.execute_reply": "2023-08-10T18:59:39.325885Z"
    },
    "papermill": {
     "duration": 0.116683,
     "end_time": "2023-08-10T18:59:39.329673",
     "exception": false,
     "start_time": "2023-08-10T18:59:39.212990",
     "status": "completed"
    },
    "tags": []
   },
   "outputs": [],
   "source": [
    "# Try non-text based columns\n",
    "# num_cat_dict = {'cat': ['isFrequentReviewer', 'rating', 'originalLanguage'],\n",
    "#  'num': ['audienceScore', 'runtimeMinutes', 'boxOffice']}\n",
    "# num_cat_dict"
   ]
  },
  {
   "cell_type": "code",
   "execution_count": 235,
   "id": "a433ab81",
   "metadata": {
    "execution": {
     "iopub.execute_input": "2023-08-10T18:59:39.544096Z",
     "iopub.status.busy": "2023-08-10T18:59:39.543651Z",
     "iopub.status.idle": "2023-08-10T18:59:39.549198Z",
     "shell.execute_reply": "2023-08-10T18:59:39.547499Z"
    },
    "papermill": {
     "duration": 0.11629,
     "end_time": "2023-08-10T18:59:39.551512",
     "exception": false,
     "start_time": "2023-08-10T18:59:39.435222",
     "status": "completed"
    },
    "tags": []
   },
   "outputs": [],
   "source": [
    "# Use num_cat_dict features\n",
    "# (Update): Gets a local score of 0.7027181356991726. Not great.\n",
    "# submit_v4(selected_model=LogisticRegression(max_iter=100000), selected_features=num_cat_dict, param_grid=param_grid)"
   ]
  },
  {
   "cell_type": "code",
   "execution_count": 236,
   "id": "00ce550e",
   "metadata": {
    "execution": {
     "iopub.execute_input": "2023-08-10T18:59:39.761876Z",
     "iopub.status.busy": "2023-08-10T18:59:39.761439Z",
     "iopub.status.idle": "2023-08-10T18:59:39.766889Z",
     "shell.execute_reply": "2023-08-10T18:59:39.765643Z"
    },
    "papermill": {
     "duration": 0.114641,
     "end_time": "2023-08-10T18:59:39.769928",
     "exception": false,
     "start_time": "2023-08-10T18:59:39.655287",
     "status": "completed"
    },
    "tags": []
   },
   "outputs": [],
   "source": [
    "# Try data other than reviewText\n",
    "\n",
    "# mov_dict = {'cat': ['rating', 'originalLanguage'],\n",
    "#  'num': ['audienceScore', 'runtimeMinutes', 'boxOffice'],\n",
    "#  'txt': ['movieid', 'genre', 'director']}\n",
    "# mov_dict"
   ]
  },
  {
   "cell_type": "code",
   "execution_count": 237,
   "id": "126e8e74",
   "metadata": {
    "execution": {
     "iopub.execute_input": "2023-08-10T18:59:39.991291Z",
     "iopub.status.busy": "2023-08-10T18:59:39.990884Z",
     "iopub.status.idle": "2023-08-10T18:59:39.996048Z",
     "shell.execute_reply": "2023-08-10T18:59:39.995035Z"
    },
    "papermill": {
     "duration": 0.120677,
     "end_time": "2023-08-10T18:59:39.998661",
     "exception": false,
     "start_time": "2023-08-10T18:59:39.877984",
     "status": "completed"
    },
    "tags": []
   },
   "outputs": [],
   "source": [
    "# Use mov_dict features\n",
    "# (Update): Gets a local score of 0.7475454316469369, which is not bad at all.\n",
    "# submit_v4(selected_model=LogisticRegression(max_iter=100000), selected_features=mov_dict, param_grid=param_grid)"
   ]
  },
  {
   "cell_type": "markdown",
   "id": "a0ab724b",
   "metadata": {
    "papermill": {
     "duration": 0.104482,
     "end_time": "2023-08-10T18:59:40.212472",
     "exception": false,
     "start_time": "2023-08-10T18:59:40.107990",
     "status": "completed"
    },
    "tags": []
   },
   "source": [
    "# Try a new column 'reviewYN'  \n",
    "\n"
   ]
  },
  {
   "cell_type": "code",
   "execution_count": 238,
   "id": "ef1503ae",
   "metadata": {
    "execution": {
     "iopub.execute_input": "2023-08-10T18:59:40.424653Z",
     "iopub.status.busy": "2023-08-10T18:59:40.424206Z",
     "iopub.status.idle": "2023-08-10T18:59:40.428745Z",
     "shell.execute_reply": "2023-08-10T18:59:40.427616Z"
    },
    "papermill": {
     "duration": 0.114047,
     "end_time": "2023-08-10T18:59:40.431147",
     "exception": false,
     "start_time": "2023-08-10T18:59:40.317100",
     "status": "completed"
    },
    "tags": []
   },
   "outputs": [],
   "source": [
    "# all_dict_3 = {'cat': [\"isFrequentReviewer\", \"rating\", \"originalLanguage\", \"reviewYN\"],\n",
    "#              'num': [\"audienceScore\", \"runtimeMinutes\", \"boxOffice\"],\n",
    "#              'txt': ['reviewText', \"reviewerName\", 'movieid', 'genre', 'director']}\n",
    "# all_dict_3"
   ]
  },
  {
   "cell_type": "code",
   "execution_count": 239,
   "id": "410dfba4",
   "metadata": {
    "execution": {
     "iopub.execute_input": "2023-08-10T18:59:40.643688Z",
     "iopub.status.busy": "2023-08-10T18:59:40.642896Z",
     "iopub.status.idle": "2023-08-10T18:59:40.647652Z",
     "shell.execute_reply": "2023-08-10T18:59:40.646838Z"
    },
    "papermill": {
     "duration": 0.113207,
     "end_time": "2023-08-10T18:59:40.649958",
     "exception": false,
     "start_time": "2023-08-10T18:59:40.536751",
     "status": "completed"
    },
    "tags": []
   },
   "outputs": [],
   "source": [
    "# submit_v4(selected_model=LogisticRegression(max_iter=100000),\n",
    "#          selected_features=all_dict_3, \n",
    "#           param_grid=param_grid)"
   ]
  },
  {
   "cell_type": "markdown",
   "id": "3069efb9",
   "metadata": {
    "papermill": {
     "duration": 0.10283,
     "end_time": "2023-08-10T18:59:40.856944",
     "exception": false,
     "start_time": "2023-08-10T18:59:40.754114",
     "status": "completed"
    },
    "tags": []
   },
   "source": [
    "### More GridSearchCV using LinearSVC  "
   ]
  },
  {
   "cell_type": "code",
   "execution_count": 240,
   "id": "85e7ec5a",
   "metadata": {
    "execution": {
     "iopub.execute_input": "2023-08-10T18:59:41.071442Z",
     "iopub.status.busy": "2023-08-10T18:59:41.070660Z",
     "iopub.status.idle": "2023-08-10T18:59:41.075581Z",
     "shell.execute_reply": "2023-08-10T18:59:41.074742Z"
    },
    "papermill": {
     "duration": 0.118079,
     "end_time": "2023-08-10T18:59:41.077934",
     "exception": false,
     "start_time": "2023-08-10T18:59:40.959855",
     "status": "completed"
    },
    "tags": []
   },
   "outputs": [],
   "source": [
    "# param_grid_svc_2 = {\n",
    "#     'model__C': [1.0],\n",
    "#     'model__loss': ['hinge', 'squared_hinge'],\n",
    "#     'model__class_weight': ['balanced', None]\n",
    "# }\n",
    "# param_grid_svc_2"
   ]
  },
  {
   "cell_type": "code",
   "execution_count": 241,
   "id": "5b0653af",
   "metadata": {
    "execution": {
     "iopub.execute_input": "2023-08-10T18:59:41.289777Z",
     "iopub.status.busy": "2023-08-10T18:59:41.289002Z",
     "iopub.status.idle": "2023-08-10T18:59:41.293884Z",
     "shell.execute_reply": "2023-08-10T18:59:41.292986Z"
    },
    "papermill": {
     "duration": 0.114901,
     "end_time": "2023-08-10T18:59:41.296322",
     "exception": false,
     "start_time": "2023-08-10T18:59:41.181421",
     "status": "completed"
    },
    "tags": []
   },
   "outputs": [],
   "source": [
    "# submit_v4(selected_model=LinearSVC(max_iter=100000, random_state=42), selected_features={'num': [\"audienceScore\"]}, param_grid=param_grid_svc_2)"
   ]
  },
  {
   "cell_type": "code",
   "execution_count": 242,
   "id": "a8cb2588",
   "metadata": {
    "execution": {
     "iopub.execute_input": "2023-08-10T18:59:41.508447Z",
     "iopub.status.busy": "2023-08-10T18:59:41.507483Z",
     "iopub.status.idle": "2023-08-10T18:59:41.513006Z",
     "shell.execute_reply": "2023-08-10T18:59:41.512082Z"
    },
    "papermill": {
     "duration": 0.113898,
     "end_time": "2023-08-10T18:59:41.515349",
     "exception": false,
     "start_time": "2023-08-10T18:59:41.401451",
     "status": "completed"
    },
    "tags": []
   },
   "outputs": [],
   "source": [
    "# submit_v4(selected_model=LinearSVC(max_iter=100000, random_state=42), selected_features=all_dict, param_grid=param_grid_svc_2)"
   ]
  },
  {
   "cell_type": "markdown",
   "id": "c2619425",
   "metadata": {
    "papermill": {
     "duration": 0.104334,
     "end_time": "2023-08-10T18:59:41.726139",
     "exception": false,
     "start_time": "2023-08-10T18:59:41.621805",
     "status": "completed"
    },
    "tags": []
   },
   "source": [
    "### Boosting techniques  "
   ]
  },
  {
   "cell_type": "code",
   "execution_count": 243,
   "id": "f98bf677",
   "metadata": {
    "execution": {
     "iopub.execute_input": "2023-08-10T18:59:41.935532Z",
     "iopub.status.busy": "2023-08-10T18:59:41.934821Z",
     "iopub.status.idle": "2023-08-10T18:59:41.939291Z",
     "shell.execute_reply": "2023-08-10T18:59:41.938526Z"
    },
    "papermill": {
     "duration": 0.111331,
     "end_time": "2023-08-10T18:59:41.941473",
     "exception": false,
     "start_time": "2023-08-10T18:59:41.830142",
     "status": "completed"
    },
    "tags": []
   },
   "outputs": [],
   "source": [
    "# adc = AdaBoostClassifier(estimator=LogisticRegression(C=5, solver=\"saga\", max_iter=100000), n_estimators=50)\n",
    "# adc"
   ]
  },
  {
   "cell_type": "code",
   "execution_count": 244,
   "id": "143a727c",
   "metadata": {
    "execution": {
     "iopub.execute_input": "2023-08-10T18:59:42.154705Z",
     "iopub.status.busy": "2023-08-10T18:59:42.153981Z",
     "iopub.status.idle": "2023-08-10T18:59:42.159428Z",
     "shell.execute_reply": "2023-08-10T18:59:42.158202Z"
    },
    "papermill": {
     "duration": 0.113539,
     "end_time": "2023-08-10T18:59:42.162174",
     "exception": false,
     "start_time": "2023-08-10T18:59:42.048635",
     "status": "completed"
    },
    "tags": []
   },
   "outputs": [],
   "source": [
    "# submit_v4(selected_model=adc, selected_features={'num': [\"audienceScore\"]}, param_grid=None)"
   ]
  },
  {
   "cell_type": "code",
   "execution_count": 245,
   "id": "558e102b",
   "metadata": {
    "execution": {
     "iopub.execute_input": "2023-08-10T18:59:42.371570Z",
     "iopub.status.busy": "2023-08-10T18:59:42.370915Z",
     "iopub.status.idle": "2023-08-10T18:59:42.375347Z",
     "shell.execute_reply": "2023-08-10T18:59:42.374589Z"
    },
    "papermill": {
     "duration": 0.111783,
     "end_time": "2023-08-10T18:59:42.377570",
     "exception": false,
     "start_time": "2023-08-10T18:59:42.265787",
     "status": "completed"
    },
    "tags": []
   },
   "outputs": [],
   "source": [
    "# submit_v4(selected_model=adc, selected_features=all_dict, param_grid=None)\n",
    "\n",
    "# Took 1 hour 15 mins to run and gave a public score of only 0.71089. Discarded."
   ]
  },
  {
   "cell_type": "markdown",
   "id": "6b1e3114",
   "metadata": {
    "papermill": {
     "duration": 0.107183,
     "end_time": "2023-08-10T18:59:42.588309",
     "exception": false,
     "start_time": "2023-08-10T18:59:42.481126",
     "status": "completed"
    },
    "tags": []
   },
   "source": [
    "### LightGBM  "
   ]
  },
  {
   "cell_type": "code",
   "execution_count": 246,
   "id": "a399dffa",
   "metadata": {
    "execution": {
     "iopub.execute_input": "2023-08-10T18:59:42.800704Z",
     "iopub.status.busy": "2023-08-10T18:59:42.800080Z",
     "iopub.status.idle": "2023-08-10T18:59:42.804308Z",
     "shell.execute_reply": "2023-08-10T18:59:42.803504Z"
    },
    "papermill": {
     "duration": 0.113195,
     "end_time": "2023-08-10T18:59:42.806433",
     "exception": false,
     "start_time": "2023-08-10T18:59:42.693238",
     "status": "completed"
    },
    "tags": []
   },
   "outputs": [],
   "source": [
    "# lgb = ltb.LGBMClassifier()\n",
    "# lgb"
   ]
  },
  {
   "cell_type": "code",
   "execution_count": 247,
   "id": "f528e2b5",
   "metadata": {
    "execution": {
     "iopub.execute_input": "2023-08-10T18:59:43.021516Z",
     "iopub.status.busy": "2023-08-10T18:59:43.020923Z",
     "iopub.status.idle": "2023-08-10T18:59:43.025379Z",
     "shell.execute_reply": "2023-08-10T18:59:43.024637Z"
    },
    "papermill": {
     "duration": 0.116147,
     "end_time": "2023-08-10T18:59:43.027598",
     "exception": false,
     "start_time": "2023-08-10T18:59:42.911451",
     "status": "completed"
    },
    "tags": []
   },
   "outputs": [],
   "source": [
    "# Try LightGBM with default settings\n",
    "# (Update): Public score only 0.77713. It was fast, took less than 5 mins (without GridSearchCV)\n",
    "\n",
    "# submit_v4(selected_model=ltb.LGBMClassifier(), selected_features=all_dict, param_grid=None)"
   ]
  },
  {
   "cell_type": "markdown",
   "id": "4b4d6c62",
   "metadata": {
    "papermill": {
     "duration": 0.103903,
     "end_time": "2023-08-10T18:59:43.237182",
     "exception": false,
     "start_time": "2023-08-10T18:59:43.133279",
     "status": "completed"
    },
    "tags": []
   },
   "source": [
    "# Try feature selection and vocab fine tuning of reviewText column"
   ]
  },
  {
   "cell_type": "markdown",
   "id": "c5ac170e",
   "metadata": {
    "papermill": {
     "duration": 0.119673,
     "end_time": "2023-08-10T18:59:43.488270",
     "exception": false,
     "start_time": "2023-08-10T18:59:43.368597",
     "status": "completed"
    },
    "tags": []
   },
   "source": [
    "## Plan  \n",
    "* Add a new column 'reviewWC' which has word count of 'reviewText'  \n",
    "    * Check if there is any relationship between 'reviewWC' and 'sentiment'\n",
    "* Work on vocabulary\n",
    "     * Use TfidfVectorizer and find out the vocabulary of 'reviewText' column for various ngrams\n",
    "     * Use RecursiveFeatureElimination (RFE) or RFECV to select 1000 top words/vocab for each ngram\n",
    "     * Use the final vocab (1000-3000 words) in the model and see how it performs compared to whole vocab\n"
   ]
  },
  {
   "cell_type": "code",
   "execution_count": 248,
   "id": "7d0439f6",
   "metadata": {
    "execution": {
     "iopub.execute_input": "2023-08-10T18:59:43.714306Z",
     "iopub.status.busy": "2023-08-10T18:59:43.713227Z",
     "iopub.status.idle": "2023-08-10T18:59:43.719084Z",
     "shell.execute_reply": "2023-08-10T18:59:43.718068Z"
    },
    "papermill": {
     "duration": 0.1242,
     "end_time": "2023-08-10T18:59:43.721886",
     "exception": false,
     "start_time": "2023-08-10T18:59:43.597686",
     "status": "completed"
    },
    "tags": []
   },
   "outputs": [],
   "source": [
    "# 'reviewWC' and 'sentiment'\n",
    "# (Conclusion): 'reviewWC' is practically same as DummyClassifier (accuracy of 0.6682375059904889 on train data). It just predicts 'positive' for all columns\n",
    "\n",
    "# reviewWC_dict = {\"num\": [\"reviewWC\"]}\n",
    "# submit_v4(selected_model=LogisticRegression(),\n",
    "#          selected_features=reviewWC_dict,\n",
    "#          param_grid=None)"
   ]
  },
  {
   "cell_type": "code",
   "execution_count": 249,
   "id": "542eaea3",
   "metadata": {
    "execution": {
     "iopub.execute_input": "2023-08-10T18:59:43.984453Z",
     "iopub.status.busy": "2023-08-10T18:59:43.983304Z",
     "iopub.status.idle": "2023-08-10T18:59:43.990600Z",
     "shell.execute_reply": "2023-08-10T18:59:43.988703Z"
    },
    "papermill": {
     "duration": 0.15017,
     "end_time": "2023-08-10T18:59:43.993900",
     "exception": false,
     "start_time": "2023-08-10T18:59:43.843730",
     "status": "completed"
    },
    "tags": []
   },
   "outputs": [],
   "source": [
    "# 'reviewYN' and 'sentiment'\n",
    "# (Conclusion): 'reviewYN' is practically same as DummyClassifier (accuracy of 0.6682375059904889 on train data). It just predicts 'positive' for all columns\n",
    "\n",
    "# reviewYN_dict = {\"cat\": [\"reviewYN\"]}\n",
    "# submit_v4(selected_model=LogisticRegression(),\n",
    "#          selected_features=reviewYN_dict,\n",
    "#          param_grid=None)"
   ]
  },
  {
   "cell_type": "markdown",
   "id": "02fcdb5c",
   "metadata": {
    "papermill": {
     "duration": 0.113499,
     "end_time": "2023-08-10T18:59:44.240834",
     "exception": false,
     "start_time": "2023-08-10T18:59:44.127335",
     "status": "completed"
    },
    "tags": []
   },
   "source": [
    "## Submissions using 'vocabulary' built from 'reviewText' data  "
   ]
  },
  {
   "cell_type": "markdown",
   "id": "481c24b5",
   "metadata": {
    "papermill": {
     "duration": 0.112633,
     "end_time": "2023-08-10T18:59:44.466790",
     "exception": false,
     "start_time": "2023-08-10T18:59:44.354157",
     "status": "completed"
    },
    "tags": []
   },
   "source": [
    "### Submit best 6 features along with common vocab  "
   ]
  },
  {
   "cell_type": "code",
   "execution_count": 250,
   "id": "d20281aa",
   "metadata": {
    "execution": {
     "iopub.execute_input": "2023-08-10T18:59:44.692171Z",
     "iopub.status.busy": "2023-08-10T18:59:44.691706Z",
     "iopub.status.idle": "2023-08-10T18:59:44.697637Z",
     "shell.execute_reply": "2023-08-10T18:59:44.696411Z"
    },
    "papermill": {
     "duration": 0.120392,
     "end_time": "2023-08-10T18:59:44.699888",
     "exception": false,
     "start_time": "2023-08-10T18:59:44.579496",
     "status": "completed"
    },
    "tags": []
   },
   "outputs": [],
   "source": [
    "# Best 6 parameters (version 2)  \n",
    "\n",
    "# best6_dict = {'num': [\"audienceScore\"],\n",
    "#              'txt': ['reviewText', 'reviewerName', 'genre','movieid', 'director']}\n",
    "\n",
    "# best6_dict"
   ]
  },
  {
   "cell_type": "code",
   "execution_count": 251,
   "id": "aebeb044",
   "metadata": {
    "execution": {
     "iopub.execute_input": "2023-08-10T18:59:44.913443Z",
     "iopub.status.busy": "2023-08-10T18:59:44.911744Z",
     "iopub.status.idle": "2023-08-10T18:59:44.919047Z",
     "shell.execute_reply": "2023-08-10T18:59:44.917809Z"
    },
    "papermill": {
     "duration": 0.116209,
     "end_time": "2023-08-10T18:59:44.921826",
     "exception": false,
     "start_time": "2023-08-10T18:59:44.805617",
     "status": "completed"
    },
    "tags": []
   },
   "outputs": [],
   "source": [
    "# Submit best 6 features (version 2) with common vocabulary (common_1_2_grams)\n",
    "# (Update): Score 0.82867\n",
    "\n",
    "# submit_v4(selected_features=best6_dict,\n",
    "#           param_grid=param_grid,\n",
    "#          vocab=common_1_2_grams)"
   ]
  },
  {
   "cell_type": "code",
   "execution_count": 252,
   "id": "4e7b4ef5",
   "metadata": {
    "execution": {
     "iopub.execute_input": "2023-08-10T18:59:45.136003Z",
     "iopub.status.busy": "2023-08-10T18:59:45.135608Z",
     "iopub.status.idle": "2023-08-10T18:59:45.141178Z",
     "shell.execute_reply": "2023-08-10T18:59:45.139780Z"
    },
    "papermill": {
     "duration": 0.115089,
     "end_time": "2023-08-10T18:59:45.143670",
     "exception": false,
     "start_time": "2023-08-10T18:59:45.028581",
     "status": "completed"
    },
    "tags": []
   },
   "outputs": [],
   "source": [
    "# Submit best 6 features (version 2) with common vocabulary (common_1_2_3_grams)\n",
    "# Note: for this submission submit_v4 function has to be modified: reviewText TfidfVectorizer must have ngram_range(1,3).\n",
    "# (Update): Score in the range 0.825+\n",
    "\n",
    "# submit_v4(selected_features=best6_dict,\n",
    "#           param_grid=param_grid,\n",
    "#          vocab=common_1_2_3_grams)"
   ]
  }
 ],
 "metadata": {
  "kernelspec": {
   "display_name": "Python 3",
   "language": "python",
   "name": "python3"
  },
  "language_info": {
   "codemirror_mode": {
    "name": "ipython",
    "version": 3
   },
   "file_extension": ".py",
   "mimetype": "text/x-python",
   "name": "python",
   "nbconvert_exporter": "python",
   "pygments_lexer": "ipython3",
   "version": "3.10.10"
  },
  "papermill": {
   "default_parameters": {},
   "duration": 469.651493,
   "end_time": "2023-08-10T18:59:48.173628",
   "environment_variables": {},
   "exception": null,
   "input_path": "__notebook__.ipynb",
   "output_path": "__notebook__.ipynb",
   "parameters": {},
   "start_time": "2023-08-10T18:51:58.522135",
   "version": "2.4.0"
  }
 },
 "nbformat": 4,
 "nbformat_minor": 5
}
