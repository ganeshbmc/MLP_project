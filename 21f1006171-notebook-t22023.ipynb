{
 "cells": [
  {
   "cell_type": "markdown",
   "id": "db4384b7",
   "metadata": {
    "papermill": {
     "duration": 0.090487,
     "end_time": "2023-08-10T18:44:23.283393",
     "exception": false,
     "start_time": "2023-08-10T18:44:23.192906",
     "status": "completed"
    },
    "tags": []
   },
   "source": [
    "# MLP Project (T2 2023) by Ganesh P  "
   ]
  },
  {
   "cell_type": "markdown",
   "id": "6ebeae37",
   "metadata": {
    "papermill": {
     "duration": 0.087038,
     "end_time": "2023-08-10T18:44:23.459285",
     "exception": false,
     "start_time": "2023-08-10T18:44:23.372247",
     "status": "completed"
    },
    "tags": []
   },
   "source": [
    "`Disclaimer`   \n",
    "\n",
    "> This final notebook contains only the most relevant code to show the path/flow of my project work over few weeks. Rest of the code is in [my github repo](https://github.com/ganeshbmc/MLP_project) which is private at present (I will make it public after the project is over).  "
   ]
  },
  {
   "cell_type": "markdown",
   "id": "c1a65ff9",
   "metadata": {
    "papermill": {
     "duration": 0.086384,
     "end_time": "2023-08-10T18:44:23.632894",
     "exception": false,
     "start_time": "2023-08-10T18:44:23.546510",
     "status": "completed"
    },
    "tags": []
   },
   "source": [
    "`Strengths`  \n",
    "\n",
    "> * Modular code (DRY principle)  \n",
    "> * End to end pipeline in one function (with helper functions)   "
   ]
  },
  {
   "cell_type": "markdown",
   "id": "5d653540",
   "metadata": {
    "papermill": {
     "duration": 0.086877,
     "end_time": "2023-08-10T18:44:23.806279",
     "exception": false,
     "start_time": "2023-08-10T18:44:23.719402",
     "status": "completed"
    },
    "tags": []
   },
   "source": [
    "`Overview`  \n",
    "\n",
    "`PART I`  \n",
    "\n",
    "1.\t> Screen the datasets and import them.  \n",
    "2.\t> Perform EDA (first round).\n",
    "3.\t> Data cleaning.\n",
    "4.\t> Basic models including dummy model.\n",
    "5.\t> Because this is a text sentiment analysis project, focus on 'reviewText' column, work on cleaning text data and vectorising/tokenising it, build several models till the best possible score is reached.  \n",
    "\n",
    "`PART II`  \n",
    "\n",
    "6.\t> Merge train and movies dataset.\n",
    "7.\t> Perform EDA (second round) on merged dataset.\n",
    "8.\t> Data cleaning.\n",
    "9.\t> Build models on merged dataset.\n",
    "10.\t> Understand the results and do another round of EDA if needed.\n",
    "11.\t> Build final model.  \n",
    "\n",
    "`PART III (After project window closes)`  \n",
    "\n",
    "12. > Use NLTK library for further processing text data.  \n",
    "13. > Try to address comments from different languages, special characters etc.  \n",
    "14. > Try imblearn library to address class imbalance.  \n",
    "15. > Try to use currently available LLMs and see how my model performs agains them.  "
   ]
  },
  {
   "cell_type": "markdown",
   "id": "78faeca0",
   "metadata": {
    "papermill": {
     "duration": 0.090137,
     "end_time": "2023-08-10T18:44:23.984979",
     "exception": false,
     "start_time": "2023-08-10T18:44:23.894842",
     "status": "completed"
    },
    "tags": []
   },
   "source": [
    "`Default code on Kaggle notebook`  "
   ]
  },
  {
   "cell_type": "code",
   "execution_count": 1,
   "id": "d6f494bd",
   "metadata": {
    "_cell_guid": "b1076dfc-b9ad-4769-8c92-a6c4dae69d19",
    "_uuid": "8f2839f25d086af736a60e9eeb907d3b93b6e0e5",
    "execution": {
     "iopub.execute_input": "2023-08-10T18:44:24.165951Z",
     "iopub.status.busy": "2023-08-10T18:44:24.165449Z",
     "iopub.status.idle": "2023-08-10T18:44:24.181159Z",
     "shell.execute_reply": "2023-08-10T18:44:24.179944Z"
    },
    "papermill": {
     "duration": 0.110244,
     "end_time": "2023-08-10T18:44:24.184605",
     "exception": false,
     "start_time": "2023-08-10T18:44:24.074361",
     "status": "completed"
    },
    "tags": []
   },
   "outputs": [
    {
     "name": "stdout",
     "output_type": "stream",
     "text": [
      "/kaggle/input/sentiment-prediction-on-movie-reviews/movies.csv\n",
      "/kaggle/input/sentiment-prediction-on-movie-reviews/sample.csv\n",
      "/kaggle/input/sentiment-prediction-on-movie-reviews/train.csv\n",
      "/kaggle/input/sentiment-prediction-on-movie-reviews/test.csv\n"
     ]
    }
   ],
   "source": [
    "# This Python 3 environment comes with many helpful analytics libraries installed\n",
    "# It is defined by the kaggle/python Docker image: https://github.com/kaggle/docker-python\n",
    "# For example, here's several helpful packages to load\n",
    "\n",
    "import numpy as np # linear algebra\n",
    "import pandas as pd # data processing, CSV file I/O (e.g. pd.read_csv)\n",
    "\n",
    "# Input data files are available in the read-only \"../input/\" directory\n",
    "# For example, running this (by clicking run or pressing Shift+Enter) will list all files under the input directory\n",
    "\n",
    "import os\n",
    "for dirname, _, filenames in os.walk('/kaggle/input'):\n",
    "    for filename in filenames:\n",
    "        print(os.path.join(dirname, filename))\n",
    "\n",
    "# You can write up to 20GB to the current directory (/kaggle/working/) that gets preserved as output when you create a version using \"Save & Run All\" \n",
    "# You can also write temporary files to /kaggle/temp/, but they won't be saved outside of the current session"
   ]
  },
  {
   "cell_type": "markdown",
   "id": "faaf1b20",
   "metadata": {
    "papermill": {
     "duration": 0.090557,
     "end_time": "2023-08-10T18:44:24.367108",
     "exception": false,
     "start_time": "2023-08-10T18:44:24.276551",
     "status": "completed"
    },
    "tags": []
   },
   "source": [
    "### Specify platform  "
   ]
  },
  {
   "cell_type": "code",
   "execution_count": 2,
   "id": "83e65fa2",
   "metadata": {
    "execution": {
     "iopub.execute_input": "2023-08-10T18:44:24.548164Z",
     "iopub.status.busy": "2023-08-10T18:44:24.547643Z",
     "iopub.status.idle": "2023-08-10T18:44:24.553568Z",
     "shell.execute_reply": "2023-08-10T18:44:24.552324Z"
    },
    "papermill": {
     "duration": 0.098385,
     "end_time": "2023-08-10T18:44:24.555820",
     "exception": false,
     "start_time": "2023-08-10T18:44:24.457435",
     "status": "completed"
    },
    "tags": []
   },
   "outputs": [],
   "source": [
    "platform = 'kaggle'  "
   ]
  },
  {
   "cell_type": "markdown",
   "id": "852698cb",
   "metadata": {
    "papermill": {
     "duration": 0.086602,
     "end_time": "2023-08-10T18:44:24.730935",
     "exception": false,
     "start_time": "2023-08-10T18:44:24.644333",
     "status": "completed"
    },
    "tags": []
   },
   "source": [
    "### Import libraries  "
   ]
  },
  {
   "cell_type": "code",
   "execution_count": 3,
   "id": "f132872f",
   "metadata": {
    "execution": {
     "iopub.execute_input": "2023-08-10T18:44:24.910660Z",
     "iopub.status.busy": "2023-08-10T18:44:24.909974Z",
     "iopub.status.idle": "2023-08-10T18:44:27.370921Z",
     "shell.execute_reply": "2023-08-10T18:44:27.369314Z"
    },
    "papermill": {
     "duration": 2.554115,
     "end_time": "2023-08-10T18:44:27.373542",
     "exception": false,
     "start_time": "2023-08-10T18:44:24.819427",
     "status": "completed"
    },
    "tags": []
   },
   "outputs": [
    {
     "name": "stdout",
     "output_type": "stream",
     "text": [
      "Imports done.\n"
     ]
    }
   ],
   "source": [
    "import pandas as pd\n",
    "import numpy as np\n",
    "import matplotlib.pyplot as plt\n",
    "import seaborn as sns\n",
    "import re\n",
    "from itertools import compress\n",
    "\n",
    "from sklearn.dummy import DummyClassifier\n",
    "from sklearn.pipeline import Pipeline, FeatureUnion\n",
    "from sklearn.compose import ColumnTransformer\n",
    "from sklearn.metrics import classification_report, confusion_matrix,f1_score\n",
    "from sklearn.feature_extraction.text import TfidfVectorizer, CountVectorizer\n",
    "from sklearn.preprocessing import FunctionTransformer\n",
    "from sklearn.preprocessing import StandardScaler, MinMaxScaler, RobustScaler, OneHotEncoder, LabelEncoder\n",
    "from sklearn.impute import SimpleImputer\n",
    "from sklearn.linear_model import LogisticRegression, SGDClassifier\n",
    "from sklearn.tree import DecisionTreeClassifier\n",
    "from sklearn.ensemble import RandomForestClassifier, AdaBoostClassifier\n",
    "from sklearn.svm import LinearSVC\n",
    "from sklearn.naive_bayes import GaussianNB, BernoulliNB, CategoricalNB, ComplementNB, MultinomialNB\n",
    "from sklearn.model_selection import train_test_split, GridSearchCV, cross_val_score\n",
    "from sklearn.decomposition import PCA, TruncatedSVD\n",
    "from sklearn.feature_selection import RFECV\n",
    "from sklearn.feature_selection import RFE\n",
    "from sklearn.neural_network import MLPClassifier\n",
    "\n",
    "# import lightgbm as ltb\n",
    "\n",
    "import scipy.stats as stats\n",
    "print(\"Imports done.\")"
   ]
  },
  {
   "cell_type": "markdown",
   "id": "aeea3bf9",
   "metadata": {
    "papermill": {
     "duration": 0.090478,
     "end_time": "2023-08-10T18:44:27.552758",
     "exception": false,
     "start_time": "2023-08-10T18:44:27.462280",
     "status": "completed"
    },
    "tags": []
   },
   "source": [
    "# PART I  "
   ]
  },
  {
   "cell_type": "markdown",
   "id": "da6bd363",
   "metadata": {
    "papermill": {
     "duration": 0.092477,
     "end_time": "2023-08-10T18:44:27.737711",
     "exception": false,
     "start_time": "2023-08-10T18:44:27.645234",
     "status": "completed"
    },
    "tags": []
   },
   "source": [
    "## Load datasets  "
   ]
  },
  {
   "cell_type": "code",
   "execution_count": 4,
   "id": "ac787c85",
   "metadata": {
    "execution": {
     "iopub.execute_input": "2023-08-10T18:44:27.923501Z",
     "iopub.status.busy": "2023-08-10T18:44:27.923089Z",
     "iopub.status.idle": "2023-08-10T18:44:29.060142Z",
     "shell.execute_reply": "2023-08-10T18:44:29.058637Z"
    },
    "papermill": {
     "duration": 1.232789,
     "end_time": "2023-08-10T18:44:29.063048",
     "exception": false,
     "start_time": "2023-08-10T18:44:27.830259",
     "status": "completed"
    },
    "tags": []
   },
   "outputs": [
    {
     "data": {
      "text/plain": [
       "(162758, 5)"
      ]
     },
     "execution_count": 4,
     "metadata": {},
     "output_type": "execute_result"
    }
   ],
   "source": [
    "if platform == 'vscode':\n",
    "    traindf = pd.read_csv(\"data/train.csv\")\n",
    "else:\n",
    "    traindf = pd.read_csv(\"/kaggle/input/sentiment-prediction-on-movie-reviews/train.csv\")\n",
    "    \n",
    "traindf.shape"
   ]
  },
  {
   "cell_type": "code",
   "execution_count": 5,
   "id": "2a3341e0",
   "metadata": {
    "execution": {
     "iopub.execute_input": "2023-08-10T18:44:29.246172Z",
     "iopub.status.busy": "2023-08-10T18:44:29.245716Z",
     "iopub.status.idle": "2023-08-10T18:44:29.612165Z",
     "shell.execute_reply": "2023-08-10T18:44:29.610704Z"
    },
    "papermill": {
     "duration": 0.461038,
     "end_time": "2023-08-10T18:44:29.614710",
     "exception": false,
     "start_time": "2023-08-10T18:44:29.153672",
     "status": "completed"
    },
    "tags": []
   },
   "outputs": [
    {
     "data": {
      "text/plain": [
       "(55315, 4)"
      ]
     },
     "execution_count": 5,
     "metadata": {},
     "output_type": "execute_result"
    }
   ],
   "source": [
    "if platform == 'vscode':\n",
    "    testdf = pd.read_csv(\"data/test.csv\")\n",
    "else:\n",
    "    testdf = pd.read_csv(\"/kaggle/input/sentiment-prediction-on-movie-reviews/test.csv\")\n",
    "\n",
    "testdf.shape"
   ]
  },
  {
   "cell_type": "markdown",
   "id": "fdff160f",
   "metadata": {
    "papermill": {
     "duration": 0.090966,
     "end_time": "2023-08-10T18:44:29.797109",
     "exception": false,
     "start_time": "2023-08-10T18:44:29.706143",
     "status": "completed"
    },
    "tags": []
   },
   "source": [
    "### Understanding the data and getting it ready for training and evaluating models  \n"
   ]
  },
  {
   "cell_type": "code",
   "execution_count": 6,
   "id": "056eee1a",
   "metadata": {
    "execution": {
     "iopub.execute_input": "2023-08-10T18:44:29.982532Z",
     "iopub.status.busy": "2023-08-10T18:44:29.982070Z",
     "iopub.status.idle": "2023-08-10T18:44:29.990256Z",
     "shell.execute_reply": "2023-08-10T18:44:29.989063Z"
    },
    "papermill": {
     "duration": 0.104404,
     "end_time": "2023-08-10T18:44:29.992481",
     "exception": false,
     "start_time": "2023-08-10T18:44:29.888077",
     "status": "completed"
    },
    "tags": []
   },
   "outputs": [
    {
     "data": {
      "text/plain": [
       "(162758, 5)"
      ]
     },
     "execution_count": 6,
     "metadata": {},
     "output_type": "execute_result"
    }
   ],
   "source": [
    "traindf.shape"
   ]
  },
  {
   "cell_type": "code",
   "execution_count": 7,
   "id": "48a0b3e5",
   "metadata": {
    "execution": {
     "iopub.execute_input": "2023-08-10T18:44:30.174598Z",
     "iopub.status.busy": "2023-08-10T18:44:30.174100Z",
     "iopub.status.idle": "2023-08-10T18:44:30.427651Z",
     "shell.execute_reply": "2023-08-10T18:44:30.426889Z"
    },
    "papermill": {
     "duration": 0.347651,
     "end_time": "2023-08-10T18:44:30.430402",
     "exception": false,
     "start_time": "2023-08-10T18:44:30.082751",
     "status": "completed"
    },
    "tags": []
   },
   "outputs": [
    {
     "name": "stdout",
     "output_type": "stream",
     "text": [
      "<class 'pandas.core.frame.DataFrame'>\n",
      "RangeIndex: 162758 entries, 0 to 162757\n",
      "Data columns (total 5 columns):\n",
      " #   Column              Non-Null Count   Dtype \n",
      "---  ------              --------------   ----- \n",
      " 0   movieid             162758 non-null  object\n",
      " 1   reviewerName        162758 non-null  object\n",
      " 2   isFrequentReviewer  162758 non-null  bool  \n",
      " 3   reviewText          156311 non-null  object\n",
      " 4   sentiment           162758 non-null  object\n",
      "dtypes: bool(1), object(4)\n",
      "memory usage: 5.1+ MB\n"
     ]
    }
   ],
   "source": [
    "traindf.info()"
   ]
  },
  {
   "cell_type": "code",
   "execution_count": 8,
   "id": "ab7a53c4",
   "metadata": {
    "execution": {
     "iopub.execute_input": "2023-08-10T18:44:30.618256Z",
     "iopub.status.busy": "2023-08-10T18:44:30.617832Z",
     "iopub.status.idle": "2023-08-10T18:44:30.832051Z",
     "shell.execute_reply": "2023-08-10T18:44:30.830778Z"
    },
    "papermill": {
     "duration": 0.31144,
     "end_time": "2023-08-10T18:44:30.834739",
     "exception": false,
     "start_time": "2023-08-10T18:44:30.523299",
     "status": "completed"
    },
    "tags": []
   },
   "outputs": [
    {
     "data": {
      "text/plain": [
       "movieid                  0\n",
       "reviewerName             0\n",
       "isFrequentReviewer       0\n",
       "reviewText            6447\n",
       "sentiment                0\n",
       "dtype: int64"
      ]
     },
     "execution_count": 8,
     "metadata": {},
     "output_type": "execute_result"
    }
   ],
   "source": [
    "traindf.isna().sum()"
   ]
  },
  {
   "cell_type": "markdown",
   "id": "36fa05b1",
   "metadata": {
    "papermill": {
     "duration": 0.093177,
     "end_time": "2023-08-10T18:44:31.125895",
     "exception": false,
     "start_time": "2023-08-10T18:44:31.032718",
     "status": "completed"
    },
    "tags": []
   },
   "source": [
    "### Fill empty reviewText with custom text  "
   ]
  },
  {
   "cell_type": "code",
   "execution_count": 9,
   "id": "13d64ab4",
   "metadata": {
    "execution": {
     "iopub.execute_input": "2023-08-10T18:44:31.312015Z",
     "iopub.status.busy": "2023-08-10T18:44:31.311640Z",
     "iopub.status.idle": "2023-08-10T18:44:31.545476Z",
     "shell.execute_reply": "2023-08-10T18:44:31.544174Z"
    },
    "papermill": {
     "duration": 0.330162,
     "end_time": "2023-08-10T18:44:31.548017",
     "exception": false,
     "start_time": "2023-08-10T18:44:31.217855",
     "status": "completed"
    },
    "tags": []
   },
   "outputs": [
    {
     "data": {
      "text/plain": [
       "movieid               0\n",
       "reviewerName          0\n",
       "isFrequentReviewer    0\n",
       "reviewText            0\n",
       "sentiment             0\n",
       "dtype: int64"
      ]
     },
     "execution_count": 9,
     "metadata": {},
     "output_type": "execute_result"
    }
   ],
   "source": [
    "traindf[\"reviewText\"].fillna(\"empty\", inplace=True)\n",
    "traindf.isna().sum()"
   ]
  },
  {
   "cell_type": "markdown",
   "id": "6e2970f1",
   "metadata": {
    "papermill": {
     "duration": 0.088676,
     "end_time": "2023-08-10T18:44:31.729347",
     "exception": false,
     "start_time": "2023-08-10T18:44:31.640671",
     "status": "completed"
    },
    "tags": []
   },
   "source": [
    "## EDA  \n"
   ]
  },
  {
   "cell_type": "code",
   "execution_count": 10,
   "id": "290d43fd",
   "metadata": {
    "execution": {
     "iopub.execute_input": "2023-08-10T18:44:31.910334Z",
     "iopub.status.busy": "2023-08-10T18:44:31.909859Z",
     "iopub.status.idle": "2023-08-10T18:44:32.173130Z",
     "shell.execute_reply": "2023-08-10T18:44:32.171509Z"
    },
    "papermill": {
     "duration": 0.359406,
     "end_time": "2023-08-10T18:44:32.177338",
     "exception": false,
     "start_time": "2023-08-10T18:44:31.817932",
     "status": "completed"
    },
    "tags": []
   },
   "outputs": [
    {
     "data": {
      "image/png": "[encoded data removed]",
      "text/plain": [
       "<Figure size 600x400 with 1 Axes>"
      ]
     },
     "metadata": {},
     "output_type": "display_data"
    }
   ],
   "source": [
    "# Pie chart for sentiment column\n",
    "plt.figure(figsize=(6, 4))\n",
    "traindf[\"sentiment\"].value_counts().plot(kind='pie', autopct='%1.0f%%', colors=[\"lightgreen\", \"crimson\"])\n",
    "plt.title(\"Pie chart for sentiment column\")\n",
    "plt.show()"
   ]
  },
  {
   "cell_type": "code",
   "execution_count": 11,
   "id": "ff65e04e",
   "metadata": {
    "execution": {
     "iopub.execute_input": "2023-08-10T18:44:32.388528Z",
     "iopub.status.busy": "2023-08-10T18:44:32.387409Z",
     "iopub.status.idle": "2023-08-10T18:44:32.465418Z",
     "shell.execute_reply": "2023-08-10T18:44:32.464120Z"
    },
    "papermill": {
     "duration": 0.175867,
     "end_time": "2023-08-10T18:44:32.468377",
     "exception": false,
     "start_time": "2023-08-10T18:44:32.292510",
     "status": "completed"
    },
    "tags": []
   },
   "outputs": [
    {
     "name": "stdout",
     "output_type": "stream",
     "text": [
      "sentiment           NEGATIVE  POSITIVE\n",
      "isFrequentReviewer                    \n",
      "False                  35760     77429\n",
      "True                   18237     31332\n"
     ]
    },
    {
     "data": {
      "text/plain": [
       "Chi2ContingencyResult(statistic=419.89235425657796, pvalue=2.5755894769493255e-93, dof=1, expected_freq=array([[37551.86493444, 75637.13506556],\n",
       "       [16445.13506556, 33123.86493444]]))"
      ]
     },
     "execution_count": 11,
     "metadata": {},
     "output_type": "execute_result"
    }
   ],
   "source": [
    "# Chi-square test for isFrequentReviewer column and sentiment column   \n",
    "\n",
    "contingency_table = pd.crosstab(traindf['isFrequentReviewer'], traindf['sentiment'])\n",
    "print(contingency_table)\n",
    "stats.chi2_contingency(contingency_table)"
   ]
  },
  {
   "cell_type": "markdown",
   "id": "1226edad",
   "metadata": {
    "papermill": {
     "duration": 0.094383,
     "end_time": "2023-08-10T18:44:32.657766",
     "exception": false,
     "start_time": "2023-08-10T18:44:32.563383",
     "status": "completed"
    },
    "tags": []
   },
   "source": [
    "### Separate features and labels  "
   ]
  },
  {
   "cell_type": "code",
   "execution_count": 12,
   "id": "fa312b1d",
   "metadata": {
    "execution": {
     "iopub.execute_input": "2023-08-10T18:44:32.853778Z",
     "iopub.status.busy": "2023-08-10T18:44:32.853349Z",
     "iopub.status.idle": "2023-08-10T18:44:32.861635Z",
     "shell.execute_reply": "2023-08-10T18:44:32.860334Z"
    },
    "papermill": {
     "duration": 0.107737,
     "end_time": "2023-08-10T18:44:32.864170",
     "exception": false,
     "start_time": "2023-08-10T18:44:32.756433",
     "status": "completed"
    },
    "tags": []
   },
   "outputs": [
    {
     "data": {
      "text/plain": [
       "((162758,), (162758,))"
      ]
     },
     "execution_count": 12,
     "metadata": {},
     "output_type": "execute_result"
    }
   ],
   "source": [
    "train_features = traindf[\"reviewText\"]\n",
    "train_labels = traindf.iloc[:, -1]\n",
    "train_features.shape, train_labels.shape"
   ]
  },
  {
   "cell_type": "markdown",
   "id": "41317a7f",
   "metadata": {
    "papermill": {
     "duration": 0.096853,
     "end_time": "2023-08-10T18:44:33.051751",
     "exception": false,
     "start_time": "2023-08-10T18:44:32.954898",
     "status": "completed"
    },
    "tags": []
   },
   "source": [
    "### Split traindf into training and testing parts  "
   ]
  },
  {
   "cell_type": "code",
   "execution_count": 13,
   "id": "5e12df09",
   "metadata": {
    "execution": {
     "iopub.execute_input": "2023-08-10T18:44:33.237791Z",
     "iopub.status.busy": "2023-08-10T18:44:33.237376Z",
     "iopub.status.idle": "2023-08-10T18:44:33.277703Z",
     "shell.execute_reply": "2023-08-10T18:44:33.276408Z"
    },
    "papermill": {
     "duration": 0.133763,
     "end_time": "2023-08-10T18:44:33.280594",
     "exception": false,
     "start_time": "2023-08-10T18:44:33.146831",
     "status": "completed"
    },
    "tags": []
   },
   "outputs": [
    {
     "data": {
      "text/plain": [
       "((122068,), (40690,), (122068,), (40690,))"
      ]
     },
     "execution_count": 13,
     "metadata": {},
     "output_type": "execute_result"
    }
   ],
   "source": [
    "X_train, X_test, y_train, y_test = train_test_split(train_features, train_labels, test_size=0.25, random_state=42)\n",
    "X_train.shape, X_test.shape, y_train.shape, y_test.shape"
   ]
  },
  {
   "cell_type": "markdown",
   "id": "c4a2df94",
   "metadata": {
    "papermill": {
     "duration": 0.094836,
     "end_time": "2023-08-10T18:44:33.469641",
     "exception": false,
     "start_time": "2023-08-10T18:44:33.374805",
     "status": "completed"
    },
    "tags": []
   },
   "source": [
    "## Model evaluation plan and code  "
   ]
  },
  {
   "cell_type": "code",
   "execution_count": 14,
   "id": "ef74505f",
   "metadata": {
    "execution": {
     "iopub.execute_input": "2023-08-10T18:44:33.659236Z",
     "iopub.status.busy": "2023-08-10T18:44:33.658725Z",
     "iopub.status.idle": "2023-08-10T18:44:33.663925Z",
     "shell.execute_reply": "2023-08-10T18:44:33.662772Z"
    },
    "papermill": {
     "duration": 0.102563,
     "end_time": "2023-08-10T18:44:33.666264",
     "exception": false,
     "start_time": "2023-08-10T18:44:33.563701",
     "status": "completed"
    },
    "tags": []
   },
   "outputs": [],
   "source": [
    "# from sklearn.metrics import classification_report, confusion_matrix, ConfusionMatrixDisplay\n",
    "# from sklearn.metrics import f1_score"
   ]
  },
  {
   "cell_type": "code",
   "execution_count": 15,
   "id": "99304d83",
   "metadata": {
    "execution": {
     "iopub.execute_input": "2023-08-10T18:44:33.854255Z",
     "iopub.status.busy": "2023-08-10T18:44:33.852689Z",
     "iopub.status.idle": "2023-08-10T18:44:33.861087Z",
     "shell.execute_reply": "2023-08-10T18:44:33.859865Z"
    },
    "papermill": {
     "duration": 0.108659,
     "end_time": "2023-08-10T18:44:33.864759",
     "exception": false,
     "start_time": "2023-08-10T18:44:33.756100",
     "status": "completed"
    },
    "tags": []
   },
   "outputs": [],
   "source": [
    "# def evaluate(y_test, y_pred):\n",
    "#     print(classification_report(y_test, y_pred))\n",
    "#     print(confusion_matrix(y_test, y_pred))\n",
    "#     # print(f1_score(y_test, y_pred))\n",
    "#     ConfusionMatrixDisplay(y_test, y_pred)\n",
    "#     return"
   ]
  },
  {
   "cell_type": "markdown",
   "id": "c84dffca",
   "metadata": {
    "papermill": {
     "duration": 0.103379,
     "end_time": "2023-08-10T18:44:34.085819",
     "exception": false,
     "start_time": "2023-08-10T18:44:33.982440",
     "status": "completed"
    },
    "tags": []
   },
   "source": [
    "### Data preprocessing  "
   ]
  },
  {
   "cell_type": "markdown",
   "id": "de80dbaf",
   "metadata": {
    "papermill": {
     "duration": 0.105968,
     "end_time": "2023-08-10T18:44:34.286749",
     "exception": false,
     "start_time": "2023-08-10T18:44:34.180781",
     "status": "completed"
    },
    "tags": []
   },
   "source": [
    "`Define stop words`  "
   ]
  },
  {
   "cell_type": "code",
   "execution_count": 16,
   "id": "9e055936",
   "metadata": {
    "execution": {
     "iopub.execute_input": "2023-08-10T18:44:34.480084Z",
     "iopub.status.busy": "2023-08-10T18:44:34.479640Z",
     "iopub.status.idle": "2023-08-10T18:44:34.485441Z",
     "shell.execute_reply": "2023-08-10T18:44:34.484074Z"
    },
    "papermill": {
     "duration": 0.104617,
     "end_time": "2023-08-10T18:44:34.488170",
     "exception": false,
     "start_time": "2023-08-10T18:44:34.383553",
     "status": "completed"
    },
    "tags": []
   },
   "outputs": [],
   "source": [
    "# stop_words = [\"able\", \"about\", \"above\", \"abst\", \"ac\"]     # Deprecated  \n",
    "# type(stop_words), len(stop_words)"
   ]
  },
  {
   "cell_type": "markdown",
   "id": "52b59403",
   "metadata": {
    "papermill": {
     "duration": 0.09549,
     "end_time": "2023-08-10T18:44:34.678353",
     "exception": false,
     "start_time": "2023-08-10T18:44:34.582863",
     "status": "completed"
    },
    "tags": []
   },
   "source": [
    "## Feature extraction  "
   ]
  },
  {
   "cell_type": "markdown",
   "id": "e9b17cd6",
   "metadata": {
    "papermill": {
     "duration": 0.097992,
     "end_time": "2023-08-10T18:44:34.872525",
     "exception": false,
     "start_time": "2023-08-10T18:44:34.774533",
     "status": "completed"
    },
    "tags": []
   },
   "source": [
    "### Understand CountVectorizer and TfidfVectorizer  "
   ]
  },
  {
   "cell_type": "code",
   "execution_count": 17,
   "id": "8473f9b6",
   "metadata": {
    "execution": {
     "iopub.execute_input": "2023-08-10T18:44:35.067060Z",
     "iopub.status.busy": "2023-08-10T18:44:35.066334Z",
     "iopub.status.idle": "2023-08-10T18:44:35.071593Z",
     "shell.execute_reply": "2023-08-10T18:44:35.070453Z"
    },
    "papermill": {
     "duration": 0.105832,
     "end_time": "2023-08-10T18:44:35.074092",
     "exception": false,
     "start_time": "2023-08-10T18:44:34.968260",
     "status": "completed"
    },
    "tags": []
   },
   "outputs": [],
   "source": [
    "# text = X_train.copy()\n",
    "# text.head()"
   ]
  },
  {
   "cell_type": "code",
   "execution_count": 18,
   "id": "37d3f80b",
   "metadata": {
    "execution": {
     "iopub.execute_input": "2023-08-10T18:44:35.264754Z",
     "iopub.status.busy": "2023-08-10T18:44:35.264359Z",
     "iopub.status.idle": "2023-08-10T18:44:35.269172Z",
     "shell.execute_reply": "2023-08-10T18:44:35.267972Z"
    },
    "papermill": {
     "duration": 0.102027,
     "end_time": "2023-08-10T18:44:35.271457",
     "exception": false,
     "start_time": "2023-08-10T18:44:35.169430",
     "status": "completed"
    },
    "tags": []
   },
   "outputs": [],
   "source": [
    "# vectorizer = TfidfVectorizer(stop_words=stop_words)\n",
    "# vectorized_text = vectorizer.fit_transform(text[\"reviewText\"])\n",
    "# vectorized_text"
   ]
  },
  {
   "cell_type": "markdown",
   "id": "27cc51ba",
   "metadata": {
    "papermill": {
     "duration": 0.096499,
     "end_time": "2023-08-10T18:44:35.462159",
     "exception": false,
     "start_time": "2023-08-10T18:44:35.365660",
     "status": "completed"
    },
    "tags": []
   },
   "source": [
    "`Without stop words`  \n",
    "<122068x58624 sparse matrix of type '<class 'numpy.float64'>'\n",
    "\twith 2312222 stored elements in Compressed Sparse Row format>\n",
    "\n",
    "`With stop words`  \n",
    "<122068x57784 sparse matrix of type '<class 'numpy.float64'>'\n",
    "\twith 1188395 stored elements in Compressed Sparse Row format>   "
   ]
  },
  {
   "cell_type": "code",
   "execution_count": 19,
   "id": "3c36939f",
   "metadata": {
    "execution": {
     "iopub.execute_input": "2023-08-10T18:44:35.653678Z",
     "iopub.status.busy": "2023-08-10T18:44:35.653263Z",
     "iopub.status.idle": "2023-08-10T18:44:35.657826Z",
     "shell.execute_reply": "2023-08-10T18:44:35.656975Z"
    },
    "papermill": {
     "duration": 0.102337,
     "end_time": "2023-08-10T18:44:35.659883",
     "exception": false,
     "start_time": "2023-08-10T18:44:35.557546",
     "status": "completed"
    },
    "tags": []
   },
   "outputs": [],
   "source": [
    "# vectorizer2 = CountVectorizer(stop_words=stop_words)\n",
    "# vectorized_text2 = vectorizer2.fit_transform(text[\"reviewText\"])\n",
    "# vectorized_text2"
   ]
  },
  {
   "cell_type": "markdown",
   "id": "b245c63d",
   "metadata": {
    "papermill": {
     "duration": 0.089759,
     "end_time": "2023-08-10T18:44:35.840783",
     "exception": false,
     "start_time": "2023-08-10T18:44:35.751024",
     "status": "completed"
    },
    "tags": []
   },
   "source": [
    "`Without stop words`  \n",
    "<122068x58624 sparse matrix of type '<class 'numpy.int64'>'\n",
    "\twith 2312222 stored elements in Compressed Sparse Row format>\n",
    "\n",
    "`With stop words`  \n",
    "<122068x57784 sparse matrix of type '<class 'numpy.int64'>'\n",
    "\twith 1188395 stored elements in Compressed Sparse Row format>"
   ]
  },
  {
   "cell_type": "markdown",
   "id": "f8e59e15",
   "metadata": {
    "papermill": {
     "duration": 0.091573,
     "end_time": "2023-08-10T18:44:36.025323",
     "exception": false,
     "start_time": "2023-08-10T18:44:35.933750",
     "status": "completed"
    },
    "tags": []
   },
   "source": [
    "### Conclusion   \n",
    "`TfidfVectorizer is equivalent to CountVectorizer followed by TfidfTransformer.`  \n",
    "\n",
    "https://scikit-learn.org/stable/modules/generated/sklearn.feature_extraction.text.TfidfVectorizer.html"
   ]
  },
  {
   "cell_type": "markdown",
   "id": "59d5e719",
   "metadata": {
    "papermill": {
     "duration": 0.096408,
     "end_time": "2023-08-10T18:44:36.230294",
     "exception": false,
     "start_time": "2023-08-10T18:44:36.133886",
     "status": "completed"
    },
    "tags": []
   },
   "source": [
    "## Model building workflow  \n",
    "\n",
    "`Make pipeline for preprocesing and model training and predictions`  \n"
   ]
  },
  {
   "cell_type": "code",
   "execution_count": 20,
   "id": "09661918",
   "metadata": {
    "execution": {
     "iopub.execute_input": "2023-08-10T18:44:36.409761Z",
     "iopub.status.busy": "2023-08-10T18:44:36.409197Z",
     "iopub.status.idle": "2023-08-10T18:44:36.415491Z",
     "shell.execute_reply": "2023-08-10T18:44:36.414222Z"
    },
    "papermill": {
     "duration": 0.099649,
     "end_time": "2023-08-10T18:44:36.418642",
     "exception": false,
     "start_time": "2023-08-10T18:44:36.318993",
     "status": "completed"
    },
    "tags": []
   },
   "outputs": [],
   "source": [
    "# def preprocess_n_train(X_train, y_train, preprocessor, model):\n",
    "#     pipe = Pipeline(steps=[\n",
    "#                             (\"preprocessor\", preprocessor),\n",
    "#                             (\"model\", model)\n",
    "#                         ])\n",
    "    \n",
    "#     pipe.fit(X_train, y_train)\n",
    "\n",
    "#     print(\"Given model has been trained. Use predict method to get predictions array.\")\n",
    "#     return pipe\n",
    "\n",
    "\n",
    "# def predict_n_evaluate(pipeline, X_test, y_test):\n",
    "#     y_pred = pipeline.predict(X_test)\n",
    "#     print(f\"y_pred shape: {y_pred.shape}\")\n",
    "#     print(f\"Summary of predictions: {np.unique(y_pred, return_counts=True)}\")\n",
    "#     print(classification_report(y_test, y_pred))\n",
    "#     print(confusion_matrix(y_test, y_pred))\n",
    "#     return y_pred"
   ]
  },
  {
   "cell_type": "markdown",
   "id": "24cb5b7c",
   "metadata": {
    "papermill": {
     "duration": 0.094107,
     "end_time": "2023-08-10T18:44:36.607706",
     "exception": false,
     "start_time": "2023-08-10T18:44:36.513599",
     "status": "completed"
    },
    "tags": []
   },
   "source": [
    "## Building 3 basic models  "
   ]
  },
  {
   "cell_type": "markdown",
   "id": "7e2a5e6c",
   "metadata": {
    "papermill": {
     "duration": 0.090485,
     "end_time": "2023-08-10T18:44:36.794178",
     "exception": false,
     "start_time": "2023-08-10T18:44:36.703693",
     "status": "completed"
    },
    "tags": []
   },
   "source": [
    "### Text preprocessors  "
   ]
  },
  {
   "cell_type": "code",
   "execution_count": 21,
   "id": "78330457",
   "metadata": {
    "execution": {
     "iopub.execute_input": "2023-08-10T18:44:36.977433Z",
     "iopub.status.busy": "2023-08-10T18:44:36.976930Z",
     "iopub.status.idle": "2023-08-10T18:44:36.981919Z",
     "shell.execute_reply": "2023-08-10T18:44:36.981054Z"
    },
    "papermill": {
     "duration": 0.09913,
     "end_time": "2023-08-10T18:44:36.983986",
     "exception": false,
     "start_time": "2023-08-10T18:44:36.884856",
     "status": "completed"
    },
    "tags": []
   },
   "outputs": [],
   "source": [
    "# tvec = TfidfVectorizer()\n",
    "# cvec = CountVectorizer()        # Note that TfidfVectorizer and CountVectorizer+TfidsTransformer do the same function\n",
    "# tvec, cvec"
   ]
  },
  {
   "cell_type": "markdown",
   "id": "d4ed5d45",
   "metadata": {
    "papermill": {
     "duration": 0.092395,
     "end_time": "2023-08-10T18:44:37.166622",
     "exception": false,
     "start_time": "2023-08-10T18:44:37.074227",
     "status": "completed"
    },
    "tags": []
   },
   "source": [
    "### Logistic Regression with TfidVectorizer for preprocessing  "
   ]
  },
  {
   "cell_type": "code",
   "execution_count": 22,
   "id": "466d2f59",
   "metadata": {
    "execution": {
     "iopub.execute_input": "2023-08-10T18:44:37.347545Z",
     "iopub.status.busy": "2023-08-10T18:44:37.347093Z",
     "iopub.status.idle": "2023-08-10T18:44:37.351493Z",
     "shell.execute_reply": "2023-08-10T18:44:37.350644Z"
    },
    "papermill": {
     "duration": 0.097495,
     "end_time": "2023-08-10T18:44:37.353515",
     "exception": false,
     "start_time": "2023-08-10T18:44:37.256020",
     "status": "completed"
    },
    "tags": []
   },
   "outputs": [],
   "source": [
    "# logreg = LogisticRegression(max_iter=1000)\n",
    "# logreg_pipe = preprocess_n_train(X_train, y_train, tvec, logreg)\n",
    "# y_pred_logreg = predict_n_evaluate(logreg_pipe, X_test, y_test)\n",
    "# y_pred_logreg"
   ]
  },
  {
   "cell_type": "markdown",
   "id": "8365d128",
   "metadata": {
    "papermill": {
     "duration": 0.168689,
     "end_time": "2023-08-10T18:44:37.611377",
     "exception": false,
     "start_time": "2023-08-10T18:44:37.442688",
     "status": "completed"
    },
    "tags": []
   },
   "source": [
    "### SVM model  "
   ]
  },
  {
   "cell_type": "code",
   "execution_count": 23,
   "id": "a6a534ce",
   "metadata": {
    "execution": {
     "iopub.execute_input": "2023-08-10T18:44:37.796460Z",
     "iopub.status.busy": "2023-08-10T18:44:37.795647Z",
     "iopub.status.idle": "2023-08-10T18:44:37.800143Z",
     "shell.execute_reply": "2023-08-10T18:44:37.798995Z"
    },
    "papermill": {
     "duration": 0.100098,
     "end_time": "2023-08-10T18:44:37.802392",
     "exception": false,
     "start_time": "2023-08-10T18:44:37.702294",
     "status": "completed"
    },
    "tags": []
   },
   "outputs": [],
   "source": [
    "# svm = LinearSVC()\n",
    "# svm_pipe = preprocess_n_train(X_train, y_train, tvec, svm)\n",
    "# y_pred_svm = predict_n_evaluate(svm_pipe, X_test, y_test)\n",
    "# y_pred_svm"
   ]
  },
  {
   "cell_type": "markdown",
   "id": "262b0452",
   "metadata": {
    "papermill": {
     "duration": 0.090923,
     "end_time": "2023-08-10T18:44:37.983651",
     "exception": false,
     "start_time": "2023-08-10T18:44:37.892728",
     "status": "completed"
    },
    "tags": []
   },
   "source": [
    "### Naive Bayes model  "
   ]
  },
  {
   "cell_type": "markdown",
   "id": "29dae819",
   "metadata": {
    "papermill": {
     "duration": 0.09267,
     "end_time": "2023-08-10T18:44:38.169168",
     "exception": false,
     "start_time": "2023-08-10T18:44:38.076498",
     "status": "completed"
    },
    "tags": []
   },
   "source": [
    "#### MultinomialNB  "
   ]
  },
  {
   "cell_type": "code",
   "execution_count": 24,
   "id": "d4787f93",
   "metadata": {
    "execution": {
     "iopub.execute_input": "2023-08-10T18:44:38.350072Z",
     "iopub.status.busy": "2023-08-10T18:44:38.349622Z",
     "iopub.status.idle": "2023-08-10T18:44:38.354741Z",
     "shell.execute_reply": "2023-08-10T18:44:38.353576Z"
    },
    "papermill": {
     "duration": 0.096882,
     "end_time": "2023-08-10T18:44:38.357157",
     "exception": false,
     "start_time": "2023-08-10T18:44:38.260275",
     "status": "completed"
    },
    "tags": []
   },
   "outputs": [],
   "source": [
    "# mnb = MultinomialNB()\n",
    "# mnb_pipe = preprocess_n_train(X_train, y_train, tvec, mnb)\n",
    "# y_pred_mnb = predict_n_evaluate(mnb_pipe, X_test, y_test)\n",
    "# y_pred_mnb"
   ]
  },
  {
   "cell_type": "markdown",
   "id": "bbfadfba",
   "metadata": {
    "papermill": {
     "duration": 0.087815,
     "end_time": "2023-08-10T18:44:38.532978",
     "exception": false,
     "start_time": "2023-08-10T18:44:38.445163",
     "status": "completed"
    },
    "tags": []
   },
   "source": [
    "## Submitting predictions to Kaggle competition  "
   ]
  },
  {
   "cell_type": "code",
   "execution_count": 25,
   "id": "6dcbac97",
   "metadata": {
    "execution": {
     "iopub.execute_input": "2023-08-10T18:44:38.713245Z",
     "iopub.status.busy": "2023-08-10T18:44:38.712797Z",
     "iopub.status.idle": "2023-08-10T18:44:38.718687Z",
     "shell.execute_reply": "2023-08-10T18:44:38.717379Z"
    },
    "papermill": {
     "duration": 0.099616,
     "end_time": "2023-08-10T18:44:38.721110",
     "exception": false,
     "start_time": "2023-08-10T18:44:38.621494",
     "status": "completed"
    },
    "tags": []
   },
   "outputs": [],
   "source": [
    "# def submit(selected_model=logreg, selected_preprocessor=tvec):\n",
    "    \n",
    "#     # Retrain on the whole train.csv file  \n",
    "#     traindf = pd.read_csv(\"/kaggle/input/sentiment-prediction-on-movie-reviews/train.csv\")\n",
    "#     X_train = traindf[\"reviewText\"]\n",
    "#     X_train.fillna(\"empty\", inplace=True)\n",
    "#     y_train = traindf[\"sentiment\"]\n",
    "#     pipe = preprocess_n_train(X_train, y_train, selected_preprocessor, selected_model)\n",
    "    \n",
    "#     # Predict on test.csv file\n",
    "#     testdf = pd.read_csv(\"/kaggle/input/sentiment-prediction-on-movie-reviews/test.csv\")\n",
    "#     X_test = testdf[\"reviewText\"]\n",
    "#     X_test.fillna(\"empty\", inplace=True)\n",
    "    \n",
    "#     y_pred = pipe.predict(X_test)\n",
    "    \n",
    "#     pred_df = pd.DataFrame(y_pred)\n",
    "#     pred_df.columns = [\"sentiment\"]\n",
    "#     pred_df.index.name = \"id\"\n",
    "#     pred_df.to_csv(\"submission.csv\")\n",
    "    \n",
    "#     return \"Successfully created the submission file!!!\""
   ]
  },
  {
   "cell_type": "code",
   "execution_count": 26,
   "id": "5572722c",
   "metadata": {
    "execution": {
     "iopub.execute_input": "2023-08-10T18:44:38.915772Z",
     "iopub.status.busy": "2023-08-10T18:44:38.915294Z",
     "iopub.status.idle": "2023-08-10T18:44:38.920766Z",
     "shell.execute_reply": "2023-08-10T18:44:38.919530Z"
    },
    "papermill": {
     "duration": 0.105195,
     "end_time": "2023-08-10T18:44:38.923347",
     "exception": false,
     "start_time": "2023-08-10T18:44:38.818152",
     "status": "completed"
    },
    "tags": []
   },
   "outputs": [],
   "source": [
    "# submit(logreg_cv1, tvec_cv1)"
   ]
  },
  {
   "cell_type": "markdown",
   "id": "7c5bc736",
   "metadata": {
    "papermill": {
     "duration": 0.097645,
     "end_time": "2023-08-10T18:44:39.117037",
     "exception": false,
     "start_time": "2023-08-10T18:44:39.019392",
     "status": "completed"
    },
    "tags": []
   },
   "source": [
    "# PART II  "
   ]
  },
  {
   "cell_type": "markdown",
   "id": "f5da8cc0",
   "metadata": {
    "papermill": {
     "duration": 0.095467,
     "end_time": "2023-08-10T18:44:39.307452",
     "exception": false,
     "start_time": "2023-08-10T18:44:39.211985",
     "status": "completed"
    },
    "tags": []
   },
   "source": [
    "## Merge \"movies.csv\" with \"train.csv\" and \"test.csv\"  "
   ]
  },
  {
   "cell_type": "markdown",
   "id": "d30a80f9",
   "metadata": {
    "papermill": {
     "duration": 0.094867,
     "end_time": "2023-08-10T18:44:39.499164",
     "exception": false,
     "start_time": "2023-08-10T18:44:39.404297",
     "status": "completed"
    },
    "tags": []
   },
   "source": [
    "### Helper functions  "
   ]
  },
  {
   "cell_type": "code",
   "execution_count": 27,
   "id": "9ec3ef89",
   "metadata": {
    "execution": {
     "iopub.execute_input": "2023-08-10T18:44:39.692041Z",
     "iopub.status.busy": "2023-08-10T18:44:39.691663Z",
     "iopub.status.idle": "2023-08-10T18:44:39.697899Z",
     "shell.execute_reply": "2023-08-10T18:44:39.696530Z"
    },
    "papermill": {
     "duration": 0.105677,
     "end_time": "2023-08-10T18:44:39.700364",
     "exception": false,
     "start_time": "2023-08-10T18:44:39.594687",
     "status": "completed"
    },
    "tags": []
   },
   "outputs": [],
   "source": [
    "# Helper function for loading files  \n",
    "\n",
    "def load_csv(filename: str):\n",
    "    if platform == \"vscode\":\n",
    "        df = pd.read_csv(f\"data/{filename}.csv\")\n",
    "    else:\n",
    "        df = pd.read_csv(f\"/kaggle/input/sentiment-prediction-on-movie-reviews/{filename}.csv\")\n",
    "        \n",
    "    return df"
   ]
  },
  {
   "cell_type": "code",
   "execution_count": 28,
   "id": "13dc60fe",
   "metadata": {
    "execution": {
     "iopub.execute_input": "2023-08-10T18:44:39.898063Z",
     "iopub.status.busy": "2023-08-10T18:44:39.897685Z",
     "iopub.status.idle": "2023-08-10T18:44:39.904220Z",
     "shell.execute_reply": "2023-08-10T18:44:39.902981Z"
    },
    "papermill": {
     "duration": 0.10718,
     "end_time": "2023-08-10T18:44:39.906697",
     "exception": false,
     "start_time": "2023-08-10T18:44:39.799517",
     "status": "completed"
    },
    "tags": []
   },
   "outputs": [],
   "source": [
    "def inspect(df: pd.DataFrame):\n",
    "    print(f\"Shape of the dataframe: {df.shape}\")\n",
    "    print()\n",
    "    print(f\"Columns in the dataframe:\\n{df.columns}\")\n",
    "    print()\n",
    "    print(f\"{df.info()}\")\n",
    "    print()\n",
    "    # print(f\"Summary: {df.describe()}\")\n",
    "    print(f\"Missing values:\\n{df.isna().sum()}\")\n",
    "    return"
   ]
  },
  {
   "cell_type": "code",
   "execution_count": 29,
   "id": "deb65886",
   "metadata": {
    "execution": {
     "iopub.execute_input": "2023-08-10T18:44:40.102625Z",
     "iopub.status.busy": "2023-08-10T18:44:40.102190Z",
     "iopub.status.idle": "2023-08-10T18:44:40.108006Z",
     "shell.execute_reply": "2023-08-10T18:44:40.106768Z"
    },
    "papermill": {
     "duration": 0.108283,
     "end_time": "2023-08-10T18:44:40.110705",
     "exception": false,
     "start_time": "2023-08-10T18:44:40.002422",
     "status": "completed"
    },
    "tags": []
   },
   "outputs": [],
   "source": [
    "def name_fl(name):\n",
    "    l = name.split()\n",
    "    n = ' '.join((l[0], l[-1]))\n",
    "    return n"
   ]
  },
  {
   "cell_type": "code",
   "execution_count": 30,
   "id": "5c2b6ef2",
   "metadata": {
    "execution": {
     "iopub.execute_input": "2023-08-10T18:44:40.305482Z",
     "iopub.status.busy": "2023-08-10T18:44:40.305067Z",
     "iopub.status.idle": "2023-08-10T18:44:40.336309Z",
     "shell.execute_reply": "2023-08-10T18:44:40.335133Z"
    },
    "papermill": {
     "duration": 0.129897,
     "end_time": "2023-08-10T18:44:40.339399",
     "exception": false,
     "start_time": "2023-08-10T18:44:40.209502",
     "status": "completed"
    },
    "tags": []
   },
   "outputs": [],
   "source": [
    "def select_features(df: pd.DataFrame, moviesdf: pd.DataFrame, row_thresh_null=None):\n",
    "    '''\n",
    "    This function merges the given dataframes. Note that the first df must be \"train\" or \"test\" and\n",
    "    the second df should be \"movies\".\n",
    "    Note: Sentiment column is present only in \"train.csv\" file and not \"test.csv\" file.\n",
    "    '''\n",
    "    \n",
    "    # Drop duplicates from moviesdf\n",
    "#     movies_unique = moviesdf.drop_duplicates(subset=[\"movieid\"])\n",
    "\n",
    "    # Drop duplicates using groupby - clubs similar rows and fills in missing values better\n",
    "    movies_unique = moviesdf.fillna(value=np.nan).groupby(\"movieid\").first().reset_index()\n",
    "    \n",
    "\n",
    "    # Handle missing values in movies.csv better than just dropping duplicates?\n",
    "#     movies_unique = moviesdf.copy()\n",
    "#     movies_unique[[\"audienceScore\", \"runtimeMinutes\"]] = movies_unique[[\"audienceScore\", \"runtimeMinutes\"]].interpolate(method='linear', axis=0)\n",
    "#     movies_unique = movies_unique.fillna(value=np.nan).groupby(\"movieid\").first().fillna(method='ffill').reset_index()\n",
    "\n",
    "    \n",
    "\n",
    "    # Merge df and movies_unique\n",
    "    df_merged = pd.merge(df, movies_unique, on=\"movieid\", how='left')\n",
    "    \n",
    "    # Rename \"isTopCritic\" column, if it exists, to \"isFrequentReviewer\"\n",
    "    df_merged.rename(columns={\"isTopCritic\": \"isFrequentReviewer\"}, inplace=True)\n",
    "    \n",
    "    # Drop columns\n",
    "#     df_merged = df_merged.drop(columns=[\"title\", \"ratingContents\", \"releaseDateTheaters\", \"releaseDateStreaming\", \"distributor\", \"soundType\"])\n",
    "#     df_merged = df_merged.drop(columns=[\"title\", \"soundType\"])\n",
    "    \n",
    "    # Drop rows (OPTIONAL: Uses kwarg row_thresh_null)\n",
    "    if row_thresh_null != None:\n",
    "        df_merged.dropna(axis=0, thresh=(df_merged.shape[1] - row_thresh_null), inplace=True)\n",
    "        \n",
    "\n",
    "    # Create new columns based on reviewText\n",
    "    final = df_merged.copy()\n",
    "    final[\"reviewYN\"] = np.where(final[\"reviewText\"].isnull(), 1, 0)    # Feature engineering - adding a new column\n",
    "    final[\"reviewWC\"] = final.apply(lambda x: len(str(x[\"reviewText\"]).split()), axis=1)    # Feature engineering - adding second new column\n",
    "    \n",
    "    # Clean text (replace numbers with empty string) and fill missing values in \"reviewText\" with empty string\n",
    "    final[\"reviewText\"] = final[\"reviewText\"].str.replace('\\d+', '', regex=True)\n",
    "    final[\"reviewText\"] = final[\"reviewText\"].fillna(\"neutral\")\n",
    "    \n",
    "    # Fill missing values in \"rating\", \"genre\", original columns with the word \"unknown\"\n",
    "    final[\"rating\"] = final[\"rating\"].fillna(\"unknown\")\n",
    "    final[\"originalLanguage\"] = final[\"originalLanguage\"].fillna(\"unknown\")\n",
    "    final[\"genre\"] = final[\"genre\"].fillna(\"unknown\")\n",
    "    final[\"genre\"] = final[\"genre\"].apply(lambda x: re.sub(r\"-\", \"\", x))\n",
    "    final[\"genreSorted\"] = final[\"genre\"].apply(lambda x: (\",\").join(sorted(x.split(\", \"))))\n",
    "#     final[\"genre\"] = final[\"genre\"].replace(to_replace={\"&\": \"\"})\n",
    "\n",
    "    # Impute missing values for \"audienceScore\" and \"runtimeMinutes\" columns\n",
    "#     final[\"audienceScore\"] = final[\"audienceScore\"].fillna(final[\"audienceScore\"].mean())        # MOVED\n",
    "#     final[\"runtimeMinutes\"] = final[\"runtimeMinutes\"].fillna(final[\"runtimeMinutes\"].median())   # MOVED\n",
    "    \n",
    "    # Preprocess and impute missing values in \"boxOffice\" column\n",
    "    final[\"boxOffice\"] = final[\"boxOffice\"].str[1:]\n",
    "    final[\"boxOffice\"] = final[\"boxOffice\"].replace(to_replace={\"M\": \"*1000000\", \"K\": \"*1000\"}, regex=True)\n",
    "    final[\"boxOffice\"] = final[\"boxOffice\"].loc[final[\"boxOffice\"].notnull()].apply(lambda x: eval(str(x)))\n",
    "#     final[\"boxOffice\"] = final[\"boxOffice\"].fillna(final[\"boxOffice\"].median())                  # MOVED\n",
    "    # (Optional) Replace outliers in boxOffice with median\n",
    "#     median = final[\"boxOffice\"].describe()['50%']\n",
    "#     iqr = final[\"boxOffice\"].describe()['75%'] - final[\"boxOffice\"].describe()['25%']\n",
    "#     ll = median - (1.5*iqr)\n",
    "#     ul = median + (1.5*iqr)\n",
    "#     final.loc[final[\"boxOffice\"] > ul, \"boxOffice\"] = median\n",
    "    \n",
    "    # Clean language names\n",
    "    final[\"originalLanguage\"].replace({\"English (United Kingdom)\": \"English\", \n",
    "                                            \"English (Australia)\" : \"English\",\n",
    "                                            \"French (France)\": \"French\", \n",
    "                                            \"French (Canada)\": \"French\",\n",
    "                                            \"Portuguese (Brazil)\": \"Portuguese\",\n",
    "                                            \"Spanish (Spain)\": \"Spanish\"},                                         \n",
    "                                            inplace=True)\n",
    "    \n",
    "    # Clean reviewerName column\n",
    "    pre_post_fixes = {\"Mr. \": \"\", \"Mrs. \": \"\", \"Ms. \": \"\", \"Dr. \": \"\", \n",
    "                      \" MD\": \"\", \" DDS\": \"\", \" DVM\": \"\", \" Jr.\": \"\", \" PhD\": \"\", \" II\": \"\", \" IV\": \"\"}\n",
    "    final[\"reviewerName\"] = final[\"reviewerName\"].replace(pre_post_fixes, regex=True)\n",
    "    final[\"reviewerName\"] = final[\"reviewerName\"].apply(name_fl)\n",
    "    \n",
    "    # Handle 'ratingContents' column\n",
    "    final[\"ratingContents\"] = final[\"ratingContents\"].fillna(\"neutral\")\n",
    "    final[\"rcSorted\"] = final[\"ratingContents\"].apply(lambda x: (\",\").join(sorted(x.strip(\"][\").split(\", \"))))\n",
    "    final[\"rcSorted\"] = final[\"rcSorted\"].apply(lambda x: re.sub(r\"'\", \"\", x))\n",
    "    final[\"rcSorted\"] = final[\"rcSorted\"].apply(lambda x: re.sub(r\"[/\\s]\", \"_\", x))  \n",
    "    \n",
    "    # Handle 'ratingContents' column\n",
    "    final[\"distributor\"] = final[\"distributor\"].fillna(\"unknown\")\n",
    "    \n",
    "    # Work with 'releaseDateTheaters', releaseDateStreaming column\n",
    "    final[[\"releaseDateTheaters\", \"releaseDateStreaming\"]] = final[[\"releaseDateTheaters\", \"releaseDateStreaming\"]].astype('datetime64[ns]')\n",
    "\n",
    "    final[\"releaseDate\"] = final[[\"releaseDateTheaters\", \"releaseDateStreaming\"]].min(axis=1, skipna=False)\n",
    "#     final[\"releaseDate\"] = final[\"releaseDate\"].fillna(final[\"releaseDate\"].median())               # MOVED\n",
    "\n",
    "    final[\"releaseYear\"] = final[\"releaseDate\"].dt.year\n",
    "    final[\"releaseMonth\"] = final[\"releaseDate\"].dt.month\n",
    "    \n",
    "    # Compute \"releaseDiff\" column and fill missing values in \"releaseDiff\" and (optional) replace outliers\n",
    "    final[\"releaseDiff\"] = (final[\"releaseDateStreaming\"] - final[\"releaseDateTheaters\"]) / np.timedelta64(1, 'D')\n",
    "    final[\"releaseDiff\"] = final[\"releaseDiff\"].apply(lambda x: abs(x))\n",
    "    final[\"releaseDiff\"] = final[\"releaseDiff\"].fillna(value=0)\n",
    "#     final[\"releaseDiff\"] = final[\"releaseDiff\"].fillna(final[\"releaseDiff\"].median())\n",
    "    # median = final[\"releaseDiff\"].describe()['50%']\n",
    "    # iqr = final[\"releaseDiff\"].describe()['75%'] - final[\"releaseDiff\"].describe()['25%']\n",
    "    # ll = median - (1.5*iqr)\n",
    "    # ul = median + (1.5*iqr)\n",
    "    # final.loc[final[\"releaseDiff\"] > ul, \"releaseDiff\"] = median\n",
    "    # final.loc[final[\"releaseDiff\"] < ll, \"releaseDiff\"] = median\n",
    "    \n",
    "    # Create new feature columns\n",
    "    \n",
    "    # Convert audienceScore to categories  \n",
    "    num_bins_as = 20\n",
    "    final[\"audScoreBins\"] = pd.cut(final['audienceScore'], bins=num_bins_as, labels=False)\n",
    "    \n",
    "    # Convert runtimeMinutes to categories  \n",
    "#     num_bins_rt = 20\n",
    "    final[\"runtimeBins\"] = pd.cut(final['runtimeMinutes'], bins=[0,75,120,180,565], labels=[4,3,2,1])\n",
    "    \n",
    "    # Convert boxOffice to categories  \n",
    "    num_bins_bo = 5\n",
    "    final[\"boxOfficeBins\"] = pd.cut(final['boxOffice'], bins=num_bins_bo, labels=False)\n",
    "    \n",
    "    # Convert releaseDiff to categories  \n",
    "    num_bins_rd = 5\n",
    "    final[\"releaseDiffBins\"] = pd.cut(final['releaseDiff'], bins=[-1, 180, 360, 1000, 40000], labels=[0, 1, 2, 3])\n",
    "\n",
    "    return final"
   ]
  },
  {
   "cell_type": "code",
   "execution_count": 31,
   "id": "395d9b46",
   "metadata": {
    "execution": {
     "iopub.execute_input": "2023-08-10T18:44:40.531252Z",
     "iopub.status.busy": "2023-08-10T18:44:40.530855Z",
     "iopub.status.idle": "2023-08-10T18:44:40.539095Z",
     "shell.execute_reply": "2023-08-10T18:44:40.537696Z"
    },
    "papermill": {
     "duration": 0.107559,
     "end_time": "2023-08-10T18:44:40.541713",
     "exception": false,
     "start_time": "2023-08-10T18:44:40.434154",
     "status": "completed"
    },
    "tags": []
   },
   "outputs": [],
   "source": [
    "def split_train_predict(features, labels, pipeline, test_size=0.25, random_state=42):\n",
    "    # cols = features.columns\n",
    "    if len(features.shape) == 1:\n",
    "        features = features.to_numpy().reshape(-1, 1)  # reshape to 2D array\n",
    "    features = pd.DataFrame(features)\n",
    "    X_train, X_test, y_train, y_test = train_test_split(features, labels, test_size=test_size, random_state=random_state)\n",
    "    pipeline.fit(X_train, y_train)\n",
    "    y_pred = pipeline.predict(X_test)\n",
    "    print(classification_report(y_test, y_pred))\n",
    "    print(confusion_matrix(y_test, y_pred))\n",
    "    return pipeline"
   ]
  },
  {
   "cell_type": "markdown",
   "id": "0b79f217",
   "metadata": {
    "papermill": {
     "duration": 0.0958,
     "end_time": "2023-08-10T18:44:40.733217",
     "exception": false,
     "start_time": "2023-08-10T18:44:40.637417",
     "status": "completed"
    },
    "tags": []
   },
   "source": [
    "### Merge \"train.csv\" file with \"movies.csv\" file  "
   ]
  },
  {
   "cell_type": "code",
   "execution_count": 32,
   "id": "30023699",
   "metadata": {
    "execution": {
     "iopub.execute_input": "2023-08-10T18:44:40.921514Z",
     "iopub.status.busy": "2023-08-10T18:44:40.921094Z",
     "iopub.status.idle": "2023-08-10T18:44:55.290879Z",
     "shell.execute_reply": "2023-08-10T18:44:55.289683Z"
    },
    "papermill": {
     "duration": 14.466091,
     "end_time": "2023-08-10T18:44:55.294137",
     "exception": false,
     "start_time": "2023-08-10T18:44:40.828046",
     "status": "completed"
    },
    "tags": []
   },
   "outputs": [],
   "source": [
    "merged = select_features(load_csv(\"train\"), load_csv(\"movies\"), row_thresh_null=None)"
   ]
  },
  {
   "cell_type": "code",
   "execution_count": 33,
   "id": "46419eb6",
   "metadata": {
    "execution": {
     "iopub.execute_input": "2023-08-10T18:44:55.484314Z",
     "iopub.status.busy": "2023-08-10T18:44:55.483880Z",
     "iopub.status.idle": "2023-08-10T18:44:55.488392Z",
     "shell.execute_reply": "2023-08-10T18:44:55.487636Z"
    },
    "papermill": {
     "duration": 0.102664,
     "end_time": "2023-08-10T18:44:55.490509",
     "exception": false,
     "start_time": "2023-08-10T18:44:55.387845",
     "status": "completed"
    },
    "tags": []
   },
   "outputs": [],
   "source": [
    "# inspect(merged)    # Note missing values in ['audienceScore', 'runtimeMinutes', 'boxOffice'] columns  "
   ]
  },
  {
   "cell_type": "code",
   "execution_count": 34,
   "id": "9a74e547",
   "metadata": {
    "execution": {
     "iopub.execute_input": "2023-08-10T18:44:55.682896Z",
     "iopub.status.busy": "2023-08-10T18:44:55.682056Z",
     "iopub.status.idle": "2023-08-10T18:44:55.774891Z",
     "shell.execute_reply": "2023-08-10T18:44:55.773767Z"
    },
    "papermill": {
     "duration": 0.193341,
     "end_time": "2023-08-10T18:44:55.777817",
     "exception": false,
     "start_time": "2023-08-10T18:44:55.584476",
     "status": "completed"
    },
    "tags": []
   },
   "outputs": [
    {
     "data": {
      "text/plain": [
       "array([6.80e+01, 1.04e+02, 1.43e+07])"
      ]
     },
     "execution_count": 34,
     "metadata": {},
     "output_type": "execute_result"
    }
   ],
   "source": [
    "# Simple Imputer for ['audienceScore', 'runtimeMinutes', 'boxOffice'] columns\n",
    "si = SimpleImputer(strategy='median')\n",
    "merged[['audienceScore', 'runtimeMinutes', 'boxOffice']] = si.fit_transform(merged[['audienceScore', 'runtimeMinutes', 'boxOffice']])\n",
    "si.statistics_"
   ]
  },
  {
   "cell_type": "code",
   "execution_count": 35,
   "id": "639190fb",
   "metadata": {
    "execution": {
     "iopub.execute_input": "2023-08-10T18:44:55.980436Z",
     "iopub.status.busy": "2023-08-10T18:44:55.979988Z",
     "iopub.status.idle": "2023-08-10T18:44:55.994412Z",
     "shell.execute_reply": "2023-08-10T18:44:55.993617Z"
    },
    "papermill": {
     "duration": 0.113727,
     "end_time": "2023-08-10T18:44:55.996987",
     "exception": false,
     "start_time": "2023-08-10T18:44:55.883260",
     "status": "completed"
    },
    "tags": []
   },
   "outputs": [],
   "source": [
    "# Fill 'releaseDate' column with median  \n",
    "merged['releaseDate'] = merged[\"releaseDate\"].fillna(merged[\"releaseDate\"].median())"
   ]
  },
  {
   "cell_type": "code",
   "execution_count": 36,
   "id": "d9017b31",
   "metadata": {
    "execution": {
     "iopub.execute_input": "2023-08-10T18:44:56.214361Z",
     "iopub.status.busy": "2023-08-10T18:44:56.213133Z",
     "iopub.status.idle": "2023-08-10T18:44:57.690939Z",
     "shell.execute_reply": "2023-08-10T18:44:57.688986Z"
    },
    "papermill": {
     "duration": 1.580415,
     "end_time": "2023-08-10T18:44:57.693476",
     "exception": false,
     "start_time": "2023-08-10T18:44:56.113061",
     "status": "completed"
    },
    "tags": []
   },
   "outputs": [
    {
     "name": "stdout",
     "output_type": "stream",
     "text": [
      "Shape of the dataframe: (162758, 30)\n",
      "\n",
      "Columns in the dataframe:\n",
      "Index(['movieid', 'reviewerName', 'isFrequentReviewer', 'reviewText',\n",
      "       'sentiment', 'title', 'audienceScore', 'rating', 'ratingContents',\n",
      "       'releaseDateTheaters', 'releaseDateStreaming', 'runtimeMinutes',\n",
      "       'genre', 'originalLanguage', 'director', 'boxOffice', 'distributor',\n",
      "       'soundType', 'reviewYN', 'reviewWC', 'genreSorted', 'rcSorted',\n",
      "       'releaseDate', 'releaseYear', 'releaseMonth', 'releaseDiff',\n",
      "       'audScoreBins', 'runtimeBins', 'boxOfficeBins', 'releaseDiffBins'],\n",
      "      dtype='object')\n",
      "\n",
      "<class 'pandas.core.frame.DataFrame'>\n",
      "Int64Index: 162758 entries, 0 to 162757\n",
      "Data columns (total 30 columns):\n",
      " #   Column                Non-Null Count   Dtype         \n",
      "---  ------                --------------   -----         \n",
      " 0   movieid               162758 non-null  object        \n",
      " 1   reviewerName          162758 non-null  object        \n",
      " 2   isFrequentReviewer    162758 non-null  bool          \n",
      " 3   reviewText            162758 non-null  object        \n",
      " 4   sentiment             162758 non-null  object        \n",
      " 5   title                 162758 non-null  object        \n",
      " 6   audienceScore         162758 non-null  float64       \n",
      " 7   rating                162758 non-null  object        \n",
      " 8   ratingContents        162758 non-null  object        \n",
      " 9   releaseDateTheaters   146403 non-null  datetime64[ns]\n",
      " 10  releaseDateStreaming  157353 non-null  datetime64[ns]\n",
      " 11  runtimeMinutes        162758 non-null  float64       \n",
      " 12  genre                 162758 non-null  object        \n",
      " 13  originalLanguage      162758 non-null  object        \n",
      " 14  director              162758 non-null  object        \n",
      " 15  boxOffice             162758 non-null  float64       \n",
      " 16  distributor           162758 non-null  object        \n",
      " 17  soundType             93466 non-null   object        \n",
      " 18  reviewYN              162758 non-null  int64         \n",
      " 19  reviewWC              162758 non-null  int64         \n",
      " 20  genreSorted           162758 non-null  object        \n",
      " 21  rcSorted              162758 non-null  object        \n",
      " 22  releaseDate           162758 non-null  datetime64[ns]\n",
      " 23  releaseYear           143073 non-null  float64       \n",
      " 24  releaseMonth          143073 non-null  float64       \n",
      " 25  releaseDiff           162758 non-null  float64       \n",
      " 26  audScoreBins          159922 non-null  float64       \n",
      " 27  runtimeBins           162016 non-null  category      \n",
      " 28  boxOfficeBins         130581 non-null  float64       \n",
      " 29  releaseDiffBins       162758 non-null  category      \n",
      "dtypes: bool(1), category(2), datetime64[ns](3), float64(8), int64(2), object(14)\n",
      "memory usage: 35.2+ MB\n",
      "None\n",
      "\n",
      "Missing values:\n",
      "movieid                     0\n",
      "reviewerName                0\n",
      "isFrequentReviewer          0\n",
      "reviewText                  0\n",
      "sentiment                   0\n",
      "title                       0\n",
      "audienceScore               0\n",
      "rating                      0\n",
      "ratingContents              0\n",
      "releaseDateTheaters     16355\n",
      "releaseDateStreaming     5405\n",
      "runtimeMinutes              0\n",
      "genre                       0\n",
      "originalLanguage            0\n",
      "director                    0\n",
      "boxOffice                   0\n",
      "distributor                 0\n",
      "soundType               69292\n",
      "reviewYN                    0\n",
      "reviewWC                    0\n",
      "genreSorted                 0\n",
      "rcSorted                    0\n",
      "releaseDate                 0\n",
      "releaseYear             19685\n",
      "releaseMonth            19685\n",
      "releaseDiff                 0\n",
      "audScoreBins             2836\n",
      "runtimeBins               742\n",
      "boxOfficeBins           32177\n",
      "releaseDiffBins             0\n",
      "dtype: int64\n"
     ]
    }
   ],
   "source": [
    "# Check out 'merged' df after imputation  \n",
    "inspect(merged)"
   ]
  },
  {
   "cell_type": "code",
   "execution_count": 37,
   "id": "bd37bae1",
   "metadata": {
    "execution": {
     "iopub.execute_input": "2023-08-10T18:44:57.882376Z",
     "iopub.status.busy": "2023-08-10T18:44:57.881611Z",
     "iopub.status.idle": "2023-08-10T18:44:57.953104Z",
     "shell.execute_reply": "2023-08-10T18:44:57.951867Z"
    },
    "papermill": {
     "duration": 0.171007,
     "end_time": "2023-08-10T18:44:57.955981",
     "exception": false,
     "start_time": "2023-08-10T18:44:57.784974",
     "status": "completed"
    },
    "tags": []
   },
   "outputs": [
    {
     "data": {
      "text/html": [
       "<div>\n",
       "<style scoped>\n",
       "    .dataframe tbody tr th:only-of-type {\n",
       "        vertical-align: middle;\n",
       "    }\n",
       "\n",
       "    .dataframe tbody tr th {\n",
       "        vertical-align: top;\n",
       "    }\n",
       "\n",
       "    .dataframe thead th {\n",
       "        text-align: right;\n",
       "    }\n",
       "</style>\n",
       "<table border=\"1\" class=\"dataframe\">\n",
       "  <thead>\n",
       "    <tr style=\"text-align: right;\">\n",
       "      <th></th>\n",
       "      <th>audienceScore</th>\n",
       "      <th>runtimeMinutes</th>\n",
       "      <th>boxOffice</th>\n",
       "    </tr>\n",
       "  </thead>\n",
       "  <tbody>\n",
       "    <tr>\n",
       "      <th>count</th>\n",
       "      <td>162758.000000</td>\n",
       "      <td>162758.000000</td>\n",
       "      <td>1.627580e+05</td>\n",
       "    </tr>\n",
       "    <tr>\n",
       "      <th>mean</th>\n",
       "      <td>65.062565</td>\n",
       "      <td>106.992019</td>\n",
       "      <td>4.160983e+07</td>\n",
       "    </tr>\n",
       "    <tr>\n",
       "      <th>std</th>\n",
       "      <td>19.844000</td>\n",
       "      <td>22.203778</td>\n",
       "      <td>7.932291e+07</td>\n",
       "    </tr>\n",
       "    <tr>\n",
       "      <th>min</th>\n",
       "      <td>0.000000</td>\n",
       "      <td>4.000000</td>\n",
       "      <td>0.000000e+00</td>\n",
       "    </tr>\n",
       "    <tr>\n",
       "      <th>25%</th>\n",
       "      <td>51.000000</td>\n",
       "      <td>93.000000</td>\n",
       "      <td>2.000000e+06</td>\n",
       "    </tr>\n",
       "    <tr>\n",
       "      <th>50%</th>\n",
       "      <td>68.000000</td>\n",
       "      <td>104.000000</td>\n",
       "      <td>1.430000e+07</td>\n",
       "    </tr>\n",
       "    <tr>\n",
       "      <th>75%</th>\n",
       "      <td>81.000000</td>\n",
       "      <td>118.000000</td>\n",
       "      <td>4.200000e+07</td>\n",
       "    </tr>\n",
       "    <tr>\n",
       "      <th>max</th>\n",
       "      <td>100.000000</td>\n",
       "      <td>561.000000</td>\n",
       "      <td>8.584000e+08</td>\n",
       "    </tr>\n",
       "  </tbody>\n",
       "</table>\n",
       "</div>"
      ],
      "text/plain": [
       "       audienceScore  runtimeMinutes     boxOffice\n",
       "count  162758.000000   162758.000000  1.627580e+05\n",
       "mean       65.062565      106.992019  4.160983e+07\n",
       "std        19.844000       22.203778  7.932291e+07\n",
       "min         0.000000        4.000000  0.000000e+00\n",
       "25%        51.000000       93.000000  2.000000e+06\n",
       "50%        68.000000      104.000000  1.430000e+07\n",
       "75%        81.000000      118.000000  4.200000e+07\n",
       "max       100.000000      561.000000  8.584000e+08"
      ]
     },
     "execution_count": 37,
     "metadata": {},
     "output_type": "execute_result"
    }
   ],
   "source": [
    "merged[['audienceScore', 'runtimeMinutes', 'boxOffice']].describe()"
   ]
  },
  {
   "cell_type": "markdown",
   "id": "1bab4ab4",
   "metadata": {
    "papermill": {
     "duration": 0.093233,
     "end_time": "2023-08-10T18:44:58.139169",
     "exception": false,
     "start_time": "2023-08-10T18:44:58.045936",
     "status": "completed"
    },
    "tags": []
   },
   "source": [
    "### EDA releaseDiff  "
   ]
  },
  {
   "cell_type": "code",
   "execution_count": 38,
   "id": "c4052291",
   "metadata": {
    "execution": {
     "iopub.execute_input": "2023-08-10T18:44:58.328683Z",
     "iopub.status.busy": "2023-08-10T18:44:58.328026Z",
     "iopub.status.idle": "2023-08-10T18:44:58.345506Z",
     "shell.execute_reply": "2023-08-10T18:44:58.344704Z"
    },
    "papermill": {
     "duration": 0.114341,
     "end_time": "2023-08-10T18:44:58.347795",
     "exception": false,
     "start_time": "2023-08-10T18:44:58.233454",
     "status": "completed"
    },
    "tags": []
   },
   "outputs": [
    {
     "data": {
      "text/plain": [
       "count    162758.000000\n",
       "mean       1653.469015\n",
       "std        4581.420922\n",
       "min           0.000000\n",
       "25%          65.000000\n",
       "50%         116.000000\n",
       "75%         375.000000\n",
       "max       38922.000000\n",
       "Name: releaseDiff, dtype: float64"
      ]
     },
     "execution_count": 38,
     "metadata": {},
     "output_type": "execute_result"
    }
   ],
   "source": [
    "# abs values\n",
    "merged[\"releaseDiff\"].describe()"
   ]
  },
  {
   "cell_type": "code",
   "execution_count": 39,
   "id": "5a7258a8",
   "metadata": {
    "execution": {
     "iopub.execute_input": "2023-08-10T18:44:58.539936Z",
     "iopub.status.busy": "2023-08-10T18:44:58.539521Z",
     "iopub.status.idle": "2023-08-10T18:44:58.549794Z",
     "shell.execute_reply": "2023-08-10T18:44:58.548759Z"
    },
    "papermill": {
     "duration": 0.109212,
     "end_time": "2023-08-10T18:44:58.552268",
     "exception": false,
     "start_time": "2023-08-10T18:44:58.443056",
     "status": "completed"
    },
    "tags": []
   },
   "outputs": [
    {
     "data": {
      "text/plain": [
       "0    111750\n",
       "3     32557\n",
       "1      9920\n",
       "2      8531\n",
       "Name: releaseDiffBins, dtype: int64"
      ]
     },
     "execution_count": 39,
     "metadata": {},
     "output_type": "execute_result"
    }
   ],
   "source": [
    "merged['releaseDiffBins'].value_counts()"
   ]
  },
  {
   "cell_type": "code",
   "execution_count": 40,
   "id": "2bb3a01c",
   "metadata": {
    "execution": {
     "iopub.execute_input": "2023-08-10T18:44:58.744062Z",
     "iopub.status.busy": "2023-08-10T18:44:58.743663Z",
     "iopub.status.idle": "2023-08-10T18:44:59.113048Z",
     "shell.execute_reply": "2023-08-10T18:44:59.111882Z"
    },
    "papermill": {
     "duration": 0.467861,
     "end_time": "2023-08-10T18:44:59.115451",
     "exception": false,
     "start_time": "2023-08-10T18:44:58.647590",
     "status": "completed"
    },
    "tags": []
   },
   "outputs": [
    {
     "data": {
      "text/plain": [
       "<Axes: xlabel='sentiment', ylabel='releaseDiff'>"
      ]
     },
     "execution_count": 40,
     "metadata": {},
     "output_type": "execute_result"
    },
    {
     "data": {
      "image/png": "[encoded data removed]",
      "text/plain": [
       "<Figure size 640x480 with 1 Axes>"
      ]
     },
     "metadata": {},
     "output_type": "display_data"
    }
   ],
   "source": [
    "sns.boxplot(x=merged['sentiment'], y=merged['releaseDiff'], showfliers=False)"
   ]
  },
  {
   "cell_type": "code",
   "execution_count": 41,
   "id": "e41dbc41",
   "metadata": {
    "execution": {
     "iopub.execute_input": "2023-08-10T18:44:59.308416Z",
     "iopub.status.busy": "2023-08-10T18:44:59.307930Z",
     "iopub.status.idle": "2023-08-10T18:45:00.032631Z",
     "shell.execute_reply": "2023-08-10T18:45:00.031360Z"
    },
    "papermill": {
     "duration": 0.821809,
     "end_time": "2023-08-10T18:45:00.035253",
     "exception": false,
     "start_time": "2023-08-10T18:44:59.213444",
     "status": "completed"
    },
    "tags": []
   },
   "outputs": [
    {
     "data": {
      "text/plain": [
       "<seaborn.axisgrid.FacetGrid at 0x7b523177b280>"
      ]
     },
     "execution_count": 41,
     "metadata": {},
     "output_type": "execute_result"
    },
    {
     "data": {
      "image/png": "[encoded data removed]",
      "text/plain": [
       "<Figure size 500x500 with 1 Axes>"
      ]
     },
     "metadata": {},
     "output_type": "display_data"
    }
   ],
   "source": [
    "sns.displot(merged['releaseDiffBins'])"
   ]
  },
  {
   "cell_type": "code",
   "execution_count": 42,
   "id": "09986784",
   "metadata": {
    "execution": {
     "iopub.execute_input": "2023-08-10T18:45:00.225736Z",
     "iopub.status.busy": "2023-08-10T18:45:00.225301Z",
     "iopub.status.idle": "2023-08-10T18:45:00.244875Z",
     "shell.execute_reply": "2023-08-10T18:45:00.243907Z"
    },
    "papermill": {
     "duration": 0.119068,
     "end_time": "2023-08-10T18:45:00.246952",
     "exception": false,
     "start_time": "2023-08-10T18:45:00.127884",
     "status": "completed"
    },
    "tags": []
   },
   "outputs": [
    {
     "data": {
      "text/plain": [
       "POSITIVE    34446\n",
       "NEGATIVE    16562\n",
       "Name: sentiment, dtype: int64"
      ]
     },
     "execution_count": 42,
     "metadata": {},
     "output_type": "execute_result"
    }
   ],
   "source": [
    "merged['sentiment'].loc[merged['releaseDiffBins'] > 0].value_counts()"
   ]
  },
  {
   "cell_type": "code",
   "execution_count": 43,
   "id": "8e7ecedb",
   "metadata": {
    "execution": {
     "iopub.execute_input": "2023-08-10T18:45:00.434163Z",
     "iopub.status.busy": "2023-08-10T18:45:00.433683Z",
     "iopub.status.idle": "2023-08-10T18:45:00.449789Z",
     "shell.execute_reply": "2023-08-10T18:45:00.448421Z"
    },
    "papermill": {
     "duration": 0.113326,
     "end_time": "2023-08-10T18:45:00.452312",
     "exception": false,
     "start_time": "2023-08-10T18:45:00.338986",
     "status": "completed"
    },
    "tags": []
   },
   "outputs": [
    {
     "data": {
      "text/plain": [
       "count     162758\n",
       "unique         4\n",
       "top            0\n",
       "freq      111750\n",
       "Name: releaseDiffBins, dtype: int64"
      ]
     },
     "execution_count": 43,
     "metadata": {},
     "output_type": "execute_result"
    }
   ],
   "source": [
    "merged['releaseDiffBins'].describe()"
   ]
  },
  {
   "cell_type": "markdown",
   "id": "0b96f590",
   "metadata": {
    "papermill": {
     "duration": 0.093355,
     "end_time": "2023-08-10T18:45:00.639203",
     "exception": false,
     "start_time": "2023-08-10T18:45:00.545848",
     "status": "completed"
    },
    "tags": []
   },
   "source": [
    "### EDA 'distributor'  "
   ]
  },
  {
   "cell_type": "code",
   "execution_count": 44,
   "id": "51ce1402",
   "metadata": {
    "execution": {
     "iopub.execute_input": "2023-08-10T18:45:00.893980Z",
     "iopub.status.busy": "2023-08-10T18:45:00.893544Z",
     "iopub.status.idle": "2023-08-10T18:45:00.930217Z",
     "shell.execute_reply": "2023-08-10T18:45:00.928911Z"
    },
    "papermill": {
     "duration": 0.132321,
     "end_time": "2023-08-10T18:45:00.932676",
     "exception": false,
     "start_time": "2023-08-10T18:45:00.800355",
     "status": "completed"
    },
    "tags": []
   },
   "outputs": [
    {
     "data": {
      "text/plain": [
       "unknown                              20489\n",
       "Universal Pictures                    8847\n",
       "Warner Bros. Pictures                 8722\n",
       "Paramount Pictures                    7773\n",
       "20th Century Fox                      7007\n",
       "                                     ...  \n",
       "Almi Pictures                            1\n",
       "Koch Lorber                              1\n",
       "Magic Lamp                               1\n",
       "Fine Line Features, Miramax Films        1\n",
       "American Film Co.                        1\n",
       "Name: distributor, Length: 1796, dtype: int64"
      ]
     },
     "execution_count": 44,
     "metadata": {},
     "output_type": "execute_result"
    }
   ],
   "source": [
    "merged[\"distributor\"].value_counts()"
   ]
  },
  {
   "cell_type": "code",
   "execution_count": 45,
   "id": "1fab644b",
   "metadata": {
    "execution": {
     "iopub.execute_input": "2023-08-10T18:45:01.121397Z",
     "iopub.status.busy": "2023-08-10T18:45:01.121004Z",
     "iopub.status.idle": "2023-08-10T18:45:01.142230Z",
     "shell.execute_reply": "2023-08-10T18:45:01.140789Z"
    },
    "papermill": {
     "duration": 0.120033,
     "end_time": "2023-08-10T18:45:01.144736",
     "exception": false,
     "start_time": "2023-08-10T18:45:01.024703",
     "status": "completed"
    },
    "tags": []
   },
   "outputs": [
    {
     "data": {
      "text/plain": [
       "count    162758.000000\n",
       "mean        106.992019\n",
       "std          22.203778\n",
       "min           4.000000\n",
       "25%          93.000000\n",
       "50%         104.000000\n",
       "75%         118.000000\n",
       "max         561.000000\n",
       "Name: runtimeMinutes, dtype: float64"
      ]
     },
     "execution_count": 45,
     "metadata": {},
     "output_type": "execute_result"
    }
   ],
   "source": [
    "merged[\"runtimeMinutes\"].describe()"
   ]
  },
  {
   "cell_type": "code",
   "execution_count": 46,
   "id": "226bcc20",
   "metadata": {
    "execution": {
     "iopub.execute_input": "2023-08-10T18:45:01.336337Z",
     "iopub.status.busy": "2023-08-10T18:45:01.335864Z",
     "iopub.status.idle": "2023-08-10T18:45:01.756550Z",
     "shell.execute_reply": "2023-08-10T18:45:01.755233Z"
    },
    "papermill": {
     "duration": 0.51829,
     "end_time": "2023-08-10T18:45:01.759308",
     "exception": false,
     "start_time": "2023-08-10T18:45:01.241018",
     "status": "completed"
    },
    "tags": []
   },
   "outputs": [
    {
     "data": {
      "text/plain": [
       "<Axes: xlabel='sentiment', ylabel='runtimeMinutes'>"
      ]
     },
     "execution_count": 46,
     "metadata": {},
     "output_type": "execute_result"
    },
    {
     "data": {
      "image/png": "[encoded data removed]",
      "text/plain": [
       "<Figure size 640x480 with 1 Axes>"
      ]
     },
     "metadata": {},
     "output_type": "display_data"
    }
   ],
   "source": [
    "sns.boxplot(y=merged[\"runtimeMinutes\"], x=merged[\"sentiment\"])"
   ]
  },
  {
   "cell_type": "code",
   "execution_count": 47,
   "id": "e821dc65",
   "metadata": {
    "execution": {
     "iopub.execute_input": "2023-08-10T18:45:01.942579Z",
     "iopub.status.busy": "2023-08-10T18:45:01.942071Z",
     "iopub.status.idle": "2023-08-10T18:45:02.573234Z",
     "shell.execute_reply": "2023-08-10T18:45:02.571855Z"
    },
    "papermill": {
     "duration": 0.726849,
     "end_time": "2023-08-10T18:45:02.576088",
     "exception": false,
     "start_time": "2023-08-10T18:45:01.849239",
     "status": "completed"
    },
    "tags": []
   },
   "outputs": [
    {
     "name": "stdout",
     "output_type": "stream",
     "text": [
      "0.0    121579\n",
      "1.0      6474\n",
      "2.0      1819\n",
      "3.0       433\n",
      "4.0       276\n",
      "Name: boxOfficeBins, dtype: int64\n"
     ]
    },
    {
     "data": {
      "text/plain": [
       "<seaborn.axisgrid.FacetGrid at 0x7b523296ff10>"
      ]
     },
     "execution_count": 47,
     "metadata": {},
     "output_type": "execute_result"
    },
    {
     "data": {
      "image/png": "[encoded data removed]",
      "text/plain": [
       "<Figure size 500x500 with 1 Axes>"
      ]
     },
     "metadata": {},
     "output_type": "display_data"
    }
   ],
   "source": [
    "print(merged[\"boxOfficeBins\"].value_counts())\n",
    "sns.displot(merged[\"boxOfficeBins\"])"
   ]
  },
  {
   "cell_type": "code",
   "execution_count": 48,
   "id": "9e3664f5",
   "metadata": {
    "execution": {
     "iopub.execute_input": "2023-08-10T18:45:02.774960Z",
     "iopub.status.busy": "2023-08-10T18:45:02.774592Z",
     "iopub.status.idle": "2023-08-10T18:45:02.783871Z",
     "shell.execute_reply": "2023-08-10T18:45:02.782599Z"
    },
    "papermill": {
     "duration": 0.111797,
     "end_time": "2023-08-10T18:45:02.786298",
     "exception": false,
     "start_time": "2023-08-10T18:45:02.674501",
     "status": "completed"
    },
    "tags": []
   },
   "outputs": [
    {
     "data": {
      "text/plain": [
       "0    Henry Selick’s first movie since ’s Coraline. ...\n",
       "1    With a cast that reads like the Vogue Oscar pa...\n",
       "2    Creed II does not give us anything but another...\n",
       "3    I know what you're thinking, but this is no Li...\n",
       "4    Director Fernando Meirelles tells the story wi...\n",
       "Name: reviewText, dtype: object"
      ]
     },
     "execution_count": 48,
     "metadata": {},
     "output_type": "execute_result"
    }
   ],
   "source": [
    "merged[\"reviewText\"].head()"
   ]
  },
  {
   "cell_type": "code",
   "execution_count": 49,
   "id": "b1a77b86",
   "metadata": {
    "execution": {
     "iopub.execute_input": "2023-08-10T18:45:02.987460Z",
     "iopub.status.busy": "2023-08-10T18:45:02.987030Z",
     "iopub.status.idle": "2023-08-10T18:45:02.994569Z",
     "shell.execute_reply": "2023-08-10T18:45:02.993443Z"
    },
    "papermill": {
     "duration": 0.110598,
     "end_time": "2023-08-10T18:45:02.997064",
     "exception": false,
     "start_time": "2023-08-10T18:45:02.886466",
     "status": "completed"
    },
    "tags": []
   },
   "outputs": [
    {
     "data": {
      "text/plain": [
       "6447"
      ]
     },
     "execution_count": 49,
     "metadata": {},
     "output_type": "execute_result"
    }
   ],
   "source": [
    "merged[\"reviewYN\"].sum()"
   ]
  },
  {
   "cell_type": "code",
   "execution_count": 50,
   "id": "ca22c877",
   "metadata": {
    "execution": {
     "iopub.execute_input": "2023-08-10T18:45:03.198544Z",
     "iopub.status.busy": "2023-08-10T18:45:03.197486Z",
     "iopub.status.idle": "2023-08-10T18:45:03.207243Z",
     "shell.execute_reply": "2023-08-10T18:45:03.206065Z"
    },
    "papermill": {
     "duration": 0.113327,
     "end_time": "2023-08-10T18:45:03.209476",
     "exception": false,
     "start_time": "2023-08-10T18:45:03.096149",
     "status": "completed"
    },
    "tags": []
   },
   "outputs": [
    {
     "data": {
      "text/plain": [
       "0    11\n",
       "1    24\n",
       "2    22\n",
       "3    34\n",
       "4    20\n",
       "Name: reviewWC, dtype: int64"
      ]
     },
     "execution_count": 50,
     "metadata": {},
     "output_type": "execute_result"
    }
   ],
   "source": [
    "merged[\"reviewWC\"].head()"
   ]
  },
  {
   "cell_type": "code",
   "execution_count": 51,
   "id": "5f2d215b",
   "metadata": {
    "execution": {
     "iopub.execute_input": "2023-08-10T18:45:03.406397Z",
     "iopub.status.busy": "2023-08-10T18:45:03.405478Z",
     "iopub.status.idle": "2023-08-10T18:45:03.424932Z",
     "shell.execute_reply": "2023-08-10T18:45:03.423643Z"
    },
    "papermill": {
     "duration": 0.119423,
     "end_time": "2023-08-10T18:45:03.427324",
     "exception": false,
     "start_time": "2023-08-10T18:45:03.307901",
     "status": "completed"
    },
    "tags": []
   },
   "outputs": [
    {
     "data": {
      "text/plain": [
       "count    162758.000000\n",
       "mean         21.013707\n",
       "std          10.216532\n",
       "min           1.000000\n",
       "25%          14.000000\n",
       "50%          21.000000\n",
       "75%          28.000000\n",
       "max          54.000000\n",
       "Name: reviewWC, dtype: float64"
      ]
     },
     "execution_count": 51,
     "metadata": {},
     "output_type": "execute_result"
    }
   ],
   "source": [
    "merged[\"reviewWC\"].describe()"
   ]
  },
  {
   "cell_type": "code",
   "execution_count": 52,
   "id": "54cc2406",
   "metadata": {
    "execution": {
     "iopub.execute_input": "2023-08-10T18:45:03.617528Z",
     "iopub.status.busy": "2023-08-10T18:45:03.617036Z",
     "iopub.status.idle": "2023-08-10T18:45:04.508086Z",
     "shell.execute_reply": "2023-08-10T18:45:04.506845Z"
    },
    "papermill": {
     "duration": 0.988924,
     "end_time": "2023-08-10T18:45:04.510899",
     "exception": false,
     "start_time": "2023-08-10T18:45:03.521975",
     "status": "completed"
    },
    "tags": []
   },
   "outputs": [
    {
     "data": {
      "text/plain": [
       "<Axes: xlabel='reviewWC', ylabel='Count'>"
      ]
     },
     "execution_count": 52,
     "metadata": {},
     "output_type": "execute_result"
    },
    {
     "data": {
      "image/png": "[encoded data removed]",
      "text/plain": [
       "<Figure size 640x480 with 1 Axes>"
      ]
     },
     "metadata": {},
     "output_type": "display_data"
    }
   ],
   "source": [
    "sns.histplot(merged[\"reviewWC\"])"
   ]
  },
  {
   "cell_type": "code",
   "execution_count": 53,
   "id": "cd7554b6",
   "metadata": {
    "execution": {
     "iopub.execute_input": "2023-08-10T18:45:04.715823Z",
     "iopub.status.busy": "2023-08-10T18:45:04.715053Z",
     "iopub.status.idle": "2023-08-10T18:45:04.746189Z",
     "shell.execute_reply": "2023-08-10T18:45:04.745119Z"
    },
    "papermill": {
     "duration": 0.138236,
     "end_time": "2023-08-10T18:45:04.748708",
     "exception": false,
     "start_time": "2023-08-10T18:45:04.610472",
     "status": "completed"
    },
    "tags": []
   },
   "outputs": [
    {
     "data": {
      "text/plain": [
       "R          60248\n",
       "unknown    44587\n",
       "PG-13      42697\n",
       "PG         13669\n",
       "TV14         947\n",
       "NC-17        285\n",
       "TVPG         281\n",
       "TVMA          44\n",
       "Name: rating, dtype: int64"
      ]
     },
     "execution_count": 53,
     "metadata": {},
     "output_type": "execute_result"
    }
   ],
   "source": [
    "merged['rating'].value_counts()"
   ]
  },
  {
   "cell_type": "code",
   "execution_count": 54,
   "id": "de9a2a55",
   "metadata": {
    "execution": {
     "iopub.execute_input": "2023-08-10T18:45:04.954528Z",
     "iopub.status.busy": "2023-08-10T18:45:04.954110Z",
     "iopub.status.idle": "2023-08-10T18:45:04.964676Z",
     "shell.execute_reply": "2023-08-10T18:45:04.963944Z"
    },
    "papermill": {
     "duration": 0.116073,
     "end_time": "2023-08-10T18:45:04.966884",
     "exception": false,
     "start_time": "2023-08-10T18:45:04.850811",
     "status": "completed"
    },
    "tags": []
   },
   "outputs": [
    {
     "data": {
      "text/plain": [
       "False    113189\n",
       "True      49569\n",
       "Name: isFrequentReviewer, dtype: int64"
      ]
     },
     "execution_count": 54,
     "metadata": {},
     "output_type": "execute_result"
    }
   ],
   "source": [
    "merged['isFrequentReviewer'].value_counts()"
   ]
  },
  {
   "cell_type": "code",
   "execution_count": 55,
   "id": "05d50610",
   "metadata": {
    "execution": {
     "iopub.execute_input": "2023-08-10T18:45:05.190342Z",
     "iopub.status.busy": "2023-08-10T18:45:05.189412Z",
     "iopub.status.idle": "2023-08-10T18:45:05.198900Z",
     "shell.execute_reply": "2023-08-10T18:45:05.197857Z"
    },
    "papermill": {
     "duration": 0.125882,
     "end_time": "2023-08-10T18:45:05.201224",
     "exception": false,
     "start_time": "2023-08-10T18:45:05.075342",
     "status": "completed"
    },
    "tags": []
   },
   "outputs": [
    {
     "data": {
      "text/plain": [
       "0      Benjamin Henry\n",
       "1       Felicia Lopez\n",
       "2     Charles Burgess\n",
       "3        Ryan Barrett\n",
       "4    Alexander Glover\n",
       "Name: reviewerName, dtype: object"
      ]
     },
     "execution_count": 55,
     "metadata": {},
     "output_type": "execute_result"
    }
   ],
   "source": [
    "merged[\"reviewerName\"].head()"
   ]
  },
  {
   "cell_type": "code",
   "execution_count": 56,
   "id": "c44905b0",
   "metadata": {
    "execution": {
     "iopub.execute_input": "2023-08-10T18:45:05.422003Z",
     "iopub.status.busy": "2023-08-10T18:45:05.421275Z",
     "iopub.status.idle": "2023-08-10T18:45:05.437581Z",
     "shell.execute_reply": "2023-08-10T18:45:05.435785Z"
    },
    "papermill": {
     "duration": 0.13144,
     "end_time": "2023-08-10T18:45:05.441217",
     "exception": false,
     "start_time": "2023-08-10T18:45:05.309777",
     "status": "completed"
    },
    "tags": []
   },
   "outputs": [
    {
     "data": {
      "text/plain": [
       "14300000.0    32327\n",
       "2000000.0       922\n",
       "1100000.0       891\n",
       "1000000.0       834\n",
       "1200000.0       802\n",
       "              ...  \n",
       "58500.0           1\n",
       "500800.0          1\n",
       "265600.0          1\n",
       "292500.0          1\n",
       "799400.0          1\n",
       "Name: boxOffice, Length: 3819, dtype: int64"
      ]
     },
     "execution_count": 56,
     "metadata": {},
     "output_type": "execute_result"
    }
   ],
   "source": [
    "merged['boxOffice'].value_counts()"
   ]
  },
  {
   "cell_type": "code",
   "execution_count": 57,
   "id": "237f81cd",
   "metadata": {
    "execution": {
     "iopub.execute_input": "2023-08-10T18:45:05.655595Z",
     "iopub.status.busy": "2023-08-10T18:45:05.654354Z",
     "iopub.status.idle": "2023-08-10T18:45:05.660041Z",
     "shell.execute_reply": "2023-08-10T18:45:05.659254Z"
    },
    "papermill": {
     "duration": 0.111539,
     "end_time": "2023-08-10T18:45:05.662283",
     "exception": false,
     "start_time": "2023-08-10T18:45:05.550744",
     "status": "completed"
    },
    "tags": []
   },
   "outputs": [],
   "source": [
    "# Check correlation between 'boxOffice' and ''sentiment'\n",
    "# bo_df = merged.copy()\n",
    "# print(bo_df[\"boxOffice\"])\n",
    "# bo_df[\"boxOffice\"] = bo_df[\"boxOffice\"].str[1:]\n",
    "# bo_df[\"boxOffice\"] = bo_df[\"boxOffice\"].replace(to_replace={\"M\": \"*1000000\", \"K\": \"*1000\"}, regex=True)\n",
    "# bo_df[\"boxOffice\"] = bo_df[\"boxOffice\"].loc[bo_df[\"boxOffice\"].notnull()].apply(lambda x: eval(str(x)))\n",
    "# bo_df[\"boxOffice\"] = bo_df[\"boxOffice\"].fillna(bo_df[\"boxOffice\"].median())\n",
    "# bo_df[\"boxOffice\"].describe()"
   ]
  },
  {
   "cell_type": "code",
   "execution_count": 58,
   "id": "94ade96f",
   "metadata": {
    "execution": {
     "iopub.execute_input": "2023-08-10T18:45:05.865184Z",
     "iopub.status.busy": "2023-08-10T18:45:05.864699Z",
     "iopub.status.idle": "2023-08-10T18:45:05.869651Z",
     "shell.execute_reply": "2023-08-10T18:45:05.868485Z"
    },
    "papermill": {
     "duration": 0.1108,
     "end_time": "2023-08-10T18:45:05.871862",
     "exception": false,
     "start_time": "2023-08-10T18:45:05.761062",
     "status": "completed"
    },
    "tags": []
   },
   "outputs": [],
   "source": [
    "# median = bo_df[\"boxOffice\"].describe()['50%']\n",
    "# iqr = bo_df[\"boxOffice\"].describe()['75%'] - bo_df[\"boxOffice\"].describe()['25%']\n",
    "# median, iqr"
   ]
  },
  {
   "cell_type": "code",
   "execution_count": 59,
   "id": "09fcd2f5",
   "metadata": {
    "execution": {
     "iopub.execute_input": "2023-08-10T18:45:06.073631Z",
     "iopub.status.busy": "2023-08-10T18:45:06.072778Z",
     "iopub.status.idle": "2023-08-10T18:45:06.077337Z",
     "shell.execute_reply": "2023-08-10T18:45:06.076622Z"
    },
    "papermill": {
     "duration": 0.110658,
     "end_time": "2023-08-10T18:45:06.079645",
     "exception": false,
     "start_time": "2023-08-10T18:45:05.968987",
     "status": "completed"
    },
    "tags": []
   },
   "outputs": [],
   "source": [
    "# ll = median - (1.5*iqr)\n",
    "# ul = median + (1.5*iqr)\n",
    "# ll, ul"
   ]
  },
  {
   "cell_type": "code",
   "execution_count": 60,
   "id": "58289264",
   "metadata": {
    "execution": {
     "iopub.execute_input": "2023-08-10T18:45:06.289739Z",
     "iopub.status.busy": "2023-08-10T18:45:06.289247Z",
     "iopub.status.idle": "2023-08-10T18:45:06.294640Z",
     "shell.execute_reply": "2023-08-10T18:45:06.293389Z"
    },
    "papermill": {
     "duration": 0.104927,
     "end_time": "2023-08-10T18:45:06.296861",
     "exception": false,
     "start_time": "2023-08-10T18:45:06.191934",
     "status": "completed"
    },
    "tags": []
   },
   "outputs": [],
   "source": [
    "# bo_df[\"boxOffice\"].mean()"
   ]
  },
  {
   "cell_type": "code",
   "execution_count": 61,
   "id": "8b3597cc",
   "metadata": {
    "execution": {
     "iopub.execute_input": "2023-08-10T18:45:06.493643Z",
     "iopub.status.busy": "2023-08-10T18:45:06.493102Z",
     "iopub.status.idle": "2023-08-10T18:45:06.498564Z",
     "shell.execute_reply": "2023-08-10T18:45:06.497216Z"
    },
    "papermill": {
     "duration": 0.107237,
     "end_time": "2023-08-10T18:45:06.500822",
     "exception": false,
     "start_time": "2023-08-10T18:45:06.393585",
     "status": "completed"
    },
    "tags": []
   },
   "outputs": [],
   "source": [
    "# bo_df.loc[bo_df[\"boxOffice\"] > ul, \"boxOffice\"] = median\n",
    "# bo_df[\"boxOffice\"].mean()"
   ]
  },
  {
   "cell_type": "code",
   "execution_count": 62,
   "id": "4c74e68b",
   "metadata": {
    "execution": {
     "iopub.execute_input": "2023-08-10T18:45:06.696074Z",
     "iopub.status.busy": "2023-08-10T18:45:06.695640Z",
     "iopub.status.idle": "2023-08-10T18:45:06.701292Z",
     "shell.execute_reply": "2023-08-10T18:45:06.699845Z"
    },
    "papermill": {
     "duration": 0.104851,
     "end_time": "2023-08-10T18:45:06.703812",
     "exception": false,
     "start_time": "2023-08-10T18:45:06.598961",
     "status": "completed"
    },
    "tags": []
   },
   "outputs": [],
   "source": [
    "# bo_df[\"boxOffice\"].min(), bo_df[\"boxOffice\"].max()"
   ]
  },
  {
   "cell_type": "code",
   "execution_count": 63,
   "id": "0361fb02",
   "metadata": {
    "execution": {
     "iopub.execute_input": "2023-08-10T18:45:06.898277Z",
     "iopub.status.busy": "2023-08-10T18:45:06.897802Z",
     "iopub.status.idle": "2023-08-10T18:45:06.903530Z",
     "shell.execute_reply": "2023-08-10T18:45:06.902300Z"
    },
    "papermill": {
     "duration": 0.105923,
     "end_time": "2023-08-10T18:45:06.905609",
     "exception": false,
     "start_time": "2023-08-10T18:45:06.799686",
     "status": "completed"
    },
    "tags": []
   },
   "outputs": [],
   "source": [
    "# sns.boxplot(x=\"sentiment\", y=\"boxOffice\", data=bo_df, showfliers = False)"
   ]
  },
  {
   "cell_type": "markdown",
   "id": "fedeb24c",
   "metadata": {
    "papermill": {
     "duration": 0.096514,
     "end_time": "2023-08-10T18:45:07.097291",
     "exception": false,
     "start_time": "2023-08-10T18:45:07.000777",
     "status": "completed"
    },
    "tags": []
   },
   "source": [
    "## EDA  "
   ]
  },
  {
   "cell_type": "markdown",
   "id": "15ad38d0",
   "metadata": {
    "papermill": {
     "duration": 0.095271,
     "end_time": "2023-08-10T18:45:07.290489",
     "exception": false,
     "start_time": "2023-08-10T18:45:07.195218",
     "status": "completed"
    },
    "tags": []
   },
   "source": [
    "### An interesting finding through exploration  \n",
    "  \n",
    "* OHE and TfidfVectorizer on director column give the same result when ngram_range(2,2) is used (see code below)!"
   ]
  },
  {
   "cell_type": "code",
   "execution_count": 64,
   "id": "e661cf6f",
   "metadata": {
    "execution": {
     "iopub.execute_input": "2023-08-10T18:45:07.485332Z",
     "iopub.status.busy": "2023-08-10T18:45:07.484921Z",
     "iopub.status.idle": "2023-08-10T18:45:20.454832Z",
     "shell.execute_reply": "2023-08-10T18:45:20.453238Z"
    },
    "papermill": {
     "duration": 13.073015,
     "end_time": "2023-08-10T18:45:20.457338",
     "exception": false,
     "start_time": "2023-08-10T18:45:07.384323",
     "status": "completed"
    },
    "tags": []
   },
   "outputs": [
    {
     "name": "stdout",
     "output_type": "stream",
     "text": [
      "(162758,)\n",
      "9476\n",
      "(162758, 9476) <class 'numpy.ndarray'>\n",
      "(162758,)\n",
      "(162758, 9476) <class 'numpy.ndarray'>\n",
      "True\n"
     ]
    }
   ],
   "source": [
    "# Compare OHE and TfidfVectorizer on director column\n",
    "\n",
    "dirs = merged[\"director\"].copy()\n",
    "print(dirs.shape)\n",
    "dirs_uniq = merged[\"director\"].unique()\n",
    "print(len(dirs_uniq))\n",
    "\n",
    "du_ohe = OneHotEncoder(handle_unknown=\"ignore\", sparse_output=False).fit_transform(dirs.to_numpy().reshape(-1, 1))\n",
    "print(du_ohe.shape, type(du_ohe))\n",
    "\n",
    "dirs_2 = merged[\"director\"].copy()\n",
    "print(dirs_2.shape)\n",
    "du_tfidf = TfidfVectorizer(ngram_range=(2,2)).fit_transform(dirs_2).toarray()\n",
    "print(du_tfidf.shape, type(du_tfidf))\n",
    "\n",
    "print(np.array_equal(du_ohe, du_tfidf))"
   ]
  },
  {
   "cell_type": "code",
   "execution_count": 65,
   "id": "65f592f6",
   "metadata": {
    "execution": {
     "iopub.execute_input": "2023-08-10T18:45:20.652380Z",
     "iopub.status.busy": "2023-08-10T18:45:20.652002Z",
     "iopub.status.idle": "2023-08-10T18:45:20.993487Z",
     "shell.execute_reply": "2023-08-10T18:45:20.992258Z"
    },
    "papermill": {
     "duration": 0.441542,
     "end_time": "2023-08-10T18:45:20.995970",
     "exception": false,
     "start_time": "2023-08-10T18:45:20.554428",
     "status": "completed"
    },
    "tags": []
   },
   "outputs": [
    {
     "name": "stdout",
     "output_type": "stream",
     "text": [
      "0       Bennie Basso\n",
      "1         Alma White\n",
      "2       Bobby Oleary\n",
      "3    Eric Hutcherson\n",
      "4         John Trent\n",
      "Name: director, dtype: object\n"
     ]
    },
    {
     "data": {
      "text/plain": [
       "2    162758\n",
       "Name: director, dtype: int64"
      ]
     },
     "execution_count": 65,
     "metadata": {},
     "output_type": "execute_result"
    }
   ],
   "source": [
    "print(dirs.head())\n",
    "d = dirs.copy()\n",
    "d[\"name_len\"] = d.apply(lambda x: len(x.split()))\n",
    "d[\"name_len\"].value_counts()"
   ]
  },
  {
   "cell_type": "code",
   "execution_count": 66,
   "id": "e004e1e2",
   "metadata": {
    "execution": {
     "iopub.execute_input": "2023-08-10T18:45:21.183964Z",
     "iopub.status.busy": "2023-08-10T18:45:21.183577Z",
     "iopub.status.idle": "2023-08-10T18:45:21.190405Z",
     "shell.execute_reply": "2023-08-10T18:45:21.189350Z"
    },
    "papermill": {
     "duration": 0.104794,
     "end_time": "2023-08-10T18:45:21.192862",
     "exception": false,
     "start_time": "2023-08-10T18:45:21.088068",
     "status": "completed"
    },
    "tags": []
   },
   "outputs": [],
   "source": [
    "# Compare OHE and TfidfVectorizer on reviewerName column\n",
    "# Note: reviewerName column has salutations like \"Mr. \" etc, and some names appear middle names. Therefore needs cleaning\n",
    "\n",
    "# def name_fl(name):\n",
    "#     l = name.split()\n",
    "#     n = ' '.join((l[0], l[-1]))\n",
    "#     return n\n",
    "\n",
    "# reviewers = merged[\"reviewerName\"].copy()\n",
    "# reviewers = pd.DataFrame(reviewers)\n",
    "# reviewers = reviewers.replace({\"Mr. \": \"\", \"Mrs. \": \"\"}, regex=True)\n",
    "# reviewers[\"reviewerName\"] = reviewers[\"reviewerName\"].apply(name_fl)\n",
    "# print(reviewers.shape)\n",
    "\n",
    "# reviewers_uniq = merged[\"reviewerName\"].unique()\n",
    "# print(len(reviewers_uniq))\n",
    "\n",
    "# reviewers_ohe = OneHotEncoder(handle_unknown=\"ignore\", sparse_output=False).fit_transform(reviewers.to_numpy().reshape(-1, 1))\n",
    "# print(reviewers_ohe.shape, type(reviewers_ohe))\n",
    "\n",
    "# reviewers_2 = merged[\"reviewerName\"].copy()\n",
    "# reviewers_2 = pd.DataFrame(reviewers_2)\n",
    "# print(reviewers_2.head())\n",
    "# reviewers_2 = reviewers_2.replace({\"Mr. \": \"\", \"Mrs. \": \"\"}, regex=True)\n",
    "# reviewers_2[\"reviewerName\"] = reviewers_2[\"reviewerName\"].apply(name_fl)\n",
    "# reviewers_2 = reviewers_2.squeeze()\n",
    "# print(reviewers_2.shape)\n",
    "# print(reviewers_2.head())\n",
    "\n",
    "# reviewers_tfidf = TfidfVectorizer(ngram_range=(2,2)).fit_transform(reviewers_2).toarray()\n",
    "# print(reviewers_tfidf.shape, type(reviewers_tfidf))\n",
    "\n",
    "# print(np.array_equal(reviewers_ohe, reviewers_tfidf))"
   ]
  },
  {
   "cell_type": "code",
   "execution_count": 67,
   "id": "b265b9fe",
   "metadata": {
    "execution": {
     "iopub.execute_input": "2023-08-10T18:45:21.399911Z",
     "iopub.status.busy": "2023-08-10T18:45:21.399469Z",
     "iopub.status.idle": "2023-08-10T18:45:21.404723Z",
     "shell.execute_reply": "2023-08-10T18:45:21.403446Z"
    },
    "papermill": {
     "duration": 0.110037,
     "end_time": "2023-08-10T18:45:21.407368",
     "exception": false,
     "start_time": "2023-08-10T18:45:21.297331",
     "status": "completed"
    },
    "tags": []
   },
   "outputs": [],
   "source": [
    "# def name_fl(name):\n",
    "#     l = name.split()\n",
    "#     n = ' '.join((l[0], l[-1]))\n",
    "#     return n"
   ]
  },
  {
   "cell_type": "code",
   "execution_count": 68,
   "id": "a27b5d5c",
   "metadata": {
    "execution": {
     "iopub.execute_input": "2023-08-10T18:45:21.610533Z",
     "iopub.status.busy": "2023-08-10T18:45:21.609815Z",
     "iopub.status.idle": "2023-08-10T18:45:21.613711Z",
     "shell.execute_reply": "2023-08-10T18:45:21.612990Z"
    },
    "papermill": {
     "duration": 0.107306,
     "end_time": "2023-08-10T18:45:21.615719",
     "exception": false,
     "start_time": "2023-08-10T18:45:21.508413",
     "status": "completed"
    },
    "tags": []
   },
   "outputs": [],
   "source": [
    "# print(reviewers.head())\n",
    "# r = pd.DataFrame(reviewers.copy())\n",
    "# r[\"reviewerName\"] = r[\"reviewerName\"].apply(name_fl)\n",
    "# r[\"name_len\"] = r[\"reviewerName\"].apply(lambda x: len(x.split()))\n",
    "# print(r.shape)\n",
    "# print(r.head())\n",
    "# print(r['name_len'].value_counts())"
   ]
  },
  {
   "cell_type": "code",
   "execution_count": 69,
   "id": "ed0e64d0",
   "metadata": {
    "execution": {
     "iopub.execute_input": "2023-08-10T18:45:21.815469Z",
     "iopub.status.busy": "2023-08-10T18:45:21.814680Z",
     "iopub.status.idle": "2023-08-10T18:45:21.818871Z",
     "shell.execute_reply": "2023-08-10T18:45:21.818129Z"
    },
    "papermill": {
     "duration": 0.104232,
     "end_time": "2023-08-10T18:45:21.821038",
     "exception": false,
     "start_time": "2023-08-10T18:45:21.716806",
     "status": "completed"
    },
    "tags": []
   },
   "outputs": [],
   "source": [
    "## Box plot audienceScore and sentiment  \n",
    "# plt.figure(figsize=(6, 4))\n",
    "# sns.boxplot(x=\"sentiment\", y=\"audienceScore\", data=merged, width=0.3)\n",
    "# plt.title(\"Box plot audienceScore and sentiment\")\n",
    "# plt.show()"
   ]
  },
  {
   "cell_type": "code",
   "execution_count": 70,
   "id": "d181a020",
   "metadata": {
    "execution": {
     "iopub.execute_input": "2023-08-10T18:45:22.014131Z",
     "iopub.status.busy": "2023-08-10T18:45:22.013273Z",
     "iopub.status.idle": "2023-08-10T18:45:22.017673Z",
     "shell.execute_reply": "2023-08-10T18:45:22.016889Z"
    },
    "papermill": {
     "duration": 0.102362,
     "end_time": "2023-08-10T18:45:22.019734",
     "exception": false,
     "start_time": "2023-08-10T18:45:21.917372",
     "status": "completed"
    },
    "tags": []
   },
   "outputs": [],
   "source": [
    "## Box plot runtimeMinutes and sentiment  \n",
    "# plt.figure(figsize=(6, 4))\n",
    "# sns.boxplot(x=\"sentiment\", y=\"runtimeMinutes\", data=merged, width=0.3)\n",
    "# plt.title(\"Box plot runtimeMinutes and sentiment\")\n",
    "# plt.show()"
   ]
  },
  {
   "cell_type": "code",
   "execution_count": 71,
   "id": "66e0f6d1",
   "metadata": {
    "execution": {
     "iopub.execute_input": "2023-08-10T18:45:22.210124Z",
     "iopub.status.busy": "2023-08-10T18:45:22.209323Z",
     "iopub.status.idle": "2023-08-10T18:45:22.214486Z",
     "shell.execute_reply": "2023-08-10T18:45:22.213415Z"
    },
    "papermill": {
     "duration": 0.10135,
     "end_time": "2023-08-10T18:45:22.216468",
     "exception": false,
     "start_time": "2023-08-10T18:45:22.115118",
     "status": "completed"
    },
    "tags": []
   },
   "outputs": [],
   "source": [
    "## Column chart for sentiment and rating columns\n",
    "# plt.figure(figsize=(6, 4))\n",
    "# sns.countplot(x=\"sentiment\", hue=\"rating\", data=merged)\n",
    "# plt.title(\"Column chart for sentiment and rating columns\")\n",
    "# plt.show()"
   ]
  },
  {
   "cell_type": "code",
   "execution_count": 72,
   "id": "01a44b07",
   "metadata": {
    "execution": {
     "iopub.execute_input": "2023-08-10T18:45:22.408692Z",
     "iopub.status.busy": "2023-08-10T18:45:22.408201Z",
     "iopub.status.idle": "2023-08-10T18:45:22.412910Z",
     "shell.execute_reply": "2023-08-10T18:45:22.411823Z"
    },
    "papermill": {
     "duration": 0.103286,
     "end_time": "2023-08-10T18:45:22.415138",
     "exception": false,
     "start_time": "2023-08-10T18:45:22.311852",
     "status": "completed"
    },
    "tags": []
   },
   "outputs": [],
   "source": [
    "# Correlation heatmap  \n",
    "# plt.figure(figsize=(10, 8))\n",
    "# sns.heatmap(merged.corr(), annot=True, cmap=\"coolwarm\")\n",
    "# plt.title(\"Correlation heatmap\")\n",
    "# plt.show()"
   ]
  },
  {
   "cell_type": "markdown",
   "id": "b82df591",
   "metadata": {
    "papermill": {
     "duration": 0.158411,
     "end_time": "2023-08-10T18:45:22.670101",
     "exception": false,
     "start_time": "2023-08-10T18:45:22.511690",
     "status": "completed"
    },
    "tags": []
   },
   "source": [
    "## Merge and preprocess \"test.csv\" and \"movies.csv\" files  "
   ]
  },
  {
   "cell_type": "code",
   "execution_count": 73,
   "id": "254311bd",
   "metadata": {
    "execution": {
     "iopub.execute_input": "2023-08-10T18:45:22.868276Z",
     "iopub.status.busy": "2023-08-10T18:45:22.867834Z",
     "iopub.status.idle": "2023-08-10T18:45:28.539148Z",
     "shell.execute_reply": "2023-08-10T18:45:28.538021Z"
    },
    "papermill": {
     "duration": 5.77739,
     "end_time": "2023-08-10T18:45:28.542164",
     "exception": false,
     "start_time": "2023-08-10T18:45:22.764774",
     "status": "completed"
    },
    "tags": []
   },
   "outputs": [],
   "source": [
    "# Merge test and movies  \n",
    "merged_test = select_features(load_csv(\"test\"), load_csv(\"movies\"))"
   ]
  },
  {
   "cell_type": "code",
   "execution_count": 74,
   "id": "c35cda9b",
   "metadata": {
    "execution": {
     "iopub.execute_input": "2023-08-10T18:45:28.744872Z",
     "iopub.status.busy": "2023-08-10T18:45:28.744266Z",
     "iopub.status.idle": "2023-08-10T18:45:28.748290Z",
     "shell.execute_reply": "2023-08-10T18:45:28.747610Z"
    },
    "papermill": {
     "duration": 0.108022,
     "end_time": "2023-08-10T18:45:28.750367",
     "exception": false,
     "start_time": "2023-08-10T18:45:28.642345",
     "status": "completed"
    },
    "tags": []
   },
   "outputs": [],
   "source": [
    "# inspect(merged_test)      # Note the missing values in ['audienceScore', 'runtimeMinutes', 'boxOffice']"
   ]
  },
  {
   "cell_type": "code",
   "execution_count": 75,
   "id": "e507e1ff",
   "metadata": {
    "execution": {
     "iopub.execute_input": "2023-08-10T18:45:28.955335Z",
     "iopub.status.busy": "2023-08-10T18:45:28.954852Z",
     "iopub.status.idle": "2023-08-10T18:45:28.975649Z",
     "shell.execute_reply": "2023-08-10T18:45:28.974804Z"
    },
    "papermill": {
     "duration": 0.12478,
     "end_time": "2023-08-10T18:45:28.977709",
     "exception": false,
     "start_time": "2023-08-10T18:45:28.852929",
     "status": "completed"
    },
    "tags": []
   },
   "outputs": [
    {
     "data": {
      "text/plain": [
       "array([6.80e+01, 1.04e+02, 1.43e+07])"
      ]
     },
     "execution_count": 75,
     "metadata": {},
     "output_type": "execute_result"
    }
   ],
   "source": [
    "# Transform ['audienceScore', 'runtimeMinutes', 'boxOffice'] columns in merged_test using 'si' fitted on 'merged' df  \n",
    "merged_test[['audienceScore', 'runtimeMinutes', 'boxOffice']] = si.transform(merged_test[['audienceScore', 'runtimeMinutes', 'boxOffice']])\n",
    "si.statistics_"
   ]
  },
  {
   "cell_type": "code",
   "execution_count": 76,
   "id": "6c88790f",
   "metadata": {
    "execution": {
     "iopub.execute_input": "2023-08-10T18:45:29.171141Z",
     "iopub.status.busy": "2023-08-10T18:45:29.170659Z",
     "iopub.status.idle": "2023-08-10T18:45:29.182678Z",
     "shell.execute_reply": "2023-08-10T18:45:29.181742Z"
    },
    "papermill": {
     "duration": 0.111107,
     "end_time": "2023-08-10T18:45:29.184631",
     "exception": false,
     "start_time": "2023-08-10T18:45:29.073524",
     "status": "completed"
    },
    "tags": []
   },
   "outputs": [],
   "source": [
    "# Fill 'releaseDate' column in 'merged_test' df with median from the train (merged) df  \n",
    "merged_test['releaseDate'] = merged_test[\"releaseDate\"].fillna(merged[\"releaseDate\"].median())"
   ]
  },
  {
   "cell_type": "code",
   "execution_count": 77,
   "id": "8d311619",
   "metadata": {
    "execution": {
     "iopub.execute_input": "2023-08-10T18:45:29.379473Z",
     "iopub.status.busy": "2023-08-10T18:45:29.378938Z",
     "iopub.status.idle": "2023-08-10T18:45:29.883604Z",
     "shell.execute_reply": "2023-08-10T18:45:29.881451Z"
    },
    "papermill": {
     "duration": 0.604466,
     "end_time": "2023-08-10T18:45:29.885981",
     "exception": false,
     "start_time": "2023-08-10T18:45:29.281515",
     "status": "completed"
    },
    "tags": []
   },
   "outputs": [
    {
     "name": "stdout",
     "output_type": "stream",
     "text": [
      "Shape of the dataframe: (55315, 29)\n",
      "\n",
      "Columns in the dataframe:\n",
      "Index(['movieid', 'reviewerName', 'isFrequentReviewer', 'reviewText', 'title',\n",
      "       'audienceScore', 'rating', 'ratingContents', 'releaseDateTheaters',\n",
      "       'releaseDateStreaming', 'runtimeMinutes', 'genre', 'originalLanguage',\n",
      "       'director', 'boxOffice', 'distributor', 'soundType', 'reviewYN',\n",
      "       'reviewWC', 'genreSorted', 'rcSorted', 'releaseDate', 'releaseYear',\n",
      "       'releaseMonth', 'releaseDiff', 'audScoreBins', 'runtimeBins',\n",
      "       'boxOfficeBins', 'releaseDiffBins'],\n",
      "      dtype='object')\n",
      "\n",
      "<class 'pandas.core.frame.DataFrame'>\n",
      "Int64Index: 55315 entries, 0 to 55314\n",
      "Data columns (total 29 columns):\n",
      " #   Column                Non-Null Count  Dtype         \n",
      "---  ------                --------------  -----         \n",
      " 0   movieid               55315 non-null  object        \n",
      " 1   reviewerName          55315 non-null  object        \n",
      " 2   isFrequentReviewer    55315 non-null  bool          \n",
      " 3   reviewText            55315 non-null  object        \n",
      " 4   title                 55315 non-null  object        \n",
      " 5   audienceScore         55315 non-null  float64       \n",
      " 6   rating                55315 non-null  object        \n",
      " 7   ratingContents        55315 non-null  object        \n",
      " 8   releaseDateTheaters   47844 non-null  datetime64[ns]\n",
      " 9   releaseDateStreaming  52929 non-null  datetime64[ns]\n",
      " 10  runtimeMinutes        55315 non-null  float64       \n",
      " 11  genre                 55315 non-null  object        \n",
      " 12  originalLanguage      55315 non-null  object        \n",
      " 13  director              55315 non-null  object        \n",
      " 14  boxOffice             55315 non-null  float64       \n",
      " 15  distributor           55315 non-null  object        \n",
      " 16  soundType             29845 non-null  object        \n",
      " 17  reviewYN              55315 non-null  int64         \n",
      " 18  reviewWC              55315 non-null  int64         \n",
      " 19  genreSorted           55315 non-null  object        \n",
      " 20  rcSorted              55315 non-null  object        \n",
      " 21  releaseDate           55315 non-null  datetime64[ns]\n",
      " 22  releaseYear           46626 non-null  float64       \n",
      " 23  releaseMonth          46626 non-null  float64       \n",
      " 24  releaseDiff           55315 non-null  float64       \n",
      " 25  audScoreBins          53866 non-null  float64       \n",
      " 26  runtimeBins           54937 non-null  category      \n",
      " 27  boxOfficeBins         41756 non-null  float64       \n",
      " 28  releaseDiffBins       55315 non-null  category      \n",
      "dtypes: bool(1), category(2), datetime64[ns](3), float64(8), int64(2), object(13)\n",
      "memory usage: 11.6+ MB\n",
      "None\n",
      "\n",
      "Missing values:\n",
      "movieid                     0\n",
      "reviewerName                0\n",
      "isFrequentReviewer          0\n",
      "reviewText                  0\n",
      "title                       0\n",
      "audienceScore               0\n",
      "rating                      0\n",
      "ratingContents              0\n",
      "releaseDateTheaters      7471\n",
      "releaseDateStreaming     2386\n",
      "runtimeMinutes              0\n",
      "genre                       0\n",
      "originalLanguage            0\n",
      "director                    0\n",
      "boxOffice                   0\n",
      "distributor                 0\n",
      "soundType               25470\n",
      "reviewYN                    0\n",
      "reviewWC                    0\n",
      "genreSorted                 0\n",
      "rcSorted                    0\n",
      "releaseDate                 0\n",
      "releaseYear              8689\n",
      "releaseMonth             8689\n",
      "releaseDiff                 0\n",
      "audScoreBins             1449\n",
      "runtimeBins               378\n",
      "boxOfficeBins           13559\n",
      "releaseDiffBins             0\n",
      "dtype: int64\n"
     ]
    }
   ],
   "source": [
    "# After transforming merged_test  \n",
    "inspect(merged_test)"
   ]
  },
  {
   "cell_type": "code",
   "execution_count": 78,
   "id": "2d041b7e",
   "metadata": {
    "execution": {
     "iopub.execute_input": "2023-08-10T18:45:30.090241Z",
     "iopub.status.busy": "2023-08-10T18:45:30.089811Z",
     "iopub.status.idle": "2023-08-10T18:45:30.097583Z",
     "shell.execute_reply": "2023-08-10T18:45:30.096175Z"
    },
    "papermill": {
     "duration": 0.113444,
     "end_time": "2023-08-10T18:45:30.100175",
     "exception": false,
     "start_time": "2023-08-10T18:45:29.986731",
     "status": "completed"
    },
    "tags": []
   },
   "outputs": [
    {
     "name": "stdout",
     "output_type": "stream",
     "text": [
      "2510\n",
      "4.537648015908886\n"
     ]
    }
   ],
   "source": [
    "print(merged_test[\"reviewYN\"].sum())\n",
    "print(merged_test[\"reviewYN\"].sum() * 100 / merged_test.shape[0])"
   ]
  },
  {
   "cell_type": "code",
   "execution_count": 79,
   "id": "59bd36b8",
   "metadata": {
    "execution": {
     "iopub.execute_input": "2023-08-10T18:45:30.296145Z",
     "iopub.status.busy": "2023-08-10T18:45:30.295690Z",
     "iopub.status.idle": "2023-08-10T18:45:30.313960Z",
     "shell.execute_reply": "2023-08-10T18:45:30.312787Z"
    },
    "papermill": {
     "duration": 0.119167,
     "end_time": "2023-08-10T18:45:30.316278",
     "exception": false,
     "start_time": "2023-08-10T18:45:30.197111",
     "status": "completed"
    },
    "tags": []
   },
   "outputs": [
    {
     "data": {
      "text/plain": [
       "R          18934\n",
       "unknown    18386\n",
       "PG-13      13220\n",
       "PG          4200\n",
       "TV14         333\n",
       "TVPG         109\n",
       "NC-17        108\n",
       "TVMA          25\n",
       "Name: rating, dtype: int64"
      ]
     },
     "execution_count": 79,
     "metadata": {},
     "output_type": "execute_result"
    }
   ],
   "source": [
    "merged_test['rating'].value_counts()"
   ]
  },
  {
   "cell_type": "code",
   "execution_count": 80,
   "id": "de867688",
   "metadata": {
    "execution": {
     "iopub.execute_input": "2023-08-10T18:45:30.509807Z",
     "iopub.status.busy": "2023-08-10T18:45:30.509374Z",
     "iopub.status.idle": "2023-08-10T18:45:30.518294Z",
     "shell.execute_reply": "2023-08-10T18:45:30.517301Z"
    },
    "papermill": {
     "duration": 0.108356,
     "end_time": "2023-08-10T18:45:30.520549",
     "exception": false,
     "start_time": "2023-08-10T18:45:30.412193",
     "status": "completed"
    },
    "tags": []
   },
   "outputs": [
    {
     "data": {
      "text/plain": [
       "False    38428\n",
       "True     16887\n",
       "Name: isFrequentReviewer, dtype: int64"
      ]
     },
     "execution_count": 80,
     "metadata": {},
     "output_type": "execute_result"
    }
   ],
   "source": [
    "merged_test['isFrequentReviewer'].value_counts()"
   ]
  },
  {
   "cell_type": "code",
   "execution_count": 81,
   "id": "a630b9ac",
   "metadata": {
    "execution": {
     "iopub.execute_input": "2023-08-10T18:45:30.726535Z",
     "iopub.status.busy": "2023-08-10T18:45:30.726160Z",
     "iopub.status.idle": "2023-08-10T18:45:30.736485Z",
     "shell.execute_reply": "2023-08-10T18:45:30.735809Z"
    },
    "papermill": {
     "duration": 0.116385,
     "end_time": "2023-08-10T18:45:30.738300",
     "exception": false,
     "start_time": "2023-08-10T18:45:30.621915",
     "status": "completed"
    },
    "tags": []
   },
   "outputs": [
    {
     "data": {
      "text/plain": [
       "14300000.0    13593\n",
       "1100000.0       311\n",
       "1000000.0       272\n",
       "1300000.0       263\n",
       "2000000.0       256\n",
       "              ...  \n",
       "200400.0          1\n",
       "23800000.0        1\n",
       "111200.0          1\n",
       "277800.0          1\n",
       "100600.0          1\n",
       "Name: boxOffice, Length: 3816, dtype: int64"
      ]
     },
     "execution_count": 81,
     "metadata": {},
     "output_type": "execute_result"
    }
   ],
   "source": [
    "merged_test['boxOffice'].value_counts()"
   ]
  },
  {
   "cell_type": "markdown",
   "id": "761b1414",
   "metadata": {
    "papermill": {
     "duration": 0.10106,
     "end_time": "2023-08-10T18:45:30.939209",
     "exception": false,
     "start_time": "2023-08-10T18:45:30.838149",
     "status": "completed"
    },
    "tags": []
   },
   "source": [
    "## Submit_v4 for merged file models  "
   ]
  },
  {
   "cell_type": "markdown",
   "id": "a9c8990a",
   "metadata": {
    "papermill": {
     "duration": 0.097049,
     "end_time": "2023-08-10T18:45:31.133793",
     "exception": false,
     "start_time": "2023-08-10T18:45:31.036744",
     "status": "completed"
    },
    "tags": []
   },
   "source": [
    "### More Helper functions  "
   ]
  },
  {
   "cell_type": "code",
   "execution_count": 82,
   "id": "9168790e",
   "metadata": {
    "execution": {
     "iopub.execute_input": "2023-08-10T18:45:31.333649Z",
     "iopub.status.busy": "2023-08-10T18:45:31.332757Z",
     "iopub.status.idle": "2023-08-10T18:45:31.341281Z",
     "shell.execute_reply": "2023-08-10T18:45:31.340048Z"
    },
    "papermill": {
     "duration": 0.111575,
     "end_time": "2023-08-10T18:45:31.343734",
     "exception": false,
     "start_time": "2023-08-10T18:45:31.232159",
     "status": "completed"
    },
    "tags": []
   },
   "outputs": [],
   "source": [
    "# Testing predictions on missing reviewtext columns  \n",
    "\n",
    "def predict_on_missing_review_data(pipe, selected_features, merged_train):\n",
    "    missing_reviews_train = merged_train.loc[merged_train['reviewYN'] == 1]\n",
    "    missing_reviews_train.reset_index(drop=True)\n",
    "    X_train_miss_revs = missing_reviews_train.drop('sentiment', axis = 1)\n",
    "    X_train_miss_revs = X_train_miss_revs[selected_features]\n",
    "    y_train_miss_revs = missing_reviews_train['sentiment']\n",
    "    \n",
    "    y_pred_miss_revs = pipe.predict(X_train_miss_revs)\n",
    "#     print('Predictions on rows which had missing reviewText')\n",
    "    print(\"Confusion matrix and f1-score for rows which have no reviewText in X_train: \")\n",
    "    print(confusion_matrix(y_train_miss_revs, y_pred_miss_revs, labels=pipe.classes_))\n",
    "    \n",
    "    return f1_score(y_train_miss_revs, y_pred_miss_revs, average='micro')"
   ]
  },
  {
   "cell_type": "code",
   "execution_count": 83,
   "id": "e639daa0",
   "metadata": {
    "execution": {
     "iopub.execute_input": "2023-08-10T18:45:31.539945Z",
     "iopub.status.busy": "2023-08-10T18:45:31.539494Z",
     "iopub.status.idle": "2023-08-10T18:45:31.571165Z",
     "shell.execute_reply": "2023-08-10T18:45:31.569995Z"
    },
    "papermill": {
     "duration": 0.134133,
     "end_time": "2023-08-10T18:45:31.574082",
     "exception": false,
     "start_time": "2023-08-10T18:45:31.439949",
     "status": "completed"
    },
    "tags": []
   },
   "outputs": [],
   "source": [
    "# Function to build pipelines for GridSearchCV which goes into the final 'submit' function  \n",
    "def build_pipeline(selected_model=LogisticRegression(), \n",
    "                   selected_features={'txt': ['reviewText']}, \n",
    "                   param_grid=None,\n",
    "                   vocab=None,\n",
    "                   vocab_usage='tfidf',\n",
    "                   strip_accents='unicode', \n",
    "                   add_countvec=False):\n",
    "    # Encoders  \n",
    "    ohe = OneHotEncoder(sparse_output=False, handle_unknown='ignore')\n",
    "    MMscaler = MinMaxScaler()\n",
    "    StdScaler = StandardScaler()\n",
    "    RobScaler = RobustScaler()\n",
    "    \n",
    "    # Text features ['reviewText', 'reviewerName', 'movieid', 'genre', 'director']\n",
    "    tfidf_vec = TfidfVectorizer(ngram_range=(1,2))\n",
    "    count_vec = CountVectorizer(ngram_range=(1,2))\n",
    "    txt_pipe = Pipeline(steps=[\n",
    "                            (\"tvec\", TfidfVectorizer(ngram_range=(1,3), strip_accents=strip_accents))    # Adjust ngram_range here for reviewText\n",
    "                        ])\n",
    "    txt_pipe_vocab = Pipeline(steps=[\n",
    "                            (\"tvec\", TfidfVectorizer(ngram_range=(1,3), strip_accents=strip_accents, vocabulary=vocab))    # Adjust ngram_range here for reviewText\n",
    "                        ])\n",
    "    txt_pipe_2 = Pipeline(steps=[\n",
    "                            (\"tvec\", TfidfVectorizer(ngram_range=(2,2)))\n",
    "                        ])\n",
    "    txt_pipe_3 = Pipeline(steps=[\n",
    "                            (\"tvec\", TfidfVectorizer(ngram_range=(1,1)))\n",
    "                        ])\n",
    "    txt_pipe_4 = Pipeline(steps=[\n",
    "                            (\"tvec\", TfidfVectorizer(ngram_range=(1,3)))    # Adjust ngram_range here for reviewText\n",
    "                        ])\n",
    "    txt_pipe_title  = Pipeline(steps=[\n",
    "                            (\"tvec\", TfidfVectorizer(ngram_range=(1,5)))    # Adjust ngram_range here for reviewText\n",
    "                        ])\n",
    "    \n",
    "    # Additional pipes for count vectorizer\n",
    "    txt_pipe_countvec = Pipeline(steps=[\n",
    "                            (\"cvec\", CountVectorizer(ngram_range=(1,3), strip_accents=strip_accents))    # Adjust ngram_range here for reviewText\n",
    "                        ])\n",
    "    txt_pipe_countvec_vocab = Pipeline(steps=[\n",
    "                            (\"cvec\", CountVectorizer(ngram_range=(1,3), strip_accents=strip_accents, vocabulary=vocab))    # Adjust ngram_range here for reviewText\n",
    "                        ])\n",
    "    \n",
    "    txt_pipe_countvec_ratingContents = Pipeline(steps=[\n",
    "                            (\"cvec\", CountVectorizer(ngram_range=(1,5)))    # Adjust ngram_range here for reviewText\n",
    "                        ])\n",
    "    txt_pipe_countvec_rcSorted = Pipeline(steps=[\n",
    "                            (\"cvec\", CountVectorizer(ngram_range=(1,1)))    # Adjust ngram_range here for reviewText\n",
    "                        ])\n",
    "    txt_pipe_countvec_genre = Pipeline(steps=[\n",
    "                            (\"cvec\", CountVectorizer(ngram_range=(1,1)))\n",
    "                        ])\n",
    "    txt_pipe_countvec_genreSorted = Pipeline(steps=[\n",
    "                            (\"cvec\", CountVectorizer(ngram_range=(1,5)))\n",
    "                        ])\n",
    "    txt_pipe_countvec_distributor = Pipeline(steps=[\n",
    "                            (\"cvec\", CountVectorizer(ngram_range=(1,3)))    # Adjust ngram_range here for reviewText\n",
    "                        ])\n",
    "    txt_pipe_countvec_title = Pipeline(steps=[\n",
    "                            (\"cvec\", CountVectorizer(ngram_range=(1,5), strip_accents=strip_accents))\n",
    "                        ])\n",
    "    txt_pipe_countvec_movieid = Pipeline(steps=[\n",
    "                            (\"cvec\", CountVectorizer(ngram_range=(1,1)))\n",
    "                        ])\n",
    "    # Basic pipes  \n",
    "    TFs = []\n",
    "    try:\n",
    "        for c in selected_features['cat']:\n",
    "            TFs.append((f\"cat_{c}\", ohe, [c]))\n",
    "    except:\n",
    "        pass\n",
    "    try:\n",
    "        for n in selected_features['num']:\n",
    "            if n in [\"runtimeMinutes\", \"boxOffice\", \"releaseDiff\"]:\n",
    "                TFs.append((f\"num_{n}\", RobScaler, [n]))\n",
    "                TFs.append((f\"num_{n}_ss\", StdScaler, [n]))\n",
    "                \n",
    "            else:\n",
    "                TFs.append((f\"num_{n}\", StdScaler, [n]))\n",
    "    except:\n",
    "        pass\n",
    "    try:\n",
    "        for t in selected_features['txt']:\n",
    "            if t in ['director', 'reviewerName']:\n",
    "                TFs.append((f\"txt_{t}\", txt_pipe_2, t))\n",
    "            elif t in [\"originalLanguage\", \"releaseYear\"]:\n",
    "                TFs.append((f\"txt_{t}\", txt_pipe_3, t))\n",
    "            elif t in ['genre']:\n",
    "                TFs.append((f\"txt_{t}\", txt_pipe_countvec_genre, t))\n",
    "            elif t in [\"genreSorted\"]:\n",
    "                TFs.append((f\"txt_{t}\", txt_pipe_countvec_genreSorted, t))\n",
    "            elif t in [\"distributor\"]:\n",
    "                TFs.append((f\"txt_{t}\", txt_pipe_countvec_distributor, t))\n",
    "            elif t in ['reviewText']:\n",
    "#                 if vocab and (vocab_usage in [\"tfidf\", \"both\"]):\n",
    "#                     txt_pipe.set_params(tvec__vocabulary=vocab)\n",
    "#                     txt_pipe.set_params(tvec__stop_words='english')\n",
    "                TFs.append((f\"txt_{t}\", txt_pipe, t))\n",
    "            elif t in ['reviewText_2']:\n",
    "                if add_countvec:\n",
    "#                     if vocab and (vocab_usage in [\"count\", \"both\"]):\n",
    "#                         txt_pipe_countvec.set_params(cvec__vocabulary=vocab)\n",
    "#                         txt_pipe_countvec.set_params(cvec__stop_words='english')\n",
    "                    TFs.append((f\"txt_{t}\", txt_pipe_countvec, t))\n",
    "            elif t in ['reviewText_3']:\n",
    "                if vocab_usage == 'tfidf':\n",
    "                    TFs.append((f\"txt_{t}\", txt_pipe_vocab, t))\n",
    "                elif vocab_usage == 'count':\n",
    "                    TFs.append((f\"txt_{t}\", txt_pipe_countvec_vocab, t))\n",
    "            elif t in [\"ratingContents\"]:\n",
    "                TFs.append((f\"txt_{t}\", txt_pipe_countvec_ratingContents, t))\n",
    "            elif t in [\"rcSorted\"]:\n",
    "                TFs.append((f\"txt_{t}\", txt_pipe_countvec_rcSorted, t))\n",
    "            elif t in [\"title\"]:\n",
    "                TFs.append((f\"txt_{t}\", txt_pipe_title, t))\n",
    "            elif t in [\"movieid\"]:\n",
    "                TFs.append((f\"txt_{t}\", txt_pipe_countvec_movieid, t))\n",
    "            else:\n",
    "                pass\n",
    "    except:\n",
    "        pass\n",
    "\n",
    "    # Build ColumnTransformer  \n",
    "    ct = ColumnTransformer(transformers=TFs, remainder='drop')\n",
    "\n",
    "    # Build Pipeline\n",
    "    pipe = Pipeline(steps=[('ct', ct), ('model', selected_model)])\n",
    "    print(\"\\nPipeline built successfully.\")\n",
    "\n",
    "    # Use the pipe in GridSearchCV\n",
    "    if param_grid == None:\n",
    "        param_grid_temp = {\"model__C\": [1],\n",
    "                     'model__solver': ['liblinear']}\n",
    "        print(\"Full GridSearchCV pipeline built successfully with basic default param_grid.\\n\")\n",
    "        pipeCV = GridSearchCV(pipe, param_grid_temp, cv=10, scoring=\"f1_micro\", n_jobs=-1)\n",
    "        return pipeCV\n",
    "    \n",
    "    # GridSearchCV if param_grid provided\n",
    "    if param_grid:\n",
    "        pipeCV = GridSearchCV(pipe, param_grid, cv=10, scoring=\"f1_micro\", n_jobs=-1)\n",
    "        print(\"\\nFull GridSearchCV pipeline built successfully.\")\n",
    "        return pipeCV"
   ]
  },
  {
   "cell_type": "code",
   "execution_count": 84,
   "id": "0c4db24d",
   "metadata": {
    "execution": {
     "iopub.execute_input": "2023-08-10T18:45:31.766701Z",
     "iopub.status.busy": "2023-08-10T18:45:31.766182Z",
     "iopub.status.idle": "2023-08-10T18:45:31.776943Z",
     "shell.execute_reply": "2023-08-10T18:45:31.776076Z"
    },
    "papermill": {
     "duration": 0.109802,
     "end_time": "2023-08-10T18:45:31.778876",
     "exception": false,
     "start_time": "2023-08-10T18:45:31.669074",
     "status": "completed"
    },
    "tags": []
   },
   "outputs": [],
   "source": [
    "def preprocessor():\n",
    "    \n",
    "    # Merge and preprocess train and movies data  \n",
    "    merged = select_features(load_csv(\"train\"), load_csv(\"movies\"), row_thresh_null=None)    # Decide if you want to drop any rows containing lot of nulls\n",
    "    # Impute missing numerical values  \n",
    "    # Simple Imputer for ['audienceScore', 'runtimeMinutes', 'boxOffice'] and 'releaseDate' columns\n",
    "    si = SimpleImputer(strategy='median')\n",
    "    merged[['audienceScore', 'runtimeMinutes', 'boxOffice']] = si.fit_transform(merged[['audienceScore', 'runtimeMinutes', 'boxOffice']])\n",
    "    merged['releaseDate'] = merged[\"releaseDate\"].fillna(merged[\"releaseDate\"].median())    \n",
    "\n",
    "    # Check1 (preprocessor)\n",
    "    print(\"\\nCheck 1 (preprocessor) complete.\")\n",
    "    print(f\"Shape of X_train: {merged.shape}\")\n",
    "    print(f\"Features in X_train: {merged.columns}\")\n",
    "\n",
    "\n",
    "    # Merge and preprocess test and movies data  \n",
    "    merged_test = select_features(load_csv(\"test\"), load_csv(\"movies\"))\n",
    "    # Transform ['audienceScore', 'runtimeMinutes', 'boxOffice'] columns in merged_test using 'si' fitted on 'merged' df  \n",
    "    merged_test[['audienceScore', 'runtimeMinutes', 'boxOffice']] = si.transform(merged_test[['audienceScore', 'runtimeMinutes', 'boxOffice']])\n",
    "    # Fill 'releaseDate' column in 'merged_test' df with median from the train (merged) df  \n",
    "    merged_test['releaseDate'] = merged_test[\"releaseDate\"].fillna(merged[\"releaseDate\"].median())\n",
    "\n",
    "    \n",
    "    # Check2 (preprocessor)\n",
    "    print(\"\\nCheck 2 (preprocessor) complete.\")\n",
    "    print(f\"Shape of X_test: {merged_test.shape}\")\n",
    "    print(f\"Features in X_test: {merged_test.columns}\")\n",
    "\n",
    "    return merged, merged_test\n",
    "    "
   ]
  },
  {
   "cell_type": "code",
   "execution_count": 85,
   "id": "eff10753",
   "metadata": {
    "execution": {
     "iopub.execute_input": "2023-08-10T18:45:31.974811Z",
     "iopub.status.busy": "2023-08-10T18:45:31.973982Z",
     "iopub.status.idle": "2023-08-10T18:45:31.978312Z",
     "shell.execute_reply": "2023-08-10T18:45:31.977234Z"
    },
    "papermill": {
     "duration": 0.104051,
     "end_time": "2023-08-10T18:45:31.980771",
     "exception": false,
     "start_time": "2023-08-10T18:45:31.876720",
     "status": "completed"
    },
    "tags": []
   },
   "outputs": [],
   "source": [
    "# merged, merged_test = preprocessor()\n",
    "# merged.shape, merged_test.shape"
   ]
  },
  {
   "cell_type": "code",
   "execution_count": 86,
   "id": "198e9049",
   "metadata": {
    "execution": {
     "iopub.execute_input": "2023-08-10T18:45:32.173369Z",
     "iopub.status.busy": "2023-08-10T18:45:32.172899Z",
     "iopub.status.idle": "2023-08-10T18:45:32.195404Z",
     "shell.execute_reply": "2023-08-10T18:45:32.194238Z"
    },
    "papermill": {
     "duration": 0.123013,
     "end_time": "2023-08-10T18:45:32.198156",
     "exception": false,
     "start_time": "2023-08-10T18:45:32.075143",
     "status": "completed"
    },
    "tags": []
   },
   "outputs": [],
   "source": [
    "def submit_v5(classifiers= [\n",
    "                {'selected_model' : LogisticRegression(C=1, solver='saga', max_iter=100000), \n",
    "                  'selected_features' : {'num': ['audienceScore']}, \n",
    "                  'param_grid' : None,\n",
    "                  'vocab' : None,\n",
    "                  'vocab_usage' : 'tfidf',\n",
    "                  'strip_accents' : 'unicode', \n",
    "                  'add_countvec' : False}\n",
    "              ]):\n",
    "    \n",
    "    \"\"\"Takes a list of dictionaries each with same keys as mentioned in the default dictionary in function definition\"\"\"\n",
    "    \n",
    "    print(\"\\nRunning the submit_v5 function...\")\n",
    "    \n",
    "    merged, merged_test = preprocessor()\n",
    "    \n",
    "    estimators = []     # List of tuples of the form ('classifier_name', 'classifer_instance')\n",
    "    \n",
    "    # Build a dataframe of predictions  \n",
    "    predictions_df = pd.DataFrame()\n",
    "    \n",
    "    # Build a separate pipeline and fit it on selected features (and param_grid) for each item in classifiers list\n",
    "    for n, item in enumerate(classifiers, start=1):\n",
    "        selected_model = item['selected_model']\n",
    "        selected_features = item['selected_features']\n",
    "        param_grid = item['param_grid']\n",
    "        vocab = item['vocab']\n",
    "        vocab_usage = item['vocab_usage']\n",
    "        strip_accents = item['strip_accents']\n",
    "        add_countvec = item['add_countvec']\n",
    "    \n",
    "    \n",
    "        # Fine tune selected_features\n",
    "        if add_countvec:\n",
    "            if 'txt' in selected_features.keys():\n",
    "                if \"reviewText_2\" not in selected_features['txt']:\n",
    "                    selected_features['txt'].append('reviewText_2')\n",
    "        if vocab:\n",
    "            if 'txt' in selected_features.keys():\n",
    "                if \"reviewText_3\" not in selected_features['txt']:\n",
    "                    selected_features['txt'].append('reviewText_3')\n",
    "        print(f\"\\nSelected features: {selected_features}\")\n",
    "        \n",
    "        # Modify X_train for the given 'item' by creating a custom 'features' list\n",
    "        features = []\n",
    "        for item in selected_features.values():\n",
    "            features.extend(item)\n",
    "            \n",
    "        # Add new columns as needed  \n",
    "        if add_countvec:\n",
    "            merged['reviewText_2'] = merged['reviewText']\n",
    "        if vocab:\n",
    "            merged['reviewText_3'] = merged['reviewText']\n",
    "        \n",
    "        # Create X_tran, y_train\n",
    "        X_train = merged.drop(labels=\"sentiment\", axis=1)\n",
    "        y_train = merged[\"sentiment\"]\n",
    "        \n",
    "        X_train = merged[features].copy()\n",
    "\n",
    "\n",
    "        # Build Pipeline\n",
    "        pipe = build_pipeline(selected_model, selected_features, param_grid=param_grid, \n",
    "                              vocab=vocab, vocab_usage='tfidf', \n",
    "                              strip_accents=strip_accents, add_countvec=add_countvec)\n",
    "        print(pipe)\n",
    "\n",
    "        \n",
    "        # Fit \n",
    "        print(f\"\\nTraining started with full pipeline for classifier #{n}...\")\n",
    "        pipe.fit(X_train, y_train)\n",
    "        \n",
    "\n",
    "        # Check1\n",
    "        print(f\"\\nCheck #{n}.1 complete.\")\n",
    "        print(f\"Details of the best model using classifier #{n} (GridSearchCV) on X_train: \")\n",
    "        print(f\"Best Params: {pipe.best_params_}\")\n",
    "        print(f\"Best Score: {pipe.best_score_}\")\n",
    "        \n",
    "        print(predict_on_missing_review_data(pipe, features, merged))    # Function defined above\n",
    "        \n",
    "        estimators.append((f\"classifier_{n}\", pipe))\n",
    "        print(f\"classifier_{n} successfully added to 'estimators' list\")\n",
    "\n",
    "        \n",
    "        # Predict on test.csv file\n",
    "        # Add new columns as needed \n",
    "        if add_countvec:\n",
    "            merged_test['reviewText_2'] = merged_test['reviewText']\n",
    "        if vocab:\n",
    "            merged_test['reviewText_3'] = merged_test['reviewText']\n",
    "        \n",
    "               \n",
    "        X_test = merged_test[features].copy()\n",
    "\n",
    "    \n",
    "        y_pred = pipe.predict(X_test)\n",
    "        \n",
    "        # Insert predictions in 'predictions_df' dataframe\n",
    "        predictions_df.insert(n-1, f\"pred_{n}\", y_pred, allow_duplicates=False)\n",
    "        print(predictions_df.shape)\n",
    "        print(predictions_df.head(10))\n",
    "        \n",
    "    \n",
    "        # Check2\n",
    "        print(f\"\\nCheck #{n}.2 complete.\")\n",
    "    #     cv_results_df = pd.DataFrame(pipe.cv_results_)\n",
    "        print(\"Details of the best model using full pipeline (GridSearchCV) on X_train: \")\n",
    "#         print(f\"Best Estimator: {pipe.best_estimator_}\")\n",
    "        print(f\"Best Params: {pipe.best_params_}\")\n",
    "        print(f\"Best Score: {pipe.best_score_}\")\n",
    "#         print(f\"Best Index: {pipe.best_index_}\")\n",
    "        print(f\"Refit Time: {pipe.refit_time_}\")\n",
    "    #     print(f\"Shape of CV results dataframe: {cv_results_df.shape}\")\n",
    "    \n",
    "    # Voting classifier (custom) with hard voting\n",
    "    # Calculate the MODE for all predictions (Note that the 'predictions_df' generated above should have odd number of columns)\n",
    "    pred_df_final = predictions_df.mode('columns')\n",
    "    pred_df_final.columns = [\"sentiment\"]\n",
    "    pred_df_final.index.name = \"id\"\n",
    "    pred_df_final.to_csv(\"submission.csv\")\n",
    "    \n",
    "    print(\"\\nSuccessfully created the submission file!!!\")\n",
    "    \n",
    "#     return pipe.cv_results_\n",
    "    return pred_df_final, estimators"
   ]
  },
  {
   "cell_type": "markdown",
   "id": "d1e33bf0",
   "metadata": {
    "papermill": {
     "duration": 0.103753,
     "end_time": "2023-08-10T18:45:32.400896",
     "exception": false,
     "start_time": "2023-08-10T18:45:32.297143",
     "status": "completed"
    },
    "tags": []
   },
   "source": [
    "## Use 'submit_v5' function  "
   ]
  },
  {
   "cell_type": "code",
   "execution_count": 87,
   "id": "d441a84e",
   "metadata": {
    "execution": {
     "iopub.execute_input": "2023-08-10T18:45:32.610261Z",
     "iopub.status.busy": "2023-08-10T18:45:32.609726Z",
     "iopub.status.idle": "2023-08-10T18:45:32.614020Z",
     "shell.execute_reply": "2023-08-10T18:45:32.613255Z"
    },
    "papermill": {
     "duration": 0.110953,
     "end_time": "2023-08-10T18:45:32.616247",
     "exception": false,
     "start_time": "2023-08-10T18:45:32.505294",
     "status": "completed"
    },
    "tags": []
   },
   "outputs": [],
   "source": [
    "# Try submit_v5 with default settings\n",
    "# submit_v5()"
   ]
  },
  {
   "cell_type": "code",
   "execution_count": 88,
   "id": "e0f3e891",
   "metadata": {
    "execution": {
     "iopub.execute_input": "2023-08-10T18:45:32.812710Z",
     "iopub.status.busy": "2023-08-10T18:45:32.812171Z",
     "iopub.status.idle": "2023-08-10T18:46:15.674746Z",
     "shell.execute_reply": "2023-08-10T18:46:15.673499Z"
    },
    "papermill": {
     "duration": 43.060776,
     "end_time": "2023-08-10T18:46:15.774757",
     "exception": false,
     "start_time": "2023-08-10T18:45:32.713981",
     "status": "completed"
    },
    "tags": []
   },
   "outputs": [
    {
     "name": "stdout",
     "output_type": "stream",
     "text": [
      "\n",
      "Running the submit_v5 function...\n",
      "\n",
      "Check 1 (preprocessor) complete.\n",
      "Shape of X_train: (162758, 30)\n",
      "Features in X_train: Index(['movieid', 'reviewerName', 'isFrequentReviewer', 'reviewText',\n",
      "       'sentiment', 'title', 'audienceScore', 'rating', 'ratingContents',\n",
      "       'releaseDateTheaters', 'releaseDateStreaming', 'runtimeMinutes',\n",
      "       'genre', 'originalLanguage', 'director', 'boxOffice', 'distributor',\n",
      "       'soundType', 'reviewYN', 'reviewWC', 'genreSorted', 'rcSorted',\n",
      "       'releaseDate', 'releaseYear', 'releaseMonth', 'releaseDiff',\n",
      "       'audScoreBins', 'runtimeBins', 'boxOfficeBins', 'releaseDiffBins'],\n",
      "      dtype='object')\n",
      "\n",
      "Check 2 (preprocessor) complete.\n",
      "Shape of X_test: (55315, 29)\n",
      "Features in X_test: Index(['movieid', 'reviewerName', 'isFrequentReviewer', 'reviewText', 'title',\n",
      "       'audienceScore', 'rating', 'ratingContents', 'releaseDateTheaters',\n",
      "       'releaseDateStreaming', 'runtimeMinutes', 'genre', 'originalLanguage',\n",
      "       'director', 'boxOffice', 'distributor', 'soundType', 'reviewYN',\n",
      "       'reviewWC', 'genreSorted', 'rcSorted', 'releaseDate', 'releaseYear',\n",
      "       'releaseMonth', 'releaseDiff', 'audScoreBins', 'runtimeBins',\n",
      "       'boxOfficeBins', 'releaseDiffBins'],\n",
      "      dtype='object')\n",
      "\n",
      "Selected features: {'num': ['audienceScore', 'boxOffice']}\n",
      "\n",
      "Pipeline built successfully.\n",
      "\n",
      "Full GridSearchCV pipeline built successfully.\n",
      "GridSearchCV(cv=10,\n",
      "             estimator=Pipeline(steps=[('ct',\n",
      "                                        ColumnTransformer(transformers=[('num_audienceScore',\n",
      "                                                                         StandardScaler(),\n",
      "                                                                         ['audienceScore']),\n",
      "                                                                        ('num_boxOffice',\n",
      "                                                                         RobustScaler(),\n",
      "                                                                         ['boxOffice']),\n",
      "                                                                        ('num_boxOffice_ss',\n",
      "                                                                         StandardScaler(),\n",
      "                                                                         ['boxOffice'])])),\n",
      "                                       ('model',\n",
      "                                        SGDClassifier(loss='log_loss'))]),\n",
      "             n_jobs=-1,\n",
      "             param_grid={'model__alpha': [0.0001], 'model__tol': [0.001]},\n",
      "             scoring='f1_micro')\n",
      "\n",
      "Training started with full pipeline for classifier #1...\n",
      "\n",
      "Check #1.1 complete.\n",
      "Details of the best model using classifier #1 (GridSearchCV) on X_train: \n",
      "Best Params: {'model__alpha': 0.0001, 'model__tol': 0.001}\n",
      "Best Score: 0.6900305853066855\n",
      "Confusion matrix and f1-score for rows which have no reviewText in X_train: \n",
      "[[ 846 1559]\n",
      " [ 476 3566]]\n",
      "0.6843493097564759\n",
      "classifier_1 successfully added to 'estimators' list\n",
      "(55315, 1)\n",
      "     pred_1\n",
      "0  POSITIVE\n",
      "1  POSITIVE\n",
      "2  POSITIVE\n",
      "3  POSITIVE\n",
      "4  POSITIVE\n",
      "5  NEGATIVE\n",
      "6  POSITIVE\n",
      "7  POSITIVE\n",
      "8  POSITIVE\n",
      "9  POSITIVE\n",
      "\n",
      "Check #1.2 complete.\n",
      "Details of the best model using full pipeline (GridSearchCV) on X_train: \n",
      "Best Params: {'model__alpha': 0.0001, 'model__tol': 0.001}\n",
      "Best Score: 0.6900305853066855\n",
      "Refit Time: 0.4845550060272217\n",
      "\n",
      "Successfully created the submission file!!!\n"
     ]
    }
   ],
   "source": [
    "# Testing ONE classfier using submit_v5 function  \n",
    "\n",
    "# Feature dictionaries\n",
    "sfs = {'cat': ['isFrequentReviewer', 'rating'],\n",
    "       'num': [\"audienceScore\", \"runtimeMinutes\", \"boxOffice\"]}\n",
    "\n",
    "\n",
    "# Classifiers\n",
    "classifiers= [\n",
    "                {'selected_model' : SGDClassifier(loss='log_loss', max_iter=1000), \n",
    "                  'selected_features' : {'num': [\"audienceScore\", \"boxOffice\"]}, \n",
    "                  'param_grid' : {\"model__alpha\": [0.0001], \n",
    "                                  'model__tol': [0.001]},\n",
    "                  'vocab' : None,\n",
    "                  'vocab_usage' : 'tfidf',\n",
    "                  'strip_accents' : 'unicode', \n",
    "                  'add_countvec' : False},\n",
    "            ]\n",
    "\n",
    "pred_df, estimators = submit_v5(classifiers=classifiers)"
   ]
  },
  {
   "cell_type": "code",
   "execution_count": 89,
   "id": "c6389c30",
   "metadata": {
    "execution": {
     "iopub.execute_input": "2023-08-10T18:46:15.978278Z",
     "iopub.status.busy": "2023-08-10T18:46:15.977354Z",
     "iopub.status.idle": "2023-08-10T18:46:15.985504Z",
     "shell.execute_reply": "2023-08-10T18:46:15.984241Z"
    },
    "papermill": {
     "duration": 0.109954,
     "end_time": "2023-08-10T18:46:15.987788",
     "exception": false,
     "start_time": "2023-08-10T18:46:15.877834",
     "status": "completed"
    },
    "tags": []
   },
   "outputs": [
    {
     "name": "stdout",
     "output_type": "stream",
     "text": [
      "(55315, 1)\n",
      "   sentiment\n",
      "id          \n",
      "0   POSITIVE\n",
      "1   POSITIVE\n",
      "2   POSITIVE\n",
      "3   POSITIVE\n",
      "4   POSITIVE\n"
     ]
    }
   ],
   "source": [
    "print(pred_df.shape)\n",
    "print(pred_df.head())"
   ]
  },
  {
   "cell_type": "code",
   "execution_count": 90,
   "id": "cd3b62d7",
   "metadata": {
    "execution": {
     "iopub.execute_input": "2023-08-10T18:46:16.207045Z",
     "iopub.status.busy": "2023-08-10T18:46:16.206331Z",
     "iopub.status.idle": "2023-08-10T18:46:16.210887Z",
     "shell.execute_reply": "2023-08-10T18:46:16.210065Z"
    },
    "papermill": {
     "duration": 0.117125,
     "end_time": "2023-08-10T18:46:16.213003",
     "exception": false,
     "start_time": "2023-08-10T18:46:16.095878",
     "status": "completed"
    },
    "tags": []
   },
   "outputs": [],
   "source": [
    "# estimators"
   ]
  },
  {
   "cell_type": "code",
   "execution_count": 91,
   "id": "5e9a84fc",
   "metadata": {
    "execution": {
     "iopub.execute_input": "2023-08-10T18:46:16.413110Z",
     "iopub.status.busy": "2023-08-10T18:46:16.412704Z",
     "iopub.status.idle": "2023-08-10T18:46:16.432157Z",
     "shell.execute_reply": "2023-08-10T18:46:16.430295Z"
    },
    "papermill": {
     "duration": 0.122735,
     "end_time": "2023-08-10T18:46:16.434730",
     "exception": false,
     "start_time": "2023-08-10T18:46:16.311995",
     "status": "completed"
    },
    "tags": []
   },
   "outputs": [
    {
     "name": "stdout",
     "output_type": "stream",
     "text": [
      "Number of estimators: 1\n",
      "\n",
      "Estimator: classifier_1\n",
      "Pipeline(steps=[('ct',\n",
      "                 ColumnTransformer(transformers=[('num_audienceScore',\n",
      "                                                  StandardScaler(),\n",
      "                                                  ['audienceScore']),\n",
      "                                                 ('num_boxOffice',\n",
      "                                                  RobustScaler(),\n",
      "                                                  ['boxOffice']),\n",
      "                                                 ('num_boxOffice_ss',\n",
      "                                                  StandardScaler(),\n",
      "                                                  ['boxOffice'])])),\n",
      "                ('model', SGDClassifier(loss='log_loss'))])\n",
      "{'model__alpha': 0.0001, 'model__tol': 0.001}\n",
      "0.6900305853066855\n",
      "0.4845550060272217\n",
      "\n"
     ]
    }
   ],
   "source": [
    "print(f\"Number of estimators: {len(estimators)}\\n\")\n",
    "for est in estimators:\n",
    "    print(f\"Estimator: {est[0]}\")\n",
    "    print(est[1].best_estimator_)\n",
    "    print(est[1].best_params_)\n",
    "    print(est[1].best_score_)\n",
    "    print(est[1].refit_time_)\n",
    "    print()"
   ]
  },
  {
   "cell_type": "code",
   "execution_count": 92,
   "id": "b15cee3f",
   "metadata": {
    "execution": {
     "iopub.execute_input": "2023-08-10T18:46:16.631730Z",
     "iopub.status.busy": "2023-08-10T18:46:16.631247Z",
     "iopub.status.idle": "2023-08-10T18:46:16.638344Z",
     "shell.execute_reply": "2023-08-10T18:46:16.637103Z"
    },
    "papermill": {
     "duration": 0.10895,
     "end_time": "2023-08-10T18:46:16.640913",
     "exception": false,
     "start_time": "2023-08-10T18:46:16.531963",
     "status": "completed"
    },
    "tags": []
   },
   "outputs": [],
   "source": [
    "# Testing full capabilites of submit_v5  \n",
    "\n",
    "# # Feature dictionaries\n",
    "# sf1 = {'cat': ['isFrequentReviewer', 'rating'],\n",
    "#        'num': [\"audienceScore\", \"runtimeMinutes\", \"boxOffice\"]}\n",
    "\n",
    "# sf2 = {'cat': ['isFrequentReviewer', 'rating'],\n",
    "#        'num': [\"audienceScore\", \"runtimeMinutes\", \"boxOffice\"]}\n",
    "\n",
    "# sf3 = {'cat': ['isFrequentReviewer'],\n",
    "#         'num': ['releaseDiff', 'audienceScore', 'boxOffice'],\n",
    "#         'txt': ['reviewText', 'reviewerName', 'movieid', 'genre', 'director', \n",
    "#                          'ratingContents', 'distributor']}\n",
    "\n",
    "# # Individual classifiers\n",
    "# clf1 =  {'selected_model' : AdaBoostClassifier(), \n",
    "#           'selected_features' : sf1, \n",
    "#           'param_grid' : {\"model__n_estimators\": [50]},\n",
    "#           'vocab' : None,\n",
    "#           'vocab_usage' : 'tfidf',\n",
    "#           'strip_accents' : 'unicode', \n",
    "#           'add_countvec' : False}\n",
    "\n",
    "# clf2 =  {'selected_model' : RandomForestClassifier(), \n",
    "#           'selected_features' : sf2,\n",
    "#           'param_grid' : {\"model__n_estimators\": [50], \n",
    "#                           'model__criterion': ['gini']},\n",
    "#           'vocab' : None,\n",
    "#           'vocab_usage' : 'tfidf',\n",
    "#           'strip_accents' : 'unicode', \n",
    "#           'add_countvec' : False}\n",
    "\n",
    "# clf3 =  {'selected_model' : LogisticRegression(C=1, solver='saga', max_iter=100000), \n",
    "#           'selected_features' : sf3, \n",
    "#           'param_grid' : {'model__C' : [1],\n",
    "#                             'model__solver': ['saga'],\n",
    "#                             \"model__fit_intercept\" : [True],\n",
    "#                             \"model__dual\" : [False]},\n",
    "#           'vocab' : None,\n",
    "#           'vocab_usage' : 'tfidf',\n",
    "#           'strip_accents' : 'unicode', \n",
    "#           'add_countvec' : True}\n",
    "\n",
    "\n",
    "# # List of classifiers for voting\n",
    "# classifiers= [clf1, clf2, clf3]\n",
    "\n",
    "# # Final predictions \n",
    "# pred_df = submit_v5(classifiers=classifiers)"
   ]
  },
  {
   "cell_type": "code",
   "execution_count": 93,
   "id": "2f089dbb",
   "metadata": {
    "execution": {
     "iopub.execute_input": "2023-08-10T18:46:16.841283Z",
     "iopub.status.busy": "2023-08-10T18:46:16.840825Z",
     "iopub.status.idle": "2023-08-10T18:46:16.855521Z",
     "shell.execute_reply": "2023-08-10T18:46:16.854353Z"
    },
    "papermill": {
     "duration": 0.117253,
     "end_time": "2023-08-10T18:46:16.857676",
     "exception": false,
     "start_time": "2023-08-10T18:46:16.740423",
     "status": "completed"
    },
    "tags": []
   },
   "outputs": [
    {
     "name": "stdout",
     "output_type": "stream",
     "text": [
      "(55315, 1)\n"
     ]
    },
    {
     "data": {
      "text/html": [
       "<div>\n",
       "<style scoped>\n",
       "    .dataframe tbody tr th:only-of-type {\n",
       "        vertical-align: middle;\n",
       "    }\n",
       "\n",
       "    .dataframe tbody tr th {\n",
       "        vertical-align: top;\n",
       "    }\n",
       "\n",
       "    .dataframe thead th {\n",
       "        text-align: right;\n",
       "    }\n",
       "</style>\n",
       "<table border=\"1\" class=\"dataframe\">\n",
       "  <thead>\n",
       "    <tr style=\"text-align: right;\">\n",
       "      <th></th>\n",
       "      <th>sentiment</th>\n",
       "    </tr>\n",
       "    <tr>\n",
       "      <th>id</th>\n",
       "      <th></th>\n",
       "    </tr>\n",
       "  </thead>\n",
       "  <tbody>\n",
       "    <tr>\n",
       "      <th>0</th>\n",
       "      <td>POSITIVE</td>\n",
       "    </tr>\n",
       "    <tr>\n",
       "      <th>1</th>\n",
       "      <td>POSITIVE</td>\n",
       "    </tr>\n",
       "    <tr>\n",
       "      <th>2</th>\n",
       "      <td>POSITIVE</td>\n",
       "    </tr>\n",
       "    <tr>\n",
       "      <th>3</th>\n",
       "      <td>POSITIVE</td>\n",
       "    </tr>\n",
       "    <tr>\n",
       "      <th>4</th>\n",
       "      <td>POSITIVE</td>\n",
       "    </tr>\n",
       "    <tr>\n",
       "      <th>...</th>\n",
       "      <td>...</td>\n",
       "    </tr>\n",
       "    <tr>\n",
       "      <th>55310</th>\n",
       "      <td>NEGATIVE</td>\n",
       "    </tr>\n",
       "    <tr>\n",
       "      <th>55311</th>\n",
       "      <td>POSITIVE</td>\n",
       "    </tr>\n",
       "    <tr>\n",
       "      <th>55312</th>\n",
       "      <td>POSITIVE</td>\n",
       "    </tr>\n",
       "    <tr>\n",
       "      <th>55313</th>\n",
       "      <td>POSITIVE</td>\n",
       "    </tr>\n",
       "    <tr>\n",
       "      <th>55314</th>\n",
       "      <td>POSITIVE</td>\n",
       "    </tr>\n",
       "  </tbody>\n",
       "</table>\n",
       "<p>55315 rows × 1 columns</p>\n",
       "</div>"
      ],
      "text/plain": [
       "      sentiment\n",
       "id             \n",
       "0      POSITIVE\n",
       "1      POSITIVE\n",
       "2      POSITIVE\n",
       "3      POSITIVE\n",
       "4      POSITIVE\n",
       "...         ...\n",
       "55310  NEGATIVE\n",
       "55311  POSITIVE\n",
       "55312  POSITIVE\n",
       "55313  POSITIVE\n",
       "55314  POSITIVE\n",
       "\n",
       "[55315 rows x 1 columns]"
      ]
     },
     "execution_count": 93,
     "metadata": {},
     "output_type": "execute_result"
    }
   ],
   "source": [
    "print(pred_df.shape)\n",
    "pred_df"
   ]
  },
  {
   "cell_type": "code",
   "execution_count": 94,
   "id": "7e069595",
   "metadata": {
    "execution": {
     "iopub.execute_input": "2023-08-10T18:46:17.054449Z",
     "iopub.status.busy": "2023-08-10T18:46:17.054037Z",
     "iopub.status.idle": "2023-08-10T18:46:17.059051Z",
     "shell.execute_reply": "2023-08-10T18:46:17.057762Z"
    },
    "papermill": {
     "duration": 0.106251,
     "end_time": "2023-08-10T18:46:17.061396",
     "exception": false,
     "start_time": "2023-08-10T18:46:16.955145",
     "status": "completed"
    },
    "tags": []
   },
   "outputs": [],
   "source": [
    "# pred_df_mode = pred_df.mode(axis='columns')\n",
    "# print(pred_df_mode.shape)\n",
    "# pred_df_mode"
   ]
  },
  {
   "cell_type": "code",
   "execution_count": 95,
   "id": "8cdad7f3",
   "metadata": {
    "execution": {
     "iopub.execute_input": "2023-08-10T18:46:17.260388Z",
     "iopub.status.busy": "2023-08-10T18:46:17.259935Z",
     "iopub.status.idle": "2023-08-10T18:46:17.280813Z",
     "shell.execute_reply": "2023-08-10T18:46:17.279589Z"
    },
    "papermill": {
     "duration": 0.122989,
     "end_time": "2023-08-10T18:46:17.283304",
     "exception": false,
     "start_time": "2023-08-10T18:46:17.160315",
     "status": "completed"
    },
    "tags": []
   },
   "outputs": [
    {
     "data": {
      "text/plain": [
       "sentiment\n",
       "POSITIVE     44894\n",
       "NEGATIVE     10421\n",
       "dtype: int64"
      ]
     },
     "execution_count": 95,
     "metadata": {},
     "output_type": "execute_result"
    }
   ],
   "source": [
    "pred_df.value_counts()"
   ]
  },
  {
   "cell_type": "markdown",
   "id": "30f1677d",
   "metadata": {
    "papermill": {
     "duration": 0.098948,
     "end_time": "2023-08-10T18:46:17.480061",
     "exception": false,
     "start_time": "2023-08-10T18:46:17.381113",
     "status": "completed"
    },
    "tags": []
   },
   "source": [
    "# NOTE: Move submit_v4 submissions below the suubmit_v4 function  "
   ]
  },
  {
   "cell_type": "code",
   "execution_count": 96,
   "id": "e151b554",
   "metadata": {
    "execution": {
     "iopub.execute_input": "2023-08-10T18:46:17.680380Z",
     "iopub.status.busy": "2023-08-10T18:46:17.679964Z",
     "iopub.status.idle": "2023-08-10T18:46:17.684862Z",
     "shell.execute_reply": "2023-08-10T18:46:17.683489Z"
    },
    "papermill": {
     "duration": 0.108954,
     "end_time": "2023-08-10T18:46:17.687163",
     "exception": false,
     "start_time": "2023-08-10T18:46:17.578209",
     "status": "completed"
    },
    "tags": []
   },
   "outputs": [],
   "source": [
    "# Try 'submit_v4' function with default params (LogisticRegression model)  \n",
    "\n",
    "# submit_v4()\n",
    "\n",
    "#Default params to this function gave a score of 0.8259 - improvement over previous score of 0.82563!"
   ]
  },
  {
   "cell_type": "code",
   "execution_count": 97,
   "id": "8ab22b06",
   "metadata": {
    "execution": {
     "iopub.execute_input": "2023-08-10T18:46:17.887311Z",
     "iopub.status.busy": "2023-08-10T18:46:17.886830Z",
     "iopub.status.idle": "2023-08-10T18:46:17.892186Z",
     "shell.execute_reply": "2023-08-10T18:46:17.890868Z"
    },
    "papermill": {
     "duration": 0.10811,
     "end_time": "2023-08-10T18:46:17.894389",
     "exception": false,
     "start_time": "2023-08-10T18:46:17.786279",
     "status": "completed"
    },
    "tags": []
   },
   "outputs": [],
   "source": [
    "# Try out GridSearchCV on \"submit_v4\" function with param_grid  \n",
    "# param_grid = {\n",
    "#     \"model__C\": [0.1, 1, 5, 10]\n",
    "# }\n",
    "\n",
    "# submit_v4(selected_features={'txt': ['genre']}, param_grid=param_grid)"
   ]
  },
  {
   "cell_type": "markdown",
   "id": "69082e72",
   "metadata": {
    "papermill": {
     "duration": 0.100865,
     "end_time": "2023-08-10T18:46:18.094249",
     "exception": false,
     "start_time": "2023-08-10T18:46:17.993384",
     "status": "completed"
    },
    "tags": []
   },
   "source": [
    "### Try LinearSVC with GridSearchCV  "
   ]
  },
  {
   "cell_type": "code",
   "execution_count": 98,
   "id": "48c8fdfe",
   "metadata": {
    "execution": {
     "iopub.execute_input": "2023-08-10T18:46:18.305956Z",
     "iopub.status.busy": "2023-08-10T18:46:18.305442Z",
     "iopub.status.idle": "2023-08-10T18:46:18.310732Z",
     "shell.execute_reply": "2023-08-10T18:46:18.309442Z"
    },
    "papermill": {
     "duration": 0.114131,
     "end_time": "2023-08-10T18:46:18.313119",
     "exception": false,
     "start_time": "2023-08-10T18:46:18.198988",
     "status": "completed"
    },
    "tags": []
   },
   "outputs": [],
   "source": [
    "# all_dict = {'cat': [\"isFrequentReviewer\", \"rating\", \"originalLanguage\"],\n",
    "#              'num': [\"audienceScore\", \"runtimeMinutes\", \"boxOffice\"],\n",
    "#              'txt': ['reviewText', 'reviewerName', 'movieid', 'genre', 'director']}\n",
    "\n",
    "# param_grid_svc = {\n",
    "#     \"model__C\": [0.1, 1, 10, 100]\n",
    "# }\n",
    "# param_grid_svc"
   ]
  },
  {
   "cell_type": "code",
   "execution_count": 99,
   "id": "20441d3f",
   "metadata": {
    "execution": {
     "iopub.execute_input": "2023-08-10T18:46:18.524015Z",
     "iopub.status.busy": "2023-08-10T18:46:18.523492Z",
     "iopub.status.idle": "2023-08-10T18:46:18.528682Z",
     "shell.execute_reply": "2023-08-10T18:46:18.527397Z"
    },
    "papermill": {
     "duration": 0.113945,
     "end_time": "2023-08-10T18:46:18.531261",
     "exception": false,
     "start_time": "2023-08-10T18:46:18.417316",
     "status": "completed"
    },
    "tags": []
   },
   "outputs": [],
   "source": [
    "# LinearSCV on single feature  \n",
    "\n",
    "# submit_v4(selected_model=LinearSVC(max_iter=100000, random_state=42), selected_features={'num': [\"audienceScore\"]}, param_grid=param_grid_svc)\n",
    "\n",
    "# Comment: LinearSVC even on single column feature set takes too long to converge."
   ]
  },
  {
   "cell_type": "code",
   "execution_count": 100,
   "id": "b7f3ab62",
   "metadata": {
    "execution": {
     "iopub.execute_input": "2023-08-10T18:46:18.845809Z",
     "iopub.status.busy": "2023-08-10T18:46:18.845372Z",
     "iopub.status.idle": "2023-08-10T18:46:18.850329Z",
     "shell.execute_reply": "2023-08-10T18:46:18.849231Z"
    },
    "papermill": {
     "duration": 0.21807,
     "end_time": "2023-08-10T18:46:18.852502",
     "exception": false,
     "start_time": "2023-08-10T18:46:18.634432",
     "status": "completed"
    },
    "tags": []
   },
   "outputs": [],
   "source": [
    "# LinearSCV on all available features\n",
    "\n",
    "# submit_v4(selected_model=LinearSVC(max_iter=100000, random_state=42), selected_features=all_dict, param_grid=param_grid_svc)\n",
    "\n",
    "# (Update): This took 66 mins to run and gave a public score of 0.84295 (lesser than logreg gridsearchcv wwhich gave 0.84441). Best C was 1.0.\n"
   ]
  },
  {
   "cell_type": "markdown",
   "id": "4d7f58c6",
   "metadata": {
    "papermill": {
     "duration": 0.104658,
     "end_time": "2023-08-10T18:46:19.061207",
     "exception": false,
     "start_time": "2023-08-10T18:46:18.956549",
     "status": "completed"
    },
    "tags": []
   },
   "source": [
    "### Boosting techniques  "
   ]
  },
  {
   "cell_type": "code",
   "execution_count": 101,
   "id": "019f4779",
   "metadata": {
    "execution": {
     "iopub.execute_input": "2023-08-10T18:46:19.272750Z",
     "iopub.status.busy": "2023-08-10T18:46:19.272278Z",
     "iopub.status.idle": "2023-08-10T18:46:19.277884Z",
     "shell.execute_reply": "2023-08-10T18:46:19.276627Z"
    },
    "papermill": {
     "duration": 0.114374,
     "end_time": "2023-08-10T18:46:19.280391",
     "exception": false,
     "start_time": "2023-08-10T18:46:19.166017",
     "status": "completed"
    },
    "tags": []
   },
   "outputs": [],
   "source": [
    "# adc = AdaBoostClassifier(estimator=LogisticRegression(C=5, solver=\"saga\", max_iter=100000), n_estimators=50)\n",
    "# adc"
   ]
  },
  {
   "cell_type": "code",
   "execution_count": 102,
   "id": "ec034c25",
   "metadata": {
    "execution": {
     "iopub.execute_input": "2023-08-10T18:46:19.492237Z",
     "iopub.status.busy": "2023-08-10T18:46:19.491786Z",
     "iopub.status.idle": "2023-08-10T18:46:19.496216Z",
     "shell.execute_reply": "2023-08-10T18:46:19.495251Z"
    },
    "papermill": {
     "duration": 0.113811,
     "end_time": "2023-08-10T18:46:19.498491",
     "exception": false,
     "start_time": "2023-08-10T18:46:19.384680",
     "status": "completed"
    },
    "tags": []
   },
   "outputs": [],
   "source": [
    "# submit_v4(selected_model=adc, selected_features={'num': [\"audienceScore\"]}, param_grid=None)"
   ]
  },
  {
   "cell_type": "code",
   "execution_count": 103,
   "id": "021022fa",
   "metadata": {
    "execution": {
     "iopub.execute_input": "2023-08-10T18:46:19.700752Z",
     "iopub.status.busy": "2023-08-10T18:46:19.699717Z",
     "iopub.status.idle": "2023-08-10T18:46:19.704733Z",
     "shell.execute_reply": "2023-08-10T18:46:19.703867Z"
    },
    "papermill": {
     "duration": 0.106117,
     "end_time": "2023-08-10T18:46:19.706591",
     "exception": false,
     "start_time": "2023-08-10T18:46:19.600474",
     "status": "completed"
    },
    "tags": []
   },
   "outputs": [],
   "source": [
    "# submit_v4(selected_model=adc, selected_features=all_dict, param_grid=None)\n",
    "\n",
    "# Took 1 hour 15 mins to run and gave a public score of only 0.71089. Discarded."
   ]
  },
  {
   "cell_type": "markdown",
   "id": "36007afa",
   "metadata": {
    "papermill": {
     "duration": 0.098996,
     "end_time": "2023-08-10T18:46:19.904928",
     "exception": false,
     "start_time": "2023-08-10T18:46:19.805932",
     "status": "completed"
    },
    "tags": []
   },
   "source": [
    "### LightGBM  "
   ]
  },
  {
   "cell_type": "code",
   "execution_count": 104,
   "id": "d7e6aac0",
   "metadata": {
    "execution": {
     "iopub.execute_input": "2023-08-10T18:46:20.102438Z",
     "iopub.status.busy": "2023-08-10T18:46:20.101551Z",
     "iopub.status.idle": "2023-08-10T18:46:20.106067Z",
     "shell.execute_reply": "2023-08-10T18:46:20.105326Z"
    },
    "papermill": {
     "duration": 0.105631,
     "end_time": "2023-08-10T18:46:20.108107",
     "exception": false,
     "start_time": "2023-08-10T18:46:20.002476",
     "status": "completed"
    },
    "tags": []
   },
   "outputs": [],
   "source": [
    "# lgb = ltb.LGBMClassifier()\n",
    "# lgb"
   ]
  },
  {
   "cell_type": "code",
   "execution_count": 105,
   "id": "05dfe159",
   "metadata": {
    "execution": {
     "iopub.execute_input": "2023-08-10T18:46:20.321644Z",
     "iopub.status.busy": "2023-08-10T18:46:20.320459Z",
     "iopub.status.idle": "2023-08-10T18:46:20.325032Z",
     "shell.execute_reply": "2023-08-10T18:46:20.324297Z"
    },
    "papermill": {
     "duration": 0.114375,
     "end_time": "2023-08-10T18:46:20.327091",
     "exception": false,
     "start_time": "2023-08-10T18:46:20.212716",
     "status": "completed"
    },
    "tags": []
   },
   "outputs": [],
   "source": [
    "# Try LightGBM with default settings\n",
    "# (Update): Public score only 0.77713. It was fast, took less than 5 mins (without GridSearchCV)\n",
    "\n",
    "# submit_v4(selected_model=ltb.LGBMClassifier(), selected_features=all_dict, param_grid=None)"
   ]
  },
  {
   "cell_type": "markdown",
   "id": "6223a14d",
   "metadata": {
    "papermill": {
     "duration": 0.105666,
     "end_time": "2023-08-10T18:46:20.539959",
     "exception": false,
     "start_time": "2023-08-10T18:46:20.434293",
     "status": "completed"
    },
    "tags": []
   },
   "source": [
    "## Feature Engineering"
   ]
  },
  {
   "cell_type": "markdown",
   "id": "5bcfe6d4",
   "metadata": {
    "papermill": {
     "duration": 0.10624,
     "end_time": "2023-08-10T18:46:20.754086",
     "exception": false,
     "start_time": "2023-08-10T18:46:20.647846",
     "status": "completed"
    },
    "tags": []
   },
   "source": [
    "### Plan  \n",
    "* Add a new column 'reviewWC' which has word count of 'reviewText'  \n",
    "    * Check if there is any relationship between 'reviewWC' and 'sentiment'\n",
    "* Work on vocabulary\n",
    "     * Use TfidfVectorizer and find out the vocabulary of 'reviewText' column for various ngrams\n",
    "     * Use RecursiveFeatureElimination (RFE) or RFECV to select 1000 top words/vocab for each ngram\n",
    "     * Use the final vocab (1000-3000 words) in the model and see how it performs compared to whole vocab\n",
    "\n",
    "`(Update): Code incorporated into the \"select_features\" function  `  \n",
    "`(Update): Many other new features incorporated into the \"select_features\" function too  `  \n",
    "\n"
   ]
  },
  {
   "cell_type": "markdown",
   "id": "c4e9d533",
   "metadata": {
    "papermill": {
     "duration": 0.104762,
     "end_time": "2023-08-10T18:46:20.965007",
     "exception": false,
     "start_time": "2023-08-10T18:46:20.860245",
     "status": "completed"
    },
    "tags": []
   },
   "source": [
    "## Work on vocabulary  \n",
    "\n",
    "`Build vocabulary from 'reviewText' column`  "
   ]
  },
  {
   "cell_type": "code",
   "execution_count": 106,
   "id": "2dd93efc",
   "metadata": {
    "execution": {
     "iopub.execute_input": "2023-08-10T18:46:21.175907Z",
     "iopub.status.busy": "2023-08-10T18:46:21.174831Z",
     "iopub.status.idle": "2023-08-10T18:46:21.179146Z",
     "shell.execute_reply": "2023-08-10T18:46:21.178386Z"
    },
    "papermill": {
     "duration": 0.112136,
     "end_time": "2023-08-10T18:46:21.181155",
     "exception": false,
     "start_time": "2023-08-10T18:46:21.069019",
     "status": "completed"
    },
    "tags": []
   },
   "outputs": [],
   "source": [
    "# rt_senti = merged[[\"reviewText\", \"sentiment\"]].copy()\n",
    "# rt_senti.shape, rt_senti.head()"
   ]
  },
  {
   "cell_type": "code",
   "execution_count": 107,
   "id": "9bccd9b8",
   "metadata": {
    "execution": {
     "iopub.execute_input": "2023-08-10T18:46:21.381883Z",
     "iopub.status.busy": "2023-08-10T18:46:21.381086Z",
     "iopub.status.idle": "2023-08-10T18:46:21.385186Z",
     "shell.execute_reply": "2023-08-10T18:46:21.384432Z"
    },
    "papermill": {
     "duration": 0.106954,
     "end_time": "2023-08-10T18:46:21.387155",
     "exception": false,
     "start_time": "2023-08-10T18:46:21.280201",
     "status": "completed"
    },
    "tags": []
   },
   "outputs": [],
   "source": [
    "# rt_test = pd.DataFrame(merged_test[\"reviewText\"].copy())\n",
    "# rt_test.shape, rt_test.head()"
   ]
  },
  {
   "cell_type": "code",
   "execution_count": 108,
   "id": "46767cb9",
   "metadata": {
    "execution": {
     "iopub.execute_input": "2023-08-10T18:46:21.586812Z",
     "iopub.status.busy": "2023-08-10T18:46:21.586040Z",
     "iopub.status.idle": "2023-08-10T18:46:21.590942Z",
     "shell.execute_reply": "2023-08-10T18:46:21.589871Z"
    },
    "papermill": {
     "duration": 0.107319,
     "end_time": "2023-08-10T18:46:21.593249",
     "exception": false,
     "start_time": "2023-08-10T18:46:21.485930",
     "status": "completed"
    },
    "tags": []
   },
   "outputs": [],
   "source": [
    "# def get_vocab(text_df, ngram_range=(1,1)):\n",
    "#     print(f\"Generating vocabulary for ngram_range: {ngram_range}...\")\n",
    "#     tvec1 = CountVectorizer(ngram_range=ngram_range, stop_words='english', strip_accents='unicode')\n",
    "#     tvec1.fit(text_df)\n",
    "#     voc_ngram = list(tvec1.vocabulary_.keys())\n",
    "#     return voc_ngram"
   ]
  },
  {
   "cell_type": "code",
   "execution_count": 109,
   "id": "f6fcb150",
   "metadata": {
    "execution": {
     "iopub.execute_input": "2023-08-10T18:46:21.796780Z",
     "iopub.status.busy": "2023-08-10T18:46:21.796297Z",
     "iopub.status.idle": "2023-08-10T18:46:21.801377Z",
     "shell.execute_reply": "2023-08-10T18:46:21.800613Z"
    },
    "papermill": {
     "duration": 0.109558,
     "end_time": "2023-08-10T18:46:21.803399",
     "exception": false,
     "start_time": "2023-08-10T18:46:21.693841",
     "status": "completed"
    },
    "tags": []
   },
   "outputs": [],
   "source": [
    "# def get_common_vocab(df_list: list, ngram_range_list: list):\n",
    "#     \"\"\"\n",
    "#     Get common vocabulary from a list of dataframes.\n",
    "#     \"\"\"\n",
    "#     # Get vocabulary from each dataframe for a given ngram-range\n",
    "#     for ngram_range in ngram_range_list:\n",
    "#         vocab_ngram = set()\n",
    "#         for df in df_list:\n",
    "#             vocab_ngram_df = set(get_vocab(df['reviewText'], ngram_range))\n",
    "#             print(f\"Vocabulary for ngram-range {ngram_range} in df: {len(vocab_ngram_df)}\")\n",
    "#             if vocab_ngram:\n",
    "#                 vocab_ngram = vocab_ngram.intersection(vocab_ngram_df)\n",
    "#             else:\n",
    "#                 vocab_ngram = vocab_ngram_df\n",
    "#         print(f\"Common vocabulary for ngram-range {ngram_range}: {len(vocab_ngram)}\")   \n",
    "#     return vocab_ngram"
   ]
  },
  {
   "cell_type": "code",
   "execution_count": 110,
   "id": "e9dc170f",
   "metadata": {
    "execution": {
     "iopub.execute_input": "2023-08-10T18:46:22.006936Z",
     "iopub.status.busy": "2023-08-10T18:46:22.006447Z",
     "iopub.status.idle": "2023-08-10T18:46:22.010970Z",
     "shell.execute_reply": "2023-08-10T18:46:22.010090Z"
    },
    "papermill": {
     "duration": 0.108256,
     "end_time": "2023-08-10T18:46:22.013031",
     "exception": false,
     "start_time": "2023-08-10T18:46:21.904775",
     "status": "completed"
    },
    "tags": []
   },
   "outputs": [],
   "source": [
    "# voc_1gram = get_vocab(rt_senti[\"reviewText\"], ngram_range=(1,1))\n",
    "# len(voc_1gram), voc_1gram[:10]"
   ]
  },
  {
   "cell_type": "code",
   "execution_count": 111,
   "id": "0415a161",
   "metadata": {
    "execution": {
     "iopub.execute_input": "2023-08-10T18:46:22.216229Z",
     "iopub.status.busy": "2023-08-10T18:46:22.215298Z",
     "iopub.status.idle": "2023-08-10T18:46:22.219401Z",
     "shell.execute_reply": "2023-08-10T18:46:22.218634Z"
    },
    "papermill": {
     "duration": 0.110341,
     "end_time": "2023-08-10T18:46:22.222466",
     "exception": false,
     "start_time": "2023-08-10T18:46:22.112125",
     "status": "completed"
    },
    "tags": []
   },
   "outputs": [],
   "source": [
    "# voc_2gram = get_vocab(rt_senti[\"reviewText\"], ngram_range=(2,2))\n",
    "# len(voc_2gram), voc_2gram[:10]"
   ]
  },
  {
   "cell_type": "code",
   "execution_count": 112,
   "id": "cf3545e0",
   "metadata": {
    "execution": {
     "iopub.execute_input": "2023-08-10T18:46:22.419638Z",
     "iopub.status.busy": "2023-08-10T18:46:22.418978Z",
     "iopub.status.idle": "2023-08-10T18:46:22.423175Z",
     "shell.execute_reply": "2023-08-10T18:46:22.422446Z"
    },
    "papermill": {
     "duration": 0.10659,
     "end_time": "2023-08-10T18:46:22.425630",
     "exception": false,
     "start_time": "2023-08-10T18:46:22.319040",
     "status": "completed"
    },
    "tags": []
   },
   "outputs": [],
   "source": [
    "# voc_3gram = get_vocab(rt_senti[\"reviewText\"], ngram_range=(3,3))\n",
    "# len(voc_3gram), voc_3gram[:10]"
   ]
  },
  {
   "cell_type": "code",
   "execution_count": 113,
   "id": "77d5dd96",
   "metadata": {
    "execution": {
     "iopub.execute_input": "2023-08-10T18:46:22.707448Z",
     "iopub.status.busy": "2023-08-10T18:46:22.706972Z",
     "iopub.status.idle": "2023-08-10T18:46:22.711316Z",
     "shell.execute_reply": "2023-08-10T18:46:22.710471Z"
    },
    "papermill": {
     "duration": 0.108013,
     "end_time": "2023-08-10T18:46:22.713595",
     "exception": false,
     "start_time": "2023-08-10T18:46:22.605582",
     "status": "completed"
    },
    "tags": []
   },
   "outputs": [],
   "source": [
    "# common_unigrams = get_common_vocab([rt_senti, rt_test], ngram_range_list=[(1,1)])\n",
    "# # sorted(list(common_unigrams))"
   ]
  },
  {
   "cell_type": "code",
   "execution_count": 114,
   "id": "ee9b8b2e",
   "metadata": {
    "execution": {
     "iopub.execute_input": "2023-08-10T18:46:22.926675Z",
     "iopub.status.busy": "2023-08-10T18:46:22.925970Z",
     "iopub.status.idle": "2023-08-10T18:46:22.929977Z",
     "shell.execute_reply": "2023-08-10T18:46:22.929064Z"
    },
    "papermill": {
     "duration": 0.112783,
     "end_time": "2023-08-10T18:46:22.932102",
     "exception": false,
     "start_time": "2023-08-10T18:46:22.819319",
     "status": "completed"
    },
    "tags": []
   },
   "outputs": [],
   "source": [
    "# common_bigrams = get_common_vocab([rt_senti, rt_test], ngram_range_list=[(2,2)])\n",
    "# # common_bigrams"
   ]
  },
  {
   "cell_type": "code",
   "execution_count": 115,
   "id": "d6728d84",
   "metadata": {
    "execution": {
     "iopub.execute_input": "2023-08-10T18:46:23.145808Z",
     "iopub.status.busy": "2023-08-10T18:46:23.145034Z",
     "iopub.status.idle": "2023-08-10T18:46:23.149297Z",
     "shell.execute_reply": "2023-08-10T18:46:23.148238Z"
    },
    "papermill": {
     "duration": 0.113369,
     "end_time": "2023-08-10T18:46:23.151700",
     "exception": false,
     "start_time": "2023-08-10T18:46:23.038331",
     "status": "completed"
    },
    "tags": []
   },
   "outputs": [],
   "source": [
    "# common_1_2_grams = common_unigrams | common_bigrams\n",
    "# print(len(common_1_2_grams))\n",
    "# # sorted(list(common_1_2_grams))"
   ]
  },
  {
   "cell_type": "code",
   "execution_count": 116,
   "id": "24158866",
   "metadata": {
    "execution": {
     "iopub.execute_input": "2023-08-10T18:46:23.356948Z",
     "iopub.status.busy": "2023-08-10T18:46:23.356147Z",
     "iopub.status.idle": "2023-08-10T18:46:23.360593Z",
     "shell.execute_reply": "2023-08-10T18:46:23.359793Z"
    },
    "papermill": {
     "duration": 0.108402,
     "end_time": "2023-08-10T18:46:23.362659",
     "exception": false,
     "start_time": "2023-08-10T18:46:23.254257",
     "status": "completed"
    },
    "tags": []
   },
   "outputs": [],
   "source": [
    "# common_trigrams = get_common_vocab([rt_senti, rt_test], ngram_range_list=[(3,3)])\n",
    "# # common_trigrams"
   ]
  },
  {
   "cell_type": "code",
   "execution_count": 117,
   "id": "ebe5c4f4",
   "metadata": {
    "execution": {
     "iopub.execute_input": "2023-08-10T18:46:23.565365Z",
     "iopub.status.busy": "2023-08-10T18:46:23.564373Z",
     "iopub.status.idle": "2023-08-10T18:46:23.569620Z",
     "shell.execute_reply": "2023-08-10T18:46:23.568513Z"
    },
    "papermill": {
     "duration": 0.10947,
     "end_time": "2023-08-10T18:46:23.571980",
     "exception": false,
     "start_time": "2023-08-10T18:46:23.462510",
     "status": "completed"
    },
    "tags": []
   },
   "outputs": [],
   "source": [
    "# common_1_2_3_grams = common_unigrams | common_bigrams | common_trigrams\n",
    "# print(len(common_1_2_3_grams))\n",
    "# # sorted((common_1_2_3_grams))"
   ]
  },
  {
   "cell_type": "markdown",
   "id": "b92cd36d",
   "metadata": {
    "papermill": {
     "duration": 0.098747,
     "end_time": "2023-08-10T18:46:23.770643",
     "exception": false,
     "start_time": "2023-08-10T18:46:23.671896",
     "status": "completed"
    },
    "tags": []
   },
   "source": [
    "# Back to vocab after success of version 63  "
   ]
  },
  {
   "cell_type": "code",
   "execution_count": 118,
   "id": "c4c92029",
   "metadata": {
    "execution": {
     "iopub.execute_input": "2023-08-10T18:46:23.970014Z",
     "iopub.status.busy": "2023-08-10T18:46:23.969337Z",
     "iopub.status.idle": "2023-08-10T18:46:23.991359Z",
     "shell.execute_reply": "2023-08-10T18:46:23.989999Z"
    },
    "papermill": {
     "duration": 0.125293,
     "end_time": "2023-08-10T18:46:23.994592",
     "exception": false,
     "start_time": "2023-08-10T18:46:23.869299",
     "status": "completed"
    },
    "tags": []
   },
   "outputs": [],
   "source": [
    "def submit_v4(selected_model=LogisticRegression(C=1, solver='liblinear', max_iter=100000), \n",
    "              selected_features={'txt': ['reviewText']}, \n",
    "              param_grid=None,\n",
    "              vocab=None,\n",
    "              vocab_usage='tfidf',\n",
    "              strip_accents='unicode', \n",
    "              add_countvec=False):\n",
    "    \n",
    "    print(\"\\nRunning the submit_v4 function...\")\n",
    "    \n",
    "    # Fine tune selected_features\n",
    "    if add_countvec:\n",
    "        if 'txt' in selected_features.keys():\n",
    "            if \"reviewText_2\" not in selected_features['txt']:\n",
    "                selected_features['txt'].append('reviewText_2')\n",
    "    if vocab:\n",
    "        if 'txt' in selected_features.keys():\n",
    "            if \"reviewText_3\" not in selected_features['txt']:\n",
    "                selected_features['txt'].append('reviewText_3')\n",
    "    print(f\"\\nSelected features: {selected_features}\")\n",
    "\n",
    "    \n",
    "    \n",
    "    # Build Pipeline\n",
    "    pipe = build_pipeline(selected_model, selected_features, param_grid=param_grid, \n",
    "                          vocab=vocab, vocab_usage='tfidf', \n",
    "                          strip_accents=strip_accents, add_countvec=add_countvec)\n",
    "    print(pipe)\n",
    "\n",
    "    \n",
    "    \n",
    "    # Features list\n",
    "    features = []\n",
    "    for item in selected_features.values():\n",
    "        features.extend(item)\n",
    " \n",
    "\n",
    "    # Merge and preprocess train and movies data  \n",
    "    merged = select_features(load_csv(\"train\"), load_csv(\"movies\"), row_thresh_null=None)    # Decide if you want to drop any rows containing lot of nulls\n",
    "    # Impute missing numerical values  \n",
    "    # Simple Imputer for ['audienceScore', 'runtimeMinutes', 'boxOffice'] and 'releaseDate' columns\n",
    "    si = SimpleImputer(strategy='median')\n",
    "    merged[['audienceScore', 'runtimeMinutes', 'boxOffice']] = si.fit_transform(merged[['audienceScore', 'runtimeMinutes', 'boxOffice']])\n",
    "    merged['releaseDate'] = merged[\"releaseDate\"].fillna(merged[\"releaseDate\"].median())    \n",
    "    # Add new columns as needed  \n",
    "    if add_countvec:\n",
    "        merged['reviewText_2'] = merged['reviewText']\n",
    "    if vocab:\n",
    "        merged['reviewText_3'] = merged['reviewText']\n",
    "        \n",
    "    X_train = merged.drop(labels=\"sentiment\", axis=1)\n",
    "    y_train = merged[\"sentiment\"]\n",
    "\n",
    "    X_train = X_train[features]\n",
    "    \n",
    "    \n",
    "    # Check1\n",
    "    print(\"\\nCheck 1 complete.\")\n",
    "    print(f\"Shape of X_train: {X_train.shape}\")\n",
    "    print(f\"Features in X_train: {X_train.columns}\")\n",
    "#     print(X_train.head())\n",
    "    \n",
    "    \n",
    "    # Fit \n",
    "    print(\"\\nTraining started with full pipeline...\")\n",
    "    pipe.fit(X_train, y_train)\n",
    "    \n",
    "    # Check2\n",
    "    print(\"\\nCheck 2 complete.\")\n",
    "    print(\"Details of the best model using full pipeline (GridSearchCV) on X_train: \")\n",
    "    print(f\"Best Params: {pipe.best_params_}\")\n",
    "    print(f\"Best Score: {pipe.best_score_}\")\n",
    "    \n",
    "    print(predict_on_missing_review_data(pipe, features, merged))    # Function defined above\n",
    "    \n",
    "        \n",
    "    # Predict on test.csv file\n",
    "    \n",
    "    # Merge and preprocess test and movies data  \n",
    "    merged_test = select_features(load_csv(\"test\"), load_csv(\"movies\"))\n",
    "    # Transform ['audienceScore', 'runtimeMinutes', 'boxOffice'] columns in merged_test using 'si' fitted on 'merged' df  \n",
    "    merged_test[['audienceScore', 'runtimeMinutes', 'boxOffice']] = si.transform(merged_test[['audienceScore', 'runtimeMinutes', 'boxOffice']])\n",
    "    # Fill 'releaseDate' column in 'merged_test' df with median from the train (merged) df  \n",
    "    merged_test['releaseDate'] = merged_test[\"releaseDate\"].fillna(merged[\"releaseDate\"].median())\n",
    "    # Add new columns as needed \n",
    "    if add_countvec:\n",
    "        merged_test['reviewText_2'] = merged_test['reviewText']\n",
    "    if vocab:\n",
    "        merged_test['reviewText_3'] = merged_test['reviewText']\n",
    "        \n",
    "    X_test = merged_test.copy()\n",
    "\n",
    "    X_test = X_test[features]\n",
    "    \n",
    "    \n",
    "    # Check3\n",
    "    print(\"\\nCheck 3 complete.\")\n",
    "    print(f\"Shape of X_test: {X_test.shape}\")\n",
    "    print(f\"Features in X_test: {X_test.columns}\")\n",
    "#     print(X_test.head())\n",
    "    \n",
    "    y_pred = pipe.predict(X_test)\n",
    "    \n",
    "    # Check4\n",
    "    print(\"\\nCheck 4 complete.\")\n",
    "#     cv_results_df = pd.DataFrame(pipe.cv_results_)\n",
    "    print(\"Details of the best model using full pipeline (GridSearchCV) on X_train: \")\n",
    "    print(f\"Best Estimator: {pipe.best_estimator_}\")\n",
    "    print(f\"Best Params: {pipe.best_params_}\")\n",
    "    print(f\"Best Score: {pipe.best_score_}\")\n",
    "    print(f\"Best Index: {pipe.best_index_}\")\n",
    "    print(f\"Refit Time: {pipe.refit_time_}\")\n",
    "#     print(f\"Shape of CV results dataframe: {cv_results_df.shape}\")\n",
    "    \n",
    "    pred_df = pd.DataFrame(y_pred)\n",
    "    pred_df.columns = [\"sentiment\"]\n",
    "    pred_df.index.name = \"id\"\n",
    "    pred_df.to_csv(\"submission.csv\")\n",
    "    \n",
    "    print(\"\\nSuccessfully created the submission file!!!\")\n",
    "    \n",
    "    return pipe.cv_results_"
   ]
  },
  {
   "cell_type": "code",
   "execution_count": 119,
   "id": "a899c4b2",
   "metadata": {
    "execution": {
     "iopub.execute_input": "2023-08-10T18:46:24.208967Z",
     "iopub.status.busy": "2023-08-10T18:46:24.208521Z",
     "iopub.status.idle": "2023-08-10T18:46:24.217249Z",
     "shell.execute_reply": "2023-08-10T18:46:24.215665Z"
    },
    "papermill": {
     "duration": 0.117953,
     "end_time": "2023-08-10T18:46:24.219959",
     "exception": false,
     "start_time": "2023-08-10T18:46:24.102006",
     "status": "completed"
    },
    "tags": []
   },
   "outputs": [
    {
     "data": {
      "text/plain": [
       "Index(['movieid', 'reviewerName', 'isFrequentReviewer', 'reviewText',\n",
       "       'sentiment', 'title', 'audienceScore', 'rating', 'ratingContents',\n",
       "       'releaseDateTheaters', 'releaseDateStreaming', 'runtimeMinutes',\n",
       "       'genre', 'originalLanguage', 'director', 'boxOffice', 'distributor',\n",
       "       'soundType', 'reviewYN', 'reviewWC', 'genreSorted', 'rcSorted',\n",
       "       'releaseDate', 'releaseYear', 'releaseMonth', 'releaseDiff',\n",
       "       'audScoreBins', 'runtimeBins', 'boxOfficeBins', 'releaseDiffBins'],\n",
       "      dtype='object')"
      ]
     },
     "execution_count": 119,
     "metadata": {},
     "output_type": "execute_result"
    }
   ],
   "source": [
    "merged.columns"
   ]
  },
  {
   "cell_type": "code",
   "execution_count": 120,
   "id": "2a384773",
   "metadata": {
    "execution": {
     "iopub.execute_input": "2023-08-10T18:46:24.415856Z",
     "iopub.status.busy": "2023-08-10T18:46:24.415315Z",
     "iopub.status.idle": "2023-08-10T18:46:24.426727Z",
     "shell.execute_reply": "2023-08-10T18:46:24.425523Z"
    },
    "papermill": {
     "duration": 0.112947,
     "end_time": "2023-08-10T18:46:24.429030",
     "exception": false,
     "start_time": "2023-08-10T18:46:24.316083",
     "status": "completed"
    },
    "tags": []
   },
   "outputs": [],
   "source": [
    "# Best #2\n",
    "v80_dict = {'cat': ['isFrequentReviewer', 'audScoreBins', 'boxOfficeBins'], \n",
    "                  'txt': ['reviewText', 'reviewerName', 'movieid', 'genre', 'director', \n",
    "                          'ratingContents', 'distributor']}\n",
    "# Best #1\n",
    "v88_dict = {'cat': ['isFrequentReviewer', 'audScoreBins', 'boxOfficeBins'],\n",
    "            'num': ['releaseDiff'],\n",
    "            'txt': ['reviewText', 'reviewerName', 'movieid', 'genre', 'director', \n",
    "                         'ratingContents', 'distributor']}\n",
    "\n",
    "v92_dict = {'cat': ['isFrequentReviewer', 'audScoreBins', 'boxOfficeBins', 'releaseDiffBins'],\n",
    "            'txt': ['reviewText', 'reviewerName', 'title', 'genre', 'director', \n",
    "                         'ratingContents', 'distributor']}\n",
    "\n",
    "# Best univariable datapoints dict\n",
    "best_uni_dict = {'cat': [\"isFrequentReviewer\", \"audScoreBins\"],\n",
    "                 'txt': ['reviewText','movieid', 'director', \"ratingContents\"]}\n",
    "\n",
    "# param_grids for LogisticRegression  \n",
    "\n",
    "# Best #1  \n",
    "# param_grid = {\n",
    "#     'model__C' : [1],\n",
    "#     'model__solver': ['saga'],\n",
    "#     \"model__fit_intercept\" : [True],\n",
    "#     \"model__dual\" : [False]\n",
    "#     }\n",
    "\n",
    "# working\n",
    "param_grid = {\n",
    "    'model__C' : [1],\n",
    "    'model__solver': ['saga'],\n",
    "    \"model__fit_intercept\" : [True],\n",
    "    \"model__dual\" : [False],\n",
    "#     \"model__class_weight\": ['balanced', None]\n",
    "}\n",
    "\n",
    "\n",
    "# param_grids for LinearSVC  \n",
    "\n",
    "# param_grid = {\n",
    "#     'model__C' : [1, 10, 20],\n",
    "#     'model__loss': ['hinge', 'squared_hinge'],\n",
    "#     \"model__fit_intercept\" : [True, False],\n",
    "# #     \"model__dual\" : [True, False] \n",
    "# }\n",
    "\n",
    "svm = LinearSVC(max_iter=10000, random_state=42)    # LinearSVC\n",
    "\n",
    "\n",
    "# Local testing\n",
    "# selected_mov = {'num': ['audienceScore', 'boxOffice', 'releaseDiff'], \n",
    "#                 'txt': ['movieid', 'genre', 'director', \n",
    "#                          'ratingContents', 'distributor']}\n",
    "# results = submit_v4(\n",
    "#             selected_features={'num': ['boxOffice']},\n",
    "#             add_countvec=False,\n",
    "#             vocab=None,\n",
    "#             vocab_usage='tfidf',\n",
    "#             param_grid=param_grid\n",
    "#          )\n",
    "\n",
    "# results = submit_v4(selected_model = DummyClassifier(strategy='constant', constant='NEGATIVE'),\n",
    "#             selected_features={'num': ['boxOffice']},\n",
    "#             add_countvec=False,\n",
    "#             vocab=None,\n",
    "#             vocab_usage='tfidf',\n",
    "#             param_grid={'model__strategy' : ['constant']}\n",
    "#          )\n",
    "\n",
    "# Main submission\n",
    "\n",
    "# results = submit_v4(\n",
    "#     selected_features=v88_dict,\n",
    "#     add_countvec=False,\n",
    "#     vocab=common_1_2_3_grams,\n",
    "#     vocab_usage='tfidf',\n",
    "#     param_grid=param_grid\n",
    "#     )\n",
    "\n",
    "# results"
   ]
  },
  {
   "cell_type": "markdown",
   "id": "c2344ed4",
   "metadata": {
    "papermill": {
     "duration": 0.103172,
     "end_time": "2023-08-10T18:46:24.633870",
     "exception": false,
     "start_time": "2023-08-10T18:46:24.530698",
     "status": "completed"
    },
    "tags": []
   },
   "source": [
    "### ratingContents analysis  "
   ]
  },
  {
   "cell_type": "code",
   "execution_count": 121,
   "id": "4e9a03db",
   "metadata": {
    "execution": {
     "iopub.execute_input": "2023-08-10T18:46:24.839508Z",
     "iopub.status.busy": "2023-08-10T18:46:24.839085Z",
     "iopub.status.idle": "2023-08-10T18:46:24.844360Z",
     "shell.execute_reply": "2023-08-10T18:46:24.843162Z"
    },
    "papermill": {
     "duration": 0.110702,
     "end_time": "2023-08-10T18:46:24.847222",
     "exception": false,
     "start_time": "2023-08-10T18:46:24.736520",
     "status": "completed"
    },
    "tags": []
   },
   "outputs": [],
   "source": [
    "# Try string split  \n",
    "# s = \"comedy, animation, adventure, fantasy\"\n",
    "# (\",\").join(sorted(s.split(\", \")))"
   ]
  },
  {
   "cell_type": "code",
   "execution_count": 122,
   "id": "da3ad1db",
   "metadata": {
    "execution": {
     "iopub.execute_input": "2023-08-10T18:46:25.061007Z",
     "iopub.status.busy": "2023-08-10T18:46:25.060099Z",
     "iopub.status.idle": "2023-08-10T18:46:25.066400Z",
     "shell.execute_reply": "2023-08-10T18:46:25.065446Z"
    },
    "papermill": {
     "duration": 0.116822,
     "end_time": "2023-08-10T18:46:25.069166",
     "exception": false,
     "start_time": "2023-08-10T18:46:24.952344",
     "status": "completed"
    },
    "tags": []
   },
   "outputs": [],
   "source": [
    "# ratingContents_analysis = merged[[\"ratingContents\", \"sentiment\"]].copy()\n",
    "# print(ratingContents_analysis.head())\n",
    "# ratingContents_analysis[\"rcSorted\"] = ratingContents_analysis[\"ratingContents\"].apply(lambda x: (\",\").join(sorted(x.strip(\"][\").split(\", \"))))\n",
    "# ratingContents_analysis[\"rcSorted\"] = ratingContents_analysis[\"rcSorted\"].apply(lambda x: re.sub(r\"'\", \"\", x))\n",
    "# ratingContents_analysis[\"rcSorted\"] = ratingContents_analysis[\"rcSorted\"].apply(lambda x: re.sub(r\"[/\\s]\", \"_\", x))\n",
    "# ratingContents_analysis.head(10)"
   ]
  },
  {
   "cell_type": "code",
   "execution_count": 123,
   "id": "5179626e",
   "metadata": {
    "execution": {
     "iopub.execute_input": "2023-08-10T18:46:25.279928Z",
     "iopub.status.busy": "2023-08-10T18:46:25.278403Z",
     "iopub.status.idle": "2023-08-10T18:46:25.283577Z",
     "shell.execute_reply": "2023-08-10T18:46:25.282738Z"
    },
    "papermill": {
     "duration": 0.111187,
     "end_time": "2023-08-10T18:46:25.285691",
     "exception": false,
     "start_time": "2023-08-10T18:46:25.174504",
     "status": "completed"
    },
    "tags": []
   },
   "outputs": [],
   "source": [
    "# cvec_rc = CountVectorizer(ngram_range=(1,1))\n",
    "# cvec_rc.fit(ratingContents_analysis['rcSorted'])\n",
    "# # len(cvec_rc.vocabulary_), cvec_rc.vocabulary_"
   ]
  },
  {
   "cell_type": "code",
   "execution_count": 124,
   "id": "0f3ab7de",
   "metadata": {
    "execution": {
     "iopub.execute_input": "2023-08-10T18:46:25.489974Z",
     "iopub.status.busy": "2023-08-10T18:46:25.489015Z",
     "iopub.status.idle": "2023-08-10T18:46:25.494042Z",
     "shell.execute_reply": "2023-08-10T18:46:25.492854Z"
    },
    "papermill": {
     "duration": 0.112802,
     "end_time": "2023-08-10T18:46:25.496796",
     "exception": false,
     "start_time": "2023-08-10T18:46:25.383994",
     "status": "completed"
    },
    "tags": []
   },
   "outputs": [],
   "source": [
    "# genre_testing = cvec_g.transform(merged[\"genre\"])\n",
    "# print(genre_testing)"
   ]
  },
  {
   "cell_type": "markdown",
   "id": "d44954ed",
   "metadata": {
    "papermill": {
     "duration": 0.102453,
     "end_time": "2023-08-10T18:46:25.701650",
     "exception": false,
     "start_time": "2023-08-10T18:46:25.599197",
     "status": "completed"
    },
    "tags": []
   },
   "source": [
    "## Statistical tests  "
   ]
  },
  {
   "cell_type": "markdown",
   "id": "fa73e1f0",
   "metadata": {
    "papermill": {
     "duration": 0.104085,
     "end_time": "2023-08-10T18:46:25.907478",
     "exception": false,
     "start_time": "2023-08-10T18:46:25.803393",
     "status": "completed"
    },
    "tags": []
   },
   "source": [
    "[Go to genre](#genre_analysis)"
   ]
  },
  {
   "cell_type": "code",
   "execution_count": 125,
   "id": "7c39df88",
   "metadata": {
    "execution": {
     "iopub.execute_input": "2023-08-10T18:46:26.134233Z",
     "iopub.status.busy": "2023-08-10T18:46:26.132454Z",
     "iopub.status.idle": "2023-08-10T18:46:26.140130Z",
     "shell.execute_reply": "2023-08-10T18:46:26.138151Z"
    },
    "papermill": {
     "duration": 0.133172,
     "end_time": "2023-08-10T18:46:26.143462",
     "exception": false,
     "start_time": "2023-08-10T18:46:26.010290",
     "status": "completed"
    },
    "tags": []
   },
   "outputs": [],
   "source": [
    "# print(merged['boxOffice'].head())\n",
    "# merged[\"boxOffice\"].describe()"
   ]
  },
  {
   "cell_type": "code",
   "execution_count": 126,
   "id": "7f9227f6",
   "metadata": {
    "execution": {
     "iopub.execute_input": "2023-08-10T18:46:26.355383Z",
     "iopub.status.busy": "2023-08-10T18:46:26.354896Z",
     "iopub.status.idle": "2023-08-10T18:46:26.360317Z",
     "shell.execute_reply": "2023-08-10T18:46:26.358974Z"
    },
    "papermill": {
     "duration": 0.111246,
     "end_time": "2023-08-10T18:46:26.362498",
     "exception": false,
     "start_time": "2023-08-10T18:46:26.251252",
     "status": "completed"
    },
    "tags": []
   },
   "outputs": [],
   "source": [
    "# Function for independent samples t-test on numerical columns  \n",
    "# def ttest_ind(feature):\n",
    "#     pos_grp = merged[feature].loc[merged['sentiment'] == \"POSITIVE\"]\n",
    "#     neg_grp = merged[feature].loc[merged['sentiment'] == \"NEGATIVE\"]\n",
    "\n",
    "#     print(pos_grp.shape, neg_grp.shape)\n",
    "#     print(pos_grp.describe(), neg_grp.describe())\n",
    "\n",
    "#     return stats.ttest_ind(pos_grp, neg_grp)"
   ]
  },
  {
   "cell_type": "code",
   "execution_count": 127,
   "id": "d78097a5",
   "metadata": {
    "execution": {
     "iopub.execute_input": "2023-08-10T18:46:26.567262Z",
     "iopub.status.busy": "2023-08-10T18:46:26.566755Z",
     "iopub.status.idle": "2023-08-10T18:46:26.571709Z",
     "shell.execute_reply": "2023-08-10T18:46:26.570593Z"
    },
    "papermill": {
     "duration": 0.109699,
     "end_time": "2023-08-10T18:46:26.573824",
     "exception": false,
     "start_time": "2023-08-10T18:46:26.464125",
     "status": "completed"
    },
    "tags": []
   },
   "outputs": [],
   "source": [
    "# ttest_ind('boxOffice')"
   ]
  },
  {
   "cell_type": "code",
   "execution_count": 128,
   "id": "40750718",
   "metadata": {
    "execution": {
     "iopub.execute_input": "2023-08-10T18:46:26.778454Z",
     "iopub.status.busy": "2023-08-10T18:46:26.777988Z",
     "iopub.status.idle": "2023-08-10T18:46:26.783292Z",
     "shell.execute_reply": "2023-08-10T18:46:26.782004Z"
    },
    "papermill": {
     "duration": 0.110767,
     "end_time": "2023-08-10T18:46:26.785431",
     "exception": false,
     "start_time": "2023-08-10T18:46:26.674664",
     "status": "completed"
    },
    "tags": []
   },
   "outputs": [],
   "source": [
    "# ttest_ind('runtimeMinutes')"
   ]
  },
  {
   "cell_type": "code",
   "execution_count": 129,
   "id": "48cdfb63",
   "metadata": {
    "execution": {
     "iopub.execute_input": "2023-08-10T18:46:27.058508Z",
     "iopub.status.busy": "2023-08-10T18:46:27.057987Z",
     "iopub.status.idle": "2023-08-10T18:46:27.062934Z",
     "shell.execute_reply": "2023-08-10T18:46:27.061815Z"
    },
    "papermill": {
     "duration": 0.178885,
     "end_time": "2023-08-10T18:46:27.065875",
     "exception": false,
     "start_time": "2023-08-10T18:46:26.886990",
     "status": "completed"
    },
    "tags": []
   },
   "outputs": [],
   "source": [
    "# ttest_ind('audienceScore')"
   ]
  },
  {
   "cell_type": "code",
   "execution_count": 130,
   "id": "638eba93",
   "metadata": {
    "execution": {
     "iopub.execute_input": "2023-08-10T18:46:27.277611Z",
     "iopub.status.busy": "2023-08-10T18:46:27.277102Z",
     "iopub.status.idle": "2023-08-10T18:46:27.282840Z",
     "shell.execute_reply": "2023-08-10T18:46:27.281497Z"
    },
    "papermill": {
     "duration": 0.114785,
     "end_time": "2023-08-10T18:46:27.285688",
     "exception": false,
     "start_time": "2023-08-10T18:46:27.170903",
     "status": "completed"
    },
    "tags": []
   },
   "outputs": [],
   "source": [
    "# sns.boxplot(x=merged['sentiment'], y=merged['boxOffice'])"
   ]
  },
  {
   "cell_type": "markdown",
   "id": "40f627c9",
   "metadata": {
    "papermill": {
     "duration": 0.104673,
     "end_time": "2023-08-10T18:46:27.495290",
     "exception": false,
     "start_time": "2023-08-10T18:46:27.390617",
     "status": "completed"
    },
    "tags": []
   },
   "source": [
    "## <div id='genre_analysis'>Genre analysis</div>"
   ]
  },
  {
   "cell_type": "code",
   "execution_count": 131,
   "id": "a79a9f2b",
   "metadata": {
    "execution": {
     "iopub.execute_input": "2023-08-10T18:46:27.710751Z",
     "iopub.status.busy": "2023-08-10T18:46:27.710274Z",
     "iopub.status.idle": "2023-08-10T18:46:27.715594Z",
     "shell.execute_reply": "2023-08-10T18:46:27.714735Z"
    },
    "papermill": {
     "duration": 0.116165,
     "end_time": "2023-08-10T18:46:27.717666",
     "exception": false,
     "start_time": "2023-08-10T18:46:27.601501",
     "status": "completed"
    },
    "tags": []
   },
   "outputs": [],
   "source": [
    "# genre_analysis = merged[[\"genre\", \"genreSorted\", \"sentiment\"]].copy()\n",
    "# # print(genre_analysis.head())\n",
    "# # genre_analysis[\"genre\"] = genre_analysis[\"genre\"].apply(lambda x: (\",\").join(sorted(x.split(\", \"))))\n",
    "# genre_analysis.head()"
   ]
  },
  {
   "cell_type": "code",
   "execution_count": 132,
   "id": "032e6d29",
   "metadata": {
    "execution": {
     "iopub.execute_input": "2023-08-10T18:46:27.930692Z",
     "iopub.status.busy": "2023-08-10T18:46:27.929422Z",
     "iopub.status.idle": "2023-08-10T18:46:27.935154Z",
     "shell.execute_reply": "2023-08-10T18:46:27.934013Z"
    },
    "papermill": {
     "duration": 0.114511,
     "end_time": "2023-08-10T18:46:27.937653",
     "exception": false,
     "start_time": "2023-08-10T18:46:27.823142",
     "status": "completed"
    },
    "tags": []
   },
   "outputs": [],
   "source": [
    "# cvec_g = CountVectorizer(ngram_range=(1,3))\n",
    "# cvec_g.fit(genre_analysis['genre'])\n",
    "# # len(cvec_g.vocabulary_), cvec_g.vocabulary_"
   ]
  },
  {
   "cell_type": "code",
   "execution_count": 133,
   "id": "70a05cf9",
   "metadata": {
    "execution": {
     "iopub.execute_input": "2023-08-10T18:46:28.155113Z",
     "iopub.status.busy": "2023-08-10T18:46:28.154660Z",
     "iopub.status.idle": "2023-08-10T18:46:28.159774Z",
     "shell.execute_reply": "2023-08-10T18:46:28.158401Z"
    },
    "papermill": {
     "duration": 0.113853,
     "end_time": "2023-08-10T18:46:28.162179",
     "exception": false,
     "start_time": "2023-08-10T18:46:28.048326",
     "status": "completed"
    },
    "tags": []
   },
   "outputs": [],
   "source": [
    "# cvec_gSorted = CountVectorizer(ngram_range=(1,3))\n",
    "# cvec_gSorted.fit(genre_analysis['genreSorted'])\n",
    "# len(cvec_gSorted.vocabulary_), cvec_gSorted.vocabulary_"
   ]
  },
  {
   "cell_type": "code",
   "execution_count": 134,
   "id": "0db81951",
   "metadata": {
    "execution": {
     "iopub.execute_input": "2023-08-10T18:46:28.368007Z",
     "iopub.status.busy": "2023-08-10T18:46:28.367619Z",
     "iopub.status.idle": "2023-08-10T18:46:28.372448Z",
     "shell.execute_reply": "2023-08-10T18:46:28.371247Z"
    },
    "papermill": {
     "duration": 0.108967,
     "end_time": "2023-08-10T18:46:28.374817",
     "exception": false,
     "start_time": "2023-08-10T18:46:28.265850",
     "status": "completed"
    },
    "tags": []
   },
   "outputs": [],
   "source": [
    "# genre_testing = cvec_g.transform(merged[\"genre\"])\n",
    "# # print(genre_testing)"
   ]
  },
  {
   "cell_type": "code",
   "execution_count": 135,
   "id": "c5cba083",
   "metadata": {
    "execution": {
     "iopub.execute_input": "2023-08-10T18:46:28.575981Z",
     "iopub.status.busy": "2023-08-10T18:46:28.575012Z",
     "iopub.status.idle": "2023-08-10T18:46:28.580636Z",
     "shell.execute_reply": "2023-08-10T18:46:28.579508Z"
    },
    "papermill": {
     "duration": 0.107492,
     "end_time": "2023-08-10T18:46:28.582973",
     "exception": false,
     "start_time": "2023-08-10T18:46:28.475481",
     "status": "completed"
    },
    "tags": []
   },
   "outputs": [],
   "source": [
    "# genre_counts_testing = merged[[\"genre\", \"sentiment\"]].copy()\n",
    "# genre_counts_testing[\"gCount\"] = genre_counts_testing.apply(lambda x: len(str(x[\"genre\"]).split()), axis=1)\n",
    "# genre_counts_testing"
   ]
  },
  {
   "cell_type": "code",
   "execution_count": 136,
   "id": "bae7bdaf",
   "metadata": {
    "execution": {
     "iopub.execute_input": "2023-08-10T18:46:28.785918Z",
     "iopub.status.busy": "2023-08-10T18:46:28.785505Z",
     "iopub.status.idle": "2023-08-10T18:46:28.790506Z",
     "shell.execute_reply": "2023-08-10T18:46:28.789383Z"
    },
    "papermill": {
     "duration": 0.108904,
     "end_time": "2023-08-10T18:46:28.792712",
     "exception": false,
     "start_time": "2023-08-10T18:46:28.683808",
     "status": "completed"
    },
    "tags": []
   },
   "outputs": [],
   "source": [
    "# sns.boxplot(y=genre_counts_testing[\"gCount\"], x=genre_counts_testing[\"sentiment\"])"
   ]
  },
  {
   "cell_type": "code",
   "execution_count": 137,
   "id": "b7bc3542",
   "metadata": {
    "execution": {
     "iopub.execute_input": "2023-08-10T18:46:28.996646Z",
     "iopub.status.busy": "2023-08-10T18:46:28.995132Z",
     "iopub.status.idle": "2023-08-10T18:46:29.000179Z",
     "shell.execute_reply": "2023-08-10T18:46:28.999453Z"
    },
    "papermill": {
     "duration": 0.109222,
     "end_time": "2023-08-10T18:46:29.002196",
     "exception": false,
     "start_time": "2023-08-10T18:46:28.892974",
     "status": "completed"
    },
    "tags": []
   },
   "outputs": [],
   "source": [
    "# sns.boxplot(y=merged[\"reviewWC\"], x=merged[\"sentiment\"])"
   ]
  },
  {
   "cell_type": "code",
   "execution_count": 138,
   "id": "56ddcd02",
   "metadata": {
    "execution": {
     "iopub.execute_input": "2023-08-10T18:46:29.203166Z",
     "iopub.status.busy": "2023-08-10T18:46:29.202280Z",
     "iopub.status.idle": "2023-08-10T18:46:29.207393Z",
     "shell.execute_reply": "2023-08-10T18:46:29.206266Z"
    },
    "papermill": {
     "duration": 0.107942,
     "end_time": "2023-08-10T18:46:29.209777",
     "exception": false,
     "start_time": "2023-08-10T18:46:29.101835",
     "status": "completed"
    },
    "tags": []
   },
   "outputs": [],
   "source": [
    "# audienceScore bins\n",
    "# asc = merged[['audienceScore', 'sentiment']].copy()\n",
    "# asc.head()"
   ]
  },
  {
   "cell_type": "code",
   "execution_count": 139,
   "id": "c545fb47",
   "metadata": {
    "execution": {
     "iopub.execute_input": "2023-08-10T18:46:29.409799Z",
     "iopub.status.busy": "2023-08-10T18:46:29.408943Z",
     "iopub.status.idle": "2023-08-10T18:46:29.413312Z",
     "shell.execute_reply": "2023-08-10T18:46:29.412256Z"
    },
    "papermill": {
     "duration": 0.106782,
     "end_time": "2023-08-10T18:46:29.415535",
     "exception": false,
     "start_time": "2023-08-10T18:46:29.308753",
     "status": "completed"
    },
    "tags": []
   },
   "outputs": [],
   "source": [
    "# Binning numerical features  \n",
    "\n",
    "# print(merged[\"runtimeBins\"].value_counts())\n",
    "# sns.displot(merged[\"runtimeBins\"])"
   ]
  },
  {
   "cell_type": "code",
   "execution_count": 140,
   "id": "54263518",
   "metadata": {
    "execution": {
     "iopub.execute_input": "2023-08-10T18:46:29.616651Z",
     "iopub.status.busy": "2023-08-10T18:46:29.616211Z",
     "iopub.status.idle": "2023-08-10T18:46:29.621303Z",
     "shell.execute_reply": "2023-08-10T18:46:29.620357Z"
    },
    "papermill": {
     "duration": 0.107641,
     "end_time": "2023-08-10T18:46:29.623095",
     "exception": false,
     "start_time": "2023-08-10T18:46:29.515454",
     "status": "completed"
    },
    "tags": []
   },
   "outputs": [],
   "source": [
    "# Chi-square test for isFrequentReviewer column and sentiment column   \n",
    "\n",
    "# contingency_table = pd.crosstab(traindf['isFrequentReviewer'], traindf['sentiment'])\n",
    "# print(contingency_table)\n",
    "# stats.chi2_contingency(contingency_table)"
   ]
  },
  {
   "cell_type": "markdown",
   "id": "e830ce9c",
   "metadata": {
    "papermill": {
     "duration": 0.098705,
     "end_time": "2023-08-10T18:46:29.820745",
     "exception": false,
     "start_time": "2023-08-10T18:46:29.722040",
     "status": "completed"
    },
    "tags": []
   },
   "source": [
    "## Baseline performance of 'reviewText' column  "
   ]
  },
  {
   "cell_type": "code",
   "execution_count": 141,
   "id": "f675579c",
   "metadata": {
    "execution": {
     "iopub.execute_input": "2023-08-10T18:46:30.020651Z",
     "iopub.status.busy": "2023-08-10T18:46:30.020114Z",
     "iopub.status.idle": "2023-08-10T18:46:30.024522Z",
     "shell.execute_reply": "2023-08-10T18:46:30.023727Z"
    },
    "papermill": {
     "duration": 0.107249,
     "end_time": "2023-08-10T18:46:30.026388",
     "exception": false,
     "start_time": "2023-08-10T18:46:29.919139",
     "status": "completed"
    },
    "tags": []
   },
   "outputs": [],
   "source": [
    "# rt_dict = {'txt': ['reviewText']}\n",
    "# rt_dict"
   ]
  },
  {
   "cell_type": "code",
   "execution_count": 142,
   "id": "aad68237",
   "metadata": {
    "execution": {
     "iopub.execute_input": "2023-08-10T18:46:30.227582Z",
     "iopub.status.busy": "2023-08-10T18:46:30.226433Z",
     "iopub.status.idle": "2023-08-10T18:46:30.231400Z",
     "shell.execute_reply": "2023-08-10T18:46:30.230575Z"
    },
    "papermill": {
     "duration": 0.108036,
     "end_time": "2023-08-10T18:46:30.233416",
     "exception": false,
     "start_time": "2023-08-10T18:46:30.125380",
     "status": "completed"
    },
    "tags": []
   },
   "outputs": [],
   "source": [
    "# submit_v4(selected_model=LogisticRegression(C=5, solver=\"saga\", max_iter=100000),\n",
    "#           selected_features=rt_dict,\n",
    "#           param_grid=None,\n",
    "#           vocab=None)"
   ]
  },
  {
   "cell_type": "markdown",
   "id": "5592d6f1",
   "metadata": {
    "papermill": {
     "duration": 0.099293,
     "end_time": "2023-08-10T18:46:30.430723",
     "exception": false,
     "start_time": "2023-08-10T18:46:30.331430",
     "status": "completed"
    },
    "tags": []
   },
   "source": [
    "## RFE  "
   ]
  },
  {
   "cell_type": "code",
   "execution_count": 143,
   "id": "93eb837d",
   "metadata": {
    "execution": {
     "iopub.execute_input": "2023-08-10T18:46:30.636829Z",
     "iopub.status.busy": "2023-08-10T18:46:30.635607Z",
     "iopub.status.idle": "2023-08-10T18:46:30.640948Z",
     "shell.execute_reply": "2023-08-10T18:46:30.640155Z"
    },
    "papermill": {
     "duration": 0.11168,
     "end_time": "2023-08-10T18:46:30.643005",
     "exception": false,
     "start_time": "2023-08-10T18:46:30.531325",
     "status": "completed"
    },
    "tags": []
   },
   "outputs": [],
   "source": [
    "# def fs_rfe(selector, text_df, labels, ngram_range=(1,1)):\n",
    "#     text_df_ngram = TfidfVectorizer(ngram_range=ngram_range, stop_words='english').fit_transform(text_df)\n",
    "#     print(\"text_df was vectorized using TF-IDF vectorizer with ngram_range: \", ngram_range)\n",
    "#     print(\"text_df.shape: \", text_df.shape)\n",
    "#     print(\"labels.shape: \", labels.shape)\n",
    "#     print(\"text_df_ngram.shape: \", text_df_ngram.shape)\n",
    "#     print()\n",
    "\n",
    "#     print(\"Starting RFE fit...\")\n",
    "#     selector.fit(text_df_ngram, labels)\n",
    "#     print(\"RFE fit complete.\\n\")\n",
    "    \n",
    "#     print(\"selector.n_features_: \", selector.n_features_)   \n",
    "#     print(\"selector.n_features_in_: \", selector.n_features_in_)\n",
    "#     print(\"selector.support_.shape: \", selector.support_.shape)\n",
    "\n",
    "#     return selector.support_"
   ]
  },
  {
   "cell_type": "markdown",
   "id": "03888186",
   "metadata": {
    "papermill": {
     "duration": 0.099794,
     "end_time": "2023-08-10T18:46:30.843629",
     "exception": false,
     "start_time": "2023-08-10T18:46:30.743835",
     "status": "completed"
    },
    "tags": []
   },
   "source": [
    "`RFE for unigrams`  "
   ]
  },
  {
   "cell_type": "code",
   "execution_count": 144,
   "id": "a73304a2",
   "metadata": {
    "execution": {
     "iopub.execute_input": "2023-08-10T18:46:31.043544Z",
     "iopub.status.busy": "2023-08-10T18:46:31.042700Z",
     "iopub.status.idle": "2023-08-10T18:46:31.047320Z",
     "shell.execute_reply": "2023-08-10T18:46:31.046159Z"
    },
    "papermill": {
     "duration": 0.108224,
     "end_time": "2023-08-10T18:46:31.049862",
     "exception": false,
     "start_time": "2023-08-10T18:46:30.941638",
     "status": "completed"
    },
    "tags": []
   },
   "outputs": [],
   "source": [
    "# estimator_rfe_1 = LogisticRegression(solver='saga', max_iter=100000)\n",
    "# selector_rfe_1 = RFE(estimator_rfe_1, step=0.1, n_features_to_select=30000)"
   ]
  },
  {
   "cell_type": "code",
   "execution_count": 145,
   "id": "733c4c54",
   "metadata": {
    "execution": {
     "iopub.execute_input": "2023-08-10T18:46:31.252941Z",
     "iopub.status.busy": "2023-08-10T18:46:31.252133Z",
     "iopub.status.idle": "2023-08-10T18:46:31.256380Z",
     "shell.execute_reply": "2023-08-10T18:46:31.255621Z"
    },
    "papermill": {
     "duration": 0.106411,
     "end_time": "2023-08-10T18:46:31.258608",
     "exception": false,
     "start_time": "2023-08-10T18:46:31.152197",
     "status": "completed"
    },
    "tags": []
   },
   "outputs": [],
   "source": [
    "# rfe_1_feat_mask = fs_rfe(selector_rfe_1, rt_senti[\"reviewText\"], rt_senti[\"sentiment\"], ngram_range=(1,1))\n",
    "# rfe_1_feat_mask"
   ]
  },
  {
   "cell_type": "code",
   "execution_count": 146,
   "id": "2a850a74",
   "metadata": {
    "execution": {
     "iopub.execute_input": "2023-08-10T18:46:31.460396Z",
     "iopub.status.busy": "2023-08-10T18:46:31.459467Z",
     "iopub.status.idle": "2023-08-10T18:46:31.464770Z",
     "shell.execute_reply": "2023-08-10T18:46:31.463606Z"
    },
    "papermill": {
     "duration": 0.108896,
     "end_time": "2023-08-10T18:46:31.466810",
     "exception": false,
     "start_time": "2023-08-10T18:46:31.357914",
     "status": "completed"
    },
    "tags": []
   },
   "outputs": [],
   "source": [
    "# voc_1gram_rfe = list(compress(voc_1gram, rfe_1_feat_mask))\n",
    "# len(voc_1gram_rfe), voc_1gram_rfe[:10]"
   ]
  },
  {
   "cell_type": "markdown",
   "id": "55f97088",
   "metadata": {
    "papermill": {
     "duration": 0.101764,
     "end_time": "2023-08-10T18:46:31.665535",
     "exception": false,
     "start_time": "2023-08-10T18:46:31.563771",
     "status": "completed"
    },
    "tags": []
   },
   "source": [
    "`RFE for bigrams`  "
   ]
  },
  {
   "cell_type": "code",
   "execution_count": 147,
   "id": "e9498b22",
   "metadata": {
    "execution": {
     "iopub.execute_input": "2023-08-10T18:46:31.866490Z",
     "iopub.status.busy": "2023-08-10T18:46:31.865673Z",
     "iopub.status.idle": "2023-08-10T18:46:31.869917Z",
     "shell.execute_reply": "2023-08-10T18:46:31.869154Z"
    },
    "papermill": {
     "duration": 0.107461,
     "end_time": "2023-08-10T18:46:31.871951",
     "exception": false,
     "start_time": "2023-08-10T18:46:31.764490",
     "status": "completed"
    },
    "tags": []
   },
   "outputs": [],
   "source": [
    "# estimator_rfe_2 = LogisticRegression(solver='saga', max_iter=100000)\n",
    "# selector_rfe_2 = RFE(estimator_rfe_2, step=0.1, n_features_to_select=50000)"
   ]
  },
  {
   "cell_type": "code",
   "execution_count": 148,
   "id": "370d93f4",
   "metadata": {
    "execution": {
     "iopub.execute_input": "2023-08-10T18:46:32.073618Z",
     "iopub.status.busy": "2023-08-10T18:46:32.072799Z",
     "iopub.status.idle": "2023-08-10T18:46:32.077415Z",
     "shell.execute_reply": "2023-08-10T18:46:32.076609Z"
    },
    "papermill": {
     "duration": 0.108199,
     "end_time": "2023-08-10T18:46:32.079524",
     "exception": false,
     "start_time": "2023-08-10T18:46:31.971325",
     "status": "completed"
    },
    "tags": []
   },
   "outputs": [],
   "source": [
    "# rfe_2_feat_mask = fs_rfe(selector_rfe_2, rt_senti[\"reviewText\"], rt_senti[\"sentiment\"], ngram_range=(2,2))\n",
    "# rfe_2_feat_mask"
   ]
  },
  {
   "cell_type": "code",
   "execution_count": 149,
   "id": "285f3a39",
   "metadata": {
    "execution": {
     "iopub.execute_input": "2023-08-10T18:46:32.280089Z",
     "iopub.status.busy": "2023-08-10T18:46:32.279273Z",
     "iopub.status.idle": "2023-08-10T18:46:32.284015Z",
     "shell.execute_reply": "2023-08-10T18:46:32.282998Z"
    },
    "papermill": {
     "duration": 0.107731,
     "end_time": "2023-08-10T18:46:32.286403",
     "exception": false,
     "start_time": "2023-08-10T18:46:32.178672",
     "status": "completed"
    },
    "tags": []
   },
   "outputs": [],
   "source": [
    "# voc_2gram_rfe = list(compress(voc_2gram, rfe_2_feat_mask))\n",
    "# len(voc_2gram_rfe), voc_2gram_rfe[:10]"
   ]
  },
  {
   "cell_type": "markdown",
   "id": "580a585c",
   "metadata": {
    "papermill": {
     "duration": 0.100263,
     "end_time": "2023-08-10T18:46:32.486779",
     "exception": false,
     "start_time": "2023-08-10T18:46:32.386516",
     "status": "completed"
    },
    "tags": []
   },
   "source": [
    "## Final RFE-derived vocabulary  "
   ]
  },
  {
   "cell_type": "code",
   "execution_count": 150,
   "id": "e603ca0c",
   "metadata": {
    "execution": {
     "iopub.execute_input": "2023-08-10T18:46:32.686697Z",
     "iopub.status.busy": "2023-08-10T18:46:32.686197Z",
     "iopub.status.idle": "2023-08-10T18:46:32.691544Z",
     "shell.execute_reply": "2023-08-10T18:46:32.690091Z"
    },
    "papermill": {
     "duration": 0.111165,
     "end_time": "2023-08-10T18:46:32.694962",
     "exception": false,
     "start_time": "2023-08-10T18:46:32.583797",
     "status": "completed"
    },
    "tags": []
   },
   "outputs": [],
   "source": [
    "# rfe_vocab = voc_1gram_rfe + voc_2gram_rfe\n",
    "# len(rfe_vocab), rfe_vocab[:10], rfe_vocab[-10:]"
   ]
  },
  {
   "cell_type": "code",
   "execution_count": 151,
   "id": "ab96c012",
   "metadata": {
    "execution": {
     "iopub.execute_input": "2023-08-10T18:46:32.910901Z",
     "iopub.status.busy": "2023-08-10T18:46:32.909546Z",
     "iopub.status.idle": "2023-08-10T18:46:32.915214Z",
     "shell.execute_reply": "2023-08-10T18:46:32.914415Z"
    },
    "papermill": {
     "duration": 0.116167,
     "end_time": "2023-08-10T18:46:32.917853",
     "exception": false,
     "start_time": "2023-08-10T18:46:32.801686",
     "status": "completed"
    },
    "tags": []
   },
   "outputs": [],
   "source": [
    "## Test RFE obtained vocabulary in final pipeline (only with reviewText)  \n",
    "# submit_v4(selected_model=LogisticRegression(C=5, solver=\"saga\", max_iter=100000),\n",
    "#           selected_features=rt_dict,\n",
    "#           param_grid=None,\n",
    "#           vocab=rfe_vocab)"
   ]
  },
  {
   "cell_type": "markdown",
   "id": "a74535a7",
   "metadata": {
    "papermill": {
     "duration": 0.104197,
     "end_time": "2023-08-10T18:46:33.232410",
     "exception": false,
     "start_time": "2023-08-10T18:46:33.128213",
     "status": "completed"
    },
    "tags": []
   },
   "source": [
    "## Use rfe_vocab in final pipeline with all params  "
   ]
  },
  {
   "cell_type": "code",
   "execution_count": 152,
   "id": "d39c323b",
   "metadata": {
    "execution": {
     "iopub.execute_input": "2023-08-10T18:46:33.449430Z",
     "iopub.status.busy": "2023-08-10T18:46:33.448967Z",
     "iopub.status.idle": "2023-08-10T18:46:33.453957Z",
     "shell.execute_reply": "2023-08-10T18:46:33.452832Z"
    },
    "papermill": {
     "duration": 0.115613,
     "end_time": "2023-08-10T18:46:33.456510",
     "exception": false,
     "start_time": "2023-08-10T18:46:33.340897",
     "status": "completed"
    },
    "tags": []
   },
   "outputs": [],
   "source": [
    "# submit_v4(selected_model=LogisticRegression(max_iter=100000),\n",
    "#           selected_features=all_dict,\n",
    "#           param_grid=param_grid,\n",
    "#           vocab=rfe_vocab)"
   ]
  },
  {
   "cell_type": "code",
   "execution_count": 153,
   "id": "c6672556",
   "metadata": {
    "execution": {
     "iopub.execute_input": "2023-08-10T18:46:33.670299Z",
     "iopub.status.busy": "2023-08-10T18:46:33.669921Z",
     "iopub.status.idle": "2023-08-10T18:46:33.682724Z",
     "shell.execute_reply": "2023-08-10T18:46:33.681432Z"
    },
    "papermill": {
     "duration": 0.123871,
     "end_time": "2023-08-10T18:46:33.684989",
     "exception": false,
     "start_time": "2023-08-10T18:46:33.561118",
     "status": "completed"
    },
    "tags": []
   },
   "outputs": [
    {
     "data": {
      "text/html": [
       "<style>#sk-container-id-1 {color: black;background-color: white;}#sk-container-id-1 pre{padding: 0;}#sk-container-id-1 div.sk-toggleable {background-color: white;}#sk-container-id-1 label.sk-toggleable__label {cursor: pointer;display: block;width: 100%;margin-bottom: 0;padding: 0.3em;box-sizing: border-box;text-align: center;}#sk-container-id-1 label.sk-toggleable__label-arrow:before {content: \"▸\";float: left;margin-right: 0.25em;color: #696969;}#sk-container-id-1 label.sk-toggleable__label-arrow:hover:before {color: black;}#sk-container-id-1 div.sk-estimator:hover label.sk-toggleable__label-arrow:before {color: black;}#sk-container-id-1 div.sk-toggleable__content {max-height: 0;max-width: 0;overflow: hidden;text-align: left;background-color: #f0f8ff;}#sk-container-id-1 div.sk-toggleable__content pre {margin: 0.2em;color: black;border-radius: 0.25em;background-color: #f0f8ff;}#sk-container-id-1 input.sk-toggleable__control:checked~div.sk-toggleable__content {max-height: 200px;max-width: 100%;overflow: auto;}#sk-container-id-1 input.sk-toggleable__control:checked~label.sk-toggleable__label-arrow:before {content: \"▾\";}#sk-container-id-1 div.sk-estimator input.sk-toggleable__control:checked~label.sk-toggleable__label {background-color: #d4ebff;}#sk-container-id-1 div.sk-label input.sk-toggleable__control:checked~label.sk-toggleable__label {background-color: #d4ebff;}#sk-container-id-1 input.sk-hidden--visually {border: 0;clip: rect(1px 1px 1px 1px);clip: rect(1px, 1px, 1px, 1px);height: 1px;margin: -1px;overflow: hidden;padding: 0;position: absolute;width: 1px;}#sk-container-id-1 div.sk-estimator {font-family: monospace;background-color: #f0f8ff;border: 1px dotted black;border-radius: 0.25em;box-sizing: border-box;margin-bottom: 0.5em;}#sk-container-id-1 div.sk-estimator:hover {background-color: #d4ebff;}#sk-container-id-1 div.sk-parallel-item::after {content: \"\";width: 100%;border-bottom: 1px solid gray;flex-grow: 1;}#sk-container-id-1 div.sk-label:hover label.sk-toggleable__label {background-color: #d4ebff;}#sk-container-id-1 div.sk-serial::before {content: \"\";position: absolute;border-left: 1px solid gray;box-sizing: border-box;top: 0;bottom: 0;left: 50%;z-index: 0;}#sk-container-id-1 div.sk-serial {display: flex;flex-direction: column;align-items: center;background-color: white;padding-right: 0.2em;padding-left: 0.2em;position: relative;}#sk-container-id-1 div.sk-item {position: relative;z-index: 1;}#sk-container-id-1 div.sk-parallel {display: flex;align-items: stretch;justify-content: center;background-color: white;position: relative;}#sk-container-id-1 div.sk-item::before, #sk-container-id-1 div.sk-parallel-item::before {content: \"\";position: absolute;border-left: 1px solid gray;box-sizing: border-box;top: 0;bottom: 0;left: 50%;z-index: -1;}#sk-container-id-1 div.sk-parallel-item {display: flex;flex-direction: column;z-index: 1;position: relative;background-color: white;}#sk-container-id-1 div.sk-parallel-item:first-child::after {align-self: flex-end;width: 50%;}#sk-container-id-1 div.sk-parallel-item:last-child::after {align-self: flex-start;width: 50%;}#sk-container-id-1 div.sk-parallel-item:only-child::after {width: 0;}#sk-container-id-1 div.sk-dashed-wrapped {border: 1px dashed gray;margin: 0 0.4em 0.5em 0.4em;box-sizing: border-box;padding-bottom: 0.4em;background-color: white;}#sk-container-id-1 div.sk-label label {font-family: monospace;font-weight: bold;display: inline-block;line-height: 1.2em;}#sk-container-id-1 div.sk-label-container {text-align: center;}#sk-container-id-1 div.sk-container {/* jupyter's `normalize.less` sets `[hidden] { display: none; }` but bootstrap.min.css set `[hidden] { display: none !important; }` so we also need the `!important` here to be able to override the default hidden behavior on the sphinx rendered scikit-learn.org. See: https://github.com/scikit-learn/scikit-learn/issues/21755 */display: inline-block !important;position: relative;}#sk-container-id-1 div.sk-text-repr-fallback {display: none;}</style><div id=\"sk-container-id-1\" class=\"sk-top-container\"><div class=\"sk-text-repr-fallback\"><pre>AdaBoostClassifier(estimator=LogisticRegression(C=5, max_iter=100000,\n",
       "                                                solver=&#x27;saga&#x27;))</pre><b>In a Jupyter environment, please rerun this cell to show the HTML representation or trust the notebook. <br />On GitHub, the HTML representation is unable to render, please try loading this page with nbviewer.org.</b></div><div class=\"sk-container\" hidden><div class=\"sk-item sk-dashed-wrapped\"><div class=\"sk-label-container\"><div class=\"sk-label sk-toggleable\"><input class=\"sk-toggleable__control sk-hidden--visually\" id=\"sk-estimator-id-1\" type=\"checkbox\" ><label for=\"sk-estimator-id-1\" class=\"sk-toggleable__label sk-toggleable__label-arrow\">AdaBoostClassifier</label><div class=\"sk-toggleable__content\"><pre>AdaBoostClassifier(estimator=LogisticRegression(C=5, max_iter=100000,\n",
       "                                                solver=&#x27;saga&#x27;))</pre></div></div></div><div class=\"sk-parallel\"><div class=\"sk-parallel-item\"><div class=\"sk-item\"><div class=\"sk-label-container\"><div class=\"sk-label sk-toggleable\"><input class=\"sk-toggleable__control sk-hidden--visually\" id=\"sk-estimator-id-2\" type=\"checkbox\" ><label for=\"sk-estimator-id-2\" class=\"sk-toggleable__label sk-toggleable__label-arrow\">estimator: LogisticRegression</label><div class=\"sk-toggleable__content\"><pre>LogisticRegression(C=5, max_iter=100000, solver=&#x27;saga&#x27;)</pre></div></div></div><div class=\"sk-serial\"><div class=\"sk-item\"><div class=\"sk-estimator sk-toggleable\"><input class=\"sk-toggleable__control sk-hidden--visually\" id=\"sk-estimator-id-3\" type=\"checkbox\" ><label for=\"sk-estimator-id-3\" class=\"sk-toggleable__label sk-toggleable__label-arrow\">LogisticRegression</label><div class=\"sk-toggleable__content\"><pre>LogisticRegression(C=5, max_iter=100000, solver=&#x27;saga&#x27;)</pre></div></div></div></div></div></div></div></div></div></div>"
      ],
      "text/plain": [
       "AdaBoostClassifier(estimator=LogisticRegression(C=5, max_iter=100000,\n",
       "                                                solver='saga'))"
      ]
     },
     "execution_count": 153,
     "metadata": {},
     "output_type": "execute_result"
    }
   ],
   "source": [
    "adc = AdaBoostClassifier(estimator=LogisticRegression(C=5, solver=\"saga\", max_iter=100000), n_estimators=50)\n",
    "adc"
   ]
  },
  {
   "cell_type": "code",
   "execution_count": 154,
   "id": "5dab175e",
   "metadata": {
    "execution": {
     "iopub.execute_input": "2023-08-10T18:46:33.901480Z",
     "iopub.status.busy": "2023-08-10T18:46:33.900794Z",
     "iopub.status.idle": "2023-08-10T18:46:33.905459Z",
     "shell.execute_reply": "2023-08-10T18:46:33.904720Z"
    },
    "papermill": {
     "duration": 0.11367,
     "end_time": "2023-08-10T18:46:33.907617",
     "exception": false,
     "start_time": "2023-08-10T18:46:33.793947",
     "status": "completed"
    },
    "tags": []
   },
   "outputs": [],
   "source": [
    "# submit_v4(selected_model=adc,\n",
    "#           selected_features={'cat': ['isFrequentReviewer']},\n",
    "#           param_grid=None,\n",
    "#           vocab=rfe_vocab)"
   ]
  },
  {
   "cell_type": "code",
   "execution_count": 155,
   "id": "bcee714f",
   "metadata": {
    "execution": {
     "iopub.execute_input": "2023-08-10T18:46:34.122730Z",
     "iopub.status.busy": "2023-08-10T18:46:34.121914Z",
     "iopub.status.idle": "2023-08-10T18:46:34.126917Z",
     "shell.execute_reply": "2023-08-10T18:46:34.125926Z"
    },
    "papermill": {
     "duration": 0.115993,
     "end_time": "2023-08-10T18:46:34.129745",
     "exception": false,
     "start_time": "2023-08-10T18:46:34.013752",
     "status": "completed"
    },
    "tags": []
   },
   "outputs": [],
   "source": [
    "# AdaBoost on all features with RFE vocab on reviewText\n",
    "\n",
    "# submit_v4(selected_model=adc,\n",
    "#           selected_features=all_dict,\n",
    "#           param_grid=None,\n",
    "#           vocab=rfe_vocab)"
   ]
  },
  {
   "cell_type": "code",
   "execution_count": 156,
   "id": "6a9bc933",
   "metadata": {
    "execution": {
     "iopub.execute_input": "2023-08-10T18:46:34.329764Z",
     "iopub.status.busy": "2023-08-10T18:46:34.329125Z",
     "iopub.status.idle": "2023-08-10T18:46:34.333396Z",
     "shell.execute_reply": "2023-08-10T18:46:34.332628Z"
    },
    "papermill": {
     "duration": 0.106321,
     "end_time": "2023-08-10T18:46:34.335634",
     "exception": false,
     "start_time": "2023-08-10T18:46:34.229313",
     "status": "completed"
    },
    "tags": []
   },
   "outputs": [],
   "source": [
    "# RandomForestClassifier test run on one feature\n",
    "\n",
    "# rfc_2 = RandomForestClassifier()\n",
    "# rfc_2"
   ]
  },
  {
   "cell_type": "code",
   "execution_count": 157,
   "id": "64ca4ce6",
   "metadata": {
    "execution": {
     "iopub.execute_input": "2023-08-10T18:46:34.543773Z",
     "iopub.status.busy": "2023-08-10T18:46:34.543295Z",
     "iopub.status.idle": "2023-08-10T18:46:34.548753Z",
     "shell.execute_reply": "2023-08-10T18:46:34.547625Z"
    },
    "papermill": {
     "duration": 0.116186,
     "end_time": "2023-08-10T18:46:34.551287",
     "exception": false,
     "start_time": "2023-08-10T18:46:34.435101",
     "status": "completed"
    },
    "tags": []
   },
   "outputs": [],
   "source": [
    "# submit_v4(selected_model=rfc_2,\n",
    "#           selected_features={'txt': ['reviewerName']},\n",
    "#           param_grid=None,\n",
    "#           vocab=rfe_vocab)"
   ]
  },
  {
   "cell_type": "code",
   "execution_count": 158,
   "id": "c1245ad0",
   "metadata": {
    "execution": {
     "iopub.execute_input": "2023-08-10T18:46:34.769782Z",
     "iopub.status.busy": "2023-08-10T18:46:34.769283Z",
     "iopub.status.idle": "2023-08-10T18:46:34.774249Z",
     "shell.execute_reply": "2023-08-10T18:46:34.772737Z"
    },
    "papermill": {
     "duration": 0.116896,
     "end_time": "2023-08-10T18:46:34.776676",
     "exception": false,
     "start_time": "2023-08-10T18:46:34.659780",
     "status": "completed"
    },
    "tags": []
   },
   "outputs": [],
   "source": [
    "# RandomForestClassifier on all features with RFE vocab on reviewText\n",
    "\n",
    "# submit_v4(selected_model=rfc_2,\n",
    "#           selected_features=all_dict,\n",
    "#           param_grid=None,\n",
    "#           vocab=rfe_vocab)"
   ]
  },
  {
   "cell_type": "markdown",
   "id": "5e5af521",
   "metadata": {
    "papermill": {
     "duration": 0.107449,
     "end_time": "2023-08-10T18:46:34.991587",
     "exception": false,
     "start_time": "2023-08-10T18:46:34.884138",
     "status": "completed"
    },
    "tags": []
   },
   "source": [
    "## Submit_v2 for merged file models  "
   ]
  },
  {
   "cell_type": "code",
   "execution_count": 159,
   "id": "2c9859ac",
   "metadata": {
    "execution": {
     "iopub.execute_input": "2023-08-10T18:46:35.207723Z",
     "iopub.status.busy": "2023-08-10T18:46:35.207290Z",
     "iopub.status.idle": "2023-08-10T18:46:35.213110Z",
     "shell.execute_reply": "2023-08-10T18:46:35.212318Z"
    },
    "papermill": {
     "duration": 0.116821,
     "end_time": "2023-08-10T18:46:35.215119",
     "exception": false,
     "start_time": "2023-08-10T18:46:35.098298",
     "status": "completed"
    },
    "tags": []
   },
   "outputs": [],
   "source": [
    "# def submit_v2(selected_model=pipe_final, selected_features=None):\n",
    "#     '''\n",
    "#     Note that \"selected_preprocessor\" is already used within selected_model or pipeline\n",
    "#     '''\n",
    "#     # Retrain on the whole train.csv file  \n",
    "#     merged = select_features(load_csv(\"train\"), load_csv(\"movies\"))\n",
    "#     X_train = merged.drop(labels=\"sentiment\", axis=1)\n",
    "#     y_train = merged[\"sentiment\"]\n",
    "    \n",
    "#     #Use selected features\n",
    "#     if selected_features:\n",
    "#         X_train = X_train[selected_features]\n",
    "    \n",
    "#     # Check1\n",
    "#     print(X_train.shape)\n",
    "#     print(X_train.head())\n",
    "#     try:\n",
    "#         print(selected_model.named_steps['model'].intercept_, selected_model.named_steps['model'].coef_)\n",
    "#     except:\n",
    "#         print(\"Model not trained yet!\")\n",
    "    \n",
    "#     # Fit \n",
    "#     selected_model.fit(X_train, y_train)\n",
    "    \n",
    "#     # Check2\n",
    "#     print(selected_model.named_steps['model'].intercept_, selected_model.named_steps['model'].coef_)\n",
    "    \n",
    "#     # Predict on test.csv file\n",
    "#     merged_test = select_features(load_csv(\"test\"), load_csv(\"movies\"))\n",
    "#     X_test = merged_test.copy()\n",
    "#     if selected_features:\n",
    "#         X_test = X_test[selected_features]\n",
    "    \n",
    "#     # Check3\n",
    "#     print(X_test.shape)\n",
    "#     print(X_test.head())\n",
    "    \n",
    "#     y_pred = selected_model.predict(X_test)\n",
    "    \n",
    "#     pred_df = pd.DataFrame(y_pred)\n",
    "#     pred_df.columns = [\"sentiment\"]\n",
    "#     pred_df.index.name = \"id\"\n",
    "#     pred_df.to_csv(\"submission.csv\")\n",
    "    \n",
    "#     return \"Successfully created the submission file!!!\""
   ]
  },
  {
   "cell_type": "code",
   "execution_count": 160,
   "id": "61fc8ca9",
   "metadata": {
    "execution": {
     "iopub.execute_input": "2023-08-10T18:46:35.428125Z",
     "iopub.status.busy": "2023-08-10T18:46:35.427143Z",
     "iopub.status.idle": "2023-08-10T18:46:35.431392Z",
     "shell.execute_reply": "2023-08-10T18:46:35.430718Z"
    },
    "papermill": {
     "duration": 0.11383,
     "end_time": "2023-08-10T18:46:35.433650",
     "exception": false,
     "start_time": "2023-08-10T18:46:35.319820",
     "status": "completed"
    },
    "tags": []
   },
   "outputs": [],
   "source": [
    "#     X_test = merged_test.copy()\n",
    "    \n",
    "#     y_pred = pipe_best4.predict(X_test)\n",
    "# #     np.unique(y_pred, return_counts=True)\n",
    "#     pred_df = pd.DataFrame(y_pred)\n",
    "#     pred_df.columns = [\"sentiment\"]\n",
    "#     pred_df.index.name = \"id\"\n",
    "#     pred_df.value_counts()"
   ]
  },
  {
   "cell_type": "code",
   "execution_count": 161,
   "id": "2615a67e",
   "metadata": {
    "execution": {
     "iopub.execute_input": "2023-08-10T18:46:35.641146Z",
     "iopub.status.busy": "2023-08-10T18:46:35.640339Z",
     "iopub.status.idle": "2023-08-10T18:46:35.644852Z",
     "shell.execute_reply": "2023-08-10T18:46:35.644085Z"
    },
    "papermill": {
     "duration": 0.110712,
     "end_time": "2023-08-10T18:46:35.647131",
     "exception": false,
     "start_time": "2023-08-10T18:46:35.536419",
     "status": "completed"
    },
    "tags": []
   },
   "outputs": [],
   "source": [
    "# X_test.columns"
   ]
  },
  {
   "cell_type": "markdown",
   "id": "c0c4f150",
   "metadata": {
    "papermill": {
     "duration": 0.097927,
     "end_time": "2023-08-10T18:46:35.845012",
     "exception": false,
     "start_time": "2023-08-10T18:46:35.747085",
     "status": "completed"
    },
    "tags": []
   },
   "source": [
    "### Uncomment to submit using v2 of submit function  "
   ]
  },
  {
   "cell_type": "code",
   "execution_count": 162,
   "id": "007fdffa",
   "metadata": {
    "execution": {
     "iopub.execute_input": "2023-08-10T18:46:36.051384Z",
     "iopub.status.busy": "2023-08-10T18:46:36.049810Z",
     "iopub.status.idle": "2023-08-10T18:46:36.056872Z",
     "shell.execute_reply": "2023-08-10T18:46:36.055260Z"
    },
    "papermill": {
     "duration": 0.114153,
     "end_time": "2023-08-10T18:46:36.060193",
     "exception": false,
     "start_time": "2023-08-10T18:46:35.946040",
     "status": "completed"
    },
    "tags": []
   },
   "outputs": [],
   "source": [
    "# best4 = [\"audienceScore\", \"rating\", \"isFrequentReviewer\", \"reviewText\"]\n",
    "# best4"
   ]
  },
  {
   "cell_type": "code",
   "execution_count": 163,
   "id": "6f048874",
   "metadata": {
    "execution": {
     "iopub.execute_input": "2023-08-10T18:46:36.299271Z",
     "iopub.status.busy": "2023-08-10T18:46:36.298399Z",
     "iopub.status.idle": "2023-08-10T18:46:36.303427Z",
     "shell.execute_reply": "2023-08-10T18:46:36.302635Z"
    },
    "papermill": {
     "duration": 0.115333,
     "end_time": "2023-08-10T18:46:36.305744",
     "exception": false,
     "start_time": "2023-08-10T18:46:36.190411",
     "status": "completed"
    },
    "tags": []
   },
   "outputs": [],
   "source": [
    "# submit_v2(selected_model=pipe_RTonly, selected_features=['reviewText'])"
   ]
  },
  {
   "cell_type": "markdown",
   "id": "64cf396c",
   "metadata": {
    "papermill": {
     "duration": 0.105815,
     "end_time": "2023-08-10T18:46:36.517717",
     "exception": false,
     "start_time": "2023-08-10T18:46:36.411902",
     "status": "completed"
    },
    "tags": []
   },
   "source": [
    "### Inspect the submission.csv file  "
   ]
  },
  {
   "cell_type": "code",
   "execution_count": 164,
   "id": "8943f412",
   "metadata": {
    "execution": {
     "iopub.execute_input": "2023-08-10T18:46:36.736772Z",
     "iopub.status.busy": "2023-08-10T18:46:36.735932Z",
     "iopub.status.idle": "2023-08-10T18:46:36.740847Z",
     "shell.execute_reply": "2023-08-10T18:46:36.739975Z"
    },
    "papermill": {
     "duration": 0.11875,
     "end_time": "2023-08-10T18:46:36.743232",
     "exception": false,
     "start_time": "2023-08-10T18:46:36.624482",
     "status": "completed"
    },
    "tags": []
   },
   "outputs": [],
   "source": [
    "# sub = pd.read_csv('submission.csv')\n",
    "# sub.shape, sub.head()"
   ]
  },
  {
   "cell_type": "code",
   "execution_count": 165,
   "id": "99b9f25d",
   "metadata": {
    "execution": {
     "iopub.execute_input": "2023-08-10T18:46:36.958961Z",
     "iopub.status.busy": "2023-08-10T18:46:36.958089Z",
     "iopub.status.idle": "2023-08-10T18:46:36.963272Z",
     "shell.execute_reply": "2023-08-10T18:46:36.962428Z"
    },
    "papermill": {
     "duration": 0.115083,
     "end_time": "2023-08-10T18:46:36.965534",
     "exception": false,
     "start_time": "2023-08-10T18:46:36.850451",
     "status": "completed"
    },
    "tags": []
   },
   "outputs": [],
   "source": [
    "# sub['sentiment'].value_counts()"
   ]
  },
  {
   "cell_type": "markdown",
   "id": "0669351c",
   "metadata": {
    "papermill": {
     "duration": 0.106602,
     "end_time": "2023-08-10T18:46:37.179028",
     "exception": false,
     "start_time": "2023-08-10T18:46:37.072426",
     "status": "completed"
    },
    "tags": []
   },
   "source": [
    "## submit_v3 for merged file models - does not retrain on whole data  "
   ]
  },
  {
   "cell_type": "code",
   "execution_count": 166,
   "id": "7f4f2e32",
   "metadata": {
    "execution": {
     "iopub.execute_input": "2023-08-10T18:46:37.390674Z",
     "iopub.status.busy": "2023-08-10T18:46:37.389782Z",
     "iopub.status.idle": "2023-08-10T18:46:37.395416Z",
     "shell.execute_reply": "2023-08-10T18:46:37.394630Z"
    },
    "papermill": {
     "duration": 0.113664,
     "end_time": "2023-08-10T18:46:37.397709",
     "exception": false,
     "start_time": "2023-08-10T18:46:37.284045",
     "status": "completed"
    },
    "tags": []
   },
   "outputs": [],
   "source": [
    "# def submit_v3(selected_model=pipe_final):\n",
    "#     '''\n",
    "#     Note that \"selected_preprocessor\" is already used within selected_model or pipeline\n",
    "#     '''\n",
    "      \n",
    "#     # Predict on test.csv file\n",
    "#     merged_test = select_features(load_csv(\"test\"), load_csv(\"movies\"))\n",
    "#     X_test = merged_test.copy()\n",
    "    \n",
    "#     X_test = X_test[[\"audienceScore\", \"rating\", \"isFrequentReviewer\", \"reviewText\"]]    # This is a new line\n",
    "\n",
    "    \n",
    "#     y_pred = selected_model.predict(X_test)\n",
    "    \n",
    "#     pred_df = pd.DataFrame(y_pred)\n",
    "#     pred_df.columns = [\"sentiment\"]\n",
    "#     pred_df.index.name = \"id\"\n",
    "#     pred_df.to_csv(\"submission.csv\")\n",
    "    \n",
    "#     return \"Successfully created the submission file!!!\""
   ]
  },
  {
   "cell_type": "markdown",
   "id": "5456c62f",
   "metadata": {
    "papermill": {
     "duration": 0.106451,
     "end_time": "2023-08-10T18:46:37.611503",
     "exception": false,
     "start_time": "2023-08-10T18:46:37.505052",
     "status": "completed"
    },
    "tags": []
   },
   "source": [
    "### Uncomment to submit using v3 of submit function  "
   ]
  },
  {
   "cell_type": "code",
   "execution_count": 167,
   "id": "aa42e80f",
   "metadata": {
    "execution": {
     "iopub.execute_input": "2023-08-10T18:46:37.823769Z",
     "iopub.status.busy": "2023-08-10T18:46:37.823291Z",
     "iopub.status.idle": "2023-08-10T18:46:37.828322Z",
     "shell.execute_reply": "2023-08-10T18:46:37.827066Z"
    },
    "papermill": {
     "duration": 0.113811,
     "end_time": "2023-08-10T18:46:37.830663",
     "exception": false,
     "start_time": "2023-08-10T18:46:37.716852",
     "status": "completed"
    },
    "tags": []
   },
   "outputs": [],
   "source": [
    "# submit_v3(selected_model=pipe_best4)"
   ]
  },
  {
   "cell_type": "markdown",
   "id": "8273174f",
   "metadata": {
    "papermill": {
     "duration": 0.105653,
     "end_time": "2023-08-10T18:46:38.040428",
     "exception": false,
     "start_time": "2023-08-10T18:46:37.934775",
     "status": "completed"
    },
    "tags": []
   },
   "source": [
    "## Rough work  "
   ]
  },
  {
   "cell_type": "code",
   "execution_count": 168,
   "id": "c4e474ea",
   "metadata": {
    "execution": {
     "iopub.execute_input": "2023-08-10T18:46:38.251800Z",
     "iopub.status.busy": "2023-08-10T18:46:38.251404Z",
     "iopub.status.idle": "2023-08-10T18:46:44.455915Z",
     "shell.execute_reply": "2023-08-10T18:46:44.454656Z"
    },
    "papermill": {
     "duration": 6.313543,
     "end_time": "2023-08-10T18:46:44.459021",
     "exception": false,
     "start_time": "2023-08-10T18:46:38.145478",
     "status": "completed"
    },
    "tags": []
   },
   "outputs": [],
   "source": [
    "    # Predict on test.csv file\n",
    "    merged_test = select_features(load_csv(\"test\"), load_csv(\"movies\"))\n",
    "    X_test = merged_test.copy()\n",
    "    \n",
    "    X_test = X_test[[\"audienceScore\", \"rating\", \"isFrequentReviewer\", \"reviewText\"]]    # This is a new line"
   ]
  },
  {
   "cell_type": "code",
   "execution_count": 169,
   "id": "8c0d08b8",
   "metadata": {
    "execution": {
     "iopub.execute_input": "2023-08-10T18:46:44.674299Z",
     "iopub.status.busy": "2023-08-10T18:46:44.673788Z",
     "iopub.status.idle": "2023-08-10T18:46:44.679376Z",
     "shell.execute_reply": "2023-08-10T18:46:44.678027Z"
    },
    "papermill": {
     "duration": 0.1158,
     "end_time": "2023-08-10T18:46:44.681784",
     "exception": false,
     "start_time": "2023-08-10T18:46:44.565984",
     "status": "completed"
    },
    "tags": []
   },
   "outputs": [],
   "source": [
    "# X_test.head()"
   ]
  },
  {
   "cell_type": "code",
   "execution_count": 170,
   "id": "f8143de7",
   "metadata": {
    "execution": {
     "iopub.execute_input": "2023-08-10T18:46:44.901039Z",
     "iopub.status.busy": "2023-08-10T18:46:44.900258Z",
     "iopub.status.idle": "2023-08-10T18:46:44.905164Z",
     "shell.execute_reply": "2023-08-10T18:46:44.904043Z"
    },
    "papermill": {
     "duration": 0.116114,
     "end_time": "2023-08-10T18:46:44.907315",
     "exception": false,
     "start_time": "2023-08-10T18:46:44.791201",
     "status": "completed"
    },
    "tags": []
   },
   "outputs": [],
   "source": [
    "# X_test['audienceScore'].describe()"
   ]
  },
  {
   "cell_type": "code",
   "execution_count": 171,
   "id": "8c6775d0",
   "metadata": {
    "execution": {
     "iopub.execute_input": "2023-08-10T18:46:45.123529Z",
     "iopub.status.busy": "2023-08-10T18:46:45.123145Z",
     "iopub.status.idle": "2023-08-10T18:46:45.127758Z",
     "shell.execute_reply": "2023-08-10T18:46:45.126417Z"
    },
    "papermill": {
     "duration": 0.11572,
     "end_time": "2023-08-10T18:46:45.130078",
     "exception": false,
     "start_time": "2023-08-10T18:46:45.014358",
     "status": "completed"
    },
    "tags": []
   },
   "outputs": [],
   "source": [
    "# X_test['rating'].value_counts()"
   ]
  },
  {
   "cell_type": "code",
   "execution_count": 172,
   "id": "ef7d8196",
   "metadata": {
    "execution": {
     "iopub.execute_input": "2023-08-10T18:46:45.335833Z",
     "iopub.status.busy": "2023-08-10T18:46:45.335412Z",
     "iopub.status.idle": "2023-08-10T18:46:45.339601Z",
     "shell.execute_reply": "2023-08-10T18:46:45.338489Z"
    },
    "papermill": {
     "duration": 0.110265,
     "end_time": "2023-08-10T18:46:45.342052",
     "exception": false,
     "start_time": "2023-08-10T18:46:45.231787",
     "status": "completed"
    },
    "tags": []
   },
   "outputs": [],
   "source": [
    "# X_test['isFrequentReviewer'].value_counts()"
   ]
  },
  {
   "cell_type": "markdown",
   "id": "f6e77c83",
   "metadata": {
    "papermill": {
     "duration": 0.101052,
     "end_time": "2023-08-10T18:46:45.544895",
     "exception": false,
     "start_time": "2023-08-10T18:46:45.443843",
     "status": "completed"
    },
    "tags": []
   },
   "source": [
    "## Implement KNN classifier  "
   ]
  },
  {
   "cell_type": "code",
   "execution_count": 173,
   "id": "f45dda86",
   "metadata": {
    "execution": {
     "iopub.execute_input": "2023-08-10T18:46:45.751603Z",
     "iopub.status.busy": "2023-08-10T18:46:45.751144Z",
     "iopub.status.idle": "2023-08-10T18:46:45.756509Z",
     "shell.execute_reply": "2023-08-10T18:46:45.755408Z"
    },
    "papermill": {
     "duration": 0.114582,
     "end_time": "2023-08-10T18:46:45.758873",
     "exception": false,
     "start_time": "2023-08-10T18:46:45.644291",
     "status": "completed"
    },
    "tags": []
   },
   "outputs": [],
   "source": [
    "# from sklearn.neighbors import KNeighborsClassifier"
   ]
  },
  {
   "cell_type": "code",
   "execution_count": 174,
   "id": "32b05017",
   "metadata": {
    "execution": {
     "iopub.execute_input": "2023-08-10T18:46:45.978408Z",
     "iopub.status.busy": "2023-08-10T18:46:45.977990Z",
     "iopub.status.idle": "2023-08-10T18:46:45.982969Z",
     "shell.execute_reply": "2023-08-10T18:46:45.981603Z"
    },
    "papermill": {
     "duration": 0.115542,
     "end_time": "2023-08-10T18:46:45.985262",
     "exception": false,
     "start_time": "2023-08-10T18:46:45.869720",
     "status": "completed"
    },
    "tags": []
   },
   "outputs": [],
   "source": [
    "# Note that we are borrowing \"ct_final\" column transformer from above  "
   ]
  },
  {
   "cell_type": "code",
   "execution_count": 175,
   "id": "08d60b51",
   "metadata": {
    "execution": {
     "iopub.execute_input": "2023-08-10T18:46:46.226883Z",
     "iopub.status.busy": "2023-08-10T18:46:46.226406Z",
     "iopub.status.idle": "2023-08-10T18:46:46.231469Z",
     "shell.execute_reply": "2023-08-10T18:46:46.230322Z"
    },
    "papermill": {
     "duration": 0.124196,
     "end_time": "2023-08-10T18:46:46.233924",
     "exception": false,
     "start_time": "2023-08-10T18:46:46.109728",
     "status": "completed"
    },
    "tags": []
   },
   "outputs": [],
   "source": [
    "# pipe_knn = Pipeline(steps=[\n",
    "#                         (\"preprocessor\", ct_final),\n",
    "#                         (\"model\", KNeighborsClassifier())\n",
    "#                     ])\n",
    "# pipe_knn"
   ]
  },
  {
   "cell_type": "code",
   "execution_count": 176,
   "id": "4df90864",
   "metadata": {
    "execution": {
     "iopub.execute_input": "2023-08-10T18:46:46.438198Z",
     "iopub.status.busy": "2023-08-10T18:46:46.437287Z",
     "iopub.status.idle": "2023-08-10T18:46:46.441818Z",
     "shell.execute_reply": "2023-08-10T18:46:46.440862Z"
    },
    "papermill": {
     "duration": 0.108235,
     "end_time": "2023-08-10T18:46:46.443848",
     "exception": false,
     "start_time": "2023-08-10T18:46:46.335613",
     "status": "completed"
    },
    "tags": []
   },
   "outputs": [],
   "source": [
    "# Train and predict on merged training data  \n",
    "# split_train_predict(merged_train_features, merged_train_labels, pipe_knn, test_size=0.25, random_state=42)"
   ]
  },
  {
   "cell_type": "markdown",
   "id": "c6b50295",
   "metadata": {
    "papermill": {
     "duration": 0.100493,
     "end_time": "2023-08-10T18:46:46.647395",
     "exception": false,
     "start_time": "2023-08-10T18:46:46.546902",
     "status": "completed"
    },
    "tags": []
   },
   "source": [
    "# Part I (Older code)  "
   ]
  },
  {
   "cell_type": "markdown",
   "id": "ed0483a9",
   "metadata": {
    "papermill": {
     "duration": 0.101582,
     "end_time": "2023-08-10T18:46:46.851638",
     "exception": false,
     "start_time": "2023-08-10T18:46:46.750056",
     "status": "completed"
    },
    "tags": []
   },
   "source": [
    "### Logistic Regression with stop words  "
   ]
  },
  {
   "cell_type": "code",
   "execution_count": 177,
   "id": "8e389286",
   "metadata": {
    "execution": {
     "iopub.execute_input": "2023-08-10T18:46:47.055012Z",
     "iopub.status.busy": "2023-08-10T18:46:47.054542Z",
     "iopub.status.idle": "2023-08-10T18:46:47.059240Z",
     "shell.execute_reply": "2023-08-10T18:46:47.058175Z"
    },
    "papermill": {
     "duration": 0.109414,
     "end_time": "2023-08-10T18:46:47.061484",
     "exception": false,
     "start_time": "2023-08-10T18:46:46.952070",
     "status": "completed"
    },
    "tags": []
   },
   "outputs": [],
   "source": [
    "# tvec_sw = TfidfVectorizer(stop_words=stop_words)"
   ]
  },
  {
   "cell_type": "code",
   "execution_count": 178,
   "id": "8f60af93",
   "metadata": {
    "execution": {
     "iopub.execute_input": "2023-08-10T18:46:47.268395Z",
     "iopub.status.busy": "2023-08-10T18:46:47.267466Z",
     "iopub.status.idle": "2023-08-10T18:46:47.273329Z",
     "shell.execute_reply": "2023-08-10T18:46:47.271909Z"
    },
    "papermill": {
     "duration": 0.110742,
     "end_time": "2023-08-10T18:46:47.275793",
     "exception": false,
     "start_time": "2023-08-10T18:46:47.165051",
     "status": "completed"
    },
    "tags": []
   },
   "outputs": [],
   "source": [
    "# logreg_sw_pipe = preprocess_n_train(X_train, y_train, tvec_sw, logreg)\n",
    "# logreg_sw_pipe"
   ]
  },
  {
   "cell_type": "code",
   "execution_count": 179,
   "id": "d3e464aa",
   "metadata": {
    "execution": {
     "iopub.execute_input": "2023-08-10T18:46:47.478821Z",
     "iopub.status.busy": "2023-08-10T18:46:47.478362Z",
     "iopub.status.idle": "2023-08-10T18:46:47.483320Z",
     "shell.execute_reply": "2023-08-10T18:46:47.482036Z"
    },
    "papermill": {
     "duration": 0.11103,
     "end_time": "2023-08-10T18:46:47.485532",
     "exception": false,
     "start_time": "2023-08-10T18:46:47.374502",
     "status": "completed"
    },
    "tags": []
   },
   "outputs": [],
   "source": [
    "# y_pred_logreg_sw = predict_n_evaluate(logreg_sw_pipe, X_test, y_test)\n",
    "# y_pred_logreg_sw"
   ]
  },
  {
   "cell_type": "markdown",
   "id": "df296c46",
   "metadata": {
    "papermill": {
     "duration": 0.101566,
     "end_time": "2023-08-10T18:46:47.688840",
     "exception": false,
     "start_time": "2023-08-10T18:46:47.587274",
     "status": "completed"
    },
    "tags": []
   },
   "source": [
    "### Logistic regression with different ngram ranges  "
   ]
  },
  {
   "cell_type": "code",
   "execution_count": 180,
   "id": "99a0b554",
   "metadata": {
    "execution": {
     "iopub.execute_input": "2023-08-10T18:46:47.892895Z",
     "iopub.status.busy": "2023-08-10T18:46:47.892097Z",
     "iopub.status.idle": "2023-08-10T18:46:47.896773Z",
     "shell.execute_reply": "2023-08-10T18:46:47.895764Z"
    },
    "papermill": {
     "duration": 0.109989,
     "end_time": "2023-08-10T18:46:47.898826",
     "exception": false,
     "start_time": "2023-08-10T18:46:47.788837",
     "status": "completed"
    },
    "tags": []
   },
   "outputs": [],
   "source": [
    "# tvec_ngram_2 = TfidfVectorizer(ngram_range=(1,2))"
   ]
  },
  {
   "cell_type": "code",
   "execution_count": 181,
   "id": "dcb7fc1e",
   "metadata": {
    "execution": {
     "iopub.execute_input": "2023-08-10T18:46:48.101147Z",
     "iopub.status.busy": "2023-08-10T18:46:48.100659Z",
     "iopub.status.idle": "2023-08-10T18:46:48.105786Z",
     "shell.execute_reply": "2023-08-10T18:46:48.104765Z"
    },
    "papermill": {
     "duration": 0.109866,
     "end_time": "2023-08-10T18:46:48.108069",
     "exception": false,
     "start_time": "2023-08-10T18:46:47.998203",
     "status": "completed"
    },
    "tags": []
   },
   "outputs": [],
   "source": [
    "# logreg_ng2_pipe = preprocess_n_train(X_train, y_train, tvec_ngram_2, logreg)\n",
    "# logreg_ng2_pipe"
   ]
  },
  {
   "cell_type": "code",
   "execution_count": 182,
   "id": "d123b3ad",
   "metadata": {
    "execution": {
     "iopub.execute_input": "2023-08-10T18:46:48.310375Z",
     "iopub.status.busy": "2023-08-10T18:46:48.309887Z",
     "iopub.status.idle": "2023-08-10T18:46:48.315064Z",
     "shell.execute_reply": "2023-08-10T18:46:48.313873Z"
    },
    "papermill": {
     "duration": 0.107614,
     "end_time": "2023-08-10T18:46:48.317266",
     "exception": false,
     "start_time": "2023-08-10T18:46:48.209652",
     "status": "completed"
    },
    "tags": []
   },
   "outputs": [],
   "source": [
    "# y_pred_logreg_ng2 = predict_n_evaluate(logreg_ng2_pipe, X_test, y_test)\n",
    "# y_pred_logreg_ng2"
   ]
  },
  {
   "cell_type": "markdown",
   "id": "c979f6d6",
   "metadata": {
    "papermill": {
     "duration": 0.10156,
     "end_time": "2023-08-10T18:46:48.597408",
     "exception": false,
     "start_time": "2023-08-10T18:46:48.495848",
     "status": "completed"
    },
    "tags": []
   },
   "source": [
    "### Logistic regression with C=2, ngram range (1,2), stop words as None and min_df, max_df adjusted\n",
    "### Class weight balanced"
   ]
  },
  {
   "cell_type": "code",
   "execution_count": 183,
   "id": "5ab187fd",
   "metadata": {
    "execution": {
     "iopub.execute_input": "2023-08-10T18:46:48.802025Z",
     "iopub.status.busy": "2023-08-10T18:46:48.801545Z",
     "iopub.status.idle": "2023-08-10T18:46:48.806389Z",
     "shell.execute_reply": "2023-08-10T18:46:48.805353Z"
    },
    "papermill": {
     "duration": 0.110447,
     "end_time": "2023-08-10T18:46:48.808439",
     "exception": false,
     "start_time": "2023-08-10T18:46:48.697992",
     "status": "completed"
    },
    "tags": []
   },
   "outputs": [],
   "source": [
    "# logreg = LogisticRegression(max_iter=100000, C=2, class_weight=\"balanced\")"
   ]
  },
  {
   "cell_type": "code",
   "execution_count": 184,
   "id": "c3d384b0",
   "metadata": {
    "execution": {
     "iopub.execute_input": "2023-08-10T18:46:49.012610Z",
     "iopub.status.busy": "2023-08-10T18:46:49.012074Z",
     "iopub.status.idle": "2023-08-10T18:46:49.017069Z",
     "shell.execute_reply": "2023-08-10T18:46:49.015946Z"
    },
    "papermill": {
     "duration": 0.109433,
     "end_time": "2023-08-10T18:46:49.019280",
     "exception": false,
     "start_time": "2023-08-10T18:46:48.909847",
     "status": "completed"
    },
    "tags": []
   },
   "outputs": [],
   "source": [
    "# tvec_ngram_2_sw_df = TfidfVectorizer(ngram_range=(1,2), stop_words=None, min_df=0.0001, max_df=0.50)\n",
    "# tvec_ngram_2_sw_df"
   ]
  },
  {
   "cell_type": "code",
   "execution_count": 185,
   "id": "b4df6d63",
   "metadata": {
    "execution": {
     "iopub.execute_input": "2023-08-10T18:46:49.222891Z",
     "iopub.status.busy": "2023-08-10T18:46:49.222400Z",
     "iopub.status.idle": "2023-08-10T18:46:49.227471Z",
     "shell.execute_reply": "2023-08-10T18:46:49.226347Z"
    },
    "papermill": {
     "duration": 0.109593,
     "end_time": "2023-08-10T18:46:49.229665",
     "exception": false,
     "start_time": "2023-08-10T18:46:49.120072",
     "status": "completed"
    },
    "tags": []
   },
   "outputs": [],
   "source": [
    "# logreg_ng2_sw_df_pipe = preprocess_n_train(X_train, y_train, tvec_ngram_2_sw_df, logreg)\n",
    "# logreg_ng2_sw_df_pipe"
   ]
  },
  {
   "cell_type": "code",
   "execution_count": 186,
   "id": "dbfce683",
   "metadata": {
    "execution": {
     "iopub.execute_input": "2023-08-10T18:46:49.430490Z",
     "iopub.status.busy": "2023-08-10T18:46:49.430025Z",
     "iopub.status.idle": "2023-08-10T18:46:49.434908Z",
     "shell.execute_reply": "2023-08-10T18:46:49.433803Z"
    },
    "papermill": {
     "duration": 0.108436,
     "end_time": "2023-08-10T18:46:49.437395",
     "exception": false,
     "start_time": "2023-08-10T18:46:49.328959",
     "status": "completed"
    },
    "tags": []
   },
   "outputs": [],
   "source": [
    "# y_pred_logreg_ng2_sw_df = predict_n_evaluate(logreg_ng2_sw_df_pipe, X_test, y_test)\n",
    "# y_pred_logreg_ng2_sw_df"
   ]
  },
  {
   "cell_type": "markdown",
   "id": "93ff164c",
   "metadata": {
    "papermill": {
     "duration": 0.100594,
     "end_time": "2023-08-10T18:46:49.638932",
     "exception": false,
     "start_time": "2023-08-10T18:46:49.538338",
     "status": "completed"
    },
    "tags": []
   },
   "source": [
    "### Log reg with parameters from GridSearchCV  \n",
    "\n",
    "`This is the best score with \"reviewText column alone for analysis`  "
   ]
  },
  {
   "cell_type": "code",
   "execution_count": 187,
   "id": "481e5cd5",
   "metadata": {
    "execution": {
     "iopub.execute_input": "2023-08-10T18:46:49.847897Z",
     "iopub.status.busy": "2023-08-10T18:46:49.847463Z",
     "iopub.status.idle": "2023-08-10T18:46:49.853023Z",
     "shell.execute_reply": "2023-08-10T18:46:49.851875Z"
    },
    "papermill": {
     "duration": 0.111253,
     "end_time": "2023-08-10T18:46:49.855784",
     "exception": false,
     "start_time": "2023-08-10T18:46:49.744531",
     "status": "completed"
    },
    "tags": []
   },
   "outputs": [],
   "source": [
    "logreg_cv1 = LogisticRegression(max_iter=100000, C=10)\n",
    "tvec_cv1 = TfidfVectorizer(max_features=None, ngram_range=(1,2))"
   ]
  },
  {
   "cell_type": "code",
   "execution_count": 188,
   "id": "5ebd237a",
   "metadata": {
    "execution": {
     "iopub.execute_input": "2023-08-10T18:46:50.059039Z",
     "iopub.status.busy": "2023-08-10T18:46:50.058549Z",
     "iopub.status.idle": "2023-08-10T18:46:50.064234Z",
     "shell.execute_reply": "2023-08-10T18:46:50.063099Z"
    },
    "papermill": {
     "duration": 0.109855,
     "end_time": "2023-08-10T18:46:50.066405",
     "exception": false,
     "start_time": "2023-08-10T18:46:49.956550",
     "status": "completed"
    },
    "tags": []
   },
   "outputs": [],
   "source": [
    "pipe_cv1 = Pipeline(steps=[\n",
    "    (\"preprocessor\", tvec_cv1),\n",
    "    (\"model\", logreg_cv1)\n",
    "])"
   ]
  },
  {
   "cell_type": "code",
   "execution_count": 189,
   "id": "fef36933",
   "metadata": {
    "execution": {
     "iopub.execute_input": "2023-08-10T18:46:50.267697Z",
     "iopub.status.busy": "2023-08-10T18:46:50.267196Z",
     "iopub.status.idle": "2023-08-10T18:46:50.272533Z",
     "shell.execute_reply": "2023-08-10T18:46:50.271424Z"
    },
    "papermill": {
     "duration": 0.109927,
     "end_time": "2023-08-10T18:46:50.275151",
     "exception": false,
     "start_time": "2023-08-10T18:46:50.165224",
     "status": "completed"
    },
    "tags": []
   },
   "outputs": [],
   "source": [
    "# pipe_cv1.fit(X_train, y_train)"
   ]
  },
  {
   "cell_type": "code",
   "execution_count": 190,
   "id": "a5ea2f24",
   "metadata": {
    "execution": {
     "iopub.execute_input": "2023-08-10T18:46:50.479998Z",
     "iopub.status.busy": "2023-08-10T18:46:50.479501Z",
     "iopub.status.idle": "2023-08-10T18:46:50.484682Z",
     "shell.execute_reply": "2023-08-10T18:46:50.483550Z"
    },
    "papermill": {
     "duration": 0.109926,
     "end_time": "2023-08-10T18:46:50.486831",
     "exception": false,
     "start_time": "2023-08-10T18:46:50.376905",
     "status": "completed"
    },
    "tags": []
   },
   "outputs": [],
   "source": [
    "# pipe_cv1.score(X_train, y_train)"
   ]
  },
  {
   "cell_type": "markdown",
   "id": "a1a21427",
   "metadata": {
    "papermill": {
     "duration": 0.102488,
     "end_time": "2023-08-10T18:46:50.690097",
     "exception": false,
     "start_time": "2023-08-10T18:46:50.587609",
     "status": "completed"
    },
    "tags": []
   },
   "source": [
    "### SVM model with stop words  "
   ]
  },
  {
   "cell_type": "code",
   "execution_count": 191,
   "id": "e859ab6f",
   "metadata": {
    "execution": {
     "iopub.execute_input": "2023-08-10T18:46:50.900678Z",
     "iopub.status.busy": "2023-08-10T18:46:50.900233Z",
     "iopub.status.idle": "2023-08-10T18:46:50.905103Z",
     "shell.execute_reply": "2023-08-10T18:46:50.903891Z"
    },
    "papermill": {
     "duration": 0.113662,
     "end_time": "2023-08-10T18:46:50.907479",
     "exception": false,
     "start_time": "2023-08-10T18:46:50.793817",
     "status": "completed"
    },
    "tags": []
   },
   "outputs": [],
   "source": [
    "# svm_sw_pipe = preprocess_n_train(X_train, y_train, tvec_sw, svm)\n",
    "# svm_sw_pipe"
   ]
  },
  {
   "cell_type": "code",
   "execution_count": 192,
   "id": "355524e1",
   "metadata": {
    "execution": {
     "iopub.execute_input": "2023-08-10T18:46:51.122709Z",
     "iopub.status.busy": "2023-08-10T18:46:51.122324Z",
     "iopub.status.idle": "2023-08-10T18:46:51.126955Z",
     "shell.execute_reply": "2023-08-10T18:46:51.125725Z"
    },
    "papermill": {
     "duration": 0.114908,
     "end_time": "2023-08-10T18:46:51.129171",
     "exception": false,
     "start_time": "2023-08-10T18:46:51.014263",
     "status": "completed"
    },
    "tags": []
   },
   "outputs": [],
   "source": [
    "# y_pred_svm_sw = predict_n_evaluate(svm_sw_pipe, X_test, y_test)\n",
    "# y_pred_svm_sw"
   ]
  },
  {
   "cell_type": "markdown",
   "id": "1226cfa3",
   "metadata": {
    "papermill": {
     "duration": 0.106522,
     "end_time": "2023-08-10T18:46:51.341737",
     "exception": false,
     "start_time": "2023-08-10T18:46:51.235215",
     "status": "completed"
    },
    "tags": []
   },
   "source": [
    "### GaussianNB  "
   ]
  },
  {
   "cell_type": "markdown",
   "id": "de5048a6",
   "metadata": {
    "papermill": {
     "duration": 0.105897,
     "end_time": "2023-08-10T18:46:51.553987",
     "exception": false,
     "start_time": "2023-08-10T18:46:51.448090",
     "status": "completed"
    },
    "tags": []
   },
   "source": [
    "https://stackoverflow.com/questions/28384680/scikit-learns-pipeline-a-sparse-matrix-was-passed-but-dense-data-is-required"
   ]
  },
  {
   "cell_type": "code",
   "execution_count": 193,
   "id": "98cb3d5a",
   "metadata": {
    "execution": {
     "iopub.execute_input": "2023-08-10T18:46:51.774837Z",
     "iopub.status.busy": "2023-08-10T18:46:51.774419Z",
     "iopub.status.idle": "2023-08-10T18:46:51.778856Z",
     "shell.execute_reply": "2023-08-10T18:46:51.777694Z"
    },
    "papermill": {
     "duration": 0.119484,
     "end_time": "2023-08-10T18:46:51.781288",
     "exception": false,
     "start_time": "2023-08-10T18:46:51.661804",
     "status": "completed"
    },
    "tags": []
   },
   "outputs": [],
   "source": [
    "# gnb = GaussianNB()\n",
    "# gnb"
   ]
  },
  {
   "cell_type": "code",
   "execution_count": 194,
   "id": "bd45a406",
   "metadata": {
    "execution": {
     "iopub.execute_input": "2023-08-10T18:46:51.991191Z",
     "iopub.status.busy": "2023-08-10T18:46:51.990713Z",
     "iopub.status.idle": "2023-08-10T18:46:51.995303Z",
     "shell.execute_reply": "2023-08-10T18:46:51.994265Z"
    },
    "papermill": {
     "duration": 0.109678,
     "end_time": "2023-08-10T18:46:51.997465",
     "exception": false,
     "start_time": "2023-08-10T18:46:51.887787",
     "status": "completed"
    },
    "tags": []
   },
   "outputs": [],
   "source": [
    "# gnb_pipe = preprocess_n_train(X_train, y_train, tvec, gnb)\n",
    "# gnb_pipe"
   ]
  },
  {
   "cell_type": "markdown",
   "id": "5405dfc4",
   "metadata": {
    "papermill": {
     "duration": 0.164049,
     "end_time": "2023-08-10T18:46:52.260801",
     "exception": false,
     "start_time": "2023-08-10T18:46:52.096752",
     "status": "completed"
    },
    "tags": []
   },
   "source": [
    "# Part II (Older code)  \n"
   ]
  },
  {
   "cell_type": "markdown",
   "id": "7bec45ef",
   "metadata": {
    "papermill": {
     "duration": 0.097708,
     "end_time": "2023-08-10T18:46:52.454231",
     "exception": false,
     "start_time": "2023-08-10T18:46:52.356523",
     "status": "completed"
    },
    "tags": []
   },
   "source": [
    "### Separate features and labels from merged dataset  "
   ]
  },
  {
   "cell_type": "code",
   "execution_count": 195,
   "id": "a7911b5f",
   "metadata": {
    "execution": {
     "iopub.execute_input": "2023-08-10T18:46:52.659245Z",
     "iopub.status.busy": "2023-08-10T18:46:52.658792Z",
     "iopub.status.idle": "2023-08-10T18:46:52.664070Z",
     "shell.execute_reply": "2023-08-10T18:46:52.662878Z"
    },
    "papermill": {
     "duration": 0.111257,
     "end_time": "2023-08-10T18:46:52.666416",
     "exception": false,
     "start_time": "2023-08-10T18:46:52.555159",
     "status": "completed"
    },
    "tags": []
   },
   "outputs": [],
   "source": [
    "# merged_train_features = merged[['movieid', 'reviewerName', 'isFrequentReviewer', 'reviewText',\n",
    "#        'audienceScore', 'rating', 'runtimeMinutes', 'genre',\n",
    "#        'originalLanguage', 'director']]\n",
    "# merged_train_features.shape"
   ]
  },
  {
   "cell_type": "code",
   "execution_count": 196,
   "id": "209757e2",
   "metadata": {
    "execution": {
     "iopub.execute_input": "2023-08-10T18:46:52.872624Z",
     "iopub.status.busy": "2023-08-10T18:46:52.872171Z",
     "iopub.status.idle": "2023-08-10T18:46:52.876731Z",
     "shell.execute_reply": "2023-08-10T18:46:52.875611Z"
    },
    "papermill": {
     "duration": 0.108505,
     "end_time": "2023-08-10T18:46:52.878916",
     "exception": false,
     "start_time": "2023-08-10T18:46:52.770411",
     "status": "completed"
    },
    "tags": []
   },
   "outputs": [],
   "source": [
    "# merged_train_labels = merged[\"sentiment\"]\n",
    "# merged_train_labels.shape"
   ]
  },
  {
   "cell_type": "markdown",
   "id": "8fa9313d",
   "metadata": {
    "papermill": {
     "duration": 0.10786,
     "end_time": "2023-08-10T18:46:53.095067",
     "exception": false,
     "start_time": "2023-08-10T18:46:52.987207",
     "status": "completed"
    },
    "tags": []
   },
   "source": [
    "### Identify variable types for different preprocessing pipes  "
   ]
  },
  {
   "cell_type": "code",
   "execution_count": 197,
   "id": "1f690f7f",
   "metadata": {
    "execution": {
     "iopub.execute_input": "2023-08-10T18:46:53.310716Z",
     "iopub.status.busy": "2023-08-10T18:46:53.310280Z",
     "iopub.status.idle": "2023-08-10T18:46:53.314946Z",
     "shell.execute_reply": "2023-08-10T18:46:53.313626Z"
    },
    "papermill": {
     "duration": 0.115786,
     "end_time": "2023-08-10T18:46:53.317372",
     "exception": false,
     "start_time": "2023-08-10T18:46:53.201586",
     "status": "completed"
    },
    "tags": []
   },
   "outputs": [],
   "source": [
    "# num_vars = [\"audienceScore\", \"runtimeMinutes\"]\n",
    "# txt_vars = [\"originalLanguage\", \"genre\", \"director\", \"reviewerName\", \"reviewText\"]\n",
    "# cat_vars = [\"rating\", \"isFrequentReviewer\"]"
   ]
  },
  {
   "cell_type": "code",
   "execution_count": 198,
   "id": "93a60021",
   "metadata": {
    "execution": {
     "iopub.execute_input": "2023-08-10T18:46:53.533229Z",
     "iopub.status.busy": "2023-08-10T18:46:53.532769Z",
     "iopub.status.idle": "2023-08-10T18:46:53.538496Z",
     "shell.execute_reply": "2023-08-10T18:46:53.537085Z"
    },
    "papermill": {
     "duration": 0.116405,
     "end_time": "2023-08-10T18:46:53.541025",
     "exception": false,
     "start_time": "2023-08-10T18:46:53.424620",
     "status": "completed"
    },
    "tags": []
   },
   "outputs": [],
   "source": [
    "# num_pipe = Pipeline(steps=[\n",
    "#                             (\"imputer\", SimpleImputer(strategy=\"mean\", missing_values=np.nan)),\n",
    "#                             (\"scaler\", MinMaxScaler())\n",
    "#                         ])\n",
    "# num_pipe"
   ]
  },
  {
   "cell_type": "code",
   "execution_count": 199,
   "id": "6ae31c77",
   "metadata": {
    "execution": {
     "iopub.execute_input": "2023-08-10T18:46:53.760183Z",
     "iopub.status.busy": "2023-08-10T18:46:53.759351Z",
     "iopub.status.idle": "2023-08-10T18:46:53.764854Z",
     "shell.execute_reply": "2023-08-10T18:46:53.763638Z"
    },
    "papermill": {
     "duration": 0.118928,
     "end_time": "2023-08-10T18:46:53.767346",
     "exception": false,
     "start_time": "2023-08-10T18:46:53.648418",
     "status": "completed"
    },
    "tags": []
   },
   "outputs": [],
   "source": [
    "# txt_pipe = Pipeline(steps=[\n",
    "#                             (\"tvec\", TfidfVectorizer())\n",
    "#                         ])\n",
    "# txt_pipe"
   ]
  },
  {
   "cell_type": "code",
   "execution_count": 200,
   "id": "962ed434",
   "metadata": {
    "execution": {
     "iopub.execute_input": "2023-08-10T18:46:53.979879Z",
     "iopub.status.busy": "2023-08-10T18:46:53.978551Z",
     "iopub.status.idle": "2023-08-10T18:46:53.984518Z",
     "shell.execute_reply": "2023-08-10T18:46:53.983328Z"
    },
    "papermill": {
     "duration": 0.112729,
     "end_time": "2023-08-10T18:46:53.987107",
     "exception": false,
     "start_time": "2023-08-10T18:46:53.874378",
     "status": "completed"
    },
    "tags": []
   },
   "outputs": [],
   "source": [
    "# cat_pipe = Pipeline(steps=[\n",
    "#                             (\"ohe\", OneHotEncoder(handle_unknown=\"ignore\"))\n",
    "#                         ])\n",
    "# cat_pipe"
   ]
  },
  {
   "cell_type": "code",
   "execution_count": 201,
   "id": "4e369fe4",
   "metadata": {
    "execution": {
     "iopub.execute_input": "2023-08-10T18:46:54.192208Z",
     "iopub.status.busy": "2023-08-10T18:46:54.191750Z",
     "iopub.status.idle": "2023-08-10T18:46:54.196524Z",
     "shell.execute_reply": "2023-08-10T18:46:54.195463Z"
    },
    "papermill": {
     "duration": 0.110196,
     "end_time": "2023-08-10T18:46:54.198853",
     "exception": false,
     "start_time": "2023-08-10T18:46:54.088657",
     "status": "completed"
    },
    "tags": []
   },
   "outputs": [],
   "source": [
    "# tfidf_vec_1 = TfidfVectorizer(ngram_range=(1,2))\n",
    "# tfidf_vec_1"
   ]
  },
  {
   "cell_type": "code",
   "execution_count": 202,
   "id": "099af4c8",
   "metadata": {
    "execution": {
     "iopub.execute_input": "2023-08-10T18:46:54.400548Z",
     "iopub.status.busy": "2023-08-10T18:46:54.400074Z",
     "iopub.status.idle": "2023-08-10T18:46:54.405857Z",
     "shell.execute_reply": "2023-08-10T18:46:54.404513Z"
    },
    "papermill": {
     "duration": 0.110313,
     "end_time": "2023-08-10T18:46:54.408294",
     "exception": false,
     "start_time": "2023-08-10T18:46:54.297981",
     "status": "completed"
    },
    "tags": []
   },
   "outputs": [],
   "source": [
    "# ct_final = ColumnTransformer(transformers=[\n",
    "#                                         (\"num\", num_pipe, num_vars),\n",
    "#                                         (\"txt1\", txt_pipe, \"originalLanguage\"),\n",
    "#                                         (\"txt2\", txt_pipe, \"genre\"),\n",
    "#                                         (\"txt3\", txt_pipe, \"director\"),\n",
    "#                                         (\"cat\", cat_pipe, cat_vars),\n",
    "#                                         (\"txt4a\", tfidf_vec_1, \"reviewText\")\n",
    "# #                                         (\"txt4\", TfidfVectorizer(ngram_range=(1,2)), \"reviewText\"),\n",
    "# #                                         (\"cat2\", cat_pipe, [\"isFrequentReviewer\"])\n",
    "#                                         ], remainder=\"drop\", n_jobs=1)\n",
    "\n",
    "# # Note that this transformer drops \"movieid\" column and \"reviewerName\" column  \n",
    "# ct_final"
   ]
  },
  {
   "cell_type": "code",
   "execution_count": 203,
   "id": "fc904e5e",
   "metadata": {
    "execution": {
     "iopub.execute_input": "2023-08-10T18:46:54.615115Z",
     "iopub.status.busy": "2023-08-10T18:46:54.614358Z",
     "iopub.status.idle": "2023-08-10T18:46:54.619694Z",
     "shell.execute_reply": "2023-08-10T18:46:54.618483Z"
    },
    "papermill": {
     "duration": 0.112027,
     "end_time": "2023-08-10T18:46:54.621697",
     "exception": false,
     "start_time": "2023-08-10T18:46:54.509670",
     "status": "completed"
    },
    "tags": []
   },
   "outputs": [],
   "source": [
    "# pipe_final = Pipeline(steps=[\n",
    "#                         (\"preprocessor\", ct_final),\n",
    "#                         (\"model\", LogisticRegression(max_iter=100000))\n",
    "#                     ])\n",
    "# pipe_final"
   ]
  },
  {
   "cell_type": "code",
   "execution_count": 204,
   "id": "20cfd5cd",
   "metadata": {
    "execution": {
     "iopub.execute_input": "2023-08-10T18:46:54.834087Z",
     "iopub.status.busy": "2023-08-10T18:46:54.833339Z",
     "iopub.status.idle": "2023-08-10T18:46:54.838655Z",
     "shell.execute_reply": "2023-08-10T18:46:54.837356Z"
    },
    "papermill": {
     "duration": 0.116082,
     "end_time": "2023-08-10T18:46:54.841051",
     "exception": false,
     "start_time": "2023-08-10T18:46:54.724969",
     "status": "completed"
    },
    "tags": []
   },
   "outputs": [],
   "source": [
    "# final_vars = num_vars + txt_vars + cat_vars\n",
    "# len(final_vars), final_vars"
   ]
  },
  {
   "cell_type": "markdown",
   "id": "b9640a45",
   "metadata": {
    "papermill": {
     "duration": 0.10754,
     "end_time": "2023-08-10T18:46:55.049455",
     "exception": false,
     "start_time": "2023-08-10T18:46:54.941915",
     "status": "completed"
    },
    "tags": []
   },
   "source": [
    "### Use \"split_train_predict\" function to run end-to-end pipeline  "
   ]
  },
  {
   "cell_type": "code",
   "execution_count": 205,
   "id": "b957b11f",
   "metadata": {
    "execution": {
     "iopub.execute_input": "2023-08-10T18:46:55.267969Z",
     "iopub.status.busy": "2023-08-10T18:46:55.267511Z",
     "iopub.status.idle": "2023-08-10T18:46:55.271220Z",
     "shell.execute_reply": "2023-08-10T18:46:55.270507Z"
    },
    "papermill": {
     "duration": 0.114026,
     "end_time": "2023-08-10T18:46:55.273246",
     "exception": false,
     "start_time": "2023-08-10T18:46:55.159220",
     "status": "completed"
    },
    "tags": []
   },
   "outputs": [],
   "source": [
    "# split_train_predict(merged_train_features, merged_train_labels, pipe_final, test_size=0.25, random_state=42)"
   ]
  },
  {
   "cell_type": "markdown",
   "id": "1b67de23",
   "metadata": {
    "papermill": {
     "duration": 0.10736,
     "end_time": "2023-08-10T18:46:55.487653",
     "exception": false,
     "start_time": "2023-08-10T18:46:55.380293",
     "status": "completed"
    },
    "tags": []
   },
   "source": [
    "## Try the best four features obtained on local machine  "
   ]
  },
  {
   "cell_type": "code",
   "execution_count": 206,
   "id": "0d701de7",
   "metadata": {
    "execution": {
     "iopub.execute_input": "2023-08-10T18:46:55.706712Z",
     "iopub.status.busy": "2023-08-10T18:46:55.705452Z",
     "iopub.status.idle": "2023-08-10T18:46:55.710860Z",
     "shell.execute_reply": "2023-08-10T18:46:55.709621Z"
    },
    "papermill": {
     "duration": 0.118549,
     "end_time": "2023-08-10T18:46:55.713398",
     "exception": false,
     "start_time": "2023-08-10T18:46:55.594849",
     "status": "completed"
    },
    "tags": []
   },
   "outputs": [],
   "source": [
    "# tfidf_vec_2 = TfidfVectorizer(ngram_range=(1,2))\n",
    "# tfidf_vec_2"
   ]
  },
  {
   "cell_type": "code",
   "execution_count": 207,
   "id": "b0bd305a",
   "metadata": {
    "execution": {
     "iopub.execute_input": "2023-08-10T18:46:55.935966Z",
     "iopub.status.busy": "2023-08-10T18:46:55.935472Z",
     "iopub.status.idle": "2023-08-10T18:46:55.941581Z",
     "shell.execute_reply": "2023-08-10T18:46:55.940075Z"
    },
    "papermill": {
     "duration": 0.122414,
     "end_time": "2023-08-10T18:46:55.944120",
     "exception": false,
     "start_time": "2023-08-10T18:46:55.821706",
     "status": "completed"
    },
    "tags": []
   },
   "outputs": [],
   "source": [
    "# ct_best4 = ColumnTransformer(transformers=[\n",
    "#                                             (\"num\", num_pipe, [\"audienceScore\"]),\n",
    "#                                             (\"cat\", cat_pipe, [\"rating\", \"isFrequentReviewer\"]),\n",
    "#                                             (\"tvec\", tfidf_vec_2, \"reviewText\")\n",
    "#                             ])\n",
    "\n",
    "# pipe_best4 = Pipeline(steps=[\n",
    "#     (\"preprocessor\", ct_best4),\n",
    "#     (\"model\", LogisticRegression())\n",
    "# ])\n",
    "\n",
    "# pipe_best4.set_params(model__C=10, model__max_iter=100000)\n",
    "\n",
    "# pipe_best4"
   ]
  },
  {
   "cell_type": "code",
   "execution_count": 208,
   "id": "d76de582",
   "metadata": {
    "execution": {
     "iopub.execute_input": "2023-08-10T18:46:56.180945Z",
     "iopub.status.busy": "2023-08-10T18:46:56.179934Z",
     "iopub.status.idle": "2023-08-10T18:46:56.185479Z",
     "shell.execute_reply": "2023-08-10T18:46:56.184360Z"
    },
    "papermill": {
     "duration": 0.131902,
     "end_time": "2023-08-10T18:46:56.187665",
     "exception": false,
     "start_time": "2023-08-10T18:46:56.055763",
     "status": "completed"
    },
    "tags": []
   },
   "outputs": [],
   "source": [
    "# split_train_predict(merged[[\"audienceScore\", \"rating\", \"isFrequentReviewer\", \"reviewText\"]], merged[\"sentiment\"], pipe_best4, test_size=0.25)"
   ]
  },
  {
   "cell_type": "markdown",
   "id": "72b0145a",
   "metadata": {
    "papermill": {
     "duration": 0.106908,
     "end_time": "2023-08-10T18:46:56.401170",
     "exception": false,
     "start_time": "2023-08-10T18:46:56.294262",
     "status": "completed"
    },
    "tags": []
   },
   "source": [
    "## Try only 'reviewText' column  "
   ]
  },
  {
   "cell_type": "code",
   "execution_count": 209,
   "id": "b536766f",
   "metadata": {
    "execution": {
     "iopub.execute_input": "2023-08-10T18:46:56.618907Z",
     "iopub.status.busy": "2023-08-10T18:46:56.618419Z",
     "iopub.status.idle": "2023-08-10T18:46:56.623332Z",
     "shell.execute_reply": "2023-08-10T18:46:56.622097Z"
    },
    "papermill": {
     "duration": 0.118252,
     "end_time": "2023-08-10T18:46:56.625723",
     "exception": false,
     "start_time": "2023-08-10T18:46:56.507471",
     "status": "completed"
    },
    "tags": []
   },
   "outputs": [],
   "source": [
    "# tfidf_vec_3 = TfidfVectorizer(ngram_range=(1,2))\n",
    "# tfidf_vec_3"
   ]
  },
  {
   "cell_type": "code",
   "execution_count": 210,
   "id": "ed88149c",
   "metadata": {
    "execution": {
     "iopub.execute_input": "2023-08-10T18:46:56.950438Z",
     "iopub.status.busy": "2023-08-10T18:46:56.950001Z",
     "iopub.status.idle": "2023-08-10T18:46:56.955040Z",
     "shell.execute_reply": "2023-08-10T18:46:56.953813Z"
    },
    "papermill": {
     "duration": 0.116114,
     "end_time": "2023-08-10T18:46:56.957510",
     "exception": false,
     "start_time": "2023-08-10T18:46:56.841396",
     "status": "completed"
    },
    "tags": []
   },
   "outputs": [],
   "source": [
    "# ct_RTonly = ColumnTransformer(transformers=[\n",
    "#                                             ('txt', tfidf_vec_3, 'reviewText'),\n",
    "#                                             ], remainder='drop')\n",
    "# ct_RTonly"
   ]
  },
  {
   "cell_type": "code",
   "execution_count": 211,
   "id": "ee9fe555",
   "metadata": {
    "execution": {
     "iopub.execute_input": "2023-08-10T18:46:57.165039Z",
     "iopub.status.busy": "2023-08-10T18:46:57.164346Z",
     "iopub.status.idle": "2023-08-10T18:46:57.169326Z",
     "shell.execute_reply": "2023-08-10T18:46:57.168283Z"
    },
    "papermill": {
     "duration": 0.112157,
     "end_time": "2023-08-10T18:46:57.171815",
     "exception": false,
     "start_time": "2023-08-10T18:46:57.059658",
     "status": "completed"
    },
    "tags": []
   },
   "outputs": [],
   "source": [
    "# pipe_RTonly = Pipeline(steps=[\n",
    "#     (\"preprocessor\", ct_RTonly),\n",
    "#     (\"model\", LogisticRegression())\n",
    "# ])\n",
    "\n",
    "# pipe_RTonly.set_params(model__C=10, model__max_iter=100000)\n",
    "\n",
    "# pipe_RTonly"
   ]
  },
  {
   "cell_type": "markdown",
   "id": "f85ddfb5",
   "metadata": {
    "papermill": {
     "duration": 0.099337,
     "end_time": "2023-08-10T18:46:57.371658",
     "exception": false,
     "start_time": "2023-08-10T18:46:57.272321",
     "status": "completed"
    },
    "tags": []
   },
   "source": [
    "## Using the 'submit_v4' function  "
   ]
  },
  {
   "cell_type": "markdown",
   "id": "b2d08685",
   "metadata": {
    "papermill": {
     "duration": 0.10157,
     "end_time": "2023-08-10T18:46:57.576894",
     "exception": false,
     "start_time": "2023-08-10T18:46:57.475324",
     "status": "completed"
    },
    "tags": []
   },
   "source": [
    "### Try the best 4 parameters with submit_v4 function"
   ]
  },
  {
   "cell_type": "code",
   "execution_count": 212,
   "id": "a8045e4e",
   "metadata": {
    "execution": {
     "iopub.execute_input": "2023-08-10T18:46:57.783944Z",
     "iopub.status.busy": "2023-08-10T18:46:57.783484Z",
     "iopub.status.idle": "2023-08-10T18:46:57.789142Z",
     "shell.execute_reply": "2023-08-10T18:46:57.788031Z"
    },
    "papermill": {
     "duration": 0.114936,
     "end_time": "2023-08-10T18:46:57.791546",
     "exception": false,
     "start_time": "2023-08-10T18:46:57.676610",
     "status": "completed"
    },
    "tags": []
   },
   "outputs": [],
   "source": [
    "# best4 = [\"audienceScore\", \"rating\", \"isFrequentReviewer\", \"reviewText\"]\n",
    "\n",
    "# best4_dict = {'cat': [\"rating\", \"isFrequentReviewer\"],\n",
    "#              'num': [\"audienceScore\"],\n",
    "#              'txt': ['reviewText']}\n",
    "\n",
    "# best4_dict = {'num': [\"audienceScore\"],\n",
    "#              'txt': ['reviewText', 'movieid', 'director']}\n",
    "\n",
    "# best4_dict"
   ]
  },
  {
   "cell_type": "code",
   "execution_count": 213,
   "id": "be0d9ee9",
   "metadata": {
    "execution": {
     "iopub.execute_input": "2023-08-10T18:46:57.997444Z",
     "iopub.status.busy": "2023-08-10T18:46:57.996655Z",
     "iopub.status.idle": "2023-08-10T18:46:58.001436Z",
     "shell.execute_reply": "2023-08-10T18:46:58.000661Z"
    },
    "papermill": {
     "duration": 0.110814,
     "end_time": "2023-08-10T18:46:58.004250",
     "exception": false,
     "start_time": "2023-08-10T18:46:57.893436",
     "status": "completed"
    },
    "tags": []
   },
   "outputs": [],
   "source": [
    "# submit_v4(selected_features=best4_dict)"
   ]
  },
  {
   "cell_type": "markdown",
   "id": "b8bb34b8",
   "metadata": {
    "papermill": {
     "duration": 0.107906,
     "end_time": "2023-08-10T18:46:58.221535",
     "exception": false,
     "start_time": "2023-08-10T18:46:58.113629",
     "status": "completed"
    },
    "tags": []
   },
   "source": [
    "### Try the best 3 parameters with submit_v4 function"
   ]
  },
  {
   "cell_type": "code",
   "execution_count": 214,
   "id": "676d5f8c",
   "metadata": {
    "execution": {
     "iopub.execute_input": "2023-08-10T18:46:58.439439Z",
     "iopub.status.busy": "2023-08-10T18:46:58.439036Z",
     "iopub.status.idle": "2023-08-10T18:46:58.444154Z",
     "shell.execute_reply": "2023-08-10T18:46:58.442785Z"
    },
    "papermill": {
     "duration": 0.118162,
     "end_time": "2023-08-10T18:46:58.446692",
     "exception": false,
     "start_time": "2023-08-10T18:46:58.328530",
     "status": "completed"
    },
    "tags": []
   },
   "outputs": [],
   "source": [
    "# best3 = [\"audienceScore\", \"isFrequentReviewer\", \"reviewText\"]\n",
    "# best3_dict = {'cat': [\"isFrequentReviewer\"],\n",
    "#              'num': [\"audienceScore\"],\n",
    "#              'txt': ['reviewText']}\n",
    "# best3_dict"
   ]
  },
  {
   "cell_type": "code",
   "execution_count": 215,
   "id": "8ce416b1",
   "metadata": {
    "execution": {
     "iopub.execute_input": "2023-08-10T18:46:58.664929Z",
     "iopub.status.busy": "2023-08-10T18:46:58.664544Z",
     "iopub.status.idle": "2023-08-10T18:46:58.669244Z",
     "shell.execute_reply": "2023-08-10T18:46:58.668072Z"
    },
    "papermill": {
     "duration": 0.115378,
     "end_time": "2023-08-10T18:46:58.671433",
     "exception": false,
     "start_time": "2023-08-10T18:46:58.556055",
     "status": "completed"
    },
    "tags": []
   },
   "outputs": [],
   "source": [
    "# submit_v4(selected_features=best3_dict)"
   ]
  },
  {
   "cell_type": "markdown",
   "id": "c8edec32",
   "metadata": {
    "papermill": {
     "duration": 0.105391,
     "end_time": "2023-08-10T18:46:58.887709",
     "exception": false,
     "start_time": "2023-08-10T18:46:58.782318",
     "status": "completed"
    },
    "tags": []
   },
   "source": [
    "## Try throwing almost everything (no boxOffice) at submit_v4!  "
   ]
  },
  {
   "cell_type": "code",
   "execution_count": 216,
   "id": "25b5d098",
   "metadata": {
    "execution": {
     "iopub.execute_input": "2023-08-10T18:46:59.098767Z",
     "iopub.status.busy": "2023-08-10T18:46:59.097946Z",
     "iopub.status.idle": "2023-08-10T18:46:59.104803Z",
     "shell.execute_reply": "2023-08-10T18:46:59.103628Z"
    },
    "papermill": {
     "duration": 0.112691,
     "end_time": "2023-08-10T18:46:59.106915",
     "exception": false,
     "start_time": "2023-08-10T18:46:58.994224",
     "status": "completed"
    },
    "tags": []
   },
   "outputs": [
    {
     "data": {
      "text/plain": [
       "\"Most from merged = ['movieid', 'reviewerName', 'isFrequentReviewer', 'reviewText',\\n       'audienceScore', 'rating', 'runtimeMinutes', 'genre', \\n       'originalLanguage', 'director']\""
      ]
     },
     "execution_count": 216,
     "metadata": {},
     "output_type": "execute_result"
    }
   ],
   "source": [
    "\"\"\"Most from merged = ['movieid', 'reviewerName', 'isFrequentReviewer', 'reviewText',\n",
    "       'audienceScore', 'rating', 'runtimeMinutes', 'genre', \n",
    "       'originalLanguage', 'director']\"\"\"\n",
    "\n",
    "# almost_dict = {'cat': [\"isFrequentReviewer\", \"rating\", \"originalLanguage\"],\n",
    "#              'num': [\"audienceScore\", \"runtimeMinutes\"],\n",
    "#              'txt': ['reviewText', 'reviewerName', 'movieid', 'genre', 'director']}\n",
    "# almost_dict"
   ]
  },
  {
   "cell_type": "code",
   "execution_count": 217,
   "id": "01d5d3ea",
   "metadata": {
    "execution": {
     "iopub.execute_input": "2023-08-10T18:46:59.309130Z",
     "iopub.status.busy": "2023-08-10T18:46:59.308669Z",
     "iopub.status.idle": "2023-08-10T18:46:59.313817Z",
     "shell.execute_reply": "2023-08-10T18:46:59.312534Z"
    },
    "papermill": {
     "duration": 0.107877,
     "end_time": "2023-08-10T18:46:59.315993",
     "exception": false,
     "start_time": "2023-08-10T18:46:59.208116",
     "status": "completed"
    },
    "tags": []
   },
   "outputs": [],
   "source": [
    "# submit_v4(selected_features=almost_dict)"
   ]
  },
  {
   "cell_type": "markdown",
   "id": "1ed19810",
   "metadata": {
    "papermill": {
     "duration": 0.101503,
     "end_time": "2023-08-10T18:46:59.517683",
     "exception": false,
     "start_time": "2023-08-10T18:46:59.416180",
     "status": "completed"
    },
    "tags": []
   },
   "source": [
    "## Try throwing everything possible at submit_v4!  "
   ]
  },
  {
   "cell_type": "code",
   "execution_count": 218,
   "id": "063d20fd",
   "metadata": {
    "execution": {
     "iopub.execute_input": "2023-08-10T18:46:59.717409Z",
     "iopub.status.busy": "2023-08-10T18:46:59.716915Z",
     "iopub.status.idle": "2023-08-10T18:46:59.723975Z",
     "shell.execute_reply": "2023-08-10T18:46:59.722978Z"
    },
    "papermill": {
     "duration": 0.109877,
     "end_time": "2023-08-10T18:46:59.726600",
     "exception": false,
     "start_time": "2023-08-10T18:46:59.616723",
     "status": "completed"
    },
    "tags": []
   },
   "outputs": [
    {
     "data": {
      "text/plain": [
       "\"All from merged = ['movieid', 'reviewerName', 'isFrequentReviewer', 'reviewText',\\n       'audienceScore', 'rating', 'runtimeMinutes', 'genre', 'boxOffice',\\n       'originalLanguage', 'director']\""
      ]
     },
     "execution_count": 218,
     "metadata": {},
     "output_type": "execute_result"
    }
   ],
   "source": [
    "\"\"\"All from merged = ['movieid', 'reviewerName', 'isFrequentReviewer', 'reviewText',\n",
    "       'audienceScore', 'rating', 'runtimeMinutes', 'genre', 'boxOffice',\n",
    "       'originalLanguage', 'director']\"\"\"\n",
    "\n",
    "# all_dict = {'cat': [\"isFrequentReviewer\", \"rating\", \"originalLanguage\"],\n",
    "#              'num': [\"audienceScore\", \"runtimeMinutes\", \"boxOffice\"],\n",
    "#              'txt': ['reviewText', 'reviewerName', 'movieid', 'genre', 'director']}\n",
    "# all_dict"
   ]
  },
  {
   "cell_type": "code",
   "execution_count": 219,
   "id": "8556318b",
   "metadata": {
    "execution": {
     "iopub.execute_input": "2023-08-10T18:46:59.930625Z",
     "iopub.status.busy": "2023-08-10T18:46:59.929601Z",
     "iopub.status.idle": "2023-08-10T18:46:59.934978Z",
     "shell.execute_reply": "2023-08-10T18:46:59.934218Z"
    },
    "papermill": {
     "duration": 0.106993,
     "end_time": "2023-08-10T18:46:59.937102",
     "exception": false,
     "start_time": "2023-08-10T18:46:59.830109",
     "status": "completed"
    },
    "tags": []
   },
   "outputs": [],
   "source": [
    "# submit_v4(selected_features=all_dict)"
   ]
  },
  {
   "cell_type": "markdown",
   "id": "04fc7601",
   "metadata": {
    "papermill": {
     "duration": 0.099539,
     "end_time": "2023-08-10T18:47:00.135240",
     "exception": false,
     "start_time": "2023-08-10T18:47:00.035701",
     "status": "completed"
    },
    "tags": []
   },
   "source": [
    "## Try GridSearchCV on everything  "
   ]
  },
  {
   "cell_type": "code",
   "execution_count": 220,
   "id": "5f89ef5a",
   "metadata": {
    "execution": {
     "iopub.execute_input": "2023-08-10T18:47:00.334506Z",
     "iopub.status.busy": "2023-08-10T18:47:00.333751Z",
     "iopub.status.idle": "2023-08-10T18:47:00.339207Z",
     "shell.execute_reply": "2023-08-10T18:47:00.338327Z"
    },
    "papermill": {
     "duration": 0.108159,
     "end_time": "2023-08-10T18:47:00.341594",
     "exception": false,
     "start_time": "2023-08-10T18:47:00.233435",
     "status": "completed"
    },
    "tags": []
   },
   "outputs": [],
   "source": [
    "# param_grid = {\n",
    "#     \"model__C\": [0.5, 2, 5, 15]\n",
    "# }\n",
    "\n",
    "# param_grid = {\n",
    "#     'model__C' : [1, 5],\n",
    "#     'model__solver': ['lbfgs', 'liblinear', 'newton-cg', 'newton-cholesky', 'sag', 'saga']\n",
    "# }\n",
    "\n",
    "# param_grid = {\n",
    "#     'model__C' : [1, 5],\n",
    "#     'model__solver': ['lbfgs', 'liblinear', 'sag', 'saga']\n",
    "# }\n",
    "\n",
    "# param_grid = {\n",
    "#     'model__C' : [1, 5, 10, 15],\n",
    "#     'model__solver': ['lbfgs', 'liblinear', 'saga', 'newton-cg']\n",
    "# }\n",
    "\n",
    "# param_grid = {\n",
    "#     'model__C' : [1, 5, 10, 20],\n",
    "#     'model__solver': ['lbfgs', 'liblinear', 'saga']\n",
    "# }\n",
    "\n",
    "# param_grid"
   ]
  },
  {
   "cell_type": "code",
   "execution_count": 221,
   "id": "605683d8",
   "metadata": {
    "execution": {
     "iopub.execute_input": "2023-08-10T18:47:00.545320Z",
     "iopub.status.busy": "2023-08-10T18:47:00.544525Z",
     "iopub.status.idle": "2023-08-10T18:47:00.549195Z",
     "shell.execute_reply": "2023-08-10T18:47:00.548480Z"
    },
    "papermill": {
     "duration": 0.108627,
     "end_time": "2023-08-10T18:47:00.551301",
     "exception": false,
     "start_time": "2023-08-10T18:47:00.442674",
     "status": "completed"
    },
    "tags": []
   },
   "outputs": [],
   "source": [
    "# submit_v4(selected_features={'txt': [\"genre\"]}, param_grid=param_grid)"
   ]
  },
  {
   "cell_type": "code",
   "execution_count": 222,
   "id": "c3dea32f",
   "metadata": {
    "execution": {
     "iopub.execute_input": "2023-08-10T18:47:00.755005Z",
     "iopub.status.busy": "2023-08-10T18:47:00.754485Z",
     "iopub.status.idle": "2023-08-10T18:47:00.762681Z",
     "shell.execute_reply": "2023-08-10T18:47:00.761478Z"
    },
    "papermill": {
     "duration": 0.111484,
     "end_time": "2023-08-10T18:47:00.764958",
     "exception": false,
     "start_time": "2023-08-10T18:47:00.653474",
     "status": "completed"
    },
    "tags": []
   },
   "outputs": [
    {
     "data": {
      "text/plain": [
       "\"Used 'groupby' function instead on 'drop_duplicates' on movies.csv file. \\nIt reduced the number of missing values significantly! \\nThen used LogisticRegression() with GridSearchCV on submit_v4 function with \\nparam_grid={'model__C': [1, 5, 10], 'model__solver': ['lbfgs', 'liblinear', 'saga']}. \\nThe best f1_micro score in GridSearchCV was 0.8399771362056203 which is highest among \\nall the versions so far. Best C was 5 and best solver was 'saga'.\\nScore obtained was 0.84385 which is lower than 0.84441.\""
      ]
     },
     "execution_count": 222,
     "metadata": {},
     "output_type": "execute_result"
    }
   ],
   "source": [
    "# submit_v4(selected_features=all_dict, param_grid=param_grid)\n",
    "\n",
    "# Best C was 5\n",
    "# Best solver was liblinear\n",
    "\n",
    "\"\"\"Used 'groupby' function instead on 'drop_duplicates' on movies.csv file. \n",
    "It reduced the number of missing values significantly! \n",
    "Then used LogisticRegression() with GridSearchCV on submit_v4 function with \n",
    "param_grid={'model__C': [1, 5, 10], 'model__solver': ['lbfgs', 'liblinear', 'saga']}. \n",
    "The best f1_micro score in GridSearchCV was 0.8399771362056203 which is highest among \n",
    "all the versions so far. Best C was 5 and best solver was 'saga'.\n",
    "Score obtained was 0.84385 which is lower than 0.84441.\"\"\""
   ]
  },
  {
   "cell_type": "code",
   "execution_count": 223,
   "id": "7d7e40e9",
   "metadata": {
    "execution": {
     "iopub.execute_input": "2023-08-10T18:47:00.970538Z",
     "iopub.status.busy": "2023-08-10T18:47:00.969892Z",
     "iopub.status.idle": "2023-08-10T18:47:00.974350Z",
     "shell.execute_reply": "2023-08-10T18:47:00.973655Z"
    },
    "papermill": {
     "duration": 0.108443,
     "end_time": "2023-08-10T18:47:00.976359",
     "exception": false,
     "start_time": "2023-08-10T18:47:00.867916",
     "status": "completed"
    },
    "tags": []
   },
   "outputs": [],
   "source": [
    "# Best 5 parameters\n",
    "\n",
    "# best5_dict = {'num': [\"audienceScore\"],\n",
    "#              'txt': ['reviewText', 'reviewerName','movieid', 'director']}\n",
    "\n",
    "# best5_dict"
   ]
  },
  {
   "cell_type": "code",
   "execution_count": 224,
   "id": "bc359493",
   "metadata": {
    "execution": {
     "iopub.execute_input": "2023-08-10T18:47:01.177823Z",
     "iopub.status.busy": "2023-08-10T18:47:01.177397Z",
     "iopub.status.idle": "2023-08-10T18:47:01.186117Z",
     "shell.execute_reply": "2023-08-10T18:47:01.184892Z"
    },
    "papermill": {
     "duration": 0.114802,
     "end_time": "2023-08-10T18:47:01.188611",
     "exception": false,
     "start_time": "2023-08-10T18:47:01.073809",
     "status": "completed"
    },
    "tags": []
   },
   "outputs": [
    {
     "data": {
      "text/plain": [
       "\"(Update): Used both CountVectorizer and TfidfVectorizer on a massive GridSearchCV \\nwhich took 22527.2s  (6.25 hrs) to run! Gave a score of 0.8439093822800923 locally and did not overfit!\\nBest params: {'model__C': 1, 'model__solver': 'liblinear'}.\\nHighest public score yet: 0.84591 (Rank up from 9 to 5!)\""
      ]
     },
     "execution_count": 224,
     "metadata": {},
     "output_type": "execute_result"
    }
   ],
   "source": [
    "# Submit best 5 features\n",
    "\n",
    "\"\"\"(Update): Used both CountVectorizer and TfidfVectorizer on a massive GridSearchCV \n",
    "which took 22527.2s  (6.25 hrs) to run! Gave a score of 0.8439093822800923 locally and did not overfit!\n",
    "Best params: {'model__C': 1, 'model__solver': 'liblinear'}.\n",
    "Highest public score yet: 0.84591 (Rank up from 9 to 5!)\"\"\"\n",
    "\n",
    "# param_grid = {\n",
    "#     'model__C' : [5, 10, 15],\n",
    "#     'model__solver': ['lbfgs', 'liblinear', 'saga']\n",
    "# }\n",
    "\n",
    "\n",
    "# Try new param_grid with fit_intercept and dual in logreg\n",
    "\n",
    "# param_grid = {\n",
    "#     'model__C' : [1],\n",
    "#     'model__solver': ['liblinear'],\n",
    "#     \"model__fit_intercept\" : [True, False],\n",
    "#     \"model__dual\" : [True, False] \n",
    "# }\n",
    "\n",
    "\n",
    "# Local testing  \n",
    "# submit_v4(selected_features={'num': ['audienceScore']},\n",
    "#          add_countvec=True)\n",
    "\n",
    "# submit_v4(selected_features={'num': ['audienceScore']},\n",
    "#          add_countvec=True, \n",
    "#           param_grid=param_grid)\n",
    "\n",
    "\n",
    "# Main submission\n",
    "\n",
    "# submit_v4(selected_features=best5_dict,\n",
    "#          add_countvec=True)\n",
    "\n",
    "\n",
    "# submit_v4(selected_features=best5_dict,\n",
    "#           add_countvec=True,\n",
    "#           param_grid=param_grid)"
   ]
  },
  {
   "cell_type": "code",
   "execution_count": 225,
   "id": "1a2dcce2",
   "metadata": {
    "execution": {
     "iopub.execute_input": "2023-08-10T18:47:01.386871Z",
     "iopub.status.busy": "2023-08-10T18:47:01.386390Z",
     "iopub.status.idle": "2023-08-10T18:47:01.392700Z",
     "shell.execute_reply": "2023-08-10T18:47:01.391440Z"
    },
    "papermill": {
     "duration": 0.107552,
     "end_time": "2023-08-10T18:47:01.394867",
     "exception": false,
     "start_time": "2023-08-10T18:47:01.287315",
     "status": "completed"
    },
    "tags": []
   },
   "outputs": [],
   "source": [
    "## ALL DICT cv=10\n",
    "\n",
    "# all_dict = {'cat': [\"isFrequentReviewer\", \"rating\", \"originalLanguage\"],\n",
    "#              'num': [\"audienceScore\", \"runtimeMinutes\", \"boxOffice\"],\n",
    "#              'txt': ['reviewText', 'reviewerName', 'movieid', 'genre', 'director']}\n",
    "# print(all_dict)\n",
    "\n",
    "# param_grid = {\n",
    "#     'model__C' : [2, 5, 10],\n",
    "#     'model__solver': ['lbfgs', 'liblinear', 'saga']\n",
    "# }\n",
    "# print(param_grid)\n",
    "\n",
    "# param_grid = {\n",
    "#     'model__C' : [1, 5, 10],\n",
    "#     'model__solver': ['liblinear'],\n",
    "#     \"model__fit_intercept\" : [True, False],\n",
    "#     \"model__dual\" : [True, False] \n",
    "# }\n",
    "\n",
    "\n",
    "# Main submission\n",
    "\n",
    "# submit_v4(selected_model=LogisticRegression(C=5, solver='liblinear', max_iter=10000),\n",
    "#           selected_features=all_dict,\n",
    "#           param_grid=param_grid)\n",
    "\n",
    "# submit_v4(selected_features=all_dict,\n",
    "#           add_countvec=True,\n",
    "#           param_grid=param_grid)"
   ]
  },
  {
   "cell_type": "code",
   "execution_count": 226,
   "id": "6dc072eb",
   "metadata": {
    "execution": {
     "iopub.execute_input": "2023-08-10T18:47:01.598323Z",
     "iopub.status.busy": "2023-08-10T18:47:01.597833Z",
     "iopub.status.idle": "2023-08-10T18:47:01.603251Z",
     "shell.execute_reply": "2023-08-10T18:47:01.601919Z"
    },
    "papermill": {
     "duration": 0.110222,
     "end_time": "2023-08-10T18:47:01.605714",
     "exception": false,
     "start_time": "2023-08-10T18:47:01.495492",
     "status": "completed"
    },
    "tags": []
   },
   "outputs": [],
   "source": [
    "# Best 6 parameters\n",
    "\n",
    "# best6_dict = {'cat': [\"isFrequentReviewer\"],\n",
    "#              'num': [\"audienceScore\"],\n",
    "#              'txt': ['reviewText', 'reviewerName', 'genre', 'director']}\n",
    "\n",
    "# best6_dict = {'num': [\"audienceScore\"],\n",
    "#              'txt': ['reviewText', 'reviewerName', 'genre','movieid', 'director']}\n",
    "\n",
    "# best6_dict"
   ]
  },
  {
   "cell_type": "code",
   "execution_count": 227,
   "id": "fb4a4366",
   "metadata": {
    "execution": {
     "iopub.execute_input": "2023-08-10T18:47:01.808432Z",
     "iopub.status.busy": "2023-08-10T18:47:01.807972Z",
     "iopub.status.idle": "2023-08-10T18:47:01.811930Z",
     "shell.execute_reply": "2023-08-10T18:47:01.811136Z"
    },
    "papermill": {
     "duration": 0.107865,
     "end_time": "2023-08-10T18:47:01.814061",
     "exception": false,
     "start_time": "2023-08-10T18:47:01.706196",
     "status": "completed"
    },
    "tags": []
   },
   "outputs": [],
   "source": [
    "# Submit best 6 features (version 2)\n",
    "\n",
    "# submit_v4(selected_features=best6_dict,\n",
    "#           param_grid=param_grid)"
   ]
  },
  {
   "cell_type": "code",
   "execution_count": 228,
   "id": "0b74015d",
   "metadata": {
    "execution": {
     "iopub.execute_input": "2023-08-10T18:47:02.016254Z",
     "iopub.status.busy": "2023-08-10T18:47:02.015789Z",
     "iopub.status.idle": "2023-08-10T18:47:02.021036Z",
     "shell.execute_reply": "2023-08-10T18:47:02.019793Z"
    },
    "papermill": {
     "duration": 0.10803,
     "end_time": "2023-08-10T18:47:02.023401",
     "exception": false,
     "start_time": "2023-08-10T18:47:01.915371",
     "status": "completed"
    },
    "tags": []
   },
   "outputs": [],
   "source": [
    "# Best 7 parameters\n",
    "\n",
    "# best7_dict = {'cat': [\"isFrequentReviewer\"],\n",
    "#              'num': [\"audienceScore\"],\n",
    "#              'txt': ['reviewText', 'reviewerName', 'movieid', 'genre', 'director']}\n",
    "# best7_dict"
   ]
  },
  {
   "cell_type": "code",
   "execution_count": 229,
   "id": "70c4ccbd",
   "metadata": {
    "execution": {
     "iopub.execute_input": "2023-08-10T18:47:02.223408Z",
     "iopub.status.busy": "2023-08-10T18:47:02.222947Z",
     "iopub.status.idle": "2023-08-10T18:47:02.228087Z",
     "shell.execute_reply": "2023-08-10T18:47:02.226965Z"
    },
    "papermill": {
     "duration": 0.108494,
     "end_time": "2023-08-10T18:47:02.230270",
     "exception": false,
     "start_time": "2023-08-10T18:47:02.121776",
     "status": "completed"
    },
    "tags": []
   },
   "outputs": [],
   "source": [
    "# Submit best 7 features\n",
    "\n",
    "# submit_v4(selected_features=best7_dict,\n",
    "#           param_grid=param_grid)"
   ]
  },
  {
   "cell_type": "code",
   "execution_count": 230,
   "id": "57737814",
   "metadata": {
    "execution": {
     "iopub.execute_input": "2023-08-10T18:47:02.430778Z",
     "iopub.status.busy": "2023-08-10T18:47:02.429738Z",
     "iopub.status.idle": "2023-08-10T18:47:02.435576Z",
     "shell.execute_reply": "2023-08-10T18:47:02.434359Z"
    },
    "papermill": {
     "duration": 0.107884,
     "end_time": "2023-08-10T18:47:02.438025",
     "exception": false,
     "start_time": "2023-08-10T18:47:02.330141",
     "status": "completed"
    },
    "tags": []
   },
   "outputs": [],
   "source": [
    "# submit_v4(selected_features=best6_dict, param_grid=param_grid)"
   ]
  },
  {
   "cell_type": "markdown",
   "id": "ddf9e0c4",
   "metadata": {
    "papermill": {
     "duration": 0.099432,
     "end_time": "2023-08-10T18:47:02.637267",
     "exception": false,
     "start_time": "2023-08-10T18:47:02.537835",
     "status": "completed"
    },
    "tags": []
   },
   "source": [
    "## Try a new feature dict  \n",
    "\n"
   ]
  },
  {
   "cell_type": "code",
   "execution_count": 231,
   "id": "d6e7aef8",
   "metadata": {
    "execution": {
     "iopub.execute_input": "2023-08-10T18:47:02.918243Z",
     "iopub.status.busy": "2023-08-10T18:47:02.916827Z",
     "iopub.status.idle": "2023-08-10T18:47:02.922327Z",
     "shell.execute_reply": "2023-08-10T18:47:02.921428Z"
    },
    "papermill": {
     "duration": 0.188325,
     "end_time": "2023-08-10T18:47:02.924736",
     "exception": false,
     "start_time": "2023-08-10T18:47:02.736411",
     "status": "completed"
    },
    "tags": []
   },
   "outputs": [],
   "source": [
    "# all_dict_new = {'cat': [\"isFrequentReviewer\", \"rating\", \"originalLanguage\"],\n",
    "#              'num': [\"audienceScore\", \"runtimeMinutes\", \"boxOffice\"],\n",
    "#              'txt': ['reviewText', \"reviewerName\", 'movieid', 'genre', 'director']}\n",
    "# all_dict_new"
   ]
  },
  {
   "cell_type": "code",
   "execution_count": 232,
   "id": "1ea7b27b",
   "metadata": {
    "execution": {
     "iopub.execute_input": "2023-08-10T18:47:03.124367Z",
     "iopub.status.busy": "2023-08-10T18:47:03.123906Z",
     "iopub.status.idle": "2023-08-10T18:47:03.129053Z",
     "shell.execute_reply": "2023-08-10T18:47:03.127956Z"
    },
    "papermill": {
     "duration": 0.108384,
     "end_time": "2023-08-10T18:47:03.131156",
     "exception": false,
     "start_time": "2023-08-10T18:47:03.022772",
     "status": "completed"
    },
    "tags": []
   },
   "outputs": [],
   "source": [
    "# submit_v4(selected_features={'txt': ['genre']}, param_grid=param_grid)"
   ]
  },
  {
   "cell_type": "code",
   "execution_count": 233,
   "id": "ca6c730c",
   "metadata": {
    "execution": {
     "iopub.execute_input": "2023-08-10T18:47:03.330412Z",
     "iopub.status.busy": "2023-08-10T18:47:03.330052Z",
     "iopub.status.idle": "2023-08-10T18:47:03.334979Z",
     "shell.execute_reply": "2023-08-10T18:47:03.333847Z"
    },
    "papermill": {
     "duration": 0.106354,
     "end_time": "2023-08-10T18:47:03.337234",
     "exception": false,
     "start_time": "2023-08-10T18:47:03.230880",
     "status": "completed"
    },
    "tags": []
   },
   "outputs": [],
   "source": [
    "# submit_v4(selected_features=all_dict_new, param_grid=param_grid)"
   ]
  },
  {
   "cell_type": "code",
   "execution_count": 234,
   "id": "837bb015",
   "metadata": {
    "execution": {
     "iopub.execute_input": "2023-08-10T18:47:03.540180Z",
     "iopub.status.busy": "2023-08-10T18:47:03.539067Z",
     "iopub.status.idle": "2023-08-10T18:47:03.544966Z",
     "shell.execute_reply": "2023-08-10T18:47:03.543828Z"
    },
    "papermill": {
     "duration": 0.110544,
     "end_time": "2023-08-10T18:47:03.547443",
     "exception": false,
     "start_time": "2023-08-10T18:47:03.436899",
     "status": "completed"
    },
    "tags": []
   },
   "outputs": [],
   "source": [
    "# Try non-text based columns\n",
    "# num_cat_dict = {'cat': ['isFrequentReviewer', 'rating', 'originalLanguage'],\n",
    "#  'num': ['audienceScore', 'runtimeMinutes', 'boxOffice']}\n",
    "# num_cat_dict"
   ]
  },
  {
   "cell_type": "code",
   "execution_count": 235,
   "id": "373ee912",
   "metadata": {
    "execution": {
     "iopub.execute_input": "2023-08-10T18:47:03.751152Z",
     "iopub.status.busy": "2023-08-10T18:47:03.750699Z",
     "iopub.status.idle": "2023-08-10T18:47:03.755600Z",
     "shell.execute_reply": "2023-08-10T18:47:03.754417Z"
    },
    "papermill": {
     "duration": 0.110179,
     "end_time": "2023-08-10T18:47:03.757893",
     "exception": false,
     "start_time": "2023-08-10T18:47:03.647714",
     "status": "completed"
    },
    "tags": []
   },
   "outputs": [],
   "source": [
    "# Use num_cat_dict features\n",
    "# (Update): Gets a local score of 0.7027181356991726. Not great.\n",
    "# submit_v4(selected_model=LogisticRegression(max_iter=100000), selected_features=num_cat_dict, param_grid=param_grid)"
   ]
  },
  {
   "cell_type": "code",
   "execution_count": 236,
   "id": "eafb68c1",
   "metadata": {
    "execution": {
     "iopub.execute_input": "2023-08-10T18:47:03.961364Z",
     "iopub.status.busy": "2023-08-10T18:47:03.960303Z",
     "iopub.status.idle": "2023-08-10T18:47:03.965894Z",
     "shell.execute_reply": "2023-08-10T18:47:03.964618Z"
    },
    "papermill": {
     "duration": 0.107359,
     "end_time": "2023-08-10T18:47:03.968329",
     "exception": false,
     "start_time": "2023-08-10T18:47:03.860970",
     "status": "completed"
    },
    "tags": []
   },
   "outputs": [],
   "source": [
    "# Try data other than reviewText\n",
    "\n",
    "# mov_dict = {'cat': ['rating', 'originalLanguage'],\n",
    "#  'num': ['audienceScore', 'runtimeMinutes', 'boxOffice'],\n",
    "#  'txt': ['movieid', 'genre', 'director']}\n",
    "# mov_dict"
   ]
  },
  {
   "cell_type": "code",
   "execution_count": 237,
   "id": "ed629333",
   "metadata": {
    "execution": {
     "iopub.execute_input": "2023-08-10T18:47:04.170726Z",
     "iopub.status.busy": "2023-08-10T18:47:04.170318Z",
     "iopub.status.idle": "2023-08-10T18:47:04.175145Z",
     "shell.execute_reply": "2023-08-10T18:47:04.173858Z"
    },
    "papermill": {
     "duration": 0.110071,
     "end_time": "2023-08-10T18:47:04.177844",
     "exception": false,
     "start_time": "2023-08-10T18:47:04.067773",
     "status": "completed"
    },
    "tags": []
   },
   "outputs": [],
   "source": [
    "# Use mov_dict features\n",
    "# (Update): Gets a local score of 0.7475454316469369, which is not bad at all.\n",
    "# submit_v4(selected_model=LogisticRegression(max_iter=100000), selected_features=mov_dict, param_grid=param_grid)"
   ]
  },
  {
   "cell_type": "markdown",
   "id": "b693bfa6",
   "metadata": {
    "papermill": {
     "duration": 0.106883,
     "end_time": "2023-08-10T18:47:04.392006",
     "exception": false,
     "start_time": "2023-08-10T18:47:04.285123",
     "status": "completed"
    },
    "tags": []
   },
   "source": [
    "# Try a new column 'reviewYN'  \n",
    "\n"
   ]
  },
  {
   "cell_type": "code",
   "execution_count": 238,
   "id": "77d0ed9f",
   "metadata": {
    "execution": {
     "iopub.execute_input": "2023-08-10T18:47:04.610081Z",
     "iopub.status.busy": "2023-08-10T18:47:04.609697Z",
     "iopub.status.idle": "2023-08-10T18:47:04.614120Z",
     "shell.execute_reply": "2023-08-10T18:47:04.613275Z"
    },
    "papermill": {
     "duration": 0.116824,
     "end_time": "2023-08-10T18:47:04.616086",
     "exception": false,
     "start_time": "2023-08-10T18:47:04.499262",
     "status": "completed"
    },
    "tags": []
   },
   "outputs": [],
   "source": [
    "# all_dict_3 = {'cat': [\"isFrequentReviewer\", \"rating\", \"originalLanguage\", \"reviewYN\"],\n",
    "#              'num': [\"audienceScore\", \"runtimeMinutes\", \"boxOffice\"],\n",
    "#              'txt': ['reviewText', \"reviewerName\", 'movieid', 'genre', 'director']}\n",
    "# all_dict_3"
   ]
  },
  {
   "cell_type": "code",
   "execution_count": 239,
   "id": "b3eb1d3d",
   "metadata": {
    "execution": {
     "iopub.execute_input": "2023-08-10T18:47:04.838445Z",
     "iopub.status.busy": "2023-08-10T18:47:04.837774Z",
     "iopub.status.idle": "2023-08-10T18:47:04.842318Z",
     "shell.execute_reply": "2023-08-10T18:47:04.841469Z"
    },
    "papermill": {
     "duration": 0.121398,
     "end_time": "2023-08-10T18:47:04.844760",
     "exception": false,
     "start_time": "2023-08-10T18:47:04.723362",
     "status": "completed"
    },
    "tags": []
   },
   "outputs": [],
   "source": [
    "# submit_v4(selected_model=LogisticRegression(max_iter=100000),\n",
    "#          selected_features=all_dict_3, \n",
    "#           param_grid=param_grid)"
   ]
  },
  {
   "cell_type": "markdown",
   "id": "99cafe2c",
   "metadata": {
    "papermill": {
     "duration": 0.098904,
     "end_time": "2023-08-10T18:47:05.048725",
     "exception": false,
     "start_time": "2023-08-10T18:47:04.949821",
     "status": "completed"
    },
    "tags": []
   },
   "source": [
    "### More GridSearchCV using LinearSVC  "
   ]
  },
  {
   "cell_type": "code",
   "execution_count": 240,
   "id": "3caededf",
   "metadata": {
    "execution": {
     "iopub.execute_input": "2023-08-10T18:47:05.251907Z",
     "iopub.status.busy": "2023-08-10T18:47:05.250694Z",
     "iopub.status.idle": "2023-08-10T18:47:05.255609Z",
     "shell.execute_reply": "2023-08-10T18:47:05.254766Z"
    },
    "papermill": {
     "duration": 0.108317,
     "end_time": "2023-08-10T18:47:05.257698",
     "exception": false,
     "start_time": "2023-08-10T18:47:05.149381",
     "status": "completed"
    },
    "tags": []
   },
   "outputs": [],
   "source": [
    "# param_grid_svc_2 = {\n",
    "#     'model__C': [1.0],\n",
    "#     'model__loss': ['hinge', 'squared_hinge'],\n",
    "#     'model__class_weight': ['balanced', None]\n",
    "# }\n",
    "# param_grid_svc_2"
   ]
  },
  {
   "cell_type": "code",
   "execution_count": 241,
   "id": "7f9f5aa7",
   "metadata": {
    "execution": {
     "iopub.execute_input": "2023-08-10T18:47:05.457878Z",
     "iopub.status.busy": "2023-08-10T18:47:05.457086Z",
     "iopub.status.idle": "2023-08-10T18:47:05.461979Z",
     "shell.execute_reply": "2023-08-10T18:47:05.461109Z"
    },
    "papermill": {
     "duration": 0.109061,
     "end_time": "2023-08-10T18:47:05.464004",
     "exception": false,
     "start_time": "2023-08-10T18:47:05.354943",
     "status": "completed"
    },
    "tags": []
   },
   "outputs": [],
   "source": [
    "# submit_v4(selected_model=LinearSVC(max_iter=100000, random_state=42), selected_features={'num': [\"audienceScore\"]}, param_grid=param_grid_svc_2)"
   ]
  },
  {
   "cell_type": "code",
   "execution_count": 242,
   "id": "47a801b9",
   "metadata": {
    "execution": {
     "iopub.execute_input": "2023-08-10T18:47:05.664666Z",
     "iopub.status.busy": "2023-08-10T18:47:05.663848Z",
     "iopub.status.idle": "2023-08-10T18:47:05.668406Z",
     "shell.execute_reply": "2023-08-10T18:47:05.667615Z"
    },
    "papermill": {
     "duration": 0.106799,
     "end_time": "2023-08-10T18:47:05.670521",
     "exception": false,
     "start_time": "2023-08-10T18:47:05.563722",
     "status": "completed"
    },
    "tags": []
   },
   "outputs": [],
   "source": [
    "# submit_v4(selected_model=LinearSVC(max_iter=100000, random_state=42), selected_features=all_dict, param_grid=param_grid_svc_2)"
   ]
  },
  {
   "cell_type": "markdown",
   "id": "716bf928",
   "metadata": {
    "papermill": {
     "duration": 0.103144,
     "end_time": "2023-08-10T18:47:05.875500",
     "exception": false,
     "start_time": "2023-08-10T18:47:05.772356",
     "status": "completed"
    },
    "tags": []
   },
   "source": [
    "### Boosting techniques  "
   ]
  },
  {
   "cell_type": "code",
   "execution_count": 243,
   "id": "cacf73d4",
   "metadata": {
    "execution": {
     "iopub.execute_input": "2023-08-10T18:47:06.081973Z",
     "iopub.status.busy": "2023-08-10T18:47:06.081429Z",
     "iopub.status.idle": "2023-08-10T18:47:06.089004Z",
     "shell.execute_reply": "2023-08-10T18:47:06.087593Z"
    },
    "papermill": {
     "duration": 0.118405,
     "end_time": "2023-08-10T18:47:06.092534",
     "exception": false,
     "start_time": "2023-08-10T18:47:05.974129",
     "status": "completed"
    },
    "tags": []
   },
   "outputs": [],
   "source": [
    "# adc = AdaBoostClassifier(estimator=LogisticRegression(C=5, solver=\"saga\", max_iter=100000), n_estimators=50)\n",
    "# adc"
   ]
  },
  {
   "cell_type": "code",
   "execution_count": 244,
   "id": "8b9d5a1c",
   "metadata": {
    "execution": {
     "iopub.execute_input": "2023-08-10T18:47:06.298730Z",
     "iopub.status.busy": "2023-08-10T18:47:06.297348Z",
     "iopub.status.idle": "2023-08-10T18:47:06.303670Z",
     "shell.execute_reply": "2023-08-10T18:47:06.302322Z"
    },
    "papermill": {
     "duration": 0.108721,
     "end_time": "2023-08-10T18:47:06.305901",
     "exception": false,
     "start_time": "2023-08-10T18:47:06.197180",
     "status": "completed"
    },
    "tags": []
   },
   "outputs": [],
   "source": [
    "# submit_v4(selected_model=adc, selected_features={'num': [\"audienceScore\"]}, param_grid=None)"
   ]
  },
  {
   "cell_type": "code",
   "execution_count": 245,
   "id": "2d986658",
   "metadata": {
    "execution": {
     "iopub.execute_input": "2023-08-10T18:47:06.507135Z",
     "iopub.status.busy": "2023-08-10T18:47:06.506642Z",
     "iopub.status.idle": "2023-08-10T18:47:06.512124Z",
     "shell.execute_reply": "2023-08-10T18:47:06.510908Z"
    },
    "papermill": {
     "duration": 0.108557,
     "end_time": "2023-08-10T18:47:06.514223",
     "exception": false,
     "start_time": "2023-08-10T18:47:06.405666",
     "status": "completed"
    },
    "tags": []
   },
   "outputs": [],
   "source": [
    "# submit_v4(selected_model=adc, selected_features=all_dict, param_grid=None)\n",
    "\n",
    "# Took 1 hour 15 mins to run and gave a public score of only 0.71089. Discarded."
   ]
  },
  {
   "cell_type": "markdown",
   "id": "565c6dc8",
   "metadata": {
    "papermill": {
     "duration": 0.10146,
     "end_time": "2023-08-10T18:47:06.716475",
     "exception": false,
     "start_time": "2023-08-10T18:47:06.615015",
     "status": "completed"
    },
    "tags": []
   },
   "source": [
    "### LightGBM  "
   ]
  },
  {
   "cell_type": "code",
   "execution_count": 246,
   "id": "da2019cc",
   "metadata": {
    "execution": {
     "iopub.execute_input": "2023-08-10T18:47:06.922050Z",
     "iopub.status.busy": "2023-08-10T18:47:06.921287Z",
     "iopub.status.idle": "2023-08-10T18:47:06.926288Z",
     "shell.execute_reply": "2023-08-10T18:47:06.925023Z"
    },
    "papermill": {
     "duration": 0.111293,
     "end_time": "2023-08-10T18:47:06.928943",
     "exception": false,
     "start_time": "2023-08-10T18:47:06.817650",
     "status": "completed"
    },
    "tags": []
   },
   "outputs": [],
   "source": [
    "# lgb = ltb.LGBMClassifier()\n",
    "# lgb"
   ]
  },
  {
   "cell_type": "code",
   "execution_count": 247,
   "id": "37d7964f",
   "metadata": {
    "execution": {
     "iopub.execute_input": "2023-08-10T18:47:07.149852Z",
     "iopub.status.busy": "2023-08-10T18:47:07.149283Z",
     "iopub.status.idle": "2023-08-10T18:47:07.154798Z",
     "shell.execute_reply": "2023-08-10T18:47:07.153641Z"
    },
    "papermill": {
     "duration": 0.119771,
     "end_time": "2023-08-10T18:47:07.157490",
     "exception": false,
     "start_time": "2023-08-10T18:47:07.037719",
     "status": "completed"
    },
    "tags": []
   },
   "outputs": [],
   "source": [
    "# Try LightGBM with default settings\n",
    "# (Update): Public score only 0.77713. It was fast, took less than 5 mins (without GridSearchCV)\n",
    "\n",
    "# submit_v4(selected_model=ltb.LGBMClassifier(), selected_features=all_dict, param_grid=None)"
   ]
  },
  {
   "cell_type": "markdown",
   "id": "7d7fc71e",
   "metadata": {
    "papermill": {
     "duration": 0.100202,
     "end_time": "2023-08-10T18:47:07.364211",
     "exception": false,
     "start_time": "2023-08-10T18:47:07.264009",
     "status": "completed"
    },
    "tags": []
   },
   "source": [
    "# Try feature selection and vocab fine tuning of reviewText column"
   ]
  },
  {
   "cell_type": "markdown",
   "id": "569f2c25",
   "metadata": {
    "papermill": {
     "duration": 0.100665,
     "end_time": "2023-08-10T18:47:07.565244",
     "exception": false,
     "start_time": "2023-08-10T18:47:07.464579",
     "status": "completed"
    },
    "tags": []
   },
   "source": [
    "## Plan  \n",
    "* Add a new column 'reviewWC' which has word count of 'reviewText'  \n",
    "    * Check if there is any relationship between 'reviewWC' and 'sentiment'\n",
    "* Work on vocabulary\n",
    "     * Use TfidfVectorizer and find out the vocabulary of 'reviewText' column for various ngrams\n",
    "     * Use RecursiveFeatureElimination (RFE) or RFECV to select 1000 top words/vocab for each ngram\n",
    "     * Use the final vocab (1000-3000 words) in the model and see how it performs compared to whole vocab\n"
   ]
  },
  {
   "cell_type": "code",
   "execution_count": 248,
   "id": "e7c0efeb",
   "metadata": {
    "execution": {
     "iopub.execute_input": "2023-08-10T18:47:07.769601Z",
     "iopub.status.busy": "2023-08-10T18:47:07.769131Z",
     "iopub.status.idle": "2023-08-10T18:47:07.775048Z",
     "shell.execute_reply": "2023-08-10T18:47:07.773313Z"
    },
    "papermill": {
     "duration": 0.111625,
     "end_time": "2023-08-10T18:47:07.777380",
     "exception": false,
     "start_time": "2023-08-10T18:47:07.665755",
     "status": "completed"
    },
    "tags": []
   },
   "outputs": [],
   "source": [
    "# 'reviewWC' and 'sentiment'\n",
    "# (Conclusion): 'reviewWC' is practically same as DummyClassifier (accuracy of 0.6682375059904889 on train data). It just predicts 'positive' for all columns\n",
    "\n",
    "# reviewWC_dict = {\"num\": [\"reviewWC\"]}\n",
    "# submit_v4(selected_model=LogisticRegression(),\n",
    "#          selected_features=reviewWC_dict,\n",
    "#          param_grid=None)"
   ]
  },
  {
   "cell_type": "code",
   "execution_count": 249,
   "id": "7555d02d",
   "metadata": {
    "execution": {
     "iopub.execute_input": "2023-08-10T18:47:07.984181Z",
     "iopub.status.busy": "2023-08-10T18:47:07.983693Z",
     "iopub.status.idle": "2023-08-10T18:47:07.989021Z",
     "shell.execute_reply": "2023-08-10T18:47:07.987862Z"
    },
    "papermill": {
     "duration": 0.109413,
     "end_time": "2023-08-10T18:47:07.991251",
     "exception": false,
     "start_time": "2023-08-10T18:47:07.881838",
     "status": "completed"
    },
    "tags": []
   },
   "outputs": [],
   "source": [
    "# 'reviewYN' and 'sentiment'\n",
    "# (Conclusion): 'reviewYN' is practically same as DummyClassifier (accuracy of 0.6682375059904889 on train data). It just predicts 'positive' for all columns\n",
    "\n",
    "# reviewYN_dict = {\"cat\": [\"reviewYN\"]}\n",
    "# submit_v4(selected_model=LogisticRegression(),\n",
    "#          selected_features=reviewYN_dict,\n",
    "#          param_grid=None)"
   ]
  },
  {
   "cell_type": "markdown",
   "id": "c21cd02c",
   "metadata": {
    "papermill": {
     "duration": 0.098679,
     "end_time": "2023-08-10T18:47:08.189107",
     "exception": false,
     "start_time": "2023-08-10T18:47:08.090428",
     "status": "completed"
    },
    "tags": []
   },
   "source": [
    "## Submissions using 'vocabulary' built from 'reviewText' data  "
   ]
  },
  {
   "cell_type": "markdown",
   "id": "11abe4e5",
   "metadata": {
    "papermill": {
     "duration": 0.098687,
     "end_time": "2023-08-10T18:47:08.386122",
     "exception": false,
     "start_time": "2023-08-10T18:47:08.287435",
     "status": "completed"
    },
    "tags": []
   },
   "source": [
    "### Submit best 6 features along with common vocab  "
   ]
  },
  {
   "cell_type": "code",
   "execution_count": 250,
   "id": "4264adfc",
   "metadata": {
    "execution": {
     "iopub.execute_input": "2023-08-10T18:47:08.588975Z",
     "iopub.status.busy": "2023-08-10T18:47:08.588518Z",
     "iopub.status.idle": "2023-08-10T18:47:08.593649Z",
     "shell.execute_reply": "2023-08-10T18:47:08.592275Z"
    },
    "papermill": {
     "duration": 0.109999,
     "end_time": "2023-08-10T18:47:08.595928",
     "exception": false,
     "start_time": "2023-08-10T18:47:08.485929",
     "status": "completed"
    },
    "tags": []
   },
   "outputs": [],
   "source": [
    "# Best 6 parameters (version 2)  \n",
    "\n",
    "# best6_dict = {'num': [\"audienceScore\"],\n",
    "#              'txt': ['reviewText', 'reviewerName', 'genre','movieid', 'director']}\n",
    "\n",
    "# best6_dict"
   ]
  },
  {
   "cell_type": "code",
   "execution_count": 251,
   "id": "28098535",
   "metadata": {
    "execution": {
     "iopub.execute_input": "2023-08-10T18:47:08.798423Z",
     "iopub.status.busy": "2023-08-10T18:47:08.797937Z",
     "iopub.status.idle": "2023-08-10T18:47:08.803254Z",
     "shell.execute_reply": "2023-08-10T18:47:08.801985Z"
    },
    "papermill": {
     "duration": 0.109285,
     "end_time": "2023-08-10T18:47:08.805540",
     "exception": false,
     "start_time": "2023-08-10T18:47:08.696255",
     "status": "completed"
    },
    "tags": []
   },
   "outputs": [],
   "source": [
    "# Submit best 6 features (version 2) with common vocabulary (common_1_2_grams)\n",
    "# (Update): Score 0.82867\n",
    "\n",
    "# submit_v4(selected_features=best6_dict,\n",
    "#           param_grid=param_grid,\n",
    "#          vocab=common_1_2_grams)"
   ]
  },
  {
   "cell_type": "code",
   "execution_count": 252,
   "id": "305d3919",
   "metadata": {
    "execution": {
     "iopub.execute_input": "2023-08-10T18:47:09.011996Z",
     "iopub.status.busy": "2023-08-10T18:47:09.011628Z",
     "iopub.status.idle": "2023-08-10T18:47:09.016584Z",
     "shell.execute_reply": "2023-08-10T18:47:09.015319Z"
    },
    "papermill": {
     "duration": 0.109342,
     "end_time": "2023-08-10T18:47:09.018928",
     "exception": false,
     "start_time": "2023-08-10T18:47:08.909586",
     "status": "completed"
    },
    "tags": []
   },
   "outputs": [],
   "source": [
    "# Submit best 6 features (version 2) with common vocabulary (common_1_2_3_grams)\n",
    "# Note: for this submission submit_v4 function has to be modified: reviewText TfidfVectorizer must have ngram_range(1,3).\n",
    "# (Update): Score in the range 0.825+\n",
    "\n",
    "# submit_v4(selected_features=best6_dict,\n",
    "#           param_grid=param_grid,\n",
    "#          vocab=common_1_2_3_grams)"
   ]
  }
 ],
 "metadata": {
  "kernelspec": {
   "display_name": "Python 3",
   "language": "python",
   "name": "python3"
  },
  "language_info": {
   "codemirror_mode": {
    "name": "ipython",
    "version": 3
   },
   "file_extension": ".py",
   "mimetype": "text/x-python",
   "name": "python",
   "nbconvert_exporter": "python",
   "pygments_lexer": "ipython3",
   "version": "3.10.10"
  },
  "papermill": {
   "default_parameters": {},
   "duration": 182.263549,
   "end_time": "2023-08-10T18:47:11.943061",
   "environment_variables": {},
   "exception": null,
   "input_path": "__notebook__.ipynb",
   "output_path": "__notebook__.ipynb",
   "parameters": {},
   "start_time": "2023-08-10T18:44:09.679512",
   "version": "2.4.0"
  }
 },
 "nbformat": 4,
 "nbformat_minor": 5
}
