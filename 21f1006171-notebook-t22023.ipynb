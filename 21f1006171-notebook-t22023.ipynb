{
 "cells": [
  {
   "cell_type": "markdown",
   "id": "150b5e90",
   "metadata": {
    "papermill": {
     "duration": 0.094856,
     "end_time": "2023-08-12T19:05:14.782296",
     "exception": false,
     "start_time": "2023-08-12T19:05:14.687440",
     "status": "completed"
    },
    "tags": []
   },
   "source": [
    "# MLP Project (T2 2023) by Ganesh P  "
   ]
  },
  {
   "cell_type": "markdown",
   "id": "78f92746",
   "metadata": {
    "papermill": {
     "duration": 0.091112,
     "end_time": "2023-08-12T19:05:14.966180",
     "exception": false,
     "start_time": "2023-08-12T19:05:14.875068",
     "status": "completed"
    },
    "tags": []
   },
   "source": [
    "`Disclaimer`   \n",
    "\n",
    "> This final notebook contains only the most relevant code to show the path/flow of my project work over few weeks. Rest of the code is in [my github repo](https://github.com/ganeshbmc/MLP_project) which is private at present (I will make it public after the project is over).  "
   ]
  },
  {
   "cell_type": "markdown",
   "id": "019bf6cf",
   "metadata": {
    "papermill": {
     "duration": 0.091207,
     "end_time": "2023-08-12T19:05:15.148084",
     "exception": false,
     "start_time": "2023-08-12T19:05:15.056877",
     "status": "completed"
    },
    "tags": []
   },
   "source": [
    "`Strengths`  \n",
    "\n",
    "> * Modular code (DRY principle)  \n",
    "> * End to end pipeline in one function (with helper functions)   "
   ]
  },
  {
   "cell_type": "markdown",
   "id": "99483a99",
   "metadata": {
    "papermill": {
     "duration": 0.092053,
     "end_time": "2023-08-12T19:05:15.332063",
     "exception": false,
     "start_time": "2023-08-12T19:05:15.240010",
     "status": "completed"
    },
    "tags": []
   },
   "source": [
    "`Overview`  \n",
    "\n",
    "`PART I`  \n",
    "\n",
    "1.\t> Screen the datasets and import them.  \n",
    "2.\t> Perform EDA (first round).\n",
    "3.\t> Data cleaning.\n",
    "4.\t> Basic models including dummy model.\n",
    "5.\t> Because this is a text sentiment analysis project, focus on 'reviewText' column, work on cleaning text data and vectorising/tokenising it, build several models till the best possible score is reached.  \n",
    "\n",
    "`PART II`  \n",
    "\n",
    "6.\t> Merge train and movies dataset.\n",
    "7.\t> Perform EDA (second round) on merged dataset.\n",
    "8.\t> Data cleaning.\n",
    "9.\t> Build models on merged dataset.\n",
    "10.\t> Understand the results and do another round of EDA if needed.\n",
    "11.\t> Build final model.  \n",
    "\n",
    "`PART III (After project window closes)`  \n",
    "\n",
    "12. > Use NLTK library for further processing text data.  \n",
    "13. > Try to address comments from different languages, special characters etc.  \n",
    "14. > Try imblearn library to address class imbalance.  \n",
    "15. > Try to use currently available LLMs and see how my model performs agains them.  "
   ]
  },
  {
   "cell_type": "markdown",
   "id": "ac0a4fbf",
   "metadata": {
    "papermill": {
     "duration": 0.091122,
     "end_time": "2023-08-12T19:05:15.514669",
     "exception": false,
     "start_time": "2023-08-12T19:05:15.423547",
     "status": "completed"
    },
    "tags": []
   },
   "source": [
    "`Default code on Kaggle notebook`  "
   ]
  },
  {
   "cell_type": "code",
   "execution_count": 1,
   "id": "c5332226",
   "metadata": {
    "_cell_guid": "b1076dfc-b9ad-4769-8c92-a6c4dae69d19",
    "_uuid": "8f2839f25d086af736a60e9eeb907d3b93b6e0e5",
    "execution": {
     "iopub.execute_input": "2023-08-12T19:05:15.701473Z",
     "iopub.status.busy": "2023-08-12T19:05:15.700571Z",
     "iopub.status.idle": "2023-08-12T19:05:15.718072Z",
     "shell.execute_reply": "2023-08-12T19:05:15.716990Z"
    },
    "papermill": {
     "duration": 0.114495,
     "end_time": "2023-08-12T19:05:15.720593",
     "exception": false,
     "start_time": "2023-08-12T19:05:15.606098",
     "status": "completed"
    },
    "tags": []
   },
   "outputs": [
    {
     "name": "stdout",
     "output_type": "stream",
     "text": [
      "/kaggle/input/sentiment-prediction-on-movie-reviews/movies.csv\n",
      "/kaggle/input/sentiment-prediction-on-movie-reviews/sample.csv\n",
      "/kaggle/input/sentiment-prediction-on-movie-reviews/train.csv\n",
      "/kaggle/input/sentiment-prediction-on-movie-reviews/test.csv\n"
     ]
    }
   ],
   "source": [
    "# This Python 3 environment comes with many helpful analytics libraries installed\n",
    "# It is defined by the kaggle/python Docker image: https://github.com/kaggle/docker-python\n",
    "# For example, here's several helpful packages to load\n",
    "\n",
    "import numpy as np # linear algebra\n",
    "import pandas as pd # data processing, CSV file I/O (e.g. pd.read_csv)\n",
    "\n",
    "# Input data files are available in the read-only \"../input/\" directory\n",
    "# For example, running this (by clicking run or pressing Shift+Enter) will list all files under the input directory\n",
    "\n",
    "import os\n",
    "for dirname, _, filenames in os.walk('/kaggle/input'):\n",
    "    for filename in filenames:\n",
    "        print(os.path.join(dirname, filename))\n",
    "\n",
    "# You can write up to 20GB to the current directory (/kaggle/working/) that gets preserved as output when you create a version using \"Save & Run All\" \n",
    "# You can also write temporary files to /kaggle/temp/, but they won't be saved outside of the current session"
   ]
  },
  {
   "cell_type": "markdown",
   "id": "df499103",
   "metadata": {
    "papermill": {
     "duration": 0.092548,
     "end_time": "2023-08-12T19:05:15.905628",
     "exception": false,
     "start_time": "2023-08-12T19:05:15.813080",
     "status": "completed"
    },
    "tags": []
   },
   "source": [
    "### Specify platform  "
   ]
  },
  {
   "cell_type": "code",
   "execution_count": 2,
   "id": "90e6356b",
   "metadata": {
    "execution": {
     "iopub.execute_input": "2023-08-12T19:05:16.092934Z",
     "iopub.status.busy": "2023-08-12T19:05:16.092197Z",
     "iopub.status.idle": "2023-08-12T19:05:16.097072Z",
     "shell.execute_reply": "2023-08-12T19:05:16.096124Z"
    },
    "papermill": {
     "duration": 0.101116,
     "end_time": "2023-08-12T19:05:16.099347",
     "exception": false,
     "start_time": "2023-08-12T19:05:15.998231",
     "status": "completed"
    },
    "tags": []
   },
   "outputs": [],
   "source": [
    "platform = 'kaggle'  "
   ]
  },
  {
   "cell_type": "markdown",
   "id": "36ccc5c9",
   "metadata": {
    "papermill": {
     "duration": 0.09187,
     "end_time": "2023-08-12T19:05:16.284041",
     "exception": false,
     "start_time": "2023-08-12T19:05:16.192171",
     "status": "completed"
    },
    "tags": []
   },
   "source": [
    "### Import libraries  "
   ]
  },
  {
   "cell_type": "code",
   "execution_count": 3,
   "id": "558a4f2f",
   "metadata": {
    "execution": {
     "iopub.execute_input": "2023-08-12T19:05:16.471185Z",
     "iopub.status.busy": "2023-08-12T19:05:16.470800Z",
     "iopub.status.idle": "2023-08-12T19:05:18.755638Z",
     "shell.execute_reply": "2023-08-12T19:05:18.754665Z"
    },
    "papermill": {
     "duration": 2.381274,
     "end_time": "2023-08-12T19:05:18.758538",
     "exception": false,
     "start_time": "2023-08-12T19:05:16.377264",
     "status": "completed"
    },
    "tags": []
   },
   "outputs": [
    {
     "name": "stdout",
     "output_type": "stream",
     "text": [
      "Imports done.\n"
     ]
    }
   ],
   "source": [
    "import pandas as pd\n",
    "import numpy as np\n",
    "import matplotlib.pyplot as plt\n",
    "import seaborn as sns\n",
    "import re\n",
    "from itertools import compress\n",
    "\n",
    "from sklearn.dummy import DummyClassifier\n",
    "from sklearn.pipeline import Pipeline, FeatureUnion\n",
    "from sklearn.compose import ColumnTransformer\n",
    "from sklearn.metrics import classification_report, confusion_matrix,f1_score\n",
    "from sklearn.feature_extraction.text import TfidfVectorizer, CountVectorizer\n",
    "from sklearn.preprocessing import FunctionTransformer\n",
    "from sklearn.preprocessing import StandardScaler, MinMaxScaler, RobustScaler, OneHotEncoder, LabelEncoder\n",
    "from sklearn.impute import SimpleImputer, KNNImputer\n",
    "from sklearn.linear_model import LogisticRegression, SGDClassifier\n",
    "from sklearn.tree import DecisionTreeClassifier\n",
    "from sklearn.ensemble import RandomForestClassifier, AdaBoostClassifier\n",
    "from sklearn.svm import LinearSVC\n",
    "from sklearn.naive_bayes import GaussianNB, BernoulliNB, CategoricalNB, ComplementNB, MultinomialNB\n",
    "from sklearn.model_selection import train_test_split, GridSearchCV, cross_val_score\n",
    "from sklearn.decomposition import PCA, TruncatedSVD\n",
    "from sklearn.feature_selection import RFECV\n",
    "from sklearn.feature_selection import RFE\n",
    "from sklearn.neural_network import MLPClassifier\n",
    "\n",
    "# import lightgbm as ltb\n",
    "\n",
    "import scipy.stats as stats\n",
    "print(\"Imports done.\")"
   ]
  },
  {
   "cell_type": "markdown",
   "id": "46708b5f",
   "metadata": {
    "papermill": {
     "duration": 0.092004,
     "end_time": "2023-08-12T19:05:18.944261",
     "exception": false,
     "start_time": "2023-08-12T19:05:18.852257",
     "status": "completed"
    },
    "tags": []
   },
   "source": [
    "# PART I  "
   ]
  },
  {
   "cell_type": "markdown",
   "id": "5a3f3571",
   "metadata": {
    "papermill": {
     "duration": 0.091662,
     "end_time": "2023-08-12T19:05:19.128940",
     "exception": false,
     "start_time": "2023-08-12T19:05:19.037278",
     "status": "completed"
    },
    "tags": []
   },
   "source": [
    "## Load datasets  "
   ]
  },
  {
   "cell_type": "code",
   "execution_count": 4,
   "id": "d7c1c5c8",
   "metadata": {
    "execution": {
     "iopub.execute_input": "2023-08-12T19:05:19.319865Z",
     "iopub.status.busy": "2023-08-12T19:05:19.319218Z",
     "iopub.status.idle": "2023-08-12T19:05:20.266614Z",
     "shell.execute_reply": "2023-08-12T19:05:20.265492Z"
    },
    "papermill": {
     "duration": 1.043613,
     "end_time": "2023-08-12T19:05:20.269131",
     "exception": false,
     "start_time": "2023-08-12T19:05:19.225518",
     "status": "completed"
    },
    "tags": []
   },
   "outputs": [
    {
     "data": {
      "text/plain": [
       "(162758, 5)"
      ]
     },
     "execution_count": 4,
     "metadata": {},
     "output_type": "execute_result"
    }
   ],
   "source": [
    "if platform == 'vscode':\n",
    "    traindf = pd.read_csv(\"data/train.csv\")\n",
    "else:\n",
    "    traindf = pd.read_csv(\"/kaggle/input/sentiment-prediction-on-movie-reviews/train.csv\")\n",
    "    \n",
    "traindf.shape"
   ]
  },
  {
   "cell_type": "code",
   "execution_count": 5,
   "id": "14c67b34",
   "metadata": {
    "execution": {
     "iopub.execute_input": "2023-08-12T19:05:20.459397Z",
     "iopub.status.busy": "2023-08-12T19:05:20.458684Z",
     "iopub.status.idle": "2023-08-12T19:05:20.764452Z",
     "shell.execute_reply": "2023-08-12T19:05:20.763296Z"
    },
    "papermill": {
     "duration": 0.405432,
     "end_time": "2023-08-12T19:05:20.766996",
     "exception": false,
     "start_time": "2023-08-12T19:05:20.361564",
     "status": "completed"
    },
    "tags": []
   },
   "outputs": [
    {
     "data": {
      "text/plain": [
       "(55315, 4)"
      ]
     },
     "execution_count": 5,
     "metadata": {},
     "output_type": "execute_result"
    }
   ],
   "source": [
    "if platform == 'vscode':\n",
    "    testdf = pd.read_csv(\"data/test.csv\")\n",
    "else:\n",
    "    testdf = pd.read_csv(\"/kaggle/input/sentiment-prediction-on-movie-reviews/test.csv\")\n",
    "\n",
    "testdf.shape"
   ]
  },
  {
   "cell_type": "markdown",
   "id": "f5fa9041",
   "metadata": {
    "papermill": {
     "duration": 0.091758,
     "end_time": "2023-08-12T19:05:20.953526",
     "exception": false,
     "start_time": "2023-08-12T19:05:20.861768",
     "status": "completed"
    },
    "tags": []
   },
   "source": [
    "### Understanding the data and getting it ready for training and evaluating models  \n"
   ]
  },
  {
   "cell_type": "code",
   "execution_count": 6,
   "id": "78f4b104",
   "metadata": {
    "execution": {
     "iopub.execute_input": "2023-08-12T19:05:21.141069Z",
     "iopub.status.busy": "2023-08-12T19:05:21.140422Z",
     "iopub.status.idle": "2023-08-12T19:05:21.147179Z",
     "shell.execute_reply": "2023-08-12T19:05:21.146097Z"
    },
    "papermill": {
     "duration": 0.103263,
     "end_time": "2023-08-12T19:05:21.149557",
     "exception": false,
     "start_time": "2023-08-12T19:05:21.046294",
     "status": "completed"
    },
    "tags": []
   },
   "outputs": [
    {
     "data": {
      "text/plain": [
       "(162758, 5)"
      ]
     },
     "execution_count": 6,
     "metadata": {},
     "output_type": "execute_result"
    }
   ],
   "source": [
    "traindf.shape"
   ]
  },
  {
   "cell_type": "code",
   "execution_count": 7,
   "id": "38ab4812",
   "metadata": {
    "execution": {
     "iopub.execute_input": "2023-08-12T19:05:21.337154Z",
     "iopub.status.busy": "2023-08-12T19:05:21.336769Z",
     "iopub.status.idle": "2023-08-12T19:05:21.570014Z",
     "shell.execute_reply": "2023-08-12T19:05:21.568652Z"
    },
    "papermill": {
     "duration": 0.330341,
     "end_time": "2023-08-12T19:05:21.572799",
     "exception": false,
     "start_time": "2023-08-12T19:05:21.242458",
     "status": "completed"
    },
    "tags": []
   },
   "outputs": [
    {
     "name": "stdout",
     "output_type": "stream",
     "text": [
      "<class 'pandas.core.frame.DataFrame'>\n",
      "RangeIndex: 162758 entries, 0 to 162757\n",
      "Data columns (total 5 columns):\n",
      " #   Column              Non-Null Count   Dtype \n",
      "---  ------              --------------   ----- \n",
      " 0   movieid             162758 non-null  object\n",
      " 1   reviewerName        162758 non-null  object\n",
      " 2   isFrequentReviewer  162758 non-null  bool  \n",
      " 3   reviewText          156311 non-null  object\n",
      " 4   sentiment           162758 non-null  object\n",
      "dtypes: bool(1), object(4)\n",
      "memory usage: 5.1+ MB\n"
     ]
    }
   ],
   "source": [
    "traindf.info()"
   ]
  },
  {
   "cell_type": "code",
   "execution_count": 8,
   "id": "ff3fe34a",
   "metadata": {
    "execution": {
     "iopub.execute_input": "2023-08-12T19:05:21.762928Z",
     "iopub.status.busy": "2023-08-12T19:05:21.762526Z",
     "iopub.status.idle": "2023-08-12T19:05:21.978383Z",
     "shell.execute_reply": "2023-08-12T19:05:21.977342Z"
    },
    "papermill": {
     "duration": 0.31503,
     "end_time": "2023-08-12T19:05:21.980807",
     "exception": false,
     "start_time": "2023-08-12T19:05:21.665777",
     "status": "completed"
    },
    "tags": []
   },
   "outputs": [
    {
     "data": {
      "text/plain": [
       "movieid                  0\n",
       "reviewerName             0\n",
       "isFrequentReviewer       0\n",
       "reviewText            6447\n",
       "sentiment                0\n",
       "dtype: int64"
      ]
     },
     "execution_count": 8,
     "metadata": {},
     "output_type": "execute_result"
    }
   ],
   "source": [
    "traindf.isna().sum()"
   ]
  },
  {
   "cell_type": "markdown",
   "id": "21d725b5",
   "metadata": {
    "papermill": {
     "duration": 0.094288,
     "end_time": "2023-08-12T19:05:22.233443",
     "exception": false,
     "start_time": "2023-08-12T19:05:22.139155",
     "status": "completed"
    },
    "tags": []
   },
   "source": [
    "### Fill empty reviewText with custom text  "
   ]
  },
  {
   "cell_type": "code",
   "execution_count": 9,
   "id": "46bae3bf",
   "metadata": {
    "execution": {
     "iopub.execute_input": "2023-08-12T19:05:22.423568Z",
     "iopub.status.busy": "2023-08-12T19:05:22.423137Z",
     "iopub.status.idle": "2023-08-12T19:05:22.661140Z",
     "shell.execute_reply": "2023-08-12T19:05:22.660047Z"
    },
    "papermill": {
     "duration": 0.336786,
     "end_time": "2023-08-12T19:05:22.663506",
     "exception": false,
     "start_time": "2023-08-12T19:05:22.326720",
     "status": "completed"
    },
    "tags": []
   },
   "outputs": [
    {
     "data": {
      "text/plain": [
       "movieid               0\n",
       "reviewerName          0\n",
       "isFrequentReviewer    0\n",
       "reviewText            0\n",
       "sentiment             0\n",
       "dtype: int64"
      ]
     },
     "execution_count": 9,
     "metadata": {},
     "output_type": "execute_result"
    }
   ],
   "source": [
    "traindf[\"reviewText\"].fillna(\"empty\", inplace=True)\n",
    "traindf.isna().sum()"
   ]
  },
  {
   "cell_type": "markdown",
   "id": "18d9cb6f",
   "metadata": {
    "papermill": {
     "duration": 0.094084,
     "end_time": "2023-08-12T19:05:22.852137",
     "exception": false,
     "start_time": "2023-08-12T19:05:22.758053",
     "status": "completed"
    },
    "tags": []
   },
   "source": [
    "## EDA  \n"
   ]
  },
  {
   "cell_type": "code",
   "execution_count": 10,
   "id": "5e66fab8",
   "metadata": {
    "execution": {
     "iopub.execute_input": "2023-08-12T19:05:23.040827Z",
     "iopub.status.busy": "2023-08-12T19:05:23.040133Z",
     "iopub.status.idle": "2023-08-12T19:05:23.295908Z",
     "shell.execute_reply": "2023-08-12T19:05:23.294263Z"
    },
    "papermill": {
     "duration": 0.352311,
     "end_time": "2023-08-12T19:05:23.298725",
     "exception": false,
     "start_time": "2023-08-12T19:05:22.946414",
     "status": "completed"
    },
    "tags": []
   },
   "outputs": [
    {
     "data": {
      "image/png": "[encoded data removed]",
      "text/plain": [
       "<Figure size 600x400 with 1 Axes>"
      ]
     },
     "metadata": {},
     "output_type": "display_data"
    }
   ],
   "source": [
    "# Pie chart for sentiment column\n",
    "plt.figure(figsize=(6, 4))\n",
    "traindf[\"sentiment\"].value_counts().plot(kind='pie', autopct='%1.0f%%', colors=[\"lightgreen\", \"crimson\"])\n",
    "plt.title(\"Pie chart for sentiment column\")\n",
    "plt.show()"
   ]
  },
  {
   "cell_type": "code",
   "execution_count": 11,
   "id": "1bc1d942",
   "metadata": {
    "execution": {
     "iopub.execute_input": "2023-08-12T19:05:23.490471Z",
     "iopub.status.busy": "2023-08-12T19:05:23.489853Z",
     "iopub.status.idle": "2023-08-12T19:05:23.565875Z",
     "shell.execute_reply": "2023-08-12T19:05:23.564752Z"
    },
    "papermill": {
     "duration": 0.174739,
     "end_time": "2023-08-12T19:05:23.568275",
     "exception": false,
     "start_time": "2023-08-12T19:05:23.393536",
     "status": "completed"
    },
    "tags": []
   },
   "outputs": [
    {
     "name": "stdout",
     "output_type": "stream",
     "text": [
      "sentiment           NEGATIVE  POSITIVE\n",
      "isFrequentReviewer                    \n",
      "False                  35760     77429\n",
      "True                   18237     31332\n"
     ]
    },
    {
     "data": {
      "text/plain": [
       "Chi2ContingencyResult(statistic=419.89235425657796, pvalue=2.5755894769493255e-93, dof=1, expected_freq=array([[37551.86493444, 75637.13506556],\n",
       "       [16445.13506556, 33123.86493444]]))"
      ]
     },
     "execution_count": 11,
     "metadata": {},
     "output_type": "execute_result"
    }
   ],
   "source": [
    "# Chi-square test for isFrequentReviewer column and sentiment column   \n",
    "\n",
    "contingency_table = pd.crosstab(traindf['isFrequentReviewer'], traindf['sentiment'])\n",
    "print(contingency_table)\n",
    "stats.chi2_contingency(contingency_table)"
   ]
  },
  {
   "cell_type": "markdown",
   "id": "36bde394",
   "metadata": {
    "papermill": {
     "duration": 0.09496,
     "end_time": "2023-08-12T19:05:23.757762",
     "exception": false,
     "start_time": "2023-08-12T19:05:23.662802",
     "status": "completed"
    },
    "tags": []
   },
   "source": [
    "### Separate features and labels  "
   ]
  },
  {
   "cell_type": "code",
   "execution_count": 12,
   "id": "74b92d32",
   "metadata": {
    "execution": {
     "iopub.execute_input": "2023-08-12T19:05:23.951190Z",
     "iopub.status.busy": "2023-08-12T19:05:23.950180Z",
     "iopub.status.idle": "2023-08-12T19:05:23.957521Z",
     "shell.execute_reply": "2023-08-12T19:05:23.956477Z"
    },
    "papermill": {
     "duration": 0.106848,
     "end_time": "2023-08-12T19:05:23.959858",
     "exception": false,
     "start_time": "2023-08-12T19:05:23.853010",
     "status": "completed"
    },
    "tags": []
   },
   "outputs": [
    {
     "data": {
      "text/plain": [
       "((162758,), (162758,))"
      ]
     },
     "execution_count": 12,
     "metadata": {},
     "output_type": "execute_result"
    }
   ],
   "source": [
    "train_features = traindf[\"reviewText\"]\n",
    "train_labels = traindf.iloc[:, -1]\n",
    "train_features.shape, train_labels.shape"
   ]
  },
  {
   "cell_type": "markdown",
   "id": "26803f09",
   "metadata": {
    "papermill": {
     "duration": 0.095479,
     "end_time": "2023-08-12T19:05:24.150167",
     "exception": false,
     "start_time": "2023-08-12T19:05:24.054688",
     "status": "completed"
    },
    "tags": []
   },
   "source": [
    "### Split traindf into training and testing parts  "
   ]
  },
  {
   "cell_type": "code",
   "execution_count": 13,
   "id": "2791e7e2",
   "metadata": {
    "execution": {
     "iopub.execute_input": "2023-08-12T19:05:24.342080Z",
     "iopub.status.busy": "2023-08-12T19:05:24.341554Z",
     "iopub.status.idle": "2023-08-12T19:05:24.377732Z",
     "shell.execute_reply": "2023-08-12T19:05:24.376658Z"
    },
    "papermill": {
     "duration": 0.134648,
     "end_time": "2023-08-12T19:05:24.380137",
     "exception": false,
     "start_time": "2023-08-12T19:05:24.245489",
     "status": "completed"
    },
    "tags": []
   },
   "outputs": [
    {
     "data": {
      "text/plain": [
       "((122068,), (40690,), (122068,), (40690,))"
      ]
     },
     "execution_count": 13,
     "metadata": {},
     "output_type": "execute_result"
    }
   ],
   "source": [
    "X_train, X_test, y_train, y_test = train_test_split(train_features, train_labels, test_size=0.25, random_state=42)\n",
    "X_train.shape, X_test.shape, y_train.shape, y_test.shape"
   ]
  },
  {
   "cell_type": "markdown",
   "id": "6439690e",
   "metadata": {
    "papermill": {
     "duration": 0.094331,
     "end_time": "2023-08-12T19:05:24.569635",
     "exception": false,
     "start_time": "2023-08-12T19:05:24.475304",
     "status": "completed"
    },
    "tags": []
   },
   "source": [
    "## Model evaluation plan and code  "
   ]
  },
  {
   "cell_type": "code",
   "execution_count": 14,
   "id": "94f4cd04",
   "metadata": {
    "execution": {
     "iopub.execute_input": "2023-08-12T19:05:24.762568Z",
     "iopub.status.busy": "2023-08-12T19:05:24.762150Z",
     "iopub.status.idle": "2023-08-12T19:05:24.766982Z",
     "shell.execute_reply": "2023-08-12T19:05:24.765908Z"
    },
    "papermill": {
     "duration": 0.10513,
     "end_time": "2023-08-12T19:05:24.769393",
     "exception": false,
     "start_time": "2023-08-12T19:05:24.664263",
     "status": "completed"
    },
    "tags": []
   },
   "outputs": [],
   "source": [
    "# from sklearn.metrics import classification_report, confusion_matrix, ConfusionMatrixDisplay\n",
    "# from sklearn.metrics import f1_score"
   ]
  },
  {
   "cell_type": "code",
   "execution_count": 15,
   "id": "193c811b",
   "metadata": {
    "execution": {
     "iopub.execute_input": "2023-08-12T19:05:24.963932Z",
     "iopub.status.busy": "2023-08-12T19:05:24.963267Z",
     "iopub.status.idle": "2023-08-12T19:05:24.967123Z",
     "shell.execute_reply": "2023-08-12T19:05:24.966402Z"
    },
    "papermill": {
     "duration": 0.10348,
     "end_time": "2023-08-12T19:05:24.969208",
     "exception": false,
     "start_time": "2023-08-12T19:05:24.865728",
     "status": "completed"
    },
    "tags": []
   },
   "outputs": [],
   "source": [
    "# def evaluate(y_test, y_pred):\n",
    "#     print(classification_report(y_test, y_pred))\n",
    "#     print(confusion_matrix(y_test, y_pred))\n",
    "#     # print(f1_score(y_test, y_pred))\n",
    "#     ConfusionMatrixDisplay(y_test, y_pred)\n",
    "#     return"
   ]
  },
  {
   "cell_type": "markdown",
   "id": "bee4787e",
   "metadata": {
    "papermill": {
     "duration": 0.094615,
     "end_time": "2023-08-12T19:05:25.158901",
     "exception": false,
     "start_time": "2023-08-12T19:05:25.064286",
     "status": "completed"
    },
    "tags": []
   },
   "source": [
    "### Data preprocessing  "
   ]
  },
  {
   "cell_type": "markdown",
   "id": "7dfdfe02",
   "metadata": {
    "papermill": {
     "duration": 0.094829,
     "end_time": "2023-08-12T19:05:25.348332",
     "exception": false,
     "start_time": "2023-08-12T19:05:25.253503",
     "status": "completed"
    },
    "tags": []
   },
   "source": [
    "`Define stop words`  "
   ]
  },
  {
   "cell_type": "code",
   "execution_count": 16,
   "id": "c3ba4c4f",
   "metadata": {
    "execution": {
     "iopub.execute_input": "2023-08-12T19:05:25.543633Z",
     "iopub.status.busy": "2023-08-12T19:05:25.542968Z",
     "iopub.status.idle": "2023-08-12T19:05:25.546987Z",
     "shell.execute_reply": "2023-08-12T19:05:25.546022Z"
    },
    "papermill": {
     "duration": 0.105306,
     "end_time": "2023-08-12T19:05:25.549297",
     "exception": false,
     "start_time": "2023-08-12T19:05:25.443991",
     "status": "completed"
    },
    "tags": []
   },
   "outputs": [],
   "source": [
    "# stop_words = [\"able\", \"about\", \"above\", \"abst\", \"ac\"]     # Deprecated  \n",
    "# type(stop_words), len(stop_words)"
   ]
  },
  {
   "cell_type": "markdown",
   "id": "8e12ad85",
   "metadata": {
    "papermill": {
     "duration": 0.094176,
     "end_time": "2023-08-12T19:05:25.738145",
     "exception": false,
     "start_time": "2023-08-12T19:05:25.643969",
     "status": "completed"
    },
    "tags": []
   },
   "source": [
    "## Feature extraction  "
   ]
  },
  {
   "cell_type": "markdown",
   "id": "5fa97031",
   "metadata": {
    "papermill": {
     "duration": 0.095648,
     "end_time": "2023-08-12T19:05:25.930182",
     "exception": false,
     "start_time": "2023-08-12T19:05:25.834534",
     "status": "completed"
    },
    "tags": []
   },
   "source": [
    "### Understand CountVectorizer and TfidfVectorizer  "
   ]
  },
  {
   "cell_type": "code",
   "execution_count": 17,
   "id": "58f3ec39",
   "metadata": {
    "execution": {
     "iopub.execute_input": "2023-08-12T19:05:26.121767Z",
     "iopub.status.busy": "2023-08-12T19:05:26.121067Z",
     "iopub.status.idle": "2023-08-12T19:05:26.124911Z",
     "shell.execute_reply": "2023-08-12T19:05:26.124049Z"
    },
    "papermill": {
     "duration": 0.102291,
     "end_time": "2023-08-12T19:05:26.127183",
     "exception": false,
     "start_time": "2023-08-12T19:05:26.024892",
     "status": "completed"
    },
    "tags": []
   },
   "outputs": [],
   "source": [
    "# text = X_train.copy()\n",
    "# text.head()"
   ]
  },
  {
   "cell_type": "code",
   "execution_count": 18,
   "id": "c6f31d44",
   "metadata": {
    "execution": {
     "iopub.execute_input": "2023-08-12T19:05:26.317247Z",
     "iopub.status.busy": "2023-08-12T19:05:26.316815Z",
     "iopub.status.idle": "2023-08-12T19:05:26.321468Z",
     "shell.execute_reply": "2023-08-12T19:05:26.320433Z"
    },
    "papermill": {
     "duration": 0.102346,
     "end_time": "2023-08-12T19:05:26.323834",
     "exception": false,
     "start_time": "2023-08-12T19:05:26.221488",
     "status": "completed"
    },
    "tags": []
   },
   "outputs": [],
   "source": [
    "# vectorizer = TfidfVectorizer(stop_words=stop_words)\n",
    "# vectorized_text = vectorizer.fit_transform(text[\"reviewText\"])\n",
    "# vectorized_text"
   ]
  },
  {
   "cell_type": "markdown",
   "id": "673dd828",
   "metadata": {
    "papermill": {
     "duration": 0.095353,
     "end_time": "2023-08-12T19:05:26.514231",
     "exception": false,
     "start_time": "2023-08-12T19:05:26.418878",
     "status": "completed"
    },
    "tags": []
   },
   "source": [
    "`Without stop words`  \n",
    "<122068x58624 sparse matrix of type '<class 'numpy.float64'>'\n",
    "\twith 2312222 stored elements in Compressed Sparse Row format>\n",
    "\n",
    "`With stop words`  \n",
    "<122068x57784 sparse matrix of type '<class 'numpy.float64'>'\n",
    "\twith 1188395 stored elements in Compressed Sparse Row format>   "
   ]
  },
  {
   "cell_type": "code",
   "execution_count": 19,
   "id": "4c3d8a83",
   "metadata": {
    "execution": {
     "iopub.execute_input": "2023-08-12T19:05:26.706627Z",
     "iopub.status.busy": "2023-08-12T19:05:26.705612Z",
     "iopub.status.idle": "2023-08-12T19:05:26.709850Z",
     "shell.execute_reply": "2023-08-12T19:05:26.709023Z"
    },
    "papermill": {
     "duration": 0.103362,
     "end_time": "2023-08-12T19:05:26.712126",
     "exception": false,
     "start_time": "2023-08-12T19:05:26.608764",
     "status": "completed"
    },
    "tags": []
   },
   "outputs": [],
   "source": [
    "# vectorizer2 = CountVectorizer(stop_words=stop_words)\n",
    "# vectorized_text2 = vectorizer2.fit_transform(text[\"reviewText\"])\n",
    "# vectorized_text2"
   ]
  },
  {
   "cell_type": "markdown",
   "id": "13eed5e4",
   "metadata": {
    "papermill": {
     "duration": 0.094687,
     "end_time": "2023-08-12T19:05:26.903071",
     "exception": false,
     "start_time": "2023-08-12T19:05:26.808384",
     "status": "completed"
    },
    "tags": []
   },
   "source": [
    "`Without stop words`  \n",
    "<122068x58624 sparse matrix of type '<class 'numpy.int64'>'\n",
    "\twith 2312222 stored elements in Compressed Sparse Row format>\n",
    "\n",
    "`With stop words`  \n",
    "<122068x57784 sparse matrix of type '<class 'numpy.int64'>'\n",
    "\twith 1188395 stored elements in Compressed Sparse Row format>"
   ]
  },
  {
   "cell_type": "markdown",
   "id": "bff67bfb",
   "metadata": {
    "papermill": {
     "duration": 0.09484,
     "end_time": "2023-08-12T19:05:27.093170",
     "exception": false,
     "start_time": "2023-08-12T19:05:26.998330",
     "status": "completed"
    },
    "tags": []
   },
   "source": [
    "### Conclusion   \n",
    "`TfidfVectorizer is equivalent to CountVectorizer followed by TfidfTransformer.`  \n",
    "\n",
    "https://scikit-learn.org/stable/modules/generated/sklearn.feature_extraction.text.TfidfVectorizer.html"
   ]
  },
  {
   "cell_type": "markdown",
   "id": "718402e8",
   "metadata": {
    "papermill": {
     "duration": 0.094969,
     "end_time": "2023-08-12T19:05:27.282911",
     "exception": false,
     "start_time": "2023-08-12T19:05:27.187942",
     "status": "completed"
    },
    "tags": []
   },
   "source": [
    "## Model building workflow  \n",
    "\n",
    "`Make pipeline for preprocesing and model training and predictions`  \n"
   ]
  },
  {
   "cell_type": "code",
   "execution_count": 20,
   "id": "f384c3c3",
   "metadata": {
    "execution": {
     "iopub.execute_input": "2023-08-12T19:05:27.474117Z",
     "iopub.status.busy": "2023-08-12T19:05:27.473707Z",
     "iopub.status.idle": "2023-08-12T19:05:27.478475Z",
     "shell.execute_reply": "2023-08-12T19:05:27.477756Z"
    },
    "papermill": {
     "duration": 0.102906,
     "end_time": "2023-08-12T19:05:27.480486",
     "exception": false,
     "start_time": "2023-08-12T19:05:27.377580",
     "status": "completed"
    },
    "tags": []
   },
   "outputs": [],
   "source": [
    "# def preprocess_n_train(X_train, y_train, preprocessor, model):\n",
    "#     pipe = Pipeline(steps=[\n",
    "#                             (\"preprocessor\", preprocessor),\n",
    "#                             (\"model\", model)\n",
    "#                         ])\n",
    "    \n",
    "#     pipe.fit(X_train, y_train)\n",
    "\n",
    "#     print(\"Given model has been trained. Use predict method to get predictions array.\")\n",
    "#     return pipe\n",
    "\n",
    "\n",
    "# def predict_n_evaluate(pipeline, X_test, y_test):\n",
    "#     y_pred = pipeline.predict(X_test)\n",
    "#     print(f\"y_pred shape: {y_pred.shape}\")\n",
    "#     print(f\"Summary of predictions: {np.unique(y_pred, return_counts=True)}\")\n",
    "#     print(classification_report(y_test, y_pred))\n",
    "#     print(confusion_matrix(y_test, y_pred))\n",
    "#     return y_pred"
   ]
  },
  {
   "cell_type": "markdown",
   "id": "a0062f76",
   "metadata": {
    "papermill": {
     "duration": 0.094973,
     "end_time": "2023-08-12T19:05:27.671012",
     "exception": false,
     "start_time": "2023-08-12T19:05:27.576039",
     "status": "completed"
    },
    "tags": []
   },
   "source": [
    "## Building 3 basic models  "
   ]
  },
  {
   "cell_type": "markdown",
   "id": "c7d24d33",
   "metadata": {
    "papermill": {
     "duration": 0.116267,
     "end_time": "2023-08-12T19:05:27.883660",
     "exception": false,
     "start_time": "2023-08-12T19:05:27.767393",
     "status": "completed"
    },
    "tags": []
   },
   "source": [
    "### Text preprocessors  "
   ]
  },
  {
   "cell_type": "code",
   "execution_count": 21,
   "id": "60fe9475",
   "metadata": {
    "execution": {
     "iopub.execute_input": "2023-08-12T19:05:28.086974Z",
     "iopub.status.busy": "2023-08-12T19:05:28.085983Z",
     "iopub.status.idle": "2023-08-12T19:05:28.090142Z",
     "shell.execute_reply": "2023-08-12T19:05:28.089376Z"
    },
    "papermill": {
     "duration": 0.103536,
     "end_time": "2023-08-12T19:05:28.092115",
     "exception": false,
     "start_time": "2023-08-12T19:05:27.988579",
     "status": "completed"
    },
    "tags": []
   },
   "outputs": [],
   "source": [
    "# tvec = TfidfVectorizer()\n",
    "# cvec = CountVectorizer()        # Note that TfidfVectorizer and CountVectorizer+TfidsTransformer do the same function\n",
    "# tvec, cvec"
   ]
  },
  {
   "cell_type": "markdown",
   "id": "0457fd31",
   "metadata": {
    "papermill": {
     "duration": 0.095193,
     "end_time": "2023-08-12T19:05:28.291239",
     "exception": false,
     "start_time": "2023-08-12T19:05:28.196046",
     "status": "completed"
    },
    "tags": []
   },
   "source": [
    "### Logistic Regression with TfidVectorizer for preprocessing  "
   ]
  },
  {
   "cell_type": "code",
   "execution_count": 22,
   "id": "0acf199f",
   "metadata": {
    "execution": {
     "iopub.execute_input": "2023-08-12T19:05:28.482675Z",
     "iopub.status.busy": "2023-08-12T19:05:28.481971Z",
     "iopub.status.idle": "2023-08-12T19:05:28.486484Z",
     "shell.execute_reply": "2023-08-12T19:05:28.485241Z"
    },
    "papermill": {
     "duration": 0.103334,
     "end_time": "2023-08-12T19:05:28.488660",
     "exception": false,
     "start_time": "2023-08-12T19:05:28.385326",
     "status": "completed"
    },
    "tags": []
   },
   "outputs": [],
   "source": [
    "# logreg = LogisticRegression(max_iter=1000)\n",
    "# logreg_pipe = preprocess_n_train(X_train, y_train, tvec, logreg)\n",
    "# y_pred_logreg = predict_n_evaluate(logreg_pipe, X_test, y_test)\n",
    "# y_pred_logreg"
   ]
  },
  {
   "cell_type": "markdown",
   "id": "8825c987",
   "metadata": {
    "papermill": {
     "duration": 0.157918,
     "end_time": "2023-08-12T19:05:28.741513",
     "exception": false,
     "start_time": "2023-08-12T19:05:28.583595",
     "status": "completed"
    },
    "tags": []
   },
   "source": [
    "### SVM model  "
   ]
  },
  {
   "cell_type": "code",
   "execution_count": 23,
   "id": "878d66c2",
   "metadata": {
    "execution": {
     "iopub.execute_input": "2023-08-12T19:05:28.938623Z",
     "iopub.status.busy": "2023-08-12T19:05:28.938159Z",
     "iopub.status.idle": "2023-08-12T19:05:28.942609Z",
     "shell.execute_reply": "2023-08-12T19:05:28.941767Z"
    },
    "papermill": {
     "duration": 0.10674,
     "end_time": "2023-08-12T19:05:28.944627",
     "exception": false,
     "start_time": "2023-08-12T19:05:28.837887",
     "status": "completed"
    },
    "tags": []
   },
   "outputs": [],
   "source": [
    "# svm = LinearSVC()\n",
    "# svm_pipe = preprocess_n_train(X_train, y_train, tvec, svm)\n",
    "# y_pred_svm = predict_n_evaluate(svm_pipe, X_test, y_test)\n",
    "# y_pred_svm"
   ]
  },
  {
   "cell_type": "markdown",
   "id": "115df649",
   "metadata": {
    "papermill": {
     "duration": 0.09531,
     "end_time": "2023-08-12T19:05:29.135744",
     "exception": false,
     "start_time": "2023-08-12T19:05:29.040434",
     "status": "completed"
    },
    "tags": []
   },
   "source": [
    "### Naive Bayes model  "
   ]
  },
  {
   "cell_type": "markdown",
   "id": "d3dc60a6",
   "metadata": {
    "papermill": {
     "duration": 0.096067,
     "end_time": "2023-08-12T19:05:29.328379",
     "exception": false,
     "start_time": "2023-08-12T19:05:29.232312",
     "status": "completed"
    },
    "tags": []
   },
   "source": [
    "#### MultinomialNB  "
   ]
  },
  {
   "cell_type": "code",
   "execution_count": 24,
   "id": "a2b1438b",
   "metadata": {
    "execution": {
     "iopub.execute_input": "2023-08-12T19:05:29.520599Z",
     "iopub.status.busy": "2023-08-12T19:05:29.519935Z",
     "iopub.status.idle": "2023-08-12T19:05:29.523846Z",
     "shell.execute_reply": "2023-08-12T19:05:29.523031Z"
    },
    "papermill": {
     "duration": 0.102396,
     "end_time": "2023-08-12T19:05:29.525968",
     "exception": false,
     "start_time": "2023-08-12T19:05:29.423572",
     "status": "completed"
    },
    "tags": []
   },
   "outputs": [],
   "source": [
    "# mnb = MultinomialNB()\n",
    "# mnb_pipe = preprocess_n_train(X_train, y_train, tvec, mnb)\n",
    "# y_pred_mnb = predict_n_evaluate(mnb_pipe, X_test, y_test)\n",
    "# y_pred_mnb"
   ]
  },
  {
   "cell_type": "markdown",
   "id": "5c4b2acf",
   "metadata": {
    "papermill": {
     "duration": 0.094829,
     "end_time": "2023-08-12T19:05:29.715767",
     "exception": false,
     "start_time": "2023-08-12T19:05:29.620938",
     "status": "completed"
    },
    "tags": []
   },
   "source": [
    "## Submitting predictions to Kaggle competition  "
   ]
  },
  {
   "cell_type": "code",
   "execution_count": 25,
   "id": "c6943ee5",
   "metadata": {
    "execution": {
     "iopub.execute_input": "2023-08-12T19:05:29.908685Z",
     "iopub.status.busy": "2023-08-12T19:05:29.908278Z",
     "iopub.status.idle": "2023-08-12T19:05:29.913945Z",
     "shell.execute_reply": "2023-08-12T19:05:29.912785Z"
    },
    "papermill": {
     "duration": 0.105939,
     "end_time": "2023-08-12T19:05:29.916272",
     "exception": false,
     "start_time": "2023-08-12T19:05:29.810333",
     "status": "completed"
    },
    "tags": []
   },
   "outputs": [],
   "source": [
    "# def submit(selected_model=logreg, selected_preprocessor=tvec):\n",
    "    \n",
    "#     # Retrain on the whole train.csv file  \n",
    "#     traindf = pd.read_csv(\"/kaggle/input/sentiment-prediction-on-movie-reviews/train.csv\")\n",
    "#     X_train = traindf[\"reviewText\"]\n",
    "#     X_train.fillna(\"empty\", inplace=True)\n",
    "#     y_train = traindf[\"sentiment\"]\n",
    "#     pipe = preprocess_n_train(X_train, y_train, selected_preprocessor, selected_model)\n",
    "    \n",
    "#     # Predict on test.csv file\n",
    "#     testdf = pd.read_csv(\"/kaggle/input/sentiment-prediction-on-movie-reviews/test.csv\")\n",
    "#     X_test = testdf[\"reviewText\"]\n",
    "#     X_test.fillna(\"empty\", inplace=True)\n",
    "    \n",
    "#     y_pred = pipe.predict(X_test)\n",
    "    \n",
    "#     pred_df = pd.DataFrame(y_pred)\n",
    "#     pred_df.columns = [\"sentiment\"]\n",
    "#     pred_df.index.name = \"id\"\n",
    "#     pred_df.to_csv(\"submission.csv\")\n",
    "    \n",
    "#     return \"Successfully created the submission file!!!\""
   ]
  },
  {
   "cell_type": "code",
   "execution_count": 26,
   "id": "2adc44ab",
   "metadata": {
    "execution": {
     "iopub.execute_input": "2023-08-12T19:05:30.108545Z",
     "iopub.status.busy": "2023-08-12T19:05:30.108119Z",
     "iopub.status.idle": "2023-08-12T19:05:30.113311Z",
     "shell.execute_reply": "2023-08-12T19:05:30.112176Z"
    },
    "papermill": {
     "duration": 0.10387,
     "end_time": "2023-08-12T19:05:30.115631",
     "exception": false,
     "start_time": "2023-08-12T19:05:30.011761",
     "status": "completed"
    },
    "tags": []
   },
   "outputs": [],
   "source": [
    "# submit(logreg_cv1, tvec_cv1)"
   ]
  },
  {
   "cell_type": "markdown",
   "id": "504f6424",
   "metadata": {
    "papermill": {
     "duration": 0.09515,
     "end_time": "2023-08-12T19:05:30.306391",
     "exception": false,
     "start_time": "2023-08-12T19:05:30.211241",
     "status": "completed"
    },
    "tags": []
   },
   "source": [
    "# PART II  "
   ]
  },
  {
   "cell_type": "markdown",
   "id": "983ac223",
   "metadata": {
    "papermill": {
     "duration": 0.095849,
     "end_time": "2023-08-12T19:05:30.497986",
     "exception": false,
     "start_time": "2023-08-12T19:05:30.402137",
     "status": "completed"
    },
    "tags": []
   },
   "source": [
    "## Merge \"movies.csv\" with \"train.csv\" and \"test.csv\"  "
   ]
  },
  {
   "cell_type": "markdown",
   "id": "65297f5c",
   "metadata": {
    "papermill": {
     "duration": 0.094538,
     "end_time": "2023-08-12T19:05:30.686841",
     "exception": false,
     "start_time": "2023-08-12T19:05:30.592303",
     "status": "completed"
    },
    "tags": []
   },
   "source": [
    "### Helper functions  "
   ]
  },
  {
   "cell_type": "code",
   "execution_count": 27,
   "id": "2c614e83",
   "metadata": {
    "execution": {
     "iopub.execute_input": "2023-08-12T19:05:30.879777Z",
     "iopub.status.busy": "2023-08-12T19:05:30.879338Z",
     "iopub.status.idle": "2023-08-12T19:05:30.884848Z",
     "shell.execute_reply": "2023-08-12T19:05:30.883777Z"
    },
    "papermill": {
     "duration": 0.104437,
     "end_time": "2023-08-12T19:05:30.887214",
     "exception": false,
     "start_time": "2023-08-12T19:05:30.782777",
     "status": "completed"
    },
    "tags": []
   },
   "outputs": [],
   "source": [
    "# Helper function for loading files  \n",
    "\n",
    "def load_csv(filename: str):\n",
    "    if platform == \"vscode\":\n",
    "        df = pd.read_csv(f\"data/{filename}.csv\")\n",
    "    else:\n",
    "        df = pd.read_csv(f\"/kaggle/input/sentiment-prediction-on-movie-reviews/{filename}.csv\")\n",
    "        \n",
    "    return df"
   ]
  },
  {
   "cell_type": "code",
   "execution_count": 28,
   "id": "c1301e09",
   "metadata": {
    "execution": {
     "iopub.execute_input": "2023-08-12T19:05:31.078092Z",
     "iopub.status.busy": "2023-08-12T19:05:31.077674Z",
     "iopub.status.idle": "2023-08-12T19:05:31.083613Z",
     "shell.execute_reply": "2023-08-12T19:05:31.082511Z"
    },
    "papermill": {
     "duration": 0.103621,
     "end_time": "2023-08-12T19:05:31.085917",
     "exception": false,
     "start_time": "2023-08-12T19:05:30.982296",
     "status": "completed"
    },
    "tags": []
   },
   "outputs": [],
   "source": [
    "def inspect(df: pd.DataFrame):\n",
    "    print(f\"Shape of the dataframe: {df.shape}\")\n",
    "    print()\n",
    "    print(f\"Columns in the dataframe:\\n{df.columns}\")\n",
    "    print()\n",
    "    print(f\"{df.info()}\")\n",
    "    print()\n",
    "    # print(f\"Summary: {df.describe()}\")\n",
    "    print(f\"Missing values:\\n{df.isna().sum()}\")\n",
    "    return"
   ]
  },
  {
   "cell_type": "code",
   "execution_count": 29,
   "id": "7e768004",
   "metadata": {
    "execution": {
     "iopub.execute_input": "2023-08-12T19:05:31.277377Z",
     "iopub.status.busy": "2023-08-12T19:05:31.276975Z",
     "iopub.status.idle": "2023-08-12T19:05:31.282759Z",
     "shell.execute_reply": "2023-08-12T19:05:31.281554Z"
    },
    "papermill": {
     "duration": 0.104454,
     "end_time": "2023-08-12T19:05:31.285255",
     "exception": false,
     "start_time": "2023-08-12T19:05:31.180801",
     "status": "completed"
    },
    "tags": []
   },
   "outputs": [],
   "source": [
    "def name_fl(name):\n",
    "    l = name.split()\n",
    "    n = ' '.join((l[0], l[-1]))\n",
    "    return n"
   ]
  },
  {
   "cell_type": "code",
   "execution_count": 30,
   "id": "1e8ce0d6",
   "metadata": {
    "execution": {
     "iopub.execute_input": "2023-08-12T19:05:31.479263Z",
     "iopub.status.busy": "2023-08-12T19:05:31.478865Z",
     "iopub.status.idle": "2023-08-12T19:05:31.505966Z",
     "shell.execute_reply": "2023-08-12T19:05:31.505101Z"
    },
    "papermill": {
     "duration": 0.126165,
     "end_time": "2023-08-12T19:05:31.508120",
     "exception": false,
     "start_time": "2023-08-12T19:05:31.381955",
     "status": "completed"
    },
    "tags": []
   },
   "outputs": [],
   "source": [
    "def select_features(df: pd.DataFrame, moviesdf: pd.DataFrame, row_thresh_null=None):\n",
    "    '''\n",
    "    This function merges the given dataframes. Note that the first df must be \"train\" or \"test\" and\n",
    "    the second df should be \"movies\".\n",
    "    Note: Sentiment column is present only in \"train.csv\" file and not \"test.csv\" file.\n",
    "    '''\n",
    "    \n",
    "    # Drop duplicates from moviesdf\n",
    "#     movies_unique = moviesdf.drop_duplicates(subset=[\"movieid\"])\n",
    "\n",
    "    # Drop duplicates using groupby - clubs similar rows and fills in missing values better\n",
    "    movies_unique = moviesdf.fillna(value=np.nan).groupby(\"movieid\").first().reset_index()\n",
    "    \n",
    "\n",
    "    # Handle missing values in movies.csv better than just dropping duplicates?\n",
    "#     movies_unique = moviesdf.copy()\n",
    "#     movies_unique[[\"audienceScore\", \"runtimeMinutes\"]] = movies_unique[[\"audienceScore\", \"runtimeMinutes\"]].interpolate(method='linear', axis=0)\n",
    "#     movies_unique = movies_unique.fillna(value=np.nan).groupby(\"movieid\").first().fillna(method='ffill').reset_index()\n",
    "\n",
    "    \n",
    "\n",
    "    # Merge df and movies_unique\n",
    "    df_merged = pd.merge(df, movies_unique, on=\"movieid\", how='left')\n",
    "    \n",
    "    # Rename \"isTopCritic\" column, if it exists, to \"isFrequentReviewer\"\n",
    "    df_merged.rename(columns={\"isTopCritic\": \"isFrequentReviewer\"}, inplace=True)\n",
    "    \n",
    "    # Drop columns\n",
    "#     df_merged = df_merged.drop(columns=[\"title\", \"ratingContents\", \"releaseDateTheaters\", \"releaseDateStreaming\", \"distributor\", \"soundType\"])\n",
    "#     df_merged = df_merged.drop(columns=[\"title\", \"soundType\"])\n",
    "    \n",
    "    # Drop rows (OPTIONAL: Uses kwarg row_thresh_null)\n",
    "    if row_thresh_null != None:\n",
    "        df_merged.dropna(axis=0, thresh=(df_merged.shape[1] - row_thresh_null), inplace=True)\n",
    "        \n",
    "\n",
    "    # Create new columns based on reviewText\n",
    "    final = df_merged.copy()\n",
    "    final[\"reviewYN\"] = np.where(final[\"reviewText\"].isnull(), 1, 0)    # Feature engineering - adding a new column\n",
    "    final[\"reviewWC\"] = final.apply(lambda x: len(str(x[\"reviewText\"]).split()), axis=1)    # Feature engineering - adding second new column\n",
    "    \n",
    "    # Clean text (replace numbers with empty string) and fill missing values in \"reviewText\" with empty string\n",
    "    final[\"reviewText\"] = final[\"reviewText\"].str.replace('\\d+', '', regex=True)\n",
    "    final[\"reviewText\"] = final[\"reviewText\"].fillna(\"neutral\")\n",
    "    \n",
    "    # Fill missing values in \"rating\", \"genre\", original columns with the word \"unknown\"\n",
    "    final[\"rating\"] = final[\"rating\"].fillna(\"unknown\")\n",
    "    final[\"originalLanguage\"] = final[\"originalLanguage\"].fillna(\"unknown\")\n",
    "    final[\"genre\"] = final[\"genre\"].fillna(\"unknown\")\n",
    "    final[\"genre\"] = final[\"genre\"].apply(lambda x: re.sub(r\"-\", \"\", x))\n",
    "    final[\"genreSorted\"] = final[\"genre\"].apply(lambda x: (\",\").join(sorted(x.split(\", \"))))\n",
    "#     final[\"genre\"] = final[\"genre\"].replace(to_replace={\"&\": \"\"})\n",
    "\n",
    "    # Impute missing values for \"audienceScore\" and \"runtimeMinutes\" columns\n",
    "#     final[\"audienceScore\"] = final[\"audienceScore\"].fillna(final[\"audienceScore\"].mean())        # MOVED\n",
    "#     final[\"runtimeMinutes\"] = final[\"runtimeMinutes\"].fillna(final[\"runtimeMinutes\"].median())   # MOVED\n",
    "    \n",
    "    # Preprocess and impute missing values in \"boxOffice\" column\n",
    "    final[\"boxOffice\"] = final[\"boxOffice\"].str[1:]\n",
    "    final[\"boxOffice\"] = final[\"boxOffice\"].replace(to_replace={\"M\": \"*1000000\", \"K\": \"*1000\"}, regex=True)\n",
    "    final[\"boxOffice\"] = final[\"boxOffice\"].loc[final[\"boxOffice\"].notnull()].apply(lambda x: eval(str(x)))\n",
    "#     final[\"boxOffice\"] = final[\"boxOffice\"].fillna(final[\"boxOffice\"].median())                  # MOVED\n",
    "    # (Optional) Replace outliers in boxOffice with median\n",
    "#     median = final[\"boxOffice\"].describe()['50%']\n",
    "#     iqr = final[\"boxOffice\"].describe()['75%'] - final[\"boxOffice\"].describe()['25%']\n",
    "#     ll = median - (1.5*iqr)\n",
    "#     ul = median + (1.5*iqr)\n",
    "#     final.loc[final[\"boxOffice\"] > ul, \"boxOffice\"] = median\n",
    "    \n",
    "    # Clean language names\n",
    "    final[\"originalLanguage\"].replace({\"English (United Kingdom)\": \"English\", \n",
    "                                            \"English (Australia)\" : \"English\",\n",
    "                                            \"French (France)\": \"French\", \n",
    "                                            \"French (Canada)\": \"French\",\n",
    "                                            \"Portuguese (Brazil)\": \"Portuguese\",\n",
    "                                            \"Spanish (Spain)\": \"Spanish\"},                                         \n",
    "                                            inplace=True)\n",
    "    \n",
    "    # Clean reviewerName column\n",
    "    pre_post_fixes = {\"Mr. \": \"\", \"Mrs. \": \"\", \"Ms. \": \"\", \"Dr. \": \"\", \n",
    "                      \" MD\": \"\", \" DDS\": \"\", \" DVM\": \"\", \" Jr.\": \"\", \" PhD\": \"\", \" II\": \"\", \" IV\": \"\"}\n",
    "    final[\"reviewerName\"] = final[\"reviewerName\"].replace(pre_post_fixes, regex=True)\n",
    "    final[\"reviewerName\"] = final[\"reviewerName\"].apply(name_fl)\n",
    "    \n",
    "    # Handle 'ratingContents' column\n",
    "    final[\"ratingContents\"] = final[\"ratingContents\"].fillna(\"neutral\")\n",
    "    final[\"rcSorted\"] = final[\"ratingContents\"].apply(lambda x: (\",\").join(sorted(x.strip(\"][\").split(\", \"))))\n",
    "    final[\"rcSorted\"] = final[\"rcSorted\"].apply(lambda x: re.sub(r\"'\", \"\", x))\n",
    "    final[\"rcSorted\"] = final[\"rcSorted\"].apply(lambda x: re.sub(r\"[/\\s]\", \"_\", x))  \n",
    "    \n",
    "    # Handle 'ratingContents' column\n",
    "    final[\"distributor\"] = final[\"distributor\"].fillna(\"unknown\")\n",
    "    \n",
    "    # Work with 'releaseDateTheaters', releaseDateStreaming column\n",
    "    final[[\"releaseDateTheaters\", \"releaseDateStreaming\"]] = final[[\"releaseDateTheaters\", \"releaseDateStreaming\"]].astype('datetime64[ns]')\n",
    "\n",
    "    final[\"releaseDate\"] = final[[\"releaseDateTheaters\", \"releaseDateStreaming\"]].min(axis=1, skipna=False)\n",
    "#     final[\"releaseDate\"] = final[\"releaseDate\"].fillna(final[\"releaseDate\"].median())               # MOVED\n",
    "\n",
    "    final[\"releaseYear\"] = final[\"releaseDate\"].dt.year\n",
    "    final[\"releaseMonth\"] = final[\"releaseDate\"].dt.month\n",
    "    \n",
    "    # Compute \"releaseDiff\" column and fill missing values in \"releaseDiff\" and (optional) replace outliers\n",
    "    final[\"releaseDiff\"] = (final[\"releaseDateStreaming\"] - final[\"releaseDateTheaters\"]) / np.timedelta64(1, 'D')\n",
    "    final[\"releaseDiff\"] = final[\"releaseDiff\"].apply(lambda x: abs(x))\n",
    "    final[\"releaseDiff\"] = final[\"releaseDiff\"].fillna(value=0)\n",
    "#     final[\"releaseDiff\"] = final[\"releaseDiff\"].fillna(final[\"releaseDiff\"].median())\n",
    "    # median = final[\"releaseDiff\"].describe()['50%']\n",
    "    # iqr = final[\"releaseDiff\"].describe()['75%'] - final[\"releaseDiff\"].describe()['25%']\n",
    "    # ll = median - (1.5*iqr)\n",
    "    # ul = median + (1.5*iqr)\n",
    "    # final.loc[final[\"releaseDiff\"] > ul, \"releaseDiff\"] = median\n",
    "    # final.loc[final[\"releaseDiff\"] < ll, \"releaseDiff\"] = median\n",
    "    \n",
    "#     # Create new feature columns\n",
    "    \n",
    "#     # Convert audienceScore to categories  \n",
    "#     num_bins_as = 20\n",
    "#     final[\"audScoreBins\"] = pd.cut(final['audienceScore'], bins=num_bins_as, labels=False)\n",
    "    \n",
    "#     # Convert runtimeMinutes to categories  \n",
    "# #     num_bins_rt = 20\n",
    "#     final[\"runtimeBins\"] = pd.cut(final['runtimeMinutes'], bins=[0,75,120,180,565], labels=[4,3,2,1])\n",
    "    \n",
    "#     # Convert boxOffice to categories  \n",
    "#     num_bins_bo = 5\n",
    "#     final[\"boxOfficeBins\"] = pd.cut(final['boxOffice'], bins=num_bins_bo, labels=False)\n",
    "    \n",
    "#     # Convert releaseDiff to categories  \n",
    "#     num_bins_rd = 5\n",
    "#     final[\"releaseDiffBins\"] = pd.cut(final['releaseDiff'], bins=[-1, 180, 360, 1000, 40000], labels=[0, 1, 2, 3])\n",
    "\n",
    "    return final"
   ]
  },
  {
   "cell_type": "code",
   "execution_count": 31,
   "id": "0f5ab1dc",
   "metadata": {
    "execution": {
     "iopub.execute_input": "2023-08-12T19:05:31.699716Z",
     "iopub.status.busy": "2023-08-12T19:05:31.699319Z",
     "iopub.status.idle": "2023-08-12T19:05:31.706804Z",
     "shell.execute_reply": "2023-08-12T19:05:31.705610Z"
    },
    "papermill": {
     "duration": 0.106137,
     "end_time": "2023-08-12T19:05:31.708997",
     "exception": false,
     "start_time": "2023-08-12T19:05:31.602860",
     "status": "completed"
    },
    "tags": []
   },
   "outputs": [],
   "source": [
    "def split_train_predict(features, labels, pipeline, test_size=0.25, random_state=42):\n",
    "    # cols = features.columns\n",
    "    if len(features.shape) == 1:\n",
    "        features = features.to_numpy().reshape(-1, 1)  # reshape to 2D array\n",
    "    features = pd.DataFrame(features)\n",
    "    X_train, X_test, y_train, y_test = train_test_split(features, labels, test_size=test_size, random_state=random_state)\n",
    "    pipeline.fit(X_train, y_train)\n",
    "    y_pred = pipeline.predict(X_test)\n",
    "    print(classification_report(y_test, y_pred))\n",
    "    print(confusion_matrix(y_test, y_pred))\n",
    "    return pipeline"
   ]
  },
  {
   "cell_type": "markdown",
   "id": "9cfbd6d3",
   "metadata": {
    "papermill": {
     "duration": 0.09774,
     "end_time": "2023-08-12T19:05:31.901046",
     "exception": false,
     "start_time": "2023-08-12T19:05:31.803306",
     "status": "completed"
    },
    "tags": []
   },
   "source": [
    "### Merge \"train.csv\" file with \"movies.csv\" file  "
   ]
  },
  {
   "cell_type": "code",
   "execution_count": 32,
   "id": "589acc03",
   "metadata": {
    "execution": {
     "iopub.execute_input": "2023-08-12T19:05:32.092227Z",
     "iopub.status.busy": "2023-08-12T19:05:32.091811Z",
     "iopub.status.idle": "2023-08-12T19:05:46.377379Z",
     "shell.execute_reply": "2023-08-12T19:05:46.376282Z"
    },
    "papermill": {
     "duration": 14.384178,
     "end_time": "2023-08-12T19:05:46.380031",
     "exception": false,
     "start_time": "2023-08-12T19:05:31.995853",
     "status": "completed"
    },
    "tags": []
   },
   "outputs": [],
   "source": [
    "merged = select_features(load_csv(\"train\"), load_csv(\"movies\"), row_thresh_null=None)"
   ]
  },
  {
   "cell_type": "code",
   "execution_count": 33,
   "id": "d57407f3",
   "metadata": {
    "execution": {
     "iopub.execute_input": "2023-08-12T19:05:46.571425Z",
     "iopub.status.busy": "2023-08-12T19:05:46.570942Z",
     "iopub.status.idle": "2023-08-12T19:05:46.575548Z",
     "shell.execute_reply": "2023-08-12T19:05:46.574259Z"
    },
    "papermill": {
     "duration": 0.103533,
     "end_time": "2023-08-12T19:05:46.577926",
     "exception": false,
     "start_time": "2023-08-12T19:05:46.474393",
     "status": "completed"
    },
    "tags": []
   },
   "outputs": [],
   "source": [
    "# inspect(merged)    # Note missing values in ['audienceScore', 'runtimeMinutes', 'boxOffice'] columns  "
   ]
  },
  {
   "cell_type": "code",
   "execution_count": 34,
   "id": "d6d39674",
   "metadata": {
    "execution": {
     "iopub.execute_input": "2023-08-12T19:05:46.768916Z",
     "iopub.status.busy": "2023-08-12T19:05:46.768233Z",
     "iopub.status.idle": "2023-08-12T19:05:46.854602Z",
     "shell.execute_reply": "2023-08-12T19:05:46.853291Z"
    },
    "papermill": {
     "duration": 0.184849,
     "end_time": "2023-08-12T19:05:46.857313",
     "exception": false,
     "start_time": "2023-08-12T19:05:46.672464",
     "status": "completed"
    },
    "tags": []
   },
   "outputs": [
    {
     "data": {
      "text/plain": [
       "array([6.80e+01, 1.04e+02, 1.43e+07])"
      ]
     },
     "execution_count": 34,
     "metadata": {},
     "output_type": "execute_result"
    }
   ],
   "source": [
    "# Simple Imputer for ['audienceScore', 'runtimeMinutes', 'boxOffice'] columns\n",
    "si = SimpleImputer(strategy='median')\n",
    "merged[['audienceScore', 'runtimeMinutes', 'boxOffice']] = si.fit_transform(merged[['audienceScore', 'runtimeMinutes', 'boxOffice']])\n",
    "si.statistics_"
   ]
  },
  {
   "cell_type": "code",
   "execution_count": 35,
   "id": "c04fce7a",
   "metadata": {
    "execution": {
     "iopub.execute_input": "2023-08-12T19:05:47.051660Z",
     "iopub.status.busy": "2023-08-12T19:05:47.050905Z",
     "iopub.status.idle": "2023-08-12T19:05:47.065137Z",
     "shell.execute_reply": "2023-08-12T19:05:47.064060Z"
    },
    "papermill": {
     "duration": 0.1143,
     "end_time": "2023-08-12T19:05:47.067783",
     "exception": false,
     "start_time": "2023-08-12T19:05:46.953483",
     "status": "completed"
    },
    "tags": []
   },
   "outputs": [],
   "source": [
    "# Fill 'releaseDate' column with median  \n",
    "merged['releaseDate'] = merged[\"releaseDate\"].fillna(merged[\"releaseDate\"].median())"
   ]
  },
  {
   "cell_type": "code",
   "execution_count": 36,
   "id": "acd70221",
   "metadata": {
    "execution": {
     "iopub.execute_input": "2023-08-12T19:05:47.259934Z",
     "iopub.status.busy": "2023-08-12T19:05:47.258825Z",
     "iopub.status.idle": "2023-08-12T19:05:48.740312Z",
     "shell.execute_reply": "2023-08-12T19:05:48.738947Z"
    },
    "papermill": {
     "duration": 1.580538,
     "end_time": "2023-08-12T19:05:48.742812",
     "exception": false,
     "start_time": "2023-08-12T19:05:47.162274",
     "status": "completed"
    },
    "tags": []
   },
   "outputs": [
    {
     "name": "stdout",
     "output_type": "stream",
     "text": [
      "Shape of the dataframe: (162758, 26)\n",
      "\n",
      "Columns in the dataframe:\n",
      "Index(['movieid', 'reviewerName', 'isFrequentReviewer', 'reviewText',\n",
      "       'sentiment', 'title', 'audienceScore', 'rating', 'ratingContents',\n",
      "       'releaseDateTheaters', 'releaseDateStreaming', 'runtimeMinutes',\n",
      "       'genre', 'originalLanguage', 'director', 'boxOffice', 'distributor',\n",
      "       'soundType', 'reviewYN', 'reviewWC', 'genreSorted', 'rcSorted',\n",
      "       'releaseDate', 'releaseYear', 'releaseMonth', 'releaseDiff'],\n",
      "      dtype='object')\n",
      "\n",
      "<class 'pandas.core.frame.DataFrame'>\n",
      "Int64Index: 162758 entries, 0 to 162757\n",
      "Data columns (total 26 columns):\n",
      " #   Column                Non-Null Count   Dtype         \n",
      "---  ------                --------------   -----         \n",
      " 0   movieid               162758 non-null  object        \n",
      " 1   reviewerName          162758 non-null  object        \n",
      " 2   isFrequentReviewer    162758 non-null  bool          \n",
      " 3   reviewText            162758 non-null  object        \n",
      " 4   sentiment             162758 non-null  object        \n",
      " 5   title                 162758 non-null  object        \n",
      " 6   audienceScore         162758 non-null  float64       \n",
      " 7   rating                162758 non-null  object        \n",
      " 8   ratingContents        162758 non-null  object        \n",
      " 9   releaseDateTheaters   146403 non-null  datetime64[ns]\n",
      " 10  releaseDateStreaming  157353 non-null  datetime64[ns]\n",
      " 11  runtimeMinutes        162758 non-null  float64       \n",
      " 12  genre                 162758 non-null  object        \n",
      " 13  originalLanguage      162758 non-null  object        \n",
      " 14  director              162758 non-null  object        \n",
      " 15  boxOffice             162758 non-null  float64       \n",
      " 16  distributor           162758 non-null  object        \n",
      " 17  soundType             93466 non-null   object        \n",
      " 18  reviewYN              162758 non-null  int64         \n",
      " 19  reviewWC              162758 non-null  int64         \n",
      " 20  genreSorted           162758 non-null  object        \n",
      " 21  rcSorted              162758 non-null  object        \n",
      " 22  releaseDate           162758 non-null  datetime64[ns]\n",
      " 23  releaseYear           143073 non-null  float64       \n",
      " 24  releaseMonth          143073 non-null  float64       \n",
      " 25  releaseDiff           162758 non-null  float64       \n",
      "dtypes: bool(1), datetime64[ns](3), float64(6), int64(2), object(14)\n",
      "memory usage: 32.4+ MB\n",
      "None\n",
      "\n",
      "Missing values:\n",
      "movieid                     0\n",
      "reviewerName                0\n",
      "isFrequentReviewer          0\n",
      "reviewText                  0\n",
      "sentiment                   0\n",
      "title                       0\n",
      "audienceScore               0\n",
      "rating                      0\n",
      "ratingContents              0\n",
      "releaseDateTheaters     16355\n",
      "releaseDateStreaming     5405\n",
      "runtimeMinutes              0\n",
      "genre                       0\n",
      "originalLanguage            0\n",
      "director                    0\n",
      "boxOffice                   0\n",
      "distributor                 0\n",
      "soundType               69292\n",
      "reviewYN                    0\n",
      "reviewWC                    0\n",
      "genreSorted                 0\n",
      "rcSorted                    0\n",
      "releaseDate                 0\n",
      "releaseYear             19685\n",
      "releaseMonth            19685\n",
      "releaseDiff                 0\n",
      "dtype: int64\n"
     ]
    }
   ],
   "source": [
    "# Check out 'merged' df after imputation  \n",
    "inspect(merged)"
   ]
  },
  {
   "cell_type": "code",
   "execution_count": 37,
   "id": "ca644f6e",
   "metadata": {
    "execution": {
     "iopub.execute_input": "2023-08-12T19:05:48.936112Z",
     "iopub.status.busy": "2023-08-12T19:05:48.935691Z",
     "iopub.status.idle": "2023-08-12T19:05:48.990740Z",
     "shell.execute_reply": "2023-08-12T19:05:48.989648Z"
    },
    "papermill": {
     "duration": 0.154905,
     "end_time": "2023-08-12T19:05:48.993147",
     "exception": false,
     "start_time": "2023-08-12T19:05:48.838242",
     "status": "completed"
    },
    "tags": []
   },
   "outputs": [
    {
     "data": {
      "text/html": [
       "<div>\n",
       "<style scoped>\n",
       "    .dataframe tbody tr th:only-of-type {\n",
       "        vertical-align: middle;\n",
       "    }\n",
       "\n",
       "    .dataframe tbody tr th {\n",
       "        vertical-align: top;\n",
       "    }\n",
       "\n",
       "    .dataframe thead th {\n",
       "        text-align: right;\n",
       "    }\n",
       "</style>\n",
       "<table border=\"1\" class=\"dataframe\">\n",
       "  <thead>\n",
       "    <tr style=\"text-align: right;\">\n",
       "      <th></th>\n",
       "      <th>audienceScore</th>\n",
       "      <th>runtimeMinutes</th>\n",
       "      <th>boxOffice</th>\n",
       "    </tr>\n",
       "  </thead>\n",
       "  <tbody>\n",
       "    <tr>\n",
       "      <th>count</th>\n",
       "      <td>162758.000000</td>\n",
       "      <td>162758.000000</td>\n",
       "      <td>1.627580e+05</td>\n",
       "    </tr>\n",
       "    <tr>\n",
       "      <th>mean</th>\n",
       "      <td>65.062565</td>\n",
       "      <td>106.992019</td>\n",
       "      <td>4.160983e+07</td>\n",
       "    </tr>\n",
       "    <tr>\n",
       "      <th>std</th>\n",
       "      <td>19.844000</td>\n",
       "      <td>22.203778</td>\n",
       "      <td>7.932291e+07</td>\n",
       "    </tr>\n",
       "    <tr>\n",
       "      <th>min</th>\n",
       "      <td>0.000000</td>\n",
       "      <td>4.000000</td>\n",
       "      <td>0.000000e+00</td>\n",
       "    </tr>\n",
       "    <tr>\n",
       "      <th>25%</th>\n",
       "      <td>51.000000</td>\n",
       "      <td>93.000000</td>\n",
       "      <td>2.000000e+06</td>\n",
       "    </tr>\n",
       "    <tr>\n",
       "      <th>50%</th>\n",
       "      <td>68.000000</td>\n",
       "      <td>104.000000</td>\n",
       "      <td>1.430000e+07</td>\n",
       "    </tr>\n",
       "    <tr>\n",
       "      <th>75%</th>\n",
       "      <td>81.000000</td>\n",
       "      <td>118.000000</td>\n",
       "      <td>4.200000e+07</td>\n",
       "    </tr>\n",
       "    <tr>\n",
       "      <th>max</th>\n",
       "      <td>100.000000</td>\n",
       "      <td>561.000000</td>\n",
       "      <td>8.584000e+08</td>\n",
       "    </tr>\n",
       "  </tbody>\n",
       "</table>\n",
       "</div>"
      ],
      "text/plain": [
       "       audienceScore  runtimeMinutes     boxOffice\n",
       "count  162758.000000   162758.000000  1.627580e+05\n",
       "mean       65.062565      106.992019  4.160983e+07\n",
       "std        19.844000       22.203778  7.932291e+07\n",
       "min         0.000000        4.000000  0.000000e+00\n",
       "25%        51.000000       93.000000  2.000000e+06\n",
       "50%        68.000000      104.000000  1.430000e+07\n",
       "75%        81.000000      118.000000  4.200000e+07\n",
       "max       100.000000      561.000000  8.584000e+08"
      ]
     },
     "execution_count": 37,
     "metadata": {},
     "output_type": "execute_result"
    }
   ],
   "source": [
    "merged[['audienceScore', 'runtimeMinutes', 'boxOffice']].describe()"
   ]
  },
  {
   "cell_type": "markdown",
   "id": "4d1d0cb1",
   "metadata": {
    "papermill": {
     "duration": 0.096241,
     "end_time": "2023-08-12T19:05:49.185573",
     "exception": false,
     "start_time": "2023-08-12T19:05:49.089332",
     "status": "completed"
    },
    "tags": []
   },
   "source": [
    "### EDA releaseDiff  "
   ]
  },
  {
   "cell_type": "code",
   "execution_count": 38,
   "id": "a86e4b87",
   "metadata": {
    "execution": {
     "iopub.execute_input": "2023-08-12T19:05:49.406619Z",
     "iopub.status.busy": "2023-08-12T19:05:49.406115Z",
     "iopub.status.idle": "2023-08-12T19:05:49.425470Z",
     "shell.execute_reply": "2023-08-12T19:05:49.424247Z"
    },
    "papermill": {
     "duration": 0.140789,
     "end_time": "2023-08-12T19:05:49.428014",
     "exception": false,
     "start_time": "2023-08-12T19:05:49.287225",
     "status": "completed"
    },
    "tags": []
   },
   "outputs": [
    {
     "data": {
      "text/plain": [
       "count    162758.000000\n",
       "mean       1653.469015\n",
       "std        4581.420922\n",
       "min           0.000000\n",
       "25%          65.000000\n",
       "50%         116.000000\n",
       "75%         375.000000\n",
       "max       38922.000000\n",
       "Name: releaseDiff, dtype: float64"
      ]
     },
     "execution_count": 38,
     "metadata": {},
     "output_type": "execute_result"
    }
   ],
   "source": [
    "# abs values\n",
    "merged[\"releaseDiff\"].describe()"
   ]
  },
  {
   "cell_type": "code",
   "execution_count": 39,
   "id": "0e685dff",
   "metadata": {
    "execution": {
     "iopub.execute_input": "2023-08-12T19:05:49.633898Z",
     "iopub.status.busy": "2023-08-12T19:05:49.633115Z",
     "iopub.status.idle": "2023-08-12T19:05:49.637756Z",
     "shell.execute_reply": "2023-08-12T19:05:49.637012Z"
    },
    "papermill": {
     "duration": 0.107364,
     "end_time": "2023-08-12T19:05:49.639990",
     "exception": false,
     "start_time": "2023-08-12T19:05:49.532626",
     "status": "completed"
    },
    "tags": []
   },
   "outputs": [],
   "source": [
    "# merged['releaseDiffBins'].value_counts()"
   ]
  },
  {
   "cell_type": "code",
   "execution_count": 40,
   "id": "fcf3e674",
   "metadata": {
    "execution": {
     "iopub.execute_input": "2023-08-12T19:05:49.845787Z",
     "iopub.status.busy": "2023-08-12T19:05:49.844475Z",
     "iopub.status.idle": "2023-08-12T19:05:50.221773Z",
     "shell.execute_reply": "2023-08-12T19:05:50.220511Z"
    },
    "papermill": {
     "duration": 0.477632,
     "end_time": "2023-08-12T19:05:50.224598",
     "exception": false,
     "start_time": "2023-08-12T19:05:49.746966",
     "status": "completed"
    },
    "tags": []
   },
   "outputs": [
    {
     "data": {
      "text/plain": [
       "<Axes: xlabel='sentiment', ylabel='releaseDiff'>"
      ]
     },
     "execution_count": 40,
     "metadata": {},
     "output_type": "execute_result"
    },
    {
     "data": {
      "image/png": "[encoded data removed]",
      "text/plain": [
       "<Figure size 640x480 with 1 Axes>"
      ]
     },
     "metadata": {},
     "output_type": "display_data"
    }
   ],
   "source": [
    "sns.boxplot(x=merged['sentiment'], y=merged['releaseDiff'], showfliers=False)"
   ]
  },
  {
   "cell_type": "code",
   "execution_count": 41,
   "id": "a59342da",
   "metadata": {
    "execution": {
     "iopub.execute_input": "2023-08-12T19:05:50.423192Z",
     "iopub.status.busy": "2023-08-12T19:05:50.422761Z",
     "iopub.status.idle": "2023-08-12T19:05:50.427457Z",
     "shell.execute_reply": "2023-08-12T19:05:50.426378Z"
    },
    "papermill": {
     "duration": 0.107596,
     "end_time": "2023-08-12T19:05:50.429629",
     "exception": false,
     "start_time": "2023-08-12T19:05:50.322033",
     "status": "completed"
    },
    "tags": []
   },
   "outputs": [],
   "source": [
    "# sns.displot(merged['releaseDiffBins'])"
   ]
  },
  {
   "cell_type": "code",
   "execution_count": 42,
   "id": "252751de",
   "metadata": {
    "execution": {
     "iopub.execute_input": "2023-08-12T19:05:50.623655Z",
     "iopub.status.busy": "2023-08-12T19:05:50.623216Z",
     "iopub.status.idle": "2023-08-12T19:05:50.628058Z",
     "shell.execute_reply": "2023-08-12T19:05:50.626953Z"
    },
    "papermill": {
     "duration": 0.104706,
     "end_time": "2023-08-12T19:05:50.630349",
     "exception": false,
     "start_time": "2023-08-12T19:05:50.525643",
     "status": "completed"
    },
    "tags": []
   },
   "outputs": [],
   "source": [
    "# merged['sentiment'].loc[merged['releaseDiffBins'] > 0].value_counts()"
   ]
  },
  {
   "cell_type": "code",
   "execution_count": 43,
   "id": "9f562659",
   "metadata": {
    "execution": {
     "iopub.execute_input": "2023-08-12T19:05:50.824481Z",
     "iopub.status.busy": "2023-08-12T19:05:50.824049Z",
     "iopub.status.idle": "2023-08-12T19:05:50.829185Z",
     "shell.execute_reply": "2023-08-12T19:05:50.828018Z"
    },
    "papermill": {
     "duration": 0.104624,
     "end_time": "2023-08-12T19:05:50.831362",
     "exception": false,
     "start_time": "2023-08-12T19:05:50.726738",
     "status": "completed"
    },
    "tags": []
   },
   "outputs": [],
   "source": [
    "# merged['releaseDiffBins'].describe()"
   ]
  },
  {
   "cell_type": "markdown",
   "id": "018b84eb",
   "metadata": {
    "papermill": {
     "duration": 0.095857,
     "end_time": "2023-08-12T19:05:51.025206",
     "exception": false,
     "start_time": "2023-08-12T19:05:50.929349",
     "status": "completed"
    },
    "tags": []
   },
   "source": [
    "### EDA 'distributor'  "
   ]
  },
  {
   "cell_type": "code",
   "execution_count": 44,
   "id": "52c474b4",
   "metadata": {
    "execution": {
     "iopub.execute_input": "2023-08-12T19:05:51.283175Z",
     "iopub.status.busy": "2023-08-12T19:05:51.282764Z",
     "iopub.status.idle": "2023-08-12T19:05:51.319984Z",
     "shell.execute_reply": "2023-08-12T19:05:51.318844Z"
    },
    "papermill": {
     "duration": 0.136943,
     "end_time": "2023-08-12T19:05:51.322149",
     "exception": false,
     "start_time": "2023-08-12T19:05:51.185206",
     "status": "completed"
    },
    "tags": []
   },
   "outputs": [
    {
     "data": {
      "text/plain": [
       "unknown                              20489\n",
       "Universal Pictures                    8847\n",
       "Warner Bros. Pictures                 8722\n",
       "Paramount Pictures                    7773\n",
       "20th Century Fox                      7007\n",
       "                                     ...  \n",
       "Almi Pictures                            1\n",
       "Koch Lorber                              1\n",
       "Magic Lamp                               1\n",
       "Fine Line Features, Miramax Films        1\n",
       "American Film Co.                        1\n",
       "Name: distributor, Length: 1796, dtype: int64"
      ]
     },
     "execution_count": 44,
     "metadata": {},
     "output_type": "execute_result"
    }
   ],
   "source": [
    "merged[\"distributor\"].value_counts()"
   ]
  },
  {
   "cell_type": "code",
   "execution_count": 45,
   "id": "1cd79f1c",
   "metadata": {
    "execution": {
     "iopub.execute_input": "2023-08-12T19:05:51.518901Z",
     "iopub.status.busy": "2023-08-12T19:05:51.518407Z",
     "iopub.status.idle": "2023-08-12T19:05:51.538533Z",
     "shell.execute_reply": "2023-08-12T19:05:51.537551Z"
    },
    "papermill": {
     "duration": 0.121672,
     "end_time": "2023-08-12T19:05:51.540795",
     "exception": false,
     "start_time": "2023-08-12T19:05:51.419123",
     "status": "completed"
    },
    "tags": []
   },
   "outputs": [
    {
     "data": {
      "text/plain": [
       "count    162758.000000\n",
       "mean        106.992019\n",
       "std          22.203778\n",
       "min           4.000000\n",
       "25%          93.000000\n",
       "50%         104.000000\n",
       "75%         118.000000\n",
       "max         561.000000\n",
       "Name: runtimeMinutes, dtype: float64"
      ]
     },
     "execution_count": 45,
     "metadata": {},
     "output_type": "execute_result"
    }
   ],
   "source": [
    "merged[\"runtimeMinutes\"].describe()"
   ]
  },
  {
   "cell_type": "code",
   "execution_count": 46,
   "id": "b9d5a786",
   "metadata": {
    "execution": {
     "iopub.execute_input": "2023-08-12T19:05:51.736667Z",
     "iopub.status.busy": "2023-08-12T19:05:51.735533Z",
     "iopub.status.idle": "2023-08-12T19:05:52.142501Z",
     "shell.execute_reply": "2023-08-12T19:05:52.141383Z"
    },
    "papermill": {
     "duration": 0.507475,
     "end_time": "2023-08-12T19:05:52.145009",
     "exception": false,
     "start_time": "2023-08-12T19:05:51.637534",
     "status": "completed"
    },
    "tags": []
   },
   "outputs": [
    {
     "data": {
      "text/plain": [
       "<Axes: xlabel='sentiment', ylabel='runtimeMinutes'>"
      ]
     },
     "execution_count": 46,
     "metadata": {},
     "output_type": "execute_result"
    },
    {
     "data": {
      "image/png": "[encoded data removed]",
      "text/plain": [
       "<Figure size 640x480 with 1 Axes>"
      ]
     },
     "metadata": {},
     "output_type": "display_data"
    }
   ],
   "source": [
    "sns.boxplot(y=merged[\"runtimeMinutes\"], x=merged[\"sentiment\"])"
   ]
  },
  {
   "cell_type": "code",
   "execution_count": 47,
   "id": "ad5b7eb2",
   "metadata": {
    "execution": {
     "iopub.execute_input": "2023-08-12T19:05:52.341845Z",
     "iopub.status.busy": "2023-08-12T19:05:52.341402Z",
     "iopub.status.idle": "2023-08-12T19:05:52.345551Z",
     "shell.execute_reply": "2023-08-12T19:05:52.344626Z"
    },
    "papermill": {
     "duration": 0.105053,
     "end_time": "2023-08-12T19:05:52.347613",
     "exception": false,
     "start_time": "2023-08-12T19:05:52.242560",
     "status": "completed"
    },
    "tags": []
   },
   "outputs": [],
   "source": [
    "# print(merged[\"boxOfficeBins\"].value_counts())\n",
    "# sns.displot(merged[\"boxOfficeBins\"])"
   ]
  },
  {
   "cell_type": "code",
   "execution_count": 48,
   "id": "97c4317b",
   "metadata": {
    "execution": {
     "iopub.execute_input": "2023-08-12T19:05:52.545442Z",
     "iopub.status.busy": "2023-08-12T19:05:52.544588Z",
     "iopub.status.idle": "2023-08-12T19:05:52.553411Z",
     "shell.execute_reply": "2023-08-12T19:05:52.552309Z"
    },
    "papermill": {
     "duration": 0.109704,
     "end_time": "2023-08-12T19:05:52.555729",
     "exception": false,
     "start_time": "2023-08-12T19:05:52.446025",
     "status": "completed"
    },
    "tags": []
   },
   "outputs": [
    {
     "data": {
      "text/plain": [
       "0    Henry Selick’s first movie since ’s Coraline. ...\n",
       "1    With a cast that reads like the Vogue Oscar pa...\n",
       "2    Creed II does not give us anything but another...\n",
       "3    I know what you're thinking, but this is no Li...\n",
       "4    Director Fernando Meirelles tells the story wi...\n",
       "Name: reviewText, dtype: object"
      ]
     },
     "execution_count": 48,
     "metadata": {},
     "output_type": "execute_result"
    }
   ],
   "source": [
    "merged[\"reviewText\"].head()"
   ]
  },
  {
   "cell_type": "code",
   "execution_count": 49,
   "id": "993c8c1b",
   "metadata": {
    "execution": {
     "iopub.execute_input": "2023-08-12T19:05:52.754079Z",
     "iopub.status.busy": "2023-08-12T19:05:52.753494Z",
     "iopub.status.idle": "2023-08-12T19:05:52.761285Z",
     "shell.execute_reply": "2023-08-12T19:05:52.760288Z"
    },
    "papermill": {
     "duration": 0.109981,
     "end_time": "2023-08-12T19:05:52.763779",
     "exception": false,
     "start_time": "2023-08-12T19:05:52.653798",
     "status": "completed"
    },
    "tags": []
   },
   "outputs": [
    {
     "data": {
      "text/plain": [
       "6447"
      ]
     },
     "execution_count": 49,
     "metadata": {},
     "output_type": "execute_result"
    }
   ],
   "source": [
    "merged[\"reviewYN\"].sum()"
   ]
  },
  {
   "cell_type": "code",
   "execution_count": 50,
   "id": "7db62608",
   "metadata": {
    "execution": {
     "iopub.execute_input": "2023-08-12T19:05:52.962279Z",
     "iopub.status.busy": "2023-08-12T19:05:52.961496Z",
     "iopub.status.idle": "2023-08-12T19:05:52.969451Z",
     "shell.execute_reply": "2023-08-12T19:05:52.968522Z"
    },
    "papermill": {
     "duration": 0.109415,
     "end_time": "2023-08-12T19:05:52.971592",
     "exception": false,
     "start_time": "2023-08-12T19:05:52.862177",
     "status": "completed"
    },
    "tags": []
   },
   "outputs": [
    {
     "data": {
      "text/plain": [
       "0    11\n",
       "1    24\n",
       "2    22\n",
       "3    34\n",
       "4    20\n",
       "Name: reviewWC, dtype: int64"
      ]
     },
     "execution_count": 50,
     "metadata": {},
     "output_type": "execute_result"
    }
   ],
   "source": [
    "merged[\"reviewWC\"].head()"
   ]
  },
  {
   "cell_type": "code",
   "execution_count": 51,
   "id": "0bf26c8a",
   "metadata": {
    "execution": {
     "iopub.execute_input": "2023-08-12T19:05:53.169831Z",
     "iopub.status.busy": "2023-08-12T19:05:53.169439Z",
     "iopub.status.idle": "2023-08-12T19:05:53.185766Z",
     "shell.execute_reply": "2023-08-12T19:05:53.184665Z"
    },
    "papermill": {
     "duration": 0.118143,
     "end_time": "2023-08-12T19:05:53.188214",
     "exception": false,
     "start_time": "2023-08-12T19:05:53.070071",
     "status": "completed"
    },
    "tags": []
   },
   "outputs": [
    {
     "data": {
      "text/plain": [
       "count    162758.000000\n",
       "mean         21.013707\n",
       "std          10.216532\n",
       "min           1.000000\n",
       "25%          14.000000\n",
       "50%          21.000000\n",
       "75%          28.000000\n",
       "max          54.000000\n",
       "Name: reviewWC, dtype: float64"
      ]
     },
     "execution_count": 51,
     "metadata": {},
     "output_type": "execute_result"
    }
   ],
   "source": [
    "merged[\"reviewWC\"].describe()"
   ]
  },
  {
   "cell_type": "code",
   "execution_count": 52,
   "id": "6aad9681",
   "metadata": {
    "execution": {
     "iopub.execute_input": "2023-08-12T19:05:53.387738Z",
     "iopub.status.busy": "2023-08-12T19:05:53.386925Z",
     "iopub.status.idle": "2023-08-12T19:05:54.078202Z",
     "shell.execute_reply": "2023-08-12T19:05:54.076980Z"
    },
    "papermill": {
     "duration": 0.794387,
     "end_time": "2023-08-12T19:05:54.080803",
     "exception": false,
     "start_time": "2023-08-12T19:05:53.286416",
     "status": "completed"
    },
    "tags": []
   },
   "outputs": [
    {
     "data": {
      "text/plain": [
       "<Axes: xlabel='reviewWC', ylabel='Count'>"
      ]
     },
     "execution_count": 52,
     "metadata": {},
     "output_type": "execute_result"
    },
    {
     "data": {
      "image/png": "[encoded data removed]",
      "text/plain": [
       "<Figure size 640x480 with 1 Axes>"
      ]
     },
     "metadata": {},
     "output_type": "display_data"
    }
   ],
   "source": [
    "sns.histplot(merged[\"reviewWC\"])"
   ]
  },
  {
   "cell_type": "code",
   "execution_count": 53,
   "id": "ce47416a",
   "metadata": {
    "execution": {
     "iopub.execute_input": "2023-08-12T19:05:54.283244Z",
     "iopub.status.busy": "2023-08-12T19:05:54.282853Z",
     "iopub.status.idle": "2023-08-12T19:05:54.314890Z",
     "shell.execute_reply": "2023-08-12T19:05:54.313641Z"
    },
    "papermill": {
     "duration": 0.135169,
     "end_time": "2023-08-12T19:05:54.317362",
     "exception": false,
     "start_time": "2023-08-12T19:05:54.182193",
     "status": "completed"
    },
    "tags": []
   },
   "outputs": [
    {
     "data": {
      "text/plain": [
       "R          60248\n",
       "unknown    44587\n",
       "PG-13      42697\n",
       "PG         13669\n",
       "TV14         947\n",
       "NC-17        285\n",
       "TVPG         281\n",
       "TVMA          44\n",
       "Name: rating, dtype: int64"
      ]
     },
     "execution_count": 53,
     "metadata": {},
     "output_type": "execute_result"
    }
   ],
   "source": [
    "merged['rating'].value_counts()"
   ]
  },
  {
   "cell_type": "code",
   "execution_count": 54,
   "id": "89927490",
   "metadata": {
    "execution": {
     "iopub.execute_input": "2023-08-12T19:05:54.517060Z",
     "iopub.status.busy": "2023-08-12T19:05:54.516636Z",
     "iopub.status.idle": "2023-08-12T19:05:54.526932Z",
     "shell.execute_reply": "2023-08-12T19:05:54.525782Z"
    },
    "papermill": {
     "duration": 0.112949,
     "end_time": "2023-08-12T19:05:54.529302",
     "exception": false,
     "start_time": "2023-08-12T19:05:54.416353",
     "status": "completed"
    },
    "tags": []
   },
   "outputs": [
    {
     "data": {
      "text/plain": [
       "False    113189\n",
       "True      49569\n",
       "Name: isFrequentReviewer, dtype: int64"
      ]
     },
     "execution_count": 54,
     "metadata": {},
     "output_type": "execute_result"
    }
   ],
   "source": [
    "merged['isFrequentReviewer'].value_counts()"
   ]
  },
  {
   "cell_type": "code",
   "execution_count": 55,
   "id": "30811fa7",
   "metadata": {
    "execution": {
     "iopub.execute_input": "2023-08-12T19:05:54.729314Z",
     "iopub.status.busy": "2023-08-12T19:05:54.728921Z",
     "iopub.status.idle": "2023-08-12T19:05:54.737213Z",
     "shell.execute_reply": "2023-08-12T19:05:54.736096Z"
    },
    "papermill": {
     "duration": 0.110936,
     "end_time": "2023-08-12T19:05:54.739322",
     "exception": false,
     "start_time": "2023-08-12T19:05:54.628386",
     "status": "completed"
    },
    "tags": []
   },
   "outputs": [
    {
     "data": {
      "text/plain": [
       "0      Benjamin Henry\n",
       "1       Felicia Lopez\n",
       "2     Charles Burgess\n",
       "3        Ryan Barrett\n",
       "4    Alexander Glover\n",
       "Name: reviewerName, dtype: object"
      ]
     },
     "execution_count": 55,
     "metadata": {},
     "output_type": "execute_result"
    }
   ],
   "source": [
    "merged[\"reviewerName\"].head()"
   ]
  },
  {
   "cell_type": "code",
   "execution_count": 56,
   "id": "49b2f5f2",
   "metadata": {
    "execution": {
     "iopub.execute_input": "2023-08-12T19:05:54.941031Z",
     "iopub.status.busy": "2023-08-12T19:05:54.940592Z",
     "iopub.status.idle": "2023-08-12T19:05:54.954579Z",
     "shell.execute_reply": "2023-08-12T19:05:54.953464Z"
    },
    "papermill": {
     "duration": 0.117966,
     "end_time": "2023-08-12T19:05:54.956937",
     "exception": false,
     "start_time": "2023-08-12T19:05:54.838971",
     "status": "completed"
    },
    "tags": []
   },
   "outputs": [
    {
     "data": {
      "text/plain": [
       "14300000.0    32327\n",
       "2000000.0       922\n",
       "1100000.0       891\n",
       "1000000.0       834\n",
       "1200000.0       802\n",
       "              ...  \n",
       "58500.0           1\n",
       "500800.0          1\n",
       "265600.0          1\n",
       "292500.0          1\n",
       "799400.0          1\n",
       "Name: boxOffice, Length: 3819, dtype: int64"
      ]
     },
     "execution_count": 56,
     "metadata": {},
     "output_type": "execute_result"
    }
   ],
   "source": [
    "merged['boxOffice'].value_counts()"
   ]
  },
  {
   "cell_type": "code",
   "execution_count": 57,
   "id": "0a340f94",
   "metadata": {
    "execution": {
     "iopub.execute_input": "2023-08-12T19:05:55.159148Z",
     "iopub.status.busy": "2023-08-12T19:05:55.158729Z",
     "iopub.status.idle": "2023-08-12T19:05:55.163776Z",
     "shell.execute_reply": "2023-08-12T19:05:55.162743Z"
    },
    "papermill": {
     "duration": 0.109916,
     "end_time": "2023-08-12T19:05:55.166133",
     "exception": false,
     "start_time": "2023-08-12T19:05:55.056217",
     "status": "completed"
    },
    "tags": []
   },
   "outputs": [],
   "source": [
    "# Check correlation between 'boxOffice' and ''sentiment'\n",
    "# bo_df = merged.copy()\n",
    "# print(bo_df[\"boxOffice\"])\n",
    "# bo_df[\"boxOffice\"] = bo_df[\"boxOffice\"].str[1:]\n",
    "# bo_df[\"boxOffice\"] = bo_df[\"boxOffice\"].replace(to_replace={\"M\": \"*1000000\", \"K\": \"*1000\"}, regex=True)\n",
    "# bo_df[\"boxOffice\"] = bo_df[\"boxOffice\"].loc[bo_df[\"boxOffice\"].notnull()].apply(lambda x: eval(str(x)))\n",
    "# bo_df[\"boxOffice\"] = bo_df[\"boxOffice\"].fillna(bo_df[\"boxOffice\"].median())\n",
    "# bo_df[\"boxOffice\"].describe()"
   ]
  },
  {
   "cell_type": "code",
   "execution_count": 58,
   "id": "46dfd3ef",
   "metadata": {
    "execution": {
     "iopub.execute_input": "2023-08-12T19:05:55.367204Z",
     "iopub.status.busy": "2023-08-12T19:05:55.366787Z",
     "iopub.status.idle": "2023-08-12T19:05:55.371772Z",
     "shell.execute_reply": "2023-08-12T19:05:55.370389Z"
    },
    "papermill": {
     "duration": 0.108613,
     "end_time": "2023-08-12T19:05:55.374065",
     "exception": false,
     "start_time": "2023-08-12T19:05:55.265452",
     "status": "completed"
    },
    "tags": []
   },
   "outputs": [],
   "source": [
    "# median = bo_df[\"boxOffice\"].describe()['50%']\n",
    "# iqr = bo_df[\"boxOffice\"].describe()['75%'] - bo_df[\"boxOffice\"].describe()['25%']\n",
    "# median, iqr"
   ]
  },
  {
   "cell_type": "code",
   "execution_count": 59,
   "id": "a5180b86",
   "metadata": {
    "execution": {
     "iopub.execute_input": "2023-08-12T19:05:55.574489Z",
     "iopub.status.busy": "2023-08-12T19:05:55.574044Z",
     "iopub.status.idle": "2023-08-12T19:05:55.578950Z",
     "shell.execute_reply": "2023-08-12T19:05:55.577838Z"
    },
    "papermill": {
     "duration": 0.107469,
     "end_time": "2023-08-12T19:05:55.581144",
     "exception": false,
     "start_time": "2023-08-12T19:05:55.473675",
     "status": "completed"
    },
    "tags": []
   },
   "outputs": [],
   "source": [
    "# ll = median - (1.5*iqr)\n",
    "# ul = median + (1.5*iqr)\n",
    "# ll, ul"
   ]
  },
  {
   "cell_type": "code",
   "execution_count": 60,
   "id": "7542ac51",
   "metadata": {
    "execution": {
     "iopub.execute_input": "2023-08-12T19:05:55.782741Z",
     "iopub.status.busy": "2023-08-12T19:05:55.782339Z",
     "iopub.status.idle": "2023-08-12T19:05:55.786985Z",
     "shell.execute_reply": "2023-08-12T19:05:55.785868Z"
    },
    "papermill": {
     "duration": 0.107618,
     "end_time": "2023-08-12T19:05:55.789161",
     "exception": false,
     "start_time": "2023-08-12T19:05:55.681543",
     "status": "completed"
    },
    "tags": []
   },
   "outputs": [],
   "source": [
    "# bo_df[\"boxOffice\"].mean()"
   ]
  },
  {
   "cell_type": "code",
   "execution_count": 61,
   "id": "a01ec421",
   "metadata": {
    "execution": {
     "iopub.execute_input": "2023-08-12T19:05:55.992734Z",
     "iopub.status.busy": "2023-08-12T19:05:55.992296Z",
     "iopub.status.idle": "2023-08-12T19:05:55.996177Z",
     "shell.execute_reply": "2023-08-12T19:05:55.995388Z"
    },
    "papermill": {
     "duration": 0.109273,
     "end_time": "2023-08-12T19:05:55.998404",
     "exception": false,
     "start_time": "2023-08-12T19:05:55.889131",
     "status": "completed"
    },
    "tags": []
   },
   "outputs": [],
   "source": [
    "# bo_df.loc[bo_df[\"boxOffice\"] > ul, \"boxOffice\"] = median\n",
    "# bo_df[\"boxOffice\"].mean()"
   ]
  },
  {
   "cell_type": "code",
   "execution_count": 62,
   "id": "e7c8a837",
   "metadata": {
    "execution": {
     "iopub.execute_input": "2023-08-12T19:05:56.201823Z",
     "iopub.status.busy": "2023-08-12T19:05:56.201387Z",
     "iopub.status.idle": "2023-08-12T19:05:56.206371Z",
     "shell.execute_reply": "2023-08-12T19:05:56.205229Z"
    },
    "papermill": {
     "duration": 0.109679,
     "end_time": "2023-08-12T19:05:56.208797",
     "exception": false,
     "start_time": "2023-08-12T19:05:56.099118",
     "status": "completed"
    },
    "tags": []
   },
   "outputs": [],
   "source": [
    "# bo_df[\"boxOffice\"].min(), bo_df[\"boxOffice\"].max()"
   ]
  },
  {
   "cell_type": "code",
   "execution_count": 63,
   "id": "90fe7a7a",
   "metadata": {
    "execution": {
     "iopub.execute_input": "2023-08-12T19:05:56.413227Z",
     "iopub.status.busy": "2023-08-12T19:05:56.412830Z",
     "iopub.status.idle": "2023-08-12T19:05:56.417387Z",
     "shell.execute_reply": "2023-08-12T19:05:56.416320Z"
    },
    "papermill": {
     "duration": 0.109912,
     "end_time": "2023-08-12T19:05:56.419660",
     "exception": false,
     "start_time": "2023-08-12T19:05:56.309748",
     "status": "completed"
    },
    "tags": []
   },
   "outputs": [],
   "source": [
    "# sns.boxplot(x=\"sentiment\", y=\"boxOffice\", data=bo_df, showfliers = False)"
   ]
  },
  {
   "cell_type": "markdown",
   "id": "02a01062",
   "metadata": {
    "papermill": {
     "duration": 0.103225,
     "end_time": "2023-08-12T19:05:56.624904",
     "exception": false,
     "start_time": "2023-08-12T19:05:56.521679",
     "status": "completed"
    },
    "tags": []
   },
   "source": [
    "## EDA  "
   ]
  },
  {
   "cell_type": "markdown",
   "id": "1b59d8d7",
   "metadata": {
    "papermill": {
     "duration": 0.099127,
     "end_time": "2023-08-12T19:05:56.823997",
     "exception": false,
     "start_time": "2023-08-12T19:05:56.724870",
     "status": "completed"
    },
    "tags": []
   },
   "source": [
    "### An interesting finding through exploration  \n",
    "  \n",
    "* OHE and TfidfVectorizer on director column give the same result when ngram_range(2,2) is used (see code below)!"
   ]
  },
  {
   "cell_type": "code",
   "execution_count": 64,
   "id": "8e365aa2",
   "metadata": {
    "execution": {
     "iopub.execute_input": "2023-08-12T19:05:57.027450Z",
     "iopub.status.busy": "2023-08-12T19:05:57.026580Z",
     "iopub.status.idle": "2023-08-12T19:06:09.980070Z",
     "shell.execute_reply": "2023-08-12T19:06:09.978892Z"
    },
    "papermill": {
     "duration": 13.058366,
     "end_time": "2023-08-12T19:06:09.982586",
     "exception": false,
     "start_time": "2023-08-12T19:05:56.924220",
     "status": "completed"
    },
    "tags": []
   },
   "outputs": [
    {
     "name": "stdout",
     "output_type": "stream",
     "text": [
      "(162758,)\n",
      "9476\n",
      "(162758, 9476) <class 'numpy.ndarray'>\n",
      "(162758,)\n",
      "(162758, 9476) <class 'numpy.ndarray'>\n",
      "True\n"
     ]
    }
   ],
   "source": [
    "# Compare OHE and TfidfVectorizer on director column\n",
    "\n",
    "dirs = merged[\"director\"].copy()\n",
    "print(dirs.shape)\n",
    "dirs_uniq = merged[\"director\"].unique()\n",
    "print(len(dirs_uniq))\n",
    "\n",
    "du_ohe = OneHotEncoder(handle_unknown=\"ignore\", sparse_output=False).fit_transform(dirs.to_numpy().reshape(-1, 1))\n",
    "print(du_ohe.shape, type(du_ohe))\n",
    "\n",
    "dirs_2 = merged[\"director\"].copy()\n",
    "print(dirs_2.shape)\n",
    "du_tfidf = TfidfVectorizer(ngram_range=(2,2)).fit_transform(dirs_2).toarray()\n",
    "print(du_tfidf.shape, type(du_tfidf))\n",
    "\n",
    "print(np.array_equal(du_ohe, du_tfidf))"
   ]
  },
  {
   "cell_type": "code",
   "execution_count": 65,
   "id": "67cfbed6",
   "metadata": {
    "execution": {
     "iopub.execute_input": "2023-08-12T19:06:10.185809Z",
     "iopub.status.busy": "2023-08-12T19:06:10.185123Z",
     "iopub.status.idle": "2023-08-12T19:06:10.539002Z",
     "shell.execute_reply": "2023-08-12T19:06:10.537814Z"
    },
    "papermill": {
     "duration": 0.458167,
     "end_time": "2023-08-12T19:06:10.541365",
     "exception": false,
     "start_time": "2023-08-12T19:06:10.083198",
     "status": "completed"
    },
    "tags": []
   },
   "outputs": [
    {
     "name": "stdout",
     "output_type": "stream",
     "text": [
      "0       Bennie Basso\n",
      "1         Alma White\n",
      "2       Bobby Oleary\n",
      "3    Eric Hutcherson\n",
      "4         John Trent\n",
      "Name: director, dtype: object\n"
     ]
    },
    {
     "data": {
      "text/plain": [
       "2    162758\n",
       "Name: director, dtype: int64"
      ]
     },
     "execution_count": 65,
     "metadata": {},
     "output_type": "execute_result"
    }
   ],
   "source": [
    "print(dirs.head())\n",
    "d = dirs.copy()\n",
    "d[\"name_len\"] = d.apply(lambda x: len(x.split()))\n",
    "d[\"name_len\"].value_counts()"
   ]
  },
  {
   "cell_type": "code",
   "execution_count": 66,
   "id": "dd6e8f55",
   "metadata": {
    "execution": {
     "iopub.execute_input": "2023-08-12T19:06:10.745081Z",
     "iopub.status.busy": "2023-08-12T19:06:10.744622Z",
     "iopub.status.idle": "2023-08-12T19:06:10.750612Z",
     "shell.execute_reply": "2023-08-12T19:06:10.749778Z"
    },
    "papermill": {
     "duration": 0.109643,
     "end_time": "2023-08-12T19:06:10.752649",
     "exception": false,
     "start_time": "2023-08-12T19:06:10.643006",
     "status": "completed"
    },
    "tags": []
   },
   "outputs": [],
   "source": [
    "# Compare OHE and TfidfVectorizer on reviewerName column\n",
    "# Note: reviewerName column has salutations like \"Mr. \" etc, and some names appear middle names. Therefore needs cleaning\n",
    "\n",
    "# def name_fl(name):\n",
    "#     l = name.split()\n",
    "#     n = ' '.join((l[0], l[-1]))\n",
    "#     return n\n",
    "\n",
    "# reviewers = merged[\"reviewerName\"].copy()\n",
    "# reviewers = pd.DataFrame(reviewers)\n",
    "# reviewers = reviewers.replace({\"Mr. \": \"\", \"Mrs. \": \"\"}, regex=True)\n",
    "# reviewers[\"reviewerName\"] = reviewers[\"reviewerName\"].apply(name_fl)\n",
    "# print(reviewers.shape)\n",
    "\n",
    "# reviewers_uniq = merged[\"reviewerName\"].unique()\n",
    "# print(len(reviewers_uniq))\n",
    "\n",
    "# reviewers_ohe = OneHotEncoder(handle_unknown=\"ignore\", sparse_output=False).fit_transform(reviewers.to_numpy().reshape(-1, 1))\n",
    "# print(reviewers_ohe.shape, type(reviewers_ohe))\n",
    "\n",
    "# reviewers_2 = merged[\"reviewerName\"].copy()\n",
    "# reviewers_2 = pd.DataFrame(reviewers_2)\n",
    "# print(reviewers_2.head())\n",
    "# reviewers_2 = reviewers_2.replace({\"Mr. \": \"\", \"Mrs. \": \"\"}, regex=True)\n",
    "# reviewers_2[\"reviewerName\"] = reviewers_2[\"reviewerName\"].apply(name_fl)\n",
    "# reviewers_2 = reviewers_2.squeeze()\n",
    "# print(reviewers_2.shape)\n",
    "# print(reviewers_2.head())\n",
    "\n",
    "# reviewers_tfidf = TfidfVectorizer(ngram_range=(2,2)).fit_transform(reviewers_2).toarray()\n",
    "# print(reviewers_tfidf.shape, type(reviewers_tfidf))\n",
    "\n",
    "# print(np.array_equal(reviewers_ohe, reviewers_tfidf))"
   ]
  },
  {
   "cell_type": "code",
   "execution_count": 67,
   "id": "358a03c0",
   "metadata": {
    "execution": {
     "iopub.execute_input": "2023-08-12T19:06:10.955521Z",
     "iopub.status.busy": "2023-08-12T19:06:10.954757Z",
     "iopub.status.idle": "2023-08-12T19:06:10.958726Z",
     "shell.execute_reply": "2023-08-12T19:06:10.957875Z"
    },
    "papermill": {
     "duration": 0.108302,
     "end_time": "2023-08-12T19:06:10.960955",
     "exception": false,
     "start_time": "2023-08-12T19:06:10.852653",
     "status": "completed"
    },
    "tags": []
   },
   "outputs": [],
   "source": [
    "# def name_fl(name):\n",
    "#     l = name.split()\n",
    "#     n = ' '.join((l[0], l[-1]))\n",
    "#     return n"
   ]
  },
  {
   "cell_type": "code",
   "execution_count": 68,
   "id": "bacb9d62",
   "metadata": {
    "execution": {
     "iopub.execute_input": "2023-08-12T19:06:11.166906Z",
     "iopub.status.busy": "2023-08-12T19:06:11.166124Z",
     "iopub.status.idle": "2023-08-12T19:06:11.170408Z",
     "shell.execute_reply": "2023-08-12T19:06:11.169598Z"
    },
    "papermill": {
     "duration": 0.109931,
     "end_time": "2023-08-12T19:06:11.172580",
     "exception": false,
     "start_time": "2023-08-12T19:06:11.062649",
     "status": "completed"
    },
    "tags": []
   },
   "outputs": [],
   "source": [
    "# print(reviewers.head())\n",
    "# r = pd.DataFrame(reviewers.copy())\n",
    "# r[\"reviewerName\"] = r[\"reviewerName\"].apply(name_fl)\n",
    "# r[\"name_len\"] = r[\"reviewerName\"].apply(lambda x: len(x.split()))\n",
    "# print(r.shape)\n",
    "# print(r.head())\n",
    "# print(r['name_len'].value_counts())"
   ]
  },
  {
   "cell_type": "code",
   "execution_count": 69,
   "id": "0171546a",
   "metadata": {
    "execution": {
     "iopub.execute_input": "2023-08-12T19:06:11.377673Z",
     "iopub.status.busy": "2023-08-12T19:06:11.376847Z",
     "iopub.status.idle": "2023-08-12T19:06:11.381077Z",
     "shell.execute_reply": "2023-08-12T19:06:11.380185Z"
    },
    "papermill": {
     "duration": 0.109495,
     "end_time": "2023-08-12T19:06:11.383156",
     "exception": false,
     "start_time": "2023-08-12T19:06:11.273661",
     "status": "completed"
    },
    "tags": []
   },
   "outputs": [],
   "source": [
    "## Box plot audienceScore and sentiment  \n",
    "# plt.figure(figsize=(6, 4))\n",
    "# sns.boxplot(x=\"sentiment\", y=\"audienceScore\", data=merged, width=0.3)\n",
    "# plt.title(\"Box plot audienceScore and sentiment\")\n",
    "# plt.show()"
   ]
  },
  {
   "cell_type": "code",
   "execution_count": 70,
   "id": "70d60c9f",
   "metadata": {
    "execution": {
     "iopub.execute_input": "2023-08-12T19:06:11.585855Z",
     "iopub.status.busy": "2023-08-12T19:06:11.585402Z",
     "iopub.status.idle": "2023-08-12T19:06:11.589499Z",
     "shell.execute_reply": "2023-08-12T19:06:11.588738Z"
    },
    "papermill": {
     "duration": 0.108308,
     "end_time": "2023-08-12T19:06:11.591462",
     "exception": false,
     "start_time": "2023-08-12T19:06:11.483154",
     "status": "completed"
    },
    "tags": []
   },
   "outputs": [],
   "source": [
    "## Box plot runtimeMinutes and sentiment  \n",
    "# plt.figure(figsize=(6, 4))\n",
    "# sns.boxplot(x=\"sentiment\", y=\"runtimeMinutes\", data=merged, width=0.3)\n",
    "# plt.title(\"Box plot runtimeMinutes and sentiment\")\n",
    "# plt.show()"
   ]
  },
  {
   "cell_type": "code",
   "execution_count": 71,
   "id": "739a7699",
   "metadata": {
    "execution": {
     "iopub.execute_input": "2023-08-12T19:06:11.796278Z",
     "iopub.status.busy": "2023-08-12T19:06:11.795528Z",
     "iopub.status.idle": "2023-08-12T19:06:11.800033Z",
     "shell.execute_reply": "2023-08-12T19:06:11.799040Z"
    },
    "papermill": {
     "duration": 0.10867,
     "end_time": "2023-08-12T19:06:11.802418",
     "exception": false,
     "start_time": "2023-08-12T19:06:11.693748",
     "status": "completed"
    },
    "tags": []
   },
   "outputs": [],
   "source": [
    "## Column chart for sentiment and rating columns\n",
    "# plt.figure(figsize=(6, 4))\n",
    "# sns.countplot(x=\"sentiment\", hue=\"rating\", data=merged)\n",
    "# plt.title(\"Column chart for sentiment and rating columns\")\n",
    "# plt.show()"
   ]
  },
  {
   "cell_type": "code",
   "execution_count": 72,
   "id": "d2e3a3f5",
   "metadata": {
    "execution": {
     "iopub.execute_input": "2023-08-12T19:06:12.076821Z",
     "iopub.status.busy": "2023-08-12T19:06:12.076399Z",
     "iopub.status.idle": "2023-08-12T19:06:12.081060Z",
     "shell.execute_reply": "2023-08-12T19:06:12.080119Z"
    },
    "papermill": {
     "duration": 0.177816,
     "end_time": "2023-08-12T19:06:12.083128",
     "exception": false,
     "start_time": "2023-08-12T19:06:11.905312",
     "status": "completed"
    },
    "tags": []
   },
   "outputs": [],
   "source": [
    "# Correlation heatmap  \n",
    "# plt.figure(figsize=(10, 8))\n",
    "# sns.heatmap(merged.corr(), annot=True, cmap=\"coolwarm\")\n",
    "# plt.title(\"Correlation heatmap\")\n",
    "# plt.show()"
   ]
  },
  {
   "cell_type": "markdown",
   "id": "f7d3ea64",
   "metadata": {
    "papermill": {
     "duration": 0.099944,
     "end_time": "2023-08-12T19:06:12.284742",
     "exception": false,
     "start_time": "2023-08-12T19:06:12.184798",
     "status": "completed"
    },
    "tags": []
   },
   "source": [
    "## Merge and preprocess \"test.csv\" and \"movies.csv\" files  "
   ]
  },
  {
   "cell_type": "code",
   "execution_count": 73,
   "id": "d08e1a91",
   "metadata": {
    "execution": {
     "iopub.execute_input": "2023-08-12T19:06:12.486078Z",
     "iopub.status.busy": "2023-08-12T19:06:12.485654Z",
     "iopub.status.idle": "2023-08-12T19:06:18.456912Z",
     "shell.execute_reply": "2023-08-12T19:06:18.455796Z"
    },
    "papermill": {
     "duration": 6.075532,
     "end_time": "2023-08-12T19:06:18.459875",
     "exception": false,
     "start_time": "2023-08-12T19:06:12.384343",
     "status": "completed"
    },
    "tags": []
   },
   "outputs": [],
   "source": [
    "# Merge test and movies  \n",
    "merged_test = select_features(load_csv(\"test\"), load_csv(\"movies\"))"
   ]
  },
  {
   "cell_type": "code",
   "execution_count": 74,
   "id": "b768406f",
   "metadata": {
    "execution": {
     "iopub.execute_input": "2023-08-12T19:06:18.663600Z",
     "iopub.status.busy": "2023-08-12T19:06:18.662448Z",
     "iopub.status.idle": "2023-08-12T19:06:18.667253Z",
     "shell.execute_reply": "2023-08-12T19:06:18.666477Z"
    },
    "papermill": {
     "duration": 0.108907,
     "end_time": "2023-08-12T19:06:18.669449",
     "exception": false,
     "start_time": "2023-08-12T19:06:18.560542",
     "status": "completed"
    },
    "tags": []
   },
   "outputs": [],
   "source": [
    "# inspect(merged_test)      # Note the missing values in ['audienceScore', 'runtimeMinutes', 'boxOffice']"
   ]
  },
  {
   "cell_type": "code",
   "execution_count": 75,
   "id": "6b0207ec",
   "metadata": {
    "execution": {
     "iopub.execute_input": "2023-08-12T19:06:18.873742Z",
     "iopub.status.busy": "2023-08-12T19:06:18.873253Z",
     "iopub.status.idle": "2023-08-12T19:06:18.890742Z",
     "shell.execute_reply": "2023-08-12T19:06:18.889402Z"
    },
    "papermill": {
     "duration": 0.121988,
     "end_time": "2023-08-12T19:06:18.893192",
     "exception": false,
     "start_time": "2023-08-12T19:06:18.771204",
     "status": "completed"
    },
    "tags": []
   },
   "outputs": [
    {
     "data": {
      "text/plain": [
       "array([6.80e+01, 1.04e+02, 1.43e+07])"
      ]
     },
     "execution_count": 75,
     "metadata": {},
     "output_type": "execute_result"
    }
   ],
   "source": [
    "# Transform ['audienceScore', 'runtimeMinutes', 'boxOffice'] columns in merged_test using 'si' fitted on 'merged' df  \n",
    "merged_test[['audienceScore', 'runtimeMinutes', 'boxOffice']] = si.transform(merged_test[['audienceScore', 'runtimeMinutes', 'boxOffice']])\n",
    "si.statistics_"
   ]
  },
  {
   "cell_type": "code",
   "execution_count": 76,
   "id": "3ab1ba3a",
   "metadata": {
    "execution": {
     "iopub.execute_input": "2023-08-12T19:06:19.099047Z",
     "iopub.status.busy": "2023-08-12T19:06:19.098281Z",
     "iopub.status.idle": "2023-08-12T19:06:19.108864Z",
     "shell.execute_reply": "2023-08-12T19:06:19.107863Z"
    },
    "papermill": {
     "duration": 0.116749,
     "end_time": "2023-08-12T19:06:19.111545",
     "exception": false,
     "start_time": "2023-08-12T19:06:18.994796",
     "status": "completed"
    },
    "tags": []
   },
   "outputs": [],
   "source": [
    "# Fill 'releaseDate' column in 'merged_test' df with median from the train (merged) df  \n",
    "merged_test['releaseDate'] = merged_test[\"releaseDate\"].fillna(merged[\"releaseDate\"].median())"
   ]
  },
  {
   "cell_type": "code",
   "execution_count": 77,
   "id": "df1b3cde",
   "metadata": {
    "execution": {
     "iopub.execute_input": "2023-08-12T19:06:19.314920Z",
     "iopub.status.busy": "2023-08-12T19:06:19.314184Z",
     "iopub.status.idle": "2023-08-12T19:06:19.802678Z",
     "shell.execute_reply": "2023-08-12T19:06:19.801864Z"
    },
    "papermill": {
     "duration": 0.592745,
     "end_time": "2023-08-12T19:06:19.805033",
     "exception": false,
     "start_time": "2023-08-12T19:06:19.212288",
     "status": "completed"
    },
    "tags": []
   },
   "outputs": [
    {
     "name": "stdout",
     "output_type": "stream",
     "text": [
      "Shape of the dataframe: (55315, 25)\n",
      "\n",
      "Columns in the dataframe:\n",
      "Index(['movieid', 'reviewerName', 'isFrequentReviewer', 'reviewText', 'title',\n",
      "       'audienceScore', 'rating', 'ratingContents', 'releaseDateTheaters',\n",
      "       'releaseDateStreaming', 'runtimeMinutes', 'genre', 'originalLanguage',\n",
      "       'director', 'boxOffice', 'distributor', 'soundType', 'reviewYN',\n",
      "       'reviewWC', 'genreSorted', 'rcSorted', 'releaseDate', 'releaseYear',\n",
      "       'releaseMonth', 'releaseDiff'],\n",
      "      dtype='object')\n",
      "\n",
      "<class 'pandas.core.frame.DataFrame'>\n",
      "Int64Index: 55315 entries, 0 to 55314\n",
      "Data columns (total 25 columns):\n",
      " #   Column                Non-Null Count  Dtype         \n",
      "---  ------                --------------  -----         \n",
      " 0   movieid               55315 non-null  object        \n",
      " 1   reviewerName          55315 non-null  object        \n",
      " 2   isFrequentReviewer    55315 non-null  bool          \n",
      " 3   reviewText            55315 non-null  object        \n",
      " 4   title                 55315 non-null  object        \n",
      " 5   audienceScore         55315 non-null  float64       \n",
      " 6   rating                55315 non-null  object        \n",
      " 7   ratingContents        55315 non-null  object        \n",
      " 8   releaseDateTheaters   47844 non-null  datetime64[ns]\n",
      " 9   releaseDateStreaming  52929 non-null  datetime64[ns]\n",
      " 10  runtimeMinutes        55315 non-null  float64       \n",
      " 11  genre                 55315 non-null  object        \n",
      " 12  originalLanguage      55315 non-null  object        \n",
      " 13  director              55315 non-null  object        \n",
      " 14  boxOffice             55315 non-null  float64       \n",
      " 15  distributor           55315 non-null  object        \n",
      " 16  soundType             29845 non-null  object        \n",
      " 17  reviewYN              55315 non-null  int64         \n",
      " 18  reviewWC              55315 non-null  int64         \n",
      " 19  genreSorted           55315 non-null  object        \n",
      " 20  rcSorted              55315 non-null  object        \n",
      " 21  releaseDate           55315 non-null  datetime64[ns]\n",
      " 22  releaseYear           46626 non-null  float64       \n",
      " 23  releaseMonth          46626 non-null  float64       \n",
      " 24  releaseDiff           55315 non-null  float64       \n",
      "dtypes: bool(1), datetime64[ns](3), float64(6), int64(2), object(13)\n",
      "memory usage: 10.6+ MB\n",
      "None\n",
      "\n",
      "Missing values:\n",
      "movieid                     0\n",
      "reviewerName                0\n",
      "isFrequentReviewer          0\n",
      "reviewText                  0\n",
      "title                       0\n",
      "audienceScore               0\n",
      "rating                      0\n",
      "ratingContents              0\n",
      "releaseDateTheaters      7471\n",
      "releaseDateStreaming     2386\n",
      "runtimeMinutes              0\n",
      "genre                       0\n",
      "originalLanguage            0\n",
      "director                    0\n",
      "boxOffice                   0\n",
      "distributor                 0\n",
      "soundType               25470\n",
      "reviewYN                    0\n",
      "reviewWC                    0\n",
      "genreSorted                 0\n",
      "rcSorted                    0\n",
      "releaseDate                 0\n",
      "releaseYear              8689\n",
      "releaseMonth             8689\n",
      "releaseDiff                 0\n",
      "dtype: int64\n"
     ]
    }
   ],
   "source": [
    "# After transforming merged_test  \n",
    "inspect(merged_test)"
   ]
  },
  {
   "cell_type": "code",
   "execution_count": 78,
   "id": "22cc5728",
   "metadata": {
    "execution": {
     "iopub.execute_input": "2023-08-12T19:06:20.009980Z",
     "iopub.status.busy": "2023-08-12T19:06:20.009222Z",
     "iopub.status.idle": "2023-08-12T19:06:20.015836Z",
     "shell.execute_reply": "2023-08-12T19:06:20.014705Z"
    },
    "papermill": {
     "duration": 0.111394,
     "end_time": "2023-08-12T19:06:20.018157",
     "exception": false,
     "start_time": "2023-08-12T19:06:19.906763",
     "status": "completed"
    },
    "tags": []
   },
   "outputs": [
    {
     "name": "stdout",
     "output_type": "stream",
     "text": [
      "2510\n",
      "4.537648015908886\n"
     ]
    }
   ],
   "source": [
    "print(merged_test[\"reviewYN\"].sum())\n",
    "print(merged_test[\"reviewYN\"].sum() * 100 / merged_test.shape[0])"
   ]
  },
  {
   "cell_type": "code",
   "execution_count": 79,
   "id": "67fab406",
   "metadata": {
    "execution": {
     "iopub.execute_input": "2023-08-12T19:06:20.224329Z",
     "iopub.status.busy": "2023-08-12T19:06:20.223216Z",
     "iopub.status.idle": "2023-08-12T19:06:20.239057Z",
     "shell.execute_reply": "2023-08-12T19:06:20.238273Z"
    },
    "papermill": {
     "duration": 0.121131,
     "end_time": "2023-08-12T19:06:20.241133",
     "exception": false,
     "start_time": "2023-08-12T19:06:20.120002",
     "status": "completed"
    },
    "tags": []
   },
   "outputs": [
    {
     "data": {
      "text/plain": [
       "R          18934\n",
       "unknown    18386\n",
       "PG-13      13220\n",
       "PG          4200\n",
       "TV14         333\n",
       "TVPG         109\n",
       "NC-17        108\n",
       "TVMA          25\n",
       "Name: rating, dtype: int64"
      ]
     },
     "execution_count": 79,
     "metadata": {},
     "output_type": "execute_result"
    }
   ],
   "source": [
    "merged_test['rating'].value_counts()"
   ]
  },
  {
   "cell_type": "code",
   "execution_count": 80,
   "id": "fddc5c7c",
   "metadata": {
    "execution": {
     "iopub.execute_input": "2023-08-12T19:06:20.455335Z",
     "iopub.status.busy": "2023-08-12T19:06:20.454507Z",
     "iopub.status.idle": "2023-08-12T19:06:20.466171Z",
     "shell.execute_reply": "2023-08-12T19:06:20.464822Z"
    },
    "papermill": {
     "duration": 0.130008,
     "end_time": "2023-08-12T19:06:20.474291",
     "exception": false,
     "start_time": "2023-08-12T19:06:20.344283",
     "status": "completed"
    },
    "tags": []
   },
   "outputs": [
    {
     "data": {
      "text/plain": [
       "False    38428\n",
       "True     16887\n",
       "Name: isFrequentReviewer, dtype: int64"
      ]
     },
     "execution_count": 80,
     "metadata": {},
     "output_type": "execute_result"
    }
   ],
   "source": [
    "merged_test['isFrequentReviewer'].value_counts()"
   ]
  },
  {
   "cell_type": "code",
   "execution_count": 81,
   "id": "188f68ad",
   "metadata": {
    "execution": {
     "iopub.execute_input": "2023-08-12T19:06:20.716374Z",
     "iopub.status.busy": "2023-08-12T19:06:20.715780Z",
     "iopub.status.idle": "2023-08-12T19:06:20.727041Z",
     "shell.execute_reply": "2023-08-12T19:06:20.725751Z"
    },
    "papermill": {
     "duration": 0.119078,
     "end_time": "2023-08-12T19:06:20.729478",
     "exception": false,
     "start_time": "2023-08-12T19:06:20.610400",
     "status": "completed"
    },
    "tags": []
   },
   "outputs": [
    {
     "data": {
      "text/plain": [
       "14300000.0    13593\n",
       "1100000.0       311\n",
       "1000000.0       272\n",
       "1300000.0       263\n",
       "2000000.0       256\n",
       "              ...  \n",
       "200400.0          1\n",
       "23800000.0        1\n",
       "111200.0          1\n",
       "277800.0          1\n",
       "100600.0          1\n",
       "Name: boxOffice, Length: 3816, dtype: int64"
      ]
     },
     "execution_count": 81,
     "metadata": {},
     "output_type": "execute_result"
    }
   ],
   "source": [
    "merged_test['boxOffice'].value_counts()"
   ]
  },
  {
   "cell_type": "markdown",
   "id": "b62907b9",
   "metadata": {
    "papermill": {
     "duration": 0.116363,
     "end_time": "2023-08-12T19:06:20.949248",
     "exception": false,
     "start_time": "2023-08-12T19:06:20.832885",
     "status": "completed"
    },
    "tags": []
   },
   "source": [
    "## Work on vocabulary  \n",
    "\n",
    "`Build vocabulary from 'reviewText' column`  "
   ]
  },
  {
   "cell_type": "code",
   "execution_count": 82,
   "id": "0d71d27e",
   "metadata": {
    "execution": {
     "iopub.execute_input": "2023-08-12T19:06:21.162452Z",
     "iopub.status.busy": "2023-08-12T19:06:21.161643Z",
     "iopub.status.idle": "2023-08-12T19:06:21.181554Z",
     "shell.execute_reply": "2023-08-12T19:06:21.180429Z"
    },
    "papermill": {
     "duration": 0.131119,
     "end_time": "2023-08-12T19:06:21.184068",
     "exception": false,
     "start_time": "2023-08-12T19:06:21.052949",
     "status": "completed"
    },
    "tags": []
   },
   "outputs": [
    {
     "data": {
      "text/plain": [
       "((162758, 2),\n",
       "                                           reviewText sentiment\n",
       " 0  Henry Selick’s first movie since ’s Coraline. ...  POSITIVE\n",
       " 1  With a cast that reads like the Vogue Oscar pa...  NEGATIVE\n",
       " 2  Creed II does not give us anything but another...  POSITIVE\n",
       " 3  I know what you're thinking, but this is no Li...  POSITIVE\n",
       " 4  Director Fernando Meirelles tells the story wi...  POSITIVE)"
      ]
     },
     "execution_count": 82,
     "metadata": {},
     "output_type": "execute_result"
    }
   ],
   "source": [
    "rt_senti = merged[[\"reviewText\", \"sentiment\"]].copy()\n",
    "rt_senti.shape, rt_senti.head()"
   ]
  },
  {
   "cell_type": "code",
   "execution_count": 83,
   "id": "87b4def9",
   "metadata": {
    "execution": {
     "iopub.execute_input": "2023-08-12T19:06:21.391386Z",
     "iopub.status.busy": "2023-08-12T19:06:21.390536Z",
     "iopub.status.idle": "2023-08-12T19:06:21.404967Z",
     "shell.execute_reply": "2023-08-12T19:06:21.403901Z"
    },
    "papermill": {
     "duration": 0.121009,
     "end_time": "2023-08-12T19:06:21.407181",
     "exception": false,
     "start_time": "2023-08-12T19:06:21.286172",
     "status": "completed"
    },
    "tags": []
   },
   "outputs": [
    {
     "data": {
      "text/plain": [
       "((55315, 1),\n",
       "                                           reviewText\n",
       " 0  Green slowly cranks up the dread with style an...\n",
       " 1  Philip Noyce's direction is elegant and unforc...\n",
       " 2  It wouldn't do to say what path Maria ultimate...\n",
       " 3  Pig is not exactly the arthouse John Wick that...\n",
       " 4  An imaginative no-budget musical of sorts abou...)"
      ]
     },
     "execution_count": 83,
     "metadata": {},
     "output_type": "execute_result"
    }
   ],
   "source": [
    "rt_test = pd.DataFrame(merged_test[\"reviewText\"].copy())\n",
    "rt_test.shape, rt_test.head()"
   ]
  },
  {
   "cell_type": "code",
   "execution_count": 84,
   "id": "38703460",
   "metadata": {
    "execution": {
     "iopub.execute_input": "2023-08-12T19:06:21.616437Z",
     "iopub.status.busy": "2023-08-12T19:06:21.616038Z",
     "iopub.status.idle": "2023-08-12T19:06:21.622178Z",
     "shell.execute_reply": "2023-08-12T19:06:21.621073Z"
    },
    "papermill": {
     "duration": 0.112326,
     "end_time": "2023-08-12T19:06:21.624335",
     "exception": false,
     "start_time": "2023-08-12T19:06:21.512009",
     "status": "completed"
    },
    "tags": []
   },
   "outputs": [],
   "source": [
    "def get_vocab(text_df, ngram_range=(1,1)):\n",
    "    print(f\"Generating vocabulary for ngram_range: {ngram_range}...\")\n",
    "    tvec1 = CountVectorizer(ngram_range=ngram_range, stop_words='english', strip_accents='unicode')\n",
    "    tvec1.fit(text_df)\n",
    "    voc_ngram = set(tvec1.vocabulary_.keys())\n",
    "    return voc_ngram"
   ]
  },
  {
   "cell_type": "code",
   "execution_count": 85,
   "id": "6c130ba6",
   "metadata": {
    "execution": {
     "iopub.execute_input": "2023-08-12T19:06:21.829341Z",
     "iopub.status.busy": "2023-08-12T19:06:21.828679Z",
     "iopub.status.idle": "2023-08-12T19:06:21.838159Z",
     "shell.execute_reply": "2023-08-12T19:06:21.837408Z"
    },
    "papermill": {
     "duration": 0.114723,
     "end_time": "2023-08-12T19:06:21.840338",
     "exception": false,
     "start_time": "2023-08-12T19:06:21.725615",
     "status": "completed"
    },
    "tags": []
   },
   "outputs": [],
   "source": [
    "def get_common_vocab(df_list: list, ngram_range_list: list):\n",
    "    \"\"\"\n",
    "    Get common vocabulary from a list of dataframes.\n",
    "    \"\"\"\n",
    "    final_common_vocab = set()\n",
    "    # Get vocabulary from each dataframe for a given ngram-range\n",
    "    for ngram_range in ngram_range_list:\n",
    "        vocab_ngram = set()\n",
    "        for num, df in enumerate(df_list, start=1):\n",
    "            print(f\"Working on DF#{num} in the list of DFs provided\")\n",
    "            vocab_ngram_df = set(get_vocab(df['reviewText'], ngram_range))\n",
    "            print(f\"Vocabulary size for ngram-range {ngram_range} in DF#{num}: {len(vocab_ngram_df)}\\n\")\n",
    "            if len(vocab_ngram) > 0:\n",
    "                print(f\"Keeping only the common (intersection) words for ngram-range {ngram_range}...\")\n",
    "                vocab_ngram = vocab_ngram.intersection(vocab_ngram_df)\n",
    "            else:\n",
    "                print(f\"Words from the first df for ngram-range {ngram_range} added.\\n\")\n",
    "                vocab_ngram = vocab_ngram_df\n",
    "        print(f\"Common vocabulary for ngram-range {ngram_range}: {len(vocab_ngram)}\\n\")\n",
    "        \n",
    "        if len(final_common_vocab) > 0:\n",
    "            print(f\"Fusing (union) with final common vocabulary: ngram-range = {ngram_range}.\\n\")\n",
    "            final_common_vocab = final_common_vocab.union(vocab_ngram)\n",
    "        else:\n",
    "            print(f\"Appended first time to final common vocabulary: ngram-range = {ngram_range}.\\n\")\n",
    "            final_common_vocab = vocab_ngram\n",
    "    return final_common_vocab"
   ]
  },
  {
   "cell_type": "code",
   "execution_count": 86,
   "id": "4e18afc9",
   "metadata": {
    "execution": {
     "iopub.execute_input": "2023-08-12T19:06:22.044620Z",
     "iopub.status.busy": "2023-08-12T19:06:22.043985Z",
     "iopub.status.idle": "2023-08-12T19:06:22.048317Z",
     "shell.execute_reply": "2023-08-12T19:06:22.047540Z"
    },
    "papermill": {
     "duration": 0.10884,
     "end_time": "2023-08-12T19:06:22.050430",
     "exception": false,
     "start_time": "2023-08-12T19:06:21.941590",
     "status": "completed"
    },
    "tags": []
   },
   "outputs": [],
   "source": [
    "# voc_1gram = get_vocab(rt_senti[\"reviewText\"], ngram_range=(1,1))\n",
    "# len(voc_1gram), voc_1gram[:10]"
   ]
  },
  {
   "cell_type": "code",
   "execution_count": 87,
   "id": "f96eb960",
   "metadata": {
    "execution": {
     "iopub.execute_input": "2023-08-12T19:06:22.259459Z",
     "iopub.status.busy": "2023-08-12T19:06:22.258811Z",
     "iopub.status.idle": "2023-08-12T19:06:22.263158Z",
     "shell.execute_reply": "2023-08-12T19:06:22.262355Z"
    },
    "papermill": {
     "duration": 0.110463,
     "end_time": "2023-08-12T19:06:22.265318",
     "exception": false,
     "start_time": "2023-08-12T19:06:22.154855",
     "status": "completed"
    },
    "tags": []
   },
   "outputs": [],
   "source": [
    "# voc_2gram = get_vocab(rt_senti[\"reviewText\"], ngram_range=(2,2))\n",
    "# len(voc_2gram), voc_2gram[:10]"
   ]
  },
  {
   "cell_type": "code",
   "execution_count": 88,
   "id": "ef7f34cf",
   "metadata": {
    "execution": {
     "iopub.execute_input": "2023-08-12T19:06:22.472251Z",
     "iopub.status.busy": "2023-08-12T19:06:22.471570Z",
     "iopub.status.idle": "2023-08-12T19:06:22.475933Z",
     "shell.execute_reply": "2023-08-12T19:06:22.475153Z"
    },
    "papermill": {
     "duration": 0.111374,
     "end_time": "2023-08-12T19:06:22.478065",
     "exception": false,
     "start_time": "2023-08-12T19:06:22.366691",
     "status": "completed"
    },
    "tags": []
   },
   "outputs": [],
   "source": [
    "# voc_3gram = get_vocab(rt_senti[\"reviewText\"], ngram_range=(3,3))\n",
    "# len(voc_3gram), voc_3gram[:10]"
   ]
  },
  {
   "cell_type": "code",
   "execution_count": 89,
   "id": "656a1060",
   "metadata": {
    "execution": {
     "iopub.execute_input": "2023-08-12T19:06:22.683154Z",
     "iopub.status.busy": "2023-08-12T19:06:22.682302Z",
     "iopub.status.idle": "2023-08-12T19:06:22.687203Z",
     "shell.execute_reply": "2023-08-12T19:06:22.686306Z"
    },
    "papermill": {
     "duration": 0.109522,
     "end_time": "2023-08-12T19:06:22.689414",
     "exception": false,
     "start_time": "2023-08-12T19:06:22.579892",
     "status": "completed"
    },
    "tags": []
   },
   "outputs": [],
   "source": [
    "# common_unigrams = get_common_vocab([rt_senti, rt_test], ngram_range_list=[(1,1)])\n",
    "# print(len(common_unigrams))\n",
    "# # sorted(list(common_unigrams))"
   ]
  },
  {
   "cell_type": "code",
   "execution_count": 90,
   "id": "95332a3a",
   "metadata": {
    "execution": {
     "iopub.execute_input": "2023-08-12T19:06:22.892831Z",
     "iopub.status.busy": "2023-08-12T19:06:22.892436Z",
     "iopub.status.idle": "2023-08-12T19:06:22.896994Z",
     "shell.execute_reply": "2023-08-12T19:06:22.895771Z"
    },
    "papermill": {
     "duration": 0.108999,
     "end_time": "2023-08-12T19:06:22.899368",
     "exception": false,
     "start_time": "2023-08-12T19:06:22.790369",
     "status": "completed"
    },
    "tags": []
   },
   "outputs": [],
   "source": [
    "# common_bigrams = get_common_vocab([rt_senti, rt_test], ngram_range_list=[(2,2)])\n",
    "# print(len(common_bigrams))\n",
    "# # # common_bigrams"
   ]
  },
  {
   "cell_type": "code",
   "execution_count": 91,
   "id": "492ccd16",
   "metadata": {
    "execution": {
     "iopub.execute_input": "2023-08-12T19:06:23.106311Z",
     "iopub.status.busy": "2023-08-12T19:06:23.105899Z",
     "iopub.status.idle": "2023-08-12T19:06:23.110248Z",
     "shell.execute_reply": "2023-08-12T19:06:23.109471Z"
    },
    "papermill": {
     "duration": 0.112132,
     "end_time": "2023-08-12T19:06:23.112388",
     "exception": false,
     "start_time": "2023-08-12T19:06:23.000256",
     "status": "completed"
    },
    "tags": []
   },
   "outputs": [],
   "source": [
    "# common_1_2_grams = get_common_vocab([rt_senti, rt_test], ngram_range_list=[(1,1), (2,2)])\n",
    "# print(len(common_1_2_grams))\n",
    "# # sorted(list(common_1_2_grams))\n",
    "\n",
    "# # common_1_2_grams = common_unigrams | common_bigrams    # older code"
   ]
  },
  {
   "cell_type": "code",
   "execution_count": 92,
   "id": "30dcfc38",
   "metadata": {
    "execution": {
     "iopub.execute_input": "2023-08-12T19:06:23.317265Z",
     "iopub.status.busy": "2023-08-12T19:06:23.316323Z",
     "iopub.status.idle": "2023-08-12T19:06:23.320303Z",
     "shell.execute_reply": "2023-08-12T19:06:23.319568Z"
    },
    "papermill": {
     "duration": 0.107813,
     "end_time": "2023-08-12T19:06:23.322311",
     "exception": false,
     "start_time": "2023-08-12T19:06:23.214498",
     "status": "completed"
    },
    "tags": []
   },
   "outputs": [],
   "source": [
    "# common_trigrams = get_common_vocab([rt_senti, rt_test], ngram_range_list=[(3,3)])\n",
    "# print(len(common_trigrams))\n",
    "# # common_trigrams"
   ]
  },
  {
   "cell_type": "code",
   "execution_count": 93,
   "id": "e69a4eec",
   "metadata": {
    "execution": {
     "iopub.execute_input": "2023-08-12T19:06:23.527824Z",
     "iopub.status.busy": "2023-08-12T19:06:23.527178Z",
     "iopub.status.idle": "2023-08-12T19:06:23.531190Z",
     "shell.execute_reply": "2023-08-12T19:06:23.530409Z"
    },
    "papermill": {
     "duration": 0.109044,
     "end_time": "2023-08-12T19:06:23.533186",
     "exception": false,
     "start_time": "2023-08-12T19:06:23.424142",
     "status": "completed"
    },
    "tags": []
   },
   "outputs": [],
   "source": [
    "# common_1_2_3_grams = get_common_vocab([rt_senti, rt_test], ngram_range_list=[(1,1), (2,2), (3,3)])\n",
    "# print(len(common_1_2_3_grams))\n",
    "# # sorted((common_1_2_3_grams))\n",
    "\n",
    "# # common_1_2_3_grams = common_unigrams | common_bigrams | common_trigrams    # Older code  "
   ]
  },
  {
   "cell_type": "markdown",
   "id": "c069c74d",
   "metadata": {
    "papermill": {
     "duration": 0.101772,
     "end_time": "2023-08-12T19:06:23.736455",
     "exception": false,
     "start_time": "2023-08-12T19:06:23.634683",
     "status": "completed"
    },
    "tags": []
   },
   "source": [
    "### Find common vocabulary between text with positive and negative sentiments in training dataset  "
   ]
  },
  {
   "cell_type": "code",
   "execution_count": 94,
   "id": "e9db2016",
   "metadata": {
    "execution": {
     "iopub.execute_input": "2023-08-12T19:06:23.942345Z",
     "iopub.status.busy": "2023-08-12T19:06:23.940310Z",
     "iopub.status.idle": "2023-08-12T19:06:23.990121Z",
     "shell.execute_reply": "2023-08-12T19:06:23.988987Z"
    },
    "papermill": {
     "duration": 0.154981,
     "end_time": "2023-08-12T19:06:23.992625",
     "exception": false,
     "start_time": "2023-08-12T19:06:23.837644",
     "status": "completed"
    },
    "tags": []
   },
   "outputs": [
    {
     "data": {
      "text/plain": [
       "(108761, 2)"
      ]
     },
     "execution_count": 94,
     "metadata": {},
     "output_type": "execute_result"
    }
   ],
   "source": [
    "# Dataframe for positive sentiment\n",
    "rt_senti_pos = rt_senti.loc[rt_senti['sentiment'] == 'POSITIVE'].copy()\n",
    "rt_senti_pos.shape"
   ]
  },
  {
   "cell_type": "code",
   "execution_count": 95,
   "id": "eb1fcb2f",
   "metadata": {
    "execution": {
     "iopub.execute_input": "2023-08-12T19:06:24.202147Z",
     "iopub.status.busy": "2023-08-12T19:06:24.201763Z",
     "iopub.status.idle": "2023-08-12T19:06:24.245030Z",
     "shell.execute_reply": "2023-08-12T19:06:24.243786Z"
    },
    "papermill": {
     "duration": 0.150986,
     "end_time": "2023-08-12T19:06:24.247484",
     "exception": false,
     "start_time": "2023-08-12T19:06:24.096498",
     "status": "completed"
    },
    "tags": []
   },
   "outputs": [
    {
     "data": {
      "text/plain": [
       "(53997, 2)"
      ]
     },
     "execution_count": 95,
     "metadata": {},
     "output_type": "execute_result"
    }
   ],
   "source": [
    "# Dataframe for negative sentiment\n",
    "rt_senti_neg = rt_senti.loc[rt_senti['sentiment'] == 'NEGATIVE'].copy()\n",
    "rt_senti_neg.shape"
   ]
  },
  {
   "cell_type": "code",
   "execution_count": 96,
   "id": "223e7780",
   "metadata": {
    "execution": {
     "iopub.execute_input": "2023-08-12T19:06:24.512972Z",
     "iopub.status.busy": "2023-08-12T19:06:24.512551Z",
     "iopub.status.idle": "2023-08-12T19:06:24.517163Z",
     "shell.execute_reply": "2023-08-12T19:06:24.516281Z"
    },
    "papermill": {
     "duration": 0.168781,
     "end_time": "2023-08-12T19:06:24.519300",
     "exception": false,
     "start_time": "2023-08-12T19:06:24.350519",
     "status": "completed"
    },
    "tags": []
   },
   "outputs": [],
   "source": [
    "# Generate stop words/phrases specific for this project data  \n",
    "\n",
    "# common_1_2_3_grams_sentiment = get_common_vocab([rt_senti_pos, rt_senti_neg], ngram_range_list=[(1,1), (2,2), (3,3)])\n",
    "# print(len(common_1_2_3_grams_sentiment))\n",
    "# # sorted(list(common_1_2_3_grams_sentiment))"
   ]
  },
  {
   "cell_type": "code",
   "execution_count": 97,
   "id": "b8cee0a7",
   "metadata": {
    "execution": {
     "iopub.execute_input": "2023-08-12T19:06:24.723863Z",
     "iopub.status.busy": "2023-08-12T19:06:24.723411Z",
     "iopub.status.idle": "2023-08-12T19:06:24.727910Z",
     "shell.execute_reply": "2023-08-12T19:06:24.726760Z"
    },
    "papermill": {
     "duration": 0.109606,
     "end_time": "2023-08-12T19:06:24.730347",
     "exception": false,
     "start_time": "2023-08-12T19:06:24.620741",
     "status": "completed"
    },
    "tags": []
   },
   "outputs": [],
   "source": [
    "# Generate and store the entire vocabulary of training data  \n",
    "\n",
    "# train_1_2_3_grams = get_vocab(rt_senti['reviewText'], ngram_range=(1,3))\n",
    "# print(len(train_1_2_3_grams))\n",
    "# # sorted(train_1_2_3_grams)"
   ]
  },
  {
   "cell_type": "code",
   "execution_count": 98,
   "id": "0018838d",
   "metadata": {
    "execution": {
     "iopub.execute_input": "2023-08-12T19:06:24.937643Z",
     "iopub.status.busy": "2023-08-12T19:06:24.937226Z",
     "iopub.status.idle": "2023-08-12T19:06:24.941641Z",
     "shell.execute_reply": "2023-08-12T19:06:24.940562Z"
    },
    "papermill": {
     "duration": 0.110332,
     "end_time": "2023-08-12T19:06:24.944084",
     "exception": false,
     "start_time": "2023-08-12T19:06:24.833752",
     "status": "completed"
    },
    "tags": []
   },
   "outputs": [],
   "source": [
    "# type(train_1_2_3_grams)"
   ]
  },
  {
   "cell_type": "code",
   "execution_count": 99,
   "id": "f9a968bb",
   "metadata": {
    "execution": {
     "iopub.execute_input": "2023-08-12T19:06:25.150373Z",
     "iopub.status.busy": "2023-08-12T19:06:25.149563Z",
     "iopub.status.idle": "2023-08-12T19:06:25.154101Z",
     "shell.execute_reply": "2023-08-12T19:06:25.153349Z"
    },
    "papermill": {
     "duration": 0.110896,
     "end_time": "2023-08-12T19:06:25.156166",
     "exception": false,
     "start_time": "2023-08-12T19:06:25.045270",
     "status": "completed"
    },
    "tags": []
   },
   "outputs": [],
   "source": [
    "# Get the vocabulary that should be used in the final models  \n",
    "# relevant_vocab = train_1_2_3_grams - common_1_2_3_grams_sentiment\n",
    "# print(len(relevant_vocab))"
   ]
  },
  {
   "cell_type": "markdown",
   "id": "ff601504",
   "metadata": {
    "papermill": {
     "duration": 0.100961,
     "end_time": "2023-08-12T19:06:25.359004",
     "exception": false,
     "start_time": "2023-08-12T19:06:25.258043",
     "status": "completed"
    },
    "tags": []
   },
   "source": [
    "## Submit_v4 for merged file models  "
   ]
  },
  {
   "cell_type": "markdown",
   "id": "37881add",
   "metadata": {
    "papermill": {
     "duration": 0.101275,
     "end_time": "2023-08-12T19:06:25.561883",
     "exception": false,
     "start_time": "2023-08-12T19:06:25.460608",
     "status": "completed"
    },
    "tags": []
   },
   "source": [
    "### More Helper functions  "
   ]
  },
  {
   "cell_type": "code",
   "execution_count": 100,
   "id": "9e5a193f",
   "metadata": {
    "execution": {
     "iopub.execute_input": "2023-08-12T19:06:25.767434Z",
     "iopub.status.busy": "2023-08-12T19:06:25.766419Z",
     "iopub.status.idle": "2023-08-12T19:06:25.774042Z",
     "shell.execute_reply": "2023-08-12T19:06:25.773272Z"
    },
    "papermill": {
     "duration": 0.113058,
     "end_time": "2023-08-12T19:06:25.776202",
     "exception": false,
     "start_time": "2023-08-12T19:06:25.663144",
     "status": "completed"
    },
    "tags": []
   },
   "outputs": [],
   "source": [
    "# Testing predictions on missing reviewtext columns  \n",
    "\n",
    "def predict_on_missing_review_data(pipe, selected_features, merged_train):\n",
    "    missing_reviews_train = merged_train.loc[merged_train['reviewYN'] == 1]\n",
    "    missing_reviews_train.reset_index(drop=True)\n",
    "    X_train_miss_revs = missing_reviews_train.drop('sentiment', axis = 1)\n",
    "    X_train_miss_revs = X_train_miss_revs[selected_features]\n",
    "    y_train_miss_revs = missing_reviews_train['sentiment']\n",
    "    \n",
    "    y_pred_miss_revs = pipe.predict(X_train_miss_revs)\n",
    "#     print('Predictions on rows which had missing reviewText')\n",
    "    print(\"Confusion matrix and f1-score for rows which have no reviewText in X_train: \")\n",
    "    print(confusion_matrix(y_train_miss_revs, y_pred_miss_revs, labels=pipe.classes_))\n",
    "    \n",
    "    return f1_score(y_train_miss_revs, y_pred_miss_revs, average='micro')"
   ]
  },
  {
   "cell_type": "code",
   "execution_count": 101,
   "id": "1192dce1",
   "metadata": {
    "execution": {
     "iopub.execute_input": "2023-08-12T19:06:25.981471Z",
     "iopub.status.busy": "2023-08-12T19:06:25.980368Z",
     "iopub.status.idle": "2023-08-12T19:06:26.012346Z",
     "shell.execute_reply": "2023-08-12T19:06:26.011180Z"
    },
    "papermill": {
     "duration": 0.137673,
     "end_time": "2023-08-12T19:06:26.015078",
     "exception": false,
     "start_time": "2023-08-12T19:06:25.877405",
     "status": "completed"
    },
    "tags": []
   },
   "outputs": [],
   "source": [
    "# Function to build pipelines for GridSearchCV which goes into the final 'submit' function  \n",
    "def build_pipeline(selected_model=LogisticRegression(), \n",
    "                   selected_features={'txt': ['reviewText']}, \n",
    "                   param_grid=None,\n",
    "                   vocab=None,\n",
    "                   vocab_usage='tfidf',\n",
    "                   strip_accents='unicode', \n",
    "                   add_countvec=False):\n",
    "    # Encoders  \n",
    "    ohe = OneHotEncoder(sparse_output=False, handle_unknown='ignore')\n",
    "    MMscaler = MinMaxScaler()\n",
    "    StdScaler = StandardScaler()\n",
    "    RobScaler = RobustScaler()\n",
    "    \n",
    "    # Text features ['reviewText', 'reviewerName', 'movieid', 'genre', 'director']\n",
    "    tfidf_vec = TfidfVectorizer(ngram_range=(1,2))\n",
    "    count_vec = CountVectorizer(ngram_range=(1,2))\n",
    "    txt_pipe = Pipeline(steps=[\n",
    "                            (\"tvec\", TfidfVectorizer(ngram_range=(1,3), strip_accents=strip_accents))    # Adjust ngram_range here for reviewText\n",
    "                        ])\n",
    "    txt_pipe_vocab = Pipeline(steps=[\n",
    "                            (\"tvec\", TfidfVectorizer(ngram_range=(1,3), strip_accents=strip_accents, vocabulary=vocab))    # Adjust ngram_range here for reviewText\n",
    "                        ])\n",
    "    txt_pipe_2 = Pipeline(steps=[\n",
    "                            (\"tvec\", TfidfVectorizer(ngram_range=(2,2)))\n",
    "                        ])\n",
    "    txt_pipe_3 = Pipeline(steps=[\n",
    "                            (\"tvec\", TfidfVectorizer(ngram_range=(1,1)))\n",
    "                        ])\n",
    "    txt_pipe_4 = Pipeline(steps=[\n",
    "                            (\"tvec\", TfidfVectorizer(ngram_range=(1,3)))    # Adjust ngram_range here for reviewText\n",
    "                        ])\n",
    "    txt_pipe_title  = Pipeline(steps=[\n",
    "                            (\"tvec\", TfidfVectorizer(ngram_range=(1,5)))    # Adjust ngram_range here for reviewText\n",
    "                        ])\n",
    "    \n",
    "    # Additional pipes for count vectorizer\n",
    "    txt_pipe_countvec = Pipeline(steps=[\n",
    "                            (\"cvec\", CountVectorizer(ngram_range=(1,3), strip_accents=strip_accents))    # Adjust ngram_range here for reviewText\n",
    "                        ])\n",
    "    txt_pipe_countvec_vocab = Pipeline(steps=[\n",
    "                            (\"cvec\", CountVectorizer(ngram_range=(1,3), strip_accents=strip_accents, vocabulary=vocab))    # Adjust ngram_range here for reviewText\n",
    "                        ])\n",
    "    \n",
    "    txt_pipe_countvec_ratingContents = Pipeline(steps=[\n",
    "                            (\"cvec\", CountVectorizer(ngram_range=(1,5)))    # Adjust ngram_range here for reviewText\n",
    "                        ])\n",
    "    txt_pipe_countvec_rcSorted = Pipeline(steps=[\n",
    "                            (\"cvec\", CountVectorizer(ngram_range=(1,1)))    # Adjust ngram_range here for reviewText\n",
    "                        ])\n",
    "    txt_pipe_countvec_genre = Pipeline(steps=[\n",
    "                            (\"cvec\", CountVectorizer(ngram_range=(1,1)))\n",
    "                        ])\n",
    "    txt_pipe_countvec_genreSorted = Pipeline(steps=[\n",
    "                            (\"cvec\", CountVectorizer(ngram_range=(1,5)))\n",
    "                        ])\n",
    "    txt_pipe_countvec_distributor = Pipeline(steps=[\n",
    "                            (\"cvec\", CountVectorizer(ngram_range=(1,3)))    # Adjust ngram_range here for reviewText\n",
    "                        ])\n",
    "    txt_pipe_countvec_title = Pipeline(steps=[\n",
    "                            (\"cvec\", CountVectorizer(ngram_range=(1,5), strip_accents=strip_accents))\n",
    "                        ])\n",
    "    txt_pipe_countvec_movieid = Pipeline(steps=[\n",
    "                            (\"cvec\", CountVectorizer(ngram_range=(1,1)))\n",
    "                        ])\n",
    "    # Basic pipes  \n",
    "    TFs = []\n",
    "    try:\n",
    "        for c in selected_features['cat']:\n",
    "            TFs.append((f\"cat_{c}\", ohe, [c]))\n",
    "    except:\n",
    "        pass\n",
    "    try:\n",
    "        for n in selected_features['num']:\n",
    "            if n in [\"runtimeMinutes\", \"boxOffice\", \"releaseDiff\"]:\n",
    "                TFs.append((f\"num_{n}\", RobScaler, [n]))\n",
    "                TFs.append((f\"num_{n}_ss\", StdScaler, [n]))\n",
    "                \n",
    "            else:\n",
    "                TFs.append((f\"num_{n}\", StdScaler, [n]))\n",
    "    except:\n",
    "        pass\n",
    "    try:\n",
    "        for t in selected_features['txt']:\n",
    "            if t in ['director', 'reviewerName']:\n",
    "                TFs.append((f\"txt_{t}\", txt_pipe_2, t))\n",
    "            elif t in [\"originalLanguage\", \"releaseYear\"]:\n",
    "                TFs.append((f\"txt_{t}\", txt_pipe_3, t))\n",
    "            elif t in ['genre']:\n",
    "                TFs.append((f\"txt_{t}\", txt_pipe_countvec_genre, t))\n",
    "            elif t in [\"genreSorted\"]:\n",
    "                TFs.append((f\"txt_{t}\", txt_pipe_countvec_genreSorted, t))\n",
    "            elif t in [\"distributor\"]:\n",
    "                TFs.append((f\"txt_{t}\", txt_pipe_countvec_distributor, t))\n",
    "            elif t in ['reviewText']:\n",
    "#                 if vocab and (vocab_usage in [\"tfidf\", \"both\"]):\n",
    "#                     txt_pipe.set_params(tvec__vocabulary=vocab)\n",
    "#                     txt_pipe.set_params(tvec__stop_words='english')\n",
    "                TFs.append((f\"txt_{t}\", txt_pipe, t))\n",
    "            elif t in ['reviewText_2']:\n",
    "                if add_countvec:\n",
    "#                     if vocab and (vocab_usage in [\"count\", \"both\"]):\n",
    "#                         txt_pipe_countvec.set_params(cvec__vocabulary=vocab)\n",
    "#                         txt_pipe_countvec.set_params(cvec__stop_words='english')\n",
    "                    TFs.append((f\"txt_{t}\", txt_pipe_countvec, t))\n",
    "            elif t in ['reviewText_3']:\n",
    "                if vocab_usage == 'tfidf':\n",
    "                    TFs.append((f\"txt_{t}\", txt_pipe_vocab, t))\n",
    "                elif vocab_usage == 'count':\n",
    "                    TFs.append((f\"txt_{t}\", txt_pipe_countvec_vocab, t))\n",
    "            elif t in [\"ratingContents\"]:\n",
    "                TFs.append((f\"txt_{t}\", txt_pipe_countvec_ratingContents, t))\n",
    "            elif t in [\"rcSorted\"]:\n",
    "                TFs.append((f\"txt_{t}\", txt_pipe_countvec_rcSorted, t))\n",
    "            elif t in [\"title\"]:\n",
    "                TFs.append((f\"txt_{t}\", txt_pipe_title, t))\n",
    "            elif t in [\"movieid\"]:\n",
    "                TFs.append((f\"txt_{t}\", txt_pipe_countvec_movieid, t))\n",
    "            else:\n",
    "                pass\n",
    "    except:\n",
    "        pass\n",
    "\n",
    "    # Build ColumnTransformer  \n",
    "    ct = ColumnTransformer(transformers=TFs, remainder='drop')\n",
    "\n",
    "    # Build Pipeline\n",
    "    pipe = Pipeline(steps=[('ct', ct), ('model', selected_model)])\n",
    "    print(\"\\nPipeline built successfully.\")\n",
    "\n",
    "    # Use the pipe in GridSearchCV\n",
    "    if param_grid == None:\n",
    "        param_grid_temp = {\"model__C\": [1],\n",
    "                     'model__solver': ['liblinear']}\n",
    "        print(\"Full GridSearchCV pipeline built successfully with basic default param_grid.\\n\")\n",
    "        pipeCV = GridSearchCV(pipe, param_grid_temp, cv=10, scoring=\"f1_micro\", n_jobs=-1)\n",
    "        return pipeCV\n",
    "    \n",
    "    # GridSearchCV if param_grid provided\n",
    "    if param_grid:\n",
    "        pipeCV = GridSearchCV(pipe, param_grid, cv=10, scoring=\"f1_micro\", n_jobs=-1)\n",
    "        print(\"\\nFull GridSearchCV pipeline built successfully.\")\n",
    "        return pipeCV"
   ]
  },
  {
   "cell_type": "code",
   "execution_count": 102,
   "id": "d1bdfed1",
   "metadata": {
    "execution": {
     "iopub.execute_input": "2023-08-12T19:06:26.226413Z",
     "iopub.status.busy": "2023-08-12T19:06:26.225683Z",
     "iopub.status.idle": "2023-08-12T19:06:26.243318Z",
     "shell.execute_reply": "2023-08-12T19:06:26.242160Z"
    },
    "papermill": {
     "duration": 0.125098,
     "end_time": "2023-08-12T19:06:26.246049",
     "exception": false,
     "start_time": "2023-08-12T19:06:26.120951",
     "status": "completed"
    },
    "tags": []
   },
   "outputs": [],
   "source": [
    "def preprocessor(imputer_type='simple'):\n",
    "    \n",
    "    \"\"\"Preprocess train or test data. Choose 'simple' or 'knn' imputers to impute missing numerical values\"\"\"\n",
    "    \n",
    "    # Set imputer  \n",
    "    if imputer_type == 'simple':\n",
    "        imputer = SimpleImputer(strategy='median')\n",
    "        print(imputer)\n",
    "    elif imputer_type == 'knn':\n",
    "        imputer = KNNImputer(weights='distance', n_neighbors=3)    # Adjust KNNImputer params here\n",
    "        print(imputer)\n",
    "\n",
    "\n",
    "    \n",
    "    # Merge and preprocess train and movies data  \n",
    "    merged = select_features(load_csv(\"train\"), load_csv(\"movies\"), row_thresh_null=None)    # Decide if you want to drop any rows containing lot of nulls\n",
    "    \n",
    "    # Impute missing numerical values  \n",
    "    merged[['audienceScore', 'runtimeMinutes', 'boxOffice']] = imputer.fit_transform(merged[['audienceScore', 'runtimeMinutes', 'boxOffice']])\n",
    "    merged['releaseDate'] = merged[\"releaseDate\"].fillna(merged[\"releaseDate\"].median())\n",
    "\n",
    "    # Create new feature columns\n",
    "    \n",
    "    # Convert audienceScore to categories  \n",
    "    num_bins_as = 20\n",
    "    merged[\"audScoreBins\"] = pd.cut(merged['audienceScore'], bins=num_bins_as, labels=False)\n",
    "\n",
    "    # Convert runtimeMinutes to categories  \n",
    "#     num_bins_rt = 20\n",
    "    merged[\"runtimeBins\"] = pd.cut(merged['runtimeMinutes'], bins=[0,75,120,180,565], labels=[4,3,2,1])\n",
    "    \n",
    "    # Convert boxOffice to categories  \n",
    "    num_bins_bo = 5\n",
    "    merged[\"boxOfficeBins\"] = pd.cut(merged['boxOffice'], bins=num_bins_bo, labels=False)\n",
    "    \n",
    "    # Convert releaseDiff to categories  \n",
    "    num_bins_rd = 5\n",
    "    merged[\"releaseDiffBins\"] = pd.cut(merged['releaseDiff'], bins=[-1, 180, 360, 1000, 40000], labels=[0, 1, 2, 3])\n",
    "    \n",
    "    # Check1 (preprocessor)\n",
    "    print(\"\\nCheck 1 (preprocessor) complete.\")\n",
    "    print(f\"Shape of X_train: {merged.shape}\")\n",
    "    print(f\"Features in X_train: {merged.columns}\")\n",
    "\n",
    "\n",
    "    \n",
    "    # Merge and preprocess test and movies data  \n",
    "    merged_test = select_features(load_csv(\"test\"), load_csv(\"movies\"))\n",
    "    \n",
    "    # Transform ['audienceScore', 'runtimeMinutes', 'boxOffice'] columns in merged_test using 'imputer' fitted on 'merged' df  \n",
    "    merged_test[['audienceScore', 'runtimeMinutes', 'boxOffice']] = imputer.transform(merged_test[['audienceScore', 'runtimeMinutes', 'boxOffice']])\n",
    "    \n",
    "    # Fill 'releaseDate' column in 'merged_test' df with median from the train (merged) df  \n",
    "    merged_test['releaseDate'] = merged_test[\"releaseDate\"].fillna(merged[\"releaseDate\"].median())\n",
    "\n",
    "    \n",
    "    # Create new feature columns\n",
    "    \n",
    "    # Convert audienceScore to categories  \n",
    "    num_bins_as = 20\n",
    "    merged_test[\"audScoreBins\"] = pd.cut(merged_test['audienceScore'], bins=num_bins_as, labels=False)\n",
    "    \n",
    "    # Convert runtimeMinutes to categories  \n",
    "#     num_bins_rt = 20\n",
    "    merged_test[\"runtimeBins\"] = pd.cut(merged_test['runtimeMinutes'], bins=[0,75,120,180,565], labels=[4,3,2,1])\n",
    "    \n",
    "    # Convert boxOffice to categories  \n",
    "    num_bins_bo = 5\n",
    "    merged_test[\"boxOfficeBins\"] = pd.cut(merged_test['boxOffice'], bins=num_bins_bo, labels=False)\n",
    "    \n",
    "    # Convert releaseDiff to categories  \n",
    "    num_bins_rd = 5\n",
    "    merged_test[\"releaseDiffBins\"] = pd.cut(merged_test['releaseDiff'], bins=[-1, 180, 360, 1000, 40000], labels=[0, 1, 2, 3])\n",
    "    \n",
    "    \n",
    "    # Check2 (preprocessor)\n",
    "    print(\"\\nCheck 2 (preprocessor) complete.\")\n",
    "    print(f\"Shape of X_test: {merged_test.shape}\")\n",
    "    print(f\"Features in X_test: {merged_test.columns}\")\n",
    "\n",
    "    return merged, merged_test\n",
    "    "
   ]
  },
  {
   "cell_type": "code",
   "execution_count": 103,
   "id": "8f822273",
   "metadata": {
    "execution": {
     "iopub.execute_input": "2023-08-12T19:06:26.454535Z",
     "iopub.status.busy": "2023-08-12T19:06:26.453372Z",
     "iopub.status.idle": "2023-08-12T19:06:26.457939Z",
     "shell.execute_reply": "2023-08-12T19:06:26.456996Z"
    },
    "papermill": {
     "duration": 0.111161,
     "end_time": "2023-08-12T19:06:26.460010",
     "exception": false,
     "start_time": "2023-08-12T19:06:26.348849",
     "status": "completed"
    },
    "tags": []
   },
   "outputs": [],
   "source": [
    "# merged, merged_test = preprocessor()\n",
    "# merged.shape, merged_test.shape"
   ]
  },
  {
   "cell_type": "code",
   "execution_count": 104,
   "id": "c137bc71",
   "metadata": {
    "execution": {
     "iopub.execute_input": "2023-08-12T19:06:26.665290Z",
     "iopub.status.busy": "2023-08-12T19:06:26.664611Z",
     "iopub.status.idle": "2023-08-12T19:06:26.691955Z",
     "shell.execute_reply": "2023-08-12T19:06:26.691076Z"
    },
    "papermill": {
     "duration": 0.13263,
     "end_time": "2023-08-12T19:06:26.694389",
     "exception": false,
     "start_time": "2023-08-12T19:06:26.561759",
     "status": "completed"
    },
    "tags": []
   },
   "outputs": [],
   "source": [
    "def submit_v5(classifiers= [\n",
    "                {'selected_model' : LogisticRegression(C=1, solver='saga', max_iter=100000),\n",
    "                 'param_grid' : None,\n",
    "                 'selected_features' : {'num': ['audienceScore']},\n",
    "                 'vocab' : None,\n",
    "                 'vocab_usage' : 'tfidf',\n",
    "                 'strip_accents' : 'unicode',\n",
    "                 'add_countvec' : False}\n",
    "              ], \n",
    "            imputer_type='simple'\n",
    "            ):\n",
    "    \n",
    "    \"\"\"Takes a list of dictionaries each with same keys as mentioned in the default dictionary in function definition\"\"\"\n",
    "    \n",
    "    print(\"\\nRunning the submit_v5 function...\")\n",
    "    \n",
    "    print(f\"\\nData preprocessor initiated...\")\n",
    "    \n",
    "    imputer_type = imputer_type\n",
    "    print(f\"\\nImputer for missing numerical values: {imputer_type}\")\n",
    "    print(f\"Imputing missing values. (This could take a while if it is KNNImputer)\")\n",
    "    \n",
    "    merged, merged_test = preprocessor(imputer_type=imputer_type)\n",
    "    print(f\"\\nPreprocessing of train and test datasets complete.\")\n",
    "    \n",
    "    # Build vocabulary (if vocab is True)\n",
    "    vocab = None\n",
    "    for item in classifiers:\n",
    "        if item['vocab']:\n",
    "            vocab = True\n",
    "            break\n",
    "    \n",
    "    if vocab == True:\n",
    "        # Generate and store the entire vocabulary of training data  \n",
    "        print(f\"Generating stop words/phrases specific for this project data...\")\n",
    "        train_1_2_3_grams = get_vocab(merged['reviewText'], ngram_range=(1,3))\n",
    "        print(f\"Size of vocabulary of training data: {len(train_1_2_3_grams)}\")\n",
    "        # sorted(train_1_2_3_grams)\n",
    "\n",
    "        # Generate stop words/phrases specific for this project data  \n",
    "        print(f\"Generating stop words/phrases specific for this project data...\")\n",
    "        common_1_2_3_grams = get_common_vocab([merged, merged_test], ngram_range_list=[(1,1), (2,2), (3,3)])\n",
    "        print(f\"Number of stop words: {len(common_1_2_3_grams)}\")\n",
    "\n",
    "        # Get the vocabulary that should be used in the final models  \n",
    "        print(f\"Getting the vocabulary that will be fed to the final model(s)...\")\n",
    "        relevant_vocab = list(train_1_2_3_grams - common_1_2_3_grams)\n",
    "        print(f\"Size of the final relevant vocabulary: {len(relevant_vocab)}\")\n",
    "    else:\n",
    "        pass\n",
    "    \n",
    "    \n",
    "    # Create a list to store estimators  \n",
    "    estimators = []     # List of tuples of the form ('classifier_name', 'classifer_instance')\n",
    "    \n",
    "    # Build a dataframe of predictions  \n",
    "    predictions_df = pd.DataFrame()\n",
    "    \n",
    "    # Build a separate pipeline and fit it on selected features (and param_grid) for each item in classifiers list\n",
    "    for n, item in enumerate(classifiers, start=1):\n",
    "        selected_model = item['selected_model']\n",
    "        selected_features = item['selected_features']\n",
    "        param_grid = item['param_grid']\n",
    "        vocab = item['vocab']\n",
    "        vocab_usage = item['vocab_usage']\n",
    "        strip_accents = item['strip_accents']\n",
    "        add_countvec = item['add_countvec']\n",
    "    \n",
    "    \n",
    "        # Fine tune selected_features\n",
    "        if add_countvec:\n",
    "            if 'txt' in selected_features.keys():\n",
    "                if \"reviewText_2\" not in selected_features['txt']:\n",
    "                    selected_features['txt'].append('reviewText_2')\n",
    "        if vocab:\n",
    "            if 'txt' in selected_features.keys():\n",
    "                if \"reviewText_3\" not in selected_features['txt']:\n",
    "                    selected_features['txt'].append('reviewText_3')\n",
    "        else:\n",
    "            print(f\"No vocabulary provided/used for this model.\")\n",
    "        print(f\"\\nSelected features: {selected_features}\")\n",
    "        \n",
    "        if type(vocab) in [type([1, 2]), type({1, 2})]:\n",
    "            vocab = vocab\n",
    "        elif vocab == True:\n",
    "            vocab = common_1_2_3_grams    # Choose vocabulary here\n",
    "\n",
    "        # Modify X_train for the given 'item' by creating a custom 'features' list\n",
    "        features = []\n",
    "        for item in selected_features.values():\n",
    "            features.extend(item)\n",
    "            \n",
    "        # Add new columns as needed  \n",
    "        if add_countvec:\n",
    "            merged['reviewText_2'] = merged['reviewText']\n",
    "        if vocab:\n",
    "            merged['reviewText_3'] = merged['reviewText']\n",
    "        \n",
    "        # Create X_tran, y_train\n",
    "        X_train = merged.drop(labels=\"sentiment\", axis=1)\n",
    "        y_train = merged[\"sentiment\"]\n",
    "        \n",
    "        X_train = merged[features].copy()\n",
    "\n",
    "\n",
    "        # Build Pipeline\n",
    "        pipe = build_pipeline(selected_model, selected_features, param_grid=param_grid, \n",
    "                              vocab=vocab, vocab_usage='tfidf', \n",
    "                              strip_accents=strip_accents, add_countvec=add_countvec)\n",
    "        print(pipe)\n",
    "\n",
    "        \n",
    "        # Fit \n",
    "        print(f\"\\nTraining started with full pipeline for classifier #{n}/{len(classifiers)}...\")\n",
    "        pipe.fit(X_train, y_train)\n",
    "        \n",
    "\n",
    "        # Check1\n",
    "        print(f\"\\nCheck #{n}.1 complete.\")\n",
    "        print(f\"Details of the best model using classifier #{n} (GridSearchCV) on X_train: \")\n",
    "        print(f\"Best Params: {pipe.best_params_}\")\n",
    "        print(f\"Best Score: {pipe.best_score_}\")\n",
    "        \n",
    "        print(predict_on_missing_review_data(pipe, features, merged))    # Function defined above\n",
    "        \n",
    "        estimators.append((f\"classifier_{n}\", pipe))\n",
    "        print(f\"classifier_{n} successfully added to 'estimators' list\")\n",
    "\n",
    "        \n",
    "        # Predict on train data \n",
    "        y_train_pred = pipe.predict(X_train)\n",
    "        print(f\"Confusion matrix for predictions on training data: \")\n",
    "        print(confusion_matrix(y_train, y_train_pred))\n",
    "        f1_train = f1_score(y_train, y_train_pred, average=\"micro\")\n",
    "        print(f\"F1-score on training data: {f1_train}\")\n",
    "        \n",
    "        \n",
    "        # Predict on test.csv file\n",
    "        # Add new columns as needed \n",
    "        if add_countvec:\n",
    "            merged_test['reviewText_2'] = merged_test['reviewText']\n",
    "        if vocab:\n",
    "            merged_test['reviewText_3'] = merged_test['reviewText']\n",
    "        \n",
    "               \n",
    "        X_test = merged_test[features].copy()\n",
    "\n",
    "    \n",
    "        y_pred = pipe.predict(X_test)\n",
    "        \n",
    "        # Insert predictions in 'predictions_df' dataframe\n",
    "        predictions_df.insert(n-1, f\"pred_{n}\", y_pred, allow_duplicates=False)\n",
    "        print(predictions_df.shape)\n",
    "        print(predictions_df.head(10))\n",
    "        \n",
    "    \n",
    "        # Check2\n",
    "        print(f\"\\nCheck #{n}.2 complete.\")\n",
    "    #     cv_results_df = pd.DataFrame(pipe.cv_results_)\n",
    "        print(\"Details of the best model using full pipeline (GridSearchCV) on X_train: \")\n",
    "#         print(f\"Best Estimator: {pipe.best_estimator_}\")\n",
    "        print(f\"Best Params: {pipe.best_params_}\")\n",
    "        print(f\"Best Score: {pipe.best_score_}\")\n",
    "#         print(f\"Best Index: {pipe.best_index_}\")\n",
    "        print(f\"Refit Time: {pipe.refit_time_}\")\n",
    "    #     print(f\"Shape of CV results dataframe: {cv_results_df.shape}\")\n",
    "    \n",
    "    # Voting classifier (custom) with hard voting\n",
    "    # Calculate the MODE for all predictions (Note that the 'predictions_df' generated above should have odd number of columns)\n",
    "    pred_df_final = predictions_df.mode('columns')\n",
    "    pred_df_final.columns = [\"sentiment\"]\n",
    "    pred_df_final.index.name = \"id\"\n",
    "    pred_df_final.to_csv(\"submission.csv\")\n",
    "    \n",
    "    print(\"\\nSuccessfully created the submission file!!!\")\n",
    "    \n",
    "#     return pipe.cv_results_\n",
    "    return pred_df_final, estimators"
   ]
  },
  {
   "cell_type": "markdown",
   "id": "7fd0c30c",
   "metadata": {
    "papermill": {
     "duration": 0.102262,
     "end_time": "2023-08-12T19:06:26.898533",
     "exception": false,
     "start_time": "2023-08-12T19:06:26.796271",
     "status": "completed"
    },
    "tags": []
   },
   "source": [
    "## Use 'submit_v5' function  "
   ]
  },
  {
   "cell_type": "code",
   "execution_count": 105,
   "id": "ec3a3645",
   "metadata": {
    "execution": {
     "iopub.execute_input": "2023-08-12T19:06:27.105534Z",
     "iopub.status.busy": "2023-08-12T19:06:27.104877Z",
     "iopub.status.idle": "2023-08-12T19:06:27.108538Z",
     "shell.execute_reply": "2023-08-12T19:06:27.107830Z"
    },
    "papermill": {
     "duration": 0.109878,
     "end_time": "2023-08-12T19:06:27.110495",
     "exception": false,
     "start_time": "2023-08-12T19:06:27.000617",
     "status": "completed"
    },
    "tags": []
   },
   "outputs": [],
   "source": [
    "# Try submit_v5 with default settings\n",
    "# submit_v5()"
   ]
  },
  {
   "cell_type": "code",
   "execution_count": 106,
   "id": "dd81f8be",
   "metadata": {
    "execution": {
     "iopub.execute_input": "2023-08-12T19:06:27.315409Z",
     "iopub.status.busy": "2023-08-12T19:06:27.314764Z",
     "iopub.status.idle": "2023-08-12T20:10:19.639539Z",
     "shell.execute_reply": "2023-08-12T20:10:19.638104Z"
    },
    "papermill": {
     "duration": 3832.531124,
     "end_time": "2023-08-12T20:10:19.742962",
     "exception": false,
     "start_time": "2023-08-12T19:06:27.211838",
     "status": "completed"
    },
    "tags": []
   },
   "outputs": [
    {
     "name": "stdout",
     "output_type": "stream",
     "text": [
      "\n",
      "Running the submit_v5 function...\n",
      "\n",
      "Data preprocessor initiated...\n",
      "\n",
      "Imputer for missing numerical values: knn\n",
      "Imputing missing values. (This could take a while if it is KNNImputer)\n",
      "KNNImputer(n_neighbors=3, weights='distance')\n",
      "\n",
      "Check 1 (preprocessor) complete.\n",
      "Shape of X_train: (162758, 30)\n",
      "Features in X_train: Index(['movieid', 'reviewerName', 'isFrequentReviewer', 'reviewText',\n",
      "       'sentiment', 'title', 'audienceScore', 'rating', 'ratingContents',\n",
      "       'releaseDateTheaters', 'releaseDateStreaming', 'runtimeMinutes',\n",
      "       'genre', 'originalLanguage', 'director', 'boxOffice', 'distributor',\n",
      "       'soundType', 'reviewYN', 'reviewWC', 'genreSorted', 'rcSorted',\n",
      "       'releaseDate', 'releaseYear', 'releaseMonth', 'releaseDiff',\n",
      "       'audScoreBins', 'runtimeBins', 'boxOfficeBins', 'releaseDiffBins'],\n",
      "      dtype='object')\n",
      "\n",
      "Check 2 (preprocessor) complete.\n",
      "Shape of X_test: (55315, 29)\n",
      "Features in X_test: Index(['movieid', 'reviewerName', 'isFrequentReviewer', 'reviewText', 'title',\n",
      "       'audienceScore', 'rating', 'ratingContents', 'releaseDateTheaters',\n",
      "       'releaseDateStreaming', 'runtimeMinutes', 'genre', 'originalLanguage',\n",
      "       'director', 'boxOffice', 'distributor', 'soundType', 'reviewYN',\n",
      "       'reviewWC', 'genreSorted', 'rcSorted', 'releaseDate', 'releaseYear',\n",
      "       'releaseMonth', 'releaseDiff', 'audScoreBins', 'runtimeBins',\n",
      "       'boxOfficeBins', 'releaseDiffBins'],\n",
      "      dtype='object')\n",
      "\n",
      "Preprocessing of train and test datasets complete.\n",
      "Generating stop words/phrases specific for this project data...\n",
      "Generating vocabulary for ngram_range: (1, 3)...\n",
      "Size of vocabulary of training data: 2610596\n",
      "Generating stop words/phrases specific for this project data...\n",
      "Working on DF#1 in the list of DFs provided\n",
      "Generating vocabulary for ngram_range: (1, 1)...\n",
      "Vocabulary size for ngram-range (1, 1) in DF#1: 63881\n",
      "\n",
      "Words from the first df for ngram-range (1, 1) added.\n",
      "\n",
      "Working on DF#2 in the list of DFs provided\n",
      "Generating vocabulary for ngram_range: (1, 1)...\n",
      "Vocabulary size for ngram-range (1, 1) in DF#2: 42992\n",
      "\n",
      "Keeping only the common (intersection) words for ngram-range (1, 1)...\n",
      "Common vocabulary for ngram-range (1, 1): 35498\n",
      "\n",
      "Appended first time to final common vocabulary: ngram-range = (1, 1).\n",
      "\n",
      "Working on DF#1 in the list of DFs provided\n",
      "Generating vocabulary for ngram_range: (2, 2)...\n",
      "Vocabulary size for ngram-range (2, 2) in DF#1: 1130406\n",
      "\n",
      "Words from the first df for ngram-range (2, 2) added.\n",
      "\n",
      "Working on DF#2 in the list of DFs provided\n",
      "Generating vocabulary for ngram_range: (2, 2)...\n",
      "Vocabulary size for ngram-range (2, 2) in DF#2: 436174\n",
      "\n",
      "Keeping only the common (intersection) words for ngram-range (2, 2)...\n",
      "Common vocabulary for ngram-range (2, 2): 112530\n",
      "\n",
      "Fusing (union) with final common vocabulary: ngram-range = (2, 2).\n",
      "\n",
      "Working on DF#1 in the list of DFs provided\n",
      "Generating vocabulary for ngram_range: (3, 3)...\n",
      "Vocabulary size for ngram-range (3, 3) in DF#1: 1416309\n",
      "\n",
      "Words from the first df for ngram-range (3, 3) added.\n",
      "\n",
      "Working on DF#2 in the list of DFs provided\n",
      "Generating vocabulary for ngram_range: (3, 3)...\n",
      "Vocabulary size for ngram-range (3, 3) in DF#2: 488867\n",
      "\n",
      "Keeping only the common (intersection) words for ngram-range (3, 3)...\n",
      "Common vocabulary for ngram-range (3, 3): 22631\n",
      "\n",
      "Fusing (union) with final common vocabulary: ngram-range = (3, 3).\n",
      "\n",
      "Number of stop words: 170659\n",
      "Getting the vocabulary that will be fed to the final model(s)...\n",
      "Size of the final relevant vocabulary: 2439937\n",
      "\n",
      "Selected features: {'cat': ['isFrequentReviewer'], 'num': ['audienceScore', 'boxOffice', 'releaseDiff'], 'txt': ['reviewText', 'reviewerName', 'movieid', 'genre', 'director', 'ratingContents', 'distributor', 'reviewText_2', 'reviewText_3']}\n",
      "\n",
      "Pipeline built successfully.\n",
      "\n",
      "Full GridSearchCV pipeline built successfully.\n",
      "GridSearchCV(cv=10,\n",
      "             estimator=Pipeline(steps=[('ct',\n",
      "                                        ColumnTransformer(transformers=[('cat_isFrequentReviewer',\n",
      "                                                                         OneHotEncoder(handle_unknown='ignore',\n",
      "                                                                                       sparse_output=False),\n",
      "                                                                         ['isFrequentReviewer']),\n",
      "                                                                        ('num_audienceScore',\n",
      "                                                                         StandardScaler(),\n",
      "                                                                         ['audienceScore']),\n",
      "                                                                        ('num_boxOffice',\n",
      "                                                                         RobustScaler(),\n",
      "                                                                         ['boxOffice']),\n",
      "                                                                        ('num_boxOffice_ss',\n",
      "                                                                         StandardScaler(),\n",
      "                                                                         ['boxOffice']),\n",
      "                                                                        ('...\n",
      "                                                                                                                      'aarp',\n",
      "                                                                                                                      'ab',\n",
      "                                                                                                                      'abandon',\n",
      "                                                                                                                      'abandoned',\n",
      "                                                                                                                      'abandoned '\n",
      "                                                                                                                      'good',\n",
      "                                                                                                                      'abandoning',\n",
      "                                                                                                                      'abandoning '\n",
      "                                                                                                                      'logic',\n",
      "                                                                                                                      'abandoning '\n",
      "                                                                                                                      'traditional',\n",
      "                                                                                                                      'abandonment',\n",
      "                                                                                                                      'abandonment '\n",
      "                                                                                                                      'adoption', ...}))]),\n",
      "                                                                         'reviewText_3')])),\n",
      "                                       ('model',\n",
      "                                        SGDClassifier(loss='modified_huber',\n",
      "                                                      max_iter=1000000,\n",
      "                                                      n_iter_no_change=1000,\n",
      "                                                      n_jobs=-1,\n",
      "                                                      tol=0.0001))]),\n",
      "             n_jobs=-1, param_grid={'model__alpha': [0.0001]},\n",
      "             scoring='f1_micro')\n",
      "\n",
      "Training started with full pipeline for classifier #1/1...\n",
      "\n",
      "Check #1.1 complete.\n",
      "Details of the best model using classifier #1 (GridSearchCV) on X_train: \n",
      "Best Params: {'model__alpha': 0.0001}\n",
      "Best Score: 0.8434915763751176\n",
      "Confusion matrix and f1-score for rows which have no reviewText in X_train: \n",
      "[[1790  615]\n",
      " [ 343 3699]]\n",
      "0.851403753683884\n",
      "classifier_1 successfully added to 'estimators' list\n",
      "Confusion matrix for predictions on training data: \n",
      "[[ 53355    642]\n",
      " [   361 108400]]\n",
      "F1-score on training data: 0.993837476498851\n",
      "(55315, 1)\n",
      "     pred_1\n",
      "0  POSITIVE\n",
      "1  POSITIVE\n",
      "2  POSITIVE\n",
      "3  POSITIVE\n",
      "4  POSITIVE\n",
      "5  POSITIVE\n",
      "6  POSITIVE\n",
      "7  POSITIVE\n",
      "8  NEGATIVE\n",
      "9  NEGATIVE\n",
      "\n",
      "Check #1.2 complete.\n",
      "Details of the best model using full pipeline (GridSearchCV) on X_train: \n",
      "Best Params: {'model__alpha': 0.0001}\n",
      "Best Score: 0.8434915763751176\n",
      "Refit Time: 645.8100056648254\n",
      "\n",
      "Successfully created the submission file!!!\n"
     ]
    }
   ],
   "source": [
    "# Testing ONE classfier using submit_v5 function  \n",
    "\n",
    "# Feature dictionaries\n",
    "sfs = {'cat': ['isFrequentReviewer', 'rating'],\n",
    "       'num': [\"audienceScore\", \"runtimeMinutes\", \"boxOffice\", 'releaseDiff']}\n",
    "\n",
    "sf_best = {'cat': ['isFrequentReviewer'],\n",
    "            'num': [\"audienceScore\", \"boxOffice\", 'releaseDiff'],\n",
    "            'txt': ['reviewText', 'reviewerName', 'movieid', 'genre', 'director', \n",
    "                         'ratingContents', 'distributor']}\n",
    "\n",
    "alt_text = {'txt': ['reviewerName', 'movieid', 'genre', 'director', \n",
    "                         'ratingContents', 'distributor']}\n",
    "\n",
    "v88_dict = {'cat': ['isFrequentReviewer', 'audScoreBins', 'boxOfficeBins'],\n",
    "            'num': ['releaseDiff'],\n",
    "            'txt': ['reviewText', 'reviewerName', 'movieid', 'genre', 'director', \n",
    "                         'ratingContents', 'distributor']}\n",
    "\n",
    "# SGDClassifier hyperparameters  \n",
    "# \"model__loss\": ['hinge', 'log_loss', 'modified_huber', \n",
    "#                                                   'squared_hinge', 'perceptron', \n",
    "#                                                   'squared_error', 'huber', \n",
    "#                                                   'epsilon_insensitive', 'squared_epsilon_insensitive']\n",
    "\n",
    "# 'param_grid' : {\"model__alpha\": [0.0001], \n",
    "#                   'model__tol': [0.0001],\n",
    "#                   \"model__penalty\": [\"l2\"],\n",
    "#                   \"model__n_iter_no_change\": [100],\n",
    "#                  }\n",
    "\n",
    "# Best models \n",
    "# For sf_best features\n",
    "#                 {'selected_model' : SGDClassifier(loss='hinge', \n",
    "#                                      max_iter=1000000,\n",
    "#                                      alpha = 0.0001,\n",
    "#                                      tol = 0.0001,\n",
    "#                                      penalty = \"l2\",\n",
    "#                                      n_iter_no_change = 100,\n",
    "#                                      n_jobs = -1), \n",
    "#                   'selected_features' : sf_best, \n",
    "#                   'param_grid' : {\"model__alpha\": [ 0.0001]},\n",
    "#                   'vocab' : True,\n",
    "#                   'vocab_usage' : 'tfidf',\n",
    "#                   'strip_accents' : 'unicode', \n",
    "#                   'add_countvec' : True},\n",
    "\n",
    "# For sfs features\n",
    "#                 {'selected_model' : RandomForestClassifier(n_jobs = -1), \n",
    "#                   'selected_features' : sfs, \n",
    "#                   'param_grid': {'model__n_estimators': [100]},\n",
    "#                   'vocab' : None,\n",
    "#                   'vocab_usage' : 'tfidf',\n",
    "#                   'strip_accents' : 'unicode', \n",
    "#                   'add_countvec' : False}\n",
    "\n",
    "# Best SGD classifer (with params)  \n",
    "sgdc = SGDClassifier(loss='modified_huber', \n",
    "                     max_iter=1000000,\n",
    "                     alpha = 0.0001,\n",
    "                     tol = 0.0001,\n",
    "                     penalty = \"l2\",\n",
    "                     n_iter_no_change = 1000,\n",
    "                     n_jobs = -1)\n",
    "\n",
    "# Classifiers\n",
    "classifiers= [   \n",
    "                {'selected_model' : sgdc, \n",
    "                  'selected_features' : sf_best, \n",
    "                  'param_grid' : {\"model__alpha\": [0.0001]},\n",
    "                  'vocab' : True,\n",
    "                  'vocab_usage' : 'tfidf',\n",
    "                  'strip_accents' : 'unicode', \n",
    "                  'add_countvec' : True}\n",
    "            ]\n",
    "\n",
    "# classifiers= [\n",
    "#                 {'selected_model' : LogisticRegression(C=1, solver='saga', max_iter=100000), \n",
    "#                   'selected_features' : {'txt': [\"reviewText\"]}, \n",
    "#                   'param_grid' : {\"model__C\": [1], \n",
    "#                                   'model__solver': ['saga']},\n",
    "#                   'vocab' : None,\n",
    "#                   'vocab_usage' : 'tfidf',\n",
    "#                   'strip_accents' : 'unicode', \n",
    "#                   'add_countvec' : False},\n",
    "#             ]\n",
    "\n",
    "pred_df, estimators = submit_v5(classifiers=classifiers, imputer_type='knn')"
   ]
  },
  {
   "cell_type": "code",
   "execution_count": 107,
   "id": "61a190c3",
   "metadata": {
    "execution": {
     "iopub.execute_input": "2023-08-12T20:10:19.952363Z",
     "iopub.status.busy": "2023-08-12T20:10:19.951928Z",
     "iopub.status.idle": "2023-08-12T20:10:19.959709Z",
     "shell.execute_reply": "2023-08-12T20:10:19.958359Z"
    },
    "papermill": {
     "duration": 0.115619,
     "end_time": "2023-08-12T20:10:19.962563",
     "exception": false,
     "start_time": "2023-08-12T20:10:19.846944",
     "status": "completed"
    },
    "tags": []
   },
   "outputs": [
    {
     "name": "stdout",
     "output_type": "stream",
     "text": [
      "(55315, 1)\n",
      "   sentiment\n",
      "id          \n",
      "0   POSITIVE\n",
      "1   POSITIVE\n",
      "2   POSITIVE\n",
      "3   POSITIVE\n",
      "4   POSITIVE\n"
     ]
    }
   ],
   "source": [
    "print(pred_df.shape)\n",
    "print(pred_df.head())"
   ]
  },
  {
   "cell_type": "code",
   "execution_count": 108,
   "id": "a82c8998",
   "metadata": {
    "execution": {
     "iopub.execute_input": "2023-08-12T20:10:20.171668Z",
     "iopub.status.busy": "2023-08-12T20:10:20.171264Z",
     "iopub.status.idle": "2023-08-12T20:10:20.176181Z",
     "shell.execute_reply": "2023-08-12T20:10:20.175124Z"
    },
    "papermill": {
     "duration": 0.112485,
     "end_time": "2023-08-12T20:10:20.178430",
     "exception": false,
     "start_time": "2023-08-12T20:10:20.065945",
     "status": "completed"
    },
    "tags": []
   },
   "outputs": [],
   "source": [
    "# estimators"
   ]
  },
  {
   "cell_type": "code",
   "execution_count": 109,
   "id": "54be8747",
   "metadata": {
    "execution": {
     "iopub.execute_input": "2023-08-12T20:10:20.387452Z",
     "iopub.status.busy": "2023-08-12T20:10:20.387031Z",
     "iopub.status.idle": "2023-08-12T20:10:20.394422Z",
     "shell.execute_reply": "2023-08-12T20:10:20.393178Z"
    },
    "papermill": {
     "duration": 0.114368,
     "end_time": "2023-08-12T20:10:20.396862",
     "exception": false,
     "start_time": "2023-08-12T20:10:20.282494",
     "status": "completed"
    },
    "tags": []
   },
   "outputs": [
    {
     "name": "stdout",
     "output_type": "stream",
     "text": [
      "Number of estimators: 1\n",
      "\n",
      "Estimator: classifier_1\n",
      "{'model__alpha': 0.0001}\n",
      "0.8434915763751176\n",
      "645.8100056648254\n",
      "\n"
     ]
    }
   ],
   "source": [
    "print(f\"Number of estimators: {len(estimators)}\\n\")\n",
    "for est in estimators:\n",
    "    print(f\"Estimator: {est[0]}\")\n",
    "#     print(est[1].best_estimator_)\n",
    "    print(est[1].best_params_)\n",
    "    print(est[1].best_score_)\n",
    "    print(est[1].refit_time_)\n",
    "    print()"
   ]
  },
  {
   "cell_type": "code",
   "execution_count": 110,
   "id": "e8abedfa",
   "metadata": {
    "execution": {
     "iopub.execute_input": "2023-08-12T20:10:20.606897Z",
     "iopub.status.busy": "2023-08-12T20:10:20.606392Z",
     "iopub.status.idle": "2023-08-12T20:10:20.613340Z",
     "shell.execute_reply": "2023-08-12T20:10:20.612355Z"
    },
    "papermill": {
     "duration": 0.116337,
     "end_time": "2023-08-12T20:10:20.615407",
     "exception": false,
     "start_time": "2023-08-12T20:10:20.499070",
     "status": "completed"
    },
    "tags": []
   },
   "outputs": [],
   "source": [
    "# Testing full capabilites of submit_v5  \n",
    "\n",
    "# # Feature dictionaries\n",
    "# sf1 = {'cat': ['isFrequentReviewer', 'rating'],\n",
    "#        'num': [\"audienceScore\", \"runtimeMinutes\", \"boxOffice\"]}\n",
    "\n",
    "# sf2 = {'cat': ['isFrequentReviewer', 'rating'],\n",
    "#        'num': [\"audienceScore\", \"runtimeMinutes\", \"boxOffice\"]}\n",
    "\n",
    "# sf3 = {'cat': ['isFrequentReviewer'],\n",
    "#         'num': ['releaseDiff', 'audienceScore', 'boxOffice'],\n",
    "#         'txt': ['reviewText', 'reviewerName', 'movieid', 'genre', 'director', \n",
    "#                          'ratingContents', 'distributor']}\n",
    "\n",
    "# # Individual classifiers\n",
    "# clf1 =  {'selected_model' : AdaBoostClassifier(), \n",
    "#           'selected_features' : sf1, \n",
    "#           'param_grid' : {\"model__n_estimators\": [50]},\n",
    "#           'vocab' : None,\n",
    "#           'vocab_usage' : 'tfidf',\n",
    "#           'strip_accents' : 'unicode', \n",
    "#           'add_countvec' : False}\n",
    "\n",
    "# clf2 =  {'selected_model' : RandomForestClassifier(), \n",
    "#           'selected_features' : sf2,\n",
    "#           'param_grid' : {\"model__n_estimators\": [50], \n",
    "#                           'model__criterion': ['gini']},\n",
    "#           'vocab' : None,\n",
    "#           'vocab_usage' : 'tfidf',\n",
    "#           'strip_accents' : 'unicode', \n",
    "#           'add_countvec' : False}\n",
    "\n",
    "# clf3 =  {'selected_model' : LogisticRegression(C=1, solver='saga', max_iter=100000), \n",
    "#           'selected_features' : sf3, \n",
    "#           'param_grid' : {'model__C' : [1],\n",
    "#                             'model__solver': ['saga'],\n",
    "#                             \"model__fit_intercept\" : [True],\n",
    "#                             \"model__dual\" : [False]},\n",
    "#           'vocab' : None,\n",
    "#           'vocab_usage' : 'tfidf',\n",
    "#           'strip_accents' : 'unicode', \n",
    "#           'add_countvec' : True}\n",
    "\n",
    "\n",
    "# # List of classifiers for voting\n",
    "# classifiers= [clf1, clf2, clf3]\n",
    "\n",
    "# # Final predictions \n",
    "# pred_df = submit_v5(classifiers=classifiers)"
   ]
  },
  {
   "cell_type": "code",
   "execution_count": 111,
   "id": "b6b0dbf7",
   "metadata": {
    "execution": {
     "iopub.execute_input": "2023-08-12T20:10:20.824541Z",
     "iopub.status.busy": "2023-08-12T20:10:20.824127Z",
     "iopub.status.idle": "2023-08-12T20:10:20.837682Z",
     "shell.execute_reply": "2023-08-12T20:10:20.836564Z"
    },
    "papermill": {
     "duration": 0.120586,
     "end_time": "2023-08-12T20:10:20.839871",
     "exception": false,
     "start_time": "2023-08-12T20:10:20.719285",
     "status": "completed"
    },
    "tags": []
   },
   "outputs": [
    {
     "name": "stdout",
     "output_type": "stream",
     "text": [
      "(55315, 1)\n"
     ]
    },
    {
     "data": {
      "text/html": [
       "<div>\n",
       "<style scoped>\n",
       "    .dataframe tbody tr th:only-of-type {\n",
       "        vertical-align: middle;\n",
       "    }\n",
       "\n",
       "    .dataframe tbody tr th {\n",
       "        vertical-align: top;\n",
       "    }\n",
       "\n",
       "    .dataframe thead th {\n",
       "        text-align: right;\n",
       "    }\n",
       "</style>\n",
       "<table border=\"1\" class=\"dataframe\">\n",
       "  <thead>\n",
       "    <tr style=\"text-align: right;\">\n",
       "      <th></th>\n",
       "      <th>sentiment</th>\n",
       "    </tr>\n",
       "    <tr>\n",
       "      <th>id</th>\n",
       "      <th></th>\n",
       "    </tr>\n",
       "  </thead>\n",
       "  <tbody>\n",
       "    <tr>\n",
       "      <th>0</th>\n",
       "      <td>POSITIVE</td>\n",
       "    </tr>\n",
       "    <tr>\n",
       "      <th>1</th>\n",
       "      <td>POSITIVE</td>\n",
       "    </tr>\n",
       "    <tr>\n",
       "      <th>2</th>\n",
       "      <td>POSITIVE</td>\n",
       "    </tr>\n",
       "    <tr>\n",
       "      <th>3</th>\n",
       "      <td>POSITIVE</td>\n",
       "    </tr>\n",
       "    <tr>\n",
       "      <th>4</th>\n",
       "      <td>POSITIVE</td>\n",
       "    </tr>\n",
       "    <tr>\n",
       "      <th>...</th>\n",
       "      <td>...</td>\n",
       "    </tr>\n",
       "    <tr>\n",
       "      <th>55310</th>\n",
       "      <td>POSITIVE</td>\n",
       "    </tr>\n",
       "    <tr>\n",
       "      <th>55311</th>\n",
       "      <td>NEGATIVE</td>\n",
       "    </tr>\n",
       "    <tr>\n",
       "      <th>55312</th>\n",
       "      <td>NEGATIVE</td>\n",
       "    </tr>\n",
       "    <tr>\n",
       "      <th>55313</th>\n",
       "      <td>POSITIVE</td>\n",
       "    </tr>\n",
       "    <tr>\n",
       "      <th>55314</th>\n",
       "      <td>NEGATIVE</td>\n",
       "    </tr>\n",
       "  </tbody>\n",
       "</table>\n",
       "<p>55315 rows × 1 columns</p>\n",
       "</div>"
      ],
      "text/plain": [
       "      sentiment\n",
       "id             \n",
       "0      POSITIVE\n",
       "1      POSITIVE\n",
       "2      POSITIVE\n",
       "3      POSITIVE\n",
       "4      POSITIVE\n",
       "...         ...\n",
       "55310  POSITIVE\n",
       "55311  NEGATIVE\n",
       "55312  NEGATIVE\n",
       "55313  POSITIVE\n",
       "55314  NEGATIVE\n",
       "\n",
       "[55315 rows x 1 columns]"
      ]
     },
     "execution_count": 111,
     "metadata": {},
     "output_type": "execute_result"
    }
   ],
   "source": [
    "print(pred_df.shape)\n",
    "pred_df"
   ]
  },
  {
   "cell_type": "code",
   "execution_count": 112,
   "id": "f2ed4290",
   "metadata": {
    "execution": {
     "iopub.execute_input": "2023-08-12T20:10:21.050824Z",
     "iopub.status.busy": "2023-08-12T20:10:21.050390Z",
     "iopub.status.idle": "2023-08-12T20:10:21.054832Z",
     "shell.execute_reply": "2023-08-12T20:10:21.053651Z"
    },
    "papermill": {
     "duration": 0.112317,
     "end_time": "2023-08-12T20:10:21.057038",
     "exception": false,
     "start_time": "2023-08-12T20:10:20.944721",
     "status": "completed"
    },
    "tags": []
   },
   "outputs": [],
   "source": [
    "# pred_df_mode = pred_df.mode(axis='columns')\n",
    "# print(pred_df_mode.shape)\n",
    "# pred_df_mode"
   ]
  },
  {
   "cell_type": "code",
   "execution_count": 113,
   "id": "c357590f",
   "metadata": {
    "execution": {
     "iopub.execute_input": "2023-08-12T20:10:21.266911Z",
     "iopub.status.busy": "2023-08-12T20:10:21.266432Z",
     "iopub.status.idle": "2023-08-12T20:10:21.284725Z",
     "shell.execute_reply": "2023-08-12T20:10:21.283909Z"
    },
    "papermill": {
     "duration": 0.126326,
     "end_time": "2023-08-12T20:10:21.287173",
     "exception": false,
     "start_time": "2023-08-12T20:10:21.160847",
     "status": "completed"
    },
    "tags": []
   },
   "outputs": [
    {
     "data": {
      "text/plain": [
       "sentiment\n",
       "POSITIVE     38291\n",
       "NEGATIVE     17024\n",
       "dtype: int64"
      ]
     },
     "execution_count": 113,
     "metadata": {},
     "output_type": "execute_result"
    }
   ],
   "source": [
    "pred_df.value_counts()"
   ]
  },
  {
   "cell_type": "markdown",
   "id": "6332ff6f",
   "metadata": {
    "papermill": {
     "duration": 0.103211,
     "end_time": "2023-08-12T20:10:21.494223",
     "exception": false,
     "start_time": "2023-08-12T20:10:21.391012",
     "status": "completed"
    },
    "tags": []
   },
   "source": [
    "# NOTE: Move submit_v4 submissions below the suubmit_v4 function  "
   ]
  },
  {
   "cell_type": "code",
   "execution_count": 114,
   "id": "560f7763",
   "metadata": {
    "execution": {
     "iopub.execute_input": "2023-08-12T20:10:21.705282Z",
     "iopub.status.busy": "2023-08-12T20:10:21.704903Z",
     "iopub.status.idle": "2023-08-12T20:10:21.709208Z",
     "shell.execute_reply": "2023-08-12T20:10:21.708255Z"
    },
    "papermill": {
     "duration": 0.111354,
     "end_time": "2023-08-12T20:10:21.711261",
     "exception": false,
     "start_time": "2023-08-12T20:10:21.599907",
     "status": "completed"
    },
    "tags": []
   },
   "outputs": [],
   "source": [
    "# Try 'submit_v4' function with default params (LogisticRegression model)  \n",
    "\n",
    "# submit_v4()\n",
    "\n",
    "#Default params to this function gave a score of 0.8259 - improvement over previous score of 0.82563!"
   ]
  },
  {
   "cell_type": "code",
   "execution_count": 115,
   "id": "b835e446",
   "metadata": {
    "execution": {
     "iopub.execute_input": "2023-08-12T20:10:21.923166Z",
     "iopub.status.busy": "2023-08-12T20:10:21.922739Z",
     "iopub.status.idle": "2023-08-12T20:10:21.927686Z",
     "shell.execute_reply": "2023-08-12T20:10:21.926651Z"
    },
    "papermill": {
     "duration": 0.11403,
     "end_time": "2023-08-12T20:10:21.929853",
     "exception": false,
     "start_time": "2023-08-12T20:10:21.815823",
     "status": "completed"
    },
    "tags": []
   },
   "outputs": [],
   "source": [
    "# Try out GridSearchCV on \"submit_v4\" function with param_grid  \n",
    "# param_grid = {\n",
    "#     \"model__C\": [0.1, 1, 5, 10]\n",
    "# }\n",
    "\n",
    "# submit_v4(selected_features={'txt': ['genre']}, param_grid=param_grid)"
   ]
  },
  {
   "cell_type": "markdown",
   "id": "f9ab2ac8",
   "metadata": {
    "papermill": {
     "duration": 0.103624,
     "end_time": "2023-08-12T20:10:22.136607",
     "exception": false,
     "start_time": "2023-08-12T20:10:22.032983",
     "status": "completed"
    },
    "tags": []
   },
   "source": [
    "### Try LinearSVC with GridSearchCV  "
   ]
  },
  {
   "cell_type": "code",
   "execution_count": 116,
   "id": "d94ea748",
   "metadata": {
    "execution": {
     "iopub.execute_input": "2023-08-12T20:10:22.347091Z",
     "iopub.status.busy": "2023-08-12T20:10:22.346674Z",
     "iopub.status.idle": "2023-08-12T20:10:22.351910Z",
     "shell.execute_reply": "2023-08-12T20:10:22.350887Z"
    },
    "papermill": {
     "duration": 0.112911,
     "end_time": "2023-08-12T20:10:22.354118",
     "exception": false,
     "start_time": "2023-08-12T20:10:22.241207",
     "status": "completed"
    },
    "tags": []
   },
   "outputs": [],
   "source": [
    "# all_dict = {'cat': [\"isFrequentReviewer\", \"rating\", \"originalLanguage\"],\n",
    "#              'num': [\"audienceScore\", \"runtimeMinutes\", \"boxOffice\"],\n",
    "#              'txt': ['reviewText', 'reviewerName', 'movieid', 'genre', 'director']}\n",
    "\n",
    "# param_grid_svc = {\n",
    "#     \"model__C\": [0.1, 1, 10, 100]\n",
    "# }\n",
    "# param_grid_svc"
   ]
  },
  {
   "cell_type": "code",
   "execution_count": 117,
   "id": "1df92156",
   "metadata": {
    "execution": {
     "iopub.execute_input": "2023-08-12T20:10:22.566328Z",
     "iopub.status.busy": "2023-08-12T20:10:22.565931Z",
     "iopub.status.idle": "2023-08-12T20:10:22.571012Z",
     "shell.execute_reply": "2023-08-12T20:10:22.569846Z"
    },
    "papermill": {
     "duration": 0.115177,
     "end_time": "2023-08-12T20:10:22.573289",
     "exception": false,
     "start_time": "2023-08-12T20:10:22.458112",
     "status": "completed"
    },
    "tags": []
   },
   "outputs": [],
   "source": [
    "# LinearSCV on single feature  \n",
    "\n",
    "# submit_v4(selected_model=LinearSVC(max_iter=100000, random_state=42), selected_features={'num': [\"audienceScore\"]}, param_grid=param_grid_svc)\n",
    "\n",
    "# Comment: LinearSVC even on single column feature set takes too long to converge."
   ]
  },
  {
   "cell_type": "code",
   "execution_count": 118,
   "id": "f6d6936e",
   "metadata": {
    "execution": {
     "iopub.execute_input": "2023-08-12T20:10:22.783339Z",
     "iopub.status.busy": "2023-08-12T20:10:22.782941Z",
     "iopub.status.idle": "2023-08-12T20:10:22.787524Z",
     "shell.execute_reply": "2023-08-12T20:10:22.786439Z"
    },
    "papermill": {
     "duration": 0.112467,
     "end_time": "2023-08-12T20:10:22.789766",
     "exception": false,
     "start_time": "2023-08-12T20:10:22.677299",
     "status": "completed"
    },
    "tags": []
   },
   "outputs": [],
   "source": [
    "# LinearSCV on all available features\n",
    "\n",
    "# submit_v4(selected_model=LinearSVC(max_iter=100000, random_state=42), selected_features=all_dict, param_grid=param_grid_svc)\n",
    "\n",
    "# (Update): This took 66 mins to run and gave a public score of 0.84295 (lesser than logreg gridsearchcv wwhich gave 0.84441). Best C was 1.0.\n"
   ]
  },
  {
   "cell_type": "markdown",
   "id": "8b0cf90f",
   "metadata": {
    "papermill": {
     "duration": 0.103536,
     "end_time": "2023-08-12T20:10:22.997821",
     "exception": false,
     "start_time": "2023-08-12T20:10:22.894285",
     "status": "completed"
    },
    "tags": []
   },
   "source": [
    "### Boosting techniques  "
   ]
  },
  {
   "cell_type": "code",
   "execution_count": 119,
   "id": "cdbc1e53",
   "metadata": {
    "execution": {
     "iopub.execute_input": "2023-08-12T20:10:23.208362Z",
     "iopub.status.busy": "2023-08-12T20:10:23.207544Z",
     "iopub.status.idle": "2023-08-12T20:10:23.211862Z",
     "shell.execute_reply": "2023-08-12T20:10:23.210991Z"
    },
    "papermill": {
     "duration": 0.112181,
     "end_time": "2023-08-12T20:10:23.213981",
     "exception": false,
     "start_time": "2023-08-12T20:10:23.101800",
     "status": "completed"
    },
    "tags": []
   },
   "outputs": [],
   "source": [
    "# adc = AdaBoostClassifier(estimator=LogisticRegression(C=5, solver=\"saga\", max_iter=100000), n_estimators=50)\n",
    "# adc"
   ]
  },
  {
   "cell_type": "code",
   "execution_count": 120,
   "id": "27521ccd",
   "metadata": {
    "execution": {
     "iopub.execute_input": "2023-08-12T20:10:23.425172Z",
     "iopub.status.busy": "2023-08-12T20:10:23.424782Z",
     "iopub.status.idle": "2023-08-12T20:10:23.429785Z",
     "shell.execute_reply": "2023-08-12T20:10:23.428729Z"
    },
    "papermill": {
     "duration": 0.113349,
     "end_time": "2023-08-12T20:10:23.432131",
     "exception": false,
     "start_time": "2023-08-12T20:10:23.318782",
     "status": "completed"
    },
    "tags": []
   },
   "outputs": [],
   "source": [
    "# submit_v4(selected_model=adc, selected_features={'num': [\"audienceScore\"]}, param_grid=None)"
   ]
  },
  {
   "cell_type": "code",
   "execution_count": 121,
   "id": "34ffe764",
   "metadata": {
    "execution": {
     "iopub.execute_input": "2023-08-12T20:10:23.645629Z",
     "iopub.status.busy": "2023-08-12T20:10:23.644336Z",
     "iopub.status.idle": "2023-08-12T20:10:23.649255Z",
     "shell.execute_reply": "2023-08-12T20:10:23.648482Z"
    },
    "papermill": {
     "duration": 0.113721,
     "end_time": "2023-08-12T20:10:23.651455",
     "exception": false,
     "start_time": "2023-08-12T20:10:23.537734",
     "status": "completed"
    },
    "tags": []
   },
   "outputs": [],
   "source": [
    "# submit_v4(selected_model=adc, selected_features=all_dict, param_grid=None)\n",
    "\n",
    "# Took 1 hour 15 mins to run and gave a public score of only 0.71089. Discarded."
   ]
  },
  {
   "cell_type": "markdown",
   "id": "0dc8e562",
   "metadata": {
    "papermill": {
     "duration": 0.104205,
     "end_time": "2023-08-12T20:10:23.859434",
     "exception": false,
     "start_time": "2023-08-12T20:10:23.755229",
     "status": "completed"
    },
    "tags": []
   },
   "source": [
    "### LightGBM  "
   ]
  },
  {
   "cell_type": "code",
   "execution_count": 122,
   "id": "aab6e972",
   "metadata": {
    "execution": {
     "iopub.execute_input": "2023-08-12T20:10:24.072084Z",
     "iopub.status.busy": "2023-08-12T20:10:24.071656Z",
     "iopub.status.idle": "2023-08-12T20:10:24.076082Z",
     "shell.execute_reply": "2023-08-12T20:10:24.074984Z"
    },
    "papermill": {
     "duration": 0.114505,
     "end_time": "2023-08-12T20:10:24.078452",
     "exception": false,
     "start_time": "2023-08-12T20:10:23.963947",
     "status": "completed"
    },
    "tags": []
   },
   "outputs": [],
   "source": [
    "# lgb = ltb.LGBMClassifier()\n",
    "# lgb"
   ]
  },
  {
   "cell_type": "code",
   "execution_count": 123,
   "id": "c89b091d",
   "metadata": {
    "execution": {
     "iopub.execute_input": "2023-08-12T20:10:24.288961Z",
     "iopub.status.busy": "2023-08-12T20:10:24.288530Z",
     "iopub.status.idle": "2023-08-12T20:10:24.293119Z",
     "shell.execute_reply": "2023-08-12T20:10:24.291945Z"
    },
    "papermill": {
     "duration": 0.112555,
     "end_time": "2023-08-12T20:10:24.295419",
     "exception": false,
     "start_time": "2023-08-12T20:10:24.182864",
     "status": "completed"
    },
    "tags": []
   },
   "outputs": [],
   "source": [
    "# Try LightGBM with default settings\n",
    "# (Update): Public score only 0.77713. It was fast, took less than 5 mins (without GridSearchCV)\n",
    "\n",
    "# submit_v4(selected_model=ltb.LGBMClassifier(), selected_features=all_dict, param_grid=None)"
   ]
  },
  {
   "cell_type": "markdown",
   "id": "3df5a027",
   "metadata": {
    "papermill": {
     "duration": 0.104365,
     "end_time": "2023-08-12T20:10:24.503415",
     "exception": false,
     "start_time": "2023-08-12T20:10:24.399050",
     "status": "completed"
    },
    "tags": []
   },
   "source": [
    "## Feature Engineering"
   ]
  },
  {
   "cell_type": "markdown",
   "id": "d14eb737",
   "metadata": {
    "papermill": {
     "duration": 0.103356,
     "end_time": "2023-08-12T20:10:24.711818",
     "exception": false,
     "start_time": "2023-08-12T20:10:24.608462",
     "status": "completed"
    },
    "tags": []
   },
   "source": [
    "### Plan  \n",
    "* Add a new column 'reviewWC' which has word count of 'reviewText'  \n",
    "    * Check if there is any relationship between 'reviewWC' and 'sentiment'\n",
    "* Work on vocabulary\n",
    "     * Use TfidfVectorizer and find out the vocabulary of 'reviewText' column for various ngrams\n",
    "     * Use RecursiveFeatureElimination (RFE) or RFECV to select 1000 top words/vocab for each ngram\n",
    "     * Use the final vocab (1000-3000 words) in the model and see how it performs compared to whole vocab\n",
    "\n",
    "`(Update): Code incorporated into the \"select_features\" function  `  \n",
    "`(Update): Many other new features incorporated into the \"select_features\" function too  `  \n",
    "\n"
   ]
  },
  {
   "cell_type": "markdown",
   "id": "fd9ba263",
   "metadata": {
    "papermill": {
     "duration": 0.103678,
     "end_time": "2023-08-12T20:10:24.919663",
     "exception": false,
     "start_time": "2023-08-12T20:10:24.815985",
     "status": "completed"
    },
    "tags": []
   },
   "source": [
    "# Back to vocab after success of version 63  "
   ]
  },
  {
   "cell_type": "code",
   "execution_count": 124,
   "id": "5637ec4f",
   "metadata": {
    "execution": {
     "iopub.execute_input": "2023-08-12T20:10:25.128901Z",
     "iopub.status.busy": "2023-08-12T20:10:25.128472Z",
     "iopub.status.idle": "2023-08-12T20:10:25.150108Z",
     "shell.execute_reply": "2023-08-12T20:10:25.149270Z"
    },
    "papermill": {
     "duration": 0.128703,
     "end_time": "2023-08-12T20:10:25.152481",
     "exception": false,
     "start_time": "2023-08-12T20:10:25.023778",
     "status": "completed"
    },
    "tags": []
   },
   "outputs": [],
   "source": [
    "def submit_v4(selected_model=LogisticRegression(C=1, solver='liblinear', max_iter=100000), \n",
    "              selected_features={'txt': ['reviewText']}, \n",
    "              param_grid=None,\n",
    "              vocab=None,\n",
    "              vocab_usage='tfidf',\n",
    "              strip_accents='unicode', \n",
    "              add_countvec=False):\n",
    "    \n",
    "    print(\"\\nRunning the submit_v4 function...\")\n",
    "    \n",
    "    # Fine tune selected_features\n",
    "    if add_countvec:\n",
    "        if 'txt' in selected_features.keys():\n",
    "            if \"reviewText_2\" not in selected_features['txt']:\n",
    "                selected_features['txt'].append('reviewText_2')\n",
    "    if vocab:\n",
    "        if 'txt' in selected_features.keys():\n",
    "            if \"reviewText_3\" not in selected_features['txt']:\n",
    "                selected_features['txt'].append('reviewText_3')\n",
    "    print(f\"\\nSelected features: {selected_features}\")\n",
    "\n",
    "    \n",
    "    \n",
    "    # Build Pipeline\n",
    "    pipe = build_pipeline(selected_model, selected_features, param_grid=param_grid, \n",
    "                          vocab=vocab, vocab_usage='tfidf', \n",
    "                          strip_accents=strip_accents, add_countvec=add_countvec)\n",
    "    print(pipe)\n",
    "\n",
    "    \n",
    "    \n",
    "    # Features list\n",
    "    features = []\n",
    "    for item in selected_features.values():\n",
    "        features.extend(item)\n",
    " \n",
    "\n",
    "    # Merge and preprocess train and movies data  \n",
    "    merged = select_features(load_csv(\"train\"), load_csv(\"movies\"), row_thresh_null=None)    # Decide if you want to drop any rows containing lot of nulls\n",
    "    # Impute missing numerical values  \n",
    "    # Simple Imputer for ['audienceScore', 'runtimeMinutes', 'boxOffice'] and 'releaseDate' columns\n",
    "    si = SimpleImputer(strategy='median')\n",
    "    merged[['audienceScore', 'runtimeMinutes', 'boxOffice']] = si.fit_transform(merged[['audienceScore', 'runtimeMinutes', 'boxOffice']])\n",
    "    merged['releaseDate'] = merged[\"releaseDate\"].fillna(merged[\"releaseDate\"].median())    \n",
    "    # Add new columns as needed  \n",
    "    if add_countvec:\n",
    "        merged['reviewText_2'] = merged['reviewText']\n",
    "    if vocab:\n",
    "        merged['reviewText_3'] = merged['reviewText']\n",
    "        \n",
    "    X_train = merged.drop(labels=\"sentiment\", axis=1)\n",
    "    y_train = merged[\"sentiment\"]\n",
    "\n",
    "    X_train = X_train[features]\n",
    "    \n",
    "    \n",
    "    # Check1\n",
    "    print(\"\\nCheck 1 complete.\")\n",
    "    print(f\"Shape of X_train: {X_train.shape}\")\n",
    "    print(f\"Features in X_train: {X_train.columns}\")\n",
    "#     print(X_train.head())\n",
    "    \n",
    "    \n",
    "    # Fit \n",
    "    print(\"\\nTraining started with full pipeline...\")\n",
    "    pipe.fit(X_train, y_train)\n",
    "    \n",
    "    # Check2\n",
    "    print(\"\\nCheck 2 complete.\")\n",
    "    print(\"Details of the best model using full pipeline (GridSearchCV) on X_train: \")\n",
    "    print(f\"Best Params: {pipe.best_params_}\")\n",
    "    print(f\"Best Score: {pipe.best_score_}\")\n",
    "    \n",
    "    print(predict_on_missing_review_data(pipe, features, merged))    # Function defined above\n",
    "    \n",
    "        \n",
    "    # Predict on test.csv file\n",
    "    \n",
    "    # Merge and preprocess test and movies data  \n",
    "    merged_test = select_features(load_csv(\"test\"), load_csv(\"movies\"))\n",
    "    # Transform ['audienceScore', 'runtimeMinutes', 'boxOffice'] columns in merged_test using 'si' fitted on 'merged' df  \n",
    "    merged_test[['audienceScore', 'runtimeMinutes', 'boxOffice']] = si.transform(merged_test[['audienceScore', 'runtimeMinutes', 'boxOffice']])\n",
    "    # Fill 'releaseDate' column in 'merged_test' df with median from the train (merged) df  \n",
    "    merged_test['releaseDate'] = merged_test[\"releaseDate\"].fillna(merged[\"releaseDate\"].median())\n",
    "    # Add new columns as needed \n",
    "    if add_countvec:\n",
    "        merged_test['reviewText_2'] = merged_test['reviewText']\n",
    "    if vocab:\n",
    "        merged_test['reviewText_3'] = merged_test['reviewText']\n",
    "        \n",
    "    X_test = merged_test.copy()\n",
    "\n",
    "    X_test = X_test[features]\n",
    "    \n",
    "    \n",
    "    # Check3\n",
    "    print(\"\\nCheck 3 complete.\")\n",
    "    print(f\"Shape of X_test: {X_test.shape}\")\n",
    "    print(f\"Features in X_test: {X_test.columns}\")\n",
    "#     print(X_test.head())\n",
    "    \n",
    "    y_pred = pipe.predict(X_test)\n",
    "    \n",
    "    # Check4\n",
    "    print(\"\\nCheck 4 complete.\")\n",
    "#     cv_results_df = pd.DataFrame(pipe.cv_results_)\n",
    "    print(\"Details of the best model using full pipeline (GridSearchCV) on X_train: \")\n",
    "    print(f\"Best Estimator: {pipe.best_estimator_}\")\n",
    "    print(f\"Best Params: {pipe.best_params_}\")\n",
    "    print(f\"Best Score: {pipe.best_score_}\")\n",
    "    print(f\"Best Index: {pipe.best_index_}\")\n",
    "    print(f\"Refit Time: {pipe.refit_time_}\")\n",
    "#     print(f\"Shape of CV results dataframe: {cv_results_df.shape}\")\n",
    "    \n",
    "    pred_df = pd.DataFrame(y_pred)\n",
    "    pred_df.columns = [\"sentiment\"]\n",
    "    pred_df.index.name = \"id\"\n",
    "    pred_df.to_csv(\"submission.csv\")\n",
    "    \n",
    "    print(\"\\nSuccessfully created the submission file!!!\")\n",
    "    \n",
    "    return pipe.cv_results_"
   ]
  },
  {
   "cell_type": "code",
   "execution_count": 125,
   "id": "c5390686",
   "metadata": {
    "execution": {
     "iopub.execute_input": "2023-08-12T20:10:25.363645Z",
     "iopub.status.busy": "2023-08-12T20:10:25.362889Z",
     "iopub.status.idle": "2023-08-12T20:10:25.370099Z",
     "shell.execute_reply": "2023-08-12T20:10:25.369014Z"
    },
    "papermill": {
     "duration": 0.115825,
     "end_time": "2023-08-12T20:10:25.372257",
     "exception": false,
     "start_time": "2023-08-12T20:10:25.256432",
     "status": "completed"
    },
    "tags": []
   },
   "outputs": [
    {
     "data": {
      "text/plain": [
       "Index(['movieid', 'reviewerName', 'isFrequentReviewer', 'reviewText',\n",
       "       'sentiment', 'title', 'audienceScore', 'rating', 'ratingContents',\n",
       "       'releaseDateTheaters', 'releaseDateStreaming', 'runtimeMinutes',\n",
       "       'genre', 'originalLanguage', 'director', 'boxOffice', 'distributor',\n",
       "       'soundType', 'reviewYN', 'reviewWC', 'genreSorted', 'rcSorted',\n",
       "       'releaseDate', 'releaseYear', 'releaseMonth', 'releaseDiff'],\n",
       "      dtype='object')"
      ]
     },
     "execution_count": 125,
     "metadata": {},
     "output_type": "execute_result"
    }
   ],
   "source": [
    "merged.columns"
   ]
  },
  {
   "cell_type": "code",
   "execution_count": 126,
   "id": "971f1985",
   "metadata": {
    "execution": {
     "iopub.execute_input": "2023-08-12T20:10:25.582794Z",
     "iopub.status.busy": "2023-08-12T20:10:25.582327Z",
     "iopub.status.idle": "2023-08-12T20:10:25.593637Z",
     "shell.execute_reply": "2023-08-12T20:10:25.592499Z"
    },
    "papermill": {
     "duration": 0.119731,
     "end_time": "2023-08-12T20:10:25.596167",
     "exception": false,
     "start_time": "2023-08-12T20:10:25.476436",
     "status": "completed"
    },
    "tags": []
   },
   "outputs": [],
   "source": [
    "# Best #2\n",
    "v80_dict = {'cat': ['isFrequentReviewer', 'audScoreBins', 'boxOfficeBins'], \n",
    "                  'txt': ['reviewText', 'reviewerName', 'movieid', 'genre', 'director', \n",
    "                          'ratingContents', 'distributor']}\n",
    "# Best #1\n",
    "v88_dict = {'cat': ['isFrequentReviewer', 'audScoreBins', 'boxOfficeBins'],\n",
    "            'num': ['releaseDiff'],\n",
    "            'txt': ['reviewText', 'reviewerName', 'movieid', 'genre', 'director', \n",
    "                         'ratingContents', 'distributor']}\n",
    "\n",
    "v92_dict = {'cat': ['isFrequentReviewer', 'audScoreBins', 'boxOfficeBins', 'releaseDiffBins'],\n",
    "            'txt': ['reviewText', 'reviewerName', 'title', 'genre', 'director', \n",
    "                         'ratingContents', 'distributor']}\n",
    "\n",
    "# Best univariable datapoints dict\n",
    "best_uni_dict = {'cat': [\"isFrequentReviewer\", \"audScoreBins\"],\n",
    "                 'txt': ['reviewText','movieid', 'director', \"ratingContents\"]}\n",
    "\n",
    "# param_grids for LogisticRegression  \n",
    "\n",
    "# Best #1  \n",
    "# param_grid = {\n",
    "#     'model__C' : [1],\n",
    "#     'model__solver': ['saga'],\n",
    "#     \"model__fit_intercept\" : [True],\n",
    "#     \"model__dual\" : [False]\n",
    "#     }\n",
    "\n",
    "# working\n",
    "param_grid = {\n",
    "    'model__C' : [1],\n",
    "    'model__solver': ['saga'],\n",
    "    \"model__fit_intercept\" : [True],\n",
    "    \"model__dual\" : [False],\n",
    "#     \"model__class_weight\": ['balanced', None]\n",
    "}\n",
    "\n",
    "\n",
    "# param_grids for LinearSVC  \n",
    "\n",
    "# param_grid = {\n",
    "#     'model__C' : [1, 10, 20],\n",
    "#     'model__loss': ['hinge', 'squared_hinge'],\n",
    "#     \"model__fit_intercept\" : [True, False],\n",
    "# #     \"model__dual\" : [True, False] \n",
    "# }\n",
    "\n",
    "svm = LinearSVC(max_iter=10000, random_state=42)    # LinearSVC\n",
    "\n",
    "\n",
    "# Local testing\n",
    "# selected_mov = {'num': ['audienceScore', 'boxOffice', 'releaseDiff'], \n",
    "#                 'txt': ['movieid', 'genre', 'director', \n",
    "#                          'ratingContents', 'distributor']}\n",
    "# results = submit_v4(\n",
    "#             selected_features={'num': ['boxOffice']},\n",
    "#             add_countvec=False,\n",
    "#             vocab=None,\n",
    "#             vocab_usage='tfidf',\n",
    "#             param_grid=param_grid\n",
    "#          )\n",
    "\n",
    "# results = submit_v4(selected_model = DummyClassifier(strategy='constant', constant='NEGATIVE'),\n",
    "#             selected_features={'num': ['boxOffice']},\n",
    "#             add_countvec=False,\n",
    "#             vocab=None,\n",
    "#             vocab_usage='tfidf',\n",
    "#             param_grid={'model__strategy' : ['constant']}\n",
    "#          )\n",
    "\n",
    "# Main submission\n",
    "\n",
    "# results = submit_v4(\n",
    "#     selected_features=v88_dict,\n",
    "#     add_countvec=False,\n",
    "#     vocab=common_1_2_3_grams,\n",
    "#     vocab_usage='tfidf',\n",
    "#     param_grid=param_grid\n",
    "#     )\n",
    "\n",
    "# results"
   ]
  },
  {
   "cell_type": "markdown",
   "id": "7b4ebefd",
   "metadata": {
    "papermill": {
     "duration": 0.104289,
     "end_time": "2023-08-12T20:10:25.804584",
     "exception": false,
     "start_time": "2023-08-12T20:10:25.700295",
     "status": "completed"
    },
    "tags": []
   },
   "source": [
    "### ratingContents analysis  "
   ]
  },
  {
   "cell_type": "code",
   "execution_count": 127,
   "id": "52a6a2cc",
   "metadata": {
    "execution": {
     "iopub.execute_input": "2023-08-12T20:10:26.015547Z",
     "iopub.status.busy": "2023-08-12T20:10:26.015117Z",
     "iopub.status.idle": "2023-08-12T20:10:26.019191Z",
     "shell.execute_reply": "2023-08-12T20:10:26.018441Z"
    },
    "papermill": {
     "duration": 0.112003,
     "end_time": "2023-08-12T20:10:26.021161",
     "exception": false,
     "start_time": "2023-08-12T20:10:25.909158",
     "status": "completed"
    },
    "tags": []
   },
   "outputs": [],
   "source": [
    "# Try string split  \n",
    "# s = \"comedy, animation, adventure, fantasy\"\n",
    "# (\",\").join(sorted(s.split(\", \")))"
   ]
  },
  {
   "cell_type": "code",
   "execution_count": 128,
   "id": "870972db",
   "metadata": {
    "execution": {
     "iopub.execute_input": "2023-08-12T20:10:26.233111Z",
     "iopub.status.busy": "2023-08-12T20:10:26.232634Z",
     "iopub.status.idle": "2023-08-12T20:10:26.237818Z",
     "shell.execute_reply": "2023-08-12T20:10:26.236732Z"
    },
    "papermill": {
     "duration": 0.113726,
     "end_time": "2023-08-12T20:10:26.240123",
     "exception": false,
     "start_time": "2023-08-12T20:10:26.126397",
     "status": "completed"
    },
    "tags": []
   },
   "outputs": [],
   "source": [
    "# ratingContents_analysis = merged[[\"ratingContents\", \"sentiment\"]].copy()\n",
    "# print(ratingContents_analysis.head())\n",
    "# ratingContents_analysis[\"rcSorted\"] = ratingContents_analysis[\"ratingContents\"].apply(lambda x: (\",\").join(sorted(x.strip(\"][\").split(\", \"))))\n",
    "# ratingContents_analysis[\"rcSorted\"] = ratingContents_analysis[\"rcSorted\"].apply(lambda x: re.sub(r\"'\", \"\", x))\n",
    "# ratingContents_analysis[\"rcSorted\"] = ratingContents_analysis[\"rcSorted\"].apply(lambda x: re.sub(r\"[/\\s]\", \"_\", x))\n",
    "# ratingContents_analysis.head(10)"
   ]
  },
  {
   "cell_type": "code",
   "execution_count": 129,
   "id": "e6058ba1",
   "metadata": {
    "execution": {
     "iopub.execute_input": "2023-08-12T20:10:26.451026Z",
     "iopub.status.busy": "2023-08-12T20:10:26.450580Z",
     "iopub.status.idle": "2023-08-12T20:10:26.455493Z",
     "shell.execute_reply": "2023-08-12T20:10:26.454479Z"
    },
    "papermill": {
     "duration": 0.112991,
     "end_time": "2023-08-12T20:10:26.457748",
     "exception": false,
     "start_time": "2023-08-12T20:10:26.344757",
     "status": "completed"
    },
    "tags": []
   },
   "outputs": [],
   "source": [
    "# cvec_rc = CountVectorizer(ngram_range=(1,1))\n",
    "# cvec_rc.fit(ratingContents_analysis['rcSorted'])\n",
    "# # len(cvec_rc.vocabulary_), cvec_rc.vocabulary_"
   ]
  },
  {
   "cell_type": "code",
   "execution_count": 130,
   "id": "03058996",
   "metadata": {
    "execution": {
     "iopub.execute_input": "2023-08-12T20:10:26.667760Z",
     "iopub.status.busy": "2023-08-12T20:10:26.667308Z",
     "iopub.status.idle": "2023-08-12T20:10:26.672291Z",
     "shell.execute_reply": "2023-08-12T20:10:26.671162Z"
    },
    "papermill": {
     "duration": 0.112777,
     "end_time": "2023-08-12T20:10:26.674333",
     "exception": false,
     "start_time": "2023-08-12T20:10:26.561556",
     "status": "completed"
    },
    "tags": []
   },
   "outputs": [],
   "source": [
    "# genre_testing = cvec_g.transform(merged[\"genre\"])\n",
    "# print(genre_testing)"
   ]
  },
  {
   "cell_type": "markdown",
   "id": "6011f036",
   "metadata": {
    "papermill": {
     "duration": 0.103644,
     "end_time": "2023-08-12T20:10:26.882042",
     "exception": false,
     "start_time": "2023-08-12T20:10:26.778398",
     "status": "completed"
    },
    "tags": []
   },
   "source": [
    "## Statistical tests  "
   ]
  },
  {
   "cell_type": "markdown",
   "id": "b2717e89",
   "metadata": {
    "papermill": {
     "duration": 0.1041,
     "end_time": "2023-08-12T20:10:27.089820",
     "exception": false,
     "start_time": "2023-08-12T20:10:26.985720",
     "status": "completed"
    },
    "tags": []
   },
   "source": [
    "[Go to genre](#genre_analysis)"
   ]
  },
  {
   "cell_type": "code",
   "execution_count": 131,
   "id": "ec9702d8",
   "metadata": {
    "execution": {
     "iopub.execute_input": "2023-08-12T20:10:27.299270Z",
     "iopub.status.busy": "2023-08-12T20:10:27.298802Z",
     "iopub.status.idle": "2023-08-12T20:10:27.304194Z",
     "shell.execute_reply": "2023-08-12T20:10:27.303057Z"
    },
    "papermill": {
     "duration": 0.113073,
     "end_time": "2023-08-12T20:10:27.306469",
     "exception": false,
     "start_time": "2023-08-12T20:10:27.193396",
     "status": "completed"
    },
    "tags": []
   },
   "outputs": [],
   "source": [
    "# print(merged['boxOffice'].head())\n",
    "# merged[\"boxOffice\"].describe()"
   ]
  },
  {
   "cell_type": "code",
   "execution_count": 132,
   "id": "8c16a80f",
   "metadata": {
    "execution": {
     "iopub.execute_input": "2023-08-12T20:10:27.517594Z",
     "iopub.status.busy": "2023-08-12T20:10:27.517225Z",
     "iopub.status.idle": "2023-08-12T20:10:27.521661Z",
     "shell.execute_reply": "2023-08-12T20:10:27.520666Z"
    },
    "papermill": {
     "duration": 0.111812,
     "end_time": "2023-08-12T20:10:27.523963",
     "exception": false,
     "start_time": "2023-08-12T20:10:27.412151",
     "status": "completed"
    },
    "tags": []
   },
   "outputs": [],
   "source": [
    "# Function for independent samples t-test on numerical columns  \n",
    "# def ttest_ind(feature):\n",
    "#     pos_grp = merged[feature].loc[merged['sentiment'] == \"POSITIVE\"]\n",
    "#     neg_grp = merged[feature].loc[merged['sentiment'] == \"NEGATIVE\"]\n",
    "\n",
    "#     print(pos_grp.shape, neg_grp.shape)\n",
    "#     print(pos_grp.describe(), neg_grp.describe())\n",
    "\n",
    "#     return stats.ttest_ind(pos_grp, neg_grp)"
   ]
  },
  {
   "cell_type": "code",
   "execution_count": 133,
   "id": "8b1ee95a",
   "metadata": {
    "execution": {
     "iopub.execute_input": "2023-08-12T20:10:27.738211Z",
     "iopub.status.busy": "2023-08-12T20:10:27.737803Z",
     "iopub.status.idle": "2023-08-12T20:10:27.742377Z",
     "shell.execute_reply": "2023-08-12T20:10:27.741244Z"
    },
    "papermill": {
     "duration": 0.115809,
     "end_time": "2023-08-12T20:10:27.745023",
     "exception": false,
     "start_time": "2023-08-12T20:10:27.629214",
     "status": "completed"
    },
    "tags": []
   },
   "outputs": [],
   "source": [
    "# ttest_ind('boxOffice')"
   ]
  },
  {
   "cell_type": "code",
   "execution_count": 134,
   "id": "c0d3dc25",
   "metadata": {
    "execution": {
     "iopub.execute_input": "2023-08-12T20:10:27.974914Z",
     "iopub.status.busy": "2023-08-12T20:10:27.974492Z",
     "iopub.status.idle": "2023-08-12T20:10:27.978547Z",
     "shell.execute_reply": "2023-08-12T20:10:27.977750Z"
    },
    "papermill": {
     "duration": 0.119658,
     "end_time": "2023-08-12T20:10:27.980444",
     "exception": false,
     "start_time": "2023-08-12T20:10:27.860786",
     "status": "completed"
    },
    "tags": []
   },
   "outputs": [],
   "source": [
    "# ttest_ind('runtimeMinutes')"
   ]
  },
  {
   "cell_type": "code",
   "execution_count": 135,
   "id": "78c3b1c2",
   "metadata": {
    "execution": {
     "iopub.execute_input": "2023-08-12T20:10:28.191005Z",
     "iopub.status.busy": "2023-08-12T20:10:28.190155Z",
     "iopub.status.idle": "2023-08-12T20:10:28.195344Z",
     "shell.execute_reply": "2023-08-12T20:10:28.194219Z"
    },
    "papermill": {
     "duration": 0.113512,
     "end_time": "2023-08-12T20:10:28.198047",
     "exception": false,
     "start_time": "2023-08-12T20:10:28.084535",
     "status": "completed"
    },
    "tags": []
   },
   "outputs": [],
   "source": [
    "# ttest_ind('audienceScore')"
   ]
  },
  {
   "cell_type": "code",
   "execution_count": 136,
   "id": "f58d9051",
   "metadata": {
    "execution": {
     "iopub.execute_input": "2023-08-12T20:10:28.409459Z",
     "iopub.status.busy": "2023-08-12T20:10:28.409065Z",
     "iopub.status.idle": "2023-08-12T20:10:28.413548Z",
     "shell.execute_reply": "2023-08-12T20:10:28.412497Z"
    },
    "papermill": {
     "duration": 0.113359,
     "end_time": "2023-08-12T20:10:28.416143",
     "exception": false,
     "start_time": "2023-08-12T20:10:28.302784",
     "status": "completed"
    },
    "tags": []
   },
   "outputs": [],
   "source": [
    "# sns.boxplot(x=merged['sentiment'], y=merged['boxOffice'])"
   ]
  },
  {
   "cell_type": "markdown",
   "id": "1db314a3",
   "metadata": {
    "papermill": {
     "duration": 0.104051,
     "end_time": "2023-08-12T20:10:28.624996",
     "exception": false,
     "start_time": "2023-08-12T20:10:28.520945",
     "status": "completed"
    },
    "tags": []
   },
   "source": [
    "## <div id='genre_analysis'>Genre analysis</div>"
   ]
  },
  {
   "cell_type": "code",
   "execution_count": 137,
   "id": "b9ca9b72",
   "metadata": {
    "execution": {
     "iopub.execute_input": "2023-08-12T20:10:28.836438Z",
     "iopub.status.busy": "2023-08-12T20:10:28.836019Z",
     "iopub.status.idle": "2023-08-12T20:10:28.840677Z",
     "shell.execute_reply": "2023-08-12T20:10:28.839680Z"
    },
    "papermill": {
     "duration": 0.113634,
     "end_time": "2023-08-12T20:10:28.842959",
     "exception": false,
     "start_time": "2023-08-12T20:10:28.729325",
     "status": "completed"
    },
    "tags": []
   },
   "outputs": [],
   "source": [
    "# genre_analysis = merged[[\"genre\", \"genreSorted\", \"sentiment\"]].copy()\n",
    "# # print(genre_analysis.head())\n",
    "# # genre_analysis[\"genre\"] = genre_analysis[\"genre\"].apply(lambda x: (\",\").join(sorted(x.split(\", \"))))\n",
    "# genre_analysis.head()"
   ]
  },
  {
   "cell_type": "code",
   "execution_count": 138,
   "id": "5d4fe774",
   "metadata": {
    "execution": {
     "iopub.execute_input": "2023-08-12T20:10:29.055460Z",
     "iopub.status.busy": "2023-08-12T20:10:29.055041Z",
     "iopub.status.idle": "2023-08-12T20:10:29.060742Z",
     "shell.execute_reply": "2023-08-12T20:10:29.059790Z"
    },
    "papermill": {
     "duration": 0.114859,
     "end_time": "2023-08-12T20:10:29.063136",
     "exception": false,
     "start_time": "2023-08-12T20:10:28.948277",
     "status": "completed"
    },
    "tags": []
   },
   "outputs": [],
   "source": [
    "# cvec_g = CountVectorizer(ngram_range=(1,3))\n",
    "# cvec_g.fit(genre_analysis['genre'])\n",
    "# # len(cvec_g.vocabulary_), cvec_g.vocabulary_"
   ]
  },
  {
   "cell_type": "code",
   "execution_count": 139,
   "id": "2274602c",
   "metadata": {
    "execution": {
     "iopub.execute_input": "2023-08-12T20:10:29.281431Z",
     "iopub.status.busy": "2023-08-12T20:10:29.280648Z",
     "iopub.status.idle": "2023-08-12T20:10:29.285642Z",
     "shell.execute_reply": "2023-08-12T20:10:29.284529Z"
    },
    "papermill": {
     "duration": 0.118656,
     "end_time": "2023-08-12T20:10:29.288066",
     "exception": false,
     "start_time": "2023-08-12T20:10:29.169410",
     "status": "completed"
    },
    "tags": []
   },
   "outputs": [],
   "source": [
    "# cvec_gSorted = CountVectorizer(ngram_range=(1,3))\n",
    "# cvec_gSorted.fit(genre_analysis['genreSorted'])\n",
    "# len(cvec_gSorted.vocabulary_), cvec_gSorted.vocabulary_"
   ]
  },
  {
   "cell_type": "code",
   "execution_count": 140,
   "id": "871134dc",
   "metadata": {
    "execution": {
     "iopub.execute_input": "2023-08-12T20:10:29.499022Z",
     "iopub.status.busy": "2023-08-12T20:10:29.498205Z",
     "iopub.status.idle": "2023-08-12T20:10:29.502700Z",
     "shell.execute_reply": "2023-08-12T20:10:29.501936Z"
    },
    "papermill": {
     "duration": 0.111837,
     "end_time": "2023-08-12T20:10:29.504944",
     "exception": false,
     "start_time": "2023-08-12T20:10:29.393107",
     "status": "completed"
    },
    "tags": []
   },
   "outputs": [],
   "source": [
    "# genre_testing = cvec_g.transform(merged[\"genre\"])\n",
    "# # print(genre_testing)"
   ]
  },
  {
   "cell_type": "code",
   "execution_count": 141,
   "id": "c7d0330c",
   "metadata": {
    "execution": {
     "iopub.execute_input": "2023-08-12T20:10:29.790366Z",
     "iopub.status.busy": "2023-08-12T20:10:29.789557Z",
     "iopub.status.idle": "2023-08-12T20:10:29.794283Z",
     "shell.execute_reply": "2023-08-12T20:10:29.793520Z"
    },
    "papermill": {
     "duration": 0.186549,
     "end_time": "2023-08-12T20:10:29.796496",
     "exception": false,
     "start_time": "2023-08-12T20:10:29.609947",
     "status": "completed"
    },
    "tags": []
   },
   "outputs": [],
   "source": [
    "# genre_counts_testing = merged[[\"genre\", \"sentiment\"]].copy()\n",
    "# genre_counts_testing[\"gCount\"] = genre_counts_testing.apply(lambda x: len(str(x[\"genre\"]).split()), axis=1)\n",
    "# genre_counts_testing"
   ]
  },
  {
   "cell_type": "code",
   "execution_count": 142,
   "id": "b26609dc",
   "metadata": {
    "execution": {
     "iopub.execute_input": "2023-08-12T20:10:30.006860Z",
     "iopub.status.busy": "2023-08-12T20:10:30.005989Z",
     "iopub.status.idle": "2023-08-12T20:10:30.011146Z",
     "shell.execute_reply": "2023-08-12T20:10:30.010149Z"
    },
    "papermill": {
     "duration": 0.1126,
     "end_time": "2023-08-12T20:10:30.013422",
     "exception": false,
     "start_time": "2023-08-12T20:10:29.900822",
     "status": "completed"
    },
    "tags": []
   },
   "outputs": [],
   "source": [
    "# sns.boxplot(y=genre_counts_testing[\"gCount\"], x=genre_counts_testing[\"sentiment\"])"
   ]
  },
  {
   "cell_type": "code",
   "execution_count": 143,
   "id": "ba3bfb81",
   "metadata": {
    "execution": {
     "iopub.execute_input": "2023-08-12T20:10:30.224757Z",
     "iopub.status.busy": "2023-08-12T20:10:30.223899Z",
     "iopub.status.idle": "2023-08-12T20:10:30.228887Z",
     "shell.execute_reply": "2023-08-12T20:10:30.227987Z"
    },
    "papermill": {
     "duration": 0.113512,
     "end_time": "2023-08-12T20:10:30.231267",
     "exception": false,
     "start_time": "2023-08-12T20:10:30.117755",
     "status": "completed"
    },
    "tags": []
   },
   "outputs": [],
   "source": [
    "# sns.boxplot(y=merged[\"reviewWC\"], x=merged[\"sentiment\"])"
   ]
  },
  {
   "cell_type": "code",
   "execution_count": 144,
   "id": "bd0f75f6",
   "metadata": {
    "execution": {
     "iopub.execute_input": "2023-08-12T20:10:30.444651Z",
     "iopub.status.busy": "2023-08-12T20:10:30.443844Z",
     "iopub.status.idle": "2023-08-12T20:10:30.448518Z",
     "shell.execute_reply": "2023-08-12T20:10:30.447767Z"
    },
    "papermill": {
     "duration": 0.115014,
     "end_time": "2023-08-12T20:10:30.450843",
     "exception": false,
     "start_time": "2023-08-12T20:10:30.335829",
     "status": "completed"
    },
    "tags": []
   },
   "outputs": [],
   "source": [
    "# audienceScore bins\n",
    "# asc = merged[['audienceScore', 'sentiment']].copy()\n",
    "# asc.head()"
   ]
  },
  {
   "cell_type": "code",
   "execution_count": 145,
   "id": "3bfa63ab",
   "metadata": {
    "execution": {
     "iopub.execute_input": "2023-08-12T20:10:30.664741Z",
     "iopub.status.busy": "2023-08-12T20:10:30.663894Z",
     "iopub.status.idle": "2023-08-12T20:10:30.668816Z",
     "shell.execute_reply": "2023-08-12T20:10:30.667930Z"
    },
    "papermill": {
     "duration": 0.115382,
     "end_time": "2023-08-12T20:10:30.671281",
     "exception": false,
     "start_time": "2023-08-12T20:10:30.555899",
     "status": "completed"
    },
    "tags": []
   },
   "outputs": [],
   "source": [
    "# Binning numerical features  \n",
    "\n",
    "# print(merged[\"runtimeBins\"].value_counts())\n",
    "# sns.displot(merged[\"runtimeBins\"])"
   ]
  },
  {
   "cell_type": "code",
   "execution_count": 146,
   "id": "e6818d55",
   "metadata": {
    "execution": {
     "iopub.execute_input": "2023-08-12T20:10:30.882436Z",
     "iopub.status.busy": "2023-08-12T20:10:30.881606Z",
     "iopub.status.idle": "2023-08-12T20:10:30.886365Z",
     "shell.execute_reply": "2023-08-12T20:10:30.885620Z"
    },
    "papermill": {
     "duration": 0.112643,
     "end_time": "2023-08-12T20:10:30.888566",
     "exception": false,
     "start_time": "2023-08-12T20:10:30.775923",
     "status": "completed"
    },
    "tags": []
   },
   "outputs": [],
   "source": [
    "# Chi-square test for isFrequentReviewer column and sentiment column   \n",
    "\n",
    "# contingency_table = pd.crosstab(traindf['isFrequentReviewer'], traindf['sentiment'])\n",
    "# print(contingency_table)\n",
    "# stats.chi2_contingency(contingency_table)"
   ]
  },
  {
   "cell_type": "markdown",
   "id": "4ecc47c2",
   "metadata": {
    "papermill": {
     "duration": 0.103658,
     "end_time": "2023-08-12T20:10:31.095982",
     "exception": false,
     "start_time": "2023-08-12T20:10:30.992324",
     "status": "completed"
    },
    "tags": []
   },
   "source": [
    "## Baseline performance of 'reviewText' column  "
   ]
  },
  {
   "cell_type": "code",
   "execution_count": 147,
   "id": "8bbe2b9e",
   "metadata": {
    "execution": {
     "iopub.execute_input": "2023-08-12T20:10:31.305772Z",
     "iopub.status.busy": "2023-08-12T20:10:31.304968Z",
     "iopub.status.idle": "2023-08-12T20:10:31.309480Z",
     "shell.execute_reply": "2023-08-12T20:10:31.308755Z"
    },
    "papermill": {
     "duration": 0.112184,
     "end_time": "2023-08-12T20:10:31.311724",
     "exception": false,
     "start_time": "2023-08-12T20:10:31.199540",
     "status": "completed"
    },
    "tags": []
   },
   "outputs": [],
   "source": [
    "# rt_dict = {'txt': ['reviewText']}\n",
    "# rt_dict"
   ]
  },
  {
   "cell_type": "code",
   "execution_count": 148,
   "id": "04410169",
   "metadata": {
    "execution": {
     "iopub.execute_input": "2023-08-12T20:10:31.524516Z",
     "iopub.status.busy": "2023-08-12T20:10:31.523715Z",
     "iopub.status.idle": "2023-08-12T20:10:31.528368Z",
     "shell.execute_reply": "2023-08-12T20:10:31.527449Z"
    },
    "papermill": {
     "duration": 0.113131,
     "end_time": "2023-08-12T20:10:31.530474",
     "exception": false,
     "start_time": "2023-08-12T20:10:31.417343",
     "status": "completed"
    },
    "tags": []
   },
   "outputs": [],
   "source": [
    "# submit_v4(selected_model=LogisticRegression(C=5, solver=\"saga\", max_iter=100000),\n",
    "#           selected_features=rt_dict,\n",
    "#           param_grid=None,\n",
    "#           vocab=None)"
   ]
  },
  {
   "cell_type": "markdown",
   "id": "2d19c416",
   "metadata": {
    "papermill": {
     "duration": 0.10327,
     "end_time": "2023-08-12T20:10:31.738955",
     "exception": false,
     "start_time": "2023-08-12T20:10:31.635685",
     "status": "completed"
    },
    "tags": []
   },
   "source": [
    "## RFE  "
   ]
  },
  {
   "cell_type": "code",
   "execution_count": 149,
   "id": "da822169",
   "metadata": {
    "execution": {
     "iopub.execute_input": "2023-08-12T20:10:31.948170Z",
     "iopub.status.busy": "2023-08-12T20:10:31.947441Z",
     "iopub.status.idle": "2023-08-12T20:10:31.952158Z",
     "shell.execute_reply": "2023-08-12T20:10:31.951338Z"
    },
    "papermill": {
     "duration": 0.111915,
     "end_time": "2023-08-12T20:10:31.954167",
     "exception": false,
     "start_time": "2023-08-12T20:10:31.842252",
     "status": "completed"
    },
    "tags": []
   },
   "outputs": [],
   "source": [
    "# def fs_rfe(selector, text_df, labels, ngram_range=(1,1)):\n",
    "#     text_df_ngram = TfidfVectorizer(ngram_range=ngram_range, stop_words='english').fit_transform(text_df)\n",
    "#     print(\"text_df was vectorized using TF-IDF vectorizer with ngram_range: \", ngram_range)\n",
    "#     print(\"text_df.shape: \", text_df.shape)\n",
    "#     print(\"labels.shape: \", labels.shape)\n",
    "#     print(\"text_df_ngram.shape: \", text_df_ngram.shape)\n",
    "#     print()\n",
    "\n",
    "#     print(\"Starting RFE fit...\")\n",
    "#     selector.fit(text_df_ngram, labels)\n",
    "#     print(\"RFE fit complete.\\n\")\n",
    "    \n",
    "#     print(\"selector.n_features_: \", selector.n_features_)   \n",
    "#     print(\"selector.n_features_in_: \", selector.n_features_in_)\n",
    "#     print(\"selector.support_.shape: \", selector.support_.shape)\n",
    "\n",
    "#     return selector.support_"
   ]
  },
  {
   "cell_type": "markdown",
   "id": "c03b393c",
   "metadata": {
    "papermill": {
     "duration": 0.103657,
     "end_time": "2023-08-12T20:10:32.161833",
     "exception": false,
     "start_time": "2023-08-12T20:10:32.058176",
     "status": "completed"
    },
    "tags": []
   },
   "source": [
    "`RFE for unigrams`  "
   ]
  },
  {
   "cell_type": "code",
   "execution_count": 150,
   "id": "010eeff4",
   "metadata": {
    "execution": {
     "iopub.execute_input": "2023-08-12T20:10:32.371523Z",
     "iopub.status.busy": "2023-08-12T20:10:32.370418Z",
     "iopub.status.idle": "2023-08-12T20:10:32.375339Z",
     "shell.execute_reply": "2023-08-12T20:10:32.374246Z"
    },
    "papermill": {
     "duration": 0.111921,
     "end_time": "2023-08-12T20:10:32.377474",
     "exception": false,
     "start_time": "2023-08-12T20:10:32.265553",
     "status": "completed"
    },
    "tags": []
   },
   "outputs": [],
   "source": [
    "# estimator_rfe_1 = LogisticRegression(solver='saga', max_iter=100000)\n",
    "# selector_rfe_1 = RFE(estimator_rfe_1, step=0.1, n_features_to_select=30000)"
   ]
  },
  {
   "cell_type": "code",
   "execution_count": 151,
   "id": "53cb0695",
   "metadata": {
    "execution": {
     "iopub.execute_input": "2023-08-12T20:10:32.588731Z",
     "iopub.status.busy": "2023-08-12T20:10:32.588256Z",
     "iopub.status.idle": "2023-08-12T20:10:32.592852Z",
     "shell.execute_reply": "2023-08-12T20:10:32.591757Z"
    },
    "papermill": {
     "duration": 0.113209,
     "end_time": "2023-08-12T20:10:32.595132",
     "exception": false,
     "start_time": "2023-08-12T20:10:32.481923",
     "status": "completed"
    },
    "tags": []
   },
   "outputs": [],
   "source": [
    "# rfe_1_feat_mask = fs_rfe(selector_rfe_1, rt_senti[\"reviewText\"], rt_senti[\"sentiment\"], ngram_range=(1,1))\n",
    "# rfe_1_feat_mask"
   ]
  },
  {
   "cell_type": "code",
   "execution_count": 152,
   "id": "e68176ec",
   "metadata": {
    "execution": {
     "iopub.execute_input": "2023-08-12T20:10:32.807247Z",
     "iopub.status.busy": "2023-08-12T20:10:32.805976Z",
     "iopub.status.idle": "2023-08-12T20:10:32.811170Z",
     "shell.execute_reply": "2023-08-12T20:10:32.810369Z"
    },
    "papermill": {
     "duration": 0.113466,
     "end_time": "2023-08-12T20:10:32.813298",
     "exception": false,
     "start_time": "2023-08-12T20:10:32.699832",
     "status": "completed"
    },
    "tags": []
   },
   "outputs": [],
   "source": [
    "# voc_1gram_rfe = list(compress(voc_1gram, rfe_1_feat_mask))\n",
    "# len(voc_1gram_rfe), voc_1gram_rfe[:10]"
   ]
  },
  {
   "cell_type": "markdown",
   "id": "f569a0ff",
   "metadata": {
    "papermill": {
     "duration": 0.103933,
     "end_time": "2023-08-12T20:10:33.022533",
     "exception": false,
     "start_time": "2023-08-12T20:10:32.918600",
     "status": "completed"
    },
    "tags": []
   },
   "source": [
    "`RFE for bigrams`  "
   ]
  },
  {
   "cell_type": "code",
   "execution_count": 153,
   "id": "93ac4120",
   "metadata": {
    "execution": {
     "iopub.execute_input": "2023-08-12T20:10:33.233241Z",
     "iopub.status.busy": "2023-08-12T20:10:33.232476Z",
     "iopub.status.idle": "2023-08-12T20:10:33.237009Z",
     "shell.execute_reply": "2023-08-12T20:10:33.236266Z"
    },
    "papermill": {
     "duration": 0.112547,
     "end_time": "2023-08-12T20:10:33.239153",
     "exception": false,
     "start_time": "2023-08-12T20:10:33.126606",
     "status": "completed"
    },
    "tags": []
   },
   "outputs": [],
   "source": [
    "# estimator_rfe_2 = LogisticRegression(solver='saga', max_iter=100000)\n",
    "# selector_rfe_2 = RFE(estimator_rfe_2, step=0.1, n_features_to_select=50000)"
   ]
  },
  {
   "cell_type": "code",
   "execution_count": 154,
   "id": "3f1ea413",
   "metadata": {
    "execution": {
     "iopub.execute_input": "2023-08-12T20:10:33.451535Z",
     "iopub.status.busy": "2023-08-12T20:10:33.450781Z",
     "iopub.status.idle": "2023-08-12T20:10:33.455669Z",
     "shell.execute_reply": "2023-08-12T20:10:33.454707Z"
    },
    "papermill": {
     "duration": 0.114799,
     "end_time": "2023-08-12T20:10:33.458065",
     "exception": false,
     "start_time": "2023-08-12T20:10:33.343266",
     "status": "completed"
    },
    "tags": []
   },
   "outputs": [],
   "source": [
    "# rfe_2_feat_mask = fs_rfe(selector_rfe_2, rt_senti[\"reviewText\"], rt_senti[\"sentiment\"], ngram_range=(2,2))\n",
    "# rfe_2_feat_mask"
   ]
  },
  {
   "cell_type": "code",
   "execution_count": 155,
   "id": "e3e7b16d",
   "metadata": {
    "execution": {
     "iopub.execute_input": "2023-08-12T20:10:33.671353Z",
     "iopub.status.busy": "2023-08-12T20:10:33.670555Z",
     "iopub.status.idle": "2023-08-12T20:10:33.675577Z",
     "shell.execute_reply": "2023-08-12T20:10:33.674612Z"
    },
    "papermill": {
     "duration": 0.115589,
     "end_time": "2023-08-12T20:10:33.677987",
     "exception": false,
     "start_time": "2023-08-12T20:10:33.562398",
     "status": "completed"
    },
    "tags": []
   },
   "outputs": [],
   "source": [
    "# voc_2gram_rfe = list(compress(voc_2gram, rfe_2_feat_mask))\n",
    "# len(voc_2gram_rfe), voc_2gram_rfe[:10]"
   ]
  },
  {
   "cell_type": "markdown",
   "id": "72d7f89c",
   "metadata": {
    "papermill": {
     "duration": 0.104091,
     "end_time": "2023-08-12T20:10:33.887612",
     "exception": false,
     "start_time": "2023-08-12T20:10:33.783521",
     "status": "completed"
    },
    "tags": []
   },
   "source": [
    "## Final RFE-derived vocabulary  "
   ]
  },
  {
   "cell_type": "code",
   "execution_count": 156,
   "id": "84a9ab16",
   "metadata": {
    "execution": {
     "iopub.execute_input": "2023-08-12T20:10:34.100180Z",
     "iopub.status.busy": "2023-08-12T20:10:34.099048Z",
     "iopub.status.idle": "2023-08-12T20:10:34.103284Z",
     "shell.execute_reply": "2023-08-12T20:10:34.102558Z"
    },
    "papermill": {
     "duration": 0.113381,
     "end_time": "2023-08-12T20:10:34.105278",
     "exception": false,
     "start_time": "2023-08-12T20:10:33.991897",
     "status": "completed"
    },
    "tags": []
   },
   "outputs": [],
   "source": [
    "# rfe_vocab = voc_1gram_rfe + voc_2gram_rfe\n",
    "# len(rfe_vocab), rfe_vocab[:10], rfe_vocab[-10:]"
   ]
  },
  {
   "cell_type": "code",
   "execution_count": 157,
   "id": "7eaf2dc5",
   "metadata": {
    "execution": {
     "iopub.execute_input": "2023-08-12T20:10:34.385627Z",
     "iopub.status.busy": "2023-08-12T20:10:34.384892Z",
     "iopub.status.idle": "2023-08-12T20:10:34.389008Z",
     "shell.execute_reply": "2023-08-12T20:10:34.388082Z"
    },
    "papermill": {
     "duration": 0.112556,
     "end_time": "2023-08-12T20:10:34.391178",
     "exception": false,
     "start_time": "2023-08-12T20:10:34.278622",
     "status": "completed"
    },
    "tags": []
   },
   "outputs": [],
   "source": [
    "## Test RFE obtained vocabulary in final pipeline (only with reviewText)  \n",
    "# submit_v4(selected_model=LogisticRegression(C=5, solver=\"saga\", max_iter=100000),\n",
    "#           selected_features=rt_dict,\n",
    "#           param_grid=None,\n",
    "#           vocab=rfe_vocab)"
   ]
  },
  {
   "cell_type": "markdown",
   "id": "8dd04b1e",
   "metadata": {
    "papermill": {
     "duration": 0.104971,
     "end_time": "2023-08-12T20:10:34.603098",
     "exception": false,
     "start_time": "2023-08-12T20:10:34.498127",
     "status": "completed"
    },
    "tags": []
   },
   "source": [
    "## Use rfe_vocab in final pipeline with all params  "
   ]
  },
  {
   "cell_type": "code",
   "execution_count": 158,
   "id": "4b8b9cd5",
   "metadata": {
    "execution": {
     "iopub.execute_input": "2023-08-12T20:10:34.813999Z",
     "iopub.status.busy": "2023-08-12T20:10:34.813274Z",
     "iopub.status.idle": "2023-08-12T20:10:34.817546Z",
     "shell.execute_reply": "2023-08-12T20:10:34.816762Z"
    },
    "papermill": {
     "duration": 0.112805,
     "end_time": "2023-08-12T20:10:34.819630",
     "exception": false,
     "start_time": "2023-08-12T20:10:34.706825",
     "status": "completed"
    },
    "tags": []
   },
   "outputs": [],
   "source": [
    "# submit_v4(selected_model=LogisticRegression(max_iter=100000),\n",
    "#           selected_features=all_dict,\n",
    "#           param_grid=param_grid,\n",
    "#           vocab=rfe_vocab)"
   ]
  },
  {
   "cell_type": "code",
   "execution_count": 159,
   "id": "81366a9c",
   "metadata": {
    "execution": {
     "iopub.execute_input": "2023-08-12T20:10:35.029904Z",
     "iopub.status.busy": "2023-08-12T20:10:35.029170Z",
     "iopub.status.idle": "2023-08-12T20:10:35.041588Z",
     "shell.execute_reply": "2023-08-12T20:10:35.040748Z"
    },
    "papermill": {
     "duration": 0.119774,
     "end_time": "2023-08-12T20:10:35.043592",
     "exception": false,
     "start_time": "2023-08-12T20:10:34.923818",
     "status": "completed"
    },
    "tags": []
   },
   "outputs": [
    {
     "data": {
      "text/html": [
       "<style>#sk-container-id-1 {color: black;background-color: white;}#sk-container-id-1 pre{padding: 0;}#sk-container-id-1 div.sk-toggleable {background-color: white;}#sk-container-id-1 label.sk-toggleable__label {cursor: pointer;display: block;width: 100%;margin-bottom: 0;padding: 0.3em;box-sizing: border-box;text-align: center;}#sk-container-id-1 label.sk-toggleable__label-arrow:before {content: \"▸\";float: left;margin-right: 0.25em;color: #696969;}#sk-container-id-1 label.sk-toggleable__label-arrow:hover:before {color: black;}#sk-container-id-1 div.sk-estimator:hover label.sk-toggleable__label-arrow:before {color: black;}#sk-container-id-1 div.sk-toggleable__content {max-height: 0;max-width: 0;overflow: hidden;text-align: left;background-color: #f0f8ff;}#sk-container-id-1 div.sk-toggleable__content pre {margin: 0.2em;color: black;border-radius: 0.25em;background-color: #f0f8ff;}#sk-container-id-1 input.sk-toggleable__control:checked~div.sk-toggleable__content {max-height: 200px;max-width: 100%;overflow: auto;}#sk-container-id-1 input.sk-toggleable__control:checked~label.sk-toggleable__label-arrow:before {content: \"▾\";}#sk-container-id-1 div.sk-estimator input.sk-toggleable__control:checked~label.sk-toggleable__label {background-color: #d4ebff;}#sk-container-id-1 div.sk-label input.sk-toggleable__control:checked~label.sk-toggleable__label {background-color: #d4ebff;}#sk-container-id-1 input.sk-hidden--visually {border: 0;clip: rect(1px 1px 1px 1px);clip: rect(1px, 1px, 1px, 1px);height: 1px;margin: -1px;overflow: hidden;padding: 0;position: absolute;width: 1px;}#sk-container-id-1 div.sk-estimator {font-family: monospace;background-color: #f0f8ff;border: 1px dotted black;border-radius: 0.25em;box-sizing: border-box;margin-bottom: 0.5em;}#sk-container-id-1 div.sk-estimator:hover {background-color: #d4ebff;}#sk-container-id-1 div.sk-parallel-item::after {content: \"\";width: 100%;border-bottom: 1px solid gray;flex-grow: 1;}#sk-container-id-1 div.sk-label:hover label.sk-toggleable__label {background-color: #d4ebff;}#sk-container-id-1 div.sk-serial::before {content: \"\";position: absolute;border-left: 1px solid gray;box-sizing: border-box;top: 0;bottom: 0;left: 50%;z-index: 0;}#sk-container-id-1 div.sk-serial {display: flex;flex-direction: column;align-items: center;background-color: white;padding-right: 0.2em;padding-left: 0.2em;position: relative;}#sk-container-id-1 div.sk-item {position: relative;z-index: 1;}#sk-container-id-1 div.sk-parallel {display: flex;align-items: stretch;justify-content: center;background-color: white;position: relative;}#sk-container-id-1 div.sk-item::before, #sk-container-id-1 div.sk-parallel-item::before {content: \"\";position: absolute;border-left: 1px solid gray;box-sizing: border-box;top: 0;bottom: 0;left: 50%;z-index: -1;}#sk-container-id-1 div.sk-parallel-item {display: flex;flex-direction: column;z-index: 1;position: relative;background-color: white;}#sk-container-id-1 div.sk-parallel-item:first-child::after {align-self: flex-end;width: 50%;}#sk-container-id-1 div.sk-parallel-item:last-child::after {align-self: flex-start;width: 50%;}#sk-container-id-1 div.sk-parallel-item:only-child::after {width: 0;}#sk-container-id-1 div.sk-dashed-wrapped {border: 1px dashed gray;margin: 0 0.4em 0.5em 0.4em;box-sizing: border-box;padding-bottom: 0.4em;background-color: white;}#sk-container-id-1 div.sk-label label {font-family: monospace;font-weight: bold;display: inline-block;line-height: 1.2em;}#sk-container-id-1 div.sk-label-container {text-align: center;}#sk-container-id-1 div.sk-container {/* jupyter's `normalize.less` sets `[hidden] { display: none; }` but bootstrap.min.css set `[hidden] { display: none !important; }` so we also need the `!important` here to be able to override the default hidden behavior on the sphinx rendered scikit-learn.org. See: https://github.com/scikit-learn/scikit-learn/issues/21755 */display: inline-block !important;position: relative;}#sk-container-id-1 div.sk-text-repr-fallback {display: none;}</style><div id=\"sk-container-id-1\" class=\"sk-top-container\"><div class=\"sk-text-repr-fallback\"><pre>AdaBoostClassifier(estimator=LogisticRegression(C=5, max_iter=100000,\n",
       "                                                solver=&#x27;saga&#x27;))</pre><b>In a Jupyter environment, please rerun this cell to show the HTML representation or trust the notebook. <br />On GitHub, the HTML representation is unable to render, please try loading this page with nbviewer.org.</b></div><div class=\"sk-container\" hidden><div class=\"sk-item sk-dashed-wrapped\"><div class=\"sk-label-container\"><div class=\"sk-label sk-toggleable\"><input class=\"sk-toggleable__control sk-hidden--visually\" id=\"sk-estimator-id-1\" type=\"checkbox\" ><label for=\"sk-estimator-id-1\" class=\"sk-toggleable__label sk-toggleable__label-arrow\">AdaBoostClassifier</label><div class=\"sk-toggleable__content\"><pre>AdaBoostClassifier(estimator=LogisticRegression(C=5, max_iter=100000,\n",
       "                                                solver=&#x27;saga&#x27;))</pre></div></div></div><div class=\"sk-parallel\"><div class=\"sk-parallel-item\"><div class=\"sk-item\"><div class=\"sk-label-container\"><div class=\"sk-label sk-toggleable\"><input class=\"sk-toggleable__control sk-hidden--visually\" id=\"sk-estimator-id-2\" type=\"checkbox\" ><label for=\"sk-estimator-id-2\" class=\"sk-toggleable__label sk-toggleable__label-arrow\">estimator: LogisticRegression</label><div class=\"sk-toggleable__content\"><pre>LogisticRegression(C=5, max_iter=100000, solver=&#x27;saga&#x27;)</pre></div></div></div><div class=\"sk-serial\"><div class=\"sk-item\"><div class=\"sk-estimator sk-toggleable\"><input class=\"sk-toggleable__control sk-hidden--visually\" id=\"sk-estimator-id-3\" type=\"checkbox\" ><label for=\"sk-estimator-id-3\" class=\"sk-toggleable__label sk-toggleable__label-arrow\">LogisticRegression</label><div class=\"sk-toggleable__content\"><pre>LogisticRegression(C=5, max_iter=100000, solver=&#x27;saga&#x27;)</pre></div></div></div></div></div></div></div></div></div></div>"
      ],
      "text/plain": [
       "AdaBoostClassifier(estimator=LogisticRegression(C=5, max_iter=100000,\n",
       "                                                solver='saga'))"
      ]
     },
     "execution_count": 159,
     "metadata": {},
     "output_type": "execute_result"
    }
   ],
   "source": [
    "adc = AdaBoostClassifier(estimator=LogisticRegression(C=5, solver=\"saga\", max_iter=100000), n_estimators=50)\n",
    "adc"
   ]
  },
  {
   "cell_type": "code",
   "execution_count": 160,
   "id": "c6f29a00",
   "metadata": {
    "execution": {
     "iopub.execute_input": "2023-08-12T20:10:35.255458Z",
     "iopub.status.busy": "2023-08-12T20:10:35.254294Z",
     "iopub.status.idle": "2023-08-12T20:10:35.258740Z",
     "shell.execute_reply": "2023-08-12T20:10:35.257928Z"
    },
    "papermill": {
     "duration": 0.112643,
     "end_time": "2023-08-12T20:10:35.260935",
     "exception": false,
     "start_time": "2023-08-12T20:10:35.148292",
     "status": "completed"
    },
    "tags": []
   },
   "outputs": [],
   "source": [
    "# submit_v4(selected_model=adc,\n",
    "#           selected_features={'cat': ['isFrequentReviewer']},\n",
    "#           param_grid=None,\n",
    "#           vocab=rfe_vocab)"
   ]
  },
  {
   "cell_type": "code",
   "execution_count": 161,
   "id": "a229bcb4",
   "metadata": {
    "execution": {
     "iopub.execute_input": "2023-08-12T20:10:35.472861Z",
     "iopub.status.busy": "2023-08-12T20:10:35.472157Z",
     "iopub.status.idle": "2023-08-12T20:10:35.476016Z",
     "shell.execute_reply": "2023-08-12T20:10:35.475286Z"
    },
    "papermill": {
     "duration": 0.111948,
     "end_time": "2023-08-12T20:10:35.478011",
     "exception": false,
     "start_time": "2023-08-12T20:10:35.366063",
     "status": "completed"
    },
    "tags": []
   },
   "outputs": [],
   "source": [
    "# AdaBoost on all features with RFE vocab on reviewText\n",
    "\n",
    "# submit_v4(selected_model=adc,\n",
    "#           selected_features=all_dict,\n",
    "#           param_grid=None,\n",
    "#           vocab=rfe_vocab)"
   ]
  },
  {
   "cell_type": "code",
   "execution_count": 162,
   "id": "1ce0b67c",
   "metadata": {
    "execution": {
     "iopub.execute_input": "2023-08-12T20:10:35.690615Z",
     "iopub.status.busy": "2023-08-12T20:10:35.689939Z",
     "iopub.status.idle": "2023-08-12T20:10:35.693871Z",
     "shell.execute_reply": "2023-08-12T20:10:35.693025Z"
    },
    "papermill": {
     "duration": 0.114268,
     "end_time": "2023-08-12T20:10:35.696334",
     "exception": false,
     "start_time": "2023-08-12T20:10:35.582066",
     "status": "completed"
    },
    "tags": []
   },
   "outputs": [],
   "source": [
    "# RandomForestClassifier test run on one feature\n",
    "\n",
    "# rfc_2 = RandomForestClassifier()\n",
    "# rfc_2"
   ]
  },
  {
   "cell_type": "code",
   "execution_count": 163,
   "id": "85b8ca1b",
   "metadata": {
    "execution": {
     "iopub.execute_input": "2023-08-12T20:10:35.908766Z",
     "iopub.status.busy": "2023-08-12T20:10:35.907970Z",
     "iopub.status.idle": "2023-08-12T20:10:35.912582Z",
     "shell.execute_reply": "2023-08-12T20:10:35.911852Z"
    },
    "papermill": {
     "duration": 0.113499,
     "end_time": "2023-08-12T20:10:35.914935",
     "exception": false,
     "start_time": "2023-08-12T20:10:35.801436",
     "status": "completed"
    },
    "tags": []
   },
   "outputs": [],
   "source": [
    "# submit_v4(selected_model=rfc_2,\n",
    "#           selected_features={'txt': ['reviewerName']},\n",
    "#           param_grid=None,\n",
    "#           vocab=rfe_vocab)"
   ]
  },
  {
   "cell_type": "code",
   "execution_count": 164,
   "id": "353a086e",
   "metadata": {
    "execution": {
     "iopub.execute_input": "2023-08-12T20:10:36.124612Z",
     "iopub.status.busy": "2023-08-12T20:10:36.124250Z",
     "iopub.status.idle": "2023-08-12T20:10:36.128509Z",
     "shell.execute_reply": "2023-08-12T20:10:36.127386Z"
    },
    "papermill": {
     "duration": 0.111952,
     "end_time": "2023-08-12T20:10:36.130984",
     "exception": false,
     "start_time": "2023-08-12T20:10:36.019032",
     "status": "completed"
    },
    "tags": []
   },
   "outputs": [],
   "source": [
    "# RandomForestClassifier on all features with RFE vocab on reviewText\n",
    "\n",
    "# submit_v4(selected_model=rfc_2,\n",
    "#           selected_features=all_dict,\n",
    "#           param_grid=None,\n",
    "#           vocab=rfe_vocab)"
   ]
  },
  {
   "cell_type": "markdown",
   "id": "cce13c08",
   "metadata": {
    "papermill": {
     "duration": 0.106273,
     "end_time": "2023-08-12T20:10:36.340577",
     "exception": false,
     "start_time": "2023-08-12T20:10:36.234304",
     "status": "completed"
    },
    "tags": []
   },
   "source": [
    "## Submit_v2 for merged file models  "
   ]
  },
  {
   "cell_type": "code",
   "execution_count": 165,
   "id": "c37b0850",
   "metadata": {
    "execution": {
     "iopub.execute_input": "2023-08-12T20:10:36.553229Z",
     "iopub.status.busy": "2023-08-12T20:10:36.552768Z",
     "iopub.status.idle": "2023-08-12T20:10:36.558691Z",
     "shell.execute_reply": "2023-08-12T20:10:36.557797Z"
    },
    "papermill": {
     "duration": 0.115138,
     "end_time": "2023-08-12T20:10:36.560918",
     "exception": false,
     "start_time": "2023-08-12T20:10:36.445780",
     "status": "completed"
    },
    "tags": []
   },
   "outputs": [],
   "source": [
    "# def submit_v2(selected_model=pipe_final, selected_features=None):\n",
    "#     '''\n",
    "#     Note that \"selected_preprocessor\" is already used within selected_model or pipeline\n",
    "#     '''\n",
    "#     # Retrain on the whole train.csv file  \n",
    "#     merged = select_features(load_csv(\"train\"), load_csv(\"movies\"))\n",
    "#     X_train = merged.drop(labels=\"sentiment\", axis=1)\n",
    "#     y_train = merged[\"sentiment\"]\n",
    "    \n",
    "#     #Use selected features\n",
    "#     if selected_features:\n",
    "#         X_train = X_train[selected_features]\n",
    "    \n",
    "#     # Check1\n",
    "#     print(X_train.shape)\n",
    "#     print(X_train.head())\n",
    "#     try:\n",
    "#         print(selected_model.named_steps['model'].intercept_, selected_model.named_steps['model'].coef_)\n",
    "#     except:\n",
    "#         print(\"Model not trained yet!\")\n",
    "    \n",
    "#     # Fit \n",
    "#     selected_model.fit(X_train, y_train)\n",
    "    \n",
    "#     # Check2\n",
    "#     print(selected_model.named_steps['model'].intercept_, selected_model.named_steps['model'].coef_)\n",
    "    \n",
    "#     # Predict on test.csv file\n",
    "#     merged_test = select_features(load_csv(\"test\"), load_csv(\"movies\"))\n",
    "#     X_test = merged_test.copy()\n",
    "#     if selected_features:\n",
    "#         X_test = X_test[selected_features]\n",
    "    \n",
    "#     # Check3\n",
    "#     print(X_test.shape)\n",
    "#     print(X_test.head())\n",
    "    \n",
    "#     y_pred = selected_model.predict(X_test)\n",
    "    \n",
    "#     pred_df = pd.DataFrame(y_pred)\n",
    "#     pred_df.columns = [\"sentiment\"]\n",
    "#     pred_df.index.name = \"id\"\n",
    "#     pred_df.to_csv(\"submission.csv\")\n",
    "    \n",
    "#     return \"Successfully created the submission file!!!\""
   ]
  },
  {
   "cell_type": "code",
   "execution_count": 166,
   "id": "fed1f3ef",
   "metadata": {
    "execution": {
     "iopub.execute_input": "2023-08-12T20:10:36.776838Z",
     "iopub.status.busy": "2023-08-12T20:10:36.775623Z",
     "iopub.status.idle": "2023-08-12T20:10:36.780362Z",
     "shell.execute_reply": "2023-08-12T20:10:36.779581Z"
    },
    "papermill": {
     "duration": 0.114224,
     "end_time": "2023-08-12T20:10:36.782520",
     "exception": false,
     "start_time": "2023-08-12T20:10:36.668296",
     "status": "completed"
    },
    "tags": []
   },
   "outputs": [],
   "source": [
    "#     X_test = merged_test.copy()\n",
    "    \n",
    "#     y_pred = pipe_best4.predict(X_test)\n",
    "# #     np.unique(y_pred, return_counts=True)\n",
    "#     pred_df = pd.DataFrame(y_pred)\n",
    "#     pred_df.columns = [\"sentiment\"]\n",
    "#     pred_df.index.name = \"id\"\n",
    "#     pred_df.value_counts()"
   ]
  },
  {
   "cell_type": "code",
   "execution_count": 167,
   "id": "de4e2711",
   "metadata": {
    "execution": {
     "iopub.execute_input": "2023-08-12T20:10:36.996567Z",
     "iopub.status.busy": "2023-08-12T20:10:36.995791Z",
     "iopub.status.idle": "2023-08-12T20:10:37.001035Z",
     "shell.execute_reply": "2023-08-12T20:10:36.999917Z"
    },
    "papermill": {
     "duration": 0.114408,
     "end_time": "2023-08-12T20:10:37.003707",
     "exception": false,
     "start_time": "2023-08-12T20:10:36.889299",
     "status": "completed"
    },
    "tags": []
   },
   "outputs": [],
   "source": [
    "# X_test.columns"
   ]
  },
  {
   "cell_type": "markdown",
   "id": "42e1a0cf",
   "metadata": {
    "papermill": {
     "duration": 0.10449,
     "end_time": "2023-08-12T20:10:37.214563",
     "exception": false,
     "start_time": "2023-08-12T20:10:37.110073",
     "status": "completed"
    },
    "tags": []
   },
   "source": [
    "### Uncomment to submit using v2 of submit function  "
   ]
  },
  {
   "cell_type": "code",
   "execution_count": 168,
   "id": "62af4d45",
   "metadata": {
    "execution": {
     "iopub.execute_input": "2023-08-12T20:10:37.427663Z",
     "iopub.status.busy": "2023-08-12T20:10:37.427208Z",
     "iopub.status.idle": "2023-08-12T20:10:37.432322Z",
     "shell.execute_reply": "2023-08-12T20:10:37.430921Z"
    },
    "papermill": {
     "duration": 0.1151,
     "end_time": "2023-08-12T20:10:37.434749",
     "exception": false,
     "start_time": "2023-08-12T20:10:37.319649",
     "status": "completed"
    },
    "tags": []
   },
   "outputs": [],
   "source": [
    "# best4 = [\"audienceScore\", \"rating\", \"isFrequentReviewer\", \"reviewText\"]\n",
    "# best4"
   ]
  },
  {
   "cell_type": "code",
   "execution_count": 169,
   "id": "c343e40f",
   "metadata": {
    "execution": {
     "iopub.execute_input": "2023-08-12T20:10:37.647533Z",
     "iopub.status.busy": "2023-08-12T20:10:37.647085Z",
     "iopub.status.idle": "2023-08-12T20:10:37.652071Z",
     "shell.execute_reply": "2023-08-12T20:10:37.650971Z"
    },
    "papermill": {
     "duration": 0.114394,
     "end_time": "2023-08-12T20:10:37.654269",
     "exception": false,
     "start_time": "2023-08-12T20:10:37.539875",
     "status": "completed"
    },
    "tags": []
   },
   "outputs": [],
   "source": [
    "# submit_v2(selected_model=pipe_RTonly, selected_features=['reviewText'])"
   ]
  },
  {
   "cell_type": "markdown",
   "id": "5b3eb136",
   "metadata": {
    "papermill": {
     "duration": 0.114249,
     "end_time": "2023-08-12T20:10:37.876999",
     "exception": false,
     "start_time": "2023-08-12T20:10:37.762750",
     "status": "completed"
    },
    "tags": []
   },
   "source": [
    "### Inspect the submission.csv file  "
   ]
  },
  {
   "cell_type": "code",
   "execution_count": 170,
   "id": "cd1e8f87",
   "metadata": {
    "execution": {
     "iopub.execute_input": "2023-08-12T20:10:38.093166Z",
     "iopub.status.busy": "2023-08-12T20:10:38.092777Z",
     "iopub.status.idle": "2023-08-12T20:10:38.097453Z",
     "shell.execute_reply": "2023-08-12T20:10:38.096413Z"
    },
    "papermill": {
     "duration": 0.11204,
     "end_time": "2023-08-12T20:10:38.099502",
     "exception": false,
     "start_time": "2023-08-12T20:10:37.987462",
     "status": "completed"
    },
    "tags": []
   },
   "outputs": [],
   "source": [
    "# sub = pd.read_csv('submission.csv')\n",
    "# sub.shape, sub.head()"
   ]
  },
  {
   "cell_type": "code",
   "execution_count": 171,
   "id": "e690509e",
   "metadata": {
    "execution": {
     "iopub.execute_input": "2023-08-12T20:10:38.309618Z",
     "iopub.status.busy": "2023-08-12T20:10:38.309216Z",
     "iopub.status.idle": "2023-08-12T20:10:38.314292Z",
     "shell.execute_reply": "2023-08-12T20:10:38.313192Z"
    },
    "papermill": {
     "duration": 0.112794,
     "end_time": "2023-08-12T20:10:38.316334",
     "exception": false,
     "start_time": "2023-08-12T20:10:38.203540",
     "status": "completed"
    },
    "tags": []
   },
   "outputs": [],
   "source": [
    "# sub['sentiment'].value_counts()"
   ]
  },
  {
   "cell_type": "markdown",
   "id": "5225cee0",
   "metadata": {
    "papermill": {
     "duration": 0.105247,
     "end_time": "2023-08-12T20:10:38.526299",
     "exception": false,
     "start_time": "2023-08-12T20:10:38.421052",
     "status": "completed"
    },
    "tags": []
   },
   "source": [
    "## submit_v3 for merged file models - does not retrain on whole data  "
   ]
  },
  {
   "cell_type": "code",
   "execution_count": 172,
   "id": "3833e73f",
   "metadata": {
    "execution": {
     "iopub.execute_input": "2023-08-12T20:10:38.739216Z",
     "iopub.status.busy": "2023-08-12T20:10:38.738353Z",
     "iopub.status.idle": "2023-08-12T20:10:38.742982Z",
     "shell.execute_reply": "2023-08-12T20:10:38.742245Z"
    },
    "papermill": {
     "duration": 0.11298,
     "end_time": "2023-08-12T20:10:38.745004",
     "exception": false,
     "start_time": "2023-08-12T20:10:38.632024",
     "status": "completed"
    },
    "tags": []
   },
   "outputs": [],
   "source": [
    "# def submit_v3(selected_model=pipe_final):\n",
    "#     '''\n",
    "#     Note that \"selected_preprocessor\" is already used within selected_model or pipeline\n",
    "#     '''\n",
    "      \n",
    "#     # Predict on test.csv file\n",
    "#     merged_test = select_features(load_csv(\"test\"), load_csv(\"movies\"))\n",
    "#     X_test = merged_test.copy()\n",
    "    \n",
    "#     X_test = X_test[[\"audienceScore\", \"rating\", \"isFrequentReviewer\", \"reviewText\"]]    # This is a new line\n",
    "\n",
    "    \n",
    "#     y_pred = selected_model.predict(X_test)\n",
    "    \n",
    "#     pred_df = pd.DataFrame(y_pred)\n",
    "#     pred_df.columns = [\"sentiment\"]\n",
    "#     pred_df.index.name = \"id\"\n",
    "#     pred_df.to_csv(\"submission.csv\")\n",
    "    \n",
    "#     return \"Successfully created the submission file!!!\""
   ]
  },
  {
   "cell_type": "markdown",
   "id": "df1c0c06",
   "metadata": {
    "papermill": {
     "duration": 0.104761,
     "end_time": "2023-08-12T20:10:38.953720",
     "exception": false,
     "start_time": "2023-08-12T20:10:38.848959",
     "status": "completed"
    },
    "tags": []
   },
   "source": [
    "### Uncomment to submit using v3 of submit function  "
   ]
  },
  {
   "cell_type": "code",
   "execution_count": 173,
   "id": "408185b6",
   "metadata": {
    "execution": {
     "iopub.execute_input": "2023-08-12T20:10:39.166849Z",
     "iopub.status.busy": "2023-08-12T20:10:39.166248Z",
     "iopub.status.idle": "2023-08-12T20:10:39.169917Z",
     "shell.execute_reply": "2023-08-12T20:10:39.169163Z"
    },
    "papermill": {
     "duration": 0.112242,
     "end_time": "2023-08-12T20:10:39.171889",
     "exception": false,
     "start_time": "2023-08-12T20:10:39.059647",
     "status": "completed"
    },
    "tags": []
   },
   "outputs": [],
   "source": [
    "# submit_v3(selected_model=pipe_best4)"
   ]
  },
  {
   "cell_type": "markdown",
   "id": "5a50c433",
   "metadata": {
    "papermill": {
     "duration": 0.105383,
     "end_time": "2023-08-12T20:10:39.382922",
     "exception": false,
     "start_time": "2023-08-12T20:10:39.277539",
     "status": "completed"
    },
    "tags": []
   },
   "source": [
    "## Rough work  "
   ]
  },
  {
   "cell_type": "code",
   "execution_count": 174,
   "id": "54fb3dbc",
   "metadata": {
    "execution": {
     "iopub.execute_input": "2023-08-12T20:10:39.596009Z",
     "iopub.status.busy": "2023-08-12T20:10:39.595545Z",
     "iopub.status.idle": "2023-08-12T20:10:45.631980Z",
     "shell.execute_reply": "2023-08-12T20:10:45.630752Z"
    },
    "papermill": {
     "duration": 6.147128,
     "end_time": "2023-08-12T20:10:45.634933",
     "exception": false,
     "start_time": "2023-08-12T20:10:39.487805",
     "status": "completed"
    },
    "tags": []
   },
   "outputs": [],
   "source": [
    "    # Predict on test.csv file\n",
    "    merged_test = select_features(load_csv(\"test\"), load_csv(\"movies\"))\n",
    "    X_test = merged_test.copy()\n",
    "    \n",
    "    X_test = X_test[[\"audienceScore\", \"rating\", \"isFrequentReviewer\", \"reviewText\"]]    # This is a new line"
   ]
  },
  {
   "cell_type": "code",
   "execution_count": 175,
   "id": "2092acdd",
   "metadata": {
    "execution": {
     "iopub.execute_input": "2023-08-12T20:10:45.920778Z",
     "iopub.status.busy": "2023-08-12T20:10:45.919621Z",
     "iopub.status.idle": "2023-08-12T20:10:45.924352Z",
     "shell.execute_reply": "2023-08-12T20:10:45.923393Z"
    },
    "papermill": {
     "duration": 0.113236,
     "end_time": "2023-08-12T20:10:45.926442",
     "exception": false,
     "start_time": "2023-08-12T20:10:45.813206",
     "status": "completed"
    },
    "tags": []
   },
   "outputs": [],
   "source": [
    "# X_test.head()"
   ]
  },
  {
   "cell_type": "code",
   "execution_count": 176,
   "id": "90e3c0f3",
   "metadata": {
    "execution": {
     "iopub.execute_input": "2023-08-12T20:10:46.139374Z",
     "iopub.status.busy": "2023-08-12T20:10:46.138607Z",
     "iopub.status.idle": "2023-08-12T20:10:46.142972Z",
     "shell.execute_reply": "2023-08-12T20:10:46.142106Z"
    },
    "papermill": {
     "duration": 0.114235,
     "end_time": "2023-08-12T20:10:46.145191",
     "exception": false,
     "start_time": "2023-08-12T20:10:46.030956",
     "status": "completed"
    },
    "tags": []
   },
   "outputs": [],
   "source": [
    "# X_test['audienceScore'].describe()"
   ]
  },
  {
   "cell_type": "code",
   "execution_count": 177,
   "id": "8eb872b3",
   "metadata": {
    "execution": {
     "iopub.execute_input": "2023-08-12T20:10:46.356325Z",
     "iopub.status.busy": "2023-08-12T20:10:46.355618Z",
     "iopub.status.idle": "2023-08-12T20:10:46.359480Z",
     "shell.execute_reply": "2023-08-12T20:10:46.358722Z"
    },
    "papermill": {
     "duration": 0.111727,
     "end_time": "2023-08-12T20:10:46.361577",
     "exception": false,
     "start_time": "2023-08-12T20:10:46.249850",
     "status": "completed"
    },
    "tags": []
   },
   "outputs": [],
   "source": [
    "# X_test['rating'].value_counts()"
   ]
  },
  {
   "cell_type": "code",
   "execution_count": 178,
   "id": "0ff4aad0",
   "metadata": {
    "execution": {
     "iopub.execute_input": "2023-08-12T20:10:46.574808Z",
     "iopub.status.busy": "2023-08-12T20:10:46.574374Z",
     "iopub.status.idle": "2023-08-12T20:10:46.578943Z",
     "shell.execute_reply": "2023-08-12T20:10:46.577842Z"
    },
    "papermill": {
     "duration": 0.114189,
     "end_time": "2023-08-12T20:10:46.581444",
     "exception": false,
     "start_time": "2023-08-12T20:10:46.467255",
     "status": "completed"
    },
    "tags": []
   },
   "outputs": [],
   "source": [
    "# X_test['isFrequentReviewer'].value_counts()"
   ]
  },
  {
   "cell_type": "markdown",
   "id": "50b99c27",
   "metadata": {
    "papermill": {
     "duration": 0.104928,
     "end_time": "2023-08-12T20:10:46.792302",
     "exception": false,
     "start_time": "2023-08-12T20:10:46.687374",
     "status": "completed"
    },
    "tags": []
   },
   "source": [
    "## Implement KNN classifier  "
   ]
  },
  {
   "cell_type": "code",
   "execution_count": 179,
   "id": "0d62bb93",
   "metadata": {
    "execution": {
     "iopub.execute_input": "2023-08-12T20:10:47.003478Z",
     "iopub.status.busy": "2023-08-12T20:10:47.003080Z",
     "iopub.status.idle": "2023-08-12T20:10:47.007356Z",
     "shell.execute_reply": "2023-08-12T20:10:47.006466Z"
    },
    "papermill": {
     "duration": 0.112146,
     "end_time": "2023-08-12T20:10:47.009303",
     "exception": false,
     "start_time": "2023-08-12T20:10:46.897157",
     "status": "completed"
    },
    "tags": []
   },
   "outputs": [],
   "source": [
    "# from sklearn.neighbors import KNeighborsClassifier"
   ]
  },
  {
   "cell_type": "code",
   "execution_count": 180,
   "id": "12ddb722",
   "metadata": {
    "execution": {
     "iopub.execute_input": "2023-08-12T20:10:47.221334Z",
     "iopub.status.busy": "2023-08-12T20:10:47.220357Z",
     "iopub.status.idle": "2023-08-12T20:10:47.224759Z",
     "shell.execute_reply": "2023-08-12T20:10:47.223999Z"
    },
    "papermill": {
     "duration": 0.112282,
     "end_time": "2023-08-12T20:10:47.226890",
     "exception": false,
     "start_time": "2023-08-12T20:10:47.114608",
     "status": "completed"
    },
    "tags": []
   },
   "outputs": [],
   "source": [
    "# Note that we are borrowing \"ct_final\" column transformer from above  "
   ]
  },
  {
   "cell_type": "code",
   "execution_count": 181,
   "id": "5324d75c",
   "metadata": {
    "execution": {
     "iopub.execute_input": "2023-08-12T20:10:47.438347Z",
     "iopub.status.busy": "2023-08-12T20:10:47.437935Z",
     "iopub.status.idle": "2023-08-12T20:10:47.442334Z",
     "shell.execute_reply": "2023-08-12T20:10:47.441256Z"
    },
    "papermill": {
     "duration": 0.112971,
     "end_time": "2023-08-12T20:10:47.444662",
     "exception": false,
     "start_time": "2023-08-12T20:10:47.331691",
     "status": "completed"
    },
    "tags": []
   },
   "outputs": [],
   "source": [
    "# pipe_knn = Pipeline(steps=[\n",
    "#                         (\"preprocessor\", ct_final),\n",
    "#                         (\"model\", KNeighborsClassifier())\n",
    "#                     ])\n",
    "# pipe_knn"
   ]
  },
  {
   "cell_type": "code",
   "execution_count": 182,
   "id": "b5d46341",
   "metadata": {
    "execution": {
     "iopub.execute_input": "2023-08-12T20:10:47.658111Z",
     "iopub.status.busy": "2023-08-12T20:10:47.657678Z",
     "iopub.status.idle": "2023-08-12T20:10:47.663804Z",
     "shell.execute_reply": "2023-08-12T20:10:47.662151Z"
    },
    "papermill": {
     "duration": 0.116361,
     "end_time": "2023-08-12T20:10:47.667025",
     "exception": false,
     "start_time": "2023-08-12T20:10:47.550664",
     "status": "completed"
    },
    "tags": []
   },
   "outputs": [],
   "source": [
    "# Train and predict on merged training data  \n",
    "# split_train_predict(merged_train_features, merged_train_labels, pipe_knn, test_size=0.25, random_state=42)"
   ]
  },
  {
   "cell_type": "markdown",
   "id": "1654b9f0",
   "metadata": {
    "papermill": {
     "duration": 0.122494,
     "end_time": "2023-08-12T20:10:47.898619",
     "exception": false,
     "start_time": "2023-08-12T20:10:47.776125",
     "status": "completed"
    },
    "tags": []
   },
   "source": [
    "# Part I (Older code)  "
   ]
  },
  {
   "cell_type": "markdown",
   "id": "52c47400",
   "metadata": {
    "papermill": {
     "duration": 0.105173,
     "end_time": "2023-08-12T20:10:48.112494",
     "exception": false,
     "start_time": "2023-08-12T20:10:48.007321",
     "status": "completed"
    },
    "tags": []
   },
   "source": [
    "### Logistic Regression with stop words  "
   ]
  },
  {
   "cell_type": "code",
   "execution_count": 183,
   "id": "4b7d73ad",
   "metadata": {
    "execution": {
     "iopub.execute_input": "2023-08-12T20:10:48.325337Z",
     "iopub.status.busy": "2023-08-12T20:10:48.324542Z",
     "iopub.status.idle": "2023-08-12T20:10:48.329120Z",
     "shell.execute_reply": "2023-08-12T20:10:48.328316Z"
    },
    "papermill": {
     "duration": 0.113494,
     "end_time": "2023-08-12T20:10:48.331314",
     "exception": false,
     "start_time": "2023-08-12T20:10:48.217820",
     "status": "completed"
    },
    "tags": []
   },
   "outputs": [],
   "source": [
    "# tvec_sw = TfidfVectorizer(stop_words=stop_words)"
   ]
  },
  {
   "cell_type": "code",
   "execution_count": 184,
   "id": "09cfab28",
   "metadata": {
    "execution": {
     "iopub.execute_input": "2023-08-12T20:10:48.544850Z",
     "iopub.status.busy": "2023-08-12T20:10:48.544379Z",
     "iopub.status.idle": "2023-08-12T20:10:48.549114Z",
     "shell.execute_reply": "2023-08-12T20:10:48.548189Z"
    },
    "papermill": {
     "duration": 0.113188,
     "end_time": "2023-08-12T20:10:48.551199",
     "exception": false,
     "start_time": "2023-08-12T20:10:48.438011",
     "status": "completed"
    },
    "tags": []
   },
   "outputs": [],
   "source": [
    "# logreg_sw_pipe = preprocess_n_train(X_train, y_train, tvec_sw, logreg)\n",
    "# logreg_sw_pipe"
   ]
  },
  {
   "cell_type": "code",
   "execution_count": 185,
   "id": "516e51ec",
   "metadata": {
    "execution": {
     "iopub.execute_input": "2023-08-12T20:10:48.764900Z",
     "iopub.status.busy": "2023-08-12T20:10:48.764065Z",
     "iopub.status.idle": "2023-08-12T20:10:48.768775Z",
     "shell.execute_reply": "2023-08-12T20:10:48.767681Z"
    },
    "papermill": {
     "duration": 0.1146,
     "end_time": "2023-08-12T20:10:48.771080",
     "exception": false,
     "start_time": "2023-08-12T20:10:48.656480",
     "status": "completed"
    },
    "tags": []
   },
   "outputs": [],
   "source": [
    "# y_pred_logreg_sw = predict_n_evaluate(logreg_sw_pipe, X_test, y_test)\n",
    "# y_pred_logreg_sw"
   ]
  },
  {
   "cell_type": "markdown",
   "id": "3e1b547d",
   "metadata": {
    "papermill": {
     "duration": 0.105292,
     "end_time": "2023-08-12T20:10:48.981469",
     "exception": false,
     "start_time": "2023-08-12T20:10:48.876177",
     "status": "completed"
    },
    "tags": []
   },
   "source": [
    "### Logistic regression with different ngram ranges  "
   ]
  },
  {
   "cell_type": "code",
   "execution_count": 186,
   "id": "c24936ab",
   "metadata": {
    "execution": {
     "iopub.execute_input": "2023-08-12T20:10:49.196115Z",
     "iopub.status.busy": "2023-08-12T20:10:49.195110Z",
     "iopub.status.idle": "2023-08-12T20:10:49.200321Z",
     "shell.execute_reply": "2023-08-12T20:10:49.199250Z"
    },
    "papermill": {
     "duration": 0.114475,
     "end_time": "2023-08-12T20:10:49.202626",
     "exception": false,
     "start_time": "2023-08-12T20:10:49.088151",
     "status": "completed"
    },
    "tags": []
   },
   "outputs": [],
   "source": [
    "# tvec_ngram_2 = TfidfVectorizer(ngram_range=(1,2))"
   ]
  },
  {
   "cell_type": "code",
   "execution_count": 187,
   "id": "8ca1eaa3",
   "metadata": {
    "execution": {
     "iopub.execute_input": "2023-08-12T20:10:49.416467Z",
     "iopub.status.busy": "2023-08-12T20:10:49.415777Z",
     "iopub.status.idle": "2023-08-12T20:10:49.419457Z",
     "shell.execute_reply": "2023-08-12T20:10:49.418716Z"
    },
    "papermill": {
     "duration": 0.113475,
     "end_time": "2023-08-12T20:10:49.421628",
     "exception": false,
     "start_time": "2023-08-12T20:10:49.308153",
     "status": "completed"
    },
    "tags": []
   },
   "outputs": [],
   "source": [
    "# logreg_ng2_pipe = preprocess_n_train(X_train, y_train, tvec_ngram_2, logreg)\n",
    "# logreg_ng2_pipe"
   ]
  },
  {
   "cell_type": "code",
   "execution_count": 188,
   "id": "bd14e931",
   "metadata": {
    "execution": {
     "iopub.execute_input": "2023-08-12T20:10:49.635055Z",
     "iopub.status.busy": "2023-08-12T20:10:49.634340Z",
     "iopub.status.idle": "2023-08-12T20:10:49.638750Z",
     "shell.execute_reply": "2023-08-12T20:10:49.637683Z"
    },
    "papermill": {
     "duration": 0.114187,
     "end_time": "2023-08-12T20:10:49.640951",
     "exception": false,
     "start_time": "2023-08-12T20:10:49.526764",
     "status": "completed"
    },
    "tags": []
   },
   "outputs": [],
   "source": [
    "# y_pred_logreg_ng2 = predict_n_evaluate(logreg_ng2_pipe, X_test, y_test)\n",
    "# y_pred_logreg_ng2"
   ]
  },
  {
   "cell_type": "markdown",
   "id": "8da88f9e",
   "metadata": {
    "papermill": {
     "duration": 0.104862,
     "end_time": "2023-08-12T20:10:49.852798",
     "exception": false,
     "start_time": "2023-08-12T20:10:49.747936",
     "status": "completed"
    },
    "tags": []
   },
   "source": [
    "### Logistic regression with C=2, ngram range (1,2), stop words as None and min_df, max_df adjusted\n",
    "### Class weight balanced"
   ]
  },
  {
   "cell_type": "code",
   "execution_count": 189,
   "id": "c8c30e8d",
   "metadata": {
    "execution": {
     "iopub.execute_input": "2023-08-12T20:10:50.064348Z",
     "iopub.status.busy": "2023-08-12T20:10:50.063960Z",
     "iopub.status.idle": "2023-08-12T20:10:50.068492Z",
     "shell.execute_reply": "2023-08-12T20:10:50.067373Z"
    },
    "papermill": {
     "duration": 0.112862,
     "end_time": "2023-08-12T20:10:50.070535",
     "exception": false,
     "start_time": "2023-08-12T20:10:49.957673",
     "status": "completed"
    },
    "tags": []
   },
   "outputs": [],
   "source": [
    "# logreg = LogisticRegression(max_iter=100000, C=2, class_weight=\"balanced\")"
   ]
  },
  {
   "cell_type": "code",
   "execution_count": 190,
   "id": "da319ac8",
   "metadata": {
    "execution": {
     "iopub.execute_input": "2023-08-12T20:10:50.283378Z",
     "iopub.status.busy": "2023-08-12T20:10:50.282950Z",
     "iopub.status.idle": "2023-08-12T20:10:50.287332Z",
     "shell.execute_reply": "2023-08-12T20:10:50.286327Z"
    },
    "papermill": {
     "duration": 0.11223,
     "end_time": "2023-08-12T20:10:50.289451",
     "exception": false,
     "start_time": "2023-08-12T20:10:50.177221",
     "status": "completed"
    },
    "tags": []
   },
   "outputs": [],
   "source": [
    "# tvec_ngram_2_sw_df = TfidfVectorizer(ngram_range=(1,2), stop_words=None, min_df=0.0001, max_df=0.50)\n",
    "# tvec_ngram_2_sw_df"
   ]
  },
  {
   "cell_type": "code",
   "execution_count": 191,
   "id": "28a78267",
   "metadata": {
    "execution": {
     "iopub.execute_input": "2023-08-12T20:10:50.499176Z",
     "iopub.status.busy": "2023-08-12T20:10:50.498796Z",
     "iopub.status.idle": "2023-08-12T20:10:50.503433Z",
     "shell.execute_reply": "2023-08-12T20:10:50.502363Z"
    },
    "papermill": {
     "duration": 0.11244,
     "end_time": "2023-08-12T20:10:50.505661",
     "exception": false,
     "start_time": "2023-08-12T20:10:50.393221",
     "status": "completed"
    },
    "tags": []
   },
   "outputs": [],
   "source": [
    "# logreg_ng2_sw_df_pipe = preprocess_n_train(X_train, y_train, tvec_ngram_2_sw_df, logreg)\n",
    "# logreg_ng2_sw_df_pipe"
   ]
  },
  {
   "cell_type": "code",
   "execution_count": 192,
   "id": "1d81b1ce",
   "metadata": {
    "execution": {
     "iopub.execute_input": "2023-08-12T20:10:50.720064Z",
     "iopub.status.busy": "2023-08-12T20:10:50.719649Z",
     "iopub.status.idle": "2023-08-12T20:10:50.724839Z",
     "shell.execute_reply": "2023-08-12T20:10:50.723529Z"
    },
    "papermill": {
     "duration": 0.115953,
     "end_time": "2023-08-12T20:10:50.727432",
     "exception": false,
     "start_time": "2023-08-12T20:10:50.611479",
     "status": "completed"
    },
    "tags": []
   },
   "outputs": [],
   "source": [
    "# y_pred_logreg_ng2_sw_df = predict_n_evaluate(logreg_ng2_sw_df_pipe, X_test, y_test)\n",
    "# y_pred_logreg_ng2_sw_df"
   ]
  },
  {
   "cell_type": "markdown",
   "id": "c301c53e",
   "metadata": {
    "papermill": {
     "duration": 0.105744,
     "end_time": "2023-08-12T20:10:50.939001",
     "exception": false,
     "start_time": "2023-08-12T20:10:50.833257",
     "status": "completed"
    },
    "tags": []
   },
   "source": [
    "### Log reg with parameters from GridSearchCV  \n",
    "\n",
    "`This is the best score with \"reviewText column alone for analysis`  "
   ]
  },
  {
   "cell_type": "code",
   "execution_count": 193,
   "id": "d7b8678b",
   "metadata": {
    "execution": {
     "iopub.execute_input": "2023-08-12T20:10:51.151572Z",
     "iopub.status.busy": "2023-08-12T20:10:51.151197Z",
     "iopub.status.idle": "2023-08-12T20:10:51.156685Z",
     "shell.execute_reply": "2023-08-12T20:10:51.155455Z"
    },
    "papermill": {
     "duration": 0.114676,
     "end_time": "2023-08-12T20:10:51.158981",
     "exception": false,
     "start_time": "2023-08-12T20:10:51.044305",
     "status": "completed"
    },
    "tags": []
   },
   "outputs": [],
   "source": [
    "logreg_cv1 = LogisticRegression(max_iter=100000, C=10)\n",
    "tvec_cv1 = TfidfVectorizer(max_features=None, ngram_range=(1,2))"
   ]
  },
  {
   "cell_type": "code",
   "execution_count": 194,
   "id": "da121559",
   "metadata": {
    "execution": {
     "iopub.execute_input": "2023-08-12T20:10:51.375746Z",
     "iopub.status.busy": "2023-08-12T20:10:51.374869Z",
     "iopub.status.idle": "2023-08-12T20:10:51.380175Z",
     "shell.execute_reply": "2023-08-12T20:10:51.379350Z"
    },
    "papermill": {
     "duration": 0.116066,
     "end_time": "2023-08-12T20:10:51.382474",
     "exception": false,
     "start_time": "2023-08-12T20:10:51.266408",
     "status": "completed"
    },
    "tags": []
   },
   "outputs": [],
   "source": [
    "pipe_cv1 = Pipeline(steps=[\n",
    "    (\"preprocessor\", tvec_cv1),\n",
    "    (\"model\", logreg_cv1)\n",
    "])"
   ]
  },
  {
   "cell_type": "code",
   "execution_count": 195,
   "id": "65a9b30b",
   "metadata": {
    "execution": {
     "iopub.execute_input": "2023-08-12T20:10:51.596527Z",
     "iopub.status.busy": "2023-08-12T20:10:51.595717Z",
     "iopub.status.idle": "2023-08-12T20:10:51.600448Z",
     "shell.execute_reply": "2023-08-12T20:10:51.599712Z"
    },
    "papermill": {
     "duration": 0.114413,
     "end_time": "2023-08-12T20:10:51.602766",
     "exception": false,
     "start_time": "2023-08-12T20:10:51.488353",
     "status": "completed"
    },
    "tags": []
   },
   "outputs": [],
   "source": [
    "# pipe_cv1.fit(X_train, y_train)"
   ]
  },
  {
   "cell_type": "code",
   "execution_count": 196,
   "id": "615cd42d",
   "metadata": {
    "execution": {
     "iopub.execute_input": "2023-08-12T20:10:51.816736Z",
     "iopub.status.busy": "2023-08-12T20:10:51.815927Z",
     "iopub.status.idle": "2023-08-12T20:10:51.820455Z",
     "shell.execute_reply": "2023-08-12T20:10:51.819752Z"
    },
    "papermill": {
     "duration": 0.112922,
     "end_time": "2023-08-12T20:10:51.822457",
     "exception": false,
     "start_time": "2023-08-12T20:10:51.709535",
     "status": "completed"
    },
    "tags": []
   },
   "outputs": [],
   "source": [
    "# pipe_cv1.score(X_train, y_train)"
   ]
  },
  {
   "cell_type": "markdown",
   "id": "e22d5ecf",
   "metadata": {
    "papermill": {
     "duration": 0.105174,
     "end_time": "2023-08-12T20:10:52.032456",
     "exception": false,
     "start_time": "2023-08-12T20:10:51.927282",
     "status": "completed"
    },
    "tags": []
   },
   "source": [
    "### SVM model with stop words  "
   ]
  },
  {
   "cell_type": "code",
   "execution_count": 197,
   "id": "1a4440d9",
   "metadata": {
    "execution": {
     "iopub.execute_input": "2023-08-12T20:10:52.243665Z",
     "iopub.status.busy": "2023-08-12T20:10:52.243271Z",
     "iopub.status.idle": "2023-08-12T20:10:52.248346Z",
     "shell.execute_reply": "2023-08-12T20:10:52.247178Z"
    },
    "papermill": {
     "duration": 0.113345,
     "end_time": "2023-08-12T20:10:52.250862",
     "exception": false,
     "start_time": "2023-08-12T20:10:52.137517",
     "status": "completed"
    },
    "tags": []
   },
   "outputs": [],
   "source": [
    "# svm_sw_pipe = preprocess_n_train(X_train, y_train, tvec_sw, svm)\n",
    "# svm_sw_pipe"
   ]
  },
  {
   "cell_type": "code",
   "execution_count": 198,
   "id": "3cbc0ded",
   "metadata": {
    "execution": {
     "iopub.execute_input": "2023-08-12T20:10:52.462919Z",
     "iopub.status.busy": "2023-08-12T20:10:52.462500Z",
     "iopub.status.idle": "2023-08-12T20:10:52.467121Z",
     "shell.execute_reply": "2023-08-12T20:10:52.465979Z"
    },
    "papermill": {
     "duration": 0.11227,
     "end_time": "2023-08-12T20:10:52.469330",
     "exception": false,
     "start_time": "2023-08-12T20:10:52.357060",
     "status": "completed"
    },
    "tags": []
   },
   "outputs": [],
   "source": [
    "# y_pred_svm_sw = predict_n_evaluate(svm_sw_pipe, X_test, y_test)\n",
    "# y_pred_svm_sw"
   ]
  },
  {
   "cell_type": "markdown",
   "id": "0a3ec325",
   "metadata": {
    "papermill": {
     "duration": 0.10455,
     "end_time": "2023-08-12T20:10:52.678272",
     "exception": false,
     "start_time": "2023-08-12T20:10:52.573722",
     "status": "completed"
    },
    "tags": []
   },
   "source": [
    "### GaussianNB  "
   ]
  },
  {
   "cell_type": "markdown",
   "id": "e8a3aed4",
   "metadata": {
    "papermill": {
     "duration": 0.103688,
     "end_time": "2023-08-12T20:10:52.886113",
     "exception": false,
     "start_time": "2023-08-12T20:10:52.782425",
     "status": "completed"
    },
    "tags": []
   },
   "source": [
    "https://stackoverflow.com/questions/28384680/scikit-learns-pipeline-a-sparse-matrix-was-passed-but-dense-data-is-required"
   ]
  },
  {
   "cell_type": "code",
   "execution_count": 199,
   "id": "cf13aaf0",
   "metadata": {
    "execution": {
     "iopub.execute_input": "2023-08-12T20:10:53.169759Z",
     "iopub.status.busy": "2023-08-12T20:10:53.169282Z",
     "iopub.status.idle": "2023-08-12T20:10:53.173829Z",
     "shell.execute_reply": "2023-08-12T20:10:53.172758Z"
    },
    "papermill": {
     "duration": 0.114279,
     "end_time": "2023-08-12T20:10:53.176280",
     "exception": false,
     "start_time": "2023-08-12T20:10:53.062001",
     "status": "completed"
    },
    "tags": []
   },
   "outputs": [],
   "source": [
    "# gnb = GaussianNB()\n",
    "# gnb"
   ]
  },
  {
   "cell_type": "code",
   "execution_count": 200,
   "id": "4f9a80e5",
   "metadata": {
    "execution": {
     "iopub.execute_input": "2023-08-12T20:10:53.394678Z",
     "iopub.status.busy": "2023-08-12T20:10:53.394072Z",
     "iopub.status.idle": "2023-08-12T20:10:53.397760Z",
     "shell.execute_reply": "2023-08-12T20:10:53.396957Z"
    },
    "papermill": {
     "duration": 0.114404,
     "end_time": "2023-08-12T20:10:53.399828",
     "exception": false,
     "start_time": "2023-08-12T20:10:53.285424",
     "status": "completed"
    },
    "tags": []
   },
   "outputs": [],
   "source": [
    "# gnb_pipe = preprocess_n_train(X_train, y_train, tvec, gnb)\n",
    "# gnb_pipe"
   ]
  },
  {
   "cell_type": "markdown",
   "id": "bf50e5cb",
   "metadata": {
    "papermill": {
     "duration": 0.104656,
     "end_time": "2023-08-12T20:10:53.609858",
     "exception": false,
     "start_time": "2023-08-12T20:10:53.505202",
     "status": "completed"
    },
    "tags": []
   },
   "source": [
    "# Part II (Older code)  \n"
   ]
  },
  {
   "cell_type": "markdown",
   "id": "1170086f",
   "metadata": {
    "papermill": {
     "duration": 0.104149,
     "end_time": "2023-08-12T20:10:53.819405",
     "exception": false,
     "start_time": "2023-08-12T20:10:53.715256",
     "status": "completed"
    },
    "tags": []
   },
   "source": [
    "### Separate features and labels from merged dataset  "
   ]
  },
  {
   "cell_type": "code",
   "execution_count": 201,
   "id": "76a66b9e",
   "metadata": {
    "execution": {
     "iopub.execute_input": "2023-08-12T20:10:54.031946Z",
     "iopub.status.busy": "2023-08-12T20:10:54.031278Z",
     "iopub.status.idle": "2023-08-12T20:10:54.035276Z",
     "shell.execute_reply": "2023-08-12T20:10:54.034412Z"
    },
    "papermill": {
     "duration": 0.113803,
     "end_time": "2023-08-12T20:10:54.037462",
     "exception": false,
     "start_time": "2023-08-12T20:10:53.923659",
     "status": "completed"
    },
    "tags": []
   },
   "outputs": [],
   "source": [
    "# merged_train_features = merged[['movieid', 'reviewerName', 'isFrequentReviewer', 'reviewText',\n",
    "#        'audienceScore', 'rating', 'runtimeMinutes', 'genre',\n",
    "#        'originalLanguage', 'director']]\n",
    "# merged_train_features.shape"
   ]
  },
  {
   "cell_type": "code",
   "execution_count": 202,
   "id": "a1c70a03",
   "metadata": {
    "execution": {
     "iopub.execute_input": "2023-08-12T20:10:54.249212Z",
     "iopub.status.busy": "2023-08-12T20:10:54.248538Z",
     "iopub.status.idle": "2023-08-12T20:10:54.252896Z",
     "shell.execute_reply": "2023-08-12T20:10:54.251861Z"
    },
    "papermill": {
     "duration": 0.113185,
     "end_time": "2023-08-12T20:10:54.255341",
     "exception": false,
     "start_time": "2023-08-12T20:10:54.142156",
     "status": "completed"
    },
    "tags": []
   },
   "outputs": [],
   "source": [
    "# merged_train_labels = merged[\"sentiment\"]\n",
    "# merged_train_labels.shape"
   ]
  },
  {
   "cell_type": "markdown",
   "id": "55c5b56a",
   "metadata": {
    "papermill": {
     "duration": 0.105349,
     "end_time": "2023-08-12T20:10:54.465529",
     "exception": false,
     "start_time": "2023-08-12T20:10:54.360180",
     "status": "completed"
    },
    "tags": []
   },
   "source": [
    "### Identify variable types for different preprocessing pipes  "
   ]
  },
  {
   "cell_type": "code",
   "execution_count": 203,
   "id": "25328759",
   "metadata": {
    "execution": {
     "iopub.execute_input": "2023-08-12T20:10:54.678019Z",
     "iopub.status.busy": "2023-08-12T20:10:54.677584Z",
     "iopub.status.idle": "2023-08-12T20:10:54.683475Z",
     "shell.execute_reply": "2023-08-12T20:10:54.681771Z"
    },
    "papermill": {
     "duration": 0.1154,
     "end_time": "2023-08-12T20:10:54.686021",
     "exception": false,
     "start_time": "2023-08-12T20:10:54.570621",
     "status": "completed"
    },
    "tags": []
   },
   "outputs": [],
   "source": [
    "# num_vars = [\"audienceScore\", \"runtimeMinutes\"]\n",
    "# txt_vars = [\"originalLanguage\", \"genre\", \"director\", \"reviewerName\", \"reviewText\"]\n",
    "# cat_vars = [\"rating\", \"isFrequentReviewer\"]"
   ]
  },
  {
   "cell_type": "code",
   "execution_count": 204,
   "id": "740c30c9",
   "metadata": {
    "execution": {
     "iopub.execute_input": "2023-08-12T20:10:54.899045Z",
     "iopub.status.busy": "2023-08-12T20:10:54.896868Z",
     "iopub.status.idle": "2023-08-12T20:10:54.903145Z",
     "shell.execute_reply": "2023-08-12T20:10:54.902107Z"
    },
    "papermill": {
     "duration": 0.114585,
     "end_time": "2023-08-12T20:10:54.905511",
     "exception": false,
     "start_time": "2023-08-12T20:10:54.790926",
     "status": "completed"
    },
    "tags": []
   },
   "outputs": [],
   "source": [
    "# num_pipe = Pipeline(steps=[\n",
    "#                             (\"imputer\", SimpleImputer(strategy=\"mean\", missing_values=np.nan)),\n",
    "#                             (\"scaler\", MinMaxScaler())\n",
    "#                         ])\n",
    "# num_pipe"
   ]
  },
  {
   "cell_type": "code",
   "execution_count": 205,
   "id": "54c675b5",
   "metadata": {
    "execution": {
     "iopub.execute_input": "2023-08-12T20:10:55.118992Z",
     "iopub.status.busy": "2023-08-12T20:10:55.118578Z",
     "iopub.status.idle": "2023-08-12T20:10:55.123057Z",
     "shell.execute_reply": "2023-08-12T20:10:55.121972Z"
    },
    "papermill": {
     "duration": 0.113162,
     "end_time": "2023-08-12T20:10:55.125162",
     "exception": false,
     "start_time": "2023-08-12T20:10:55.012000",
     "status": "completed"
    },
    "tags": []
   },
   "outputs": [],
   "source": [
    "# txt_pipe = Pipeline(steps=[\n",
    "#                             (\"tvec\", TfidfVectorizer())\n",
    "#                         ])\n",
    "# txt_pipe"
   ]
  },
  {
   "cell_type": "code",
   "execution_count": 206,
   "id": "9183190b",
   "metadata": {
    "execution": {
     "iopub.execute_input": "2023-08-12T20:10:55.342375Z",
     "iopub.status.busy": "2023-08-12T20:10:55.341198Z",
     "iopub.status.idle": "2023-08-12T20:10:55.346384Z",
     "shell.execute_reply": "2023-08-12T20:10:55.345258Z"
    },
    "papermill": {
     "duration": 0.115183,
     "end_time": "2023-08-12T20:10:55.348935",
     "exception": false,
     "start_time": "2023-08-12T20:10:55.233752",
     "status": "completed"
    },
    "tags": []
   },
   "outputs": [],
   "source": [
    "# cat_pipe = Pipeline(steps=[\n",
    "#                             (\"ohe\", OneHotEncoder(handle_unknown=\"ignore\"))\n",
    "#                         ])\n",
    "# cat_pipe"
   ]
  },
  {
   "cell_type": "code",
   "execution_count": 207,
   "id": "31f79400",
   "metadata": {
    "execution": {
     "iopub.execute_input": "2023-08-12T20:10:55.563840Z",
     "iopub.status.busy": "2023-08-12T20:10:55.563369Z",
     "iopub.status.idle": "2023-08-12T20:10:55.568152Z",
     "shell.execute_reply": "2023-08-12T20:10:55.567024Z"
    },
    "papermill": {
     "duration": 0.11681,
     "end_time": "2023-08-12T20:10:55.570399",
     "exception": false,
     "start_time": "2023-08-12T20:10:55.453589",
     "status": "completed"
    },
    "tags": []
   },
   "outputs": [],
   "source": [
    "# tfidf_vec_1 = TfidfVectorizer(ngram_range=(1,2))\n",
    "# tfidf_vec_1"
   ]
  },
  {
   "cell_type": "code",
   "execution_count": 208,
   "id": "5e6dd828",
   "metadata": {
    "execution": {
     "iopub.execute_input": "2023-08-12T20:10:55.786358Z",
     "iopub.status.busy": "2023-08-12T20:10:55.785665Z",
     "iopub.status.idle": "2023-08-12T20:10:55.791523Z",
     "shell.execute_reply": "2023-08-12T20:10:55.790418Z"
    },
    "papermill": {
     "duration": 0.116194,
     "end_time": "2023-08-12T20:10:55.793716",
     "exception": false,
     "start_time": "2023-08-12T20:10:55.677522",
     "status": "completed"
    },
    "tags": []
   },
   "outputs": [],
   "source": [
    "# ct_final = ColumnTransformer(transformers=[\n",
    "#                                         (\"num\", num_pipe, num_vars),\n",
    "#                                         (\"txt1\", txt_pipe, \"originalLanguage\"),\n",
    "#                                         (\"txt2\", txt_pipe, \"genre\"),\n",
    "#                                         (\"txt3\", txt_pipe, \"director\"),\n",
    "#                                         (\"cat\", cat_pipe, cat_vars),\n",
    "#                                         (\"txt4a\", tfidf_vec_1, \"reviewText\")\n",
    "# #                                         (\"txt4\", TfidfVectorizer(ngram_range=(1,2)), \"reviewText\"),\n",
    "# #                                         (\"cat2\", cat_pipe, [\"isFrequentReviewer\"])\n",
    "#                                         ], remainder=\"drop\", n_jobs=1)\n",
    "\n",
    "# # Note that this transformer drops \"movieid\" column and \"reviewerName\" column  \n",
    "# ct_final"
   ]
  },
  {
   "cell_type": "code",
   "execution_count": 209,
   "id": "e58e4a65",
   "metadata": {
    "execution": {
     "iopub.execute_input": "2023-08-12T20:10:56.007010Z",
     "iopub.status.busy": "2023-08-12T20:10:56.006592Z",
     "iopub.status.idle": "2023-08-12T20:10:56.011340Z",
     "shell.execute_reply": "2023-08-12T20:10:56.010210Z"
    },
    "papermill": {
     "duration": 0.113179,
     "end_time": "2023-08-12T20:10:56.013637",
     "exception": false,
     "start_time": "2023-08-12T20:10:55.900458",
     "status": "completed"
    },
    "tags": []
   },
   "outputs": [],
   "source": [
    "# pipe_final = Pipeline(steps=[\n",
    "#                         (\"preprocessor\", ct_final),\n",
    "#                         (\"model\", LogisticRegression(max_iter=100000))\n",
    "#                     ])\n",
    "# pipe_final"
   ]
  },
  {
   "cell_type": "code",
   "execution_count": 210,
   "id": "31c7d40a",
   "metadata": {
    "execution": {
     "iopub.execute_input": "2023-08-12T20:10:56.224234Z",
     "iopub.status.busy": "2023-08-12T20:10:56.223831Z",
     "iopub.status.idle": "2023-08-12T20:10:56.228311Z",
     "shell.execute_reply": "2023-08-12T20:10:56.227222Z"
    },
    "papermill": {
     "duration": 0.112017,
     "end_time": "2023-08-12T20:10:56.230396",
     "exception": false,
     "start_time": "2023-08-12T20:10:56.118379",
     "status": "completed"
    },
    "tags": []
   },
   "outputs": [],
   "source": [
    "# final_vars = num_vars + txt_vars + cat_vars\n",
    "# len(final_vars), final_vars"
   ]
  },
  {
   "cell_type": "markdown",
   "id": "8f0dcfc6",
   "metadata": {
    "papermill": {
     "duration": 0.105024,
     "end_time": "2023-08-12T20:10:56.441461",
     "exception": false,
     "start_time": "2023-08-12T20:10:56.336437",
     "status": "completed"
    },
    "tags": []
   },
   "source": [
    "### Use \"split_train_predict\" function to run end-to-end pipeline  "
   ]
  },
  {
   "cell_type": "code",
   "execution_count": 211,
   "id": "e5c963b2",
   "metadata": {
    "execution": {
     "iopub.execute_input": "2023-08-12T20:10:56.656574Z",
     "iopub.status.busy": "2023-08-12T20:10:56.655837Z",
     "iopub.status.idle": "2023-08-12T20:10:56.660097Z",
     "shell.execute_reply": "2023-08-12T20:10:56.659071Z"
    },
    "papermill": {
     "duration": 0.115022,
     "end_time": "2023-08-12T20:10:56.662383",
     "exception": false,
     "start_time": "2023-08-12T20:10:56.547361",
     "status": "completed"
    },
    "tags": []
   },
   "outputs": [],
   "source": [
    "# split_train_predict(merged_train_features, merged_train_labels, pipe_final, test_size=0.25, random_state=42)"
   ]
  },
  {
   "cell_type": "markdown",
   "id": "7e3b2f5d",
   "metadata": {
    "papermill": {
     "duration": 0.104809,
     "end_time": "2023-08-12T20:10:56.873332",
     "exception": false,
     "start_time": "2023-08-12T20:10:56.768523",
     "status": "completed"
    },
    "tags": []
   },
   "source": [
    "## Try the best four features obtained on local machine  "
   ]
  },
  {
   "cell_type": "code",
   "execution_count": 212,
   "id": "52194fb3",
   "metadata": {
    "execution": {
     "iopub.execute_input": "2023-08-12T20:10:57.084381Z",
     "iopub.status.busy": "2023-08-12T20:10:57.083605Z",
     "iopub.status.idle": "2023-08-12T20:10:57.087595Z",
     "shell.execute_reply": "2023-08-12T20:10:57.086862Z"
    },
    "papermill": {
     "duration": 0.111202,
     "end_time": "2023-08-12T20:10:57.089557",
     "exception": false,
     "start_time": "2023-08-12T20:10:56.978355",
     "status": "completed"
    },
    "tags": []
   },
   "outputs": [],
   "source": [
    "# tfidf_vec_2 = TfidfVectorizer(ngram_range=(1,2))\n",
    "# tfidf_vec_2"
   ]
  },
  {
   "cell_type": "code",
   "execution_count": 213,
   "id": "d7f00619",
   "metadata": {
    "execution": {
     "iopub.execute_input": "2023-08-12T20:10:57.300526Z",
     "iopub.status.busy": "2023-08-12T20:10:57.299717Z",
     "iopub.status.idle": "2023-08-12T20:10:57.304458Z",
     "shell.execute_reply": "2023-08-12T20:10:57.303620Z"
    },
    "papermill": {
     "duration": 0.112814,
     "end_time": "2023-08-12T20:10:57.306488",
     "exception": false,
     "start_time": "2023-08-12T20:10:57.193674",
     "status": "completed"
    },
    "tags": []
   },
   "outputs": [],
   "source": [
    "# ct_best4 = ColumnTransformer(transformers=[\n",
    "#                                             (\"num\", num_pipe, [\"audienceScore\"]),\n",
    "#                                             (\"cat\", cat_pipe, [\"rating\", \"isFrequentReviewer\"]),\n",
    "#                                             (\"tvec\", tfidf_vec_2, \"reviewText\")\n",
    "#                             ])\n",
    "\n",
    "# pipe_best4 = Pipeline(steps=[\n",
    "#     (\"preprocessor\", ct_best4),\n",
    "#     (\"model\", LogisticRegression())\n",
    "# ])\n",
    "\n",
    "# pipe_best4.set_params(model__C=10, model__max_iter=100000)\n",
    "\n",
    "# pipe_best4"
   ]
  },
  {
   "cell_type": "code",
   "execution_count": 214,
   "id": "37ac7cfc",
   "metadata": {
    "execution": {
     "iopub.execute_input": "2023-08-12T20:10:57.517625Z",
     "iopub.status.busy": "2023-08-12T20:10:57.516865Z",
     "iopub.status.idle": "2023-08-12T20:10:57.521235Z",
     "shell.execute_reply": "2023-08-12T20:10:57.520155Z"
    },
    "papermill": {
     "duration": 0.112945,
     "end_time": "2023-08-12T20:10:57.523354",
     "exception": false,
     "start_time": "2023-08-12T20:10:57.410409",
     "status": "completed"
    },
    "tags": []
   },
   "outputs": [],
   "source": [
    "# split_train_predict(merged[[\"audienceScore\", \"rating\", \"isFrequentReviewer\", \"reviewText\"]], merged[\"sentiment\"], pipe_best4, test_size=0.25)"
   ]
  },
  {
   "cell_type": "markdown",
   "id": "7649d448",
   "metadata": {
    "papermill": {
     "duration": 0.110499,
     "end_time": "2023-08-12T20:10:57.739116",
     "exception": false,
     "start_time": "2023-08-12T20:10:57.628617",
     "status": "completed"
    },
    "tags": []
   },
   "source": [
    "## Try only 'reviewText' column  "
   ]
  },
  {
   "cell_type": "code",
   "execution_count": 215,
   "id": "93e5271a",
   "metadata": {
    "execution": {
     "iopub.execute_input": "2023-08-12T20:10:57.969820Z",
     "iopub.status.busy": "2023-08-12T20:10:57.968638Z",
     "iopub.status.idle": "2023-08-12T20:10:57.973164Z",
     "shell.execute_reply": "2023-08-12T20:10:57.972180Z"
    },
    "papermill": {
     "duration": 0.125561,
     "end_time": "2023-08-12T20:10:57.975549",
     "exception": false,
     "start_time": "2023-08-12T20:10:57.849988",
     "status": "completed"
    },
    "tags": []
   },
   "outputs": [],
   "source": [
    "# tfidf_vec_3 = TfidfVectorizer(ngram_range=(1,2))\n",
    "# tfidf_vec_3"
   ]
  },
  {
   "cell_type": "code",
   "execution_count": 216,
   "id": "3c5c65da",
   "metadata": {
    "execution": {
     "iopub.execute_input": "2023-08-12T20:10:58.187709Z",
     "iopub.status.busy": "2023-08-12T20:10:58.186889Z",
     "iopub.status.idle": "2023-08-12T20:10:58.191424Z",
     "shell.execute_reply": "2023-08-12T20:10:58.190387Z"
    },
    "papermill": {
     "duration": 0.113183,
     "end_time": "2023-08-12T20:10:58.193644",
     "exception": false,
     "start_time": "2023-08-12T20:10:58.080461",
     "status": "completed"
    },
    "tags": []
   },
   "outputs": [],
   "source": [
    "# ct_RTonly = ColumnTransformer(transformers=[\n",
    "#                                             ('txt', tfidf_vec_3, 'reviewText'),\n",
    "#                                             ], remainder='drop')\n",
    "# ct_RTonly"
   ]
  },
  {
   "cell_type": "code",
   "execution_count": 217,
   "id": "474b552b",
   "metadata": {
    "execution": {
     "iopub.execute_input": "2023-08-12T20:10:58.404966Z",
     "iopub.status.busy": "2023-08-12T20:10:58.404172Z",
     "iopub.status.idle": "2023-08-12T20:10:58.408772Z",
     "shell.execute_reply": "2023-08-12T20:10:58.407922Z"
    },
    "papermill": {
     "duration": 0.112143,
     "end_time": "2023-08-12T20:10:58.410920",
     "exception": false,
     "start_time": "2023-08-12T20:10:58.298777",
     "status": "completed"
    },
    "tags": []
   },
   "outputs": [],
   "source": [
    "# pipe_RTonly = Pipeline(steps=[\n",
    "#     (\"preprocessor\", ct_RTonly),\n",
    "#     (\"model\", LogisticRegression())\n",
    "# ])\n",
    "\n",
    "# pipe_RTonly.set_params(model__C=10, model__max_iter=100000)\n",
    "\n",
    "# pipe_RTonly"
   ]
  },
  {
   "cell_type": "markdown",
   "id": "ee0d1b40",
   "metadata": {
    "papermill": {
     "duration": 0.104161,
     "end_time": "2023-08-12T20:10:58.620628",
     "exception": false,
     "start_time": "2023-08-12T20:10:58.516467",
     "status": "completed"
    },
    "tags": []
   },
   "source": [
    "## Using the 'submit_v4' function  "
   ]
  },
  {
   "cell_type": "markdown",
   "id": "2b7990c9",
   "metadata": {
    "papermill": {
     "duration": 0.104078,
     "end_time": "2023-08-12T20:10:58.831264",
     "exception": false,
     "start_time": "2023-08-12T20:10:58.727186",
     "status": "completed"
    },
    "tags": []
   },
   "source": [
    "### Try the best 4 parameters with submit_v4 function"
   ]
  },
  {
   "cell_type": "code",
   "execution_count": 218,
   "id": "fec70e07",
   "metadata": {
    "execution": {
     "iopub.execute_input": "2023-08-12T20:10:59.046007Z",
     "iopub.status.busy": "2023-08-12T20:10:59.045254Z",
     "iopub.status.idle": "2023-08-12T20:10:59.050117Z",
     "shell.execute_reply": "2023-08-12T20:10:59.048977Z"
    },
    "papermill": {
     "duration": 0.115389,
     "end_time": "2023-08-12T20:10:59.052448",
     "exception": false,
     "start_time": "2023-08-12T20:10:58.937059",
     "status": "completed"
    },
    "tags": []
   },
   "outputs": [],
   "source": [
    "# best4 = [\"audienceScore\", \"rating\", \"isFrequentReviewer\", \"reviewText\"]\n",
    "\n",
    "# best4_dict = {'cat': [\"rating\", \"isFrequentReviewer\"],\n",
    "#              'num': [\"audienceScore\"],\n",
    "#              'txt': ['reviewText']}\n",
    "\n",
    "# best4_dict = {'num': [\"audienceScore\"],\n",
    "#              'txt': ['reviewText', 'movieid', 'director']}\n",
    "\n",
    "# best4_dict"
   ]
  },
  {
   "cell_type": "code",
   "execution_count": 219,
   "id": "0387136f",
   "metadata": {
    "execution": {
     "iopub.execute_input": "2023-08-12T20:10:59.264277Z",
     "iopub.status.busy": "2023-08-12T20:10:59.263363Z",
     "iopub.status.idle": "2023-08-12T20:10:59.267446Z",
     "shell.execute_reply": "2023-08-12T20:10:59.266748Z"
    },
    "papermill": {
     "duration": 0.112576,
     "end_time": "2023-08-12T20:10:59.269465",
     "exception": false,
     "start_time": "2023-08-12T20:10:59.156889",
     "status": "completed"
    },
    "tags": []
   },
   "outputs": [],
   "source": [
    "# submit_v4(selected_features=best4_dict)"
   ]
  },
  {
   "cell_type": "markdown",
   "id": "4dbc3362",
   "metadata": {
    "papermill": {
     "duration": 0.105264,
     "end_time": "2023-08-12T20:10:59.481085",
     "exception": false,
     "start_time": "2023-08-12T20:10:59.375821",
     "status": "completed"
    },
    "tags": []
   },
   "source": [
    "### Try the best 3 parameters with submit_v4 function"
   ]
  },
  {
   "cell_type": "code",
   "execution_count": 220,
   "id": "33c6acbf",
   "metadata": {
    "execution": {
     "iopub.execute_input": "2023-08-12T20:10:59.694744Z",
     "iopub.status.busy": "2023-08-12T20:10:59.694011Z",
     "iopub.status.idle": "2023-08-12T20:10:59.698418Z",
     "shell.execute_reply": "2023-08-12T20:10:59.697273Z"
    },
    "papermill": {
     "duration": 0.114846,
     "end_time": "2023-08-12T20:10:59.701638",
     "exception": false,
     "start_time": "2023-08-12T20:10:59.586792",
     "status": "completed"
    },
    "tags": []
   },
   "outputs": [],
   "source": [
    "# best3 = [\"audienceScore\", \"isFrequentReviewer\", \"reviewText\"]\n",
    "# best3_dict = {'cat': [\"isFrequentReviewer\"],\n",
    "#              'num': [\"audienceScore\"],\n",
    "#              'txt': ['reviewText']}\n",
    "# best3_dict"
   ]
  },
  {
   "cell_type": "code",
   "execution_count": 221,
   "id": "69da64dd",
   "metadata": {
    "execution": {
     "iopub.execute_input": "2023-08-12T20:10:59.915793Z",
     "iopub.status.busy": "2023-08-12T20:10:59.915363Z",
     "iopub.status.idle": "2023-08-12T20:10:59.919633Z",
     "shell.execute_reply": "2023-08-12T20:10:59.918784Z"
    },
    "papermill": {
     "duration": 0.112617,
     "end_time": "2023-08-12T20:10:59.921600",
     "exception": false,
     "start_time": "2023-08-12T20:10:59.808983",
     "status": "completed"
    },
    "tags": []
   },
   "outputs": [],
   "source": [
    "# submit_v4(selected_features=best3_dict)"
   ]
  },
  {
   "cell_type": "markdown",
   "id": "43ea9103",
   "metadata": {
    "papermill": {
     "duration": 0.105331,
     "end_time": "2023-08-12T20:11:00.132535",
     "exception": false,
     "start_time": "2023-08-12T20:11:00.027204",
     "status": "completed"
    },
    "tags": []
   },
   "source": [
    "## Try throwing almost everything (no boxOffice) at submit_v4!  "
   ]
  },
  {
   "cell_type": "code",
   "execution_count": 222,
   "id": "66171483",
   "metadata": {
    "execution": {
     "iopub.execute_input": "2023-08-12T20:11:00.346401Z",
     "iopub.status.busy": "2023-08-12T20:11:00.345399Z",
     "iopub.status.idle": "2023-08-12T20:11:00.352025Z",
     "shell.execute_reply": "2023-08-12T20:11:00.350957Z"
    },
    "papermill": {
     "duration": 0.116176,
     "end_time": "2023-08-12T20:11:00.354391",
     "exception": false,
     "start_time": "2023-08-12T20:11:00.238215",
     "status": "completed"
    },
    "tags": []
   },
   "outputs": [
    {
     "data": {
      "text/plain": [
       "\"Most from merged = ['movieid', 'reviewerName', 'isFrequentReviewer', 'reviewText',\\n       'audienceScore', 'rating', 'runtimeMinutes', 'genre', \\n       'originalLanguage', 'director']\""
      ]
     },
     "execution_count": 222,
     "metadata": {},
     "output_type": "execute_result"
    }
   ],
   "source": [
    "\"\"\"Most from merged = ['movieid', 'reviewerName', 'isFrequentReviewer', 'reviewText',\n",
    "       'audienceScore', 'rating', 'runtimeMinutes', 'genre', \n",
    "       'originalLanguage', 'director']\"\"\"\n",
    "\n",
    "# almost_dict = {'cat': [\"isFrequentReviewer\", \"rating\", \"originalLanguage\"],\n",
    "#              'num': [\"audienceScore\", \"runtimeMinutes\"],\n",
    "#              'txt': ['reviewText', 'reviewerName', 'movieid', 'genre', 'director']}\n",
    "# almost_dict"
   ]
  },
  {
   "cell_type": "code",
   "execution_count": 223,
   "id": "d18a66a5",
   "metadata": {
    "execution": {
     "iopub.execute_input": "2023-08-12T20:11:00.567303Z",
     "iopub.status.busy": "2023-08-12T20:11:00.566603Z",
     "iopub.status.idle": "2023-08-12T20:11:00.571208Z",
     "shell.execute_reply": "2023-08-12T20:11:00.570140Z"
    },
    "papermill": {
     "duration": 0.113542,
     "end_time": "2023-08-12T20:11:00.573642",
     "exception": false,
     "start_time": "2023-08-12T20:11:00.460100",
     "status": "completed"
    },
    "tags": []
   },
   "outputs": [],
   "source": [
    "# submit_v4(selected_features=almost_dict)"
   ]
  },
  {
   "cell_type": "markdown",
   "id": "38f8f8c6",
   "metadata": {
    "papermill": {
     "duration": 0.106347,
     "end_time": "2023-08-12T20:11:00.785180",
     "exception": false,
     "start_time": "2023-08-12T20:11:00.678833",
     "status": "completed"
    },
    "tags": []
   },
   "source": [
    "## Try throwing everything possible at submit_v4!  "
   ]
  },
  {
   "cell_type": "code",
   "execution_count": 224,
   "id": "f32c2330",
   "metadata": {
    "execution": {
     "iopub.execute_input": "2023-08-12T20:11:00.997561Z",
     "iopub.status.busy": "2023-08-12T20:11:00.997120Z",
     "iopub.status.idle": "2023-08-12T20:11:01.004042Z",
     "shell.execute_reply": "2023-08-12T20:11:01.003258Z"
    },
    "papermill": {
     "duration": 0.116515,
     "end_time": "2023-08-12T20:11:01.006689",
     "exception": false,
     "start_time": "2023-08-12T20:11:00.890174",
     "status": "completed"
    },
    "tags": []
   },
   "outputs": [
    {
     "data": {
      "text/plain": [
       "\"All from merged = ['movieid', 'reviewerName', 'isFrequentReviewer', 'reviewText',\\n       'audienceScore', 'rating', 'runtimeMinutes', 'genre', 'boxOffice',\\n       'originalLanguage', 'director']\""
      ]
     },
     "execution_count": 224,
     "metadata": {},
     "output_type": "execute_result"
    }
   ],
   "source": [
    "\"\"\"All from merged = ['movieid', 'reviewerName', 'isFrequentReviewer', 'reviewText',\n",
    "       'audienceScore', 'rating', 'runtimeMinutes', 'genre', 'boxOffice',\n",
    "       'originalLanguage', 'director']\"\"\"\n",
    "\n",
    "# all_dict = {'cat': [\"isFrequentReviewer\", \"rating\", \"originalLanguage\"],\n",
    "#              'num': [\"audienceScore\", \"runtimeMinutes\", \"boxOffice\"],\n",
    "#              'txt': ['reviewText', 'reviewerName', 'movieid', 'genre', 'director']}\n",
    "# all_dict"
   ]
  },
  {
   "cell_type": "code",
   "execution_count": 225,
   "id": "d46afa27",
   "metadata": {
    "execution": {
     "iopub.execute_input": "2023-08-12T20:11:01.223587Z",
     "iopub.status.busy": "2023-08-12T20:11:01.222784Z",
     "iopub.status.idle": "2023-08-12T20:11:01.227951Z",
     "shell.execute_reply": "2023-08-12T20:11:01.226922Z"
    },
    "papermill": {
     "duration": 0.115069,
     "end_time": "2023-08-12T20:11:01.230391",
     "exception": false,
     "start_time": "2023-08-12T20:11:01.115322",
     "status": "completed"
    },
    "tags": []
   },
   "outputs": [],
   "source": [
    "# submit_v4(selected_features=all_dict)"
   ]
  },
  {
   "cell_type": "markdown",
   "id": "8ea31ae8",
   "metadata": {
    "papermill": {
     "duration": 0.10574,
     "end_time": "2023-08-12T20:11:01.442198",
     "exception": false,
     "start_time": "2023-08-12T20:11:01.336458",
     "status": "completed"
    },
    "tags": []
   },
   "source": [
    "## Try GridSearchCV on everything  "
   ]
  },
  {
   "cell_type": "code",
   "execution_count": 226,
   "id": "aab65af4",
   "metadata": {
    "execution": {
     "iopub.execute_input": "2023-08-12T20:11:01.653958Z",
     "iopub.status.busy": "2023-08-12T20:11:01.653524Z",
     "iopub.status.idle": "2023-08-12T20:11:01.659266Z",
     "shell.execute_reply": "2023-08-12T20:11:01.658120Z"
    },
    "papermill": {
     "duration": 0.114077,
     "end_time": "2023-08-12T20:11:01.661679",
     "exception": false,
     "start_time": "2023-08-12T20:11:01.547602",
     "status": "completed"
    },
    "tags": []
   },
   "outputs": [],
   "source": [
    "# param_grid = {\n",
    "#     \"model__C\": [0.5, 2, 5, 15]\n",
    "# }\n",
    "\n",
    "# param_grid = {\n",
    "#     'model__C' : [1, 5],\n",
    "#     'model__solver': ['lbfgs', 'liblinear', 'newton-cg', 'newton-cholesky', 'sag', 'saga']\n",
    "# }\n",
    "\n",
    "# param_grid = {\n",
    "#     'model__C' : [1, 5],\n",
    "#     'model__solver': ['lbfgs', 'liblinear', 'sag', 'saga']\n",
    "# }\n",
    "\n",
    "# param_grid = {\n",
    "#     'model__C' : [1, 5, 10, 15],\n",
    "#     'model__solver': ['lbfgs', 'liblinear', 'saga', 'newton-cg']\n",
    "# }\n",
    "\n",
    "# param_grid = {\n",
    "#     'model__C' : [1, 5, 10, 20],\n",
    "#     'model__solver': ['lbfgs', 'liblinear', 'saga']\n",
    "# }\n",
    "\n",
    "# param_grid"
   ]
  },
  {
   "cell_type": "code",
   "execution_count": 227,
   "id": "de9b058d",
   "metadata": {
    "execution": {
     "iopub.execute_input": "2023-08-12T20:11:01.877832Z",
     "iopub.status.busy": "2023-08-12T20:11:01.877424Z",
     "iopub.status.idle": "2023-08-12T20:11:01.882706Z",
     "shell.execute_reply": "2023-08-12T20:11:01.881786Z"
    },
    "papermill": {
     "duration": 0.113911,
     "end_time": "2023-08-12T20:11:01.884956",
     "exception": false,
     "start_time": "2023-08-12T20:11:01.771045",
     "status": "completed"
    },
    "tags": []
   },
   "outputs": [],
   "source": [
    "# submit_v4(selected_features={'txt': [\"genre\"]}, param_grid=param_grid)"
   ]
  },
  {
   "cell_type": "code",
   "execution_count": 228,
   "id": "fbe44fa9",
   "metadata": {
    "execution": {
     "iopub.execute_input": "2023-08-12T20:11:02.096924Z",
     "iopub.status.busy": "2023-08-12T20:11:02.096309Z",
     "iopub.status.idle": "2023-08-12T20:11:02.103204Z",
     "shell.execute_reply": "2023-08-12T20:11:02.102245Z"
    },
    "papermill": {
     "duration": 0.115088,
     "end_time": "2023-08-12T20:11:02.105290",
     "exception": false,
     "start_time": "2023-08-12T20:11:01.990202",
     "status": "completed"
    },
    "tags": []
   },
   "outputs": [
    {
     "data": {
      "text/plain": [
       "\"Used 'groupby' function instead on 'drop_duplicates' on movies.csv file. \\nIt reduced the number of missing values significantly! \\nThen used LogisticRegression() with GridSearchCV on submit_v4 function with \\nparam_grid={'model__C': [1, 5, 10], 'model__solver': ['lbfgs', 'liblinear', 'saga']}. \\nThe best f1_micro score in GridSearchCV was 0.8399771362056203 which is highest among \\nall the versions so far. Best C was 5 and best solver was 'saga'.\\nScore obtained was 0.84385 which is lower than 0.84441.\""
      ]
     },
     "execution_count": 228,
     "metadata": {},
     "output_type": "execute_result"
    }
   ],
   "source": [
    "# submit_v4(selected_features=all_dict, param_grid=param_grid)\n",
    "\n",
    "# Best C was 5\n",
    "# Best solver was liblinear\n",
    "\n",
    "\"\"\"Used 'groupby' function instead on 'drop_duplicates' on movies.csv file. \n",
    "It reduced the number of missing values significantly! \n",
    "Then used LogisticRegression() with GridSearchCV on submit_v4 function with \n",
    "param_grid={'model__C': [1, 5, 10], 'model__solver': ['lbfgs', 'liblinear', 'saga']}. \n",
    "The best f1_micro score in GridSearchCV was 0.8399771362056203 which is highest among \n",
    "all the versions so far. Best C was 5 and best solver was 'saga'.\n",
    "Score obtained was 0.84385 which is lower than 0.84441.\"\"\""
   ]
  },
  {
   "cell_type": "code",
   "execution_count": 229,
   "id": "f7dde8ab",
   "metadata": {
    "execution": {
     "iopub.execute_input": "2023-08-12T20:11:02.320127Z",
     "iopub.status.busy": "2023-08-12T20:11:02.319736Z",
     "iopub.status.idle": "2023-08-12T20:11:02.323677Z",
     "shell.execute_reply": "2023-08-12T20:11:02.322954Z"
    },
    "papermill": {
     "duration": 0.113293,
     "end_time": "2023-08-12T20:11:02.325615",
     "exception": false,
     "start_time": "2023-08-12T20:11:02.212322",
     "status": "completed"
    },
    "tags": []
   },
   "outputs": [],
   "source": [
    "# Best 5 parameters\n",
    "\n",
    "# best5_dict = {'num': [\"audienceScore\"],\n",
    "#              'txt': ['reviewText', 'reviewerName','movieid', 'director']}\n",
    "\n",
    "# best5_dict"
   ]
  },
  {
   "cell_type": "code",
   "execution_count": 230,
   "id": "a1eafede",
   "metadata": {
    "execution": {
     "iopub.execute_input": "2023-08-12T20:11:02.538907Z",
     "iopub.status.busy": "2023-08-12T20:11:02.538117Z",
     "iopub.status.idle": "2023-08-12T20:11:02.545368Z",
     "shell.execute_reply": "2023-08-12T20:11:02.544591Z"
    },
    "papermill": {
     "duration": 0.116469,
     "end_time": "2023-08-12T20:11:02.547392",
     "exception": false,
     "start_time": "2023-08-12T20:11:02.430923",
     "status": "completed"
    },
    "tags": []
   },
   "outputs": [
    {
     "data": {
      "text/plain": [
       "\"(Update): Used both CountVectorizer and TfidfVectorizer on a massive GridSearchCV \\nwhich took 22527.2s  (6.25 hrs) to run! Gave a score of 0.8439093822800923 locally and did not overfit!\\nBest params: {'model__C': 1, 'model__solver': 'liblinear'}.\\nHighest public score yet: 0.84591 (Rank up from 9 to 5!)\""
      ]
     },
     "execution_count": 230,
     "metadata": {},
     "output_type": "execute_result"
    }
   ],
   "source": [
    "# Submit best 5 features\n",
    "\n",
    "\"\"\"(Update): Used both CountVectorizer and TfidfVectorizer on a massive GridSearchCV \n",
    "which took 22527.2s  (6.25 hrs) to run! Gave a score of 0.8439093822800923 locally and did not overfit!\n",
    "Best params: {'model__C': 1, 'model__solver': 'liblinear'}.\n",
    "Highest public score yet: 0.84591 (Rank up from 9 to 5!)\"\"\"\n",
    "\n",
    "# param_grid = {\n",
    "#     'model__C' : [5, 10, 15],\n",
    "#     'model__solver': ['lbfgs', 'liblinear', 'saga']\n",
    "# }\n",
    "\n",
    "\n",
    "# Try new param_grid with fit_intercept and dual in logreg\n",
    "\n",
    "# param_grid = {\n",
    "#     'model__C' : [1],\n",
    "#     'model__solver': ['liblinear'],\n",
    "#     \"model__fit_intercept\" : [True, False],\n",
    "#     \"model__dual\" : [True, False] \n",
    "# }\n",
    "\n",
    "\n",
    "# Local testing  \n",
    "# submit_v4(selected_features={'num': ['audienceScore']},\n",
    "#          add_countvec=True)\n",
    "\n",
    "# submit_v4(selected_features={'num': ['audienceScore']},\n",
    "#          add_countvec=True, \n",
    "#           param_grid=param_grid)\n",
    "\n",
    "\n",
    "# Main submission\n",
    "\n",
    "# submit_v4(selected_features=best5_dict,\n",
    "#          add_countvec=True)\n",
    "\n",
    "\n",
    "# submit_v4(selected_features=best5_dict,\n",
    "#           add_countvec=True,\n",
    "#           param_grid=param_grid)"
   ]
  },
  {
   "cell_type": "code",
   "execution_count": 231,
   "id": "f308c02c",
   "metadata": {
    "execution": {
     "iopub.execute_input": "2023-08-12T20:11:02.767273Z",
     "iopub.status.busy": "2023-08-12T20:11:02.766513Z",
     "iopub.status.idle": "2023-08-12T20:11:02.771558Z",
     "shell.execute_reply": "2023-08-12T20:11:02.770691Z"
    },
    "papermill": {
     "duration": 0.119383,
     "end_time": "2023-08-12T20:11:02.773874",
     "exception": false,
     "start_time": "2023-08-12T20:11:02.654491",
     "status": "completed"
    },
    "tags": []
   },
   "outputs": [],
   "source": [
    "## ALL DICT cv=10\n",
    "\n",
    "# all_dict = {'cat': [\"isFrequentReviewer\", \"rating\", \"originalLanguage\"],\n",
    "#              'num': [\"audienceScore\", \"runtimeMinutes\", \"boxOffice\"],\n",
    "#              'txt': ['reviewText', 'reviewerName', 'movieid', 'genre', 'director']}\n",
    "# print(all_dict)\n",
    "\n",
    "# param_grid = {\n",
    "#     'model__C' : [2, 5, 10],\n",
    "#     'model__solver': ['lbfgs', 'liblinear', 'saga']\n",
    "# }\n",
    "# print(param_grid)\n",
    "\n",
    "# param_grid = {\n",
    "#     'model__C' : [1, 5, 10],\n",
    "#     'model__solver': ['liblinear'],\n",
    "#     \"model__fit_intercept\" : [True, False],\n",
    "#     \"model__dual\" : [True, False] \n",
    "# }\n",
    "\n",
    "\n",
    "# Main submission\n",
    "\n",
    "# submit_v4(selected_model=LogisticRegression(C=5, solver='liblinear', max_iter=10000),\n",
    "#           selected_features=all_dict,\n",
    "#           param_grid=param_grid)\n",
    "\n",
    "# submit_v4(selected_features=all_dict,\n",
    "#           add_countvec=True,\n",
    "#           param_grid=param_grid)"
   ]
  },
  {
   "cell_type": "code",
   "execution_count": 232,
   "id": "2c36c2e5",
   "metadata": {
    "execution": {
     "iopub.execute_input": "2023-08-12T20:11:02.986962Z",
     "iopub.status.busy": "2023-08-12T20:11:02.986258Z",
     "iopub.status.idle": "2023-08-12T20:11:02.990505Z",
     "shell.execute_reply": "2023-08-12T20:11:02.989741Z"
    },
    "papermill": {
     "duration": 0.112507,
     "end_time": "2023-08-12T20:11:02.992534",
     "exception": false,
     "start_time": "2023-08-12T20:11:02.880027",
     "status": "completed"
    },
    "tags": []
   },
   "outputs": [],
   "source": [
    "# Best 6 parameters\n",
    "\n",
    "# best6_dict = {'cat': [\"isFrequentReviewer\"],\n",
    "#              'num': [\"audienceScore\"],\n",
    "#              'txt': ['reviewText', 'reviewerName', 'genre', 'director']}\n",
    "\n",
    "# best6_dict = {'num': [\"audienceScore\"],\n",
    "#              'txt': ['reviewText', 'reviewerName', 'genre','movieid', 'director']}\n",
    "\n",
    "# best6_dict"
   ]
  },
  {
   "cell_type": "code",
   "execution_count": 233,
   "id": "416f1bc8",
   "metadata": {
    "execution": {
     "iopub.execute_input": "2023-08-12T20:11:03.205558Z",
     "iopub.status.busy": "2023-08-12T20:11:03.204875Z",
     "iopub.status.idle": "2023-08-12T20:11:03.209206Z",
     "shell.execute_reply": "2023-08-12T20:11:03.208249Z"
    },
    "papermill": {
     "duration": 0.113529,
     "end_time": "2023-08-12T20:11:03.211468",
     "exception": false,
     "start_time": "2023-08-12T20:11:03.097939",
     "status": "completed"
    },
    "tags": []
   },
   "outputs": [],
   "source": [
    "# Submit best 6 features (version 2)\n",
    "\n",
    "# submit_v4(selected_features=best6_dict,\n",
    "#           param_grid=param_grid)"
   ]
  },
  {
   "cell_type": "code",
   "execution_count": 234,
   "id": "9d58cdce",
   "metadata": {
    "execution": {
     "iopub.execute_input": "2023-08-12T20:11:03.424591Z",
     "iopub.status.busy": "2023-08-12T20:11:03.423446Z",
     "iopub.status.idle": "2023-08-12T20:11:03.428597Z",
     "shell.execute_reply": "2023-08-12T20:11:03.427718Z"
    },
    "papermill": {
     "duration": 0.114192,
     "end_time": "2023-08-12T20:11:03.430863",
     "exception": false,
     "start_time": "2023-08-12T20:11:03.316671",
     "status": "completed"
    },
    "tags": []
   },
   "outputs": [],
   "source": [
    "# Best 7 parameters\n",
    "\n",
    "# best7_dict = {'cat': [\"isFrequentReviewer\"],\n",
    "#              'num': [\"audienceScore\"],\n",
    "#              'txt': ['reviewText', 'reviewerName', 'movieid', 'genre', 'director']}\n",
    "# best7_dict"
   ]
  },
  {
   "cell_type": "code",
   "execution_count": 235,
   "id": "c0144669",
   "metadata": {
    "execution": {
     "iopub.execute_input": "2023-08-12T20:11:03.644925Z",
     "iopub.status.busy": "2023-08-12T20:11:03.644078Z",
     "iopub.status.idle": "2023-08-12T20:11:03.648722Z",
     "shell.execute_reply": "2023-08-12T20:11:03.647946Z"
    },
    "papermill": {
     "duration": 0.113329,
     "end_time": "2023-08-12T20:11:03.650965",
     "exception": false,
     "start_time": "2023-08-12T20:11:03.537636",
     "status": "completed"
    },
    "tags": []
   },
   "outputs": [],
   "source": [
    "# Submit best 7 features\n",
    "\n",
    "# submit_v4(selected_features=best7_dict,\n",
    "#           param_grid=param_grid)"
   ]
  },
  {
   "cell_type": "code",
   "execution_count": 236,
   "id": "99e3f501",
   "metadata": {
    "execution": {
     "iopub.execute_input": "2023-08-12T20:11:03.938022Z",
     "iopub.status.busy": "2023-08-12T20:11:03.937358Z",
     "iopub.status.idle": "2023-08-12T20:11:03.942145Z",
     "shell.execute_reply": "2023-08-12T20:11:03.940918Z"
    },
    "papermill": {
     "duration": 0.185478,
     "end_time": "2023-08-12T20:11:03.944436",
     "exception": false,
     "start_time": "2023-08-12T20:11:03.758958",
     "status": "completed"
    },
    "tags": []
   },
   "outputs": [],
   "source": [
    "# submit_v4(selected_features=best6_dict, param_grid=param_grid)"
   ]
  },
  {
   "cell_type": "markdown",
   "id": "b3814f31",
   "metadata": {
    "papermill": {
     "duration": 0.105213,
     "end_time": "2023-08-12T20:11:04.157517",
     "exception": false,
     "start_time": "2023-08-12T20:11:04.052304",
     "status": "completed"
    },
    "tags": []
   },
   "source": [
    "## Try a new feature dict  \n",
    "\n"
   ]
  },
  {
   "cell_type": "code",
   "execution_count": 237,
   "id": "a31a47dc",
   "metadata": {
    "execution": {
     "iopub.execute_input": "2023-08-12T20:11:04.372407Z",
     "iopub.status.busy": "2023-08-12T20:11:04.372012Z",
     "iopub.status.idle": "2023-08-12T20:11:04.376737Z",
     "shell.execute_reply": "2023-08-12T20:11:04.375585Z"
    },
    "papermill": {
     "duration": 0.115077,
     "end_time": "2023-08-12T20:11:04.379061",
     "exception": false,
     "start_time": "2023-08-12T20:11:04.263984",
     "status": "completed"
    },
    "tags": []
   },
   "outputs": [],
   "source": [
    "# all_dict_new = {'cat': [\"isFrequentReviewer\", \"rating\", \"originalLanguage\"],\n",
    "#              'num': [\"audienceScore\", \"runtimeMinutes\", \"boxOffice\"],\n",
    "#              'txt': ['reviewText', \"reviewerName\", 'movieid', 'genre', 'director']}\n",
    "# all_dict_new"
   ]
  },
  {
   "cell_type": "code",
   "execution_count": 238,
   "id": "f60bb061",
   "metadata": {
    "execution": {
     "iopub.execute_input": "2023-08-12T20:11:04.591312Z",
     "iopub.status.busy": "2023-08-12T20:11:04.590914Z",
     "iopub.status.idle": "2023-08-12T20:11:04.595671Z",
     "shell.execute_reply": "2023-08-12T20:11:04.594557Z"
    },
    "papermill": {
     "duration": 0.113959,
     "end_time": "2023-08-12T20:11:04.597953",
     "exception": false,
     "start_time": "2023-08-12T20:11:04.483994",
     "status": "completed"
    },
    "tags": []
   },
   "outputs": [],
   "source": [
    "# submit_v4(selected_features={'txt': ['genre']}, param_grid=param_grid)"
   ]
  },
  {
   "cell_type": "code",
   "execution_count": 239,
   "id": "ad08620f",
   "metadata": {
    "execution": {
     "iopub.execute_input": "2023-08-12T20:11:04.813540Z",
     "iopub.status.busy": "2023-08-12T20:11:04.813137Z",
     "iopub.status.idle": "2023-08-12T20:11:04.817556Z",
     "shell.execute_reply": "2023-08-12T20:11:04.816465Z"
    },
    "papermill": {
     "duration": 0.114863,
     "end_time": "2023-08-12T20:11:04.819758",
     "exception": false,
     "start_time": "2023-08-12T20:11:04.704895",
     "status": "completed"
    },
    "tags": []
   },
   "outputs": [],
   "source": [
    "# submit_v4(selected_features=all_dict_new, param_grid=param_grid)"
   ]
  },
  {
   "cell_type": "code",
   "execution_count": 240,
   "id": "bc670f32",
   "metadata": {
    "execution": {
     "iopub.execute_input": "2023-08-12T20:11:05.032502Z",
     "iopub.status.busy": "2023-08-12T20:11:05.032124Z",
     "iopub.status.idle": "2023-08-12T20:11:05.036911Z",
     "shell.execute_reply": "2023-08-12T20:11:05.035742Z"
    },
    "papermill": {
     "duration": 0.114134,
     "end_time": "2023-08-12T20:11:05.039375",
     "exception": false,
     "start_time": "2023-08-12T20:11:04.925241",
     "status": "completed"
    },
    "tags": []
   },
   "outputs": [],
   "source": [
    "# Try non-text based columns\n",
    "# num_cat_dict = {'cat': ['isFrequentReviewer', 'rating', 'originalLanguage'],\n",
    "#  'num': ['audienceScore', 'runtimeMinutes', 'boxOffice']}\n",
    "# num_cat_dict"
   ]
  },
  {
   "cell_type": "code",
   "execution_count": 241,
   "id": "4d4436ba",
   "metadata": {
    "execution": {
     "iopub.execute_input": "2023-08-12T20:11:05.253560Z",
     "iopub.status.busy": "2023-08-12T20:11:05.253153Z",
     "iopub.status.idle": "2023-08-12T20:11:05.258192Z",
     "shell.execute_reply": "2023-08-12T20:11:05.257023Z"
    },
    "papermill": {
     "duration": 0.114696,
     "end_time": "2023-08-12T20:11:05.260568",
     "exception": false,
     "start_time": "2023-08-12T20:11:05.145872",
     "status": "completed"
    },
    "tags": []
   },
   "outputs": [],
   "source": [
    "# Use num_cat_dict features\n",
    "# (Update): Gets a local score of 0.7027181356991726. Not great.\n",
    "# submit_v4(selected_model=LogisticRegression(max_iter=100000), selected_features=num_cat_dict, param_grid=param_grid)"
   ]
  },
  {
   "cell_type": "code",
   "execution_count": 242,
   "id": "28cfc04e",
   "metadata": {
    "execution": {
     "iopub.execute_input": "2023-08-12T20:11:05.475337Z",
     "iopub.status.busy": "2023-08-12T20:11:05.474885Z",
     "iopub.status.idle": "2023-08-12T20:11:05.479605Z",
     "shell.execute_reply": "2023-08-12T20:11:05.478519Z"
    },
    "papermill": {
     "duration": 0.115457,
     "end_time": "2023-08-12T20:11:05.482022",
     "exception": false,
     "start_time": "2023-08-12T20:11:05.366565",
     "status": "completed"
    },
    "tags": []
   },
   "outputs": [],
   "source": [
    "# Try data other than reviewText\n",
    "\n",
    "# mov_dict = {'cat': ['rating', 'originalLanguage'],\n",
    "#  'num': ['audienceScore', 'runtimeMinutes', 'boxOffice'],\n",
    "#  'txt': ['movieid', 'genre', 'director']}\n",
    "# mov_dict"
   ]
  },
  {
   "cell_type": "code",
   "execution_count": 243,
   "id": "bdb28dd2",
   "metadata": {
    "execution": {
     "iopub.execute_input": "2023-08-12T20:11:05.695800Z",
     "iopub.status.busy": "2023-08-12T20:11:05.695382Z",
     "iopub.status.idle": "2023-08-12T20:11:05.699341Z",
     "shell.execute_reply": "2023-08-12T20:11:05.698559Z"
    },
    "papermill": {
     "duration": 0.113048,
     "end_time": "2023-08-12T20:11:05.701321",
     "exception": false,
     "start_time": "2023-08-12T20:11:05.588273",
     "status": "completed"
    },
    "tags": []
   },
   "outputs": [],
   "source": [
    "# Use mov_dict features\n",
    "# (Update): Gets a local score of 0.7475454316469369, which is not bad at all.\n",
    "# submit_v4(selected_model=LogisticRegression(max_iter=100000), selected_features=mov_dict, param_grid=param_grid)"
   ]
  },
  {
   "cell_type": "markdown",
   "id": "26ea9aa3",
   "metadata": {
    "papermill": {
     "duration": 0.105938,
     "end_time": "2023-08-12T20:11:05.914537",
     "exception": false,
     "start_time": "2023-08-12T20:11:05.808599",
     "status": "completed"
    },
    "tags": []
   },
   "source": [
    "# Try a new column 'reviewYN'  \n",
    "\n"
   ]
  },
  {
   "cell_type": "code",
   "execution_count": 244,
   "id": "087a447d",
   "metadata": {
    "execution": {
     "iopub.execute_input": "2023-08-12T20:11:06.128913Z",
     "iopub.status.busy": "2023-08-12T20:11:06.127765Z",
     "iopub.status.idle": "2023-08-12T20:11:06.132257Z",
     "shell.execute_reply": "2023-08-12T20:11:06.131496Z"
    },
    "papermill": {
     "duration": 0.113277,
     "end_time": "2023-08-12T20:11:06.134270",
     "exception": false,
     "start_time": "2023-08-12T20:11:06.020993",
     "status": "completed"
    },
    "tags": []
   },
   "outputs": [],
   "source": [
    "# all_dict_3 = {'cat': [\"isFrequentReviewer\", \"rating\", \"originalLanguage\", \"reviewYN\"],\n",
    "#              'num': [\"audienceScore\", \"runtimeMinutes\", \"boxOffice\"],\n",
    "#              'txt': ['reviewText', \"reviewerName\", 'movieid', 'genre', 'director']}\n",
    "# all_dict_3"
   ]
  },
  {
   "cell_type": "code",
   "execution_count": 245,
   "id": "9b4269c5",
   "metadata": {
    "execution": {
     "iopub.execute_input": "2023-08-12T20:11:06.348870Z",
     "iopub.status.busy": "2023-08-12T20:11:06.348077Z",
     "iopub.status.idle": "2023-08-12T20:11:06.352214Z",
     "shell.execute_reply": "2023-08-12T20:11:06.351457Z"
    },
    "papermill": {
     "duration": 0.114719,
     "end_time": "2023-08-12T20:11:06.354314",
     "exception": false,
     "start_time": "2023-08-12T20:11:06.239595",
     "status": "completed"
    },
    "tags": []
   },
   "outputs": [],
   "source": [
    "# submit_v4(selected_model=LogisticRegression(max_iter=100000),\n",
    "#          selected_features=all_dict_3, \n",
    "#           param_grid=param_grid)"
   ]
  },
  {
   "cell_type": "markdown",
   "id": "936d163b",
   "metadata": {
    "papermill": {
     "duration": 0.105198,
     "end_time": "2023-08-12T20:11:06.564990",
     "exception": false,
     "start_time": "2023-08-12T20:11:06.459792",
     "status": "completed"
    },
    "tags": []
   },
   "source": [
    "### More GridSearchCV using LinearSVC  "
   ]
  },
  {
   "cell_type": "code",
   "execution_count": 246,
   "id": "4dd76217",
   "metadata": {
    "execution": {
     "iopub.execute_input": "2023-08-12T20:11:06.779602Z",
     "iopub.status.busy": "2023-08-12T20:11:06.778852Z",
     "iopub.status.idle": "2023-08-12T20:11:06.783027Z",
     "shell.execute_reply": "2023-08-12T20:11:06.782123Z"
    },
    "papermill": {
     "duration": 0.115251,
     "end_time": "2023-08-12T20:11:06.785235",
     "exception": false,
     "start_time": "2023-08-12T20:11:06.669984",
     "status": "completed"
    },
    "tags": []
   },
   "outputs": [],
   "source": [
    "# param_grid_svc_2 = {\n",
    "#     'model__C': [1.0],\n",
    "#     'model__loss': ['hinge', 'squared_hinge'],\n",
    "#     'model__class_weight': ['balanced', None]\n",
    "# }\n",
    "# param_grid_svc_2"
   ]
  },
  {
   "cell_type": "code",
   "execution_count": 247,
   "id": "b5fbefb3",
   "metadata": {
    "execution": {
     "iopub.execute_input": "2023-08-12T20:11:06.999469Z",
     "iopub.status.busy": "2023-08-12T20:11:06.998760Z",
     "iopub.status.idle": "2023-08-12T20:11:07.002664Z",
     "shell.execute_reply": "2023-08-12T20:11:07.001956Z"
    },
    "papermill": {
     "duration": 0.113918,
     "end_time": "2023-08-12T20:11:07.004899",
     "exception": false,
     "start_time": "2023-08-12T20:11:06.890981",
     "status": "completed"
    },
    "tags": []
   },
   "outputs": [],
   "source": [
    "# submit_v4(selected_model=LinearSVC(max_iter=100000, random_state=42), selected_features={'num': [\"audienceScore\"]}, param_grid=param_grid_svc_2)"
   ]
  },
  {
   "cell_type": "code",
   "execution_count": 248,
   "id": "6b17030d",
   "metadata": {
    "execution": {
     "iopub.execute_input": "2023-08-12T20:11:07.218896Z",
     "iopub.status.busy": "2023-08-12T20:11:07.218157Z",
     "iopub.status.idle": "2023-08-12T20:11:07.221969Z",
     "shell.execute_reply": "2023-08-12T20:11:07.221259Z"
    },
    "papermill": {
     "duration": 0.113359,
     "end_time": "2023-08-12T20:11:07.224004",
     "exception": false,
     "start_time": "2023-08-12T20:11:07.110645",
     "status": "completed"
    },
    "tags": []
   },
   "outputs": [],
   "source": [
    "# submit_v4(selected_model=LinearSVC(max_iter=100000, random_state=42), selected_features=all_dict, param_grid=param_grid_svc_2)"
   ]
  },
  {
   "cell_type": "markdown",
   "id": "a058c732",
   "metadata": {
    "papermill": {
     "duration": 0.105813,
     "end_time": "2023-08-12T20:11:07.437877",
     "exception": false,
     "start_time": "2023-08-12T20:11:07.332064",
     "status": "completed"
    },
    "tags": []
   },
   "source": [
    "### Boosting techniques  "
   ]
  },
  {
   "cell_type": "code",
   "execution_count": 249,
   "id": "c27afc90",
   "metadata": {
    "execution": {
     "iopub.execute_input": "2023-08-12T20:11:07.650868Z",
     "iopub.status.busy": "2023-08-12T20:11:07.650139Z",
     "iopub.status.idle": "2023-08-12T20:11:07.654270Z",
     "shell.execute_reply": "2023-08-12T20:11:07.653234Z"
    },
    "papermill": {
     "duration": 0.113565,
     "end_time": "2023-08-12T20:11:07.656896",
     "exception": false,
     "start_time": "2023-08-12T20:11:07.543331",
     "status": "completed"
    },
    "tags": []
   },
   "outputs": [],
   "source": [
    "# adc = AdaBoostClassifier(estimator=LogisticRegression(C=5, solver=\"saga\", max_iter=100000), n_estimators=50)\n",
    "# adc"
   ]
  },
  {
   "cell_type": "code",
   "execution_count": 250,
   "id": "fd97f0ce",
   "metadata": {
    "execution": {
     "iopub.execute_input": "2023-08-12T20:11:07.892172Z",
     "iopub.status.busy": "2023-08-12T20:11:07.891776Z",
     "iopub.status.idle": "2023-08-12T20:11:07.897418Z",
     "shell.execute_reply": "2023-08-12T20:11:07.895662Z"
    },
    "papermill": {
     "duration": 0.131472,
     "end_time": "2023-08-12T20:11:07.899989",
     "exception": false,
     "start_time": "2023-08-12T20:11:07.768517",
     "status": "completed"
    },
    "tags": []
   },
   "outputs": [],
   "source": [
    "# submit_v4(selected_model=adc, selected_features={'num': [\"audienceScore\"]}, param_grid=None)"
   ]
  },
  {
   "cell_type": "code",
   "execution_count": 251,
   "id": "501c355a",
   "metadata": {
    "execution": {
     "iopub.execute_input": "2023-08-12T20:11:08.116797Z",
     "iopub.status.busy": "2023-08-12T20:11:08.116013Z",
     "iopub.status.idle": "2023-08-12T20:11:08.120764Z",
     "shell.execute_reply": "2023-08-12T20:11:08.119998Z"
    },
    "papermill": {
     "duration": 0.11405,
     "end_time": "2023-08-12T20:11:08.122972",
     "exception": false,
     "start_time": "2023-08-12T20:11:08.008922",
     "status": "completed"
    },
    "tags": []
   },
   "outputs": [],
   "source": [
    "# submit_v4(selected_model=adc, selected_features=all_dict, param_grid=None)\n",
    "\n",
    "# Took 1 hour 15 mins to run and gave a public score of only 0.71089. Discarded."
   ]
  },
  {
   "cell_type": "markdown",
   "id": "2d0a225b",
   "metadata": {
    "papermill": {
     "duration": 0.107252,
     "end_time": "2023-08-12T20:11:08.337033",
     "exception": false,
     "start_time": "2023-08-12T20:11:08.229781",
     "status": "completed"
    },
    "tags": []
   },
   "source": [
    "### LightGBM  "
   ]
  },
  {
   "cell_type": "code",
   "execution_count": 252,
   "id": "23c4aad1",
   "metadata": {
    "execution": {
     "iopub.execute_input": "2023-08-12T20:11:08.622405Z",
     "iopub.status.busy": "2023-08-12T20:11:08.621580Z",
     "iopub.status.idle": "2023-08-12T20:11:08.626206Z",
     "shell.execute_reply": "2023-08-12T20:11:08.625443Z"
    },
    "papermill": {
     "duration": 0.114544,
     "end_time": "2023-08-12T20:11:08.628483",
     "exception": false,
     "start_time": "2023-08-12T20:11:08.513939",
     "status": "completed"
    },
    "tags": []
   },
   "outputs": [],
   "source": [
    "# lgb = ltb.LGBMClassifier()\n",
    "# lgb"
   ]
  },
  {
   "cell_type": "code",
   "execution_count": 253,
   "id": "91eaaf99",
   "metadata": {
    "execution": {
     "iopub.execute_input": "2023-08-12T20:11:08.843433Z",
     "iopub.status.busy": "2023-08-12T20:11:08.842334Z",
     "iopub.status.idle": "2023-08-12T20:11:08.847476Z",
     "shell.execute_reply": "2023-08-12T20:11:08.846723Z"
    },
    "papermill": {
     "duration": 0.115574,
     "end_time": "2023-08-12T20:11:08.849659",
     "exception": false,
     "start_time": "2023-08-12T20:11:08.734085",
     "status": "completed"
    },
    "tags": []
   },
   "outputs": [],
   "source": [
    "# Try LightGBM with default settings\n",
    "# (Update): Public score only 0.77713. It was fast, took less than 5 mins (without GridSearchCV)\n",
    "\n",
    "# submit_v4(selected_model=ltb.LGBMClassifier(), selected_features=all_dict, param_grid=None)"
   ]
  },
  {
   "cell_type": "markdown",
   "id": "51cf6ba2",
   "metadata": {
    "papermill": {
     "duration": 0.105961,
     "end_time": "2023-08-12T20:11:09.061235",
     "exception": false,
     "start_time": "2023-08-12T20:11:08.955274",
     "status": "completed"
    },
    "tags": []
   },
   "source": [
    "# Try feature selection and vocab fine tuning of reviewText column"
   ]
  },
  {
   "cell_type": "markdown",
   "id": "406c4469",
   "metadata": {
    "papermill": {
     "duration": 0.1053,
     "end_time": "2023-08-12T20:11:09.271947",
     "exception": false,
     "start_time": "2023-08-12T20:11:09.166647",
     "status": "completed"
    },
    "tags": []
   },
   "source": [
    "## Plan  \n",
    "* Add a new column 'reviewWC' which has word count of 'reviewText'  \n",
    "    * Check if there is any relationship between 'reviewWC' and 'sentiment'\n",
    "* Work on vocabulary\n",
    "     * Use TfidfVectorizer and find out the vocabulary of 'reviewText' column for various ngrams\n",
    "     * Use RecursiveFeatureElimination (RFE) or RFECV to select 1000 top words/vocab for each ngram\n",
    "     * Use the final vocab (1000-3000 words) in the model and see how it performs compared to whole vocab\n"
   ]
  },
  {
   "cell_type": "code",
   "execution_count": 254,
   "id": "dffb6798",
   "metadata": {
    "execution": {
     "iopub.execute_input": "2023-08-12T20:11:09.486822Z",
     "iopub.status.busy": "2023-08-12T20:11:09.486392Z",
     "iopub.status.idle": "2023-08-12T20:11:09.491232Z",
     "shell.execute_reply": "2023-08-12T20:11:09.490149Z"
    },
    "papermill": {
     "duration": 0.113948,
     "end_time": "2023-08-12T20:11:09.493375",
     "exception": false,
     "start_time": "2023-08-12T20:11:09.379427",
     "status": "completed"
    },
    "tags": []
   },
   "outputs": [],
   "source": [
    "# 'reviewWC' and 'sentiment'\n",
    "# (Conclusion): 'reviewWC' is practically same as DummyClassifier (accuracy of 0.6682375059904889 on train data). It just predicts 'positive' for all columns\n",
    "\n",
    "# reviewWC_dict = {\"num\": [\"reviewWC\"]}\n",
    "# submit_v4(selected_model=LogisticRegression(),\n",
    "#          selected_features=reviewWC_dict,\n",
    "#          param_grid=None)"
   ]
  },
  {
   "cell_type": "code",
   "execution_count": 255,
   "id": "ecb727a4",
   "metadata": {
    "execution": {
     "iopub.execute_input": "2023-08-12T20:11:09.707607Z",
     "iopub.status.busy": "2023-08-12T20:11:09.706858Z",
     "iopub.status.idle": "2023-08-12T20:11:09.711117Z",
     "shell.execute_reply": "2023-08-12T20:11:09.710188Z"
    },
    "papermill": {
     "duration": 0.113828,
     "end_time": "2023-08-12T20:11:09.713472",
     "exception": false,
     "start_time": "2023-08-12T20:11:09.599644",
     "status": "completed"
    },
    "tags": []
   },
   "outputs": [],
   "source": [
    "# 'reviewYN' and 'sentiment'\n",
    "# (Conclusion): 'reviewYN' is practically same as DummyClassifier (accuracy of 0.6682375059904889 on train data). It just predicts 'positive' for all columns\n",
    "\n",
    "# reviewYN_dict = {\"cat\": [\"reviewYN\"]}\n",
    "# submit_v4(selected_model=LogisticRegression(),\n",
    "#          selected_features=reviewYN_dict,\n",
    "#          param_grid=None)"
   ]
  },
  {
   "cell_type": "markdown",
   "id": "e69c2e37",
   "metadata": {
    "papermill": {
     "duration": 0.106118,
     "end_time": "2023-08-12T20:11:09.927929",
     "exception": false,
     "start_time": "2023-08-12T20:11:09.821811",
     "status": "completed"
    },
    "tags": []
   },
   "source": [
    "## Submissions using 'vocabulary' built from 'reviewText' data  "
   ]
  },
  {
   "cell_type": "markdown",
   "id": "630138fc",
   "metadata": {
    "papermill": {
     "duration": 0.106534,
     "end_time": "2023-08-12T20:11:10.139753",
     "exception": false,
     "start_time": "2023-08-12T20:11:10.033219",
     "status": "completed"
    },
    "tags": []
   },
   "source": [
    "### Submit best 6 features along with common vocab  "
   ]
  },
  {
   "cell_type": "code",
   "execution_count": 256,
   "id": "9e6a88a3",
   "metadata": {
    "execution": {
     "iopub.execute_input": "2023-08-12T20:11:10.353417Z",
     "iopub.status.busy": "2023-08-12T20:11:10.353005Z",
     "iopub.status.idle": "2023-08-12T20:11:10.357713Z",
     "shell.execute_reply": "2023-08-12T20:11:10.356567Z"
    },
    "papermill": {
     "duration": 0.113574,
     "end_time": "2023-08-12T20:11:10.360010",
     "exception": false,
     "start_time": "2023-08-12T20:11:10.246436",
     "status": "completed"
    },
    "tags": []
   },
   "outputs": [],
   "source": [
    "# Best 6 parameters (version 2)  \n",
    "\n",
    "# best6_dict = {'num': [\"audienceScore\"],\n",
    "#              'txt': ['reviewText', 'reviewerName', 'genre','movieid', 'director']}\n",
    "\n",
    "# best6_dict"
   ]
  },
  {
   "cell_type": "code",
   "execution_count": 257,
   "id": "c47193ab",
   "metadata": {
    "execution": {
     "iopub.execute_input": "2023-08-12T20:11:10.573815Z",
     "iopub.status.busy": "2023-08-12T20:11:10.573347Z",
     "iopub.status.idle": "2023-08-12T20:11:10.577990Z",
     "shell.execute_reply": "2023-08-12T20:11:10.576834Z"
    },
    "papermill": {
     "duration": 0.114382,
     "end_time": "2023-08-12T20:11:10.580293",
     "exception": false,
     "start_time": "2023-08-12T20:11:10.465911",
     "status": "completed"
    },
    "tags": []
   },
   "outputs": [],
   "source": [
    "# Submit best 6 features (version 2) with common vocabulary (common_1_2_grams)\n",
    "# (Update): Score 0.82867\n",
    "\n",
    "# submit_v4(selected_features=best6_dict,\n",
    "#           param_grid=param_grid,\n",
    "#          vocab=common_1_2_grams)"
   ]
  },
  {
   "cell_type": "code",
   "execution_count": 258,
   "id": "474957e1",
   "metadata": {
    "execution": {
     "iopub.execute_input": "2023-08-12T20:11:10.794289Z",
     "iopub.status.busy": "2023-08-12T20:11:10.793871Z",
     "iopub.status.idle": "2023-08-12T20:11:10.798315Z",
     "shell.execute_reply": "2023-08-12T20:11:10.797467Z"
    },
    "papermill": {
     "duration": 0.114952,
     "end_time": "2023-08-12T20:11:10.800332",
     "exception": false,
     "start_time": "2023-08-12T20:11:10.685380",
     "status": "completed"
    },
    "tags": []
   },
   "outputs": [],
   "source": [
    "# Submit best 6 features (version 2) with common vocabulary (common_1_2_3_grams)\n",
    "# Note: for this submission submit_v4 function has to be modified: reviewText TfidfVectorizer must have ngram_range(1,3).\n",
    "# (Update): Score in the range 0.825+\n",
    "\n",
    "# submit_v4(selected_features=best6_dict,\n",
    "#           param_grid=param_grid,\n",
    "#          vocab=common_1_2_3_grams)"
   ]
  }
 ],
 "metadata": {
  "kernelspec": {
   "display_name": "Python 3",
   "language": "python",
   "name": "python3"
  },
  "language_info": {
   "codemirror_mode": {
    "name": "ipython",
    "version": 3
   },
   "file_extension": ".py",
   "mimetype": "text/x-python",
   "name": "python",
   "nbconvert_exporter": "python",
   "pygments_lexer": "ipython3",
   "version": "3.10.10"
  },
  "papermill": {
   "default_parameters": {},
   "duration": 3972.297325,
   "end_time": "2023-08-12T20:11:13.837618",
   "environment_variables": {},
   "exception": null,
   "input_path": "__notebook__.ipynb",
   "output_path": "__notebook__.ipynb",
   "parameters": {},
   "start_time": "2023-08-12T19:05:01.540293",
   "version": "2.4.0"
  }
 },
 "nbformat": 4,
 "nbformat_minor": 5
}
